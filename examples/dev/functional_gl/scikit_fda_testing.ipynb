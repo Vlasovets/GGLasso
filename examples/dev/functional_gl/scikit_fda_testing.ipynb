{
 "cells": [
  {
   "cell_type": "code",
   "execution_count": null,
   "id": "181091aa",
   "metadata": {},
   "outputs": [],
   "source": [
    "import matplotlib.pyplot as plt\n",
    "import seaborn as sns\n",
    "import numpy as np\n",
    "from scipy.stats import gaussian_kde\n",
    "\n",
    "from skfda.datasets import make_gaussian_process\n",
    "from skfda.misc.covariances import Exponential, Gaussian, Brownian\n",
    "from skfda.misc.metrics import l2_distance, l2_norm\n",
    "from skfda.preprocessing.dim_reduction.feature_extraction import FPCA\n",
    "from skfda.representation.basis import BSpline"
   ]
  },
  {
   "cell_type": "code",
   "execution_count": null,
   "id": "a1640826",
   "metadata": {},
   "outputs": [],
   "source": [
    "def get_fpca(n_components=1, style=None):\n",
    "    if style is None:\n",
    "        fpca = FPCA(n_components=n_components)\n",
    "        basis = None\n",
    "    elif style == 'bspline':\n",
    "        basis = BSpline(n_basis=n_components)\n",
    "        fpca = FPCA(n_components=n_components, components_basis = basis)\n",
    "    return fpca, basis \n",
    "\n",
    "# decide on a basis for the FPCA\n",
    "style = 'bspline'"
   ]
  },
  {
   "cell_type": "markdown",
   "id": "4c1a9d57",
   "metadata": {},
   "source": [
    "Idea: create three covariance functions and sample Gaussian processes. Then do FPCA and compute Functional Graphical Lasso. Let the variables be called $v_0$, $v_1$ and $v_2$. "
   ]
  },
  {
   "cell_type": "code",
   "execution_count": null,
   "id": "07ec228f",
   "metadata": {},
   "outputs": [],
   "source": [
    "n_var = 3\n",
    "n_ts = 100\n",
    "n_samples = 10**3\n",
    "\n",
    "# define three variables\n",
    "cov1 = Gaussian(variance=1.0, length_scale=8.0)\n",
    "cov2 = Gaussian(variance=1.0, length_scale=4.0)\n",
    "cov3 = Brownian(variance=0.1)\n",
    "\n",
    "all_cov = [cov1, cov2, cov3]"
   ]
  },
  {
   "cell_type": "code",
   "execution_count": null,
   "id": "4faf2b1e",
   "metadata": {
    "scrolled": false
   },
   "outputs": [],
   "source": [
    "# plot covariance functions\n",
    "_ = cov1.heatmap()\n",
    "_ = cov2.heatmap()\n",
    "_ = cov3.heatmap()"
   ]
  },
  {
   "cell_type": "code",
   "execution_count": null,
   "id": "9cb8f629",
   "metadata": {},
   "outputs": [],
   "source": [
    "# sample gaussian processes\n",
    "samples = list()\n",
    "labels = list()\n",
    "\n",
    "for j in np.arange(n_var):\n",
    "\n",
    "    _ds = make_gaussian_process(\n",
    "            n_samples=n_samples,\n",
    "            n_features=n_ts,\n",
    "            start=0.0,\n",
    "            stop=25.0,\n",
    "            cov=all_cov[j],\n",
    "            random_state=20\n",
    "            )\n",
    "    \n",
    "    \n",
    "    _lb = np.array([f'v{j}'] * n_samples)\n",
    "    \n",
    "    samples.append(_ds)\n",
    "    labels.append(_lb)\n"
   ]
  },
  {
   "cell_type": "code",
   "execution_count": null,
   "id": "cfbc0362",
   "metadata": {
    "scrolled": false
   },
   "outputs": [],
   "source": [
    "# plot sampled time series\n",
    "\n",
    "colors = ['darkred', 'C1', 'grey']\n",
    "\n",
    "fig, axs = plt.subplots(n_var,1, figsize=(10,12))\n",
    "\n",
    "for j in range(n_var):\n",
    "    ax = axs.ravel()[j]\n",
    "    samples[j].plot(axes=ax, group=labels[j], group_colors={f'v{j}': colors[j]}, alpha=0.2, lw=0.95)\n",
    "    ax.set_title(f'Sampled time series for v{j}')"
   ]
  },
  {
   "cell_type": "code",
   "execution_count": null,
   "id": "9dd1f674",
   "metadata": {},
   "outputs": [],
   "source": [
    "# do FPCA, reconstruct and plot deviation\n",
    "q = 5\n",
    "fig, axs = plt.subplots(n_var, 2, figsize=(20,12))\n",
    "\n",
    "for j in range(n_var):\n",
    "    this_ds = samples[j]\n",
    "    # do FPCA\n",
    "    fpca,_ = get_fpca(n_components=q, style=style)\n",
    "    fpca.fit(this_ds)\n",
    "    # reconstruct ds from FPCA\n",
    "    recov_ds = fpca.inverse_transform(fpca.transform(this_ds))\n",
    "    \n",
    "    diff = this_ds - recov_ds\n",
    "    \n",
    "    ax = axs[j,0]\n",
    "    recov_ds.plot(axes=ax, group=labels[j], group_colors={f'v{j}': colors[j]}, alpha=0.3, lw=0.95)\n",
    "    ax.set_title(f'FPCA transformed time series for v{j}')\n",
    "    \n",
    "    ax2 = axs[j,1]\n",
    "    diff.plot(axes=ax2, group=labels[j], group_colors={f'v{j}': colors[j]}, alpha=0.3, lw=0.95)\n",
    "    ax2.set_title(f'Recovery error of FPCA for v{j}')\n",
    "    ax2.set_ylim(ax.get_ylim())\n",
    "    \n",
    "    "
   ]
  },
  {
   "cell_type": "code",
   "execution_count": null,
   "id": "bedcd202",
   "metadata": {},
   "outputs": [],
   "source": [
    "# plot error for increasing numper of FPCA components\n",
    "\n",
    "this_ds = samples[0]\n",
    "all_err = list()\n",
    "all_q = range(4,10)\n",
    "\n",
    "for k in range(len(all_q)):\n",
    "    \n",
    "    fpca,_ = get_fpca(n_components=all_q[k], style=style)\n",
    "    fpca.fit(this_ds)\n",
    "\n",
    "    print(\"Data shape after FPCA transformation: \", fpca.transform(this_ds).shape)\n",
    "    # reconstruct ds from FPCA\n",
    "    recov_ds = fpca.inverse_transform(fpca.transform(this_ds))\n",
    "    this_err = l2_distance(this_ds,recov_ds) / l2_norm(this_ds)\n",
    "\n",
    "    all_err.append(np.median(this_err))\n",
    "    \n",
    "plt.figure()\n",
    "plt.plot(all_q, all_err, c='darkgray', lw = 4, marker='p', markersize=9, markeredgecolor='k')\n",
    "plt.xlabel('Number of FPCA components')\n",
    "plt.ylabel('Median l2 error')\n",
    "plt.grid(ls = '-', lw = .5) "
   ]
  },
  {
   "cell_type": "code",
   "execution_count": null,
   "id": "3c995e36",
   "metadata": {},
   "outputs": [],
   "source": [
    "this_ds.data_matrix.shape"
   ]
  },
  {
   "cell_type": "markdown",
   "id": "d40dc1ba",
   "metadata": {},
   "source": [
    "## Fourth variable construction\n",
    "\n",
    "We want to create a fourth variable that is constructed using the first variable $v_1$ as follows: we do FPCA, then permute the coefficients and then retransform to a time series, but with the basis not permuted. This creates a variable with correlated singular values (wrt FPCA), but where the relation is less obvious if only looking at the time series."
   ]
  },
  {
   "cell_type": "code",
   "execution_count": null,
   "id": "e967bccf",
   "metadata": {},
   "outputs": [],
   "source": [
    "# from now on use 8 components\n",
    "n_comp = 8"
   ]
  },
  {
   "cell_type": "code",
   "execution_count": null,
   "id": "70db424e",
   "metadata": {},
   "outputs": [],
   "source": [
    "v0_ds = samples[0]\n",
    "fpca,_ = get_fpca(n_components=n_comp, style=style)\n",
    "fpca.fit(v0_ds)\n",
    "\n",
    "Z = fpca.transform(v0_ds)\n",
    "\n",
    "# permute singular values\n",
    "_perm = np.random.permutation(n_comp)\n",
    "Z = Z[:,_perm]\n",
    "\n",
    "# manual retransform (see: https://github.com/GAA-UAM/scikit-fda/blob/ab9da5c17522ad1b4ef7493bd908d0f1de6f2aec/skfda/preprocessing/dim_reduction/_fpca.py#L543)\n",
    "if True: #style is None:\n",
    "    W = fpca.components_.data_matrix\n",
    "    additional_args = {\"data_matrix\": np.einsum('nc,c...->n...', Z, W,),}\n",
    "else:\n",
    "    W = fpca.components_.coefficients\n",
    "    additional_args = {\"coefficients\": Z @ W,}\n",
    "\n",
    "v3_ds = fpca.mean_.copy(**additional_args, sample_names=(None,) * len(Z),) + fpca.mean_\n",
    "\n"
   ]
  },
  {
   "cell_type": "code",
   "execution_count": null,
   "id": "52e360ed",
   "metadata": {},
   "outputs": [],
   "source": [
    "fpca.transform(v3_ds)"
   ]
  },
  {
   "cell_type": "code",
   "execution_count": null,
   "id": "419d0375",
   "metadata": {},
   "outputs": [],
   "source": [
    "n_var += 1\n",
    "\n",
    "# add new time series\n",
    "samples.append(v3_ds)\n",
    "_lb3 = np.array([f'v3'] * n_samples)\n",
    "labels.append(_lb3)\n",
    "colors.append('steelblue')\n",
    "\n",
    "# plot again\n",
    "fig, axs = plt.subplots(n_var,1, figsize=(10,12))\n",
    "for j in range(n_var):\n",
    "    ax = axs.ravel()[j]\n",
    "    samples[j].plot(axes=ax, group=labels[j], group_colors={f'v{j}': colors[j]}, alpha=0.2, lw=0.95)\n",
    "    ax.set_title(f'Sampled time series for v{j}')"
   ]
  },
  {
   "cell_type": "markdown",
   "id": "8399ad0f",
   "metadata": {},
   "source": [
    "## Functional Graphical Lasso\n",
    "\n",
    "Now, do for each variable a FPCA with $n_{comp}$ components. Then, concatenate the FPCA coefficients for each sample and compute correlations. With this, we are ready to compute Functional Graphical Lasso.\n",
    "\n",
    "If we choose $n_{comp}=8$, we expect $3\\cdot8=24$ variables in total."
   ]
  },
  {
   "cell_type": "code",
   "execution_count": null,
   "id": "3bbc8c79",
   "metadata": {},
   "outputs": [],
   "source": [
    "from gglasso.helper.basic_linalg import scale_array_by_diagonal\n",
    "\n",
    "all_traf = list()\n",
    "\n",
    "# fit FPCA for first dataset!\n",
    "fpca,_ = get_fpca(n_components=n_comp, style=style)\n",
    "fpca.fit(samples[0])\n",
    "    \n",
    "# compute FPCA coefficients for each variable\n",
    "# use fitted object and only transform\n",
    "for j in range(n_var):\n",
    "    this_ds = samples[j]\n",
    "    _traf = fpca.transform(this_ds)\n",
    "    \n",
    "    # for second variable, permute fpca components in order to get off-diagonal correlation wrt first variable\n",
    "    #if j==1:\n",
    "    #    _perm = np.random.permutation(n_comp)\n",
    "    #    _traf = _traf[:,_perm]\n",
    "        \n",
    "    all_traf.append(_traf)\n",
    "    \n",
    "fpca_samples = np.hstack(all_traf)\n",
    "print(\"(N,p) = \", fpca_samples.shape)\n",
    "\n",
    "# compute covariances\n",
    "S = np.cov(fpca_samples.T)\n",
    "# scale to correlations\n",
    "S = scale_array_by_diagonal(S)\n",
    "\n",
    "print(\"S has shape \", S.shape)\n",
    "\n"
   ]
  },
  {
   "cell_type": "code",
   "execution_count": null,
   "id": "87531acd",
   "metadata": {},
   "outputs": [],
   "source": [
    "# plot samples\n",
    "fig, ax = plt.subplots()\n",
    "sns.heatmap(fpca_samples, ax=ax, alpha=1, vmin=-10, vmax=10, cmap='coolwarm',cbar=True)\n",
    "ax.vlines([(j+1)*n_comp for j in range(n_var)], 0, n_samples, color='k', lw=4)\n",
    "\n",
    "# plot heatmap\n",
    "fig, ax = plt.subplots()\n",
    "sns.heatmap(S, ax=ax, cmap=\"coolwarm\", vmax=1, vmin=-1, alpha=1.)\n",
    "ax.hlines([(j+1)*n_comp for j in range(n_var)], 0, n_var*n_comp, color='k', lw=3)\n",
    "ax.vlines([(j+1)*n_comp for j in range(n_var)], 0, n_var*n_comp, color='k', lw=3)\n"
   ]
  },
  {
   "cell_type": "code",
   "execution_count": null,
   "id": "a0001a4a",
   "metadata": {},
   "outputs": [],
   "source": [
    "from gglasso.helper.utils import lambda_max_fsgl\n",
    "from gglasso.solver.functional_sgl_admm import ADMM_FSGL\n",
    "\n",
    "p = n_var\n",
    "M = n_comp\n",
    "pM = p*M\n",
    "\n",
    "lambda_max = lambda_max_fsgl(S, M)\n",
    "lambda_min = 0.1 * lambda_max\n",
    "\n",
    "lambda_range = np.logspace(np.log10(lambda_min), np.log10(lambda_max), 10)[::-1]"
   ]
  },
  {
   "cell_type": "code",
   "execution_count": null,
   "id": "f1cf8d35",
   "metadata": {},
   "outputs": [],
   "source": [
    "lambda_range"
   ]
  },
  {
   "cell_type": "code",
   "execution_count": null,
   "id": "d68249bd",
   "metadata": {},
   "outputs": [],
   "source": [
    "def plot_fsgl_heatmap(sol, p, M, ax=None):\n",
    "    \n",
    "    pM = p*M\n",
    "    \n",
    "    if ax is None:\n",
    "        fig, ax = plt.subplots()\n",
    "\n",
    "    _v = 0.5 * np.abs(sol['Theta']).max()\n",
    "\n",
    "    sns.heatmap(sol['Theta'], cmap=\"coolwarm\", vmin=-_v, vmax=_v, ax = ax)\n",
    "    ax.hlines([(j+1)*M for j in range(p)], 0, pM, color='k', lw=3)\n",
    "    ax.vlines([(j+1)*M for j in range(p)], 0, pM, color='k', lw=3)\n",
    "\n",
    "    return "
   ]
  },
  {
   "cell_type": "code",
   "execution_count": null,
   "id": "18206075",
   "metadata": {
    "scrolled": false
   },
   "outputs": [],
   "source": [
    "Omega_0 = np.eye(pM)\n",
    "all_sol = dict()\n",
    "\n",
    "for j in range(len(lambda_range)):\n",
    "    _lam = lambda_range[j]\n",
    "    \n",
    "    sol, info = ADMM_FSGL(S, _lam, M, Omega_0,\n",
    "                         rho=1., max_iter=100, tol=1e-7, rtol=1e-6,\\\n",
    "                         update_rho=True, verbose=True, measure=True, latent=False, mu1=None)\n",
    "    \n",
    "    Omega_0 = sol['Omega']\n",
    "    all_sol[_lam] = sol.copy()"
   ]
  },
  {
   "cell_type": "code",
   "execution_count": null,
   "id": "f6dcea7a",
   "metadata": {
    "scrolled": false
   },
   "outputs": [],
   "source": [
    "fig, axs = plt.subplots(len(lambda_range),1, figsize=(11,100))\n",
    "\n",
    "for j in range(len(lambda_range)):\n",
    "    _lam = lambda_range[j]\n",
    "\n",
    "    ax = axs[j]\n",
    "    plot_fsgl_heatmap(all_sol[_lam], p, M, ax=ax)\n",
    "    ax.set_title(f\"Functional Graphical Lasso for lambda={_lam}\")"
   ]
  },
  {
   "cell_type": "code",
   "execution_count": null,
   "id": "e758c9af",
   "metadata": {},
   "outputs": [],
   "source": []
  },
  {
   "cell_type": "code",
   "execution_count": null,
   "id": "71e0aa0f",
   "metadata": {},
   "outputs": [],
   "source": []
  }
 ],
 "metadata": {
  "kernelspec": {
   "display_name": "Python 3",
   "language": "python",
   "name": "python3"
  },
  "language_info": {
   "codemirror_mode": {
    "name": "ipython",
    "version": 3
   },
   "file_extension": ".py",
   "mimetype": "text/x-python",
   "name": "python",
   "nbconvert_exporter": "python",
   "pygments_lexer": "ipython3",
   "version": "3.7.10"
  }
 },
 "nbformat": 4,
 "nbformat_minor": 5
}
