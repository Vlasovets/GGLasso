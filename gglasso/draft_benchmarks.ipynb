{
 "cells": [
  {
   "cell_type": "code",
   "execution_count": 152,
   "id": "varying-eclipse",
   "metadata": {},
   "outputs": [
    {
     "name": "stdout",
     "output_type": "stream",
     "text": [
      "Requirement already satisfied: numba==0.48 in /Users/oleg.vlasovetc/opt/anaconda3/envs/gglasso/lib/python3.8/site-packages (0.48.0)\r\n",
      "Requirement already satisfied: numpy>=1.15 in /Users/oleg.vlasovetc/opt/anaconda3/envs/gglasso/lib/python3.8/site-packages (from numba==0.48) (1.20.1)\r\n",
      "Requirement already satisfied: setuptools in /Users/oleg.vlasovetc/opt/anaconda3/envs/gglasso/lib/python3.8/site-packages (from numba==0.48) (52.0.0.post20210125)\r\n",
      "Requirement already satisfied: llvmlite<0.32.0,>=0.31.0dev0 in /Users/oleg.vlasovetc/opt/anaconda3/envs/gglasso/lib/python3.8/site-packages (from numba==0.48) (0.31.0)\r\n"
     ]
    }
   ],
   "source": [
    "!pip install numba==0.48"
   ]
  },
  {
   "cell_type": "code",
   "execution_count": 153,
   "id": "documented-novelty",
   "metadata": {},
   "outputs": [
    {
     "name": "stdout",
     "output_type": "stream",
     "text": [
      "Requirement already satisfied: regain in /Users/oleg.vlasovetc/opt/anaconda3/envs/gglasso/lib/python3.8/site-packages (0.2.3)\r\n"
     ]
    }
   ],
   "source": [
    "!pip install regain"
   ]
  },
  {
   "cell_type": "code",
   "execution_count": 7,
   "id": "usual-maldives",
   "metadata": {},
   "outputs": [],
   "source": [
    "%matplotlib inline\n",
    "import time\n",
    "import numpy as np"
   ]
  },
  {
   "cell_type": "markdown",
   "id": "convinced-campus",
   "metadata": {},
   "source": [
    "# Sample data"
   ]
  },
  {
   "cell_type": "code",
   "execution_count": 12,
   "id": "meaning-upset",
   "metadata": {},
   "outputs": [],
   "source": [
    "X = np.array([[0.8, 0.0, 0.2, 0.0],\n",
    "                     [0.0, 0.4, 0.0, 0.0],\n",
    "                     [0.2, 0.0, 0.3, 0.1],\n",
    "                     [0.0, 0.0, 0.1, 0.7]])"
   ]
  },
  {
   "cell_type": "code",
   "execution_count": 197,
   "id": "accepting-confidentiality",
   "metadata": {},
   "outputs": [],
   "source": [
    "# np.random.seed(243)\n",
    "# X = np.random.multivariate_normal(mean=[0, 0, 0, 0], cov=true_cov, size=200)\n",
    "# X"
   ]
  },
  {
   "cell_type": "markdown",
   "id": "accomplished-coalition",
   "metadata": {},
   "source": [
    "# Import sklearn"
   ]
  },
  {
   "cell_type": "code",
   "execution_count": 198,
   "id": "neural-leeds",
   "metadata": {},
   "outputs": [],
   "source": [
    "from sklearn.covariance import GraphicalLasso\n",
    "from sklearn.covariance import empirical_covariance"
   ]
  },
  {
   "cell_type": "markdown",
   "id": "proper-rebate",
   "metadata": {},
   "source": [
    "## Tol = 10e-4"
   ]
  },
  {
   "cell_type": "code",
   "execution_count": 199,
   "id": "raised-premium",
   "metadata": {},
   "outputs": [
    {
     "name": "stdout",
     "output_type": "stream",
     "text": [
      "0.004452943801879883\n"
     ]
    }
   ],
   "source": [
    "start = time.time()\n",
    "cov = GraphicalLasso(tol=1e-4, max_iter = 1000).fit(X)\n",
    "end = time.time()\n",
    "print(end-start)"
   ]
  },
  {
   "cell_type": "code",
   "execution_count": 200,
   "id": "lightweight-bridge",
   "metadata": {},
   "outputs": [],
   "source": [
    "sk_e4 = [cov.covariance_, cov.precision_, [end-start]]"
   ]
  },
  {
   "cell_type": "markdown",
   "id": "governing-parts",
   "metadata": {},
   "source": [
    "## Tol = 10e-5"
   ]
  },
  {
   "cell_type": "code",
   "execution_count": 201,
   "id": "proof-water",
   "metadata": {},
   "outputs": [
    {
     "name": "stdout",
     "output_type": "stream",
     "text": [
      "0.004691123962402344\n"
     ]
    }
   ],
   "source": [
    "start = time.time()\n",
    "cov = GraphicalLasso(tol=1e-5, max_iter = 1000).fit(X)\n",
    "end = time.time()\n",
    "print(end-start)"
   ]
  },
  {
   "cell_type": "code",
   "execution_count": 202,
   "id": "human-tract",
   "metadata": {},
   "outputs": [],
   "source": [
    "sk_e5 = [cov.covariance_, cov.precision_, [end-start]]"
   ]
  },
  {
   "cell_type": "markdown",
   "id": "lovely-memory",
   "metadata": {},
   "source": [
    "## Tol = 10e-6"
   ]
  },
  {
   "cell_type": "code",
   "execution_count": 203,
   "id": "southwest-designer",
   "metadata": {},
   "outputs": [
    {
     "name": "stdout",
     "output_type": "stream",
     "text": [
      "0.005295753479003906\n"
     ]
    }
   ],
   "source": [
    "start = time.time()\n",
    "cov = GraphicalLasso(tol=1e-6, max_iter = 1000).fit(X)\n",
    "end = time.time()\n",
    "print(end-start)"
   ]
  },
  {
   "cell_type": "code",
   "execution_count": 204,
   "id": "affiliated-helmet",
   "metadata": {},
   "outputs": [],
   "source": [
    "sk_e6 = [cov.covariance_, cov.precision_, [end-start]]"
   ]
  },
  {
   "cell_type": "markdown",
   "id": "universal-petite",
   "metadata": {},
   "source": [
    "## Tol = 10e-7"
   ]
  },
  {
   "cell_type": "code",
   "execution_count": 205,
   "id": "hollywood-headquarters",
   "metadata": {},
   "outputs": [
    {
     "name": "stdout",
     "output_type": "stream",
     "text": [
      "0.006354808807373047\n"
     ]
    }
   ],
   "source": [
    "start = time.time()\n",
    "cov = GraphicalLasso(tol=1e-7, max_iter = 1000).fit(X)\n",
    "end = time.time()\n",
    "print(end-start)"
   ]
  },
  {
   "cell_type": "code",
   "execution_count": 206,
   "id": "friendly-hamburg",
   "metadata": {},
   "outputs": [],
   "source": [
    "sk_e7 = [cov.covariance_, cov.precision_, [end-start]]"
   ]
  },
  {
   "cell_type": "markdown",
   "id": "approved-error",
   "metadata": {},
   "source": [
    "# Import Regain GL"
   ]
  },
  {
   "cell_type": "code",
   "execution_count": 207,
   "id": "wrapped-steering",
   "metadata": {},
   "outputs": [],
   "source": [
    "from regain.covariance import GraphicalLasso\n",
    "#from regain.covariance.graphical_lasso_ import GraphicalLasso"
   ]
  },
  {
   "cell_type": "markdown",
   "id": "right-mouth",
   "metadata": {},
   "source": [
    "## Tol = 1e-4"
   ]
  },
  {
   "cell_type": "code",
   "execution_count": 208,
   "id": "important-phenomenon",
   "metadata": {},
   "outputs": [
    {
     "name": "stdout",
     "output_type": "stream",
     "text": [
      "0.05697989463806152\n"
     ]
    }
   ],
   "source": [
    "\"\"\"\n",
    "alpha=0.01, rho=1, over_relax=1, max_iter=100, verbose=True,\n",
    "tol=1e-4, rtol=1e-4, return_history=False, return_n_iter=True,\n",
    "update_rho_options=None, compute_objective=True, init='empirical'\n",
    "\"\"\"\n",
    "start = time.time()\n",
    "rg = GraphicalLasso(alpha=0.01, rho=1.,tol=1e-4, rtol=1e-4, max_iter=1000, verbose=False).fit(X)\n",
    "end = time.time()\n",
    "print(end-start)"
   ]
  },
  {
   "cell_type": "code",
   "execution_count": 209,
   "id": "urban-seminar",
   "metadata": {},
   "outputs": [],
   "source": [
    "rg_e4 = [rg.covariance_, rg.precision_, [end-start]]"
   ]
  },
  {
   "cell_type": "markdown",
   "id": "chubby-interface",
   "metadata": {},
   "source": [
    "## Tol = 1e-5"
   ]
  },
  {
   "cell_type": "code",
   "execution_count": 210,
   "id": "liable-leave",
   "metadata": {},
   "outputs": [
    {
     "name": "stdout",
     "output_type": "stream",
     "text": [
      "0.07332110404968262\n"
     ]
    }
   ],
   "source": [
    "\"\"\"\n",
    "alpha=0.01, rho=1, over_relax=1, max_iter=100, verbose=True,\n",
    "tol=1e-4, rtol=1e-4, return_history=False, return_n_iter=True,\n",
    "update_rho_options=None, compute_objective=True, init='empirical'\n",
    "\"\"\"\n",
    "start = time.time()\n",
    "rg = GraphicalLasso(alpha=0.01, rho=1.,tol=1e-5, rtol=1e-5, max_iter=1000, verbose=False).fit(X)\n",
    "end = time.time()\n",
    "print(end-start)"
   ]
  },
  {
   "cell_type": "code",
   "execution_count": 211,
   "id": "naughty-zealand",
   "metadata": {},
   "outputs": [],
   "source": [
    "rg_e5 = [rg.covariance_, rg.precision_, [end-start]]"
   ]
  },
  {
   "cell_type": "markdown",
   "id": "shared-banking",
   "metadata": {},
   "source": [
    "## Tol = 1e-6"
   ]
  },
  {
   "cell_type": "code",
   "execution_count": 212,
   "id": "straight-professor",
   "metadata": {},
   "outputs": [
    {
     "name": "stdout",
     "output_type": "stream",
     "text": [
      "0.07961583137512207\n"
     ]
    }
   ],
   "source": [
    "\"\"\"\n",
    "alpha=0.01, rho=1, over_relax=1, max_iter=100, verbose=True,\n",
    "tol=1e-4, rtol=1e-4, return_history=False, return_n_iter=True,\n",
    "update_rho_options=None, compute_objective=True, init='empirical'\n",
    "\"\"\"\n",
    "start = time.time()\n",
    "rg = GraphicalLasso(alpha=0.01, rho=1.,tol=1e-6, rtol=1e-6, max_iter=1000, verbose=False).fit(X)\n",
    "end = time.time()\n",
    "print(end-start)"
   ]
  },
  {
   "cell_type": "code",
   "execution_count": 213,
   "id": "novel-movie",
   "metadata": {},
   "outputs": [],
   "source": [
    "rg_e6 = [rg.covariance_, rg.precision_, [end-start]]"
   ]
  },
  {
   "cell_type": "markdown",
   "id": "virgin-knowing",
   "metadata": {},
   "source": [
    "## Tol = 1e-7"
   ]
  },
  {
   "cell_type": "code",
   "execution_count": 214,
   "id": "written-address",
   "metadata": {},
   "outputs": [
    {
     "name": "stdout",
     "output_type": "stream",
     "text": [
      "0.08848285675048828\n"
     ]
    }
   ],
   "source": [
    "\"\"\"\n",
    "alpha=0.01, rho=1, over_relax=1, max_iter=100, verbose=True,\n",
    "tol=1e-4, rtol=1e-4, return_history=False, return_n_iter=True,\n",
    "update_rho_options=None, compute_objective=True, init='empirical'\n",
    "\"\"\"\n",
    "start = time.time()\n",
    "rg = GraphicalLasso(alpha=0.01, rho=1.,tol=1e-7, rtol=1e-7, max_iter=1000, verbose=False).fit(X)\n",
    "end = time.time()\n",
    "print(end-start)"
   ]
  },
  {
   "cell_type": "code",
   "execution_count": 215,
   "id": "another-connecticut",
   "metadata": {},
   "outputs": [],
   "source": [
    "rg_e7 = [rg.covariance_, rg.precision_, [end-start]]"
   ]
  },
  {
   "cell_type": "code",
   "execution_count": 267,
   "id": "helpful-store",
   "metadata": {},
   "outputs": [],
   "source": [
    "import pandas as pd\n",
    "\n",
    "d = {'time': [0.1, 0.2, 0.3, 0.6, 0.7, 0.9], 'accuracy': [0.36, 0.54, 0.65, 0.78, 0.96, 0.98],\n",
    "     'method':[\"admm\", \"sk\", \"admm\", \"sk\", \"admm\", \"sk\"]}\n",
    "df = pd.DataFrame(data=d)"
   ]
  },
  {
   "cell_type": "code",
   "execution_count": 268,
   "id": "breeding-lending",
   "metadata": {},
   "outputs": [],
   "source": [
    "# !pip install plotly"
   ]
  },
  {
   "cell_type": "code",
   "execution_count": 269,
   "id": "alive-royalty",
   "metadata": {},
   "outputs": [
    {
     "data": {
      "application/vnd.plotly.v1+json": {
       "config": {
        "plotlyServerURL": "https://plot.ly"
       },
       "data": [
        {
         "hovertemplate": "method=admm<br>time=%{x}<br>accuracy=%{y}<extra></extra>",
         "legendgroup": "admm",
         "line": {
          "color": "#636efa",
          "dash": "solid"
         },
         "mode": "lines",
         "name": "admm",
         "orientation": "v",
         "showlegend": true,
         "type": "scatter",
         "x": [
          0.1,
          0.3,
          0.7
         ],
         "xaxis": "x",
         "y": [
          0.36,
          0.65,
          0.96
         ],
         "yaxis": "y"
        },
        {
         "hovertemplate": "method=sk<br>time=%{x}<br>accuracy=%{y}<extra></extra>",
         "legendgroup": "sk",
         "line": {
          "color": "#EF553B",
          "dash": "solid"
         },
         "mode": "lines",
         "name": "sk",
         "orientation": "v",
         "showlegend": true,
         "type": "scatter",
         "x": [
          0.2,
          0.6,
          0.9
         ],
         "xaxis": "x",
         "y": [
          0.54,
          0.78,
          0.98
         ],
         "yaxis": "y"
        }
       ],
       "layout": {
        "legend": {
         "title": {
          "text": "method"
         },
         "tracegroupgap": 0
        },
        "template": {
         "data": {
          "bar": [
           {
            "error_x": {
             "color": "#2a3f5f"
            },
            "error_y": {
             "color": "#2a3f5f"
            },
            "marker": {
             "line": {
              "color": "#E5ECF6",
              "width": 0.5
             }
            },
            "type": "bar"
           }
          ],
          "barpolar": [
           {
            "marker": {
             "line": {
              "color": "#E5ECF6",
              "width": 0.5
             }
            },
            "type": "barpolar"
           }
          ],
          "carpet": [
           {
            "aaxis": {
             "endlinecolor": "#2a3f5f",
             "gridcolor": "white",
             "linecolor": "white",
             "minorgridcolor": "white",
             "startlinecolor": "#2a3f5f"
            },
            "baxis": {
             "endlinecolor": "#2a3f5f",
             "gridcolor": "white",
             "linecolor": "white",
             "minorgridcolor": "white",
             "startlinecolor": "#2a3f5f"
            },
            "type": "carpet"
           }
          ],
          "choropleth": [
           {
            "colorbar": {
             "outlinewidth": 0,
             "ticks": ""
            },
            "type": "choropleth"
           }
          ],
          "contour": [
           {
            "colorbar": {
             "outlinewidth": 0,
             "ticks": ""
            },
            "colorscale": [
             [
              0,
              "#0d0887"
             ],
             [
              0.1111111111111111,
              "#46039f"
             ],
             [
              0.2222222222222222,
              "#7201a8"
             ],
             [
              0.3333333333333333,
              "#9c179e"
             ],
             [
              0.4444444444444444,
              "#bd3786"
             ],
             [
              0.5555555555555556,
              "#d8576b"
             ],
             [
              0.6666666666666666,
              "#ed7953"
             ],
             [
              0.7777777777777778,
              "#fb9f3a"
             ],
             [
              0.8888888888888888,
              "#fdca26"
             ],
             [
              1,
              "#f0f921"
             ]
            ],
            "type": "contour"
           }
          ],
          "contourcarpet": [
           {
            "colorbar": {
             "outlinewidth": 0,
             "ticks": ""
            },
            "type": "contourcarpet"
           }
          ],
          "heatmap": [
           {
            "colorbar": {
             "outlinewidth": 0,
             "ticks": ""
            },
            "colorscale": [
             [
              0,
              "#0d0887"
             ],
             [
              0.1111111111111111,
              "#46039f"
             ],
             [
              0.2222222222222222,
              "#7201a8"
             ],
             [
              0.3333333333333333,
              "#9c179e"
             ],
             [
              0.4444444444444444,
              "#bd3786"
             ],
             [
              0.5555555555555556,
              "#d8576b"
             ],
             [
              0.6666666666666666,
              "#ed7953"
             ],
             [
              0.7777777777777778,
              "#fb9f3a"
             ],
             [
              0.8888888888888888,
              "#fdca26"
             ],
             [
              1,
              "#f0f921"
             ]
            ],
            "type": "heatmap"
           }
          ],
          "heatmapgl": [
           {
            "colorbar": {
             "outlinewidth": 0,
             "ticks": ""
            },
            "colorscale": [
             [
              0,
              "#0d0887"
             ],
             [
              0.1111111111111111,
              "#46039f"
             ],
             [
              0.2222222222222222,
              "#7201a8"
             ],
             [
              0.3333333333333333,
              "#9c179e"
             ],
             [
              0.4444444444444444,
              "#bd3786"
             ],
             [
              0.5555555555555556,
              "#d8576b"
             ],
             [
              0.6666666666666666,
              "#ed7953"
             ],
             [
              0.7777777777777778,
              "#fb9f3a"
             ],
             [
              0.8888888888888888,
              "#fdca26"
             ],
             [
              1,
              "#f0f921"
             ]
            ],
            "type": "heatmapgl"
           }
          ],
          "histogram": [
           {
            "marker": {
             "colorbar": {
              "outlinewidth": 0,
              "ticks": ""
             }
            },
            "type": "histogram"
           }
          ],
          "histogram2d": [
           {
            "colorbar": {
             "outlinewidth": 0,
             "ticks": ""
            },
            "colorscale": [
             [
              0,
              "#0d0887"
             ],
             [
              0.1111111111111111,
              "#46039f"
             ],
             [
              0.2222222222222222,
              "#7201a8"
             ],
             [
              0.3333333333333333,
              "#9c179e"
             ],
             [
              0.4444444444444444,
              "#bd3786"
             ],
             [
              0.5555555555555556,
              "#d8576b"
             ],
             [
              0.6666666666666666,
              "#ed7953"
             ],
             [
              0.7777777777777778,
              "#fb9f3a"
             ],
             [
              0.8888888888888888,
              "#fdca26"
             ],
             [
              1,
              "#f0f921"
             ]
            ],
            "type": "histogram2d"
           }
          ],
          "histogram2dcontour": [
           {
            "colorbar": {
             "outlinewidth": 0,
             "ticks": ""
            },
            "colorscale": [
             [
              0,
              "#0d0887"
             ],
             [
              0.1111111111111111,
              "#46039f"
             ],
             [
              0.2222222222222222,
              "#7201a8"
             ],
             [
              0.3333333333333333,
              "#9c179e"
             ],
             [
              0.4444444444444444,
              "#bd3786"
             ],
             [
              0.5555555555555556,
              "#d8576b"
             ],
             [
              0.6666666666666666,
              "#ed7953"
             ],
             [
              0.7777777777777778,
              "#fb9f3a"
             ],
             [
              0.8888888888888888,
              "#fdca26"
             ],
             [
              1,
              "#f0f921"
             ]
            ],
            "type": "histogram2dcontour"
           }
          ],
          "mesh3d": [
           {
            "colorbar": {
             "outlinewidth": 0,
             "ticks": ""
            },
            "type": "mesh3d"
           }
          ],
          "parcoords": [
           {
            "line": {
             "colorbar": {
              "outlinewidth": 0,
              "ticks": ""
             }
            },
            "type": "parcoords"
           }
          ],
          "pie": [
           {
            "automargin": true,
            "type": "pie"
           }
          ],
          "scatter": [
           {
            "marker": {
             "colorbar": {
              "outlinewidth": 0,
              "ticks": ""
             }
            },
            "type": "scatter"
           }
          ],
          "scatter3d": [
           {
            "line": {
             "colorbar": {
              "outlinewidth": 0,
              "ticks": ""
             }
            },
            "marker": {
             "colorbar": {
              "outlinewidth": 0,
              "ticks": ""
             }
            },
            "type": "scatter3d"
           }
          ],
          "scattercarpet": [
           {
            "marker": {
             "colorbar": {
              "outlinewidth": 0,
              "ticks": ""
             }
            },
            "type": "scattercarpet"
           }
          ],
          "scattergeo": [
           {
            "marker": {
             "colorbar": {
              "outlinewidth": 0,
              "ticks": ""
             }
            },
            "type": "scattergeo"
           }
          ],
          "scattergl": [
           {
            "marker": {
             "colorbar": {
              "outlinewidth": 0,
              "ticks": ""
             }
            },
            "type": "scattergl"
           }
          ],
          "scattermapbox": [
           {
            "marker": {
             "colorbar": {
              "outlinewidth": 0,
              "ticks": ""
             }
            },
            "type": "scattermapbox"
           }
          ],
          "scatterpolar": [
           {
            "marker": {
             "colorbar": {
              "outlinewidth": 0,
              "ticks": ""
             }
            },
            "type": "scatterpolar"
           }
          ],
          "scatterpolargl": [
           {
            "marker": {
             "colorbar": {
              "outlinewidth": 0,
              "ticks": ""
             }
            },
            "type": "scatterpolargl"
           }
          ],
          "scatterternary": [
           {
            "marker": {
             "colorbar": {
              "outlinewidth": 0,
              "ticks": ""
             }
            },
            "type": "scatterternary"
           }
          ],
          "surface": [
           {
            "colorbar": {
             "outlinewidth": 0,
             "ticks": ""
            },
            "colorscale": [
             [
              0,
              "#0d0887"
             ],
             [
              0.1111111111111111,
              "#46039f"
             ],
             [
              0.2222222222222222,
              "#7201a8"
             ],
             [
              0.3333333333333333,
              "#9c179e"
             ],
             [
              0.4444444444444444,
              "#bd3786"
             ],
             [
              0.5555555555555556,
              "#d8576b"
             ],
             [
              0.6666666666666666,
              "#ed7953"
             ],
             [
              0.7777777777777778,
              "#fb9f3a"
             ],
             [
              0.8888888888888888,
              "#fdca26"
             ],
             [
              1,
              "#f0f921"
             ]
            ],
            "type": "surface"
           }
          ],
          "table": [
           {
            "cells": {
             "fill": {
              "color": "#EBF0F8"
             },
             "line": {
              "color": "white"
             }
            },
            "header": {
             "fill": {
              "color": "#C8D4E3"
             },
             "line": {
              "color": "white"
             }
            },
            "type": "table"
           }
          ]
         },
         "layout": {
          "annotationdefaults": {
           "arrowcolor": "#2a3f5f",
           "arrowhead": 0,
           "arrowwidth": 1
          },
          "autotypenumbers": "strict",
          "coloraxis": {
           "colorbar": {
            "outlinewidth": 0,
            "ticks": ""
           }
          },
          "colorscale": {
           "diverging": [
            [
             0,
             "#8e0152"
            ],
            [
             0.1,
             "#c51b7d"
            ],
            [
             0.2,
             "#de77ae"
            ],
            [
             0.3,
             "#f1b6da"
            ],
            [
             0.4,
             "#fde0ef"
            ],
            [
             0.5,
             "#f7f7f7"
            ],
            [
             0.6,
             "#e6f5d0"
            ],
            [
             0.7,
             "#b8e186"
            ],
            [
             0.8,
             "#7fbc41"
            ],
            [
             0.9,
             "#4d9221"
            ],
            [
             1,
             "#276419"
            ]
           ],
           "sequential": [
            [
             0,
             "#0d0887"
            ],
            [
             0.1111111111111111,
             "#46039f"
            ],
            [
             0.2222222222222222,
             "#7201a8"
            ],
            [
             0.3333333333333333,
             "#9c179e"
            ],
            [
             0.4444444444444444,
             "#bd3786"
            ],
            [
             0.5555555555555556,
             "#d8576b"
            ],
            [
             0.6666666666666666,
             "#ed7953"
            ],
            [
             0.7777777777777778,
             "#fb9f3a"
            ],
            [
             0.8888888888888888,
             "#fdca26"
            ],
            [
             1,
             "#f0f921"
            ]
           ],
           "sequentialminus": [
            [
             0,
             "#0d0887"
            ],
            [
             0.1111111111111111,
             "#46039f"
            ],
            [
             0.2222222222222222,
             "#7201a8"
            ],
            [
             0.3333333333333333,
             "#9c179e"
            ],
            [
             0.4444444444444444,
             "#bd3786"
            ],
            [
             0.5555555555555556,
             "#d8576b"
            ],
            [
             0.6666666666666666,
             "#ed7953"
            ],
            [
             0.7777777777777778,
             "#fb9f3a"
            ],
            [
             0.8888888888888888,
             "#fdca26"
            ],
            [
             1,
             "#f0f921"
            ]
           ]
          },
          "colorway": [
           "#636efa",
           "#EF553B",
           "#00cc96",
           "#ab63fa",
           "#FFA15A",
           "#19d3f3",
           "#FF6692",
           "#B6E880",
           "#FF97FF",
           "#FECB52"
          ],
          "font": {
           "color": "#2a3f5f"
          },
          "geo": {
           "bgcolor": "white",
           "lakecolor": "white",
           "landcolor": "#E5ECF6",
           "showlakes": true,
           "showland": true,
           "subunitcolor": "white"
          },
          "hoverlabel": {
           "align": "left"
          },
          "hovermode": "closest",
          "mapbox": {
           "style": "light"
          },
          "paper_bgcolor": "white",
          "plot_bgcolor": "#E5ECF6",
          "polar": {
           "angularaxis": {
            "gridcolor": "white",
            "linecolor": "white",
            "ticks": ""
           },
           "bgcolor": "#E5ECF6",
           "radialaxis": {
            "gridcolor": "white",
            "linecolor": "white",
            "ticks": ""
           }
          },
          "scene": {
           "xaxis": {
            "backgroundcolor": "#E5ECF6",
            "gridcolor": "white",
            "gridwidth": 2,
            "linecolor": "white",
            "showbackground": true,
            "ticks": "",
            "zerolinecolor": "white"
           },
           "yaxis": {
            "backgroundcolor": "#E5ECF6",
            "gridcolor": "white",
            "gridwidth": 2,
            "linecolor": "white",
            "showbackground": true,
            "ticks": "",
            "zerolinecolor": "white"
           },
           "zaxis": {
            "backgroundcolor": "#E5ECF6",
            "gridcolor": "white",
            "gridwidth": 2,
            "linecolor": "white",
            "showbackground": true,
            "ticks": "",
            "zerolinecolor": "white"
           }
          },
          "shapedefaults": {
           "line": {
            "color": "#2a3f5f"
           }
          },
          "ternary": {
           "aaxis": {
            "gridcolor": "white",
            "linecolor": "white",
            "ticks": ""
           },
           "baxis": {
            "gridcolor": "white",
            "linecolor": "white",
            "ticks": ""
           },
           "bgcolor": "#E5ECF6",
           "caxis": {
            "gridcolor": "white",
            "linecolor": "white",
            "ticks": ""
           }
          },
          "title": {
           "x": 0.05
          },
          "xaxis": {
           "automargin": true,
           "gridcolor": "white",
           "linecolor": "white",
           "ticks": "",
           "title": {
            "standoff": 15
           },
           "zerolinecolor": "white",
           "zerolinewidth": 2
          },
          "yaxis": {
           "automargin": true,
           "gridcolor": "white",
           "linecolor": "white",
           "ticks": "",
           "title": {
            "standoff": 15
           },
           "zerolinecolor": "white",
           "zerolinewidth": 2
          }
         }
        },
        "title": {
         "text": "Perfomance comparison"
        },
        "xaxis": {
         "anchor": "y",
         "domain": [
          0,
          1
         ],
         "title": {
          "text": "time"
         }
        },
        "yaxis": {
         "anchor": "x",
         "domain": [
          0,
          1
         ],
         "title": {
          "text": "accuracy"
         }
        }
       }
      },
      "text/html": [
       "<div>                            <div id=\"010690c1-8a0b-4dd0-906c-2b9ef145acae\" class=\"plotly-graph-div\" style=\"height:525px; width:100%;\"></div>            <script type=\"text/javascript\">                require([\"plotly\"], function(Plotly) {                    window.PLOTLYENV=window.PLOTLYENV || {};                                    if (document.getElementById(\"010690c1-8a0b-4dd0-906c-2b9ef145acae\")) {                    Plotly.newPlot(                        \"010690c1-8a0b-4dd0-906c-2b9ef145acae\",                        [{\"hovertemplate\": \"method=admm<br>time=%{x}<br>accuracy=%{y}<extra></extra>\", \"legendgroup\": \"admm\", \"line\": {\"color\": \"#636efa\", \"dash\": \"solid\"}, \"mode\": \"lines\", \"name\": \"admm\", \"orientation\": \"v\", \"showlegend\": true, \"type\": \"scatter\", \"x\": [0.1, 0.3, 0.7], \"xaxis\": \"x\", \"y\": [0.36, 0.65, 0.96], \"yaxis\": \"y\"}, {\"hovertemplate\": \"method=sk<br>time=%{x}<br>accuracy=%{y}<extra></extra>\", \"legendgroup\": \"sk\", \"line\": {\"color\": \"#EF553B\", \"dash\": \"solid\"}, \"mode\": \"lines\", \"name\": \"sk\", \"orientation\": \"v\", \"showlegend\": true, \"type\": \"scatter\", \"x\": [0.2, 0.6, 0.9], \"xaxis\": \"x\", \"y\": [0.54, 0.78, 0.98], \"yaxis\": \"y\"}],                        {\"legend\": {\"title\": {\"text\": \"method\"}, \"tracegroupgap\": 0}, \"template\": {\"data\": {\"bar\": [{\"error_x\": {\"color\": \"#2a3f5f\"}, \"error_y\": {\"color\": \"#2a3f5f\"}, \"marker\": {\"line\": {\"color\": \"#E5ECF6\", \"width\": 0.5}}, \"type\": \"bar\"}], \"barpolar\": [{\"marker\": {\"line\": {\"color\": \"#E5ECF6\", \"width\": 0.5}}, \"type\": \"barpolar\"}], \"carpet\": [{\"aaxis\": {\"endlinecolor\": \"#2a3f5f\", \"gridcolor\": \"white\", \"linecolor\": \"white\", \"minorgridcolor\": \"white\", \"startlinecolor\": \"#2a3f5f\"}, \"baxis\": {\"endlinecolor\": \"#2a3f5f\", \"gridcolor\": \"white\", \"linecolor\": \"white\", \"minorgridcolor\": \"white\", \"startlinecolor\": \"#2a3f5f\"}, \"type\": \"carpet\"}], \"choropleth\": [{\"colorbar\": {\"outlinewidth\": 0, \"ticks\": \"\"}, \"type\": \"choropleth\"}], \"contour\": [{\"colorbar\": {\"outlinewidth\": 0, \"ticks\": \"\"}, \"colorscale\": [[0.0, \"#0d0887\"], [0.1111111111111111, \"#46039f\"], [0.2222222222222222, \"#7201a8\"], [0.3333333333333333, \"#9c179e\"], [0.4444444444444444, \"#bd3786\"], [0.5555555555555556, \"#d8576b\"], [0.6666666666666666, \"#ed7953\"], [0.7777777777777778, \"#fb9f3a\"], [0.8888888888888888, \"#fdca26\"], [1.0, \"#f0f921\"]], \"type\": \"contour\"}], \"contourcarpet\": [{\"colorbar\": {\"outlinewidth\": 0, \"ticks\": \"\"}, \"type\": \"contourcarpet\"}], \"heatmap\": [{\"colorbar\": {\"outlinewidth\": 0, \"ticks\": \"\"}, \"colorscale\": [[0.0, \"#0d0887\"], [0.1111111111111111, \"#46039f\"], [0.2222222222222222, \"#7201a8\"], [0.3333333333333333, \"#9c179e\"], [0.4444444444444444, \"#bd3786\"], [0.5555555555555556, \"#d8576b\"], [0.6666666666666666, \"#ed7953\"], [0.7777777777777778, \"#fb9f3a\"], [0.8888888888888888, \"#fdca26\"], [1.0, \"#f0f921\"]], \"type\": \"heatmap\"}], \"heatmapgl\": [{\"colorbar\": {\"outlinewidth\": 0, \"ticks\": \"\"}, \"colorscale\": [[0.0, \"#0d0887\"], [0.1111111111111111, \"#46039f\"], [0.2222222222222222, \"#7201a8\"], [0.3333333333333333, \"#9c179e\"], [0.4444444444444444, \"#bd3786\"], [0.5555555555555556, \"#d8576b\"], [0.6666666666666666, \"#ed7953\"], [0.7777777777777778, \"#fb9f3a\"], [0.8888888888888888, \"#fdca26\"], [1.0, \"#f0f921\"]], \"type\": \"heatmapgl\"}], \"histogram\": [{\"marker\": {\"colorbar\": {\"outlinewidth\": 0, \"ticks\": \"\"}}, \"type\": \"histogram\"}], \"histogram2d\": [{\"colorbar\": {\"outlinewidth\": 0, \"ticks\": \"\"}, \"colorscale\": [[0.0, \"#0d0887\"], [0.1111111111111111, \"#46039f\"], [0.2222222222222222, \"#7201a8\"], [0.3333333333333333, \"#9c179e\"], [0.4444444444444444, \"#bd3786\"], [0.5555555555555556, \"#d8576b\"], [0.6666666666666666, \"#ed7953\"], [0.7777777777777778, \"#fb9f3a\"], [0.8888888888888888, \"#fdca26\"], [1.0, \"#f0f921\"]], \"type\": \"histogram2d\"}], \"histogram2dcontour\": [{\"colorbar\": {\"outlinewidth\": 0, \"ticks\": \"\"}, \"colorscale\": [[0.0, \"#0d0887\"], [0.1111111111111111, \"#46039f\"], [0.2222222222222222, \"#7201a8\"], [0.3333333333333333, \"#9c179e\"], [0.4444444444444444, \"#bd3786\"], [0.5555555555555556, \"#d8576b\"], [0.6666666666666666, \"#ed7953\"], [0.7777777777777778, \"#fb9f3a\"], [0.8888888888888888, \"#fdca26\"], [1.0, \"#f0f921\"]], \"type\": \"histogram2dcontour\"}], \"mesh3d\": [{\"colorbar\": {\"outlinewidth\": 0, \"ticks\": \"\"}, \"type\": \"mesh3d\"}], \"parcoords\": [{\"line\": {\"colorbar\": {\"outlinewidth\": 0, \"ticks\": \"\"}}, \"type\": \"parcoords\"}], \"pie\": [{\"automargin\": true, \"type\": \"pie\"}], \"scatter\": [{\"marker\": {\"colorbar\": {\"outlinewidth\": 0, \"ticks\": \"\"}}, \"type\": \"scatter\"}], \"scatter3d\": [{\"line\": {\"colorbar\": {\"outlinewidth\": 0, \"ticks\": \"\"}}, \"marker\": {\"colorbar\": {\"outlinewidth\": 0, \"ticks\": \"\"}}, \"type\": \"scatter3d\"}], \"scattercarpet\": [{\"marker\": {\"colorbar\": {\"outlinewidth\": 0, \"ticks\": \"\"}}, \"type\": \"scattercarpet\"}], \"scattergeo\": [{\"marker\": {\"colorbar\": {\"outlinewidth\": 0, \"ticks\": \"\"}}, \"type\": \"scattergeo\"}], \"scattergl\": [{\"marker\": {\"colorbar\": {\"outlinewidth\": 0, \"ticks\": \"\"}}, \"type\": \"scattergl\"}], \"scattermapbox\": [{\"marker\": {\"colorbar\": {\"outlinewidth\": 0, \"ticks\": \"\"}}, \"type\": \"scattermapbox\"}], \"scatterpolar\": [{\"marker\": {\"colorbar\": {\"outlinewidth\": 0, \"ticks\": \"\"}}, \"type\": \"scatterpolar\"}], \"scatterpolargl\": [{\"marker\": {\"colorbar\": {\"outlinewidth\": 0, \"ticks\": \"\"}}, \"type\": \"scatterpolargl\"}], \"scatterternary\": [{\"marker\": {\"colorbar\": {\"outlinewidth\": 0, \"ticks\": \"\"}}, \"type\": \"scatterternary\"}], \"surface\": [{\"colorbar\": {\"outlinewidth\": 0, \"ticks\": \"\"}, \"colorscale\": [[0.0, \"#0d0887\"], [0.1111111111111111, \"#46039f\"], [0.2222222222222222, \"#7201a8\"], [0.3333333333333333, \"#9c179e\"], [0.4444444444444444, \"#bd3786\"], [0.5555555555555556, \"#d8576b\"], [0.6666666666666666, \"#ed7953\"], [0.7777777777777778, \"#fb9f3a\"], [0.8888888888888888, \"#fdca26\"], [1.0, \"#f0f921\"]], \"type\": \"surface\"}], \"table\": [{\"cells\": {\"fill\": {\"color\": \"#EBF0F8\"}, \"line\": {\"color\": \"white\"}}, \"header\": {\"fill\": {\"color\": \"#C8D4E3\"}, \"line\": {\"color\": \"white\"}}, \"type\": \"table\"}]}, \"layout\": {\"annotationdefaults\": {\"arrowcolor\": \"#2a3f5f\", \"arrowhead\": 0, \"arrowwidth\": 1}, \"autotypenumbers\": \"strict\", \"coloraxis\": {\"colorbar\": {\"outlinewidth\": 0, \"ticks\": \"\"}}, \"colorscale\": {\"diverging\": [[0, \"#8e0152\"], [0.1, \"#c51b7d\"], [0.2, \"#de77ae\"], [0.3, \"#f1b6da\"], [0.4, \"#fde0ef\"], [0.5, \"#f7f7f7\"], [0.6, \"#e6f5d0\"], [0.7, \"#b8e186\"], [0.8, \"#7fbc41\"], [0.9, \"#4d9221\"], [1, \"#276419\"]], \"sequential\": [[0.0, \"#0d0887\"], [0.1111111111111111, \"#46039f\"], [0.2222222222222222, \"#7201a8\"], [0.3333333333333333, \"#9c179e\"], [0.4444444444444444, \"#bd3786\"], [0.5555555555555556, \"#d8576b\"], [0.6666666666666666, \"#ed7953\"], [0.7777777777777778, \"#fb9f3a\"], [0.8888888888888888, \"#fdca26\"], [1.0, \"#f0f921\"]], \"sequentialminus\": [[0.0, \"#0d0887\"], [0.1111111111111111, \"#46039f\"], [0.2222222222222222, \"#7201a8\"], [0.3333333333333333, \"#9c179e\"], [0.4444444444444444, \"#bd3786\"], [0.5555555555555556, \"#d8576b\"], [0.6666666666666666, \"#ed7953\"], [0.7777777777777778, \"#fb9f3a\"], [0.8888888888888888, \"#fdca26\"], [1.0, \"#f0f921\"]]}, \"colorway\": [\"#636efa\", \"#EF553B\", \"#00cc96\", \"#ab63fa\", \"#FFA15A\", \"#19d3f3\", \"#FF6692\", \"#B6E880\", \"#FF97FF\", \"#FECB52\"], \"font\": {\"color\": \"#2a3f5f\"}, \"geo\": {\"bgcolor\": \"white\", \"lakecolor\": \"white\", \"landcolor\": \"#E5ECF6\", \"showlakes\": true, \"showland\": true, \"subunitcolor\": \"white\"}, \"hoverlabel\": {\"align\": \"left\"}, \"hovermode\": \"closest\", \"mapbox\": {\"style\": \"light\"}, \"paper_bgcolor\": \"white\", \"plot_bgcolor\": \"#E5ECF6\", \"polar\": {\"angularaxis\": {\"gridcolor\": \"white\", \"linecolor\": \"white\", \"ticks\": \"\"}, \"bgcolor\": \"#E5ECF6\", \"radialaxis\": {\"gridcolor\": \"white\", \"linecolor\": \"white\", \"ticks\": \"\"}}, \"scene\": {\"xaxis\": {\"backgroundcolor\": \"#E5ECF6\", \"gridcolor\": \"white\", \"gridwidth\": 2, \"linecolor\": \"white\", \"showbackground\": true, \"ticks\": \"\", \"zerolinecolor\": \"white\"}, \"yaxis\": {\"backgroundcolor\": \"#E5ECF6\", \"gridcolor\": \"white\", \"gridwidth\": 2, \"linecolor\": \"white\", \"showbackground\": true, \"ticks\": \"\", \"zerolinecolor\": \"white\"}, \"zaxis\": {\"backgroundcolor\": \"#E5ECF6\", \"gridcolor\": \"white\", \"gridwidth\": 2, \"linecolor\": \"white\", \"showbackground\": true, \"ticks\": \"\", \"zerolinecolor\": \"white\"}}, \"shapedefaults\": {\"line\": {\"color\": \"#2a3f5f\"}}, \"ternary\": {\"aaxis\": {\"gridcolor\": \"white\", \"linecolor\": \"white\", \"ticks\": \"\"}, \"baxis\": {\"gridcolor\": \"white\", \"linecolor\": \"white\", \"ticks\": \"\"}, \"bgcolor\": \"#E5ECF6\", \"caxis\": {\"gridcolor\": \"white\", \"linecolor\": \"white\", \"ticks\": \"\"}}, \"title\": {\"x\": 0.05}, \"xaxis\": {\"automargin\": true, \"gridcolor\": \"white\", \"linecolor\": \"white\", \"ticks\": \"\", \"title\": {\"standoff\": 15}, \"zerolinecolor\": \"white\", \"zerolinewidth\": 2}, \"yaxis\": {\"automargin\": true, \"gridcolor\": \"white\", \"linecolor\": \"white\", \"ticks\": \"\", \"title\": {\"standoff\": 15}, \"zerolinecolor\": \"white\", \"zerolinewidth\": 2}}}, \"title\": {\"text\": \"Perfomance comparison\"}, \"xaxis\": {\"anchor\": \"y\", \"domain\": [0.0, 1.0], \"title\": {\"text\": \"time\"}}, \"yaxis\": {\"anchor\": \"x\", \"domain\": [0.0, 1.0], \"title\": {\"text\": \"accuracy\"}}},                        {\"responsive\": true}                    ).then(function(){\n",
       "                            \n",
       "var gd = document.getElementById('010690c1-8a0b-4dd0-906c-2b9ef145acae');\n",
       "var x = new MutationObserver(function (mutations, observer) {{\n",
       "        var display = window.getComputedStyle(gd).display;\n",
       "        if (!display || display === 'none') {{\n",
       "            console.log([gd, 'removed!']);\n",
       "            Plotly.purge(gd);\n",
       "            observer.disconnect();\n",
       "        }}\n",
       "}});\n",
       "\n",
       "// Listen for the removal of the full notebook cells\n",
       "var notebookContainer = gd.closest('#notebook-container');\n",
       "if (notebookContainer) {{\n",
       "    x.observe(notebookContainer, {childList: true});\n",
       "}}\n",
       "\n",
       "// Listen for the clearing of the current output cell\n",
       "var outputEl = gd.closest('.output');\n",
       "if (outputEl) {{\n",
       "    x.observe(outputEl, {childList: true});\n",
       "}}\n",
       "\n",
       "                        })                };                });            </script>        </div>"
      ]
     },
     "metadata": {},
     "output_type": "display_data"
    }
   ],
   "source": [
    "import plotly.express as px\n",
    "\n",
    "fig = px.line(df, x=\"time\", y=\"accuracy\", color= \"method\", title='Perfomance comparison')\n",
    "fig.show()"
   ]
  },
  {
   "cell_type": "markdown",
   "id": "israeli-eugene",
   "metadata": {},
   "source": [
    "# Import ADMM SGL"
   ]
  },
  {
   "cell_type": "code",
   "execution_count": 216,
   "id": "lyric-vegetarian",
   "metadata": {},
   "outputs": [],
   "source": [
    "#from helper.data_generation import time_varying_power_network, group_power_network, sample_covariance_matrix"
   ]
  },
  {
   "cell_type": "code",
   "execution_count": 9,
   "id": "grateful-filename",
   "metadata": {},
   "outputs": [],
   "source": [
    "import sys\n",
    "sys.path.append('..')\n",
    "# sys.path.append(sys.path[0] + \"/..\")"
   ]
  },
  {
   "cell_type": "code",
   "execution_count": 10,
   "id": "regulation-winter",
   "metadata": {},
   "outputs": [],
   "source": [
    "from gglasso.solver.single_admm_solver import ADMM_SGL"
   ]
  },
  {
   "cell_type": "code",
   "execution_count": 13,
   "id": "indie-graduation",
   "metadata": {},
   "outputs": [],
   "source": [
    "Omega_0 = np.eye(X.shape[0])\n",
    "lambda1 = 0.01"
   ]
  },
  {
   "cell_type": "markdown",
   "id": "running-setup",
   "metadata": {},
   "source": [
    "## Tol = 1e-5"
   ]
  },
  {
   "cell_type": "code",
   "execution_count": 251,
   "id": "opened-microphone",
   "metadata": {
    "scrolled": false
   },
   "outputs": [
    {
     "name": "stdout",
     "output_type": "stream",
     "text": [
      "ADMM terminated after 149 iterations with accuracy 9.575201951721199e-06\n",
      "ADMM status: optimal\n",
      "0.02940201759338379\n"
     ]
    }
   ],
   "source": [
    "start = time.time()\n",
    "sol, info = ADMM_SGL(X, lambda1, Omega_0 , eps_admm = 1e-5 , verbose = False, latent = False)\n",
    "end = time.time()\n",
    "print(end - start)"
   ]
  },
  {
   "cell_type": "code",
   "execution_count": 253,
   "id": "tight-syria",
   "metadata": {},
   "outputs": [],
   "source": [
    "admm_e5 = [sol['Omega'], sol['Theta'], [end-start]]"
   ]
  },
  {
   "cell_type": "code",
   "execution_count": 18,
   "id": "wrapped-orleans",
   "metadata": {},
   "outputs": [
    {
     "name": "stdout",
     "output_type": "stream",
     "text": [
      "ADMM terminated after 101 iterations with accuracy 9.667825867681589e-05\n",
      "ADMM status: optimal\n",
      "ADMM terminated after 149 iterations with accuracy 9.575201951721199e-06\n",
      "ADMM status: optimal\n",
      "ADMM terminated after 197 iterations with accuracy 9.538835394609324e-07\n",
      "ADMM status: optimal\n",
      "ADMM terminated after 244 iterations with accuracy 9.975989612201002e-08\n",
      "ADMM status: optimal\n"
     ]
    }
   ],
   "source": [
    "tol_list = [1e-4, 1e-5, 1e-6, 1e-7]\n",
    "sol_list = []\n",
    "for tol in tol_list:\n",
    "    start = time.time()\n",
    "    sol, info = ADMM_SGL(X, lambda1, Omega_0 , eps_admm = tol, verbose = False, latent = False)\n",
    "    end = time.time()\n",
    "    sol_list.append([sol['Omega'], sol['Theta'], [end-start]])"
   ]
  },
  {
   "cell_type": "code",
   "execution_count": 23,
   "id": "green-bermuda",
   "metadata": {},
   "outputs": [
    {
     "data": {
      "text/plain": [
       "[0.01845097541809082]"
      ]
     },
     "execution_count": 23,
     "metadata": {},
     "output_type": "execute_result"
    }
   ],
   "source": [
    "accuracy = np.linalg.norm(sol_list[0][1] - sol_list[1][1])\n",
    "sol_list[0][2]"
   ]
  },
  {
   "cell_type": "markdown",
   "id": "declared-wrestling",
   "metadata": {},
   "source": [
    "# Import LatentTimeGraphicalLasso"
   ]
  },
  {
   "cell_type": "code",
   "execution_count": null,
   "id": "weekly-consultancy",
   "metadata": {},
   "outputs": [],
   "source": [
    "from regain.covariance import LatentTimeGraphicalLasso"
   ]
  },
  {
   "cell_type": "code",
   "execution_count": null,
   "id": "rocky-wagon",
   "metadata": {},
   "outputs": [],
   "source": [
    "from regain.covariance import latent_graphical_lasso_, latent_time_graphical_lasso_"
   ]
  },
  {
   "cell_type": "code",
   "execution_count": null,
   "id": "bottom-sequence",
   "metadata": {},
   "outputs": [],
   "source": [
    "np.random.seed(243)\n",
    "\n",
    "tau = 0.1 #mu1 in ADMM_SGL\n",
    "alpha = 0.1 # lambda in ADMM_SGL"
   ]
  },
  {
   "cell_type": "code",
   "execution_count": null,
   "id": "grand-turtle",
   "metadata": {},
   "outputs": [],
   "source": [
    "sol = latent_graphical_lasso_.latent_graphical_lasso(\n",
    "    true_cov, alpha=alpha, tau=tau, tol=1e-5, rtol=1e-5,\n",
    "    rho=1. / true_cov.shape[0], verbose=0, max_iter=500)"
   ]
  },
  {
   "cell_type": "code",
   "execution_count": null,
   "id": "lesser-recipe",
   "metadata": {},
   "outputs": [],
   "source": [
    "prec, cov, n_iter = sol[0], sol[1], sol[2]"
   ]
  },
  {
   "cell_type": "code",
   "execution_count": null,
   "id": "ideal-fundamentals",
   "metadata": {},
   "outputs": [],
   "source": [
    "prec"
   ]
  },
  {
   "cell_type": "code",
   "execution_count": null,
   "id": "reflected-blowing",
   "metadata": {},
   "outputs": [],
   "source": [
    "cov"
   ]
  },
  {
   "cell_type": "code",
   "execution_count": null,
   "id": "thousand-seafood",
   "metadata": {},
   "outputs": [],
   "source": [
    "n_iter"
   ]
  },
  {
   "cell_type": "code",
   "execution_count": null,
   "id": "indirect-peeing",
   "metadata": {},
   "outputs": [],
   "source": []
  }
 ],
 "metadata": {
  "kernelspec": {
   "display_name": "Python 3",
   "language": "python",
   "name": "python3"
  },
  "language_info": {
   "codemirror_mode": {
    "name": "ipython",
    "version": 3
   },
   "file_extension": ".py",
   "mimetype": "text/x-python",
   "name": "python",
   "nbconvert_exporter": "python",
   "pygments_lexer": "ipython3",
   "version": "3.8.0"
  }
 },
 "nbformat": 4,
 "nbformat_minor": 5
}
