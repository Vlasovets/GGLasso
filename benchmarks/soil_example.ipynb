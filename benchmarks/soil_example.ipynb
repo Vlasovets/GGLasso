{
 "cells": [
  {
   "cell_type": "code",
   "execution_count": null,
   "id": "27420b55",
   "metadata": {},
   "outputs": [],
   "source": [
    "import os\n",
    "# os.chdir(os.path.pardir)\n",
    "\n",
    "import numpy as np\n",
    "import pandas as pd\n",
    "\n",
    "import networkx as nx\n",
    "import matplotlib.pyplot as plt\n",
    "\n",
    "from GGLasso.gglasso.helper.data_generation import group_power_network, sample_covariance_matrix\n",
    "from GGLasso.gglasso.helper.basic_linalg import adjacency_matrix\n",
    "from GGLasso.gglasso.helper.utils import sparsity, zero_replacement, normalize, log_transform\n",
    "\n",
    "from GGLasso.gglasso.problem import glasso_problem\n",
    "\n",
    "from tempfile import TemporaryFile"
   ]
  },
  {
   "cell_type": "markdown",
   "id": "25a2488a",
   "metadata": {},
   "source": [
    "# Import preprocessed soil data"
   ]
  },
  {
   "cell_type": "code",
   "execution_count": null,
   "id": "11a012ab",
   "metadata": {},
   "outputs": [],
   "source": [
    "soil = pd.read_table('soil_116.csv', sep=',')\n",
    "soil.head()"
   ]
  },
  {
   "cell_type": "code",
   "execution_count": null,
   "id": "5fcd91e6",
   "metadata": {},
   "outputs": [],
   "source": [
    "X_soil = np.array(soil)\n",
    "X_soil.shape"
   ]
  },
  {
   "cell_type": "markdown",
   "id": "e36440f8",
   "metadata": {},
   "source": [
    "# Log-transform"
   ]
  },
  {
   "cell_type": "code",
   "execution_count": null,
   "id": "b8ed9f06",
   "metadata": {},
   "outputs": [],
   "source": [
    "X = normalize(X_soil)"
   ]
  },
  {
   "cell_type": "markdown",
   "id": "2f2dc34c",
   "metadata": {},
   "source": [
    "Note: X is scaled with geometric mean, and should be a dataframe of form (p,N)"
   ]
  },
  {
   "cell_type": "code",
   "execution_count": null,
   "id": "4cf18ad7",
   "metadata": {},
   "outputs": [],
   "source": [
    "X = log_transform(pd.DataFrame(X.T))"
   ]
  },
  {
   "cell_type": "markdown",
   "id": "f9cccce6",
   "metadata": {},
   "source": [
    "# Calculate covariance and scale to correlations"
   ]
  },
  {
   "cell_type": "code",
   "execution_count": null,
   "id": "7c54cc9d",
   "metadata": {},
   "outputs": [],
   "source": [
    "S0 = np.cov(X.values, bias = True)"
   ]
  },
  {
   "cell_type": "code",
   "execution_count": null,
   "id": "78ea19e5",
   "metadata": {},
   "outputs": [],
   "source": [
    "# scale covariances to correlations\n",
    "scale = np.tile(np.sqrt(np.diag(S0)),(S0.shape[0],1))\n",
    "scale = scale.T * scale\n",
    "\n",
    "S = S0 / scale"
   ]
  },
  {
   "cell_type": "markdown",
   "id": "d71754d6",
   "metadata": {},
   "source": [
    "# GGLasso problem"
   ]
  },
  {
   "cell_type": "markdown",
   "id": "c0a80e28",
   "metadata": {},
   "source": [
    "Hyperparameters are taken from the experiments with [SpiecEasi](https://github.com/zdk123/SpiecEasi)"
   ]
  },
  {
   "cell_type": "code",
   "execution_count": null,
   "id": "8a0cf6eb",
   "metadata": {},
   "outputs": [],
   "source": [
    "P = glasso_problem(S, X.shape[1], reg_params = {'lambda1': 0.05, 'mu1': 0.05}, latent = True, do_scaling = False)\n",
    "print(P)"
   ]
  },
  {
   "cell_type": "markdown",
   "id": "cf3f36a5",
   "metadata": {},
   "source": [
    "Gamma value for eBIC. Should be between 0 and 1. The larger gamma, the more eBIC tends to pick sparse solutions. The default is 0.1."
   ]
  },
  {
   "cell_type": "code",
   "execution_count": null,
   "id": "9f7e6a88",
   "metadata": {},
   "outputs": [],
   "source": [
    "# lambda1_range = np.logspace(0, -3, 20)\n",
    "lambda1_range = [1.14221314, 1.03975454, 0.94648667, 0.86158509, 0.78429934, 0.71394626, 0.64990398,\n",
    "                 0.59160641, 0.53853823, 0.49023037, 0.44625582, 0.40622586, 0.36978666, 0.33661612, \n",
    "                 0.30642104, 0.27893451, 0.25391358, 0.23113707, 0.21040365, 0.19153006, 0.17434947,\n",
    "                 0.15871000, 0.14447343, 0.13151390, 0.11971686, 0.10897804, 0.09920251, 0.09030386,\n",
    "                 0.08220344, 0.07482964, 0.06811729, 0.06200704, 0.05644490, 0.05138169, 0.04677266,\n",
    "                 0.04257707, 0.03875783, 0.03528118, 0.03211639, 0.02923549, 0.02661302, 0.02422578,\n",
    "                 0.02205268, 0.02007452, 0.01827380, 0.01663460, 0.01514245, 0.01378414, 0.01254768, 0.01142213]\n",
    "modelselect_params = {'lambda1_range': lambda1_range}\n",
    "\n",
    "P.model_selection(modelselect_params = modelselect_params, method = 'eBIC', gamma = 1)\n",
    "\n",
    "# regularization parameters are set to the best ones found during model selection\n",
    "print(P.reg_params)"
   ]
  },
  {
   "cell_type": "markdown",
   "id": "59d456cd",
   "metadata": {},
   "source": [
    "Optimal lambda=1.14221314, mu = 1"
   ]
  },
  {
   "cell_type": "code",
   "execution_count": null,
   "id": "3b611f10",
   "metadata": {},
   "outputs": [],
   "source": [
    "sol = P.solution.precision_\n",
    "P.solution.calc_adjacency()\n",
    "\n",
    "\n",
    "plt.figure()\n",
    "G1 = nx.from_numpy_array(P.solution.adjacency_)\n",
    "nx.draw_spring(G1, node_color = \"darkblue\", edge_color = \"darkblue\", font_color = 'white', with_labels = True)"
   ]
  },
  {
   "cell_type": "code",
   "execution_count": null,
   "id": "5cff07c6",
   "metadata": {},
   "outputs": [],
   "source": [
    "np.save(\"optimal_sol\", sol)"
   ]
  }
 ],
 "metadata": {
  "kernelspec": {
   "display_name": "Python 3",
   "language": "python",
   "name": "python3"
  },
  "language_info": {
   "codemirror_mode": {
    "name": "ipython",
    "version": 3
   },
   "file_extension": ".py",
   "mimetype": "text/x-python",
   "name": "python",
   "nbconvert_exporter": "python",
   "pygments_lexer": "ipython3",
   "version": "3.8.8"
  }
 },
 "nbformat": 4,
 "nbformat_minor": 5
}
