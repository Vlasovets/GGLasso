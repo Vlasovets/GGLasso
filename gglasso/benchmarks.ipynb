{
 "cells": [
  {
   "cell_type": "code",
   "execution_count": 4,
   "id": "suffering-yorkshire",
   "metadata": {},
   "outputs": [
    {
     "name": "stdout",
     "output_type": "stream",
     "text": [
      "Collecting numba==0.48\n",
      "  Downloading numba-0.48.0-cp38-cp38-macosx_10_9_x86_64.whl (2.0 MB)\n",
      "\u001b[K     |████████████████████████████████| 2.0 MB 2.0 MB/s eta 0:00:01\n",
      "\u001b[?25hRequirement already satisfied: setuptools in /Users/oleg.vlasovetc/opt/anaconda3/envs/gglasso/lib/python3.8/site-packages (from numba==0.48) (52.0.0.post20210125)\n",
      "Requirement already satisfied: numpy>=1.15 in /Users/oleg.vlasovetc/opt/anaconda3/envs/gglasso/lib/python3.8/site-packages (from numba==0.48) (1.20.1)\n",
      "Collecting llvmlite<0.32.0,>=0.31.0dev0\n",
      "  Downloading llvmlite-0.31.0-cp38-cp38-macosx_10_9_x86_64.whl (15.9 MB)\n",
      "\u001b[K     |████████████████████████████████| 15.9 MB 6.6 MB/s eta 0:00:01\n",
      "\u001b[?25hInstalling collected packages: llvmlite, numba\n",
      "  Attempting uninstall: llvmlite\n",
      "    Found existing installation: llvmlite 0.35.0\n",
      "    Uninstalling llvmlite-0.35.0:\n",
      "      Successfully uninstalled llvmlite-0.35.0\n",
      "  Attempting uninstall: numba\n",
      "    Found existing installation: numba 0.52.0\n",
      "    Uninstalling numba-0.52.0:\n",
      "      Successfully uninstalled numba-0.52.0\n",
      "Successfully installed llvmlite-0.31.0 numba-0.48.0\n"
     ]
    }
   ],
   "source": [
    "!pip install numba==0.48"
   ]
  },
  {
   "cell_type": "code",
   "execution_count": 21,
   "id": "extensive-hazard",
   "metadata": {},
   "outputs": [
    {
     "name": "stdout",
     "output_type": "stream",
     "text": [
      "Requirement already satisfied: regain in /Users/oleg.vlasovetc/opt/anaconda3/envs/gglasso/lib/python3.8/site-packages (0.2.3)\r\n"
     ]
    }
   ],
   "source": [
    "!pip install regain"
   ]
  },
  {
   "cell_type": "code",
   "execution_count": 28,
   "id": "through-reaction",
   "metadata": {},
   "outputs": [],
   "source": [
    "%matplotlib inline\n",
    "import time\n",
    "import numpy as np"
   ]
  },
  {
   "cell_type": "markdown",
   "id": "inclusive-situation",
   "metadata": {},
   "source": [
    "# Import sklearn"
   ]
  },
  {
   "cell_type": "code",
   "execution_count": 27,
   "id": "reduced-auckland",
   "metadata": {},
   "outputs": [],
   "source": [
    "from sklearn.covariance import GraphicalLasso\n",
    "from sklearn.covariance import empirical_covariance"
   ]
  },
  {
   "cell_type": "code",
   "execution_count": 30,
   "id": "stretch-wagon",
   "metadata": {},
   "outputs": [],
   "source": [
    "true_cov = np.array([[0.8, 0.0, 0.2, 0.0],\n",
    "                     [0.0, 0.4, 0.0, 0.0],\n",
    "                     [0.2, 0.0, 0.3, 0.1],\n",
    "                     [0.0, 0.0, 0.1, 0.7]])"
   ]
  },
  {
   "cell_type": "code",
   "execution_count": 34,
   "id": "musical-saturn",
   "metadata": {},
   "outputs": [
    {
     "data": {
      "text/plain": [
       "array([[ 0.785, -0.039,  0.166,  0.017],\n",
       "       [-0.039,  0.44 , -0.013,  0.008],\n",
       "       [ 0.166, -0.013,  0.325,  0.052],\n",
       "       [ 0.017,  0.008,  0.052,  0.618]])"
      ]
     },
     "execution_count": 34,
     "metadata": {},
     "output_type": "execute_result"
    }
   ],
   "source": [
    "np.random.seed(243)\n",
    "X = np.random.multivariate_normal(mean=[0, 0, 0, 0], cov=true_cov, size=200)\n",
    "cov = GraphicalLasso().fit(X)\n",
    "np.around(cov.covariance_, decimals=3)"
   ]
  },
  {
   "cell_type": "code",
   "execution_count": 36,
   "id": "infrared-alfred",
   "metadata": {},
   "outputs": [
    {
     "data": {
      "text/plain": [
       "array([ 0.011,  0.044,  0.   , -0.028])"
      ]
     },
     "execution_count": 36,
     "metadata": {},
     "output_type": "execute_result"
    }
   ],
   "source": [
    "np.around(cov.location_, decimals=3)"
   ]
  },
  {
   "cell_type": "code",
   "execution_count": 38,
   "id": "prime-transmission",
   "metadata": {},
   "outputs": [],
   "source": [
    "from scipy import linalg\n",
    "from sklearn.datasets import make_sparse_spd_matrix\n",
    "from sklearn.covariance import GraphicalLassoCV, ledoit_wolf\n",
    "import matplotlib.pyplot as plt\n",
    "\n",
    "# #############################################################################\n",
    "# Generate the data\n",
    "n_samples = 60\n",
    "n_features = 20\n",
    "\n",
    "prng = np.random.RandomState(1)\n",
    "prec = make_sparse_spd_matrix(n_features, alpha=.98,\n",
    "                              smallest_coef=.4,\n",
    "                              largest_coef=.7,\n",
    "                              random_state=prng)\n",
    "cov = linalg.inv(prec)\n",
    "d = np.sqrt(np.diag(cov))\n",
    "cov /= d\n",
    "cov /= d[:, np.newaxis]\n",
    "prec *= d\n",
    "prec *= d[:, np.newaxis]\n",
    "X = prng.multivariate_normal(np.zeros(n_features), cov, size=n_samples)\n",
    "X -= X.mean(axis=0)\n",
    "X /= X.std(axis=0)\n",
    "\n",
    "\n",
    "# Estimate the covariance\n",
    "emp_cov = np.dot(X.T, X) / n_samples\n",
    "\n",
    "model = GraphicalLassoCV()\n",
    "model.fit(X)\n",
    "cov_ = model.covariance_\n",
    "prec_ = model.precision_\n",
    "\n",
    "# lw_cov_, _ = ledoit_wolf(X)\n",
    "# lw_prec_ = linalg.inv(lw_cov_)\n",
    "\n",
    "# # #############################################################################\n",
    "# # Plot the results\n",
    "# plt.figure(figsize=(10, 6))\n",
    "# plt.subplots_adjust(left=0.02, right=0.98)\n",
    "\n",
    "# # plot the covariances\n",
    "# covs = [('Empirical', emp_cov), ('Ledoit-Wolf', lw_cov_),\n",
    "#         ('GraphicalLassoCV', cov_), ('True', cov)]\n",
    "# vmax = cov_.max()\n",
    "# for i, (name, this_cov) in enumerate(covs):\n",
    "#     plt.subplot(2, 4, i + 1)\n",
    "#     plt.imshow(this_cov, interpolation='nearest', vmin=-vmax, vmax=vmax,\n",
    "#                cmap=plt.cm.RdBu_r)\n",
    "#     plt.xticks(())\n",
    "#     plt.yticks(())\n",
    "#     plt.title('%s covariance' % name)\n",
    "\n",
    "\n",
    "# # plot the precisions\n",
    "# precs = [('Empirical', linalg.inv(emp_cov)), ('Ledoit-Wolf', lw_prec_),\n",
    "#          ('GraphicalLasso', prec_), ('True', prec)]\n",
    "# vmax = .9 * prec_.max()\n",
    "# for i, (name, this_prec) in enumerate(precs):\n",
    "#     ax = plt.subplot(2, 4, i + 5)\n",
    "#     plt.imshow(np.ma.masked_equal(this_prec, 0),\n",
    "#                interpolation='nearest', vmin=-vmax, vmax=vmax,\n",
    "#                cmap=plt.cm.RdBu_r)\n",
    "#     plt.xticks(())\n",
    "#     plt.yticks(())\n",
    "#     plt.title('%s precision' % name)\n",
    "#     if hasattr(ax, 'set_facecolor'):\n",
    "#         ax.set_facecolor('.7')\n",
    "#     else:\n",
    "#         ax.set_axis_bgcolor('.7')\n",
    "\n",
    "# # plot the model selection metric\n",
    "# plt.figure(figsize=(4, 3))\n",
    "# plt.axes([.2, .15, .75, .7])\n",
    "# plt.plot(model.cv_results_[\"alphas\"], model.cv_results_[\"mean_score\"], 'o-')\n",
    "# plt.axvline(model.alpha_, color='.5')\n",
    "# plt.title('Model selection')\n",
    "# plt.ylabel('Cross-validation score')\n",
    "# plt.xlabel('alpha')\n",
    "\n",
    "# plt.show()"
   ]
  },
  {
   "cell_type": "code",
   "execution_count": 40,
   "id": "forced-contribution",
   "metadata": {},
   "outputs": [
    {
     "data": {
      "text/plain": [
       "(20, 20)"
      ]
     },
     "execution_count": 40,
     "metadata": {},
     "output_type": "execute_result"
    }
   ],
   "source": [
    "emp_cov.shape"
   ]
  },
  {
   "cell_type": "markdown",
   "id": "parallel-cherry",
   "metadata": {},
   "source": [
    "# Import ADMM SGL"
   ]
  },
  {
   "cell_type": "code",
   "execution_count": 15,
   "id": "harmful-company",
   "metadata": {},
   "outputs": [],
   "source": [
    "from helper.data_generation import time_varying_power_network, group_power_network, sample_covariance_matrix\n",
    "from gglasso.solver.single_admm_solver import ADMM_SGL"
   ]
  },
  {
   "cell_type": "code",
   "execution_count": 44,
   "id": "threatened-harvard",
   "metadata": {},
   "outputs": [],
   "source": [
    "Omega_0 = np.eye(len(emp_cov))\n",
    "lambda1 = 0.01"
   ]
  },
  {
   "cell_type": "code",
   "execution_count": 45,
   "id": "grateful-tanzania",
   "metadata": {},
   "outputs": [
    {
     "ename": "ImportError",
     "evalue": "cannot import name 'cffi_utils' from 'numba.core.typing' (/Users/oleg.vlasovetc/opt/anaconda3/envs/gglasso/lib/python3.8/site-packages/numba/core/typing/__init__.py)",
     "output_type": "error",
     "traceback": [
      "\u001b[0;31m--------------------------------------------------------------------------\u001b[0m",
      "\u001b[0;31mImportError\u001b[0m                              Traceback (most recent call last)",
      "\u001b[0;32m<ipython-input-45-adb587f8f3ab>\u001b[0m in \u001b[0;36m<module>\u001b[0;34m\u001b[0m\n\u001b[0;32m----> 1\u001b[0;31m \u001b[0msol\u001b[0m\u001b[0;34m,\u001b[0m \u001b[0minfo\u001b[0m \u001b[0;34m=\u001b[0m \u001b[0mADMM_SGL\u001b[0m\u001b[0;34m(\u001b[0m\u001b[0memp_cov\u001b[0m\u001b[0;34m,\u001b[0m \u001b[0mlambda1\u001b[0m\u001b[0;34m,\u001b[0m \u001b[0mOmega_0\u001b[0m \u001b[0;34m,\u001b[0m \u001b[0meps_admm\u001b[0m \u001b[0;34m=\u001b[0m \u001b[0;36m1e-5\u001b[0m \u001b[0;34m,\u001b[0m \u001b[0mverbose\u001b[0m \u001b[0;34m=\u001b[0m \u001b[0;32mFalse\u001b[0m\u001b[0;34m,\u001b[0m \u001b[0mlatent\u001b[0m \u001b[0;34m=\u001b[0m \u001b[0;32mFalse\u001b[0m\u001b[0;34m)\u001b[0m\u001b[0;34m\u001b[0m\u001b[0;34m\u001b[0m\u001b[0m\n\u001b[0m",
      "\u001b[0;32m~/Public/GGLasso/gglasso/solver/single_admm_solver.py\u001b[0m in \u001b[0;36mADMM_SGL\u001b[0;34m(S, lambda1, Omega_0, Theta_0, X_0, eps_admm, rho, max_iter, verbose, measure, latent, mu1)\u001b[0m\n\u001b[1;32m     56\u001b[0m     \u001b[0;32mfor\u001b[0m \u001b[0miter_t\u001b[0m \u001b[0;32min\u001b[0m \u001b[0mnp\u001b[0m\u001b[0;34m.\u001b[0m\u001b[0marange\u001b[0m\u001b[0;34m(\u001b[0m\u001b[0mmax_iter\u001b[0m\u001b[0;34m)\u001b[0m\u001b[0;34m:\u001b[0m\u001b[0;34m\u001b[0m\u001b[0;34m\u001b[0m\u001b[0m\n\u001b[1;32m     57\u001b[0m \u001b[0;34m\u001b[0m\u001b[0m\n\u001b[0;32m---> 58\u001b[0;31m         \u001b[0meta_A\u001b[0m \u001b[0;34m=\u001b[0m \u001b[0mADMM_stopping_criterion\u001b[0m\u001b[0;34m(\u001b[0m\u001b[0mOmega_t\u001b[0m\u001b[0;34m,\u001b[0m \u001b[0mTheta_t\u001b[0m\u001b[0;34m,\u001b[0m \u001b[0mL_t\u001b[0m\u001b[0;34m,\u001b[0m \u001b[0mrho\u001b[0m\u001b[0;34m*\u001b[0m\u001b[0mX_t\u001b[0m\u001b[0;34m,\u001b[0m \u001b[0mS\u001b[0m \u001b[0;34m,\u001b[0m \u001b[0mlambda1\u001b[0m\u001b[0;34m,\u001b[0m \u001b[0mlatent\u001b[0m\u001b[0;34m,\u001b[0m \u001b[0mmu1\u001b[0m\u001b[0;34m)\u001b[0m\u001b[0;34m\u001b[0m\u001b[0;34m\u001b[0m\u001b[0m\n\u001b[0m\u001b[1;32m     59\u001b[0m         \u001b[0mkkt_residual\u001b[0m\u001b[0;34m[\u001b[0m\u001b[0miter_t\u001b[0m\u001b[0;34m]\u001b[0m \u001b[0;34m=\u001b[0m \u001b[0meta_A\u001b[0m\u001b[0;34m\u001b[0m\u001b[0;34m\u001b[0m\u001b[0m\n\u001b[1;32m     60\u001b[0m \u001b[0;34m\u001b[0m\u001b[0m\n",
      "\u001b[0;32m~/Public/GGLasso/gglasso/solver/single_admm_solver.py\u001b[0m in \u001b[0;36mADMM_stopping_criterion\u001b[0;34m(Omega, Theta, L, X, S, lambda1, latent, mu1)\u001b[0m\n\u001b[1;32m    135\u001b[0m     \u001b[0;34m(\u001b[0m\u001b[0mp\u001b[0m\u001b[0;34m,\u001b[0m\u001b[0mp\u001b[0m\u001b[0;34m)\u001b[0m \u001b[0;34m=\u001b[0m \u001b[0mS\u001b[0m\u001b[0;34m.\u001b[0m\u001b[0mshape\u001b[0m\u001b[0;34m\u001b[0m\u001b[0;34m\u001b[0m\u001b[0m\n\u001b[1;32m    136\u001b[0m \u001b[0;34m\u001b[0m\u001b[0m\n\u001b[0;32m--> 137\u001b[0;31m     \u001b[0mterm1\u001b[0m \u001b[0;34m=\u001b[0m \u001b[0mnp\u001b[0m\u001b[0;34m.\u001b[0m\u001b[0mlinalg\u001b[0m\u001b[0;34m.\u001b[0m\u001b[0mnorm\u001b[0m\u001b[0;34m(\u001b[0m\u001b[0mTheta\u001b[0m \u001b[0;34m-\u001b[0m \u001b[0mprox_od_1norm\u001b[0m\u001b[0;34m(\u001b[0m\u001b[0mTheta\u001b[0m \u001b[0;34m+\u001b[0m \u001b[0mX\u001b[0m \u001b[0;34m,\u001b[0m \u001b[0ml\u001b[0m \u001b[0;34m=\u001b[0m \u001b[0mlambda1\u001b[0m\u001b[0;34m)\u001b[0m\u001b[0;34m)\u001b[0m \u001b[0;34m/\u001b[0m \u001b[0;34m(\u001b[0m\u001b[0;36m1\u001b[0m \u001b[0;34m+\u001b[0m \u001b[0mnp\u001b[0m\u001b[0;34m.\u001b[0m\u001b[0mlinalg\u001b[0m\u001b[0;34m.\u001b[0m\u001b[0mnorm\u001b[0m\u001b[0;34m(\u001b[0m\u001b[0mTheta\u001b[0m\u001b[0;34m)\u001b[0m\u001b[0;34m)\u001b[0m\u001b[0;34m\u001b[0m\u001b[0;34m\u001b[0m\u001b[0m\n\u001b[0m\u001b[1;32m    138\u001b[0m \u001b[0;34m\u001b[0m\u001b[0m\n\u001b[1;32m    139\u001b[0m     \u001b[0mterm2\u001b[0m \u001b[0;34m=\u001b[0m \u001b[0mnp\u001b[0m\u001b[0;34m.\u001b[0m\u001b[0mlinalg\u001b[0m\u001b[0;34m.\u001b[0m\u001b[0mnorm\u001b[0m\u001b[0;34m(\u001b[0m\u001b[0mOmega\u001b[0m \u001b[0;34m-\u001b[0m \u001b[0mTheta\u001b[0m \u001b[0;34m+\u001b[0m \u001b[0mL\u001b[0m\u001b[0;34m)\u001b[0m \u001b[0;34m/\u001b[0m \u001b[0;34m(\u001b[0m\u001b[0;36m1\u001b[0m \u001b[0;34m+\u001b[0m \u001b[0mnp\u001b[0m\u001b[0;34m.\u001b[0m\u001b[0mlinalg\u001b[0m\u001b[0;34m.\u001b[0m\u001b[0mnorm\u001b[0m\u001b[0;34m(\u001b[0m\u001b[0mTheta\u001b[0m\u001b[0;34m)\u001b[0m\u001b[0;34m)\u001b[0m\u001b[0;34m\u001b[0m\u001b[0;34m\u001b[0m\u001b[0m\n",
      "\u001b[0;32m~/opt/anaconda3/envs/gglasso/lib/python3.8/site-packages/numba/core/dispatcher.py\u001b[0m in \u001b[0;36m_compile_for_args\u001b[0;34m(self, *args, **kws)\u001b[0m\n",
      "\u001b[0;32m~/opt/anaconda3/envs/gglasso/lib/python3.8/site-packages/numba/core/dispatcher.py\u001b[0m in \u001b[0;36m_compile_for_args\u001b[0;34m(self, *args, **kws)\u001b[0m\n",
      "\u001b[0;32m~/opt/anaconda3/envs/gglasso/lib/python3.8/site-packages/numba/core/compiler_lock.py\u001b[0m in \u001b[0;36m_acquire_compile_lock\u001b[0;34m(*args, **kwargs)\u001b[0m\n",
      "\u001b[0;32m~/opt/anaconda3/envs/gglasso/lib/python3.8/site-packages/numba/core/dispatcher.py\u001b[0m in \u001b[0;36mcompile\u001b[0;34m(self, sig)\u001b[0m\n",
      "\u001b[0;32m~/opt/anaconda3/envs/gglasso/lib/python3.8/site-packages/numba/core/dispatcher.py\u001b[0m in \u001b[0;36mcompile\u001b[0;34m(self, args, return_type)\u001b[0m\n",
      "\u001b[0;32m~/opt/anaconda3/envs/gglasso/lib/python3.8/site-packages/numba/core/dispatcher.py\u001b[0m in \u001b[0;36m_compile_cached\u001b[0;34m(self, args, return_type)\u001b[0m\n",
      "\u001b[0;32m~/opt/anaconda3/envs/gglasso/lib/python3.8/site-packages/numba/core/dispatcher.py\u001b[0m in \u001b[0;36m_compile_core\u001b[0;34m(self, args, return_type)\u001b[0m\n",
      "\u001b[0;32m~/opt/anaconda3/envs/gglasso/lib/python3.8/site-packages/numba/core/compiler.py\u001b[0m in \u001b[0;36mcompile_extra\u001b[0;34m(typingctx, targetctx, func, args, return_type, flags, locals, library, pipeline_class)\u001b[0m\n",
      "\u001b[0;32m~/opt/anaconda3/envs/gglasso/lib/python3.8/site-packages/numba/core/compiler.py\u001b[0m in \u001b[0;36m__init__\u001b[0;34m(self, typingctx, targetctx, library, args, return_type, flags, locals)\u001b[0m\n",
      "\u001b[0;32m~/opt/anaconda3/envs/gglasso/lib/python3.8/site-packages/numba/core/typing/context.py\u001b[0m in \u001b[0;36mrefresh\u001b[0;34m(self)\u001b[0m\n",
      "\u001b[0;32m~/opt/anaconda3/envs/gglasso/lib/python3.8/site-packages/numba/core/typing/context.py\u001b[0m in \u001b[0;36mload_additional_registries\u001b[0;34m(self)\u001b[0m\n",
      "\u001b[0;31mImportError\u001b[0m: cannot import name 'cffi_utils' from 'numba.core.typing' (/Users/oleg.vlasovetc/opt/anaconda3/envs/gglasso/lib/python3.8/site-packages/numba/core/typing/__init__.py)"
     ]
    }
   ],
   "source": [
    "sol, info = ADMM_SGL(emp_cov, lambda1, Omega_0 , eps_admm = 1e-5 , verbose = False, latent = False)"
   ]
  },
  {
   "cell_type": "markdown",
   "id": "brave-petersburg",
   "metadata": {},
   "source": [
    "# Import Regain"
   ]
  },
  {
   "cell_type": "code",
   "execution_count": 29,
   "id": "constant-nation",
   "metadata": {},
   "outputs": [],
   "source": [
    "from regain.covariance import LatentTimeGraphicalLasso"
   ]
  },
  {
   "cell_type": "code",
   "execution_count": null,
   "id": "configured-cradle",
   "metadata": {
    "scrolled": true
   },
   "outputs": [],
   "source": [
    "# p = 100\n",
    "# N = 1000\n",
    "# Sigma, Theta = group_power_network(p, K=5, M=2)\n",
    "\n",
    "# S, samples = sample_covariance_matrix(Sigma, N)\n",
    "# S = S[0,:,:]\n",
    "# Theta = Theta[0,:,:]\n",
    "# lambda1 = 0.01"
   ]
  },
  {
   "cell_type": "code",
   "execution_count": null,
   "id": "offensive-hamilton",
   "metadata": {},
   "outputs": [],
   "source": [
    "singleGL = GraphicalLasso(alpha = lambda1, tol = 1e-6, max_iter = 500, verbose = True)\n",
    "\n",
    "start = time.time()\n",
    "model = singleGL.fit(samples[0,:,:].T)\n",
    "end = time.time(); print(end-start)\n",
    " \n",
    "res_scikit = model.precision_"
   ]
  },
  {
   "cell_type": "code",
   "execution_count": null,
   "id": "ongoing-territory",
   "metadata": {},
   "outputs": [],
   "source": [
    "Omega_0 = np.eye(p)\n",
    "\n"
   ]
  }
 ],
 "metadata": {
  "kernelspec": {
   "display_name": "Python 3",
   "language": "python",
   "name": "python3"
  },
  "language_info": {
   "codemirror_mode": {
    "name": "ipython",
    "version": 3
   },
   "file_extension": ".py",
   "mimetype": "text/x-python",
   "name": "python",
   "nbconvert_exporter": "python",
   "pygments_lexer": "ipython3",
   "version": "3.8.0"
  }
 },
 "nbformat": 4,
 "nbformat_minor": 5
}
