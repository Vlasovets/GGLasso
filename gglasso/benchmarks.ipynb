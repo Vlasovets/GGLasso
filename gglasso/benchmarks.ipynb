{
 "cells": [
  {
   "cell_type": "code",
   "execution_count": 306,
   "id": "oriented-forge",
   "metadata": {},
   "outputs": [],
   "source": [
    "%matplotlib inline\n",
    "\n",
    "import sys\n",
    "import time\n",
    "import numpy as np\n",
    "import pandas as pd\n",
    "import plotly.express as px\n",
    "\n",
    "from sklearn.covariance import GraphicalLasso as sk_GL\n",
    "from sklearn.covariance import empirical_covariance\n",
    "\n",
    "sys.path.append('..')\n",
    "from gglasso.solver.single_admm_solver import ADMM_SGL\n",
    "from gglasso.solver.single_admm_solver import block_SGL\n",
    "from helper.data_generation import time_varying_power_network, group_power_network, sample_covariance_matrix\n",
    "from helper.model_selection import single_grid_search\n",
    "\n",
    "\n",
    "from regain.covariance import GraphicalLasso as rg_GL"
   ]
  },
  {
   "cell_type": "markdown",
   "id": "absent-wholesale",
   "metadata": {},
   "source": [
    "# Sampling from power networks"
   ]
  },
  {
   "cell_type": "code",
   "execution_count": 307,
   "id": "prompt-spectrum",
   "metadata": {},
   "outputs": [
    {
     "data": {
      "text/plain": [
       "(5, 100, 200)"
      ]
     },
     "execution_count": 307,
     "metadata": {},
     "output_type": "execute_result"
    }
   ],
   "source": [
    "p = 100\n",
    "N = 200\n",
    "Sigma, Theta = group_power_network(p, K=5, M=2) #Theta is true precision matrix\n",
    "\n",
    "S, samples = sample_covariance_matrix(Sigma, N)\n",
    "\n",
    "S = S[0,:,:]\n",
    "Theta = Theta[0,:,:] #true precision matrix\n",
    "\n",
    "samples.shape"
   ]
  },
  {
   "cell_type": "code",
   "execution_count": 308,
   "id": "rational-invitation",
   "metadata": {},
   "outputs": [],
   "source": [
    "lambda1 = 0.01\n",
    "Omega_0 = np.eye(p)\n",
    "\n",
    "n_iter = 50000\n",
    "tol_list = [1e-1, 1e-2, 1e-3, 1e-4, 1e-5, 1e-6, 1e-7, 1e-8]"
   ]
  },
  {
   "cell_type": "markdown",
   "id": "received-front",
   "metadata": {},
   "source": [
    "## Model solution Z"
   ]
  },
  {
   "cell_type": "code",
   "execution_count": 309,
   "id": "superb-cruise",
   "metadata": {},
   "outputs": [
    {
     "name": "stdout",
     "output_type": "stream",
     "text": [
      "00:00:00.21\n"
     ]
    }
   ],
   "source": [
    "start = time.time()\n",
    "model = rg_GL(alpha=lambda1, max_iter=n_iter, tol = 1e-10).fit(samples[0,:,:].T)\n",
    "end = time.time()\n",
    "\n",
    "hours, rem = divmod(end-start, 3600)\n",
    "minutes, seconds = divmod(rem, 60)\n",
    "Z_time = \"{:0>2}:{:0>2}:{:05.2f}\".format(int(hours),int(minutes),seconds)\n",
    "print(Z_time)"
   ]
  },
  {
   "cell_type": "code",
   "execution_count": 310,
   "id": "inside-virgin",
   "metadata": {},
   "outputs": [],
   "source": [
    "Z = model.precision_"
   ]
  },
  {
   "cell_type": "code",
   "execution_count": 311,
   "id": "asian-notion",
   "metadata": {},
   "outputs": [
    {
     "name": "stdout",
     "output_type": "stream",
     "text": [
      "ADMM terminated after 176 iterations with accuracy 4.7601370439699934e-07\n",
      "ADMM status: {'primal optimal', 'dual optimal'}\n",
      "00:00:00.41\n"
     ]
    }
   ],
   "source": [
    "start = time.time()\n",
    "sol, info = ADMM_SGL(S, lambda1, Omega_0, max_iter=n_iter, \n",
    "                     tol = 1e-10, rtol = 1e-10, stopping_criterion = \"boyd\",\n",
    "                     verbose = False, latent = False)\n",
    "end = time.time()\n",
    "\n",
    "hours, rem = divmod(end-start, 3600)\n",
    "minutes, seconds = divmod(rem, 60)\n",
    "Z_time = \"{:0>2}:{:0>2}:{:05.2f}\".format(int(hours),int(minutes),seconds)\n",
    "print(Z_time)"
   ]
  },
  {
   "cell_type": "code",
   "execution_count": 312,
   "id": "after-mathematics",
   "metadata": {},
   "outputs": [],
   "source": [
    "Z1 = sol[\"Theta\"]"
   ]
  },
  {
   "cell_type": "code",
   "execution_count": 313,
   "id": "authentic-tiger",
   "metadata": {},
   "outputs": [
    {
     "data": {
      "text/plain": [
       "0.0010338222877164305"
      ]
     },
     "execution_count": 313,
     "metadata": {},
     "output_type": "execute_result"
    }
   ],
   "source": [
    "np.linalg.norm(Z1-Z)"
   ]
  },
  {
   "cell_type": "code",
   "execution_count": 314,
   "id": "otherwise-treasurer",
   "metadata": {},
   "outputs": [],
   "source": [
    "# [1e-1, 5e-2, 25e-3, 1e-2,5e-3, 25e-4, 1e-3, 5e-4]"
   ]
  },
  {
   "cell_type": "markdown",
   "id": "hired-divorce",
   "metadata": {},
   "source": [
    "## Sklearn"
   ]
  },
  {
   "cell_type": "code",
   "execution_count": 315,
   "id": "incorrect-possible",
   "metadata": {},
   "outputs": [],
   "source": [
    "cov_list = []\n",
    "precision_list = []\n",
    "time_list = []\n",
    "for tol in tol_list:\n",
    "    start = time.time()\n",
    "    Z_n = sk_GL(alpha=lambda1, max_iter=n_iter, tol = tol).fit(samples[0,:,:].T)\n",
    "    end = time.time()\n",
    "    \n",
    "    hours, rem = divmod(end-start, 3600)\n",
    "    minutes, seconds = divmod(rem, 60)\n",
    "    time_list.append(\"{:0>2}:{:0>2}:{:05.2f}\".format(int(hours),int(minutes),seconds))\n",
    "    \n",
    "    cov_list.append(Z_n.covariance_)\n",
    "    precision_list.append(Z_n.precision_)\n",
    "    \n",
    "accuracy_list = []\n",
    "for i in range(0, len(precision_list)):\n",
    "    accuracy = np.linalg.norm(Z - np.array(precision_list[i]))\n",
    "    accuracy_list.append(accuracy)"
   ]
  },
  {
   "cell_type": "code",
   "execution_count": 316,
   "id": "dimensional-algorithm",
   "metadata": {},
   "outputs": [
    {
     "data": {
      "text/html": [
       "<div>\n",
       "<style scoped>\n",
       "    .dataframe tbody tr th:only-of-type {\n",
       "        vertical-align: middle;\n",
       "    }\n",
       "\n",
       "    .dataframe tbody tr th {\n",
       "        vertical-align: top;\n",
       "    }\n",
       "\n",
       "    .dataframe thead th {\n",
       "        text-align: right;\n",
       "    }\n",
       "</style>\n",
       "<table border=\"1\" class=\"dataframe\">\n",
       "  <thead>\n",
       "    <tr style=\"text-align: right;\">\n",
       "      <th></th>\n",
       "      <th>time</th>\n",
       "      <th>distance</th>\n",
       "      <th>method</th>\n",
       "      <th>tol_rate</th>\n",
       "      <th>str_tol</th>\n",
       "    </tr>\n",
       "  </thead>\n",
       "  <tbody>\n",
       "    <tr>\n",
       "      <th>0</th>\n",
       "      <td>00:00:00.07</td>\n",
       "      <td>0.011971</td>\n",
       "      <td>sklearn</td>\n",
       "      <td>1.000000e-01</td>\n",
       "      <td>0.1</td>\n",
       "    </tr>\n",
       "    <tr>\n",
       "      <th>1</th>\n",
       "      <td>00:00:00.06</td>\n",
       "      <td>0.001343</td>\n",
       "      <td>sklearn</td>\n",
       "      <td>1.000000e-02</td>\n",
       "      <td>0.01</td>\n",
       "    </tr>\n",
       "    <tr>\n",
       "      <th>2</th>\n",
       "      <td>00:00:00.05</td>\n",
       "      <td>0.001343</td>\n",
       "      <td>sklearn</td>\n",
       "      <td>1.000000e-03</td>\n",
       "      <td>0.001</td>\n",
       "    </tr>\n",
       "    <tr>\n",
       "      <th>3</th>\n",
       "      <td>00:00:00.08</td>\n",
       "      <td>0.001173</td>\n",
       "      <td>sklearn</td>\n",
       "      <td>1.000000e-04</td>\n",
       "      <td>0.0001</td>\n",
       "    </tr>\n",
       "    <tr>\n",
       "      <th>4</th>\n",
       "      <td>00:00:00.08</td>\n",
       "      <td>0.001173</td>\n",
       "      <td>sklearn</td>\n",
       "      <td>1.000000e-05</td>\n",
       "      <td>1e-05</td>\n",
       "    </tr>\n",
       "    <tr>\n",
       "      <th>5</th>\n",
       "      <td>00:00:00.15</td>\n",
       "      <td>0.001037</td>\n",
       "      <td>sklearn</td>\n",
       "      <td>1.000000e-06</td>\n",
       "      <td>1e-06</td>\n",
       "    </tr>\n",
       "    <tr>\n",
       "      <th>6</th>\n",
       "      <td>00:00:00.33</td>\n",
       "      <td>0.001028</td>\n",
       "      <td>sklearn</td>\n",
       "      <td>1.000000e-07</td>\n",
       "      <td>1e-07</td>\n",
       "    </tr>\n",
       "    <tr>\n",
       "      <th>7</th>\n",
       "      <td>00:00:00.45</td>\n",
       "      <td>0.001028</td>\n",
       "      <td>sklearn</td>\n",
       "      <td>1.000000e-08</td>\n",
       "      <td>1e-08</td>\n",
       "    </tr>\n",
       "  </tbody>\n",
       "</table>\n",
       "</div>"
      ],
      "text/plain": [
       "          time  distance   method      tol_rate str_tol\n",
       "0  00:00:00.07  0.011971  sklearn  1.000000e-01     0.1\n",
       "1  00:00:00.06  0.001343  sklearn  1.000000e-02    0.01\n",
       "2  00:00:00.05  0.001343  sklearn  1.000000e-03   0.001\n",
       "3  00:00:00.08  0.001173  sklearn  1.000000e-04  0.0001\n",
       "4  00:00:00.08  0.001173  sklearn  1.000000e-05   1e-05\n",
       "5  00:00:00.15  0.001037  sklearn  1.000000e-06   1e-06\n",
       "6  00:00:00.33  0.001028  sklearn  1.000000e-07   1e-07\n",
       "7  00:00:00.45  0.001028  sklearn  1.000000e-08   1e-08"
      ]
     },
     "execution_count": 316,
     "metadata": {},
     "output_type": "execute_result"
    }
   ],
   "source": [
    "str_tol = [str(x) for x in tol_list]\n",
    "method_list = [\"sklearn\"]*len(accuracy_list)\n",
    "\n",
    "df_sk = pd.DataFrame(data={'time': time_list, \n",
    "                           'distance': accuracy_list,\n",
    "                           'method': method_list,\n",
    "                           'tol_rate': tol_list,\n",
    "                            'str_tol': str_tol})\n",
    "df_sk"
   ]
  },
  {
   "cell_type": "markdown",
   "id": "allied-syria",
   "metadata": {},
   "source": [
    "## Regain"
   ]
  },
  {
   "cell_type": "code",
   "execution_count": 317,
   "id": "reduced-modem",
   "metadata": {},
   "outputs": [],
   "source": [
    "cov_list = []\n",
    "precision_list = []\n",
    "time_list = []\n",
    "for tol in tol_list:\n",
    "    start = time.time()\n",
    "    Z_n = rg_GL(alpha=lambda1, max_iter=n_iter, tol = tol, rtol = tol).fit(samples[0,:,:].T)\n",
    "    end = time.time()\n",
    "    \n",
    "    hours, rem = divmod(end-start, 3600)\n",
    "    minutes, seconds = divmod(rem, 60)\n",
    "    time_list.append(\"{:0>2}:{:0>2}:{:05.2f}\".format(int(hours),int(minutes),seconds))\n",
    "    \n",
    "    cov_list.append(Z_n.covariance_)\n",
    "    precision_list.append(Z_n.precision_)\n",
    "\n",
    "accuracy_list = []\n",
    "for i in range(0, len(precision_list)):\n",
    "    accuracy = np.linalg.norm(Z - np.array(precision_list[i]))\n",
    "    accuracy_list.append(accuracy)"
   ]
  },
  {
   "cell_type": "code",
   "execution_count": 318,
   "id": "major-symposium",
   "metadata": {},
   "outputs": [
    {
     "data": {
      "text/html": [
       "<div>\n",
       "<style scoped>\n",
       "    .dataframe tbody tr th:only-of-type {\n",
       "        vertical-align: middle;\n",
       "    }\n",
       "\n",
       "    .dataframe tbody tr th {\n",
       "        vertical-align: top;\n",
       "    }\n",
       "\n",
       "    .dataframe thead th {\n",
       "        text-align: right;\n",
       "    }\n",
       "</style>\n",
       "<table border=\"1\" class=\"dataframe\">\n",
       "  <thead>\n",
       "    <tr style=\"text-align: right;\">\n",
       "      <th></th>\n",
       "      <th>time</th>\n",
       "      <th>distance</th>\n",
       "      <th>method</th>\n",
       "      <th>tol_rate</th>\n",
       "      <th>str_tol</th>\n",
       "    </tr>\n",
       "  </thead>\n",
       "  <tbody>\n",
       "    <tr>\n",
       "      <th>0</th>\n",
       "      <td>00:00:00.02</td>\n",
       "      <td>6.982505</td>\n",
       "      <td>regain</td>\n",
       "      <td>1.000000e-01</td>\n",
       "      <td>0.1</td>\n",
       "    </tr>\n",
       "    <tr>\n",
       "      <th>1</th>\n",
       "      <td>00:00:00.02</td>\n",
       "      <td>6.982505</td>\n",
       "      <td>regain</td>\n",
       "      <td>1.000000e-02</td>\n",
       "      <td>0.01</td>\n",
       "    </tr>\n",
       "    <tr>\n",
       "      <th>2</th>\n",
       "      <td>00:00:00.06</td>\n",
       "      <td>1.188609</td>\n",
       "      <td>regain</td>\n",
       "      <td>1.000000e-03</td>\n",
       "      <td>0.001</td>\n",
       "    </tr>\n",
       "    <tr>\n",
       "      <th>3</th>\n",
       "      <td>00:00:00.08</td>\n",
       "      <td>0.106799</td>\n",
       "      <td>regain</td>\n",
       "      <td>1.000000e-04</td>\n",
       "      <td>0.0001</td>\n",
       "    </tr>\n",
       "    <tr>\n",
       "      <th>4</th>\n",
       "      <td>00:00:00.14</td>\n",
       "      <td>0.010227</td>\n",
       "      <td>regain</td>\n",
       "      <td>1.000000e-05</td>\n",
       "      <td>1e-05</td>\n",
       "    </tr>\n",
       "    <tr>\n",
       "      <th>5</th>\n",
       "      <td>00:00:00.17</td>\n",
       "      <td>0.000165</td>\n",
       "      <td>regain</td>\n",
       "      <td>1.000000e-06</td>\n",
       "      <td>1e-06</td>\n",
       "    </tr>\n",
       "    <tr>\n",
       "      <th>6</th>\n",
       "      <td>00:00:00.21</td>\n",
       "      <td>0.000918</td>\n",
       "      <td>regain</td>\n",
       "      <td>1.000000e-07</td>\n",
       "      <td>1e-07</td>\n",
       "    </tr>\n",
       "    <tr>\n",
       "      <th>7</th>\n",
       "      <td>00:00:00.25</td>\n",
       "      <td>0.001016</td>\n",
       "      <td>regain</td>\n",
       "      <td>1.000000e-08</td>\n",
       "      <td>1e-08</td>\n",
       "    </tr>\n",
       "  </tbody>\n",
       "</table>\n",
       "</div>"
      ],
      "text/plain": [
       "          time  distance  method      tol_rate str_tol\n",
       "0  00:00:00.02  6.982505  regain  1.000000e-01     0.1\n",
       "1  00:00:00.02  6.982505  regain  1.000000e-02    0.01\n",
       "2  00:00:00.06  1.188609  regain  1.000000e-03   0.001\n",
       "3  00:00:00.08  0.106799  regain  1.000000e-04  0.0001\n",
       "4  00:00:00.14  0.010227  regain  1.000000e-05   1e-05\n",
       "5  00:00:00.17  0.000165  regain  1.000000e-06   1e-06\n",
       "6  00:00:00.21  0.000918  regain  1.000000e-07   1e-07\n",
       "7  00:00:00.25  0.001016  regain  1.000000e-08   1e-08"
      ]
     },
     "execution_count": 318,
     "metadata": {},
     "output_type": "execute_result"
    }
   ],
   "source": [
    "str_tol = [str(x) for x in tol_list]\n",
    "method_list = [\"regain\"]*len(accuracy_list)\n",
    "\n",
    "df_rg = pd.DataFrame(data={'time': time_list, \n",
    "                           'distance': accuracy_list,\n",
    "                           'method': method_list,\n",
    "                           'tol_rate': tol_list,\n",
    "                            'str_tol': str_tol})\n",
    "df_rg"
   ]
  },
  {
   "cell_type": "markdown",
   "id": "determined-poison",
   "metadata": {},
   "source": [
    "## ADMM "
   ]
  },
  {
   "cell_type": "markdown",
   "id": "creative-thong",
   "metadata": {},
   "source": [
    "We run the algorithm 2 times because on the first iteration time costly numba initialization happens."
   ]
  },
  {
   "cell_type": "code",
   "execution_count": 319,
   "id": "bibliographic-dining",
   "metadata": {},
   "outputs": [
    {
     "name": "stdout",
     "output_type": "stream",
     "text": [
      "ADMM terminated after 1 iterations with accuracy 2.626743753886294\n",
      "ADMM status: {'primal optimal', 'dual optimal'}\n",
      "ADMM terminated after 1 iterations with accuracy 2.626743753886294\n",
      "ADMM status: {'primal optimal', 'dual optimal'}\n",
      "ADMM terminated after 1 iterations with accuracy 2.626743753886294\n",
      "ADMM status: {'primal optimal', 'dual optimal'}\n",
      "ADMM terminated after 8 iterations with accuracy 0.4452724731385852\n",
      "ADMM status: {'primal optimal', 'dual optimal'}\n",
      "ADMM terminated after 28 iterations with accuracy 0.0494413429160997\n",
      "ADMM status: {'primal optimal', 'dual optimal'}\n",
      "ADMM terminated after 56 iterations with accuracy 0.004783179246036787\n",
      "ADMM status: {'primal optimal', 'dual optimal'}\n",
      "ADMM terminated after 85 iterations with accuracy 0.0004928442712129888\n",
      "ADMM status: {'primal optimal', 'dual optimal'}\n",
      "ADMM terminated after 115 iterations with accuracy 4.916706498800297e-05\n",
      "ADMM status: {'primal optimal', 'dual optimal'}\n",
      "ADMM terminated after 1 iterations with accuracy 2.626743753886294\n",
      "ADMM status: {'primal optimal', 'dual optimal'}\n",
      "ADMM terminated after 1 iterations with accuracy 2.626743753886294\n",
      "ADMM status: {'primal optimal', 'dual optimal'}\n",
      "ADMM terminated after 1 iterations with accuracy 2.626743753886294\n",
      "ADMM status: {'primal optimal', 'dual optimal'}\n",
      "ADMM terminated after 8 iterations with accuracy 0.4452724731385852\n",
      "ADMM status: {'primal optimal', 'dual optimal'}\n",
      "ADMM terminated after 28 iterations with accuracy 0.0494413429160997\n",
      "ADMM status: {'primal optimal', 'dual optimal'}\n",
      "ADMM terminated after 56 iterations with accuracy 0.004783179246036787\n",
      "ADMM status: {'primal optimal', 'dual optimal'}\n",
      "ADMM terminated after 85 iterations with accuracy 0.0004928442712129888\n",
      "ADMM status: {'primal optimal', 'dual optimal'}\n",
      "ADMM terminated after 115 iterations with accuracy 4.916706498800297e-05\n",
      "ADMM status: {'primal optimal', 'dual optimal'}\n"
     ]
    }
   ],
   "source": [
    "for i in [0,1]:\n",
    "    cov_list = []\n",
    "    precision_list = []\n",
    "    time_list = []\n",
    "    for tol in tol_list:\n",
    "        start = time.time()\n",
    "        sol, info = ADMM_SGL(S, lambda1, Omega_0, max_iter=n_iter, tol = tol, rtol = tol, stopping_criterion = \"boyd\",\n",
    "                             verbose = False, latent = False)\n",
    "        end = time.time()\n",
    "\n",
    "        hours, rem = divmod(end-start, 3600)\n",
    "        minutes, seconds = divmod(rem, 60)\n",
    "        time_list.append(\"{:0>2}:{:0>2}:{:05.2f}\".format(int(hours),int(minutes),seconds))\n",
    "\n",
    "        cov_list.append(sol['Omega'])\n",
    "        precision_list.append(sol['Theta'])\n",
    "\n",
    "    accuracy_list = []\n",
    "    for i in range(0, len(precision_list)):\n",
    "        accuracy = np.linalg.norm(Z - np.array(precision_list[i]))\n",
    "        accuracy_list.append(accuracy)"
   ]
  },
  {
   "cell_type": "code",
   "execution_count": 320,
   "id": "narrative-candidate",
   "metadata": {},
   "outputs": [
    {
     "data": {
      "text/html": [
       "<div>\n",
       "<style scoped>\n",
       "    .dataframe tbody tr th:only-of-type {\n",
       "        vertical-align: middle;\n",
       "    }\n",
       "\n",
       "    .dataframe tbody tr th {\n",
       "        vertical-align: top;\n",
       "    }\n",
       "\n",
       "    .dataframe thead th {\n",
       "        text-align: right;\n",
       "    }\n",
       "</style>\n",
       "<table border=\"1\" class=\"dataframe\">\n",
       "  <thead>\n",
       "    <tr style=\"text-align: right;\">\n",
       "      <th></th>\n",
       "      <th>time</th>\n",
       "      <th>distance</th>\n",
       "      <th>method</th>\n",
       "      <th>tol_rate</th>\n",
       "      <th>str_tol</th>\n",
       "    </tr>\n",
       "  </thead>\n",
       "  <tbody>\n",
       "    <tr>\n",
       "      <th>0</th>\n",
       "      <td>00:00:00.01</td>\n",
       "      <td>9.607049</td>\n",
       "      <td>admm</td>\n",
       "      <td>1.000000e-01</td>\n",
       "      <td>0.1</td>\n",
       "    </tr>\n",
       "    <tr>\n",
       "      <th>1</th>\n",
       "      <td>00:00:00.00</td>\n",
       "      <td>9.607049</td>\n",
       "      <td>admm</td>\n",
       "      <td>1.000000e-02</td>\n",
       "      <td>0.01</td>\n",
       "    </tr>\n",
       "    <tr>\n",
       "      <th>2</th>\n",
       "      <td>00:00:00.00</td>\n",
       "      <td>9.607049</td>\n",
       "      <td>admm</td>\n",
       "      <td>1.000000e-03</td>\n",
       "      <td>0.001</td>\n",
       "    </tr>\n",
       "    <tr>\n",
       "      <th>3</th>\n",
       "      <td>00:00:00.02</td>\n",
       "      <td>3.590272</td>\n",
       "      <td>admm</td>\n",
       "      <td>1.000000e-04</td>\n",
       "      <td>0.0001</td>\n",
       "    </tr>\n",
       "    <tr>\n",
       "      <th>4</th>\n",
       "      <td>00:00:00.06</td>\n",
       "      <td>0.558221</td>\n",
       "      <td>admm</td>\n",
       "      <td>1.000000e-05</td>\n",
       "      <td>1e-05</td>\n",
       "    </tr>\n",
       "    <tr>\n",
       "      <th>5</th>\n",
       "      <td>00:00:00.14</td>\n",
       "      <td>0.059364</td>\n",
       "      <td>admm</td>\n",
       "      <td>1.000000e-06</td>\n",
       "      <td>1e-06</td>\n",
       "    </tr>\n",
       "    <tr>\n",
       "      <th>6</th>\n",
       "      <td>00:00:00.22</td>\n",
       "      <td>0.007172</td>\n",
       "      <td>admm</td>\n",
       "      <td>1.000000e-07</td>\n",
       "      <td>1e-07</td>\n",
       "    </tr>\n",
       "    <tr>\n",
       "      <th>7</th>\n",
       "      <td>00:00:00.31</td>\n",
       "      <td>0.001644</td>\n",
       "      <td>admm</td>\n",
       "      <td>1.000000e-08</td>\n",
       "      <td>1e-08</td>\n",
       "    </tr>\n",
       "  </tbody>\n",
       "</table>\n",
       "</div>"
      ],
      "text/plain": [
       "          time  distance method      tol_rate str_tol\n",
       "0  00:00:00.01  9.607049   admm  1.000000e-01     0.1\n",
       "1  00:00:00.00  9.607049   admm  1.000000e-02    0.01\n",
       "2  00:00:00.00  9.607049   admm  1.000000e-03   0.001\n",
       "3  00:00:00.02  3.590272   admm  1.000000e-04  0.0001\n",
       "4  00:00:00.06  0.558221   admm  1.000000e-05   1e-05\n",
       "5  00:00:00.14  0.059364   admm  1.000000e-06   1e-06\n",
       "6  00:00:00.22  0.007172   admm  1.000000e-07   1e-07\n",
       "7  00:00:00.31  0.001644   admm  1.000000e-08   1e-08"
      ]
     },
     "execution_count": 320,
     "metadata": {},
     "output_type": "execute_result"
    }
   ],
   "source": [
    "str_tol = [str(x) for x in tol_list]\n",
    "method_list = [\"admm\"]*len(accuracy_list)\n",
    "\n",
    "df_admm = pd.DataFrame(data={'time': time_list, \n",
    "                           'distance': accuracy_list,\n",
    "                           'method': method_list,\n",
    "                           'tol_rate': tol_list,\n",
    "                            'str_tol': str_tol})\n",
    "df_admm"
   ]
  },
  {
   "cell_type": "markdown",
   "id": "contained-trinidad",
   "metadata": {},
   "source": [
    "## kkt_ADMM"
   ]
  },
  {
   "cell_type": "markdown",
   "id": "multiple-craft",
   "metadata": {},
   "source": [
    "We run the algorithm 2 times because on the first iteration time costly numba initialization happens."
   ]
  },
  {
   "cell_type": "code",
   "execution_count": 321,
   "id": "useful-olive",
   "metadata": {},
   "outputs": [
    {
     "name": "stdout",
     "output_type": "stream",
     "text": [
      "ADMM is only {'primal and dual optimal'}\n",
      "Try to change the tolerance value 0.1\n",
      "ADMM terminated after 2 iterations with accuracy 0.09435681699767277\n",
      "ADMM status: {'primal and dual optimal'}\n",
      "ADMM is only {'primal and dual optimal'}\n",
      "Try to change the tolerance value 0.01\n",
      "ADMM terminated after 14 iterations with accuracy 0.009754336202586257\n",
      "ADMM status: {'primal and dual optimal'}\n",
      "ADMM is only {'primal and dual optimal'}\n",
      "Try to change the tolerance value 0.001\n",
      "ADMM terminated after 38 iterations with accuracy 0.0009699014638720622\n",
      "ADMM status: {'primal and dual optimal'}\n",
      "ADMM is only {'primal and dual optimal'}\n",
      "Try to change the tolerance value 0.0001\n",
      "ADMM terminated after 67 iterations with accuracy 9.32258353556232e-05\n",
      "ADMM status: {'primal and dual optimal'}\n",
      "ADMM is only {'primal and dual optimal'}\n",
      "Try to change the tolerance value 1e-05\n",
      "ADMM terminated after 96 iterations with accuracy 9.822358674532827e-06\n",
      "ADMM status: {'primal and dual optimal'}\n",
      "ADMM is only {'primal and dual optimal'}\n",
      "Try to change the tolerance value 1e-06\n",
      "ADMM terminated after 126 iterations with accuracy 9.890488814120806e-07\n",
      "ADMM status: {'primal and dual optimal'}\n",
      "ADMM is only {'primal and dual optimal'}\n",
      "Try to change the tolerance value 1e-07\n",
      "ADMM terminated after 157 iterations with accuracy 9.366073966577627e-08\n",
      "ADMM status: {'primal and dual optimal'}\n",
      "ADMM is only {'primal and dual optimal'}\n",
      "Try to change the tolerance value 1e-08\n",
      "ADMM terminated after 187 iterations with accuracy 9.647976496564703e-09\n",
      "ADMM status: {'primal and dual optimal'}\n",
      "ADMM is only {'primal and dual optimal'}\n",
      "Try to change the tolerance value 0.1\n",
      "ADMM terminated after 2 iterations with accuracy 0.09435681699767277\n",
      "ADMM status: {'primal and dual optimal'}\n",
      "ADMM is only {'primal and dual optimal'}\n",
      "Try to change the tolerance value 0.01\n",
      "ADMM terminated after 14 iterations with accuracy 0.009754336202586257\n",
      "ADMM status: {'primal and dual optimal'}\n",
      "ADMM is only {'primal and dual optimal'}\n",
      "Try to change the tolerance value 0.001\n",
      "ADMM terminated after 38 iterations with accuracy 0.0009699014638720622\n",
      "ADMM status: {'primal and dual optimal'}\n",
      "ADMM is only {'primal and dual optimal'}\n",
      "Try to change the tolerance value 0.0001\n",
      "ADMM terminated after 67 iterations with accuracy 9.32258353556232e-05\n",
      "ADMM status: {'primal and dual optimal'}\n",
      "ADMM is only {'primal and dual optimal'}\n",
      "Try to change the tolerance value 1e-05\n",
      "ADMM terminated after 96 iterations with accuracy 9.822358674532827e-06\n",
      "ADMM status: {'primal and dual optimal'}\n",
      "ADMM is only {'primal and dual optimal'}\n",
      "Try to change the tolerance value 1e-06\n",
      "ADMM terminated after 126 iterations with accuracy 9.890488814120806e-07\n",
      "ADMM status: {'primal and dual optimal'}\n",
      "ADMM is only {'primal and dual optimal'}\n",
      "Try to change the tolerance value 1e-07\n",
      "ADMM terminated after 157 iterations with accuracy 9.366073966577627e-08\n",
      "ADMM status: {'primal and dual optimal'}\n",
      "ADMM is only {'primal and dual optimal'}\n",
      "Try to change the tolerance value 1e-08\n",
      "ADMM terminated after 187 iterations with accuracy 9.647976496564703e-09\n",
      "ADMM status: {'primal and dual optimal'}\n"
     ]
    }
   ],
   "source": [
    "for i in [0,1]:\n",
    "    cov_list = []\n",
    "    precision_list = []\n",
    "    time_list = []\n",
    "    for tol in tol_list:\n",
    "        start = time.time()\n",
    "        sol, info = ADMM_SGL(S, lambda1, Omega_0, max_iter=n_iter, tol = tol, stopping_criterion = \"kkt\",\n",
    "                             verbose = False, latent = False)\n",
    "        end = time.time()\n",
    "\n",
    "        hours, rem = divmod(end-start, 3600)\n",
    "        minutes, seconds = divmod(rem, 60)\n",
    "        time_list.append(\"{:0>2}:{:0>2}:{:05.2f}\".format(int(hours),int(minutes),seconds))\n",
    "\n",
    "        cov_list.append(sol['Omega'])\n",
    "        precision_list.append(sol['Theta'])\n",
    "\n",
    "    accuracy_list = []\n",
    "    for i in range(0, len(precision_list)):\n",
    "        accuracy = np.linalg.norm(Z - np.array(precision_list[i]))\n",
    "        accuracy_list.append(accuracy)"
   ]
  },
  {
   "cell_type": "code",
   "execution_count": 322,
   "id": "serious-large",
   "metadata": {},
   "outputs": [
    {
     "data": {
      "text/html": [
       "<div>\n",
       "<style scoped>\n",
       "    .dataframe tbody tr th:only-of-type {\n",
       "        vertical-align: middle;\n",
       "    }\n",
       "\n",
       "    .dataframe tbody tr th {\n",
       "        vertical-align: top;\n",
       "    }\n",
       "\n",
       "    .dataframe thead th {\n",
       "        text-align: right;\n",
       "    }\n",
       "</style>\n",
       "<table border=\"1\" class=\"dataframe\">\n",
       "  <thead>\n",
       "    <tr style=\"text-align: right;\">\n",
       "      <th></th>\n",
       "      <th>time</th>\n",
       "      <th>distance</th>\n",
       "      <th>method</th>\n",
       "      <th>tol_rate</th>\n",
       "      <th>str_tol</th>\n",
       "    </tr>\n",
       "  </thead>\n",
       "  <tbody>\n",
       "    <tr>\n",
       "      <th>0</th>\n",
       "      <td>00:00:00.01</td>\n",
       "      <td>7.971542</td>\n",
       "      <td>kkt_admm</td>\n",
       "      <td>1.000000e-01</td>\n",
       "      <td>0.1</td>\n",
       "    </tr>\n",
       "    <tr>\n",
       "      <th>1</th>\n",
       "      <td>00:00:00.07</td>\n",
       "      <td>1.935066</td>\n",
       "      <td>kkt_admm</td>\n",
       "      <td>1.000000e-02</td>\n",
       "      <td>0.01</td>\n",
       "    </tr>\n",
       "    <tr>\n",
       "      <th>2</th>\n",
       "      <td>00:00:00.20</td>\n",
       "      <td>0.245395</td>\n",
       "      <td>kkt_admm</td>\n",
       "      <td>1.000000e-03</td>\n",
       "      <td>0.001</td>\n",
       "    </tr>\n",
       "    <tr>\n",
       "      <th>3</th>\n",
       "      <td>00:00:00.35</td>\n",
       "      <td>0.025737</td>\n",
       "      <td>kkt_admm</td>\n",
       "      <td>1.000000e-04</td>\n",
       "      <td>0.0001</td>\n",
       "    </tr>\n",
       "    <tr>\n",
       "      <th>4</th>\n",
       "      <td>00:00:00.38</td>\n",
       "      <td>0.003667</td>\n",
       "      <td>kkt_admm</td>\n",
       "      <td>1.000000e-05</td>\n",
       "      <td>1e-05</td>\n",
       "    </tr>\n",
       "    <tr>\n",
       "      <th>5</th>\n",
       "      <td>00:00:00.61</td>\n",
       "      <td>0.001294</td>\n",
       "      <td>kkt_admm</td>\n",
       "      <td>1.000000e-06</td>\n",
       "      <td>1e-06</td>\n",
       "    </tr>\n",
       "    <tr>\n",
       "      <th>6</th>\n",
       "      <td>00:00:00.71</td>\n",
       "      <td>0.001053</td>\n",
       "      <td>kkt_admm</td>\n",
       "      <td>1.000000e-07</td>\n",
       "      <td>1e-07</td>\n",
       "    </tr>\n",
       "    <tr>\n",
       "      <th>7</th>\n",
       "      <td>00:00:00.78</td>\n",
       "      <td>0.001030</td>\n",
       "      <td>kkt_admm</td>\n",
       "      <td>1.000000e-08</td>\n",
       "      <td>1e-08</td>\n",
       "    </tr>\n",
       "  </tbody>\n",
       "</table>\n",
       "</div>"
      ],
      "text/plain": [
       "          time  distance    method      tol_rate str_tol\n",
       "0  00:00:00.01  7.971542  kkt_admm  1.000000e-01     0.1\n",
       "1  00:00:00.07  1.935066  kkt_admm  1.000000e-02    0.01\n",
       "2  00:00:00.20  0.245395  kkt_admm  1.000000e-03   0.001\n",
       "3  00:00:00.35  0.025737  kkt_admm  1.000000e-04  0.0001\n",
       "4  00:00:00.38  0.003667  kkt_admm  1.000000e-05   1e-05\n",
       "5  00:00:00.61  0.001294  kkt_admm  1.000000e-06   1e-06\n",
       "6  00:00:00.71  0.001053  kkt_admm  1.000000e-07   1e-07\n",
       "7  00:00:00.78  0.001030  kkt_admm  1.000000e-08   1e-08"
      ]
     },
     "execution_count": 322,
     "metadata": {},
     "output_type": "execute_result"
    }
   ],
   "source": [
    "str_tol = [str(x) for x in tol_list]\n",
    "method_list = [\"kkt_admm\"]*len(accuracy_list)\n",
    "\n",
    "df_kkt = pd.DataFrame(data={'time': time_list, \n",
    "                           'distance': accuracy_list,\n",
    "                           'method': method_list,\n",
    "                           'tol_rate': tol_list,\n",
    "                            'str_tol': str_tol})\n",
    "df_kkt"
   ]
  },
  {
   "cell_type": "markdown",
   "id": "intended-expert",
   "metadata": {},
   "source": [
    "## Block ADMM"
   ]
  },
  {
   "cell_type": "code",
   "execution_count": 323,
   "id": "legal-repeat",
   "metadata": {},
   "outputs": [
    {
     "name": "stdout",
     "output_type": "stream",
     "text": [
      "ADMM terminated after 1 iterations with accuracy 2.626743753886294\n",
      "ADMM status: {'primal optimal', 'dual optimal'}\n",
      "ADMM terminated after 1 iterations with accuracy 2.626743753886294\n",
      "ADMM status: {'primal optimal', 'dual optimal'}\n",
      "ADMM terminated after 1 iterations with accuracy 2.626743753886294\n",
      "ADMM status: {'primal optimal', 'dual optimal'}\n",
      "ADMM terminated after 8 iterations with accuracy 0.4452724731385852\n",
      "ADMM status: {'primal optimal', 'dual optimal'}\n",
      "ADMM terminated after 28 iterations with accuracy 0.0494413429160997\n",
      "ADMM status: {'primal optimal', 'dual optimal'}\n",
      "ADMM terminated after 56 iterations with accuracy 0.004783179246036787\n",
      "ADMM status: {'primal optimal', 'dual optimal'}\n",
      "ADMM terminated after 85 iterations with accuracy 0.0004928442712129888\n",
      "ADMM status: {'primal optimal', 'dual optimal'}\n",
      "ADMM terminated after 115 iterations with accuracy 4.916706498800297e-05\n",
      "ADMM status: {'primal optimal', 'dual optimal'}\n",
      "ADMM terminated after 1 iterations with accuracy 2.626743753886294\n",
      "ADMM status: {'primal optimal', 'dual optimal'}\n",
      "ADMM terminated after 1 iterations with accuracy 2.626743753886294\n",
      "ADMM status: {'primal optimal', 'dual optimal'}\n",
      "ADMM terminated after 1 iterations with accuracy 2.626743753886294\n",
      "ADMM status: {'primal optimal', 'dual optimal'}\n",
      "ADMM terminated after 8 iterations with accuracy 0.4452724731385852\n",
      "ADMM status: {'primal optimal', 'dual optimal'}\n",
      "ADMM terminated after 28 iterations with accuracy 0.0494413429160997\n",
      "ADMM status: {'primal optimal', 'dual optimal'}\n",
      "ADMM terminated after 56 iterations with accuracy 0.004783179246036787\n",
      "ADMM status: {'primal optimal', 'dual optimal'}\n",
      "ADMM terminated after 85 iterations with accuracy 0.0004928442712129888\n",
      "ADMM status: {'primal optimal', 'dual optimal'}\n",
      "ADMM terminated after 115 iterations with accuracy 4.916706498800297e-05\n",
      "ADMM status: {'primal optimal', 'dual optimal'}\n"
     ]
    }
   ],
   "source": [
    "for i in [0,1]:\n",
    "    cov_list = []\n",
    "    precision_list = []\n",
    "    time_list = []\n",
    "    for tol in tol_list:\n",
    "        start = time.time()\n",
    "        sol = block_SGL(S, lambda1, Omega_0, max_iter=n_iter, tol = tol, rtol = tol, stopping_criterion = \"boyd\",\n",
    "                             verbose = False)\n",
    "        end = time.time()\n",
    "\n",
    "        hours, rem = divmod(end-start, 3600)\n",
    "        minutes, seconds = divmod(rem, 60)\n",
    "        time_list.append(\"{:0>2}:{:0>2}:{:05.2f}\".format(int(hours),int(minutes),seconds))\n",
    "\n",
    "        cov_list.append(sol['Omega'])\n",
    "        precision_list.append(sol['Theta'])\n",
    "\n",
    "    accuracy_list = []\n",
    "    for i in range(0, len(precision_list)):\n",
    "        accuracy = np.linalg.norm(Z - np.array(precision_list[i]))\n",
    "        accuracy_list.append(accuracy)"
   ]
  },
  {
   "cell_type": "code",
   "execution_count": 324,
   "id": "instant-rehabilitation",
   "metadata": {},
   "outputs": [
    {
     "data": {
      "text/html": [
       "<div>\n",
       "<style scoped>\n",
       "    .dataframe tbody tr th:only-of-type {\n",
       "        vertical-align: middle;\n",
       "    }\n",
       "\n",
       "    .dataframe tbody tr th {\n",
       "        vertical-align: top;\n",
       "    }\n",
       "\n",
       "    .dataframe thead th {\n",
       "        text-align: right;\n",
       "    }\n",
       "</style>\n",
       "<table border=\"1\" class=\"dataframe\">\n",
       "  <thead>\n",
       "    <tr style=\"text-align: right;\">\n",
       "      <th></th>\n",
       "      <th>time</th>\n",
       "      <th>distance</th>\n",
       "      <th>method</th>\n",
       "      <th>tol_rate</th>\n",
       "      <th>str_tol</th>\n",
       "    </tr>\n",
       "  </thead>\n",
       "  <tbody>\n",
       "    <tr>\n",
       "      <th>0</th>\n",
       "      <td>00:00:00.01</td>\n",
       "      <td>9.607049</td>\n",
       "      <td>block_admm</td>\n",
       "      <td>1.000000e-01</td>\n",
       "      <td>0.1</td>\n",
       "    </tr>\n",
       "    <tr>\n",
       "      <th>1</th>\n",
       "      <td>00:00:00.01</td>\n",
       "      <td>9.607049</td>\n",
       "      <td>block_admm</td>\n",
       "      <td>1.000000e-02</td>\n",
       "      <td>0.01</td>\n",
       "    </tr>\n",
       "    <tr>\n",
       "      <th>2</th>\n",
       "      <td>00:00:00.01</td>\n",
       "      <td>9.607049</td>\n",
       "      <td>block_admm</td>\n",
       "      <td>1.000000e-03</td>\n",
       "      <td>0.001</td>\n",
       "    </tr>\n",
       "    <tr>\n",
       "      <th>3</th>\n",
       "      <td>00:00:00.02</td>\n",
       "      <td>3.590272</td>\n",
       "      <td>block_admm</td>\n",
       "      <td>1.000000e-04</td>\n",
       "      <td>0.0001</td>\n",
       "    </tr>\n",
       "    <tr>\n",
       "      <th>4</th>\n",
       "      <td>00:00:00.09</td>\n",
       "      <td>0.558221</td>\n",
       "      <td>block_admm</td>\n",
       "      <td>1.000000e-05</td>\n",
       "      <td>1e-05</td>\n",
       "    </tr>\n",
       "    <tr>\n",
       "      <th>5</th>\n",
       "      <td>00:00:00.16</td>\n",
       "      <td>0.059364</td>\n",
       "      <td>block_admm</td>\n",
       "      <td>1.000000e-06</td>\n",
       "      <td>1e-06</td>\n",
       "    </tr>\n",
       "    <tr>\n",
       "      <th>6</th>\n",
       "      <td>00:00:00.21</td>\n",
       "      <td>0.007172</td>\n",
       "      <td>block_admm</td>\n",
       "      <td>1.000000e-07</td>\n",
       "      <td>1e-07</td>\n",
       "    </tr>\n",
       "    <tr>\n",
       "      <th>7</th>\n",
       "      <td>00:00:00.30</td>\n",
       "      <td>0.001644</td>\n",
       "      <td>block_admm</td>\n",
       "      <td>1.000000e-08</td>\n",
       "      <td>1e-08</td>\n",
       "    </tr>\n",
       "  </tbody>\n",
       "</table>\n",
       "</div>"
      ],
      "text/plain": [
       "          time  distance      method      tol_rate str_tol\n",
       "0  00:00:00.01  9.607049  block_admm  1.000000e-01     0.1\n",
       "1  00:00:00.01  9.607049  block_admm  1.000000e-02    0.01\n",
       "2  00:00:00.01  9.607049  block_admm  1.000000e-03   0.001\n",
       "3  00:00:00.02  3.590272  block_admm  1.000000e-04  0.0001\n",
       "4  00:00:00.09  0.558221  block_admm  1.000000e-05   1e-05\n",
       "5  00:00:00.16  0.059364  block_admm  1.000000e-06   1e-06\n",
       "6  00:00:00.21  0.007172  block_admm  1.000000e-07   1e-07\n",
       "7  00:00:00.30  0.001644  block_admm  1.000000e-08   1e-08"
      ]
     },
     "execution_count": 324,
     "metadata": {},
     "output_type": "execute_result"
    }
   ],
   "source": [
    "str_tol = [str(x) for x in tol_list]\n",
    "method_list = [\"block_admm\"]*len(accuracy_list)\n",
    "\n",
    "df_block = pd.DataFrame(data={'time': time_list, \n",
    "                           'distance': accuracy_list,\n",
    "                           'method': method_list,\n",
    "                           'tol_rate': tol_list,\n",
    "                            'str_tol': str_tol})\n",
    "df_block"
   ]
  },
  {
   "cell_type": "markdown",
   "id": "funky-excess",
   "metadata": {},
   "source": [
    "## Block kkt_ADMM"
   ]
  },
  {
   "cell_type": "code",
   "execution_count": 325,
   "id": "sunset-gather",
   "metadata": {},
   "outputs": [
    {
     "name": "stdout",
     "output_type": "stream",
     "text": [
      "ADMM is only {'primal and dual optimal'}\n",
      "Try to change the tolerance value 0.1\n",
      "ADMM terminated after 2 iterations with accuracy 0.09435681699767277\n",
      "ADMM status: {'primal and dual optimal'}\n",
      "ADMM is only {'primal and dual optimal'}\n",
      "Try to change the tolerance value 0.01\n",
      "ADMM terminated after 14 iterations with accuracy 0.009754336202586257\n",
      "ADMM status: {'primal and dual optimal'}\n",
      "ADMM is only {'primal and dual optimal'}\n",
      "Try to change the tolerance value 0.001\n",
      "ADMM terminated after 38 iterations with accuracy 0.0009699014638720622\n",
      "ADMM status: {'primal and dual optimal'}\n",
      "ADMM is only {'primal and dual optimal'}\n",
      "Try to change the tolerance value 0.0001\n",
      "ADMM terminated after 67 iterations with accuracy 9.32258353556232e-05\n",
      "ADMM status: {'primal and dual optimal'}\n",
      "ADMM is only {'primal and dual optimal'}\n",
      "Try to change the tolerance value 1e-05\n",
      "ADMM terminated after 96 iterations with accuracy 9.822358674532827e-06\n",
      "ADMM status: {'primal and dual optimal'}\n",
      "ADMM is only {'primal and dual optimal'}\n",
      "Try to change the tolerance value 1e-06\n",
      "ADMM terminated after 126 iterations with accuracy 9.890488814120806e-07\n",
      "ADMM status: {'primal and dual optimal'}\n",
      "ADMM is only {'primal and dual optimal'}\n",
      "Try to change the tolerance value 1e-07\n",
      "ADMM terminated after 157 iterations with accuracy 9.366073966577627e-08\n",
      "ADMM status: {'primal and dual optimal'}\n",
      "ADMM is only {'primal and dual optimal'}\n",
      "Try to change the tolerance value 1e-08\n",
      "ADMM terminated after 187 iterations with accuracy 9.647976496564703e-09\n",
      "ADMM status: {'primal and dual optimal'}\n",
      "ADMM is only {'primal and dual optimal'}\n",
      "Try to change the tolerance value 0.1\n",
      "ADMM terminated after 2 iterations with accuracy 0.09435681699767277\n",
      "ADMM status: {'primal and dual optimal'}\n",
      "ADMM is only {'primal and dual optimal'}\n",
      "Try to change the tolerance value 0.01\n",
      "ADMM terminated after 14 iterations with accuracy 0.009754336202586257\n",
      "ADMM status: {'primal and dual optimal'}\n",
      "ADMM is only {'primal and dual optimal'}\n",
      "Try to change the tolerance value 0.001\n",
      "ADMM terminated after 38 iterations with accuracy 0.0009699014638720622\n",
      "ADMM status: {'primal and dual optimal'}\n",
      "ADMM is only {'primal and dual optimal'}\n",
      "Try to change the tolerance value 0.0001\n",
      "ADMM terminated after 67 iterations with accuracy 9.32258353556232e-05\n",
      "ADMM status: {'primal and dual optimal'}\n",
      "ADMM is only {'primal and dual optimal'}\n",
      "Try to change the tolerance value 1e-05\n",
      "ADMM terminated after 96 iterations with accuracy 9.822358674532827e-06\n",
      "ADMM status: {'primal and dual optimal'}\n",
      "ADMM is only {'primal and dual optimal'}\n",
      "Try to change the tolerance value 1e-06\n",
      "ADMM terminated after 126 iterations with accuracy 9.890488814120806e-07\n",
      "ADMM status: {'primal and dual optimal'}\n",
      "ADMM is only {'primal and dual optimal'}\n",
      "Try to change the tolerance value 1e-07\n",
      "ADMM terminated after 157 iterations with accuracy 9.366073966577627e-08\n",
      "ADMM status: {'primal and dual optimal'}\n",
      "ADMM is only {'primal and dual optimal'}\n",
      "Try to change the tolerance value 1e-08\n",
      "ADMM terminated after 187 iterations with accuracy 9.647976496564703e-09\n",
      "ADMM status: {'primal and dual optimal'}\n"
     ]
    }
   ],
   "source": [
    "for i in [0,1]:\n",
    "    cov_list = []\n",
    "    precision_list = []\n",
    "    time_list = []\n",
    "    for tol in tol_list:\n",
    "        start = time.time()\n",
    "        sol = block_SGL(S, lambda1, Omega_0, max_iter=n_iter, tol = tol, stopping_criterion = \"kkt\",\n",
    "                             verbose = False)\n",
    "        end = time.time()\n",
    "\n",
    "        hours, rem = divmod(end-start, 3600)\n",
    "        minutes, seconds = divmod(rem, 60)\n",
    "        time_list.append(\"{:0>2}:{:0>2}:{:05.2f}\".format(int(hours),int(minutes),seconds))\n",
    "\n",
    "        cov_list.append(sol['Omega'])\n",
    "        precision_list.append(sol['Theta'])\n",
    "\n",
    "    accuracy_list = []\n",
    "    for i in range(0, len(precision_list)):\n",
    "        accuracy = np.linalg.norm(Z - np.array(precision_list[i]))\n",
    "        accuracy_list.append(accuracy)"
   ]
  },
  {
   "cell_type": "code",
   "execution_count": 326,
   "id": "visible-contamination",
   "metadata": {},
   "outputs": [
    {
     "data": {
      "text/html": [
       "<div>\n",
       "<style scoped>\n",
       "    .dataframe tbody tr th:only-of-type {\n",
       "        vertical-align: middle;\n",
       "    }\n",
       "\n",
       "    .dataframe tbody tr th {\n",
       "        vertical-align: top;\n",
       "    }\n",
       "\n",
       "    .dataframe thead th {\n",
       "        text-align: right;\n",
       "    }\n",
       "</style>\n",
       "<table border=\"1\" class=\"dataframe\">\n",
       "  <thead>\n",
       "    <tr style=\"text-align: right;\">\n",
       "      <th></th>\n",
       "      <th>time</th>\n",
       "      <th>distance</th>\n",
       "      <th>method</th>\n",
       "      <th>tol_rate</th>\n",
       "      <th>str_tol</th>\n",
       "    </tr>\n",
       "  </thead>\n",
       "  <tbody>\n",
       "    <tr>\n",
       "      <th>0</th>\n",
       "      <td>00:00:00.02</td>\n",
       "      <td>7.971542</td>\n",
       "      <td>kkt_block_admm</td>\n",
       "      <td>1.000000e-01</td>\n",
       "      <td>0.1</td>\n",
       "    </tr>\n",
       "    <tr>\n",
       "      <th>1</th>\n",
       "      <td>00:00:00.07</td>\n",
       "      <td>1.935066</td>\n",
       "      <td>kkt_block_admm</td>\n",
       "      <td>1.000000e-02</td>\n",
       "      <td>0.01</td>\n",
       "    </tr>\n",
       "    <tr>\n",
       "      <th>2</th>\n",
       "      <td>00:00:00.20</td>\n",
       "      <td>0.245395</td>\n",
       "      <td>kkt_block_admm</td>\n",
       "      <td>1.000000e-03</td>\n",
       "      <td>0.001</td>\n",
       "    </tr>\n",
       "    <tr>\n",
       "      <th>3</th>\n",
       "      <td>00:00:00.27</td>\n",
       "      <td>0.025737</td>\n",
       "      <td>kkt_block_admm</td>\n",
       "      <td>1.000000e-04</td>\n",
       "      <td>0.0001</td>\n",
       "    </tr>\n",
       "    <tr>\n",
       "      <th>4</th>\n",
       "      <td>00:00:00.47</td>\n",
       "      <td>0.003667</td>\n",
       "      <td>kkt_block_admm</td>\n",
       "      <td>1.000000e-05</td>\n",
       "      <td>1e-05</td>\n",
       "    </tr>\n",
       "    <tr>\n",
       "      <th>5</th>\n",
       "      <td>00:00:00.58</td>\n",
       "      <td>0.001294</td>\n",
       "      <td>kkt_block_admm</td>\n",
       "      <td>1.000000e-06</td>\n",
       "      <td>1e-06</td>\n",
       "    </tr>\n",
       "    <tr>\n",
       "      <th>6</th>\n",
       "      <td>00:00:00.70</td>\n",
       "      <td>0.001053</td>\n",
       "      <td>kkt_block_admm</td>\n",
       "      <td>1.000000e-07</td>\n",
       "      <td>1e-07</td>\n",
       "    </tr>\n",
       "    <tr>\n",
       "      <th>7</th>\n",
       "      <td>00:00:00.81</td>\n",
       "      <td>0.001030</td>\n",
       "      <td>kkt_block_admm</td>\n",
       "      <td>1.000000e-08</td>\n",
       "      <td>1e-08</td>\n",
       "    </tr>\n",
       "  </tbody>\n",
       "</table>\n",
       "</div>"
      ],
      "text/plain": [
       "          time  distance          method      tol_rate str_tol\n",
       "0  00:00:00.02  7.971542  kkt_block_admm  1.000000e-01     0.1\n",
       "1  00:00:00.07  1.935066  kkt_block_admm  1.000000e-02    0.01\n",
       "2  00:00:00.20  0.245395  kkt_block_admm  1.000000e-03   0.001\n",
       "3  00:00:00.27  0.025737  kkt_block_admm  1.000000e-04  0.0001\n",
       "4  00:00:00.47  0.003667  kkt_block_admm  1.000000e-05   1e-05\n",
       "5  00:00:00.58  0.001294  kkt_block_admm  1.000000e-06   1e-06\n",
       "6  00:00:00.70  0.001053  kkt_block_admm  1.000000e-07   1e-07\n",
       "7  00:00:00.81  0.001030  kkt_block_admm  1.000000e-08   1e-08"
      ]
     },
     "execution_count": 326,
     "metadata": {},
     "output_type": "execute_result"
    }
   ],
   "source": [
    "str_tol = [str(x) for x in tol_list]\n",
    "method_list = [\"kkt_block_admm\"]*len(accuracy_list)\n",
    "\n",
    "df_block_kkt = pd.DataFrame(data={'time': time_list, \n",
    "                           'distance': accuracy_list,\n",
    "                           'method': method_list,\n",
    "                           'tol_rate': tol_list,\n",
    "                            'str_tol': str_tol})\n",
    "df_block_kkt"
   ]
  },
  {
   "cell_type": "markdown",
   "id": "second-pharmacy",
   "metadata": {},
   "source": [
    "## Data formating"
   ]
  },
  {
   "cell_type": "code",
   "execution_count": 327,
   "id": "norwegian-glucose",
   "metadata": {},
   "outputs": [],
   "source": [
    "frames = [df_sk, df_rg, df_admm, df_kkt, df_block, df_block_kkt]\n",
    "\n",
    "df = pd.concat(frames)\n",
    "\n",
    "df[\"str_tol\"].replace({\"0.0001\": \"1e-04\"}, inplace=True)\n",
    "dist = np.array(df['distance'])\n",
    "df['log_distance'] = np.log(dist)"
   ]
  },
  {
   "cell_type": "code",
   "execution_count": 328,
   "id": "strange-flesh",
   "metadata": {},
   "outputs": [
    {
     "data": {
      "text/html": [
       "<div>\n",
       "<style scoped>\n",
       "    .dataframe tbody tr th:only-of-type {\n",
       "        vertical-align: middle;\n",
       "    }\n",
       "\n",
       "    .dataframe tbody tr th {\n",
       "        vertical-align: top;\n",
       "    }\n",
       "\n",
       "    .dataframe thead th {\n",
       "        text-align: right;\n",
       "    }\n",
       "</style>\n",
       "<table border=\"1\" class=\"dataframe\">\n",
       "  <thead>\n",
       "    <tr style=\"text-align: right;\">\n",
       "      <th></th>\n",
       "      <th>time</th>\n",
       "      <th>distance</th>\n",
       "      <th>method</th>\n",
       "      <th>tol_rate</th>\n",
       "      <th>str_tol</th>\n",
       "      <th>log_distance</th>\n",
       "    </tr>\n",
       "  </thead>\n",
       "  <tbody>\n",
       "    <tr>\n",
       "      <th>2</th>\n",
       "      <td>00:00:00.01</td>\n",
       "      <td>9.607049</td>\n",
       "      <td>block_admm</td>\n",
       "      <td>1.000000e-03</td>\n",
       "      <td>0.001</td>\n",
       "      <td>2.262497</td>\n",
       "    </tr>\n",
       "    <tr>\n",
       "      <th>2</th>\n",
       "      <td>00:00:00.00</td>\n",
       "      <td>9.607049</td>\n",
       "      <td>admm</td>\n",
       "      <td>1.000000e-03</td>\n",
       "      <td>0.001</td>\n",
       "      <td>2.262497</td>\n",
       "    </tr>\n",
       "    <tr>\n",
       "      <th>1</th>\n",
       "      <td>00:00:00.00</td>\n",
       "      <td>9.607049</td>\n",
       "      <td>admm</td>\n",
       "      <td>1.000000e-02</td>\n",
       "      <td>0.01</td>\n",
       "      <td>2.262497</td>\n",
       "    </tr>\n",
       "    <tr>\n",
       "      <th>0</th>\n",
       "      <td>00:00:00.01</td>\n",
       "      <td>9.607049</td>\n",
       "      <td>admm</td>\n",
       "      <td>1.000000e-01</td>\n",
       "      <td>0.1</td>\n",
       "      <td>2.262497</td>\n",
       "    </tr>\n",
       "    <tr>\n",
       "      <th>0</th>\n",
       "      <td>00:00:00.01</td>\n",
       "      <td>9.607049</td>\n",
       "      <td>block_admm</td>\n",
       "      <td>1.000000e-01</td>\n",
       "      <td>0.1</td>\n",
       "      <td>2.262497</td>\n",
       "    </tr>\n",
       "    <tr>\n",
       "      <th>1</th>\n",
       "      <td>00:00:00.01</td>\n",
       "      <td>9.607049</td>\n",
       "      <td>block_admm</td>\n",
       "      <td>1.000000e-02</td>\n",
       "      <td>0.01</td>\n",
       "      <td>2.262497</td>\n",
       "    </tr>\n",
       "    <tr>\n",
       "      <th>0</th>\n",
       "      <td>00:00:00.01</td>\n",
       "      <td>7.971542</td>\n",
       "      <td>kkt_admm</td>\n",
       "      <td>1.000000e-01</td>\n",
       "      <td>0.1</td>\n",
       "      <td>2.075878</td>\n",
       "    </tr>\n",
       "    <tr>\n",
       "      <th>0</th>\n",
       "      <td>00:00:00.02</td>\n",
       "      <td>7.971542</td>\n",
       "      <td>kkt_block_admm</td>\n",
       "      <td>1.000000e-01</td>\n",
       "      <td>0.1</td>\n",
       "      <td>2.075878</td>\n",
       "    </tr>\n",
       "    <tr>\n",
       "      <th>0</th>\n",
       "      <td>00:00:00.02</td>\n",
       "      <td>6.982505</td>\n",
       "      <td>regain</td>\n",
       "      <td>1.000000e-01</td>\n",
       "      <td>0.1</td>\n",
       "      <td>1.943408</td>\n",
       "    </tr>\n",
       "    <tr>\n",
       "      <th>1</th>\n",
       "      <td>00:00:00.02</td>\n",
       "      <td>6.982505</td>\n",
       "      <td>regain</td>\n",
       "      <td>1.000000e-02</td>\n",
       "      <td>0.01</td>\n",
       "      <td>1.943408</td>\n",
       "    </tr>\n",
       "    <tr>\n",
       "      <th>3</th>\n",
       "      <td>00:00:00.02</td>\n",
       "      <td>3.590272</td>\n",
       "      <td>admm</td>\n",
       "      <td>1.000000e-04</td>\n",
       "      <td>1e-04</td>\n",
       "      <td>1.278228</td>\n",
       "    </tr>\n",
       "    <tr>\n",
       "      <th>3</th>\n",
       "      <td>00:00:00.02</td>\n",
       "      <td>3.590272</td>\n",
       "      <td>block_admm</td>\n",
       "      <td>1.000000e-04</td>\n",
       "      <td>1e-04</td>\n",
       "      <td>1.278228</td>\n",
       "    </tr>\n",
       "    <tr>\n",
       "      <th>1</th>\n",
       "      <td>00:00:00.07</td>\n",
       "      <td>1.935066</td>\n",
       "      <td>kkt_admm</td>\n",
       "      <td>1.000000e-02</td>\n",
       "      <td>0.01</td>\n",
       "      <td>0.660141</td>\n",
       "    </tr>\n",
       "    <tr>\n",
       "      <th>1</th>\n",
       "      <td>00:00:00.07</td>\n",
       "      <td>1.935066</td>\n",
       "      <td>kkt_block_admm</td>\n",
       "      <td>1.000000e-02</td>\n",
       "      <td>0.01</td>\n",
       "      <td>0.660141</td>\n",
       "    </tr>\n",
       "    <tr>\n",
       "      <th>2</th>\n",
       "      <td>00:00:00.06</td>\n",
       "      <td>1.188609</td>\n",
       "      <td>regain</td>\n",
       "      <td>1.000000e-03</td>\n",
       "      <td>0.001</td>\n",
       "      <td>0.172783</td>\n",
       "    </tr>\n",
       "    <tr>\n",
       "      <th>4</th>\n",
       "      <td>00:00:00.09</td>\n",
       "      <td>0.558221</td>\n",
       "      <td>block_admm</td>\n",
       "      <td>1.000000e-05</td>\n",
       "      <td>1e-05</td>\n",
       "      <td>-0.583000</td>\n",
       "    </tr>\n",
       "    <tr>\n",
       "      <th>4</th>\n",
       "      <td>00:00:00.06</td>\n",
       "      <td>0.558221</td>\n",
       "      <td>admm</td>\n",
       "      <td>1.000000e-05</td>\n",
       "      <td>1e-05</td>\n",
       "      <td>-0.583000</td>\n",
       "    </tr>\n",
       "    <tr>\n",
       "      <th>2</th>\n",
       "      <td>00:00:00.20</td>\n",
       "      <td>0.245395</td>\n",
       "      <td>kkt_block_admm</td>\n",
       "      <td>1.000000e-03</td>\n",
       "      <td>0.001</td>\n",
       "      <td>-1.404884</td>\n",
       "    </tr>\n",
       "    <tr>\n",
       "      <th>2</th>\n",
       "      <td>00:00:00.20</td>\n",
       "      <td>0.245395</td>\n",
       "      <td>kkt_admm</td>\n",
       "      <td>1.000000e-03</td>\n",
       "      <td>0.001</td>\n",
       "      <td>-1.404884</td>\n",
       "    </tr>\n",
       "    <tr>\n",
       "      <th>3</th>\n",
       "      <td>00:00:00.08</td>\n",
       "      <td>0.106799</td>\n",
       "      <td>regain</td>\n",
       "      <td>1.000000e-04</td>\n",
       "      <td>1e-04</td>\n",
       "      <td>-2.236805</td>\n",
       "    </tr>\n",
       "    <tr>\n",
       "      <th>5</th>\n",
       "      <td>00:00:00.16</td>\n",
       "      <td>0.059364</td>\n",
       "      <td>block_admm</td>\n",
       "      <td>1.000000e-06</td>\n",
       "      <td>1e-06</td>\n",
       "      <td>-2.824067</td>\n",
       "    </tr>\n",
       "    <tr>\n",
       "      <th>5</th>\n",
       "      <td>00:00:00.14</td>\n",
       "      <td>0.059364</td>\n",
       "      <td>admm</td>\n",
       "      <td>1.000000e-06</td>\n",
       "      <td>1e-06</td>\n",
       "      <td>-2.824067</td>\n",
       "    </tr>\n",
       "    <tr>\n",
       "      <th>3</th>\n",
       "      <td>00:00:00.27</td>\n",
       "      <td>0.025737</td>\n",
       "      <td>kkt_block_admm</td>\n",
       "      <td>1.000000e-04</td>\n",
       "      <td>1e-04</td>\n",
       "      <td>-3.659811</td>\n",
       "    </tr>\n",
       "    <tr>\n",
       "      <th>3</th>\n",
       "      <td>00:00:00.35</td>\n",
       "      <td>0.025737</td>\n",
       "      <td>kkt_admm</td>\n",
       "      <td>1.000000e-04</td>\n",
       "      <td>1e-04</td>\n",
       "      <td>-3.659811</td>\n",
       "    </tr>\n",
       "    <tr>\n",
       "      <th>0</th>\n",
       "      <td>00:00:00.07</td>\n",
       "      <td>0.011971</td>\n",
       "      <td>sklearn</td>\n",
       "      <td>1.000000e-01</td>\n",
       "      <td>0.1</td>\n",
       "      <td>-4.425309</td>\n",
       "    </tr>\n",
       "    <tr>\n",
       "      <th>4</th>\n",
       "      <td>00:00:00.14</td>\n",
       "      <td>0.010227</td>\n",
       "      <td>regain</td>\n",
       "      <td>1.000000e-05</td>\n",
       "      <td>1e-05</td>\n",
       "      <td>-4.582685</td>\n",
       "    </tr>\n",
       "    <tr>\n",
       "      <th>6</th>\n",
       "      <td>00:00:00.22</td>\n",
       "      <td>0.007172</td>\n",
       "      <td>admm</td>\n",
       "      <td>1.000000e-07</td>\n",
       "      <td>1e-07</td>\n",
       "      <td>-4.937505</td>\n",
       "    </tr>\n",
       "    <tr>\n",
       "      <th>6</th>\n",
       "      <td>00:00:00.21</td>\n",
       "      <td>0.007172</td>\n",
       "      <td>block_admm</td>\n",
       "      <td>1.000000e-07</td>\n",
       "      <td>1e-07</td>\n",
       "      <td>-4.937505</td>\n",
       "    </tr>\n",
       "    <tr>\n",
       "      <th>4</th>\n",
       "      <td>00:00:00.38</td>\n",
       "      <td>0.003667</td>\n",
       "      <td>kkt_admm</td>\n",
       "      <td>1.000000e-05</td>\n",
       "      <td>1e-05</td>\n",
       "      <td>-5.608403</td>\n",
       "    </tr>\n",
       "    <tr>\n",
       "      <th>4</th>\n",
       "      <td>00:00:00.47</td>\n",
       "      <td>0.003667</td>\n",
       "      <td>kkt_block_admm</td>\n",
       "      <td>1.000000e-05</td>\n",
       "      <td>1e-05</td>\n",
       "      <td>-5.608403</td>\n",
       "    </tr>\n",
       "    <tr>\n",
       "      <th>7</th>\n",
       "      <td>00:00:00.31</td>\n",
       "      <td>0.001644</td>\n",
       "      <td>admm</td>\n",
       "      <td>1.000000e-08</td>\n",
       "      <td>1e-08</td>\n",
       "      <td>-6.410509</td>\n",
       "    </tr>\n",
       "    <tr>\n",
       "      <th>7</th>\n",
       "      <td>00:00:00.30</td>\n",
       "      <td>0.001644</td>\n",
       "      <td>block_admm</td>\n",
       "      <td>1.000000e-08</td>\n",
       "      <td>1e-08</td>\n",
       "      <td>-6.410509</td>\n",
       "    </tr>\n",
       "    <tr>\n",
       "      <th>1</th>\n",
       "      <td>00:00:00.06</td>\n",
       "      <td>0.001343</td>\n",
       "      <td>sklearn</td>\n",
       "      <td>1.000000e-02</td>\n",
       "      <td>0.01</td>\n",
       "      <td>-6.612788</td>\n",
       "    </tr>\n",
       "    <tr>\n",
       "      <th>2</th>\n",
       "      <td>00:00:00.05</td>\n",
       "      <td>0.001343</td>\n",
       "      <td>sklearn</td>\n",
       "      <td>1.000000e-03</td>\n",
       "      <td>0.001</td>\n",
       "      <td>-6.612788</td>\n",
       "    </tr>\n",
       "    <tr>\n",
       "      <th>5</th>\n",
       "      <td>00:00:00.61</td>\n",
       "      <td>0.001294</td>\n",
       "      <td>kkt_admm</td>\n",
       "      <td>1.000000e-06</td>\n",
       "      <td>1e-06</td>\n",
       "      <td>-6.649985</td>\n",
       "    </tr>\n",
       "    <tr>\n",
       "      <th>5</th>\n",
       "      <td>00:00:00.58</td>\n",
       "      <td>0.001294</td>\n",
       "      <td>kkt_block_admm</td>\n",
       "      <td>1.000000e-06</td>\n",
       "      <td>1e-06</td>\n",
       "      <td>-6.649985</td>\n",
       "    </tr>\n",
       "    <tr>\n",
       "      <th>4</th>\n",
       "      <td>00:00:00.08</td>\n",
       "      <td>0.001173</td>\n",
       "      <td>sklearn</td>\n",
       "      <td>1.000000e-05</td>\n",
       "      <td>1e-05</td>\n",
       "      <td>-6.748085</td>\n",
       "    </tr>\n",
       "    <tr>\n",
       "      <th>3</th>\n",
       "      <td>00:00:00.08</td>\n",
       "      <td>0.001173</td>\n",
       "      <td>sklearn</td>\n",
       "      <td>1.000000e-04</td>\n",
       "      <td>1e-04</td>\n",
       "      <td>-6.748085</td>\n",
       "    </tr>\n",
       "    <tr>\n",
       "      <th>6</th>\n",
       "      <td>00:00:00.71</td>\n",
       "      <td>0.001053</td>\n",
       "      <td>kkt_admm</td>\n",
       "      <td>1.000000e-07</td>\n",
       "      <td>1e-07</td>\n",
       "      <td>-6.856087</td>\n",
       "    </tr>\n",
       "    <tr>\n",
       "      <th>6</th>\n",
       "      <td>00:00:00.70</td>\n",
       "      <td>0.001053</td>\n",
       "      <td>kkt_block_admm</td>\n",
       "      <td>1.000000e-07</td>\n",
       "      <td>1e-07</td>\n",
       "      <td>-6.856087</td>\n",
       "    </tr>\n",
       "    <tr>\n",
       "      <th>5</th>\n",
       "      <td>00:00:00.15</td>\n",
       "      <td>0.001037</td>\n",
       "      <td>sklearn</td>\n",
       "      <td>1.000000e-06</td>\n",
       "      <td>1e-06</td>\n",
       "      <td>-6.871511</td>\n",
       "    </tr>\n",
       "    <tr>\n",
       "      <th>7</th>\n",
       "      <td>00:00:00.81</td>\n",
       "      <td>0.001030</td>\n",
       "      <td>kkt_block_admm</td>\n",
       "      <td>1.000000e-08</td>\n",
       "      <td>1e-08</td>\n",
       "      <td>-6.877750</td>\n",
       "    </tr>\n",
       "    <tr>\n",
       "      <th>7</th>\n",
       "      <td>00:00:00.78</td>\n",
       "      <td>0.001030</td>\n",
       "      <td>kkt_admm</td>\n",
       "      <td>1.000000e-08</td>\n",
       "      <td>1e-08</td>\n",
       "      <td>-6.877750</td>\n",
       "    </tr>\n",
       "    <tr>\n",
       "      <th>6</th>\n",
       "      <td>00:00:00.33</td>\n",
       "      <td>0.001028</td>\n",
       "      <td>sklearn</td>\n",
       "      <td>1.000000e-07</td>\n",
       "      <td>1e-07</td>\n",
       "      <td>-6.880178</td>\n",
       "    </tr>\n",
       "    <tr>\n",
       "      <th>7</th>\n",
       "      <td>00:00:00.45</td>\n",
       "      <td>0.001028</td>\n",
       "      <td>sklearn</td>\n",
       "      <td>1.000000e-08</td>\n",
       "      <td>1e-08</td>\n",
       "      <td>-6.880251</td>\n",
       "    </tr>\n",
       "    <tr>\n",
       "      <th>7</th>\n",
       "      <td>00:00:00.25</td>\n",
       "      <td>0.001016</td>\n",
       "      <td>regain</td>\n",
       "      <td>1.000000e-08</td>\n",
       "      <td>1e-08</td>\n",
       "      <td>-6.891879</td>\n",
       "    </tr>\n",
       "    <tr>\n",
       "      <th>6</th>\n",
       "      <td>00:00:00.21</td>\n",
       "      <td>0.000918</td>\n",
       "      <td>regain</td>\n",
       "      <td>1.000000e-07</td>\n",
       "      <td>1e-07</td>\n",
       "      <td>-6.993655</td>\n",
       "    </tr>\n",
       "    <tr>\n",
       "      <th>5</th>\n",
       "      <td>00:00:00.17</td>\n",
       "      <td>0.000165</td>\n",
       "      <td>regain</td>\n",
       "      <td>1.000000e-06</td>\n",
       "      <td>1e-06</td>\n",
       "      <td>-8.707540</td>\n",
       "    </tr>\n",
       "  </tbody>\n",
       "</table>\n",
       "</div>"
      ],
      "text/plain": [
       "          time  distance          method      tol_rate str_tol  log_distance\n",
       "2  00:00:00.01  9.607049      block_admm  1.000000e-03   0.001      2.262497\n",
       "2  00:00:00.00  9.607049            admm  1.000000e-03   0.001      2.262497\n",
       "1  00:00:00.00  9.607049            admm  1.000000e-02    0.01      2.262497\n",
       "0  00:00:00.01  9.607049            admm  1.000000e-01     0.1      2.262497\n",
       "0  00:00:00.01  9.607049      block_admm  1.000000e-01     0.1      2.262497\n",
       "1  00:00:00.01  9.607049      block_admm  1.000000e-02    0.01      2.262497\n",
       "0  00:00:00.01  7.971542        kkt_admm  1.000000e-01     0.1      2.075878\n",
       "0  00:00:00.02  7.971542  kkt_block_admm  1.000000e-01     0.1      2.075878\n",
       "0  00:00:00.02  6.982505          regain  1.000000e-01     0.1      1.943408\n",
       "1  00:00:00.02  6.982505          regain  1.000000e-02    0.01      1.943408\n",
       "3  00:00:00.02  3.590272            admm  1.000000e-04   1e-04      1.278228\n",
       "3  00:00:00.02  3.590272      block_admm  1.000000e-04   1e-04      1.278228\n",
       "1  00:00:00.07  1.935066        kkt_admm  1.000000e-02    0.01      0.660141\n",
       "1  00:00:00.07  1.935066  kkt_block_admm  1.000000e-02    0.01      0.660141\n",
       "2  00:00:00.06  1.188609          regain  1.000000e-03   0.001      0.172783\n",
       "4  00:00:00.09  0.558221      block_admm  1.000000e-05   1e-05     -0.583000\n",
       "4  00:00:00.06  0.558221            admm  1.000000e-05   1e-05     -0.583000\n",
       "2  00:00:00.20  0.245395  kkt_block_admm  1.000000e-03   0.001     -1.404884\n",
       "2  00:00:00.20  0.245395        kkt_admm  1.000000e-03   0.001     -1.404884\n",
       "3  00:00:00.08  0.106799          regain  1.000000e-04   1e-04     -2.236805\n",
       "5  00:00:00.16  0.059364      block_admm  1.000000e-06   1e-06     -2.824067\n",
       "5  00:00:00.14  0.059364            admm  1.000000e-06   1e-06     -2.824067\n",
       "3  00:00:00.27  0.025737  kkt_block_admm  1.000000e-04   1e-04     -3.659811\n",
       "3  00:00:00.35  0.025737        kkt_admm  1.000000e-04   1e-04     -3.659811\n",
       "0  00:00:00.07  0.011971         sklearn  1.000000e-01     0.1     -4.425309\n",
       "4  00:00:00.14  0.010227          regain  1.000000e-05   1e-05     -4.582685\n",
       "6  00:00:00.22  0.007172            admm  1.000000e-07   1e-07     -4.937505\n",
       "6  00:00:00.21  0.007172      block_admm  1.000000e-07   1e-07     -4.937505\n",
       "4  00:00:00.38  0.003667        kkt_admm  1.000000e-05   1e-05     -5.608403\n",
       "4  00:00:00.47  0.003667  kkt_block_admm  1.000000e-05   1e-05     -5.608403\n",
       "7  00:00:00.31  0.001644            admm  1.000000e-08   1e-08     -6.410509\n",
       "7  00:00:00.30  0.001644      block_admm  1.000000e-08   1e-08     -6.410509\n",
       "1  00:00:00.06  0.001343         sklearn  1.000000e-02    0.01     -6.612788\n",
       "2  00:00:00.05  0.001343         sklearn  1.000000e-03   0.001     -6.612788\n",
       "5  00:00:00.61  0.001294        kkt_admm  1.000000e-06   1e-06     -6.649985\n",
       "5  00:00:00.58  0.001294  kkt_block_admm  1.000000e-06   1e-06     -6.649985\n",
       "4  00:00:00.08  0.001173         sklearn  1.000000e-05   1e-05     -6.748085\n",
       "3  00:00:00.08  0.001173         sklearn  1.000000e-04   1e-04     -6.748085\n",
       "6  00:00:00.71  0.001053        kkt_admm  1.000000e-07   1e-07     -6.856087\n",
       "6  00:00:00.70  0.001053  kkt_block_admm  1.000000e-07   1e-07     -6.856087\n",
       "5  00:00:00.15  0.001037         sklearn  1.000000e-06   1e-06     -6.871511\n",
       "7  00:00:00.81  0.001030  kkt_block_admm  1.000000e-08   1e-08     -6.877750\n",
       "7  00:00:00.78  0.001030        kkt_admm  1.000000e-08   1e-08     -6.877750\n",
       "6  00:00:00.33  0.001028         sklearn  1.000000e-07   1e-07     -6.880178\n",
       "7  00:00:00.45  0.001028         sklearn  1.000000e-08   1e-08     -6.880251\n",
       "7  00:00:00.25  0.001016          regain  1.000000e-08   1e-08     -6.891879\n",
       "6  00:00:00.21  0.000918          regain  1.000000e-07   1e-07     -6.993655\n",
       "5  00:00:00.17  0.000165          regain  1.000000e-06   1e-06     -8.707540"
      ]
     },
     "execution_count": 328,
     "metadata": {},
     "output_type": "execute_result"
    }
   ],
   "source": [
    "df.sort_values(by=['log_distance'], ascending = False)"
   ]
  },
  {
   "cell_type": "markdown",
   "id": "atmospheric-gardening",
   "metadata": {},
   "source": [
    "## Tolerance plot"
   ]
  },
  {
   "cell_type": "code",
   "execution_count": 329,
   "id": "touched-cooling",
   "metadata": {},
   "outputs": [
    {
     "data": {
      "application/vnd.plotly.v1+json": {
       "config": {
        "plotlyServerURL": "https://plot.ly"
       },
       "data": [
        {
         "hovertemplate": "method=sklearn<br>Tolerance rate=%{x}<br>Log_distance=%{y}<extra></extra>",
         "legendgroup": "sklearn",
         "line": {
          "color": "#636efa",
          "dash": "solid"
         },
         "mode": "lines",
         "name": "sklearn",
         "orientation": "v",
         "showlegend": true,
         "type": "scatter",
         "x": [
          "0.1",
          "0.01",
          "0.001",
          "1e-04",
          "1e-05",
          "1e-06",
          "1e-07",
          "1e-08"
         ],
         "xaxis": "x",
         "y": [
          0.011970517018329059,
          0.0013430822170869576,
          0.0013430822170869576,
          0.0011731241043401116,
          0.0011731241043401116,
          0.0010369093279743136,
          0.0010279610140797933,
          0.0010278864255925753
         ],
         "yaxis": "y"
        },
        {
         "hovertemplate": "method=regain<br>Tolerance rate=%{x}<br>Log_distance=%{y}<extra></extra>",
         "legendgroup": "regain",
         "line": {
          "color": "#EF553B",
          "dash": "solid"
         },
         "mode": "lines",
         "name": "regain",
         "orientation": "v",
         "showlegend": true,
         "type": "scatter",
         "x": [
          "0.1",
          "0.01",
          "0.001",
          "1e-04",
          "1e-05",
          "1e-06",
          "1e-07",
          "1e-08"
         ],
         "xaxis": "x",
         "y": [
          6.982504524886847,
          6.982504524886847,
          1.1886085503624217,
          0.10679920123756906,
          0.010227400078773041,
          0.0001653344604678729,
          0.0009176861184409964,
          0.001016003229802753
         ],
         "yaxis": "y"
        },
        {
         "hovertemplate": "method=admm<br>Tolerance rate=%{x}<br>Log_distance=%{y}<extra></extra>",
         "legendgroup": "admm",
         "line": {
          "color": "#00cc96",
          "dash": "solid"
         },
         "mode": "lines",
         "name": "admm",
         "orientation": "v",
         "showlegend": true,
         "type": "scatter",
         "x": [
          "0.1",
          "0.01",
          "0.001",
          "1e-04",
          "1e-05",
          "1e-06",
          "1e-07",
          "1e-08"
         ],
         "xaxis": "x",
         "y": [
          9.60704856313666,
          9.60704856313666,
          9.60704856313666,
          3.5902719094678615,
          0.5582211276329533,
          0.05936400479690431,
          0.007172470480097937,
          0.0016441878764529
         ],
         "yaxis": "y"
        },
        {
         "hovertemplate": "method=kkt_admm<br>Tolerance rate=%{x}<br>Log_distance=%{y}<extra></extra>",
         "legendgroup": "kkt_admm",
         "line": {
          "color": "#ab63fa",
          "dash": "solid"
         },
         "mode": "lines",
         "name": "kkt_admm",
         "orientation": "v",
         "showlegend": true,
         "type": "scatter",
         "x": [
          "0.1",
          "0.01",
          "0.001",
          "1e-04",
          "1e-05",
          "1e-06",
          "1e-07",
          "1e-08"
         ],
         "xaxis": "x",
         "y": [
          7.971541699101097,
          1.9350657647815706,
          0.24539547180332869,
          0.025737382179895536,
          0.003666919436181661,
          0.001294040963107283,
          0.0010530265880702506,
          0.0010304601496386098
         ],
         "yaxis": "y"
        },
        {
         "hovertemplate": "method=block_admm<br>Tolerance rate=%{x}<br>Log_distance=%{y}<extra></extra>",
         "legendgroup": "block_admm",
         "line": {
          "color": "#FFA15A",
          "dash": "solid"
         },
         "mode": "lines",
         "name": "block_admm",
         "orientation": "v",
         "showlegend": true,
         "type": "scatter",
         "x": [
          "0.1",
          "0.01",
          "0.001",
          "1e-04",
          "1e-05",
          "1e-06",
          "1e-07",
          "1e-08"
         ],
         "xaxis": "x",
         "y": [
          9.60704856313666,
          9.60704856313666,
          9.60704856313666,
          3.5902719094678615,
          0.5582211276329533,
          0.05936400479690431,
          0.007172470480097937,
          0.0016441878764529
         ],
         "yaxis": "y"
        },
        {
         "hovertemplate": "method=kkt_block_admm<br>Tolerance rate=%{x}<br>Log_distance=%{y}<extra></extra>",
         "legendgroup": "kkt_block_admm",
         "line": {
          "color": "#19d3f3",
          "dash": "solid"
         },
         "mode": "lines",
         "name": "kkt_block_admm",
         "orientation": "v",
         "showlegend": true,
         "type": "scatter",
         "x": [
          "0.1",
          "0.01",
          "0.001",
          "1e-04",
          "1e-05",
          "1e-06",
          "1e-07",
          "1e-08"
         ],
         "xaxis": "x",
         "y": [
          7.971541699101097,
          1.9350657647815706,
          0.24539547180332869,
          0.025737382179895536,
          0.003666919436181661,
          0.001294040963107283,
          0.0010530265880702506,
          0.0010304601496386098
         ],
         "yaxis": "y"
        }
       ],
       "layout": {
        "legend": {
         "title": {
          "text": "method"
         },
         "tracegroupgap": 0
        },
        "template": {
         "data": {
          "bar": [
           {
            "error_x": {
             "color": "#2a3f5f"
            },
            "error_y": {
             "color": "#2a3f5f"
            },
            "marker": {
             "line": {
              "color": "white",
              "width": 0.5
             }
            },
            "type": "bar"
           }
          ],
          "barpolar": [
           {
            "marker": {
             "line": {
              "color": "white",
              "width": 0.5
             }
            },
            "type": "barpolar"
           }
          ],
          "carpet": [
           {
            "aaxis": {
             "endlinecolor": "#2a3f5f",
             "gridcolor": "#C8D4E3",
             "linecolor": "#C8D4E3",
             "minorgridcolor": "#C8D4E3",
             "startlinecolor": "#2a3f5f"
            },
            "baxis": {
             "endlinecolor": "#2a3f5f",
             "gridcolor": "#C8D4E3",
             "linecolor": "#C8D4E3",
             "minorgridcolor": "#C8D4E3",
             "startlinecolor": "#2a3f5f"
            },
            "type": "carpet"
           }
          ],
          "choropleth": [
           {
            "colorbar": {
             "outlinewidth": 0,
             "ticks": ""
            },
            "type": "choropleth"
           }
          ],
          "contour": [
           {
            "colorbar": {
             "outlinewidth": 0,
             "ticks": ""
            },
            "colorscale": [
             [
              0,
              "#0d0887"
             ],
             [
              0.1111111111111111,
              "#46039f"
             ],
             [
              0.2222222222222222,
              "#7201a8"
             ],
             [
              0.3333333333333333,
              "#9c179e"
             ],
             [
              0.4444444444444444,
              "#bd3786"
             ],
             [
              0.5555555555555556,
              "#d8576b"
             ],
             [
              0.6666666666666666,
              "#ed7953"
             ],
             [
              0.7777777777777778,
              "#fb9f3a"
             ],
             [
              0.8888888888888888,
              "#fdca26"
             ],
             [
              1,
              "#f0f921"
             ]
            ],
            "type": "contour"
           }
          ],
          "contourcarpet": [
           {
            "colorbar": {
             "outlinewidth": 0,
             "ticks": ""
            },
            "type": "contourcarpet"
           }
          ],
          "heatmap": [
           {
            "colorbar": {
             "outlinewidth": 0,
             "ticks": ""
            },
            "colorscale": [
             [
              0,
              "#0d0887"
             ],
             [
              0.1111111111111111,
              "#46039f"
             ],
             [
              0.2222222222222222,
              "#7201a8"
             ],
             [
              0.3333333333333333,
              "#9c179e"
             ],
             [
              0.4444444444444444,
              "#bd3786"
             ],
             [
              0.5555555555555556,
              "#d8576b"
             ],
             [
              0.6666666666666666,
              "#ed7953"
             ],
             [
              0.7777777777777778,
              "#fb9f3a"
             ],
             [
              0.8888888888888888,
              "#fdca26"
             ],
             [
              1,
              "#f0f921"
             ]
            ],
            "type": "heatmap"
           }
          ],
          "heatmapgl": [
           {
            "colorbar": {
             "outlinewidth": 0,
             "ticks": ""
            },
            "colorscale": [
             [
              0,
              "#0d0887"
             ],
             [
              0.1111111111111111,
              "#46039f"
             ],
             [
              0.2222222222222222,
              "#7201a8"
             ],
             [
              0.3333333333333333,
              "#9c179e"
             ],
             [
              0.4444444444444444,
              "#bd3786"
             ],
             [
              0.5555555555555556,
              "#d8576b"
             ],
             [
              0.6666666666666666,
              "#ed7953"
             ],
             [
              0.7777777777777778,
              "#fb9f3a"
             ],
             [
              0.8888888888888888,
              "#fdca26"
             ],
             [
              1,
              "#f0f921"
             ]
            ],
            "type": "heatmapgl"
           }
          ],
          "histogram": [
           {
            "marker": {
             "colorbar": {
              "outlinewidth": 0,
              "ticks": ""
             }
            },
            "type": "histogram"
           }
          ],
          "histogram2d": [
           {
            "colorbar": {
             "outlinewidth": 0,
             "ticks": ""
            },
            "colorscale": [
             [
              0,
              "#0d0887"
             ],
             [
              0.1111111111111111,
              "#46039f"
             ],
             [
              0.2222222222222222,
              "#7201a8"
             ],
             [
              0.3333333333333333,
              "#9c179e"
             ],
             [
              0.4444444444444444,
              "#bd3786"
             ],
             [
              0.5555555555555556,
              "#d8576b"
             ],
             [
              0.6666666666666666,
              "#ed7953"
             ],
             [
              0.7777777777777778,
              "#fb9f3a"
             ],
             [
              0.8888888888888888,
              "#fdca26"
             ],
             [
              1,
              "#f0f921"
             ]
            ],
            "type": "histogram2d"
           }
          ],
          "histogram2dcontour": [
           {
            "colorbar": {
             "outlinewidth": 0,
             "ticks": ""
            },
            "colorscale": [
             [
              0,
              "#0d0887"
             ],
             [
              0.1111111111111111,
              "#46039f"
             ],
             [
              0.2222222222222222,
              "#7201a8"
             ],
             [
              0.3333333333333333,
              "#9c179e"
             ],
             [
              0.4444444444444444,
              "#bd3786"
             ],
             [
              0.5555555555555556,
              "#d8576b"
             ],
             [
              0.6666666666666666,
              "#ed7953"
             ],
             [
              0.7777777777777778,
              "#fb9f3a"
             ],
             [
              0.8888888888888888,
              "#fdca26"
             ],
             [
              1,
              "#f0f921"
             ]
            ],
            "type": "histogram2dcontour"
           }
          ],
          "mesh3d": [
           {
            "colorbar": {
             "outlinewidth": 0,
             "ticks": ""
            },
            "type": "mesh3d"
           }
          ],
          "parcoords": [
           {
            "line": {
             "colorbar": {
              "outlinewidth": 0,
              "ticks": ""
             }
            },
            "type": "parcoords"
           }
          ],
          "pie": [
           {
            "automargin": true,
            "type": "pie"
           }
          ],
          "scatter": [
           {
            "marker": {
             "colorbar": {
              "outlinewidth": 0,
              "ticks": ""
             }
            },
            "type": "scatter"
           }
          ],
          "scatter3d": [
           {
            "line": {
             "colorbar": {
              "outlinewidth": 0,
              "ticks": ""
             }
            },
            "marker": {
             "colorbar": {
              "outlinewidth": 0,
              "ticks": ""
             }
            },
            "type": "scatter3d"
           }
          ],
          "scattercarpet": [
           {
            "marker": {
             "colorbar": {
              "outlinewidth": 0,
              "ticks": ""
             }
            },
            "type": "scattercarpet"
           }
          ],
          "scattergeo": [
           {
            "marker": {
             "colorbar": {
              "outlinewidth": 0,
              "ticks": ""
             }
            },
            "type": "scattergeo"
           }
          ],
          "scattergl": [
           {
            "marker": {
             "colorbar": {
              "outlinewidth": 0,
              "ticks": ""
             }
            },
            "type": "scattergl"
           }
          ],
          "scattermapbox": [
           {
            "marker": {
             "colorbar": {
              "outlinewidth": 0,
              "ticks": ""
             }
            },
            "type": "scattermapbox"
           }
          ],
          "scatterpolar": [
           {
            "marker": {
             "colorbar": {
              "outlinewidth": 0,
              "ticks": ""
             }
            },
            "type": "scatterpolar"
           }
          ],
          "scatterpolargl": [
           {
            "marker": {
             "colorbar": {
              "outlinewidth": 0,
              "ticks": ""
             }
            },
            "type": "scatterpolargl"
           }
          ],
          "scatterternary": [
           {
            "marker": {
             "colorbar": {
              "outlinewidth": 0,
              "ticks": ""
             }
            },
            "type": "scatterternary"
           }
          ],
          "surface": [
           {
            "colorbar": {
             "outlinewidth": 0,
             "ticks": ""
            },
            "colorscale": [
             [
              0,
              "#0d0887"
             ],
             [
              0.1111111111111111,
              "#46039f"
             ],
             [
              0.2222222222222222,
              "#7201a8"
             ],
             [
              0.3333333333333333,
              "#9c179e"
             ],
             [
              0.4444444444444444,
              "#bd3786"
             ],
             [
              0.5555555555555556,
              "#d8576b"
             ],
             [
              0.6666666666666666,
              "#ed7953"
             ],
             [
              0.7777777777777778,
              "#fb9f3a"
             ],
             [
              0.8888888888888888,
              "#fdca26"
             ],
             [
              1,
              "#f0f921"
             ]
            ],
            "type": "surface"
           }
          ],
          "table": [
           {
            "cells": {
             "fill": {
              "color": "#EBF0F8"
             },
             "line": {
              "color": "white"
             }
            },
            "header": {
             "fill": {
              "color": "#C8D4E3"
             },
             "line": {
              "color": "white"
             }
            },
            "type": "table"
           }
          ]
         },
         "layout": {
          "annotationdefaults": {
           "arrowcolor": "#2a3f5f",
           "arrowhead": 0,
           "arrowwidth": 1
          },
          "autotypenumbers": "strict",
          "coloraxis": {
           "colorbar": {
            "outlinewidth": 0,
            "ticks": ""
           }
          },
          "colorscale": {
           "diverging": [
            [
             0,
             "#8e0152"
            ],
            [
             0.1,
             "#c51b7d"
            ],
            [
             0.2,
             "#de77ae"
            ],
            [
             0.3,
             "#f1b6da"
            ],
            [
             0.4,
             "#fde0ef"
            ],
            [
             0.5,
             "#f7f7f7"
            ],
            [
             0.6,
             "#e6f5d0"
            ],
            [
             0.7,
             "#b8e186"
            ],
            [
             0.8,
             "#7fbc41"
            ],
            [
             0.9,
             "#4d9221"
            ],
            [
             1,
             "#276419"
            ]
           ],
           "sequential": [
            [
             0,
             "#0d0887"
            ],
            [
             0.1111111111111111,
             "#46039f"
            ],
            [
             0.2222222222222222,
             "#7201a8"
            ],
            [
             0.3333333333333333,
             "#9c179e"
            ],
            [
             0.4444444444444444,
             "#bd3786"
            ],
            [
             0.5555555555555556,
             "#d8576b"
            ],
            [
             0.6666666666666666,
             "#ed7953"
            ],
            [
             0.7777777777777778,
             "#fb9f3a"
            ],
            [
             0.8888888888888888,
             "#fdca26"
            ],
            [
             1,
             "#f0f921"
            ]
           ],
           "sequentialminus": [
            [
             0,
             "#0d0887"
            ],
            [
             0.1111111111111111,
             "#46039f"
            ],
            [
             0.2222222222222222,
             "#7201a8"
            ],
            [
             0.3333333333333333,
             "#9c179e"
            ],
            [
             0.4444444444444444,
             "#bd3786"
            ],
            [
             0.5555555555555556,
             "#d8576b"
            ],
            [
             0.6666666666666666,
             "#ed7953"
            ],
            [
             0.7777777777777778,
             "#fb9f3a"
            ],
            [
             0.8888888888888888,
             "#fdca26"
            ],
            [
             1,
             "#f0f921"
            ]
           ]
          },
          "colorway": [
           "#636efa",
           "#EF553B",
           "#00cc96",
           "#ab63fa",
           "#FFA15A",
           "#19d3f3",
           "#FF6692",
           "#B6E880",
           "#FF97FF",
           "#FECB52"
          ],
          "font": {
           "color": "#2a3f5f"
          },
          "geo": {
           "bgcolor": "white",
           "lakecolor": "white",
           "landcolor": "white",
           "showlakes": true,
           "showland": true,
           "subunitcolor": "#C8D4E3"
          },
          "hoverlabel": {
           "align": "left"
          },
          "hovermode": "closest",
          "mapbox": {
           "style": "light"
          },
          "paper_bgcolor": "white",
          "plot_bgcolor": "white",
          "polar": {
           "angularaxis": {
            "gridcolor": "#EBF0F8",
            "linecolor": "#EBF0F8",
            "ticks": ""
           },
           "bgcolor": "white",
           "radialaxis": {
            "gridcolor": "#EBF0F8",
            "linecolor": "#EBF0F8",
            "ticks": ""
           }
          },
          "scene": {
           "xaxis": {
            "backgroundcolor": "white",
            "gridcolor": "#DFE8F3",
            "gridwidth": 2,
            "linecolor": "#EBF0F8",
            "showbackground": true,
            "ticks": "",
            "zerolinecolor": "#EBF0F8"
           },
           "yaxis": {
            "backgroundcolor": "white",
            "gridcolor": "#DFE8F3",
            "gridwidth": 2,
            "linecolor": "#EBF0F8",
            "showbackground": true,
            "ticks": "",
            "zerolinecolor": "#EBF0F8"
           },
           "zaxis": {
            "backgroundcolor": "white",
            "gridcolor": "#DFE8F3",
            "gridwidth": 2,
            "linecolor": "#EBF0F8",
            "showbackground": true,
            "ticks": "",
            "zerolinecolor": "#EBF0F8"
           }
          },
          "shapedefaults": {
           "line": {
            "color": "#2a3f5f"
           }
          },
          "ternary": {
           "aaxis": {
            "gridcolor": "#DFE8F3",
            "linecolor": "#A2B1C6",
            "ticks": ""
           },
           "baxis": {
            "gridcolor": "#DFE8F3",
            "linecolor": "#A2B1C6",
            "ticks": ""
           },
           "bgcolor": "white",
           "caxis": {
            "gridcolor": "#DFE8F3",
            "linecolor": "#A2B1C6",
            "ticks": ""
           }
          },
          "title": {
           "x": 0.05
          },
          "xaxis": {
           "automargin": true,
           "gridcolor": "#EBF0F8",
           "linecolor": "#EBF0F8",
           "ticks": "",
           "title": {
            "standoff": 15
           },
           "zerolinecolor": "#EBF0F8",
           "zerolinewidth": 2
          },
          "yaxis": {
           "automargin": true,
           "gridcolor": "#EBF0F8",
           "linecolor": "#EBF0F8",
           "ticks": "",
           "title": {
            "standoff": 15
           },
           "zerolinecolor": "#EBF0F8",
           "zerolinewidth": 2
          }
         }
        },
        "title": {
         "text": "Log-distance between Z and Z' with respect to ADMM convergence rates"
        },
        "xaxis": {
         "anchor": "y",
         "domain": [
          0,
          1
         ],
         "title": {
          "text": "Tolerance rate"
         }
        },
        "yaxis": {
         "anchor": "x",
         "domain": [
          0,
          1
         ],
         "title": {
          "text": "Log_distance"
         },
         "type": "log"
        }
       }
      },
      "text/html": [
       "<div>                            <div id=\"c1fda682-d5f8-4d79-9d0f-5d3cc0d759ef\" class=\"plotly-graph-div\" style=\"height:525px; width:100%;\"></div>            <script type=\"text/javascript\">                require([\"plotly\"], function(Plotly) {                    window.PLOTLYENV=window.PLOTLYENV || {};                                    if (document.getElementById(\"c1fda682-d5f8-4d79-9d0f-5d3cc0d759ef\")) {                    Plotly.newPlot(                        \"c1fda682-d5f8-4d79-9d0f-5d3cc0d759ef\",                        [{\"hovertemplate\": \"method=sklearn<br>Tolerance rate=%{x}<br>Log_distance=%{y}<extra></extra>\", \"legendgroup\": \"sklearn\", \"line\": {\"color\": \"#636efa\", \"dash\": \"solid\"}, \"mode\": \"lines\", \"name\": \"sklearn\", \"orientation\": \"v\", \"showlegend\": true, \"type\": \"scatter\", \"x\": [\"0.1\", \"0.01\", \"0.001\", \"1e-04\", \"1e-05\", \"1e-06\", \"1e-07\", \"1e-08\"], \"xaxis\": \"x\", \"y\": [0.011970517018329059, 0.0013430822170869576, 0.0013430822170869576, 0.0011731241043401116, 0.0011731241043401116, 0.0010369093279743136, 0.0010279610140797933, 0.0010278864255925753], \"yaxis\": \"y\"}, {\"hovertemplate\": \"method=regain<br>Tolerance rate=%{x}<br>Log_distance=%{y}<extra></extra>\", \"legendgroup\": \"regain\", \"line\": {\"color\": \"#EF553B\", \"dash\": \"solid\"}, \"mode\": \"lines\", \"name\": \"regain\", \"orientation\": \"v\", \"showlegend\": true, \"type\": \"scatter\", \"x\": [\"0.1\", \"0.01\", \"0.001\", \"1e-04\", \"1e-05\", \"1e-06\", \"1e-07\", \"1e-08\"], \"xaxis\": \"x\", \"y\": [6.982504524886847, 6.982504524886847, 1.1886085503624217, 0.10679920123756906, 0.010227400078773041, 0.0001653344604678729, 0.0009176861184409964, 0.001016003229802753], \"yaxis\": \"y\"}, {\"hovertemplate\": \"method=admm<br>Tolerance rate=%{x}<br>Log_distance=%{y}<extra></extra>\", \"legendgroup\": \"admm\", \"line\": {\"color\": \"#00cc96\", \"dash\": \"solid\"}, \"mode\": \"lines\", \"name\": \"admm\", \"orientation\": \"v\", \"showlegend\": true, \"type\": \"scatter\", \"x\": [\"0.1\", \"0.01\", \"0.001\", \"1e-04\", \"1e-05\", \"1e-06\", \"1e-07\", \"1e-08\"], \"xaxis\": \"x\", \"y\": [9.60704856313666, 9.60704856313666, 9.60704856313666, 3.5902719094678615, 0.5582211276329533, 0.05936400479690431, 0.007172470480097937, 0.0016441878764529], \"yaxis\": \"y\"}, {\"hovertemplate\": \"method=kkt_admm<br>Tolerance rate=%{x}<br>Log_distance=%{y}<extra></extra>\", \"legendgroup\": \"kkt_admm\", \"line\": {\"color\": \"#ab63fa\", \"dash\": \"solid\"}, \"mode\": \"lines\", \"name\": \"kkt_admm\", \"orientation\": \"v\", \"showlegend\": true, \"type\": \"scatter\", \"x\": [\"0.1\", \"0.01\", \"0.001\", \"1e-04\", \"1e-05\", \"1e-06\", \"1e-07\", \"1e-08\"], \"xaxis\": \"x\", \"y\": [7.971541699101097, 1.9350657647815706, 0.24539547180332869, 0.025737382179895536, 0.003666919436181661, 0.001294040963107283, 0.0010530265880702506, 0.0010304601496386098], \"yaxis\": \"y\"}, {\"hovertemplate\": \"method=block_admm<br>Tolerance rate=%{x}<br>Log_distance=%{y}<extra></extra>\", \"legendgroup\": \"block_admm\", \"line\": {\"color\": \"#FFA15A\", \"dash\": \"solid\"}, \"mode\": \"lines\", \"name\": \"block_admm\", \"orientation\": \"v\", \"showlegend\": true, \"type\": \"scatter\", \"x\": [\"0.1\", \"0.01\", \"0.001\", \"1e-04\", \"1e-05\", \"1e-06\", \"1e-07\", \"1e-08\"], \"xaxis\": \"x\", \"y\": [9.60704856313666, 9.60704856313666, 9.60704856313666, 3.5902719094678615, 0.5582211276329533, 0.05936400479690431, 0.007172470480097937, 0.0016441878764529], \"yaxis\": \"y\"}, {\"hovertemplate\": \"method=kkt_block_admm<br>Tolerance rate=%{x}<br>Log_distance=%{y}<extra></extra>\", \"legendgroup\": \"kkt_block_admm\", \"line\": {\"color\": \"#19d3f3\", \"dash\": \"solid\"}, \"mode\": \"lines\", \"name\": \"kkt_block_admm\", \"orientation\": \"v\", \"showlegend\": true, \"type\": \"scatter\", \"x\": [\"0.1\", \"0.01\", \"0.001\", \"1e-04\", \"1e-05\", \"1e-06\", \"1e-07\", \"1e-08\"], \"xaxis\": \"x\", \"y\": [7.971541699101097, 1.9350657647815706, 0.24539547180332869, 0.025737382179895536, 0.003666919436181661, 0.001294040963107283, 0.0010530265880702506, 0.0010304601496386098], \"yaxis\": \"y\"}],                        {\"legend\": {\"title\": {\"text\": \"method\"}, \"tracegroupgap\": 0}, \"template\": {\"data\": {\"bar\": [{\"error_x\": {\"color\": \"#2a3f5f\"}, \"error_y\": {\"color\": \"#2a3f5f\"}, \"marker\": {\"line\": {\"color\": \"white\", \"width\": 0.5}}, \"type\": \"bar\"}], \"barpolar\": [{\"marker\": {\"line\": {\"color\": \"white\", \"width\": 0.5}}, \"type\": \"barpolar\"}], \"carpet\": [{\"aaxis\": {\"endlinecolor\": \"#2a3f5f\", \"gridcolor\": \"#C8D4E3\", \"linecolor\": \"#C8D4E3\", \"minorgridcolor\": \"#C8D4E3\", \"startlinecolor\": \"#2a3f5f\"}, \"baxis\": {\"endlinecolor\": \"#2a3f5f\", \"gridcolor\": \"#C8D4E3\", \"linecolor\": \"#C8D4E3\", \"minorgridcolor\": \"#C8D4E3\", \"startlinecolor\": \"#2a3f5f\"}, \"type\": \"carpet\"}], \"choropleth\": [{\"colorbar\": {\"outlinewidth\": 0, \"ticks\": \"\"}, \"type\": \"choropleth\"}], \"contour\": [{\"colorbar\": {\"outlinewidth\": 0, \"ticks\": \"\"}, \"colorscale\": [[0.0, \"#0d0887\"], [0.1111111111111111, \"#46039f\"], [0.2222222222222222, \"#7201a8\"], [0.3333333333333333, \"#9c179e\"], [0.4444444444444444, \"#bd3786\"], [0.5555555555555556, \"#d8576b\"], [0.6666666666666666, \"#ed7953\"], [0.7777777777777778, \"#fb9f3a\"], [0.8888888888888888, \"#fdca26\"], [1.0, \"#f0f921\"]], \"type\": \"contour\"}], \"contourcarpet\": [{\"colorbar\": {\"outlinewidth\": 0, \"ticks\": \"\"}, \"type\": \"contourcarpet\"}], \"heatmap\": [{\"colorbar\": {\"outlinewidth\": 0, \"ticks\": \"\"}, \"colorscale\": [[0.0, \"#0d0887\"], [0.1111111111111111, \"#46039f\"], [0.2222222222222222, \"#7201a8\"], [0.3333333333333333, \"#9c179e\"], [0.4444444444444444, \"#bd3786\"], [0.5555555555555556, \"#d8576b\"], [0.6666666666666666, \"#ed7953\"], [0.7777777777777778, \"#fb9f3a\"], [0.8888888888888888, \"#fdca26\"], [1.0, \"#f0f921\"]], \"type\": \"heatmap\"}], \"heatmapgl\": [{\"colorbar\": {\"outlinewidth\": 0, \"ticks\": \"\"}, \"colorscale\": [[0.0, \"#0d0887\"], [0.1111111111111111, \"#46039f\"], [0.2222222222222222, \"#7201a8\"], [0.3333333333333333, \"#9c179e\"], [0.4444444444444444, \"#bd3786\"], [0.5555555555555556, \"#d8576b\"], [0.6666666666666666, \"#ed7953\"], [0.7777777777777778, \"#fb9f3a\"], [0.8888888888888888, \"#fdca26\"], [1.0, \"#f0f921\"]], \"type\": \"heatmapgl\"}], \"histogram\": [{\"marker\": {\"colorbar\": {\"outlinewidth\": 0, \"ticks\": \"\"}}, \"type\": \"histogram\"}], \"histogram2d\": [{\"colorbar\": {\"outlinewidth\": 0, \"ticks\": \"\"}, \"colorscale\": [[0.0, \"#0d0887\"], [0.1111111111111111, \"#46039f\"], [0.2222222222222222, \"#7201a8\"], [0.3333333333333333, \"#9c179e\"], [0.4444444444444444, \"#bd3786\"], [0.5555555555555556, \"#d8576b\"], [0.6666666666666666, \"#ed7953\"], [0.7777777777777778, \"#fb9f3a\"], [0.8888888888888888, \"#fdca26\"], [1.0, \"#f0f921\"]], \"type\": \"histogram2d\"}], \"histogram2dcontour\": [{\"colorbar\": {\"outlinewidth\": 0, \"ticks\": \"\"}, \"colorscale\": [[0.0, \"#0d0887\"], [0.1111111111111111, \"#46039f\"], [0.2222222222222222, \"#7201a8\"], [0.3333333333333333, \"#9c179e\"], [0.4444444444444444, \"#bd3786\"], [0.5555555555555556, \"#d8576b\"], [0.6666666666666666, \"#ed7953\"], [0.7777777777777778, \"#fb9f3a\"], [0.8888888888888888, \"#fdca26\"], [1.0, \"#f0f921\"]], \"type\": \"histogram2dcontour\"}], \"mesh3d\": [{\"colorbar\": {\"outlinewidth\": 0, \"ticks\": \"\"}, \"type\": \"mesh3d\"}], \"parcoords\": [{\"line\": {\"colorbar\": {\"outlinewidth\": 0, \"ticks\": \"\"}}, \"type\": \"parcoords\"}], \"pie\": [{\"automargin\": true, \"type\": \"pie\"}], \"scatter\": [{\"marker\": {\"colorbar\": {\"outlinewidth\": 0, \"ticks\": \"\"}}, \"type\": \"scatter\"}], \"scatter3d\": [{\"line\": {\"colorbar\": {\"outlinewidth\": 0, \"ticks\": \"\"}}, \"marker\": {\"colorbar\": {\"outlinewidth\": 0, \"ticks\": \"\"}}, \"type\": \"scatter3d\"}], \"scattercarpet\": [{\"marker\": {\"colorbar\": {\"outlinewidth\": 0, \"ticks\": \"\"}}, \"type\": \"scattercarpet\"}], \"scattergeo\": [{\"marker\": {\"colorbar\": {\"outlinewidth\": 0, \"ticks\": \"\"}}, \"type\": \"scattergeo\"}], \"scattergl\": [{\"marker\": {\"colorbar\": {\"outlinewidth\": 0, \"ticks\": \"\"}}, \"type\": \"scattergl\"}], \"scattermapbox\": [{\"marker\": {\"colorbar\": {\"outlinewidth\": 0, \"ticks\": \"\"}}, \"type\": \"scattermapbox\"}], \"scatterpolar\": [{\"marker\": {\"colorbar\": {\"outlinewidth\": 0, \"ticks\": \"\"}}, \"type\": \"scatterpolar\"}], \"scatterpolargl\": [{\"marker\": {\"colorbar\": {\"outlinewidth\": 0, \"ticks\": \"\"}}, \"type\": \"scatterpolargl\"}], \"scatterternary\": [{\"marker\": {\"colorbar\": {\"outlinewidth\": 0, \"ticks\": \"\"}}, \"type\": \"scatterternary\"}], \"surface\": [{\"colorbar\": {\"outlinewidth\": 0, \"ticks\": \"\"}, \"colorscale\": [[0.0, \"#0d0887\"], [0.1111111111111111, \"#46039f\"], [0.2222222222222222, \"#7201a8\"], [0.3333333333333333, \"#9c179e\"], [0.4444444444444444, \"#bd3786\"], [0.5555555555555556, \"#d8576b\"], [0.6666666666666666, \"#ed7953\"], [0.7777777777777778, \"#fb9f3a\"], [0.8888888888888888, \"#fdca26\"], [1.0, \"#f0f921\"]], \"type\": \"surface\"}], \"table\": [{\"cells\": {\"fill\": {\"color\": \"#EBF0F8\"}, \"line\": {\"color\": \"white\"}}, \"header\": {\"fill\": {\"color\": \"#C8D4E3\"}, \"line\": {\"color\": \"white\"}}, \"type\": \"table\"}]}, \"layout\": {\"annotationdefaults\": {\"arrowcolor\": \"#2a3f5f\", \"arrowhead\": 0, \"arrowwidth\": 1}, \"autotypenumbers\": \"strict\", \"coloraxis\": {\"colorbar\": {\"outlinewidth\": 0, \"ticks\": \"\"}}, \"colorscale\": {\"diverging\": [[0, \"#8e0152\"], [0.1, \"#c51b7d\"], [0.2, \"#de77ae\"], [0.3, \"#f1b6da\"], [0.4, \"#fde0ef\"], [0.5, \"#f7f7f7\"], [0.6, \"#e6f5d0\"], [0.7, \"#b8e186\"], [0.8, \"#7fbc41\"], [0.9, \"#4d9221\"], [1, \"#276419\"]], \"sequential\": [[0.0, \"#0d0887\"], [0.1111111111111111, \"#46039f\"], [0.2222222222222222, \"#7201a8\"], [0.3333333333333333, \"#9c179e\"], [0.4444444444444444, \"#bd3786\"], [0.5555555555555556, \"#d8576b\"], [0.6666666666666666, \"#ed7953\"], [0.7777777777777778, \"#fb9f3a\"], [0.8888888888888888, \"#fdca26\"], [1.0, \"#f0f921\"]], \"sequentialminus\": [[0.0, \"#0d0887\"], [0.1111111111111111, \"#46039f\"], [0.2222222222222222, \"#7201a8\"], [0.3333333333333333, \"#9c179e\"], [0.4444444444444444, \"#bd3786\"], [0.5555555555555556, \"#d8576b\"], [0.6666666666666666, \"#ed7953\"], [0.7777777777777778, \"#fb9f3a\"], [0.8888888888888888, \"#fdca26\"], [1.0, \"#f0f921\"]]}, \"colorway\": [\"#636efa\", \"#EF553B\", \"#00cc96\", \"#ab63fa\", \"#FFA15A\", \"#19d3f3\", \"#FF6692\", \"#B6E880\", \"#FF97FF\", \"#FECB52\"], \"font\": {\"color\": \"#2a3f5f\"}, \"geo\": {\"bgcolor\": \"white\", \"lakecolor\": \"white\", \"landcolor\": \"white\", \"showlakes\": true, \"showland\": true, \"subunitcolor\": \"#C8D4E3\"}, \"hoverlabel\": {\"align\": \"left\"}, \"hovermode\": \"closest\", \"mapbox\": {\"style\": \"light\"}, \"paper_bgcolor\": \"white\", \"plot_bgcolor\": \"white\", \"polar\": {\"angularaxis\": {\"gridcolor\": \"#EBF0F8\", \"linecolor\": \"#EBF0F8\", \"ticks\": \"\"}, \"bgcolor\": \"white\", \"radialaxis\": {\"gridcolor\": \"#EBF0F8\", \"linecolor\": \"#EBF0F8\", \"ticks\": \"\"}}, \"scene\": {\"xaxis\": {\"backgroundcolor\": \"white\", \"gridcolor\": \"#DFE8F3\", \"gridwidth\": 2, \"linecolor\": \"#EBF0F8\", \"showbackground\": true, \"ticks\": \"\", \"zerolinecolor\": \"#EBF0F8\"}, \"yaxis\": {\"backgroundcolor\": \"white\", \"gridcolor\": \"#DFE8F3\", \"gridwidth\": 2, \"linecolor\": \"#EBF0F8\", \"showbackground\": true, \"ticks\": \"\", \"zerolinecolor\": \"#EBF0F8\"}, \"zaxis\": {\"backgroundcolor\": \"white\", \"gridcolor\": \"#DFE8F3\", \"gridwidth\": 2, \"linecolor\": \"#EBF0F8\", \"showbackground\": true, \"ticks\": \"\", \"zerolinecolor\": \"#EBF0F8\"}}, \"shapedefaults\": {\"line\": {\"color\": \"#2a3f5f\"}}, \"ternary\": {\"aaxis\": {\"gridcolor\": \"#DFE8F3\", \"linecolor\": \"#A2B1C6\", \"ticks\": \"\"}, \"baxis\": {\"gridcolor\": \"#DFE8F3\", \"linecolor\": \"#A2B1C6\", \"ticks\": \"\"}, \"bgcolor\": \"white\", \"caxis\": {\"gridcolor\": \"#DFE8F3\", \"linecolor\": \"#A2B1C6\", \"ticks\": \"\"}}, \"title\": {\"x\": 0.05}, \"xaxis\": {\"automargin\": true, \"gridcolor\": \"#EBF0F8\", \"linecolor\": \"#EBF0F8\", \"ticks\": \"\", \"title\": {\"standoff\": 15}, \"zerolinecolor\": \"#EBF0F8\", \"zerolinewidth\": 2}, \"yaxis\": {\"automargin\": true, \"gridcolor\": \"#EBF0F8\", \"linecolor\": \"#EBF0F8\", \"ticks\": \"\", \"title\": {\"standoff\": 15}, \"zerolinecolor\": \"#EBF0F8\", \"zerolinewidth\": 2}}}, \"title\": {\"text\": \"Log-distance between Z and Z' with respect to ADMM convergence rates\"}, \"xaxis\": {\"anchor\": \"y\", \"domain\": [0.0, 1.0], \"title\": {\"text\": \"Tolerance rate\"}}, \"yaxis\": {\"anchor\": \"x\", \"domain\": [0.0, 1.0], \"title\": {\"text\": \"Log_distance\"}, \"type\": \"log\"}},                        {\"responsive\": true}                    ).then(function(){\n",
       "                            \n",
       "var gd = document.getElementById('c1fda682-d5f8-4d79-9d0f-5d3cc0d759ef');\n",
       "var x = new MutationObserver(function (mutations, observer) {{\n",
       "        var display = window.getComputedStyle(gd).display;\n",
       "        if (!display || display === 'none') {{\n",
       "            console.log([gd, 'removed!']);\n",
       "            Plotly.purge(gd);\n",
       "            observer.disconnect();\n",
       "        }}\n",
       "}});\n",
       "\n",
       "// Listen for the removal of the full notebook cells\n",
       "var notebookContainer = gd.closest('#notebook-container');\n",
       "if (notebookContainer) {{\n",
       "    x.observe(notebookContainer, {childList: true});\n",
       "}}\n",
       "\n",
       "// Listen for the clearing of the current output cell\n",
       "var outputEl = gd.closest('.output');\n",
       "if (outputEl) {{\n",
       "    x.observe(outputEl, {childList: true});\n",
       "}}\n",
       "\n",
       "                        })                };                });            </script>        </div>"
      ]
     },
     "metadata": {},
     "output_type": "display_data"
    }
   ],
   "source": [
    "fig = px.line(df, x=\"str_tol\", y=\"distance\", color= \"method\", log_y = True,\n",
    "              labels={\n",
    "                     \"str_tol\": \"Tolerance rate\",\n",
    "                     \"distance\": \"Log_distance\",\n",
    "                     \"method\": \"method\"\n",
    "                 },\n",
    "              template = \"plotly_white\",\n",
    "              title=\"Log-distance between Z and Z' with respect to ADMM convergence rates\")\n",
    "fig.show()"
   ]
  },
  {
   "cell_type": "code",
   "execution_count": 330,
   "id": "noted-pendant",
   "metadata": {},
   "outputs": [
    {
     "data": {
      "text/html": [
       "<div>\n",
       "<style scoped>\n",
       "    .dataframe tbody tr th:only-of-type {\n",
       "        vertical-align: middle;\n",
       "    }\n",
       "\n",
       "    .dataframe tbody tr th {\n",
       "        vertical-align: top;\n",
       "    }\n",
       "\n",
       "    .dataframe thead th {\n",
       "        text-align: right;\n",
       "    }\n",
       "</style>\n",
       "<table border=\"1\" class=\"dataframe\">\n",
       "  <thead>\n",
       "    <tr style=\"text-align: right;\">\n",
       "      <th></th>\n",
       "      <th>time</th>\n",
       "      <th>distance</th>\n",
       "      <th>method</th>\n",
       "      <th>tol_rate</th>\n",
       "      <th>str_tol</th>\n",
       "      <th>log_distance</th>\n",
       "      <th>sec_time</th>\n",
       "    </tr>\n",
       "  </thead>\n",
       "  <tbody>\n",
       "    <tr>\n",
       "      <th>0</th>\n",
       "      <td>00:00:00.07</td>\n",
       "      <td>0.011971</td>\n",
       "      <td>sklearn</td>\n",
       "      <td>0.10000</td>\n",
       "      <td>0.1</td>\n",
       "      <td>-4.425309</td>\n",
       "      <td>0.07</td>\n",
       "    </tr>\n",
       "    <tr>\n",
       "      <th>1</th>\n",
       "      <td>00:00:00.06</td>\n",
       "      <td>0.001343</td>\n",
       "      <td>sklearn</td>\n",
       "      <td>0.01000</td>\n",
       "      <td>0.01</td>\n",
       "      <td>-6.612788</td>\n",
       "      <td>0.06</td>\n",
       "    </tr>\n",
       "    <tr>\n",
       "      <th>2</th>\n",
       "      <td>00:00:00.05</td>\n",
       "      <td>0.001343</td>\n",
       "      <td>sklearn</td>\n",
       "      <td>0.00100</td>\n",
       "      <td>0.001</td>\n",
       "      <td>-6.612788</td>\n",
       "      <td>0.05</td>\n",
       "    </tr>\n",
       "    <tr>\n",
       "      <th>3</th>\n",
       "      <td>00:00:00.08</td>\n",
       "      <td>0.001173</td>\n",
       "      <td>sklearn</td>\n",
       "      <td>0.00010</td>\n",
       "      <td>1e-04</td>\n",
       "      <td>-6.748085</td>\n",
       "      <td>0.08</td>\n",
       "    </tr>\n",
       "    <tr>\n",
       "      <th>4</th>\n",
       "      <td>00:00:00.08</td>\n",
       "      <td>0.001173</td>\n",
       "      <td>sklearn</td>\n",
       "      <td>0.00001</td>\n",
       "      <td>1e-05</td>\n",
       "      <td>-6.748085</td>\n",
       "      <td>0.08</td>\n",
       "    </tr>\n",
       "  </tbody>\n",
       "</table>\n",
       "</div>"
      ],
      "text/plain": [
       "          time  distance   method  tol_rate str_tol  log_distance  sec_time\n",
       "0  00:00:00.07  0.011971  sklearn   0.10000     0.1     -4.425309      0.07\n",
       "1  00:00:00.06  0.001343  sklearn   0.01000    0.01     -6.612788      0.06\n",
       "2  00:00:00.05  0.001343  sklearn   0.00100   0.001     -6.612788      0.05\n",
       "3  00:00:00.08  0.001173  sklearn   0.00010   1e-04     -6.748085      0.08\n",
       "4  00:00:00.08  0.001173  sklearn   0.00001   1e-05     -6.748085      0.08"
      ]
     },
     "execution_count": 330,
     "metadata": {},
     "output_type": "execute_result"
    }
   ],
   "source": [
    "df = df.reset_index(drop=True)\n",
    "\n",
    "for i, row in df.iterrows():\n",
    "    sec_time = df['time'][i][-5:]\n",
    "    df.at[i,'sec_time'] = sec_time\n",
    "df['sec_time'] = pd.to_numeric(df['sec_time'])\n",
    "df.head()"
   ]
  },
  {
   "cell_type": "markdown",
   "id": "premium-receptor",
   "metadata": {},
   "source": [
    "## Time plot"
   ]
  },
  {
   "cell_type": "code",
   "execution_count": 331,
   "id": "proved-departure",
   "metadata": {},
   "outputs": [
    {
     "data": {
      "application/vnd.plotly.v1+json": {
       "config": {
        "plotlyServerURL": "https://plot.ly"
       },
       "data": [
        {
         "hovertemplate": "method=sklearn<br>Time, s=%{x}<br>Log_distance=%{y}<extra></extra>",
         "legendgroup": "sklearn",
         "line": {
          "color": "#636efa",
          "dash": "solid"
         },
         "mode": "lines",
         "name": "sklearn",
         "orientation": "v",
         "showlegend": true,
         "textposition": "top center",
         "type": "scatter",
         "x": [
          0.07,
          0.06,
          0.05,
          0.08,
          0.08,
          0.15,
          0.33,
          0.45
         ],
         "xaxis": "x",
         "y": [
          0.011970517018329059,
          0.0013430822170869576,
          0.0013430822170869576,
          0.0011731241043401116,
          0.0011731241043401116,
          0.0010369093279743136,
          0.0010279610140797933,
          0.0010278864255925753
         ],
         "yaxis": "y"
        },
        {
         "hovertemplate": "method=regain<br>Time, s=%{x}<br>Log_distance=%{y}<extra></extra>",
         "legendgroup": "regain",
         "line": {
          "color": "#EF553B",
          "dash": "solid"
         },
         "mode": "lines",
         "name": "regain",
         "orientation": "v",
         "showlegend": true,
         "textposition": "top center",
         "type": "scatter",
         "x": [
          0.02,
          0.02,
          0.06,
          0.08,
          0.14,
          0.17,
          0.21,
          0.25
         ],
         "xaxis": "x",
         "y": [
          6.982504524886847,
          6.982504524886847,
          1.1886085503624217,
          0.10679920123756906,
          0.010227400078773041,
          0.0001653344604678729,
          0.0009176861184409964,
          0.001016003229802753
         ],
         "yaxis": "y"
        },
        {
         "hovertemplate": "method=admm<br>Time, s=%{x}<br>Log_distance=%{y}<extra></extra>",
         "legendgroup": "admm",
         "line": {
          "color": "#00cc96",
          "dash": "solid"
         },
         "mode": "lines",
         "name": "admm",
         "orientation": "v",
         "showlegend": true,
         "textposition": "top center",
         "type": "scatter",
         "x": [
          0.01,
          0,
          0,
          0.02,
          0.06,
          0.14,
          0.22,
          0.31
         ],
         "xaxis": "x",
         "y": [
          9.60704856313666,
          9.60704856313666,
          9.60704856313666,
          3.5902719094678615,
          0.5582211276329533,
          0.05936400479690431,
          0.007172470480097937,
          0.0016441878764529
         ],
         "yaxis": "y"
        },
        {
         "hovertemplate": "method=kkt_admm<br>Time, s=%{x}<br>Log_distance=%{y}<extra></extra>",
         "legendgroup": "kkt_admm",
         "line": {
          "color": "#ab63fa",
          "dash": "solid"
         },
         "mode": "lines",
         "name": "kkt_admm",
         "orientation": "v",
         "showlegend": true,
         "textposition": "top center",
         "type": "scatter",
         "x": [
          0.01,
          0.07,
          0.2,
          0.35,
          0.38,
          0.61,
          0.71,
          0.78
         ],
         "xaxis": "x",
         "y": [
          7.971541699101097,
          1.9350657647815706,
          0.24539547180332869,
          0.025737382179895536,
          0.003666919436181661,
          0.001294040963107283,
          0.0010530265880702506,
          0.0010304601496386098
         ],
         "yaxis": "y"
        },
        {
         "hovertemplate": "method=block_admm<br>Time, s=%{x}<br>Log_distance=%{y}<extra></extra>",
         "legendgroup": "block_admm",
         "line": {
          "color": "#FFA15A",
          "dash": "solid"
         },
         "mode": "lines",
         "name": "block_admm",
         "orientation": "v",
         "showlegend": true,
         "textposition": "top center",
         "type": "scatter",
         "x": [
          0.01,
          0.01,
          0.01,
          0.02,
          0.09,
          0.16,
          0.21,
          0.3
         ],
         "xaxis": "x",
         "y": [
          9.60704856313666,
          9.60704856313666,
          9.60704856313666,
          3.5902719094678615,
          0.5582211276329533,
          0.05936400479690431,
          0.007172470480097937,
          0.0016441878764529
         ],
         "yaxis": "y"
        },
        {
         "hovertemplate": "method=kkt_block_admm<br>Time, s=%{x}<br>Log_distance=%{y}<extra></extra>",
         "legendgroup": "kkt_block_admm",
         "line": {
          "color": "#19d3f3",
          "dash": "solid"
         },
         "mode": "lines",
         "name": "kkt_block_admm",
         "orientation": "v",
         "showlegend": true,
         "textposition": "top center",
         "type": "scatter",
         "x": [
          0.02,
          0.07,
          0.2,
          0.27,
          0.47,
          0.58,
          0.7,
          0.81
         ],
         "xaxis": "x",
         "y": [
          7.971541699101097,
          1.9350657647815706,
          0.24539547180332869,
          0.025737382179895536,
          0.003666919436181661,
          0.001294040963107283,
          0.0010530265880702506,
          0.0010304601496386098
         ],
         "yaxis": "y"
        }
       ],
       "layout": {
        "legend": {
         "title": {
          "text": "method"
         },
         "tracegroupgap": 0
        },
        "template": {
         "data": {
          "bar": [
           {
            "error_x": {
             "color": "#2a3f5f"
            },
            "error_y": {
             "color": "#2a3f5f"
            },
            "marker": {
             "line": {
              "color": "white",
              "width": 0.5
             }
            },
            "type": "bar"
           }
          ],
          "barpolar": [
           {
            "marker": {
             "line": {
              "color": "white",
              "width": 0.5
             }
            },
            "type": "barpolar"
           }
          ],
          "carpet": [
           {
            "aaxis": {
             "endlinecolor": "#2a3f5f",
             "gridcolor": "#C8D4E3",
             "linecolor": "#C8D4E3",
             "minorgridcolor": "#C8D4E3",
             "startlinecolor": "#2a3f5f"
            },
            "baxis": {
             "endlinecolor": "#2a3f5f",
             "gridcolor": "#C8D4E3",
             "linecolor": "#C8D4E3",
             "minorgridcolor": "#C8D4E3",
             "startlinecolor": "#2a3f5f"
            },
            "type": "carpet"
           }
          ],
          "choropleth": [
           {
            "colorbar": {
             "outlinewidth": 0,
             "ticks": ""
            },
            "type": "choropleth"
           }
          ],
          "contour": [
           {
            "colorbar": {
             "outlinewidth": 0,
             "ticks": ""
            },
            "colorscale": [
             [
              0,
              "#0d0887"
             ],
             [
              0.1111111111111111,
              "#46039f"
             ],
             [
              0.2222222222222222,
              "#7201a8"
             ],
             [
              0.3333333333333333,
              "#9c179e"
             ],
             [
              0.4444444444444444,
              "#bd3786"
             ],
             [
              0.5555555555555556,
              "#d8576b"
             ],
             [
              0.6666666666666666,
              "#ed7953"
             ],
             [
              0.7777777777777778,
              "#fb9f3a"
             ],
             [
              0.8888888888888888,
              "#fdca26"
             ],
             [
              1,
              "#f0f921"
             ]
            ],
            "type": "contour"
           }
          ],
          "contourcarpet": [
           {
            "colorbar": {
             "outlinewidth": 0,
             "ticks": ""
            },
            "type": "contourcarpet"
           }
          ],
          "heatmap": [
           {
            "colorbar": {
             "outlinewidth": 0,
             "ticks": ""
            },
            "colorscale": [
             [
              0,
              "#0d0887"
             ],
             [
              0.1111111111111111,
              "#46039f"
             ],
             [
              0.2222222222222222,
              "#7201a8"
             ],
             [
              0.3333333333333333,
              "#9c179e"
             ],
             [
              0.4444444444444444,
              "#bd3786"
             ],
             [
              0.5555555555555556,
              "#d8576b"
             ],
             [
              0.6666666666666666,
              "#ed7953"
             ],
             [
              0.7777777777777778,
              "#fb9f3a"
             ],
             [
              0.8888888888888888,
              "#fdca26"
             ],
             [
              1,
              "#f0f921"
             ]
            ],
            "type": "heatmap"
           }
          ],
          "heatmapgl": [
           {
            "colorbar": {
             "outlinewidth": 0,
             "ticks": ""
            },
            "colorscale": [
             [
              0,
              "#0d0887"
             ],
             [
              0.1111111111111111,
              "#46039f"
             ],
             [
              0.2222222222222222,
              "#7201a8"
             ],
             [
              0.3333333333333333,
              "#9c179e"
             ],
             [
              0.4444444444444444,
              "#bd3786"
             ],
             [
              0.5555555555555556,
              "#d8576b"
             ],
             [
              0.6666666666666666,
              "#ed7953"
             ],
             [
              0.7777777777777778,
              "#fb9f3a"
             ],
             [
              0.8888888888888888,
              "#fdca26"
             ],
             [
              1,
              "#f0f921"
             ]
            ],
            "type": "heatmapgl"
           }
          ],
          "histogram": [
           {
            "marker": {
             "colorbar": {
              "outlinewidth": 0,
              "ticks": ""
             }
            },
            "type": "histogram"
           }
          ],
          "histogram2d": [
           {
            "colorbar": {
             "outlinewidth": 0,
             "ticks": ""
            },
            "colorscale": [
             [
              0,
              "#0d0887"
             ],
             [
              0.1111111111111111,
              "#46039f"
             ],
             [
              0.2222222222222222,
              "#7201a8"
             ],
             [
              0.3333333333333333,
              "#9c179e"
             ],
             [
              0.4444444444444444,
              "#bd3786"
             ],
             [
              0.5555555555555556,
              "#d8576b"
             ],
             [
              0.6666666666666666,
              "#ed7953"
             ],
             [
              0.7777777777777778,
              "#fb9f3a"
             ],
             [
              0.8888888888888888,
              "#fdca26"
             ],
             [
              1,
              "#f0f921"
             ]
            ],
            "type": "histogram2d"
           }
          ],
          "histogram2dcontour": [
           {
            "colorbar": {
             "outlinewidth": 0,
             "ticks": ""
            },
            "colorscale": [
             [
              0,
              "#0d0887"
             ],
             [
              0.1111111111111111,
              "#46039f"
             ],
             [
              0.2222222222222222,
              "#7201a8"
             ],
             [
              0.3333333333333333,
              "#9c179e"
             ],
             [
              0.4444444444444444,
              "#bd3786"
             ],
             [
              0.5555555555555556,
              "#d8576b"
             ],
             [
              0.6666666666666666,
              "#ed7953"
             ],
             [
              0.7777777777777778,
              "#fb9f3a"
             ],
             [
              0.8888888888888888,
              "#fdca26"
             ],
             [
              1,
              "#f0f921"
             ]
            ],
            "type": "histogram2dcontour"
           }
          ],
          "mesh3d": [
           {
            "colorbar": {
             "outlinewidth": 0,
             "ticks": ""
            },
            "type": "mesh3d"
           }
          ],
          "parcoords": [
           {
            "line": {
             "colorbar": {
              "outlinewidth": 0,
              "ticks": ""
             }
            },
            "type": "parcoords"
           }
          ],
          "pie": [
           {
            "automargin": true,
            "type": "pie"
           }
          ],
          "scatter": [
           {
            "marker": {
             "colorbar": {
              "outlinewidth": 0,
              "ticks": ""
             }
            },
            "type": "scatter"
           }
          ],
          "scatter3d": [
           {
            "line": {
             "colorbar": {
              "outlinewidth": 0,
              "ticks": ""
             }
            },
            "marker": {
             "colorbar": {
              "outlinewidth": 0,
              "ticks": ""
             }
            },
            "type": "scatter3d"
           }
          ],
          "scattercarpet": [
           {
            "marker": {
             "colorbar": {
              "outlinewidth": 0,
              "ticks": ""
             }
            },
            "type": "scattercarpet"
           }
          ],
          "scattergeo": [
           {
            "marker": {
             "colorbar": {
              "outlinewidth": 0,
              "ticks": ""
             }
            },
            "type": "scattergeo"
           }
          ],
          "scattergl": [
           {
            "marker": {
             "colorbar": {
              "outlinewidth": 0,
              "ticks": ""
             }
            },
            "type": "scattergl"
           }
          ],
          "scattermapbox": [
           {
            "marker": {
             "colorbar": {
              "outlinewidth": 0,
              "ticks": ""
             }
            },
            "type": "scattermapbox"
           }
          ],
          "scatterpolar": [
           {
            "marker": {
             "colorbar": {
              "outlinewidth": 0,
              "ticks": ""
             }
            },
            "type": "scatterpolar"
           }
          ],
          "scatterpolargl": [
           {
            "marker": {
             "colorbar": {
              "outlinewidth": 0,
              "ticks": ""
             }
            },
            "type": "scatterpolargl"
           }
          ],
          "scatterternary": [
           {
            "marker": {
             "colorbar": {
              "outlinewidth": 0,
              "ticks": ""
             }
            },
            "type": "scatterternary"
           }
          ],
          "surface": [
           {
            "colorbar": {
             "outlinewidth": 0,
             "ticks": ""
            },
            "colorscale": [
             [
              0,
              "#0d0887"
             ],
             [
              0.1111111111111111,
              "#46039f"
             ],
             [
              0.2222222222222222,
              "#7201a8"
             ],
             [
              0.3333333333333333,
              "#9c179e"
             ],
             [
              0.4444444444444444,
              "#bd3786"
             ],
             [
              0.5555555555555556,
              "#d8576b"
             ],
             [
              0.6666666666666666,
              "#ed7953"
             ],
             [
              0.7777777777777778,
              "#fb9f3a"
             ],
             [
              0.8888888888888888,
              "#fdca26"
             ],
             [
              1,
              "#f0f921"
             ]
            ],
            "type": "surface"
           }
          ],
          "table": [
           {
            "cells": {
             "fill": {
              "color": "#EBF0F8"
             },
             "line": {
              "color": "white"
             }
            },
            "header": {
             "fill": {
              "color": "#C8D4E3"
             },
             "line": {
              "color": "white"
             }
            },
            "type": "table"
           }
          ]
         },
         "layout": {
          "annotationdefaults": {
           "arrowcolor": "#2a3f5f",
           "arrowhead": 0,
           "arrowwidth": 1
          },
          "autotypenumbers": "strict",
          "coloraxis": {
           "colorbar": {
            "outlinewidth": 0,
            "ticks": ""
           }
          },
          "colorscale": {
           "diverging": [
            [
             0,
             "#8e0152"
            ],
            [
             0.1,
             "#c51b7d"
            ],
            [
             0.2,
             "#de77ae"
            ],
            [
             0.3,
             "#f1b6da"
            ],
            [
             0.4,
             "#fde0ef"
            ],
            [
             0.5,
             "#f7f7f7"
            ],
            [
             0.6,
             "#e6f5d0"
            ],
            [
             0.7,
             "#b8e186"
            ],
            [
             0.8,
             "#7fbc41"
            ],
            [
             0.9,
             "#4d9221"
            ],
            [
             1,
             "#276419"
            ]
           ],
           "sequential": [
            [
             0,
             "#0d0887"
            ],
            [
             0.1111111111111111,
             "#46039f"
            ],
            [
             0.2222222222222222,
             "#7201a8"
            ],
            [
             0.3333333333333333,
             "#9c179e"
            ],
            [
             0.4444444444444444,
             "#bd3786"
            ],
            [
             0.5555555555555556,
             "#d8576b"
            ],
            [
             0.6666666666666666,
             "#ed7953"
            ],
            [
             0.7777777777777778,
             "#fb9f3a"
            ],
            [
             0.8888888888888888,
             "#fdca26"
            ],
            [
             1,
             "#f0f921"
            ]
           ],
           "sequentialminus": [
            [
             0,
             "#0d0887"
            ],
            [
             0.1111111111111111,
             "#46039f"
            ],
            [
             0.2222222222222222,
             "#7201a8"
            ],
            [
             0.3333333333333333,
             "#9c179e"
            ],
            [
             0.4444444444444444,
             "#bd3786"
            ],
            [
             0.5555555555555556,
             "#d8576b"
            ],
            [
             0.6666666666666666,
             "#ed7953"
            ],
            [
             0.7777777777777778,
             "#fb9f3a"
            ],
            [
             0.8888888888888888,
             "#fdca26"
            ],
            [
             1,
             "#f0f921"
            ]
           ]
          },
          "colorway": [
           "#636efa",
           "#EF553B",
           "#00cc96",
           "#ab63fa",
           "#FFA15A",
           "#19d3f3",
           "#FF6692",
           "#B6E880",
           "#FF97FF",
           "#FECB52"
          ],
          "font": {
           "color": "#2a3f5f"
          },
          "geo": {
           "bgcolor": "white",
           "lakecolor": "white",
           "landcolor": "white",
           "showlakes": true,
           "showland": true,
           "subunitcolor": "#C8D4E3"
          },
          "hoverlabel": {
           "align": "left"
          },
          "hovermode": "closest",
          "mapbox": {
           "style": "light"
          },
          "paper_bgcolor": "white",
          "plot_bgcolor": "white",
          "polar": {
           "angularaxis": {
            "gridcolor": "#EBF0F8",
            "linecolor": "#EBF0F8",
            "ticks": ""
           },
           "bgcolor": "white",
           "radialaxis": {
            "gridcolor": "#EBF0F8",
            "linecolor": "#EBF0F8",
            "ticks": ""
           }
          },
          "scene": {
           "xaxis": {
            "backgroundcolor": "white",
            "gridcolor": "#DFE8F3",
            "gridwidth": 2,
            "linecolor": "#EBF0F8",
            "showbackground": true,
            "ticks": "",
            "zerolinecolor": "#EBF0F8"
           },
           "yaxis": {
            "backgroundcolor": "white",
            "gridcolor": "#DFE8F3",
            "gridwidth": 2,
            "linecolor": "#EBF0F8",
            "showbackground": true,
            "ticks": "",
            "zerolinecolor": "#EBF0F8"
           },
           "zaxis": {
            "backgroundcolor": "white",
            "gridcolor": "#DFE8F3",
            "gridwidth": 2,
            "linecolor": "#EBF0F8",
            "showbackground": true,
            "ticks": "",
            "zerolinecolor": "#EBF0F8"
           }
          },
          "shapedefaults": {
           "line": {
            "color": "#2a3f5f"
           }
          },
          "ternary": {
           "aaxis": {
            "gridcolor": "#DFE8F3",
            "linecolor": "#A2B1C6",
            "ticks": ""
           },
           "baxis": {
            "gridcolor": "#DFE8F3",
            "linecolor": "#A2B1C6",
            "ticks": ""
           },
           "bgcolor": "white",
           "caxis": {
            "gridcolor": "#DFE8F3",
            "linecolor": "#A2B1C6",
            "ticks": ""
           }
          },
          "title": {
           "x": 0.05
          },
          "xaxis": {
           "automargin": true,
           "gridcolor": "#EBF0F8",
           "linecolor": "#EBF0F8",
           "ticks": "",
           "title": {
            "standoff": 15
           },
           "zerolinecolor": "#EBF0F8",
           "zerolinewidth": 2
          },
          "yaxis": {
           "automargin": true,
           "gridcolor": "#EBF0F8",
           "linecolor": "#EBF0F8",
           "ticks": "",
           "title": {
            "standoff": 15
           },
           "zerolinecolor": "#EBF0F8",
           "zerolinewidth": 2
          }
         }
        },
        "title": {
         "text": "ADMM perfomance comparison"
        },
        "xaxis": {
         "anchor": "y",
         "domain": [
          0,
          1
         ],
         "title": {
          "text": "Time, s"
         }
        },
        "yaxis": {
         "anchor": "x",
         "domain": [
          0,
          1
         ],
         "title": {
          "text": "Log_distance"
         },
         "type": "log"
        }
       }
      },
      "text/html": [
       "<div>                            <div id=\"be1c60e0-3291-4bb3-9865-2d68a19a6e54\" class=\"plotly-graph-div\" style=\"height:525px; width:100%;\"></div>            <script type=\"text/javascript\">                require([\"plotly\"], function(Plotly) {                    window.PLOTLYENV=window.PLOTLYENV || {};                                    if (document.getElementById(\"be1c60e0-3291-4bb3-9865-2d68a19a6e54\")) {                    Plotly.newPlot(                        \"be1c60e0-3291-4bb3-9865-2d68a19a6e54\",                        [{\"hovertemplate\": \"method=sklearn<br>Time, s=%{x}<br>Log_distance=%{y}<extra></extra>\", \"legendgroup\": \"sklearn\", \"line\": {\"color\": \"#636efa\", \"dash\": \"solid\"}, \"mode\": \"lines\", \"name\": \"sklearn\", \"orientation\": \"v\", \"showlegend\": true, \"textposition\": \"top center\", \"type\": \"scatter\", \"x\": [0.07, 0.06, 0.05, 0.08, 0.08, 0.15, 0.33, 0.45], \"xaxis\": \"x\", \"y\": [0.011970517018329059, 0.0013430822170869576, 0.0013430822170869576, 0.0011731241043401116, 0.0011731241043401116, 0.0010369093279743136, 0.0010279610140797933, 0.0010278864255925753], \"yaxis\": \"y\"}, {\"hovertemplate\": \"method=regain<br>Time, s=%{x}<br>Log_distance=%{y}<extra></extra>\", \"legendgroup\": \"regain\", \"line\": {\"color\": \"#EF553B\", \"dash\": \"solid\"}, \"mode\": \"lines\", \"name\": \"regain\", \"orientation\": \"v\", \"showlegend\": true, \"textposition\": \"top center\", \"type\": \"scatter\", \"x\": [0.02, 0.02, 0.06, 0.08, 0.14, 0.17, 0.21, 0.25], \"xaxis\": \"x\", \"y\": [6.982504524886847, 6.982504524886847, 1.1886085503624217, 0.10679920123756906, 0.010227400078773041, 0.0001653344604678729, 0.0009176861184409964, 0.001016003229802753], \"yaxis\": \"y\"}, {\"hovertemplate\": \"method=admm<br>Time, s=%{x}<br>Log_distance=%{y}<extra></extra>\", \"legendgroup\": \"admm\", \"line\": {\"color\": \"#00cc96\", \"dash\": \"solid\"}, \"mode\": \"lines\", \"name\": \"admm\", \"orientation\": \"v\", \"showlegend\": true, \"textposition\": \"top center\", \"type\": \"scatter\", \"x\": [0.01, 0.0, 0.0, 0.02, 0.06, 0.14, 0.22, 0.31], \"xaxis\": \"x\", \"y\": [9.60704856313666, 9.60704856313666, 9.60704856313666, 3.5902719094678615, 0.5582211276329533, 0.05936400479690431, 0.007172470480097937, 0.0016441878764529], \"yaxis\": \"y\"}, {\"hovertemplate\": \"method=kkt_admm<br>Time, s=%{x}<br>Log_distance=%{y}<extra></extra>\", \"legendgroup\": \"kkt_admm\", \"line\": {\"color\": \"#ab63fa\", \"dash\": \"solid\"}, \"mode\": \"lines\", \"name\": \"kkt_admm\", \"orientation\": \"v\", \"showlegend\": true, \"textposition\": \"top center\", \"type\": \"scatter\", \"x\": [0.01, 0.07, 0.2, 0.35, 0.38, 0.61, 0.71, 0.78], \"xaxis\": \"x\", \"y\": [7.971541699101097, 1.9350657647815706, 0.24539547180332869, 0.025737382179895536, 0.003666919436181661, 0.001294040963107283, 0.0010530265880702506, 0.0010304601496386098], \"yaxis\": \"y\"}, {\"hovertemplate\": \"method=block_admm<br>Time, s=%{x}<br>Log_distance=%{y}<extra></extra>\", \"legendgroup\": \"block_admm\", \"line\": {\"color\": \"#FFA15A\", \"dash\": \"solid\"}, \"mode\": \"lines\", \"name\": \"block_admm\", \"orientation\": \"v\", \"showlegend\": true, \"textposition\": \"top center\", \"type\": \"scatter\", \"x\": [0.01, 0.01, 0.01, 0.02, 0.09, 0.16, 0.21, 0.3], \"xaxis\": \"x\", \"y\": [9.60704856313666, 9.60704856313666, 9.60704856313666, 3.5902719094678615, 0.5582211276329533, 0.05936400479690431, 0.007172470480097937, 0.0016441878764529], \"yaxis\": \"y\"}, {\"hovertemplate\": \"method=kkt_block_admm<br>Time, s=%{x}<br>Log_distance=%{y}<extra></extra>\", \"legendgroup\": \"kkt_block_admm\", \"line\": {\"color\": \"#19d3f3\", \"dash\": \"solid\"}, \"mode\": \"lines\", \"name\": \"kkt_block_admm\", \"orientation\": \"v\", \"showlegend\": true, \"textposition\": \"top center\", \"type\": \"scatter\", \"x\": [0.02, 0.07, 0.2, 0.27, 0.47, 0.58, 0.7, 0.81], \"xaxis\": \"x\", \"y\": [7.971541699101097, 1.9350657647815706, 0.24539547180332869, 0.025737382179895536, 0.003666919436181661, 0.001294040963107283, 0.0010530265880702506, 0.0010304601496386098], \"yaxis\": \"y\"}],                        {\"legend\": {\"title\": {\"text\": \"method\"}, \"tracegroupgap\": 0}, \"template\": {\"data\": {\"bar\": [{\"error_x\": {\"color\": \"#2a3f5f\"}, \"error_y\": {\"color\": \"#2a3f5f\"}, \"marker\": {\"line\": {\"color\": \"white\", \"width\": 0.5}}, \"type\": \"bar\"}], \"barpolar\": [{\"marker\": {\"line\": {\"color\": \"white\", \"width\": 0.5}}, \"type\": \"barpolar\"}], \"carpet\": [{\"aaxis\": {\"endlinecolor\": \"#2a3f5f\", \"gridcolor\": \"#C8D4E3\", \"linecolor\": \"#C8D4E3\", \"minorgridcolor\": \"#C8D4E3\", \"startlinecolor\": \"#2a3f5f\"}, \"baxis\": {\"endlinecolor\": \"#2a3f5f\", \"gridcolor\": \"#C8D4E3\", \"linecolor\": \"#C8D4E3\", \"minorgridcolor\": \"#C8D4E3\", \"startlinecolor\": \"#2a3f5f\"}, \"type\": \"carpet\"}], \"choropleth\": [{\"colorbar\": {\"outlinewidth\": 0, \"ticks\": \"\"}, \"type\": \"choropleth\"}], \"contour\": [{\"colorbar\": {\"outlinewidth\": 0, \"ticks\": \"\"}, \"colorscale\": [[0.0, \"#0d0887\"], [0.1111111111111111, \"#46039f\"], [0.2222222222222222, \"#7201a8\"], [0.3333333333333333, \"#9c179e\"], [0.4444444444444444, \"#bd3786\"], [0.5555555555555556, \"#d8576b\"], [0.6666666666666666, \"#ed7953\"], [0.7777777777777778, \"#fb9f3a\"], [0.8888888888888888, \"#fdca26\"], [1.0, \"#f0f921\"]], \"type\": \"contour\"}], \"contourcarpet\": [{\"colorbar\": {\"outlinewidth\": 0, \"ticks\": \"\"}, \"type\": \"contourcarpet\"}], \"heatmap\": [{\"colorbar\": {\"outlinewidth\": 0, \"ticks\": \"\"}, \"colorscale\": [[0.0, \"#0d0887\"], [0.1111111111111111, \"#46039f\"], [0.2222222222222222, \"#7201a8\"], [0.3333333333333333, \"#9c179e\"], [0.4444444444444444, \"#bd3786\"], [0.5555555555555556, \"#d8576b\"], [0.6666666666666666, \"#ed7953\"], [0.7777777777777778, \"#fb9f3a\"], [0.8888888888888888, \"#fdca26\"], [1.0, \"#f0f921\"]], \"type\": \"heatmap\"}], \"heatmapgl\": [{\"colorbar\": {\"outlinewidth\": 0, \"ticks\": \"\"}, \"colorscale\": [[0.0, \"#0d0887\"], [0.1111111111111111, \"#46039f\"], [0.2222222222222222, \"#7201a8\"], [0.3333333333333333, \"#9c179e\"], [0.4444444444444444, \"#bd3786\"], [0.5555555555555556, \"#d8576b\"], [0.6666666666666666, \"#ed7953\"], [0.7777777777777778, \"#fb9f3a\"], [0.8888888888888888, \"#fdca26\"], [1.0, \"#f0f921\"]], \"type\": \"heatmapgl\"}], \"histogram\": [{\"marker\": {\"colorbar\": {\"outlinewidth\": 0, \"ticks\": \"\"}}, \"type\": \"histogram\"}], \"histogram2d\": [{\"colorbar\": {\"outlinewidth\": 0, \"ticks\": \"\"}, \"colorscale\": [[0.0, \"#0d0887\"], [0.1111111111111111, \"#46039f\"], [0.2222222222222222, \"#7201a8\"], [0.3333333333333333, \"#9c179e\"], [0.4444444444444444, \"#bd3786\"], [0.5555555555555556, \"#d8576b\"], [0.6666666666666666, \"#ed7953\"], [0.7777777777777778, \"#fb9f3a\"], [0.8888888888888888, \"#fdca26\"], [1.0, \"#f0f921\"]], \"type\": \"histogram2d\"}], \"histogram2dcontour\": [{\"colorbar\": {\"outlinewidth\": 0, \"ticks\": \"\"}, \"colorscale\": [[0.0, \"#0d0887\"], [0.1111111111111111, \"#46039f\"], [0.2222222222222222, \"#7201a8\"], [0.3333333333333333, \"#9c179e\"], [0.4444444444444444, \"#bd3786\"], [0.5555555555555556, \"#d8576b\"], [0.6666666666666666, \"#ed7953\"], [0.7777777777777778, \"#fb9f3a\"], [0.8888888888888888, \"#fdca26\"], [1.0, \"#f0f921\"]], \"type\": \"histogram2dcontour\"}], \"mesh3d\": [{\"colorbar\": {\"outlinewidth\": 0, \"ticks\": \"\"}, \"type\": \"mesh3d\"}], \"parcoords\": [{\"line\": {\"colorbar\": {\"outlinewidth\": 0, \"ticks\": \"\"}}, \"type\": \"parcoords\"}], \"pie\": [{\"automargin\": true, \"type\": \"pie\"}], \"scatter\": [{\"marker\": {\"colorbar\": {\"outlinewidth\": 0, \"ticks\": \"\"}}, \"type\": \"scatter\"}], \"scatter3d\": [{\"line\": {\"colorbar\": {\"outlinewidth\": 0, \"ticks\": \"\"}}, \"marker\": {\"colorbar\": {\"outlinewidth\": 0, \"ticks\": \"\"}}, \"type\": \"scatter3d\"}], \"scattercarpet\": [{\"marker\": {\"colorbar\": {\"outlinewidth\": 0, \"ticks\": \"\"}}, \"type\": \"scattercarpet\"}], \"scattergeo\": [{\"marker\": {\"colorbar\": {\"outlinewidth\": 0, \"ticks\": \"\"}}, \"type\": \"scattergeo\"}], \"scattergl\": [{\"marker\": {\"colorbar\": {\"outlinewidth\": 0, \"ticks\": \"\"}}, \"type\": \"scattergl\"}], \"scattermapbox\": [{\"marker\": {\"colorbar\": {\"outlinewidth\": 0, \"ticks\": \"\"}}, \"type\": \"scattermapbox\"}], \"scatterpolar\": [{\"marker\": {\"colorbar\": {\"outlinewidth\": 0, \"ticks\": \"\"}}, \"type\": \"scatterpolar\"}], \"scatterpolargl\": [{\"marker\": {\"colorbar\": {\"outlinewidth\": 0, \"ticks\": \"\"}}, \"type\": \"scatterpolargl\"}], \"scatterternary\": [{\"marker\": {\"colorbar\": {\"outlinewidth\": 0, \"ticks\": \"\"}}, \"type\": \"scatterternary\"}], \"surface\": [{\"colorbar\": {\"outlinewidth\": 0, \"ticks\": \"\"}, \"colorscale\": [[0.0, \"#0d0887\"], [0.1111111111111111, \"#46039f\"], [0.2222222222222222, \"#7201a8\"], [0.3333333333333333, \"#9c179e\"], [0.4444444444444444, \"#bd3786\"], [0.5555555555555556, \"#d8576b\"], [0.6666666666666666, \"#ed7953\"], [0.7777777777777778, \"#fb9f3a\"], [0.8888888888888888, \"#fdca26\"], [1.0, \"#f0f921\"]], \"type\": \"surface\"}], \"table\": [{\"cells\": {\"fill\": {\"color\": \"#EBF0F8\"}, \"line\": {\"color\": \"white\"}}, \"header\": {\"fill\": {\"color\": \"#C8D4E3\"}, \"line\": {\"color\": \"white\"}}, \"type\": \"table\"}]}, \"layout\": {\"annotationdefaults\": {\"arrowcolor\": \"#2a3f5f\", \"arrowhead\": 0, \"arrowwidth\": 1}, \"autotypenumbers\": \"strict\", \"coloraxis\": {\"colorbar\": {\"outlinewidth\": 0, \"ticks\": \"\"}}, \"colorscale\": {\"diverging\": [[0, \"#8e0152\"], [0.1, \"#c51b7d\"], [0.2, \"#de77ae\"], [0.3, \"#f1b6da\"], [0.4, \"#fde0ef\"], [0.5, \"#f7f7f7\"], [0.6, \"#e6f5d0\"], [0.7, \"#b8e186\"], [0.8, \"#7fbc41\"], [0.9, \"#4d9221\"], [1, \"#276419\"]], \"sequential\": [[0.0, \"#0d0887\"], [0.1111111111111111, \"#46039f\"], [0.2222222222222222, \"#7201a8\"], [0.3333333333333333, \"#9c179e\"], [0.4444444444444444, \"#bd3786\"], [0.5555555555555556, \"#d8576b\"], [0.6666666666666666, \"#ed7953\"], [0.7777777777777778, \"#fb9f3a\"], [0.8888888888888888, \"#fdca26\"], [1.0, \"#f0f921\"]], \"sequentialminus\": [[0.0, \"#0d0887\"], [0.1111111111111111, \"#46039f\"], [0.2222222222222222, \"#7201a8\"], [0.3333333333333333, \"#9c179e\"], [0.4444444444444444, \"#bd3786\"], [0.5555555555555556, \"#d8576b\"], [0.6666666666666666, \"#ed7953\"], [0.7777777777777778, \"#fb9f3a\"], [0.8888888888888888, \"#fdca26\"], [1.0, \"#f0f921\"]]}, \"colorway\": [\"#636efa\", \"#EF553B\", \"#00cc96\", \"#ab63fa\", \"#FFA15A\", \"#19d3f3\", \"#FF6692\", \"#B6E880\", \"#FF97FF\", \"#FECB52\"], \"font\": {\"color\": \"#2a3f5f\"}, \"geo\": {\"bgcolor\": \"white\", \"lakecolor\": \"white\", \"landcolor\": \"white\", \"showlakes\": true, \"showland\": true, \"subunitcolor\": \"#C8D4E3\"}, \"hoverlabel\": {\"align\": \"left\"}, \"hovermode\": \"closest\", \"mapbox\": {\"style\": \"light\"}, \"paper_bgcolor\": \"white\", \"plot_bgcolor\": \"white\", \"polar\": {\"angularaxis\": {\"gridcolor\": \"#EBF0F8\", \"linecolor\": \"#EBF0F8\", \"ticks\": \"\"}, \"bgcolor\": \"white\", \"radialaxis\": {\"gridcolor\": \"#EBF0F8\", \"linecolor\": \"#EBF0F8\", \"ticks\": \"\"}}, \"scene\": {\"xaxis\": {\"backgroundcolor\": \"white\", \"gridcolor\": \"#DFE8F3\", \"gridwidth\": 2, \"linecolor\": \"#EBF0F8\", \"showbackground\": true, \"ticks\": \"\", \"zerolinecolor\": \"#EBF0F8\"}, \"yaxis\": {\"backgroundcolor\": \"white\", \"gridcolor\": \"#DFE8F3\", \"gridwidth\": 2, \"linecolor\": \"#EBF0F8\", \"showbackground\": true, \"ticks\": \"\", \"zerolinecolor\": \"#EBF0F8\"}, \"zaxis\": {\"backgroundcolor\": \"white\", \"gridcolor\": \"#DFE8F3\", \"gridwidth\": 2, \"linecolor\": \"#EBF0F8\", \"showbackground\": true, \"ticks\": \"\", \"zerolinecolor\": \"#EBF0F8\"}}, \"shapedefaults\": {\"line\": {\"color\": \"#2a3f5f\"}}, \"ternary\": {\"aaxis\": {\"gridcolor\": \"#DFE8F3\", \"linecolor\": \"#A2B1C6\", \"ticks\": \"\"}, \"baxis\": {\"gridcolor\": \"#DFE8F3\", \"linecolor\": \"#A2B1C6\", \"ticks\": \"\"}, \"bgcolor\": \"white\", \"caxis\": {\"gridcolor\": \"#DFE8F3\", \"linecolor\": \"#A2B1C6\", \"ticks\": \"\"}}, \"title\": {\"x\": 0.05}, \"xaxis\": {\"automargin\": true, \"gridcolor\": \"#EBF0F8\", \"linecolor\": \"#EBF0F8\", \"ticks\": \"\", \"title\": {\"standoff\": 15}, \"zerolinecolor\": \"#EBF0F8\", \"zerolinewidth\": 2}, \"yaxis\": {\"automargin\": true, \"gridcolor\": \"#EBF0F8\", \"linecolor\": \"#EBF0F8\", \"ticks\": \"\", \"title\": {\"standoff\": 15}, \"zerolinecolor\": \"#EBF0F8\", \"zerolinewidth\": 2}}}, \"title\": {\"text\": \"ADMM perfomance comparison\"}, \"xaxis\": {\"anchor\": \"y\", \"domain\": [0.0, 1.0], \"title\": {\"text\": \"Time, s\"}}, \"yaxis\": {\"anchor\": \"x\", \"domain\": [0.0, 1.0], \"title\": {\"text\": \"Log_distance\"}, \"type\": \"log\"}},                        {\"responsive\": true}                    ).then(function(){\n",
       "                            \n",
       "var gd = document.getElementById('be1c60e0-3291-4bb3-9865-2d68a19a6e54');\n",
       "var x = new MutationObserver(function (mutations, observer) {{\n",
       "        var display = window.getComputedStyle(gd).display;\n",
       "        if (!display || display === 'none') {{\n",
       "            console.log([gd, 'removed!']);\n",
       "            Plotly.purge(gd);\n",
       "            observer.disconnect();\n",
       "        }}\n",
       "}});\n",
       "\n",
       "// Listen for the removal of the full notebook cells\n",
       "var notebookContainer = gd.closest('#notebook-container');\n",
       "if (notebookContainer) {{\n",
       "    x.observe(notebookContainer, {childList: true});\n",
       "}}\n",
       "\n",
       "// Listen for the clearing of the current output cell\n",
       "var outputEl = gd.closest('.output');\n",
       "if (outputEl) {{\n",
       "    x.observe(outputEl, {childList: true});\n",
       "}}\n",
       "\n",
       "                        })                };                });            </script>        </div>"
      ]
     },
     "metadata": {},
     "output_type": "display_data"
    }
   ],
   "source": [
    "fig = px.line(df, x=\"sec_time\", y=\"distance\", color= \"method\", log_y = True, \n",
    "#               text = \"str_tol\",\n",
    "        labels={\"sec_time\": \"Time, s\",\n",
    "                \"distance\": \"Log_distance\",\n",
    "                \"method\": \"method\"\n",
    "                 },\n",
    "        template = \"plotly_white\",\n",
    "              title='ADMM perfomance comparison')\n",
    "fig.update_traces(textposition='top center')\n",
    "fig.show()"
   ]
  },
  {
   "cell_type": "code",
   "execution_count": 332,
   "id": "continental-clone",
   "metadata": {},
   "outputs": [
    {
     "data": {
      "application/vnd.plotly.v1+json": {
       "config": {
        "plotlyServerURL": "https://plot.ly"
       },
       "data": [
        {
         "hovertemplate": "method=sklearn<br>sec_time=%{marker.size}<br>distance=%{y}<br>str_tol=%{text}<extra></extra>",
         "legendgroup": "sklearn",
         "marker": {
          "color": "#636efa",
          "size": [
           0.07,
           0.06,
           0.05,
           0.08,
           0.08,
           0.15,
           0.33,
           0.45
          ],
          "sizemode": "area",
          "sizeref": 0.0020250000000000003,
          "symbol": "circle"
         },
         "mode": "markers+text",
         "name": "sklearn",
         "orientation": "v",
         "showlegend": true,
         "text": [
          "0.1",
          "0.01",
          "0.001",
          "1e-04",
          "1e-05",
          "1e-06",
          "1e-07",
          "1e-08"
         ],
         "textposition": "top center",
         "type": "scatter",
         "x": [
          0.07,
          0.06,
          0.05,
          0.08,
          0.08,
          0.15,
          0.33,
          0.45
         ],
         "xaxis": "x",
         "y": [
          0.011970517018329059,
          0.0013430822170869576,
          0.0013430822170869576,
          0.0011731241043401116,
          0.0011731241043401116,
          0.0010369093279743136,
          0.0010279610140797933,
          0.0010278864255925753
         ],
         "yaxis": "y"
        },
        {
         "hovertemplate": "method=regain<br>sec_time=%{marker.size}<br>distance=%{y}<br>str_tol=%{text}<extra></extra>",
         "legendgroup": "regain",
         "marker": {
          "color": "#EF553B",
          "size": [
           0.02,
           0.02,
           0.06,
           0.08,
           0.14,
           0.17,
           0.21,
           0.25
          ],
          "sizemode": "area",
          "sizeref": 0.0020250000000000003,
          "symbol": "circle"
         },
         "mode": "markers+text",
         "name": "regain",
         "orientation": "v",
         "showlegend": true,
         "text": [
          "0.1",
          "0.01",
          "0.001",
          "1e-04",
          "1e-05",
          "1e-06",
          "1e-07",
          "1e-08"
         ],
         "textposition": "top center",
         "type": "scatter",
         "x": [
          0.02,
          0.02,
          0.06,
          0.08,
          0.14,
          0.17,
          0.21,
          0.25
         ],
         "xaxis": "x",
         "y": [
          6.982504524886847,
          6.982504524886847,
          1.1886085503624217,
          0.10679920123756906,
          0.010227400078773041,
          0.0001653344604678729,
          0.0009176861184409964,
          0.001016003229802753
         ],
         "yaxis": "y"
        },
        {
         "hovertemplate": "method=admm<br>sec_time=%{marker.size}<br>distance=%{y}<br>str_tol=%{text}<extra></extra>",
         "legendgroup": "admm",
         "marker": {
          "color": "#00cc96",
          "size": [
           0.01,
           0,
           0,
           0.02,
           0.06,
           0.14,
           0.22,
           0.31
          ],
          "sizemode": "area",
          "sizeref": 0.0020250000000000003,
          "symbol": "circle"
         },
         "mode": "markers+text",
         "name": "admm",
         "orientation": "v",
         "showlegend": true,
         "text": [
          "0.1",
          "0.01",
          "0.001",
          "1e-04",
          "1e-05",
          "1e-06",
          "1e-07",
          "1e-08"
         ],
         "textposition": "top center",
         "type": "scatter",
         "x": [
          0.01,
          0,
          0,
          0.02,
          0.06,
          0.14,
          0.22,
          0.31
         ],
         "xaxis": "x",
         "y": [
          9.60704856313666,
          9.60704856313666,
          9.60704856313666,
          3.5902719094678615,
          0.5582211276329533,
          0.05936400479690431,
          0.007172470480097937,
          0.0016441878764529
         ],
         "yaxis": "y"
        },
        {
         "hovertemplate": "method=kkt_admm<br>sec_time=%{marker.size}<br>distance=%{y}<br>str_tol=%{text}<extra></extra>",
         "legendgroup": "kkt_admm",
         "marker": {
          "color": "#ab63fa",
          "size": [
           0.01,
           0.07,
           0.2,
           0.35,
           0.38,
           0.61,
           0.71,
           0.78
          ],
          "sizemode": "area",
          "sizeref": 0.0020250000000000003,
          "symbol": "circle"
         },
         "mode": "markers+text",
         "name": "kkt_admm",
         "orientation": "v",
         "showlegend": true,
         "text": [
          "0.1",
          "0.01",
          "0.001",
          "1e-04",
          "1e-05",
          "1e-06",
          "1e-07",
          "1e-08"
         ],
         "textposition": "top center",
         "type": "scatter",
         "x": [
          0.01,
          0.07,
          0.2,
          0.35,
          0.38,
          0.61,
          0.71,
          0.78
         ],
         "xaxis": "x",
         "y": [
          7.971541699101097,
          1.9350657647815706,
          0.24539547180332869,
          0.025737382179895536,
          0.003666919436181661,
          0.001294040963107283,
          0.0010530265880702506,
          0.0010304601496386098
         ],
         "yaxis": "y"
        },
        {
         "hovertemplate": "method=block_admm<br>sec_time=%{marker.size}<br>distance=%{y}<br>str_tol=%{text}<extra></extra>",
         "legendgroup": "block_admm",
         "marker": {
          "color": "#FFA15A",
          "size": [
           0.01,
           0.01,
           0.01,
           0.02,
           0.09,
           0.16,
           0.21,
           0.3
          ],
          "sizemode": "area",
          "sizeref": 0.0020250000000000003,
          "symbol": "circle"
         },
         "mode": "markers+text",
         "name": "block_admm",
         "orientation": "v",
         "showlegend": true,
         "text": [
          "0.1",
          "0.01",
          "0.001",
          "1e-04",
          "1e-05",
          "1e-06",
          "1e-07",
          "1e-08"
         ],
         "textposition": "top center",
         "type": "scatter",
         "x": [
          0.01,
          0.01,
          0.01,
          0.02,
          0.09,
          0.16,
          0.21,
          0.3
         ],
         "xaxis": "x",
         "y": [
          9.60704856313666,
          9.60704856313666,
          9.60704856313666,
          3.5902719094678615,
          0.5582211276329533,
          0.05936400479690431,
          0.007172470480097937,
          0.0016441878764529
         ],
         "yaxis": "y"
        },
        {
         "hovertemplate": "method=kkt_block_admm<br>sec_time=%{marker.size}<br>distance=%{y}<br>str_tol=%{text}<extra></extra>",
         "legendgroup": "kkt_block_admm",
         "marker": {
          "color": "#19d3f3",
          "size": [
           0.02,
           0.07,
           0.2,
           0.27,
           0.47,
           0.58,
           0.7,
           0.81
          ],
          "sizemode": "area",
          "sizeref": 0.0020250000000000003,
          "symbol": "circle"
         },
         "mode": "markers+text",
         "name": "kkt_block_admm",
         "orientation": "v",
         "showlegend": true,
         "text": [
          "0.1",
          "0.01",
          "0.001",
          "1e-04",
          "1e-05",
          "1e-06",
          "1e-07",
          "1e-08"
         ],
         "textposition": "top center",
         "type": "scatter",
         "x": [
          0.02,
          0.07,
          0.2,
          0.27,
          0.47,
          0.58,
          0.7,
          0.81
         ],
         "xaxis": "x",
         "y": [
          7.971541699101097,
          1.9350657647815706,
          0.24539547180332869,
          0.025737382179895536,
          0.003666919436181661,
          0.001294040963107283,
          0.0010530265880702506,
          0.0010304601496386098
         ],
         "yaxis": "y"
        }
       ],
       "layout": {
        "legend": {
         "itemsizing": "constant",
         "title": {
          "text": "method"
         },
         "tracegroupgap": 0
        },
        "template": {
         "data": {
          "bar": [
           {
            "error_x": {
             "color": "#2a3f5f"
            },
            "error_y": {
             "color": "#2a3f5f"
            },
            "marker": {
             "line": {
              "color": "white",
              "width": 0.5
             }
            },
            "type": "bar"
           }
          ],
          "barpolar": [
           {
            "marker": {
             "line": {
              "color": "white",
              "width": 0.5
             }
            },
            "type": "barpolar"
           }
          ],
          "carpet": [
           {
            "aaxis": {
             "endlinecolor": "#2a3f5f",
             "gridcolor": "#C8D4E3",
             "linecolor": "#C8D4E3",
             "minorgridcolor": "#C8D4E3",
             "startlinecolor": "#2a3f5f"
            },
            "baxis": {
             "endlinecolor": "#2a3f5f",
             "gridcolor": "#C8D4E3",
             "linecolor": "#C8D4E3",
             "minorgridcolor": "#C8D4E3",
             "startlinecolor": "#2a3f5f"
            },
            "type": "carpet"
           }
          ],
          "choropleth": [
           {
            "colorbar": {
             "outlinewidth": 0,
             "ticks": ""
            },
            "type": "choropleth"
           }
          ],
          "contour": [
           {
            "colorbar": {
             "outlinewidth": 0,
             "ticks": ""
            },
            "colorscale": [
             [
              0,
              "#0d0887"
             ],
             [
              0.1111111111111111,
              "#46039f"
             ],
             [
              0.2222222222222222,
              "#7201a8"
             ],
             [
              0.3333333333333333,
              "#9c179e"
             ],
             [
              0.4444444444444444,
              "#bd3786"
             ],
             [
              0.5555555555555556,
              "#d8576b"
             ],
             [
              0.6666666666666666,
              "#ed7953"
             ],
             [
              0.7777777777777778,
              "#fb9f3a"
             ],
             [
              0.8888888888888888,
              "#fdca26"
             ],
             [
              1,
              "#f0f921"
             ]
            ],
            "type": "contour"
           }
          ],
          "contourcarpet": [
           {
            "colorbar": {
             "outlinewidth": 0,
             "ticks": ""
            },
            "type": "contourcarpet"
           }
          ],
          "heatmap": [
           {
            "colorbar": {
             "outlinewidth": 0,
             "ticks": ""
            },
            "colorscale": [
             [
              0,
              "#0d0887"
             ],
             [
              0.1111111111111111,
              "#46039f"
             ],
             [
              0.2222222222222222,
              "#7201a8"
             ],
             [
              0.3333333333333333,
              "#9c179e"
             ],
             [
              0.4444444444444444,
              "#bd3786"
             ],
             [
              0.5555555555555556,
              "#d8576b"
             ],
             [
              0.6666666666666666,
              "#ed7953"
             ],
             [
              0.7777777777777778,
              "#fb9f3a"
             ],
             [
              0.8888888888888888,
              "#fdca26"
             ],
             [
              1,
              "#f0f921"
             ]
            ],
            "type": "heatmap"
           }
          ],
          "heatmapgl": [
           {
            "colorbar": {
             "outlinewidth": 0,
             "ticks": ""
            },
            "colorscale": [
             [
              0,
              "#0d0887"
             ],
             [
              0.1111111111111111,
              "#46039f"
             ],
             [
              0.2222222222222222,
              "#7201a8"
             ],
             [
              0.3333333333333333,
              "#9c179e"
             ],
             [
              0.4444444444444444,
              "#bd3786"
             ],
             [
              0.5555555555555556,
              "#d8576b"
             ],
             [
              0.6666666666666666,
              "#ed7953"
             ],
             [
              0.7777777777777778,
              "#fb9f3a"
             ],
             [
              0.8888888888888888,
              "#fdca26"
             ],
             [
              1,
              "#f0f921"
             ]
            ],
            "type": "heatmapgl"
           }
          ],
          "histogram": [
           {
            "marker": {
             "colorbar": {
              "outlinewidth": 0,
              "ticks": ""
             }
            },
            "type": "histogram"
           }
          ],
          "histogram2d": [
           {
            "colorbar": {
             "outlinewidth": 0,
             "ticks": ""
            },
            "colorscale": [
             [
              0,
              "#0d0887"
             ],
             [
              0.1111111111111111,
              "#46039f"
             ],
             [
              0.2222222222222222,
              "#7201a8"
             ],
             [
              0.3333333333333333,
              "#9c179e"
             ],
             [
              0.4444444444444444,
              "#bd3786"
             ],
             [
              0.5555555555555556,
              "#d8576b"
             ],
             [
              0.6666666666666666,
              "#ed7953"
             ],
             [
              0.7777777777777778,
              "#fb9f3a"
             ],
             [
              0.8888888888888888,
              "#fdca26"
             ],
             [
              1,
              "#f0f921"
             ]
            ],
            "type": "histogram2d"
           }
          ],
          "histogram2dcontour": [
           {
            "colorbar": {
             "outlinewidth": 0,
             "ticks": ""
            },
            "colorscale": [
             [
              0,
              "#0d0887"
             ],
             [
              0.1111111111111111,
              "#46039f"
             ],
             [
              0.2222222222222222,
              "#7201a8"
             ],
             [
              0.3333333333333333,
              "#9c179e"
             ],
             [
              0.4444444444444444,
              "#bd3786"
             ],
             [
              0.5555555555555556,
              "#d8576b"
             ],
             [
              0.6666666666666666,
              "#ed7953"
             ],
             [
              0.7777777777777778,
              "#fb9f3a"
             ],
             [
              0.8888888888888888,
              "#fdca26"
             ],
             [
              1,
              "#f0f921"
             ]
            ],
            "type": "histogram2dcontour"
           }
          ],
          "mesh3d": [
           {
            "colorbar": {
             "outlinewidth": 0,
             "ticks": ""
            },
            "type": "mesh3d"
           }
          ],
          "parcoords": [
           {
            "line": {
             "colorbar": {
              "outlinewidth": 0,
              "ticks": ""
             }
            },
            "type": "parcoords"
           }
          ],
          "pie": [
           {
            "automargin": true,
            "type": "pie"
           }
          ],
          "scatter": [
           {
            "marker": {
             "colorbar": {
              "outlinewidth": 0,
              "ticks": ""
             }
            },
            "type": "scatter"
           }
          ],
          "scatter3d": [
           {
            "line": {
             "colorbar": {
              "outlinewidth": 0,
              "ticks": ""
             }
            },
            "marker": {
             "colorbar": {
              "outlinewidth": 0,
              "ticks": ""
             }
            },
            "type": "scatter3d"
           }
          ],
          "scattercarpet": [
           {
            "marker": {
             "colorbar": {
              "outlinewidth": 0,
              "ticks": ""
             }
            },
            "type": "scattercarpet"
           }
          ],
          "scattergeo": [
           {
            "marker": {
             "colorbar": {
              "outlinewidth": 0,
              "ticks": ""
             }
            },
            "type": "scattergeo"
           }
          ],
          "scattergl": [
           {
            "marker": {
             "colorbar": {
              "outlinewidth": 0,
              "ticks": ""
             }
            },
            "type": "scattergl"
           }
          ],
          "scattermapbox": [
           {
            "marker": {
             "colorbar": {
              "outlinewidth": 0,
              "ticks": ""
             }
            },
            "type": "scattermapbox"
           }
          ],
          "scatterpolar": [
           {
            "marker": {
             "colorbar": {
              "outlinewidth": 0,
              "ticks": ""
             }
            },
            "type": "scatterpolar"
           }
          ],
          "scatterpolargl": [
           {
            "marker": {
             "colorbar": {
              "outlinewidth": 0,
              "ticks": ""
             }
            },
            "type": "scatterpolargl"
           }
          ],
          "scatterternary": [
           {
            "marker": {
             "colorbar": {
              "outlinewidth": 0,
              "ticks": ""
             }
            },
            "type": "scatterternary"
           }
          ],
          "surface": [
           {
            "colorbar": {
             "outlinewidth": 0,
             "ticks": ""
            },
            "colorscale": [
             [
              0,
              "#0d0887"
             ],
             [
              0.1111111111111111,
              "#46039f"
             ],
             [
              0.2222222222222222,
              "#7201a8"
             ],
             [
              0.3333333333333333,
              "#9c179e"
             ],
             [
              0.4444444444444444,
              "#bd3786"
             ],
             [
              0.5555555555555556,
              "#d8576b"
             ],
             [
              0.6666666666666666,
              "#ed7953"
             ],
             [
              0.7777777777777778,
              "#fb9f3a"
             ],
             [
              0.8888888888888888,
              "#fdca26"
             ],
             [
              1,
              "#f0f921"
             ]
            ],
            "type": "surface"
           }
          ],
          "table": [
           {
            "cells": {
             "fill": {
              "color": "#EBF0F8"
             },
             "line": {
              "color": "white"
             }
            },
            "header": {
             "fill": {
              "color": "#C8D4E3"
             },
             "line": {
              "color": "white"
             }
            },
            "type": "table"
           }
          ]
         },
         "layout": {
          "annotationdefaults": {
           "arrowcolor": "#2a3f5f",
           "arrowhead": 0,
           "arrowwidth": 1
          },
          "autotypenumbers": "strict",
          "coloraxis": {
           "colorbar": {
            "outlinewidth": 0,
            "ticks": ""
           }
          },
          "colorscale": {
           "diverging": [
            [
             0,
             "#8e0152"
            ],
            [
             0.1,
             "#c51b7d"
            ],
            [
             0.2,
             "#de77ae"
            ],
            [
             0.3,
             "#f1b6da"
            ],
            [
             0.4,
             "#fde0ef"
            ],
            [
             0.5,
             "#f7f7f7"
            ],
            [
             0.6,
             "#e6f5d0"
            ],
            [
             0.7,
             "#b8e186"
            ],
            [
             0.8,
             "#7fbc41"
            ],
            [
             0.9,
             "#4d9221"
            ],
            [
             1,
             "#276419"
            ]
           ],
           "sequential": [
            [
             0,
             "#0d0887"
            ],
            [
             0.1111111111111111,
             "#46039f"
            ],
            [
             0.2222222222222222,
             "#7201a8"
            ],
            [
             0.3333333333333333,
             "#9c179e"
            ],
            [
             0.4444444444444444,
             "#bd3786"
            ],
            [
             0.5555555555555556,
             "#d8576b"
            ],
            [
             0.6666666666666666,
             "#ed7953"
            ],
            [
             0.7777777777777778,
             "#fb9f3a"
            ],
            [
             0.8888888888888888,
             "#fdca26"
            ],
            [
             1,
             "#f0f921"
            ]
           ],
           "sequentialminus": [
            [
             0,
             "#0d0887"
            ],
            [
             0.1111111111111111,
             "#46039f"
            ],
            [
             0.2222222222222222,
             "#7201a8"
            ],
            [
             0.3333333333333333,
             "#9c179e"
            ],
            [
             0.4444444444444444,
             "#bd3786"
            ],
            [
             0.5555555555555556,
             "#d8576b"
            ],
            [
             0.6666666666666666,
             "#ed7953"
            ],
            [
             0.7777777777777778,
             "#fb9f3a"
            ],
            [
             0.8888888888888888,
             "#fdca26"
            ],
            [
             1,
             "#f0f921"
            ]
           ]
          },
          "colorway": [
           "#636efa",
           "#EF553B",
           "#00cc96",
           "#ab63fa",
           "#FFA15A",
           "#19d3f3",
           "#FF6692",
           "#B6E880",
           "#FF97FF",
           "#FECB52"
          ],
          "font": {
           "color": "#2a3f5f"
          },
          "geo": {
           "bgcolor": "white",
           "lakecolor": "white",
           "landcolor": "white",
           "showlakes": true,
           "showland": true,
           "subunitcolor": "#C8D4E3"
          },
          "hoverlabel": {
           "align": "left"
          },
          "hovermode": "closest",
          "mapbox": {
           "style": "light"
          },
          "paper_bgcolor": "white",
          "plot_bgcolor": "white",
          "polar": {
           "angularaxis": {
            "gridcolor": "#EBF0F8",
            "linecolor": "#EBF0F8",
            "ticks": ""
           },
           "bgcolor": "white",
           "radialaxis": {
            "gridcolor": "#EBF0F8",
            "linecolor": "#EBF0F8",
            "ticks": ""
           }
          },
          "scene": {
           "xaxis": {
            "backgroundcolor": "white",
            "gridcolor": "#DFE8F3",
            "gridwidth": 2,
            "linecolor": "#EBF0F8",
            "showbackground": true,
            "ticks": "",
            "zerolinecolor": "#EBF0F8"
           },
           "yaxis": {
            "backgroundcolor": "white",
            "gridcolor": "#DFE8F3",
            "gridwidth": 2,
            "linecolor": "#EBF0F8",
            "showbackground": true,
            "ticks": "",
            "zerolinecolor": "#EBF0F8"
           },
           "zaxis": {
            "backgroundcolor": "white",
            "gridcolor": "#DFE8F3",
            "gridwidth": 2,
            "linecolor": "#EBF0F8",
            "showbackground": true,
            "ticks": "",
            "zerolinecolor": "#EBF0F8"
           }
          },
          "shapedefaults": {
           "line": {
            "color": "#2a3f5f"
           }
          },
          "ternary": {
           "aaxis": {
            "gridcolor": "#DFE8F3",
            "linecolor": "#A2B1C6",
            "ticks": ""
           },
           "baxis": {
            "gridcolor": "#DFE8F3",
            "linecolor": "#A2B1C6",
            "ticks": ""
           },
           "bgcolor": "white",
           "caxis": {
            "gridcolor": "#DFE8F3",
            "linecolor": "#A2B1C6",
            "ticks": ""
           }
          },
          "title": {
           "x": 0.05
          },
          "xaxis": {
           "automargin": true,
           "gridcolor": "#EBF0F8",
           "linecolor": "#EBF0F8",
           "ticks": "",
           "title": {
            "standoff": 15
           },
           "zerolinecolor": "#EBF0F8",
           "zerolinewidth": 2
          },
          "yaxis": {
           "automargin": true,
           "gridcolor": "#EBF0F8",
           "linecolor": "#EBF0F8",
           "ticks": "",
           "title": {
            "standoff": 15
           },
           "zerolinecolor": "#EBF0F8",
           "zerolinewidth": 2
          }
         }
        },
        "title": {
         "text": "ADMM perfomance comparison"
        },
        "xaxis": {
         "anchor": "y",
         "domain": [
          0,
          1
         ],
         "title": {
          "text": "sec_time"
         }
        },
        "yaxis": {
         "anchor": "x",
         "domain": [
          0,
          1
         ],
         "title": {
          "text": "distance"
         },
         "type": "log"
        }
       }
      },
      "text/html": [
       "<div>                            <div id=\"d71a8961-36b2-42f6-b8b6-8b3a4c068c4a\" class=\"plotly-graph-div\" style=\"height:525px; width:100%;\"></div>            <script type=\"text/javascript\">                require([\"plotly\"], function(Plotly) {                    window.PLOTLYENV=window.PLOTLYENV || {};                                    if (document.getElementById(\"d71a8961-36b2-42f6-b8b6-8b3a4c068c4a\")) {                    Plotly.newPlot(                        \"d71a8961-36b2-42f6-b8b6-8b3a4c068c4a\",                        [{\"hovertemplate\": \"method=sklearn<br>sec_time=%{marker.size}<br>distance=%{y}<br>str_tol=%{text}<extra></extra>\", \"legendgroup\": \"sklearn\", \"marker\": {\"color\": \"#636efa\", \"size\": [0.07, 0.06, 0.05, 0.08, 0.08, 0.15, 0.33, 0.45], \"sizemode\": \"area\", \"sizeref\": 0.0020250000000000003, \"symbol\": \"circle\"}, \"mode\": \"markers+text\", \"name\": \"sklearn\", \"orientation\": \"v\", \"showlegend\": true, \"text\": [\"0.1\", \"0.01\", \"0.001\", \"1e-04\", \"1e-05\", \"1e-06\", \"1e-07\", \"1e-08\"], \"textposition\": \"top center\", \"type\": \"scatter\", \"x\": [0.07, 0.06, 0.05, 0.08, 0.08, 0.15, 0.33, 0.45], \"xaxis\": \"x\", \"y\": [0.011970517018329059, 0.0013430822170869576, 0.0013430822170869576, 0.0011731241043401116, 0.0011731241043401116, 0.0010369093279743136, 0.0010279610140797933, 0.0010278864255925753], \"yaxis\": \"y\"}, {\"hovertemplate\": \"method=regain<br>sec_time=%{marker.size}<br>distance=%{y}<br>str_tol=%{text}<extra></extra>\", \"legendgroup\": \"regain\", \"marker\": {\"color\": \"#EF553B\", \"size\": [0.02, 0.02, 0.06, 0.08, 0.14, 0.17, 0.21, 0.25], \"sizemode\": \"area\", \"sizeref\": 0.0020250000000000003, \"symbol\": \"circle\"}, \"mode\": \"markers+text\", \"name\": \"regain\", \"orientation\": \"v\", \"showlegend\": true, \"text\": [\"0.1\", \"0.01\", \"0.001\", \"1e-04\", \"1e-05\", \"1e-06\", \"1e-07\", \"1e-08\"], \"textposition\": \"top center\", \"type\": \"scatter\", \"x\": [0.02, 0.02, 0.06, 0.08, 0.14, 0.17, 0.21, 0.25], \"xaxis\": \"x\", \"y\": [6.982504524886847, 6.982504524886847, 1.1886085503624217, 0.10679920123756906, 0.010227400078773041, 0.0001653344604678729, 0.0009176861184409964, 0.001016003229802753], \"yaxis\": \"y\"}, {\"hovertemplate\": \"method=admm<br>sec_time=%{marker.size}<br>distance=%{y}<br>str_tol=%{text}<extra></extra>\", \"legendgroup\": \"admm\", \"marker\": {\"color\": \"#00cc96\", \"size\": [0.01, 0.0, 0.0, 0.02, 0.06, 0.14, 0.22, 0.31], \"sizemode\": \"area\", \"sizeref\": 0.0020250000000000003, \"symbol\": \"circle\"}, \"mode\": \"markers+text\", \"name\": \"admm\", \"orientation\": \"v\", \"showlegend\": true, \"text\": [\"0.1\", \"0.01\", \"0.001\", \"1e-04\", \"1e-05\", \"1e-06\", \"1e-07\", \"1e-08\"], \"textposition\": \"top center\", \"type\": \"scatter\", \"x\": [0.01, 0.0, 0.0, 0.02, 0.06, 0.14, 0.22, 0.31], \"xaxis\": \"x\", \"y\": [9.60704856313666, 9.60704856313666, 9.60704856313666, 3.5902719094678615, 0.5582211276329533, 0.05936400479690431, 0.007172470480097937, 0.0016441878764529], \"yaxis\": \"y\"}, {\"hovertemplate\": \"method=kkt_admm<br>sec_time=%{marker.size}<br>distance=%{y}<br>str_tol=%{text}<extra></extra>\", \"legendgroup\": \"kkt_admm\", \"marker\": {\"color\": \"#ab63fa\", \"size\": [0.01, 0.07, 0.2, 0.35, 0.38, 0.61, 0.71, 0.78], \"sizemode\": \"area\", \"sizeref\": 0.0020250000000000003, \"symbol\": \"circle\"}, \"mode\": \"markers+text\", \"name\": \"kkt_admm\", \"orientation\": \"v\", \"showlegend\": true, \"text\": [\"0.1\", \"0.01\", \"0.001\", \"1e-04\", \"1e-05\", \"1e-06\", \"1e-07\", \"1e-08\"], \"textposition\": \"top center\", \"type\": \"scatter\", \"x\": [0.01, 0.07, 0.2, 0.35, 0.38, 0.61, 0.71, 0.78], \"xaxis\": \"x\", \"y\": [7.971541699101097, 1.9350657647815706, 0.24539547180332869, 0.025737382179895536, 0.003666919436181661, 0.001294040963107283, 0.0010530265880702506, 0.0010304601496386098], \"yaxis\": \"y\"}, {\"hovertemplate\": \"method=block_admm<br>sec_time=%{marker.size}<br>distance=%{y}<br>str_tol=%{text}<extra></extra>\", \"legendgroup\": \"block_admm\", \"marker\": {\"color\": \"#FFA15A\", \"size\": [0.01, 0.01, 0.01, 0.02, 0.09, 0.16, 0.21, 0.3], \"sizemode\": \"area\", \"sizeref\": 0.0020250000000000003, \"symbol\": \"circle\"}, \"mode\": \"markers+text\", \"name\": \"block_admm\", \"orientation\": \"v\", \"showlegend\": true, \"text\": [\"0.1\", \"0.01\", \"0.001\", \"1e-04\", \"1e-05\", \"1e-06\", \"1e-07\", \"1e-08\"], \"textposition\": \"top center\", \"type\": \"scatter\", \"x\": [0.01, 0.01, 0.01, 0.02, 0.09, 0.16, 0.21, 0.3], \"xaxis\": \"x\", \"y\": [9.60704856313666, 9.60704856313666, 9.60704856313666, 3.5902719094678615, 0.5582211276329533, 0.05936400479690431, 0.007172470480097937, 0.0016441878764529], \"yaxis\": \"y\"}, {\"hovertemplate\": \"method=kkt_block_admm<br>sec_time=%{marker.size}<br>distance=%{y}<br>str_tol=%{text}<extra></extra>\", \"legendgroup\": \"kkt_block_admm\", \"marker\": {\"color\": \"#19d3f3\", \"size\": [0.02, 0.07, 0.2, 0.27, 0.47, 0.58, 0.7, 0.81], \"sizemode\": \"area\", \"sizeref\": 0.0020250000000000003, \"symbol\": \"circle\"}, \"mode\": \"markers+text\", \"name\": \"kkt_block_admm\", \"orientation\": \"v\", \"showlegend\": true, \"text\": [\"0.1\", \"0.01\", \"0.001\", \"1e-04\", \"1e-05\", \"1e-06\", \"1e-07\", \"1e-08\"], \"textposition\": \"top center\", \"type\": \"scatter\", \"x\": [0.02, 0.07, 0.2, 0.27, 0.47, 0.58, 0.7, 0.81], \"xaxis\": \"x\", \"y\": [7.971541699101097, 1.9350657647815706, 0.24539547180332869, 0.025737382179895536, 0.003666919436181661, 0.001294040963107283, 0.0010530265880702506, 0.0010304601496386098], \"yaxis\": \"y\"}],                        {\"legend\": {\"itemsizing\": \"constant\", \"title\": {\"text\": \"method\"}, \"tracegroupgap\": 0}, \"template\": {\"data\": {\"bar\": [{\"error_x\": {\"color\": \"#2a3f5f\"}, \"error_y\": {\"color\": \"#2a3f5f\"}, \"marker\": {\"line\": {\"color\": \"white\", \"width\": 0.5}}, \"type\": \"bar\"}], \"barpolar\": [{\"marker\": {\"line\": {\"color\": \"white\", \"width\": 0.5}}, \"type\": \"barpolar\"}], \"carpet\": [{\"aaxis\": {\"endlinecolor\": \"#2a3f5f\", \"gridcolor\": \"#C8D4E3\", \"linecolor\": \"#C8D4E3\", \"minorgridcolor\": \"#C8D4E3\", \"startlinecolor\": \"#2a3f5f\"}, \"baxis\": {\"endlinecolor\": \"#2a3f5f\", \"gridcolor\": \"#C8D4E3\", \"linecolor\": \"#C8D4E3\", \"minorgridcolor\": \"#C8D4E3\", \"startlinecolor\": \"#2a3f5f\"}, \"type\": \"carpet\"}], \"choropleth\": [{\"colorbar\": {\"outlinewidth\": 0, \"ticks\": \"\"}, \"type\": \"choropleth\"}], \"contour\": [{\"colorbar\": {\"outlinewidth\": 0, \"ticks\": \"\"}, \"colorscale\": [[0.0, \"#0d0887\"], [0.1111111111111111, \"#46039f\"], [0.2222222222222222, \"#7201a8\"], [0.3333333333333333, \"#9c179e\"], [0.4444444444444444, \"#bd3786\"], [0.5555555555555556, \"#d8576b\"], [0.6666666666666666, \"#ed7953\"], [0.7777777777777778, \"#fb9f3a\"], [0.8888888888888888, \"#fdca26\"], [1.0, \"#f0f921\"]], \"type\": \"contour\"}], \"contourcarpet\": [{\"colorbar\": {\"outlinewidth\": 0, \"ticks\": \"\"}, \"type\": \"contourcarpet\"}], \"heatmap\": [{\"colorbar\": {\"outlinewidth\": 0, \"ticks\": \"\"}, \"colorscale\": [[0.0, \"#0d0887\"], [0.1111111111111111, \"#46039f\"], [0.2222222222222222, \"#7201a8\"], [0.3333333333333333, \"#9c179e\"], [0.4444444444444444, \"#bd3786\"], [0.5555555555555556, \"#d8576b\"], [0.6666666666666666, \"#ed7953\"], [0.7777777777777778, \"#fb9f3a\"], [0.8888888888888888, \"#fdca26\"], [1.0, \"#f0f921\"]], \"type\": \"heatmap\"}], \"heatmapgl\": [{\"colorbar\": {\"outlinewidth\": 0, \"ticks\": \"\"}, \"colorscale\": [[0.0, \"#0d0887\"], [0.1111111111111111, \"#46039f\"], [0.2222222222222222, \"#7201a8\"], [0.3333333333333333, \"#9c179e\"], [0.4444444444444444, \"#bd3786\"], [0.5555555555555556, \"#d8576b\"], [0.6666666666666666, \"#ed7953\"], [0.7777777777777778, \"#fb9f3a\"], [0.8888888888888888, \"#fdca26\"], [1.0, \"#f0f921\"]], \"type\": \"heatmapgl\"}], \"histogram\": [{\"marker\": {\"colorbar\": {\"outlinewidth\": 0, \"ticks\": \"\"}}, \"type\": \"histogram\"}], \"histogram2d\": [{\"colorbar\": {\"outlinewidth\": 0, \"ticks\": \"\"}, \"colorscale\": [[0.0, \"#0d0887\"], [0.1111111111111111, \"#46039f\"], [0.2222222222222222, \"#7201a8\"], [0.3333333333333333, \"#9c179e\"], [0.4444444444444444, \"#bd3786\"], [0.5555555555555556, \"#d8576b\"], [0.6666666666666666, \"#ed7953\"], [0.7777777777777778, \"#fb9f3a\"], [0.8888888888888888, \"#fdca26\"], [1.0, \"#f0f921\"]], \"type\": \"histogram2d\"}], \"histogram2dcontour\": [{\"colorbar\": {\"outlinewidth\": 0, \"ticks\": \"\"}, \"colorscale\": [[0.0, \"#0d0887\"], [0.1111111111111111, \"#46039f\"], [0.2222222222222222, \"#7201a8\"], [0.3333333333333333, \"#9c179e\"], [0.4444444444444444, \"#bd3786\"], [0.5555555555555556, \"#d8576b\"], [0.6666666666666666, \"#ed7953\"], [0.7777777777777778, \"#fb9f3a\"], [0.8888888888888888, \"#fdca26\"], [1.0, \"#f0f921\"]], \"type\": \"histogram2dcontour\"}], \"mesh3d\": [{\"colorbar\": {\"outlinewidth\": 0, \"ticks\": \"\"}, \"type\": \"mesh3d\"}], \"parcoords\": [{\"line\": {\"colorbar\": {\"outlinewidth\": 0, \"ticks\": \"\"}}, \"type\": \"parcoords\"}], \"pie\": [{\"automargin\": true, \"type\": \"pie\"}], \"scatter\": [{\"marker\": {\"colorbar\": {\"outlinewidth\": 0, \"ticks\": \"\"}}, \"type\": \"scatter\"}], \"scatter3d\": [{\"line\": {\"colorbar\": {\"outlinewidth\": 0, \"ticks\": \"\"}}, \"marker\": {\"colorbar\": {\"outlinewidth\": 0, \"ticks\": \"\"}}, \"type\": \"scatter3d\"}], \"scattercarpet\": [{\"marker\": {\"colorbar\": {\"outlinewidth\": 0, \"ticks\": \"\"}}, \"type\": \"scattercarpet\"}], \"scattergeo\": [{\"marker\": {\"colorbar\": {\"outlinewidth\": 0, \"ticks\": \"\"}}, \"type\": \"scattergeo\"}], \"scattergl\": [{\"marker\": {\"colorbar\": {\"outlinewidth\": 0, \"ticks\": \"\"}}, \"type\": \"scattergl\"}], \"scattermapbox\": [{\"marker\": {\"colorbar\": {\"outlinewidth\": 0, \"ticks\": \"\"}}, \"type\": \"scattermapbox\"}], \"scatterpolar\": [{\"marker\": {\"colorbar\": {\"outlinewidth\": 0, \"ticks\": \"\"}}, \"type\": \"scatterpolar\"}], \"scatterpolargl\": [{\"marker\": {\"colorbar\": {\"outlinewidth\": 0, \"ticks\": \"\"}}, \"type\": \"scatterpolargl\"}], \"scatterternary\": [{\"marker\": {\"colorbar\": {\"outlinewidth\": 0, \"ticks\": \"\"}}, \"type\": \"scatterternary\"}], \"surface\": [{\"colorbar\": {\"outlinewidth\": 0, \"ticks\": \"\"}, \"colorscale\": [[0.0, \"#0d0887\"], [0.1111111111111111, \"#46039f\"], [0.2222222222222222, \"#7201a8\"], [0.3333333333333333, \"#9c179e\"], [0.4444444444444444, \"#bd3786\"], [0.5555555555555556, \"#d8576b\"], [0.6666666666666666, \"#ed7953\"], [0.7777777777777778, \"#fb9f3a\"], [0.8888888888888888, \"#fdca26\"], [1.0, \"#f0f921\"]], \"type\": \"surface\"}], \"table\": [{\"cells\": {\"fill\": {\"color\": \"#EBF0F8\"}, \"line\": {\"color\": \"white\"}}, \"header\": {\"fill\": {\"color\": \"#C8D4E3\"}, \"line\": {\"color\": \"white\"}}, \"type\": \"table\"}]}, \"layout\": {\"annotationdefaults\": {\"arrowcolor\": \"#2a3f5f\", \"arrowhead\": 0, \"arrowwidth\": 1}, \"autotypenumbers\": \"strict\", \"coloraxis\": {\"colorbar\": {\"outlinewidth\": 0, \"ticks\": \"\"}}, \"colorscale\": {\"diverging\": [[0, \"#8e0152\"], [0.1, \"#c51b7d\"], [0.2, \"#de77ae\"], [0.3, \"#f1b6da\"], [0.4, \"#fde0ef\"], [0.5, \"#f7f7f7\"], [0.6, \"#e6f5d0\"], [0.7, \"#b8e186\"], [0.8, \"#7fbc41\"], [0.9, \"#4d9221\"], [1, \"#276419\"]], \"sequential\": [[0.0, \"#0d0887\"], [0.1111111111111111, \"#46039f\"], [0.2222222222222222, \"#7201a8\"], [0.3333333333333333, \"#9c179e\"], [0.4444444444444444, \"#bd3786\"], [0.5555555555555556, \"#d8576b\"], [0.6666666666666666, \"#ed7953\"], [0.7777777777777778, \"#fb9f3a\"], [0.8888888888888888, \"#fdca26\"], [1.0, \"#f0f921\"]], \"sequentialminus\": [[0.0, \"#0d0887\"], [0.1111111111111111, \"#46039f\"], [0.2222222222222222, \"#7201a8\"], [0.3333333333333333, \"#9c179e\"], [0.4444444444444444, \"#bd3786\"], [0.5555555555555556, \"#d8576b\"], [0.6666666666666666, \"#ed7953\"], [0.7777777777777778, \"#fb9f3a\"], [0.8888888888888888, \"#fdca26\"], [1.0, \"#f0f921\"]]}, \"colorway\": [\"#636efa\", \"#EF553B\", \"#00cc96\", \"#ab63fa\", \"#FFA15A\", \"#19d3f3\", \"#FF6692\", \"#B6E880\", \"#FF97FF\", \"#FECB52\"], \"font\": {\"color\": \"#2a3f5f\"}, \"geo\": {\"bgcolor\": \"white\", \"lakecolor\": \"white\", \"landcolor\": \"white\", \"showlakes\": true, \"showland\": true, \"subunitcolor\": \"#C8D4E3\"}, \"hoverlabel\": {\"align\": \"left\"}, \"hovermode\": \"closest\", \"mapbox\": {\"style\": \"light\"}, \"paper_bgcolor\": \"white\", \"plot_bgcolor\": \"white\", \"polar\": {\"angularaxis\": {\"gridcolor\": \"#EBF0F8\", \"linecolor\": \"#EBF0F8\", \"ticks\": \"\"}, \"bgcolor\": \"white\", \"radialaxis\": {\"gridcolor\": \"#EBF0F8\", \"linecolor\": \"#EBF0F8\", \"ticks\": \"\"}}, \"scene\": {\"xaxis\": {\"backgroundcolor\": \"white\", \"gridcolor\": \"#DFE8F3\", \"gridwidth\": 2, \"linecolor\": \"#EBF0F8\", \"showbackground\": true, \"ticks\": \"\", \"zerolinecolor\": \"#EBF0F8\"}, \"yaxis\": {\"backgroundcolor\": \"white\", \"gridcolor\": \"#DFE8F3\", \"gridwidth\": 2, \"linecolor\": \"#EBF0F8\", \"showbackground\": true, \"ticks\": \"\", \"zerolinecolor\": \"#EBF0F8\"}, \"zaxis\": {\"backgroundcolor\": \"white\", \"gridcolor\": \"#DFE8F3\", \"gridwidth\": 2, \"linecolor\": \"#EBF0F8\", \"showbackground\": true, \"ticks\": \"\", \"zerolinecolor\": \"#EBF0F8\"}}, \"shapedefaults\": {\"line\": {\"color\": \"#2a3f5f\"}}, \"ternary\": {\"aaxis\": {\"gridcolor\": \"#DFE8F3\", \"linecolor\": \"#A2B1C6\", \"ticks\": \"\"}, \"baxis\": {\"gridcolor\": \"#DFE8F3\", \"linecolor\": \"#A2B1C6\", \"ticks\": \"\"}, \"bgcolor\": \"white\", \"caxis\": {\"gridcolor\": \"#DFE8F3\", \"linecolor\": \"#A2B1C6\", \"ticks\": \"\"}}, \"title\": {\"x\": 0.05}, \"xaxis\": {\"automargin\": true, \"gridcolor\": \"#EBF0F8\", \"linecolor\": \"#EBF0F8\", \"ticks\": \"\", \"title\": {\"standoff\": 15}, \"zerolinecolor\": \"#EBF0F8\", \"zerolinewidth\": 2}, \"yaxis\": {\"automargin\": true, \"gridcolor\": \"#EBF0F8\", \"linecolor\": \"#EBF0F8\", \"ticks\": \"\", \"title\": {\"standoff\": 15}, \"zerolinecolor\": \"#EBF0F8\", \"zerolinewidth\": 2}}}, \"title\": {\"text\": \"ADMM perfomance comparison\"}, \"xaxis\": {\"anchor\": \"y\", \"domain\": [0.0, 1.0], \"title\": {\"text\": \"sec_time\"}}, \"yaxis\": {\"anchor\": \"x\", \"domain\": [0.0, 1.0], \"title\": {\"text\": \"distance\"}, \"type\": \"log\"}},                        {\"responsive\": true}                    ).then(function(){\n",
       "                            \n",
       "var gd = document.getElementById('d71a8961-36b2-42f6-b8b6-8b3a4c068c4a');\n",
       "var x = new MutationObserver(function (mutations, observer) {{\n",
       "        var display = window.getComputedStyle(gd).display;\n",
       "        if (!display || display === 'none') {{\n",
       "            console.log([gd, 'removed!']);\n",
       "            Plotly.purge(gd);\n",
       "            observer.disconnect();\n",
       "        }}\n",
       "}});\n",
       "\n",
       "// Listen for the removal of the full notebook cells\n",
       "var notebookContainer = gd.closest('#notebook-container');\n",
       "if (notebookContainer) {{\n",
       "    x.observe(notebookContainer, {childList: true});\n",
       "}}\n",
       "\n",
       "// Listen for the clearing of the current output cell\n",
       "var outputEl = gd.closest('.output');\n",
       "if (outputEl) {{\n",
       "    x.observe(outputEl, {childList: true});\n",
       "}}\n",
       "\n",
       "                        })                };                });            </script>        </div>"
      ]
     },
     "metadata": {},
     "output_type": "display_data"
    }
   ],
   "source": [
    "# fig_1 = px.scatter(x=a['time'], y=a['accuracy'], color= \"method\")\n",
    "# fig_1.show()\n",
    "\n",
    "fig_1 = px.scatter(df, x=\"sec_time\", \n",
    "                   y='distance', color=\"method\", \n",
    "#                    text = \"sec_time\", \n",
    "                   log_y = True, template = \"plotly_white\",\n",
    "                   text = \"str_tol\",\n",
    "                 size='sec_time',\n",
    "                  title='ADMM perfomance comparison')\n",
    "fig_1.update_traces(textposition='top center')\n",
    "fig_1.show()"
   ]
  },
  {
   "cell_type": "code",
   "execution_count": null,
   "id": "creative-demand",
   "metadata": {},
   "outputs": [],
   "source": []
  }
 ],
 "metadata": {
  "kernelspec": {
   "display_name": "Python 3",
   "language": "python",
   "name": "python3"
  },
  "language_info": {
   "codemirror_mode": {
    "name": "ipython",
    "version": 3
   },
   "file_extension": ".py",
   "mimetype": "text/x-python",
   "name": "python",
   "nbconvert_exporter": "python",
   "pygments_lexer": "ipython3",
   "version": "3.8.0"
  }
 },
 "nbformat": 4,
 "nbformat_minor": 5
}
