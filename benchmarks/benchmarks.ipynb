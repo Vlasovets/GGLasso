{
 "cells": [
  {
   "cell_type": "code",
   "execution_count": 26,
   "id": "geological-oxford",
   "metadata": {},
   "outputs": [],
   "source": [
    "import sys\n",
    "import time\n",
    "import numpy as np\n",
    "import pandas as pd\n",
    "import itertools\n",
    "import plotly.express as px\n",
    "import plotly.graph_objects as go\n",
    "import datetime\n",
    "\n",
    "from sklearn.covariance import GraphicalLasso as sk_GL\n",
    "from sklearn.covariance import empirical_covariance\n",
    "from sklearn import set_config\n",
    "set_config(print_changed_only=False)\n",
    "\n",
    "from gglasso.solver.single_admm_solver import ADMM_SGL\n",
    "from gglasso.solver.single_admm_solver import block_SGL\n",
    "from gglasso.helper.data_generation import time_varying_power_network, group_power_network, sample_covariance_matrix\n",
    "from gglasso.helper.model_selection import single_grid_search\n",
    "from benchmarks import models_to_dict, sklearn_time_benchmark, admm_time_benchmark, model_solution, benchmark_parameters\n",
    "from benchmarks import network_generation, hamming_distance, sparsity_benchmark, time_benchmark, dict_to_dataframe, dict_shape\n",
    "from benchmarks import plot_log_distance\n",
    "\n",
    "from regain.covariance import GraphicalLasso as rg_GL"
   ]
  },
  {
   "cell_type": "code",
   "execution_count": null,
   "id": "overhead-reliance",
   "metadata": {},
   "outputs": [],
   "source": [
    "S_dict=dict()\n",
    "X_dict=dict()\n",
    "Theta_dict=dict()\n",
    "\n",
    "p_list=[100, 300, 1000]\n",
    "N_list=[300, 600, 2000]\n",
    "\n",
    "for p, N in zip(p_list, N_list):\n",
    "    S, X, Theta = network_generation(p, N, K=1, M=2)\n",
    "    \n",
    "    S_dict[p, N] = S\n",
    "    X_dict[p, N] = X\n",
    "    Theta_dict[p, N] = Theta\n",
    "\n",
    "print(\"\\n Shape of S_i:\", dict_shape(S_dict))\n",
    "print(\"\\n Shape of X_i:\", dict_shape(X_dict))\n",
    "print(\"\\n Shape of Theta_i:\", dict_shape(Theta_dict))"
   ]
  },
  {
   "cell_type": "code",
   "execution_count": null,
   "id": "dressed-amber",
   "metadata": {},
   "outputs": [],
   "source": [
    "sk_params, rg_params, admm_params = benchmark_parameters()"
   ]
  },
  {
   "cell_type": "code",
   "execution_count": null,
   "id": "several-lecture",
   "metadata": {},
   "outputs": [],
   "source": [
    "time_dict = dict()\n",
    "accuracy_dict = dict()\n",
    "Z_dict = dict()\n",
    "\n",
    "for X, S in zip(list(X_dict.values()), list(S_dict.values())):\n",
    "    times, accs, precs = time_benchmark(X=X, S=S, Z_model=\"sklearn\", lambda1=0.1, n_iter=5,\n",
    "                                        sk_params=sk_params, rg_params=rg_params, admm_params=admm_params)\n",
    "    \n",
    "    time_dict.update(times)\n",
    "    accuracy_dict.update(accs)\n",
    "    Z_dict.update(precs)"
   ]
  },
  {
   "cell_type": "code",
   "execution_count": null,
   "id": "round-direction",
   "metadata": {},
   "outputs": [],
   "source": [
    "sparsity = sparsity_benchmark(Theta_dict=Theta_dict, Z_dict=Z_dict, t_rounding=1e-4)"
   ]
  },
  {
   "cell_type": "code",
   "execution_count": null,
   "id": "atmospheric-zimbabwe",
   "metadata": {},
   "outputs": [],
   "source": [
    "df = dict_to_dataframe(times=time_dict, acc_dict=accuracy_dict, spars_dict=sparsity)\n",
    "df.head()"
   ]
  },
  {
   "cell_type": "code",
   "execution_count": null,
   "id": "dedicated-muscle",
   "metadata": {},
   "outputs": [],
   "source": [
    "fig = plot_log_distance(df, upper_bound=0.01, lower_bound=0.001)\n",
    "fig.show()"
   ]
  },
  {
   "cell_type": "code",
   "execution_count": null,
   "id": "regulation-milton",
   "metadata": {},
   "outputs": [],
   "source": [
    "spar_df = df[(df[\"accuracy\"] < 0.01) & (df[\"accuracy\"] > 0.001)]\n",
    "\n",
    "names = dict()\n",
    "frames = dict()\n",
    "for p in spar_df[\"p\"].unique():\n",
    "    for method in spar_df[\"method\"].unique():\n",
    "        names[method] = spar_df[(spar_df[\"p\"] == p) & (spar_df[\"method\"] == method)][\"hamming\"].min()\n",
    "    frame = pd.DataFrame(names.items(), columns=['method', 'min_hamming'])\n",
    "    frame = frame.sort_values(by='min_hamming', ascending=True)\n",
    "    frames[p] = frame.reset_index(drop=True)"
   ]
  },
  {
   "cell_type": "code",
   "execution_count": null,
   "id": "pediatric-treasure",
   "metadata": {},
   "outputs": [],
   "source": [
    "frames[100]"
   ]
  },
  {
   "cell_type": "code",
   "execution_count": null,
   "id": "treated-tokyo",
   "metadata": {},
   "outputs": [],
   "source": [
    "frames[300]"
   ]
  },
  {
   "cell_type": "code",
   "execution_count": null,
   "id": "integrated-shoot",
   "metadata": {},
   "outputs": [],
   "source": [
    "frames[1000]"
   ]
  }
 ],
 "metadata": {
  "kernelspec": {
   "display_name": "Python 3",
   "language": "python",
   "name": "python3"
  },
  "language_info": {
   "codemirror_mode": {
    "name": "ipython",
    "version": 3
   },
   "file_extension": ".py",
   "mimetype": "text/x-python",
   "name": "python",
   "nbconvert_exporter": "python",
   "pygments_lexer": "ipython3",
   "version": "3.8.0"
  }
 },
 "nbformat": 4,
 "nbformat_minor": 5
}