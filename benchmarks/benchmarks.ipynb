{
 "cells": [
  {
   "cell_type": "code",
   "execution_count": null,
   "id": "right-foundation",
   "metadata": {},
   "outputs": [],
   "source": [
    "import sys\n",
    "import time\n",
    "import numpy as np\n",
    "import pandas as pd\n",
    "import itertools\n",
    "import plotly.express as px\n",
    "import plotly.graph_objects as go\n",
    "import datetime\n",
    "\n",
    "from sklearn.covariance import GraphicalLasso as sk_GL\n",
    "from sklearn.covariance import empirical_covariance\n",
    "from sklearn import set_config\n",
    "set_config(print_changed_only=False)\n",
    "\n",
    "from gglasso.solver.single_admm_solver import ADMM_SGL\n",
    "from gglasso.solver.single_admm_solver import block_SGL\n",
    "from gglasso.helper.data_generation import time_varying_power_network, group_power_network, sample_covariance_matrix\n",
    "from gglasso.helper.model_selection import single_grid_search\n",
    "from benchmarks import models_to_dict, sklearn_time_benchmark, admm_time_benchmark, model_solution\n",
    "from benchmarks import network_generation, hamming_distance, sparsity_benchmark, time_benchmark, dict_to_dataframe\n",
    "\n",
    "from regain.covariance import GraphicalLasso as rg_GL"
   ]
  },
  {
   "cell_type": "code",
   "execution_count": null,
   "id": "sorted-portugal",
   "metadata": {},
   "outputs": [],
   "source": [
    "S_dict, X_dict, Theta_dict = network_generation(p_list=[300, 500, 1000], N_list=[600, 1000, 2000], K=5, M=2)"
   ]
  },
  {
   "cell_type": "code",
   "execution_count": null,
   "id": "another-ordinary",
   "metadata": {},
   "outputs": [],
   "source": [
    "time_dict, accuracy_dict, Z_dict = time_benchmark(X_dict=X_dict, S_dict=S_dict, Z_model=\"sklearn\",\n",
    "                                                  lambda1=0.1, tol_list=[1e-4, 1e-6], rtol_list=[1e-2, 1e-4],\n",
    "                                                  enet_list=[1])"
   ]
  },
  {
   "cell_type": "code",
   "execution_count": null,
   "id": "superb-flexibility",
   "metadata": {},
   "outputs": [],
   "source": [
    "sparsity = sparsity_benchmark(Theta_dict=Theta_dict, Z_dict=Z_dict, t_rounding=1e-4)"
   ]
  },
  {
   "cell_type": "code",
   "execution_count": null,
   "id": "labeled-literature",
   "metadata": {},
   "outputs": [],
   "source": [
    "df = dict_to_dataframe(times=time_dict, acc_dict=accuracy_dict, spars_dict=sparsity)\n",
    "df.head()"
   ]
  },
  {
   "cell_type": "code",
   "execution_count": null,
   "id": "turkish-trailer",
   "metadata": {},
   "outputs": [],
   "source": [
    "fig = px.scatter(df, x=\"time\", y=\"accuracy\", text = \"name\", color= \"method\", \n",
    "              log_y = True, facet_col='p', facet_col_wrap=3,\n",
    "              labels={\n",
    "                     \"time\": \"Time, s\",\n",
    "                     \"accuracy\": \"Log_distance\",\n",
    "                     \"method\": \"method\"\n",
    "                 },\n",
    "              template = \"plotly_white\",\n",
    "              title=\"Log-distance between Z and Z' with respect to ADMM convergence rates\")\n",
    "fig.update_traces(mode='markers+lines')\n",
    "fig.show()"
   ]
  },
  {
   "cell_type": "code",
   "execution_count": null,
   "id": "hungry-leone",
   "metadata": {},
   "outputs": [],
   "source": [
    "fig = px.scatter(df, x=\"method\", y=\"hamming\", text = \"name\", color= \"method\", \n",
    "              log_y = True, facet_col='p', facet_col_wrap=2,\n",
    "              labels={\n",
    "                     \"time\": \"Time, s\",\n",
    "                     \"accuracy\": \"Log_distance\",\n",
    "                     \"method\": \"method\"\n",
    "                 },\n",
    "              template = \"plotly_white\",\n",
    "              title=\"Log-distance between Z and Z' with respect to ADMM convergence rates\")\n",
    "fig.update_traces(mode='markers+lines')\n",
    "fig.show()"
   ]
  },
  {
   "cell_type": "code",
   "execution_count": null,
   "id": "adjustable-entrepreneur",
   "metadata": {},
   "outputs": [],
   "source": []
  }
 ],
 "metadata": {
  "kernelspec": {
   "display_name": "Python 3",
   "language": "python",
   "name": "python3"
  },
  "language_info": {
   "codemirror_mode": {
    "name": "ipython",
    "version": 3
   },
   "file_extension": ".py",
   "mimetype": "text/x-python",
   "name": "python",
   "nbconvert_exporter": "python",
   "pygments_lexer": "ipython3",
   "version": "3.8.0"
  }
 },
 "nbformat": 4,
 "nbformat_minor": 5
}
