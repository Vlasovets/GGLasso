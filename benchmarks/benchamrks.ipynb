{
 "cells": [
  {
   "cell_type": "code",
   "execution_count": null,
   "id": "tested-lodging",
   "metadata": {},
   "outputs": [],
   "source": [
    "cd /Users/oleg.vlasovetc/Public/GGLasso"
   ]
  },
  {
   "cell_type": "code",
   "execution_count": null,
   "id": "static-filter",
   "metadata": {},
   "outputs": [],
   "source": [
    "import sys\n",
    "import time\n",
    "import numpy as np\n",
    "import pandas as pd\n",
    "import itertools\n",
    "import plotly.express as px\n",
    "import plotly.graph_objects as go\n",
    "import datetime\n",
    "\n",
    "from sklearn.covariance import GraphicalLasso as sk_GL\n",
    "from sklearn.covariance import empirical_covariance\n",
    "from sklearn import set_config\n",
    "set_config(print_changed_only=False)\n",
    "\n",
    "from gglasso.solver.single_admm_solver import ADMM_SGL\n",
    "from gglasso.solver.single_admm_solver import block_SGL\n",
    "from gglasso.helper.data_generation import time_varying_power_network, group_power_network, sample_covariance_matrix\n",
    "from gglasso.helper.model_selection import single_grid_search\n",
    "from experiments.benchmarks.benchmarks import *\n",
    "\n",
    "from regain.covariance import GraphicalLasso as rg_GL"
   ]
  },
  {
   "cell_type": "code",
   "execution_count": null,
   "id": "expected-thesis",
   "metadata": {},
   "outputs": [],
   "source": [
    "p = 100\n",
    "N = 200\n",
    "Omega_0 = np.eye(p)\n",
    "lambda1 = 0.01\n",
    "# tol_list = [1e-1, 1e-2, 1e-3, 1e-4, 1e-5, 1e-6, 1e-7, 1e-8]\n",
    "tol_list = [1e-4, 1e-5, 1e-6]\n",
    "enet_list = [1e-4, 1e-5, 1e-6]\n",
    "\n",
    "Sigma, Theta = group_power_network(p, K=5, M=2)  # Theta is true precision matrix\n",
    "\n",
    "S, samples = sample_covariance_matrix(Sigma, N)\n",
    "\n",
    "S = S[0, :, :]\n",
    "Theta = Theta[0, :, :]  # true precision matrix\n",
    "X = samples[0,:,:].T"
   ]
  },
  {
   "cell_type": "markdown",
   "id": "bound-recall",
   "metadata": {},
   "source": [
    "# Model solution Z"
   ]
  },
  {
   "cell_type": "code",
   "execution_count": null,
   "id": "excited-jacksonville",
   "metadata": {},
   "outputs": [],
   "source": [
    "Z, Z_time = model_solution(model=\"sklearn\", X=X, lambda1=lambda1, max_iter=50000, tol=1e-7, enet=0.1)"
   ]
  },
  {
   "cell_type": "code",
   "execution_count": null,
   "id": "opened-argentina",
   "metadata": {},
   "outputs": [],
   "source": [
    "print(Z_time)"
   ]
  },
  {
   "cell_type": "markdown",
   "id": "utility-childhood",
   "metadata": {},
   "source": [
    "# Solution Z_i"
   ]
  },
  {
   "cell_type": "code",
   "execution_count": null,
   "id": "three-detector",
   "metadata": {},
   "outputs": [],
   "source": [
    "models = models_to_dict(models=[\"sklearn\", \"regain\"], lambda1=lambda1, tol_list=tol_list, rtol_list=tol_list, enet_list=enet_list, \n",
    "                        max_iter=50000)"
   ]
  },
  {
   "cell_type": "code",
   "execution_count": null,
   "id": "located-macintosh",
   "metadata": {},
   "outputs": [],
   "source": [
    "sk_time, sk_accuracy, Z_sk = sklearn_time_benchmark(models, X=X, Z=Z, n_iter=5)"
   ]
  },
  {
   "cell_type": "code",
   "execution_count": null,
   "id": "duplicate-pocket",
   "metadata": {},
   "outputs": [],
   "source": [
    "admm_time, admm_accuracy, Z_admm = admm_time_benchmark(S=S, Omega_0=Omega_0, Z=Z, lambda1=lambda1, \n",
    "                                               method_list=[\"single\", \"block\"],\n",
    "                                               stop_list=['boyd', 'kkt'], \n",
    "                                               tol_list=tol_list, \n",
    "                                               rtol_list=tol_list,\n",
    "                                               n_iter=5)"
   ]
  },
  {
   "cell_type": "markdown",
   "id": "potential-muscle",
   "metadata": {},
   "source": [
    "# Data formating"
   ]
  },
  {
   "cell_type": "code",
   "execution_count": null,
   "id": "relevant-accountability",
   "metadata": {},
   "outputs": [],
   "source": [
    "sparsity_sk = list(map(gini, Z_sk.values()))\n",
    "sparsity_admm =  list(map(gini, Z_admm.values()))"
   ]
  },
  {
   "cell_type": "code",
   "execution_count": null,
   "id": "color-hunger",
   "metadata": {},
   "outputs": [],
   "source": [
    "df_sk = pd.DataFrame(data={'name': sk_time.keys(), 'time': sk_time.values(), \"accuracy\": sk_accuracy.values(),\n",
    "                          \"sparsity\": sparsity_sk})\n",
    "\n",
    "df_admm = pd.DataFrame(data={'name': admm_time.keys(), 'time': admm_time.values(), \"accuracy\": admm_accuracy.values(),\n",
    "                            \"sparsity\": sparsity_admm})\n",
    "\n",
    "df = pd.concat([df_sk, df_admm])\n",
    "df"
   ]
  },
  {
   "cell_type": "code",
   "execution_count": null,
   "id": "harmful-massage",
   "metadata": {},
   "outputs": [],
   "source": [
    "df['split'] = df['name'].str.split('_')\n",
    "df[[\"method\", \"tol_str\", \"tol\", \"rtol_str\", \"rtol\"]] = pd.DataFrame(df['split'].tolist(), index=df['split'].index)\n",
    "df = df.drop([\"name\", 'split', \"tol_str\", \"rtol_str\"], axis=1)\n",
    "df"
   ]
  },
  {
   "cell_type": "markdown",
   "id": "talented-kinase",
   "metadata": {},
   "source": [
    "Here in sklearn, \"rtol\" corresponds to \"enet_tol\", see [sklearn.covariance.graphical_lasso](https://scikit-learn.org/stable/modules/generated/sklearn.covariance.graphical_lasso.html)"
   ]
  },
  {
   "cell_type": "code",
   "execution_count": null,
   "id": "abroad-warehouse",
   "metadata": {},
   "outputs": [],
   "source": [
    "fig = px.line(df, x=\"time\", y=\"accuracy\", text = \"tol\", color= \"method\", \n",
    "              log_y = True, \n",
    "              labels={\n",
    "                     \"time\": \"Time, s\",\n",
    "                     \"accuracy\": \"Log_distance\",\n",
    "                     \"method\": \"method\"\n",
    "                 },\n",
    "              template = \"plotly_white\",\n",
    "              title=\"Log-distance between Z and Z' with respect to ADMM convergence rates\")\n",
    "fig.update_traces(mode='markers+lines')\n",
    "fig.show()"
   ]
  },
  {
   "cell_type": "code",
   "execution_count": null,
   "id": "later-france",
   "metadata": {},
   "outputs": [],
   "source": [
    "fig = px.line(df, x=\"tol\", y=\"accuracy\", color= \"method\", \n",
    "              log_y = True,\n",
    "              labels={\n",
    "                     \"tol\": \"Tolerance rate\",\n",
    "                     \"accuracy\": \"Log_distance\",\n",
    "                     \"method\": \"method\"\n",
    "                 },\n",
    "              template = \"plotly_white\",\n",
    "              title=\"Log-distance between Z and Z' with respect to ADMM convergence rates\")\n",
    "fig.update_traces(mode='markers+lines')\n",
    "fig.show()"
   ]
  },
  {
   "cell_type": "markdown",
   "id": "tamil-papua",
   "metadata": {},
   "source": [
    "# Sparsity benchmark"
   ]
  },
  {
   "cell_type": "code",
   "execution_count": null,
   "id": "abroad-seattle",
   "metadata": {},
   "outputs": [],
   "source": [
    "fig = go.Figure(data=go.Heatmap(\n",
    "        z=df[\"sparsity\"],\n",
    "        x=df[\"method\"],\n",
    "        y=df[\"tol\"],\n",
    "        colorscale='Viridis'))\n",
    "\n",
    "fig.update_layout(\n",
    "    title='Sparsity benchmarks',\n",
    "    xaxis_nticks=36)\n",
    "\n",
    "fig.show()"
   ]
  }
 ],
 "metadata": {
  "kernelspec": {
   "display_name": "Python 3",
   "language": "python",
   "name": "python3"
  },
  "language_info": {
   "codemirror_mode": {
    "name": "ipython",
    "version": 3
   },
   "file_extension": ".py",
   "mimetype": "text/x-python",
   "name": "python",
   "nbconvert_exporter": "python",
   "pygments_lexer": "ipython3",
   "version": "3.8.0"
  }
 },
 "nbformat": 4,
 "nbformat_minor": 5
}