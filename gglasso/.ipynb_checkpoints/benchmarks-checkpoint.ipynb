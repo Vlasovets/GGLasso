{
 "cells": [
  {
   "cell_type": "code",
   "execution_count": 1,
   "id": "subsequent-germany",
   "metadata": {},
   "outputs": [
    {
     "name": "stdout",
     "output_type": "stream",
     "text": [
      "Requirement already satisfied: numba==0.48 in /Users/oleg.vlasovetc/opt/anaconda3/envs/gglasso/lib/python3.8/site-packages (0.48.0)\n",
      "Requirement already satisfied: setuptools in /Users/oleg.vlasovetc/opt/anaconda3/envs/gglasso/lib/python3.8/site-packages (from numba==0.48) (52.0.0.post20210125)\n",
      "Requirement already satisfied: numpy>=1.15 in /Users/oleg.vlasovetc/opt/anaconda3/envs/gglasso/lib/python3.8/site-packages (from numba==0.48) (1.20.1)\n",
      "Requirement already satisfied: llvmlite<0.32.0,>=0.31.0dev0 in /Users/oleg.vlasovetc/opt/anaconda3/envs/gglasso/lib/python3.8/site-packages (from numba==0.48) (0.31.0)\n"
     ]
    }
   ],
   "source": [
    "!pip install numba==0.48"
   ]
  },
  {
   "cell_type": "code",
   "execution_count": 2,
   "id": "basic-acting",
   "metadata": {},
   "outputs": [
    {
     "name": "stdout",
     "output_type": "stream",
     "text": [
      "Requirement already satisfied: regain in /Users/oleg.vlasovetc/opt/anaconda3/envs/gglasso/lib/python3.8/site-packages (0.2.3)\r\n"
     ]
    }
   ],
   "source": [
    "!pip install regain"
   ]
  },
  {
   "cell_type": "code",
   "execution_count": 4,
   "id": "narrow-potato",
   "metadata": {},
   "outputs": [],
   "source": [
    "%matplotlib inline\n",
    "import time\n",
    "import numpy as np"
   ]
  },
  {
   "cell_type": "markdown",
   "id": "coordinated-lobby",
   "metadata": {},
   "source": [
    "# Import sklearn"
   ]
  },
  {
   "cell_type": "code",
   "execution_count": 6,
   "id": "noble-collectible",
   "metadata": {},
   "outputs": [],
   "source": [
    "from sklearn.covariance import GraphicalLasso\n",
    "from sklearn.covariance import empirical_covariance"
   ]
  },
  {
   "cell_type": "code",
   "execution_count": 7,
   "id": "controlled-cartridge",
   "metadata": {},
   "outputs": [],
   "source": [
    "true_cov = np.array([[0.8, 0.0, 0.2, 0.0],\n",
    "                     [0.0, 0.4, 0.0, 0.0],\n",
    "                     [0.2, 0.0, 0.3, 0.1],\n",
    "                     [0.0, 0.0, 0.1, 0.7]])"
   ]
  },
  {
   "cell_type": "code",
   "execution_count": 14,
   "id": "absent-exhibit",
   "metadata": {},
   "outputs": [
    {
     "name": "stdout",
     "output_type": "stream",
     "text": [
      "0.004012107849121094\n"
     ]
    }
   ],
   "source": [
    "np.random.seed(243)\n",
    "X = np.random.multivariate_normal(mean=[0, 0, 0, 0], cov=true_cov, size=200)\n",
    "start = time.time()\n",
    "cov = GraphicalLasso().fit(X)\n",
    "end = time.time()\n",
    "print(end-start)"
   ]
  },
  {
   "cell_type": "code",
   "execution_count": 12,
   "id": "superb-bhutan",
   "metadata": {},
   "outputs": [
    {
     "data": {
      "text/plain": [
       "array([[ 0.785, -0.039,  0.166,  0.017],\n",
       "       [-0.039,  0.44 , -0.013,  0.008],\n",
       "       [ 0.166, -0.013,  0.325,  0.052],\n",
       "       [ 0.017,  0.008,  0.052,  0.618]])"
      ]
     },
     "execution_count": 12,
     "metadata": {},
     "output_type": "execute_result"
    }
   ],
   "source": [
    "np.around(cov.covariance_, decimals=3)"
   ]
  },
  {
   "cell_type": "code",
   "execution_count": 13,
   "id": "favorite-specific",
   "metadata": {},
   "outputs": [
    {
     "data": {
      "text/plain": [
       "array([[ 1.434,  0.106, -0.732,  0.02 ],\n",
       "       [ 0.106,  2.285,  0.043, -0.037],\n",
       "       [-0.732,  0.043,  3.491, -0.271],\n",
       "       [ 0.02 , -0.037, -0.271,  1.64 ]])"
      ]
     },
     "execution_count": 13,
     "metadata": {},
     "output_type": "execute_result"
    }
   ],
   "source": [
    "np.around(cov.precision_, decimals=3)"
   ]
  },
  {
   "cell_type": "markdown",
   "id": "continuous-knight",
   "metadata": {},
   "source": [
    "# Import Regain GL"
   ]
  },
  {
   "cell_type": "code",
   "execution_count": 30,
   "id": "stone-briefing",
   "metadata": {},
   "outputs": [],
   "source": [
    "from regain.covariance import GraphicalLasso\n",
    "#from regain.covariance import graphical_lasso"
   ]
  },
  {
   "cell_type": "code",
   "execution_count": 32,
   "id": "steady-eugene",
   "metadata": {},
   "outputs": [],
   "source": [
    "from regain.covariance.graphical_lasso_ import GraphicalLasso"
   ]
  },
  {
   "cell_type": "code",
   "execution_count": 33,
   "id": "finite-poultry",
   "metadata": {},
   "outputs": [
    {
     "name": "stderr",
     "output_type": "stream",
     "text": [
      "/Users/oleg.vlasovetc/opt/anaconda3/envs/gglasso/lib/python3.8/site-packages/regain/covariance/graphical_lasso_.py:192: UserWarning: Objective did not converge.\n",
      "  warnings.warn(\"Objective did not converge.\")\n"
     ]
    },
    {
     "data": {
      "text/plain": [
       "array([[ 12.78589999,   7.01392663,  -6.79936113,   6.25353062],\n",
       "       [  7.01392663,  63.96330804,  70.82394107,   8.84785001],\n",
       "       [ -6.79936113,  70.82394107, 245.15518401,   0.        ],\n",
       "       [  6.25353062,   8.84785001,   0.        ,  15.39105276]])"
      ]
     },
     "execution_count": 33,
     "metadata": {},
     "output_type": "execute_result"
    }
   ],
   "source": [
    "GraphicalLasso().fit(true_cov).precision_"
   ]
  },
  {
   "cell_type": "code",
   "execution_count": 35,
   "id": "retained-unknown",
   "metadata": {},
   "outputs": [
    {
     "ename": "NameError",
     "evalue": "name 'graphical_lasso' is not defined",
     "output_type": "error",
     "traceback": [
      "\u001b[0;31m--------------------------------------------------------------------------\u001b[0m",
      "\u001b[0;31mNameError\u001b[0m                                Traceback (most recent call last)",
      "\u001b[0;32m<ipython-input-35-0354483e4d8d>\u001b[0m in \u001b[0;36m<module>\u001b[0;34m\u001b[0m\n\u001b[0;32m----> 1\u001b[0;31m sol = graphical_lasso.graphical_lasso(\n\u001b[0m\u001b[1;32m      2\u001b[0m         \u001b[0mtrue_cov\u001b[0m\u001b[0;34m,\u001b[0m \u001b[0malpha\u001b[0m\u001b[0;34m=\u001b[0m\u001b[0;36m0.01\u001b[0m\u001b[0;34m,\u001b[0m \u001b[0mrho\u001b[0m\u001b[0;34m=\u001b[0m\u001b[0;36m1\u001b[0m\u001b[0;34m,\u001b[0m \u001b[0mover_relax\u001b[0m\u001b[0;34m=\u001b[0m\u001b[0;36m1\u001b[0m\u001b[0;34m,\u001b[0m \u001b[0mmax_iter\u001b[0m\u001b[0;34m=\u001b[0m\u001b[0;36m100\u001b[0m\u001b[0;34m,\u001b[0m \u001b[0mverbose\u001b[0m\u001b[0;34m=\u001b[0m\u001b[0;32mTrue\u001b[0m\u001b[0;34m,\u001b[0m\u001b[0;34m\u001b[0m\u001b[0;34m\u001b[0m\u001b[0m\n\u001b[1;32m      3\u001b[0m         \u001b[0mtol\u001b[0m\u001b[0;34m=\u001b[0m\u001b[0;36m1e-4\u001b[0m\u001b[0;34m,\u001b[0m \u001b[0mrtol\u001b[0m\u001b[0;34m=\u001b[0m\u001b[0;36m1e-4\u001b[0m\u001b[0;34m,\u001b[0m \u001b[0mreturn_history\u001b[0m\u001b[0;34m=\u001b[0m\u001b[0;32mFalse\u001b[0m\u001b[0;34m,\u001b[0m \u001b[0mreturn_n_iter\u001b[0m\u001b[0;34m=\u001b[0m\u001b[0;32mTrue\u001b[0m\u001b[0;34m,\u001b[0m\u001b[0;34m\u001b[0m\u001b[0;34m\u001b[0m\u001b[0m\n\u001b[1;32m      4\u001b[0m         update_rho_options=None, compute_objective=True, init='empirical')\n",
      "\u001b[0;31mNameError\u001b[0m: name 'graphical_lasso' is not defined"
     ]
    }
   ],
   "source": [
    "sol = graphical_lasso.graphical_lasso(\n",
    "        true_cov, alpha=0.01, rho=1, over_relax=1, max_iter=100, verbose=True,\n",
    "        tol=1e-4, rtol=1e-4, return_history=False, return_n_iter=True,\n",
    "        update_rho_options=None, compute_objective=True, init='empirical')"
   ]
  },
  {
   "cell_type": "code",
   "execution_count": null,
   "id": "worth-techno",
   "metadata": {},
   "outputs": [],
   "source": []
  },
  {
   "cell_type": "code",
   "execution_count": null,
   "id": "steady-credit",
   "metadata": {},
   "outputs": [],
   "source": []
  },
  {
   "cell_type": "markdown",
   "id": "endangered-feature",
   "metadata": {},
   "source": [
    "# Import LatentTimeGraphicalLasso"
   ]
  },
  {
   "cell_type": "code",
   "execution_count": 15,
   "id": "fourth-property",
   "metadata": {},
   "outputs": [],
   "source": [
    "from regain.covariance import LatentTimeGraphicalLasso"
   ]
  },
  {
   "cell_type": "code",
   "execution_count": 17,
   "id": "racial-amazon",
   "metadata": {},
   "outputs": [],
   "source": [
    "from regain.covariance import latent_graphical_lasso_, latent_time_graphical_lasso_"
   ]
  },
  {
   "cell_type": "code",
   "execution_count": 24,
   "id": "metropolitan-commercial",
   "metadata": {},
   "outputs": [],
   "source": [
    "np.random.seed(243)\n",
    "\n",
    "tau = 0.1 #mu1 in ADMM_SGL\n",
    "alpha = 0.1 # lambda in ADMM_SGL"
   ]
  },
  {
   "cell_type": "code",
   "execution_count": 36,
   "id": "adolescent-ordering",
   "metadata": {},
   "outputs": [
    {
     "name": "stdout",
     "output_type": "stream",
     "text": [
      "obj: 1.2145, rnorm: 1.1479, snorm: 1.3828,eps_pri: 0.0001, eps_dual: 0.0000\n",
      "obj: 1.3009, rnorm: 0.0361, snorm: 0.3570,eps_pri: 0.0001, eps_dual: 0.0000\n",
      "obj: 1.3006, rnorm: 0.0357, snorm: 0.0726,eps_pri: 0.0001, eps_dual: 0.0000\n",
      "obj: 1.3079, rnorm: 0.0298, snorm: 0.0502,eps_pri: 0.0001, eps_dual: 0.0000\n",
      "obj: 1.3159, rnorm: 0.0234, snorm: 0.0341,eps_pri: 0.0001, eps_dual: 0.0000\n",
      "obj: 1.3227, rnorm: 0.0178, snorm: 0.0227,eps_pri: 0.0001, eps_dual: 0.0000\n",
      "obj: 1.3277, rnorm: 0.0134, snorm: 0.0149,eps_pri: 0.0001, eps_dual: 0.0000\n",
      "obj: 1.3310, rnorm: 0.0097, snorm: 0.0097,eps_pri: 0.0001, eps_dual: 0.0000\n",
      "obj: 1.3332, rnorm: 0.0072, snorm: 0.0062,eps_pri: 0.0001, eps_dual: 0.0000\n",
      "obj: 1.3347, rnorm: 0.0053, snorm: 0.0040,eps_pri: 0.0001, eps_dual: 0.0000\n",
      "obj: 1.3357, rnorm: 0.0040, snorm: 0.0025,eps_pri: 0.0001, eps_dual: 0.0000\n",
      "obj: 1.3363, rnorm: 0.0030, snorm: 0.0016,eps_pri: 0.0001, eps_dual: 0.0000\n",
      "obj: 1.3367, rnorm: 0.0022, snorm: 0.0010,eps_pri: 0.0001, eps_dual: 0.0000\n",
      "obj: 1.3370, rnorm: 0.0016, snorm: 0.0007,eps_pri: 0.0001, eps_dual: 0.0000\n",
      "obj: 1.3371, rnorm: 0.0012, snorm: 0.0004,eps_pri: 0.0001, eps_dual: 0.0000\n",
      "obj: 1.3373, rnorm: 0.0009, snorm: 0.0003,eps_pri: 0.0001, eps_dual: 0.0000\n",
      "obj: 1.3373, rnorm: 0.0007, snorm: 0.0002,eps_pri: 0.0001, eps_dual: 0.0000\n",
      "obj: 1.3374, rnorm: 0.0005, snorm: 0.0001,eps_pri: 0.0001, eps_dual: 0.0000\n",
      "obj: 1.3374, rnorm: 0.0004, snorm: 0.0001,eps_pri: 0.0001, eps_dual: 0.0000\n",
      "obj: 1.3374, rnorm: 0.0003, snorm: 0.0000,eps_pri: 0.0001, eps_dual: 0.0000\n",
      "obj: 1.3374, rnorm: 0.0002, snorm: 0.0000,eps_pri: 0.0001, eps_dual: 0.0000\n",
      "obj: 1.3374, rnorm: 0.0002, snorm: 0.0000,eps_pri: 0.0001, eps_dual: 0.0000\n",
      "obj: 1.3374, rnorm: 0.0001, snorm: 0.0000,eps_pri: 0.0001, eps_dual: 0.0000\n",
      "obj: 1.3375, rnorm: 0.0001, snorm: 0.0000,eps_pri: 0.0001, eps_dual: 0.0000\n",
      "obj: 1.3375, rnorm: 0.0001, snorm: 0.0000,eps_pri: 0.0001, eps_dual: 0.0000\n"
     ]
    },
    {
     "ename": "ValueError",
     "evalue": "too many values to unpack (expected 3)",
     "output_type": "error",
     "traceback": [
      "\u001b[0;31m--------------------------------------------------------------------------\u001b[0m",
      "\u001b[0;31mValueError\u001b[0m                               Traceback (most recent call last)",
      "\u001b[0;32m<ipython-input-36-a51bf9e12ed8>\u001b[0m in \u001b[0;36m<module>\u001b[0;34m\u001b[0m\n\u001b[0;32m----> 1\u001b[0;31m prec, cov, n_iter = latent_graphical_lasso_.latent_graphical_lasso(\n\u001b[0m\u001b[1;32m      2\u001b[0m     \u001b[0mtrue_cov\u001b[0m\u001b[0;34m,\u001b[0m \u001b[0malpha\u001b[0m\u001b[0;34m=\u001b[0m\u001b[0malpha\u001b[0m\u001b[0;34m,\u001b[0m \u001b[0mtau\u001b[0m\u001b[0;34m=\u001b[0m\u001b[0mtau\u001b[0m\u001b[0;34m,\u001b[0m \u001b[0mtol\u001b[0m\u001b[0;34m=\u001b[0m\u001b[0;36m1e-5\u001b[0m\u001b[0;34m,\u001b[0m \u001b[0mrtol\u001b[0m\u001b[0;34m=\u001b[0m\u001b[0;36m1e-5\u001b[0m\u001b[0;34m,\u001b[0m\u001b[0;34m\u001b[0m\u001b[0;34m\u001b[0m\u001b[0m\n\u001b[1;32m      3\u001b[0m     rho=1. / true_cov.shape[0], verbose=1, max_iter=500)\n",
      "\u001b[0;31mValueError\u001b[0m: too many values to unpack (expected 3)"
     ]
    }
   ],
   "source": [
    "prec, cov, n_iter = latent_graphical_lasso_.latent_graphical_lasso(\n",
    "    true_cov, alpha=alpha, tau=tau, tol=1e-5, rtol=1e-5,\n",
    "    rho=1. / true_cov.shape[0], verbose=1, max_iter=500)"
   ]
  },
  {
   "cell_type": "code",
   "execution_count": 23,
   "id": "iraqi-romantic",
   "metadata": {},
   "outputs": [
    {
     "data": {
      "text/plain": [
       "4"
      ]
     },
     "execution_count": 23,
     "metadata": {},
     "output_type": "execute_result"
    }
   ],
   "source": [
    "len(results_static)"
   ]
  },
  {
   "cell_type": "code",
   "execution_count": null,
   "id": "consolidated-partnership",
   "metadata": {},
   "outputs": [],
   "source": []
  },
  {
   "cell_type": "code",
   "execution_count": null,
   "id": "electoral-secondary",
   "metadata": {},
   "outputs": [],
   "source": []
  },
  {
   "cell_type": "code",
   "execution_count": null,
   "id": "stunning-invasion",
   "metadata": {},
   "outputs": [],
   "source": []
  },
  {
   "cell_type": "code",
   "execution_count": 38,
   "id": "suited-helping",
   "metadata": {},
   "outputs": [],
   "source": [
    "from scipy import linalg\n",
    "from sklearn.datasets import make_sparse_spd_matrix\n",
    "from sklearn.covariance import GraphicalLassoCV, ledoit_wolf\n",
    "import matplotlib.pyplot as plt\n",
    "\n",
    "# #############################################################################\n",
    "# Generate the data\n",
    "n_samples = 60\n",
    "n_features = 20\n",
    "\n",
    "prng = np.random.RandomState(1)\n",
    "prec = make_sparse_spd_matrix(n_features, alpha=.98,\n",
    "                              smallest_coef=.4,\n",
    "                              largest_coef=.7,\n",
    "                              random_state=prng)\n",
    "cov = linalg.inv(prec)\n",
    "d = np.sqrt(np.diag(cov))\n",
    "cov /= d\n",
    "cov /= d[:, np.newaxis]\n",
    "prec *= d\n",
    "prec *= d[:, np.newaxis]\n",
    "X = prng.multivariate_normal(np.zeros(n_features), cov, size=n_samples)\n",
    "X -= X.mean(axis=0)\n",
    "X /= X.std(axis=0)\n",
    "\n",
    "\n",
    "# Estimate the covariance\n",
    "emp_cov = np.dot(X.T, X) / n_samples\n",
    "\n",
    "model = GraphicalLassoCV()\n",
    "model.fit(X)\n",
    "cov_ = model.covariance_\n",
    "prec_ = model.precision_\n",
    "\n",
    "lw_cov_, _ = ledoit_wolf(X)\n",
    "lw_prec_ = linalg.inv(lw_cov_)\n",
    "\n",
    "# #############################################################################\n",
    "# Plot the results\n",
    "plt.figure(figsize=(10, 6))\n",
    "plt.subplots_adjust(left=0.02, right=0.98)\n",
    "\n",
    "# plot the covariances\n",
    "covs = [('Empirical', emp_cov), ('Ledoit-Wolf', lw_cov_),\n",
    "        ('GraphicalLassoCV', cov_), ('True', cov)]\n",
    "vmax = cov_.max()\n",
    "for i, (name, this_cov) in enumerate(covs):\n",
    "    plt.subplot(2, 4, i + 1)\n",
    "    plt.imshow(this_cov, interpolation='nearest', vmin=-vmax, vmax=vmax,\n",
    "               cmap=plt.cm.RdBu_r)\n",
    "    plt.xticks(())\n",
    "    plt.yticks(())\n",
    "    plt.title('%s covariance' % name)\n",
    "\n",
    "\n",
    "# plot the precisions\n",
    "precs = [('Empirical', linalg.inv(emp_cov)), ('Ledoit-Wolf', lw_prec_),\n",
    "         ('GraphicalLasso', prec_), ('True', prec)]\n",
    "vmax = .9 * prec_.max()\n",
    "for i, (name, this_prec) in enumerate(precs):\n",
    "    ax = plt.subplot(2, 4, i + 5)\n",
    "    plt.imshow(np.ma.masked_equal(this_prec, 0),\n",
    "               interpolation='nearest', vmin=-vmax, vmax=vmax,\n",
    "               cmap=plt.cm.RdBu_r)\n",
    "    plt.xticks(())\n",
    "    plt.yticks(())\n",
    "    plt.title('%s precision' % name)\n",
    "    if hasattr(ax, 'set_facecolor'):\n",
    "        ax.set_facecolor('.7')\n",
    "    else:\n",
    "        ax.set_axis_bgcolor('.7')\n",
    "\n",
    "# plot the model selection metric\n",
    "plt.figure(figsize=(4, 3))\n",
    "plt.axes([.2, .15, .75, .7])\n",
    "plt.plot(model.cv_results_[\"alphas\"], model.cv_results_[\"mean_score\"], 'o-')\n",
    "plt.axvline(model.alpha_, color='.5')\n",
    "plt.title('Model selection')\n",
    "plt.ylabel('Cross-validation score')\n",
    "plt.xlabel('alpha')\n",
    "\n",
    "plt.show()"
   ]
  },
  {
   "cell_type": "code",
   "execution_count": 40,
   "id": "brilliant-novel",
   "metadata": {},
   "outputs": [
    {
     "data": {
      "text/plain": [
       "(20, 20)"
      ]
     },
     "execution_count": 40,
     "metadata": {},
     "output_type": "execute_result"
    }
   ],
   "source": [
    "emp_cov.shape"
   ]
  },
  {
   "cell_type": "markdown",
   "id": "everyday-length",
   "metadata": {},
   "source": [
    "# Import ADMM SGL"
   ]
  },
  {
   "cell_type": "code",
   "execution_count": 15,
   "id": "searching-eugene",
   "metadata": {},
   "outputs": [],
   "source": [
    "from helper.data_generation import time_varying_power_network, group_power_network, sample_covariance_matrix\n",
    "from gglasso.solver.single_admm_solver import ADMM_SGL"
   ]
  },
  {
   "cell_type": "code",
   "execution_count": 44,
   "id": "equivalent-fashion",
   "metadata": {},
   "outputs": [],
   "source": [
    "Omega_0 = np.eye(len(emp_cov))\n",
    "lambda1 = 0.01"
   ]
  },
  {
   "cell_type": "code",
   "execution_count": 45,
   "id": "derived-tyler",
   "metadata": {},
   "outputs": [
    {
     "ename": "ImportError",
     "evalue": "cannot import name 'cffi_utils' from 'numba.core.typing' (/Users/oleg.vlasovetc/opt/anaconda3/envs/gglasso/lib/python3.8/site-packages/numba/core/typing/__init__.py)",
     "output_type": "error",
     "traceback": [
      "\u001b[0;31m--------------------------------------------------------------------------\u001b[0m",
      "\u001b[0;31mImportError\u001b[0m                              Traceback (most recent call last)",
      "\u001b[0;32m<ipython-input-45-adb587f8f3ab>\u001b[0m in \u001b[0;36m<module>\u001b[0;34m\u001b[0m\n\u001b[0;32m----> 1\u001b[0;31m \u001b[0msol\u001b[0m\u001b[0;34m,\u001b[0m \u001b[0minfo\u001b[0m \u001b[0;34m=\u001b[0m \u001b[0mADMM_SGL\u001b[0m\u001b[0;34m(\u001b[0m\u001b[0memp_cov\u001b[0m\u001b[0;34m,\u001b[0m \u001b[0mlambda1\u001b[0m\u001b[0;34m,\u001b[0m \u001b[0mOmega_0\u001b[0m \u001b[0;34m,\u001b[0m \u001b[0meps_admm\u001b[0m \u001b[0;34m=\u001b[0m \u001b[0;36m1e-5\u001b[0m \u001b[0;34m,\u001b[0m \u001b[0mverbose\u001b[0m \u001b[0;34m=\u001b[0m \u001b[0;32mFalse\u001b[0m\u001b[0;34m,\u001b[0m \u001b[0mlatent\u001b[0m \u001b[0;34m=\u001b[0m \u001b[0;32mFalse\u001b[0m\u001b[0;34m)\u001b[0m\u001b[0;34m\u001b[0m\u001b[0;34m\u001b[0m\u001b[0m\n\u001b[0m",
      "\u001b[0;32m~/Public/GGLasso/gglasso/solver/single_admm_solver.py\u001b[0m in \u001b[0;36mADMM_SGL\u001b[0;34m(S, lambda1, Omega_0, Theta_0, X_0, eps_admm, rho, max_iter, verbose, measure, latent, mu1)\u001b[0m\n\u001b[1;32m     56\u001b[0m     \u001b[0;32mfor\u001b[0m \u001b[0miter_t\u001b[0m \u001b[0;32min\u001b[0m \u001b[0mnp\u001b[0m\u001b[0;34m.\u001b[0m\u001b[0marange\u001b[0m\u001b[0;34m(\u001b[0m\u001b[0mmax_iter\u001b[0m\u001b[0;34m)\u001b[0m\u001b[0;34m:\u001b[0m\u001b[0;34m\u001b[0m\u001b[0;34m\u001b[0m\u001b[0m\n\u001b[1;32m     57\u001b[0m \u001b[0;34m\u001b[0m\u001b[0m\n\u001b[0;32m---> 58\u001b[0;31m         \u001b[0meta_A\u001b[0m \u001b[0;34m=\u001b[0m \u001b[0mADMM_stopping_criterion\u001b[0m\u001b[0;34m(\u001b[0m\u001b[0mOmega_t\u001b[0m\u001b[0;34m,\u001b[0m \u001b[0mTheta_t\u001b[0m\u001b[0;34m,\u001b[0m \u001b[0mL_t\u001b[0m\u001b[0;34m,\u001b[0m \u001b[0mrho\u001b[0m\u001b[0;34m*\u001b[0m\u001b[0mX_t\u001b[0m\u001b[0;34m,\u001b[0m \u001b[0mS\u001b[0m \u001b[0;34m,\u001b[0m \u001b[0mlambda1\u001b[0m\u001b[0;34m,\u001b[0m \u001b[0mlatent\u001b[0m\u001b[0;34m,\u001b[0m \u001b[0mmu1\u001b[0m\u001b[0;34m)\u001b[0m\u001b[0;34m\u001b[0m\u001b[0;34m\u001b[0m\u001b[0m\n\u001b[0m\u001b[1;32m     59\u001b[0m         \u001b[0mkkt_residual\u001b[0m\u001b[0;34m[\u001b[0m\u001b[0miter_t\u001b[0m\u001b[0;34m]\u001b[0m \u001b[0;34m=\u001b[0m \u001b[0meta_A\u001b[0m\u001b[0;34m\u001b[0m\u001b[0;34m\u001b[0m\u001b[0m\n\u001b[1;32m     60\u001b[0m \u001b[0;34m\u001b[0m\u001b[0m\n",
      "\u001b[0;32m~/Public/GGLasso/gglasso/solver/single_admm_solver.py\u001b[0m in \u001b[0;36mADMM_stopping_criterion\u001b[0;34m(Omega, Theta, L, X, S, lambda1, latent, mu1)\u001b[0m\n\u001b[1;32m    135\u001b[0m     \u001b[0;34m(\u001b[0m\u001b[0mp\u001b[0m\u001b[0;34m,\u001b[0m\u001b[0mp\u001b[0m\u001b[0;34m)\u001b[0m \u001b[0;34m=\u001b[0m \u001b[0mS\u001b[0m\u001b[0;34m.\u001b[0m\u001b[0mshape\u001b[0m\u001b[0;34m\u001b[0m\u001b[0;34m\u001b[0m\u001b[0m\n\u001b[1;32m    136\u001b[0m \u001b[0;34m\u001b[0m\u001b[0m\n\u001b[0;32m--> 137\u001b[0;31m     \u001b[0mterm1\u001b[0m \u001b[0;34m=\u001b[0m \u001b[0mnp\u001b[0m\u001b[0;34m.\u001b[0m\u001b[0mlinalg\u001b[0m\u001b[0;34m.\u001b[0m\u001b[0mnorm\u001b[0m\u001b[0;34m(\u001b[0m\u001b[0mTheta\u001b[0m \u001b[0;34m-\u001b[0m \u001b[0mprox_od_1norm\u001b[0m\u001b[0;34m(\u001b[0m\u001b[0mTheta\u001b[0m \u001b[0;34m+\u001b[0m \u001b[0mX\u001b[0m \u001b[0;34m,\u001b[0m \u001b[0ml\u001b[0m \u001b[0;34m=\u001b[0m \u001b[0mlambda1\u001b[0m\u001b[0;34m)\u001b[0m\u001b[0;34m)\u001b[0m \u001b[0;34m/\u001b[0m \u001b[0;34m(\u001b[0m\u001b[0;36m1\u001b[0m \u001b[0;34m+\u001b[0m \u001b[0mnp\u001b[0m\u001b[0;34m.\u001b[0m\u001b[0mlinalg\u001b[0m\u001b[0;34m.\u001b[0m\u001b[0mnorm\u001b[0m\u001b[0;34m(\u001b[0m\u001b[0mTheta\u001b[0m\u001b[0;34m)\u001b[0m\u001b[0;34m)\u001b[0m\u001b[0;34m\u001b[0m\u001b[0;34m\u001b[0m\u001b[0m\n\u001b[0m\u001b[1;32m    138\u001b[0m \u001b[0;34m\u001b[0m\u001b[0m\n\u001b[1;32m    139\u001b[0m     \u001b[0mterm2\u001b[0m \u001b[0;34m=\u001b[0m \u001b[0mnp\u001b[0m\u001b[0;34m.\u001b[0m\u001b[0mlinalg\u001b[0m\u001b[0;34m.\u001b[0m\u001b[0mnorm\u001b[0m\u001b[0;34m(\u001b[0m\u001b[0mOmega\u001b[0m \u001b[0;34m-\u001b[0m \u001b[0mTheta\u001b[0m \u001b[0;34m+\u001b[0m \u001b[0mL\u001b[0m\u001b[0;34m)\u001b[0m \u001b[0;34m/\u001b[0m \u001b[0;34m(\u001b[0m\u001b[0;36m1\u001b[0m \u001b[0;34m+\u001b[0m \u001b[0mnp\u001b[0m\u001b[0;34m.\u001b[0m\u001b[0mlinalg\u001b[0m\u001b[0;34m.\u001b[0m\u001b[0mnorm\u001b[0m\u001b[0;34m(\u001b[0m\u001b[0mTheta\u001b[0m\u001b[0;34m)\u001b[0m\u001b[0;34m)\u001b[0m\u001b[0;34m\u001b[0m\u001b[0;34m\u001b[0m\u001b[0m\n",
      "\u001b[0;32m~/opt/anaconda3/envs/gglasso/lib/python3.8/site-packages/numba/core/dispatcher.py\u001b[0m in \u001b[0;36m_compile_for_args\u001b[0;34m(self, *args, **kws)\u001b[0m\n",
      "\u001b[0;32m~/opt/anaconda3/envs/gglasso/lib/python3.8/site-packages/numba/core/dispatcher.py\u001b[0m in \u001b[0;36m_compile_for_args\u001b[0;34m(self, *args, **kws)\u001b[0m\n",
      "\u001b[0;32m~/opt/anaconda3/envs/gglasso/lib/python3.8/site-packages/numba/core/compiler_lock.py\u001b[0m in \u001b[0;36m_acquire_compile_lock\u001b[0;34m(*args, **kwargs)\u001b[0m\n",
      "\u001b[0;32m~/opt/anaconda3/envs/gglasso/lib/python3.8/site-packages/numba/core/dispatcher.py\u001b[0m in \u001b[0;36mcompile\u001b[0;34m(self, sig)\u001b[0m\n",
      "\u001b[0;32m~/opt/anaconda3/envs/gglasso/lib/python3.8/site-packages/numba/core/dispatcher.py\u001b[0m in \u001b[0;36mcompile\u001b[0;34m(self, args, return_type)\u001b[0m\n",
      "\u001b[0;32m~/opt/anaconda3/envs/gglasso/lib/python3.8/site-packages/numba/core/dispatcher.py\u001b[0m in \u001b[0;36m_compile_cached\u001b[0;34m(self, args, return_type)\u001b[0m\n",
      "\u001b[0;32m~/opt/anaconda3/envs/gglasso/lib/python3.8/site-packages/numba/core/dispatcher.py\u001b[0m in \u001b[0;36m_compile_core\u001b[0;34m(self, args, return_type)\u001b[0m\n",
      "\u001b[0;32m~/opt/anaconda3/envs/gglasso/lib/python3.8/site-packages/numba/core/compiler.py\u001b[0m in \u001b[0;36mcompile_extra\u001b[0;34m(typingctx, targetctx, func, args, return_type, flags, locals, library, pipeline_class)\u001b[0m\n",
      "\u001b[0;32m~/opt/anaconda3/envs/gglasso/lib/python3.8/site-packages/numba/core/compiler.py\u001b[0m in \u001b[0;36m__init__\u001b[0;34m(self, typingctx, targetctx, library, args, return_type, flags, locals)\u001b[0m\n",
      "\u001b[0;32m~/opt/anaconda3/envs/gglasso/lib/python3.8/site-packages/numba/core/typing/context.py\u001b[0m in \u001b[0;36mrefresh\u001b[0;34m(self)\u001b[0m\n",
      "\u001b[0;32m~/opt/anaconda3/envs/gglasso/lib/python3.8/site-packages/numba/core/typing/context.py\u001b[0m in \u001b[0;36mload_additional_registries\u001b[0;34m(self)\u001b[0m\n",
      "\u001b[0;31mImportError\u001b[0m: cannot import name 'cffi_utils' from 'numba.core.typing' (/Users/oleg.vlasovetc/opt/anaconda3/envs/gglasso/lib/python3.8/site-packages/numba/core/typing/__init__.py)"
     ]
    }
   ],
   "source": [
    "sol, info = ADMM_SGL(emp_cov, lambda1, Omega_0 , eps_admm = 1e-5 , verbose = False, latent = False)"
   ]
  },
  {
   "cell_type": "markdown",
   "id": "present-thailand",
   "metadata": {},
   "source": [
    "# Import Regain"
   ]
  },
  {
   "cell_type": "code",
   "execution_count": 29,
   "id": "banner-hungarian",
   "metadata": {},
   "outputs": [],
   "source": [
    "from regain.covariance import LatentTimeGraphicalLasso"
   ]
  },
  {
   "cell_type": "code",
   "execution_count": null,
   "id": "military-identification",
   "metadata": {
    "scrolled": true
   },
   "outputs": [],
   "source": [
    "# p = 100\n",
    "# N = 1000\n",
    "# Sigma, Theta = group_power_network(p, K=5, M=2)\n",
    "\n",
    "# S, samples = sample_covariance_matrix(Sigma, N)\n",
    "# S = S[0,:,:]\n",
    "# Theta = Theta[0,:,:]\n",
    "# lambda1 = 0.01"
   ]
  },
  {
   "cell_type": "code",
   "execution_count": null,
   "id": "lovely-trigger",
   "metadata": {},
   "outputs": [],
   "source": [
    "singleGL = GraphicalLasso(alpha = lambda1, tol = 1e-6, max_iter = 500, verbose = True)\n",
    "\n",
    "start = time.time()\n",
    "model = singleGL.fit(samples[0,:,:].T)\n",
    "end = time.time(); print(end-start)\n",
    " \n",
    "res_scikit = model.precision_"
   ]
  },
  {
   "cell_type": "code",
   "execution_count": null,
   "id": "leading-wesley",
   "metadata": {},
   "outputs": [],
   "source": [
    "Omega_0 = np.eye(p)\n",
    "\n"
   ]
  }
 ],
 "metadata": {
  "kernelspec": {
   "display_name": "Python 3",
   "language": "python",
   "name": "python3"
  },
  "language_info": {
   "codemirror_mode": {
    "name": "ipython",
    "version": 3
   },
   "file_extension": ".py",
   "mimetype": "text/x-python",
   "name": "python",
   "nbconvert_exporter": "python",
   "pygments_lexer": "ipython3",
   "version": "3.8.0"
  }
 },
 "nbformat": 4,
 "nbformat_minor": 5
}
