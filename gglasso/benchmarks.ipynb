{
 "cells": [
  {
   "cell_type": "code",
   "execution_count": 1,
   "id": "published-belize",
   "metadata": {},
   "outputs": [],
   "source": [
    "%matplotlib inline\n",
    "\n",
    "import sys\n",
    "import time\n",
    "import numpy as np\n",
    "import pandas as pd\n",
    "import plotly.express as px\n",
    "\n",
    "from sklearn.covariance import GraphicalLasso as sk_GL\n",
    "from sklearn.covariance import empirical_covariance\n",
    "\n",
    "sys.path.append('..')\n",
    "from gglasso.solver.single_admm_solver import ADMM_SGL\n",
    "from gglasso.solver.single_admm_solver import kkt_ADMM_SGL\n",
    "from helper.data_generation import time_varying_power_network, group_power_network, sample_covariance_matrix\n",
    "from helper.model_selection import single_grid_search\n",
    "\n",
    "\n",
    "from regain.covariance import GraphicalLasso as rg_GL\n",
    "#from regain.covariance.graphical_lasso_ import GraphicalLasso\n",
    "# from regain.covariance import LatentTimeGraphicalLasso\n",
    "# from regain.covariance import latent_graphical_lasso_, latent_time_graphical_lasso_"
   ]
  },
  {
   "cell_type": "markdown",
   "id": "arctic-adventure",
   "metadata": {},
   "source": [
    "# Sampling from power networks"
   ]
  },
  {
   "cell_type": "code",
   "execution_count": 75,
   "id": "military-hours",
   "metadata": {},
   "outputs": [
    {
     "data": {
      "text/plain": [
       "((5, 100, 200), (100, 100))"
      ]
     },
     "execution_count": 75,
     "metadata": {},
     "output_type": "execute_result"
    }
   ],
   "source": [
    "p = 100\n",
    "N = 200\n",
    "Sigma, Theta = group_power_network(p, K=5, M=2) #Theta is true precision matrix\n",
    "\n",
    "S, samples = sample_covariance_matrix(Sigma, N)\n",
    "\n",
    "S = S[0,:,:]\n",
    "Theta = Theta[0,:,:] #true precision matrix\n",
    "\n",
    "samples.shape, Z.shape"
   ]
  },
  {
   "cell_type": "code",
   "execution_count": 76,
   "id": "included-tiger",
   "metadata": {},
   "outputs": [],
   "source": [
    "lambda1 = 0.01\n",
    "Omega_0 = np.eye(p)\n",
    "\n",
    "n_iter = 50000\n",
    "tol_list = [1e-1, 1e-2, 1e-3, 1e-4, 1e-5, 1e-6, 1e-7, 1e-8]"
   ]
  },
  {
   "cell_type": "markdown",
   "id": "increased-instruction",
   "metadata": {},
   "source": [
    "## Model solution Z"
   ]
  },
  {
   "cell_type": "code",
   "execution_count": 90,
   "id": "oriental-command",
   "metadata": {},
   "outputs": [
    {
     "name": "stdout",
     "output_type": "stream",
     "text": [
      "00:00:03.10\n"
     ]
    }
   ],
   "source": [
    "start = time.time()\n",
    "model = sk_GL(alpha=lambda1, max_iter=n_iter, tol = 1e-10).fit(samples[0,:,:].T)\n",
    "end = time.time()\n",
    "\n",
    "hours, rem = divmod(end-start, 3600)\n",
    "minutes, seconds = divmod(rem, 60)\n",
    "Z_time = \"{:0>2}:{:0>2}:{:05.2f}\".format(int(hours),int(minutes),seconds)\n",
    "print(Z_time)"
   ]
  },
  {
   "cell_type": "code",
   "execution_count": 81,
   "id": "legal-percentage",
   "metadata": {},
   "outputs": [],
   "source": [
    "Z = model.precision_"
   ]
  },
  {
   "cell_type": "markdown",
   "id": "initial-newport",
   "metadata": {},
   "source": [
    "## Sklearn"
   ]
  },
  {
   "cell_type": "code",
   "execution_count": 82,
   "id": "efficient-navigator",
   "metadata": {},
   "outputs": [],
   "source": [
    "cov_list = []\n",
    "precision_list = []\n",
    "time_list = []\n",
    "for tol in tol_list:\n",
    "    start = time.time()\n",
    "    Z_n = sk_GL(alpha=lambda1, max_iter=n_iter, tol = tol).fit(samples[0,:,:].T)\n",
    "    end = time.time()\n",
    "    \n",
    "    hours, rem = divmod(end-start, 3600)\n",
    "    minutes, seconds = divmod(rem, 60)\n",
    "    time_list.append(\"{:0>2}:{:0>2}:{:05.2f}\".format(int(hours),int(minutes),seconds))\n",
    "    \n",
    "    cov_list.append(Z_n.covariance_)\n",
    "    precision_list.append(Z_n.precision_)\n",
    "    \n",
    "accuracy_list = []\n",
    "for i in range(0, len(precision_list)):\n",
    "    accuracy = np.linalg.norm(Z - np.array(precision_list[i]))\n",
    "    accuracy_list.append(accuracy)"
   ]
  },
  {
   "cell_type": "code",
   "execution_count": 83,
   "id": "speaking-mixture",
   "metadata": {},
   "outputs": [
    {
     "data": {
      "text/html": [
       "<div>\n",
       "<style scoped>\n",
       "    .dataframe tbody tr th:only-of-type {\n",
       "        vertical-align: middle;\n",
       "    }\n",
       "\n",
       "    .dataframe tbody tr th {\n",
       "        vertical-align: top;\n",
       "    }\n",
       "\n",
       "    .dataframe thead th {\n",
       "        text-align: right;\n",
       "    }\n",
       "</style>\n",
       "<table border=\"1\" class=\"dataframe\">\n",
       "  <thead>\n",
       "    <tr style=\"text-align: right;\">\n",
       "      <th></th>\n",
       "      <th>time</th>\n",
       "      <th>distance</th>\n",
       "      <th>method</th>\n",
       "      <th>tol_rate</th>\n",
       "      <th>str_tol</th>\n",
       "    </tr>\n",
       "  </thead>\n",
       "  <tbody>\n",
       "    <tr>\n",
       "      <th>0</th>\n",
       "      <td>00:00:00.08</td>\n",
       "      <td>0.013193</td>\n",
       "      <td>sklearn</td>\n",
       "      <td>1.000000e-01</td>\n",
       "      <td>0.1</td>\n",
       "    </tr>\n",
       "    <tr>\n",
       "      <th>1</th>\n",
       "      <td>00:00:00.06</td>\n",
       "      <td>0.013193</td>\n",
       "      <td>sklearn</td>\n",
       "      <td>1.000000e-02</td>\n",
       "      <td>0.01</td>\n",
       "    </tr>\n",
       "    <tr>\n",
       "      <th>2</th>\n",
       "      <td>00:00:00.05</td>\n",
       "      <td>0.000861</td>\n",
       "      <td>sklearn</td>\n",
       "      <td>1.000000e-03</td>\n",
       "      <td>0.001</td>\n",
       "    </tr>\n",
       "    <tr>\n",
       "      <th>3</th>\n",
       "      <td>00:00:00.05</td>\n",
       "      <td>0.000861</td>\n",
       "      <td>sklearn</td>\n",
       "      <td>1.000000e-04</td>\n",
       "      <td>0.0001</td>\n",
       "    </tr>\n",
       "    <tr>\n",
       "      <th>4</th>\n",
       "      <td>00:00:00.55</td>\n",
       "      <td>0.000087</td>\n",
       "      <td>sklearn</td>\n",
       "      <td>1.000000e-05</td>\n",
       "      <td>1e-05</td>\n",
       "    </tr>\n",
       "    <tr>\n",
       "      <th>5</th>\n",
       "      <td>00:00:00.77</td>\n",
       "      <td>0.000040</td>\n",
       "      <td>sklearn</td>\n",
       "      <td>1.000000e-06</td>\n",
       "      <td>1e-06</td>\n",
       "    </tr>\n",
       "    <tr>\n",
       "      <th>6</th>\n",
       "      <td>00:00:00.71</td>\n",
       "      <td>0.000035</td>\n",
       "      <td>sklearn</td>\n",
       "      <td>1.000000e-07</td>\n",
       "      <td>1e-07</td>\n",
       "    </tr>\n",
       "    <tr>\n",
       "      <th>7</th>\n",
       "      <td>00:00:00.83</td>\n",
       "      <td>0.000035</td>\n",
       "      <td>sklearn</td>\n",
       "      <td>1.000000e-08</td>\n",
       "      <td>1e-08</td>\n",
       "    </tr>\n",
       "  </tbody>\n",
       "</table>\n",
       "</div>"
      ],
      "text/plain": [
       "          time  distance   method      tol_rate str_tol\n",
       "0  00:00:00.08  0.013193  sklearn  1.000000e-01     0.1\n",
       "1  00:00:00.06  0.013193  sklearn  1.000000e-02    0.01\n",
       "2  00:00:00.05  0.000861  sklearn  1.000000e-03   0.001\n",
       "3  00:00:00.05  0.000861  sklearn  1.000000e-04  0.0001\n",
       "4  00:00:00.55  0.000087  sklearn  1.000000e-05   1e-05\n",
       "5  00:00:00.77  0.000040  sklearn  1.000000e-06   1e-06\n",
       "6  00:00:00.71  0.000035  sklearn  1.000000e-07   1e-07\n",
       "7  00:00:00.83  0.000035  sklearn  1.000000e-08   1e-08"
      ]
     },
     "execution_count": 83,
     "metadata": {},
     "output_type": "execute_result"
    }
   ],
   "source": [
    "str_tol = [str(x) for x in tol_list]\n",
    "method_list = [\"sklearn\"]*len(accuracy_list)\n",
    "\n",
    "df_sk = pd.DataFrame(data={'time': time_list, \n",
    "                           'distance': accuracy_list,\n",
    "                           'method': method_list,\n",
    "                           'tol_rate': tol_list,\n",
    "                            'str_tol': str_tol})\n",
    "df_sk"
   ]
  },
  {
   "cell_type": "markdown",
   "id": "alive-invalid",
   "metadata": {},
   "source": [
    "## Regain"
   ]
  },
  {
   "cell_type": "code",
   "execution_count": 84,
   "id": "theoretical-uncle",
   "metadata": {},
   "outputs": [],
   "source": [
    "cov_list = []\n",
    "precision_list = []\n",
    "time_list = []\n",
    "for tol in tol_list:\n",
    "    start = time.time()\n",
    "    Z_n = rg_GL(alpha=lambda1, max_iter=n_iter, tol = tol).fit(samples[0,:,:].T)\n",
    "    end = time.time()\n",
    "    \n",
    "    hours, rem = divmod(end-start, 3600)\n",
    "    minutes, seconds = divmod(rem, 60)\n",
    "    time_list.append(\"{:0>2}:{:0>2}:{:05.2f}\".format(int(hours),int(minutes),seconds))\n",
    "    \n",
    "    cov_list.append(Z_n.covariance_)\n",
    "    precision_list.append(Z_n.precision_)\n",
    "\n",
    "accuracy_list = []\n",
    "for i in range(0, len(precision_list)):\n",
    "    accuracy = np.linalg.norm(Z - np.array(precision_list[i]))\n",
    "    accuracy_list.append(accuracy)"
   ]
  },
  {
   "cell_type": "code",
   "execution_count": 85,
   "id": "diagnostic-explanation",
   "metadata": {},
   "outputs": [
    {
     "data": {
      "text/html": [
       "<div>\n",
       "<style scoped>\n",
       "    .dataframe tbody tr th:only-of-type {\n",
       "        vertical-align: middle;\n",
       "    }\n",
       "\n",
       "    .dataframe tbody tr th {\n",
       "        vertical-align: top;\n",
       "    }\n",
       "\n",
       "    .dataframe thead th {\n",
       "        text-align: right;\n",
       "    }\n",
       "</style>\n",
       "<table border=\"1\" class=\"dataframe\">\n",
       "  <thead>\n",
       "    <tr style=\"text-align: right;\">\n",
       "      <th></th>\n",
       "      <th>time</th>\n",
       "      <th>distance</th>\n",
       "      <th>method</th>\n",
       "      <th>tol_rate</th>\n",
       "      <th>str_tol</th>\n",
       "    </tr>\n",
       "  </thead>\n",
       "  <tbody>\n",
       "    <tr>\n",
       "      <th>0</th>\n",
       "      <td>00:00:00.02</td>\n",
       "      <td>7.021403</td>\n",
       "      <td>regain</td>\n",
       "      <td>1.000000e-01</td>\n",
       "      <td>0.1</td>\n",
       "    </tr>\n",
       "    <tr>\n",
       "      <th>1</th>\n",
       "      <td>00:00:00.01</td>\n",
       "      <td>7.021403</td>\n",
       "      <td>regain</td>\n",
       "      <td>1.000000e-02</td>\n",
       "      <td>0.01</td>\n",
       "    </tr>\n",
       "    <tr>\n",
       "      <th>2</th>\n",
       "      <td>00:00:00.08</td>\n",
       "      <td>1.342500</td>\n",
       "      <td>regain</td>\n",
       "      <td>1.000000e-03</td>\n",
       "      <td>0.001</td>\n",
       "    </tr>\n",
       "    <tr>\n",
       "      <th>3</th>\n",
       "      <td>00:00:00.07</td>\n",
       "      <td>0.129316</td>\n",
       "      <td>regain</td>\n",
       "      <td>1.000000e-04</td>\n",
       "      <td>0.0001</td>\n",
       "    </tr>\n",
       "    <tr>\n",
       "      <th>4</th>\n",
       "      <td>00:00:00.12</td>\n",
       "      <td>0.014125</td>\n",
       "      <td>regain</td>\n",
       "      <td>1.000000e-05</td>\n",
       "      <td>1e-05</td>\n",
       "    </tr>\n",
       "    <tr>\n",
       "      <th>5</th>\n",
       "      <td>00:00:00.16</td>\n",
       "      <td>0.002363</td>\n",
       "      <td>regain</td>\n",
       "      <td>1.000000e-06</td>\n",
       "      <td>1e-06</td>\n",
       "    </tr>\n",
       "    <tr>\n",
       "      <th>6</th>\n",
       "      <td>00:00:00.17</td>\n",
       "      <td>0.001365</td>\n",
       "      <td>regain</td>\n",
       "      <td>1.000000e-07</td>\n",
       "      <td>1e-07</td>\n",
       "    </tr>\n",
       "    <tr>\n",
       "      <th>7</th>\n",
       "      <td>00:00:00.17</td>\n",
       "      <td>0.001190</td>\n",
       "      <td>regain</td>\n",
       "      <td>1.000000e-08</td>\n",
       "      <td>1e-08</td>\n",
       "    </tr>\n",
       "  </tbody>\n",
       "</table>\n",
       "</div>"
      ],
      "text/plain": [
       "          time  distance  method      tol_rate str_tol\n",
       "0  00:00:00.02  7.021403  regain  1.000000e-01     0.1\n",
       "1  00:00:00.01  7.021403  regain  1.000000e-02    0.01\n",
       "2  00:00:00.08  1.342500  regain  1.000000e-03   0.001\n",
       "3  00:00:00.07  0.129316  regain  1.000000e-04  0.0001\n",
       "4  00:00:00.12  0.014125  regain  1.000000e-05   1e-05\n",
       "5  00:00:00.16  0.002363  regain  1.000000e-06   1e-06\n",
       "6  00:00:00.17  0.001365  regain  1.000000e-07   1e-07\n",
       "7  00:00:00.17  0.001190  regain  1.000000e-08   1e-08"
      ]
     },
     "execution_count": 85,
     "metadata": {},
     "output_type": "execute_result"
    }
   ],
   "source": [
    "str_tol = [str(x) for x in tol_list]\n",
    "method_list = [\"regain\"]*len(accuracy_list)\n",
    "\n",
    "df_rg = pd.DataFrame(data={'time': time_list, \n",
    "                           'distance': accuracy_list,\n",
    "                           'method': method_list,\n",
    "                           'tol_rate': tol_list,\n",
    "                            'str_tol': str_tol})\n",
    "df_rg"
   ]
  },
  {
   "cell_type": "markdown",
   "id": "manufactured-advancement",
   "metadata": {},
   "source": [
    "## ADMM "
   ]
  },
  {
   "cell_type": "markdown",
   "id": "mighty-czech",
   "metadata": {},
   "source": [
    "We run the algorithm 2 times because on the first iteration time costly numba initialization happens."
   ]
  },
  {
   "cell_type": "code",
   "execution_count": 86,
   "id": "incredible-throw",
   "metadata": {},
   "outputs": [
    {
     "name": "stdout",
     "output_type": "stream",
     "text": [
      "ADMM terminated after 1 iterations with accuracy 2.6899834676528016\n",
      "ADMM status: {'dual optimal', 'primal optimal'}\n",
      "ADMM terminated after 1 iterations with accuracy 2.6899834676528016\n",
      "ADMM status: {'dual optimal', 'primal optimal'}\n",
      "ADMM terminated after 1 iterations with accuracy 2.6899834676528016\n",
      "ADMM status: {'dual optimal', 'primal optimal'}\n",
      "ADMM terminated after 8 iterations with accuracy 0.46502616533481667\n",
      "ADMM status: {'dual optimal', 'primal optimal'}\n",
      "ADMM terminated after 29 iterations with accuracy 0.05050064025498946\n",
      "ADMM status: {'dual optimal', 'primal optimal'}\n",
      "ADMM terminated after 57 iterations with accuracy 0.005571403508857344\n",
      "ADMM status: {'dual optimal', 'primal optimal'}\n",
      "ADMM terminated after 76 iterations with accuracy 0.0013900768953370266\n",
      "ADMM status: {'dual optimal', 'primal optimal'}\n",
      "ADMM terminated after 81 iterations with accuracy 0.0009703962175316557\n",
      "ADMM status: {'dual optimal', 'primal optimal'}\n",
      "ADMM terminated after 1 iterations with accuracy 2.6899834676528016\n",
      "ADMM status: {'dual optimal', 'primal optimal'}\n",
      "ADMM terminated after 1 iterations with accuracy 2.6899834676528016\n",
      "ADMM status: {'dual optimal', 'primal optimal'}\n",
      "ADMM terminated after 1 iterations with accuracy 2.6899834676528016\n",
      "ADMM status: {'dual optimal', 'primal optimal'}\n",
      "ADMM terminated after 8 iterations with accuracy 0.46502616533481667\n",
      "ADMM status: {'dual optimal', 'primal optimal'}\n",
      "ADMM terminated after 29 iterations with accuracy 0.05050064025498946\n",
      "ADMM status: {'dual optimal', 'primal optimal'}\n",
      "ADMM terminated after 57 iterations with accuracy 0.005571403508857344\n",
      "ADMM status: {'dual optimal', 'primal optimal'}\n",
      "ADMM terminated after 76 iterations with accuracy 0.0013900768953370266\n",
      "ADMM status: {'dual optimal', 'primal optimal'}\n",
      "ADMM terminated after 81 iterations with accuracy 0.0009703962175316557\n",
      "ADMM status: {'dual optimal', 'primal optimal'}\n"
     ]
    }
   ],
   "source": [
    "for i in [0,1]:\n",
    "    cov_list = []\n",
    "    precision_list = []\n",
    "    time_list = []\n",
    "    for tol in tol_list:\n",
    "        start = time.time()\n",
    "        sol, info = ADMM_SGL(S, lambda1, Omega_0, max_iter=n_iter, tol = tol, verbose = False, latent = False)\n",
    "        end = time.time()\n",
    "\n",
    "        hours, rem = divmod(end-start, 3600)\n",
    "        minutes, seconds = divmod(rem, 60)\n",
    "        time_list.append(\"{:0>2}:{:0>2}:{:05.2f}\".format(int(hours),int(minutes),seconds))\n",
    "\n",
    "        cov_list.append(sol['Omega'])\n",
    "        precision_list.append(sol['Theta'])\n",
    "\n",
    "    accuracy_list = []\n",
    "    for i in range(0, len(precision_list)):\n",
    "        accuracy = np.linalg.norm(Z - np.array(precision_list[i]))\n",
    "        accuracy_list.append(accuracy)"
   ]
  },
  {
   "cell_type": "code",
   "execution_count": 87,
   "id": "chinese-southwest",
   "metadata": {},
   "outputs": [
    {
     "data": {
      "text/html": [
       "<div>\n",
       "<style scoped>\n",
       "    .dataframe tbody tr th:only-of-type {\n",
       "        vertical-align: middle;\n",
       "    }\n",
       "\n",
       "    .dataframe tbody tr th {\n",
       "        vertical-align: top;\n",
       "    }\n",
       "\n",
       "    .dataframe thead th {\n",
       "        text-align: right;\n",
       "    }\n",
       "</style>\n",
       "<table border=\"1\" class=\"dataframe\">\n",
       "  <thead>\n",
       "    <tr style=\"text-align: right;\">\n",
       "      <th></th>\n",
       "      <th>time</th>\n",
       "      <th>distance</th>\n",
       "      <th>method</th>\n",
       "      <th>tol_rate</th>\n",
       "      <th>str_tol</th>\n",
       "    </tr>\n",
       "  </thead>\n",
       "  <tbody>\n",
       "    <tr>\n",
       "      <th>0</th>\n",
       "      <td>00:00:00.00</td>\n",
       "      <td>10.070153</td>\n",
       "      <td>admm</td>\n",
       "      <td>1.000000e-01</td>\n",
       "      <td>0.1</td>\n",
       "    </tr>\n",
       "    <tr>\n",
       "      <th>1</th>\n",
       "      <td>00:00:00.01</td>\n",
       "      <td>10.070153</td>\n",
       "      <td>admm</td>\n",
       "      <td>1.000000e-02</td>\n",
       "      <td>0.01</td>\n",
       "    </tr>\n",
       "    <tr>\n",
       "      <th>2</th>\n",
       "      <td>00:00:00.00</td>\n",
       "      <td>10.070153</td>\n",
       "      <td>admm</td>\n",
       "      <td>1.000000e-03</td>\n",
       "      <td>0.001</td>\n",
       "    </tr>\n",
       "    <tr>\n",
       "      <th>3</th>\n",
       "      <td>00:00:00.02</td>\n",
       "      <td>3.878694</td>\n",
       "      <td>admm</td>\n",
       "      <td>1.000000e-04</td>\n",
       "      <td>0.0001</td>\n",
       "    </tr>\n",
       "    <tr>\n",
       "      <th>4</th>\n",
       "      <td>00:00:00.07</td>\n",
       "      <td>0.604315</td>\n",
       "      <td>admm</td>\n",
       "      <td>1.000000e-05</td>\n",
       "      <td>1e-05</td>\n",
       "    </tr>\n",
       "    <tr>\n",
       "      <th>5</th>\n",
       "      <td>00:00:00.15</td>\n",
       "      <td>0.073558</td>\n",
       "      <td>admm</td>\n",
       "      <td>1.000000e-06</td>\n",
       "      <td>1e-06</td>\n",
       "    </tr>\n",
       "    <tr>\n",
       "      <th>6</th>\n",
       "      <td>00:00:00.19</td>\n",
       "      <td>0.018767</td>\n",
       "      <td>admm</td>\n",
       "      <td>1.000000e-07</td>\n",
       "      <td>1e-07</td>\n",
       "    </tr>\n",
       "    <tr>\n",
       "      <th>7</th>\n",
       "      <td>00:00:00.25</td>\n",
       "      <td>0.013147</td>\n",
       "      <td>admm</td>\n",
       "      <td>1.000000e-08</td>\n",
       "      <td>1e-08</td>\n",
       "    </tr>\n",
       "  </tbody>\n",
       "</table>\n",
       "</div>"
      ],
      "text/plain": [
       "          time   distance method      tol_rate str_tol\n",
       "0  00:00:00.00  10.070153   admm  1.000000e-01     0.1\n",
       "1  00:00:00.01  10.070153   admm  1.000000e-02    0.01\n",
       "2  00:00:00.00  10.070153   admm  1.000000e-03   0.001\n",
       "3  00:00:00.02   3.878694   admm  1.000000e-04  0.0001\n",
       "4  00:00:00.07   0.604315   admm  1.000000e-05   1e-05\n",
       "5  00:00:00.15   0.073558   admm  1.000000e-06   1e-06\n",
       "6  00:00:00.19   0.018767   admm  1.000000e-07   1e-07\n",
       "7  00:00:00.25   0.013147   admm  1.000000e-08   1e-08"
      ]
     },
     "execution_count": 87,
     "metadata": {},
     "output_type": "execute_result"
    }
   ],
   "source": [
    "str_tol = [str(x) for x in tol_list]\n",
    "method_list = [\"admm\"]*len(accuracy_list)\n",
    "\n",
    "df_admm = pd.DataFrame(data={'time': time_list, \n",
    "                           'distance': accuracy_list,\n",
    "                           'method': method_list,\n",
    "                           'tol_rate': tol_list,\n",
    "                            'str_tol': str_tol})\n",
    "df_admm"
   ]
  },
  {
   "cell_type": "markdown",
   "id": "effective-continent",
   "metadata": {},
   "source": [
    "## kkt_ADMM"
   ]
  },
  {
   "cell_type": "markdown",
   "id": "polar-organization",
   "metadata": {},
   "source": [
    "We run the algorithm 2 times because on the first iteration time costly numba initialization happens."
   ]
  },
  {
   "cell_type": "code",
   "execution_count": 88,
   "id": "complete-lodge",
   "metadata": {},
   "outputs": [
    {
     "name": "stdout",
     "output_type": "stream",
     "text": [
      "ADMM terminated after 2 iterations with accuracy 0.09582974100748616\n",
      "ADMM status: optimal\n",
      "ADMM terminated after 15 iterations with accuracy 0.00906007096761962\n",
      "ADMM status: optimal\n",
      "ADMM terminated after 40 iterations with accuracy 0.0009340077761587818\n",
      "ADMM status: optimal\n",
      "ADMM terminated after 70 iterations with accuracy 9.773553109816599e-05\n",
      "ADMM status: optimal\n",
      "ADMM terminated after 102 iterations with accuracy 9.920788868339118e-06\n",
      "ADMM status: optimal\n",
      "ADMM terminated after 135 iterations with accuracy 9.712746514452672e-07\n",
      "ADMM status: optimal\n",
      "ADMM terminated after 168 iterations with accuracy 9.653152359718536e-08\n",
      "ADMM status: optimal\n",
      "ADMM terminated after 201 iterations with accuracy 9.675222750367183e-09\n",
      "ADMM status: optimal\n",
      "ADMM terminated after 2 iterations with accuracy 0.09582974100748616\n",
      "ADMM status: optimal\n",
      "ADMM terminated after 15 iterations with accuracy 0.00906007096761962\n",
      "ADMM status: optimal\n",
      "ADMM terminated after 40 iterations with accuracy 0.0009340077761587818\n",
      "ADMM status: optimal\n",
      "ADMM terminated after 70 iterations with accuracy 9.773553109816599e-05\n",
      "ADMM status: optimal\n",
      "ADMM terminated after 102 iterations with accuracy 9.920788868339118e-06\n",
      "ADMM status: optimal\n",
      "ADMM terminated after 135 iterations with accuracy 9.712746514452672e-07\n",
      "ADMM status: optimal\n",
      "ADMM terminated after 168 iterations with accuracy 9.653152359718536e-08\n",
      "ADMM status: optimal\n",
      "ADMM terminated after 201 iterations with accuracy 9.675222750367183e-09\n",
      "ADMM status: optimal\n"
     ]
    }
   ],
   "source": [
    "for i in [0,1]:\n",
    "    cov_list = []\n",
    "    precision_list = []\n",
    "    time_list = []\n",
    "    for tol in tol_list:\n",
    "        start = time.time()\n",
    "        sol, info = kkt_ADMM_SGL(S, lambda1, Omega_0, max_iter=n_iter, eps_admm = tol, verbose = False, latent = False)\n",
    "        end = time.time()\n",
    "\n",
    "        hours, rem = divmod(end-start, 3600)\n",
    "        minutes, seconds = divmod(rem, 60)\n",
    "        time_list.append(\"{:0>2}:{:0>2}:{:05.2f}\".format(int(hours),int(minutes),seconds))\n",
    "\n",
    "        cov_list.append(sol['Omega'])\n",
    "        precision_list.append(sol['Theta'])\n",
    "\n",
    "    accuracy_list = []\n",
    "    for i in range(0, len(precision_list)):\n",
    "        accuracy = np.linalg.norm(Z - np.array(precision_list[i]))\n",
    "        accuracy_list.append(accuracy)"
   ]
  },
  {
   "cell_type": "code",
   "execution_count": 89,
   "id": "expressed-michael",
   "metadata": {},
   "outputs": [
    {
     "data": {
      "text/html": [
       "<div>\n",
       "<style scoped>\n",
       "    .dataframe tbody tr th:only-of-type {\n",
       "        vertical-align: middle;\n",
       "    }\n",
       "\n",
       "    .dataframe tbody tr th {\n",
       "        vertical-align: top;\n",
       "    }\n",
       "\n",
       "    .dataframe thead th {\n",
       "        text-align: right;\n",
       "    }\n",
       "</style>\n",
       "<table border=\"1\" class=\"dataframe\">\n",
       "  <thead>\n",
       "    <tr style=\"text-align: right;\">\n",
       "      <th></th>\n",
       "      <th>time</th>\n",
       "      <th>distance</th>\n",
       "      <th>method</th>\n",
       "      <th>tol_rate</th>\n",
       "      <th>str_tol</th>\n",
       "    </tr>\n",
       "  </thead>\n",
       "  <tbody>\n",
       "    <tr>\n",
       "      <th>0</th>\n",
       "      <td>00:00:00.01</td>\n",
       "      <td>8.402418</td>\n",
       "      <td>kkt_admm</td>\n",
       "      <td>1.000000e-01</td>\n",
       "      <td>0.1</td>\n",
       "    </tr>\n",
       "    <tr>\n",
       "      <th>1</th>\n",
       "      <td>00:00:00.07</td>\n",
       "      <td>1.952980</td>\n",
       "      <td>kkt_admm</td>\n",
       "      <td>1.000000e-02</td>\n",
       "      <td>0.01</td>\n",
       "    </tr>\n",
       "    <tr>\n",
       "      <th>2</th>\n",
       "      <td>00:00:00.19</td>\n",
       "      <td>0.258434</td>\n",
       "      <td>kkt_admm</td>\n",
       "      <td>1.000000e-03</td>\n",
       "      <td>0.001</td>\n",
       "    </tr>\n",
       "    <tr>\n",
       "      <th>3</th>\n",
       "      <td>00:00:00.32</td>\n",
       "      <td>0.028812</td>\n",
       "      <td>kkt_admm</td>\n",
       "      <td>1.000000e-04</td>\n",
       "      <td>0.0001</td>\n",
       "    </tr>\n",
       "    <tr>\n",
       "      <th>4</th>\n",
       "      <td>00:00:00.42</td>\n",
       "      <td>0.002976</td>\n",
       "      <td>kkt_admm</td>\n",
       "      <td>1.000000e-05</td>\n",
       "      <td>1e-05</td>\n",
       "    </tr>\n",
       "    <tr>\n",
       "      <th>5</th>\n",
       "      <td>00:00:00.59</td>\n",
       "      <td>0.000293</td>\n",
       "      <td>kkt_admm</td>\n",
       "      <td>1.000000e-06</td>\n",
       "      <td>1e-06</td>\n",
       "    </tr>\n",
       "    <tr>\n",
       "      <th>6</th>\n",
       "      <td>00:00:00.73</td>\n",
       "      <td>0.000029</td>\n",
       "      <td>kkt_admm</td>\n",
       "      <td>1.000000e-07</td>\n",
       "      <td>1e-07</td>\n",
       "    </tr>\n",
       "    <tr>\n",
       "      <th>7</th>\n",
       "      <td>00:00:00.88</td>\n",
       "      <td>0.000003</td>\n",
       "      <td>kkt_admm</td>\n",
       "      <td>1.000000e-08</td>\n",
       "      <td>1e-08</td>\n",
       "    </tr>\n",
       "  </tbody>\n",
       "</table>\n",
       "</div>"
      ],
      "text/plain": [
       "          time  distance    method      tol_rate str_tol\n",
       "0  00:00:00.01  8.402418  kkt_admm  1.000000e-01     0.1\n",
       "1  00:00:00.07  1.952980  kkt_admm  1.000000e-02    0.01\n",
       "2  00:00:00.19  0.258434  kkt_admm  1.000000e-03   0.001\n",
       "3  00:00:00.32  0.028812  kkt_admm  1.000000e-04  0.0001\n",
       "4  00:00:00.42  0.002976  kkt_admm  1.000000e-05   1e-05\n",
       "5  00:00:00.59  0.000293  kkt_admm  1.000000e-06   1e-06\n",
       "6  00:00:00.73  0.000029  kkt_admm  1.000000e-07   1e-07\n",
       "7  00:00:00.88  0.000003  kkt_admm  1.000000e-08   1e-08"
      ]
     },
     "execution_count": 89,
     "metadata": {},
     "output_type": "execute_result"
    }
   ],
   "source": [
    "str_tol = [str(x) for x in tol_list]\n",
    "method_list = [\"kkt_admm\"]*len(accuracy_list)\n",
    "\n",
    "df_kkt = pd.DataFrame(data={'time': time_list, \n",
    "                           'distance': accuracy_list,\n",
    "                           'method': method_list,\n",
    "                           'tol_rate': tol_list,\n",
    "                            'str_tol': str_tol})\n",
    "df_kkt"
   ]
  },
  {
   "cell_type": "markdown",
   "id": "unknown-composer",
   "metadata": {},
   "source": [
    "## Data formating"
   ]
  },
  {
   "cell_type": "code",
   "execution_count": 119,
   "id": "wanted-lyric",
   "metadata": {},
   "outputs": [],
   "source": [
    "Z_frame = pd.DataFrame({\"time\": Z_time, \n",
    "                        \"distance\": 0,\n",
    "                        \"method\":[\"Z\"], \n",
    "                        \"tol_rate\": 1e-10,\n",
    "                        \"str_tol\": \"1e-10\"})"
   ]
  },
  {
   "cell_type": "code",
   "execution_count": 120,
   "id": "considered-bahamas",
   "metadata": {},
   "outputs": [
    {
     "data": {
      "text/html": [
       "<div>\n",
       "<style scoped>\n",
       "    .dataframe tbody tr th:only-of-type {\n",
       "        vertical-align: middle;\n",
       "    }\n",
       "\n",
       "    .dataframe tbody tr th {\n",
       "        vertical-align: top;\n",
       "    }\n",
       "\n",
       "    .dataframe thead th {\n",
       "        text-align: right;\n",
       "    }\n",
       "</style>\n",
       "<table border=\"1\" class=\"dataframe\">\n",
       "  <thead>\n",
       "    <tr style=\"text-align: right;\">\n",
       "      <th></th>\n",
       "      <th>time</th>\n",
       "      <th>distance</th>\n",
       "      <th>method</th>\n",
       "      <th>tol_rate</th>\n",
       "      <th>str_tol</th>\n",
       "    </tr>\n",
       "  </thead>\n",
       "  <tbody>\n",
       "    <tr>\n",
       "      <th>0</th>\n",
       "      <td>00:00:00.00</td>\n",
       "      <td>10.070153</td>\n",
       "      <td>admm</td>\n",
       "      <td>1.000000e-01</td>\n",
       "      <td>0.1</td>\n",
       "    </tr>\n",
       "    <tr>\n",
       "      <th>2</th>\n",
       "      <td>00:00:00.00</td>\n",
       "      <td>10.070153</td>\n",
       "      <td>admm</td>\n",
       "      <td>1.000000e-03</td>\n",
       "      <td>0.001</td>\n",
       "    </tr>\n",
       "    <tr>\n",
       "      <th>1</th>\n",
       "      <td>00:00:00.01</td>\n",
       "      <td>7.021403</td>\n",
       "      <td>regain</td>\n",
       "      <td>1.000000e-02</td>\n",
       "      <td>0.01</td>\n",
       "    </tr>\n",
       "    <tr>\n",
       "      <th>0</th>\n",
       "      <td>00:00:00.01</td>\n",
       "      <td>8.402418</td>\n",
       "      <td>kkt_admm</td>\n",
       "      <td>1.000000e-01</td>\n",
       "      <td>0.1</td>\n",
       "    </tr>\n",
       "    <tr>\n",
       "      <th>1</th>\n",
       "      <td>00:00:00.01</td>\n",
       "      <td>10.070153</td>\n",
       "      <td>admm</td>\n",
       "      <td>1.000000e-02</td>\n",
       "      <td>0.01</td>\n",
       "    </tr>\n",
       "    <tr>\n",
       "      <th>3</th>\n",
       "      <td>00:00:00.02</td>\n",
       "      <td>3.878694</td>\n",
       "      <td>admm</td>\n",
       "      <td>1.000000e-04</td>\n",
       "      <td>1e-04</td>\n",
       "    </tr>\n",
       "    <tr>\n",
       "      <th>0</th>\n",
       "      <td>00:00:00.02</td>\n",
       "      <td>7.021403</td>\n",
       "      <td>regain</td>\n",
       "      <td>1.000000e-01</td>\n",
       "      <td>0.1</td>\n",
       "    </tr>\n",
       "    <tr>\n",
       "      <th>2</th>\n",
       "      <td>00:00:00.05</td>\n",
       "      <td>0.000861</td>\n",
       "      <td>sklearn</td>\n",
       "      <td>1.000000e-03</td>\n",
       "      <td>0.001</td>\n",
       "    </tr>\n",
       "    <tr>\n",
       "      <th>3</th>\n",
       "      <td>00:00:00.05</td>\n",
       "      <td>0.000861</td>\n",
       "      <td>sklearn</td>\n",
       "      <td>1.000000e-04</td>\n",
       "      <td>1e-04</td>\n",
       "    </tr>\n",
       "    <tr>\n",
       "      <th>1</th>\n",
       "      <td>00:00:00.06</td>\n",
       "      <td>0.013193</td>\n",
       "      <td>sklearn</td>\n",
       "      <td>1.000000e-02</td>\n",
       "      <td>0.01</td>\n",
       "    </tr>\n",
       "    <tr>\n",
       "      <th>3</th>\n",
       "      <td>00:00:00.07</td>\n",
       "      <td>0.129316</td>\n",
       "      <td>regain</td>\n",
       "      <td>1.000000e-04</td>\n",
       "      <td>1e-04</td>\n",
       "    </tr>\n",
       "    <tr>\n",
       "      <th>4</th>\n",
       "      <td>00:00:00.07</td>\n",
       "      <td>0.604315</td>\n",
       "      <td>admm</td>\n",
       "      <td>1.000000e-05</td>\n",
       "      <td>1e-05</td>\n",
       "    </tr>\n",
       "    <tr>\n",
       "      <th>1</th>\n",
       "      <td>00:00:00.07</td>\n",
       "      <td>1.952980</td>\n",
       "      <td>kkt_admm</td>\n",
       "      <td>1.000000e-02</td>\n",
       "      <td>0.01</td>\n",
       "    </tr>\n",
       "    <tr>\n",
       "      <th>0</th>\n",
       "      <td>00:00:00.08</td>\n",
       "      <td>0.013193</td>\n",
       "      <td>sklearn</td>\n",
       "      <td>1.000000e-01</td>\n",
       "      <td>0.1</td>\n",
       "    </tr>\n",
       "    <tr>\n",
       "      <th>2</th>\n",
       "      <td>00:00:00.08</td>\n",
       "      <td>1.342500</td>\n",
       "      <td>regain</td>\n",
       "      <td>1.000000e-03</td>\n",
       "      <td>0.001</td>\n",
       "    </tr>\n",
       "    <tr>\n",
       "      <th>4</th>\n",
       "      <td>00:00:00.12</td>\n",
       "      <td>0.014125</td>\n",
       "      <td>regain</td>\n",
       "      <td>1.000000e-05</td>\n",
       "      <td>1e-05</td>\n",
       "    </tr>\n",
       "    <tr>\n",
       "      <th>5</th>\n",
       "      <td>00:00:00.15</td>\n",
       "      <td>0.073558</td>\n",
       "      <td>admm</td>\n",
       "      <td>1.000000e-06</td>\n",
       "      <td>1e-06</td>\n",
       "    </tr>\n",
       "    <tr>\n",
       "      <th>5</th>\n",
       "      <td>00:00:00.16</td>\n",
       "      <td>0.002363</td>\n",
       "      <td>regain</td>\n",
       "      <td>1.000000e-06</td>\n",
       "      <td>1e-06</td>\n",
       "    </tr>\n",
       "    <tr>\n",
       "      <th>7</th>\n",
       "      <td>00:00:00.17</td>\n",
       "      <td>0.001190</td>\n",
       "      <td>regain</td>\n",
       "      <td>1.000000e-08</td>\n",
       "      <td>1e-08</td>\n",
       "    </tr>\n",
       "    <tr>\n",
       "      <th>6</th>\n",
       "      <td>00:00:00.17</td>\n",
       "      <td>0.001365</td>\n",
       "      <td>regain</td>\n",
       "      <td>1.000000e-07</td>\n",
       "      <td>1e-07</td>\n",
       "    </tr>\n",
       "    <tr>\n",
       "      <th>6</th>\n",
       "      <td>00:00:00.19</td>\n",
       "      <td>0.018767</td>\n",
       "      <td>admm</td>\n",
       "      <td>1.000000e-07</td>\n",
       "      <td>1e-07</td>\n",
       "    </tr>\n",
       "    <tr>\n",
       "      <th>2</th>\n",
       "      <td>00:00:00.19</td>\n",
       "      <td>0.258434</td>\n",
       "      <td>kkt_admm</td>\n",
       "      <td>1.000000e-03</td>\n",
       "      <td>0.001</td>\n",
       "    </tr>\n",
       "    <tr>\n",
       "      <th>7</th>\n",
       "      <td>00:00:00.25</td>\n",
       "      <td>0.013147</td>\n",
       "      <td>admm</td>\n",
       "      <td>1.000000e-08</td>\n",
       "      <td>1e-08</td>\n",
       "    </tr>\n",
       "    <tr>\n",
       "      <th>3</th>\n",
       "      <td>00:00:00.32</td>\n",
       "      <td>0.028812</td>\n",
       "      <td>kkt_admm</td>\n",
       "      <td>1.000000e-04</td>\n",
       "      <td>1e-04</td>\n",
       "    </tr>\n",
       "    <tr>\n",
       "      <th>4</th>\n",
       "      <td>00:00:00.42</td>\n",
       "      <td>0.002976</td>\n",
       "      <td>kkt_admm</td>\n",
       "      <td>1.000000e-05</td>\n",
       "      <td>1e-05</td>\n",
       "    </tr>\n",
       "    <tr>\n",
       "      <th>4</th>\n",
       "      <td>00:00:00.55</td>\n",
       "      <td>0.000087</td>\n",
       "      <td>sklearn</td>\n",
       "      <td>1.000000e-05</td>\n",
       "      <td>1e-05</td>\n",
       "    </tr>\n",
       "    <tr>\n",
       "      <th>5</th>\n",
       "      <td>00:00:00.59</td>\n",
       "      <td>0.000293</td>\n",
       "      <td>kkt_admm</td>\n",
       "      <td>1.000000e-06</td>\n",
       "      <td>1e-06</td>\n",
       "    </tr>\n",
       "    <tr>\n",
       "      <th>6</th>\n",
       "      <td>00:00:00.71</td>\n",
       "      <td>0.000035</td>\n",
       "      <td>sklearn</td>\n",
       "      <td>1.000000e-07</td>\n",
       "      <td>1e-07</td>\n",
       "    </tr>\n",
       "    <tr>\n",
       "      <th>6</th>\n",
       "      <td>00:00:00.73</td>\n",
       "      <td>0.000029</td>\n",
       "      <td>kkt_admm</td>\n",
       "      <td>1.000000e-07</td>\n",
       "      <td>1e-07</td>\n",
       "    </tr>\n",
       "    <tr>\n",
       "      <th>5</th>\n",
       "      <td>00:00:00.77</td>\n",
       "      <td>0.000040</td>\n",
       "      <td>sklearn</td>\n",
       "      <td>1.000000e-06</td>\n",
       "      <td>1e-06</td>\n",
       "    </tr>\n",
       "    <tr>\n",
       "      <th>7</th>\n",
       "      <td>00:00:00.83</td>\n",
       "      <td>0.000035</td>\n",
       "      <td>sklearn</td>\n",
       "      <td>1.000000e-08</td>\n",
       "      <td>1e-08</td>\n",
       "    </tr>\n",
       "    <tr>\n",
       "      <th>7</th>\n",
       "      <td>00:00:00.88</td>\n",
       "      <td>0.000003</td>\n",
       "      <td>kkt_admm</td>\n",
       "      <td>1.000000e-08</td>\n",
       "      <td>1e-08</td>\n",
       "    </tr>\n",
       "    <tr>\n",
       "      <th>0</th>\n",
       "      <td>00:00:03.10</td>\n",
       "      <td>0.000000</td>\n",
       "      <td>Z</td>\n",
       "      <td>1.000000e-10</td>\n",
       "      <td>1e-10</td>\n",
       "    </tr>\n",
       "  </tbody>\n",
       "</table>\n",
       "</div>"
      ],
      "text/plain": [
       "          time   distance    method      tol_rate str_tol\n",
       "0  00:00:00.00  10.070153      admm  1.000000e-01     0.1\n",
       "2  00:00:00.00  10.070153      admm  1.000000e-03   0.001\n",
       "1  00:00:00.01   7.021403    regain  1.000000e-02    0.01\n",
       "0  00:00:00.01   8.402418  kkt_admm  1.000000e-01     0.1\n",
       "1  00:00:00.01  10.070153      admm  1.000000e-02    0.01\n",
       "3  00:00:00.02   3.878694      admm  1.000000e-04   1e-04\n",
       "0  00:00:00.02   7.021403    regain  1.000000e-01     0.1\n",
       "2  00:00:00.05   0.000861   sklearn  1.000000e-03   0.001\n",
       "3  00:00:00.05   0.000861   sklearn  1.000000e-04   1e-04\n",
       "1  00:00:00.06   0.013193   sklearn  1.000000e-02    0.01\n",
       "3  00:00:00.07   0.129316    regain  1.000000e-04   1e-04\n",
       "4  00:00:00.07   0.604315      admm  1.000000e-05   1e-05\n",
       "1  00:00:00.07   1.952980  kkt_admm  1.000000e-02    0.01\n",
       "0  00:00:00.08   0.013193   sklearn  1.000000e-01     0.1\n",
       "2  00:00:00.08   1.342500    regain  1.000000e-03   0.001\n",
       "4  00:00:00.12   0.014125    regain  1.000000e-05   1e-05\n",
       "5  00:00:00.15   0.073558      admm  1.000000e-06   1e-06\n",
       "5  00:00:00.16   0.002363    regain  1.000000e-06   1e-06\n",
       "7  00:00:00.17   0.001190    regain  1.000000e-08   1e-08\n",
       "6  00:00:00.17   0.001365    regain  1.000000e-07   1e-07\n",
       "6  00:00:00.19   0.018767      admm  1.000000e-07   1e-07\n",
       "2  00:00:00.19   0.258434  kkt_admm  1.000000e-03   0.001\n",
       "7  00:00:00.25   0.013147      admm  1.000000e-08   1e-08\n",
       "3  00:00:00.32   0.028812  kkt_admm  1.000000e-04   1e-04\n",
       "4  00:00:00.42   0.002976  kkt_admm  1.000000e-05   1e-05\n",
       "4  00:00:00.55   0.000087   sklearn  1.000000e-05   1e-05\n",
       "5  00:00:00.59   0.000293  kkt_admm  1.000000e-06   1e-06\n",
       "6  00:00:00.71   0.000035   sklearn  1.000000e-07   1e-07\n",
       "6  00:00:00.73   0.000029  kkt_admm  1.000000e-07   1e-07\n",
       "5  00:00:00.77   0.000040   sklearn  1.000000e-06   1e-06\n",
       "7  00:00:00.83   0.000035   sklearn  1.000000e-08   1e-08\n",
       "7  00:00:00.88   0.000003  kkt_admm  1.000000e-08   1e-08\n",
       "0  00:00:03.10   0.000000         Z  1.000000e-10   1e-10"
      ]
     },
     "execution_count": 120,
     "metadata": {},
     "output_type": "execute_result"
    }
   ],
   "source": [
    "frames = [df_sk, df_rg, df_admm, df_kkt, Z_frame]\n",
    "\n",
    "df = pd.concat(frames)\n",
    "\n",
    "df[\"str_tol\"].replace({\"0.0001\": \"1e-04\"}, inplace=True)\n",
    "df.sort_values(by=['time', 'distance'])"
   ]
  },
  {
   "cell_type": "code",
   "execution_count": 116,
   "id": "fancy-ocean",
   "metadata": {},
   "outputs": [],
   "source": [
    "norm_ac = np.array(df['distance'])\n",
    "df['accuracy'] = (norm_ac - np.min(norm_ac))/np.ptp(norm_ac)\n",
    "df['accuracy'] = 1 - df['accuracy']\n",
    "\n",
    "# dist = np.array(df['distance'])\n",
    "# df['accuracy'] = np.log(dist)"
   ]
  },
  {
   "cell_type": "code",
   "execution_count": 117,
   "id": "tracked-simple",
   "metadata": {},
   "outputs": [
    {
     "data": {
      "text/html": [
       "<div>\n",
       "<style scoped>\n",
       "    .dataframe tbody tr th:only-of-type {\n",
       "        vertical-align: middle;\n",
       "    }\n",
       "\n",
       "    .dataframe tbody tr th {\n",
       "        vertical-align: top;\n",
       "    }\n",
       "\n",
       "    .dataframe thead th {\n",
       "        text-align: right;\n",
       "    }\n",
       "</style>\n",
       "<table border=\"1\" class=\"dataframe\">\n",
       "  <thead>\n",
       "    <tr style=\"text-align: right;\">\n",
       "      <th></th>\n",
       "      <th>time</th>\n",
       "      <th>distance</th>\n",
       "      <th>method</th>\n",
       "      <th>tol_rate</th>\n",
       "      <th>str_tol</th>\n",
       "      <th>accuracy</th>\n",
       "    </tr>\n",
       "  </thead>\n",
       "  <tbody>\n",
       "    <tr>\n",
       "      <th>0</th>\n",
       "      <td>00:00:00.00</td>\n",
       "      <td>10.070153</td>\n",
       "      <td>admm</td>\n",
       "      <td>1.000000e-01</td>\n",
       "      <td>0.1</td>\n",
       "      <td>2.309576</td>\n",
       "    </tr>\n",
       "    <tr>\n",
       "      <th>1</th>\n",
       "      <td>00:00:00.01</td>\n",
       "      <td>10.070153</td>\n",
       "      <td>admm</td>\n",
       "      <td>1.000000e-02</td>\n",
       "      <td>0.01</td>\n",
       "      <td>2.309576</td>\n",
       "    </tr>\n",
       "    <tr>\n",
       "      <th>2</th>\n",
       "      <td>00:00:00.00</td>\n",
       "      <td>10.070153</td>\n",
       "      <td>admm</td>\n",
       "      <td>1.000000e-03</td>\n",
       "      <td>0.001</td>\n",
       "      <td>2.309576</td>\n",
       "    </tr>\n",
       "    <tr>\n",
       "      <th>0</th>\n",
       "      <td>00:00:00.01</td>\n",
       "      <td>8.402418</td>\n",
       "      <td>kkt_admm</td>\n",
       "      <td>1.000000e-01</td>\n",
       "      <td>0.1</td>\n",
       "      <td>2.128519</td>\n",
       "    </tr>\n",
       "    <tr>\n",
       "      <th>0</th>\n",
       "      <td>00:00:00.02</td>\n",
       "      <td>7.021403</td>\n",
       "      <td>regain</td>\n",
       "      <td>1.000000e-01</td>\n",
       "      <td>0.1</td>\n",
       "      <td>1.948963</td>\n",
       "    </tr>\n",
       "    <tr>\n",
       "      <th>1</th>\n",
       "      <td>00:00:00.01</td>\n",
       "      <td>7.021403</td>\n",
       "      <td>regain</td>\n",
       "      <td>1.000000e-02</td>\n",
       "      <td>0.01</td>\n",
       "      <td>1.948963</td>\n",
       "    </tr>\n",
       "    <tr>\n",
       "      <th>3</th>\n",
       "      <td>00:00:00.02</td>\n",
       "      <td>3.878694</td>\n",
       "      <td>admm</td>\n",
       "      <td>1.000000e-04</td>\n",
       "      <td>1e-04</td>\n",
       "      <td>1.355498</td>\n",
       "    </tr>\n",
       "    <tr>\n",
       "      <th>1</th>\n",
       "      <td>00:00:00.07</td>\n",
       "      <td>1.952980</td>\n",
       "      <td>kkt_admm</td>\n",
       "      <td>1.000000e-02</td>\n",
       "      <td>0.01</td>\n",
       "      <td>0.669356</td>\n",
       "    </tr>\n",
       "    <tr>\n",
       "      <th>2</th>\n",
       "      <td>00:00:00.08</td>\n",
       "      <td>1.342500</td>\n",
       "      <td>regain</td>\n",
       "      <td>1.000000e-03</td>\n",
       "      <td>0.001</td>\n",
       "      <td>0.294534</td>\n",
       "    </tr>\n",
       "    <tr>\n",
       "      <th>4</th>\n",
       "      <td>00:00:00.07</td>\n",
       "      <td>0.604315</td>\n",
       "      <td>admm</td>\n",
       "      <td>1.000000e-05</td>\n",
       "      <td>1e-05</td>\n",
       "      <td>-0.503660</td>\n",
       "    </tr>\n",
       "    <tr>\n",
       "      <th>2</th>\n",
       "      <td>00:00:00.19</td>\n",
       "      <td>0.258434</td>\n",
       "      <td>kkt_admm</td>\n",
       "      <td>1.000000e-03</td>\n",
       "      <td>0.001</td>\n",
       "      <td>-1.353115</td>\n",
       "    </tr>\n",
       "    <tr>\n",
       "      <th>3</th>\n",
       "      <td>00:00:00.07</td>\n",
       "      <td>0.129316</td>\n",
       "      <td>regain</td>\n",
       "      <td>1.000000e-04</td>\n",
       "      <td>1e-04</td>\n",
       "      <td>-2.045493</td>\n",
       "    </tr>\n",
       "    <tr>\n",
       "      <th>5</th>\n",
       "      <td>00:00:00.15</td>\n",
       "      <td>0.073558</td>\n",
       "      <td>admm</td>\n",
       "      <td>1.000000e-06</td>\n",
       "      <td>1e-06</td>\n",
       "      <td>-2.609675</td>\n",
       "    </tr>\n",
       "    <tr>\n",
       "      <th>3</th>\n",
       "      <td>00:00:00.32</td>\n",
       "      <td>0.028812</td>\n",
       "      <td>kkt_admm</td>\n",
       "      <td>1.000000e-04</td>\n",
       "      <td>1e-04</td>\n",
       "      <td>-3.546967</td>\n",
       "    </tr>\n",
       "    <tr>\n",
       "      <th>6</th>\n",
       "      <td>00:00:00.19</td>\n",
       "      <td>0.018767</td>\n",
       "      <td>admm</td>\n",
       "      <td>1.000000e-07</td>\n",
       "      <td>1e-07</td>\n",
       "      <td>-3.975673</td>\n",
       "    </tr>\n",
       "    <tr>\n",
       "      <th>4</th>\n",
       "      <td>00:00:00.12</td>\n",
       "      <td>0.014125</td>\n",
       "      <td>regain</td>\n",
       "      <td>1.000000e-05</td>\n",
       "      <td>1e-05</td>\n",
       "      <td>-4.259824</td>\n",
       "    </tr>\n",
       "    <tr>\n",
       "      <th>0</th>\n",
       "      <td>00:00:00.08</td>\n",
       "      <td>0.013193</td>\n",
       "      <td>sklearn</td>\n",
       "      <td>1.000000e-01</td>\n",
       "      <td>0.1</td>\n",
       "      <td>-4.328062</td>\n",
       "    </tr>\n",
       "    <tr>\n",
       "      <th>1</th>\n",
       "      <td>00:00:00.06</td>\n",
       "      <td>0.013193</td>\n",
       "      <td>sklearn</td>\n",
       "      <td>1.000000e-02</td>\n",
       "      <td>0.01</td>\n",
       "      <td>-4.328062</td>\n",
       "    </tr>\n",
       "    <tr>\n",
       "      <th>7</th>\n",
       "      <td>00:00:00.25</td>\n",
       "      <td>0.013147</td>\n",
       "      <td>admm</td>\n",
       "      <td>1.000000e-08</td>\n",
       "      <td>1e-08</td>\n",
       "      <td>-4.331597</td>\n",
       "    </tr>\n",
       "    <tr>\n",
       "      <th>4</th>\n",
       "      <td>00:00:00.42</td>\n",
       "      <td>0.002976</td>\n",
       "      <td>kkt_admm</td>\n",
       "      <td>1.000000e-05</td>\n",
       "      <td>1e-05</td>\n",
       "      <td>-5.817234</td>\n",
       "    </tr>\n",
       "    <tr>\n",
       "      <th>5</th>\n",
       "      <td>00:00:00.16</td>\n",
       "      <td>0.002363</td>\n",
       "      <td>regain</td>\n",
       "      <td>1.000000e-06</td>\n",
       "      <td>1e-06</td>\n",
       "      <td>-6.047954</td>\n",
       "    </tr>\n",
       "    <tr>\n",
       "      <th>6</th>\n",
       "      <td>00:00:00.17</td>\n",
       "      <td>0.001365</td>\n",
       "      <td>regain</td>\n",
       "      <td>1.000000e-07</td>\n",
       "      <td>1e-07</td>\n",
       "      <td>-6.596637</td>\n",
       "    </tr>\n",
       "    <tr>\n",
       "      <th>7</th>\n",
       "      <td>00:00:00.17</td>\n",
       "      <td>0.001190</td>\n",
       "      <td>regain</td>\n",
       "      <td>1.000000e-08</td>\n",
       "      <td>1e-08</td>\n",
       "      <td>-6.733712</td>\n",
       "    </tr>\n",
       "    <tr>\n",
       "      <th>3</th>\n",
       "      <td>00:00:00.05</td>\n",
       "      <td>0.000861</td>\n",
       "      <td>sklearn</td>\n",
       "      <td>1.000000e-04</td>\n",
       "      <td>1e-04</td>\n",
       "      <td>-7.057027</td>\n",
       "    </tr>\n",
       "    <tr>\n",
       "      <th>2</th>\n",
       "      <td>00:00:00.05</td>\n",
       "      <td>0.000861</td>\n",
       "      <td>sklearn</td>\n",
       "      <td>1.000000e-03</td>\n",
       "      <td>0.001</td>\n",
       "      <td>-7.057027</td>\n",
       "    </tr>\n",
       "    <tr>\n",
       "      <th>5</th>\n",
       "      <td>00:00:00.59</td>\n",
       "      <td>0.000293</td>\n",
       "      <td>kkt_admm</td>\n",
       "      <td>1.000000e-06</td>\n",
       "      <td>1e-06</td>\n",
       "      <td>-8.133945</td>\n",
       "    </tr>\n",
       "    <tr>\n",
       "      <th>4</th>\n",
       "      <td>00:00:00.55</td>\n",
       "      <td>0.000087</td>\n",
       "      <td>sklearn</td>\n",
       "      <td>1.000000e-05</td>\n",
       "      <td>1e-05</td>\n",
       "      <td>-9.349664</td>\n",
       "    </tr>\n",
       "    <tr>\n",
       "      <th>5</th>\n",
       "      <td>00:00:00.77</td>\n",
       "      <td>0.000040</td>\n",
       "      <td>sklearn</td>\n",
       "      <td>1.000000e-06</td>\n",
       "      <td>1e-06</td>\n",
       "      <td>-10.115077</td>\n",
       "    </tr>\n",
       "    <tr>\n",
       "      <th>7</th>\n",
       "      <td>00:00:00.83</td>\n",
       "      <td>0.000035</td>\n",
       "      <td>sklearn</td>\n",
       "      <td>1.000000e-08</td>\n",
       "      <td>1e-08</td>\n",
       "      <td>-10.265901</td>\n",
       "    </tr>\n",
       "    <tr>\n",
       "      <th>6</th>\n",
       "      <td>00:00:00.71</td>\n",
       "      <td>0.000035</td>\n",
       "      <td>sklearn</td>\n",
       "      <td>1.000000e-07</td>\n",
       "      <td>1e-07</td>\n",
       "      <td>-10.265901</td>\n",
       "    </tr>\n",
       "    <tr>\n",
       "      <th>6</th>\n",
       "      <td>00:00:00.73</td>\n",
       "      <td>0.000029</td>\n",
       "      <td>kkt_admm</td>\n",
       "      <td>1.000000e-07</td>\n",
       "      <td>1e-07</td>\n",
       "      <td>-10.438854</td>\n",
       "    </tr>\n",
       "    <tr>\n",
       "      <th>7</th>\n",
       "      <td>00:00:00.88</td>\n",
       "      <td>0.000003</td>\n",
       "      <td>kkt_admm</td>\n",
       "      <td>1.000000e-08</td>\n",
       "      <td>1e-08</td>\n",
       "      <td>-12.736559</td>\n",
       "    </tr>\n",
       "  </tbody>\n",
       "</table>\n",
       "</div>"
      ],
      "text/plain": [
       "          time   distance    method      tol_rate str_tol   accuracy\n",
       "0  00:00:00.00  10.070153      admm  1.000000e-01     0.1   2.309576\n",
       "1  00:00:00.01  10.070153      admm  1.000000e-02    0.01   2.309576\n",
       "2  00:00:00.00  10.070153      admm  1.000000e-03   0.001   2.309576\n",
       "0  00:00:00.01   8.402418  kkt_admm  1.000000e-01     0.1   2.128519\n",
       "0  00:00:00.02   7.021403    regain  1.000000e-01     0.1   1.948963\n",
       "1  00:00:00.01   7.021403    regain  1.000000e-02    0.01   1.948963\n",
       "3  00:00:00.02   3.878694      admm  1.000000e-04   1e-04   1.355498\n",
       "1  00:00:00.07   1.952980  kkt_admm  1.000000e-02    0.01   0.669356\n",
       "2  00:00:00.08   1.342500    regain  1.000000e-03   0.001   0.294534\n",
       "4  00:00:00.07   0.604315      admm  1.000000e-05   1e-05  -0.503660\n",
       "2  00:00:00.19   0.258434  kkt_admm  1.000000e-03   0.001  -1.353115\n",
       "3  00:00:00.07   0.129316    regain  1.000000e-04   1e-04  -2.045493\n",
       "5  00:00:00.15   0.073558      admm  1.000000e-06   1e-06  -2.609675\n",
       "3  00:00:00.32   0.028812  kkt_admm  1.000000e-04   1e-04  -3.546967\n",
       "6  00:00:00.19   0.018767      admm  1.000000e-07   1e-07  -3.975673\n",
       "4  00:00:00.12   0.014125    regain  1.000000e-05   1e-05  -4.259824\n",
       "0  00:00:00.08   0.013193   sklearn  1.000000e-01     0.1  -4.328062\n",
       "1  00:00:00.06   0.013193   sklearn  1.000000e-02    0.01  -4.328062\n",
       "7  00:00:00.25   0.013147      admm  1.000000e-08   1e-08  -4.331597\n",
       "4  00:00:00.42   0.002976  kkt_admm  1.000000e-05   1e-05  -5.817234\n",
       "5  00:00:00.16   0.002363    regain  1.000000e-06   1e-06  -6.047954\n",
       "6  00:00:00.17   0.001365    regain  1.000000e-07   1e-07  -6.596637\n",
       "7  00:00:00.17   0.001190    regain  1.000000e-08   1e-08  -6.733712\n",
       "3  00:00:00.05   0.000861   sklearn  1.000000e-04   1e-04  -7.057027\n",
       "2  00:00:00.05   0.000861   sklearn  1.000000e-03   0.001  -7.057027\n",
       "5  00:00:00.59   0.000293  kkt_admm  1.000000e-06   1e-06  -8.133945\n",
       "4  00:00:00.55   0.000087   sklearn  1.000000e-05   1e-05  -9.349664\n",
       "5  00:00:00.77   0.000040   sklearn  1.000000e-06   1e-06 -10.115077\n",
       "7  00:00:00.83   0.000035   sklearn  1.000000e-08   1e-08 -10.265901\n",
       "6  00:00:00.71   0.000035   sklearn  1.000000e-07   1e-07 -10.265901\n",
       "6  00:00:00.73   0.000029  kkt_admm  1.000000e-07   1e-07 -10.438854\n",
       "7  00:00:00.88   0.000003  kkt_admm  1.000000e-08   1e-08 -12.736559"
      ]
     },
     "execution_count": 117,
     "metadata": {},
     "output_type": "execute_result"
    }
   ],
   "source": [
    "df.sort_values(by=['accuracy'], ascending = False)"
   ]
  },
  {
   "cell_type": "code",
   "execution_count": 118,
   "id": "satellite-office",
   "metadata": {},
   "outputs": [
    {
     "data": {
      "application/vnd.plotly.v1+json": {
       "config": {
        "plotlyServerURL": "https://plot.ly"
       },
       "data": [
        {
         "hovertemplate": "method=sklearn<br>Tolerance rate=%{x}<br>Accuracy=%{y}<extra></extra>",
         "legendgroup": "sklearn",
         "line": {
          "color": "#636efa",
          "dash": "solid"
         },
         "mode": "lines",
         "name": "sklearn",
         "orientation": "v",
         "showlegend": true,
         "type": "scatter",
         "x": [
          "0.1",
          "0.01",
          "0.001",
          "1e-04",
          "1e-05",
          "1e-06",
          "1e-07",
          "1e-08"
         ],
         "xaxis": "x",
         "y": [
          -4.328061677656227,
          -4.328061677656227,
          -7.057026784089453,
          -7.057026784089453,
          -9.349663969027763,
          -10.115076781440822,
          -10.265901086943579,
          -10.265901086943579
         ],
         "yaxis": "y"
        },
        {
         "hovertemplate": "method=regain<br>Tolerance rate=%{x}<br>Accuracy=%{y}<extra></extra>",
         "legendgroup": "regain",
         "line": {
          "color": "#EF553B",
          "dash": "solid"
         },
         "mode": "lines",
         "name": "regain",
         "orientation": "v",
         "showlegend": true,
         "type": "scatter",
         "x": [
          "0.1",
          "0.01",
          "0.001",
          "1e-04",
          "1e-05",
          "1e-06",
          "1e-07",
          "1e-08"
         ],
         "xaxis": "x",
         "y": [
          1.9489629923293843,
          1.9489629923293843,
          0.29453356237059647,
          -2.0454929732271045,
          -4.25982398501017,
          -6.047954231253504,
          -6.596636539942075,
          -6.733712133255368
         ],
         "yaxis": "y"
        },
        {
         "hovertemplate": "method=admm<br>Tolerance rate=%{x}<br>Accuracy=%{y}<extra></extra>",
         "legendgroup": "admm",
         "line": {
          "color": "#00cc96",
          "dash": "solid"
         },
         "mode": "lines",
         "name": "admm",
         "orientation": "v",
         "showlegend": true,
         "type": "scatter",
         "x": [
          "0.1",
          "0.01",
          "0.001",
          "1e-04",
          "1e-05",
          "1e-06",
          "1e-07",
          "1e-08"
         ],
         "xaxis": "x",
         "y": [
          2.309575918029022,
          2.309575918029022,
          2.309575918029022,
          1.355498416422284,
          -0.5036602685993924,
          -2.6096754517499754,
          -3.9756730971111605,
          -4.331597200898125
         ],
         "yaxis": "y"
        },
        {
         "hovertemplate": "method=kkt_admm<br>Tolerance rate=%{x}<br>Accuracy=%{y}<extra></extra>",
         "legendgroup": "kkt_admm",
         "line": {
          "color": "#ab63fa",
          "dash": "solid"
         },
         "mode": "lines",
         "name": "kkt_admm",
         "orientation": "v",
         "showlegend": true,
         "type": "scatter",
         "x": [
          "0.1",
          "0.01",
          "0.001",
          "1e-04",
          "1e-05",
          "1e-06",
          "1e-07",
          "1e-08"
         ],
         "xaxis": "x",
         "y": [
          2.1285194966488152,
          0.6693562073023062,
          -1.3531151382701316,
          -3.5469668998529738,
          -5.8172337371526375,
          -8.13394495311603,
          -10.438854134245654,
          -12.736559320101131
         ],
         "yaxis": "y"
        }
       ],
       "layout": {
        "legend": {
         "title": {
          "text": "method"
         },
         "tracegroupgap": 0
        },
        "template": {
         "data": {
          "bar": [
           {
            "error_x": {
             "color": "#2a3f5f"
            },
            "error_y": {
             "color": "#2a3f5f"
            },
            "marker": {
             "line": {
              "color": "#E5ECF6",
              "width": 0.5
             }
            },
            "type": "bar"
           }
          ],
          "barpolar": [
           {
            "marker": {
             "line": {
              "color": "#E5ECF6",
              "width": 0.5
             }
            },
            "type": "barpolar"
           }
          ],
          "carpet": [
           {
            "aaxis": {
             "endlinecolor": "#2a3f5f",
             "gridcolor": "white",
             "linecolor": "white",
             "minorgridcolor": "white",
             "startlinecolor": "#2a3f5f"
            },
            "baxis": {
             "endlinecolor": "#2a3f5f",
             "gridcolor": "white",
             "linecolor": "white",
             "minorgridcolor": "white",
             "startlinecolor": "#2a3f5f"
            },
            "type": "carpet"
           }
          ],
          "choropleth": [
           {
            "colorbar": {
             "outlinewidth": 0,
             "ticks": ""
            },
            "type": "choropleth"
           }
          ],
          "contour": [
           {
            "colorbar": {
             "outlinewidth": 0,
             "ticks": ""
            },
            "colorscale": [
             [
              0,
              "#0d0887"
             ],
             [
              0.1111111111111111,
              "#46039f"
             ],
             [
              0.2222222222222222,
              "#7201a8"
             ],
             [
              0.3333333333333333,
              "#9c179e"
             ],
             [
              0.4444444444444444,
              "#bd3786"
             ],
             [
              0.5555555555555556,
              "#d8576b"
             ],
             [
              0.6666666666666666,
              "#ed7953"
             ],
             [
              0.7777777777777778,
              "#fb9f3a"
             ],
             [
              0.8888888888888888,
              "#fdca26"
             ],
             [
              1,
              "#f0f921"
             ]
            ],
            "type": "contour"
           }
          ],
          "contourcarpet": [
           {
            "colorbar": {
             "outlinewidth": 0,
             "ticks": ""
            },
            "type": "contourcarpet"
           }
          ],
          "heatmap": [
           {
            "colorbar": {
             "outlinewidth": 0,
             "ticks": ""
            },
            "colorscale": [
             [
              0,
              "#0d0887"
             ],
             [
              0.1111111111111111,
              "#46039f"
             ],
             [
              0.2222222222222222,
              "#7201a8"
             ],
             [
              0.3333333333333333,
              "#9c179e"
             ],
             [
              0.4444444444444444,
              "#bd3786"
             ],
             [
              0.5555555555555556,
              "#d8576b"
             ],
             [
              0.6666666666666666,
              "#ed7953"
             ],
             [
              0.7777777777777778,
              "#fb9f3a"
             ],
             [
              0.8888888888888888,
              "#fdca26"
             ],
             [
              1,
              "#f0f921"
             ]
            ],
            "type": "heatmap"
           }
          ],
          "heatmapgl": [
           {
            "colorbar": {
             "outlinewidth": 0,
             "ticks": ""
            },
            "colorscale": [
             [
              0,
              "#0d0887"
             ],
             [
              0.1111111111111111,
              "#46039f"
             ],
             [
              0.2222222222222222,
              "#7201a8"
             ],
             [
              0.3333333333333333,
              "#9c179e"
             ],
             [
              0.4444444444444444,
              "#bd3786"
             ],
             [
              0.5555555555555556,
              "#d8576b"
             ],
             [
              0.6666666666666666,
              "#ed7953"
             ],
             [
              0.7777777777777778,
              "#fb9f3a"
             ],
             [
              0.8888888888888888,
              "#fdca26"
             ],
             [
              1,
              "#f0f921"
             ]
            ],
            "type": "heatmapgl"
           }
          ],
          "histogram": [
           {
            "marker": {
             "colorbar": {
              "outlinewidth": 0,
              "ticks": ""
             }
            },
            "type": "histogram"
           }
          ],
          "histogram2d": [
           {
            "colorbar": {
             "outlinewidth": 0,
             "ticks": ""
            },
            "colorscale": [
             [
              0,
              "#0d0887"
             ],
             [
              0.1111111111111111,
              "#46039f"
             ],
             [
              0.2222222222222222,
              "#7201a8"
             ],
             [
              0.3333333333333333,
              "#9c179e"
             ],
             [
              0.4444444444444444,
              "#bd3786"
             ],
             [
              0.5555555555555556,
              "#d8576b"
             ],
             [
              0.6666666666666666,
              "#ed7953"
             ],
             [
              0.7777777777777778,
              "#fb9f3a"
             ],
             [
              0.8888888888888888,
              "#fdca26"
             ],
             [
              1,
              "#f0f921"
             ]
            ],
            "type": "histogram2d"
           }
          ],
          "histogram2dcontour": [
           {
            "colorbar": {
             "outlinewidth": 0,
             "ticks": ""
            },
            "colorscale": [
             [
              0,
              "#0d0887"
             ],
             [
              0.1111111111111111,
              "#46039f"
             ],
             [
              0.2222222222222222,
              "#7201a8"
             ],
             [
              0.3333333333333333,
              "#9c179e"
             ],
             [
              0.4444444444444444,
              "#bd3786"
             ],
             [
              0.5555555555555556,
              "#d8576b"
             ],
             [
              0.6666666666666666,
              "#ed7953"
             ],
             [
              0.7777777777777778,
              "#fb9f3a"
             ],
             [
              0.8888888888888888,
              "#fdca26"
             ],
             [
              1,
              "#f0f921"
             ]
            ],
            "type": "histogram2dcontour"
           }
          ],
          "mesh3d": [
           {
            "colorbar": {
             "outlinewidth": 0,
             "ticks": ""
            },
            "type": "mesh3d"
           }
          ],
          "parcoords": [
           {
            "line": {
             "colorbar": {
              "outlinewidth": 0,
              "ticks": ""
             }
            },
            "type": "parcoords"
           }
          ],
          "pie": [
           {
            "automargin": true,
            "type": "pie"
           }
          ],
          "scatter": [
           {
            "marker": {
             "colorbar": {
              "outlinewidth": 0,
              "ticks": ""
             }
            },
            "type": "scatter"
           }
          ],
          "scatter3d": [
           {
            "line": {
             "colorbar": {
              "outlinewidth": 0,
              "ticks": ""
             }
            },
            "marker": {
             "colorbar": {
              "outlinewidth": 0,
              "ticks": ""
             }
            },
            "type": "scatter3d"
           }
          ],
          "scattercarpet": [
           {
            "marker": {
             "colorbar": {
              "outlinewidth": 0,
              "ticks": ""
             }
            },
            "type": "scattercarpet"
           }
          ],
          "scattergeo": [
           {
            "marker": {
             "colorbar": {
              "outlinewidth": 0,
              "ticks": ""
             }
            },
            "type": "scattergeo"
           }
          ],
          "scattergl": [
           {
            "marker": {
             "colorbar": {
              "outlinewidth": 0,
              "ticks": ""
             }
            },
            "type": "scattergl"
           }
          ],
          "scattermapbox": [
           {
            "marker": {
             "colorbar": {
              "outlinewidth": 0,
              "ticks": ""
             }
            },
            "type": "scattermapbox"
           }
          ],
          "scatterpolar": [
           {
            "marker": {
             "colorbar": {
              "outlinewidth": 0,
              "ticks": ""
             }
            },
            "type": "scatterpolar"
           }
          ],
          "scatterpolargl": [
           {
            "marker": {
             "colorbar": {
              "outlinewidth": 0,
              "ticks": ""
             }
            },
            "type": "scatterpolargl"
           }
          ],
          "scatterternary": [
           {
            "marker": {
             "colorbar": {
              "outlinewidth": 0,
              "ticks": ""
             }
            },
            "type": "scatterternary"
           }
          ],
          "surface": [
           {
            "colorbar": {
             "outlinewidth": 0,
             "ticks": ""
            },
            "colorscale": [
             [
              0,
              "#0d0887"
             ],
             [
              0.1111111111111111,
              "#46039f"
             ],
             [
              0.2222222222222222,
              "#7201a8"
             ],
             [
              0.3333333333333333,
              "#9c179e"
             ],
             [
              0.4444444444444444,
              "#bd3786"
             ],
             [
              0.5555555555555556,
              "#d8576b"
             ],
             [
              0.6666666666666666,
              "#ed7953"
             ],
             [
              0.7777777777777778,
              "#fb9f3a"
             ],
             [
              0.8888888888888888,
              "#fdca26"
             ],
             [
              1,
              "#f0f921"
             ]
            ],
            "type": "surface"
           }
          ],
          "table": [
           {
            "cells": {
             "fill": {
              "color": "#EBF0F8"
             },
             "line": {
              "color": "white"
             }
            },
            "header": {
             "fill": {
              "color": "#C8D4E3"
             },
             "line": {
              "color": "white"
             }
            },
            "type": "table"
           }
          ]
         },
         "layout": {
          "annotationdefaults": {
           "arrowcolor": "#2a3f5f",
           "arrowhead": 0,
           "arrowwidth": 1
          },
          "autotypenumbers": "strict",
          "coloraxis": {
           "colorbar": {
            "outlinewidth": 0,
            "ticks": ""
           }
          },
          "colorscale": {
           "diverging": [
            [
             0,
             "#8e0152"
            ],
            [
             0.1,
             "#c51b7d"
            ],
            [
             0.2,
             "#de77ae"
            ],
            [
             0.3,
             "#f1b6da"
            ],
            [
             0.4,
             "#fde0ef"
            ],
            [
             0.5,
             "#f7f7f7"
            ],
            [
             0.6,
             "#e6f5d0"
            ],
            [
             0.7,
             "#b8e186"
            ],
            [
             0.8,
             "#7fbc41"
            ],
            [
             0.9,
             "#4d9221"
            ],
            [
             1,
             "#276419"
            ]
           ],
           "sequential": [
            [
             0,
             "#0d0887"
            ],
            [
             0.1111111111111111,
             "#46039f"
            ],
            [
             0.2222222222222222,
             "#7201a8"
            ],
            [
             0.3333333333333333,
             "#9c179e"
            ],
            [
             0.4444444444444444,
             "#bd3786"
            ],
            [
             0.5555555555555556,
             "#d8576b"
            ],
            [
             0.6666666666666666,
             "#ed7953"
            ],
            [
             0.7777777777777778,
             "#fb9f3a"
            ],
            [
             0.8888888888888888,
             "#fdca26"
            ],
            [
             1,
             "#f0f921"
            ]
           ],
           "sequentialminus": [
            [
             0,
             "#0d0887"
            ],
            [
             0.1111111111111111,
             "#46039f"
            ],
            [
             0.2222222222222222,
             "#7201a8"
            ],
            [
             0.3333333333333333,
             "#9c179e"
            ],
            [
             0.4444444444444444,
             "#bd3786"
            ],
            [
             0.5555555555555556,
             "#d8576b"
            ],
            [
             0.6666666666666666,
             "#ed7953"
            ],
            [
             0.7777777777777778,
             "#fb9f3a"
            ],
            [
             0.8888888888888888,
             "#fdca26"
            ],
            [
             1,
             "#f0f921"
            ]
           ]
          },
          "colorway": [
           "#636efa",
           "#EF553B",
           "#00cc96",
           "#ab63fa",
           "#FFA15A",
           "#19d3f3",
           "#FF6692",
           "#B6E880",
           "#FF97FF",
           "#FECB52"
          ],
          "font": {
           "color": "#2a3f5f"
          },
          "geo": {
           "bgcolor": "white",
           "lakecolor": "white",
           "landcolor": "#E5ECF6",
           "showlakes": true,
           "showland": true,
           "subunitcolor": "white"
          },
          "hoverlabel": {
           "align": "left"
          },
          "hovermode": "closest",
          "mapbox": {
           "style": "light"
          },
          "paper_bgcolor": "white",
          "plot_bgcolor": "#E5ECF6",
          "polar": {
           "angularaxis": {
            "gridcolor": "white",
            "linecolor": "white",
            "ticks": ""
           },
           "bgcolor": "#E5ECF6",
           "radialaxis": {
            "gridcolor": "white",
            "linecolor": "white",
            "ticks": ""
           }
          },
          "scene": {
           "xaxis": {
            "backgroundcolor": "#E5ECF6",
            "gridcolor": "white",
            "gridwidth": 2,
            "linecolor": "white",
            "showbackground": true,
            "ticks": "",
            "zerolinecolor": "white"
           },
           "yaxis": {
            "backgroundcolor": "#E5ECF6",
            "gridcolor": "white",
            "gridwidth": 2,
            "linecolor": "white",
            "showbackground": true,
            "ticks": "",
            "zerolinecolor": "white"
           },
           "zaxis": {
            "backgroundcolor": "#E5ECF6",
            "gridcolor": "white",
            "gridwidth": 2,
            "linecolor": "white",
            "showbackground": true,
            "ticks": "",
            "zerolinecolor": "white"
           }
          },
          "shapedefaults": {
           "line": {
            "color": "#2a3f5f"
           }
          },
          "ternary": {
           "aaxis": {
            "gridcolor": "white",
            "linecolor": "white",
            "ticks": ""
           },
           "baxis": {
            "gridcolor": "white",
            "linecolor": "white",
            "ticks": ""
           },
           "bgcolor": "#E5ECF6",
           "caxis": {
            "gridcolor": "white",
            "linecolor": "white",
            "ticks": ""
           }
          },
          "title": {
           "x": 0.05
          },
          "xaxis": {
           "automargin": true,
           "gridcolor": "white",
           "linecolor": "white",
           "ticks": "",
           "title": {
            "standoff": 15
           },
           "zerolinecolor": "white",
           "zerolinewidth": 2
          },
          "yaxis": {
           "automargin": true,
           "gridcolor": "white",
           "linecolor": "white",
           "ticks": "",
           "title": {
            "standoff": 15
           },
           "zerolinecolor": "white",
           "zerolinewidth": 2
          }
         }
        },
        "title": {
         "text": "Accuracy and tollerance rate comparison"
        },
        "xaxis": {
         "anchor": "y",
         "domain": [
          0,
          1
         ],
         "title": {
          "text": "Tolerance rate"
         }
        },
        "yaxis": {
         "anchor": "x",
         "domain": [
          0,
          1
         ],
         "title": {
          "text": "Accuracy"
         }
        }
       }
      },
      "text/html": [
       "<div>                            <div id=\"8c3a3994-0ad6-4c0d-ac8d-5e890e8256fa\" class=\"plotly-graph-div\" style=\"height:525px; width:100%;\"></div>            <script type=\"text/javascript\">                require([\"plotly\"], function(Plotly) {                    window.PLOTLYENV=window.PLOTLYENV || {};                                    if (document.getElementById(\"8c3a3994-0ad6-4c0d-ac8d-5e890e8256fa\")) {                    Plotly.newPlot(                        \"8c3a3994-0ad6-4c0d-ac8d-5e890e8256fa\",                        [{\"hovertemplate\": \"method=sklearn<br>Tolerance rate=%{x}<br>Accuracy=%{y}<extra></extra>\", \"legendgroup\": \"sklearn\", \"line\": {\"color\": \"#636efa\", \"dash\": \"solid\"}, \"mode\": \"lines\", \"name\": \"sklearn\", \"orientation\": \"v\", \"showlegend\": true, \"type\": \"scatter\", \"x\": [\"0.1\", \"0.01\", \"0.001\", \"1e-04\", \"1e-05\", \"1e-06\", \"1e-07\", \"1e-08\"], \"xaxis\": \"x\", \"y\": [-4.328061677656227, -4.328061677656227, -7.057026784089453, -7.057026784089453, -9.349663969027763, -10.115076781440822, -10.265901086943579, -10.265901086943579], \"yaxis\": \"y\"}, {\"hovertemplate\": \"method=regain<br>Tolerance rate=%{x}<br>Accuracy=%{y}<extra></extra>\", \"legendgroup\": \"regain\", \"line\": {\"color\": \"#EF553B\", \"dash\": \"solid\"}, \"mode\": \"lines\", \"name\": \"regain\", \"orientation\": \"v\", \"showlegend\": true, \"type\": \"scatter\", \"x\": [\"0.1\", \"0.01\", \"0.001\", \"1e-04\", \"1e-05\", \"1e-06\", \"1e-07\", \"1e-08\"], \"xaxis\": \"x\", \"y\": [1.9489629923293843, 1.9489629923293843, 0.29453356237059647, -2.0454929732271045, -4.25982398501017, -6.047954231253504, -6.596636539942075, -6.733712133255368], \"yaxis\": \"y\"}, {\"hovertemplate\": \"method=admm<br>Tolerance rate=%{x}<br>Accuracy=%{y}<extra></extra>\", \"legendgroup\": \"admm\", \"line\": {\"color\": \"#00cc96\", \"dash\": \"solid\"}, \"mode\": \"lines\", \"name\": \"admm\", \"orientation\": \"v\", \"showlegend\": true, \"type\": \"scatter\", \"x\": [\"0.1\", \"0.01\", \"0.001\", \"1e-04\", \"1e-05\", \"1e-06\", \"1e-07\", \"1e-08\"], \"xaxis\": \"x\", \"y\": [2.309575918029022, 2.309575918029022, 2.309575918029022, 1.355498416422284, -0.5036602685993924, -2.6096754517499754, -3.9756730971111605, -4.331597200898125], \"yaxis\": \"y\"}, {\"hovertemplate\": \"method=kkt_admm<br>Tolerance rate=%{x}<br>Accuracy=%{y}<extra></extra>\", \"legendgroup\": \"kkt_admm\", \"line\": {\"color\": \"#ab63fa\", \"dash\": \"solid\"}, \"mode\": \"lines\", \"name\": \"kkt_admm\", \"orientation\": \"v\", \"showlegend\": true, \"type\": \"scatter\", \"x\": [\"0.1\", \"0.01\", \"0.001\", \"1e-04\", \"1e-05\", \"1e-06\", \"1e-07\", \"1e-08\"], \"xaxis\": \"x\", \"y\": [2.1285194966488152, 0.6693562073023062, -1.3531151382701316, -3.5469668998529738, -5.8172337371526375, -8.13394495311603, -10.438854134245654, -12.736559320101131], \"yaxis\": \"y\"}],                        {\"legend\": {\"title\": {\"text\": \"method\"}, \"tracegroupgap\": 0}, \"template\": {\"data\": {\"bar\": [{\"error_x\": {\"color\": \"#2a3f5f\"}, \"error_y\": {\"color\": \"#2a3f5f\"}, \"marker\": {\"line\": {\"color\": \"#E5ECF6\", \"width\": 0.5}}, \"type\": \"bar\"}], \"barpolar\": [{\"marker\": {\"line\": {\"color\": \"#E5ECF6\", \"width\": 0.5}}, \"type\": \"barpolar\"}], \"carpet\": [{\"aaxis\": {\"endlinecolor\": \"#2a3f5f\", \"gridcolor\": \"white\", \"linecolor\": \"white\", \"minorgridcolor\": \"white\", \"startlinecolor\": \"#2a3f5f\"}, \"baxis\": {\"endlinecolor\": \"#2a3f5f\", \"gridcolor\": \"white\", \"linecolor\": \"white\", \"minorgridcolor\": \"white\", \"startlinecolor\": \"#2a3f5f\"}, \"type\": \"carpet\"}], \"choropleth\": [{\"colorbar\": {\"outlinewidth\": 0, \"ticks\": \"\"}, \"type\": \"choropleth\"}], \"contour\": [{\"colorbar\": {\"outlinewidth\": 0, \"ticks\": \"\"}, \"colorscale\": [[0.0, \"#0d0887\"], [0.1111111111111111, \"#46039f\"], [0.2222222222222222, \"#7201a8\"], [0.3333333333333333, \"#9c179e\"], [0.4444444444444444, \"#bd3786\"], [0.5555555555555556, \"#d8576b\"], [0.6666666666666666, \"#ed7953\"], [0.7777777777777778, \"#fb9f3a\"], [0.8888888888888888, \"#fdca26\"], [1.0, \"#f0f921\"]], \"type\": \"contour\"}], \"contourcarpet\": [{\"colorbar\": {\"outlinewidth\": 0, \"ticks\": \"\"}, \"type\": \"contourcarpet\"}], \"heatmap\": [{\"colorbar\": {\"outlinewidth\": 0, \"ticks\": \"\"}, \"colorscale\": [[0.0, \"#0d0887\"], [0.1111111111111111, \"#46039f\"], [0.2222222222222222, \"#7201a8\"], [0.3333333333333333, \"#9c179e\"], [0.4444444444444444, \"#bd3786\"], [0.5555555555555556, \"#d8576b\"], [0.6666666666666666, \"#ed7953\"], [0.7777777777777778, \"#fb9f3a\"], [0.8888888888888888, \"#fdca26\"], [1.0, \"#f0f921\"]], \"type\": \"heatmap\"}], \"heatmapgl\": [{\"colorbar\": {\"outlinewidth\": 0, \"ticks\": \"\"}, \"colorscale\": [[0.0, \"#0d0887\"], [0.1111111111111111, \"#46039f\"], [0.2222222222222222, \"#7201a8\"], [0.3333333333333333, \"#9c179e\"], [0.4444444444444444, \"#bd3786\"], [0.5555555555555556, \"#d8576b\"], [0.6666666666666666, \"#ed7953\"], [0.7777777777777778, \"#fb9f3a\"], [0.8888888888888888, \"#fdca26\"], [1.0, \"#f0f921\"]], \"type\": \"heatmapgl\"}], \"histogram\": [{\"marker\": {\"colorbar\": {\"outlinewidth\": 0, \"ticks\": \"\"}}, \"type\": \"histogram\"}], \"histogram2d\": [{\"colorbar\": {\"outlinewidth\": 0, \"ticks\": \"\"}, \"colorscale\": [[0.0, \"#0d0887\"], [0.1111111111111111, \"#46039f\"], [0.2222222222222222, \"#7201a8\"], [0.3333333333333333, \"#9c179e\"], [0.4444444444444444, \"#bd3786\"], [0.5555555555555556, \"#d8576b\"], [0.6666666666666666, \"#ed7953\"], [0.7777777777777778, \"#fb9f3a\"], [0.8888888888888888, \"#fdca26\"], [1.0, \"#f0f921\"]], \"type\": \"histogram2d\"}], \"histogram2dcontour\": [{\"colorbar\": {\"outlinewidth\": 0, \"ticks\": \"\"}, \"colorscale\": [[0.0, \"#0d0887\"], [0.1111111111111111, \"#46039f\"], [0.2222222222222222, \"#7201a8\"], [0.3333333333333333, \"#9c179e\"], [0.4444444444444444, \"#bd3786\"], [0.5555555555555556, \"#d8576b\"], [0.6666666666666666, \"#ed7953\"], [0.7777777777777778, \"#fb9f3a\"], [0.8888888888888888, \"#fdca26\"], [1.0, \"#f0f921\"]], \"type\": \"histogram2dcontour\"}], \"mesh3d\": [{\"colorbar\": {\"outlinewidth\": 0, \"ticks\": \"\"}, \"type\": \"mesh3d\"}], \"parcoords\": [{\"line\": {\"colorbar\": {\"outlinewidth\": 0, \"ticks\": \"\"}}, \"type\": \"parcoords\"}], \"pie\": [{\"automargin\": true, \"type\": \"pie\"}], \"scatter\": [{\"marker\": {\"colorbar\": {\"outlinewidth\": 0, \"ticks\": \"\"}}, \"type\": \"scatter\"}], \"scatter3d\": [{\"line\": {\"colorbar\": {\"outlinewidth\": 0, \"ticks\": \"\"}}, \"marker\": {\"colorbar\": {\"outlinewidth\": 0, \"ticks\": \"\"}}, \"type\": \"scatter3d\"}], \"scattercarpet\": [{\"marker\": {\"colorbar\": {\"outlinewidth\": 0, \"ticks\": \"\"}}, \"type\": \"scattercarpet\"}], \"scattergeo\": [{\"marker\": {\"colorbar\": {\"outlinewidth\": 0, \"ticks\": \"\"}}, \"type\": \"scattergeo\"}], \"scattergl\": [{\"marker\": {\"colorbar\": {\"outlinewidth\": 0, \"ticks\": \"\"}}, \"type\": \"scattergl\"}], \"scattermapbox\": [{\"marker\": {\"colorbar\": {\"outlinewidth\": 0, \"ticks\": \"\"}}, \"type\": \"scattermapbox\"}], \"scatterpolar\": [{\"marker\": {\"colorbar\": {\"outlinewidth\": 0, \"ticks\": \"\"}}, \"type\": \"scatterpolar\"}], \"scatterpolargl\": [{\"marker\": {\"colorbar\": {\"outlinewidth\": 0, \"ticks\": \"\"}}, \"type\": \"scatterpolargl\"}], \"scatterternary\": [{\"marker\": {\"colorbar\": {\"outlinewidth\": 0, \"ticks\": \"\"}}, \"type\": \"scatterternary\"}], \"surface\": [{\"colorbar\": {\"outlinewidth\": 0, \"ticks\": \"\"}, \"colorscale\": [[0.0, \"#0d0887\"], [0.1111111111111111, \"#46039f\"], [0.2222222222222222, \"#7201a8\"], [0.3333333333333333, \"#9c179e\"], [0.4444444444444444, \"#bd3786\"], [0.5555555555555556, \"#d8576b\"], [0.6666666666666666, \"#ed7953\"], [0.7777777777777778, \"#fb9f3a\"], [0.8888888888888888, \"#fdca26\"], [1.0, \"#f0f921\"]], \"type\": \"surface\"}], \"table\": [{\"cells\": {\"fill\": {\"color\": \"#EBF0F8\"}, \"line\": {\"color\": \"white\"}}, \"header\": {\"fill\": {\"color\": \"#C8D4E3\"}, \"line\": {\"color\": \"white\"}}, \"type\": \"table\"}]}, \"layout\": {\"annotationdefaults\": {\"arrowcolor\": \"#2a3f5f\", \"arrowhead\": 0, \"arrowwidth\": 1}, \"autotypenumbers\": \"strict\", \"coloraxis\": {\"colorbar\": {\"outlinewidth\": 0, \"ticks\": \"\"}}, \"colorscale\": {\"diverging\": [[0, \"#8e0152\"], [0.1, \"#c51b7d\"], [0.2, \"#de77ae\"], [0.3, \"#f1b6da\"], [0.4, \"#fde0ef\"], [0.5, \"#f7f7f7\"], [0.6, \"#e6f5d0\"], [0.7, \"#b8e186\"], [0.8, \"#7fbc41\"], [0.9, \"#4d9221\"], [1, \"#276419\"]], \"sequential\": [[0.0, \"#0d0887\"], [0.1111111111111111, \"#46039f\"], [0.2222222222222222, \"#7201a8\"], [0.3333333333333333, \"#9c179e\"], [0.4444444444444444, \"#bd3786\"], [0.5555555555555556, \"#d8576b\"], [0.6666666666666666, \"#ed7953\"], [0.7777777777777778, \"#fb9f3a\"], [0.8888888888888888, \"#fdca26\"], [1.0, \"#f0f921\"]], \"sequentialminus\": [[0.0, \"#0d0887\"], [0.1111111111111111, \"#46039f\"], [0.2222222222222222, \"#7201a8\"], [0.3333333333333333, \"#9c179e\"], [0.4444444444444444, \"#bd3786\"], [0.5555555555555556, \"#d8576b\"], [0.6666666666666666, \"#ed7953\"], [0.7777777777777778, \"#fb9f3a\"], [0.8888888888888888, \"#fdca26\"], [1.0, \"#f0f921\"]]}, \"colorway\": [\"#636efa\", \"#EF553B\", \"#00cc96\", \"#ab63fa\", \"#FFA15A\", \"#19d3f3\", \"#FF6692\", \"#B6E880\", \"#FF97FF\", \"#FECB52\"], \"font\": {\"color\": \"#2a3f5f\"}, \"geo\": {\"bgcolor\": \"white\", \"lakecolor\": \"white\", \"landcolor\": \"#E5ECF6\", \"showlakes\": true, \"showland\": true, \"subunitcolor\": \"white\"}, \"hoverlabel\": {\"align\": \"left\"}, \"hovermode\": \"closest\", \"mapbox\": {\"style\": \"light\"}, \"paper_bgcolor\": \"white\", \"plot_bgcolor\": \"#E5ECF6\", \"polar\": {\"angularaxis\": {\"gridcolor\": \"white\", \"linecolor\": \"white\", \"ticks\": \"\"}, \"bgcolor\": \"#E5ECF6\", \"radialaxis\": {\"gridcolor\": \"white\", \"linecolor\": \"white\", \"ticks\": \"\"}}, \"scene\": {\"xaxis\": {\"backgroundcolor\": \"#E5ECF6\", \"gridcolor\": \"white\", \"gridwidth\": 2, \"linecolor\": \"white\", \"showbackground\": true, \"ticks\": \"\", \"zerolinecolor\": \"white\"}, \"yaxis\": {\"backgroundcolor\": \"#E5ECF6\", \"gridcolor\": \"white\", \"gridwidth\": 2, \"linecolor\": \"white\", \"showbackground\": true, \"ticks\": \"\", \"zerolinecolor\": \"white\"}, \"zaxis\": {\"backgroundcolor\": \"#E5ECF6\", \"gridcolor\": \"white\", \"gridwidth\": 2, \"linecolor\": \"white\", \"showbackground\": true, \"ticks\": \"\", \"zerolinecolor\": \"white\"}}, \"shapedefaults\": {\"line\": {\"color\": \"#2a3f5f\"}}, \"ternary\": {\"aaxis\": {\"gridcolor\": \"white\", \"linecolor\": \"white\", \"ticks\": \"\"}, \"baxis\": {\"gridcolor\": \"white\", \"linecolor\": \"white\", \"ticks\": \"\"}, \"bgcolor\": \"#E5ECF6\", \"caxis\": {\"gridcolor\": \"white\", \"linecolor\": \"white\", \"ticks\": \"\"}}, \"title\": {\"x\": 0.05}, \"xaxis\": {\"automargin\": true, \"gridcolor\": \"white\", \"linecolor\": \"white\", \"ticks\": \"\", \"title\": {\"standoff\": 15}, \"zerolinecolor\": \"white\", \"zerolinewidth\": 2}, \"yaxis\": {\"automargin\": true, \"gridcolor\": \"white\", \"linecolor\": \"white\", \"ticks\": \"\", \"title\": {\"standoff\": 15}, \"zerolinecolor\": \"white\", \"zerolinewidth\": 2}}}, \"title\": {\"text\": \"Accuracy and tollerance rate comparison\"}, \"xaxis\": {\"anchor\": \"y\", \"domain\": [0.0, 1.0], \"title\": {\"text\": \"Tolerance rate\"}}, \"yaxis\": {\"anchor\": \"x\", \"domain\": [0.0, 1.0], \"title\": {\"text\": \"Accuracy\"}}},                        {\"responsive\": true}                    ).then(function(){\n",
       "                            \n",
       "var gd = document.getElementById('8c3a3994-0ad6-4c0d-ac8d-5e890e8256fa');\n",
       "var x = new MutationObserver(function (mutations, observer) {{\n",
       "        var display = window.getComputedStyle(gd).display;\n",
       "        if (!display || display === 'none') {{\n",
       "            console.log([gd, 'removed!']);\n",
       "            Plotly.purge(gd);\n",
       "            observer.disconnect();\n",
       "        }}\n",
       "}});\n",
       "\n",
       "// Listen for the removal of the full notebook cells\n",
       "var notebookContainer = gd.closest('#notebook-container');\n",
       "if (notebookContainer) {{\n",
       "    x.observe(notebookContainer, {childList: true});\n",
       "}}\n",
       "\n",
       "// Listen for the clearing of the current output cell\n",
       "var outputEl = gd.closest('.output');\n",
       "if (outputEl) {{\n",
       "    x.observe(outputEl, {childList: true});\n",
       "}}\n",
       "\n",
       "                        })                };                });            </script>        </div>"
      ]
     },
     "metadata": {},
     "output_type": "display_data"
    }
   ],
   "source": [
    "fig = px.line(df, x=\"str_tol\", y=\"accuracy\", color= \"method\",\n",
    "              labels={\n",
    "                     \"str_tol\": \"Tolerance rate\",\n",
    "                     \"accuracy\": \"Accuracy\",\n",
    "                     \"method\": \"method\"\n",
    "                 },\n",
    "              title='Accuracy and tollerance rate comparison')\n",
    "fig.show()"
   ]
  },
  {
   "cell_type": "code",
   "execution_count": 53,
   "id": "regional-chase",
   "metadata": {},
   "outputs": [
    {
     "data": {
      "text/html": [
       "<div>\n",
       "<style scoped>\n",
       "    .dataframe tbody tr th:only-of-type {\n",
       "        vertical-align: middle;\n",
       "    }\n",
       "\n",
       "    .dataframe tbody tr th {\n",
       "        vertical-align: top;\n",
       "    }\n",
       "\n",
       "    .dataframe thead th {\n",
       "        text-align: right;\n",
       "    }\n",
       "</style>\n",
       "<table border=\"1\" class=\"dataframe\">\n",
       "  <thead>\n",
       "    <tr style=\"text-align: right;\">\n",
       "      <th></th>\n",
       "      <th>time</th>\n",
       "      <th>distance</th>\n",
       "      <th>method</th>\n",
       "      <th>tol_rate</th>\n",
       "      <th>str_tol</th>\n",
       "      <th>accuracy</th>\n",
       "    </tr>\n",
       "  </thead>\n",
       "  <tbody>\n",
       "    <tr>\n",
       "      <th>0</th>\n",
       "      <td>00:00:00.07</td>\n",
       "      <td>11.770910</td>\n",
       "      <td>sklearn</td>\n",
       "      <td>1.000000e-01</td>\n",
       "      <td>0.1</td>\n",
       "      <td>0.336372</td>\n",
       "    </tr>\n",
       "    <tr>\n",
       "      <th>1</th>\n",
       "      <td>00:00:00.04</td>\n",
       "      <td>11.770910</td>\n",
       "      <td>sklearn</td>\n",
       "      <td>1.000000e-02</td>\n",
       "      <td>0.01</td>\n",
       "      <td>0.336372</td>\n",
       "    </tr>\n",
       "    <tr>\n",
       "      <th>2</th>\n",
       "      <td>00:00:00.06</td>\n",
       "      <td>11.770039</td>\n",
       "      <td>sklearn</td>\n",
       "      <td>1.000000e-03</td>\n",
       "      <td>0.001</td>\n",
       "      <td>0.336421</td>\n",
       "    </tr>\n",
       "    <tr>\n",
       "      <th>3</th>\n",
       "      <td>00:00:00.07</td>\n",
       "      <td>11.770039</td>\n",
       "      <td>sklearn</td>\n",
       "      <td>1.000000e-04</td>\n",
       "      <td>1e-04</td>\n",
       "      <td>0.336421</td>\n",
       "    </tr>\n",
       "    <tr>\n",
       "      <th>4</th>\n",
       "      <td>00:00:00.92</td>\n",
       "      <td>11.770009</td>\n",
       "      <td>sklearn</td>\n",
       "      <td>1.000000e-05</td>\n",
       "      <td>1e-05</td>\n",
       "      <td>0.336423</td>\n",
       "    </tr>\n",
       "    <tr>\n",
       "      <th>5</th>\n",
       "      <td>00:00:00.85</td>\n",
       "      <td>11.770003</td>\n",
       "      <td>sklearn</td>\n",
       "      <td>1.000000e-06</td>\n",
       "      <td>1e-06</td>\n",
       "      <td>0.336423</td>\n",
       "    </tr>\n",
       "    <tr>\n",
       "      <th>6</th>\n",
       "      <td>00:00:00.88</td>\n",
       "      <td>11.770002</td>\n",
       "      <td>sklearn</td>\n",
       "      <td>1.000000e-07</td>\n",
       "      <td>1e-07</td>\n",
       "      <td>0.336423</td>\n",
       "    </tr>\n",
       "    <tr>\n",
       "      <th>7</th>\n",
       "      <td>00:00:00.92</td>\n",
       "      <td>11.770002</td>\n",
       "      <td>sklearn</td>\n",
       "      <td>1.000000e-08</td>\n",
       "      <td>1e-08</td>\n",
       "      <td>0.336423</td>\n",
       "    </tr>\n",
       "  </tbody>\n",
       "</table>\n",
       "</div>"
      ],
      "text/plain": [
       "          time   distance   method      tol_rate str_tol  accuracy\n",
       "0  00:00:00.07  11.770910  sklearn  1.000000e-01     0.1  0.336372\n",
       "1  00:00:00.04  11.770910  sklearn  1.000000e-02    0.01  0.336372\n",
       "2  00:00:00.06  11.770039  sklearn  1.000000e-03   0.001  0.336421\n",
       "3  00:00:00.07  11.770039  sklearn  1.000000e-04   1e-04  0.336421\n",
       "4  00:00:00.92  11.770009  sklearn  1.000000e-05   1e-05  0.336423\n",
       "5  00:00:00.85  11.770003  sklearn  1.000000e-06   1e-06  0.336423\n",
       "6  00:00:00.88  11.770002  sklearn  1.000000e-07   1e-07  0.336423\n",
       "7  00:00:00.92  11.770002  sklearn  1.000000e-08   1e-08  0.336423"
      ]
     },
     "execution_count": 53,
     "metadata": {},
     "output_type": "execute_result"
    }
   ],
   "source": [
    "a = df.loc[df[\"method\"] == \"sklearn\"]\n",
    "a"
   ]
  },
  {
   "cell_type": "code",
   "execution_count": 72,
   "id": "thirty-holocaust",
   "metadata": {},
   "outputs": [
    {
     "data": {
      "text/plain": [
       "0    1615334400070000000\n",
       "1    1615334400040000000\n",
       "2    1615334400060000000\n",
       "3    1615334400070000000\n",
       "4    1615334400920000000\n",
       "5    1615334400850000000\n",
       "6    1615334400880000000\n",
       "7    1615334400920000000\n",
       "Name: time, dtype: int64"
      ]
     },
     "execution_count": 72,
     "metadata": {},
     "output_type": "execute_result"
    }
   ],
   "source": [
    "pd.to_datetime(a['time']).astype(int)"
   ]
  },
  {
   "cell_type": "code",
   "execution_count": 73,
   "id": "determined-wellington",
   "metadata": {},
   "outputs": [
    {
     "data": {
      "application/vnd.plotly.v1+json": {
       "config": {
        "plotlyServerURL": "https://plot.ly"
       },
       "data": [
        {
         "hovertemplate": "method=sklearn<br>x=%{x}<br>accuracy=%{y}<extra></extra>",
         "legendgroup": "sklearn",
         "line": {
          "color": "#636efa",
          "dash": "solid"
         },
         "mode": "lines",
         "name": "sklearn",
         "orientation": "v",
         "showlegend": true,
         "type": "scatter",
         "x": [
          1615334400070000000,
          1615334400040000000,
          1615334400060000000,
          1615334400070000000,
          1615334400920000000,
          1615334400850000000,
          1615334400880000000,
          1615334400920000000
         ],
         "xaxis": "x",
         "y": [
          0.33637177710723043,
          0.33637177710723043,
          0.3364208775385569,
          0.3364208775385569,
          0.336422599257169,
          0.3364229069648714,
          0.3364229379296464,
          0.3364229379296464
         ],
         "yaxis": "y"
        }
       ],
       "layout": {
        "legend": {
         "title": {
          "text": "method"
         },
         "tracegroupgap": 0
        },
        "template": {
         "data": {
          "bar": [
           {
            "error_x": {
             "color": "#2a3f5f"
            },
            "error_y": {
             "color": "#2a3f5f"
            },
            "marker": {
             "line": {
              "color": "#E5ECF6",
              "width": 0.5
             }
            },
            "type": "bar"
           }
          ],
          "barpolar": [
           {
            "marker": {
             "line": {
              "color": "#E5ECF6",
              "width": 0.5
             }
            },
            "type": "barpolar"
           }
          ],
          "carpet": [
           {
            "aaxis": {
             "endlinecolor": "#2a3f5f",
             "gridcolor": "white",
             "linecolor": "white",
             "minorgridcolor": "white",
             "startlinecolor": "#2a3f5f"
            },
            "baxis": {
             "endlinecolor": "#2a3f5f",
             "gridcolor": "white",
             "linecolor": "white",
             "minorgridcolor": "white",
             "startlinecolor": "#2a3f5f"
            },
            "type": "carpet"
           }
          ],
          "choropleth": [
           {
            "colorbar": {
             "outlinewidth": 0,
             "ticks": ""
            },
            "type": "choropleth"
           }
          ],
          "contour": [
           {
            "colorbar": {
             "outlinewidth": 0,
             "ticks": ""
            },
            "colorscale": [
             [
              0,
              "#0d0887"
             ],
             [
              0.1111111111111111,
              "#46039f"
             ],
             [
              0.2222222222222222,
              "#7201a8"
             ],
             [
              0.3333333333333333,
              "#9c179e"
             ],
             [
              0.4444444444444444,
              "#bd3786"
             ],
             [
              0.5555555555555556,
              "#d8576b"
             ],
             [
              0.6666666666666666,
              "#ed7953"
             ],
             [
              0.7777777777777778,
              "#fb9f3a"
             ],
             [
              0.8888888888888888,
              "#fdca26"
             ],
             [
              1,
              "#f0f921"
             ]
            ],
            "type": "contour"
           }
          ],
          "contourcarpet": [
           {
            "colorbar": {
             "outlinewidth": 0,
             "ticks": ""
            },
            "type": "contourcarpet"
           }
          ],
          "heatmap": [
           {
            "colorbar": {
             "outlinewidth": 0,
             "ticks": ""
            },
            "colorscale": [
             [
              0,
              "#0d0887"
             ],
             [
              0.1111111111111111,
              "#46039f"
             ],
             [
              0.2222222222222222,
              "#7201a8"
             ],
             [
              0.3333333333333333,
              "#9c179e"
             ],
             [
              0.4444444444444444,
              "#bd3786"
             ],
             [
              0.5555555555555556,
              "#d8576b"
             ],
             [
              0.6666666666666666,
              "#ed7953"
             ],
             [
              0.7777777777777778,
              "#fb9f3a"
             ],
             [
              0.8888888888888888,
              "#fdca26"
             ],
             [
              1,
              "#f0f921"
             ]
            ],
            "type": "heatmap"
           }
          ],
          "heatmapgl": [
           {
            "colorbar": {
             "outlinewidth": 0,
             "ticks": ""
            },
            "colorscale": [
             [
              0,
              "#0d0887"
             ],
             [
              0.1111111111111111,
              "#46039f"
             ],
             [
              0.2222222222222222,
              "#7201a8"
             ],
             [
              0.3333333333333333,
              "#9c179e"
             ],
             [
              0.4444444444444444,
              "#bd3786"
             ],
             [
              0.5555555555555556,
              "#d8576b"
             ],
             [
              0.6666666666666666,
              "#ed7953"
             ],
             [
              0.7777777777777778,
              "#fb9f3a"
             ],
             [
              0.8888888888888888,
              "#fdca26"
             ],
             [
              1,
              "#f0f921"
             ]
            ],
            "type": "heatmapgl"
           }
          ],
          "histogram": [
           {
            "marker": {
             "colorbar": {
              "outlinewidth": 0,
              "ticks": ""
             }
            },
            "type": "histogram"
           }
          ],
          "histogram2d": [
           {
            "colorbar": {
             "outlinewidth": 0,
             "ticks": ""
            },
            "colorscale": [
             [
              0,
              "#0d0887"
             ],
             [
              0.1111111111111111,
              "#46039f"
             ],
             [
              0.2222222222222222,
              "#7201a8"
             ],
             [
              0.3333333333333333,
              "#9c179e"
             ],
             [
              0.4444444444444444,
              "#bd3786"
             ],
             [
              0.5555555555555556,
              "#d8576b"
             ],
             [
              0.6666666666666666,
              "#ed7953"
             ],
             [
              0.7777777777777778,
              "#fb9f3a"
             ],
             [
              0.8888888888888888,
              "#fdca26"
             ],
             [
              1,
              "#f0f921"
             ]
            ],
            "type": "histogram2d"
           }
          ],
          "histogram2dcontour": [
           {
            "colorbar": {
             "outlinewidth": 0,
             "ticks": ""
            },
            "colorscale": [
             [
              0,
              "#0d0887"
             ],
             [
              0.1111111111111111,
              "#46039f"
             ],
             [
              0.2222222222222222,
              "#7201a8"
             ],
             [
              0.3333333333333333,
              "#9c179e"
             ],
             [
              0.4444444444444444,
              "#bd3786"
             ],
             [
              0.5555555555555556,
              "#d8576b"
             ],
             [
              0.6666666666666666,
              "#ed7953"
             ],
             [
              0.7777777777777778,
              "#fb9f3a"
             ],
             [
              0.8888888888888888,
              "#fdca26"
             ],
             [
              1,
              "#f0f921"
             ]
            ],
            "type": "histogram2dcontour"
           }
          ],
          "mesh3d": [
           {
            "colorbar": {
             "outlinewidth": 0,
             "ticks": ""
            },
            "type": "mesh3d"
           }
          ],
          "parcoords": [
           {
            "line": {
             "colorbar": {
              "outlinewidth": 0,
              "ticks": ""
             }
            },
            "type": "parcoords"
           }
          ],
          "pie": [
           {
            "automargin": true,
            "type": "pie"
           }
          ],
          "scatter": [
           {
            "marker": {
             "colorbar": {
              "outlinewidth": 0,
              "ticks": ""
             }
            },
            "type": "scatter"
           }
          ],
          "scatter3d": [
           {
            "line": {
             "colorbar": {
              "outlinewidth": 0,
              "ticks": ""
             }
            },
            "marker": {
             "colorbar": {
              "outlinewidth": 0,
              "ticks": ""
             }
            },
            "type": "scatter3d"
           }
          ],
          "scattercarpet": [
           {
            "marker": {
             "colorbar": {
              "outlinewidth": 0,
              "ticks": ""
             }
            },
            "type": "scattercarpet"
           }
          ],
          "scattergeo": [
           {
            "marker": {
             "colorbar": {
              "outlinewidth": 0,
              "ticks": ""
             }
            },
            "type": "scattergeo"
           }
          ],
          "scattergl": [
           {
            "marker": {
             "colorbar": {
              "outlinewidth": 0,
              "ticks": ""
             }
            },
            "type": "scattergl"
           }
          ],
          "scattermapbox": [
           {
            "marker": {
             "colorbar": {
              "outlinewidth": 0,
              "ticks": ""
             }
            },
            "type": "scattermapbox"
           }
          ],
          "scatterpolar": [
           {
            "marker": {
             "colorbar": {
              "outlinewidth": 0,
              "ticks": ""
             }
            },
            "type": "scatterpolar"
           }
          ],
          "scatterpolargl": [
           {
            "marker": {
             "colorbar": {
              "outlinewidth": 0,
              "ticks": ""
             }
            },
            "type": "scatterpolargl"
           }
          ],
          "scatterternary": [
           {
            "marker": {
             "colorbar": {
              "outlinewidth": 0,
              "ticks": ""
             }
            },
            "type": "scatterternary"
           }
          ],
          "surface": [
           {
            "colorbar": {
             "outlinewidth": 0,
             "ticks": ""
            },
            "colorscale": [
             [
              0,
              "#0d0887"
             ],
             [
              0.1111111111111111,
              "#46039f"
             ],
             [
              0.2222222222222222,
              "#7201a8"
             ],
             [
              0.3333333333333333,
              "#9c179e"
             ],
             [
              0.4444444444444444,
              "#bd3786"
             ],
             [
              0.5555555555555556,
              "#d8576b"
             ],
             [
              0.6666666666666666,
              "#ed7953"
             ],
             [
              0.7777777777777778,
              "#fb9f3a"
             ],
             [
              0.8888888888888888,
              "#fdca26"
             ],
             [
              1,
              "#f0f921"
             ]
            ],
            "type": "surface"
           }
          ],
          "table": [
           {
            "cells": {
             "fill": {
              "color": "#EBF0F8"
             },
             "line": {
              "color": "white"
             }
            },
            "header": {
             "fill": {
              "color": "#C8D4E3"
             },
             "line": {
              "color": "white"
             }
            },
            "type": "table"
           }
          ]
         },
         "layout": {
          "annotationdefaults": {
           "arrowcolor": "#2a3f5f",
           "arrowhead": 0,
           "arrowwidth": 1
          },
          "autotypenumbers": "strict",
          "coloraxis": {
           "colorbar": {
            "outlinewidth": 0,
            "ticks": ""
           }
          },
          "colorscale": {
           "diverging": [
            [
             0,
             "#8e0152"
            ],
            [
             0.1,
             "#c51b7d"
            ],
            [
             0.2,
             "#de77ae"
            ],
            [
             0.3,
             "#f1b6da"
            ],
            [
             0.4,
             "#fde0ef"
            ],
            [
             0.5,
             "#f7f7f7"
            ],
            [
             0.6,
             "#e6f5d0"
            ],
            [
             0.7,
             "#b8e186"
            ],
            [
             0.8,
             "#7fbc41"
            ],
            [
             0.9,
             "#4d9221"
            ],
            [
             1,
             "#276419"
            ]
           ],
           "sequential": [
            [
             0,
             "#0d0887"
            ],
            [
             0.1111111111111111,
             "#46039f"
            ],
            [
             0.2222222222222222,
             "#7201a8"
            ],
            [
             0.3333333333333333,
             "#9c179e"
            ],
            [
             0.4444444444444444,
             "#bd3786"
            ],
            [
             0.5555555555555556,
             "#d8576b"
            ],
            [
             0.6666666666666666,
             "#ed7953"
            ],
            [
             0.7777777777777778,
             "#fb9f3a"
            ],
            [
             0.8888888888888888,
             "#fdca26"
            ],
            [
             1,
             "#f0f921"
            ]
           ],
           "sequentialminus": [
            [
             0,
             "#0d0887"
            ],
            [
             0.1111111111111111,
             "#46039f"
            ],
            [
             0.2222222222222222,
             "#7201a8"
            ],
            [
             0.3333333333333333,
             "#9c179e"
            ],
            [
             0.4444444444444444,
             "#bd3786"
            ],
            [
             0.5555555555555556,
             "#d8576b"
            ],
            [
             0.6666666666666666,
             "#ed7953"
            ],
            [
             0.7777777777777778,
             "#fb9f3a"
            ],
            [
             0.8888888888888888,
             "#fdca26"
            ],
            [
             1,
             "#f0f921"
            ]
           ]
          },
          "colorway": [
           "#636efa",
           "#EF553B",
           "#00cc96",
           "#ab63fa",
           "#FFA15A",
           "#19d3f3",
           "#FF6692",
           "#B6E880",
           "#FF97FF",
           "#FECB52"
          ],
          "font": {
           "color": "#2a3f5f"
          },
          "geo": {
           "bgcolor": "white",
           "lakecolor": "white",
           "landcolor": "#E5ECF6",
           "showlakes": true,
           "showland": true,
           "subunitcolor": "white"
          },
          "hoverlabel": {
           "align": "left"
          },
          "hovermode": "closest",
          "mapbox": {
           "style": "light"
          },
          "paper_bgcolor": "white",
          "plot_bgcolor": "#E5ECF6",
          "polar": {
           "angularaxis": {
            "gridcolor": "white",
            "linecolor": "white",
            "ticks": ""
           },
           "bgcolor": "#E5ECF6",
           "radialaxis": {
            "gridcolor": "white",
            "linecolor": "white",
            "ticks": ""
           }
          },
          "scene": {
           "xaxis": {
            "backgroundcolor": "#E5ECF6",
            "gridcolor": "white",
            "gridwidth": 2,
            "linecolor": "white",
            "showbackground": true,
            "ticks": "",
            "zerolinecolor": "white"
           },
           "yaxis": {
            "backgroundcolor": "#E5ECF6",
            "gridcolor": "white",
            "gridwidth": 2,
            "linecolor": "white",
            "showbackground": true,
            "ticks": "",
            "zerolinecolor": "white"
           },
           "zaxis": {
            "backgroundcolor": "#E5ECF6",
            "gridcolor": "white",
            "gridwidth": 2,
            "linecolor": "white",
            "showbackground": true,
            "ticks": "",
            "zerolinecolor": "white"
           }
          },
          "shapedefaults": {
           "line": {
            "color": "#2a3f5f"
           }
          },
          "ternary": {
           "aaxis": {
            "gridcolor": "white",
            "linecolor": "white",
            "ticks": ""
           },
           "baxis": {
            "gridcolor": "white",
            "linecolor": "white",
            "ticks": ""
           },
           "bgcolor": "#E5ECF6",
           "caxis": {
            "gridcolor": "white",
            "linecolor": "white",
            "ticks": ""
           }
          },
          "title": {
           "x": 0.05
          },
          "xaxis": {
           "automargin": true,
           "gridcolor": "white",
           "linecolor": "white",
           "ticks": "",
           "title": {
            "standoff": 15
           },
           "zerolinecolor": "white",
           "zerolinewidth": 2
          },
          "yaxis": {
           "automargin": true,
           "gridcolor": "white",
           "linecolor": "white",
           "ticks": "",
           "title": {
            "standoff": 15
           },
           "zerolinecolor": "white",
           "zerolinewidth": 2
          }
         }
        },
        "title": {
         "text": "Accuracy and tollerance rate comparison"
        },
        "xaxis": {
         "anchor": "y",
         "domain": [
          0,
          1
         ],
         "title": {
          "text": "x"
         }
        },
        "yaxis": {
         "anchor": "x",
         "domain": [
          0,
          1
         ],
         "title": {
          "text": "accuracy"
         }
        }
       }
      },
      "text/html": [
       "<div>                            <div id=\"c578bc96-39b9-4a68-a9e0-bfb23fc7006b\" class=\"plotly-graph-div\" style=\"height:525px; width:100%;\"></div>            <script type=\"text/javascript\">                require([\"plotly\"], function(Plotly) {                    window.PLOTLYENV=window.PLOTLYENV || {};                                    if (document.getElementById(\"c578bc96-39b9-4a68-a9e0-bfb23fc7006b\")) {                    Plotly.newPlot(                        \"c578bc96-39b9-4a68-a9e0-bfb23fc7006b\",                        [{\"hovertemplate\": \"method=sklearn<br>x=%{x}<br>accuracy=%{y}<extra></extra>\", \"legendgroup\": \"sklearn\", \"line\": {\"color\": \"#636efa\", \"dash\": \"solid\"}, \"mode\": \"lines\", \"name\": \"sklearn\", \"orientation\": \"v\", \"showlegend\": true, \"type\": \"scatter\", \"x\": [1615334400070000000, 1615334400040000000, 1615334400060000000, 1615334400070000000, 1615334400920000000, 1615334400850000000, 1615334400880000000, 1615334400920000000], \"xaxis\": \"x\", \"y\": [0.33637177710723043, 0.33637177710723043, 0.3364208775385569, 0.3364208775385569, 0.336422599257169, 0.3364229069648714, 0.3364229379296464, 0.3364229379296464], \"yaxis\": \"y\"}],                        {\"legend\": {\"title\": {\"text\": \"method\"}, \"tracegroupgap\": 0}, \"template\": {\"data\": {\"bar\": [{\"error_x\": {\"color\": \"#2a3f5f\"}, \"error_y\": {\"color\": \"#2a3f5f\"}, \"marker\": {\"line\": {\"color\": \"#E5ECF6\", \"width\": 0.5}}, \"type\": \"bar\"}], \"barpolar\": [{\"marker\": {\"line\": {\"color\": \"#E5ECF6\", \"width\": 0.5}}, \"type\": \"barpolar\"}], \"carpet\": [{\"aaxis\": {\"endlinecolor\": \"#2a3f5f\", \"gridcolor\": \"white\", \"linecolor\": \"white\", \"minorgridcolor\": \"white\", \"startlinecolor\": \"#2a3f5f\"}, \"baxis\": {\"endlinecolor\": \"#2a3f5f\", \"gridcolor\": \"white\", \"linecolor\": \"white\", \"minorgridcolor\": \"white\", \"startlinecolor\": \"#2a3f5f\"}, \"type\": \"carpet\"}], \"choropleth\": [{\"colorbar\": {\"outlinewidth\": 0, \"ticks\": \"\"}, \"type\": \"choropleth\"}], \"contour\": [{\"colorbar\": {\"outlinewidth\": 0, \"ticks\": \"\"}, \"colorscale\": [[0.0, \"#0d0887\"], [0.1111111111111111, \"#46039f\"], [0.2222222222222222, \"#7201a8\"], [0.3333333333333333, \"#9c179e\"], [0.4444444444444444, \"#bd3786\"], [0.5555555555555556, \"#d8576b\"], [0.6666666666666666, \"#ed7953\"], [0.7777777777777778, \"#fb9f3a\"], [0.8888888888888888, \"#fdca26\"], [1.0, \"#f0f921\"]], \"type\": \"contour\"}], \"contourcarpet\": [{\"colorbar\": {\"outlinewidth\": 0, \"ticks\": \"\"}, \"type\": \"contourcarpet\"}], \"heatmap\": [{\"colorbar\": {\"outlinewidth\": 0, \"ticks\": \"\"}, \"colorscale\": [[0.0, \"#0d0887\"], [0.1111111111111111, \"#46039f\"], [0.2222222222222222, \"#7201a8\"], [0.3333333333333333, \"#9c179e\"], [0.4444444444444444, \"#bd3786\"], [0.5555555555555556, \"#d8576b\"], [0.6666666666666666, \"#ed7953\"], [0.7777777777777778, \"#fb9f3a\"], [0.8888888888888888, \"#fdca26\"], [1.0, \"#f0f921\"]], \"type\": \"heatmap\"}], \"heatmapgl\": [{\"colorbar\": {\"outlinewidth\": 0, \"ticks\": \"\"}, \"colorscale\": [[0.0, \"#0d0887\"], [0.1111111111111111, \"#46039f\"], [0.2222222222222222, \"#7201a8\"], [0.3333333333333333, \"#9c179e\"], [0.4444444444444444, \"#bd3786\"], [0.5555555555555556, \"#d8576b\"], [0.6666666666666666, \"#ed7953\"], [0.7777777777777778, \"#fb9f3a\"], [0.8888888888888888, \"#fdca26\"], [1.0, \"#f0f921\"]], \"type\": \"heatmapgl\"}], \"histogram\": [{\"marker\": {\"colorbar\": {\"outlinewidth\": 0, \"ticks\": \"\"}}, \"type\": \"histogram\"}], \"histogram2d\": [{\"colorbar\": {\"outlinewidth\": 0, \"ticks\": \"\"}, \"colorscale\": [[0.0, \"#0d0887\"], [0.1111111111111111, \"#46039f\"], [0.2222222222222222, \"#7201a8\"], [0.3333333333333333, \"#9c179e\"], [0.4444444444444444, \"#bd3786\"], [0.5555555555555556, \"#d8576b\"], [0.6666666666666666, \"#ed7953\"], [0.7777777777777778, \"#fb9f3a\"], [0.8888888888888888, \"#fdca26\"], [1.0, \"#f0f921\"]], \"type\": \"histogram2d\"}], \"histogram2dcontour\": [{\"colorbar\": {\"outlinewidth\": 0, \"ticks\": \"\"}, \"colorscale\": [[0.0, \"#0d0887\"], [0.1111111111111111, \"#46039f\"], [0.2222222222222222, \"#7201a8\"], [0.3333333333333333, \"#9c179e\"], [0.4444444444444444, \"#bd3786\"], [0.5555555555555556, \"#d8576b\"], [0.6666666666666666, \"#ed7953\"], [0.7777777777777778, \"#fb9f3a\"], [0.8888888888888888, \"#fdca26\"], [1.0, \"#f0f921\"]], \"type\": \"histogram2dcontour\"}], \"mesh3d\": [{\"colorbar\": {\"outlinewidth\": 0, \"ticks\": \"\"}, \"type\": \"mesh3d\"}], \"parcoords\": [{\"line\": {\"colorbar\": {\"outlinewidth\": 0, \"ticks\": \"\"}}, \"type\": \"parcoords\"}], \"pie\": [{\"automargin\": true, \"type\": \"pie\"}], \"scatter\": [{\"marker\": {\"colorbar\": {\"outlinewidth\": 0, \"ticks\": \"\"}}, \"type\": \"scatter\"}], \"scatter3d\": [{\"line\": {\"colorbar\": {\"outlinewidth\": 0, \"ticks\": \"\"}}, \"marker\": {\"colorbar\": {\"outlinewidth\": 0, \"ticks\": \"\"}}, \"type\": \"scatter3d\"}], \"scattercarpet\": [{\"marker\": {\"colorbar\": {\"outlinewidth\": 0, \"ticks\": \"\"}}, \"type\": \"scattercarpet\"}], \"scattergeo\": [{\"marker\": {\"colorbar\": {\"outlinewidth\": 0, \"ticks\": \"\"}}, \"type\": \"scattergeo\"}], \"scattergl\": [{\"marker\": {\"colorbar\": {\"outlinewidth\": 0, \"ticks\": \"\"}}, \"type\": \"scattergl\"}], \"scattermapbox\": [{\"marker\": {\"colorbar\": {\"outlinewidth\": 0, \"ticks\": \"\"}}, \"type\": \"scattermapbox\"}], \"scatterpolar\": [{\"marker\": {\"colorbar\": {\"outlinewidth\": 0, \"ticks\": \"\"}}, \"type\": \"scatterpolar\"}], \"scatterpolargl\": [{\"marker\": {\"colorbar\": {\"outlinewidth\": 0, \"ticks\": \"\"}}, \"type\": \"scatterpolargl\"}], \"scatterternary\": [{\"marker\": {\"colorbar\": {\"outlinewidth\": 0, \"ticks\": \"\"}}, \"type\": \"scatterternary\"}], \"surface\": [{\"colorbar\": {\"outlinewidth\": 0, \"ticks\": \"\"}, \"colorscale\": [[0.0, \"#0d0887\"], [0.1111111111111111, \"#46039f\"], [0.2222222222222222, \"#7201a8\"], [0.3333333333333333, \"#9c179e\"], [0.4444444444444444, \"#bd3786\"], [0.5555555555555556, \"#d8576b\"], [0.6666666666666666, \"#ed7953\"], [0.7777777777777778, \"#fb9f3a\"], [0.8888888888888888, \"#fdca26\"], [1.0, \"#f0f921\"]], \"type\": \"surface\"}], \"table\": [{\"cells\": {\"fill\": {\"color\": \"#EBF0F8\"}, \"line\": {\"color\": \"white\"}}, \"header\": {\"fill\": {\"color\": \"#C8D4E3\"}, \"line\": {\"color\": \"white\"}}, \"type\": \"table\"}]}, \"layout\": {\"annotationdefaults\": {\"arrowcolor\": \"#2a3f5f\", \"arrowhead\": 0, \"arrowwidth\": 1}, \"autotypenumbers\": \"strict\", \"coloraxis\": {\"colorbar\": {\"outlinewidth\": 0, \"ticks\": \"\"}}, \"colorscale\": {\"diverging\": [[0, \"#8e0152\"], [0.1, \"#c51b7d\"], [0.2, \"#de77ae\"], [0.3, \"#f1b6da\"], [0.4, \"#fde0ef\"], [0.5, \"#f7f7f7\"], [0.6, \"#e6f5d0\"], [0.7, \"#b8e186\"], [0.8, \"#7fbc41\"], [0.9, \"#4d9221\"], [1, \"#276419\"]], \"sequential\": [[0.0, \"#0d0887\"], [0.1111111111111111, \"#46039f\"], [0.2222222222222222, \"#7201a8\"], [0.3333333333333333, \"#9c179e\"], [0.4444444444444444, \"#bd3786\"], [0.5555555555555556, \"#d8576b\"], [0.6666666666666666, \"#ed7953\"], [0.7777777777777778, \"#fb9f3a\"], [0.8888888888888888, \"#fdca26\"], [1.0, \"#f0f921\"]], \"sequentialminus\": [[0.0, \"#0d0887\"], [0.1111111111111111, \"#46039f\"], [0.2222222222222222, \"#7201a8\"], [0.3333333333333333, \"#9c179e\"], [0.4444444444444444, \"#bd3786\"], [0.5555555555555556, \"#d8576b\"], [0.6666666666666666, \"#ed7953\"], [0.7777777777777778, \"#fb9f3a\"], [0.8888888888888888, \"#fdca26\"], [1.0, \"#f0f921\"]]}, \"colorway\": [\"#636efa\", \"#EF553B\", \"#00cc96\", \"#ab63fa\", \"#FFA15A\", \"#19d3f3\", \"#FF6692\", \"#B6E880\", \"#FF97FF\", \"#FECB52\"], \"font\": {\"color\": \"#2a3f5f\"}, \"geo\": {\"bgcolor\": \"white\", \"lakecolor\": \"white\", \"landcolor\": \"#E5ECF6\", \"showlakes\": true, \"showland\": true, \"subunitcolor\": \"white\"}, \"hoverlabel\": {\"align\": \"left\"}, \"hovermode\": \"closest\", \"mapbox\": {\"style\": \"light\"}, \"paper_bgcolor\": \"white\", \"plot_bgcolor\": \"#E5ECF6\", \"polar\": {\"angularaxis\": {\"gridcolor\": \"white\", \"linecolor\": \"white\", \"ticks\": \"\"}, \"bgcolor\": \"#E5ECF6\", \"radialaxis\": {\"gridcolor\": \"white\", \"linecolor\": \"white\", \"ticks\": \"\"}}, \"scene\": {\"xaxis\": {\"backgroundcolor\": \"#E5ECF6\", \"gridcolor\": \"white\", \"gridwidth\": 2, \"linecolor\": \"white\", \"showbackground\": true, \"ticks\": \"\", \"zerolinecolor\": \"white\"}, \"yaxis\": {\"backgroundcolor\": \"#E5ECF6\", \"gridcolor\": \"white\", \"gridwidth\": 2, \"linecolor\": \"white\", \"showbackground\": true, \"ticks\": \"\", \"zerolinecolor\": \"white\"}, \"zaxis\": {\"backgroundcolor\": \"#E5ECF6\", \"gridcolor\": \"white\", \"gridwidth\": 2, \"linecolor\": \"white\", \"showbackground\": true, \"ticks\": \"\", \"zerolinecolor\": \"white\"}}, \"shapedefaults\": {\"line\": {\"color\": \"#2a3f5f\"}}, \"ternary\": {\"aaxis\": {\"gridcolor\": \"white\", \"linecolor\": \"white\", \"ticks\": \"\"}, \"baxis\": {\"gridcolor\": \"white\", \"linecolor\": \"white\", \"ticks\": \"\"}, \"bgcolor\": \"#E5ECF6\", \"caxis\": {\"gridcolor\": \"white\", \"linecolor\": \"white\", \"ticks\": \"\"}}, \"title\": {\"x\": 0.05}, \"xaxis\": {\"automargin\": true, \"gridcolor\": \"white\", \"linecolor\": \"white\", \"ticks\": \"\", \"title\": {\"standoff\": 15}, \"zerolinecolor\": \"white\", \"zerolinewidth\": 2}, \"yaxis\": {\"automargin\": true, \"gridcolor\": \"white\", \"linecolor\": \"white\", \"ticks\": \"\", \"title\": {\"standoff\": 15}, \"zerolinecolor\": \"white\", \"zerolinewidth\": 2}}}, \"title\": {\"text\": \"Accuracy and tollerance rate comparison\"}, \"xaxis\": {\"anchor\": \"y\", \"domain\": [0.0, 1.0], \"title\": {\"text\": \"x\"}}, \"yaxis\": {\"anchor\": \"x\", \"domain\": [0.0, 1.0], \"title\": {\"text\": \"accuracy\"}}},                        {\"responsive\": true}                    ).then(function(){\n",
       "                            \n",
       "var gd = document.getElementById('c578bc96-39b9-4a68-a9e0-bfb23fc7006b');\n",
       "var x = new MutationObserver(function (mutations, observer) {{\n",
       "        var display = window.getComputedStyle(gd).display;\n",
       "        if (!display || display === 'none') {{\n",
       "            console.log([gd, 'removed!']);\n",
       "            Plotly.purge(gd);\n",
       "            observer.disconnect();\n",
       "        }}\n",
       "}});\n",
       "\n",
       "// Listen for the removal of the full notebook cells\n",
       "var notebookContainer = gd.closest('#notebook-container');\n",
       "if (notebookContainer) {{\n",
       "    x.observe(notebookContainer, {childList: true});\n",
       "}}\n",
       "\n",
       "// Listen for the clearing of the current output cell\n",
       "var outputEl = gd.closest('.output');\n",
       "if (outputEl) {{\n",
       "    x.observe(outputEl, {childList: true});\n",
       "}}\n",
       "\n",
       "                        })                };                });            </script>        </div>"
      ]
     },
     "metadata": {},
     "output_type": "display_data"
    }
   ],
   "source": [
    "px.line(a, x=pd.to_datetime(a['time']).astype(int), y=\"accuracy\", color= \"method\",\n",
    "              title='Accuracy and tollerance rate comparison')"
   ]
  },
  {
   "cell_type": "code",
   "execution_count": 74,
   "id": "nominated-assurance",
   "metadata": {},
   "outputs": [
    {
     "data": {
      "application/vnd.plotly.v1+json": {
       "config": {
        "plotlyServerURL": "https://plot.ly"
       },
       "data": [
        {
         "hovertemplate": "method=sklearn<br>x=%{x}<br>accuracy=%{marker.size}<extra></extra>",
         "legendgroup": "sklearn",
         "marker": {
          "color": "#636efa",
          "size": [
           0.33637177710723043,
           0.33637177710723043,
           0.3364208775385569,
           0.3364208775385569,
           0.336422599257169,
           0.3364229069648714,
           0.3364229379296464,
           0.3364229379296464
          ],
          "sizemode": "area",
          "sizeref": 0.0025,
          "symbol": "circle"
         },
         "mode": "markers",
         "name": "sklearn",
         "orientation": "v",
         "showlegend": true,
         "type": "scatter",
         "x": [
          1615334400070000000,
          1615334400040000000,
          1615334400060000000,
          1615334400070000000,
          1615334400920000000,
          1615334400850000000,
          1615334400880000000,
          1615334400920000000
         ],
         "xaxis": "x",
         "y": [
          0.33637177710723043,
          0.33637177710723043,
          0.3364208775385569,
          0.3364208775385569,
          0.336422599257169,
          0.3364229069648714,
          0.3364229379296464,
          0.3364229379296464
         ],
         "yaxis": "y"
        },
        {
         "hovertemplate": "method=regain<br>x=%{x}<br>accuracy=%{marker.size}<extra></extra>",
         "legendgroup": "regain",
         "marker": {
          "color": "#EF553B",
          "size": [
           0,
           0,
           0.27877905827770144,
           0.33149765926263974,
           0.33591728902997264,
           0.3363413646900044,
           0.3363762743432839,
           0.33638235021878005
          ],
          "sizemode": "area",
          "sizeref": 0.0025,
          "symbol": "circle"
         },
         "mode": "markers",
         "name": "regain",
         "orientation": "v",
         "showlegend": true,
         "type": "scatter",
         "x": [
          1615334400020000000,
          1615334400020000000,
          1615334400070000000,
          1615334400100000000,
          1615334400160000000,
          1615334400200000000,
          1615334400210000000,
          1615334400230000000
         ],
         "xaxis": "x",
         "y": [
          0,
          0,
          0.27877905827770144,
          0.33149765926263974,
          0.33591728902997264,
          0.3363413646900044,
          0.3363762743432839,
          0.33638235021878005
         ],
         "yaxis": "y"
        },
        {
         "hovertemplate": "method=admm<br>x=%{x}<br>accuracy=%{marker.size}<extra></extra>",
         "legendgroup": "admm",
         "marker": {
          "color": "#00cc96",
          "size": [
           0.8424768043266109,
           0.8424768043266109,
           0.8424768043266109,
           0.5331280249306014,
           0.3643782400961596,
           0.33946840043322524,
           0.3371536937884537,
           0.33692785891409816
          ],
          "sizemode": "area",
          "sizeref": 0.0025,
          "symbol": "circle"
         },
         "mode": "markers",
         "name": "admm",
         "orientation": "v",
         "showlegend": true,
         "type": "scatter",
         "x": [
          1615334400010000000,
          1615334400010000000,
          1615334400010000000,
          1615334400030000000,
          1615334400060000000,
          1615334400140000000,
          1615334400230000000,
          1615334400240000000
         ],
         "xaxis": "x",
         "y": [
          0.8424768043266109,
          0.8424768043266109,
          0.8424768043266109,
          0.5331280249306014,
          0.3643782400961596,
          0.33946840043322524,
          0.3371536937884537,
          0.33692785891409816
         ],
         "yaxis": "y"
        },
        {
         "hovertemplate": "method=kkt_admm<br>x=%{x}<br>accuracy=%{marker.size}<extra></extra>",
         "legendgroup": "kkt_admm",
         "marker": {
          "color": "#ab63fa",
          "size": [
           0.7615484733319896,
           0.43255567348171786,
           0.34784585134004153,
           0.3375649462512763,
           0.33653178995543853,
           0.3364331359965774,
           0.33642397174078265,
           0.33642309572605755
          ],
          "sizemode": "area",
          "sizeref": 0.0025,
          "symbol": "circle"
         },
         "mode": "markers",
         "name": "kkt_admm",
         "orientation": "v",
         "showlegend": true,
         "type": "scatter",
         "x": [
          1615334400020000000,
          1615334400060000000,
          1615334400150000000,
          1615334400530000000,
          1615334400560000000,
          1615334400840000000,
          1615334401010000000,
          1615334401030000000
         ],
         "xaxis": "x",
         "y": [
          0.7615484733319896,
          0.43255567348171786,
          0.34784585134004153,
          0.3375649462512763,
          0.33653178995543853,
          0.3364331359965774,
          0.33642397174078265,
          0.33642309572605755
         ],
         "yaxis": "y"
        },
        {
         "hovertemplate": "method=Z<br>x=%{x}<br>accuracy=%{marker.size}<extra></extra>",
         "legendgroup": "Z",
         "marker": {
          "color": "#FFA15A",
          "size": [
           1,
           1,
           1,
           1,
           1,
           1,
           1,
           1
          ],
          "sizemode": "area",
          "sizeref": 0.0025,
          "symbol": "circle"
         },
         "mode": "markers",
         "name": "Z",
         "orientation": "v",
         "showlegend": true,
         "type": "scatter",
         "x": [
          1615334400000000000,
          1615334400000000000,
          1615334400000000000,
          1615334400000000000,
          1615334400000000000,
          1615334400000000000,
          1615334400000000000,
          1615334400000000000
         ],
         "xaxis": "x",
         "y": [
          1,
          1,
          1,
          1,
          1,
          1,
          1,
          1
         ],
         "yaxis": "y"
        }
       ],
       "layout": {
        "legend": {
         "itemsizing": "constant",
         "title": {
          "text": "method"
         },
         "tracegroupgap": 0
        },
        "margin": {
         "t": 60
        },
        "template": {
         "data": {
          "bar": [
           {
            "error_x": {
             "color": "#2a3f5f"
            },
            "error_y": {
             "color": "#2a3f5f"
            },
            "marker": {
             "line": {
              "color": "#E5ECF6",
              "width": 0.5
             }
            },
            "type": "bar"
           }
          ],
          "barpolar": [
           {
            "marker": {
             "line": {
              "color": "#E5ECF6",
              "width": 0.5
             }
            },
            "type": "barpolar"
           }
          ],
          "carpet": [
           {
            "aaxis": {
             "endlinecolor": "#2a3f5f",
             "gridcolor": "white",
             "linecolor": "white",
             "minorgridcolor": "white",
             "startlinecolor": "#2a3f5f"
            },
            "baxis": {
             "endlinecolor": "#2a3f5f",
             "gridcolor": "white",
             "linecolor": "white",
             "minorgridcolor": "white",
             "startlinecolor": "#2a3f5f"
            },
            "type": "carpet"
           }
          ],
          "choropleth": [
           {
            "colorbar": {
             "outlinewidth": 0,
             "ticks": ""
            },
            "type": "choropleth"
           }
          ],
          "contour": [
           {
            "colorbar": {
             "outlinewidth": 0,
             "ticks": ""
            },
            "colorscale": [
             [
              0,
              "#0d0887"
             ],
             [
              0.1111111111111111,
              "#46039f"
             ],
             [
              0.2222222222222222,
              "#7201a8"
             ],
             [
              0.3333333333333333,
              "#9c179e"
             ],
             [
              0.4444444444444444,
              "#bd3786"
             ],
             [
              0.5555555555555556,
              "#d8576b"
             ],
             [
              0.6666666666666666,
              "#ed7953"
             ],
             [
              0.7777777777777778,
              "#fb9f3a"
             ],
             [
              0.8888888888888888,
              "#fdca26"
             ],
             [
              1,
              "#f0f921"
             ]
            ],
            "type": "contour"
           }
          ],
          "contourcarpet": [
           {
            "colorbar": {
             "outlinewidth": 0,
             "ticks": ""
            },
            "type": "contourcarpet"
           }
          ],
          "heatmap": [
           {
            "colorbar": {
             "outlinewidth": 0,
             "ticks": ""
            },
            "colorscale": [
             [
              0,
              "#0d0887"
             ],
             [
              0.1111111111111111,
              "#46039f"
             ],
             [
              0.2222222222222222,
              "#7201a8"
             ],
             [
              0.3333333333333333,
              "#9c179e"
             ],
             [
              0.4444444444444444,
              "#bd3786"
             ],
             [
              0.5555555555555556,
              "#d8576b"
             ],
             [
              0.6666666666666666,
              "#ed7953"
             ],
             [
              0.7777777777777778,
              "#fb9f3a"
             ],
             [
              0.8888888888888888,
              "#fdca26"
             ],
             [
              1,
              "#f0f921"
             ]
            ],
            "type": "heatmap"
           }
          ],
          "heatmapgl": [
           {
            "colorbar": {
             "outlinewidth": 0,
             "ticks": ""
            },
            "colorscale": [
             [
              0,
              "#0d0887"
             ],
             [
              0.1111111111111111,
              "#46039f"
             ],
             [
              0.2222222222222222,
              "#7201a8"
             ],
             [
              0.3333333333333333,
              "#9c179e"
             ],
             [
              0.4444444444444444,
              "#bd3786"
             ],
             [
              0.5555555555555556,
              "#d8576b"
             ],
             [
              0.6666666666666666,
              "#ed7953"
             ],
             [
              0.7777777777777778,
              "#fb9f3a"
             ],
             [
              0.8888888888888888,
              "#fdca26"
             ],
             [
              1,
              "#f0f921"
             ]
            ],
            "type": "heatmapgl"
           }
          ],
          "histogram": [
           {
            "marker": {
             "colorbar": {
              "outlinewidth": 0,
              "ticks": ""
             }
            },
            "type": "histogram"
           }
          ],
          "histogram2d": [
           {
            "colorbar": {
             "outlinewidth": 0,
             "ticks": ""
            },
            "colorscale": [
             [
              0,
              "#0d0887"
             ],
             [
              0.1111111111111111,
              "#46039f"
             ],
             [
              0.2222222222222222,
              "#7201a8"
             ],
             [
              0.3333333333333333,
              "#9c179e"
             ],
             [
              0.4444444444444444,
              "#bd3786"
             ],
             [
              0.5555555555555556,
              "#d8576b"
             ],
             [
              0.6666666666666666,
              "#ed7953"
             ],
             [
              0.7777777777777778,
              "#fb9f3a"
             ],
             [
              0.8888888888888888,
              "#fdca26"
             ],
             [
              1,
              "#f0f921"
             ]
            ],
            "type": "histogram2d"
           }
          ],
          "histogram2dcontour": [
           {
            "colorbar": {
             "outlinewidth": 0,
             "ticks": ""
            },
            "colorscale": [
             [
              0,
              "#0d0887"
             ],
             [
              0.1111111111111111,
              "#46039f"
             ],
             [
              0.2222222222222222,
              "#7201a8"
             ],
             [
              0.3333333333333333,
              "#9c179e"
             ],
             [
              0.4444444444444444,
              "#bd3786"
             ],
             [
              0.5555555555555556,
              "#d8576b"
             ],
             [
              0.6666666666666666,
              "#ed7953"
             ],
             [
              0.7777777777777778,
              "#fb9f3a"
             ],
             [
              0.8888888888888888,
              "#fdca26"
             ],
             [
              1,
              "#f0f921"
             ]
            ],
            "type": "histogram2dcontour"
           }
          ],
          "mesh3d": [
           {
            "colorbar": {
             "outlinewidth": 0,
             "ticks": ""
            },
            "type": "mesh3d"
           }
          ],
          "parcoords": [
           {
            "line": {
             "colorbar": {
              "outlinewidth": 0,
              "ticks": ""
             }
            },
            "type": "parcoords"
           }
          ],
          "pie": [
           {
            "automargin": true,
            "type": "pie"
           }
          ],
          "scatter": [
           {
            "marker": {
             "colorbar": {
              "outlinewidth": 0,
              "ticks": ""
             }
            },
            "type": "scatter"
           }
          ],
          "scatter3d": [
           {
            "line": {
             "colorbar": {
              "outlinewidth": 0,
              "ticks": ""
             }
            },
            "marker": {
             "colorbar": {
              "outlinewidth": 0,
              "ticks": ""
             }
            },
            "type": "scatter3d"
           }
          ],
          "scattercarpet": [
           {
            "marker": {
             "colorbar": {
              "outlinewidth": 0,
              "ticks": ""
             }
            },
            "type": "scattercarpet"
           }
          ],
          "scattergeo": [
           {
            "marker": {
             "colorbar": {
              "outlinewidth": 0,
              "ticks": ""
             }
            },
            "type": "scattergeo"
           }
          ],
          "scattergl": [
           {
            "marker": {
             "colorbar": {
              "outlinewidth": 0,
              "ticks": ""
             }
            },
            "type": "scattergl"
           }
          ],
          "scattermapbox": [
           {
            "marker": {
             "colorbar": {
              "outlinewidth": 0,
              "ticks": ""
             }
            },
            "type": "scattermapbox"
           }
          ],
          "scatterpolar": [
           {
            "marker": {
             "colorbar": {
              "outlinewidth": 0,
              "ticks": ""
             }
            },
            "type": "scatterpolar"
           }
          ],
          "scatterpolargl": [
           {
            "marker": {
             "colorbar": {
              "outlinewidth": 0,
              "ticks": ""
             }
            },
            "type": "scatterpolargl"
           }
          ],
          "scatterternary": [
           {
            "marker": {
             "colorbar": {
              "outlinewidth": 0,
              "ticks": ""
             }
            },
            "type": "scatterternary"
           }
          ],
          "surface": [
           {
            "colorbar": {
             "outlinewidth": 0,
             "ticks": ""
            },
            "colorscale": [
             [
              0,
              "#0d0887"
             ],
             [
              0.1111111111111111,
              "#46039f"
             ],
             [
              0.2222222222222222,
              "#7201a8"
             ],
             [
              0.3333333333333333,
              "#9c179e"
             ],
             [
              0.4444444444444444,
              "#bd3786"
             ],
             [
              0.5555555555555556,
              "#d8576b"
             ],
             [
              0.6666666666666666,
              "#ed7953"
             ],
             [
              0.7777777777777778,
              "#fb9f3a"
             ],
             [
              0.8888888888888888,
              "#fdca26"
             ],
             [
              1,
              "#f0f921"
             ]
            ],
            "type": "surface"
           }
          ],
          "table": [
           {
            "cells": {
             "fill": {
              "color": "#EBF0F8"
             },
             "line": {
              "color": "white"
             }
            },
            "header": {
             "fill": {
              "color": "#C8D4E3"
             },
             "line": {
              "color": "white"
             }
            },
            "type": "table"
           }
          ]
         },
         "layout": {
          "annotationdefaults": {
           "arrowcolor": "#2a3f5f",
           "arrowhead": 0,
           "arrowwidth": 1
          },
          "autotypenumbers": "strict",
          "coloraxis": {
           "colorbar": {
            "outlinewidth": 0,
            "ticks": ""
           }
          },
          "colorscale": {
           "diverging": [
            [
             0,
             "#8e0152"
            ],
            [
             0.1,
             "#c51b7d"
            ],
            [
             0.2,
             "#de77ae"
            ],
            [
             0.3,
             "#f1b6da"
            ],
            [
             0.4,
             "#fde0ef"
            ],
            [
             0.5,
             "#f7f7f7"
            ],
            [
             0.6,
             "#e6f5d0"
            ],
            [
             0.7,
             "#b8e186"
            ],
            [
             0.8,
             "#7fbc41"
            ],
            [
             0.9,
             "#4d9221"
            ],
            [
             1,
             "#276419"
            ]
           ],
           "sequential": [
            [
             0,
             "#0d0887"
            ],
            [
             0.1111111111111111,
             "#46039f"
            ],
            [
             0.2222222222222222,
             "#7201a8"
            ],
            [
             0.3333333333333333,
             "#9c179e"
            ],
            [
             0.4444444444444444,
             "#bd3786"
            ],
            [
             0.5555555555555556,
             "#d8576b"
            ],
            [
             0.6666666666666666,
             "#ed7953"
            ],
            [
             0.7777777777777778,
             "#fb9f3a"
            ],
            [
             0.8888888888888888,
             "#fdca26"
            ],
            [
             1,
             "#f0f921"
            ]
           ],
           "sequentialminus": [
            [
             0,
             "#0d0887"
            ],
            [
             0.1111111111111111,
             "#46039f"
            ],
            [
             0.2222222222222222,
             "#7201a8"
            ],
            [
             0.3333333333333333,
             "#9c179e"
            ],
            [
             0.4444444444444444,
             "#bd3786"
            ],
            [
             0.5555555555555556,
             "#d8576b"
            ],
            [
             0.6666666666666666,
             "#ed7953"
            ],
            [
             0.7777777777777778,
             "#fb9f3a"
            ],
            [
             0.8888888888888888,
             "#fdca26"
            ],
            [
             1,
             "#f0f921"
            ]
           ]
          },
          "colorway": [
           "#636efa",
           "#EF553B",
           "#00cc96",
           "#ab63fa",
           "#FFA15A",
           "#19d3f3",
           "#FF6692",
           "#B6E880",
           "#FF97FF",
           "#FECB52"
          ],
          "font": {
           "color": "#2a3f5f"
          },
          "geo": {
           "bgcolor": "white",
           "lakecolor": "white",
           "landcolor": "#E5ECF6",
           "showlakes": true,
           "showland": true,
           "subunitcolor": "white"
          },
          "hoverlabel": {
           "align": "left"
          },
          "hovermode": "closest",
          "mapbox": {
           "style": "light"
          },
          "paper_bgcolor": "white",
          "plot_bgcolor": "#E5ECF6",
          "polar": {
           "angularaxis": {
            "gridcolor": "white",
            "linecolor": "white",
            "ticks": ""
           },
           "bgcolor": "#E5ECF6",
           "radialaxis": {
            "gridcolor": "white",
            "linecolor": "white",
            "ticks": ""
           }
          },
          "scene": {
           "xaxis": {
            "backgroundcolor": "#E5ECF6",
            "gridcolor": "white",
            "gridwidth": 2,
            "linecolor": "white",
            "showbackground": true,
            "ticks": "",
            "zerolinecolor": "white"
           },
           "yaxis": {
            "backgroundcolor": "#E5ECF6",
            "gridcolor": "white",
            "gridwidth": 2,
            "linecolor": "white",
            "showbackground": true,
            "ticks": "",
            "zerolinecolor": "white"
           },
           "zaxis": {
            "backgroundcolor": "#E5ECF6",
            "gridcolor": "white",
            "gridwidth": 2,
            "linecolor": "white",
            "showbackground": true,
            "ticks": "",
            "zerolinecolor": "white"
           }
          },
          "shapedefaults": {
           "line": {
            "color": "#2a3f5f"
           }
          },
          "ternary": {
           "aaxis": {
            "gridcolor": "white",
            "linecolor": "white",
            "ticks": ""
           },
           "baxis": {
            "gridcolor": "white",
            "linecolor": "white",
            "ticks": ""
           },
           "bgcolor": "#E5ECF6",
           "caxis": {
            "gridcolor": "white",
            "linecolor": "white",
            "ticks": ""
           }
          },
          "title": {
           "x": 0.05
          },
          "xaxis": {
           "automargin": true,
           "gridcolor": "white",
           "linecolor": "white",
           "ticks": "",
           "title": {
            "standoff": 15
           },
           "zerolinecolor": "white",
           "zerolinewidth": 2
          },
          "yaxis": {
           "automargin": true,
           "gridcolor": "white",
           "linecolor": "white",
           "ticks": "",
           "title": {
            "standoff": 15
           },
           "zerolinecolor": "white",
           "zerolinewidth": 2
          }
         }
        },
        "xaxis": {
         "anchor": "y",
         "domain": [
          0,
          1
         ],
         "title": {
          "text": "x"
         }
        },
        "yaxis": {
         "anchor": "x",
         "domain": [
          0,
          1
         ],
         "title": {
          "text": "accuracy"
         }
        }
       }
      },
      "text/html": [
       "<div>                            <div id=\"c9a48625-df36-41aa-8baa-77342aa18c0a\" class=\"plotly-graph-div\" style=\"height:525px; width:100%;\"></div>            <script type=\"text/javascript\">                require([\"plotly\"], function(Plotly) {                    window.PLOTLYENV=window.PLOTLYENV || {};                                    if (document.getElementById(\"c9a48625-df36-41aa-8baa-77342aa18c0a\")) {                    Plotly.newPlot(                        \"c9a48625-df36-41aa-8baa-77342aa18c0a\",                        [{\"hovertemplate\": \"method=sklearn<br>x=%{x}<br>accuracy=%{marker.size}<extra></extra>\", \"legendgroup\": \"sklearn\", \"marker\": {\"color\": \"#636efa\", \"size\": [0.33637177710723043, 0.33637177710723043, 0.3364208775385569, 0.3364208775385569, 0.336422599257169, 0.3364229069648714, 0.3364229379296464, 0.3364229379296464], \"sizemode\": \"area\", \"sizeref\": 0.0025, \"symbol\": \"circle\"}, \"mode\": \"markers\", \"name\": \"sklearn\", \"orientation\": \"v\", \"showlegend\": true, \"type\": \"scatter\", \"x\": [1615334400070000000, 1615334400040000000, 1615334400060000000, 1615334400070000000, 1615334400920000000, 1615334400850000000, 1615334400880000000, 1615334400920000000], \"xaxis\": \"x\", \"y\": [0.33637177710723043, 0.33637177710723043, 0.3364208775385569, 0.3364208775385569, 0.336422599257169, 0.3364229069648714, 0.3364229379296464, 0.3364229379296464], \"yaxis\": \"y\"}, {\"hovertemplate\": \"method=regain<br>x=%{x}<br>accuracy=%{marker.size}<extra></extra>\", \"legendgroup\": \"regain\", \"marker\": {\"color\": \"#EF553B\", \"size\": [0.0, 0.0, 0.27877905827770144, 0.33149765926263974, 0.33591728902997264, 0.3363413646900044, 0.3363762743432839, 0.33638235021878005], \"sizemode\": \"area\", \"sizeref\": 0.0025, \"symbol\": \"circle\"}, \"mode\": \"markers\", \"name\": \"regain\", \"orientation\": \"v\", \"showlegend\": true, \"type\": \"scatter\", \"x\": [1615334400020000000, 1615334400020000000, 1615334400070000000, 1615334400100000000, 1615334400160000000, 1615334400200000000, 1615334400210000000, 1615334400230000000], \"xaxis\": \"x\", \"y\": [0.0, 0.0, 0.27877905827770144, 0.33149765926263974, 0.33591728902997264, 0.3363413646900044, 0.3363762743432839, 0.33638235021878005], \"yaxis\": \"y\"}, {\"hovertemplate\": \"method=admm<br>x=%{x}<br>accuracy=%{marker.size}<extra></extra>\", \"legendgroup\": \"admm\", \"marker\": {\"color\": \"#00cc96\", \"size\": [0.8424768043266109, 0.8424768043266109, 0.8424768043266109, 0.5331280249306014, 0.3643782400961596, 0.33946840043322524, 0.3371536937884537, 0.33692785891409816], \"sizemode\": \"area\", \"sizeref\": 0.0025, \"symbol\": \"circle\"}, \"mode\": \"markers\", \"name\": \"admm\", \"orientation\": \"v\", \"showlegend\": true, \"type\": \"scatter\", \"x\": [1615334400010000000, 1615334400010000000, 1615334400010000000, 1615334400030000000, 1615334400060000000, 1615334400140000000, 1615334400230000000, 1615334400240000000], \"xaxis\": \"x\", \"y\": [0.8424768043266109, 0.8424768043266109, 0.8424768043266109, 0.5331280249306014, 0.3643782400961596, 0.33946840043322524, 0.3371536937884537, 0.33692785891409816], \"yaxis\": \"y\"}, {\"hovertemplate\": \"method=kkt_admm<br>x=%{x}<br>accuracy=%{marker.size}<extra></extra>\", \"legendgroup\": \"kkt_admm\", \"marker\": {\"color\": \"#ab63fa\", \"size\": [0.7615484733319896, 0.43255567348171786, 0.34784585134004153, 0.3375649462512763, 0.33653178995543853, 0.3364331359965774, 0.33642397174078265, 0.33642309572605755], \"sizemode\": \"area\", \"sizeref\": 0.0025, \"symbol\": \"circle\"}, \"mode\": \"markers\", \"name\": \"kkt_admm\", \"orientation\": \"v\", \"showlegend\": true, \"type\": \"scatter\", \"x\": [1615334400020000000, 1615334400060000000, 1615334400150000000, 1615334400530000000, 1615334400560000000, 1615334400840000000, 1615334401010000000, 1615334401030000000], \"xaxis\": \"x\", \"y\": [0.7615484733319896, 0.43255567348171786, 0.34784585134004153, 0.3375649462512763, 0.33653178995543853, 0.3364331359965774, 0.33642397174078265, 0.33642309572605755], \"yaxis\": \"y\"}, {\"hovertemplate\": \"method=Z<br>x=%{x}<br>accuracy=%{marker.size}<extra></extra>\", \"legendgroup\": \"Z\", \"marker\": {\"color\": \"#FFA15A\", \"size\": [1.0, 1.0, 1.0, 1.0, 1.0, 1.0, 1.0, 1.0], \"sizemode\": \"area\", \"sizeref\": 0.0025, \"symbol\": \"circle\"}, \"mode\": \"markers\", \"name\": \"Z\", \"orientation\": \"v\", \"showlegend\": true, \"type\": \"scatter\", \"x\": [1615334400000000000, 1615334400000000000, 1615334400000000000, 1615334400000000000, 1615334400000000000, 1615334400000000000, 1615334400000000000, 1615334400000000000], \"xaxis\": \"x\", \"y\": [1.0, 1.0, 1.0, 1.0, 1.0, 1.0, 1.0, 1.0], \"yaxis\": \"y\"}],                        {\"legend\": {\"itemsizing\": \"constant\", \"title\": {\"text\": \"method\"}, \"tracegroupgap\": 0}, \"margin\": {\"t\": 60}, \"template\": {\"data\": {\"bar\": [{\"error_x\": {\"color\": \"#2a3f5f\"}, \"error_y\": {\"color\": \"#2a3f5f\"}, \"marker\": {\"line\": {\"color\": \"#E5ECF6\", \"width\": 0.5}}, \"type\": \"bar\"}], \"barpolar\": [{\"marker\": {\"line\": {\"color\": \"#E5ECF6\", \"width\": 0.5}}, \"type\": \"barpolar\"}], \"carpet\": [{\"aaxis\": {\"endlinecolor\": \"#2a3f5f\", \"gridcolor\": \"white\", \"linecolor\": \"white\", \"minorgridcolor\": \"white\", \"startlinecolor\": \"#2a3f5f\"}, \"baxis\": {\"endlinecolor\": \"#2a3f5f\", \"gridcolor\": \"white\", \"linecolor\": \"white\", \"minorgridcolor\": \"white\", \"startlinecolor\": \"#2a3f5f\"}, \"type\": \"carpet\"}], \"choropleth\": [{\"colorbar\": {\"outlinewidth\": 0, \"ticks\": \"\"}, \"type\": \"choropleth\"}], \"contour\": [{\"colorbar\": {\"outlinewidth\": 0, \"ticks\": \"\"}, \"colorscale\": [[0.0, \"#0d0887\"], [0.1111111111111111, \"#46039f\"], [0.2222222222222222, \"#7201a8\"], [0.3333333333333333, \"#9c179e\"], [0.4444444444444444, \"#bd3786\"], [0.5555555555555556, \"#d8576b\"], [0.6666666666666666, \"#ed7953\"], [0.7777777777777778, \"#fb9f3a\"], [0.8888888888888888, \"#fdca26\"], [1.0, \"#f0f921\"]], \"type\": \"contour\"}], \"contourcarpet\": [{\"colorbar\": {\"outlinewidth\": 0, \"ticks\": \"\"}, \"type\": \"contourcarpet\"}], \"heatmap\": [{\"colorbar\": {\"outlinewidth\": 0, \"ticks\": \"\"}, \"colorscale\": [[0.0, \"#0d0887\"], [0.1111111111111111, \"#46039f\"], [0.2222222222222222, \"#7201a8\"], [0.3333333333333333, \"#9c179e\"], [0.4444444444444444, \"#bd3786\"], [0.5555555555555556, \"#d8576b\"], [0.6666666666666666, \"#ed7953\"], [0.7777777777777778, \"#fb9f3a\"], [0.8888888888888888, \"#fdca26\"], [1.0, \"#f0f921\"]], \"type\": \"heatmap\"}], \"heatmapgl\": [{\"colorbar\": {\"outlinewidth\": 0, \"ticks\": \"\"}, \"colorscale\": [[0.0, \"#0d0887\"], [0.1111111111111111, \"#46039f\"], [0.2222222222222222, \"#7201a8\"], [0.3333333333333333, \"#9c179e\"], [0.4444444444444444, \"#bd3786\"], [0.5555555555555556, \"#d8576b\"], [0.6666666666666666, \"#ed7953\"], [0.7777777777777778, \"#fb9f3a\"], [0.8888888888888888, \"#fdca26\"], [1.0, \"#f0f921\"]], \"type\": \"heatmapgl\"}], \"histogram\": [{\"marker\": {\"colorbar\": {\"outlinewidth\": 0, \"ticks\": \"\"}}, \"type\": \"histogram\"}], \"histogram2d\": [{\"colorbar\": {\"outlinewidth\": 0, \"ticks\": \"\"}, \"colorscale\": [[0.0, \"#0d0887\"], [0.1111111111111111, \"#46039f\"], [0.2222222222222222, \"#7201a8\"], [0.3333333333333333, \"#9c179e\"], [0.4444444444444444, \"#bd3786\"], [0.5555555555555556, \"#d8576b\"], [0.6666666666666666, \"#ed7953\"], [0.7777777777777778, \"#fb9f3a\"], [0.8888888888888888, \"#fdca26\"], [1.0, \"#f0f921\"]], \"type\": \"histogram2d\"}], \"histogram2dcontour\": [{\"colorbar\": {\"outlinewidth\": 0, \"ticks\": \"\"}, \"colorscale\": [[0.0, \"#0d0887\"], [0.1111111111111111, \"#46039f\"], [0.2222222222222222, \"#7201a8\"], [0.3333333333333333, \"#9c179e\"], [0.4444444444444444, \"#bd3786\"], [0.5555555555555556, \"#d8576b\"], [0.6666666666666666, \"#ed7953\"], [0.7777777777777778, \"#fb9f3a\"], [0.8888888888888888, \"#fdca26\"], [1.0, \"#f0f921\"]], \"type\": \"histogram2dcontour\"}], \"mesh3d\": [{\"colorbar\": {\"outlinewidth\": 0, \"ticks\": \"\"}, \"type\": \"mesh3d\"}], \"parcoords\": [{\"line\": {\"colorbar\": {\"outlinewidth\": 0, \"ticks\": \"\"}}, \"type\": \"parcoords\"}], \"pie\": [{\"automargin\": true, \"type\": \"pie\"}], \"scatter\": [{\"marker\": {\"colorbar\": {\"outlinewidth\": 0, \"ticks\": \"\"}}, \"type\": \"scatter\"}], \"scatter3d\": [{\"line\": {\"colorbar\": {\"outlinewidth\": 0, \"ticks\": \"\"}}, \"marker\": {\"colorbar\": {\"outlinewidth\": 0, \"ticks\": \"\"}}, \"type\": \"scatter3d\"}], \"scattercarpet\": [{\"marker\": {\"colorbar\": {\"outlinewidth\": 0, \"ticks\": \"\"}}, \"type\": \"scattercarpet\"}], \"scattergeo\": [{\"marker\": {\"colorbar\": {\"outlinewidth\": 0, \"ticks\": \"\"}}, \"type\": \"scattergeo\"}], \"scattergl\": [{\"marker\": {\"colorbar\": {\"outlinewidth\": 0, \"ticks\": \"\"}}, \"type\": \"scattergl\"}], \"scattermapbox\": [{\"marker\": {\"colorbar\": {\"outlinewidth\": 0, \"ticks\": \"\"}}, \"type\": \"scattermapbox\"}], \"scatterpolar\": [{\"marker\": {\"colorbar\": {\"outlinewidth\": 0, \"ticks\": \"\"}}, \"type\": \"scatterpolar\"}], \"scatterpolargl\": [{\"marker\": {\"colorbar\": {\"outlinewidth\": 0, \"ticks\": \"\"}}, \"type\": \"scatterpolargl\"}], \"scatterternary\": [{\"marker\": {\"colorbar\": {\"outlinewidth\": 0, \"ticks\": \"\"}}, \"type\": \"scatterternary\"}], \"surface\": [{\"colorbar\": {\"outlinewidth\": 0, \"ticks\": \"\"}, \"colorscale\": [[0.0, \"#0d0887\"], [0.1111111111111111, \"#46039f\"], [0.2222222222222222, \"#7201a8\"], [0.3333333333333333, \"#9c179e\"], [0.4444444444444444, \"#bd3786\"], [0.5555555555555556, \"#d8576b\"], [0.6666666666666666, \"#ed7953\"], [0.7777777777777778, \"#fb9f3a\"], [0.8888888888888888, \"#fdca26\"], [1.0, \"#f0f921\"]], \"type\": \"surface\"}], \"table\": [{\"cells\": {\"fill\": {\"color\": \"#EBF0F8\"}, \"line\": {\"color\": \"white\"}}, \"header\": {\"fill\": {\"color\": \"#C8D4E3\"}, \"line\": {\"color\": \"white\"}}, \"type\": \"table\"}]}, \"layout\": {\"annotationdefaults\": {\"arrowcolor\": \"#2a3f5f\", \"arrowhead\": 0, \"arrowwidth\": 1}, \"autotypenumbers\": \"strict\", \"coloraxis\": {\"colorbar\": {\"outlinewidth\": 0, \"ticks\": \"\"}}, \"colorscale\": {\"diverging\": [[0, \"#8e0152\"], [0.1, \"#c51b7d\"], [0.2, \"#de77ae\"], [0.3, \"#f1b6da\"], [0.4, \"#fde0ef\"], [0.5, \"#f7f7f7\"], [0.6, \"#e6f5d0\"], [0.7, \"#b8e186\"], [0.8, \"#7fbc41\"], [0.9, \"#4d9221\"], [1, \"#276419\"]], \"sequential\": [[0.0, \"#0d0887\"], [0.1111111111111111, \"#46039f\"], [0.2222222222222222, \"#7201a8\"], [0.3333333333333333, \"#9c179e\"], [0.4444444444444444, \"#bd3786\"], [0.5555555555555556, \"#d8576b\"], [0.6666666666666666, \"#ed7953\"], [0.7777777777777778, \"#fb9f3a\"], [0.8888888888888888, \"#fdca26\"], [1.0, \"#f0f921\"]], \"sequentialminus\": [[0.0, \"#0d0887\"], [0.1111111111111111, \"#46039f\"], [0.2222222222222222, \"#7201a8\"], [0.3333333333333333, \"#9c179e\"], [0.4444444444444444, \"#bd3786\"], [0.5555555555555556, \"#d8576b\"], [0.6666666666666666, \"#ed7953\"], [0.7777777777777778, \"#fb9f3a\"], [0.8888888888888888, \"#fdca26\"], [1.0, \"#f0f921\"]]}, \"colorway\": [\"#636efa\", \"#EF553B\", \"#00cc96\", \"#ab63fa\", \"#FFA15A\", \"#19d3f3\", \"#FF6692\", \"#B6E880\", \"#FF97FF\", \"#FECB52\"], \"font\": {\"color\": \"#2a3f5f\"}, \"geo\": {\"bgcolor\": \"white\", \"lakecolor\": \"white\", \"landcolor\": \"#E5ECF6\", \"showlakes\": true, \"showland\": true, \"subunitcolor\": \"white\"}, \"hoverlabel\": {\"align\": \"left\"}, \"hovermode\": \"closest\", \"mapbox\": {\"style\": \"light\"}, \"paper_bgcolor\": \"white\", \"plot_bgcolor\": \"#E5ECF6\", \"polar\": {\"angularaxis\": {\"gridcolor\": \"white\", \"linecolor\": \"white\", \"ticks\": \"\"}, \"bgcolor\": \"#E5ECF6\", \"radialaxis\": {\"gridcolor\": \"white\", \"linecolor\": \"white\", \"ticks\": \"\"}}, \"scene\": {\"xaxis\": {\"backgroundcolor\": \"#E5ECF6\", \"gridcolor\": \"white\", \"gridwidth\": 2, \"linecolor\": \"white\", \"showbackground\": true, \"ticks\": \"\", \"zerolinecolor\": \"white\"}, \"yaxis\": {\"backgroundcolor\": \"#E5ECF6\", \"gridcolor\": \"white\", \"gridwidth\": 2, \"linecolor\": \"white\", \"showbackground\": true, \"ticks\": \"\", \"zerolinecolor\": \"white\"}, \"zaxis\": {\"backgroundcolor\": \"#E5ECF6\", \"gridcolor\": \"white\", \"gridwidth\": 2, \"linecolor\": \"white\", \"showbackground\": true, \"ticks\": \"\", \"zerolinecolor\": \"white\"}}, \"shapedefaults\": {\"line\": {\"color\": \"#2a3f5f\"}}, \"ternary\": {\"aaxis\": {\"gridcolor\": \"white\", \"linecolor\": \"white\", \"ticks\": \"\"}, \"baxis\": {\"gridcolor\": \"white\", \"linecolor\": \"white\", \"ticks\": \"\"}, \"bgcolor\": \"#E5ECF6\", \"caxis\": {\"gridcolor\": \"white\", \"linecolor\": \"white\", \"ticks\": \"\"}}, \"title\": {\"x\": 0.05}, \"xaxis\": {\"automargin\": true, \"gridcolor\": \"white\", \"linecolor\": \"white\", \"ticks\": \"\", \"title\": {\"standoff\": 15}, \"zerolinecolor\": \"white\", \"zerolinewidth\": 2}, \"yaxis\": {\"automargin\": true, \"gridcolor\": \"white\", \"linecolor\": \"white\", \"ticks\": \"\", \"title\": {\"standoff\": 15}, \"zerolinecolor\": \"white\", \"zerolinewidth\": 2}}}, \"xaxis\": {\"anchor\": \"y\", \"domain\": [0.0, 1.0], \"title\": {\"text\": \"x\"}}, \"yaxis\": {\"anchor\": \"x\", \"domain\": [0.0, 1.0], \"title\": {\"text\": \"accuracy\"}}},                        {\"responsive\": true}                    ).then(function(){\n",
       "                            \n",
       "var gd = document.getElementById('c9a48625-df36-41aa-8baa-77342aa18c0a');\n",
       "var x = new MutationObserver(function (mutations, observer) {{\n",
       "        var display = window.getComputedStyle(gd).display;\n",
       "        if (!display || display === 'none') {{\n",
       "            console.log([gd, 'removed!']);\n",
       "            Plotly.purge(gd);\n",
       "            observer.disconnect();\n",
       "        }}\n",
       "}});\n",
       "\n",
       "// Listen for the removal of the full notebook cells\n",
       "var notebookContainer = gd.closest('#notebook-container');\n",
       "if (notebookContainer) {{\n",
       "    x.observe(notebookContainer, {childList: true});\n",
       "}}\n",
       "\n",
       "// Listen for the clearing of the current output cell\n",
       "var outputEl = gd.closest('.output');\n",
       "if (outputEl) {{\n",
       "    x.observe(outputEl, {childList: true});\n",
       "}}\n",
       "\n",
       "                        })                };                });            </script>        </div>"
      ]
     },
     "metadata": {},
     "output_type": "display_data"
    }
   ],
   "source": [
    "# fig_1 = px.scatter(x=a['time'], y=a['accuracy'], color= \"method\")\n",
    "# fig_1.show()\n",
    "\n",
    "fig_1 = px.scatter(df, x=pd.to_datetime(df['time']).astype(int), \n",
    "                   y='accuracy', color=\"method\",\n",
    "                 size='accuracy')\n",
    "fig_1.show()"
   ]
  },
  {
   "cell_type": "code",
   "execution_count": null,
   "id": "common-mercury",
   "metadata": {},
   "outputs": [],
   "source": []
  }
 ],
 "metadata": {
  "kernelspec": {
   "display_name": "Python 3",
   "language": "python",
   "name": "python3"
  },
  "language_info": {
   "codemirror_mode": {
    "name": "ipython",
    "version": 3
   },
   "file_extension": ".py",
   "mimetype": "text/x-python",
   "name": "python",
   "nbconvert_exporter": "python",
   "pygments_lexer": "ipython3",
   "version": "3.8.0"
  }
 },
 "nbformat": 4,
 "nbformat_minor": 5
}