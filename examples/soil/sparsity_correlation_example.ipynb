{
 "cells": [
  {
   "cell_type": "code",
   "execution_count": null,
   "id": "beccf8f7",
   "metadata": {},
   "outputs": [],
   "source": [
    "import os\n",
    "\n",
    "import numpy as np\n",
    "import pandas as pd\n",
    "\n",
    "import seaborn as sns\n",
    "import matplotlib.pyplot as plt\n",
    "from scipy import stats\n",
    "\n",
    "from gglasso.helper.utils import sparsity, zero_replacement, normalize, log_transform\n",
    "from gglasso.problem import glasso_problem\n",
    "\n",
    "from numpy.linalg import matrix_rank"
   ]
  },
  {
   "cell_type": "code",
   "execution_count": null,
   "id": "84c89ac6",
   "metadata": {},
   "outputs": [],
   "source": [
    "soil = pd.read_csv('data/soil/soil_116.csv', sep=',', index_col = 0).T\n",
    "soil.shape"
   ]
  },
  {
   "cell_type": "code",
   "execution_count": null,
   "id": "ce80d139",
   "metadata": {},
   "outputs": [],
   "source": [
    "soil_0 = soil.replace(1, 0)\n",
    "soil_0_norm = round(soil_0.sum()/89, 2)\n",
    "soil_0_norm.shape"
   ]
  },
  {
   "cell_type": "code",
   "execution_count": null,
   "id": "ba81e78f",
   "metadata": {},
   "outputs": [],
   "source": [
    "gg_lowrank = pd.read_csv(\"data/soil/gg_lr2.csv\", sep=\",\", header=None)"
   ]
  },
  {
   "cell_type": "code",
   "execution_count": null,
   "id": "bbd45945",
   "metadata": {},
   "outputs": [],
   "source": [
    "gg_rank = matrix_rank(gg_lowrank)\n",
    "gg_rank"
   ]
  },
  {
   "cell_type": "code",
   "execution_count": null,
   "id": "26337170",
   "metadata": {},
   "outputs": [],
   "source": [
    "def robust_PCA(X, L, inverse=True):\n",
    "    sig, V = np.linalg.eigh(L)\n",
    "    ind = np.argwhere(sig > 1e-9)\n",
    "\n",
    "    if inverse:\n",
    "        loadings = V[:,ind] @ np.diag(np.sqrt(1/sig[ind]))\n",
    "    else:\n",
    "        loadings = V[:,ind] @ np.diag(np.sqrt(sig[ind]))\n",
    "\n",
    "    zu = X.values.T @ loadings\n",
    "    \n",
    "    return zu, loadings"
   ]
  },
  {
   "cell_type": "code",
   "execution_count": null,
   "id": "e7a2e593",
   "metadata": {},
   "outputs": [],
   "source": [
    "zu_gg, gg_loadings = robust_PCA(X, gg_lowrank, inverse=True)"
   ]
  },
  {
   "cell_type": "code",
   "execution_count": null,
   "id": "b0bcc945",
   "metadata": {},
   "outputs": [],
   "source": [
    "zu_gg.shape, soil_0_norm.shape"
   ]
  },
  {
   "cell_type": "code",
   "execution_count": null,
   "id": "6bf30b72",
   "metadata": {},
   "outputs": [],
   "source": [
    "for i in range(gg_rank):\n",
    "    plt.scatter(zu_gg[:,i], soil_0_norm)\n",
    "    plt.xlabel(f\"PCA component {i+1}\")\n",
    "    plt.ylabel(\"% of non-zero entries\")\n",
    "    plt.savefig('sparsity_soil{0}.png'.format(i+1))\n",
    "    plt.show()"
   ]
  },
  {
   "cell_type": "code",
   "execution_count": null,
   "id": "a9b9ec38",
   "metadata": {},
   "outputs": [],
   "source": [
    "for i in range(0, gg_rank):\n",
    "    print(\"Spearman correlation between % of non-zero entries and {0}th component: {1}, p-value: {2}\".format(i+1, stats.spearmanr(ph, zu_gg[:,i])[0], \n",
    "                                                                              stats.spearmanr(ph, zu_gg[:,i])[1]))"
   ]
  }
 ],
 "metadata": {
  "kernelspec": {
   "display_name": "Python 3",
   "language": "python",
   "name": "python3"
  },
  "language_info": {
   "codemirror_mode": {
    "name": "ipython",
    "version": 3
   },
   "file_extension": ".py",
   "mimetype": "text/x-python",
   "name": "python",
   "nbconvert_exporter": "python",
   "pygments_lexer": "ipython3",
   "version": "3.8.8"
  }
 },
 "nbformat": 4,
 "nbformat_minor": 5
}
