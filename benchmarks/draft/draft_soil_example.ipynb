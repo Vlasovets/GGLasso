{
 "cells": [
  {
   "cell_type": "code",
   "execution_count": null,
   "id": "dense-development",
   "metadata": {},
   "outputs": [],
   "source": [
    "import os\n",
    "os.chdir(os.path.pardir)\n",
    "\n",
    "import numpy as np\n",
    "import pandas as pd\n",
    "\n",
    "import networkx as nx\n",
    "import matplotlib.pyplot as plt\n",
    "\n",
    "from gglasso.helper.data_generation import group_power_network, sample_covariance_matrix\n",
    "from gglasso.helper.basic_linalg import adjacency_matrix\n",
    "from gglasso.helper.utils import sparsity, zero_replacement, normalize, log_transform\n",
    "\n",
    "from gglasso.problem import glasso_problem\n",
    "\n",
    "from tempfile import TemporaryFile\n",
    "\n",
    "from numpy.linalg import matrix_rank\n",
    "from sklearn.decomposition import PCA\n",
    "from scipy import stats\n",
    "import plotly.express as px"
   ]
  },
  {
   "cell_type": "markdown",
   "id": "joined-compound",
   "metadata": {},
   "source": [
    "# Import preprocessed soil data"
   ]
  },
  {
   "cell_type": "code",
   "execution_count": null,
   "id": "convinced-freeware",
   "metadata": {},
   "outputs": [],
   "source": [
    "soil = pd.read_table('data/soil/soil_116.csv', sep=',')\n",
    "soil.head()"
   ]
  },
  {
   "cell_type": "code",
   "execution_count": null,
   "id": "sacred-treat",
   "metadata": {},
   "outputs": [],
   "source": [
    "soil_2 = pd.read_table('data/soil/soil_id_116.csv', sep=',')\n",
    "soil_2['SampleID'] = soil_2.iloc[:,0]\n",
    "soil_2 = soil_2.set_index(['SampleID'])\n",
    "soil_2 = soil_2.drop(['Unnamed: 0'], axis=1)\n",
    "soil_2.head()"
   ]
  },
  {
   "cell_type": "code",
   "execution_count": null,
   "id": "velvet-upgrade",
   "metadata": {},
   "outputs": [],
   "source": [
    "np.all(np.array(soil_2) == np.array(soil))"
   ]
  },
  {
   "cell_type": "markdown",
   "id": "nominated-sphere",
   "metadata": {},
   "source": [
    "# Import ph"
   ]
  },
  {
   "cell_type": "code",
   "execution_count": null,
   "id": "trying-costume",
   "metadata": {},
   "outputs": [],
   "source": [
    "metadata = pd.read_table('data/soil/88soils_modified_metadata.txt', index_col=0)"
   ]
  },
  {
   "cell_type": "code",
   "execution_count": null,
   "id": "religious-malta",
   "metadata": {},
   "outputs": [],
   "source": [
    "ph = metadata[\"ph\"]\n",
    "ph = ph.reindex(soil_2.index)\n",
    "ph.head()"
   ]
  },
  {
   "cell_type": "markdown",
   "id": "informative-madrid",
   "metadata": {},
   "source": [
    "Compare the dataset from SPIEC-EASI and with the data from our example"
   ]
  },
  {
   "cell_type": "code",
   "execution_count": null,
   "id": "finished-pittsburgh",
   "metadata": {},
   "outputs": [],
   "source": [
    "test_1 = pd.read_table('data/soil/soil_116.csv', sep=',')\n",
    "test_2 = pd.read_table('data/soil/spieceasi_soil_116.csv', sep=',')"
   ]
  },
  {
   "cell_type": "code",
   "execution_count": null,
   "id": "veterinary-nevada",
   "metadata": {},
   "outputs": [],
   "source": [
    "a = test_1.columns\n",
    "b = test_2.columns[1:]\n",
    "a == b"
   ]
  },
  {
   "cell_type": "markdown",
   "id": "western-court",
   "metadata": {},
   "source": [
    "# Log-transform"
   ]
  },
  {
   "cell_type": "code",
   "execution_count": null,
   "id": "arranged-configuration",
   "metadata": {},
   "outputs": [],
   "source": [
    "X_soil = np.array(soil_2)\n",
    "X_soil.shape"
   ]
  },
  {
   "cell_type": "code",
   "execution_count": null,
   "id": "approved-settle",
   "metadata": {},
   "outputs": [],
   "source": [
    "X = normalize(X_soil.T)\n",
    "X.shape"
   ]
  },
  {
   "cell_type": "markdown",
   "id": "integral-target",
   "metadata": {},
   "source": [
    "Note: X is scaled with geometric mean, and should be a dataframe of form (p,N)"
   ]
  },
  {
   "cell_type": "code",
   "execution_count": null,
   "id": "respective-yellow",
   "metadata": {},
   "outputs": [],
   "source": [
    "X = log_transform(pd.DataFrame(X))\n",
    "X.shape"
   ]
  },
  {
   "cell_type": "markdown",
   "id": "private-methodology",
   "metadata": {},
   "source": [
    "# Calculate covariance and scale to correlations"
   ]
  },
  {
   "cell_type": "code",
   "execution_count": null,
   "id": "junior-press",
   "metadata": {},
   "outputs": [],
   "source": [
    "S0 = np.cov(X.values, bias = True)"
   ]
  },
  {
   "cell_type": "code",
   "execution_count": null,
   "id": "multiple-diary",
   "metadata": {},
   "outputs": [],
   "source": [
    "# scale covariances to correlations\n",
    "scale = np.tile(np.sqrt(np.diag(S0)),(S0.shape[0],1))\n",
    "scale = scale.T * scale\n",
    "\n",
    "S = S0 / scale\n",
    "S.shape"
   ]
  },
  {
   "cell_type": "markdown",
   "id": "disabled-trace",
   "metadata": {},
   "source": [
    "# GGLasso problem"
   ]
  },
  {
   "cell_type": "markdown",
   "id": "established-label",
   "metadata": {},
   "source": [
    "Hyperparameters are taken from the experiments with [SpiecEasi](https://github.com/zdk123/SpiecEasi)"
   ]
  },
  {
   "cell_type": "markdown",
   "id": "perfect-chapter",
   "metadata": {},
   "source": [
    "Gamma value for eBIC. Should be between 0 and 1. The larger gamma, the more eBIC tends to pick sparse solutions. The default is 0.1."
   ]
  },
  {
   "cell_type": "code",
   "execution_count": null,
   "id": "headed-norman",
   "metadata": {},
   "outputs": [],
   "source": [
    "# lambda1_range = [1.14221314, 1.03975454, 0.94648667, 0.86158509, 0.78429934, 0.71394626, 0.64990398,\n",
    "#                  0.59160641, 0.53853823, 0.49023037, 0.44625582, 0.40622586, 0.36978666, 0.33661612, \n",
    "#                  0.30642104, 0.27893451, 0.25391358, 0.23113707, 0.21040365, 0.19153006, 0.17434947,\n",
    "#                  0.15871000, 0.14447343, 0.13151390, 0.11971686, 0.10897804, 0.09920251, 0.09030386,\n",
    "#                  0.08220344, 0.07482964, 0.06811729, 0.06200704, 0.05644490, 0.05138169, 0.04677266,\n",
    "#                  0.04257707, 0.03875783, 0.03528118, 0.03211639, 0.02923549, 0.02661302, 0.02422578,\n",
    "#                  0.02205268, 0.02007452, 0.01827380, 0.01663460, 0.01514245, 0.01378414, 0.01254768, 0.01142213]\n",
    "\n",
    "# mu1_range = np.linspace(0.01, 1.14, num=10)\n",
    "\n",
    "# modelselect_params = {'lambda1_range': lambda1_range, 'mu1_range': mu1_range}\n",
    "\n",
    "# P.model_selection(modelselect_params = modelselect_params, method = 'eBIC', gamma = 1)\n",
    "\n",
    "# # regularization parameters are set to the best ones found during model selection\n",
    "# print(P.reg_params)"
   ]
  },
  {
   "cell_type": "markdown",
   "id": "undefined-collection",
   "metadata": {},
   "source": [
    "Optimal lambda=0.86158509, mu = 1.14"
   ]
  },
  {
   "cell_type": "markdown",
   "id": "revised-working",
   "metadata": {},
   "source": [
    "STARS selects optimal lambda = 0.14447343 (index 23)"
   ]
  },
  {
   "cell_type": "code",
   "execution_count": null,
   "id": "institutional-symphony",
   "metadata": {},
   "outputs": [],
   "source": [
    "P_1 = glasso_problem(S, X.shape[1], latent = True, do_scaling = False)\n",
    "\n",
    "print(P_1)\n",
    "\n",
    "lambda1_range = [0.14447343]\n",
    "mu1_range = [2.36]\n",
    "\n",
    "\n",
    "modelselect_params = {'lambda1_range': lambda1_range, 'mu1_range': mu1_range}\n",
    "\n",
    "P_1.model_selection(modelselect_params = modelselect_params, method = 'eBIC', gamma = 0.25)\n",
    "\n",
    "# regularization parameters are set to the best ones found during model selection\n",
    "print(P_1.reg_params)"
   ]
  },
  {
   "cell_type": "code",
   "execution_count": null,
   "id": "indonesian-penguin",
   "metadata": {},
   "outputs": [],
   "source": [
    "P_1.modelselect_stats"
   ]
  },
  {
   "cell_type": "markdown",
   "id": "excellent-boutique",
   "metadata": {},
   "source": [
    "Optimal lambda=0.2154434690031884, mu = 6.579332246575681"
   ]
  },
  {
   "cell_type": "code",
   "execution_count": null,
   "id": "solid-bulgaria",
   "metadata": {},
   "outputs": [],
   "source": [
    "print('Rank of low-rank component: {0}'.format(matrix_rank(P_1.solution.lowrank_)))"
   ]
  },
  {
   "cell_type": "code",
   "execution_count": null,
   "id": "functional-bouquet",
   "metadata": {},
   "outputs": [],
   "source": [
    "# np.savetxt(\"/Users/oleg.vlasovetc/Downloads/gglasso_lr.csv\", P_1.solution.lowrank_, delimiter=\",\")"
   ]
  },
  {
   "cell_type": "code",
   "execution_count": null,
   "id": "interesting-demand",
   "metadata": {},
   "outputs": [],
   "source": [
    "%ls"
   ]
  },
  {
   "cell_type": "markdown",
   "id": "attractive-zambia",
   "metadata": {},
   "source": [
    "### SPIEC-EASI"
   ]
  },
  {
   "cell_type": "code",
   "execution_count": null,
   "id": "later-attack",
   "metadata": {},
   "outputs": [],
   "source": [
    "import pyreadr"
   ]
  },
  {
   "cell_type": "code",
   "execution_count": null,
   "id": "dynamic-cuisine",
   "metadata": {},
   "outputs": [],
   "source": [
    "result = pyreadr.read_r('/Users/oleg.vlasovetc/Downloads/r6.rds') # also works for Rds"
   ]
  },
  {
   "cell_type": "code",
   "execution_count": null,
   "id": "annual-documentation",
   "metadata": {},
   "outputs": [],
   "source": [
    "SE_lowrank6 = result[None]\n",
    "SE_lowrank = np.array(SE_lowrank6)\n",
    "SE_lowrank.shape"
   ]
  },
  {
   "cell_type": "code",
   "execution_count": null,
   "id": "false-boutique",
   "metadata": {},
   "outputs": [],
   "source": [
    "gg_lowrank = P_1.solution.lowrank_\n",
    "gg_lowrank.shape"
   ]
  },
  {
   "cell_type": "code",
   "execution_count": null,
   "id": "automotive-hampshire",
   "metadata": {},
   "outputs": [],
   "source": [
    "# pd.DataFrame(data=(SE_lowrank-gg_lowrank))\n",
    "np.allclose(SE_lowrank, gg_lowrank, atol=1e-01)"
   ]
  },
  {
   "cell_type": "markdown",
   "id": "focal-filling",
   "metadata": {},
   "source": [
    "### Robust PCA"
   ]
  },
  {
   "cell_type": "code",
   "execution_count": null,
   "id": "african-heath",
   "metadata": {},
   "outputs": [],
   "source": [
    "# def robust_PCA(X, L, inverse=True):\n",
    "# #     assert L is symmetric and p-dimensional\n",
    "#     #SVD\n",
    "    \n",
    "#     v_tilde, sigma, v_tilde_T  = np.linalg.svd(L, full_matrices=True)\n",
    "    \n",
    "#     rank = np.linalg.matrix_rank(L)\n",
    "#     sigma_basis = sigma[sigma > 1e-9]\n",
    "# #     rank == len(sigma_basis)\n",
    "#     sigma_diag = np.diag(sigma_basis)\n",
    "#     if inverse:\n",
    "#         sigma_diag = np.linalg.inv(sigma_diag)\n",
    "    \n",
    "#     loading = []\n",
    "#     for i in range(0,len(sigma_basis)):\n",
    "#         loading.append(v_tilde[:, i] * np.sqrt(sigma_diag[i,i]))\n",
    "\n",
    "#     zu = X.T @ np.array(loading).T\n",
    "#     return zu"
   ]
  },
  {
   "cell_type": "code",
   "execution_count": null,
   "id": "helpful-facility",
   "metadata": {},
   "outputs": [],
   "source": [
    "def robust_PCA(X, L, inverse=True):\n",
    "    #SVD of low-rank component\n",
    "    v_tilde, sigma, v_tilde_T  = np.linalg.svd(L, full_matrices=True)\n",
    "    \n",
    "    sigma_basis = sigma[sigma > 1e-9]\n",
    "    rank = len(sigma_basis)\n",
    "    sigma_diag = np.diag(sigma_basis)\n",
    "    \n",
    "    if inverse:\n",
    "        sigma_diag = np.linalg.inv(sigma_diag)\n",
    "        \n",
    "    loading = []\n",
    "    for i in range(0, rank):\n",
    "        loading.append(v_tilde[:, i] * np.sqrt(sigma_diag[i,i]))\n",
    "\n",
    "    zu = X.T @ np.array(loading).T\n",
    "    return zu"
   ]
  },
  {
   "cell_type": "code",
   "execution_count": null,
   "id": "dried-punishment",
   "metadata": {},
   "outputs": [],
   "source": [
    "robust_PCA(X, SE_lowrank, inverse=True)"
   ]
  },
  {
   "cell_type": "code",
   "execution_count": null,
   "id": "national-parks",
   "metadata": {},
   "outputs": [],
   "source": [
    "zu_SE = robust_PCA(X, SE_lowrank, inverse=True)"
   ]
  },
  {
   "cell_type": "code",
   "execution_count": null,
   "id": "european-gender",
   "metadata": {},
   "outputs": [],
   "source": [
    "zu_SE.shape, new_ph.shape"
   ]
  },
  {
   "cell_type": "code",
   "execution_count": null,
   "id": "immediate-longer",
   "metadata": {},
   "outputs": [],
   "source": [
    "new_depth.values"
   ]
  },
  {
   "cell_type": "code",
   "execution_count": null,
   "id": "crude-registration",
   "metadata": {},
   "outputs": [],
   "source": [
    "import plotly.express as px\n",
    "fig = px.scatter(zu_SE, x=zu_SE.iloc[:,0], y=new_ph, color=new_depth)\n",
    "fig.show()"
   ]
  },
  {
   "cell_type": "code",
   "execution_count": null,
   "id": "ruled-spell",
   "metadata": {},
   "outputs": [],
   "source": [
    "for i in range(0, 6):\n",
    "    plt.scatter(zu_SE[i], new_ph)\n",
    "    plt.xlabel(\"Learned low-rank PCA component\")\n",
    "    plt.ylabel(\"pH\")\n",
    "    plt.legend(loc='upper left')\n",
    "    plt.show()"
   ]
  },
  {
   "cell_type": "markdown",
   "id": "classical-backup",
   "metadata": {},
   "source": [
    "$L = V \\times \\Sigma^{-1} \\times V^T$"
   ]
  },
  {
   "cell_type": "markdown",
   "id": "utility-ethiopia",
   "metadata": {},
   "source": [
    "$L^{-1}$"
   ]
  },
  {
   "cell_type": "code",
   "execution_count": null,
   "id": "computational-chair",
   "metadata": {},
   "outputs": [],
   "source": [
    "P_1.solution.lowrank_"
   ]
  },
  {
   "cell_type": "markdown",
   "id": "alleged-portrait",
   "metadata": {},
   "source": [
    "$L^{-1} = (V \\times \\Sigma^{-1} \\times V^T)^{-1}$"
   ]
  },
  {
   "cell_type": "code",
   "execution_count": null,
   "id": "through-surveillance",
   "metadata": {},
   "outputs": [],
   "source": [
    "# v_tilde, sigma, v_tilde_T  = np.linalg.svd(P_1.solution.lowrank_, full_matrices=True)\n",
    "v_tilde, sigma, v_tilde_T  = np.linalg.svd(SE_lowrank, full_matrices=True)"
   ]
  },
  {
   "cell_type": "code",
   "execution_count": null,
   "id": "hazardous-formula",
   "metadata": {},
   "outputs": [],
   "source": [
    "v_tilde = v_tilde[:, :6]\n",
    "v_tilde.shape"
   ]
  },
  {
   "cell_type": "code",
   "execution_count": null,
   "id": "based-increase",
   "metadata": {},
   "outputs": [],
   "source": [
    "v_tilde_T_6 = v_tilde.T\n",
    "v_tilde_T_6.shape"
   ]
  },
  {
   "cell_type": "code",
   "execution_count": null,
   "id": "sensitive-bachelor",
   "metadata": {},
   "outputs": [],
   "source": [
    "sigma_diag = np.diag(sigma)"
   ]
  },
  {
   "cell_type": "code",
   "execution_count": null,
   "id": "violent-terrace",
   "metadata": {},
   "outputs": [],
   "source": [
    "sigma_diag_rank = sigma_diag[:6,:6]"
   ]
  },
  {
   "cell_type": "code",
   "execution_count": null,
   "id": "collect-specific",
   "metadata": {},
   "outputs": [],
   "source": [
    "pd.DataFrame(data = sigma_diag[:6,:6])"
   ]
  },
  {
   "cell_type": "code",
   "execution_count": null,
   "id": "distant-consolidation",
   "metadata": {},
   "outputs": [],
   "source": [
    "sigma_diag_rank_inv = np.linalg.inv(sigma_diag_rank)"
   ]
  },
  {
   "cell_type": "code",
   "execution_count": null,
   "id": "forbidden-traffic",
   "metadata": {},
   "outputs": [],
   "source": [
    "pd.DataFrame(data = sigma_diag_rank_inv)"
   ]
  },
  {
   "cell_type": "code",
   "execution_count": null,
   "id": "binary-evolution",
   "metadata": {},
   "outputs": [],
   "source": [
    "emp = []\n",
    "for i in range(0,6):\n",
    "    emp.append(v_tilde[:, i] * sigma_diag_rank_inv[i,i])"
   ]
  },
  {
   "cell_type": "code",
   "execution_count": null,
   "id": "featured-compact",
   "metadata": {},
   "outputs": [],
   "source": [
    "pd.DataFrame(data= np.array(emp).T)"
   ]
  },
  {
   "cell_type": "code",
   "execution_count": null,
   "id": "small-remains",
   "metadata": {},
   "outputs": [],
   "source": [
    "zu_1 = X.T @ np.array(emp).T"
   ]
  },
  {
   "cell_type": "code",
   "execution_count": null,
   "id": "light-water",
   "metadata": {},
   "outputs": [],
   "source": [
    "zu_1"
   ]
  },
  {
   "cell_type": "code",
   "execution_count": null,
   "id": "arranged-allah",
   "metadata": {},
   "outputs": [],
   "source": [
    "for i in range(0,6):\n",
    "    plt.scatter(zu_1[i], ph_1)\n",
    "    plt.xlabel(\"Learned low-rank PCA component\")\n",
    "    plt.ylabel(\"pH\")\n",
    "    plt.legend(loc='upper left')\n",
    "    plt.show()"
   ]
  },
  {
   "cell_type": "code",
   "execution_count": null,
   "id": "affecting-hydrogen",
   "metadata": {},
   "outputs": [],
   "source": [
    "for i in range(0,6):\n",
    "    print(\"Spearman correlation between pH and: {0}, p-value: {1}\".format(stats.spearmanr(ph_1, zu_1[i])[0], \n",
    "                                                                              stats.spearmanr(ph_1, zu_1[i])[1]))"
   ]
  },
  {
   "cell_type": "code",
   "execution_count": null,
   "id": "mobile-wonder",
   "metadata": {},
   "outputs": [],
   "source": [
    "emp_2 = []\n",
    "for i in range(0,6):\n",
    "    emp_2.append(v_tilde[:, i] * np.sqrt(sigma_diag_rank_inv[i,i]))"
   ]
  },
  {
   "cell_type": "code",
   "execution_count": null,
   "id": "related-purpose",
   "metadata": {},
   "outputs": [],
   "source": [
    "zu_2 = X.T @ np.array(emp_2).T"
   ]
  },
  {
   "cell_type": "code",
   "execution_count": null,
   "id": "opened-particle",
   "metadata": {},
   "outputs": [],
   "source": [
    "zu_2"
   ]
  },
  {
   "cell_type": "code",
   "execution_count": null,
   "id": "industrial-assist",
   "metadata": {},
   "outputs": [],
   "source": [
    "for i in range(0,6):\n",
    "    plt.scatter(zu_2[i], ph_1)\n",
    "    plt.xlabel(\"Learned low-rank PCA component\")\n",
    "    plt.ylabel(\"pH\")\n",
    "    plt.legend(loc='upper left')\n",
    "    plt.show()"
   ]
  },
  {
   "cell_type": "code",
   "execution_count": null,
   "id": "spatial-gothic",
   "metadata": {},
   "outputs": [],
   "source": [
    "for i in range(0,6):\n",
    "    print(\"Spearman correlation between pH: {0}, p-value: {1}\".format(stats.spearmanr(ph_1, zu_2[i])[0], \n",
    "                                                                              stats.spearmanr(ph_1, zu_2[i])[1]))"
   ]
  },
  {
   "cell_type": "markdown",
   "id": "thorough-lloyd",
   "metadata": {},
   "source": [
    "$C := cov(S)$\n",
    "\n",
    "$C := L^{-1};$"
   ]
  },
  {
   "cell_type": "code",
   "execution_count": null,
   "id": "grand-former",
   "metadata": {},
   "outputs": [],
   "source": [
    "v, s, vh  = np.linalg.svd(P_1.solution.lowrank_, full_matrices=True)\n",
    "v.shape, s.shape, vh.shape"
   ]
  },
  {
   "cell_type": "code",
   "execution_count": null,
   "id": "anonymous-hygiene",
   "metadata": {},
   "outputs": [],
   "source": [
    "np.diag(s) # singma-1"
   ]
  },
  {
   "cell_type": "code",
   "execution_count": null,
   "id": "widespread-egyptian",
   "metadata": {},
   "outputs": [],
   "source": [
    "pd.DataFrame(data = vh[:1, :])"
   ]
  },
  {
   "cell_type": "code",
   "execution_count": null,
   "id": "several-boutique",
   "metadata": {},
   "outputs": [],
   "source": [
    "pd.DataFrame(data = v[:, :6])"
   ]
  },
  {
   "cell_type": "code",
   "execution_count": null,
   "id": "assisted-cardiff",
   "metadata": {},
   "outputs": [],
   "source": [
    "v_low_rank = v[:, :6] #v tilda"
   ]
  },
  {
   "cell_type": "code",
   "execution_count": null,
   "id": "incident-preference",
   "metadata": {},
   "outputs": [],
   "source": [
    "for i in range(0,6):\n",
    "    np.sqrt(sd_vec) * v[:, :i]"
   ]
  },
  {
   "cell_type": "code",
   "execution_count": null,
   "id": "ranging-injury",
   "metadata": {},
   "outputs": [],
   "source": [
    "low_dec = X.T @ v_low_rank\n",
    "low_dec\n",
    "# np.array(low_dec).shape"
   ]
  },
  {
   "cell_type": "code",
   "execution_count": null,
   "id": "outside-integral",
   "metadata": {},
   "outputs": [],
   "source": [
    "pd.DataFrame(data = np.diag(s))\n",
    "sd_vec = np.sqrt(s[:6])\n",
    "sd_vec"
   ]
  },
  {
   "cell_type": "code",
   "execution_count": null,
   "id": "australian-still",
   "metadata": {},
   "outputs": [],
   "source": [
    "sd_vec[0]*np.array(low_dec)[:,1]"
   ]
  },
  {
   "cell_type": "code",
   "execution_count": null,
   "id": "million-constitutional",
   "metadata": {},
   "outputs": [],
   "source": [
    "for i in range(0,6):\n",
    "    plt.scatter(sd_vec[i]*np.array(low_dec)[:,i], ph_1)\n",
    "    plt.xlabel(\"Learned low-rank PCA component\")\n",
    "    plt.ylabel(\"pH\")\n",
    "    plt.legend(loc='upper left')\n",
    "    plt.show()"
   ]
  },
  {
   "cell_type": "markdown",
   "id": "centered-recommendation",
   "metadata": {},
   "source": [
    "s - vector of singular values in descending order"
   ]
  },
  {
   "cell_type": "code",
   "execution_count": null,
   "id": "elder-medication",
   "metadata": {},
   "outputs": [],
   "source": [
    "s_diag = np.diag(s)\n",
    "# pd.DataFrame(data=s_diag)"
   ]
  },
  {
   "cell_type": "markdown",
   "id": "little-november",
   "metadata": {},
   "source": [
    "Since $C = V \\times \\Sigma \\times V^{T}$ then $L = V \\times \\Sigma^{-1} \\times V^{T}$"
   ]
  },
  {
   "cell_type": "code",
   "execution_count": null,
   "id": "chronic-garden",
   "metadata": {},
   "outputs": [],
   "source": [
    "s_inv = np.linalg.inv(s_diag)"
   ]
  },
  {
   "cell_type": "code",
   "execution_count": null,
   "id": "uniform-median",
   "metadata": {},
   "outputs": [],
   "source": [
    "s_inv.shape, vh.shape"
   ]
  },
  {
   "cell_type": "markdown",
   "id": "favorite-declaration",
   "metadata": {},
   "source": [
    "$C := L^{-1}$ => $U^{-1} =\\sqrt{\\Sigma^{-1})} \\times V^{T}$ => $U =\\sqrt{\\Sigma^{-1})^{-1}} \\times V^{T}$"
   ]
  },
  {
   "cell_type": "code",
   "execution_count": null,
   "id": "detailed-barrel",
   "metadata": {},
   "outputs": [],
   "source": [
    "pd.DataFrame(data = np.sqrt(s_inv[:7, :7]))"
   ]
  },
  {
   "cell_type": "code",
   "execution_count": null,
   "id": "widespread-treasury",
   "metadata": {},
   "outputs": [],
   "source": [
    "u = np.sqrt(s_inv[:, :]) @ vh[:,:6]\n",
    "u.shape"
   ]
  },
  {
   "cell_type": "code",
   "execution_count": null,
   "id": "desperate-dependence",
   "metadata": {},
   "outputs": [],
   "source": [
    "v_low = vh[:,:6]"
   ]
  },
  {
   "cell_type": "code",
   "execution_count": null,
   "id": "familiar-ordering",
   "metadata": {},
   "outputs": [],
   "source": [
    "X.T.shape"
   ]
  },
  {
   "cell_type": "markdown",
   "id": "correct-retail",
   "metadata": {},
   "source": [
    "$ZU$ is $n \\times r$ matrix (89x6)"
   ]
  },
  {
   "cell_type": "code",
   "execution_count": null,
   "id": "obvious-timer",
   "metadata": {},
   "outputs": [],
   "source": [
    "zu = X.T @ u\n",
    "zu.shape"
   ]
  },
  {
   "cell_type": "code",
   "execution_count": null,
   "id": "absent-prisoner",
   "metadata": {},
   "outputs": [],
   "source": [
    "for i in range(0, 6):\n",
    "    plt.scatter(zu[i], ph_1)\n",
    "    plt.xlabel(\"Learned low-rank PCA component\")\n",
    "    plt.ylabel(\"pH\")\n",
    "    plt.legend(loc='upper left')\n",
    "    plt.show()"
   ]
  },
  {
   "cell_type": "code",
   "execution_count": null,
   "id": "assured-dayton",
   "metadata": {},
   "outputs": [],
   "source": [
    "P_1.solution.lowrank_.shape"
   ]
  },
  {
   "cell_type": "code",
   "execution_count": null,
   "id": "liquid-turtle",
   "metadata": {},
   "outputs": [],
   "source": [
    "X.T.shape, v.shape, s_inv[:, :6].shape"
   ]
  },
  {
   "cell_type": "code",
   "execution_count": null,
   "id": "motivated-giving",
   "metadata": {},
   "outputs": [],
   "source": [
    "u_1.shape"
   ]
  },
  {
   "cell_type": "code",
   "execution_count": null,
   "id": "spatial-affairs",
   "metadata": {},
   "outputs": [],
   "source": [
    "pd.DataFrame(data = s_inv[:6, :6])"
   ]
  },
  {
   "cell_type": "code",
   "execution_count": null,
   "id": "promising-miracle",
   "metadata": {},
   "outputs": [],
   "source": [
    "pd.DataFrame(data = v)"
   ]
  },
  {
   "cell_type": "code",
   "execution_count": null,
   "id": "close-violation",
   "metadata": {},
   "outputs": [],
   "source": [
    "v.shape"
   ]
  },
  {
   "cell_type": "code",
   "execution_count": null,
   "id": "identified-federal",
   "metadata": {},
   "outputs": [],
   "source": [
    "u_1 = v @ np.sqrt(s_inv[:, :6])\n",
    "zu_1 = X.T @ u_1\n",
    "zu_1.shape"
   ]
  },
  {
   "cell_type": "code",
   "execution_count": null,
   "id": "superior-louisiana",
   "metadata": {},
   "outputs": [],
   "source": [
    "np.corrcoef(ph_1, zu_1[2])"
   ]
  },
  {
   "cell_type": "code",
   "execution_count": null,
   "id": "homeless-mason",
   "metadata": {},
   "outputs": [],
   "source": [
    "for i in range(0, 6):\n",
    "    plt.scatter(zu_1[i], ph_1)\n",
    "    plt.xlabel(\"Learned low-rank PCA component\")\n",
    "    plt.ylabel(\"pH\")\n",
    "    plt.legend(loc='upper left')\n",
    "    plt.show()"
   ]
  },
  {
   "cell_type": "markdown",
   "id": "taken-privilege",
   "metadata": {},
   "source": [
    "## Low-dimensional representation of OTUs table"
   ]
  },
  {
   "cell_type": "code",
   "execution_count": null,
   "id": "hundred-summary",
   "metadata": {},
   "outputs": [],
   "source": [
    "pca = PCA(n_components=2)\n",
    "res = pca.fit_transform(P_1.solution.lowrank_)"
   ]
  },
  {
   "cell_type": "code",
   "execution_count": null,
   "id": "proprietary-terry",
   "metadata": {},
   "outputs": [],
   "source": [
    "print(\"{0}% of variance explained by PC1\".format(round(pca.explained_variance_ratio_[0]*100, 2)))\n",
    "print(\"{0}% of variance explained by PC1\".format(round(pca.explained_variance_ratio_[1]*100, 2)))\n",
    "print(\"Total variance explained by PC1 and PC2: {0}%\".format(round(pca.explained_variance_ratio_.sum() * 100, 2)))"
   ]
  },
  {
   "cell_type": "code",
   "execution_count": null,
   "id": "described-heating",
   "metadata": {},
   "outputs": [],
   "source": [
    "pc1 = np.inner(X.T, pca.components_[0])\n",
    "pc2 = np.inner(X.T, pca.components_[1])\n",
    "pc1.shape, pc2.shape"
   ]
  },
  {
   "cell_type": "code",
   "execution_count": null,
   "id": "wicked-covering",
   "metadata": {},
   "outputs": [],
   "source": [
    "plt.scatter(pc1, pc2, label=\"OTUs\")\n",
    "plt.xlabel(\"PC1\")\n",
    "plt.ylabel(\"PC2\")\n",
    "plt.legend(loc='upper left')\n",
    "plt.show()"
   ]
  },
  {
   "cell_type": "markdown",
   "id": "sunset-mitchell",
   "metadata": {},
   "source": [
    "## pH correlation"
   ]
  },
  {
   "cell_type": "code",
   "execution_count": null,
   "id": "outside-bruce",
   "metadata": {},
   "outputs": [],
   "source": [
    "ph_1 = np.array(ph).reshape(89,)\n",
    "ph_1.shape"
   ]
  },
  {
   "cell_type": "code",
   "execution_count": null,
   "id": "silent-madness",
   "metadata": {},
   "outputs": [],
   "source": [
    "print(\"Spearman correlation between pH and PC1: {0}, p-value: {1}\".format(stats.spearmanr(ph_1, pc1)[0], \n",
    "                                                                          stats.spearmanr(ph_1, pc1)[1]))\n",
    "\n",
    "print(\"Spearman correlation between pH and PC2: {0}, p-value: {1}\".format(stats.spearmanr(ph_1, pc2)[0], \n",
    "                                                                          stats.spearmanr(ph_1, pc2)[1]))\n"
   ]
  },
  {
   "cell_type": "code",
   "execution_count": null,
   "id": "invalid-wednesday",
   "metadata": {},
   "outputs": [],
   "source": [
    "np.corrcoef(ph_1, pc1)"
   ]
  },
  {
   "cell_type": "code",
   "execution_count": null,
   "id": "traditional-spider",
   "metadata": {},
   "outputs": [],
   "source": [
    "plt.scatter(ph_1, pc1, label=\"PC1_pH\")\n",
    "plt.xlabel(\"pH\")\n",
    "plt.ylabel(\"PC1\")\n",
    "plt.legend(loc='upper left')\n",
    "plt.show()"
   ]
  },
  {
   "cell_type": "code",
   "execution_count": null,
   "id": "seventh-motel",
   "metadata": {},
   "outputs": [],
   "source": [
    "plt.scatter(ph_1, pc2, label=\"PC2_pH\")\n",
    "plt.xlabel(\"pH\")\n",
    "plt.ylabel(\"PC1\")\n",
    "plt.legend(loc='upper left')\n",
    "plt.show()"
   ]
  },
  {
   "cell_type": "code",
   "execution_count": null,
   "id": "critical-kernel",
   "metadata": {},
   "outputs": [],
   "source": [
    "sol = P_1.solution.precision_\n",
    "P_1.solution.calc_adjacency()\n",
    "\n",
    "\n",
    "plt.figure()\n",
    "G1 = nx.from_numpy_array(P_1.solution.adjacency_)\n",
    "nx.draw_spring(G1, node_color = \"darkblue\", edge_color = \"darkblue\", font_color = 'white', with_labels = True)"
   ]
  },
  {
   "cell_type": "code",
   "execution_count": null,
   "id": "warming-locator",
   "metadata": {},
   "outputs": [],
   "source": [
    "np.save(\"optimal_sol\", sol)"
   ]
  }
 ],
 "metadata": {
  "kernelspec": {
   "display_name": "Python 3",
   "language": "python",
   "name": "python3"
  },
  "language_info": {
   "codemirror_mode": {
    "name": "ipython",
    "version": 3
   },
   "file_extension": ".py",
   "mimetype": "text/x-python",
   "name": "python",
   "nbconvert_exporter": "python",
   "pygments_lexer": "ipython3",
   "version": "3.8.0"
  }
 },
 "nbformat": 4,
 "nbformat_minor": 5
}
