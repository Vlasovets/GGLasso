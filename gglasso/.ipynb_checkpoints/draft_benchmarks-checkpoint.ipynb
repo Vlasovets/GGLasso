{
 "cells": [
  {
   "cell_type": "code",
   "execution_count": 2,
   "id": "tender-profit",
   "metadata": {},
   "outputs": [
    {
     "name": "stdout",
     "output_type": "stream",
     "text": [
      "Requirement already satisfied: numba==0.48 in /Users/oleg.vlasovetc/opt/anaconda3/envs/gglasso/lib/python3.8/site-packages (0.48.0)\r\n",
      "Requirement already satisfied: numpy>=1.15 in /Users/oleg.vlasovetc/opt/anaconda3/envs/gglasso/lib/python3.8/site-packages (from numba==0.48) (1.20.1)\r\n",
      "Requirement already satisfied: setuptools in /Users/oleg.vlasovetc/opt/anaconda3/envs/gglasso/lib/python3.8/site-packages (from numba==0.48) (52.0.0.post20210125)\r\n",
      "Requirement already satisfied: llvmlite<0.32.0,>=0.31.0dev0 in /Users/oleg.vlasovetc/opt/anaconda3/envs/gglasso/lib/python3.8/site-packages (from numba==0.48) (0.31.0)\r\n"
     ]
    }
   ],
   "source": [
    "!pip install numba==0.48"
   ]
  },
  {
   "cell_type": "code",
   "execution_count": 3,
   "id": "rural-thunder",
   "metadata": {},
   "outputs": [
    {
     "name": "stdout",
     "output_type": "stream",
     "text": [
      "Requirement already satisfied: regain in /Users/oleg.vlasovetc/opt/anaconda3/envs/gglasso/lib/python3.8/site-packages (0.2.3)\r\n"
     ]
    }
   ],
   "source": [
    "!pip install regain"
   ]
  },
  {
   "cell_type": "code",
   "execution_count": 4,
   "id": "liquid-positive",
   "metadata": {},
   "outputs": [],
   "source": [
    "%matplotlib inline\n",
    "import time\n",
    "import numpy as np\n",
    "import pandas as pd"
   ]
  },
  {
   "cell_type": "markdown",
   "id": "proprietary-lucas",
   "metadata": {},
   "source": [
    "# Sample data"
   ]
  },
  {
   "cell_type": "code",
   "execution_count": 5,
   "id": "inappropriate-speed",
   "metadata": {},
   "outputs": [],
   "source": [
    "X = np.array([[0.8, 0.0, 0.2, 0.0],\n",
    "                     [0.0, 0.4, 0.0, 0.0],\n",
    "                     [0.2, 0.0, 0.3, 0.1],\n",
    "                     [0.0, 0.0, 0.1, 0.7]])"
   ]
  },
  {
   "cell_type": "code",
   "execution_count": 6,
   "id": "entire-knife",
   "metadata": {},
   "outputs": [],
   "source": [
    "# np.random.seed(243)\n",
    "# X = np.random.multivariate_normal(mean=[0, 0, 0, 0], cov=true_cov, size=200)\n",
    "# X"
   ]
  },
  {
   "cell_type": "markdown",
   "id": "saved-signature",
   "metadata": {},
   "source": [
    "# Best model solution Z"
   ]
  },
  {
   "cell_type": "markdown",
   "id": "smooth-cotton",
   "metadata": {},
   "source": [
    "Assume found parameters with GridSearch"
   ]
  },
  {
   "cell_type": "code",
   "execution_count": 7,
   "id": "electronic-bubble",
   "metadata": {},
   "outputs": [],
   "source": [
    "import sys\n",
    "sys.path.append('..')\n",
    "# sys.path.append(sys.path[0] + \"/..\")\n",
    "\n",
    "from gglasso.solver.single_admm_solver import ADMM_SGL"
   ]
  },
  {
   "cell_type": "code",
   "execution_count": 10,
   "id": "municipal-stack",
   "metadata": {},
   "outputs": [],
   "source": [
    "Omega_0 = np.eye(len(X))\n",
    "lambda1 = 0.01"
   ]
  },
  {
   "cell_type": "code",
   "execution_count": 11,
   "id": "sharing-length",
   "metadata": {},
   "outputs": [
    {
     "ename": "TypeError",
     "evalue": "ADMM_SGL() got an unexpected keyword argument 'eps_admm'",
     "output_type": "error",
     "traceback": [
      "\u001b[0;31m--------------------------------------------------------------------------\u001b[0m",
      "\u001b[0;31mTypeError\u001b[0m                                Traceback (most recent call last)",
      "\u001b[0;32m<ipython-input-11-6807a1ce9579>\u001b[0m in \u001b[0;36m<module>\u001b[0;34m\u001b[0m\n\u001b[0;32m----> 1\u001b[0;31m \u001b[0msol\u001b[0m\u001b[0;34m,\u001b[0m \u001b[0minfo\u001b[0m \u001b[0;34m=\u001b[0m \u001b[0mADMM_SGL\u001b[0m\u001b[0;34m(\u001b[0m\u001b[0mX\u001b[0m\u001b[0;34m,\u001b[0m \u001b[0mlambda1\u001b[0m\u001b[0;34m,\u001b[0m \u001b[0mOmega_0\u001b[0m \u001b[0;34m,\u001b[0m \u001b[0meps_admm\u001b[0m \u001b[0;34m=\u001b[0m \u001b[0;36m1e-10\u001b[0m\u001b[0;34m,\u001b[0m \u001b[0mverbose\u001b[0m \u001b[0;34m=\u001b[0m \u001b[0;32mFalse\u001b[0m\u001b[0;34m,\u001b[0m \u001b[0mlatent\u001b[0m \u001b[0;34m=\u001b[0m \u001b[0;32mFalse\u001b[0m\u001b[0;34m)\u001b[0m\u001b[0;34m\u001b[0m\u001b[0;34m\u001b[0m\u001b[0m\n\u001b[0m",
      "\u001b[0;31mTypeError\u001b[0m: ADMM_SGL() got an unexpected keyword argument 'eps_admm'"
     ]
    }
   ],
   "source": [
    "sol, info = ADMM_SGL(X, lambda1, Omega_0 , tl = 1e-10, verbose = False, latent = False)"
   ]
  },
  {
   "cell_type": "code",
   "execution_count": null,
   "id": "destroyed-powder",
   "metadata": {},
   "outputs": [],
   "source": [
    "Z = np.array(sol[\"Theta\"])"
   ]
  },
  {
   "cell_type": "markdown",
   "id": "requested-humidity",
   "metadata": {},
   "source": [
    "# Import sklearn"
   ]
  },
  {
   "cell_type": "code",
   "execution_count": null,
   "id": "appreciated-auction",
   "metadata": {},
   "outputs": [],
   "source": [
    "from sklearn.covariance import GraphicalLasso\n",
    "from sklearn.covariance import empirical_covariance"
   ]
  },
  {
   "cell_type": "code",
   "execution_count": null,
   "id": "durable-credits",
   "metadata": {},
   "outputs": [],
   "source": [
    "tol_list = [1e-4, 1e-5, 1e-6, 1e-7]\n",
    "cov_list = []\n",
    "precision_list = []\n",
    "time_list = []\n",
    "for tol in tol_list:\n",
    "    start = time.time()\n",
    "    rg = GraphicalLasso(tol=tol, max_iter = 1000).fit(X)\n",
    "    end = time.time()\n",
    "    cov_list.append(rg.covariance_)\n",
    "    precision_list.append(rg.precision_)\n",
    "    time_list.append(end-start)"
   ]
  },
  {
   "cell_type": "code",
   "execution_count": null,
   "id": "express-professor",
   "metadata": {},
   "outputs": [],
   "source": [
    "accuracy_list = []\n",
    "for i in range(0, len(precision_list)):\n",
    "    accuracy = 1 - np.linalg.norm(Z - np.array(precision_list[i]))\n",
    "    accuracy_list.append(accuracy)"
   ]
  },
  {
   "cell_type": "code",
   "execution_count": null,
   "id": "embedded-beads",
   "metadata": {},
   "outputs": [],
   "source": [
    "method_list = [\"sklearn\"]*len(accuracy_list)"
   ]
  },
  {
   "cell_type": "code",
   "execution_count": null,
   "id": "english-straight",
   "metadata": {},
   "outputs": [],
   "source": [
    "df_sk = pd.DataFrame(data={'time': time_list, \n",
    "                           'accuracy': accuracy_list,\n",
    "                           'method':method_list})\n",
    "df_sk.head()"
   ]
  },
  {
   "cell_type": "markdown",
   "id": "artificial-visiting",
   "metadata": {},
   "source": [
    "# Import Regain GL"
   ]
  },
  {
   "cell_type": "code",
   "execution_count": null,
   "id": "stupid-sound",
   "metadata": {},
   "outputs": [],
   "source": [
    "from regain.covariance import GraphicalLasso\n",
    "#from regain.covariance.graphical_lasso_ import GraphicalLasso"
   ]
  },
  {
   "cell_type": "code",
   "execution_count": null,
   "id": "wrong-terrain",
   "metadata": {},
   "outputs": [],
   "source": [
    "tol_list = [1e-4, 1e-5, 1e-6, 1e-7]\n",
    "cov_list = []\n",
    "precision_list = []\n",
    "time_list = []\n",
    "for tol in tol_list:\n",
    "    start = time.time()\n",
    "    rg = GraphicalLasso(alpha=0.01, rho=1.,tol=tol, rtol=1e-7, max_iter=1000, verbose=False).fit(X)\n",
    "    end = time.time()\n",
    "    cov_list.append(rg.covariance_)\n",
    "    precision_list.append(rg.precision_)\n",
    "    time_list.append(end-start)"
   ]
  },
  {
   "cell_type": "code",
   "execution_count": null,
   "id": "caroline-greenhouse",
   "metadata": {},
   "outputs": [],
   "source": [
    "accuracy_list = []\n",
    "for i in range(0, len(precision_list)):\n",
    "    accuracy = 1 - np.linalg.norm(Z - np.array(precision_list[i]))\n",
    "    accuracy_list.append(accuracy)"
   ]
  },
  {
   "cell_type": "code",
   "execution_count": null,
   "id": "alert-invasion",
   "metadata": {},
   "outputs": [],
   "source": [
    "method_list = [\"regain\"]*len(accuracy_list)"
   ]
  },
  {
   "cell_type": "code",
   "execution_count": null,
   "id": "round-needle",
   "metadata": {},
   "outputs": [],
   "source": [
    "df_rg = pd.DataFrame(data={'time': time_list, \n",
    "                           'accuracy': accuracy_list,\n",
    "                           'method':method_list})\n",
    "df_rg.head()"
   ]
  },
  {
   "cell_type": "markdown",
   "id": "circular-thread",
   "metadata": {},
   "source": [
    "# Import ADMM SGL"
   ]
  },
  {
   "cell_type": "code",
   "execution_count": null,
   "id": "portuguese-conditions",
   "metadata": {},
   "outputs": [],
   "source": [
    "#from helper.data_generation import time_varying_power_network, group_power_network, sample_covariance_matrix"
   ]
  },
  {
   "cell_type": "code",
   "execution_count": null,
   "id": "boring-moore",
   "metadata": {},
   "outputs": [],
   "source": [
    "import sys\n",
    "sys.path.append('..')\n",
    "# sys.path.append(sys.path[0] + \"/..\")\n",
    "\n",
    "from gglasso.solver.single_admm_solver import ADMM_SGL"
   ]
  },
  {
   "cell_type": "code",
   "execution_count": null,
   "id": "stuck-newport",
   "metadata": {},
   "outputs": [],
   "source": [
    "Omega_0 = np.eye(X.shape[0])\n",
    "lambda1 = 0.01"
   ]
  },
  {
   "cell_type": "code",
   "execution_count": null,
   "id": "acoustic-occupation",
   "metadata": {},
   "outputs": [],
   "source": [
    "tol_list = [1e-4, 1e-5, 1e-6, 1e-7]\n",
    "cov_list = []\n",
    "precision_list = []\n",
    "time_list = []\n",
    "for tol in tol_list:\n",
    "    start = time.time()\n",
    "    sol, info = ADMM_SGL(X, lambda1, Omega_0 , eps_admm = tol, verbose = False, latent = False)\n",
    "    end = time.time()\n",
    "    cov_list.append(sol['Omega'])\n",
    "    precision_list.append(sol['Theta'])\n",
    "    time_list.append(end-start)"
   ]
  },
  {
   "cell_type": "code",
   "execution_count": null,
   "id": "visible-recruitment",
   "metadata": {},
   "outputs": [],
   "source": [
    "accuracy_list = []\n",
    "for i in range(0, len(precision_list)):\n",
    "    accuracy = 1 - np.linalg.norm(Z - np.array(precision_list[i]))\n",
    "    accuracy_list.append(accuracy)"
   ]
  },
  {
   "cell_type": "code",
   "execution_count": null,
   "id": "recognized-female",
   "metadata": {},
   "outputs": [],
   "source": [
    "method_list = [\"admm\"]*len(accuracy_list)"
   ]
  },
  {
   "cell_type": "code",
   "execution_count": null,
   "id": "logical-courtesy",
   "metadata": {},
   "outputs": [],
   "source": [
    "df_admm = pd.DataFrame(data={'time': time_list, \n",
    "                             'accuracy': accuracy_list,\n",
    "                             'method':method_list})\n",
    "df_admm.head()"
   ]
  },
  {
   "cell_type": "markdown",
   "id": "piano-disability",
   "metadata": {},
   "source": [
    "# Plotting"
   ]
  },
  {
   "cell_type": "code",
   "execution_count": null,
   "id": "intensive-mercy",
   "metadata": {},
   "outputs": [],
   "source": [
    "# !pip install plotly"
   ]
  },
  {
   "cell_type": "code",
   "execution_count": null,
   "id": "confidential-detail",
   "metadata": {},
   "outputs": [],
   "source": [
    "frames = [df_sk, df_rg, df_admm]\n",
    "\n",
    "df = pd.concat(frames)\n",
    "df"
   ]
  },
  {
   "cell_type": "code",
   "execution_count": null,
   "id": "limited-california",
   "metadata": {},
   "outputs": [],
   "source": [
    "#normalised accuracy [0,1]\n",
    "norm_ac = np.array(df['accuracy'])\n",
    "df['accuracy'] = (a - np.min(norm_ac))/np.ptp(norm_ac)\n",
    "df"
   ]
  },
  {
   "cell_type": "code",
   "execution_count": 9,
   "id": "verified-approval",
   "metadata": {},
   "outputs": [
    {
     "ename": "NameError",
     "evalue": "name 'df' is not defined",
     "output_type": "error",
     "traceback": [
      "\u001b[0;31m--------------------------------------------------------------------------\u001b[0m",
      "\u001b[0;31mNameError\u001b[0m                                Traceback (most recent call last)",
      "\u001b[0;32m<ipython-input-9-8f02b037e742>\u001b[0m in \u001b[0;36m<module>\u001b[0;34m\u001b[0m\n\u001b[1;32m      1\u001b[0m \u001b[0;32mimport\u001b[0m \u001b[0mplotly\u001b[0m\u001b[0;34m.\u001b[0m\u001b[0mexpress\u001b[0m \u001b[0;32mas\u001b[0m \u001b[0mpx\u001b[0m\u001b[0;34m\u001b[0m\u001b[0;34m\u001b[0m\u001b[0m\n\u001b[1;32m      2\u001b[0m \u001b[0;34m\u001b[0m\u001b[0m\n\u001b[0;32m----> 3\u001b[0;31m \u001b[0mfig\u001b[0m \u001b[0;34m=\u001b[0m \u001b[0mpx\u001b[0m\u001b[0;34m.\u001b[0m\u001b[0mline\u001b[0m\u001b[0;34m(\u001b[0m\u001b[0mdf\u001b[0m\u001b[0;34m,\u001b[0m \u001b[0mx\u001b[0m\u001b[0;34m=\u001b[0m\u001b[0;34m\"time\"\u001b[0m\u001b[0;34m,\u001b[0m \u001b[0my\u001b[0m\u001b[0;34m=\u001b[0m\u001b[0;34m\"accuracy\"\u001b[0m\u001b[0;34m,\u001b[0m \u001b[0mcolor\u001b[0m\u001b[0;34m=\u001b[0m \u001b[0;34m\"method\"\u001b[0m\u001b[0;34m,\u001b[0m \u001b[0mtitle\u001b[0m\u001b[0;34m=\u001b[0m\u001b[0;34m'Perfomance comparison'\u001b[0m\u001b[0;34m)\u001b[0m\u001b[0;34m\u001b[0m\u001b[0;34m\u001b[0m\u001b[0m\n\u001b[0m\u001b[1;32m      4\u001b[0m \u001b[0mfig\u001b[0m\u001b[0;34m.\u001b[0m\u001b[0mshow\u001b[0m\u001b[0;34m(\u001b[0m\u001b[0;34m)\u001b[0m\u001b[0;34m\u001b[0m\u001b[0;34m\u001b[0m\u001b[0m\n",
      "\u001b[0;31mNameError\u001b[0m: name 'df' is not defined"
     ]
    }
   ],
   "source": [
    "import plotly.express as px\n",
    "\n",
    "fig = px.line(df, x=\"time\", y=\"accuracy\", color= \"method\", title='Perfomance comparison')\n",
    "fig.show()"
   ]
  },
  {
   "cell_type": "markdown",
   "id": "complicated-thesis",
   "metadata": {},
   "source": [
    "# Import LatentTimeGraphicalLasso"
   ]
  },
  {
   "cell_type": "code",
   "execution_count": null,
   "id": "interested-burton",
   "metadata": {},
   "outputs": [],
   "source": [
    "from regain.covariance import LatentTimeGraphicalLasso"
   ]
  },
  {
   "cell_type": "code",
   "execution_count": null,
   "id": "agricultural-colonial",
   "metadata": {},
   "outputs": [],
   "source": [
    "from regain.covariance import latent_graphical_lasso_, latent_time_graphical_lasso_"
   ]
  },
  {
   "cell_type": "code",
   "execution_count": null,
   "id": "confirmed-sessions",
   "metadata": {},
   "outputs": [],
   "source": [
    "np.random.seed(243)\n",
    "\n",
    "tau = 0.1 #mu1 in ADMM_SGL\n",
    "alpha = 0.1 # lambda in ADMM_SGL"
   ]
  },
  {
   "cell_type": "code",
   "execution_count": null,
   "id": "reflected-elephant",
   "metadata": {},
   "outputs": [],
   "source": [
    "sol = latent_graphical_lasso_.latent_graphical_lasso(\n",
    "    true_cov, alpha=alpha, tau=tau, tol=1e-5, rtol=1e-5,\n",
    "    rho=1. / true_cov.shape[0], verbose=0, max_iter=500)"
   ]
  },
  {
   "cell_type": "code",
   "execution_count": null,
   "id": "fantastic-insurance",
   "metadata": {},
   "outputs": [],
   "source": [
    "prec, cov, n_iter = sol[0], sol[1], sol[2]"
   ]
  },
  {
   "cell_type": "code",
   "execution_count": null,
   "id": "accepting-evolution",
   "metadata": {},
   "outputs": [],
   "source": [
    "prec,"
   ]
  },
  {
   "cell_type": "code",
   "execution_count": null,
   "id": "recreational-contribution",
   "metadata": {},
   "outputs": [],
   "source": [
    "cov"
   ]
  },
  {
   "cell_type": "code",
   "execution_count": null,
   "id": "continuing-terminal",
   "metadata": {},
   "outputs": [],
   "source": []
  },
  {
   "cell_type": "code",
   "execution_count": null,
   "id": "limiting-hampton",
   "metadata": {},
   "outputs": [],
   "source": []
  }
 ],
 "metadata": {
  "kernelspec": {
   "display_name": "Python 3",
   "language": "python",
   "name": "python3"
  },
  "language_info": {
   "codemirror_mode": {
    "name": "ipython",
    "version": 3
   },
   "file_extension": ".py",
   "mimetype": "text/x-python",
   "name": "python",
   "nbconvert_exporter": "python",
   "pygments_lexer": "ipython3",
   "version": "3.8.0"
  }
 },
 "nbformat": 4,
 "nbformat_minor": 5
}
