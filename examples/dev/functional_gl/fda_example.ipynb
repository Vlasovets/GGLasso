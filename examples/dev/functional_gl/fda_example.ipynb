{
 "cells": [
  {
   "cell_type": "code",
   "execution_count": null,
   "id": "bc019fec",
   "metadata": {},
   "outputs": [],
   "source": [
    "import matplotlib.pyplot as plt\n",
    "import seaborn as sns\n",
    "import numpy as np\n",
    "from scipy.stats import gaussian_kde\n",
    "\n",
    "from skfda.datasets import make_gaussian_process\n",
    "from skfda.misc.covariances import *\n",
    "from skfda.misc.metrics import l2_distance, l2_norm\n",
    "from skfda.preprocessing.dim_reduction.feature_extraction import FPCA\n",
    "from skfda.representation.basis import BSpline, Fourier"
   ]
  },
  {
   "cell_type": "code",
   "execution_count": null,
   "id": "bbc47273",
   "metadata": {},
   "outputs": [],
   "source": [
    "time_range = (0,25)\n",
    "\n",
    "def get_basis(style, n_components):\n",
    "    if style == 'bspline':\n",
    "        basis = BSpline(n_basis=n_components, order=4)\n",
    "    elif style == 'fourier':\n",
    "        basis = Fourier(domain_range=time_range, n_basis=n_components, period=None)\n",
    "    return basis\n",
    "\n",
    "# decide on a basis\n",
    "style = 'bspline'"
   ]
  },
  {
   "cell_type": "markdown",
   "id": "359ee7cf",
   "metadata": {},
   "source": [
    "Idea: create three covariance functions and sample Gaussian processes. Then transform into a chosen basis representation and compute Functional Graphical Lasso. Let the variables be called $v_0$, $v_1$ and $v_2$. "
   ]
  },
  {
   "cell_type": "code",
   "execution_count": null,
   "id": "7ea2473f",
   "metadata": {},
   "outputs": [],
   "source": [
    "n_var = 3\n",
    "n_ts = 100\n",
    "n_samples = 10**3\n",
    "\n",
    "# define three variables\n",
    "cov1 = Gaussian(variance=0.5, length_scale=8.0)\n",
    "cov2 = Gaussian(variance=0.5, length_scale=4.0)\n",
    "cov3 = Brownian(variance=0.2)\n",
    "\n",
    "all_cov = [cov1, cov2, cov3]"
   ]
  },
  {
   "cell_type": "code",
   "execution_count": null,
   "id": "bebae90d",
   "metadata": {
    "scrolled": false
   },
   "outputs": [],
   "source": [
    "# plot covariance functions\n",
    "_ = cov1.heatmap()\n",
    "_ = cov2.heatmap()\n",
    "_ = cov3.heatmap()"
   ]
  },
  {
   "cell_type": "code",
   "execution_count": null,
   "id": "33cb7491",
   "metadata": {},
   "outputs": [],
   "source": [
    "# sample gaussian processes\n",
    "samples = list()\n",
    "labels = list()\n",
    "\n",
    "for j in np.arange(n_var):\n",
    "\n",
    "    _ds = make_gaussian_process(\n",
    "            n_samples=n_samples,\n",
    "            n_features=n_ts,\n",
    "            start=time_range[0],\n",
    "            stop=time_range[1],\n",
    "            cov=all_cov[j],\n",
    "            random_state=20\n",
    "            )\n",
    "    \n",
    "    _lb = np.array([f'v{j}'] * n_samples)\n",
    "    \n",
    "    samples.append(_ds)\n",
    "    labels.append(_lb)"
   ]
  },
  {
   "cell_type": "code",
   "execution_count": null,
   "id": "51c308d1",
   "metadata": {
    "scrolled": false
   },
   "outputs": [],
   "source": [
    "# plot sampled time series\n",
    "\n",
    "colors = ['darkred', 'C1', 'grey']\n",
    "\n",
    "fig, axs = plt.subplots(n_var,1, figsize=(10,12))\n",
    "\n",
    "for j in range(n_var):\n",
    "    ax = axs.ravel()[j]\n",
    "    samples[j].plot(axes=ax, group=labels[j], group_colors={f'v{j}': colors[j]}, alpha=0.2, lw=0.95)\n",
    "    ax.set_title(f'Sampled time series for v{j}')"
   ]
  },
  {
   "cell_type": "code",
   "execution_count": null,
   "id": "ae8dbff3",
   "metadata": {
    "scrolled": false
   },
   "outputs": [],
   "source": [
    "# do basis transformation, reconstruct and plot deviation\n",
    "q = 7\n",
    "fig, axs = plt.subplots(n_var, 2, figsize=(20,12))\n",
    "\n",
    "for j in range(n_var):\n",
    "    basis = get_basis(style, q)\n",
    "    traf = samples[j].to_basis(basis)\n",
    "        \n",
    "    # reconstruct ds from FPCA\n",
    "    recov_ds = traf.to_grid(samples[j].grid_points)\n",
    "    \n",
    "    # reconvert to grid if necessary\n",
    "    diff = samples[j] - recov_ds\n",
    "        \n",
    "    ax = axs[j,0]\n",
    "    recov_ds.plot(axes=ax, group=labels[j], group_colors={f'v{j}': colors[j]}, alpha=0.3, lw=0.95)\n",
    "    ax.set_title(f'Basis representation - recomputed time series for v{j}')\n",
    "    \n",
    "    ax2 = axs[j,1]\n",
    "    diff.plot(axes=ax2, group=labels[j], group_colors={f'v{j}': colors[j]}, alpha=0.3, lw=0.95)\n",
    "    ax2.set_title(f'Recovery error for v{j}')\n",
    "    ax2.set_ylim(ax.get_ylim())\n",
    "    \n",
    "    "
   ]
  },
  {
   "cell_type": "code",
   "execution_count": null,
   "id": "736843ca",
   "metadata": {},
   "outputs": [],
   "source": [
    "traf"
   ]
  },
  {
   "cell_type": "markdown",
   "id": "85faa74d",
   "metadata": {},
   "source": [
    "## Fourth variable construction\n",
    "\n",
    "We want to create a fourth variable that is constructed using the first variable $v_1$ as follows: we do FPCA, then permute the coefficients and then retransform to a time series, but with the basis not permuted. This creates a variable with correlated singular values (wrt FPCA), but where the relation is less obvious if only looking at the time series."
   ]
  },
  {
   "cell_type": "code",
   "execution_count": null,
   "id": "cabe75d7",
   "metadata": {},
   "outputs": [],
   "source": [
    "# from now on use 9 components\n",
    "n_comp = 9"
   ]
  },
  {
   "cell_type": "code",
   "execution_count": null,
   "id": "2145e66d",
   "metadata": {},
   "outputs": [],
   "source": [
    "basis = get_basis(style, n_comp)\n",
    "_traf = samples[0].to_basis(basis)   \n",
    "\n",
    "rng = np.random.default_rng(1917)\n",
    "_perm = rng.permutation(n_comp)\n",
    "\n",
    "# permute\n",
    "_traf.coefficients = _traf.coefficients[:, _perm]\n",
    "\n",
    "# retransform to time series\n",
    "v3_ds = _traf.to_grid(samples[0].grid_points)"
   ]
  },
  {
   "cell_type": "code",
   "execution_count": null,
   "id": "12d8dc48",
   "metadata": {
    "scrolled": false
   },
   "outputs": [],
   "source": [
    "n_var += 1\n",
    "\n",
    "# add new time series\n",
    "samples.append(v3_ds)\n",
    "_lb3 = np.array([f'v3'] * n_samples)\n",
    "labels.append(_lb3)\n",
    "colors.append('steelblue')\n",
    "\n",
    "# plot again\n",
    "fig, axs = plt.subplots(n_var,1, figsize=(10,12))\n",
    "for j in range(n_var):\n",
    "    ax = axs.ravel()[j]\n",
    "    samples[j].plot(axes=ax, group=labels[j], group_colors={f'v{j}': colors[j]}, alpha=0.2, lw=0.95)\n",
    "    ax.set_title(f'Sampled time series for v{j}')"
   ]
  },
  {
   "cell_type": "code",
   "execution_count": null,
   "id": "d432e183",
   "metadata": {},
   "outputs": [],
   "source": [
    "# plot basis functions\n",
    "fig, ax = plt.subplots(figsize=(10,5))\n",
    "basis = get_basis(style, n_comp)\n",
    "basis.plot(axes=ax)\n",
    "\n",
    "fig.suptitle(\"Plot of the basis functions\")"
   ]
  },
  {
   "cell_type": "markdown",
   "id": "4e2869d0",
   "metadata": {},
   "source": [
    "## Reconstruction error"
   ]
  },
  {
   "cell_type": "code",
   "execution_count": null,
   "id": "235c1168",
   "metadata": {},
   "outputs": [],
   "source": [
    "# plot error for increasing numper of FPCA components\n",
    "fig, ax = plt.subplots()\n",
    "    \n",
    "for j in range(n_var):\n",
    "    all_err = list()\n",
    "    \n",
    "    if style != 'fourier':\n",
    "        all_q = range(4,12)\n",
    "    else:\n",
    "        all_q = [5,7,9,11,13] # Fourier has always odd number of basis elements\n",
    "        \n",
    "    for k in range(len(all_q)):\n",
    "        basis = get_basis(style, all_q[k])\n",
    "        this_traf = samples[j].to_basis(basis)\n",
    "        \n",
    "        # reconstruct ds from FPCA\n",
    "        recov_ds = this_traf.to_grid(samples[j].grid_points)\n",
    "    \n",
    "        # compute error\n",
    "        this_err = l2_distance(samples[j], recov_ds) / l2_norm(samples[j])\n",
    "        all_err.append(np.median(this_err))\n",
    "\n",
    "   \n",
    "    ax.plot(all_q, all_err, c=colors[j], lw = 4, marker='p', markersize=10, markeredgecolor='k', alpha=0.8, label=f'v{j}')\n",
    "    \n",
    "ax.set_xlabel('Number of FPCA components')\n",
    "ax.set_ylabel('Median l2 error')\n",
    "ax.grid(ls = '-', lw = .5) \n",
    "ax.legend()"
   ]
  },
  {
   "cell_type": "markdown",
   "id": "9be7f620",
   "metadata": {},
   "source": [
    "## Functional Graphical Lasso\n",
    "\n",
    "Now, do for each variable a FPCA with $n_{comp}$ components. Then, concatenate the FPCA coefficients for each sample and compute correlations. With this, we are ready to compute Functional Graphical Lasso.\n",
    "\n",
    "If we choose $n_{comp}=9$, we expect $4\\cdot9=36$ variables in total."
   ]
  },
  {
   "cell_type": "code",
   "execution_count": null,
   "id": "3dff6032",
   "metadata": {},
   "outputs": [],
   "source": [
    "from gglasso.helper.basic_linalg import scale_array_by_diagonal\n",
    "from gglasso.helper.utils import lambda_max_fsgl, frob_norm_per_block\n",
    "from gglasso.solver.functional_sgl_admm import ADMM_FSGL\n",
    "\n",
    "all_traf = list()\n",
    "    \n",
    "# compute FPCA coefficients for each variable\n",
    "for j in range(n_var):\n",
    "    basis = get_basis(style, n_comp)\n",
    "    _traf = samples[j].to_basis(basis)\n",
    "    \n",
    "    all_traf.append(_traf.coefficients)\n",
    "    \n",
    "fpca_samples = np.hstack(all_traf)\n",
    "print(\"(N,p) = \", fpca_samples.shape)\n",
    "\n",
    "# compute covariances\n",
    "S = np.cov(fpca_samples.T)\n",
    "# scale to correlations\n",
    "S = scale_array_by_diagonal(S)\n",
    "\n",
    "print(\"S has shape \", S.shape)"
   ]
  },
  {
   "cell_type": "code",
   "execution_count": null,
   "id": "277609d5",
   "metadata": {
    "scrolled": false
   },
   "outputs": [],
   "source": [
    "# plot samples\n",
    "fig, ax = plt.subplots()\n",
    "sns.heatmap(fpca_samples, ax=ax, alpha=1, vmin=-5, vmax=5, cmap='coolwarm',cbar=True)\n",
    "ax.vlines([(j+1)*n_comp for j in range(n_var)], 0, n_samples, color='k', lw=4)\n",
    "\n",
    "# plot heatmap\n",
    "fig, ax = plt.subplots()\n",
    "_v = 1.\n",
    "sns.heatmap(S, ax=ax, cmap=\"coolwarm\", vmax=_v, vmin=-_v, alpha=1.)\n",
    "ax.hlines([(j+1)*n_comp for j in range(n_var)], 0, n_var*n_comp, color='k', lw=3)\n",
    "ax.vlines([(j+1)*n_comp for j in range(n_var)], 0, n_var*n_comp, color='k', lw=3)\n",
    "\n",
    "# plot Frobenius norm of each subblock\n",
    "fig, ax = plt.subplots()\n",
    "sns.heatmap(np.round(frob_norm_per_block(S, n_comp),3), annot=True, ax = ax)"
   ]
  },
  {
   "cell_type": "code",
   "execution_count": null,
   "id": "971e2e76",
   "metadata": {},
   "outputs": [],
   "source": [
    "p = n_var\n",
    "M = n_comp\n",
    "pM = p*M\n",
    "\n",
    "lambda_max = lambda_max_fsgl(S, M)\n",
    "lambda_min = 0.1 * lambda_max\n",
    "\n",
    "lambda_range = np.logspace(np.log10(lambda_min), np.log10(lambda_max), 10)[::-1]"
   ]
  },
  {
   "cell_type": "code",
   "execution_count": null,
   "id": "9d5de7af",
   "metadata": {},
   "outputs": [],
   "source": [
    "lambda_range"
   ]
  },
  {
   "cell_type": "code",
   "execution_count": null,
   "id": "2d9dacc9",
   "metadata": {},
   "outputs": [],
   "source": [
    "np.abs(S).max()"
   ]
  },
  {
   "cell_type": "code",
   "execution_count": null,
   "id": "d56f3aab",
   "metadata": {},
   "outputs": [],
   "source": [
    "from matplotlib.colors import LogNorm, Normalize\n",
    "\n",
    "def plot_fsgl_heatmap(Omega, p, M, ax=None):\n",
    "    \n",
    "    pM = p*M\n",
    "    \n",
    "    if ax is None:\n",
    "        fig, ax = plt.subplots()\n",
    "    \n",
    "    _v = 0.1*np.abs(Omega).max()\n",
    "    \n",
    "    sns.heatmap(Omega, cmap=\"coolwarm\", vmin=-_v, vmax=_v, ax = ax)\n",
    "    \n",
    "    ax.hlines([(j+1)*M for j in range(p)], 0, pM, color='k', lw=3)\n",
    "    ax.vlines([(j+1)*M for j in range(p)], 0, pM, color='k', lw=3)\n",
    "\n",
    "    return "
   ]
  },
  {
   "cell_type": "code",
   "execution_count": null,
   "id": "3a03ab07",
   "metadata": {},
   "outputs": [],
   "source": [
    "Omega_0 = np.eye(pM)\n",
    "all_sol = dict()\n",
    "\n",
    "for j in range(len(lambda_range)):\n",
    "    _lam = lambda_range[j]\n",
    "    \n",
    "    sol, info = ADMM_FSGL(S, _lam, M, Omega_0,\n",
    "                         rho=1., max_iter=1000, tol=1e-7, rtol=1e-7,\\\n",
    "                         update_rho=True, verbose=False, measure=True, latent=False, mu1=None)\n",
    "    \n",
    "    Omega_0 = sol['Omega'].copy()\n",
    "    all_sol[_lam] = sol.copy()"
   ]
  },
  {
   "cell_type": "code",
   "execution_count": null,
   "id": "49ee1571",
   "metadata": {
    "scrolled": false
   },
   "outputs": [],
   "source": [
    "fig, axs = plt.subplots(len(lambda_range), figsize=(7,50))\n",
    "\n",
    "fig2, axs2 = plt.subplots(len(lambda_range), figsize=(5,25))\n",
    "\n",
    "for j in range(len(lambda_range)):\n",
    "    _lam = lambda_range[j]\n",
    "\n",
    "    ax = axs[j]\n",
    "    plot_fsgl_heatmap(all_sol[_lam]['Theta'], p, M, ax=ax)\n",
    "    ax.set_title(f\"Functional Graphical Lasso for lambda={_lam}\")\n",
    "    \n",
    "    ax = axs2[j]\n",
    "    sns.heatmap(np.round(frob_norm_per_block(all_sol[_lam]['Theta'], M),2), vmin=0, vmax=.1, ax = ax, annot=True)\n",
    "    ax.set_title(f\"lambda={_lam}\")"
   ]
  },
  {
   "cell_type": "code",
   "execution_count": null,
   "id": "d715dbcf",
   "metadata": {},
   "outputs": [],
   "source": [
    "Omega = all_sol[lambda_range[1]]['Theta']\n",
    "\n",
    "sns.heatmap(Omega, cmap=\"coolwarm\")    "
   ]
  },
  {
   "cell_type": "code",
   "execution_count": null,
   "id": "10d2b631",
   "metadata": {},
   "outputs": [],
   "source": []
  }
 ],
 "metadata": {
  "kernelspec": {
   "display_name": "Python 3",
   "language": "python",
   "name": "python3"
  },
  "language_info": {
   "codemirror_mode": {
    "name": "ipython",
    "version": 3
   },
   "file_extension": ".py",
   "mimetype": "text/x-python",
   "name": "python",
   "nbconvert_exporter": "python",
   "pygments_lexer": "ipython3",
   "version": "3.7.10"
  }
 },
 "nbformat": 4,
 "nbformat_minor": 5
}
