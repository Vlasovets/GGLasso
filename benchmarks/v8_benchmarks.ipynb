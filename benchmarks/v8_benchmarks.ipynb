{
 "cells": [
  {
   "cell_type": "code",
   "execution_count": 1,
   "id": "vietnamese-scheduling",
   "metadata": {},
   "outputs": [
    {
     "name": "stdout",
     "output_type": "stream",
     "text": [
      "/Users/oleg.vlasovetc/Public/GGLasso\n"
     ]
    }
   ],
   "source": [
    "cd /Users/oleg.vlasovetc/Public/GGLasso"
   ]
  },
  {
   "cell_type": "code",
   "execution_count": 2,
   "id": "generic-reflection",
   "metadata": {},
   "outputs": [],
   "source": [
    "import sys\n",
    "import time\n",
    "import numpy as np\n",
    "import pandas as pd\n",
    "import itertools\n",
    "import plotly.express as px\n",
    "import plotly.graph_objects as go\n",
    "import datetime\n",
    "\n",
    "from sklearn.covariance import GraphicalLasso as sk_GL\n",
    "from sklearn.covariance import empirical_covariance\n",
    "from sklearn import set_config\n",
    "set_config(print_changed_only=False)\n",
    "\n",
    "from gglasso.solver.single_admm_solver import ADMM_SGL\n",
    "from gglasso.solver.single_admm_solver import block_SGL\n",
    "from gglasso.helper.data_generation import time_varying_power_network, group_power_network, sample_covariance_matrix\n",
    "from gglasso.helper.model_selection import single_grid_search\n",
    "from benchmarks import models_to_dict, sklearn_time_benchmark, admm_time_benchmark, model_solution\n",
    "from benchmarks import hamming_distance, distance_benchmark, network_generation\n",
    "\n",
    "from regain.covariance import GraphicalLasso as rg_GL"
   ]
  },
  {
   "cell_type": "code",
   "execution_count": 4,
   "id": "czech-bryan",
   "metadata": {},
   "outputs": [],
   "source": [
    "S, Theta, X = network_generation(p_list=[100], N_list=[200], K=5, M=2)"
   ]
  },
  {
   "cell_type": "code",
   "execution_count": 6,
   "id": "oriented-armor",
   "metadata": {},
   "outputs": [],
   "source": [
    "Omega_0 = np.eye(S[0].shape[0])\n",
    "lambda1=0.01\n",
    "# tol_list = [1e-1, 1e-2, 1e-3, 1e-4, 1e-5, 1e-6, 1e-7, 1e-8]\n",
    "tol_list = [1e-4, 1e-5, 1e-6, 1e-7]\n",
    "rtol_list = [1e-2, 1e-4]\n",
    "enet_list = [0.1]"
   ]
  },
  {
   "cell_type": "markdown",
   "id": "lyric-looking",
   "metadata": {},
   "source": [
    "# Model solution Z"
   ]
  },
  {
   "cell_type": "code",
   "execution_count": 8,
   "id": "overhead-attendance",
   "metadata": {},
   "outputs": [
    {
     "name": "stdout",
     "output_type": "stream",
     "text": [
      "sklearn GraphicalLasso(alpha=0.01, assume_centered=True, enet_tol=0.1, max_iter=50000,\n",
      "               mode='cd', tol=1e-10, verbose=False)\n",
      "00:00:00.99\n"
     ]
    }
   ],
   "source": [
    "Z, Z_time = model_solution(model=\"sklearn\", X=X, lambda1=lambda1, max_iter=50000, tol=1e-10, enet=0.1)\n",
    "print(Z_time)"
   ]
  },
  {
   "cell_type": "markdown",
   "id": "flexible-liquid",
   "metadata": {},
   "source": [
    "# Solution Z_i"
   ]
  },
  {
   "cell_type": "code",
   "execution_count": 9,
   "id": "theoretical-drilling",
   "metadata": {},
   "outputs": [],
   "source": [
    "models = models_to_dict(models=[\"sklearn\", \"regain\"], lambda1=lambda1, tol_list=tol_list, rtol_list=rtol_list, \n",
    "                        enet_list=enet_list, \n",
    "                        max_iter=50000)"
   ]
  },
  {
   "cell_type": "code",
   "execution_count": 10,
   "id": "attached-mileage",
   "metadata": {},
   "outputs": [
    {
     "name": "stderr",
     "output_type": "stream",
     "text": [
      "sklearn_tol_0.0001_enet_0.1: 100%|██████████| 5/5 [00:01<00:00,  4.93it/s]\n",
      "sklearn_tol_1e-05_enet_0.1: 100%|██████████| 5/5 [00:02<00:00,  2.24it/s]\n",
      "sklearn_tol_1e-06_enet_0.1: 100%|██████████| 5/5 [00:02<00:00,  1.79it/s]\n",
      "sklearn_tol_1e-07_enet_0.1: 100%|██████████| 5/5 [00:03<00:00,  1.64it/s]\n",
      "regain_tol_0.0001_rtol_0.01: 100%|██████████| 5/5 [00:00<00:00,  9.65it/s]\n",
      "regain_tol_0.0001_rtol_0.0001: 100%|██████████| 5/5 [00:00<00:00,  8.84it/s]\n",
      "regain_tol_1e-05_rtol_0.01: 100%|██████████| 5/5 [00:00<00:00,  8.58it/s]\n",
      "regain_tol_1e-05_rtol_0.0001: 100%|██████████| 5/5 [00:01<00:00,  4.26it/s]\n",
      "regain_tol_1e-06_rtol_0.01: 100%|██████████| 5/5 [00:00<00:00,  6.94it/s]\n",
      "regain_tol_1e-06_rtol_0.0001: 100%|██████████| 5/5 [00:00<00:00,  5.21it/s]\n",
      "regain_tol_1e-07_rtol_0.01: 100%|██████████| 5/5 [00:00<00:00,  9.05it/s]\n",
      "regain_tol_1e-07_rtol_0.0001: 100%|██████████| 5/5 [00:01<00:00,  4.20it/s]\n"
     ]
    }
   ],
   "source": [
    "sk_time, sk_accuracy, Z_sk = sklearn_time_benchmark(models, X=X, Z=Z, n_iter=5)"
   ]
  },
  {
   "cell_type": "code",
   "execution_count": 7,
   "id": "found-egyptian",
   "metadata": {
    "scrolled": true
   },
   "outputs": [
    {
     "name": "stderr",
     "output_type": "stream",
     "text": [
      "single-boyd_tol_0.0001_rtol_0.01: 100%|██████████| 6/6 [00:01<00:00,  5.13it/s]\n",
      "single-kkt_tol_0.0001_rtol_0.01:   0%|          | 0/6 [00:00<?, ?it/s]"
     ]
    },
    {
     "name": "stdout",
     "output_type": "stream",
     "text": [
      "ADMM terminated after 8 iterations with status: optimal.\n",
      "ADMM terminated after 8 iterations with status: optimal.\n",
      "ADMM terminated after 8 iterations with status: optimal.\n",
      "ADMM terminated after 8 iterations with status: optimal.\n",
      "ADMM terminated after 8 iterations with status: optimal.\n",
      "ADMM terminated after 8 iterations with status: optimal.\n"
     ]
    },
    {
     "name": "stderr",
     "output_type": "stream",
     "text": [
      "\r",
      "single-kkt_tol_0.0001_rtol_0.01:  17%|█▋        | 1/6 [00:00<00:03,  1.28it/s]"
     ]
    },
    {
     "name": "stdout",
     "output_type": "stream",
     "text": [
      "ADMM terminated after 67 iterations with status: optimal.\n"
     ]
    },
    {
     "name": "stderr",
     "output_type": "stream",
     "text": [
      "\r",
      "single-kkt_tol_0.0001_rtol_0.01:  33%|███▎      | 2/6 [00:01<00:02,  1.59it/s]"
     ]
    },
    {
     "name": "stdout",
     "output_type": "stream",
     "text": [
      "ADMM terminated after 67 iterations with status: optimal.\n"
     ]
    },
    {
     "name": "stderr",
     "output_type": "stream",
     "text": [
      "\r",
      "single-kkt_tol_0.0001_rtol_0.01:  50%|█████     | 3/6 [00:01<00:01,  1.70it/s]"
     ]
    },
    {
     "name": "stdout",
     "output_type": "stream",
     "text": [
      "ADMM terminated after 67 iterations with status: optimal.\n"
     ]
    },
    {
     "name": "stderr",
     "output_type": "stream",
     "text": [
      "\r",
      "single-kkt_tol_0.0001_rtol_0.01:  67%|██████▋   | 4/6 [00:02<00:01,  1.75it/s]"
     ]
    },
    {
     "name": "stdout",
     "output_type": "stream",
     "text": [
      "ADMM terminated after 67 iterations with status: optimal.\n"
     ]
    },
    {
     "name": "stderr",
     "output_type": "stream",
     "text": [
      "\r",
      "single-kkt_tol_0.0001_rtol_0.01:  83%|████████▎ | 5/6 [00:02<00:00,  1.93it/s]"
     ]
    },
    {
     "name": "stdout",
     "output_type": "stream",
     "text": [
      "ADMM terminated after 67 iterations with status: optimal.\n"
     ]
    },
    {
     "name": "stderr",
     "output_type": "stream",
     "text": [
      "single-kkt_tol_0.0001_rtol_0.01: 100%|██████████| 6/6 [00:03<00:00,  1.86it/s]\n",
      "single-boyd_tol_0.0001_rtol_0.0001:  50%|█████     | 3/6 [00:00<00:00, 28.06it/s]"
     ]
    },
    {
     "name": "stdout",
     "output_type": "stream",
     "text": [
      "ADMM terminated after 67 iterations with status: optimal.\n",
      "ADMM terminated after 8 iterations with status: optimal.\n",
      "ADMM terminated after 8 iterations with status: optimal.\n",
      "ADMM terminated after 8 iterations with status: optimal.\n",
      "ADMM terminated after 8 iterations with status: optimal.\n",
      "ADMM terminated after 8 iterations with status: optimal.\n"
     ]
    },
    {
     "name": "stderr",
     "output_type": "stream",
     "text": [
      "single-boyd_tol_0.0001_rtol_0.0001: 100%|██████████| 6/6 [00:00<00:00, 28.88it/s]\n",
      "single-kkt_tol_0.0001_rtol_0.0001:   0%|          | 0/6 [00:00<?, ?it/s]"
     ]
    },
    {
     "name": "stdout",
     "output_type": "stream",
     "text": [
      "ADMM terminated after 8 iterations with status: optimal.\n"
     ]
    },
    {
     "name": "stderr",
     "output_type": "stream",
     "text": [
      "\r",
      "single-kkt_tol_0.0001_rtol_0.0001:  17%|█▋        | 1/6 [00:00<00:02,  2.05it/s]"
     ]
    },
    {
     "name": "stdout",
     "output_type": "stream",
     "text": [
      "ADMM terminated after 67 iterations with status: optimal.\n"
     ]
    },
    {
     "name": "stderr",
     "output_type": "stream",
     "text": [
      "\r",
      "single-kkt_tol_0.0001_rtol_0.0001:  33%|███▎      | 2/6 [00:01<00:02,  1.93it/s]"
     ]
    },
    {
     "name": "stdout",
     "output_type": "stream",
     "text": [
      "ADMM terminated after 67 iterations with status: optimal.\n"
     ]
    },
    {
     "name": "stderr",
     "output_type": "stream",
     "text": [
      "\r",
      "single-kkt_tol_0.0001_rtol_0.0001:  50%|█████     | 3/6 [00:01<00:01,  2.12it/s]"
     ]
    },
    {
     "name": "stdout",
     "output_type": "stream",
     "text": [
      "ADMM terminated after 67 iterations with status: optimal.\n"
     ]
    },
    {
     "name": "stderr",
     "output_type": "stream",
     "text": [
      "\r",
      "single-kkt_tol_0.0001_rtol_0.0001:  67%|██████▋   | 4/6 [00:01<00:00,  2.14it/s]"
     ]
    },
    {
     "name": "stdout",
     "output_type": "stream",
     "text": [
      "ADMM terminated after 67 iterations with status: optimal.\n"
     ]
    },
    {
     "name": "stderr",
     "output_type": "stream",
     "text": [
      "\r",
      "single-kkt_tol_0.0001_rtol_0.0001:  83%|████████▎ | 5/6 [00:02<00:00,  2.17it/s]"
     ]
    },
    {
     "name": "stdout",
     "output_type": "stream",
     "text": [
      "ADMM terminated after 67 iterations with status: optimal.\n"
     ]
    },
    {
     "name": "stderr",
     "output_type": "stream",
     "text": [
      "single-kkt_tol_0.0001_rtol_0.0001: 100%|██████████| 6/6 [00:02<00:00,  2.14it/s]\n",
      "single-boyd_tol_1e-05_rtol_0.01:  17%|█▋        | 1/6 [00:00<00:00,  9.51it/s]"
     ]
    },
    {
     "name": "stdout",
     "output_type": "stream",
     "text": [
      "ADMM terminated after 67 iterations with status: optimal.\n",
      "ADMM terminated after 26 iterations with status: optimal.\n",
      "ADMM terminated after 26 iterations with status: optimal.\n"
     ]
    },
    {
     "name": "stderr",
     "output_type": "stream",
     "text": [
      "single-boyd_tol_1e-05_rtol_0.01:  83%|████████▎ | 5/6 [00:00<00:00, 10.50it/s]"
     ]
    },
    {
     "name": "stdout",
     "output_type": "stream",
     "text": [
      "ADMM terminated after 26 iterations with status: optimal.\n",
      "ADMM terminated after 26 iterations with status: optimal.\n",
      "ADMM terminated after 26 iterations with status: optimal.\n"
     ]
    },
    {
     "name": "stderr",
     "output_type": "stream",
     "text": [
      "single-boyd_tol_1e-05_rtol_0.01: 100%|██████████| 6/6 [00:00<00:00, 10.44it/s]\n",
      "single-kkt_tol_1e-05_rtol_0.01:   0%|          | 0/6 [00:00<?, ?it/s]"
     ]
    },
    {
     "name": "stdout",
     "output_type": "stream",
     "text": [
      "ADMM terminated after 26 iterations with status: optimal.\n"
     ]
    },
    {
     "name": "stderr",
     "output_type": "stream",
     "text": [
      "\r",
      "single-kkt_tol_1e-05_rtol_0.01:  17%|█▋        | 1/6 [00:00<00:03,  1.29it/s]"
     ]
    },
    {
     "name": "stdout",
     "output_type": "stream",
     "text": [
      "ADMM terminated after 96 iterations with status: optimal.\n"
     ]
    },
    {
     "name": "stderr",
     "output_type": "stream",
     "text": [
      "\r",
      "single-kkt_tol_1e-05_rtol_0.01:  33%|███▎      | 2/6 [00:01<00:03,  1.17it/s]"
     ]
    },
    {
     "name": "stdout",
     "output_type": "stream",
     "text": [
      "ADMM terminated after 96 iterations with status: optimal.\n"
     ]
    },
    {
     "name": "stderr",
     "output_type": "stream",
     "text": [
      "\r",
      "single-kkt_tol_1e-05_rtol_0.01:  50%|█████     | 3/6 [00:02<00:02,  1.39it/s]"
     ]
    },
    {
     "name": "stdout",
     "output_type": "stream",
     "text": [
      "ADMM terminated after 96 iterations with status: optimal.\n"
     ]
    },
    {
     "name": "stderr",
     "output_type": "stream",
     "text": [
      "\r",
      "single-kkt_tol_1e-05_rtol_0.01:  67%|██████▋   | 4/6 [00:02<00:01,  1.43it/s]"
     ]
    },
    {
     "name": "stdout",
     "output_type": "stream",
     "text": [
      "ADMM terminated after 96 iterations with status: optimal.\n"
     ]
    },
    {
     "name": "stderr",
     "output_type": "stream",
     "text": [
      "\r",
      "single-kkt_tol_1e-05_rtol_0.01:  83%|████████▎ | 5/6 [00:03<00:00,  1.28it/s]"
     ]
    },
    {
     "name": "stdout",
     "output_type": "stream",
     "text": [
      "ADMM terminated after 96 iterations with status: optimal.\n"
     ]
    },
    {
     "name": "stderr",
     "output_type": "stream",
     "text": [
      "single-kkt_tol_1e-05_rtol_0.01: 100%|██████████| 6/6 [00:04<00:00,  1.33it/s]\n",
      "single-boyd_tol_1e-05_rtol_0.0001:  17%|█▋        | 1/6 [00:00<00:00,  6.73it/s]"
     ]
    },
    {
     "name": "stdout",
     "output_type": "stream",
     "text": [
      "ADMM terminated after 96 iterations with status: optimal.\n",
      "ADMM terminated after 28 iterations with status: optimal.\n"
     ]
    },
    {
     "name": "stderr",
     "output_type": "stream",
     "text": [
      "single-boyd_tol_1e-05_rtol_0.0001:  50%|█████     | 3/6 [00:00<00:00,  7.31it/s]"
     ]
    },
    {
     "name": "stdout",
     "output_type": "stream",
     "text": [
      "ADMM terminated after 28 iterations with status: optimal.\n",
      "ADMM terminated after 28 iterations with status: optimal.\n"
     ]
    },
    {
     "name": "stderr",
     "output_type": "stream",
     "text": [
      "single-boyd_tol_1e-05_rtol_0.0001:  83%|████████▎ | 5/6 [00:00<00:00,  6.85it/s]"
     ]
    },
    {
     "name": "stdout",
     "output_type": "stream",
     "text": [
      "ADMM terminated after 28 iterations with status: optimal.\n",
      "ADMM terminated after 28 iterations with status: optimal.\n"
     ]
    },
    {
     "name": "stderr",
     "output_type": "stream",
     "text": [
      "single-boyd_tol_1e-05_rtol_0.0001: 100%|██████████| 6/6 [00:00<00:00,  7.04it/s]\n",
      "single-kkt_tol_1e-05_rtol_0.0001:   0%|          | 0/6 [00:00<?, ?it/s]"
     ]
    },
    {
     "name": "stdout",
     "output_type": "stream",
     "text": [
      "ADMM terminated after 28 iterations with status: optimal.\n"
     ]
    },
    {
     "name": "stderr",
     "output_type": "stream",
     "text": [
      "\r",
      "single-kkt_tol_1e-05_rtol_0.0001:  17%|█▋        | 1/6 [00:00<00:02,  1.85it/s]"
     ]
    },
    {
     "name": "stdout",
     "output_type": "stream",
     "text": [
      "ADMM terminated after 96 iterations with status: optimal.\n"
     ]
    },
    {
     "name": "stderr",
     "output_type": "stream",
     "text": [
      "\r",
      "single-kkt_tol_1e-05_rtol_0.0001:  33%|███▎      | 2/6 [00:01<00:02,  1.98it/s]"
     ]
    },
    {
     "name": "stdout",
     "output_type": "stream",
     "text": [
      "ADMM terminated after 96 iterations with status: optimal.\n"
     ]
    },
    {
     "name": "stderr",
     "output_type": "stream",
     "text": [
      "\r",
      "single-kkt_tol_1e-05_rtol_0.0001:  50%|█████     | 3/6 [00:01<00:01,  1.93it/s]"
     ]
    },
    {
     "name": "stdout",
     "output_type": "stream",
     "text": [
      "ADMM terminated after 96 iterations with status: optimal.\n"
     ]
    },
    {
     "name": "stderr",
     "output_type": "stream",
     "text": [
      "\r",
      "single-kkt_tol_1e-05_rtol_0.0001:  67%|██████▋   | 4/6 [00:02<00:01,  1.92it/s]"
     ]
    },
    {
     "name": "stdout",
     "output_type": "stream",
     "text": [
      "ADMM terminated after 96 iterations with status: optimal.\n"
     ]
    },
    {
     "name": "stderr",
     "output_type": "stream",
     "text": [
      "\r",
      "single-kkt_tol_1e-05_rtol_0.0001:  83%|████████▎ | 5/6 [00:02<00:00,  1.94it/s]"
     ]
    },
    {
     "name": "stdout",
     "output_type": "stream",
     "text": [
      "ADMM terminated after 96 iterations with status: optimal.\n"
     ]
    },
    {
     "name": "stderr",
     "output_type": "stream",
     "text": [
      "single-kkt_tol_1e-05_rtol_0.0001: 100%|██████████| 6/6 [00:03<00:00,  1.95it/s]\n",
      "single-boyd_tol_1e-06_rtol_0.01:  17%|█▋        | 1/6 [00:00<00:00,  7.78it/s]"
     ]
    },
    {
     "name": "stdout",
     "output_type": "stream",
     "text": [
      "ADMM terminated after 96 iterations with status: optimal.\n",
      "ADMM terminated after 43 iterations with status: optimal.\n"
     ]
    },
    {
     "name": "stderr",
     "output_type": "stream",
     "text": [
      "single-boyd_tol_1e-06_rtol_0.01:  50%|█████     | 3/6 [00:00<00:00,  7.57it/s]"
     ]
    },
    {
     "name": "stdout",
     "output_type": "stream",
     "text": [
      "ADMM terminated after 43 iterations with status: optimal.\n",
      "ADMM terminated after 43 iterations with status: optimal.\n"
     ]
    },
    {
     "name": "stderr",
     "output_type": "stream",
     "text": [
      "single-boyd_tol_1e-06_rtol_0.01:  83%|████████▎ | 5/6 [00:00<00:00,  7.53it/s]"
     ]
    },
    {
     "name": "stdout",
     "output_type": "stream",
     "text": [
      "ADMM terminated after 43 iterations with status: optimal.\n",
      "ADMM terminated after 43 iterations with status: optimal.\n"
     ]
    },
    {
     "name": "stderr",
     "output_type": "stream",
     "text": [
      "single-boyd_tol_1e-06_rtol_0.01: 100%|██████████| 6/6 [00:00<00:00,  7.55it/s]\n",
      "single-kkt_tol_1e-06_rtol_0.01:   0%|          | 0/6 [00:00<?, ?it/s]"
     ]
    },
    {
     "name": "stdout",
     "output_type": "stream",
     "text": [
      "ADMM terminated after 43 iterations with status: optimal.\n"
     ]
    },
    {
     "name": "stderr",
     "output_type": "stream",
     "text": [
      "\r",
      "single-kkt_tol_1e-06_rtol_0.01:  17%|█▋        | 1/6 [00:00<00:04,  1.20it/s]"
     ]
    },
    {
     "name": "stdout",
     "output_type": "stream",
     "text": [
      "ADMM terminated after 126 iterations with status: optimal.\n"
     ]
    },
    {
     "name": "stderr",
     "output_type": "stream",
     "text": [
      "\r",
      "single-kkt_tol_1e-06_rtol_0.01:  33%|███▎      | 2/6 [00:01<00:03,  1.27it/s]"
     ]
    },
    {
     "name": "stdout",
     "output_type": "stream",
     "text": [
      "ADMM terminated after 126 iterations with status: optimal.\n"
     ]
    },
    {
     "name": "stderr",
     "output_type": "stream",
     "text": [
      "\r",
      "single-kkt_tol_1e-06_rtol_0.01:  50%|█████     | 3/6 [00:02<00:02,  1.34it/s]"
     ]
    },
    {
     "name": "stdout",
     "output_type": "stream",
     "text": [
      "ADMM terminated after 126 iterations with status: optimal.\n"
     ]
    },
    {
     "name": "stderr",
     "output_type": "stream",
     "text": [
      "\r",
      "single-kkt_tol_1e-06_rtol_0.01:  67%|██████▋   | 4/6 [00:02<00:01,  1.40it/s]"
     ]
    },
    {
     "name": "stdout",
     "output_type": "stream",
     "text": [
      "ADMM terminated after 126 iterations with status: optimal.\n"
     ]
    },
    {
     "name": "stderr",
     "output_type": "stream",
     "text": [
      "\r",
      "single-kkt_tol_1e-06_rtol_0.01:  83%|████████▎ | 5/6 [00:03<00:00,  1.44it/s]"
     ]
    },
    {
     "name": "stdout",
     "output_type": "stream",
     "text": [
      "ADMM terminated after 126 iterations with status: optimal.\n"
     ]
    },
    {
     "name": "stderr",
     "output_type": "stream",
     "text": [
      "single-kkt_tol_1e-06_rtol_0.01: 100%|██████████| 6/6 [00:04<00:00,  1.39it/s]\n",
      "single-boyd_tol_1e-06_rtol_0.0001:  17%|█▋        | 1/6 [00:00<00:00,  5.84it/s]"
     ]
    },
    {
     "name": "stdout",
     "output_type": "stream",
     "text": [
      "ADMM terminated after 126 iterations with status: optimal.\n",
      "ADMM terminated after 56 iterations with status: optimal.\n"
     ]
    },
    {
     "name": "stderr",
     "output_type": "stream",
     "text": [
      "single-boyd_tol_1e-06_rtol_0.0001:  50%|█████     | 3/6 [00:00<00:00,  5.52it/s]"
     ]
    },
    {
     "name": "stdout",
     "output_type": "stream",
     "text": [
      "ADMM terminated after 56 iterations with status: optimal.\n",
      "ADMM terminated after 56 iterations with status: optimal.\n"
     ]
    },
    {
     "name": "stderr",
     "output_type": "stream",
     "text": [
      "single-boyd_tol_1e-06_rtol_0.0001:  83%|████████▎ | 5/6 [00:00<00:00,  5.83it/s]"
     ]
    },
    {
     "name": "stdout",
     "output_type": "stream",
     "text": [
      "ADMM terminated after 56 iterations with status: optimal.\n",
      "ADMM terminated after 56 iterations with status: optimal.\n"
     ]
    },
    {
     "name": "stderr",
     "output_type": "stream",
     "text": [
      "single-boyd_tol_1e-06_rtol_0.0001: 100%|██████████| 6/6 [00:01<00:00,  5.64it/s]\n",
      "single-kkt_tol_1e-06_rtol_0.0001:   0%|          | 0/6 [00:00<?, ?it/s]"
     ]
    },
    {
     "name": "stdout",
     "output_type": "stream",
     "text": [
      "ADMM terminated after 56 iterations with status: optimal.\n"
     ]
    },
    {
     "name": "stderr",
     "output_type": "stream",
     "text": [
      "\r",
      "single-kkt_tol_1e-06_rtol_0.0001:  17%|█▋        | 1/6 [00:00<00:03,  1.47it/s]"
     ]
    },
    {
     "name": "stdout",
     "output_type": "stream",
     "text": [
      "ADMM terminated after 126 iterations with status: optimal.\n"
     ]
    },
    {
     "name": "stderr",
     "output_type": "stream",
     "text": [
      "\r",
      "single-kkt_tol_1e-06_rtol_0.0001:  33%|███▎      | 2/6 [00:01<00:02,  1.48it/s]"
     ]
    },
    {
     "name": "stdout",
     "output_type": "stream",
     "text": [
      "ADMM terminated after 126 iterations with status: optimal.\n"
     ]
    },
    {
     "name": "stderr",
     "output_type": "stream",
     "text": [
      "\r",
      "single-kkt_tol_1e-06_rtol_0.0001:  50%|█████     | 3/6 [00:02<00:01,  1.51it/s]"
     ]
    },
    {
     "name": "stdout",
     "output_type": "stream",
     "text": [
      "ADMM terminated after 126 iterations with status: optimal.\n"
     ]
    },
    {
     "name": "stderr",
     "output_type": "stream",
     "text": [
      "\r",
      "single-kkt_tol_1e-06_rtol_0.0001:  67%|██████▋   | 4/6 [00:02<00:01,  1.49it/s]"
     ]
    },
    {
     "name": "stdout",
     "output_type": "stream",
     "text": [
      "ADMM terminated after 126 iterations with status: optimal.\n"
     ]
    },
    {
     "name": "stderr",
     "output_type": "stream",
     "text": [
      "\r",
      "single-kkt_tol_1e-06_rtol_0.0001:  83%|████████▎ | 5/6 [00:03<00:00,  1.48it/s]"
     ]
    },
    {
     "name": "stdout",
     "output_type": "stream",
     "text": [
      "ADMM terminated after 126 iterations with status: optimal.\n"
     ]
    },
    {
     "name": "stderr",
     "output_type": "stream",
     "text": [
      "single-kkt_tol_1e-06_rtol_0.0001: 100%|██████████| 6/6 [00:03<00:00,  1.50it/s]\n",
      "single-boyd_tol_1e-07_rtol_0.01:  17%|█▋        | 1/6 [00:00<00:00,  6.94it/s]"
     ]
    },
    {
     "name": "stdout",
     "output_type": "stream",
     "text": [
      "ADMM terminated after 126 iterations with status: optimal.\n",
      "ADMM terminated after 47 iterations with status: optimal.\n"
     ]
    },
    {
     "name": "stderr",
     "output_type": "stream",
     "text": [
      "single-boyd_tol_1e-07_rtol_0.01:  50%|█████     | 3/6 [00:00<00:00,  6.89it/s]"
     ]
    },
    {
     "name": "stdout",
     "output_type": "stream",
     "text": [
      "ADMM terminated after 47 iterations with status: optimal.\n",
      "ADMM terminated after 47 iterations with status: optimal.\n"
     ]
    },
    {
     "name": "stderr",
     "output_type": "stream",
     "text": [
      "single-boyd_tol_1e-07_rtol_0.01:  83%|████████▎ | 5/6 [00:00<00:00,  7.04it/s]"
     ]
    },
    {
     "name": "stdout",
     "output_type": "stream",
     "text": [
      "ADMM terminated after 47 iterations with status: optimal.\n",
      "ADMM terminated after 47 iterations with status: optimal.\n"
     ]
    },
    {
     "name": "stderr",
     "output_type": "stream",
     "text": [
      "single-boyd_tol_1e-07_rtol_0.01: 100%|██████████| 6/6 [00:00<00:00,  6.98it/s]\n",
      "single-kkt_tol_1e-07_rtol_0.01:   0%|          | 0/6 [00:00<?, ?it/s]"
     ]
    },
    {
     "name": "stdout",
     "output_type": "stream",
     "text": [
      "ADMM terminated after 47 iterations with status: optimal.\n"
     ]
    },
    {
     "name": "stderr",
     "output_type": "stream",
     "text": [
      "\r",
      "single-kkt_tol_1e-07_rtol_0.01:  17%|█▋        | 1/6 [00:00<00:03,  1.33it/s]"
     ]
    },
    {
     "name": "stdout",
     "output_type": "stream",
     "text": [
      "ADMM terminated after 157 iterations with status: optimal.\n"
     ]
    },
    {
     "name": "stderr",
     "output_type": "stream",
     "text": [
      "\r",
      "single-kkt_tol_1e-07_rtol_0.01:  33%|███▎      | 2/6 [00:01<00:03,  1.23it/s]"
     ]
    },
    {
     "name": "stdout",
     "output_type": "stream",
     "text": [
      "ADMM terminated after 157 iterations with status: optimal.\n"
     ]
    },
    {
     "name": "stderr",
     "output_type": "stream",
     "text": [
      "\r",
      "single-kkt_tol_1e-07_rtol_0.01:  50%|█████     | 3/6 [00:02<00:02,  1.23it/s]"
     ]
    },
    {
     "name": "stdout",
     "output_type": "stream",
     "text": [
      "ADMM terminated after 157 iterations with status: optimal.\n"
     ]
    },
    {
     "name": "stderr",
     "output_type": "stream",
     "text": [
      "\r",
      "single-kkt_tol_1e-07_rtol_0.01:  67%|██████▋   | 4/6 [00:03<00:01,  1.27it/s]"
     ]
    },
    {
     "name": "stdout",
     "output_type": "stream",
     "text": [
      "ADMM terminated after 157 iterations with status: optimal.\n"
     ]
    },
    {
     "name": "stderr",
     "output_type": "stream",
     "text": [
      "\r",
      "single-kkt_tol_1e-07_rtol_0.01:  83%|████████▎ | 5/6 [00:03<00:00,  1.25it/s]"
     ]
    },
    {
     "name": "stdout",
     "output_type": "stream",
     "text": [
      "ADMM terminated after 157 iterations with status: optimal.\n"
     ]
    },
    {
     "name": "stderr",
     "output_type": "stream",
     "text": [
      "single-kkt_tol_1e-07_rtol_0.01: 100%|██████████| 6/6 [00:04<00:00,  1.26it/s]\n",
      "single-boyd_tol_1e-07_rtol_0.0001:   0%|          | 0/6 [00:00<?, ?it/s]"
     ]
    },
    {
     "name": "stdout",
     "output_type": "stream",
     "text": [
      "ADMM terminated after 157 iterations with status: optimal.\n"
     ]
    },
    {
     "name": "stderr",
     "output_type": "stream",
     "text": [
      "\r",
      "single-boyd_tol_1e-07_rtol_0.0001:  17%|█▋        | 1/6 [00:00<00:01,  3.72it/s]"
     ]
    },
    {
     "name": "stdout",
     "output_type": "stream",
     "text": [
      "ADMM terminated after 83 iterations with status: optimal.\n"
     ]
    },
    {
     "name": "stderr",
     "output_type": "stream",
     "text": [
      "\r",
      "single-boyd_tol_1e-07_rtol_0.0001:  33%|███▎      | 2/6 [00:00<00:01,  3.82it/s]"
     ]
    },
    {
     "name": "stdout",
     "output_type": "stream",
     "text": [
      "ADMM terminated after 83 iterations with status: optimal.\n"
     ]
    },
    {
     "name": "stderr",
     "output_type": "stream",
     "text": [
      "\r",
      "single-boyd_tol_1e-07_rtol_0.0001:  50%|█████     | 3/6 [00:00<00:00,  3.87it/s]"
     ]
    },
    {
     "name": "stdout",
     "output_type": "stream",
     "text": [
      "ADMM terminated after 83 iterations with status: optimal.\n"
     ]
    },
    {
     "name": "stderr",
     "output_type": "stream",
     "text": [
      "\r",
      "single-boyd_tol_1e-07_rtol_0.0001:  67%|██████▋   | 4/6 [00:01<00:00,  3.89it/s]"
     ]
    },
    {
     "name": "stdout",
     "output_type": "stream",
     "text": [
      "ADMM terminated after 83 iterations with status: optimal.\n"
     ]
    },
    {
     "name": "stderr",
     "output_type": "stream",
     "text": [
      "\r",
      "single-boyd_tol_1e-07_rtol_0.0001:  83%|████████▎ | 5/6 [00:01<00:00,  3.53it/s]"
     ]
    },
    {
     "name": "stdout",
     "output_type": "stream",
     "text": [
      "ADMM terminated after 83 iterations with status: optimal.\n"
     ]
    },
    {
     "name": "stderr",
     "output_type": "stream",
     "text": [
      "single-boyd_tol_1e-07_rtol_0.0001: 100%|██████████| 6/6 [00:01<00:00,  3.69it/s]\n",
      "single-kkt_tol_1e-07_rtol_0.0001:   0%|          | 0/6 [00:00<?, ?it/s]"
     ]
    },
    {
     "name": "stdout",
     "output_type": "stream",
     "text": [
      "ADMM terminated after 83 iterations with status: optimal.\n"
     ]
    },
    {
     "name": "stderr",
     "output_type": "stream",
     "text": [
      "\r",
      "single-kkt_tol_1e-07_rtol_0.0001:  17%|█▋        | 1/6 [00:00<00:04,  1.25it/s]"
     ]
    },
    {
     "name": "stdout",
     "output_type": "stream",
     "text": [
      "ADMM terminated after 157 iterations with status: optimal.\n"
     ]
    },
    {
     "name": "stderr",
     "output_type": "stream",
     "text": [
      "\r",
      "single-kkt_tol_1e-07_rtol_0.0001:  33%|███▎      | 2/6 [00:01<00:03,  1.21it/s]"
     ]
    },
    {
     "name": "stdout",
     "output_type": "stream",
     "text": [
      "ADMM terminated after 157 iterations with status: optimal.\n"
     ]
    },
    {
     "name": "stderr",
     "output_type": "stream",
     "text": [
      "\r",
      "single-kkt_tol_1e-07_rtol_0.0001:  50%|█████     | 3/6 [00:02<00:02,  1.25it/s]"
     ]
    },
    {
     "name": "stdout",
     "output_type": "stream",
     "text": [
      "ADMM terminated after 157 iterations with status: optimal.\n"
     ]
    },
    {
     "name": "stderr",
     "output_type": "stream",
     "text": [
      "\r",
      "single-kkt_tol_1e-07_rtol_0.0001:  67%|██████▋   | 4/6 [00:03<00:01,  1.22it/s]"
     ]
    },
    {
     "name": "stdout",
     "output_type": "stream",
     "text": [
      "ADMM terminated after 157 iterations with status: optimal.\n"
     ]
    },
    {
     "name": "stderr",
     "output_type": "stream",
     "text": [
      "\r",
      "single-kkt_tol_1e-07_rtol_0.0001:  83%|████████▎ | 5/6 [00:04<00:00,  1.22it/s]"
     ]
    },
    {
     "name": "stdout",
     "output_type": "stream",
     "text": [
      "ADMM terminated after 157 iterations with status: optimal.\n"
     ]
    },
    {
     "name": "stderr",
     "output_type": "stream",
     "text": [
      "single-kkt_tol_1e-07_rtol_0.0001: 100%|██████████| 6/6 [00:04<00:00,  1.23it/s]\n",
      "block-boyd_tol_0.0001_rtol_0.01:  50%|█████     | 3/6 [00:00<00:00, 25.78it/s]"
     ]
    },
    {
     "name": "stdout",
     "output_type": "stream",
     "text": [
      "ADMM terminated after 157 iterations with status: optimal.\n",
      "ADMM terminated after 8 iterations with status: optimal.\n",
      "ADMM terminated after 8 iterations with status: optimal.\n",
      "ADMM terminated after 8 iterations with status: optimal.\n",
      "ADMM terminated after 8 iterations with status: optimal.\n",
      "ADMM terminated after 8 iterations with status: optimal.\n"
     ]
    },
    {
     "name": "stderr",
     "output_type": "stream",
     "text": [
      "block-boyd_tol_0.0001_rtol_0.01: 100%|██████████| 6/6 [00:00<00:00, 29.50it/s]\n",
      "block-kkt_tol_0.0001_rtol_0.01:   0%|          | 0/6 [00:00<?, ?it/s]"
     ]
    },
    {
     "name": "stdout",
     "output_type": "stream",
     "text": [
      "ADMM terminated after 8 iterations with status: optimal.\n"
     ]
    },
    {
     "name": "stderr",
     "output_type": "stream",
     "text": [
      "\r",
      "block-kkt_tol_0.0001_rtol_0.01:  17%|█▋        | 1/6 [00:00<00:01,  2.57it/s]"
     ]
    },
    {
     "name": "stdout",
     "output_type": "stream",
     "text": [
      "ADMM terminated after 67 iterations with status: optimal.\n"
     ]
    },
    {
     "name": "stderr",
     "output_type": "stream",
     "text": [
      "\r",
      "block-kkt_tol_0.0001_rtol_0.01:  33%|███▎      | 2/6 [00:00<00:01,  2.68it/s]"
     ]
    },
    {
     "name": "stdout",
     "output_type": "stream",
     "text": [
      "ADMM terminated after 67 iterations with status: optimal.\n"
     ]
    },
    {
     "name": "stderr",
     "output_type": "stream",
     "text": [
      "\r",
      "block-kkt_tol_0.0001_rtol_0.01:  50%|█████     | 3/6 [00:01<00:01,  2.76it/s]"
     ]
    },
    {
     "name": "stdout",
     "output_type": "stream",
     "text": [
      "ADMM terminated after 67 iterations with status: optimal.\n"
     ]
    },
    {
     "name": "stderr",
     "output_type": "stream",
     "text": [
      "\r",
      "block-kkt_tol_0.0001_rtol_0.01:  67%|██████▋   | 4/6 [00:01<00:00,  2.87it/s]"
     ]
    },
    {
     "name": "stdout",
     "output_type": "stream",
     "text": [
      "ADMM terminated after 67 iterations with status: optimal.\n"
     ]
    },
    {
     "name": "stderr",
     "output_type": "stream",
     "text": [
      "\r",
      "block-kkt_tol_0.0001_rtol_0.01:  83%|████████▎ | 5/6 [00:01<00:00,  2.63it/s]"
     ]
    },
    {
     "name": "stdout",
     "output_type": "stream",
     "text": [
      "ADMM terminated after 67 iterations with status: optimal.\n"
     ]
    },
    {
     "name": "stderr",
     "output_type": "stream",
     "text": [
      "block-kkt_tol_0.0001_rtol_0.01: 100%|██████████| 6/6 [00:02<00:00,  2.59it/s]\n",
      "block-boyd_tol_0.0001_rtol_0.0001: 100%|██████████| 6/6 [00:00<00:00, 31.94it/s]\n",
      "block-kkt_tol_0.0001_rtol_0.0001:   0%|          | 0/6 [00:00<?, ?it/s]"
     ]
    },
    {
     "name": "stdout",
     "output_type": "stream",
     "text": [
      "ADMM terminated after 67 iterations with status: optimal.\n",
      "ADMM terminated after 8 iterations with status: optimal.\n",
      "ADMM terminated after 8 iterations with status: optimal.\n",
      "ADMM terminated after 8 iterations with status: optimal.\n",
      "ADMM terminated after 8 iterations with status: optimal.\n",
      "ADMM terminated after 8 iterations with status: optimal.\n",
      "ADMM terminated after 8 iterations with status: optimal.\n"
     ]
    },
    {
     "name": "stderr",
     "output_type": "stream",
     "text": [
      "\r",
      "block-kkt_tol_0.0001_rtol_0.0001:  17%|█▋        | 1/6 [00:00<00:01,  2.70it/s]"
     ]
    },
    {
     "name": "stdout",
     "output_type": "stream",
     "text": [
      "ADMM terminated after 67 iterations with status: optimal.\n"
     ]
    },
    {
     "name": "stderr",
     "output_type": "stream",
     "text": [
      "\r",
      "block-kkt_tol_0.0001_rtol_0.0001:  33%|███▎      | 2/6 [00:00<00:01,  2.76it/s]"
     ]
    },
    {
     "name": "stdout",
     "output_type": "stream",
     "text": [
      "ADMM terminated after 67 iterations with status: optimal.\n"
     ]
    },
    {
     "name": "stderr",
     "output_type": "stream",
     "text": [
      "\r",
      "block-kkt_tol_0.0001_rtol_0.0001:  50%|█████     | 3/6 [00:01<00:01,  2.72it/s]"
     ]
    },
    {
     "name": "stdout",
     "output_type": "stream",
     "text": [
      "ADMM terminated after 67 iterations with status: optimal.\n"
     ]
    },
    {
     "name": "stderr",
     "output_type": "stream",
     "text": [
      "\r",
      "block-kkt_tol_0.0001_rtol_0.0001:  67%|██████▋   | 4/6 [00:01<00:00,  2.67it/s]"
     ]
    },
    {
     "name": "stdout",
     "output_type": "stream",
     "text": [
      "ADMM terminated after 67 iterations with status: optimal.\n"
     ]
    },
    {
     "name": "stderr",
     "output_type": "stream",
     "text": [
      "\r",
      "block-kkt_tol_0.0001_rtol_0.0001:  83%|████████▎ | 5/6 [00:01<00:00,  2.68it/s]"
     ]
    },
    {
     "name": "stdout",
     "output_type": "stream",
     "text": [
      "ADMM terminated after 67 iterations with status: optimal.\n"
     ]
    },
    {
     "name": "stderr",
     "output_type": "stream",
     "text": [
      "block-kkt_tol_0.0001_rtol_0.0001: 100%|██████████| 6/6 [00:02<00:00,  2.68it/s]\n",
      "block-boyd_tol_1e-05_rtol_0.01:  33%|███▎      | 2/6 [00:00<00:00, 12.52it/s]"
     ]
    },
    {
     "name": "stdout",
     "output_type": "stream",
     "text": [
      "ADMM terminated after 67 iterations with status: optimal.\n",
      "ADMM terminated after 26 iterations with status: optimal.\n",
      "ADMM terminated after 26 iterations with status: optimal.\n"
     ]
    },
    {
     "name": "stderr",
     "output_type": "stream",
     "text": [
      "block-boyd_tol_1e-05_rtol_0.01: 100%|██████████| 6/6 [00:00<00:00, 13.18it/s]\n",
      "block-kkt_tol_1e-05_rtol_0.01:   0%|          | 0/6 [00:00<?, ?it/s]"
     ]
    },
    {
     "name": "stdout",
     "output_type": "stream",
     "text": [
      "ADMM terminated after 26 iterations with status: optimal.\n",
      "ADMM terminated after 26 iterations with status: optimal.\n",
      "ADMM terminated after 26 iterations with status: optimal.\n",
      "ADMM terminated after 26 iterations with status: optimal.\n"
     ]
    },
    {
     "name": "stderr",
     "output_type": "stream",
     "text": [
      "\r",
      "block-kkt_tol_1e-05_rtol_0.01:  17%|█▋        | 1/6 [00:00<00:02,  2.00it/s]"
     ]
    },
    {
     "name": "stdout",
     "output_type": "stream",
     "text": [
      "ADMM terminated after 96 iterations with status: optimal.\n"
     ]
    },
    {
     "name": "stderr",
     "output_type": "stream",
     "text": [
      "\r",
      "block-kkt_tol_1e-05_rtol_0.01:  33%|███▎      | 2/6 [00:01<00:02,  1.97it/s]"
     ]
    },
    {
     "name": "stdout",
     "output_type": "stream",
     "text": [
      "ADMM terminated after 96 iterations with status: optimal.\n"
     ]
    },
    {
     "name": "stderr",
     "output_type": "stream",
     "text": [
      "\r",
      "block-kkt_tol_1e-05_rtol_0.01:  50%|█████     | 3/6 [00:01<00:01,  1.93it/s]"
     ]
    },
    {
     "name": "stdout",
     "output_type": "stream",
     "text": [
      "ADMM terminated after 96 iterations with status: optimal.\n"
     ]
    },
    {
     "name": "stderr",
     "output_type": "stream",
     "text": [
      "\r",
      "block-kkt_tol_1e-05_rtol_0.01:  67%|██████▋   | 4/6 [00:02<00:00,  2.01it/s]"
     ]
    },
    {
     "name": "stdout",
     "output_type": "stream",
     "text": [
      "ADMM terminated after 96 iterations with status: optimal.\n"
     ]
    },
    {
     "name": "stderr",
     "output_type": "stream",
     "text": [
      "\r",
      "block-kkt_tol_1e-05_rtol_0.01:  83%|████████▎ | 5/6 [00:02<00:00,  2.01it/s]"
     ]
    },
    {
     "name": "stdout",
     "output_type": "stream",
     "text": [
      "ADMM terminated after 96 iterations with status: optimal.\n"
     ]
    },
    {
     "name": "stderr",
     "output_type": "stream",
     "text": [
      "block-kkt_tol_1e-05_rtol_0.01: 100%|██████████| 6/6 [00:03<00:00,  1.98it/s]\n",
      "block-boyd_tol_1e-05_rtol_0.0001:  33%|███▎      | 2/6 [00:00<00:00, 11.88it/s]"
     ]
    },
    {
     "name": "stdout",
     "output_type": "stream",
     "text": [
      "ADMM terminated after 96 iterations with status: optimal.\n",
      "ADMM terminated after 28 iterations with status: optimal.\n",
      "ADMM terminated after 28 iterations with status: optimal.\n"
     ]
    },
    {
     "name": "stderr",
     "output_type": "stream",
     "text": [
      "\r",
      "block-boyd_tol_1e-05_rtol_0.0001:  67%|██████▋   | 4/6 [00:00<00:00, 11.68it/s]"
     ]
    },
    {
     "name": "stdout",
     "output_type": "stream",
     "text": [
      "ADMM terminated after 28 iterations with status: optimal.\n",
      "ADMM terminated after 28 iterations with status: optimal.\n",
      "ADMM terminated after 28 iterations with status: optimal.\n"
     ]
    },
    {
     "name": "stderr",
     "output_type": "stream",
     "text": [
      "block-boyd_tol_1e-05_rtol_0.0001: 100%|██████████| 6/6 [00:00<00:00, 11.47it/s]\n",
      "block-kkt_tol_1e-05_rtol_0.0001:   0%|          | 0/6 [00:00<?, ?it/s]"
     ]
    },
    {
     "name": "stdout",
     "output_type": "stream",
     "text": [
      "ADMM terminated after 28 iterations with status: optimal.\n"
     ]
    },
    {
     "name": "stderr",
     "output_type": "stream",
     "text": [
      "\r",
      "block-kkt_tol_1e-05_rtol_0.0001:  17%|█▋        | 1/6 [00:00<00:02,  2.14it/s]"
     ]
    },
    {
     "name": "stdout",
     "output_type": "stream",
     "text": [
      "ADMM terminated after 96 iterations with status: optimal.\n"
     ]
    },
    {
     "name": "stderr",
     "output_type": "stream",
     "text": [
      "\r",
      "block-kkt_tol_1e-05_rtol_0.0001:  33%|███▎      | 2/6 [00:01<00:02,  1.98it/s]"
     ]
    },
    {
     "name": "stdout",
     "output_type": "stream",
     "text": [
      "ADMM terminated after 96 iterations with status: optimal.\n"
     ]
    },
    {
     "name": "stderr",
     "output_type": "stream",
     "text": [
      "\r",
      "block-kkt_tol_1e-05_rtol_0.0001:  50%|█████     | 3/6 [00:01<00:01,  1.97it/s]"
     ]
    },
    {
     "name": "stdout",
     "output_type": "stream",
     "text": [
      "ADMM terminated after 96 iterations with status: optimal.\n"
     ]
    },
    {
     "name": "stderr",
     "output_type": "stream",
     "text": [
      "\r",
      "block-kkt_tol_1e-05_rtol_0.0001:  67%|██████▋   | 4/6 [00:02<00:01,  1.98it/s]"
     ]
    },
    {
     "name": "stdout",
     "output_type": "stream",
     "text": [
      "ADMM terminated after 96 iterations with status: optimal.\n"
     ]
    },
    {
     "name": "stderr",
     "output_type": "stream",
     "text": [
      "\r",
      "block-kkt_tol_1e-05_rtol_0.0001:  83%|████████▎ | 5/6 [00:02<00:00,  2.04it/s]"
     ]
    },
    {
     "name": "stdout",
     "output_type": "stream",
     "text": [
      "ADMM terminated after 96 iterations with status: optimal.\n"
     ]
    },
    {
     "name": "stderr",
     "output_type": "stream",
     "text": [
      "block-kkt_tol_1e-05_rtol_0.0001: 100%|██████████| 6/6 [00:02<00:00,  2.01it/s]\n",
      "block-boyd_tol_1e-06_rtol_0.01:  17%|█▋        | 1/6 [00:00<00:00,  7.43it/s]"
     ]
    },
    {
     "name": "stdout",
     "output_type": "stream",
     "text": [
      "ADMM terminated after 96 iterations with status: optimal.\n",
      "ADMM terminated after 43 iterations with status: optimal.\n"
     ]
    },
    {
     "name": "stderr",
     "output_type": "stream",
     "text": [
      "block-boyd_tol_1e-06_rtol_0.01:  50%|█████     | 3/6 [00:00<00:00,  7.44it/s]"
     ]
    },
    {
     "name": "stdout",
     "output_type": "stream",
     "text": [
      "ADMM terminated after 43 iterations with status: optimal.\n",
      "ADMM terminated after 43 iterations with status: optimal.\n"
     ]
    },
    {
     "name": "stderr",
     "output_type": "stream",
     "text": [
      "block-boyd_tol_1e-06_rtol_0.01:  83%|████████▎ | 5/6 [00:00<00:00,  7.32it/s]"
     ]
    },
    {
     "name": "stdout",
     "output_type": "stream",
     "text": [
      "ADMM terminated after 43 iterations with status: optimal.\n",
      "ADMM terminated after 43 iterations with status: optimal.\n"
     ]
    },
    {
     "name": "stderr",
     "output_type": "stream",
     "text": [
      "block-boyd_tol_1e-06_rtol_0.01: 100%|██████████| 6/6 [00:00<00:00,  7.29it/s]\n",
      "block-kkt_tol_1e-06_rtol_0.01:   0%|          | 0/6 [00:00<?, ?it/s]"
     ]
    },
    {
     "name": "stdout",
     "output_type": "stream",
     "text": [
      "ADMM terminated after 43 iterations with status: optimal.\n"
     ]
    },
    {
     "name": "stderr",
     "output_type": "stream",
     "text": [
      "\r",
      "block-kkt_tol_1e-06_rtol_0.01:  17%|█▋        | 1/6 [00:00<00:03,  1.38it/s]"
     ]
    },
    {
     "name": "stdout",
     "output_type": "stream",
     "text": [
      "ADMM terminated after 126 iterations with status: optimal.\n"
     ]
    },
    {
     "name": "stderr",
     "output_type": "stream",
     "text": [
      "\r",
      "block-kkt_tol_1e-06_rtol_0.01:  33%|███▎      | 2/6 [00:01<00:02,  1.44it/s]"
     ]
    },
    {
     "name": "stdout",
     "output_type": "stream",
     "text": [
      "ADMM terminated after 126 iterations with status: optimal.\n"
     ]
    },
    {
     "name": "stderr",
     "output_type": "stream",
     "text": [
      "\r",
      "block-kkt_tol_1e-06_rtol_0.01:  50%|█████     | 3/6 [00:02<00:02,  1.45it/s]"
     ]
    },
    {
     "name": "stdout",
     "output_type": "stream",
     "text": [
      "ADMM terminated after 126 iterations with status: optimal.\n"
     ]
    },
    {
     "name": "stderr",
     "output_type": "stream",
     "text": [
      "\r",
      "block-kkt_tol_1e-06_rtol_0.01:  67%|██████▋   | 4/6 [00:02<00:01,  1.52it/s]"
     ]
    },
    {
     "name": "stdout",
     "output_type": "stream",
     "text": [
      "ADMM terminated after 126 iterations with status: optimal.\n"
     ]
    },
    {
     "name": "stderr",
     "output_type": "stream",
     "text": [
      "\r",
      "block-kkt_tol_1e-06_rtol_0.01:  83%|████████▎ | 5/6 [00:03<00:00,  1.50it/s]"
     ]
    },
    {
     "name": "stdout",
     "output_type": "stream",
     "text": [
      "ADMM terminated after 126 iterations with status: optimal.\n"
     ]
    },
    {
     "name": "stderr",
     "output_type": "stream",
     "text": [
      "block-kkt_tol_1e-06_rtol_0.01: 100%|██████████| 6/6 [00:04<00:00,  1.48it/s]\n",
      "block-boyd_tol_1e-06_rtol_0.0001:  17%|█▋        | 1/6 [00:00<00:00,  6.26it/s]"
     ]
    },
    {
     "name": "stdout",
     "output_type": "stream",
     "text": [
      "ADMM terminated after 126 iterations with status: optimal.\n",
      "ADMM terminated after 56 iterations with status: optimal.\n"
     ]
    },
    {
     "name": "stderr",
     "output_type": "stream",
     "text": [
      "block-boyd_tol_1e-06_rtol_0.0001:  50%|█████     | 3/6 [00:00<00:00,  6.49it/s]"
     ]
    },
    {
     "name": "stdout",
     "output_type": "stream",
     "text": [
      "ADMM terminated after 56 iterations with status: optimal.\n",
      "ADMM terminated after 56 iterations with status: optimal.\n"
     ]
    },
    {
     "name": "stderr",
     "output_type": "stream",
     "text": [
      "block-boyd_tol_1e-06_rtol_0.0001:  83%|████████▎ | 5/6 [00:00<00:00,  6.45it/s]"
     ]
    },
    {
     "name": "stdout",
     "output_type": "stream",
     "text": [
      "ADMM terminated after 56 iterations with status: optimal.\n",
      "ADMM terminated after 56 iterations with status: optimal.\n"
     ]
    },
    {
     "name": "stderr",
     "output_type": "stream",
     "text": [
      "block-boyd_tol_1e-06_rtol_0.0001: 100%|██████████| 6/6 [00:00<00:00,  6.33it/s]\n",
      "block-kkt_tol_1e-06_rtol_0.0001:   0%|          | 0/6 [00:00<?, ?it/s]"
     ]
    },
    {
     "name": "stdout",
     "output_type": "stream",
     "text": [
      "ADMM terminated after 56 iterations with status: optimal.\n"
     ]
    },
    {
     "name": "stderr",
     "output_type": "stream",
     "text": [
      "\r",
      "block-kkt_tol_1e-06_rtol_0.0001:  17%|█▋        | 1/6 [00:00<00:03,  1.54it/s]"
     ]
    },
    {
     "name": "stdout",
     "output_type": "stream",
     "text": [
      "ADMM terminated after 126 iterations with status: optimal.\n"
     ]
    },
    {
     "name": "stderr",
     "output_type": "stream",
     "text": [
      "\r",
      "block-kkt_tol_1e-06_rtol_0.0001:  33%|███▎      | 2/6 [00:01<00:02,  1.53it/s]"
     ]
    },
    {
     "name": "stdout",
     "output_type": "stream",
     "text": [
      "ADMM terminated after 126 iterations with status: optimal.\n"
     ]
    },
    {
     "name": "stderr",
     "output_type": "stream",
     "text": [
      "\r",
      "block-kkt_tol_1e-06_rtol_0.0001:  50%|█████     | 3/6 [00:01<00:01,  1.57it/s]"
     ]
    },
    {
     "name": "stdout",
     "output_type": "stream",
     "text": [
      "ADMM terminated after 126 iterations with status: optimal.\n"
     ]
    },
    {
     "name": "stderr",
     "output_type": "stream",
     "text": [
      "\r",
      "block-kkt_tol_1e-06_rtol_0.0001:  67%|██████▋   | 4/6 [00:02<00:01,  1.56it/s]"
     ]
    },
    {
     "name": "stdout",
     "output_type": "stream",
     "text": [
      "ADMM terminated after 126 iterations with status: optimal.\n"
     ]
    },
    {
     "name": "stderr",
     "output_type": "stream",
     "text": [
      "\r",
      "block-kkt_tol_1e-06_rtol_0.0001:  83%|████████▎ | 5/6 [00:03<00:00,  1.55it/s]"
     ]
    },
    {
     "name": "stdout",
     "output_type": "stream",
     "text": [
      "ADMM terminated after 126 iterations with status: optimal.\n"
     ]
    },
    {
     "name": "stderr",
     "output_type": "stream",
     "text": [
      "block-kkt_tol_1e-06_rtol_0.0001: 100%|██████████| 6/6 [00:03<00:00,  1.57it/s]\n",
      "block-boyd_tol_1e-07_rtol_0.01:  17%|█▋        | 1/6 [00:00<00:00,  7.11it/s]"
     ]
    },
    {
     "name": "stdout",
     "output_type": "stream",
     "text": [
      "ADMM terminated after 126 iterations with status: optimal.\n",
      "ADMM terminated after 47 iterations with status: optimal.\n"
     ]
    },
    {
     "name": "stderr",
     "output_type": "stream",
     "text": [
      "block-boyd_tol_1e-07_rtol_0.01:  50%|█████     | 3/6 [00:00<00:00,  7.06it/s]"
     ]
    },
    {
     "name": "stdout",
     "output_type": "stream",
     "text": [
      "ADMM terminated after 47 iterations with status: optimal.\n",
      "ADMM terminated after 47 iterations with status: optimal.\n"
     ]
    },
    {
     "name": "stderr",
     "output_type": "stream",
     "text": [
      "block-boyd_tol_1e-07_rtol_0.01:  83%|████████▎ | 5/6 [00:00<00:00,  6.80it/s]"
     ]
    },
    {
     "name": "stdout",
     "output_type": "stream",
     "text": [
      "ADMM terminated after 47 iterations with status: optimal.\n",
      "ADMM terminated after 47 iterations with status: optimal.\n"
     ]
    },
    {
     "name": "stderr",
     "output_type": "stream",
     "text": [
      "block-boyd_tol_1e-07_rtol_0.01: 100%|██████████| 6/6 [00:00<00:00,  6.76it/s]\n",
      "block-kkt_tol_1e-07_rtol_0.01:   0%|          | 0/6 [00:00<?, ?it/s]"
     ]
    },
    {
     "name": "stdout",
     "output_type": "stream",
     "text": [
      "ADMM terminated after 47 iterations with status: optimal.\n"
     ]
    },
    {
     "name": "stderr",
     "output_type": "stream",
     "text": [
      "\r",
      "block-kkt_tol_1e-07_rtol_0.01:  17%|█▋        | 1/6 [00:00<00:04,  1.17it/s]"
     ]
    },
    {
     "name": "stdout",
     "output_type": "stream",
     "text": [
      "ADMM terminated after 157 iterations with status: optimal.\n"
     ]
    },
    {
     "name": "stderr",
     "output_type": "stream",
     "text": [
      "\r",
      "block-kkt_tol_1e-07_rtol_0.01:  33%|███▎      | 2/6 [00:01<00:03,  1.22it/s]"
     ]
    },
    {
     "name": "stdout",
     "output_type": "stream",
     "text": [
      "ADMM terminated after 157 iterations with status: optimal.\n"
     ]
    },
    {
     "name": "stderr",
     "output_type": "stream",
     "text": [
      "\r",
      "block-kkt_tol_1e-07_rtol_0.01:  50%|█████     | 3/6 [00:02<00:02,  1.20it/s]"
     ]
    },
    {
     "name": "stdout",
     "output_type": "stream",
     "text": [
      "ADMM terminated after 157 iterations with status: optimal.\n"
     ]
    },
    {
     "name": "stderr",
     "output_type": "stream",
     "text": [
      "\r",
      "block-kkt_tol_1e-07_rtol_0.01:  67%|██████▋   | 4/6 [00:03<00:01,  1.25it/s]"
     ]
    },
    {
     "name": "stdout",
     "output_type": "stream",
     "text": [
      "ADMM terminated after 157 iterations with status: optimal.\n"
     ]
    },
    {
     "name": "stderr",
     "output_type": "stream",
     "text": [
      "\r",
      "block-kkt_tol_1e-07_rtol_0.01:  83%|████████▎ | 5/6 [00:04<00:00,  1.22it/s]"
     ]
    },
    {
     "name": "stdout",
     "output_type": "stream",
     "text": [
      "ADMM terminated after 157 iterations with status: optimal.\n"
     ]
    },
    {
     "name": "stderr",
     "output_type": "stream",
     "text": [
      "block-kkt_tol_1e-07_rtol_0.01: 100%|██████████| 6/6 [00:04<00:00,  1.23it/s]\n",
      "block-boyd_tol_1e-07_rtol_0.0001:   0%|          | 0/6 [00:00<?, ?it/s]"
     ]
    },
    {
     "name": "stdout",
     "output_type": "stream",
     "text": [
      "ADMM terminated after 157 iterations with status: optimal.\n"
     ]
    },
    {
     "name": "stderr",
     "output_type": "stream",
     "text": [
      "\r",
      "block-boyd_tol_1e-07_rtol_0.0001:  17%|█▋        | 1/6 [00:00<00:01,  3.61it/s]"
     ]
    },
    {
     "name": "stdout",
     "output_type": "stream",
     "text": [
      "ADMM terminated after 83 iterations with status: optimal.\n"
     ]
    },
    {
     "name": "stderr",
     "output_type": "stream",
     "text": [
      "\r",
      "block-boyd_tol_1e-07_rtol_0.0001:  33%|███▎      | 2/6 [00:00<00:01,  3.82it/s]"
     ]
    },
    {
     "name": "stdout",
     "output_type": "stream",
     "text": [
      "ADMM terminated after 83 iterations with status: optimal.\n"
     ]
    },
    {
     "name": "stderr",
     "output_type": "stream",
     "text": [
      "\r",
      "block-boyd_tol_1e-07_rtol_0.0001:  50%|█████     | 3/6 [00:00<00:00,  3.80it/s]"
     ]
    },
    {
     "name": "stdout",
     "output_type": "stream",
     "text": [
      "ADMM terminated after 83 iterations with status: optimal.\n"
     ]
    },
    {
     "name": "stderr",
     "output_type": "stream",
     "text": [
      "\r",
      "block-boyd_tol_1e-07_rtol_0.0001:  67%|██████▋   | 4/6 [00:01<00:00,  3.93it/s]"
     ]
    },
    {
     "name": "stdout",
     "output_type": "stream",
     "text": [
      "ADMM terminated after 83 iterations with status: optimal.\n"
     ]
    },
    {
     "name": "stderr",
     "output_type": "stream",
     "text": [
      "\r",
      "block-boyd_tol_1e-07_rtol_0.0001:  83%|████████▎ | 5/6 [00:01<00:00,  3.91it/s]"
     ]
    },
    {
     "name": "stdout",
     "output_type": "stream",
     "text": [
      "ADMM terminated after 83 iterations with status: optimal.\n"
     ]
    },
    {
     "name": "stderr",
     "output_type": "stream",
     "text": [
      "block-boyd_tol_1e-07_rtol_0.0001: 100%|██████████| 6/6 [00:01<00:00,  3.93it/s]\n",
      "block-kkt_tol_1e-07_rtol_0.0001:   0%|          | 0/6 [00:00<?, ?it/s]"
     ]
    },
    {
     "name": "stdout",
     "output_type": "stream",
     "text": [
      "ADMM terminated after 83 iterations with status: optimal.\n"
     ]
    },
    {
     "name": "stderr",
     "output_type": "stream",
     "text": [
      "\r",
      "block-kkt_tol_1e-07_rtol_0.0001:  17%|█▋        | 1/6 [00:00<00:04,  1.25it/s]"
     ]
    },
    {
     "name": "stdout",
     "output_type": "stream",
     "text": [
      "ADMM terminated after 157 iterations with status: optimal.\n"
     ]
    },
    {
     "name": "stderr",
     "output_type": "stream",
     "text": [
      "\r",
      "block-kkt_tol_1e-07_rtol_0.0001:  33%|███▎      | 2/6 [00:01<00:03,  1.24it/s]"
     ]
    },
    {
     "name": "stdout",
     "output_type": "stream",
     "text": [
      "ADMM terminated after 157 iterations with status: optimal.\n"
     ]
    },
    {
     "name": "stderr",
     "output_type": "stream",
     "text": [
      "\r",
      "block-kkt_tol_1e-07_rtol_0.0001:  50%|█████     | 3/6 [00:02<00:02,  1.27it/s]"
     ]
    },
    {
     "name": "stdout",
     "output_type": "stream",
     "text": [
      "ADMM terminated after 157 iterations with status: optimal.\n"
     ]
    },
    {
     "name": "stderr",
     "output_type": "stream",
     "text": [
      "\r",
      "block-kkt_tol_1e-07_rtol_0.0001:  67%|██████▋   | 4/6 [00:03<00:01,  1.22it/s]"
     ]
    },
    {
     "name": "stdout",
     "output_type": "stream",
     "text": [
      "ADMM terminated after 157 iterations with status: optimal.\n"
     ]
    },
    {
     "name": "stderr",
     "output_type": "stream",
     "text": [
      "\r",
      "block-kkt_tol_1e-07_rtol_0.0001:  83%|████████▎ | 5/6 [00:04<00:00,  1.05it/s]"
     ]
    },
    {
     "name": "stdout",
     "output_type": "stream",
     "text": [
      "ADMM terminated after 157 iterations with status: optimal.\n"
     ]
    },
    {
     "name": "stderr",
     "output_type": "stream",
     "text": [
      "block-kkt_tol_1e-07_rtol_0.0001: 100%|██████████| 6/6 [00:05<00:00,  1.15it/s]"
     ]
    },
    {
     "name": "stdout",
     "output_type": "stream",
     "text": [
      "ADMM terminated after 157 iterations with status: optimal.\n"
     ]
    },
    {
     "name": "stderr",
     "output_type": "stream",
     "text": [
      "\n"
     ]
    }
   ],
   "source": [
    "admm_time, admm_accuracy, Z_admm = admm_time_benchmark(S=S, Omega_0=Omega_0, Z=Z, lambda1=lambda1, \n",
    "                                                   method_list=[\"single\", \"block\"],\n",
    "                                                   stop_list=['boyd', 'kkt'], \n",
    "                                                   tol_list=tol_list, \n",
    "                                                   rtol_list=rtol_list,\n",
    "                                                   n_iter=1 + 5)"
   ]
  },
  {
   "cell_type": "markdown",
   "id": "liberal-dating",
   "metadata": {},
   "source": [
    "# Data formating"
   ]
  },
  {
   "cell_type": "code",
   "execution_count": 15,
   "id": "differential-latin",
   "metadata": {},
   "outputs": [],
   "source": [
    "sparsity_sk = distance_benchmark(Theta, Z_sk, t=1e-5)\n",
    "sparsity_admm = distance_benchmark(Theta, Z_admm, t=1e-5)"
   ]
  },
  {
   "cell_type": "code",
   "execution_count": 16,
   "id": "cloudy-brave",
   "metadata": {},
   "outputs": [
    {
     "data": {
      "text/html": [
       "<div>\n",
       "<style scoped>\n",
       "    .dataframe tbody tr th:only-of-type {\n",
       "        vertical-align: middle;\n",
       "    }\n",
       "\n",
       "    .dataframe tbody tr th {\n",
       "        vertical-align: top;\n",
       "    }\n",
       "\n",
       "    .dataframe thead th {\n",
       "        text-align: right;\n",
       "    }\n",
       "</style>\n",
       "<table border=\"1\" class=\"dataframe\">\n",
       "  <thead>\n",
       "    <tr style=\"text-align: right;\">\n",
       "      <th></th>\n",
       "      <th>name</th>\n",
       "      <th>time</th>\n",
       "      <th>accuracy</th>\n",
       "      <th>hamming</th>\n",
       "    </tr>\n",
       "  </thead>\n",
       "  <tbody>\n",
       "    <tr>\n",
       "      <th>0</th>\n",
       "      <td>sklearn_tol_0.0001_enet_0.1</td>\n",
       "      <td>0.228450</td>\n",
       "      <td>3.146413e-03</td>\n",
       "      <td>8262</td>\n",
       "    </tr>\n",
       "    <tr>\n",
       "      <th>1</th>\n",
       "      <td>sklearn_tol_1e-05_enet_0.1</td>\n",
       "      <td>0.612504</td>\n",
       "      <td>1.673918e-05</td>\n",
       "      <td>8258</td>\n",
       "    </tr>\n",
       "    <tr>\n",
       "      <th>2</th>\n",
       "      <td>sklearn_tol_1e-06_enet_0.1</td>\n",
       "      <td>0.705758</td>\n",
       "      <td>1.492459e-06</td>\n",
       "      <td>8258</td>\n",
       "    </tr>\n",
       "    <tr>\n",
       "      <th>3</th>\n",
       "      <td>sklearn_tol_1e-07_enet_0.1</td>\n",
       "      <td>0.668444</td>\n",
       "      <td>1.747504e-07</td>\n",
       "      <td>8258</td>\n",
       "    </tr>\n",
       "    <tr>\n",
       "      <th>4</th>\n",
       "      <td>regain_tol_0.0001_rtol_0.01</td>\n",
       "      <td>0.129911</td>\n",
       "      <td>1.145834e-02</td>\n",
       "      <td>8272</td>\n",
       "    </tr>\n",
       "  </tbody>\n",
       "</table>\n",
       "</div>"
      ],
      "text/plain": [
       "                          name      time      accuracy  hamming\n",
       "0  sklearn_tol_0.0001_enet_0.1  0.228450  3.146413e-03     8262\n",
       "1   sklearn_tol_1e-05_enet_0.1  0.612504  1.673918e-05     8258\n",
       "2   sklearn_tol_1e-06_enet_0.1  0.705758  1.492459e-06     8258\n",
       "3   sklearn_tol_1e-07_enet_0.1  0.668444  1.747504e-07     8258\n",
       "4  regain_tol_0.0001_rtol_0.01  0.129911  1.145834e-02     8272"
      ]
     },
     "execution_count": 16,
     "metadata": {},
     "output_type": "execute_result"
    }
   ],
   "source": [
    "df_sk = pd.DataFrame(data={'name': sk_time.keys(), 'time': sk_time.values(), \"accuracy\": sk_accuracy.values(),\n",
    "                          \"hamming\": sparsity_sk.values()})\n",
    "\n",
    "df_admm = pd.DataFrame(data={'name': admm_time.keys(), 'time': admm_time.values(), \"accuracy\": admm_accuracy.values(),\n",
    "                            \"hamming\": sparsity_admm.values()})\n",
    "\n",
    "df = pd.concat([df_sk, df_admm])\n",
    "df.head()"
   ]
  },
  {
   "cell_type": "code",
   "execution_count": 24,
   "id": "lyric-cleaner",
   "metadata": {},
   "outputs": [
    {
     "data": {
      "text/html": [
       "<div>\n",
       "<style scoped>\n",
       "    .dataframe tbody tr th:only-of-type {\n",
       "        vertical-align: middle;\n",
       "    }\n",
       "\n",
       "    .dataframe tbody tr th {\n",
       "        vertical-align: top;\n",
       "    }\n",
       "\n",
       "    .dataframe thead th {\n",
       "        text-align: right;\n",
       "    }\n",
       "</style>\n",
       "<table border=\"1\" class=\"dataframe\">\n",
       "  <thead>\n",
       "    <tr style=\"text-align: right;\">\n",
       "      <th></th>\n",
       "      <th>name</th>\n",
       "      <th>time</th>\n",
       "      <th>accuracy</th>\n",
       "      <th>sparsity</th>\n",
       "      <th>method</th>\n",
       "      <th>tol</th>\n",
       "      <th>rtol</th>\n",
       "    </tr>\n",
       "  </thead>\n",
       "  <tbody>\n",
       "    <tr>\n",
       "      <th>0</th>\n",
       "      <td>sklearn_tol_0.0001_enet_0.1</td>\n",
       "      <td>58.703270</td>\n",
       "      <td>1.209231e-05</td>\n",
       "      <td>0.041172</td>\n",
       "      <td>sklearn</td>\n",
       "      <td>0.0001</td>\n",
       "      <td>0.1</td>\n",
       "    </tr>\n",
       "    <tr>\n",
       "      <th>1</th>\n",
       "      <td>sklearn_tol_1e-05_enet_0.1</td>\n",
       "      <td>100.285248</td>\n",
       "      <td>5.379661e-06</td>\n",
       "      <td>0.041172</td>\n",
       "      <td>sklearn</td>\n",
       "      <td>1e-05</td>\n",
       "      <td>0.1</td>\n",
       "    </tr>\n",
       "    <tr>\n",
       "      <th>2</th>\n",
       "      <td>sklearn_tol_1e-06_enet_0.1</td>\n",
       "      <td>112.136015</td>\n",
       "      <td>3.223257e-08</td>\n",
       "      <td>0.041172</td>\n",
       "      <td>sklearn</td>\n",
       "      <td>1e-06</td>\n",
       "      <td>0.1</td>\n",
       "    </tr>\n",
       "    <tr>\n",
       "      <th>3</th>\n",
       "      <td>sklearn_tol_1e-07_enet_0.1</td>\n",
       "      <td>502.651721</td>\n",
       "      <td>4.956103e-09</td>\n",
       "      <td>0.041172</td>\n",
       "      <td>sklearn</td>\n",
       "      <td>1e-07</td>\n",
       "      <td>0.1</td>\n",
       "    </tr>\n",
       "    <tr>\n",
       "      <th>4</th>\n",
       "      <td>regain_tol_0.0001_rtol_0.01</td>\n",
       "      <td>9.431963</td>\n",
       "      <td>1.433152e-02</td>\n",
       "      <td>0.039145</td>\n",
       "      <td>regain</td>\n",
       "      <td>0.0001</td>\n",
       "      <td>0.01</td>\n",
       "    </tr>\n",
       "  </tbody>\n",
       "</table>\n",
       "</div>"
      ],
      "text/plain": [
       "                          name        time      accuracy  sparsity   method  \\\n",
       "0  sklearn_tol_0.0001_enet_0.1   58.703270  1.209231e-05  0.041172  sklearn   \n",
       "1   sklearn_tol_1e-05_enet_0.1  100.285248  5.379661e-06  0.041172  sklearn   \n",
       "2   sklearn_tol_1e-06_enet_0.1  112.136015  3.223257e-08  0.041172  sklearn   \n",
       "3   sklearn_tol_1e-07_enet_0.1  502.651721  4.956103e-09  0.041172  sklearn   \n",
       "4  regain_tol_0.0001_rtol_0.01    9.431963  1.433152e-02  0.039145   regain   \n",
       "\n",
       "      tol  rtol  \n",
       "0  0.0001   0.1  \n",
       "1   1e-05   0.1  \n",
       "2   1e-06   0.1  \n",
       "3   1e-07   0.1  \n",
       "4  0.0001  0.01  "
      ]
     },
     "execution_count": 24,
     "metadata": {},
     "output_type": "execute_result"
    }
   ],
   "source": [
    "df['split'] = df['name'].str.split('_')\n",
    "df[[\"method\", \"tol_str\", \"tol\", \"rtol_str\", \"rtol\"]] = pd.DataFrame(df['split'].tolist(), index=df['split'].index)\n",
    "df = df.drop(['split', \"tol_str\", \"rtol_str\"], axis=1)\n",
    "df.head()"
   ]
  },
  {
   "cell_type": "markdown",
   "id": "governmental-seafood",
   "metadata": {},
   "source": [
    "Here in sklearn, \"rtol\" corresponds to \"enet_tol\", see [sklearn.covariance.graphical_lasso](https://scikit-learn.org/stable/modules/generated/sklearn.covariance.graphical_lasso.html)"
   ]
  },
  {
   "cell_type": "code",
   "execution_count": 25,
   "id": "computational-summary",
   "metadata": {},
   "outputs": [
    {
     "data": {
      "application/vnd.plotly.v1+json": {
       "config": {
        "plotlyServerURL": "https://plot.ly"
       },
       "data": [
        {
         "hovertemplate": "method=sklearn<br>Time, s=%{x}<br>Log_distance=%{y}<br>name=%{text}<extra></extra>",
         "legendgroup": "sklearn",
         "line": {
          "color": "#636efa",
          "dash": "solid"
         },
         "mode": "markers+lines",
         "name": "sklearn",
         "orientation": "v",
         "showlegend": true,
         "text": [
          "sklearn_tol_0.0001_enet_0.1",
          "sklearn_tol_1e-05_enet_0.1",
          "sklearn_tol_1e-06_enet_0.1",
          "sklearn_tol_1e-07_enet_0.1"
         ],
         "type": "scatter",
         "x": [
          58.70327014923096,
          100.28524780273438,
          112.13601512908936,
          502.65172090530393
         ],
         "xaxis": "x",
         "y": [
          1.2092314848106959E-5,
          5.379661420291795E-6,
          3.223256543026857E-8,
          4.956102833506076E-9
         ],
         "yaxis": "y"
        },
        {
         "hovertemplate": "method=regain<br>Time, s=%{x}<br>Log_distance=%{y}<br>name=%{text}<extra></extra>",
         "legendgroup": "regain",
         "line": {
          "color": "#EF553B",
          "dash": "solid"
         },
         "mode": "markers+lines",
         "name": "regain",
         "orientation": "v",
         "showlegend": true,
         "text": [
          "regain_tol_0.0001_rtol_0.01",
          "regain_tol_0.0001_rtol_0.0001",
          "regain_tol_1e-05_rtol_0.01",
          "regain_tol_1e-05_rtol_0.0001",
          "regain_tol_1e-06_rtol_0.01",
          "regain_tol_1e-06_rtol_0.0001",
          "regain_tol_1e-07_rtol_0.01",
          "regain_tol_1e-07_rtol_0.0001"
         ],
         "type": "scatter",
         "x": [
          9.431962728500366,
          10.420886611938476,
          10.929201650619508,
          15.745672416687011,
          10.886913967132568,
          20.632447052001954,
          10.756610202789307,
          21.804955863952635
         ],
         "xaxis": "x",
         "y": [
          0.014331520208369294,
          0.007206712984603567,
          0.007206712984603567,
          0.001274858491319658,
          0.007206712984603567,
          2.448517698602221E-4,
          0.007206712984603567,
          1.390671387993888E-4
         ],
         "yaxis": "y"
        },
        {
         "hovertemplate": "method=single-boyd<br>Time, s=%{x}<br>Log_distance=%{y}<br>name=%{text}<extra></extra>",
         "legendgroup": "single-boyd",
         "line": {
          "color": "#00cc96",
          "dash": "solid"
         },
         "mode": "markers+lines",
         "name": "single-boyd",
         "orientation": "v",
         "showlegend": true,
         "text": [
          "single-boyd_tol_0.0001_rtol_0.01",
          "single-boyd_tol_0.0001_rtol_0.0001",
          "single-boyd_tol_1e-05_rtol_0.01",
          "single-boyd_tol_1e-05_rtol_0.0001",
          "single-boyd_tol_1e-06_rtol_0.01",
          "single-boyd_tol_1e-06_rtol_0.0001",
          "single-boyd_tol_1e-07_rtol_0.01",
          "single-boyd_tol_1e-07_rtol_0.0001"
         ],
         "type": "scatter",
         "x": [
          1.1114903688430786,
          0.7383529543876648,
          1.1837295889854431,
          1.265598714351654,
          2.9101442098617554,
          3.2143329977989197,
          8.078505218029022,
          15.953672230243683
         ],
         "xaxis": "x",
         "y": [
          0.3287843161227195,
          0.3287843161227195,
          0.22209697511275722,
          0.22209697511275722,
          0.03949869734432997,
          0.030988215678313346,
          0.014785315799404758,
          0.011283267556155656
         ],
         "yaxis": "y"
        },
        {
         "hovertemplate": "method=single-kkt<br>Time, s=%{x}<br>Log_distance=%{y}<br>name=%{text}<extra></extra>",
         "legendgroup": "single-kkt",
         "line": {
          "color": "#ab63fa",
          "dash": "solid"
         },
         "mode": "markers+lines",
         "name": "single-kkt",
         "orientation": "v",
         "showlegend": true,
         "text": [
          "single-kkt_tol_0.0001_rtol_0.01",
          "single-kkt_tol_0.0001_rtol_0.0001",
          "single-kkt_tol_1e-05_rtol_0.01",
          "single-kkt_tol_1e-05_rtol_0.0001",
          "single-kkt_tol_1e-06_rtol_0.01",
          "single-kkt_tol_1e-06_rtol_0.0001",
          "single-kkt_tol_1e-07_rtol_0.01",
          "single-kkt_tol_1e-07_rtol_0.0001"
         ],
         "type": "scatter",
         "x": [
          24.40853351354599,
          24.35765242576599,
          38.180606961250305,
          295.49378830194473,
          43.20781171321869,
          65.01363670825958,
          89.90823608636856,
          109.96609115600586
         ],
         "xaxis": "x",
         "y": [
          0.010668362880121091,
          0.010668362880121091,
          0.01067183711765276,
          0.01067183711765276,
          0.010673021136166768,
          0.010673021136166768,
          0.010673146682616498,
          0.010673146682616498
         ],
         "yaxis": "y"
        },
        {
         "hovertemplate": "method=block-boyd<br>Time, s=%{x}<br>Log_distance=%{y}<br>name=%{text}<extra></extra>",
         "legendgroup": "block-boyd",
         "line": {
          "color": "#FFA15A",
          "dash": "solid"
         },
         "mode": "markers+lines",
         "name": "block-boyd",
         "orientation": "v",
         "showlegend": true,
         "text": [
          "block-boyd_tol_0.0001_rtol_0.01",
          "block-boyd_tol_0.0001_rtol_0.0001",
          "block-boyd_tol_1e-05_rtol_0.01",
          "block-boyd_tol_1e-05_rtol_0.0001",
          "block-boyd_tol_1e-06_rtol_0.01",
          "block-boyd_tol_1e-06_rtol_0.0001",
          "block-boyd_tol_1e-07_rtol_0.01",
          "block-boyd_tol_1e-07_rtol_0.0001"
         ],
         "type": "scatter",
         "x": [
          1.1582392454147339,
          0.890267014503479,
          1.1548913717269897,
          1.0834852457046509,
          3.5462453961372375,
          3.4268038868904114,
          5.164887309074402,
          8.321105301380157
         ],
         "xaxis": "x",
         "y": [
          0.3287843161227195,
          0.3287843161227195,
          0.22209697511275722,
          0.22209697511275722,
          0.03949869734432997,
          0.030988215678313346,
          0.014785315799404758,
          0.011283267556155656
         ],
         "yaxis": "y"
        },
        {
         "hovertemplate": "method=block-kkt<br>Time, s=%{x}<br>Log_distance=%{y}<br>name=%{text}<extra></extra>",
         "legendgroup": "block-kkt",
         "line": {
          "color": "#19d3f3",
          "dash": "solid"
         },
         "mode": "markers+lines",
         "name": "block-kkt",
         "orientation": "v",
         "showlegend": true,
         "text": [
          "block-kkt_tol_0.0001_rtol_0.01",
          "block-kkt_tol_0.0001_rtol_0.0001",
          "block-kkt_tol_1e-05_rtol_0.01",
          "block-kkt_tol_1e-05_rtol_0.0001",
          "block-kkt_tol_1e-06_rtol_0.01",
          "block-kkt_tol_1e-06_rtol_0.0001",
          "block-kkt_tol_1e-07_rtol_0.01",
          "block-kkt_tol_1e-07_rtol_0.0001"
         ],
         "type": "scatter",
         "x": [
          33.604636549949646,
          20.06632226705551,
          29.22151291370392,
          29.09201169013977,
          41.91387337446213,
          42.2491672039032,
          68.92794871330261,
          73.14324516057968
         ],
         "xaxis": "x",
         "y": [
          0.010668362880121091,
          0.010668362880121091,
          0.01067183711765276,
          0.01067183711765276,
          0.010673021136166768,
          0.010673021136166768,
          0.010673146682616498,
          0.010673146682616498
         ],
         "yaxis": "y"
        }
       ],
       "layout": {
        "legend": {
         "title": {
          "text": "method"
         },
         "tracegroupgap": 0
        },
        "template": {
         "data": {
          "bar": [
           {
            "error_x": {
             "color": "#2a3f5f"
            },
            "error_y": {
             "color": "#2a3f5f"
            },
            "marker": {
             "line": {
              "color": "white",
              "width": 0.5
             }
            },
            "type": "bar"
           }
          ],
          "barpolar": [
           {
            "marker": {
             "line": {
              "color": "white",
              "width": 0.5
             }
            },
            "type": "barpolar"
           }
          ],
          "carpet": [
           {
            "aaxis": {
             "endlinecolor": "#2a3f5f",
             "gridcolor": "#C8D4E3",
             "linecolor": "#C8D4E3",
             "minorgridcolor": "#C8D4E3",
             "startlinecolor": "#2a3f5f"
            },
            "baxis": {
             "endlinecolor": "#2a3f5f",
             "gridcolor": "#C8D4E3",
             "linecolor": "#C8D4E3",
             "minorgridcolor": "#C8D4E3",
             "startlinecolor": "#2a3f5f"
            },
            "type": "carpet"
           }
          ],
          "choropleth": [
           {
            "colorbar": {
             "outlinewidth": 0,
             "ticks": ""
            },
            "type": "choropleth"
           }
          ],
          "contour": [
           {
            "colorbar": {
             "outlinewidth": 0,
             "ticks": ""
            },
            "colorscale": [
             [
              0,
              "#0d0887"
             ],
             [
              0.1111111111111111,
              "#46039f"
             ],
             [
              0.2222222222222222,
              "#7201a8"
             ],
             [
              0.3333333333333333,
              "#9c179e"
             ],
             [
              0.4444444444444444,
              "#bd3786"
             ],
             [
              0.5555555555555556,
              "#d8576b"
             ],
             [
              0.6666666666666666,
              "#ed7953"
             ],
             [
              0.7777777777777778,
              "#fb9f3a"
             ],
             [
              0.8888888888888888,
              "#fdca26"
             ],
             [
              1,
              "#f0f921"
             ]
            ],
            "type": "contour"
           }
          ],
          "contourcarpet": [
           {
            "colorbar": {
             "outlinewidth": 0,
             "ticks": ""
            },
            "type": "contourcarpet"
           }
          ],
          "heatmap": [
           {
            "colorbar": {
             "outlinewidth": 0,
             "ticks": ""
            },
            "colorscale": [
             [
              0,
              "#0d0887"
             ],
             [
              0.1111111111111111,
              "#46039f"
             ],
             [
              0.2222222222222222,
              "#7201a8"
             ],
             [
              0.3333333333333333,
              "#9c179e"
             ],
             [
              0.4444444444444444,
              "#bd3786"
             ],
             [
              0.5555555555555556,
              "#d8576b"
             ],
             [
              0.6666666666666666,
              "#ed7953"
             ],
             [
              0.7777777777777778,
              "#fb9f3a"
             ],
             [
              0.8888888888888888,
              "#fdca26"
             ],
             [
              1,
              "#f0f921"
             ]
            ],
            "type": "heatmap"
           }
          ],
          "heatmapgl": [
           {
            "colorbar": {
             "outlinewidth": 0,
             "ticks": ""
            },
            "colorscale": [
             [
              0,
              "#0d0887"
             ],
             [
              0.1111111111111111,
              "#46039f"
             ],
             [
              0.2222222222222222,
              "#7201a8"
             ],
             [
              0.3333333333333333,
              "#9c179e"
             ],
             [
              0.4444444444444444,
              "#bd3786"
             ],
             [
              0.5555555555555556,
              "#d8576b"
             ],
             [
              0.6666666666666666,
              "#ed7953"
             ],
             [
              0.7777777777777778,
              "#fb9f3a"
             ],
             [
              0.8888888888888888,
              "#fdca26"
             ],
             [
              1,
              "#f0f921"
             ]
            ],
            "type": "heatmapgl"
           }
          ],
          "histogram": [
           {
            "marker": {
             "colorbar": {
              "outlinewidth": 0,
              "ticks": ""
             }
            },
            "type": "histogram"
           }
          ],
          "histogram2d": [
           {
            "colorbar": {
             "outlinewidth": 0,
             "ticks": ""
            },
            "colorscale": [
             [
              0,
              "#0d0887"
             ],
             [
              0.1111111111111111,
              "#46039f"
             ],
             [
              0.2222222222222222,
              "#7201a8"
             ],
             [
              0.3333333333333333,
              "#9c179e"
             ],
             [
              0.4444444444444444,
              "#bd3786"
             ],
             [
              0.5555555555555556,
              "#d8576b"
             ],
             [
              0.6666666666666666,
              "#ed7953"
             ],
             [
              0.7777777777777778,
              "#fb9f3a"
             ],
             [
              0.8888888888888888,
              "#fdca26"
             ],
             [
              1,
              "#f0f921"
             ]
            ],
            "type": "histogram2d"
           }
          ],
          "histogram2dcontour": [
           {
            "colorbar": {
             "outlinewidth": 0,
             "ticks": ""
            },
            "colorscale": [
             [
              0,
              "#0d0887"
             ],
             [
              0.1111111111111111,
              "#46039f"
             ],
             [
              0.2222222222222222,
              "#7201a8"
             ],
             [
              0.3333333333333333,
              "#9c179e"
             ],
             [
              0.4444444444444444,
              "#bd3786"
             ],
             [
              0.5555555555555556,
              "#d8576b"
             ],
             [
              0.6666666666666666,
              "#ed7953"
             ],
             [
              0.7777777777777778,
              "#fb9f3a"
             ],
             [
              0.8888888888888888,
              "#fdca26"
             ],
             [
              1,
              "#f0f921"
             ]
            ],
            "type": "histogram2dcontour"
           }
          ],
          "mesh3d": [
           {
            "colorbar": {
             "outlinewidth": 0,
             "ticks": ""
            },
            "type": "mesh3d"
           }
          ],
          "parcoords": [
           {
            "line": {
             "colorbar": {
              "outlinewidth": 0,
              "ticks": ""
             }
            },
            "type": "parcoords"
           }
          ],
          "pie": [
           {
            "automargin": true,
            "type": "pie"
           }
          ],
          "scatter": [
           {
            "marker": {
             "colorbar": {
              "outlinewidth": 0,
              "ticks": ""
             }
            },
            "type": "scatter"
           }
          ],
          "scatter3d": [
           {
            "line": {
             "colorbar": {
              "outlinewidth": 0,
              "ticks": ""
             }
            },
            "marker": {
             "colorbar": {
              "outlinewidth": 0,
              "ticks": ""
             }
            },
            "type": "scatter3d"
           }
          ],
          "scattercarpet": [
           {
            "marker": {
             "colorbar": {
              "outlinewidth": 0,
              "ticks": ""
             }
            },
            "type": "scattercarpet"
           }
          ],
          "scattergeo": [
           {
            "marker": {
             "colorbar": {
              "outlinewidth": 0,
              "ticks": ""
             }
            },
            "type": "scattergeo"
           }
          ],
          "scattergl": [
           {
            "marker": {
             "colorbar": {
              "outlinewidth": 0,
              "ticks": ""
             }
            },
            "type": "scattergl"
           }
          ],
          "scattermapbox": [
           {
            "marker": {
             "colorbar": {
              "outlinewidth": 0,
              "ticks": ""
             }
            },
            "type": "scattermapbox"
           }
          ],
          "scatterpolar": [
           {
            "marker": {
             "colorbar": {
              "outlinewidth": 0,
              "ticks": ""
             }
            },
            "type": "scatterpolar"
           }
          ],
          "scatterpolargl": [
           {
            "marker": {
             "colorbar": {
              "outlinewidth": 0,
              "ticks": ""
             }
            },
            "type": "scatterpolargl"
           }
          ],
          "scatterternary": [
           {
            "marker": {
             "colorbar": {
              "outlinewidth": 0,
              "ticks": ""
             }
            },
            "type": "scatterternary"
           }
          ],
          "surface": [
           {
            "colorbar": {
             "outlinewidth": 0,
             "ticks": ""
            },
            "colorscale": [
             [
              0,
              "#0d0887"
             ],
             [
              0.1111111111111111,
              "#46039f"
             ],
             [
              0.2222222222222222,
              "#7201a8"
             ],
             [
              0.3333333333333333,
              "#9c179e"
             ],
             [
              0.4444444444444444,
              "#bd3786"
             ],
             [
              0.5555555555555556,
              "#d8576b"
             ],
             [
              0.6666666666666666,
              "#ed7953"
             ],
             [
              0.7777777777777778,
              "#fb9f3a"
             ],
             [
              0.8888888888888888,
              "#fdca26"
             ],
             [
              1,
              "#f0f921"
             ]
            ],
            "type": "surface"
           }
          ],
          "table": [
           {
            "cells": {
             "fill": {
              "color": "#EBF0F8"
             },
             "line": {
              "color": "white"
             }
            },
            "header": {
             "fill": {
              "color": "#C8D4E3"
             },
             "line": {
              "color": "white"
             }
            },
            "type": "table"
           }
          ]
         },
         "layout": {
          "annotationdefaults": {
           "arrowcolor": "#2a3f5f",
           "arrowhead": 0,
           "arrowwidth": 1
          },
          "autotypenumbers": "strict",
          "coloraxis": {
           "colorbar": {
            "outlinewidth": 0,
            "ticks": ""
           }
          },
          "colorscale": {
           "diverging": [
            [
             0,
             "#8e0152"
            ],
            [
             0.1,
             "#c51b7d"
            ],
            [
             0.2,
             "#de77ae"
            ],
            [
             0.3,
             "#f1b6da"
            ],
            [
             0.4,
             "#fde0ef"
            ],
            [
             0.5,
             "#f7f7f7"
            ],
            [
             0.6,
             "#e6f5d0"
            ],
            [
             0.7,
             "#b8e186"
            ],
            [
             0.8,
             "#7fbc41"
            ],
            [
             0.9,
             "#4d9221"
            ],
            [
             1,
             "#276419"
            ]
           ],
           "sequential": [
            [
             0,
             "#0d0887"
            ],
            [
             0.1111111111111111,
             "#46039f"
            ],
            [
             0.2222222222222222,
             "#7201a8"
            ],
            [
             0.3333333333333333,
             "#9c179e"
            ],
            [
             0.4444444444444444,
             "#bd3786"
            ],
            [
             0.5555555555555556,
             "#d8576b"
            ],
            [
             0.6666666666666666,
             "#ed7953"
            ],
            [
             0.7777777777777778,
             "#fb9f3a"
            ],
            [
             0.8888888888888888,
             "#fdca26"
            ],
            [
             1,
             "#f0f921"
            ]
           ],
           "sequentialminus": [
            [
             0,
             "#0d0887"
            ],
            [
             0.1111111111111111,
             "#46039f"
            ],
            [
             0.2222222222222222,
             "#7201a8"
            ],
            [
             0.3333333333333333,
             "#9c179e"
            ],
            [
             0.4444444444444444,
             "#bd3786"
            ],
            [
             0.5555555555555556,
             "#d8576b"
            ],
            [
             0.6666666666666666,
             "#ed7953"
            ],
            [
             0.7777777777777778,
             "#fb9f3a"
            ],
            [
             0.8888888888888888,
             "#fdca26"
            ],
            [
             1,
             "#f0f921"
            ]
           ]
          },
          "colorway": [
           "#636efa",
           "#EF553B",
           "#00cc96",
           "#ab63fa",
           "#FFA15A",
           "#19d3f3",
           "#FF6692",
           "#B6E880",
           "#FF97FF",
           "#FECB52"
          ],
          "font": {
           "color": "#2a3f5f"
          },
          "geo": {
           "bgcolor": "white",
           "lakecolor": "white",
           "landcolor": "white",
           "showlakes": true,
           "showland": true,
           "subunitcolor": "#C8D4E3"
          },
          "hoverlabel": {
           "align": "left"
          },
          "hovermode": "closest",
          "mapbox": {
           "style": "light"
          },
          "paper_bgcolor": "white",
          "plot_bgcolor": "white",
          "polar": {
           "angularaxis": {
            "gridcolor": "#EBF0F8",
            "linecolor": "#EBF0F8",
            "ticks": ""
           },
           "bgcolor": "white",
           "radialaxis": {
            "gridcolor": "#EBF0F8",
            "linecolor": "#EBF0F8",
            "ticks": ""
           }
          },
          "scene": {
           "xaxis": {
            "backgroundcolor": "white",
            "gridcolor": "#DFE8F3",
            "gridwidth": 2,
            "linecolor": "#EBF0F8",
            "showbackground": true,
            "ticks": "",
            "zerolinecolor": "#EBF0F8"
           },
           "yaxis": {
            "backgroundcolor": "white",
            "gridcolor": "#DFE8F3",
            "gridwidth": 2,
            "linecolor": "#EBF0F8",
            "showbackground": true,
            "ticks": "",
            "zerolinecolor": "#EBF0F8"
           },
           "zaxis": {
            "backgroundcolor": "white",
            "gridcolor": "#DFE8F3",
            "gridwidth": 2,
            "linecolor": "#EBF0F8",
            "showbackground": true,
            "ticks": "",
            "zerolinecolor": "#EBF0F8"
           }
          },
          "shapedefaults": {
           "line": {
            "color": "#2a3f5f"
           }
          },
          "ternary": {
           "aaxis": {
            "gridcolor": "#DFE8F3",
            "linecolor": "#A2B1C6",
            "ticks": ""
           },
           "baxis": {
            "gridcolor": "#DFE8F3",
            "linecolor": "#A2B1C6",
            "ticks": ""
           },
           "bgcolor": "white",
           "caxis": {
            "gridcolor": "#DFE8F3",
            "linecolor": "#A2B1C6",
            "ticks": ""
           }
          },
          "title": {
           "x": 0.05
          },
          "xaxis": {
           "automargin": true,
           "gridcolor": "#EBF0F8",
           "linecolor": "#EBF0F8",
           "ticks": "",
           "title": {
            "standoff": 15
           },
           "zerolinecolor": "#EBF0F8",
           "zerolinewidth": 2
          },
          "yaxis": {
           "automargin": true,
           "gridcolor": "#EBF0F8",
           "linecolor": "#EBF0F8",
           "ticks": "",
           "title": {
            "standoff": 15
           },
           "zerolinecolor": "#EBF0F8",
           "zerolinewidth": 2
          }
         }
        },
        "title": {
         "text": "Log-distance between Z and Z' with respect to ADMM convergence rates"
        },
        "xaxis": {
         "anchor": "y",
         "domain": [
          0,
          1
         ],
         "title": {
          "text": "Time, s"
         }
        },
        "yaxis": {
         "anchor": "x",
         "domain": [
          0,
          1
         ],
         "title": {
          "text": "Log_distance"
         },
         "type": "log"
        }
       }
      },
      "text/html": [
       "<div>                            <div id=\"44eeedbd-40ea-41df-9512-fe20869424ef\" class=\"plotly-graph-div\" style=\"height:525px; width:100%;\"></div>            <script type=\"text/javascript\">                require([\"plotly\"], function(Plotly) {                    window.PLOTLYENV=window.PLOTLYENV || {};                                    if (document.getElementById(\"44eeedbd-40ea-41df-9512-fe20869424ef\")) {                    Plotly.newPlot(                        \"44eeedbd-40ea-41df-9512-fe20869424ef\",                        [{\"hovertemplate\": \"method=sklearn<br>Time, s=%{x}<br>Log_distance=%{y}<br>name=%{text}<extra></extra>\", \"legendgroup\": \"sklearn\", \"line\": {\"color\": \"#636efa\", \"dash\": \"solid\"}, \"mode\": \"markers+lines\", \"name\": \"sklearn\", \"orientation\": \"v\", \"showlegend\": true, \"text\": [\"sklearn_tol_0.0001_enet_0.1\", \"sklearn_tol_1e-05_enet_0.1\", \"sklearn_tol_1e-06_enet_0.1\", \"sklearn_tol_1e-07_enet_0.1\"], \"type\": \"scatter\", \"x\": [58.70327014923096, 100.28524780273438, 112.13601512908936, 502.65172090530393], \"xaxis\": \"x\", \"y\": [1.2092314848106959e-05, 5.379661420291795e-06, 3.223256543026857e-08, 4.956102833506076e-09], \"yaxis\": \"y\"}, {\"hovertemplate\": \"method=regain<br>Time, s=%{x}<br>Log_distance=%{y}<br>name=%{text}<extra></extra>\", \"legendgroup\": \"regain\", \"line\": {\"color\": \"#EF553B\", \"dash\": \"solid\"}, \"mode\": \"markers+lines\", \"name\": \"regain\", \"orientation\": \"v\", \"showlegend\": true, \"text\": [\"regain_tol_0.0001_rtol_0.01\", \"regain_tol_0.0001_rtol_0.0001\", \"regain_tol_1e-05_rtol_0.01\", \"regain_tol_1e-05_rtol_0.0001\", \"regain_tol_1e-06_rtol_0.01\", \"regain_tol_1e-06_rtol_0.0001\", \"regain_tol_1e-07_rtol_0.01\", \"regain_tol_1e-07_rtol_0.0001\"], \"type\": \"scatter\", \"x\": [9.431962728500366, 10.420886611938476, 10.929201650619508, 15.745672416687011, 10.886913967132568, 20.632447052001954, 10.756610202789307, 21.804955863952635], \"xaxis\": \"x\", \"y\": [0.014331520208369294, 0.007206712984603567, 0.007206712984603567, 0.001274858491319658, 0.007206712984603567, 0.0002448517698602221, 0.007206712984603567, 0.0001390671387993888], \"yaxis\": \"y\"}, {\"hovertemplate\": \"method=single-boyd<br>Time, s=%{x}<br>Log_distance=%{y}<br>name=%{text}<extra></extra>\", \"legendgroup\": \"single-boyd\", \"line\": {\"color\": \"#00cc96\", \"dash\": \"solid\"}, \"mode\": \"markers+lines\", \"name\": \"single-boyd\", \"orientation\": \"v\", \"showlegend\": true, \"text\": [\"single-boyd_tol_0.0001_rtol_0.01\", \"single-boyd_tol_0.0001_rtol_0.0001\", \"single-boyd_tol_1e-05_rtol_0.01\", \"single-boyd_tol_1e-05_rtol_0.0001\", \"single-boyd_tol_1e-06_rtol_0.01\", \"single-boyd_tol_1e-06_rtol_0.0001\", \"single-boyd_tol_1e-07_rtol_0.01\", \"single-boyd_tol_1e-07_rtol_0.0001\"], \"type\": \"scatter\", \"x\": [1.1114903688430786, 0.7383529543876648, 1.1837295889854431, 1.265598714351654, 2.9101442098617554, 3.2143329977989197, 8.078505218029022, 15.953672230243683], \"xaxis\": \"x\", \"y\": [0.3287843161227195, 0.3287843161227195, 0.22209697511275722, 0.22209697511275722, 0.03949869734432997, 0.030988215678313346, 0.014785315799404758, 0.011283267556155656], \"yaxis\": \"y\"}, {\"hovertemplate\": \"method=single-kkt<br>Time, s=%{x}<br>Log_distance=%{y}<br>name=%{text}<extra></extra>\", \"legendgroup\": \"single-kkt\", \"line\": {\"color\": \"#ab63fa\", \"dash\": \"solid\"}, \"mode\": \"markers+lines\", \"name\": \"single-kkt\", \"orientation\": \"v\", \"showlegend\": true, \"text\": [\"single-kkt_tol_0.0001_rtol_0.01\", \"single-kkt_tol_0.0001_rtol_0.0001\", \"single-kkt_tol_1e-05_rtol_0.01\", \"single-kkt_tol_1e-05_rtol_0.0001\", \"single-kkt_tol_1e-06_rtol_0.01\", \"single-kkt_tol_1e-06_rtol_0.0001\", \"single-kkt_tol_1e-07_rtol_0.01\", \"single-kkt_tol_1e-07_rtol_0.0001\"], \"type\": \"scatter\", \"x\": [24.40853351354599, 24.35765242576599, 38.180606961250305, 295.49378830194473, 43.20781171321869, 65.01363670825958, 89.90823608636856, 109.96609115600586], \"xaxis\": \"x\", \"y\": [0.010668362880121091, 0.010668362880121091, 0.01067183711765276, 0.01067183711765276, 0.010673021136166768, 0.010673021136166768, 0.010673146682616498, 0.010673146682616498], \"yaxis\": \"y\"}, {\"hovertemplate\": \"method=block-boyd<br>Time, s=%{x}<br>Log_distance=%{y}<br>name=%{text}<extra></extra>\", \"legendgroup\": \"block-boyd\", \"line\": {\"color\": \"#FFA15A\", \"dash\": \"solid\"}, \"mode\": \"markers+lines\", \"name\": \"block-boyd\", \"orientation\": \"v\", \"showlegend\": true, \"text\": [\"block-boyd_tol_0.0001_rtol_0.01\", \"block-boyd_tol_0.0001_rtol_0.0001\", \"block-boyd_tol_1e-05_rtol_0.01\", \"block-boyd_tol_1e-05_rtol_0.0001\", \"block-boyd_tol_1e-06_rtol_0.01\", \"block-boyd_tol_1e-06_rtol_0.0001\", \"block-boyd_tol_1e-07_rtol_0.01\", \"block-boyd_tol_1e-07_rtol_0.0001\"], \"type\": \"scatter\", \"x\": [1.1582392454147339, 0.890267014503479, 1.1548913717269897, 1.0834852457046509, 3.5462453961372375, 3.4268038868904114, 5.164887309074402, 8.321105301380157], \"xaxis\": \"x\", \"y\": [0.3287843161227195, 0.3287843161227195, 0.22209697511275722, 0.22209697511275722, 0.03949869734432997, 0.030988215678313346, 0.014785315799404758, 0.011283267556155656], \"yaxis\": \"y\"}, {\"hovertemplate\": \"method=block-kkt<br>Time, s=%{x}<br>Log_distance=%{y}<br>name=%{text}<extra></extra>\", \"legendgroup\": \"block-kkt\", \"line\": {\"color\": \"#19d3f3\", \"dash\": \"solid\"}, \"mode\": \"markers+lines\", \"name\": \"block-kkt\", \"orientation\": \"v\", \"showlegend\": true, \"text\": [\"block-kkt_tol_0.0001_rtol_0.01\", \"block-kkt_tol_0.0001_rtol_0.0001\", \"block-kkt_tol_1e-05_rtol_0.01\", \"block-kkt_tol_1e-05_rtol_0.0001\", \"block-kkt_tol_1e-06_rtol_0.01\", \"block-kkt_tol_1e-06_rtol_0.0001\", \"block-kkt_tol_1e-07_rtol_0.01\", \"block-kkt_tol_1e-07_rtol_0.0001\"], \"type\": \"scatter\", \"x\": [33.604636549949646, 20.06632226705551, 29.22151291370392, 29.09201169013977, 41.91387337446213, 42.2491672039032, 68.92794871330261, 73.14324516057968], \"xaxis\": \"x\", \"y\": [0.010668362880121091, 0.010668362880121091, 0.01067183711765276, 0.01067183711765276, 0.010673021136166768, 0.010673021136166768, 0.010673146682616498, 0.010673146682616498], \"yaxis\": \"y\"}],                        {\"legend\": {\"title\": {\"text\": \"method\"}, \"tracegroupgap\": 0}, \"template\": {\"data\": {\"bar\": [{\"error_x\": {\"color\": \"#2a3f5f\"}, \"error_y\": {\"color\": \"#2a3f5f\"}, \"marker\": {\"line\": {\"color\": \"white\", \"width\": 0.5}}, \"type\": \"bar\"}], \"barpolar\": [{\"marker\": {\"line\": {\"color\": \"white\", \"width\": 0.5}}, \"type\": \"barpolar\"}], \"carpet\": [{\"aaxis\": {\"endlinecolor\": \"#2a3f5f\", \"gridcolor\": \"#C8D4E3\", \"linecolor\": \"#C8D4E3\", \"minorgridcolor\": \"#C8D4E3\", \"startlinecolor\": \"#2a3f5f\"}, \"baxis\": {\"endlinecolor\": \"#2a3f5f\", \"gridcolor\": \"#C8D4E3\", \"linecolor\": \"#C8D4E3\", \"minorgridcolor\": \"#C8D4E3\", \"startlinecolor\": \"#2a3f5f\"}, \"type\": \"carpet\"}], \"choropleth\": [{\"colorbar\": {\"outlinewidth\": 0, \"ticks\": \"\"}, \"type\": \"choropleth\"}], \"contour\": [{\"colorbar\": {\"outlinewidth\": 0, \"ticks\": \"\"}, \"colorscale\": [[0.0, \"#0d0887\"], [0.1111111111111111, \"#46039f\"], [0.2222222222222222, \"#7201a8\"], [0.3333333333333333, \"#9c179e\"], [0.4444444444444444, \"#bd3786\"], [0.5555555555555556, \"#d8576b\"], [0.6666666666666666, \"#ed7953\"], [0.7777777777777778, \"#fb9f3a\"], [0.8888888888888888, \"#fdca26\"], [1.0, \"#f0f921\"]], \"type\": \"contour\"}], \"contourcarpet\": [{\"colorbar\": {\"outlinewidth\": 0, \"ticks\": \"\"}, \"type\": \"contourcarpet\"}], \"heatmap\": [{\"colorbar\": {\"outlinewidth\": 0, \"ticks\": \"\"}, \"colorscale\": [[0.0, \"#0d0887\"], [0.1111111111111111, \"#46039f\"], [0.2222222222222222, \"#7201a8\"], [0.3333333333333333, \"#9c179e\"], [0.4444444444444444, \"#bd3786\"], [0.5555555555555556, \"#d8576b\"], [0.6666666666666666, \"#ed7953\"], [0.7777777777777778, \"#fb9f3a\"], [0.8888888888888888, \"#fdca26\"], [1.0, \"#f0f921\"]], \"type\": \"heatmap\"}], \"heatmapgl\": [{\"colorbar\": {\"outlinewidth\": 0, \"ticks\": \"\"}, \"colorscale\": [[0.0, \"#0d0887\"], [0.1111111111111111, \"#46039f\"], [0.2222222222222222, \"#7201a8\"], [0.3333333333333333, \"#9c179e\"], [0.4444444444444444, \"#bd3786\"], [0.5555555555555556, \"#d8576b\"], [0.6666666666666666, \"#ed7953\"], [0.7777777777777778, \"#fb9f3a\"], [0.8888888888888888, \"#fdca26\"], [1.0, \"#f0f921\"]], \"type\": \"heatmapgl\"}], \"histogram\": [{\"marker\": {\"colorbar\": {\"outlinewidth\": 0, \"ticks\": \"\"}}, \"type\": \"histogram\"}], \"histogram2d\": [{\"colorbar\": {\"outlinewidth\": 0, \"ticks\": \"\"}, \"colorscale\": [[0.0, \"#0d0887\"], [0.1111111111111111, \"#46039f\"], [0.2222222222222222, \"#7201a8\"], [0.3333333333333333, \"#9c179e\"], [0.4444444444444444, \"#bd3786\"], [0.5555555555555556, \"#d8576b\"], [0.6666666666666666, \"#ed7953\"], [0.7777777777777778, \"#fb9f3a\"], [0.8888888888888888, \"#fdca26\"], [1.0, \"#f0f921\"]], \"type\": \"histogram2d\"}], \"histogram2dcontour\": [{\"colorbar\": {\"outlinewidth\": 0, \"ticks\": \"\"}, \"colorscale\": [[0.0, \"#0d0887\"], [0.1111111111111111, \"#46039f\"], [0.2222222222222222, \"#7201a8\"], [0.3333333333333333, \"#9c179e\"], [0.4444444444444444, \"#bd3786\"], [0.5555555555555556, \"#d8576b\"], [0.6666666666666666, \"#ed7953\"], [0.7777777777777778, \"#fb9f3a\"], [0.8888888888888888, \"#fdca26\"], [1.0, \"#f0f921\"]], \"type\": \"histogram2dcontour\"}], \"mesh3d\": [{\"colorbar\": {\"outlinewidth\": 0, \"ticks\": \"\"}, \"type\": \"mesh3d\"}], \"parcoords\": [{\"line\": {\"colorbar\": {\"outlinewidth\": 0, \"ticks\": \"\"}}, \"type\": \"parcoords\"}], \"pie\": [{\"automargin\": true, \"type\": \"pie\"}], \"scatter\": [{\"marker\": {\"colorbar\": {\"outlinewidth\": 0, \"ticks\": \"\"}}, \"type\": \"scatter\"}], \"scatter3d\": [{\"line\": {\"colorbar\": {\"outlinewidth\": 0, \"ticks\": \"\"}}, \"marker\": {\"colorbar\": {\"outlinewidth\": 0, \"ticks\": \"\"}}, \"type\": \"scatter3d\"}], \"scattercarpet\": [{\"marker\": {\"colorbar\": {\"outlinewidth\": 0, \"ticks\": \"\"}}, \"type\": \"scattercarpet\"}], \"scattergeo\": [{\"marker\": {\"colorbar\": {\"outlinewidth\": 0, \"ticks\": \"\"}}, \"type\": \"scattergeo\"}], \"scattergl\": [{\"marker\": {\"colorbar\": {\"outlinewidth\": 0, \"ticks\": \"\"}}, \"type\": \"scattergl\"}], \"scattermapbox\": [{\"marker\": {\"colorbar\": {\"outlinewidth\": 0, \"ticks\": \"\"}}, \"type\": \"scattermapbox\"}], \"scatterpolar\": [{\"marker\": {\"colorbar\": {\"outlinewidth\": 0, \"ticks\": \"\"}}, \"type\": \"scatterpolar\"}], \"scatterpolargl\": [{\"marker\": {\"colorbar\": {\"outlinewidth\": 0, \"ticks\": \"\"}}, \"type\": \"scatterpolargl\"}], \"scatterternary\": [{\"marker\": {\"colorbar\": {\"outlinewidth\": 0, \"ticks\": \"\"}}, \"type\": \"scatterternary\"}], \"surface\": [{\"colorbar\": {\"outlinewidth\": 0, \"ticks\": \"\"}, \"colorscale\": [[0.0, \"#0d0887\"], [0.1111111111111111, \"#46039f\"], [0.2222222222222222, \"#7201a8\"], [0.3333333333333333, \"#9c179e\"], [0.4444444444444444, \"#bd3786\"], [0.5555555555555556, \"#d8576b\"], [0.6666666666666666, \"#ed7953\"], [0.7777777777777778, \"#fb9f3a\"], [0.8888888888888888, \"#fdca26\"], [1.0, \"#f0f921\"]], \"type\": \"surface\"}], \"table\": [{\"cells\": {\"fill\": {\"color\": \"#EBF0F8\"}, \"line\": {\"color\": \"white\"}}, \"header\": {\"fill\": {\"color\": \"#C8D4E3\"}, \"line\": {\"color\": \"white\"}}, \"type\": \"table\"}]}, \"layout\": {\"annotationdefaults\": {\"arrowcolor\": \"#2a3f5f\", \"arrowhead\": 0, \"arrowwidth\": 1}, \"autotypenumbers\": \"strict\", \"coloraxis\": {\"colorbar\": {\"outlinewidth\": 0, \"ticks\": \"\"}}, \"colorscale\": {\"diverging\": [[0, \"#8e0152\"], [0.1, \"#c51b7d\"], [0.2, \"#de77ae\"], [0.3, \"#f1b6da\"], [0.4, \"#fde0ef\"], [0.5, \"#f7f7f7\"], [0.6, \"#e6f5d0\"], [0.7, \"#b8e186\"], [0.8, \"#7fbc41\"], [0.9, \"#4d9221\"], [1, \"#276419\"]], \"sequential\": [[0.0, \"#0d0887\"], [0.1111111111111111, \"#46039f\"], [0.2222222222222222, \"#7201a8\"], [0.3333333333333333, \"#9c179e\"], [0.4444444444444444, \"#bd3786\"], [0.5555555555555556, \"#d8576b\"], [0.6666666666666666, \"#ed7953\"], [0.7777777777777778, \"#fb9f3a\"], [0.8888888888888888, \"#fdca26\"], [1.0, \"#f0f921\"]], \"sequentialminus\": [[0.0, \"#0d0887\"], [0.1111111111111111, \"#46039f\"], [0.2222222222222222, \"#7201a8\"], [0.3333333333333333, \"#9c179e\"], [0.4444444444444444, \"#bd3786\"], [0.5555555555555556, \"#d8576b\"], [0.6666666666666666, \"#ed7953\"], [0.7777777777777778, \"#fb9f3a\"], [0.8888888888888888, \"#fdca26\"], [1.0, \"#f0f921\"]]}, \"colorway\": [\"#636efa\", \"#EF553B\", \"#00cc96\", \"#ab63fa\", \"#FFA15A\", \"#19d3f3\", \"#FF6692\", \"#B6E880\", \"#FF97FF\", \"#FECB52\"], \"font\": {\"color\": \"#2a3f5f\"}, \"geo\": {\"bgcolor\": \"white\", \"lakecolor\": \"white\", \"landcolor\": \"white\", \"showlakes\": true, \"showland\": true, \"subunitcolor\": \"#C8D4E3\"}, \"hoverlabel\": {\"align\": \"left\"}, \"hovermode\": \"closest\", \"mapbox\": {\"style\": \"light\"}, \"paper_bgcolor\": \"white\", \"plot_bgcolor\": \"white\", \"polar\": {\"angularaxis\": {\"gridcolor\": \"#EBF0F8\", \"linecolor\": \"#EBF0F8\", \"ticks\": \"\"}, \"bgcolor\": \"white\", \"radialaxis\": {\"gridcolor\": \"#EBF0F8\", \"linecolor\": \"#EBF0F8\", \"ticks\": \"\"}}, \"scene\": {\"xaxis\": {\"backgroundcolor\": \"white\", \"gridcolor\": \"#DFE8F3\", \"gridwidth\": 2, \"linecolor\": \"#EBF0F8\", \"showbackground\": true, \"ticks\": \"\", \"zerolinecolor\": \"#EBF0F8\"}, \"yaxis\": {\"backgroundcolor\": \"white\", \"gridcolor\": \"#DFE8F3\", \"gridwidth\": 2, \"linecolor\": \"#EBF0F8\", \"showbackground\": true, \"ticks\": \"\", \"zerolinecolor\": \"#EBF0F8\"}, \"zaxis\": {\"backgroundcolor\": \"white\", \"gridcolor\": \"#DFE8F3\", \"gridwidth\": 2, \"linecolor\": \"#EBF0F8\", \"showbackground\": true, \"ticks\": \"\", \"zerolinecolor\": \"#EBF0F8\"}}, \"shapedefaults\": {\"line\": {\"color\": \"#2a3f5f\"}}, \"ternary\": {\"aaxis\": {\"gridcolor\": \"#DFE8F3\", \"linecolor\": \"#A2B1C6\", \"ticks\": \"\"}, \"baxis\": {\"gridcolor\": \"#DFE8F3\", \"linecolor\": \"#A2B1C6\", \"ticks\": \"\"}, \"bgcolor\": \"white\", \"caxis\": {\"gridcolor\": \"#DFE8F3\", \"linecolor\": \"#A2B1C6\", \"ticks\": \"\"}}, \"title\": {\"x\": 0.05}, \"xaxis\": {\"automargin\": true, \"gridcolor\": \"#EBF0F8\", \"linecolor\": \"#EBF0F8\", \"ticks\": \"\", \"title\": {\"standoff\": 15}, \"zerolinecolor\": \"#EBF0F8\", \"zerolinewidth\": 2}, \"yaxis\": {\"automargin\": true, \"gridcolor\": \"#EBF0F8\", \"linecolor\": \"#EBF0F8\", \"ticks\": \"\", \"title\": {\"standoff\": 15}, \"zerolinecolor\": \"#EBF0F8\", \"zerolinewidth\": 2}}}, \"title\": {\"text\": \"Log-distance between Z and Z' with respect to ADMM convergence rates\"}, \"xaxis\": {\"anchor\": \"y\", \"domain\": [0.0, 1.0], \"title\": {\"text\": \"Time, s\"}}, \"yaxis\": {\"anchor\": \"x\", \"domain\": [0.0, 1.0], \"title\": {\"text\": \"Log_distance\"}, \"type\": \"log\"}},                        {\"responsive\": true}                    ).then(function(){\n",
       "                            \n",
       "var gd = document.getElementById('44eeedbd-40ea-41df-9512-fe20869424ef');\n",
       "var x = new MutationObserver(function (mutations, observer) {{\n",
       "        var display = window.getComputedStyle(gd).display;\n",
       "        if (!display || display === 'none') {{\n",
       "            console.log([gd, 'removed!']);\n",
       "            Plotly.purge(gd);\n",
       "            observer.disconnect();\n",
       "        }}\n",
       "}});\n",
       "\n",
       "// Listen for the removal of the full notebook cells\n",
       "var notebookContainer = gd.closest('#notebook-container');\n",
       "if (notebookContainer) {{\n",
       "    x.observe(notebookContainer, {childList: true});\n",
       "}}\n",
       "\n",
       "// Listen for the clearing of the current output cell\n",
       "var outputEl = gd.closest('.output');\n",
       "if (outputEl) {{\n",
       "    x.observe(outputEl, {childList: true});\n",
       "}}\n",
       "\n",
       "                        })                };                });            </script>        </div>"
      ]
     },
     "metadata": {},
     "output_type": "display_data"
    }
   ],
   "source": [
    "fig = px.line(df, x=\"time\", y=\"accuracy\", text = \"name\", color= \"method\", \n",
    "              log_y = True, \n",
    "              labels={\n",
    "                     \"time\": \"Time, s\",\n",
    "                     \"accuracy\": \"Log_distance\",\n",
    "                     \"method\": \"method\"\n",
    "                 },\n",
    "              template = \"plotly_white\",\n",
    "              title=\"Log-distance between Z and Z' with respect to ADMM convergence rates\")\n",
    "fig.update_traces(mode='markers+lines')\n",
    "fig.show()"
   ]
  },
  {
   "cell_type": "code",
   "execution_count": 12,
   "id": "official-marsh",
   "metadata": {},
   "outputs": [
    {
     "data": {
      "application/vnd.plotly.v1+json": {
       "config": {
        "plotlyServerURL": "https://plot.ly"
       },
       "data": [
        {
         "hovertemplate": "method=sklearn<br>Tolerance rate=%{x}<br>Log_distance=%{y}<extra></extra>",
         "legendgroup": "sklearn",
         "line": {
          "color": "#636efa",
          "dash": "solid"
         },
         "mode": "markers+lines",
         "name": "sklearn",
         "orientation": "v",
         "showlegend": true,
         "type": "scatter",
         "x": [
          "0.0001",
          "1e-05",
          "1e-06",
          "1e-07"
         ],
         "xaxis": "x",
         "y": [
          1.2092314848106959E-5,
          5.379661420291795E-6,
          3.223256543026857E-8,
          4.956102833506076E-9
         ],
         "yaxis": "y"
        },
        {
         "hovertemplate": "method=regain<br>Tolerance rate=%{x}<br>Log_distance=%{y}<extra></extra>",
         "legendgroup": "regain",
         "line": {
          "color": "#EF553B",
          "dash": "solid"
         },
         "mode": "markers+lines",
         "name": "regain",
         "orientation": "v",
         "showlegend": true,
         "type": "scatter",
         "x": [
          "0.0001",
          "0.0001",
          "1e-05",
          "1e-05",
          "1e-06",
          "1e-06",
          "1e-07",
          "1e-07"
         ],
         "xaxis": "x",
         "y": [
          0.014331520208369294,
          0.007206712984603567,
          0.007206712984603567,
          0.001274858491319658,
          0.007206712984603567,
          2.448517698602221E-4,
          0.007206712984603567,
          1.390671387993888E-4
         ],
         "yaxis": "y"
        },
        {
         "hovertemplate": "method=single-boyd<br>Tolerance rate=%{x}<br>Log_distance=%{y}<extra></extra>",
         "legendgroup": "single-boyd",
         "line": {
          "color": "#00cc96",
          "dash": "solid"
         },
         "mode": "markers+lines",
         "name": "single-boyd",
         "orientation": "v",
         "showlegend": true,
         "type": "scatter",
         "x": [
          "0.0001",
          "0.0001",
          "1e-05",
          "1e-05",
          "1e-06",
          "1e-06",
          "1e-07",
          "1e-07"
         ],
         "xaxis": "x",
         "y": [
          0.3287843161227195,
          0.3287843161227195,
          0.22209697511275722,
          0.22209697511275722,
          0.03949869734432997,
          0.030988215678313346,
          0.014785315799404758,
          0.011283267556155656
         ],
         "yaxis": "y"
        },
        {
         "hovertemplate": "method=single-kkt<br>Tolerance rate=%{x}<br>Log_distance=%{y}<extra></extra>",
         "legendgroup": "single-kkt",
         "line": {
          "color": "#ab63fa",
          "dash": "solid"
         },
         "mode": "markers+lines",
         "name": "single-kkt",
         "orientation": "v",
         "showlegend": true,
         "type": "scatter",
         "x": [
          "0.0001",
          "0.0001",
          "1e-05",
          "1e-05",
          "1e-06",
          "1e-06",
          "1e-07",
          "1e-07"
         ],
         "xaxis": "x",
         "y": [
          0.010668362880121091,
          0.010668362880121091,
          0.01067183711765276,
          0.01067183711765276,
          0.010673021136166768,
          0.010673021136166768,
          0.010673146682616498,
          0.010673146682616498
         ],
         "yaxis": "y"
        },
        {
         "hovertemplate": "method=block-boyd<br>Tolerance rate=%{x}<br>Log_distance=%{y}<extra></extra>",
         "legendgroup": "block-boyd",
         "line": {
          "color": "#FFA15A",
          "dash": "solid"
         },
         "mode": "markers+lines",
         "name": "block-boyd",
         "orientation": "v",
         "showlegend": true,
         "type": "scatter",
         "x": [
          "0.0001",
          "0.0001",
          "1e-05",
          "1e-05",
          "1e-06",
          "1e-06",
          "1e-07",
          "1e-07"
         ],
         "xaxis": "x",
         "y": [
          0.3287843161227195,
          0.3287843161227195,
          0.22209697511275722,
          0.22209697511275722,
          0.03949869734432997,
          0.030988215678313346,
          0.014785315799404758,
          0.011283267556155656
         ],
         "yaxis": "y"
        },
        {
         "hovertemplate": "method=block-kkt<br>Tolerance rate=%{x}<br>Log_distance=%{y}<extra></extra>",
         "legendgroup": "block-kkt",
         "line": {
          "color": "#19d3f3",
          "dash": "solid"
         },
         "mode": "markers+lines",
         "name": "block-kkt",
         "orientation": "v",
         "showlegend": true,
         "type": "scatter",
         "x": [
          "0.0001",
          "0.0001",
          "1e-05",
          "1e-05",
          "1e-06",
          "1e-06",
          "1e-07",
          "1e-07"
         ],
         "xaxis": "x",
         "y": [
          0.010668362880121091,
          0.010668362880121091,
          0.01067183711765276,
          0.01067183711765276,
          0.010673021136166768,
          0.010673021136166768,
          0.010673146682616498,
          0.010673146682616498
         ],
         "yaxis": "y"
        }
       ],
       "layout": {
        "legend": {
         "title": {
          "text": "method"
         },
         "tracegroupgap": 0
        },
        "template": {
         "data": {
          "bar": [
           {
            "error_x": {
             "color": "#2a3f5f"
            },
            "error_y": {
             "color": "#2a3f5f"
            },
            "marker": {
             "line": {
              "color": "white",
              "width": 0.5
             }
            },
            "type": "bar"
           }
          ],
          "barpolar": [
           {
            "marker": {
             "line": {
              "color": "white",
              "width": 0.5
             }
            },
            "type": "barpolar"
           }
          ],
          "carpet": [
           {
            "aaxis": {
             "endlinecolor": "#2a3f5f",
             "gridcolor": "#C8D4E3",
             "linecolor": "#C8D4E3",
             "minorgridcolor": "#C8D4E3",
             "startlinecolor": "#2a3f5f"
            },
            "baxis": {
             "endlinecolor": "#2a3f5f",
             "gridcolor": "#C8D4E3",
             "linecolor": "#C8D4E3",
             "minorgridcolor": "#C8D4E3",
             "startlinecolor": "#2a3f5f"
            },
            "type": "carpet"
           }
          ],
          "choropleth": [
           {
            "colorbar": {
             "outlinewidth": 0,
             "ticks": ""
            },
            "type": "choropleth"
           }
          ],
          "contour": [
           {
            "colorbar": {
             "outlinewidth": 0,
             "ticks": ""
            },
            "colorscale": [
             [
              0,
              "#0d0887"
             ],
             [
              0.1111111111111111,
              "#46039f"
             ],
             [
              0.2222222222222222,
              "#7201a8"
             ],
             [
              0.3333333333333333,
              "#9c179e"
             ],
             [
              0.4444444444444444,
              "#bd3786"
             ],
             [
              0.5555555555555556,
              "#d8576b"
             ],
             [
              0.6666666666666666,
              "#ed7953"
             ],
             [
              0.7777777777777778,
              "#fb9f3a"
             ],
             [
              0.8888888888888888,
              "#fdca26"
             ],
             [
              1,
              "#f0f921"
             ]
            ],
            "type": "contour"
           }
          ],
          "contourcarpet": [
           {
            "colorbar": {
             "outlinewidth": 0,
             "ticks": ""
            },
            "type": "contourcarpet"
           }
          ],
          "heatmap": [
           {
            "colorbar": {
             "outlinewidth": 0,
             "ticks": ""
            },
            "colorscale": [
             [
              0,
              "#0d0887"
             ],
             [
              0.1111111111111111,
              "#46039f"
             ],
             [
              0.2222222222222222,
              "#7201a8"
             ],
             [
              0.3333333333333333,
              "#9c179e"
             ],
             [
              0.4444444444444444,
              "#bd3786"
             ],
             [
              0.5555555555555556,
              "#d8576b"
             ],
             [
              0.6666666666666666,
              "#ed7953"
             ],
             [
              0.7777777777777778,
              "#fb9f3a"
             ],
             [
              0.8888888888888888,
              "#fdca26"
             ],
             [
              1,
              "#f0f921"
             ]
            ],
            "type": "heatmap"
           }
          ],
          "heatmapgl": [
           {
            "colorbar": {
             "outlinewidth": 0,
             "ticks": ""
            },
            "colorscale": [
             [
              0,
              "#0d0887"
             ],
             [
              0.1111111111111111,
              "#46039f"
             ],
             [
              0.2222222222222222,
              "#7201a8"
             ],
             [
              0.3333333333333333,
              "#9c179e"
             ],
             [
              0.4444444444444444,
              "#bd3786"
             ],
             [
              0.5555555555555556,
              "#d8576b"
             ],
             [
              0.6666666666666666,
              "#ed7953"
             ],
             [
              0.7777777777777778,
              "#fb9f3a"
             ],
             [
              0.8888888888888888,
              "#fdca26"
             ],
             [
              1,
              "#f0f921"
             ]
            ],
            "type": "heatmapgl"
           }
          ],
          "histogram": [
           {
            "marker": {
             "colorbar": {
              "outlinewidth": 0,
              "ticks": ""
             }
            },
            "type": "histogram"
           }
          ],
          "histogram2d": [
           {
            "colorbar": {
             "outlinewidth": 0,
             "ticks": ""
            },
            "colorscale": [
             [
              0,
              "#0d0887"
             ],
             [
              0.1111111111111111,
              "#46039f"
             ],
             [
              0.2222222222222222,
              "#7201a8"
             ],
             [
              0.3333333333333333,
              "#9c179e"
             ],
             [
              0.4444444444444444,
              "#bd3786"
             ],
             [
              0.5555555555555556,
              "#d8576b"
             ],
             [
              0.6666666666666666,
              "#ed7953"
             ],
             [
              0.7777777777777778,
              "#fb9f3a"
             ],
             [
              0.8888888888888888,
              "#fdca26"
             ],
             [
              1,
              "#f0f921"
             ]
            ],
            "type": "histogram2d"
           }
          ],
          "histogram2dcontour": [
           {
            "colorbar": {
             "outlinewidth": 0,
             "ticks": ""
            },
            "colorscale": [
             [
              0,
              "#0d0887"
             ],
             [
              0.1111111111111111,
              "#46039f"
             ],
             [
              0.2222222222222222,
              "#7201a8"
             ],
             [
              0.3333333333333333,
              "#9c179e"
             ],
             [
              0.4444444444444444,
              "#bd3786"
             ],
             [
              0.5555555555555556,
              "#d8576b"
             ],
             [
              0.6666666666666666,
              "#ed7953"
             ],
             [
              0.7777777777777778,
              "#fb9f3a"
             ],
             [
              0.8888888888888888,
              "#fdca26"
             ],
             [
              1,
              "#f0f921"
             ]
            ],
            "type": "histogram2dcontour"
           }
          ],
          "mesh3d": [
           {
            "colorbar": {
             "outlinewidth": 0,
             "ticks": ""
            },
            "type": "mesh3d"
           }
          ],
          "parcoords": [
           {
            "line": {
             "colorbar": {
              "outlinewidth": 0,
              "ticks": ""
             }
            },
            "type": "parcoords"
           }
          ],
          "pie": [
           {
            "automargin": true,
            "type": "pie"
           }
          ],
          "scatter": [
           {
            "marker": {
             "colorbar": {
              "outlinewidth": 0,
              "ticks": ""
             }
            },
            "type": "scatter"
           }
          ],
          "scatter3d": [
           {
            "line": {
             "colorbar": {
              "outlinewidth": 0,
              "ticks": ""
             }
            },
            "marker": {
             "colorbar": {
              "outlinewidth": 0,
              "ticks": ""
             }
            },
            "type": "scatter3d"
           }
          ],
          "scattercarpet": [
           {
            "marker": {
             "colorbar": {
              "outlinewidth": 0,
              "ticks": ""
             }
            },
            "type": "scattercarpet"
           }
          ],
          "scattergeo": [
           {
            "marker": {
             "colorbar": {
              "outlinewidth": 0,
              "ticks": ""
             }
            },
            "type": "scattergeo"
           }
          ],
          "scattergl": [
           {
            "marker": {
             "colorbar": {
              "outlinewidth": 0,
              "ticks": ""
             }
            },
            "type": "scattergl"
           }
          ],
          "scattermapbox": [
           {
            "marker": {
             "colorbar": {
              "outlinewidth": 0,
              "ticks": ""
             }
            },
            "type": "scattermapbox"
           }
          ],
          "scatterpolar": [
           {
            "marker": {
             "colorbar": {
              "outlinewidth": 0,
              "ticks": ""
             }
            },
            "type": "scatterpolar"
           }
          ],
          "scatterpolargl": [
           {
            "marker": {
             "colorbar": {
              "outlinewidth": 0,
              "ticks": ""
             }
            },
            "type": "scatterpolargl"
           }
          ],
          "scatterternary": [
           {
            "marker": {
             "colorbar": {
              "outlinewidth": 0,
              "ticks": ""
             }
            },
            "type": "scatterternary"
           }
          ],
          "surface": [
           {
            "colorbar": {
             "outlinewidth": 0,
             "ticks": ""
            },
            "colorscale": [
             [
              0,
              "#0d0887"
             ],
             [
              0.1111111111111111,
              "#46039f"
             ],
             [
              0.2222222222222222,
              "#7201a8"
             ],
             [
              0.3333333333333333,
              "#9c179e"
             ],
             [
              0.4444444444444444,
              "#bd3786"
             ],
             [
              0.5555555555555556,
              "#d8576b"
             ],
             [
              0.6666666666666666,
              "#ed7953"
             ],
             [
              0.7777777777777778,
              "#fb9f3a"
             ],
             [
              0.8888888888888888,
              "#fdca26"
             ],
             [
              1,
              "#f0f921"
             ]
            ],
            "type": "surface"
           }
          ],
          "table": [
           {
            "cells": {
             "fill": {
              "color": "#EBF0F8"
             },
             "line": {
              "color": "white"
             }
            },
            "header": {
             "fill": {
              "color": "#C8D4E3"
             },
             "line": {
              "color": "white"
             }
            },
            "type": "table"
           }
          ]
         },
         "layout": {
          "annotationdefaults": {
           "arrowcolor": "#2a3f5f",
           "arrowhead": 0,
           "arrowwidth": 1
          },
          "autotypenumbers": "strict",
          "coloraxis": {
           "colorbar": {
            "outlinewidth": 0,
            "ticks": ""
           }
          },
          "colorscale": {
           "diverging": [
            [
             0,
             "#8e0152"
            ],
            [
             0.1,
             "#c51b7d"
            ],
            [
             0.2,
             "#de77ae"
            ],
            [
             0.3,
             "#f1b6da"
            ],
            [
             0.4,
             "#fde0ef"
            ],
            [
             0.5,
             "#f7f7f7"
            ],
            [
             0.6,
             "#e6f5d0"
            ],
            [
             0.7,
             "#b8e186"
            ],
            [
             0.8,
             "#7fbc41"
            ],
            [
             0.9,
             "#4d9221"
            ],
            [
             1,
             "#276419"
            ]
           ],
           "sequential": [
            [
             0,
             "#0d0887"
            ],
            [
             0.1111111111111111,
             "#46039f"
            ],
            [
             0.2222222222222222,
             "#7201a8"
            ],
            [
             0.3333333333333333,
             "#9c179e"
            ],
            [
             0.4444444444444444,
             "#bd3786"
            ],
            [
             0.5555555555555556,
             "#d8576b"
            ],
            [
             0.6666666666666666,
             "#ed7953"
            ],
            [
             0.7777777777777778,
             "#fb9f3a"
            ],
            [
             0.8888888888888888,
             "#fdca26"
            ],
            [
             1,
             "#f0f921"
            ]
           ],
           "sequentialminus": [
            [
             0,
             "#0d0887"
            ],
            [
             0.1111111111111111,
             "#46039f"
            ],
            [
             0.2222222222222222,
             "#7201a8"
            ],
            [
             0.3333333333333333,
             "#9c179e"
            ],
            [
             0.4444444444444444,
             "#bd3786"
            ],
            [
             0.5555555555555556,
             "#d8576b"
            ],
            [
             0.6666666666666666,
             "#ed7953"
            ],
            [
             0.7777777777777778,
             "#fb9f3a"
            ],
            [
             0.8888888888888888,
             "#fdca26"
            ],
            [
             1,
             "#f0f921"
            ]
           ]
          },
          "colorway": [
           "#636efa",
           "#EF553B",
           "#00cc96",
           "#ab63fa",
           "#FFA15A",
           "#19d3f3",
           "#FF6692",
           "#B6E880",
           "#FF97FF",
           "#FECB52"
          ],
          "font": {
           "color": "#2a3f5f"
          },
          "geo": {
           "bgcolor": "white",
           "lakecolor": "white",
           "landcolor": "white",
           "showlakes": true,
           "showland": true,
           "subunitcolor": "#C8D4E3"
          },
          "hoverlabel": {
           "align": "left"
          },
          "hovermode": "closest",
          "mapbox": {
           "style": "light"
          },
          "paper_bgcolor": "white",
          "plot_bgcolor": "white",
          "polar": {
           "angularaxis": {
            "gridcolor": "#EBF0F8",
            "linecolor": "#EBF0F8",
            "ticks": ""
           },
           "bgcolor": "white",
           "radialaxis": {
            "gridcolor": "#EBF0F8",
            "linecolor": "#EBF0F8",
            "ticks": ""
           }
          },
          "scene": {
           "xaxis": {
            "backgroundcolor": "white",
            "gridcolor": "#DFE8F3",
            "gridwidth": 2,
            "linecolor": "#EBF0F8",
            "showbackground": true,
            "ticks": "",
            "zerolinecolor": "#EBF0F8"
           },
           "yaxis": {
            "backgroundcolor": "white",
            "gridcolor": "#DFE8F3",
            "gridwidth": 2,
            "linecolor": "#EBF0F8",
            "showbackground": true,
            "ticks": "",
            "zerolinecolor": "#EBF0F8"
           },
           "zaxis": {
            "backgroundcolor": "white",
            "gridcolor": "#DFE8F3",
            "gridwidth": 2,
            "linecolor": "#EBF0F8",
            "showbackground": true,
            "ticks": "",
            "zerolinecolor": "#EBF0F8"
           }
          },
          "shapedefaults": {
           "line": {
            "color": "#2a3f5f"
           }
          },
          "ternary": {
           "aaxis": {
            "gridcolor": "#DFE8F3",
            "linecolor": "#A2B1C6",
            "ticks": ""
           },
           "baxis": {
            "gridcolor": "#DFE8F3",
            "linecolor": "#A2B1C6",
            "ticks": ""
           },
           "bgcolor": "white",
           "caxis": {
            "gridcolor": "#DFE8F3",
            "linecolor": "#A2B1C6",
            "ticks": ""
           }
          },
          "title": {
           "x": 0.05
          },
          "xaxis": {
           "automargin": true,
           "gridcolor": "#EBF0F8",
           "linecolor": "#EBF0F8",
           "ticks": "",
           "title": {
            "standoff": 15
           },
           "zerolinecolor": "#EBF0F8",
           "zerolinewidth": 2
          },
          "yaxis": {
           "automargin": true,
           "gridcolor": "#EBF0F8",
           "linecolor": "#EBF0F8",
           "ticks": "",
           "title": {
            "standoff": 15
           },
           "zerolinecolor": "#EBF0F8",
           "zerolinewidth": 2
          }
         }
        },
        "title": {
         "text": "Log-distance between Z and Z' with respect to ADMM convergence rates"
        },
        "xaxis": {
         "anchor": "y",
         "domain": [
          0,
          1
         ],
         "title": {
          "text": "Tolerance rate"
         }
        },
        "yaxis": {
         "anchor": "x",
         "domain": [
          0,
          1
         ],
         "title": {
          "text": "Log_distance"
         },
         "type": "log"
        }
       }
      },
      "text/html": [
       "<div>                            <div id=\"ed7c71fa-2abe-4c89-a732-a24cdc5d1990\" class=\"plotly-graph-div\" style=\"height:525px; width:100%;\"></div>            <script type=\"text/javascript\">                require([\"plotly\"], function(Plotly) {                    window.PLOTLYENV=window.PLOTLYENV || {};                                    if (document.getElementById(\"ed7c71fa-2abe-4c89-a732-a24cdc5d1990\")) {                    Plotly.newPlot(                        \"ed7c71fa-2abe-4c89-a732-a24cdc5d1990\",                        [{\"hovertemplate\": \"method=sklearn<br>Tolerance rate=%{x}<br>Log_distance=%{y}<extra></extra>\", \"legendgroup\": \"sklearn\", \"line\": {\"color\": \"#636efa\", \"dash\": \"solid\"}, \"mode\": \"markers+lines\", \"name\": \"sklearn\", \"orientation\": \"v\", \"showlegend\": true, \"type\": \"scatter\", \"x\": [\"0.0001\", \"1e-05\", \"1e-06\", \"1e-07\"], \"xaxis\": \"x\", \"y\": [1.2092314848106959e-05, 5.379661420291795e-06, 3.223256543026857e-08, 4.956102833506076e-09], \"yaxis\": \"y\"}, {\"hovertemplate\": \"method=regain<br>Tolerance rate=%{x}<br>Log_distance=%{y}<extra></extra>\", \"legendgroup\": \"regain\", \"line\": {\"color\": \"#EF553B\", \"dash\": \"solid\"}, \"mode\": \"markers+lines\", \"name\": \"regain\", \"orientation\": \"v\", \"showlegend\": true, \"type\": \"scatter\", \"x\": [\"0.0001\", \"0.0001\", \"1e-05\", \"1e-05\", \"1e-06\", \"1e-06\", \"1e-07\", \"1e-07\"], \"xaxis\": \"x\", \"y\": [0.014331520208369294, 0.007206712984603567, 0.007206712984603567, 0.001274858491319658, 0.007206712984603567, 0.0002448517698602221, 0.007206712984603567, 0.0001390671387993888], \"yaxis\": \"y\"}, {\"hovertemplate\": \"method=single-boyd<br>Tolerance rate=%{x}<br>Log_distance=%{y}<extra></extra>\", \"legendgroup\": \"single-boyd\", \"line\": {\"color\": \"#00cc96\", \"dash\": \"solid\"}, \"mode\": \"markers+lines\", \"name\": \"single-boyd\", \"orientation\": \"v\", \"showlegend\": true, \"type\": \"scatter\", \"x\": [\"0.0001\", \"0.0001\", \"1e-05\", \"1e-05\", \"1e-06\", \"1e-06\", \"1e-07\", \"1e-07\"], \"xaxis\": \"x\", \"y\": [0.3287843161227195, 0.3287843161227195, 0.22209697511275722, 0.22209697511275722, 0.03949869734432997, 0.030988215678313346, 0.014785315799404758, 0.011283267556155656], \"yaxis\": \"y\"}, {\"hovertemplate\": \"method=single-kkt<br>Tolerance rate=%{x}<br>Log_distance=%{y}<extra></extra>\", \"legendgroup\": \"single-kkt\", \"line\": {\"color\": \"#ab63fa\", \"dash\": \"solid\"}, \"mode\": \"markers+lines\", \"name\": \"single-kkt\", \"orientation\": \"v\", \"showlegend\": true, \"type\": \"scatter\", \"x\": [\"0.0001\", \"0.0001\", \"1e-05\", \"1e-05\", \"1e-06\", \"1e-06\", \"1e-07\", \"1e-07\"], \"xaxis\": \"x\", \"y\": [0.010668362880121091, 0.010668362880121091, 0.01067183711765276, 0.01067183711765276, 0.010673021136166768, 0.010673021136166768, 0.010673146682616498, 0.010673146682616498], \"yaxis\": \"y\"}, {\"hovertemplate\": \"method=block-boyd<br>Tolerance rate=%{x}<br>Log_distance=%{y}<extra></extra>\", \"legendgroup\": \"block-boyd\", \"line\": {\"color\": \"#FFA15A\", \"dash\": \"solid\"}, \"mode\": \"markers+lines\", \"name\": \"block-boyd\", \"orientation\": \"v\", \"showlegend\": true, \"type\": \"scatter\", \"x\": [\"0.0001\", \"0.0001\", \"1e-05\", \"1e-05\", \"1e-06\", \"1e-06\", \"1e-07\", \"1e-07\"], \"xaxis\": \"x\", \"y\": [0.3287843161227195, 0.3287843161227195, 0.22209697511275722, 0.22209697511275722, 0.03949869734432997, 0.030988215678313346, 0.014785315799404758, 0.011283267556155656], \"yaxis\": \"y\"}, {\"hovertemplate\": \"method=block-kkt<br>Tolerance rate=%{x}<br>Log_distance=%{y}<extra></extra>\", \"legendgroup\": \"block-kkt\", \"line\": {\"color\": \"#19d3f3\", \"dash\": \"solid\"}, \"mode\": \"markers+lines\", \"name\": \"block-kkt\", \"orientation\": \"v\", \"showlegend\": true, \"type\": \"scatter\", \"x\": [\"0.0001\", \"0.0001\", \"1e-05\", \"1e-05\", \"1e-06\", \"1e-06\", \"1e-07\", \"1e-07\"], \"xaxis\": \"x\", \"y\": [0.010668362880121091, 0.010668362880121091, 0.01067183711765276, 0.01067183711765276, 0.010673021136166768, 0.010673021136166768, 0.010673146682616498, 0.010673146682616498], \"yaxis\": \"y\"}],                        {\"legend\": {\"title\": {\"text\": \"method\"}, \"tracegroupgap\": 0}, \"template\": {\"data\": {\"bar\": [{\"error_x\": {\"color\": \"#2a3f5f\"}, \"error_y\": {\"color\": \"#2a3f5f\"}, \"marker\": {\"line\": {\"color\": \"white\", \"width\": 0.5}}, \"type\": \"bar\"}], \"barpolar\": [{\"marker\": {\"line\": {\"color\": \"white\", \"width\": 0.5}}, \"type\": \"barpolar\"}], \"carpet\": [{\"aaxis\": {\"endlinecolor\": \"#2a3f5f\", \"gridcolor\": \"#C8D4E3\", \"linecolor\": \"#C8D4E3\", \"minorgridcolor\": \"#C8D4E3\", \"startlinecolor\": \"#2a3f5f\"}, \"baxis\": {\"endlinecolor\": \"#2a3f5f\", \"gridcolor\": \"#C8D4E3\", \"linecolor\": \"#C8D4E3\", \"minorgridcolor\": \"#C8D4E3\", \"startlinecolor\": \"#2a3f5f\"}, \"type\": \"carpet\"}], \"choropleth\": [{\"colorbar\": {\"outlinewidth\": 0, \"ticks\": \"\"}, \"type\": \"choropleth\"}], \"contour\": [{\"colorbar\": {\"outlinewidth\": 0, \"ticks\": \"\"}, \"colorscale\": [[0.0, \"#0d0887\"], [0.1111111111111111, \"#46039f\"], [0.2222222222222222, \"#7201a8\"], [0.3333333333333333, \"#9c179e\"], [0.4444444444444444, \"#bd3786\"], [0.5555555555555556, \"#d8576b\"], [0.6666666666666666, \"#ed7953\"], [0.7777777777777778, \"#fb9f3a\"], [0.8888888888888888, \"#fdca26\"], [1.0, \"#f0f921\"]], \"type\": \"contour\"}], \"contourcarpet\": [{\"colorbar\": {\"outlinewidth\": 0, \"ticks\": \"\"}, \"type\": \"contourcarpet\"}], \"heatmap\": [{\"colorbar\": {\"outlinewidth\": 0, \"ticks\": \"\"}, \"colorscale\": [[0.0, \"#0d0887\"], [0.1111111111111111, \"#46039f\"], [0.2222222222222222, \"#7201a8\"], [0.3333333333333333, \"#9c179e\"], [0.4444444444444444, \"#bd3786\"], [0.5555555555555556, \"#d8576b\"], [0.6666666666666666, \"#ed7953\"], [0.7777777777777778, \"#fb9f3a\"], [0.8888888888888888, \"#fdca26\"], [1.0, \"#f0f921\"]], \"type\": \"heatmap\"}], \"heatmapgl\": [{\"colorbar\": {\"outlinewidth\": 0, \"ticks\": \"\"}, \"colorscale\": [[0.0, \"#0d0887\"], [0.1111111111111111, \"#46039f\"], [0.2222222222222222, \"#7201a8\"], [0.3333333333333333, \"#9c179e\"], [0.4444444444444444, \"#bd3786\"], [0.5555555555555556, \"#d8576b\"], [0.6666666666666666, \"#ed7953\"], [0.7777777777777778, \"#fb9f3a\"], [0.8888888888888888, \"#fdca26\"], [1.0, \"#f0f921\"]], \"type\": \"heatmapgl\"}], \"histogram\": [{\"marker\": {\"colorbar\": {\"outlinewidth\": 0, \"ticks\": \"\"}}, \"type\": \"histogram\"}], \"histogram2d\": [{\"colorbar\": {\"outlinewidth\": 0, \"ticks\": \"\"}, \"colorscale\": [[0.0, \"#0d0887\"], [0.1111111111111111, \"#46039f\"], [0.2222222222222222, \"#7201a8\"], [0.3333333333333333, \"#9c179e\"], [0.4444444444444444, \"#bd3786\"], [0.5555555555555556, \"#d8576b\"], [0.6666666666666666, \"#ed7953\"], [0.7777777777777778, \"#fb9f3a\"], [0.8888888888888888, \"#fdca26\"], [1.0, \"#f0f921\"]], \"type\": \"histogram2d\"}], \"histogram2dcontour\": [{\"colorbar\": {\"outlinewidth\": 0, \"ticks\": \"\"}, \"colorscale\": [[0.0, \"#0d0887\"], [0.1111111111111111, \"#46039f\"], [0.2222222222222222, \"#7201a8\"], [0.3333333333333333, \"#9c179e\"], [0.4444444444444444, \"#bd3786\"], [0.5555555555555556, \"#d8576b\"], [0.6666666666666666, \"#ed7953\"], [0.7777777777777778, \"#fb9f3a\"], [0.8888888888888888, \"#fdca26\"], [1.0, \"#f0f921\"]], \"type\": \"histogram2dcontour\"}], \"mesh3d\": [{\"colorbar\": {\"outlinewidth\": 0, \"ticks\": \"\"}, \"type\": \"mesh3d\"}], \"parcoords\": [{\"line\": {\"colorbar\": {\"outlinewidth\": 0, \"ticks\": \"\"}}, \"type\": \"parcoords\"}], \"pie\": [{\"automargin\": true, \"type\": \"pie\"}], \"scatter\": [{\"marker\": {\"colorbar\": {\"outlinewidth\": 0, \"ticks\": \"\"}}, \"type\": \"scatter\"}], \"scatter3d\": [{\"line\": {\"colorbar\": {\"outlinewidth\": 0, \"ticks\": \"\"}}, \"marker\": {\"colorbar\": {\"outlinewidth\": 0, \"ticks\": \"\"}}, \"type\": \"scatter3d\"}], \"scattercarpet\": [{\"marker\": {\"colorbar\": {\"outlinewidth\": 0, \"ticks\": \"\"}}, \"type\": \"scattercarpet\"}], \"scattergeo\": [{\"marker\": {\"colorbar\": {\"outlinewidth\": 0, \"ticks\": \"\"}}, \"type\": \"scattergeo\"}], \"scattergl\": [{\"marker\": {\"colorbar\": {\"outlinewidth\": 0, \"ticks\": \"\"}}, \"type\": \"scattergl\"}], \"scattermapbox\": [{\"marker\": {\"colorbar\": {\"outlinewidth\": 0, \"ticks\": \"\"}}, \"type\": \"scattermapbox\"}], \"scatterpolar\": [{\"marker\": {\"colorbar\": {\"outlinewidth\": 0, \"ticks\": \"\"}}, \"type\": \"scatterpolar\"}], \"scatterpolargl\": [{\"marker\": {\"colorbar\": {\"outlinewidth\": 0, \"ticks\": \"\"}}, \"type\": \"scatterpolargl\"}], \"scatterternary\": [{\"marker\": {\"colorbar\": {\"outlinewidth\": 0, \"ticks\": \"\"}}, \"type\": \"scatterternary\"}], \"surface\": [{\"colorbar\": {\"outlinewidth\": 0, \"ticks\": \"\"}, \"colorscale\": [[0.0, \"#0d0887\"], [0.1111111111111111, \"#46039f\"], [0.2222222222222222, \"#7201a8\"], [0.3333333333333333, \"#9c179e\"], [0.4444444444444444, \"#bd3786\"], [0.5555555555555556, \"#d8576b\"], [0.6666666666666666, \"#ed7953\"], [0.7777777777777778, \"#fb9f3a\"], [0.8888888888888888, \"#fdca26\"], [1.0, \"#f0f921\"]], \"type\": \"surface\"}], \"table\": [{\"cells\": {\"fill\": {\"color\": \"#EBF0F8\"}, \"line\": {\"color\": \"white\"}}, \"header\": {\"fill\": {\"color\": \"#C8D4E3\"}, \"line\": {\"color\": \"white\"}}, \"type\": \"table\"}]}, \"layout\": {\"annotationdefaults\": {\"arrowcolor\": \"#2a3f5f\", \"arrowhead\": 0, \"arrowwidth\": 1}, \"autotypenumbers\": \"strict\", \"coloraxis\": {\"colorbar\": {\"outlinewidth\": 0, \"ticks\": \"\"}}, \"colorscale\": {\"diverging\": [[0, \"#8e0152\"], [0.1, \"#c51b7d\"], [0.2, \"#de77ae\"], [0.3, \"#f1b6da\"], [0.4, \"#fde0ef\"], [0.5, \"#f7f7f7\"], [0.6, \"#e6f5d0\"], [0.7, \"#b8e186\"], [0.8, \"#7fbc41\"], [0.9, \"#4d9221\"], [1, \"#276419\"]], \"sequential\": [[0.0, \"#0d0887\"], [0.1111111111111111, \"#46039f\"], [0.2222222222222222, \"#7201a8\"], [0.3333333333333333, \"#9c179e\"], [0.4444444444444444, \"#bd3786\"], [0.5555555555555556, \"#d8576b\"], [0.6666666666666666, \"#ed7953\"], [0.7777777777777778, \"#fb9f3a\"], [0.8888888888888888, \"#fdca26\"], [1.0, \"#f0f921\"]], \"sequentialminus\": [[0.0, \"#0d0887\"], [0.1111111111111111, \"#46039f\"], [0.2222222222222222, \"#7201a8\"], [0.3333333333333333, \"#9c179e\"], [0.4444444444444444, \"#bd3786\"], [0.5555555555555556, \"#d8576b\"], [0.6666666666666666, \"#ed7953\"], [0.7777777777777778, \"#fb9f3a\"], [0.8888888888888888, \"#fdca26\"], [1.0, \"#f0f921\"]]}, \"colorway\": [\"#636efa\", \"#EF553B\", \"#00cc96\", \"#ab63fa\", \"#FFA15A\", \"#19d3f3\", \"#FF6692\", \"#B6E880\", \"#FF97FF\", \"#FECB52\"], \"font\": {\"color\": \"#2a3f5f\"}, \"geo\": {\"bgcolor\": \"white\", \"lakecolor\": \"white\", \"landcolor\": \"white\", \"showlakes\": true, \"showland\": true, \"subunitcolor\": \"#C8D4E3\"}, \"hoverlabel\": {\"align\": \"left\"}, \"hovermode\": \"closest\", \"mapbox\": {\"style\": \"light\"}, \"paper_bgcolor\": \"white\", \"plot_bgcolor\": \"white\", \"polar\": {\"angularaxis\": {\"gridcolor\": \"#EBF0F8\", \"linecolor\": \"#EBF0F8\", \"ticks\": \"\"}, \"bgcolor\": \"white\", \"radialaxis\": {\"gridcolor\": \"#EBF0F8\", \"linecolor\": \"#EBF0F8\", \"ticks\": \"\"}}, \"scene\": {\"xaxis\": {\"backgroundcolor\": \"white\", \"gridcolor\": \"#DFE8F3\", \"gridwidth\": 2, \"linecolor\": \"#EBF0F8\", \"showbackground\": true, \"ticks\": \"\", \"zerolinecolor\": \"#EBF0F8\"}, \"yaxis\": {\"backgroundcolor\": \"white\", \"gridcolor\": \"#DFE8F3\", \"gridwidth\": 2, \"linecolor\": \"#EBF0F8\", \"showbackground\": true, \"ticks\": \"\", \"zerolinecolor\": \"#EBF0F8\"}, \"zaxis\": {\"backgroundcolor\": \"white\", \"gridcolor\": \"#DFE8F3\", \"gridwidth\": 2, \"linecolor\": \"#EBF0F8\", \"showbackground\": true, \"ticks\": \"\", \"zerolinecolor\": \"#EBF0F8\"}}, \"shapedefaults\": {\"line\": {\"color\": \"#2a3f5f\"}}, \"ternary\": {\"aaxis\": {\"gridcolor\": \"#DFE8F3\", \"linecolor\": \"#A2B1C6\", \"ticks\": \"\"}, \"baxis\": {\"gridcolor\": \"#DFE8F3\", \"linecolor\": \"#A2B1C6\", \"ticks\": \"\"}, \"bgcolor\": \"white\", \"caxis\": {\"gridcolor\": \"#DFE8F3\", \"linecolor\": \"#A2B1C6\", \"ticks\": \"\"}}, \"title\": {\"x\": 0.05}, \"xaxis\": {\"automargin\": true, \"gridcolor\": \"#EBF0F8\", \"linecolor\": \"#EBF0F8\", \"ticks\": \"\", \"title\": {\"standoff\": 15}, \"zerolinecolor\": \"#EBF0F8\", \"zerolinewidth\": 2}, \"yaxis\": {\"automargin\": true, \"gridcolor\": \"#EBF0F8\", \"linecolor\": \"#EBF0F8\", \"ticks\": \"\", \"title\": {\"standoff\": 15}, \"zerolinecolor\": \"#EBF0F8\", \"zerolinewidth\": 2}}}, \"title\": {\"text\": \"Log-distance between Z and Z' with respect to ADMM convergence rates\"}, \"xaxis\": {\"anchor\": \"y\", \"domain\": [0.0, 1.0], \"title\": {\"text\": \"Tolerance rate\"}}, \"yaxis\": {\"anchor\": \"x\", \"domain\": [0.0, 1.0], \"title\": {\"text\": \"Log_distance\"}, \"type\": \"log\"}},                        {\"responsive\": true}                    ).then(function(){\n",
       "                            \n",
       "var gd = document.getElementById('ed7c71fa-2abe-4c89-a732-a24cdc5d1990');\n",
       "var x = new MutationObserver(function (mutations, observer) {{\n",
       "        var display = window.getComputedStyle(gd).display;\n",
       "        if (!display || display === 'none') {{\n",
       "            console.log([gd, 'removed!']);\n",
       "            Plotly.purge(gd);\n",
       "            observer.disconnect();\n",
       "        }}\n",
       "}});\n",
       "\n",
       "// Listen for the removal of the full notebook cells\n",
       "var notebookContainer = gd.closest('#notebook-container');\n",
       "if (notebookContainer) {{\n",
       "    x.observe(notebookContainer, {childList: true});\n",
       "}}\n",
       "\n",
       "// Listen for the clearing of the current output cell\n",
       "var outputEl = gd.closest('.output');\n",
       "if (outputEl) {{\n",
       "    x.observe(outputEl, {childList: true});\n",
       "}}\n",
       "\n",
       "                        })                };                });            </script>        </div>"
      ]
     },
     "metadata": {},
     "output_type": "display_data"
    }
   ],
   "source": [
    "fig = px.line(df, x=\"tol\", y=\"accuracy\", color= \"method\", \n",
    "              log_y = True,\n",
    "              labels={\n",
    "                     \"tol\": \"Tolerance rate\",\n",
    "                     \"accuracy\": \"Log_distance\",\n",
    "                     \"method\": \"method\"\n",
    "                 },\n",
    "              template = \"plotly_white\",\n",
    "              title=\"Log-distance between Z and Z' with respect to ADMM convergence rates\")\n",
    "fig.update_traces(mode='markers+lines')\n",
    "fig.show()"
   ]
  },
  {
   "cell_type": "markdown",
   "id": "continuing-barrier",
   "metadata": {},
   "source": [
    "# Sparsity benchmark"
   ]
  },
  {
   "cell_type": "code",
   "execution_count": 13,
   "id": "nuclear-thesaurus",
   "metadata": {},
   "outputs": [
    {
     "data": {
      "application/vnd.plotly.v1+json": {
       "config": {
        "plotlyServerURL": "https://plot.ly"
       },
       "data": [
        {
         "colorscale": [
          [
           0,
           "#440154"
          ],
          [
           0.1111111111111111,
           "#482878"
          ],
          [
           0.2222222222222222,
           "#3e4989"
          ],
          [
           0.3333333333333333,
           "#31688e"
          ],
          [
           0.4444444444444444,
           "#26828e"
          ],
          [
           0.5555555555555556,
           "#1f9e89"
          ],
          [
           0.6666666666666666,
           "#35b779"
          ],
          [
           0.7777777777777778,
           "#6ece58"
          ],
          [
           0.8888888888888888,
           "#b5de2b"
          ],
          [
           1,
           "#fde725"
          ]
         ],
         "type": "heatmap",
         "x": [
          "sklearn",
          "sklearn",
          "sklearn",
          "sklearn",
          "regain",
          "regain",
          "regain",
          "regain",
          "regain",
          "regain",
          "regain",
          "regain",
          "single-boyd",
          "single-kkt",
          "single-boyd",
          "single-kkt",
          "single-boyd",
          "single-kkt",
          "single-boyd",
          "single-kkt",
          "single-boyd",
          "single-kkt",
          "single-boyd",
          "single-kkt",
          "single-boyd",
          "single-kkt",
          "single-boyd",
          "single-kkt",
          "block-boyd",
          "block-kkt",
          "block-boyd",
          "block-kkt",
          "block-boyd",
          "block-kkt",
          "block-boyd",
          "block-kkt",
          "block-boyd",
          "block-kkt",
          "block-boyd",
          "block-kkt",
          "block-boyd",
          "block-kkt",
          "block-boyd",
          "block-kkt"
         ],
         "y": [
          "0.0001",
          "1e-05",
          "1e-06",
          "1e-07",
          "0.0001",
          "0.0001",
          "1e-05",
          "1e-05",
          "1e-06",
          "1e-06",
          "1e-07",
          "1e-07",
          "0.0001",
          "0.0001",
          "0.0001",
          "0.0001",
          "1e-05",
          "1e-05",
          "1e-05",
          "1e-05",
          "1e-06",
          "1e-06",
          "1e-06",
          "1e-06",
          "1e-07",
          "1e-07",
          "1e-07",
          "1e-07",
          "0.0001",
          "0.0001",
          "0.0001",
          "0.0001",
          "1e-05",
          "1e-05",
          "1e-05",
          "1e-05",
          "1e-06",
          "1e-06",
          "1e-06",
          "1e-06",
          "1e-07",
          "1e-07",
          "1e-07",
          "1e-07"
         ],
         "z": [
          0.04117179143743772,
          0.041171812653445564,
          0.04117183146419242,
          0.0411718314053531,
          0.03914483670614991,
          0.04025330580812082,
          0.04025330580812082,
          0.041170941943152496,
          0.04025330580812082,
          0.04117205633886559,
          0.04025330580812082,
          0.04117200805907142,
          0.02998348216764922,
          0.04112522891217596,
          0.02998348216764922,
          0.04112522891217596,
          0.03701501601564607,
          0.0411234953053729,
          0.03701501601564607,
          0.0411234953053729,
          0.04126970978143166,
          0.041123562867325644,
          0.041264585693427766,
          0.041123562867325644,
          0.04119534339103197,
          0.04112357574224834,
          0.04115181487412084,
          0.04112357574224834,
          0.02998348216764922,
          0.04112522891217596,
          0.02998348216764922,
          0.04112522891217596,
          0.03701501601564607,
          0.0411234953053729,
          0.03701501601564607,
          0.0411234953053729,
          0.04126970978143166,
          0.041123562867325644,
          0.041264585693427766,
          0.041123562867325644,
          0.04119534339103197,
          0.04112357574224834,
          0.04115181487412084,
          0.04112357574224834
         ]
        }
       ],
       "layout": {
        "template": {
         "data": {
          "bar": [
           {
            "error_x": {
             "color": "#2a3f5f"
            },
            "error_y": {
             "color": "#2a3f5f"
            },
            "marker": {
             "line": {
              "color": "#E5ECF6",
              "width": 0.5
             }
            },
            "type": "bar"
           }
          ],
          "barpolar": [
           {
            "marker": {
             "line": {
              "color": "#E5ECF6",
              "width": 0.5
             }
            },
            "type": "barpolar"
           }
          ],
          "carpet": [
           {
            "aaxis": {
             "endlinecolor": "#2a3f5f",
             "gridcolor": "white",
             "linecolor": "white",
             "minorgridcolor": "white",
             "startlinecolor": "#2a3f5f"
            },
            "baxis": {
             "endlinecolor": "#2a3f5f",
             "gridcolor": "white",
             "linecolor": "white",
             "minorgridcolor": "white",
             "startlinecolor": "#2a3f5f"
            },
            "type": "carpet"
           }
          ],
          "choropleth": [
           {
            "colorbar": {
             "outlinewidth": 0,
             "ticks": ""
            },
            "type": "choropleth"
           }
          ],
          "contour": [
           {
            "colorbar": {
             "outlinewidth": 0,
             "ticks": ""
            },
            "colorscale": [
             [
              0,
              "#0d0887"
             ],
             [
              0.1111111111111111,
              "#46039f"
             ],
             [
              0.2222222222222222,
              "#7201a8"
             ],
             [
              0.3333333333333333,
              "#9c179e"
             ],
             [
              0.4444444444444444,
              "#bd3786"
             ],
             [
              0.5555555555555556,
              "#d8576b"
             ],
             [
              0.6666666666666666,
              "#ed7953"
             ],
             [
              0.7777777777777778,
              "#fb9f3a"
             ],
             [
              0.8888888888888888,
              "#fdca26"
             ],
             [
              1,
              "#f0f921"
             ]
            ],
            "type": "contour"
           }
          ],
          "contourcarpet": [
           {
            "colorbar": {
             "outlinewidth": 0,
             "ticks": ""
            },
            "type": "contourcarpet"
           }
          ],
          "heatmap": [
           {
            "colorbar": {
             "outlinewidth": 0,
             "ticks": ""
            },
            "colorscale": [
             [
              0,
              "#0d0887"
             ],
             [
              0.1111111111111111,
              "#46039f"
             ],
             [
              0.2222222222222222,
              "#7201a8"
             ],
             [
              0.3333333333333333,
              "#9c179e"
             ],
             [
              0.4444444444444444,
              "#bd3786"
             ],
             [
              0.5555555555555556,
              "#d8576b"
             ],
             [
              0.6666666666666666,
              "#ed7953"
             ],
             [
              0.7777777777777778,
              "#fb9f3a"
             ],
             [
              0.8888888888888888,
              "#fdca26"
             ],
             [
              1,
              "#f0f921"
             ]
            ],
            "type": "heatmap"
           }
          ],
          "heatmapgl": [
           {
            "colorbar": {
             "outlinewidth": 0,
             "ticks": ""
            },
            "colorscale": [
             [
              0,
              "#0d0887"
             ],
             [
              0.1111111111111111,
              "#46039f"
             ],
             [
              0.2222222222222222,
              "#7201a8"
             ],
             [
              0.3333333333333333,
              "#9c179e"
             ],
             [
              0.4444444444444444,
              "#bd3786"
             ],
             [
              0.5555555555555556,
              "#d8576b"
             ],
             [
              0.6666666666666666,
              "#ed7953"
             ],
             [
              0.7777777777777778,
              "#fb9f3a"
             ],
             [
              0.8888888888888888,
              "#fdca26"
             ],
             [
              1,
              "#f0f921"
             ]
            ],
            "type": "heatmapgl"
           }
          ],
          "histogram": [
           {
            "marker": {
             "colorbar": {
              "outlinewidth": 0,
              "ticks": ""
             }
            },
            "type": "histogram"
           }
          ],
          "histogram2d": [
           {
            "colorbar": {
             "outlinewidth": 0,
             "ticks": ""
            },
            "colorscale": [
             [
              0,
              "#0d0887"
             ],
             [
              0.1111111111111111,
              "#46039f"
             ],
             [
              0.2222222222222222,
              "#7201a8"
             ],
             [
              0.3333333333333333,
              "#9c179e"
             ],
             [
              0.4444444444444444,
              "#bd3786"
             ],
             [
              0.5555555555555556,
              "#d8576b"
             ],
             [
              0.6666666666666666,
              "#ed7953"
             ],
             [
              0.7777777777777778,
              "#fb9f3a"
             ],
             [
              0.8888888888888888,
              "#fdca26"
             ],
             [
              1,
              "#f0f921"
             ]
            ],
            "type": "histogram2d"
           }
          ],
          "histogram2dcontour": [
           {
            "colorbar": {
             "outlinewidth": 0,
             "ticks": ""
            },
            "colorscale": [
             [
              0,
              "#0d0887"
             ],
             [
              0.1111111111111111,
              "#46039f"
             ],
             [
              0.2222222222222222,
              "#7201a8"
             ],
             [
              0.3333333333333333,
              "#9c179e"
             ],
             [
              0.4444444444444444,
              "#bd3786"
             ],
             [
              0.5555555555555556,
              "#d8576b"
             ],
             [
              0.6666666666666666,
              "#ed7953"
             ],
             [
              0.7777777777777778,
              "#fb9f3a"
             ],
             [
              0.8888888888888888,
              "#fdca26"
             ],
             [
              1,
              "#f0f921"
             ]
            ],
            "type": "histogram2dcontour"
           }
          ],
          "mesh3d": [
           {
            "colorbar": {
             "outlinewidth": 0,
             "ticks": ""
            },
            "type": "mesh3d"
           }
          ],
          "parcoords": [
           {
            "line": {
             "colorbar": {
              "outlinewidth": 0,
              "ticks": ""
             }
            },
            "type": "parcoords"
           }
          ],
          "pie": [
           {
            "automargin": true,
            "type": "pie"
           }
          ],
          "scatter": [
           {
            "marker": {
             "colorbar": {
              "outlinewidth": 0,
              "ticks": ""
             }
            },
            "type": "scatter"
           }
          ],
          "scatter3d": [
           {
            "line": {
             "colorbar": {
              "outlinewidth": 0,
              "ticks": ""
             }
            },
            "marker": {
             "colorbar": {
              "outlinewidth": 0,
              "ticks": ""
             }
            },
            "type": "scatter3d"
           }
          ],
          "scattercarpet": [
           {
            "marker": {
             "colorbar": {
              "outlinewidth": 0,
              "ticks": ""
             }
            },
            "type": "scattercarpet"
           }
          ],
          "scattergeo": [
           {
            "marker": {
             "colorbar": {
              "outlinewidth": 0,
              "ticks": ""
             }
            },
            "type": "scattergeo"
           }
          ],
          "scattergl": [
           {
            "marker": {
             "colorbar": {
              "outlinewidth": 0,
              "ticks": ""
             }
            },
            "type": "scattergl"
           }
          ],
          "scattermapbox": [
           {
            "marker": {
             "colorbar": {
              "outlinewidth": 0,
              "ticks": ""
             }
            },
            "type": "scattermapbox"
           }
          ],
          "scatterpolar": [
           {
            "marker": {
             "colorbar": {
              "outlinewidth": 0,
              "ticks": ""
             }
            },
            "type": "scatterpolar"
           }
          ],
          "scatterpolargl": [
           {
            "marker": {
             "colorbar": {
              "outlinewidth": 0,
              "ticks": ""
             }
            },
            "type": "scatterpolargl"
           }
          ],
          "scatterternary": [
           {
            "marker": {
             "colorbar": {
              "outlinewidth": 0,
              "ticks": ""
             }
            },
            "type": "scatterternary"
           }
          ],
          "surface": [
           {
            "colorbar": {
             "outlinewidth": 0,
             "ticks": ""
            },
            "colorscale": [
             [
              0,
              "#0d0887"
             ],
             [
              0.1111111111111111,
              "#46039f"
             ],
             [
              0.2222222222222222,
              "#7201a8"
             ],
             [
              0.3333333333333333,
              "#9c179e"
             ],
             [
              0.4444444444444444,
              "#bd3786"
             ],
             [
              0.5555555555555556,
              "#d8576b"
             ],
             [
              0.6666666666666666,
              "#ed7953"
             ],
             [
              0.7777777777777778,
              "#fb9f3a"
             ],
             [
              0.8888888888888888,
              "#fdca26"
             ],
             [
              1,
              "#f0f921"
             ]
            ],
            "type": "surface"
           }
          ],
          "table": [
           {
            "cells": {
             "fill": {
              "color": "#EBF0F8"
             },
             "line": {
              "color": "white"
             }
            },
            "header": {
             "fill": {
              "color": "#C8D4E3"
             },
             "line": {
              "color": "white"
             }
            },
            "type": "table"
           }
          ]
         },
         "layout": {
          "annotationdefaults": {
           "arrowcolor": "#2a3f5f",
           "arrowhead": 0,
           "arrowwidth": 1
          },
          "autotypenumbers": "strict",
          "coloraxis": {
           "colorbar": {
            "outlinewidth": 0,
            "ticks": ""
           }
          },
          "colorscale": {
           "diverging": [
            [
             0,
             "#8e0152"
            ],
            [
             0.1,
             "#c51b7d"
            ],
            [
             0.2,
             "#de77ae"
            ],
            [
             0.3,
             "#f1b6da"
            ],
            [
             0.4,
             "#fde0ef"
            ],
            [
             0.5,
             "#f7f7f7"
            ],
            [
             0.6,
             "#e6f5d0"
            ],
            [
             0.7,
             "#b8e186"
            ],
            [
             0.8,
             "#7fbc41"
            ],
            [
             0.9,
             "#4d9221"
            ],
            [
             1,
             "#276419"
            ]
           ],
           "sequential": [
            [
             0,
             "#0d0887"
            ],
            [
             0.1111111111111111,
             "#46039f"
            ],
            [
             0.2222222222222222,
             "#7201a8"
            ],
            [
             0.3333333333333333,
             "#9c179e"
            ],
            [
             0.4444444444444444,
             "#bd3786"
            ],
            [
             0.5555555555555556,
             "#d8576b"
            ],
            [
             0.6666666666666666,
             "#ed7953"
            ],
            [
             0.7777777777777778,
             "#fb9f3a"
            ],
            [
             0.8888888888888888,
             "#fdca26"
            ],
            [
             1,
             "#f0f921"
            ]
           ],
           "sequentialminus": [
            [
             0,
             "#0d0887"
            ],
            [
             0.1111111111111111,
             "#46039f"
            ],
            [
             0.2222222222222222,
             "#7201a8"
            ],
            [
             0.3333333333333333,
             "#9c179e"
            ],
            [
             0.4444444444444444,
             "#bd3786"
            ],
            [
             0.5555555555555556,
             "#d8576b"
            ],
            [
             0.6666666666666666,
             "#ed7953"
            ],
            [
             0.7777777777777778,
             "#fb9f3a"
            ],
            [
             0.8888888888888888,
             "#fdca26"
            ],
            [
             1,
             "#f0f921"
            ]
           ]
          },
          "colorway": [
           "#636efa",
           "#EF553B",
           "#00cc96",
           "#ab63fa",
           "#FFA15A",
           "#19d3f3",
           "#FF6692",
           "#B6E880",
           "#FF97FF",
           "#FECB52"
          ],
          "font": {
           "color": "#2a3f5f"
          },
          "geo": {
           "bgcolor": "white",
           "lakecolor": "white",
           "landcolor": "#E5ECF6",
           "showlakes": true,
           "showland": true,
           "subunitcolor": "white"
          },
          "hoverlabel": {
           "align": "left"
          },
          "hovermode": "closest",
          "mapbox": {
           "style": "light"
          },
          "paper_bgcolor": "white",
          "plot_bgcolor": "#E5ECF6",
          "polar": {
           "angularaxis": {
            "gridcolor": "white",
            "linecolor": "white",
            "ticks": ""
           },
           "bgcolor": "#E5ECF6",
           "radialaxis": {
            "gridcolor": "white",
            "linecolor": "white",
            "ticks": ""
           }
          },
          "scene": {
           "xaxis": {
            "backgroundcolor": "#E5ECF6",
            "gridcolor": "white",
            "gridwidth": 2,
            "linecolor": "white",
            "showbackground": true,
            "ticks": "",
            "zerolinecolor": "white"
           },
           "yaxis": {
            "backgroundcolor": "#E5ECF6",
            "gridcolor": "white",
            "gridwidth": 2,
            "linecolor": "white",
            "showbackground": true,
            "ticks": "",
            "zerolinecolor": "white"
           },
           "zaxis": {
            "backgroundcolor": "#E5ECF6",
            "gridcolor": "white",
            "gridwidth": 2,
            "linecolor": "white",
            "showbackground": true,
            "ticks": "",
            "zerolinecolor": "white"
           }
          },
          "shapedefaults": {
           "line": {
            "color": "#2a3f5f"
           }
          },
          "ternary": {
           "aaxis": {
            "gridcolor": "white",
            "linecolor": "white",
            "ticks": ""
           },
           "baxis": {
            "gridcolor": "white",
            "linecolor": "white",
            "ticks": ""
           },
           "bgcolor": "#E5ECF6",
           "caxis": {
            "gridcolor": "white",
            "linecolor": "white",
            "ticks": ""
           }
          },
          "title": {
           "x": 0.05
          },
          "xaxis": {
           "automargin": true,
           "gridcolor": "white",
           "linecolor": "white",
           "ticks": "",
           "title": {
            "standoff": 15
           },
           "zerolinecolor": "white",
           "zerolinewidth": 2
          },
          "yaxis": {
           "automargin": true,
           "gridcolor": "white",
           "linecolor": "white",
           "ticks": "",
           "title": {
            "standoff": 15
           },
           "zerolinecolor": "white",
           "zerolinewidth": 2
          }
         }
        },
        "title": {
         "text": "Sparsity benchmarks"
        },
        "xaxis": {
         "nticks": 36
        }
       }
      },
      "text/html": [
       "<div>                            <div id=\"9837df45-b61b-40bf-91d1-2a981ac05759\" class=\"plotly-graph-div\" style=\"height:525px; width:100%;\"></div>            <script type=\"text/javascript\">                require([\"plotly\"], function(Plotly) {                    window.PLOTLYENV=window.PLOTLYENV || {};                                    if (document.getElementById(\"9837df45-b61b-40bf-91d1-2a981ac05759\")) {                    Plotly.newPlot(                        \"9837df45-b61b-40bf-91d1-2a981ac05759\",                        [{\"colorscale\": [[0.0, \"#440154\"], [0.1111111111111111, \"#482878\"], [0.2222222222222222, \"#3e4989\"], [0.3333333333333333, \"#31688e\"], [0.4444444444444444, \"#26828e\"], [0.5555555555555556, \"#1f9e89\"], [0.6666666666666666, \"#35b779\"], [0.7777777777777778, \"#6ece58\"], [0.8888888888888888, \"#b5de2b\"], [1.0, \"#fde725\"]], \"type\": \"heatmap\", \"x\": [\"sklearn\", \"sklearn\", \"sklearn\", \"sklearn\", \"regain\", \"regain\", \"regain\", \"regain\", \"regain\", \"regain\", \"regain\", \"regain\", \"single-boyd\", \"single-kkt\", \"single-boyd\", \"single-kkt\", \"single-boyd\", \"single-kkt\", \"single-boyd\", \"single-kkt\", \"single-boyd\", \"single-kkt\", \"single-boyd\", \"single-kkt\", \"single-boyd\", \"single-kkt\", \"single-boyd\", \"single-kkt\", \"block-boyd\", \"block-kkt\", \"block-boyd\", \"block-kkt\", \"block-boyd\", \"block-kkt\", \"block-boyd\", \"block-kkt\", \"block-boyd\", \"block-kkt\", \"block-boyd\", \"block-kkt\", \"block-boyd\", \"block-kkt\", \"block-boyd\", \"block-kkt\"], \"y\": [\"0.0001\", \"1e-05\", \"1e-06\", \"1e-07\", \"0.0001\", \"0.0001\", \"1e-05\", \"1e-05\", \"1e-06\", \"1e-06\", \"1e-07\", \"1e-07\", \"0.0001\", \"0.0001\", \"0.0001\", \"0.0001\", \"1e-05\", \"1e-05\", \"1e-05\", \"1e-05\", \"1e-06\", \"1e-06\", \"1e-06\", \"1e-06\", \"1e-07\", \"1e-07\", \"1e-07\", \"1e-07\", \"0.0001\", \"0.0001\", \"0.0001\", \"0.0001\", \"1e-05\", \"1e-05\", \"1e-05\", \"1e-05\", \"1e-06\", \"1e-06\", \"1e-06\", \"1e-06\", \"1e-07\", \"1e-07\", \"1e-07\", \"1e-07\"], \"z\": [0.04117179143743772, 0.041171812653445564, 0.04117183146419242, 0.0411718314053531, 0.03914483670614991, 0.04025330580812082, 0.04025330580812082, 0.041170941943152496, 0.04025330580812082, 0.04117205633886559, 0.04025330580812082, 0.04117200805907142, 0.02998348216764922, 0.04112522891217596, 0.02998348216764922, 0.04112522891217596, 0.03701501601564607, 0.0411234953053729, 0.03701501601564607, 0.0411234953053729, 0.04126970978143166, 0.041123562867325644, 0.041264585693427766, 0.041123562867325644, 0.04119534339103197, 0.04112357574224834, 0.04115181487412084, 0.04112357574224834, 0.02998348216764922, 0.04112522891217596, 0.02998348216764922, 0.04112522891217596, 0.03701501601564607, 0.0411234953053729, 0.03701501601564607, 0.0411234953053729, 0.04126970978143166, 0.041123562867325644, 0.041264585693427766, 0.041123562867325644, 0.04119534339103197, 0.04112357574224834, 0.04115181487412084, 0.04112357574224834]}],                        {\"template\": {\"data\": {\"bar\": [{\"error_x\": {\"color\": \"#2a3f5f\"}, \"error_y\": {\"color\": \"#2a3f5f\"}, \"marker\": {\"line\": {\"color\": \"#E5ECF6\", \"width\": 0.5}}, \"type\": \"bar\"}], \"barpolar\": [{\"marker\": {\"line\": {\"color\": \"#E5ECF6\", \"width\": 0.5}}, \"type\": \"barpolar\"}], \"carpet\": [{\"aaxis\": {\"endlinecolor\": \"#2a3f5f\", \"gridcolor\": \"white\", \"linecolor\": \"white\", \"minorgridcolor\": \"white\", \"startlinecolor\": \"#2a3f5f\"}, \"baxis\": {\"endlinecolor\": \"#2a3f5f\", \"gridcolor\": \"white\", \"linecolor\": \"white\", \"minorgridcolor\": \"white\", \"startlinecolor\": \"#2a3f5f\"}, \"type\": \"carpet\"}], \"choropleth\": [{\"colorbar\": {\"outlinewidth\": 0, \"ticks\": \"\"}, \"type\": \"choropleth\"}], \"contour\": [{\"colorbar\": {\"outlinewidth\": 0, \"ticks\": \"\"}, \"colorscale\": [[0.0, \"#0d0887\"], [0.1111111111111111, \"#46039f\"], [0.2222222222222222, \"#7201a8\"], [0.3333333333333333, \"#9c179e\"], [0.4444444444444444, \"#bd3786\"], [0.5555555555555556, \"#d8576b\"], [0.6666666666666666, \"#ed7953\"], [0.7777777777777778, \"#fb9f3a\"], [0.8888888888888888, \"#fdca26\"], [1.0, \"#f0f921\"]], \"type\": \"contour\"}], \"contourcarpet\": [{\"colorbar\": {\"outlinewidth\": 0, \"ticks\": \"\"}, \"type\": \"contourcarpet\"}], \"heatmap\": [{\"colorbar\": {\"outlinewidth\": 0, \"ticks\": \"\"}, \"colorscale\": [[0.0, \"#0d0887\"], [0.1111111111111111, \"#46039f\"], [0.2222222222222222, \"#7201a8\"], [0.3333333333333333, \"#9c179e\"], [0.4444444444444444, \"#bd3786\"], [0.5555555555555556, \"#d8576b\"], [0.6666666666666666, \"#ed7953\"], [0.7777777777777778, \"#fb9f3a\"], [0.8888888888888888, \"#fdca26\"], [1.0, \"#f0f921\"]], \"type\": \"heatmap\"}], \"heatmapgl\": [{\"colorbar\": {\"outlinewidth\": 0, \"ticks\": \"\"}, \"colorscale\": [[0.0, \"#0d0887\"], [0.1111111111111111, \"#46039f\"], [0.2222222222222222, \"#7201a8\"], [0.3333333333333333, \"#9c179e\"], [0.4444444444444444, \"#bd3786\"], [0.5555555555555556, \"#d8576b\"], [0.6666666666666666, \"#ed7953\"], [0.7777777777777778, \"#fb9f3a\"], [0.8888888888888888, \"#fdca26\"], [1.0, \"#f0f921\"]], \"type\": \"heatmapgl\"}], \"histogram\": [{\"marker\": {\"colorbar\": {\"outlinewidth\": 0, \"ticks\": \"\"}}, \"type\": \"histogram\"}], \"histogram2d\": [{\"colorbar\": {\"outlinewidth\": 0, \"ticks\": \"\"}, \"colorscale\": [[0.0, \"#0d0887\"], [0.1111111111111111, \"#46039f\"], [0.2222222222222222, \"#7201a8\"], [0.3333333333333333, \"#9c179e\"], [0.4444444444444444, \"#bd3786\"], [0.5555555555555556, \"#d8576b\"], [0.6666666666666666, \"#ed7953\"], [0.7777777777777778, \"#fb9f3a\"], [0.8888888888888888, \"#fdca26\"], [1.0, \"#f0f921\"]], \"type\": \"histogram2d\"}], \"histogram2dcontour\": [{\"colorbar\": {\"outlinewidth\": 0, \"ticks\": \"\"}, \"colorscale\": [[0.0, \"#0d0887\"], [0.1111111111111111, \"#46039f\"], [0.2222222222222222, \"#7201a8\"], [0.3333333333333333, \"#9c179e\"], [0.4444444444444444, \"#bd3786\"], [0.5555555555555556, \"#d8576b\"], [0.6666666666666666, \"#ed7953\"], [0.7777777777777778, \"#fb9f3a\"], [0.8888888888888888, \"#fdca26\"], [1.0, \"#f0f921\"]], \"type\": \"histogram2dcontour\"}], \"mesh3d\": [{\"colorbar\": {\"outlinewidth\": 0, \"ticks\": \"\"}, \"type\": \"mesh3d\"}], \"parcoords\": [{\"line\": {\"colorbar\": {\"outlinewidth\": 0, \"ticks\": \"\"}}, \"type\": \"parcoords\"}], \"pie\": [{\"automargin\": true, \"type\": \"pie\"}], \"scatter\": [{\"marker\": {\"colorbar\": {\"outlinewidth\": 0, \"ticks\": \"\"}}, \"type\": \"scatter\"}], \"scatter3d\": [{\"line\": {\"colorbar\": {\"outlinewidth\": 0, \"ticks\": \"\"}}, \"marker\": {\"colorbar\": {\"outlinewidth\": 0, \"ticks\": \"\"}}, \"type\": \"scatter3d\"}], \"scattercarpet\": [{\"marker\": {\"colorbar\": {\"outlinewidth\": 0, \"ticks\": \"\"}}, \"type\": \"scattercarpet\"}], \"scattergeo\": [{\"marker\": {\"colorbar\": {\"outlinewidth\": 0, \"ticks\": \"\"}}, \"type\": \"scattergeo\"}], \"scattergl\": [{\"marker\": {\"colorbar\": {\"outlinewidth\": 0, \"ticks\": \"\"}}, \"type\": \"scattergl\"}], \"scattermapbox\": [{\"marker\": {\"colorbar\": {\"outlinewidth\": 0, \"ticks\": \"\"}}, \"type\": \"scattermapbox\"}], \"scatterpolar\": [{\"marker\": {\"colorbar\": {\"outlinewidth\": 0, \"ticks\": \"\"}}, \"type\": \"scatterpolar\"}], \"scatterpolargl\": [{\"marker\": {\"colorbar\": {\"outlinewidth\": 0, \"ticks\": \"\"}}, \"type\": \"scatterpolargl\"}], \"scatterternary\": [{\"marker\": {\"colorbar\": {\"outlinewidth\": 0, \"ticks\": \"\"}}, \"type\": \"scatterternary\"}], \"surface\": [{\"colorbar\": {\"outlinewidth\": 0, \"ticks\": \"\"}, \"colorscale\": [[0.0, \"#0d0887\"], [0.1111111111111111, \"#46039f\"], [0.2222222222222222, \"#7201a8\"], [0.3333333333333333, \"#9c179e\"], [0.4444444444444444, \"#bd3786\"], [0.5555555555555556, \"#d8576b\"], [0.6666666666666666, \"#ed7953\"], [0.7777777777777778, \"#fb9f3a\"], [0.8888888888888888, \"#fdca26\"], [1.0, \"#f0f921\"]], \"type\": \"surface\"}], \"table\": [{\"cells\": {\"fill\": {\"color\": \"#EBF0F8\"}, \"line\": {\"color\": \"white\"}}, \"header\": {\"fill\": {\"color\": \"#C8D4E3\"}, \"line\": {\"color\": \"white\"}}, \"type\": \"table\"}]}, \"layout\": {\"annotationdefaults\": {\"arrowcolor\": \"#2a3f5f\", \"arrowhead\": 0, \"arrowwidth\": 1}, \"autotypenumbers\": \"strict\", \"coloraxis\": {\"colorbar\": {\"outlinewidth\": 0, \"ticks\": \"\"}}, \"colorscale\": {\"diverging\": [[0, \"#8e0152\"], [0.1, \"#c51b7d\"], [0.2, \"#de77ae\"], [0.3, \"#f1b6da\"], [0.4, \"#fde0ef\"], [0.5, \"#f7f7f7\"], [0.6, \"#e6f5d0\"], [0.7, \"#b8e186\"], [0.8, \"#7fbc41\"], [0.9, \"#4d9221\"], [1, \"#276419\"]], \"sequential\": [[0.0, \"#0d0887\"], [0.1111111111111111, \"#46039f\"], [0.2222222222222222, \"#7201a8\"], [0.3333333333333333, \"#9c179e\"], [0.4444444444444444, \"#bd3786\"], [0.5555555555555556, \"#d8576b\"], [0.6666666666666666, \"#ed7953\"], [0.7777777777777778, \"#fb9f3a\"], [0.8888888888888888, \"#fdca26\"], [1.0, \"#f0f921\"]], \"sequentialminus\": [[0.0, \"#0d0887\"], [0.1111111111111111, \"#46039f\"], [0.2222222222222222, \"#7201a8\"], [0.3333333333333333, \"#9c179e\"], [0.4444444444444444, \"#bd3786\"], [0.5555555555555556, \"#d8576b\"], [0.6666666666666666, \"#ed7953\"], [0.7777777777777778, \"#fb9f3a\"], [0.8888888888888888, \"#fdca26\"], [1.0, \"#f0f921\"]]}, \"colorway\": [\"#636efa\", \"#EF553B\", \"#00cc96\", \"#ab63fa\", \"#FFA15A\", \"#19d3f3\", \"#FF6692\", \"#B6E880\", \"#FF97FF\", \"#FECB52\"], \"font\": {\"color\": \"#2a3f5f\"}, \"geo\": {\"bgcolor\": \"white\", \"lakecolor\": \"white\", \"landcolor\": \"#E5ECF6\", \"showlakes\": true, \"showland\": true, \"subunitcolor\": \"white\"}, \"hoverlabel\": {\"align\": \"left\"}, \"hovermode\": \"closest\", \"mapbox\": {\"style\": \"light\"}, \"paper_bgcolor\": \"white\", \"plot_bgcolor\": \"#E5ECF6\", \"polar\": {\"angularaxis\": {\"gridcolor\": \"white\", \"linecolor\": \"white\", \"ticks\": \"\"}, \"bgcolor\": \"#E5ECF6\", \"radialaxis\": {\"gridcolor\": \"white\", \"linecolor\": \"white\", \"ticks\": \"\"}}, \"scene\": {\"xaxis\": {\"backgroundcolor\": \"#E5ECF6\", \"gridcolor\": \"white\", \"gridwidth\": 2, \"linecolor\": \"white\", \"showbackground\": true, \"ticks\": \"\", \"zerolinecolor\": \"white\"}, \"yaxis\": {\"backgroundcolor\": \"#E5ECF6\", \"gridcolor\": \"white\", \"gridwidth\": 2, \"linecolor\": \"white\", \"showbackground\": true, \"ticks\": \"\", \"zerolinecolor\": \"white\"}, \"zaxis\": {\"backgroundcolor\": \"#E5ECF6\", \"gridcolor\": \"white\", \"gridwidth\": 2, \"linecolor\": \"white\", \"showbackground\": true, \"ticks\": \"\", \"zerolinecolor\": \"white\"}}, \"shapedefaults\": {\"line\": {\"color\": \"#2a3f5f\"}}, \"ternary\": {\"aaxis\": {\"gridcolor\": \"white\", \"linecolor\": \"white\", \"ticks\": \"\"}, \"baxis\": {\"gridcolor\": \"white\", \"linecolor\": \"white\", \"ticks\": \"\"}, \"bgcolor\": \"#E5ECF6\", \"caxis\": {\"gridcolor\": \"white\", \"linecolor\": \"white\", \"ticks\": \"\"}}, \"title\": {\"x\": 0.05}, \"xaxis\": {\"automargin\": true, \"gridcolor\": \"white\", \"linecolor\": \"white\", \"ticks\": \"\", \"title\": {\"standoff\": 15}, \"zerolinecolor\": \"white\", \"zerolinewidth\": 2}, \"yaxis\": {\"automargin\": true, \"gridcolor\": \"white\", \"linecolor\": \"white\", \"ticks\": \"\", \"title\": {\"standoff\": 15}, \"zerolinecolor\": \"white\", \"zerolinewidth\": 2}}}, \"title\": {\"text\": \"Sparsity benchmarks\"}, \"xaxis\": {\"nticks\": 36}},                        {\"responsive\": true}                    ).then(function(){\n",
       "                            \n",
       "var gd = document.getElementById('9837df45-b61b-40bf-91d1-2a981ac05759');\n",
       "var x = new MutationObserver(function (mutations, observer) {{\n",
       "        var display = window.getComputedStyle(gd).display;\n",
       "        if (!display || display === 'none') {{\n",
       "            console.log([gd, 'removed!']);\n",
       "            Plotly.purge(gd);\n",
       "            observer.disconnect();\n",
       "        }}\n",
       "}});\n",
       "\n",
       "// Listen for the removal of the full notebook cells\n",
       "var notebookContainer = gd.closest('#notebook-container');\n",
       "if (notebookContainer) {{\n",
       "    x.observe(notebookContainer, {childList: true});\n",
       "}}\n",
       "\n",
       "// Listen for the clearing of the current output cell\n",
       "var outputEl = gd.closest('.output');\n",
       "if (outputEl) {{\n",
       "    x.observe(outputEl, {childList: true});\n",
       "}}\n",
       "\n",
       "                        })                };                });            </script>        </div>"
      ]
     },
     "metadata": {},
     "output_type": "display_data"
    }
   ],
   "source": [
    "fig = go.Figure(data=go.Heatmap(\n",
    "        z=df[\"sparsity\"],\n",
    "        x=df[\"method\"],\n",
    "        y=df[\"tol\"],\n",
    "        colorscale='Viridis'))\n",
    "\n",
    "fig.update_layout(\n",
    "    title='Sparsity benchmarks',\n",
    "    xaxis_nticks=36)\n",
    "\n",
    "fig.show()"
   ]
  },
  {
   "cell_type": "code",
   "execution_count": null,
   "id": "artificial-latex",
   "metadata": {},
   "outputs": [],
   "source": []
  }
 ],
 "metadata": {
  "kernelspec": {
   "display_name": "Python 3",
   "language": "python",
   "name": "python3"
  },
  "language_info": {
   "codemirror_mode": {
    "name": "ipython",
    "version": 3
   },
   "file_extension": ".py",
   "mimetype": "text/x-python",
   "name": "python",
   "nbconvert_exporter": "python",
   "pygments_lexer": "ipython3",
   "version": "3.8.0"
  }
 },
 "nbformat": 4,
 "nbformat_minor": 5
}