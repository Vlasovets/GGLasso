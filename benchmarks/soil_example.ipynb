{
 "cells": [
  {
   "cell_type": "code",
   "execution_count": 23,
   "id": "together-california",
   "metadata": {},
   "outputs": [],
   "source": [
    "import os\n",
    "os.chdir(os.path.pardir)\n",
    "\n",
    "import numpy as np\n",
    "import pandas as pd\n",
    "\n",
    "import networkx as nx\n",
    "import matplotlib.pyplot as plt"
   ]
  },
  {
   "cell_type": "code",
   "execution_count": 24,
   "id": "bibliographic-explosion",
   "metadata": {},
   "outputs": [],
   "source": [
    "from gglasso.helper.data_generation import group_power_network, sample_covariance_matrix\n",
    "from gglasso.problem import glasso_problem\n",
    "from gglasso.helper.basic_linalg import adjacency_matrix\n",
    "from gglasso.helper.utils import sparsity, zero_replacement, normalize, log_transform"
   ]
  },
  {
   "cell_type": "markdown",
   "id": "ruled-spank",
   "metadata": {},
   "source": [
    "# Import preprocessed soil data"
   ]
  },
  {
   "cell_type": "code",
   "execution_count": 26,
   "id": "satellite-nepal",
   "metadata": {},
   "outputs": [
    {
     "data": {
      "text/html": [
       "<div>\n",
       "<style scoped>\n",
       "    .dataframe tbody tr th:only-of-type {\n",
       "        vertical-align: middle;\n",
       "    }\n",
       "\n",
       "    .dataframe tbody tr th {\n",
       "        vertical-align: top;\n",
       "    }\n",
       "\n",
       "    .dataframe thead th {\n",
       "        text-align: right;\n",
       "    }\n",
       "</style>\n",
       "<table border=\"1\" class=\"dataframe\">\n",
       "  <thead>\n",
       "    <tr style=\"text-align: right;\">\n",
       "      <th></th>\n",
       "      <th>1124701</th>\n",
       "      <th>697997</th>\n",
       "      <th>203969</th>\n",
       "      <th>205391</th>\n",
       "      <th>843189</th>\n",
       "      <th>3431064</th>\n",
       "      <th>156611</th>\n",
       "      <th>2867534</th>\n",
       "      <th>4440638</th>\n",
       "      <th>216549</th>\n",
       "      <th>...</th>\n",
       "      <th>160908</th>\n",
       "      <th>1137157</th>\n",
       "      <th>4341561</th>\n",
       "      <th>143135</th>\n",
       "      <th>4409771</th>\n",
       "      <th>171768</th>\n",
       "      <th>83531</th>\n",
       "      <th>151283</th>\n",
       "      <th>1108390</th>\n",
       "      <th>4478794</th>\n",
       "    </tr>\n",
       "  </thead>\n",
       "  <tbody>\n",
       "    <tr>\n",
       "      <th>0</th>\n",
       "      <td>16.0</td>\n",
       "      <td>3.0</td>\n",
       "      <td>1.0</td>\n",
       "      <td>1.0</td>\n",
       "      <td>1.0</td>\n",
       "      <td>4.0</td>\n",
       "      <td>1.0</td>\n",
       "      <td>1.0</td>\n",
       "      <td>1.0</td>\n",
       "      <td>7.0</td>\n",
       "      <td>...</td>\n",
       "      <td>2.0</td>\n",
       "      <td>9.0</td>\n",
       "      <td>1.0</td>\n",
       "      <td>1.0</td>\n",
       "      <td>1.0</td>\n",
       "      <td>1.0</td>\n",
       "      <td>1.0</td>\n",
       "      <td>1.0</td>\n",
       "      <td>4.0</td>\n",
       "      <td>1.0</td>\n",
       "    </tr>\n",
       "    <tr>\n",
       "      <th>1</th>\n",
       "      <td>15.0</td>\n",
       "      <td>5.0</td>\n",
       "      <td>1.0</td>\n",
       "      <td>1.0</td>\n",
       "      <td>1.0</td>\n",
       "      <td>2.0</td>\n",
       "      <td>1.0</td>\n",
       "      <td>1.0</td>\n",
       "      <td>3.0</td>\n",
       "      <td>12.0</td>\n",
       "      <td>...</td>\n",
       "      <td>1.0</td>\n",
       "      <td>1.0</td>\n",
       "      <td>1.0</td>\n",
       "      <td>1.0</td>\n",
       "      <td>1.0</td>\n",
       "      <td>1.0</td>\n",
       "      <td>2.0</td>\n",
       "      <td>1.0</td>\n",
       "      <td>25.0</td>\n",
       "      <td>1.0</td>\n",
       "    </tr>\n",
       "    <tr>\n",
       "      <th>2</th>\n",
       "      <td>2.0</td>\n",
       "      <td>1.0</td>\n",
       "      <td>1.0</td>\n",
       "      <td>1.0</td>\n",
       "      <td>1.0</td>\n",
       "      <td>2.0</td>\n",
       "      <td>1.0</td>\n",
       "      <td>1.0</td>\n",
       "      <td>1.0</td>\n",
       "      <td>1.0</td>\n",
       "      <td>...</td>\n",
       "      <td>1.0</td>\n",
       "      <td>2.0</td>\n",
       "      <td>1.0</td>\n",
       "      <td>1.0</td>\n",
       "      <td>1.0</td>\n",
       "      <td>1.0</td>\n",
       "      <td>1.0</td>\n",
       "      <td>1.0</td>\n",
       "      <td>2.0</td>\n",
       "      <td>1.0</td>\n",
       "    </tr>\n",
       "    <tr>\n",
       "      <th>3</th>\n",
       "      <td>9.0</td>\n",
       "      <td>1.0</td>\n",
       "      <td>1.0</td>\n",
       "      <td>2.0</td>\n",
       "      <td>1.0</td>\n",
       "      <td>1.0</td>\n",
       "      <td>1.0</td>\n",
       "      <td>1.0</td>\n",
       "      <td>1.0</td>\n",
       "      <td>2.0</td>\n",
       "      <td>...</td>\n",
       "      <td>6.0</td>\n",
       "      <td>1.0</td>\n",
       "      <td>1.0</td>\n",
       "      <td>1.0</td>\n",
       "      <td>2.0</td>\n",
       "      <td>22.0</td>\n",
       "      <td>3.0</td>\n",
       "      <td>4.0</td>\n",
       "      <td>1.0</td>\n",
       "      <td>1.0</td>\n",
       "    </tr>\n",
       "    <tr>\n",
       "      <th>4</th>\n",
       "      <td>14.0</td>\n",
       "      <td>68.0</td>\n",
       "      <td>1.0</td>\n",
       "      <td>1.0</td>\n",
       "      <td>1.0</td>\n",
       "      <td>4.0</td>\n",
       "      <td>1.0</td>\n",
       "      <td>1.0</td>\n",
       "      <td>10.0</td>\n",
       "      <td>3.0</td>\n",
       "      <td>...</td>\n",
       "      <td>1.0</td>\n",
       "      <td>1.0</td>\n",
       "      <td>1.0</td>\n",
       "      <td>1.0</td>\n",
       "      <td>1.0</td>\n",
       "      <td>1.0</td>\n",
       "      <td>1.0</td>\n",
       "      <td>1.0</td>\n",
       "      <td>10.0</td>\n",
       "      <td>1.0</td>\n",
       "    </tr>\n",
       "  </tbody>\n",
       "</table>\n",
       "<p>5 rows × 116 columns</p>\n",
       "</div>"
      ],
      "text/plain": [
       "   1124701  697997  203969  205391  843189  3431064  156611  2867534  4440638  \\\n",
       "0     16.0     3.0     1.0     1.0     1.0      4.0     1.0      1.0      1.0   \n",
       "1     15.0     5.0     1.0     1.0     1.0      2.0     1.0      1.0      3.0   \n",
       "2      2.0     1.0     1.0     1.0     1.0      2.0     1.0      1.0      1.0   \n",
       "3      9.0     1.0     1.0     2.0     1.0      1.0     1.0      1.0      1.0   \n",
       "4     14.0    68.0     1.0     1.0     1.0      4.0     1.0      1.0     10.0   \n",
       "\n",
       "   216549  ...  160908  1137157  4341561  143135  4409771  171768  83531  \\\n",
       "0     7.0  ...     2.0      9.0      1.0     1.0      1.0     1.0    1.0   \n",
       "1    12.0  ...     1.0      1.0      1.0     1.0      1.0     1.0    2.0   \n",
       "2     1.0  ...     1.0      2.0      1.0     1.0      1.0     1.0    1.0   \n",
       "3     2.0  ...     6.0      1.0      1.0     1.0      2.0    22.0    3.0   \n",
       "4     3.0  ...     1.0      1.0      1.0     1.0      1.0     1.0    1.0   \n",
       "\n",
       "   151283  1108390  4478794  \n",
       "0     1.0      4.0      1.0  \n",
       "1     1.0     25.0      1.0  \n",
       "2     1.0      2.0      1.0  \n",
       "3     4.0      1.0      1.0  \n",
       "4     1.0     10.0      1.0  \n",
       "\n",
       "[5 rows x 116 columns]"
      ]
     },
     "execution_count": 26,
     "metadata": {},
     "output_type": "execute_result"
    }
   ],
   "source": [
    "soil = pd.read_table('/Users/oleg.vlasovetc/Public/GGLasso/data/soil/soil_116.csv', sep=',')\n",
    "soil.head()"
   ]
  },
  {
   "cell_type": "code",
   "execution_count": 6,
   "id": "latin-corrections",
   "metadata": {},
   "outputs": [
    {
     "data": {
      "text/plain": [
       "(89, 116)"
      ]
     },
     "execution_count": 6,
     "metadata": {},
     "output_type": "execute_result"
    }
   ],
   "source": [
    "X_soil = np.array(soil)\n",
    "X_soil.shape"
   ]
  },
  {
   "cell_type": "markdown",
   "id": "hollywood-trash",
   "metadata": {},
   "source": [
    "# Log-transform"
   ]
  },
  {
   "cell_type": "code",
   "execution_count": 10,
   "id": "demonstrated-first",
   "metadata": {},
   "outputs": [],
   "source": [
    "X = normalize(X_soil)"
   ]
  },
  {
   "cell_type": "markdown",
   "id": "equivalent-cloud",
   "metadata": {},
   "source": [
    "Note: X is scaled with geometric mean, and should be a dataframe of form (p,N)"
   ]
  },
  {
   "cell_type": "code",
   "execution_count": 15,
   "id": "medieval-object",
   "metadata": {},
   "outputs": [],
   "source": [
    "X = log_transform(pd.DataFrame(X.T))"
   ]
  },
  {
   "cell_type": "markdown",
   "id": "secure-captain",
   "metadata": {},
   "source": [
    "# Calculate covariance and scale to correlations"
   ]
  },
  {
   "cell_type": "code",
   "execution_count": 16,
   "id": "immune-consideration",
   "metadata": {},
   "outputs": [],
   "source": [
    "S0 = np.cov(X.values, bias = True)"
   ]
  },
  {
   "cell_type": "code",
   "execution_count": 17,
   "id": "interracial-presentation",
   "metadata": {},
   "outputs": [],
   "source": [
    "# scale covariances to correlations\n",
    "scale = np.tile(np.sqrt(np.diag(S0)),(S0.shape[0],1))\n",
    "scale = scale.T * scale\n",
    "\n",
    "S = S0 / scale"
   ]
  },
  {
   "cell_type": "markdown",
   "id": "according-personal",
   "metadata": {},
   "source": [
    "# GGLasso problem"
   ]
  },
  {
   "cell_type": "code",
   "execution_count": 20,
   "id": "flush-robertson",
   "metadata": {},
   "outputs": [
    {
     "name": "stdout",
     "output_type": "stream",
     "text": [
      " \n",
      "SINGLE GRAPHICAL LASSO PROBLEM \n",
      "Regularization parameters:\n",
      "{'lambda1': 0.05, 'mu1': None}\n"
     ]
    }
   ],
   "source": [
    "P = glasso_problem(S, X.shape[1], reg_params = {'lambda1': 0.05}, latent = False, do_scaling = False)\n",
    "print(P)"
   ]
  },
  {
   "cell_type": "code",
   "execution_count": 21,
   "id": "interpreted-peter",
   "metadata": {},
   "outputs": [
    {
     "name": "stdout",
     "output_type": "stream",
     "text": [
      "ADMM terminated after 34 iterations with status: optimal.\n",
      "ADMM terminated after 27 iterations with status: optimal.\n",
      "ADMM terminated after 22 iterations with status: optimal.\n",
      "ADMM terminated after 23 iterations with status: optimal.\n",
      "ADMM terminated after 22 iterations with status: optimal.\n",
      "ADMM terminated after 23 iterations with status: optimal.\n",
      "ADMM terminated after 104 iterations with status: optimal.\n",
      "ADMM terminated after 145 iterations with status: optimal.\n",
      "ADMM terminated after 162 iterations with status: optimal.\n",
      "ADMM terminated after 90 iterations with status: optimal.\n",
      "ADMM terminated after 129 iterations with status: optimal.\n",
      "ADMM terminated after 178 iterations with status: optimal.\n",
      "ADMM terminated after 223 iterations with status: optimal.\n",
      "ADMM terminated after 292 iterations with status: optimal.\n",
      "ADMM terminated after 397 iterations with status: optimal.\n",
      "ADMM terminated after 537 iterations with status: optimal.\n",
      "ADMM terminated after 762 iterations with status: optimal.\n",
      "ADMM terminated after 1000 iterations with status: primal optimal.\n",
      "ADMM terminated after 1000 iterations with status: primal optimal.\n",
      "ADMM terminated after 1000 iterations with status: primal optimal.\n",
      "ADMM terminated after 1000 iterations with status: primal optimal.\n",
      "ADMM terminated after 1000 iterations with status: primal optimal.\n",
      "ADMM terminated after 1000 iterations with status: primal optimal.\n",
      "ADMM terminated after 1000 iterations with status: primal optimal.\n",
      "{'lambda1': 1.0, 'mu1': 0}\n"
     ]
    }
   ],
   "source": [
    "lambda1_range = np.logspace(0, -3, 20)\n",
    "modelselect_params = {'lambda1_range': lambda1_range}\n",
    "\n",
    "P.model_selection(modelselect_params = modelselect_params, method = 'eBIC', gamma = 1)\n",
    "\n",
    "# regularization parameters are set to the best ones found during model selection\n",
    "print(P.reg_params)"
   ]
  },
  {
   "cell_type": "code",
   "execution_count": 22,
   "id": "breathing-vinyl",
   "metadata": {},
   "outputs": [
    {
     "data": {
      "image/png": "[encoded data removed]",
      "text/plain": [
       "<Figure size 432x288 with 1 Axes>"
      ]
     },
     "metadata": {},
     "output_type": "display_data"
    }
   ],
   "source": [
    "sol = P.solution.precision_\n",
    "P.solution.calc_adjacency()\n",
    "\n",
    "\n",
    "plt.figure()\n",
    "G1 = nx.from_numpy_array(P.solution.adjacency_)\n",
    "nx.draw_spring(G1, node_color = \"darkblue\", edge_color = \"darkblue\", font_color = 'white', with_labels = True)"
   ]
  }
 ],
 "metadata": {
  "kernelspec": {
   "display_name": "Python 3",
   "language": "python",
   "name": "python3"
  },
  "language_info": {
   "codemirror_mode": {
    "name": "ipython",
    "version": 3
   },
   "file_extension": ".py",
   "mimetype": "text/x-python",
   "name": "python",
   "nbconvert_exporter": "python",
   "pygments_lexer": "ipython3",
   "version": "3.8.0"
  }
 },
 "nbformat": 4,
 "nbformat_minor": 5
}
