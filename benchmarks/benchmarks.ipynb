{
 "cells": [
  {
   "cell_type": "code",
   "execution_count": null,
   "id": "directed-oregon",
   "metadata": {},
   "outputs": [],
   "source": [
    "import os\n",
    "os.chdir(os.path.pardir)\n",
    "\n",
    "import numpy as np\n",
    "import pandas as pd\n",
    "import time\n",
    "import itertools\n",
    "from itertools import product\n",
    "\n",
    "from regain.covariance import GraphicalLasso as rg_GL\n",
    "from regain import datasets, utils\n",
    "\n",
    "from sklearn.covariance import GraphicalLasso as sk_GL\n",
    "from sklearn import set_config\n",
    "\n",
    "from regain_benchmark import regain_time\n",
    "from sklearn_benchmark import sklearn_time\n",
    "from gglasso_benchmark import gglasso, gglasso_time\n",
    "\n",
    "from utilita import network_generation, model_solution, benchmark_parameters \n",
    "from utilita import sparsity_benchmark, dict_shape, hamming_dict\n",
    "from utilita import benchmarks_dataframe, best_time_dataframe, drop_acc_duplicates\n",
    "\n",
    "from plots import plot_accuracy, plot_scalability, plot_lambdas\n",
    "\n",
    "from tqdm.contrib import tzip\n",
    "from tqdm.contrib.itertools import product\n",
    "\n",
    "set_config(print_changed_only=False)\n",
    "pd.set_option('display.max_columns', None)"
   ]
  },
  {
   "cell_type": "markdown",
   "id": "improving-space",
   "metadata": {},
   "source": [
    "## Data"
   ]
  },
  {
   "cell_type": "markdown",
   "id": "becoming-uncle",
   "metadata": {},
   "source": [
    "### Power networks"
   ]
  },
  {
   "cell_type": "code",
   "execution_count": null,
   "id": "institutional-truck",
   "metadata": {},
   "outputs": [],
   "source": [
    "S_dict=dict()\n",
    "X_dict=dict()\n",
    "Theta_dict=dict()\n",
    "\n",
    "p_list=[100, 500, 1000, 2000]\n",
    "N_list=[200, 1000, 2000, 4000]\n",
    "# p_list=[100, 200]\n",
    "# N_list=[200, 400]\n",
    "\n",
    "print(\" Power network generation \".center(40, '-'))\n",
    "\n",
    "for p, N in tzip(p_list, N_list):\n",
    "    start = time.perf_counter()\n",
    "    S, X, Theta = network_generation(p, N, M=10)\n",
    "    end = time.perf_counter()\n",
    "    print(\"p: %5d, N : %5d, Time : %5.4f\" % (p, N, end-start))\n",
    "\n",
    "    S_dict[p, N] = S\n",
    "    X_dict[p, N] = X\n",
    "    Theta_dict[p, N] = Theta"
   ]
  },
  {
   "cell_type": "code",
   "execution_count": null,
   "id": "quarterly-aberdeen",
   "metadata": {},
   "outputs": [],
   "source": [
    "print(\"\\n Shape of S_i:\", dict_shape(S_dict))\n",
    "print(\"\\n Shape of X_i:\", dict_shape(X_dict))\n",
    "print(\"\\n Shape of Theta_i:\", dict_shape(Theta_dict))"
   ]
  },
  {
   "cell_type": "markdown",
   "id": "selected-rochester",
   "metadata": {},
   "source": [
    "### Latent variables data from <em>regain</em>"
   ]
  },
  {
   "cell_type": "code",
   "execution_count": null,
   "id": "appropriate-glucose",
   "metadata": {},
   "outputs": [],
   "source": [
    "# prepare data\n",
    "n_times = [20, 50, 100]\n",
    "n_dims = np.sqrt(np.logspace(2, 5, 10)).astype(int)\n",
    "\n",
    "n_samples = 200\n",
    "n_dim_lat = 2\n",
    "\n",
    "np.random.seed(42)\n",
    "with utils.suppress_stdout():\n",
    "    data = {\n",
    "        (dim, T): datasets.make_dataset(\n",
    "            mode='ma', n_samples=n_samples, \n",
    "            n_dim_lat=n_dim_lat, n_dim_obs=dim,\n",
    "            T=T, epsilon=1e-2)\n",
    "        for dim, T in (product(n_dims, n_times))\n",
    "    }"
   ]
  },
  {
   "cell_type": "code",
   "execution_count": null,
   "id": "desirable-emerald",
   "metadata": {},
   "outputs": [],
   "source": [
    "X_lat = dict()\n",
    "\n",
    "for key in data.keys():\n",
    "    X_lat.update({key:data[key]['data']})\n",
    "    \n",
    "X_lat = list(X_lat.values())\n",
    "X_lat = [x for data in X_lat for x in data] #flatten data array"
   ]
  },
  {
   "cell_type": "code",
   "execution_count": null,
   "id": "black-duplicate",
   "metadata": {},
   "outputs": [],
   "source": [
    "S_lat = list() # empirical covariance matrices\n",
    "for i in X_lat:\n",
    "    S_lat.append(np.cov(i))"
   ]
  },
  {
   "cell_type": "markdown",
   "id": "complete-arrest",
   "metadata": {},
   "source": [
    "### Hyperparameters"
   ]
  },
  {
   "cell_type": "code",
   "execution_count": null,
   "id": "vocal-drilling",
   "metadata": {},
   "outputs": [],
   "source": [
    "sk_params, rg_params, gglasso_params, lambda_list = benchmark_parameters(enet_list=[0.1])"
   ]
  },
  {
   "cell_type": "markdown",
   "id": "answering-arena",
   "metadata": {},
   "source": [
    "### Model solution"
   ]
  },
  {
   "cell_type": "code",
   "execution_count": null,
   "id": "stuffed-blond",
   "metadata": {},
   "outputs": [],
   "source": [
    "model_time_dict = dict()\n",
    "model_Z_dict = dict()\n",
    "\n",
    "for X, l1 in product(list(X_dict.values()), lambda_list):\n",
    "    model = \"sklearn\"\n",
    "    Z, Z_time, info = model_solution(model=model, X=X, lambda1=l1)\n",
    "    \n",
    "    key = \"p_\" + str(X.shape[1]) + \"_l1_\" + str(l1)\n",
    "    model_time_dict.update({key: Z_time})\n",
    "    model_Z_dict.update({key: Z})\n",
    "print(\"Model solution({0}): {1}\".format(model,info))"
   ]
  },
  {
   "cell_type": "markdown",
   "id": "alternate-instrument",
   "metadata": {},
   "source": [
    "### GGLasso"
   ]
  },
  {
   "cell_type": "code",
   "execution_count": null,
   "id": "supreme-geography",
   "metadata": {},
   "outputs": [],
   "source": [
    "time_dict = dict()\n",
    "accuracy_dict = dict()\n",
    "Z_dict = dict()\n",
    "trace_dict = dict()"
   ]
  },
  {
   "cell_type": "code",
   "execution_count": null,
   "id": "vital-satellite",
   "metadata": {},
   "outputs": [],
   "source": [
    "for X, S in tzip(list(X_dict.values()), list(S_dict.values())):\n",
    "    Omega_0 = np.eye(len(S))\n",
    "    gg_time, gg_accuracy, Z_gg = gglasso_time(S=S, Omega_0=Omega_0, Z=model_Z_dict, lambda_list=lambda_list,\n",
    "                                              n_iter=1 + 1, gglasso_params=gglasso_params)\n",
    "    time_dict.update(gg_time)\n",
    "    accuracy_dict.update(gg_accuracy)\n",
    "    Z_dict.update(Z_gg)\n",
    "\n",
    "    for key, item in Z_gg.items():\n",
    "        trace_dict.update({key: {\"Z\": item, \"X\": X, \"S\": S,\"l1\": l1}})"
   ]
  },
  {
   "cell_type": "markdown",
   "id": "sudden-degree",
   "metadata": {},
   "source": [
    "### Sklearn"
   ]
  },
  {
   "cell_type": "code",
   "execution_count": null,
   "id": "turkish-crowd",
   "metadata": {
    "scrolled": false
   },
   "outputs": [],
   "source": [
    "for X, S in tzip(list(X_dict.values()), list(S_dict.values())):\n",
    "    sk_time, sk_accuracy, Z_sk = sklearn_time(X=X, Z=model_Z_dict, sk_params=sk_params, lambda_list=lambda_list, n_iter=2)\n",
    "    \n",
    "    time_dict.update(sk_time)\n",
    "    accuracy_dict.update(sk_accuracy)\n",
    "    Z_dict.update(Z_sk)\n",
    "    \n",
    "    for key, item in Z_sk.items():\n",
    "        trace_dict.update({key: {\"Z\": item, \"X\": X, \"S\": S,\"l1\": l1}})"
   ]
  },
  {
   "cell_type": "markdown",
   "id": "appropriate-assessment",
   "metadata": {},
   "source": [
    "### Regain"
   ]
  },
  {
   "cell_type": "code",
   "execution_count": null,
   "id": "attended-generation",
   "metadata": {},
   "outputs": [],
   "source": [
    "for X, S in tzip(list(X_dict.values()), list(S_dict.values())):\n",
    "    rg_time, rg_accuracy, Z_rg = regain_time(X=X, Z=model_Z_dict, rg_params=rg_params, lambda_list=lambda_list, n_iter=2)\n",
    "    \n",
    "    time_dict.update(rg_time)\n",
    "    accuracy_dict.update(rg_accuracy)\n",
    "    Z_dict.update(Z_rg)\n",
    "    \n",
    "    for key, item in Z_rg.items():\n",
    "        trace_dict.update({key: {\"Z\": item, \"X\": X, \"S\": S,\"l1\": l1}})"
   ]
  },
  {
   "cell_type": "markdown",
   "id": "active-maine",
   "metadata": {},
   "source": [
    "### Sparsity"
   ]
  },
  {
   "cell_type": "code",
   "execution_count": null,
   "id": "engaged-phoenix",
   "metadata": {},
   "outputs": [],
   "source": [
    "sparsity = hamming_dict(Theta_dict=Theta_dict, Z_dict=Z_dict, t_rounding=1e-4)"
   ]
  },
  {
   "cell_type": "markdown",
   "id": "scenic-zealand",
   "metadata": {},
   "source": [
    "### Visualization"
   ]
  },
  {
   "cell_type": "code",
   "execution_count": null,
   "id": "surprising-landscape",
   "metadata": {},
   "outputs": [],
   "source": [
    "df = benchmarks_dataframe(times=time_dict, acc_dict=accuracy_dict, spars_dict=sparsity)\n",
    "df = drop_acc_duplicates(df)\n",
    "df.head()"
   ]
  },
  {
   "cell_type": "code",
   "execution_count": null,
   "id": "sufficient-tooth",
   "metadata": {},
   "outputs": [],
   "source": [
    "df.to_csv('time_p2000.csv', index=False)"
   ]
  },
  {
   "cell_type": "code",
   "execution_count": null,
   "id": "rolled-aerospace",
   "metadata": {},
   "outputs": [],
   "source": [
    "fig = plot_lambdas(df, upper_bound=0.01, lower_bound=0.00001)\n",
    "fig.show()"
   ]
  },
  {
   "cell_type": "code",
   "execution_count": null,
   "id": "bacterial-simulation",
   "metadata": {},
   "outputs": [],
   "source": [
    "fig = plot_accuracy(df, upper_bound=0.01, lower_bound=0.000001)\n",
    "fig.show()"
   ]
  },
  {
   "cell_type": "code",
   "execution_count": null,
   "id": "roman-attention",
   "metadata": {},
   "outputs": [],
   "source": [
    "frames = sparsity_benchmark(df)"
   ]
  },
  {
   "cell_type": "code",
   "execution_count": null,
   "id": "spare-techno",
   "metadata": {},
   "outputs": [],
   "source": [
    "frames[100]"
   ]
  },
  {
   "cell_type": "code",
   "execution_count": null,
   "id": "stylish-diagnosis",
   "metadata": {},
   "outputs": [],
   "source": [
    "frames[200]"
   ]
  },
  {
   "cell_type": "code",
   "execution_count": null,
   "id": "orange-insertion",
   "metadata": {},
   "outputs": [],
   "source": [
    "frames[1000]"
   ]
  }
 ],
 "metadata": {
  "kernelspec": {
   "display_name": "Python 3",
   "language": "python",
   "name": "python3"
  },
  "language_info": {
   "codemirror_mode": {
    "name": "ipython",
    "version": 3
   },
   "file_extension": ".py",
   "mimetype": "text/x-python",
   "name": "python",
   "nbconvert_exporter": "python",
   "pygments_lexer": "ipython3",
   "version": "3.8.0"
  },
  "widgets": {
   "application/vnd.jupyter.widget-state+json": {
    "state": {},
    "version_major": 2,
    "version_minor": 0
   }
  }
 },
 "nbformat": 4,
 "nbformat_minor": 5
}
