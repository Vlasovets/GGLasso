{
 "cells": [
  {
   "cell_type": "markdown",
   "id": "minus-corporation",
   "metadata": {},
   "source": [
    "### Latent variables data from <em>regain</em>"
   ]
  },
  {
   "cell_type": "code",
   "execution_count": null,
   "id": "double-bleeding",
   "metadata": {},
   "outputs": [],
   "source": [
    "# prepare data\n",
    "n_times = [20, 50, 100]\n",
    "n_dims = np.sqrt(np.logspace(2, 5, 10)).astype(int)\n",
    "\n",
    "n_samples = 200\n",
    "n_dim_lat = 2\n",
    "\n",
    "np.random.seed(42)\n",
    "with utils.suppress_stdout():\n",
    "    data = {\n",
    "        (dim, T): datasets.make_dataset(\n",
    "            mode='ma', n_samples=n_samples, \n",
    "            n_dim_lat=n_dim_lat, n_dim_obs=dim,\n",
    "            T=T, epsilon=1e-2)\n",
    "        for dim, T in (product(n_dims, n_times))\n",
    "    }\n",
    "\n",
    "X_lat = dict()\n",
    "\n",
    "for key in data.keys():\n",
    "    X_lat.update({key:data[key]['data']})\n",
    "    \n",
    "X_lat = list(X_lat.values())\n",
    "X_lat = [x for data in X_lat for x in data] #flatten data array\n",
    "S_lat = list() # empirical covariance matrices\n",
    "for i in X_lat:\n",
    "    S_lat.append(np.cov(i))"
   ]
  },
  {
   "cell_type": "markdown",
   "id": "double-ottawa",
   "metadata": {},
   "source": [
    "### Trace dict "
   ]
  },
  {
   "cell_type": "code",
   "execution_count": null,
   "id": "arctic-bryan",
   "metadata": {},
   "outputs": [],
   "source": [
    "# trace_dict = dict()\n",
    "# for key, item in Z_rg.items():\n",
    "#         trace_dict.update({key: {\"Z\": item, \"X\": X, \"S\": S,\"l1\": l1}})"
   ]
  },
  {
   "cell_type": "markdown",
   "id": "black-object",
   "metadata": {},
   "source": [
    "### Import benchmarks"
   ]
  },
  {
   "cell_type": "code",
   "execution_count": null,
   "id": "lightweight-confirmation",
   "metadata": {},
   "outputs": [],
   "source": [
    "import pandas as pd\n",
    "obj = pd.read_pickle(r'sklearn_acc_dict.pickle')"
   ]
  }
 ],
 "metadata": {
  "kernelspec": {
   "display_name": "Python 3",
   "language": "python",
   "name": "python3"
  },
  "language_info": {
   "codemirror_mode": {
    "name": "ipython",
    "version": 3
   },
   "file_extension": ".py",
   "mimetype": "text/x-python",
   "name": "python",
   "nbconvert_exporter": "python",
   "pygments_lexer": "ipython3",
   "version": "3.8.0"
  }
 },
 "nbformat": 4,
 "nbformat_minor": 5
}
