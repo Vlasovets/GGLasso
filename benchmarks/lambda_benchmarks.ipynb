{
 "cells": [
  {
   "cell_type": "code",
   "execution_count": null,
   "id": "informal-stretch",
   "metadata": {},
   "outputs": [],
   "source": [
    "%matplotlib inline\n",
    "\n",
    "import sys\n",
    "import time\n",
    "import numpy as np\n",
    "import pandas as pd\n",
    "import plotly.express as px\n",
    "\n",
    "from sklearn.covariance import GraphicalLasso as sk_GL\n",
    "from sklearn.covariance import empirical_covariance\n",
    "\n",
    "sys.path.append('..')\n",
    "from gglasso.solver.single_admm_solver import ADMM_SGL\n",
    "from helper.data_generation import time_varying_power_network, group_power_network, sample_covariance_matrix\n",
    "from helper.model_selection import single_grid_search\n",
    "\n",
    "\n",
    "from regain.covariance import GraphicalLasso as rg_GL"
   ]
  },
  {
   "cell_type": "markdown",
   "id": "pharmaceutical-canon",
   "metadata": {},
   "source": [
    "# Sampling from power networks"
   ]
  },
  {
   "cell_type": "code",
   "execution_count": null,
   "id": "covered-briefing",
   "metadata": {},
   "outputs": [],
   "source": [
    "p = 100\n",
    "N = 200\n",
    "Sigma, Theta = group_power_network(p, K=5, M=2) #Theta is true precision matrix\n",
    "\n",
    "S, samples = sample_covariance_matrix(Sigma, N)\n",
    "\n",
    "S = S[0,:,:]\n",
    "Theta = Theta[0,:,:] #true precision matrix\n",
    "\n",
    "samples.shape"
   ]
  },
  {
   "cell_type": "code",
   "execution_count": null,
   "id": "olympic-companion",
   "metadata": {},
   "outputs": [],
   "source": [
    "lambda_list = [0.1, 0.05, 0.025, 0.01, 0.001]\n",
    "Omega_0 = np.eye(p)\n",
    "\n",
    "n_iter = 1000000\n",
    "tol_list = [1e-1, 1e-2, 1e-3, 1e-4, 1e-5, 1e-6, 1e-7, 1e-8]\n",
    "\n",
    "cov_list = []\n",
    "precision_list = []\n",
    "time_list = []\n",
    "str_tol = []\n",
    "str_lambda = []"
   ]
  },
  {
   "cell_type": "markdown",
   "id": "built-allergy",
   "metadata": {},
   "source": [
    "## Model solution Z"
   ]
  },
  {
   "cell_type": "code",
   "execution_count": null,
   "id": "confidential-timer",
   "metadata": {},
   "outputs": [],
   "source": [
    "start = time.time()\n",
    "model = rg_GL(alpha=0.001, max_iter=n_iter, tol = 1e-10, rtol = 1e-10).fit(samples[0,:,:].T)\n",
    "end = time.time()\n",
    "\n",
    "hours, rem = divmod(end-start, 3600)\n",
    "minutes, seconds = divmod(rem, 60)\n",
    "Z_time = \"{:0>2}:{:0>2}:{:05.2f}\".format(int(hours),int(minutes),seconds)\n",
    "print(Z_time)"
   ]
  },
  {
   "cell_type": "code",
   "execution_count": null,
   "id": "classified-robin",
   "metadata": {},
   "outputs": [],
   "source": [
    "start = time.time()\n",
    "model_1 = sk_GL(alpha=0.001, max_iter=n_iter, tol = 1e-10).fit(samples[0,:,:].T)\n",
    "end = time.time()\n",
    "\n",
    "hours, rem = divmod(end-start, 3600)\n",
    "minutes, seconds = divmod(rem, 60)\n",
    "Z_time = \"{:0>2}:{:0>2}:{:05.2f}\".format(int(hours),int(minutes),seconds)\n",
    "print(Z_time)"
   ]
  },
  {
   "cell_type": "code",
   "execution_count": null,
   "id": "chief-black",
   "metadata": {},
   "outputs": [],
   "source": [
    "np.linalg.norm(model.precision_ - model_1.precision_)"
   ]
  },
  {
   "cell_type": "code",
   "execution_count": null,
   "id": "generous-option",
   "metadata": {},
   "outputs": [],
   "source": [
    "Z = model.precision_"
   ]
  },
  {
   "cell_type": "markdown",
   "id": "arctic-laugh",
   "metadata": {},
   "source": [
    "## Sklearn"
   ]
  },
  {
   "cell_type": "code",
   "execution_count": null,
   "id": "generic-mercury",
   "metadata": {},
   "outputs": [],
   "source": [
    "for lambda1 in lambda_list:\n",
    "    for tol in tol_list:\n",
    "        start = time.time()\n",
    "        Z_n = sk_GL(alpha=lambda1, max_iter=n_iter, tol = tol).fit(samples[0,:,:].T)\n",
    "        end = time.time()\n",
    "\n",
    "        hours, rem = divmod(end-start, 3600)\n",
    "        minutes, seconds = divmod(rem, 60)\n",
    "        time_list.append(\"{:0>2}:{:0>2}:{:05.2f}\".format(int(hours),int(minutes),seconds))\n",
    "\n",
    "        cov_list.append(Z_n.covariance_)\n",
    "        precision_list.append(Z_n.precision_)\n",
    "        str_tol.append(tol)\n",
    "        str_lambda.append(lambda1)\n",
    "    \n",
    "accuracy_list = []\n",
    "for i in range(0, len(precision_list)):\n",
    "    accuracy = np.linalg.norm(Z - np.array(precision_list[i]))\n",
    "    accuracy_list.append(accuracy)"
   ]
  },
  {
   "cell_type": "code",
   "execution_count": null,
   "id": "suspected-postcard",
   "metadata": {},
   "outputs": [],
   "source": [
    "str_tol = [str(x) for x in str_tol]\n",
    "str_lambda = [str(x) for x in str_lambda]\n",
    "method_list = [\"sklearn\"]*len(str_tol)\n",
    "\n",
    "df_sk = pd.DataFrame(data={'time': time_list, \n",
    "                           'distance': accuracy_list,\n",
    "                           'method': method_list,\n",
    "                           'str_tol': str_tol,\n",
    "                           \"str_lambda\" : str_lambda\n",
    "                          }\n",
    "                    )\n",
    "df_sk.head()"
   ]
  },
  {
   "cell_type": "markdown",
   "id": "younger-helena",
   "metadata": {},
   "source": [
    "## Regain"
   ]
  },
  {
   "cell_type": "code",
   "execution_count": null,
   "id": "heated-throw",
   "metadata": {},
   "outputs": [],
   "source": [
    "cov_list.clear()\n",
    "precision_list.clear()\n",
    "time_list.clear()\n",
    "str_tol.clear()\n",
    "str_lambda.clear()\n",
    "\n",
    "for lambda1 in lambda_list:\n",
    "    for tol in tol_list:\n",
    "        start = time.time()\n",
    "        Z_n = rg_GL(alpha=lambda1, max_iter=n_iter, tol = tol, rtol = tol).fit(samples[0,:,:].T)\n",
    "        end = time.time()\n",
    "\n",
    "        hours, rem = divmod(end-start, 3600)\n",
    "        minutes, seconds = divmod(rem, 60)\n",
    "        time_list.append(\"{:0>2}:{:0>2}:{:05.2f}\".format(int(hours),int(minutes),seconds))\n",
    "\n",
    "        cov_list.append(Z_n.covariance_)\n",
    "        precision_list.append(Z_n.precision_)\n",
    "        str_tol.append(tol)\n",
    "        str_lambda.append(lambda1)\n",
    "\n",
    "accuracy_list = []\n",
    "for i in range(0, len(precision_list)):\n",
    "    accuracy = np.linalg.norm(Z - np.array(precision_list[i]))\n",
    "    accuracy_list.append(accuracy)"
   ]
  },
  {
   "cell_type": "code",
   "execution_count": null,
   "id": "civil-robin",
   "metadata": {},
   "outputs": [],
   "source": [
    "str_tol = [str(x) for x in str_tol]\n",
    "str_lambda = [str(x) for x in str_lambda]\n",
    "method_list = [\"regain\"]*len(str_tol)\n",
    "\n",
    "df_rg = pd.DataFrame(data={'time': time_list, \n",
    "                           'distance': accuracy_list,\n",
    "                           'method': method_list,\n",
    "                            'str_tol': str_tol,\n",
    "                          'str_lambda': str_lambda})\n",
    "df_rg.head()"
   ]
  },
  {
   "cell_type": "markdown",
   "id": "conscious-replica",
   "metadata": {},
   "source": [
    "## ADMM "
   ]
  },
  {
   "cell_type": "markdown",
   "id": "gorgeous-association",
   "metadata": {},
   "source": [
    "We run the algorithm 2 times because on the first iteration time costly numba initialization happens."
   ]
  },
  {
   "cell_type": "code",
   "execution_count": null,
   "id": "cubic-leather",
   "metadata": {},
   "outputs": [],
   "source": [
    "for i in [0,1]:\n",
    "    cov_list.clear()\n",
    "    precision_list.clear()\n",
    "    time_list.clear()\n",
    "    str_tol.clear()\n",
    "    str_lambda.clear()\n",
    "    \n",
    "    for lambda1 in lambda_list:\n",
    "        for tol in tol_list:\n",
    "            start = time.time()\n",
    "            sol, info = ADMM_SGL(S, lambda1, Omega_0, max_iter=n_iter, tol = tol, rtol = tol, stopping_criterion = \"boyd\",\n",
    "                                 verbose = False, latent = False)\n",
    "            end = time.time()\n",
    "\n",
    "            hours, rem = divmod(end-start, 3600)\n",
    "            minutes, seconds = divmod(rem, 60)\n",
    "            time_list.append(\"{:0>2}:{:0>2}:{:05.2f}\".format(int(hours),int(minutes),seconds))\n",
    "\n",
    "            cov_list.append(sol['Omega'])\n",
    "            precision_list.append(sol['Theta'])\n",
    "            str_tol.append(tol)\n",
    "            str_lambda.append(lambda1)\n",
    "\n",
    "    accuracy_list = []\n",
    "    for i in range(0, len(precision_list)):\n",
    "        accuracy = np.linalg.norm(Z - np.array(precision_list[i]))\n",
    "        accuracy_list.append(accuracy)"
   ]
  },
  {
   "cell_type": "code",
   "execution_count": null,
   "id": "instructional-hearts",
   "metadata": {},
   "outputs": [],
   "source": [
    "str_tol = [str(x) for x in str_tol]\n",
    "str_lambda = [str(x) for x in str_lambda]\n",
    "method_list = [\"admm\"]*len(str_tol)\n",
    "\n",
    "df_admm = pd.DataFrame(data={'time': time_list, \n",
    "                           'distance': accuracy_list,\n",
    "                           'method': method_list,\n",
    "                            'str_tol': str_tol,\n",
    "                          'str_lambda': str_lambda})\n",
    "df_admm.head()"
   ]
  },
  {
   "cell_type": "markdown",
   "id": "golden-charles",
   "metadata": {},
   "source": [
    "## kkt_ADMM"
   ]
  },
  {
   "cell_type": "markdown",
   "id": "heavy-angle",
   "metadata": {},
   "source": [
    "We run the algorithm 2 times because on the first iteration time costly numba initialization happens."
   ]
  },
  {
   "cell_type": "code",
   "execution_count": null,
   "id": "attended-memorial",
   "metadata": {},
   "outputs": [],
   "source": [
    "for i in [0,1]:\n",
    "    cov_list.clear()\n",
    "    precision_list.clear()\n",
    "    time_list.clear()\n",
    "    str_tol.clear()\n",
    "    str_lambda.clear()\n",
    "    \n",
    "    for lambda1 in lambda_list:\n",
    "        for tol in tol_list:\n",
    "            start = time.time()\n",
    "            sol, info = ADMM_SGL(S, lambda1, Omega_0, max_iter=n_iter, tol = tol, stopping_criterion = \"kkt\",\n",
    "                                 verbose = False, latent = False)\n",
    "            end = time.time()\n",
    "\n",
    "            hours, rem = divmod(end-start, 3600)\n",
    "            minutes, seconds = divmod(rem, 60)\n",
    "            time_list.append(\"{:0>2}:{:0>2}:{:05.2f}\".format(int(hours),int(minutes),seconds))\n",
    "\n",
    "            cov_list.append(sol['Omega'])\n",
    "            precision_list.append(sol['Theta'])\n",
    "            str_tol.append(tol)\n",
    "            str_lambda.append(lambda1)\n",
    "\n",
    "    accuracy_list = []\n",
    "    for i in range(0, len(precision_list)):\n",
    "        accuracy = np.linalg.norm(Z - np.array(precision_list[i]))\n",
    "        accuracy_list.append(accuracy)"
   ]
  },
  {
   "cell_type": "code",
   "execution_count": null,
   "id": "occupied-carolina",
   "metadata": {},
   "outputs": [],
   "source": [
    "str_tol = [str(x) for x in str_tol]\n",
    "str_lambda = [str(x) for x in str_lambda]\n",
    "method_list = [\"kkt_admm\"]*len(str_tol)\n",
    "\n",
    "df_kkt = pd.DataFrame(data={'time': time_list, \n",
    "                           'distance': accuracy_list,\n",
    "                           'method': method_list,\n",
    "                            'str_tol': str_tol,\n",
    "                          'str_lambda': str_lambda})\n",
    "df_kkt.head()"
   ]
  },
  {
   "cell_type": "markdown",
   "id": "protective-explanation",
   "metadata": {},
   "source": [
    "## Data formating"
   ]
  },
  {
   "cell_type": "code",
   "execution_count": null,
   "id": "painful-signature",
   "metadata": {},
   "outputs": [],
   "source": [
    "frames = [df_sk, df_rg, df_admm, df_kkt]\n",
    "\n",
    "df = pd.concat(frames)\n",
    "\n",
    "df[\"str_tol\"].replace({\"0.0001\": \"1e-04\"}, inplace=True)\n",
    "dist = np.array(df['distance'])\n",
    "df['log_distance'] = np.log(dist)"
   ]
  },
  {
   "cell_type": "code",
   "execution_count": null,
   "id": "eight-visitor",
   "metadata": {},
   "outputs": [],
   "source": [
    "df.sort_values(by=['log_distance'], ascending = False)"
   ]
  },
  {
   "cell_type": "markdown",
   "id": "surprising-instrument",
   "metadata": {},
   "source": [
    "## Tolerance plot"
   ]
  },
  {
   "cell_type": "code",
   "execution_count": null,
   "id": "sapphire-revolution",
   "metadata": {},
   "outputs": [],
   "source": [
    "fig = px.line(df, x=\"str_tol\", y=\"distance\", color= \"method\", log_y = True,\n",
    "              labels={\n",
    "                     \"str_tol\": \"Tolerance rate\",\n",
    "                     \"distance\": \"Log_distance\",\n",
    "                     \"method\": \"method\"\n",
    "                 },\n",
    "              template = \"plotly_white\",\n",
    "              title=\"Log-distance between Z and Z' with respect to ADMM convergence rates\")\n",
    "fig.show()"
   ]
  },
  {
   "cell_type": "code",
   "execution_count": null,
   "id": "incorporated-mortgage",
   "metadata": {},
   "outputs": [],
   "source": [
    "df = df.reset_index(drop=True)\n",
    "\n",
    "for i, row in df.iterrows():\n",
    "    sec_time = df['time'][i][-5:]\n",
    "    df.at[i,'sec_time'] = sec_time\n",
    "df['sec_time'] = pd.to_numeric(df['sec_time'])\n",
    "df.head()"
   ]
  },
  {
   "cell_type": "markdown",
   "id": "consolidated-tiffany",
   "metadata": {},
   "source": [
    "## Time plot"
   ]
  },
  {
   "cell_type": "code",
   "execution_count": null,
   "id": "removable-guard",
   "metadata": {},
   "outputs": [],
   "source": [
    "fig = px.line(df, x=\"sec_time\", y=\"distance\", color= \"method\", log_y = True, text = \"str_tol\",\n",
    "        labels={\"sec_time\": \"Time, s\",\n",
    "                \"distance\": \"Log_distance\",\n",
    "                \"method\": \"method\"\n",
    "                 },\n",
    "        template = \"plotly_white\",\n",
    "              title='ADMM perfomance comparison')\n",
    "fig.update_traces(textposition='top center')\n",
    "fig.show()"
   ]
  },
  {
   "cell_type": "code",
   "execution_count": null,
   "id": "satisfied-independence",
   "metadata": {},
   "outputs": [],
   "source": [
    "# fig_1 = px.scatter(x=a['time'], y=a['accuracy'], color= \"method\")\n",
    "# fig_1.show()\n",
    "\n",
    "fig_1 = px.scatter(df, x=\"sec_time\", \n",
    "                   y='distance', color=\"method\", \n",
    "#                    text = \"sec_time\", \n",
    "                   log_y = True, template = \"plotly_white\",\n",
    "                   text = \"str_tol\",\n",
    "                 size='sec_time',\n",
    "                  title='ADMM perfomance comparison')\n",
    "fig_1.update_traces(textposition='top center')\n",
    "fig_1.show()"
   ]
  }
 ],
 "metadata": {
  "kernelspec": {
   "display_name": "Python 3",
   "language": "python",
   "name": "python3"
  },
  "language_info": {
   "codemirror_mode": {
    "name": "ipython",
    "version": 3
   },
   "file_extension": ".py",
   "mimetype": "text/x-python",
   "name": "python",
   "nbconvert_exporter": "python",
   "pygments_lexer": "ipython3",
   "version": "3.8.0"
  }
 },
 "nbformat": 4,
 "nbformat_minor": 5
}