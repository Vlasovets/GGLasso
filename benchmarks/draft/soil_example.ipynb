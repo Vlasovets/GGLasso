{
 "cells": [
  {
   "cell_type": "code",
   "execution_count": null,
   "id": "overhead-sauce",
   "metadata": {},
   "outputs": [],
   "source": [
    "import os\n",
    "os.chdir(os.path.pardir)\n",
    "\n",
    "import numpy as np\n",
    "import pandas as pd\n",
    "\n",
    "import networkx as nx\n",
    "import matplotlib.pyplot as plt\n",
    "\n",
    "from gglasso.helper.data_generation import group_power_network, sample_covariance_matrix\n",
    "from gglasso.helper.basic_linalg import adjacency_matrix\n",
    "from gglasso.helper.utils import sparsity, zero_replacement, normalize, log_transform\n",
    "\n",
    "from gglasso.problem import glasso_problem\n",
    "\n",
    "from tempfile import TemporaryFile\n",
    "\n",
    "from numpy.linalg import matrix_rank\n",
    "from sklearn.decomposition import PCA\n",
    "from scipy import stats\n",
    "import plotly.express as px"
   ]
  },
  {
   "cell_type": "markdown",
   "id": "alpha-cosmetic",
   "metadata": {},
   "source": [
    "# Import preprocessed soil data"
   ]
  },
  {
   "cell_type": "code",
   "execution_count": null,
   "id": "banner-prime",
   "metadata": {},
   "outputs": [],
   "source": [
    "soil = pd.read_table('data/soil/soil_116.csv', sep=',')\n",
    "soil.head()"
   ]
  },
  {
   "cell_type": "code",
   "execution_count": null,
   "id": "impossible-emperor",
   "metadata": {},
   "outputs": [],
   "source": [
    "ph = pd.read_table('data/soil/ph.csv', sep=',')\n",
    "ph.head()"
   ]
  },
  {
   "cell_type": "code",
   "execution_count": null,
   "id": "ranging-cardiff",
   "metadata": {},
   "outputs": [],
   "source": [
    "X_soil = np.array(soil)\n",
    "X_soil.shape"
   ]
  },
  {
   "cell_type": "markdown",
   "id": "removed-cooperation",
   "metadata": {},
   "source": [
    "Compare the dataset from SPIEC-EASI and with the data from our example"
   ]
  },
  {
   "cell_type": "code",
   "execution_count": null,
   "id": "tender-winter",
   "metadata": {},
   "outputs": [],
   "source": [
    "test_1 = pd.read_table('data/soil/soil_116.csv', sep=',')\n",
    "test_2 = pd.read_table('data/soil/spieceasi_soil_116.csv', sep=',')"
   ]
  },
  {
   "cell_type": "code",
   "execution_count": null,
   "id": "banned-direction",
   "metadata": {},
   "outputs": [],
   "source": [
    "a = test_1.columns\n",
    "b = test_2.columns[1:]\n",
    "a == b"
   ]
  },
  {
   "cell_type": "markdown",
   "id": "enclosed-peace",
   "metadata": {},
   "source": [
    "# Log-transform"
   ]
  },
  {
   "cell_type": "code",
   "execution_count": null,
   "id": "peripheral-nurse",
   "metadata": {},
   "outputs": [],
   "source": [
    "X = normalize(X_soil.T)\n",
    "X.shape"
   ]
  },
  {
   "cell_type": "markdown",
   "id": "connected-hours",
   "metadata": {},
   "source": [
    "Note: X is scaled with geometric mean, and should be a dataframe of form (p,N)"
   ]
  },
  {
   "cell_type": "code",
   "execution_count": null,
   "id": "devoted-passage",
   "metadata": {},
   "outputs": [],
   "source": [
    "X = log_transform(pd.DataFrame(X))\n",
    "X.shape"
   ]
  },
  {
   "cell_type": "markdown",
   "id": "equivalent-pendant",
   "metadata": {},
   "source": [
    "# Calculate covariance and scale to correlations"
   ]
  },
  {
   "cell_type": "code",
   "execution_count": null,
   "id": "compound-steering",
   "metadata": {},
   "outputs": [],
   "source": [
    "S0 = np.cov(X.values, bias = True)"
   ]
  },
  {
   "cell_type": "code",
   "execution_count": null,
   "id": "organizational-communication",
   "metadata": {},
   "outputs": [],
   "source": [
    "# scale covariances to correlations\n",
    "scale = np.tile(np.sqrt(np.diag(S0)),(S0.shape[0],1))\n",
    "scale = scale.T * scale\n",
    "\n",
    "S = S0 / scale\n",
    "S.shape"
   ]
  },
  {
   "cell_type": "markdown",
   "id": "worse-ability",
   "metadata": {},
   "source": [
    "# GGLasso problem"
   ]
  },
  {
   "cell_type": "markdown",
   "id": "angry-panic",
   "metadata": {},
   "source": [
    "Hyperparameters are taken from the experiments with [SpiecEasi](https://github.com/zdk123/SpiecEasi)"
   ]
  },
  {
   "cell_type": "markdown",
   "id": "mysterious-therapist",
   "metadata": {},
   "source": [
    "Gamma value for eBIC. Should be between 0 and 1. The larger gamma, the more eBIC tends to pick sparse solutions. The default is 0.1."
   ]
  },
  {
   "cell_type": "code",
   "execution_count": null,
   "id": "muslim-opportunity",
   "metadata": {},
   "outputs": [],
   "source": [
    "# lambda1_range = [1.14221314, 1.03975454, 0.94648667, 0.86158509, 0.78429934, 0.71394626, 0.64990398,\n",
    "#                  0.59160641, 0.53853823, 0.49023037, 0.44625582, 0.40622586, 0.36978666, 0.33661612, \n",
    "#                  0.30642104, 0.27893451, 0.25391358, 0.23113707, 0.21040365, 0.19153006, 0.17434947,\n",
    "#                  0.15871000, 0.14447343, 0.13151390, 0.11971686, 0.10897804, 0.09920251, 0.09030386,\n",
    "#                  0.08220344, 0.07482964, 0.06811729, 0.06200704, 0.05644490, 0.05138169, 0.04677266,\n",
    "#                  0.04257707, 0.03875783, 0.03528118, 0.03211639, 0.02923549, 0.02661302, 0.02422578,\n",
    "#                  0.02205268, 0.02007452, 0.01827380, 0.01663460, 0.01514245, 0.01378414, 0.01254768, 0.01142213]\n",
    "\n",
    "# mu1_range = np.linspace(0.01, 1.14, num=10)\n",
    "\n",
    "# modelselect_params = {'lambda1_range': lambda1_range, 'mu1_range': mu1_range}\n",
    "\n",
    "# P.model_selection(modelselect_params = modelselect_params, method = 'eBIC', gamma = 1)\n",
    "\n",
    "# # regularization parameters are set to the best ones found during model selection\n",
    "# print(P.reg_params)"
   ]
  },
  {
   "cell_type": "markdown",
   "id": "quantitative-birth",
   "metadata": {},
   "source": [
    "Optimal lambda=0.86158509, mu = 1.14"
   ]
  },
  {
   "cell_type": "markdown",
   "id": "stainless-vessel",
   "metadata": {},
   "source": [
    "STARS selects optimal lambda = 0.14447343 (index 23)"
   ]
  },
  {
   "cell_type": "code",
   "execution_count": null,
   "id": "blank-feedback",
   "metadata": {},
   "outputs": [],
   "source": [
    "P_1 = glasso_problem(S, X.shape[1], latent = True, do_scaling = False)\n",
    "print(P_1)\n",
    "\n",
    "lambda1_range = [0.14447343]\n",
    "mu1_range = [2.36]\n",
    "\n",
    "\n",
    "modelselect_params = {'lambda1_range': lambda1_range, 'mu1_range': mu1_range}\n",
    "\n",
    "P_1.model_selection(modelselect_params = modelselect_params, method = 'eBIC', gamma = 0.25)\n",
    "\n",
    "# regularization parameters are set to the best ones found during model selection\n",
    "print(P_1.reg_params)"
   ]
  },
  {
   "cell_type": "code",
   "execution_count": null,
   "id": "furnished-feeling",
   "metadata": {},
   "outputs": [],
   "source": [
    "P_1.modelselect_stats"
   ]
  },
  {
   "cell_type": "markdown",
   "id": "controlled-million",
   "metadata": {},
   "source": [
    "Optimal lambda=0.2154434690031884, mu = 6.579332246575681"
   ]
  },
  {
   "cell_type": "code",
   "execution_count": null,
   "id": "contemporary-company",
   "metadata": {},
   "outputs": [],
   "source": [
    "print('Rank of low-rank component: {0}'.format(matrix_rank(P_1.solution.lowrank_)))"
   ]
  },
  {
   "cell_type": "markdown",
   "id": "complete-firewall",
   "metadata": {},
   "source": [
    "### SVD"
   ]
  },
  {
   "cell_type": "markdown",
   "id": "revolutionary-selling",
   "metadata": {},
   "source": [
    "$C := cov(S)$"
   ]
  },
  {
   "cell_type": "code",
   "execution_count": null,
   "id": "black-movie",
   "metadata": {},
   "outputs": [],
   "source": [
    "v, s, vh  = np.linalg.svd(P_1.solution.lowrank_, full_matrices=True)\n",
    "v.shape, s.shape, vh.shape"
   ]
  },
  {
   "cell_type": "markdown",
   "id": "artistic-leone",
   "metadata": {},
   "source": [
    "s - vector of singular values in descending order"
   ]
  },
  {
   "cell_type": "code",
   "execution_count": null,
   "id": "competitive-bosnia",
   "metadata": {},
   "outputs": [],
   "source": [
    "s_diag = np.diag(s)\n",
    "# pd.DataFrame(data=s_diag)"
   ]
  },
  {
   "cell_type": "markdown",
   "id": "worth-surname",
   "metadata": {},
   "source": [
    "Since $C = V \\times \\Sigma \\times V^{T}$ then $L = V \\times \\Sigma^{-1} \\times V^{T}$"
   ]
  },
  {
   "cell_type": "code",
   "execution_count": null,
   "id": "stupid-denver",
   "metadata": {},
   "outputs": [],
   "source": [
    "s_inv = np.linalg.inv(s_diag)"
   ]
  },
  {
   "cell_type": "code",
   "execution_count": null,
   "id": "minus-prize",
   "metadata": {},
   "outputs": [],
   "source": [
    "s_inv.shape, vh.shape"
   ]
  },
  {
   "cell_type": "markdown",
   "id": "willing-sellers",
   "metadata": {},
   "source": [
    "$C := L^{-1}$ => $U^{-1} =\\sqrt{\\Sigma^{-1})} \\times V^{T}$ => $U =\\sqrt{\\Sigma^{-1})^{-1}} \\times V^{T}$"
   ]
  },
  {
   "cell_type": "code",
   "execution_count": null,
   "id": "toxic-inclusion",
   "metadata": {},
   "outputs": [],
   "source": [
    "u = np.sqrt(s_inv[:, :6]) @ vh[:6,:6]\n",
    "u.shape"
   ]
  },
  {
   "cell_type": "code",
   "execution_count": null,
   "id": "current-record",
   "metadata": {},
   "outputs": [],
   "source": [
    "X.T.shape"
   ]
  },
  {
   "cell_type": "markdown",
   "id": "contemporary-hypothetical",
   "metadata": {},
   "source": [
    "$ZU$ is $n \\times r$ matrix (89x6)"
   ]
  },
  {
   "cell_type": "code",
   "execution_count": null,
   "id": "advised-cleaner",
   "metadata": {},
   "outputs": [],
   "source": [
    "zu = X.T @ u\n",
    "zu.shape"
   ]
  },
  {
   "cell_type": "code",
   "execution_count": null,
   "id": "pleasant-sheriff",
   "metadata": {},
   "outputs": [],
   "source": [
    "for i in range(0, 6):\n",
    "    plt.scatter(zu[i], ph_1)\n",
    "    plt.xlabel(\"Learned low-rank PCA component\")\n",
    "    plt.ylabel(\"pH\")\n",
    "    plt.legend(loc='upper left')\n",
    "    plt.show()"
   ]
  },
  {
   "cell_type": "markdown",
   "id": "outside-being",
   "metadata": {},
   "source": [
    "## Low-dimensional representation of OTUs table"
   ]
  },
  {
   "cell_type": "code",
   "execution_count": null,
   "id": "material-buying",
   "metadata": {},
   "outputs": [],
   "source": [
    "pca = PCA(n_components=2)\n",
    "res = pca.fit_transform(P_1.solution.lowrank_)"
   ]
  },
  {
   "cell_type": "code",
   "execution_count": null,
   "id": "indonesian-roommate",
   "metadata": {},
   "outputs": [],
   "source": [
    "print(\"{0}% of variance explained by PC1\".format(round(pca.explained_variance_ratio_[0]*100, 2)))\n",
    "print(\"{0}% of variance explained by PC1\".format(round(pca.explained_variance_ratio_[1]*100, 2)))\n",
    "print(\"Total variance explained by PC1 and PC2: {0}%\".format(round(pca.explained_variance_ratio_.sum() * 100, 2)))"
   ]
  },
  {
   "cell_type": "code",
   "execution_count": null,
   "id": "improved-subcommittee",
   "metadata": {},
   "outputs": [],
   "source": [
    "pc1 = np.inner(X.T, pca.components_[0])\n",
    "pc2 = np.inner(X.T, pca.components_[1])\n",
    "pc1.shape, pc2.shape"
   ]
  },
  {
   "cell_type": "code",
   "execution_count": null,
   "id": "modern-campaign",
   "metadata": {},
   "outputs": [],
   "source": [
    "plt.scatter(pc1, pc2, label=\"OTUs\")\n",
    "plt.xlabel(\"PC1\")\n",
    "plt.ylabel(\"PC2\")\n",
    "plt.legend(loc='upper left')\n",
    "plt.show()"
   ]
  },
  {
   "cell_type": "markdown",
   "id": "comprehensive-species",
   "metadata": {},
   "source": [
    "## pH correlation"
   ]
  },
  {
   "cell_type": "code",
   "execution_count": null,
   "id": "physical-representation",
   "metadata": {},
   "outputs": [],
   "source": [
    "ph_1 = np.array(ph).reshape(89,)\n",
    "ph_1.shape"
   ]
  },
  {
   "cell_type": "code",
   "execution_count": null,
   "id": "bored-frost",
   "metadata": {},
   "outputs": [],
   "source": [
    "print(\"Spearman correlation between pH and PC1: {0}, p-value: {1}\".format(stats.spearmanr(ph_1, pc1)[0], \n",
    "                                                                          stats.spearmanr(ph_1, pc1)[1]))\n",
    "\n",
    "print(\"Spearman correlation between pH and PC2: {0}, p-value: {1}\".format(stats.spearmanr(ph_1, pc2)[0], \n",
    "                                                                          stats.spearmanr(ph_1, pc2)[1]))\n"
   ]
  },
  {
   "cell_type": "code",
   "execution_count": null,
   "id": "miniature-paragraph",
   "metadata": {},
   "outputs": [],
   "source": [
    "np.corrcoef(ph_1, pc1)"
   ]
  },
  {
   "cell_type": "code",
   "execution_count": null,
   "id": "broad-symposium",
   "metadata": {},
   "outputs": [],
   "source": [
    "plt.scatter(ph_1, pc1, label=\"PC1_pH\")\n",
    "plt.xlabel(\"pH\")\n",
    "plt.ylabel(\"PC1\")\n",
    "plt.legend(loc='upper left')\n",
    "plt.show()"
   ]
  },
  {
   "cell_type": "code",
   "execution_count": null,
   "id": "phantom-trinidad",
   "metadata": {},
   "outputs": [],
   "source": [
    "plt.scatter(ph_1, pc2, label=\"PC2_pH\")\n",
    "plt.xlabel(\"pH\")\n",
    "plt.ylabel(\"PC1\")\n",
    "plt.legend(loc='upper left')\n",
    "plt.show()"
   ]
  },
  {
   "cell_type": "code",
   "execution_count": null,
   "id": "internal-president",
   "metadata": {},
   "outputs": [],
   "source": [
    "sol = P_1.solution.precision_\n",
    "P_1.solution.calc_adjacency()\n",
    "\n",
    "\n",
    "plt.figure()\n",
    "G1 = nx.from_numpy_array(P_1.solution.adjacency_)\n",
    "nx.draw_spring(G1, node_color = \"darkblue\", edge_color = \"darkblue\", font_color = 'white', with_labels = True)"
   ]
  },
  {
   "cell_type": "code",
   "execution_count": null,
   "id": "atomic-thesaurus",
   "metadata": {},
   "outputs": [],
   "source": [
    "np.save(\"optimal_sol\", sol)"
   ]
  }
 ],
 "metadata": {
  "kernelspec": {
   "display_name": "Python 3",
   "language": "python",
   "name": "python3"
  },
  "language_info": {
   "codemirror_mode": {
    "name": "ipython",
    "version": 3
   },
   "file_extension": ".py",
   "mimetype": "text/x-python",
   "name": "python",
   "nbconvert_exporter": "python",
   "pygments_lexer": "ipython3",
   "version": "3.8.0"
  }
 },
 "nbformat": 4,
 "nbformat_minor": 5
}
