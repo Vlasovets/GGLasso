{
 "cells": [
  {
   "cell_type": "code",
   "execution_count": 5,
   "metadata": {},
   "outputs": [],
   "source": [
    "import numpy as np"
   ]
  },
  {
   "cell_type": "markdown",
   "metadata": {},
   "source": [
    "# Proximal operators"
   ]
  },
  {
   "cell_type": "markdown",
   "metadata": {},
   "source": [
    "<img src=\"prox_2.png\" width=\"60%\">"
   ]
  },
  {
   "cell_type": "code",
   "execution_count": 6,
   "metadata": {},
   "outputs": [],
   "source": [
    "def prox_od_1norm(A, l):\n",
    "    \"\"\"\n",
    "    calculates the prox of the off-diagonal 1norm at a point A\n",
    "    \"\"\"\n",
    "    \n",
    "    (d1,d2) = A.shape\n",
    "    res = np.sign(A) * np.maximum(np.abs(A) - l, 0)\n",
    "    \n",
    "    for i in np.arange(np.minimum(d1,d2)):\n",
    "        res[i,i] = A[i,i]\n",
    "\n",
    "    return res"
   ]
  },
  {
   "cell_type": "markdown",
   "metadata": {},
   "source": [
    "# The log-determent function $\\log\\det|\\Theta|$"
   ]
  },
  {
   "cell_type": "markdown",
   "metadata": {},
   "source": [
    "Let $A$ be a square $n × n$ matrix with $n$ linearly independent eigenvectors $q_i$ (where $i = 1, ..., n$). \n",
    "Then $A$ can be factorized as\n",
    "\n",
    "$\\displaystyle \\mathbf {A} =\\mathbf {Q} \\mathbf {D} \\mathbf {Q}^{-1}$ \n",
    "\n",
    "where $Q$ is the square $n × n$ matrix whose $i$th column is the eigenvector $q_i$ of $A$, and $D$ is the diagonal matrix whose diagonal elements are the corresponding eigenvalues, $D_{ii} = λ_i$. "
   ]
  },
  {
   "cell_type": "markdown",
   "metadata": {},
   "source": [
    "We define the following functions in order to describe the proximal operator and  its derivative of log-determinant function \n",
    "\n",
    "$\\log(\\det|\\Theta|) \\leq \\beta\\log(\\Theta)$,\n",
    "\n",
    "$\\beta > 0$:\n"
   ]
  },
  {
   "cell_type": "markdown",
   "metadata": {},
   "source": [
    "<img src=\"log_det.png\" width=\"60%\">"
   ]
  },
  {
   "cell_type": "code",
   "execution_count": 7,
   "metadata": {},
   "outputs": [],
   "source": [
    "def phip(d, beta):\n",
    "    return 0.5 * (np.sqrt(d**2 + 4*beta) + d)\n",
    "    B = Q @ np.diag(phip(D,beta)) @ Q.T\n",
    "    return B"
   ]
  },
  {
   "cell_type": "code",
   "execution_count": 8,
   "metadata": {},
   "outputs": [],
   "source": [
    "def phiplus(A, beta, D = np.array([]), Q = np.array([])):\n",
    "    # D and Q are optional if already precomputed\n",
    "    if len(D) != A.shape[0]:\n",
    "        D, Q = np.linalg.eigh(A)\n",
    "        print(\"Single eigendecomposition is executed in phiplus\")\n",
    "    \n",
    "    B = Q @ np.diag(phip(D,beta)) @ Q.T #Q is orthogonal matrix, so inversed(Q) = transposed(Q)\n",
    "    return B"
   ]
  },
  {
   "cell_type": "markdown",
   "metadata": {},
   "source": [
    "# Covariance matrix"
   ]
  },
  {
   "cell_type": "code",
   "execution_count": 36,
   "metadata": {},
   "outputs": [],
   "source": [
    "mean = [0, 0]\n",
    "cov = [[1, 0], [0, 100]]  # diagonal covariance"
   ]
  },
  {
   "cell_type": "code",
   "execution_count": 37,
   "metadata": {},
   "outputs": [
    {
     "data": {
      "text/plain": [
       "array([[[-0.31243859,  9.66666487],\n",
       "        [-0.91614224, -0.10878634]],\n",
       "\n",
       "       [[-0.80603943, -9.5440804 ],\n",
       "        [-1.05168752,  1.26878569]]])"
      ]
     },
     "execution_count": 37,
     "metadata": {},
     "output_type": "execute_result"
    }
   ],
   "source": [
    "#sample random covariance matrix\n",
    "S = np.random.multivariate_normal(mean, cov, (2, 2))\n",
    "S"
   ]
  },
  {
   "cell_type": "markdown",
   "metadata": {},
   "source": [
    "# ADMM"
   ]
  },
  {
   "cell_type": "code",
   "execution_count": 38,
   "metadata": {},
   "outputs": [
    {
     "name": "stdout",
     "output_type": "stream",
     "text": [
      "Omega Update \n",
      " [[1.91722461 0.682389  ]\n",
      " [0.682389   1.76553413]]\n",
      "Theta Update \n",
      " [[1.91722461 0.672389  ]\n",
      " [0.672389   1.76553413]]\n",
      "X Update \n",
      " [[0.   0.01]\n",
      " [0.01 0.  ]] \n",
      "\n",
      "Omega Update \n",
      " [[2.72524584 1.31114268]\n",
      " [1.31114268 2.43009488]]\n",
      "Theta Update \n",
      " [[2.72524584 1.31114268]\n",
      " [1.31114268 2.43009488]]\n",
      "X Update \n",
      " [[0.   0.01]\n",
      " [0.01 0.  ]] \n",
      "\n",
      "Omega Update \n",
      " [[3.48167728 1.93523079]\n",
      " [1.93523079 3.04632532]]\n",
      "Theta Update \n",
      " [[3.48167728 1.93523079]\n",
      " [1.93523079 3.04632532]]\n",
      "X Update \n",
      " [[0.   0.01]\n",
      " [0.01 0.  ]] \n",
      "\n",
      "Omega Update \n",
      " [[4.2078227  2.55097197]\n",
      " [2.55097197 3.63412758]]\n",
      "Theta Update \n",
      " [[4.2078227  2.55097197]\n",
      " [2.55097197 3.63412758]]\n",
      "X Update \n",
      " [[0.   0.01]\n",
      " [0.01 0.  ]] \n",
      "\n",
      "Omega Update \n",
      " [[4.91432881 3.16080438]\n",
      " [3.16080438 4.20360801]]\n",
      "Theta Update \n",
      " [[4.91432881 3.16080438]\n",
      " [3.16080438 4.20360801]]\n",
      "X Update \n",
      " [[0.   0.01]\n",
      " [0.01 0.  ]] \n",
      "\n",
      "Omega Update \n",
      " [[5.60726534 3.76594576]\n",
      " [3.76594576 4.76056643]]\n",
      "Theta Update \n",
      " [[5.60726534 3.76594576]\n",
      " [3.76594576 4.76056643]]\n",
      "X Update \n",
      " [[0.   0.01]\n",
      " [0.01 0.  ]] \n",
      "\n",
      "Omega Update \n",
      " [[6.29038611 4.36714406]\n",
      " [4.36714406 5.30859064]]\n",
      "Theta Update \n",
      " [[6.29038611 4.36714406]\n",
      " [4.36714406 5.30859064]]\n",
      "X Update \n",
      " [[0.   0.01]\n",
      " [0.01 0.  ]] \n",
      "\n",
      "Omega Update \n",
      " [[6.96614593 4.96493402]\n",
      " [4.96493402 5.85001656]]\n",
      "Theta Update \n",
      " [[6.96614593 4.96493402]\n",
      " [4.96493402 5.85001656]]\n",
      "X Update \n",
      " [[0.   0.01]\n",
      " [0.01 0.  ]] \n",
      "\n",
      "Omega Update \n",
      " [[7.63621801 5.55973645]\n",
      " [5.55973645 6.38642366]]\n",
      "Theta Update \n",
      " [[7.63621801 5.55973645]\n",
      " [5.55973645 6.38642366]]\n",
      "X Update \n",
      " [[0.   0.01]\n",
      " [0.01 0.  ]] \n",
      "\n",
      "Omega Update \n",
      " [[8.30178099 6.15190071]\n",
      " [6.15190071 6.9189126 ]]\n",
      "Theta Update \n",
      " [[8.30178099 6.15190071]\n",
      " [6.15190071 6.9189126 ]]\n",
      "X Update \n",
      " [[0.   0.01]\n",
      " [0.01 0.  ]] \n",
      "\n"
     ]
    }
   ],
   "source": [
    "max_iter = 10\n",
    "p = 2\n",
    "rho = 1\n",
    "lambda1 = 0.01\n",
    "\n",
    "Omega_t = np.eye(p)\n",
    "Theta_t = np.eye(p)\n",
    "X_t = np.zeros((p, p))\n",
    "S = S[0,:,:]\n",
    "\n",
    "for iter_t in np.arange(max_iter):\n",
    "        # Omega Update\n",
    "        W_t = Theta_t - X_t - (1 / rho) * S\n",
    "        eigD, eigQ = np.linalg.eigh(W_t)\n",
    "        Omega_t = phiplus(W_t, beta=1 / rho, D=eigD, Q=eigQ)\n",
    "\n",
    "        # Theta Update\n",
    "        Theta_t = prox_od_1norm(Omega_t + X_t, (1 / rho) * lambda1)\n",
    "\n",
    "        # X Update\n",
    "        X_t = X_t + Omega_t - Theta_t\n",
    "        print(\"Omega Update \\n\", Omega_t)\n",
    "        print(\"Theta Update \\n\", Theta_t)\n",
    "        print(\"X Update \\n\", X_t, \"\\n\")"
   ]
  },
  {
   "cell_type": "code",
   "execution_count": 39,
   "metadata": {},
   "outputs": [
    {
     "data": {
      "text/plain": [
       "array([[0., 0.],\n",
       "       [0., 0.]])"
      ]
     },
     "execution_count": 39,
     "metadata": {},
     "output_type": "execute_result"
    }
   ],
   "source": [
    "Omega_t - Theta_t # the constraint is satisfied"
   ]
  }
 ],
 "metadata": {
  "kernelspec": {
   "display_name": "Python 3",
   "language": "python",
   "name": "python3"
  },
  "language_info": {
   "codemirror_mode": {
    "name": "ipython",
    "version": 3
   },
   "file_extension": ".py",
   "mimetype": "text/x-python",
   "name": "python",
   "nbconvert_exporter": "python",
   "pygments_lexer": "ipython3",
   "version": "3.8.5"
  }
 },
 "nbformat": 4,
 "nbformat_minor": 4
}
