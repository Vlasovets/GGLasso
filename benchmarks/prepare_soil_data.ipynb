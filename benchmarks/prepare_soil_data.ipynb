{
 "cells": [
  {
   "cell_type": "code",
   "execution_count": null,
   "metadata": {
    "ExecuteTime": {
     "end_time": "2020-12-14T18:59:53.916880Z",
     "start_time": "2020-12-14T18:59:52.523503Z"
    }
   },
   "outputs": [],
   "source": [
    "import qiime2\n",
    "import pandas as pd\n",
    "import numpy as np"
   ]
  },
  {
   "cell_type": "markdown",
   "metadata": {},
   "source": [
    "Read metadata about the samples"
   ]
  },
  {
   "cell_type": "code",
   "execution_count": null,
   "metadata": {
    "ExecuteTime": {
     "end_time": "2020-12-14T18:59:53.948936Z",
     "start_time": "2020-12-14T18:59:53.920509Z"
    }
   },
   "outputs": [],
   "source": [
    "metadata = pd.read_table('../data/soil/88soils_modified_metadata.txt', index_col=0)"
   ]
  },
  {
   "cell_type": "code",
   "execution_count": null,
   "metadata": {},
   "outputs": [],
   "source": [
    "metadata[\"ph\"]"
   ]
  },
  {
   "cell_type": "markdown",
   "metadata": {},
   "source": [
    "We need only pH"
   ]
  },
  {
   "cell_type": "code",
   "execution_count": null,
   "metadata": {
    "ExecuteTime": {
     "end_time": "2020-12-14T18:59:54.054891Z",
     "start_time": "2020-12-14T18:59:54.045947Z"
    }
   },
   "outputs": [],
   "source": [
    "y = metadata[\"ph\"].values\n",
    "y.shape"
   ]
  },
  {
   "cell_type": "code",
   "execution_count": null,
   "metadata": {},
   "outputs": [],
   "source": [
    "ph = metadata[\"ph\"].to_csv('ph.csv', index=True)"
   ]
  },
  {
   "cell_type": "markdown",
   "metadata": {},
   "source": [
    "Import count data"
   ]
  },
  {
   "cell_type": "code",
   "execution_count": null,
   "metadata": {
    "ExecuteTime": {
     "end_time": "2020-12-14T19:00:24.620542Z",
     "start_time": "2020-12-14T18:59:54.064530Z"
    }
   },
   "outputs": [],
   "source": [
    "%%bash\n",
    "qiime tools import \\\n",
    "    --input-path 238_otu_table.biom \\\n",
    "    --output-path 88soils.biom.qza \\\n",
    "    --type FeatureTable[Frequency]\n",
    "\n",
    "qiime tools import \\\n",
    "    --input-path 88soils_taxonomy.txt \\\n",
    "    --output-path 88soils_taxonomy.qza \\\n",
    "    --type FeatureData[Taxonomy]"
   ]
  },
  {
   "cell_type": "code",
   "execution_count": null,
   "metadata": {
    "ExecuteTime": {
     "end_time": "2020-12-14T19:00:31.124280Z",
     "start_time": "2020-12-14T19:00:24.625851Z"
    }
   },
   "outputs": [],
   "source": [
    "# Load the table\n",
    "table_art = qiime2.Artifact.load('88soils.biom.qza')\n",
    "all_samples = table_art.view(pd.DataFrame)"
   ]
  },
  {
   "cell_type": "code",
   "execution_count": null,
   "metadata": {
    "ExecuteTime": {
     "end_time": "2020-12-14T19:00:31.187473Z",
     "start_time": "2020-12-14T19:00:31.127657Z"
    },
    "scrolled": true
   },
   "outputs": [],
   "source": [
    "all_samples.head()"
   ]
  },
  {
   "cell_type": "markdown",
   "metadata": {},
   "source": [
    "Select only those OTUs occuring at least 100 times"
   ]
  },
  {
   "cell_type": "code",
   "execution_count": null,
   "metadata": {
    "ExecuteTime": {
     "end_time": "2020-12-14T19:00:40.418369Z",
     "start_time": "2020-12-14T19:00:31.189770Z"
    }
   },
   "outputs": [],
   "source": [
    "%%bash\n",
    "qiime feature-table filter-features \\\n",
    "    --i-table 88soils.biom.qza \\\n",
    "    --o-filtered-table 88soils_filt100.biom.qza \\\n",
    "    --p-min-frequency 100"
   ]
  },
  {
   "cell_type": "code",
   "execution_count": null,
   "metadata": {},
   "outputs": [],
   "source": [
    "popular = qiime2.Artifact.load('88soils_filt100.biom.qza')\n",
    "df_119 = popular.view(pd.DataFrame)\n",
    "df_119"
   ]
  },
  {
   "cell_type": "markdown",
   "metadata": {},
   "source": [
    "[Replace](https://docs.qiime2.org/2018.6/plugins/available/composition/add-pseudocount/) zeros with 1 in all samples"
   ]
  },
  {
   "cell_type": "code",
   "execution_count": null,
   "metadata": {
    "ExecuteTime": {
     "end_time": "2020-12-14T19:01:18.637989Z",
     "start_time": "2020-12-14T19:00:40.422304Z"
    }
   },
   "outputs": [],
   "source": [
    "%%bash\n",
    "\n",
    "qiime composition add-pseudocount \\\n",
    "    --i-table 88soils_filt100.biom.qza \\\n",
    "    --p-pseudocount 1 \\\n",
    "    --o-composition-table 88soils_composition.biom.qza"
   ]
  },
  {
   "cell_type": "markdown",
   "metadata": {},
   "source": [
    "Load the filtered and zero-replaced data"
   ]
  },
  {
   "cell_type": "code",
   "execution_count": null,
   "metadata": {},
   "outputs": [],
   "source": [
    "table_1 = qiime2.Artifact.load('88soils_composition.biom.qza')\n",
    "df = table_1.view(pd.DataFrame)"
   ]
  },
  {
   "cell_type": "markdown",
   "metadata": {},
   "source": [
    "Compare with the data from Morton et al. paper"
   ]
  },
  {
   "cell_type": "code",
   "execution_count": null,
   "metadata": {},
   "outputs": [],
   "source": [
    "xls = pd.read_excel('ph_exel.xlsx', engine='openpyxl')\n",
    "xls.head()"
   ]
  },
  {
   "cell_type": "code",
   "execution_count": null,
   "metadata": {},
   "outputs": [],
   "source": [
    "xls_otus = np.array(xls['#OTU_ID'])\n",
    "xls_otus.shape"
   ]
  },
  {
   "cell_type": "code",
   "execution_count": null,
   "metadata": {},
   "outputs": [],
   "source": [
    "org_otus = list(map(int, np.array(df.columns)))\n",
    "len(org_otus)"
   ]
  },
  {
   "cell_type": "markdown",
   "metadata": {},
   "source": [
    "Show OTUs which are has been filtered out by Morton et al"
   ]
  },
  {
   "cell_type": "code",
   "execution_count": null,
   "metadata": {},
   "outputs": [],
   "source": [
    "diff = np.setdiff1d(org_otus, xls_otus)\n",
    "diff = [\"\".join(item) for item in diff.astype(str)]\n",
    "diff"
   ]
  },
  {
   "cell_type": "markdown",
   "metadata": {},
   "source": [
    "Select the same OTUs in our dataframe"
   ]
  },
  {
   "cell_type": "code",
   "execution_count": null,
   "metadata": {},
   "outputs": [],
   "source": [
    "final = df.loc[:, ~df.columns.isin(diff)]\n",
    "final.shape"
   ]
  },
  {
   "cell_type": "code",
   "execution_count": null,
   "metadata": {},
   "outputs": [],
   "source": [
    "final.to_csv('soil_116.csv', index=True)"
   ]
  }
 ],
 "metadata": {
  "kernelspec": {
   "display_name": "Python 3",
   "language": "python",
   "name": "python3"
  },
  "language_info": {
   "codemirror_mode": {
    "name": "ipython",
    "version": 3
   },
   "file_extension": ".py",
   "mimetype": "text/x-python",
   "name": "python",
   "nbconvert_exporter": "python",
   "pygments_lexer": "ipython3",
   "version": "3.8.8"
  },
  "toc": {
   "base_numbering": 1,
   "nav_menu": {},
   "number_sections": true,
   "sideBar": true,
   "skip_h1_title": false,
   "title_cell": "Table of Contents",
   "title_sidebar": "Contents",
   "toc_cell": false,
   "toc_position": {},
   "toc_section_display": true,
   "toc_window_display": false
  }
 },
 "nbformat": 4,
 "nbformat_minor": 4
}
