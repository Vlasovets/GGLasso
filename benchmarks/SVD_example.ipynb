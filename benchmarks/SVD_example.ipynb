{
 "cells": [
  {
   "cell_type": "code",
   "execution_count": null,
   "id": "hidden-glenn",
   "metadata": {},
   "outputs": [],
   "source": [
    "import os\n",
    "os.chdir(os.path.pardir)\n",
    "\n",
    "import numpy as np\n",
    "import pandas as pd\n",
    "import pyreadr\n",
    "\n",
    "import matplotlib.pyplot as plt\n",
    "from scipy import stats\n",
    "\n",
    "from gglasso.helper.utils import sparsity, zero_replacement, normalize, log_transform"
   ]
  },
  {
   "cell_type": "markdown",
   "id": "valuable-multiple",
   "metadata": {},
   "source": [
    "### Import preprocessed soil data"
   ]
  },
  {
   "cell_type": "code",
   "execution_count": null,
   "id": "elementary-thomson",
   "metadata": {},
   "outputs": [],
   "source": [
    "soil = pd.read_table('~/Public/GGLasso/data/soil/soil_116.csv', sep=',')\n",
    "ph = pd.read_table('~/Public/GGLasso/data/soil/ph.csv', sep=',')"
   ]
  },
  {
   "cell_type": "markdown",
   "id": "matched-newport",
   "metadata": {},
   "source": [
    "### CLR-transformation of X"
   ]
  },
  {
   "cell_type": "code",
   "execution_count": null,
   "id": "republican-tooth",
   "metadata": {},
   "outputs": [],
   "source": [
    "X_soil = np.array(soil)\n",
    "X_soil.shape"
   ]
  },
  {
   "cell_type": "code",
   "execution_count": null,
   "id": "positive-connecticut",
   "metadata": {},
   "outputs": [],
   "source": [
    "X = normalize(X_soil.T)"
   ]
  },
  {
   "cell_type": "code",
   "execution_count": null,
   "id": "proof-complex",
   "metadata": {},
   "outputs": [],
   "source": [
    "X = log_transform(pd.DataFrame(X))\n",
    "X.shape"
   ]
  },
  {
   "cell_type": "markdown",
   "id": "abandoned-seventh",
   "metadata": {},
   "source": [
    "### GGLasso low-rank with lambda = 0.14447343, mu =  2.36, rank=6"
   ]
  },
  {
   "cell_type": "code",
   "execution_count": null,
   "id": "colonial-worship",
   "metadata": {},
   "outputs": [],
   "source": [
    "gg_lowrank = pd.read_csv(\"~/Downloads/gglasso_lr.csv\", sep=',', header=None)\n",
    "gg_lowrank.shape"
   ]
  },
  {
   "cell_type": "code",
   "execution_count": null,
   "id": "sublime-brain",
   "metadata": {},
   "outputs": [],
   "source": [
    "gg_rank = np.linalg.matrix_rank(gg_lowrank)\n",
    "gg_rank"
   ]
  },
  {
   "cell_type": "markdown",
   "id": "southern-spank",
   "metadata": {},
   "source": [
    "### SE low-rank with lambda = 0.14447343, rank=6"
   ]
  },
  {
   "cell_type": "code",
   "execution_count": null,
   "id": "acceptable-february",
   "metadata": {},
   "outputs": [],
   "source": [
    "SE_lowrank = pyreadr.read_r('~/Downloads/r6.rds')\n",
    "SE_lowrank = SE_lowrank[None]\n",
    "SE_lowrank = np.array(SE_lowrank)\n",
    "SE_lowrank.shape"
   ]
  },
  {
   "cell_type": "code",
   "execution_count": null,
   "id": "pursuant-driver",
   "metadata": {},
   "outputs": [],
   "source": [
    "se_rank = np.linalg.matrix_rank(SE_lowrank)\n",
    "se_rank"
   ]
  },
  {
   "cell_type": "markdown",
   "id": "floating-scout",
   "metadata": {},
   "source": [
    "### Compare two solutions"
   ]
  },
  {
   "cell_type": "code",
   "execution_count": null,
   "id": "certain-introduction",
   "metadata": {},
   "outputs": [],
   "source": [
    "np.allclose(SE_lowrank, gg_lowrank, atol=1e-01)"
   ]
  },
  {
   "cell_type": "code",
   "execution_count": null,
   "id": "right-backup",
   "metadata": {},
   "outputs": [],
   "source": [
    "pd.DataFrame(data=(SE_lowrank-gg_lowrank))"
   ]
  },
  {
   "cell_type": "markdown",
   "id": "searching-discount",
   "metadata": {},
   "source": [
    "### Robust PCA in [SE](https://github.com/zdk123/SpiecEasi/blob/ff528b23fafbd455efcca9dd356bef28951edf82/R/SparseLowRankICov.R)"
   ]
  },
  {
   "cell_type": "code",
   "execution_count": null,
   "id": "neither-malpractice",
   "metadata": {},
   "outputs": [],
   "source": [
    "# robustPCA <- function(X, L, inverse=TRUE) {\n",
    "#   Lsvd <- svd(L)\n",
    "#   ind <- Lsvd$d>1e-9\n",
    "#   if (inverse) {\n",
    "#     loadings <- diag(sqrt(1/Lsvd$d[ind])) %*% t(Lsvd$v[,ind])\n",
    "#   } else {\n",
    "#     loadings <- diag(sqrt(Lsvd$d[ind])) %*% t(Lsvd$v[,ind])\n",
    "#   }\n",
    "\n",
    "#   scores <- X %*% t(loadings)\n",
    "#   return(list(scores=scores, loadings=loadings))\n",
    "# }"
   ]
  },
  {
   "cell_type": "markdown",
   "id": "cheap-rates",
   "metadata": {},
   "source": [
    "### Robust PCA in GGLasso"
   ]
  },
  {
   "cell_type": "code",
   "execution_count": null,
   "id": "alert-frederick",
   "metadata": {},
   "outputs": [],
   "source": [
    "def robust_PCA(X, L, inverse=True):\n",
    "    #SVD of low-rank component\n",
    "    v_tilde, sigma, v_tilde_T  = np.linalg.svd(L, full_matrices=True)\n",
    "    \n",
    "    sigma_basis = sigma[sigma > 1e-9]\n",
    "    rank = len(sigma_basis)\n",
    "    sigma_diag = np.diag(sigma_basis)\n",
    "    \n",
    "    if inverse:\n",
    "        sigma_diag = np.linalg.inv(sigma_diag)\n",
    "        \n",
    "    loading = []\n",
    "    for i in range(0, rank):\n",
    "        loading.append(v_tilde[:, i] * np.sqrt(sigma_diag[i,i]))\n",
    "\n",
    "    zu = X.T @ np.array(loading).T\n",
    "    return zu"
   ]
  },
  {
   "cell_type": "markdown",
   "id": "bright-departure",
   "metadata": {},
   "source": [
    "### Plot SE/pH correlation"
   ]
  },
  {
   "cell_type": "code",
   "execution_count": null,
   "id": "colonial-forest",
   "metadata": {},
   "outputs": [],
   "source": [
    "zu_SE = robust_PCA(X, SE_lowrank, inverse=True)"
   ]
  },
  {
   "cell_type": "code",
   "execution_count": null,
   "id": "mathematical-footage",
   "metadata": {},
   "outputs": [],
   "source": [
    "for i in range(0, se_rank):\n",
    "    plt.scatter(zu_SE[i], ph)\n",
    "    plt.xlabel(\"Learned low-rank PCA component\")\n",
    "    plt.ylabel(\"pH\")\n",
    "    plt.legend(loc='upper left')\n",
    "    plt.show()"
   ]
  },
  {
   "cell_type": "code",
   "execution_count": null,
   "id": "ancient-battery",
   "metadata": {},
   "outputs": [],
   "source": [
    "for i in range(0, se_rank):\n",
    "    print(\"Spearman correlation between pH and {0}th component: {1}, p-value: {2}\".format(i+1, stats.spearmanr(ph, zu_SE[i])[0], \n",
    "                                                                              stats.spearmanr(ph, zu_SE[i])[1]))"
   ]
  },
  {
   "cell_type": "markdown",
   "id": "working-easter",
   "metadata": {},
   "source": [
    "### Plot GGLasso/pH correlation"
   ]
  },
  {
   "cell_type": "code",
   "execution_count": null,
   "id": "extra-uganda",
   "metadata": {},
   "outputs": [],
   "source": [
    "zu_gg = robust_PCA(X, gg_lowrank, inverse=True)"
   ]
  },
  {
   "cell_type": "code",
   "execution_count": null,
   "id": "changed-initial",
   "metadata": {},
   "outputs": [],
   "source": [
    "for i in range(0, se_rank):\n",
    "    plt.scatter(zu_SE[i], ph)\n",
    "    plt.xlabel(\"Learned low-rank PCA component\")\n",
    "    plt.ylabel(\"pH\")\n",
    "    plt.legend(loc='upper left')\n",
    "    plt.show()"
   ]
  },
  {
   "cell_type": "code",
   "execution_count": null,
   "id": "requested-private",
   "metadata": {},
   "outputs": [],
   "source": [
    "for i in range(0, se_rank):\n",
    "    print(\"Spearman correlation between pH and {0}th component: {1}, p-value: {2}\".format(i+1, stats.spearmanr(ph, zu_gg[i])[0], \n",
    "                                                                              stats.spearmanr(ph, zu_gg[i])[1]))"
   ]
  }
 ],
 "metadata": {
  "kernelspec": {
   "display_name": "Python 3",
   "language": "python",
   "name": "python3"
  },
  "language_info": {
   "codemirror_mode": {
    "name": "ipython",
    "version": 3
   },
   "file_extension": ".py",
   "mimetype": "text/x-python",
   "name": "python",
   "nbconvert_exporter": "python",
   "pygments_lexer": "ipython3",
   "version": "3.8.0"
  }
 },
 "nbformat": 4,
 "nbformat_minor": 5
}
