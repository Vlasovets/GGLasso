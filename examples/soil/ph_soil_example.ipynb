{
 "cells": [
  {
   "cell_type": "code",
   "execution_count": 8,
   "id": "figured-effect",
   "metadata": {},
   "outputs": [],
   "source": [
    "import os\n",
    "\n",
    "import numpy as np\n",
    "import pandas as pd\n",
    "import pyreadr\n",
    "\n",
    "import matplotlib.pyplot as plt\n",
    "import seaborn as sns\n",
    "from scipy import stats\n",
    "\n",
    "from gglasso.helper.utils import sparsity, zero_replacement, normalize, log_transform\n",
    "from gglasso.problem import glasso_problem"
   ]
  },
  {
   "cell_type": "markdown",
   "id": "linear-checklist",
   "metadata": {},
   "source": [
    "### Import preprocessed soil data"
   ]
  },
  {
   "cell_type": "code",
   "execution_count": 79,
   "id": "greek-baltimore",
   "metadata": {},
   "outputs": [
    {
     "data": {
      "text/plain": [
       "array([ 30.3 ,  28.3 ,  68.9 ,  57.1 ,  28.2 ,  16.8 ,  29.9 ,  69.5 ,\n",
       "        76.1 ,  22.1 ,  21.7 ,  24.4 ,   4.2 ,  14.2 ,  16.6 ,  42.5 ,\n",
       "        39.8 ,  53.9 , 158.3 ,  70.2 ,  39.1 , 105.4 ,  56.7 ,  34.4 ,\n",
       "        23.3 ,  22.7 ,  12.1 ,  17.1 ,  81.  ,   1.2 ,   5.7 ,  25.  ,\n",
       "        22.9 ,  11.6 ,   8.5 ,  24.9 ,  15.9 ,   8.2 ,  18.1 , 134.2 ,\n",
       "        57.4 , 130.9 ,  59.5 ,  93.6 ,  33.4 ,  63.8 ,  31.  ,  27.8 ,\n",
       "        17.  ,  54.5 ,  14.6 ,  95.2 ,  64.4 ,  45.9 ,  33.  , 127.6 ,\n",
       "        21.5 ,  16.7 ,  95.5 ,  26.5 ,  40.6 ,  43.3 ,  25.6 ,   6.9 ,\n",
       "        27.  ,  40.7 ,  39.4 ,  37.5 ,  19.1 , 139.5 ,  41.1 ,  64.1 ,\n",
       "        61.2 ,  98.7 , 107.  ,  63.1 ,   2.3 ,  52.2 ,  12.84,   3.  ,\n",
       "       108.2 ,  11.4 , 158.8 , 182.4 ])"
      ]
     },
     "execution_count": 79,
     "metadata": {},
     "output_type": "execute_result"
    }
   ],
   "source": [
    "metadata['tot_org_carb'].unique()"
   ]
  },
  {
   "cell_type": "code",
   "execution_count": 93,
   "id": "major-prince",
   "metadata": {},
   "outputs": [
    {
     "data": {
      "text/plain": [
       "Index(['BarcodeSequence', 'LinkerPrimerSequence', 'barcode_read_group_tag',\n",
       "       'dna_extracted_prep', 'experiment_alias', 'experiment_center',\n",
       "       'experiment_design_description', 'experiment_title', 'instrument_name',\n",
       "       'key_seq', 'library_construction_protocol', 'linker', 'pcr_primers',\n",
       "       'physical_specimen_remaining_prep', 'platform', 'pool_member_name',\n",
       "       'pool_proportion', 'primer_read_group_tag', 'region', 'run_alias',\n",
       "       'run_center', 'run_date', 'run_prefix', 'samp_size', 'sample_center',\n",
       "       'sample_type_prep', 'sequencing_meth', 'study_center', 'study_ref',\n",
       "       'target_gene', 'target_subfragment', 'altitude', 'annual_season_precpt',\n",
       "       'annual_season_temp', 'anonymized_name', 'assigned_from_geo',\n",
       "       'carb_nitro_ratio', 'cmin_rate', 'collection_date', 'common_name',\n",
       "       'country', 'depth', 'dna_extracted', 'elevation', 'env_biome',\n",
       "       'env_feature', 'env_matter', 'host_subject_id', 'latitude', 'longitude',\n",
       "       'ph', 'physical_specimen_remaining', 'project_name', 'public',\n",
       "       'sample_type', 'silt_clay', 'soil_moisture_deficit', 'soil_type',\n",
       "       'specific_location', 'taxon_id', 'texture', 'title', 'tot_org_carb',\n",
       "       'tot_org_nitro', 'Description', 'ph2', 'ph3', 'ph4', 'ph_rounded'],\n",
       "      dtype='object')"
      ]
     },
     "execution_count": 93,
     "metadata": {},
     "output_type": "execute_result"
    }
   ],
   "source": [
    "metadata.columns"
   ]
  },
  {
   "cell_type": "code",
   "execution_count": 92,
   "id": "small-score",
   "metadata": {},
   "outputs": [
    {
     "data": {
      "text/plain": [
       "#SampleID\n",
       "103.BZ1    0-0.05\n",
       "103.CR1    0-0.05\n",
       "103.GB2    0-0.05\n",
       "103.GB3    0-0.05\n",
       "103.GB1    0-0.05\n",
       "            ...  \n",
       "103.SV1    0-0.05\n",
       "103.HI4    0-0.05\n",
       "103.HI1    0-0.05\n",
       "103.HI2    0-0.05\n",
       "103.HI3    0-0.05\n",
       "Name: depth, Length: 89, dtype: object"
      ]
     },
     "execution_count": 92,
     "metadata": {},
     "output_type": "execute_result"
    }
   ],
   "source": [
    "metadata['depth']"
   ]
  },
  {
   "cell_type": "code",
   "execution_count": 73,
   "id": "immune-folks",
   "metadata": {},
   "outputs": [
    {
     "data": {
      "text/plain": [
       "Index(['BarcodeSequence', 'LinkerPrimerSequence', 'barcode_read_group_tag',\n",
       "       'dna_extracted_prep', 'experiment_alias', 'experiment_center',\n",
       "       'experiment_design_description', 'experiment_title', 'instrument_name',\n",
       "       'key_seq', 'library_construction_protocol', 'linker', 'pcr_primers',\n",
       "       'physical_specimen_remaining_prep', 'platform', 'pool_member_name',\n",
       "       'pool_proportion', 'primer_read_group_tag', 'region', 'run_alias',\n",
       "       'run_center', 'run_date', 'run_prefix', 'samp_size', 'sample_center',\n",
       "       'sample_type_prep', 'sequencing_meth', 'study_center', 'study_ref',\n",
       "       'target_gene', 'target_subfragment', 'altitude', 'annual_season_precpt',\n",
       "       'annual_season_temp', 'anonymized_name', 'assigned_from_geo',\n",
       "       'carb_nitro_ratio', 'cmin_rate', 'collection_date', 'common_name',\n",
       "       'country', 'depth', 'dna_extracted', 'elevation', 'env_biome',\n",
       "       'env_feature', 'env_matter', 'host_subject_id', 'latitude', 'longitude',\n",
       "       'ph', 'physical_specimen_remaining', 'project_name', 'public',\n",
       "       'sample_type', 'silt_clay', 'soil_moisture_deficit', 'soil_type',\n",
       "       'specific_location', 'taxon_id', 'texture', 'title', 'tot_org_carb',\n",
       "       'tot_org_nitro', 'Description', 'ph2', 'ph3', 'ph4', 'ph_rounded'],\n",
       "      dtype='object')"
      ]
     },
     "execution_count": 73,
     "metadata": {},
     "output_type": "execute_result"
    }
   ],
   "source": [
    "metadata = pd.read_table('../data/soil/88soils_modified_metadata.txt', index_col=0)\n",
    "metadata.columns"
   ]
  },
  {
   "cell_type": "code",
   "execution_count": 3,
   "id": "removable-recycling",
   "metadata": {},
   "outputs": [
    {
     "data": {
      "text/html": [
       "<div>\n",
       "<style scoped>\n",
       "    .dataframe tbody tr th:only-of-type {\n",
       "        vertical-align: middle;\n",
       "    }\n",
       "\n",
       "    .dataframe tbody tr th {\n",
       "        vertical-align: top;\n",
       "    }\n",
       "\n",
       "    .dataframe thead th {\n",
       "        text-align: right;\n",
       "    }\n",
       "</style>\n",
       "<table border=\"1\" class=\"dataframe\">\n",
       "  <thead>\n",
       "    <tr style=\"text-align: right;\">\n",
       "      <th></th>\n",
       "      <th>103.CA2</th>\n",
       "      <th>103.CO3</th>\n",
       "      <th>103.SR3</th>\n",
       "      <th>103.IE2</th>\n",
       "      <th>103.BP1</th>\n",
       "      <th>103.VC2</th>\n",
       "      <th>103.SA2</th>\n",
       "      <th>103.GB2</th>\n",
       "      <th>103.CO2</th>\n",
       "      <th>103.KP1</th>\n",
       "      <th>...</th>\n",
       "      <th>103.LQ1</th>\n",
       "      <th>103.HI1</th>\n",
       "      <th>103.RT1</th>\n",
       "      <th>103.HI2</th>\n",
       "      <th>103.DF1</th>\n",
       "      <th>103.CF3</th>\n",
       "      <th>103.AR1</th>\n",
       "      <th>103.TL1</th>\n",
       "      <th>103.HI4</th>\n",
       "      <th>103.BB1</th>\n",
       "    </tr>\n",
       "  </thead>\n",
       "  <tbody>\n",
       "    <tr>\n",
       "      <th>1124701</th>\n",
       "      <td>16.0</td>\n",
       "      <td>15.0</td>\n",
       "      <td>2.0</td>\n",
       "      <td>9.0</td>\n",
       "      <td>14.0</td>\n",
       "      <td>8.0</td>\n",
       "      <td>7.0</td>\n",
       "      <td>4.0</td>\n",
       "      <td>3.0</td>\n",
       "      <td>3.0</td>\n",
       "      <td>...</td>\n",
       "      <td>1.0</td>\n",
       "      <td>1.0</td>\n",
       "      <td>1.0</td>\n",
       "      <td>1.0</td>\n",
       "      <td>1.0</td>\n",
       "      <td>1.0</td>\n",
       "      <td>1.0</td>\n",
       "      <td>1.0</td>\n",
       "      <td>1.0</td>\n",
       "      <td>1.0</td>\n",
       "    </tr>\n",
       "    <tr>\n",
       "      <th>697997</th>\n",
       "      <td>3.0</td>\n",
       "      <td>5.0</td>\n",
       "      <td>1.0</td>\n",
       "      <td>1.0</td>\n",
       "      <td>68.0</td>\n",
       "      <td>1.0</td>\n",
       "      <td>2.0</td>\n",
       "      <td>4.0</td>\n",
       "      <td>1.0</td>\n",
       "      <td>2.0</td>\n",
       "      <td>...</td>\n",
       "      <td>1.0</td>\n",
       "      <td>1.0</td>\n",
       "      <td>1.0</td>\n",
       "      <td>1.0</td>\n",
       "      <td>1.0</td>\n",
       "      <td>1.0</td>\n",
       "      <td>1.0</td>\n",
       "      <td>1.0</td>\n",
       "      <td>1.0</td>\n",
       "      <td>1.0</td>\n",
       "    </tr>\n",
       "    <tr>\n",
       "      <th>203969</th>\n",
       "      <td>1.0</td>\n",
       "      <td>1.0</td>\n",
       "      <td>1.0</td>\n",
       "      <td>1.0</td>\n",
       "      <td>1.0</td>\n",
       "      <td>1.0</td>\n",
       "      <td>1.0</td>\n",
       "      <td>1.0</td>\n",
       "      <td>1.0</td>\n",
       "      <td>1.0</td>\n",
       "      <td>...</td>\n",
       "      <td>1.0</td>\n",
       "      <td>1.0</td>\n",
       "      <td>1.0</td>\n",
       "      <td>1.0</td>\n",
       "      <td>3.0</td>\n",
       "      <td>7.0</td>\n",
       "      <td>1.0</td>\n",
       "      <td>1.0</td>\n",
       "      <td>1.0</td>\n",
       "      <td>1.0</td>\n",
       "    </tr>\n",
       "    <tr>\n",
       "      <th>205391</th>\n",
       "      <td>1.0</td>\n",
       "      <td>1.0</td>\n",
       "      <td>1.0</td>\n",
       "      <td>2.0</td>\n",
       "      <td>1.0</td>\n",
       "      <td>2.0</td>\n",
       "      <td>1.0</td>\n",
       "      <td>1.0</td>\n",
       "      <td>2.0</td>\n",
       "      <td>1.0</td>\n",
       "      <td>...</td>\n",
       "      <td>1.0</td>\n",
       "      <td>1.0</td>\n",
       "      <td>1.0</td>\n",
       "      <td>1.0</td>\n",
       "      <td>5.0</td>\n",
       "      <td>4.0</td>\n",
       "      <td>1.0</td>\n",
       "      <td>7.0</td>\n",
       "      <td>1.0</td>\n",
       "      <td>1.0</td>\n",
       "    </tr>\n",
       "    <tr>\n",
       "      <th>843189</th>\n",
       "      <td>1.0</td>\n",
       "      <td>1.0</td>\n",
       "      <td>1.0</td>\n",
       "      <td>1.0</td>\n",
       "      <td>1.0</td>\n",
       "      <td>1.0</td>\n",
       "      <td>1.0</td>\n",
       "      <td>1.0</td>\n",
       "      <td>1.0</td>\n",
       "      <td>1.0</td>\n",
       "      <td>...</td>\n",
       "      <td>1.0</td>\n",
       "      <td>1.0</td>\n",
       "      <td>1.0</td>\n",
       "      <td>1.0</td>\n",
       "      <td>1.0</td>\n",
       "      <td>5.0</td>\n",
       "      <td>1.0</td>\n",
       "      <td>2.0</td>\n",
       "      <td>2.0</td>\n",
       "      <td>1.0</td>\n",
       "    </tr>\n",
       "  </tbody>\n",
       "</table>\n",
       "<p>5 rows × 89 columns</p>\n",
       "</div>"
      ],
      "text/plain": [
       "         103.CA2  103.CO3  103.SR3  103.IE2  103.BP1  103.VC2  103.SA2  \\\n",
       "1124701     16.0     15.0      2.0      9.0     14.0      8.0      7.0   \n",
       "697997       3.0      5.0      1.0      1.0     68.0      1.0      2.0   \n",
       "203969       1.0      1.0      1.0      1.0      1.0      1.0      1.0   \n",
       "205391       1.0      1.0      1.0      2.0      1.0      2.0      1.0   \n",
       "843189       1.0      1.0      1.0      1.0      1.0      1.0      1.0   \n",
       "\n",
       "         103.GB2  103.CO2  103.KP1  ...  103.LQ1  103.HI1  103.RT1  103.HI2  \\\n",
       "1124701      4.0      3.0      3.0  ...      1.0      1.0      1.0      1.0   \n",
       "697997       4.0      1.0      2.0  ...      1.0      1.0      1.0      1.0   \n",
       "203969       1.0      1.0      1.0  ...      1.0      1.0      1.0      1.0   \n",
       "205391       1.0      2.0      1.0  ...      1.0      1.0      1.0      1.0   \n",
       "843189       1.0      1.0      1.0  ...      1.0      1.0      1.0      1.0   \n",
       "\n",
       "         103.DF1  103.CF3  103.AR1  103.TL1  103.HI4  103.BB1  \n",
       "1124701      1.0      1.0      1.0      1.0      1.0      1.0  \n",
       "697997       1.0      1.0      1.0      1.0      1.0      1.0  \n",
       "203969       3.0      7.0      1.0      1.0      1.0      1.0  \n",
       "205391       5.0      4.0      1.0      7.0      1.0      1.0  \n",
       "843189       1.0      5.0      1.0      2.0      2.0      1.0  \n",
       "\n",
       "[5 rows x 89 columns]"
      ]
     },
     "execution_count": 3,
     "metadata": {},
     "output_type": "execute_result"
    }
   ],
   "source": [
    "soil = pd.read_csv('../data/soil/soil_id_116.csv', sep=',', index_col = 0).T\n",
    "soil.head()"
   ]
  },
  {
   "cell_type": "code",
   "execution_count": 4,
   "id": "painful-friendly",
   "metadata": {},
   "outputs": [
    {
     "data": {
      "text/plain": [
       "103.CA2    8.02\n",
       "103.CO3    6.02\n",
       "103.SR3    6.95\n",
       "103.IE2    5.52\n",
       "103.BP1    7.53\n",
       "Name: ph, dtype: float64"
      ]
     },
     "execution_count": 4,
     "metadata": {},
     "output_type": "execute_result"
    }
   ],
   "source": [
    "ph = metadata[\"ph\"]\n",
    "ph = ph.reindex(soil.columns)\n",
    "ph.head()"
   ]
  },
  {
   "cell_type": "code",
   "execution_count": 5,
   "id": "photographic-stopping",
   "metadata": {},
   "outputs": [],
   "source": [
    "#check if any ids are missing\n",
    "assert not ph.isnull().values.any()\n",
    "\n",
    "# assert that samples of ph and soil are identical\n",
    "assert set(soil.columns) == set(ph.index)"
   ]
  },
  {
   "cell_type": "markdown",
   "id": "athletic-tumor",
   "metadata": {},
   "source": [
    "### CLR-transformation of X"
   ]
  },
  {
   "cell_type": "markdown",
   "id": "logical-print",
   "metadata": {},
   "source": [
    "##### Dataframe `soil` need to be of shape (p,N) for normalizing to simplex + clr transform"
   ]
  },
  {
   "cell_type": "code",
   "execution_count": 6,
   "id": "touched-bristol",
   "metadata": {},
   "outputs": [
    {
     "data": {
      "text/plain": [
       "(116, 89)"
      ]
     },
     "execution_count": 6,
     "metadata": {},
     "output_type": "execute_result"
    }
   ],
   "source": [
    "soil.shape"
   ]
  },
  {
   "cell_type": "code",
   "execution_count": 9,
   "id": "outer-mixer",
   "metadata": {},
   "outputs": [
    {
     "data": {
      "text/plain": [
       "(116, 89)"
      ]
     },
     "execution_count": 9,
     "metadata": {},
     "output_type": "execute_result"
    }
   ],
   "source": [
    "X = normalize(soil)\n",
    "X.shape"
   ]
  },
  {
   "cell_type": "code",
   "execution_count": 10,
   "id": "cellular-richardson",
   "metadata": {},
   "outputs": [
    {
     "data": {
      "text/plain": [
       "(116, 89)"
      ]
     },
     "execution_count": 10,
     "metadata": {},
     "output_type": "execute_result"
    }
   ],
   "source": [
    "X = log_transform(X)\n",
    "(p,N) = X.shape\n",
    "(p,N)"
   ]
  },
  {
   "cell_type": "markdown",
   "id": "fatal-herald",
   "metadata": {},
   "source": [
    "### Calculate covariance and scale to correlations"
   ]
  },
  {
   "cell_type": "code",
   "execution_count": 11,
   "id": "electoral-white",
   "metadata": {},
   "outputs": [
    {
     "data": {
      "text/plain": [
       "(116, 116)"
      ]
     },
     "execution_count": 11,
     "metadata": {},
     "output_type": "execute_result"
    }
   ],
   "source": [
    "S0 = np.cov(X.values, bias = True)\n",
    "# scale covariances to correlations\n",
    "scale = np.tile(np.sqrt(np.diag(S0)),(S0.shape[0],1))\n",
    "scale = scale.T * scale\n",
    "\n",
    "S = S0 / scale\n",
    "S.shape"
   ]
  },
  {
   "cell_type": "markdown",
   "id": "sound-exclusive",
   "metadata": {},
   "source": [
    "### GGLasso low-rank with lambda = 0.14447343, mu =  2.36, rank=6"
   ]
  },
  {
   "cell_type": "code",
   "execution_count": 12,
   "id": "varying-ending",
   "metadata": {},
   "outputs": [
    {
     "name": "stdout",
     "output_type": "stream",
     "text": [
      " \n",
      "SINGLE GRAPHICAL LASSO PROBLEM WITH LATENT VARIABLES\n",
      "Regularization parameters:\n",
      "{'lambda1': 0.01, 'mu1': 0.1}\n",
      "ADMM terminated after 109 iterations with status: optimal.\n",
      "{'lambda1': 0.14447343, 'mu1': 2.36}\n"
     ]
    }
   ],
   "source": [
    "P = glasso_problem(S, N, latent = True, do_scaling = False)\n",
    "\n",
    "print(P)\n",
    "\n",
    "lambda1_range = [0.14447343]\n",
    "mu1_range = [2.36]\n",
    "\n",
    "\n",
    "modelselect_params = {'lambda1_range': lambda1_range, 'mu1_range': mu1_range}\n",
    "\n",
    "P.model_selection(modelselect_params = modelselect_params, method = 'eBIC', gamma = 0.25)\n",
    "\n",
    "# regularization parameters are set to the best ones found during model selection\n",
    "print(P.reg_params)"
   ]
  },
  {
   "cell_type": "code",
   "execution_count": 13,
   "id": "creative-solid",
   "metadata": {},
   "outputs": [
    {
     "data": {
      "text/plain": [
       "(116, 116)"
      ]
     },
     "execution_count": 13,
     "metadata": {},
     "output_type": "execute_result"
    }
   ],
   "source": [
    "# gg_lowrank = pd.read_csv(\"~/Downloads/gglasso_lr.csv\", sep=',', header=None)\n",
    "gg_lowrank = P.solution.lowrank_\n",
    "gg_lowrank.shape"
   ]
  },
  {
   "cell_type": "code",
   "execution_count": 14,
   "id": "combined-jewelry",
   "metadata": {},
   "outputs": [
    {
     "name": "stdout",
     "output_type": "stream",
     "text": [
      "Rank of low-rank component: 6\n"
     ]
    }
   ],
   "source": [
    "gg_rank = np.linalg.matrix_rank(gg_lowrank)\n",
    "print('Rank of low-rank component: {0}'.format(gg_rank))"
   ]
  },
  {
   "cell_type": "markdown",
   "id": "swiss-county",
   "metadata": {},
   "source": [
    "### SE low-rank with lambda = 0.14447343, rank=6"
   ]
  },
  {
   "cell_type": "code",
   "execution_count": 17,
   "id": "romantic-external",
   "metadata": {},
   "outputs": [
    {
     "data": {
      "text/plain": [
       "(116, 116)"
      ]
     },
     "execution_count": 17,
     "metadata": {},
     "output_type": "execute_result"
    }
   ],
   "source": [
    "SE_lowrank = pyreadr.read_r('SE_lowrank.rds')\n",
    "SE_lowrank = SE_lowrank[None]\n",
    "SE_lowrank = np.array(SE_lowrank)\n",
    "SE_lowrank.shape"
   ]
  },
  {
   "cell_type": "code",
   "execution_count": 18,
   "id": "alien-pakistan",
   "metadata": {},
   "outputs": [
    {
     "name": "stdout",
     "output_type": "stream",
     "text": [
      "Rank of low-rank component: 6\n"
     ]
    }
   ],
   "source": [
    "se_rank = np.linalg.matrix_rank(SE_lowrank)\n",
    "print('Rank of low-rank component: {0}'.format(se_rank))"
   ]
  },
  {
   "cell_type": "markdown",
   "id": "genuine-cabinet",
   "metadata": {},
   "source": [
    "### Compare two solutions"
   ]
  },
  {
   "cell_type": "code",
   "execution_count": 19,
   "id": "present-lender",
   "metadata": {},
   "outputs": [
    {
     "data": {
      "text/plain": [
       "True"
      ]
     },
     "execution_count": 19,
     "metadata": {},
     "output_type": "execute_result"
    }
   ],
   "source": [
    "np.allclose(SE_lowrank, gg_lowrank, atol=1e-01)"
   ]
  },
  {
   "cell_type": "code",
   "execution_count": 25,
   "id": "durable-treat",
   "metadata": {},
   "outputs": [
    {
     "data": {
      "text/plain": [
       "<matplotlib.axes._subplots.AxesSubplot at 0x7ff0bca0e310>"
      ]
     },
     "execution_count": 25,
     "metadata": {},
     "output_type": "execute_result"
    },
    {
     "data": {
      "image/png": "[encoded data removed]",
      "text/plain": [
       "<Figure size 1440x360 with 4 Axes>"
      ]
     },
     "metadata": {
      "needs_background": "light"
     },
     "output_type": "display_data"
    }
   ],
   "source": [
    "#plot sparsity\n",
    "fig, axs = plt.subplots(1,2, figsize = (20,5))\n",
    "sns.heatmap(SE_lowrank, ax = axs[0], cmap = \"coolwarm\", vmin = -0.1, vmax = 0.1)\n",
    "sns.heatmap(gg_lowrank, ax = axs[1], cmap = \"coolwarm\", vmin = -0.1, vmax = 0.1)"
   ]
  },
  {
   "cell_type": "markdown",
   "id": "written-mandate",
   "metadata": {},
   "source": [
    "### Robust PCA in [SE](https://github.com/zdk123/SpiecEasi/blob/ff528b23fafbd455efcca9dd356bef28951edf82/R/SparseLowRankICov.R)"
   ]
  },
  {
   "cell_type": "code",
   "execution_count": null,
   "id": "pointed-surprise",
   "metadata": {},
   "outputs": [],
   "source": [
    "# robustPCA <- function(X, L, inverse=TRUE) {\n",
    "#   Lsvd <- svd(L)\n",
    "#   ind <- Lsvd$d>1e-9\n",
    "#   if (inverse) {\n",
    "#     loadings <- diag(sqrt(1/Lsvd$d[ind])) %*% t(Lsvd$v[,ind])\n",
    "#   } else {\n",
    "#     loadings <- diag(sqrt(Lsvd$d[ind])) %*% t(Lsvd$v[,ind])\n",
    "#   }\n",
    "\n",
    "#   scores <- X %*% t(loadings)\n",
    "#   return(list(scores=scores, loadings=loadings))\n",
    "# }"
   ]
  },
  {
   "cell_type": "markdown",
   "id": "ongoing-south",
   "metadata": {},
   "source": [
    "### Robust PCA in GGLasso"
   ]
  },
  {
   "cell_type": "code",
   "execution_count": 20,
   "id": "homeless-minority",
   "metadata": {},
   "outputs": [],
   "source": [
    "def robust_PCA(X, L, inverse=True):\n",
    "    #SVD of low-rank component\n",
    "    v_tilde, sigma, v_tilde_T  = np.linalg.svd(L, full_matrices=True)\n",
    "    \n",
    "    ind = np.argwhere(sigma > 1e-9)\n",
    "    \n",
    "    if inverse:\n",
    "        loadings = np.diag(np.sqrt(1/sigma[ind]).reshape(len(ind),)) @ v_tilde[:, :len(ind)].T\n",
    "    else:\n",
    "        loadings = np.diag(np.sqrt(sigma[ind]).reshape(len(ind),)) @ v_tilde[:, :len(ind)].T\n",
    "        \n",
    "    zu = X.T @ loadings.T\n",
    "    \n",
    "    \n",
    "    return zu, loadings"
   ]
  },
  {
   "cell_type": "code",
   "execution_count": 39,
   "id": "embedded-definition",
   "metadata": {},
   "outputs": [],
   "source": [
    "def robust_PCA(X, L, inverse=True):\n",
    "    sig, V = np.linalg.eigh(L)\n",
    "    ind = np.argwhere(sig > 1e-9)\n",
    "\n",
    "    if inverse:\n",
    "        loadings = V[:,ind] @ np.diag(np.sqrt(1/sig[ind]))\n",
    "    else:\n",
    "        loadings = V[:,ind] @ np.diag(np.sqrt(sig[ind]))\n",
    "\n",
    "    zu = X.values.T @ loadings\n",
    "    \n",
    "    return zu, loadings"
   ]
  },
  {
   "cell_type": "markdown",
   "id": "brief-consensus",
   "metadata": {},
   "source": [
    "### Plot SE/pH correlation"
   ]
  },
  {
   "cell_type": "code",
   "execution_count": 24,
   "id": "bearing-dryer",
   "metadata": {},
   "outputs": [
    {
     "data": {
      "text/plain": [
       "(89, 6)"
      ]
     },
     "execution_count": 24,
     "metadata": {},
     "output_type": "execute_result"
    }
   ],
   "source": [
    "zu_SE, se_loadings = robust_PCA(X, SE_lowrank, inverse=True)\n",
    "zu_SE.shape"
   ]
  },
  {
   "cell_type": "code",
   "execution_count": 43,
   "id": "korean-playing",
   "metadata": {},
   "outputs": [
    {
     "data": {
      "text/html": [
       "<div>\n",
       "<style scoped>\n",
       "    .dataframe tbody tr th:only-of-type {\n",
       "        vertical-align: middle;\n",
       "    }\n",
       "\n",
       "    .dataframe tbody tr th {\n",
       "        vertical-align: top;\n",
       "    }\n",
       "\n",
       "    .dataframe thead th {\n",
       "        text-align: right;\n",
       "    }\n",
       "</style>\n",
       "<table border=\"1\" class=\"dataframe\">\n",
       "  <thead>\n",
       "    <tr style=\"text-align: right;\">\n",
       "      <th></th>\n",
       "      <th>0</th>\n",
       "      <th>1</th>\n",
       "      <th>2</th>\n",
       "      <th>3</th>\n",
       "      <th>4</th>\n",
       "      <th>5</th>\n",
       "      <th>ph</th>\n",
       "    </tr>\n",
       "  </thead>\n",
       "  <tbody>\n",
       "    <tr>\n",
       "      <th>103.CA2</th>\n",
       "      <td>-3.881230</td>\n",
       "      <td>1.473050</td>\n",
       "      <td>3.736846</td>\n",
       "      <td>-0.168383</td>\n",
       "      <td>-2.198682</td>\n",
       "      <td>0.146349</td>\n",
       "      <td>8.02</td>\n",
       "    </tr>\n",
       "    <tr>\n",
       "      <th>103.CO3</th>\n",
       "      <td>-3.854069</td>\n",
       "      <td>1.328352</td>\n",
       "      <td>0.760213</td>\n",
       "      <td>-0.465473</td>\n",
       "      <td>-3.420724</td>\n",
       "      <td>0.852506</td>\n",
       "      <td>6.02</td>\n",
       "    </tr>\n",
       "    <tr>\n",
       "      <th>103.SR3</th>\n",
       "      <td>-2.874836</td>\n",
       "      <td>0.401403</td>\n",
       "      <td>2.291766</td>\n",
       "      <td>0.783078</td>\n",
       "      <td>1.794675</td>\n",
       "      <td>0.128075</td>\n",
       "      <td>6.95</td>\n",
       "    </tr>\n",
       "    <tr>\n",
       "      <th>103.IE2</th>\n",
       "      <td>-0.964121</td>\n",
       "      <td>-1.206462</td>\n",
       "      <td>-5.766909</td>\n",
       "      <td>-1.822464</td>\n",
       "      <td>0.143857</td>\n",
       "      <td>-5.947853</td>\n",
       "      <td>5.52</td>\n",
       "    </tr>\n",
       "    <tr>\n",
       "      <th>103.BP1</th>\n",
       "      <td>-3.791169</td>\n",
       "      <td>0.938866</td>\n",
       "      <td>1.697224</td>\n",
       "      <td>-0.991540</td>\n",
       "      <td>-4.727427</td>\n",
       "      <td>1.037163</td>\n",
       "      <td>7.53</td>\n",
       "    </tr>\n",
       "    <tr>\n",
       "      <th>...</th>\n",
       "      <td>...</td>\n",
       "      <td>...</td>\n",
       "      <td>...</td>\n",
       "      <td>...</td>\n",
       "      <td>...</td>\n",
       "      <td>...</td>\n",
       "      <td>...</td>\n",
       "    </tr>\n",
       "    <tr>\n",
       "      <th>103.CF3</th>\n",
       "      <td>6.129408</td>\n",
       "      <td>-0.808688</td>\n",
       "      <td>2.185421</td>\n",
       "      <td>-1.854054</td>\n",
       "      <td>-1.770429</td>\n",
       "      <td>-4.195595</td>\n",
       "      <td>3.56</td>\n",
       "    </tr>\n",
       "    <tr>\n",
       "      <th>103.AR1</th>\n",
       "      <td>-1.210325</td>\n",
       "      <td>0.836794</td>\n",
       "      <td>-2.082505</td>\n",
       "      <td>-4.285733</td>\n",
       "      <td>-1.236090</td>\n",
       "      <td>0.906928</td>\n",
       "      <td>5.80</td>\n",
       "    </tr>\n",
       "    <tr>\n",
       "      <th>103.TL1</th>\n",
       "      <td>1.151785</td>\n",
       "      <td>-3.264641</td>\n",
       "      <td>0.649825</td>\n",
       "      <td>2.361556</td>\n",
       "      <td>-1.613714</td>\n",
       "      <td>-2.983102</td>\n",
       "      <td>4.58</td>\n",
       "    </tr>\n",
       "    <tr>\n",
       "      <th>103.HI4</th>\n",
       "      <td>3.678646</td>\n",
       "      <td>1.607667</td>\n",
       "      <td>-3.690162</td>\n",
       "      <td>0.761895</td>\n",
       "      <td>-0.319267</td>\n",
       "      <td>-1.515827</td>\n",
       "      <td>4.92</td>\n",
       "    </tr>\n",
       "    <tr>\n",
       "      <th>103.BB1</th>\n",
       "      <td>-0.054919</td>\n",
       "      <td>-0.026924</td>\n",
       "      <td>-0.047917</td>\n",
       "      <td>-0.011348</td>\n",
       "      <td>-0.045339</td>\n",
       "      <td>-0.011178</td>\n",
       "      <td>4.30</td>\n",
       "    </tr>\n",
       "  </tbody>\n",
       "</table>\n",
       "<p>89 rows × 7 columns</p>\n",
       "</div>"
      ],
      "text/plain": [
       "                0         1         2         3         4         5    ph\n",
       "103.CA2 -3.881230  1.473050  3.736846 -0.168383 -2.198682  0.146349  8.02\n",
       "103.CO3 -3.854069  1.328352  0.760213 -0.465473 -3.420724  0.852506  6.02\n",
       "103.SR3 -2.874836  0.401403  2.291766  0.783078  1.794675  0.128075  6.95\n",
       "103.IE2 -0.964121 -1.206462 -5.766909 -1.822464  0.143857 -5.947853  5.52\n",
       "103.BP1 -3.791169  0.938866  1.697224 -0.991540 -4.727427  1.037163  7.53\n",
       "...           ...       ...       ...       ...       ...       ...   ...\n",
       "103.CF3  6.129408 -0.808688  2.185421 -1.854054 -1.770429 -4.195595  3.56\n",
       "103.AR1 -1.210325  0.836794 -2.082505 -4.285733 -1.236090  0.906928  5.80\n",
       "103.TL1  1.151785 -3.264641  0.649825  2.361556 -1.613714 -2.983102  4.58\n",
       "103.HI4  3.678646  1.607667 -3.690162  0.761895 -0.319267 -1.515827  4.92\n",
       "103.BB1 -0.054919 -0.026924 -0.047917 -0.011348 -0.045339 -0.011178  4.30\n",
       "\n",
       "[89 rows x 7 columns]"
      ]
     },
     "execution_count": 43,
     "metadata": {},
     "output_type": "execute_result"
    }
   ],
   "source": [
    "test = pd.concat([zu_SE, ph.reindex(zu_SE.index)], axis=1)\n",
    "test"
   ]
  },
  {
   "cell_type": "code",
   "execution_count": 46,
   "id": "binary-religion",
   "metadata": {},
   "outputs": [
    {
     "data": {
      "text/plain": [
       "<seaborn.axisgrid.PairGrid at 0x7feea6f52d30>"
      ]
     },
     "execution_count": 46,
     "metadata": {},
     "output_type": "execute_result"
    },
    {
     "data": {
      "image/png": "[encoded data removed]",
      "text/plain": [
       "<Figure size 1080x180 with 6 Axes>"
      ]
     },
     "metadata": {
      "needs_background": "light"
     },
     "output_type": "display_data"
    }
   ],
   "source": [
    "import seaborn as sns\n",
    "sns.pairplot(test, y_vars=\"ph\", x_vars=test.iloc[:, :-1].columns.values)"
   ]
  },
  {
   "cell_type": "code",
   "execution_count": 50,
   "id": "romantic-today",
   "metadata": {},
   "outputs": [],
   "source": [
    "test = test.rename({0: 'PC1', 1: 'PC2',2: 'PC3',3: 'PC4',4: 'PC5',5: 'PC6'}, axis=1)"
   ]
  },
  {
   "cell_type": "code",
   "execution_count": 91,
   "id": "still-american",
   "metadata": {},
   "outputs": [],
   "source": [
    "carb = metadata['tot_org_carb'].reindex(soil.columns)"
   ]
  },
  {
   "cell_type": "code",
   "execution_count": 94,
   "id": "complimentary-thing",
   "metadata": {},
   "outputs": [
    {
     "data": {
      "application/vnd.plotly.v1+json": {
       "config": {
        "plotlyServerURL": "https://plot.ly"
       },
       "data": [
        {
         "diagonal": {
          "visible": false
         },
         "dimensions": [
          {
           "label": "PC1",
           "values": [
            -3.8812301066689665,
            -3.854068918395288,
            -2.8748356273709237,
            -0.9641206975720868,
            -3.7911689815786946,
            -3.013085517431774,
            -2.3074664231545414,
            -3.8468580151430545,
            -2.052798639563074,
            -3.2768751581693945,
            -4.003257414510132,
            -3.5002258471364445,
            -4.376309230168385,
            -2.0756621144310565,
            -2.2352822842103763,
            -3.3879360570086696,
            -2.2711609854873314,
            -1.702268421849418,
            -2.9921788670777505,
            -1.9590411354387556,
            -1.783861353189371,
            -1.7343225294408566,
            -1.3699233751793374,
            2.7198090053930155,
            -2.5506293949689187,
            -2.0364236501784285,
            -1.2070490735116417,
            -0.33891588936354805,
            -2.0326740305917084,
            -1.264826445605042,
            -3.6964037053477647,
            -3.1769486749556317,
            -1.6330094397268884,
            3.222607470243358,
            -1.147378753645963,
            2.1351655243580105,
            7.5947308876951265,
            -2.081320261915285,
            -1.9664199735384433,
            -2.6623882226134095,
            2.7909219494024495,
            -2.7021338156552837,
            -0.8154298121331072,
            -2.4821448303095024,
            -0.7982633875368189,
            -3.010108408548977,
            -0.6426825466032242,
            5.488753590665287,
            7.242254563762229,
            6.593929028077493,
            7.655229243760196,
            1.8228320996338587,
            6.771277091226895,
            3.4471574783790904,
            7.701988115060807,
            7.029766412030053,
            3.5867104520609296,
            6.33741167667895,
            7.416805423726269,
            4.48915023281673,
            3.1687571546789517,
            5.696610672369631,
            -1.6808774374929243,
            4.728982561390502,
            -0.9616938263048322,
            1.5634498323472013,
            -0.09888549663477751,
            -3.0106073774821733,
            1.4956653066339556,
            -2.252501812592482,
            -0.8897838013992503,
            -2.814791553328663,
            -1.1575778728165254,
            2.989193106056621,
            0.6036889862854352,
            4.629619505775048,
            3.5549310863047876,
            4.401778313846514,
            6.4574220342373385,
            1.4813322137803167,
            -0.6598891628463118,
            -2.3529754045074323,
            -1.3979107683405911,
            1.9027767409136627,
            6.129407873512927,
            -1.2103250253829163,
            1.1517852556240287,
            3.678646454485818,
            -0.05491887848828459
           ]
          },
          {
           "label": "PC2",
           "values": [
            1.4730501287186946,
            1.3283519976853977,
            0.40140257719133937,
            -1.2064616279400198,
            0.9388661775959626,
            -0.6627930989441468,
            1.2024132059246369,
            1.0540311126301343,
            -6.422876327966349,
            0.4277243994320862,
            2.090143586192403,
            0.3994251752151234,
            0.9028730529197054,
            1.2406173368146722,
            1.2455000002737564,
            -1.9626665156181862,
            -0.07374516530079422,
            1.0471700956084853,
            1.5385208542967264,
            0.5176348092595193,
            1.2215069842908721,
            -0.60744382285955,
            0.9423718853994145,
            -2.5017367002417323,
            1.022665940206769,
            -0.8603848743991639,
            -1.528939441914042,
            0.12323295899340819,
            -3.357175782755199,
            0.9132422079056417,
            0.7048005101755471,
            1.7059037820509,
            -1.7223810000648456,
            -3.703431181739139,
            -3.8955358397369877,
            -5.002116135631261,
            -0.7226565379519915,
            1.2773288754589798,
            1.6160245643842468,
            1.1732248840900943,
            -2.875519757389239,
            -0.36564287225805103,
            -0.18589839987855314,
            -0.40032928892509007,
            -3.9869650649056365,
            -0.8239528900136028,
            0.30986067353293745,
            -2.2085198994272197,
            0.17791762891705196,
            -1.3470862194034163,
            -2.1463064049296094,
            -8.080429550708871,
            1.484982276502168,
            -2.06021978415908,
            -0.6487338173148194,
            -2.3588015253883854,
            2.921064234721729,
            1.128766753697692,
            3.063529359236632,
            -4.510424937227296,
            -6.237221898347465,
            -6.534352140607031,
            -2.3741173969305507,
            -5.944412547276924,
            -5.122363913897716,
            -7.47045095723505,
            -3.805427638953267,
            1.4125356389113863,
            2.792495681864165,
            1.436139975087389,
            0.5545950626820945,
            1.5297546163627465,
            0.6610124745355797,
            3.457452384176765,
            -1.211515188216592,
            -3.753331752151286,
            3.1997684519170497,
            3.3231961228256295,
            -0.6117438779283609,
            1.3986660315474098,
            0.3867596539879991,
            1.275675643045273,
            -0.48099980564305234,
            -3.2504845048143913,
            -0.8086876810976383,
            0.8367940282616784,
            -3.2646410000333703,
            1.6076665611822105,
            -0.02692364725595006
           ]
          },
          {
           "label": "PC3",
           "values": [
            3.7368460680614857,
            0.7602132315798287,
            2.2917659858676136,
            -5.766908535460852,
            1.697223500568285,
            -2.485279986380737,
            2.096590116558106,
            2.0109513334810107,
            -1.3680150051822015,
            -1.1480141722741124,
            4.405431467266827,
            0.8266039420785595,
            3.036884488832315,
            3.922714437183246,
            2.801281296580719,
            -0.6557881227846992,
            -1.0350361608062395,
            3.5524440526100243,
            4.316895708676627,
            -1.5406585017684007,
            3.5411534999678986,
            -1.042437274575248,
            2.364493844372298,
            -2.341148692964826,
            3.2799123015294227,
            0.35503179248701894,
            -1.2052534838602127,
            -3.038997160084382,
            -1.4023444535628653,
            2.4392007311656605,
            1.5593319568711719,
            3.041657735108512,
            -4.178693590464901,
            -1.1448963320101506,
            -3.374200060154422,
            -1.4755506461127017,
            -1.7499728864282194,
            -2.0869865362106435,
            -2.8707480625143544,
            1.607928387948451,
            -2.69822509940532,
            -3.346279878563168,
            -1.496665625816044,
            -4.361785620573021,
            -4.676409674815446,
            -0.7954798958454441,
            -2.223511309024128,
            -0.21762742852960468,
            0.8753115950882947,
            -0.4946362067042149,
            -0.33171252191116674,
            -0.18745482642791345,
            -2.073300663994423,
            -0.004195011800431201,
            -0.3439127724867107,
            0.42856442982398235,
            -3.370897433381975,
            -0.20129711855357327,
            -1.50225258953041,
            -2.105100211474063,
            -1.3326247032290781,
            -0.00488787524746952,
            -0.6694177233382277,
            0.38074732992232435,
            -1.8765702533487856,
            -1.5969801568595814,
            -0.20917866088332132,
            1.7275172208500718,
            -3.650737816690002,
            2.4442914895917873,
            1.8623188545136669,
            3.9163547013680655,
            2.043149008802782,
            -3.5797338838572403,
            -6.358459227343803,
            -1.7036635462209995,
            -3.4193860992032583,
            -3.5705478890847373,
            -0.06496239332581921,
            -1.8205326582578945,
            0.0954260374984141,
            1.9020605191343445,
            -2.4446539074305886,
            -4.667448291452052,
            2.1854206610332576,
            -2.0825045035498007,
            0.649825449936118,
            -3.69016218432402,
            -0.04791741214744896
           ]
          },
          {
           "label": "PC4",
           "values": [
            -0.1683826723246622,
            -0.4654728661266199,
            0.7830783142347179,
            -1.8224639934203697,
            -0.9915404058425744,
            2.0197144846146946,
            0.5256607789941307,
            -0.012830859771527614,
            3.1603900808124896,
            -2.268072121546994,
            -0.48820680872197386,
            1.4231103784483736,
            0.9701104756595321,
            1.0773775158009478,
            -0.7450180579946332,
            2.2793436300123306,
            0.3534165371431634,
            1.2496797283759917,
            -0.264653074981426,
            -1.978289332103097,
            1.158558248491927,
            3.657398295213193,
            1.4486574656114208,
            -3.7015510020805706,
            -0.5171678135731518,
            1.4111359056346138,
            1.797388704759185,
            -0.35201087047737806,
            2.812029109544233,
            1.078541058976141,
            1.2154963351054158,
            -3.7064847107481262,
            -1.2288331268471184,
            1.886782034598001,
            1.1962451847620503,
            0.5195929702415325,
            0.047636202949330735,
            -4.064217423547416,
            -4.214210012501817,
            -4.4029712853646075,
            -3.3835570078159103,
            -2.6602829476217855,
            -0.7589152685603521,
            -4.253172761894071,
            -0.8449037228798376,
            0.2924618287687914,
            -1.290703878355967,
            1.470648303991133,
            -1.4431765123890252,
            -1.2524060417633147,
            -1.9643686368391204,
            1.4882297874699235,
            1.2823433784313292,
            2.3172990543673535,
            -0.20154688114067817,
            -2.010133388422122,
            1.9072196489324797,
            0.12293711475612742,
            1.8256304857995411,
            -0.4830357456115648,
            1.7400154645667738,
            -0.1314937319788512,
            3.3817374255823394,
            -1.853498004800507,
            1.3159902538296246,
            -0.05639305613494968,
            1.363682673580354,
            -4.446225531066057,
            0.8164164277733991,
            -3.4915788975430453,
            1.0084090927679024,
            0.5408607412990271,
            1.2850193652445117,
            1.562722596430722,
            -2.2532859585254688,
            -2.036443612239012,
            2.677973209644525,
            2.245389621944637,
            -0.7071490602315352,
            1.1088753180106812,
            -0.6215076387437657,
            -4.137729733579936,
            -1.199346488096879,
            -2.243167268912533,
            -1.8540535469901178,
            -4.285732864626588,
            2.361555948847859,
            0.7618946747721028,
            -0.011348065006231778
           ]
          },
          {
           "label": "PC5",
           "values": [
            -2.1986819822807395,
            -3.4207236057624923,
            1.7946749660956804,
            0.14385733056106176,
            -4.727427348051437,
            -4.509698434965895,
            0.40230974829581495,
            -3.3176780541861555,
            -2.9801591331741584,
            -2.8254281508654295,
            -0.13134385132683504,
            -2.4583309377674003,
            -3.5926398310573084,
            4.8109544315236805,
            2.8348660611771814,
            -5.883794993626953,
            -3.299266317190045,
            6.0271292069345135,
            2.307525037456015,
            -1.1693505820969852,
            5.500165793660909,
            -4.8144995483624236,
            6.7722799708764105,
            -1.82885482878226,
            2.7076499485748164,
            -0.7718019888775031,
            -0.2903403595809281,
            -2.074134307344966,
            -3.290940529390932,
            6.375264474980895,
            -3.548295042963913,
            -1.6774870880612929,
            -0.6655211958557382,
            -3.2011252233651892,
            -1.152685429517437,
            -0.8352997739245968,
            -2.0274541855906896,
            -1.7473582728069317,
            -2.2307557672494074,
            -2.724600734893871,
            -1.6693976505341337,
            -2.381830400482408,
            -0.4379787290085646,
            -1.0892043700610157,
            -0.31590043469647033,
            -2.4145756021011264,
            -1.2757110207932392,
            -2.750181355929226,
            -1.6563436513753902,
            -1.3086928732977268,
            -2.069763211803394,
            -1.2616613263646523,
            -1.5226210198105319,
            -2.1715284807392354,
            -2.0933737465823667,
            -1.5296616645422965,
            0.18184514476575547,
            -1.5353636699483515,
            -1.3801614531508128,
            -1.1096906961175983,
            -2.598695464578278,
            -1.6809563301184203,
            -4.0362468156957245,
            -0.6752241513857309,
            -1.9452891170459863,
            -0.4258451577913106,
            -0.09111352573283327,
            -2.491870173533303,
            0.08300198883926241,
            -0.25255171108631,
            3.9474067876513534,
            4.064841845316767,
            4.722490301903125,
            0.35975436076528977,
            0.5972036234040874,
            -0.7115484945486498,
            -0.465747133434014,
            -0.04862071305538371,
            -1.7519388058113101,
            -0.41041385516575557,
            0.5882687855605205,
            0.22582617288977166,
            -1.1498298929740969,
            0.6339447184428371,
            -1.7704285345775248,
            -1.2360895845676332,
            -1.6137140712376048,
            -0.319266737747897,
            -0.04533891150051591
           ]
          },
          {
           "label": "PC6",
           "values": [
            0.14634900556880534,
            0.8525055258285131,
            0.1280745749789473,
            -5.947853073717023,
            1.037163277224413,
            -5.501643169269582,
            -0.919856558117228,
            0.07711432587739178,
            2.7926605836130154,
            -1.9492676597396288,
            1.0348196424626066,
            -4.3175304072591745,
            -0.6771888452252509,
            -0.47589832375962055,
            -0.9368117154770957,
            -1.088210634060379,
            -2.56597685893928,
            -1.7661442064564155,
            0.8598278102577285,
            -1.8134586493864255,
            -1.1044761809641979,
            -3.24075440742543,
            -2.6700118706386946,
            0.7020673825095491,
            1.2254426389077897,
            -0.751354806272395,
            -0.4758498774415812,
            -2.7278498285375345,
            -1.3827720416408966,
            -2.823007788274898,
            -0.5542313687929222,
            3.897615870359375,
            -4.47014506057689,
            -1.7033287865277293,
            -0.994798228440839,
            3.179461453796357,
            -1.8333867262802577,
            0.3281325521783803,
            1.776447295717922,
            4.279869452756971,
            1.5712875331410987,
            -0.9200933218681001,
            0.9397087542568158,
            -1.0544041926263406,
            -1.5477994973497005,
            -0.26241537627070294,
            -0.03340968497821104,
            -3.980908975255105,
            -4.573152674730692,
            1.10509554458588,
            -1.2020268336594315,
            1.7201936897239796,
            2.226167870135355,
            -3.3767236618106815,
            -4.155711596964078,
            -1.8581044541046643,
            6.154617075121882,
            -1.5950876753138223,
            1.5682932151754205,
            -2.903708858369718,
            4.4543503554876684,
            -0.8948620299926274,
            -1.299202260548142,
            2.307293206848349,
            3.1952026579593142,
            6.814754689268509,
            3.7349284842008625,
            3.3964603133681925,
            3.439345043604103,
            4.174440124813055,
            -1.2789015978926939,
            -1.0891496777831688,
            -2.0076821903908453,
            6.359745735140724,
            -5.287949492228599,
            -0.3509401087175953,
            5.286498274382993,
            7.539377112395438,
            -0.7641448950055036,
            1.4193084435809278,
            -0.039747189930173954,
            3.41549934164393,
            0.773016463450154,
            -0.6411066167478571,
            -4.19559548466856,
            0.9069275677548053,
            -2.9831020284794247,
            -1.5158267356534434,
            -0.011177683967704327
           ]
          },
          {
           "label": "ph",
           "values": [
            8.02,
            6.02,
            6.95,
            5.52,
            7.53,
            5.99,
            8.1,
            7.57,
            5.68,
            6.37,
            7.71,
            6.84,
            7.27,
            8.44,
            8.22,
            7.18,
            7.57,
            8.31,
            8,
            7.1,
            7.65,
            6.47,
            8.07,
            5.68,
            7.92,
            6.9,
            5.74,
            6.06,
            6.13,
            7.9,
            6.84,
            8,
            5.78,
            5.36,
            6.66,
            5.83,
            4.05,
            5.9,
            6,
            7.92,
            4.89,
            6.84,
            5.03,
            6.53,
            5.42,
            6.25,
            5.57,
            4.6,
            3.63,
            3.61,
            4.25,
            5.12,
            4.1,
            5.13,
            3.92,
            3.98,
            4.12,
            4.11,
            4.25,
            4.56,
            5.41,
            4.38,
            6.18,
            4.23,
            5.55,
            5.45,
            4.95,
            7.85,
            5.51,
            8.07,
            8.86,
            8.38,
            7.6,
            5.03,
            5.27,
            5.05,
            4.67,
            3.57,
            4.12,
            4.89,
            6.45,
            7.92,
            6.32,
            5.37,
            3.56,
            5.8,
            4.58,
            4.92,
            4.3
           ]
          }
         ],
         "marker": {
          "color": [
           22,
           6,
           40,
           48,
           39,
           42,
           30,
           65,
           20,
           60,
           12,
           35,
           16,
           1,
           17,
           57,
           74,
           2,
           13,
           46,
           3,
           81,
           4,
           27,
           32,
           26,
           15,
           21,
           14,
           0,
           52,
           36,
           61,
           68,
           44,
           7,
           64,
           28,
           23,
           65,
           10,
           55,
           19,
           83,
           44,
           17,
           25,
           53,
           47,
           71,
           77,
           38,
           59,
           69,
           31,
           72,
           41,
           58,
           78,
           75,
           66,
           73,
           29,
           54,
           56,
           9,
           50,
           37,
           62,
           43,
           0,
           3,
           5,
           49,
           33,
           18,
           63,
           70,
           79,
           80,
           8,
           45,
           82,
           34,
           51,
           24,
           67,
           76,
           11
          ],
          "line": {
           "color": "blue",
           "width": 0.5
          },
          "showscale": false
         },
         "showupperhalf": false,
         "text": [
          8.02,
          6.02,
          6.95,
          5.52,
          7.53,
          5.99,
          8.1,
          7.57,
          5.68,
          6.37,
          7.71,
          6.84,
          7.27,
          8.44,
          8.22,
          7.18,
          7.57,
          8.31,
          8,
          7.1,
          7.65,
          6.47,
          8.07,
          5.68,
          7.92,
          6.9,
          5.74,
          6.06,
          6.13,
          7.9,
          6.84,
          8,
          5.78,
          5.36,
          6.66,
          5.83,
          4.05,
          5.9,
          6,
          7.92,
          4.89,
          6.84,
          5.03,
          6.53,
          5.42,
          6.25,
          5.57,
          4.6,
          3.63,
          3.61,
          4.25,
          5.12,
          4.1,
          5.13,
          3.92,
          3.98,
          4.12,
          4.11,
          4.25,
          4.56,
          5.41,
          4.38,
          6.18,
          4.23,
          5.55,
          5.45,
          4.95,
          7.85,
          5.51,
          8.07,
          8.86,
          8.38,
          7.6,
          5.03,
          5.27,
          5.05,
          4.67,
          3.57,
          4.12,
          4.89,
          6.45,
          7.92,
          6.32,
          5.37,
          3.56,
          5.8,
          4.58,
          4.92,
          4.3
         ],
         "type": "splom"
        }
       ],
       "layout": {
        "height": 1000,
        "template": {
         "data": {
          "bar": [
           {
            "error_x": {
             "color": "#2a3f5f"
            },
            "error_y": {
             "color": "#2a3f5f"
            },
            "marker": {
             "line": {
              "color": "#E5ECF6",
              "width": 0.5
             }
            },
            "type": "bar"
           }
          ],
          "barpolar": [
           {
            "marker": {
             "line": {
              "color": "#E5ECF6",
              "width": 0.5
             }
            },
            "type": "barpolar"
           }
          ],
          "carpet": [
           {
            "aaxis": {
             "endlinecolor": "#2a3f5f",
             "gridcolor": "white",
             "linecolor": "white",
             "minorgridcolor": "white",
             "startlinecolor": "#2a3f5f"
            },
            "baxis": {
             "endlinecolor": "#2a3f5f",
             "gridcolor": "white",
             "linecolor": "white",
             "minorgridcolor": "white",
             "startlinecolor": "#2a3f5f"
            },
            "type": "carpet"
           }
          ],
          "choropleth": [
           {
            "colorbar": {
             "outlinewidth": 0,
             "ticks": ""
            },
            "type": "choropleth"
           }
          ],
          "contour": [
           {
            "colorbar": {
             "outlinewidth": 0,
             "ticks": ""
            },
            "colorscale": [
             [
              0,
              "#0d0887"
             ],
             [
              0.1111111111111111,
              "#46039f"
             ],
             [
              0.2222222222222222,
              "#7201a8"
             ],
             [
              0.3333333333333333,
              "#9c179e"
             ],
             [
              0.4444444444444444,
              "#bd3786"
             ],
             [
              0.5555555555555556,
              "#d8576b"
             ],
             [
              0.6666666666666666,
              "#ed7953"
             ],
             [
              0.7777777777777778,
              "#fb9f3a"
             ],
             [
              0.8888888888888888,
              "#fdca26"
             ],
             [
              1,
              "#f0f921"
             ]
            ],
            "type": "contour"
           }
          ],
          "contourcarpet": [
           {
            "colorbar": {
             "outlinewidth": 0,
             "ticks": ""
            },
            "type": "contourcarpet"
           }
          ],
          "heatmap": [
           {
            "colorbar": {
             "outlinewidth": 0,
             "ticks": ""
            },
            "colorscale": [
             [
              0,
              "#0d0887"
             ],
             [
              0.1111111111111111,
              "#46039f"
             ],
             [
              0.2222222222222222,
              "#7201a8"
             ],
             [
              0.3333333333333333,
              "#9c179e"
             ],
             [
              0.4444444444444444,
              "#bd3786"
             ],
             [
              0.5555555555555556,
              "#d8576b"
             ],
             [
              0.6666666666666666,
              "#ed7953"
             ],
             [
              0.7777777777777778,
              "#fb9f3a"
             ],
             [
              0.8888888888888888,
              "#fdca26"
             ],
             [
              1,
              "#f0f921"
             ]
            ],
            "type": "heatmap"
           }
          ],
          "heatmapgl": [
           {
            "colorbar": {
             "outlinewidth": 0,
             "ticks": ""
            },
            "colorscale": [
             [
              0,
              "#0d0887"
             ],
             [
              0.1111111111111111,
              "#46039f"
             ],
             [
              0.2222222222222222,
              "#7201a8"
             ],
             [
              0.3333333333333333,
              "#9c179e"
             ],
             [
              0.4444444444444444,
              "#bd3786"
             ],
             [
              0.5555555555555556,
              "#d8576b"
             ],
             [
              0.6666666666666666,
              "#ed7953"
             ],
             [
              0.7777777777777778,
              "#fb9f3a"
             ],
             [
              0.8888888888888888,
              "#fdca26"
             ],
             [
              1,
              "#f0f921"
             ]
            ],
            "type": "heatmapgl"
           }
          ],
          "histogram": [
           {
            "marker": {
             "colorbar": {
              "outlinewidth": 0,
              "ticks": ""
             }
            },
            "type": "histogram"
           }
          ],
          "histogram2d": [
           {
            "colorbar": {
             "outlinewidth": 0,
             "ticks": ""
            },
            "colorscale": [
             [
              0,
              "#0d0887"
             ],
             [
              0.1111111111111111,
              "#46039f"
             ],
             [
              0.2222222222222222,
              "#7201a8"
             ],
             [
              0.3333333333333333,
              "#9c179e"
             ],
             [
              0.4444444444444444,
              "#bd3786"
             ],
             [
              0.5555555555555556,
              "#d8576b"
             ],
             [
              0.6666666666666666,
              "#ed7953"
             ],
             [
              0.7777777777777778,
              "#fb9f3a"
             ],
             [
              0.8888888888888888,
              "#fdca26"
             ],
             [
              1,
              "#f0f921"
             ]
            ],
            "type": "histogram2d"
           }
          ],
          "histogram2dcontour": [
           {
            "colorbar": {
             "outlinewidth": 0,
             "ticks": ""
            },
            "colorscale": [
             [
              0,
              "#0d0887"
             ],
             [
              0.1111111111111111,
              "#46039f"
             ],
             [
              0.2222222222222222,
              "#7201a8"
             ],
             [
              0.3333333333333333,
              "#9c179e"
             ],
             [
              0.4444444444444444,
              "#bd3786"
             ],
             [
              0.5555555555555556,
              "#d8576b"
             ],
             [
              0.6666666666666666,
              "#ed7953"
             ],
             [
              0.7777777777777778,
              "#fb9f3a"
             ],
             [
              0.8888888888888888,
              "#fdca26"
             ],
             [
              1,
              "#f0f921"
             ]
            ],
            "type": "histogram2dcontour"
           }
          ],
          "mesh3d": [
           {
            "colorbar": {
             "outlinewidth": 0,
             "ticks": ""
            },
            "type": "mesh3d"
           }
          ],
          "parcoords": [
           {
            "line": {
             "colorbar": {
              "outlinewidth": 0,
              "ticks": ""
             }
            },
            "type": "parcoords"
           }
          ],
          "pie": [
           {
            "automargin": true,
            "type": "pie"
           }
          ],
          "scatter": [
           {
            "marker": {
             "colorbar": {
              "outlinewidth": 0,
              "ticks": ""
             }
            },
            "type": "scatter"
           }
          ],
          "scatter3d": [
           {
            "line": {
             "colorbar": {
              "outlinewidth": 0,
              "ticks": ""
             }
            },
            "marker": {
             "colorbar": {
              "outlinewidth": 0,
              "ticks": ""
             }
            },
            "type": "scatter3d"
           }
          ],
          "scattercarpet": [
           {
            "marker": {
             "colorbar": {
              "outlinewidth": 0,
              "ticks": ""
             }
            },
            "type": "scattercarpet"
           }
          ],
          "scattergeo": [
           {
            "marker": {
             "colorbar": {
              "outlinewidth": 0,
              "ticks": ""
             }
            },
            "type": "scattergeo"
           }
          ],
          "scattergl": [
           {
            "marker": {
             "colorbar": {
              "outlinewidth": 0,
              "ticks": ""
             }
            },
            "type": "scattergl"
           }
          ],
          "scattermapbox": [
           {
            "marker": {
             "colorbar": {
              "outlinewidth": 0,
              "ticks": ""
             }
            },
            "type": "scattermapbox"
           }
          ],
          "scatterpolar": [
           {
            "marker": {
             "colorbar": {
              "outlinewidth": 0,
              "ticks": ""
             }
            },
            "type": "scatterpolar"
           }
          ],
          "scatterpolargl": [
           {
            "marker": {
             "colorbar": {
              "outlinewidth": 0,
              "ticks": ""
             }
            },
            "type": "scatterpolargl"
           }
          ],
          "scatterternary": [
           {
            "marker": {
             "colorbar": {
              "outlinewidth": 0,
              "ticks": ""
             }
            },
            "type": "scatterternary"
           }
          ],
          "surface": [
           {
            "colorbar": {
             "outlinewidth": 0,
             "ticks": ""
            },
            "colorscale": [
             [
              0,
              "#0d0887"
             ],
             [
              0.1111111111111111,
              "#46039f"
             ],
             [
              0.2222222222222222,
              "#7201a8"
             ],
             [
              0.3333333333333333,
              "#9c179e"
             ],
             [
              0.4444444444444444,
              "#bd3786"
             ],
             [
              0.5555555555555556,
              "#d8576b"
             ],
             [
              0.6666666666666666,
              "#ed7953"
             ],
             [
              0.7777777777777778,
              "#fb9f3a"
             ],
             [
              0.8888888888888888,
              "#fdca26"
             ],
             [
              1,
              "#f0f921"
             ]
            ],
            "type": "surface"
           }
          ],
          "table": [
           {
            "cells": {
             "fill": {
              "color": "#EBF0F8"
             },
             "line": {
              "color": "white"
             }
            },
            "header": {
             "fill": {
              "color": "#C8D4E3"
             },
             "line": {
              "color": "white"
             }
            },
            "type": "table"
           }
          ]
         },
         "layout": {
          "annotationdefaults": {
           "arrowcolor": "#2a3f5f",
           "arrowhead": 0,
           "arrowwidth": 1
          },
          "autotypenumbers": "strict",
          "coloraxis": {
           "colorbar": {
            "outlinewidth": 0,
            "ticks": ""
           }
          },
          "colorscale": {
           "diverging": [
            [
             0,
             "#8e0152"
            ],
            [
             0.1,
             "#c51b7d"
            ],
            [
             0.2,
             "#de77ae"
            ],
            [
             0.3,
             "#f1b6da"
            ],
            [
             0.4,
             "#fde0ef"
            ],
            [
             0.5,
             "#f7f7f7"
            ],
            [
             0.6,
             "#e6f5d0"
            ],
            [
             0.7,
             "#b8e186"
            ],
            [
             0.8,
             "#7fbc41"
            ],
            [
             0.9,
             "#4d9221"
            ],
            [
             1,
             "#276419"
            ]
           ],
           "sequential": [
            [
             0,
             "#0d0887"
            ],
            [
             0.1111111111111111,
             "#46039f"
            ],
            [
             0.2222222222222222,
             "#7201a8"
            ],
            [
             0.3333333333333333,
             "#9c179e"
            ],
            [
             0.4444444444444444,
             "#bd3786"
            ],
            [
             0.5555555555555556,
             "#d8576b"
            ],
            [
             0.6666666666666666,
             "#ed7953"
            ],
            [
             0.7777777777777778,
             "#fb9f3a"
            ],
            [
             0.8888888888888888,
             "#fdca26"
            ],
            [
             1,
             "#f0f921"
            ]
           ],
           "sequentialminus": [
            [
             0,
             "#0d0887"
            ],
            [
             0.1111111111111111,
             "#46039f"
            ],
            [
             0.2222222222222222,
             "#7201a8"
            ],
            [
             0.3333333333333333,
             "#9c179e"
            ],
            [
             0.4444444444444444,
             "#bd3786"
            ],
            [
             0.5555555555555556,
             "#d8576b"
            ],
            [
             0.6666666666666666,
             "#ed7953"
            ],
            [
             0.7777777777777778,
             "#fb9f3a"
            ],
            [
             0.8888888888888888,
             "#fdca26"
            ],
            [
             1,
             "#f0f921"
            ]
           ]
          },
          "colorway": [
           "#636efa",
           "#EF553B",
           "#00cc96",
           "#ab63fa",
           "#FFA15A",
           "#19d3f3",
           "#FF6692",
           "#B6E880",
           "#FF97FF",
           "#FECB52"
          ],
          "font": {
           "color": "#2a3f5f"
          },
          "geo": {
           "bgcolor": "white",
           "lakecolor": "white",
           "landcolor": "#E5ECF6",
           "showlakes": true,
           "showland": true,
           "subunitcolor": "white"
          },
          "hoverlabel": {
           "align": "left"
          },
          "hovermode": "closest",
          "mapbox": {
           "style": "light"
          },
          "paper_bgcolor": "white",
          "plot_bgcolor": "#E5ECF6",
          "polar": {
           "angularaxis": {
            "gridcolor": "white",
            "linecolor": "white",
            "ticks": ""
           },
           "bgcolor": "#E5ECF6",
           "radialaxis": {
            "gridcolor": "white",
            "linecolor": "white",
            "ticks": ""
           }
          },
          "scene": {
           "xaxis": {
            "backgroundcolor": "#E5ECF6",
            "gridcolor": "white",
            "gridwidth": 2,
            "linecolor": "white",
            "showbackground": true,
            "ticks": "",
            "zerolinecolor": "white"
           },
           "yaxis": {
            "backgroundcolor": "#E5ECF6",
            "gridcolor": "white",
            "gridwidth": 2,
            "linecolor": "white",
            "showbackground": true,
            "ticks": "",
            "zerolinecolor": "white"
           },
           "zaxis": {
            "backgroundcolor": "#E5ECF6",
            "gridcolor": "white",
            "gridwidth": 2,
            "linecolor": "white",
            "showbackground": true,
            "ticks": "",
            "zerolinecolor": "white"
           }
          },
          "shapedefaults": {
           "line": {
            "color": "#2a3f5f"
           }
          },
          "ternary": {
           "aaxis": {
            "gridcolor": "white",
            "linecolor": "white",
            "ticks": ""
           },
           "baxis": {
            "gridcolor": "white",
            "linecolor": "white",
            "ticks": ""
           },
           "bgcolor": "#E5ECF6",
           "caxis": {
            "gridcolor": "white",
            "linecolor": "white",
            "ticks": ""
           }
          },
          "title": {
           "x": 0.05
          },
          "xaxis": {
           "automargin": true,
           "gridcolor": "white",
           "linecolor": "white",
           "ticks": "",
           "title": {
            "standoff": 15
           },
           "zerolinecolor": "white",
           "zerolinewidth": 2
          },
          "yaxis": {
           "automargin": true,
           "gridcolor": "white",
           "linecolor": "white",
           "ticks": "",
           "title": {
            "standoff": 15
           },
           "zerolinecolor": "white",
           "zerolinewidth": 2
          }
         }
        },
        "title": {
         "text": "Soil data"
        },
        "width": 1000
       }
      },
      "text/html": [
       "<div>                            <div id=\"8f6e47b5-d3f7-47dc-9000-6d3752bcfe11\" class=\"plotly-graph-div\" style=\"height:1000px; width:1000px;\"></div>            <script type=\"text/javascript\">                require([\"plotly\"], function(Plotly) {                    window.PLOTLYENV=window.PLOTLYENV || {};                                    if (document.getElementById(\"8f6e47b5-d3f7-47dc-9000-6d3752bcfe11\")) {                    Plotly.newPlot(                        \"8f6e47b5-d3f7-47dc-9000-6d3752bcfe11\",                        [{\"diagonal\": {\"visible\": false}, \"dimensions\": [{\"label\": \"PC1\", \"values\": [-3.8812301066689665, -3.854068918395288, -2.8748356273709237, -0.9641206975720868, -3.7911689815786946, -3.013085517431774, -2.3074664231545414, -3.8468580151430545, -2.052798639563074, -3.2768751581693945, -4.003257414510132, -3.5002258471364445, -4.376309230168385, -2.0756621144310565, -2.2352822842103763, -3.3879360570086696, -2.2711609854873314, -1.702268421849418, -2.9921788670777505, -1.9590411354387556, -1.783861353189371, -1.7343225294408566, -1.3699233751793374, 2.7198090053930155, -2.5506293949689187, -2.0364236501784285, -1.2070490735116417, -0.33891588936354805, -2.0326740305917084, -1.264826445605042, -3.6964037053477647, -3.1769486749556317, -1.6330094397268884, 3.222607470243358, -1.147378753645963, 2.1351655243580105, 7.5947308876951265, -2.081320261915285, -1.9664199735384433, -2.6623882226134095, 2.7909219494024495, -2.7021338156552837, -0.8154298121331072, -2.4821448303095024, -0.7982633875368189, -3.010108408548977, -0.6426825466032242, 5.488753590665287, 7.242254563762229, 6.593929028077493, 7.655229243760196, 1.8228320996338587, 6.771277091226895, 3.4471574783790904, 7.701988115060807, 7.029766412030053, 3.5867104520609296, 6.33741167667895, 7.416805423726269, 4.48915023281673, 3.1687571546789517, 5.696610672369631, -1.6808774374929243, 4.728982561390502, -0.9616938263048322, 1.5634498323472013, -0.09888549663477751, -3.0106073774821733, 1.4956653066339556, -2.252501812592482, -0.8897838013992503, -2.814791553328663, -1.1575778728165254, 2.989193106056621, 0.6036889862854352, 4.629619505775048, 3.5549310863047876, 4.401778313846514, 6.4574220342373385, 1.4813322137803167, -0.6598891628463118, -2.3529754045074323, -1.3979107683405911, 1.9027767409136627, 6.129407873512927, -1.2103250253829163, 1.1517852556240287, 3.678646454485818, -0.05491887848828459]}, {\"label\": \"PC2\", \"values\": [1.4730501287186946, 1.3283519976853977, 0.40140257719133937, -1.2064616279400198, 0.9388661775959626, -0.6627930989441468, 1.2024132059246369, 1.0540311126301343, -6.422876327966349, 0.4277243994320862, 2.090143586192403, 0.3994251752151234, 0.9028730529197054, 1.2406173368146722, 1.2455000002737564, -1.9626665156181862, -0.07374516530079422, 1.0471700956084853, 1.5385208542967264, 0.5176348092595193, 1.2215069842908721, -0.60744382285955, 0.9423718853994145, -2.5017367002417323, 1.022665940206769, -0.8603848743991639, -1.528939441914042, 0.12323295899340819, -3.357175782755199, 0.9132422079056417, 0.7048005101755471, 1.7059037820509, -1.7223810000648456, -3.703431181739139, -3.8955358397369877, -5.002116135631261, -0.7226565379519915, 1.2773288754589798, 1.6160245643842468, 1.1732248840900943, -2.875519757389239, -0.36564287225805103, -0.18589839987855314, -0.40032928892509007, -3.9869650649056365, -0.8239528900136028, 0.30986067353293745, -2.2085198994272197, 0.17791762891705196, -1.3470862194034163, -2.1463064049296094, -8.080429550708871, 1.484982276502168, -2.06021978415908, -0.6487338173148194, -2.3588015253883854, 2.921064234721729, 1.128766753697692, 3.063529359236632, -4.510424937227296, -6.237221898347465, -6.534352140607031, -2.3741173969305507, -5.944412547276924, -5.122363913897716, -7.47045095723505, -3.805427638953267, 1.4125356389113863, 2.792495681864165, 1.436139975087389, 0.5545950626820945, 1.5297546163627465, 0.6610124745355797, 3.457452384176765, -1.211515188216592, -3.753331752151286, 3.1997684519170497, 3.3231961228256295, -0.6117438779283609, 1.3986660315474098, 0.3867596539879991, 1.275675643045273, -0.48099980564305234, -3.2504845048143913, -0.8086876810976383, 0.8367940282616784, -3.2646410000333703, 1.6076665611822105, -0.02692364725595006]}, {\"label\": \"PC3\", \"values\": [3.7368460680614857, 0.7602132315798287, 2.2917659858676136, -5.766908535460852, 1.697223500568285, -2.485279986380737, 2.096590116558106, 2.0109513334810107, -1.3680150051822015, -1.1480141722741124, 4.405431467266827, 0.8266039420785595, 3.036884488832315, 3.922714437183246, 2.801281296580719, -0.6557881227846992, -1.0350361608062395, 3.5524440526100243, 4.316895708676627, -1.5406585017684007, 3.5411534999678986, -1.042437274575248, 2.364493844372298, -2.341148692964826, 3.2799123015294227, 0.35503179248701894, -1.2052534838602127, -3.038997160084382, -1.4023444535628653, 2.4392007311656605, 1.5593319568711719, 3.041657735108512, -4.178693590464901, -1.1448963320101506, -3.374200060154422, -1.4755506461127017, -1.7499728864282194, -2.0869865362106435, -2.8707480625143544, 1.607928387948451, -2.69822509940532, -3.346279878563168, -1.496665625816044, -4.361785620573021, -4.676409674815446, -0.7954798958454441, -2.223511309024128, -0.21762742852960468, 0.8753115950882947, -0.4946362067042149, -0.33171252191116674, -0.18745482642791345, -2.073300663994423, -0.004195011800431201, -0.3439127724867107, 0.42856442982398235, -3.370897433381975, -0.20129711855357327, -1.50225258953041, -2.105100211474063, -1.3326247032290781, -0.00488787524746952, -0.6694177233382277, 0.38074732992232435, -1.8765702533487856, -1.5969801568595814, -0.20917866088332132, 1.7275172208500718, -3.650737816690002, 2.4442914895917873, 1.8623188545136669, 3.9163547013680655, 2.043149008802782, -3.5797338838572403, -6.358459227343803, -1.7036635462209995, -3.4193860992032583, -3.5705478890847373, -0.06496239332581921, -1.8205326582578945, 0.0954260374984141, 1.9020605191343445, -2.4446539074305886, -4.667448291452052, 2.1854206610332576, -2.0825045035498007, 0.649825449936118, -3.69016218432402, -0.04791741214744896]}, {\"label\": \"PC4\", \"values\": [-0.1683826723246622, -0.4654728661266199, 0.7830783142347179, -1.8224639934203697, -0.9915404058425744, 2.0197144846146946, 0.5256607789941307, -0.012830859771527614, 3.1603900808124896, -2.268072121546994, -0.48820680872197386, 1.4231103784483736, 0.9701104756595321, 1.0773775158009478, -0.7450180579946332, 2.2793436300123306, 0.3534165371431634, 1.2496797283759917, -0.264653074981426, -1.978289332103097, 1.158558248491927, 3.657398295213193, 1.4486574656114208, -3.7015510020805706, -0.5171678135731518, 1.4111359056346138, 1.797388704759185, -0.35201087047737806, 2.812029109544233, 1.078541058976141, 1.2154963351054158, -3.7064847107481262, -1.2288331268471184, 1.886782034598001, 1.1962451847620503, 0.5195929702415325, 0.047636202949330735, -4.064217423547416, -4.214210012501817, -4.4029712853646075, -3.3835570078159103, -2.6602829476217855, -0.7589152685603521, -4.253172761894071, -0.8449037228798376, 0.2924618287687914, -1.290703878355967, 1.470648303991133, -1.4431765123890252, -1.2524060417633147, -1.9643686368391204, 1.4882297874699235, 1.2823433784313292, 2.3172990543673535, -0.20154688114067817, -2.010133388422122, 1.9072196489324797, 0.12293711475612742, 1.8256304857995411, -0.4830357456115648, 1.7400154645667738, -0.1314937319788512, 3.3817374255823394, -1.853498004800507, 1.3159902538296246, -0.05639305613494968, 1.363682673580354, -4.446225531066057, 0.8164164277733991, -3.4915788975430453, 1.0084090927679024, 0.5408607412990271, 1.2850193652445117, 1.562722596430722, -2.2532859585254688, -2.036443612239012, 2.677973209644525, 2.245389621944637, -0.7071490602315352, 1.1088753180106812, -0.6215076387437657, -4.137729733579936, -1.199346488096879, -2.243167268912533, -1.8540535469901178, -4.285732864626588, 2.361555948847859, 0.7618946747721028, -0.011348065006231778]}, {\"label\": \"PC5\", \"values\": [-2.1986819822807395, -3.4207236057624923, 1.7946749660956804, 0.14385733056106176, -4.727427348051437, -4.509698434965895, 0.40230974829581495, -3.3176780541861555, -2.9801591331741584, -2.8254281508654295, -0.13134385132683504, -2.4583309377674003, -3.5926398310573084, 4.8109544315236805, 2.8348660611771814, -5.883794993626953, -3.299266317190045, 6.0271292069345135, 2.307525037456015, -1.1693505820969852, 5.500165793660909, -4.8144995483624236, 6.7722799708764105, -1.82885482878226, 2.7076499485748164, -0.7718019888775031, -0.2903403595809281, -2.074134307344966, -3.290940529390932, 6.375264474980895, -3.548295042963913, -1.6774870880612929, -0.6655211958557382, -3.2011252233651892, -1.152685429517437, -0.8352997739245968, -2.0274541855906896, -1.7473582728069317, -2.2307557672494074, -2.724600734893871, -1.6693976505341337, -2.381830400482408, -0.4379787290085646, -1.0892043700610157, -0.31590043469647033, -2.4145756021011264, -1.2757110207932392, -2.750181355929226, -1.6563436513753902, -1.3086928732977268, -2.069763211803394, -1.2616613263646523, -1.5226210198105319, -2.1715284807392354, -2.0933737465823667, -1.5296616645422965, 0.18184514476575547, -1.5353636699483515, -1.3801614531508128, -1.1096906961175983, -2.598695464578278, -1.6809563301184203, -4.0362468156957245, -0.6752241513857309, -1.9452891170459863, -0.4258451577913106, -0.09111352573283327, -2.491870173533303, 0.08300198883926241, -0.25255171108631, 3.9474067876513534, 4.064841845316767, 4.722490301903125, 0.35975436076528977, 0.5972036234040874, -0.7115484945486498, -0.465747133434014, -0.04862071305538371, -1.7519388058113101, -0.41041385516575557, 0.5882687855605205, 0.22582617288977166, -1.1498298929740969, 0.6339447184428371, -1.7704285345775248, -1.2360895845676332, -1.6137140712376048, -0.319266737747897, -0.04533891150051591]}, {\"label\": \"PC6\", \"values\": [0.14634900556880534, 0.8525055258285131, 0.1280745749789473, -5.947853073717023, 1.037163277224413, -5.501643169269582, -0.919856558117228, 0.07711432587739178, 2.7926605836130154, -1.9492676597396288, 1.0348196424626066, -4.3175304072591745, -0.6771888452252509, -0.47589832375962055, -0.9368117154770957, -1.088210634060379, -2.56597685893928, -1.7661442064564155, 0.8598278102577285, -1.8134586493864255, -1.1044761809641979, -3.24075440742543, -2.6700118706386946, 0.7020673825095491, 1.2254426389077897, -0.751354806272395, -0.4758498774415812, -2.7278498285375345, -1.3827720416408966, -2.823007788274898, -0.5542313687929222, 3.897615870359375, -4.47014506057689, -1.7033287865277293, -0.994798228440839, 3.179461453796357, -1.8333867262802577, 0.3281325521783803, 1.776447295717922, 4.279869452756971, 1.5712875331410987, -0.9200933218681001, 0.9397087542568158, -1.0544041926263406, -1.5477994973497005, -0.26241537627070294, -0.03340968497821104, -3.980908975255105, -4.573152674730692, 1.10509554458588, -1.2020268336594315, 1.7201936897239796, 2.226167870135355, -3.3767236618106815, -4.155711596964078, -1.8581044541046643, 6.154617075121882, -1.5950876753138223, 1.5682932151754205, -2.903708858369718, 4.4543503554876684, -0.8948620299926274, -1.299202260548142, 2.307293206848349, 3.1952026579593142, 6.814754689268509, 3.7349284842008625, 3.3964603133681925, 3.439345043604103, 4.174440124813055, -1.2789015978926939, -1.0891496777831688, -2.0076821903908453, 6.359745735140724, -5.287949492228599, -0.3509401087175953, 5.286498274382993, 7.539377112395438, -0.7641448950055036, 1.4193084435809278, -0.039747189930173954, 3.41549934164393, 0.773016463450154, -0.6411066167478571, -4.19559548466856, 0.9069275677548053, -2.9831020284794247, -1.5158267356534434, -0.011177683967704327]}, {\"label\": \"ph\", \"values\": [8.02, 6.02, 6.95, 5.52, 7.53, 5.99, 8.1, 7.57, 5.68, 6.37, 7.71, 6.84, 7.27, 8.44, 8.22, 7.18, 7.57, 8.31, 8.0, 7.1, 7.65, 6.47, 8.07, 5.68, 7.92, 6.9, 5.74, 6.06, 6.13, 7.9, 6.84, 8.0, 5.78, 5.36, 6.66, 5.83, 4.05, 5.9, 6.0, 7.92, 4.89, 6.84, 5.03, 6.53, 5.42, 6.25, 5.57, 4.6, 3.63, 3.61, 4.25, 5.12, 4.1, 5.13, 3.92, 3.98, 4.12, 4.11, 4.25, 4.56, 5.41, 4.38, 6.18, 4.23, 5.55, 5.45, 4.95, 7.85, 5.51, 8.07, 8.86, 8.38, 7.6, 5.03, 5.27, 5.05, 4.67, 3.57, 4.12, 4.89, 6.45, 7.92, 6.32, 5.37, 3.56, 5.8, 4.58, 4.92, 4.3]}], \"marker\": {\"color\": [22, 6, 40, 48, 39, 42, 30, 65, 20, 60, 12, 35, 16, 1, 17, 57, 74, 2, 13, 46, 3, 81, 4, 27, 32, 26, 15, 21, 14, 0, 52, 36, 61, 68, 44, 7, 64, 28, 23, 65, 10, 55, 19, 83, 44, 17, 25, 53, 47, 71, 77, 38, 59, 69, 31, 72, 41, 58, 78, 75, 66, 73, 29, 54, 56, 9, 50, 37, 62, 43, 0, 3, 5, 49, 33, 18, 63, 70, 79, 80, 8, 45, 82, 34, 51, 24, 67, 76, 11], \"line\": {\"color\": \"blue\", \"width\": 0.5}, \"showscale\": false}, \"showupperhalf\": false, \"text\": [8.02, 6.02, 6.95, 5.52, 7.53, 5.99, 8.1, 7.57, 5.68, 6.37, 7.71, 6.84, 7.27, 8.44, 8.22, 7.18, 7.57, 8.31, 8.0, 7.1, 7.65, 6.47, 8.07, 5.68, 7.92, 6.9, 5.74, 6.06, 6.13, 7.9, 6.84, 8.0, 5.78, 5.36, 6.66, 5.83, 4.05, 5.9, 6.0, 7.92, 4.89, 6.84, 5.03, 6.53, 5.42, 6.25, 5.57, 4.6, 3.63, 3.61, 4.25, 5.12, 4.1, 5.13, 3.92, 3.98, 4.12, 4.11, 4.25, 4.56, 5.41, 4.38, 6.18, 4.23, 5.55, 5.45, 4.95, 7.85, 5.51, 8.07, 8.86, 8.38, 7.6, 5.03, 5.27, 5.05, 4.67, 3.57, 4.12, 4.89, 6.45, 7.92, 6.32, 5.37, 3.56, 5.8, 4.58, 4.92, 4.3], \"type\": \"splom\"}],                        {\"height\": 1000, \"template\": {\"data\": {\"bar\": [{\"error_x\": {\"color\": \"#2a3f5f\"}, \"error_y\": {\"color\": \"#2a3f5f\"}, \"marker\": {\"line\": {\"color\": \"#E5ECF6\", \"width\": 0.5}}, \"type\": \"bar\"}], \"barpolar\": [{\"marker\": {\"line\": {\"color\": \"#E5ECF6\", \"width\": 0.5}}, \"type\": \"barpolar\"}], \"carpet\": [{\"aaxis\": {\"endlinecolor\": \"#2a3f5f\", \"gridcolor\": \"white\", \"linecolor\": \"white\", \"minorgridcolor\": \"white\", \"startlinecolor\": \"#2a3f5f\"}, \"baxis\": {\"endlinecolor\": \"#2a3f5f\", \"gridcolor\": \"white\", \"linecolor\": \"white\", \"minorgridcolor\": \"white\", \"startlinecolor\": \"#2a3f5f\"}, \"type\": \"carpet\"}], \"choropleth\": [{\"colorbar\": {\"outlinewidth\": 0, \"ticks\": \"\"}, \"type\": \"choropleth\"}], \"contour\": [{\"colorbar\": {\"outlinewidth\": 0, \"ticks\": \"\"}, \"colorscale\": [[0.0, \"#0d0887\"], [0.1111111111111111, \"#46039f\"], [0.2222222222222222, \"#7201a8\"], [0.3333333333333333, \"#9c179e\"], [0.4444444444444444, \"#bd3786\"], [0.5555555555555556, \"#d8576b\"], [0.6666666666666666, \"#ed7953\"], [0.7777777777777778, \"#fb9f3a\"], [0.8888888888888888, \"#fdca26\"], [1.0, \"#f0f921\"]], \"type\": \"contour\"}], \"contourcarpet\": [{\"colorbar\": {\"outlinewidth\": 0, \"ticks\": \"\"}, \"type\": \"contourcarpet\"}], \"heatmap\": [{\"colorbar\": {\"outlinewidth\": 0, \"ticks\": \"\"}, \"colorscale\": [[0.0, \"#0d0887\"], [0.1111111111111111, \"#46039f\"], [0.2222222222222222, \"#7201a8\"], [0.3333333333333333, \"#9c179e\"], [0.4444444444444444, \"#bd3786\"], [0.5555555555555556, \"#d8576b\"], [0.6666666666666666, \"#ed7953\"], [0.7777777777777778, \"#fb9f3a\"], [0.8888888888888888, \"#fdca26\"], [1.0, \"#f0f921\"]], \"type\": \"heatmap\"}], \"heatmapgl\": [{\"colorbar\": {\"outlinewidth\": 0, \"ticks\": \"\"}, \"colorscale\": [[0.0, \"#0d0887\"], [0.1111111111111111, \"#46039f\"], [0.2222222222222222, \"#7201a8\"], [0.3333333333333333, \"#9c179e\"], [0.4444444444444444, \"#bd3786\"], [0.5555555555555556, \"#d8576b\"], [0.6666666666666666, \"#ed7953\"], [0.7777777777777778, \"#fb9f3a\"], [0.8888888888888888, \"#fdca26\"], [1.0, \"#f0f921\"]], \"type\": \"heatmapgl\"}], \"histogram\": [{\"marker\": {\"colorbar\": {\"outlinewidth\": 0, \"ticks\": \"\"}}, \"type\": \"histogram\"}], \"histogram2d\": [{\"colorbar\": {\"outlinewidth\": 0, \"ticks\": \"\"}, \"colorscale\": [[0.0, \"#0d0887\"], [0.1111111111111111, \"#46039f\"], [0.2222222222222222, \"#7201a8\"], [0.3333333333333333, \"#9c179e\"], [0.4444444444444444, \"#bd3786\"], [0.5555555555555556, \"#d8576b\"], [0.6666666666666666, \"#ed7953\"], [0.7777777777777778, \"#fb9f3a\"], [0.8888888888888888, \"#fdca26\"], [1.0, \"#f0f921\"]], \"type\": \"histogram2d\"}], \"histogram2dcontour\": [{\"colorbar\": {\"outlinewidth\": 0, \"ticks\": \"\"}, \"colorscale\": [[0.0, \"#0d0887\"], [0.1111111111111111, \"#46039f\"], [0.2222222222222222, \"#7201a8\"], [0.3333333333333333, \"#9c179e\"], [0.4444444444444444, \"#bd3786\"], [0.5555555555555556, \"#d8576b\"], [0.6666666666666666, \"#ed7953\"], [0.7777777777777778, \"#fb9f3a\"], [0.8888888888888888, \"#fdca26\"], [1.0, \"#f0f921\"]], \"type\": \"histogram2dcontour\"}], \"mesh3d\": [{\"colorbar\": {\"outlinewidth\": 0, \"ticks\": \"\"}, \"type\": \"mesh3d\"}], \"parcoords\": [{\"line\": {\"colorbar\": {\"outlinewidth\": 0, \"ticks\": \"\"}}, \"type\": \"parcoords\"}], \"pie\": [{\"automargin\": true, \"type\": \"pie\"}], \"scatter\": [{\"marker\": {\"colorbar\": {\"outlinewidth\": 0, \"ticks\": \"\"}}, \"type\": \"scatter\"}], \"scatter3d\": [{\"line\": {\"colorbar\": {\"outlinewidth\": 0, \"ticks\": \"\"}}, \"marker\": {\"colorbar\": {\"outlinewidth\": 0, \"ticks\": \"\"}}, \"type\": \"scatter3d\"}], \"scattercarpet\": [{\"marker\": {\"colorbar\": {\"outlinewidth\": 0, \"ticks\": \"\"}}, \"type\": \"scattercarpet\"}], \"scattergeo\": [{\"marker\": {\"colorbar\": {\"outlinewidth\": 0, \"ticks\": \"\"}}, \"type\": \"scattergeo\"}], \"scattergl\": [{\"marker\": {\"colorbar\": {\"outlinewidth\": 0, \"ticks\": \"\"}}, \"type\": \"scattergl\"}], \"scattermapbox\": [{\"marker\": {\"colorbar\": {\"outlinewidth\": 0, \"ticks\": \"\"}}, \"type\": \"scattermapbox\"}], \"scatterpolar\": [{\"marker\": {\"colorbar\": {\"outlinewidth\": 0, \"ticks\": \"\"}}, \"type\": \"scatterpolar\"}], \"scatterpolargl\": [{\"marker\": {\"colorbar\": {\"outlinewidth\": 0, \"ticks\": \"\"}}, \"type\": \"scatterpolargl\"}], \"scatterternary\": [{\"marker\": {\"colorbar\": {\"outlinewidth\": 0, \"ticks\": \"\"}}, \"type\": \"scatterternary\"}], \"surface\": [{\"colorbar\": {\"outlinewidth\": 0, \"ticks\": \"\"}, \"colorscale\": [[0.0, \"#0d0887\"], [0.1111111111111111, \"#46039f\"], [0.2222222222222222, \"#7201a8\"], [0.3333333333333333, \"#9c179e\"], [0.4444444444444444, \"#bd3786\"], [0.5555555555555556, \"#d8576b\"], [0.6666666666666666, \"#ed7953\"], [0.7777777777777778, \"#fb9f3a\"], [0.8888888888888888, \"#fdca26\"], [1.0, \"#f0f921\"]], \"type\": \"surface\"}], \"table\": [{\"cells\": {\"fill\": {\"color\": \"#EBF0F8\"}, \"line\": {\"color\": \"white\"}}, \"header\": {\"fill\": {\"color\": \"#C8D4E3\"}, \"line\": {\"color\": \"white\"}}, \"type\": \"table\"}]}, \"layout\": {\"annotationdefaults\": {\"arrowcolor\": \"#2a3f5f\", \"arrowhead\": 0, \"arrowwidth\": 1}, \"autotypenumbers\": \"strict\", \"coloraxis\": {\"colorbar\": {\"outlinewidth\": 0, \"ticks\": \"\"}}, \"colorscale\": {\"diverging\": [[0, \"#8e0152\"], [0.1, \"#c51b7d\"], [0.2, \"#de77ae\"], [0.3, \"#f1b6da\"], [0.4, \"#fde0ef\"], [0.5, \"#f7f7f7\"], [0.6, \"#e6f5d0\"], [0.7, \"#b8e186\"], [0.8, \"#7fbc41\"], [0.9, \"#4d9221\"], [1, \"#276419\"]], \"sequential\": [[0.0, \"#0d0887\"], [0.1111111111111111, \"#46039f\"], [0.2222222222222222, \"#7201a8\"], [0.3333333333333333, \"#9c179e\"], [0.4444444444444444, \"#bd3786\"], [0.5555555555555556, \"#d8576b\"], [0.6666666666666666, \"#ed7953\"], [0.7777777777777778, \"#fb9f3a\"], [0.8888888888888888, \"#fdca26\"], [1.0, \"#f0f921\"]], \"sequentialminus\": [[0.0, \"#0d0887\"], [0.1111111111111111, \"#46039f\"], [0.2222222222222222, \"#7201a8\"], [0.3333333333333333, \"#9c179e\"], [0.4444444444444444, \"#bd3786\"], [0.5555555555555556, \"#d8576b\"], [0.6666666666666666, \"#ed7953\"], [0.7777777777777778, \"#fb9f3a\"], [0.8888888888888888, \"#fdca26\"], [1.0, \"#f0f921\"]]}, \"colorway\": [\"#636efa\", \"#EF553B\", \"#00cc96\", \"#ab63fa\", \"#FFA15A\", \"#19d3f3\", \"#FF6692\", \"#B6E880\", \"#FF97FF\", \"#FECB52\"], \"font\": {\"color\": \"#2a3f5f\"}, \"geo\": {\"bgcolor\": \"white\", \"lakecolor\": \"white\", \"landcolor\": \"#E5ECF6\", \"showlakes\": true, \"showland\": true, \"subunitcolor\": \"white\"}, \"hoverlabel\": {\"align\": \"left\"}, \"hovermode\": \"closest\", \"mapbox\": {\"style\": \"light\"}, \"paper_bgcolor\": \"white\", \"plot_bgcolor\": \"#E5ECF6\", \"polar\": {\"angularaxis\": {\"gridcolor\": \"white\", \"linecolor\": \"white\", \"ticks\": \"\"}, \"bgcolor\": \"#E5ECF6\", \"radialaxis\": {\"gridcolor\": \"white\", \"linecolor\": \"white\", \"ticks\": \"\"}}, \"scene\": {\"xaxis\": {\"backgroundcolor\": \"#E5ECF6\", \"gridcolor\": \"white\", \"gridwidth\": 2, \"linecolor\": \"white\", \"showbackground\": true, \"ticks\": \"\", \"zerolinecolor\": \"white\"}, \"yaxis\": {\"backgroundcolor\": \"#E5ECF6\", \"gridcolor\": \"white\", \"gridwidth\": 2, \"linecolor\": \"white\", \"showbackground\": true, \"ticks\": \"\", \"zerolinecolor\": \"white\"}, \"zaxis\": {\"backgroundcolor\": \"#E5ECF6\", \"gridcolor\": \"white\", \"gridwidth\": 2, \"linecolor\": \"white\", \"showbackground\": true, \"ticks\": \"\", \"zerolinecolor\": \"white\"}}, \"shapedefaults\": {\"line\": {\"color\": \"#2a3f5f\"}}, \"ternary\": {\"aaxis\": {\"gridcolor\": \"white\", \"linecolor\": \"white\", \"ticks\": \"\"}, \"baxis\": {\"gridcolor\": \"white\", \"linecolor\": \"white\", \"ticks\": \"\"}, \"bgcolor\": \"#E5ECF6\", \"caxis\": {\"gridcolor\": \"white\", \"linecolor\": \"white\", \"ticks\": \"\"}}, \"title\": {\"x\": 0.05}, \"xaxis\": {\"automargin\": true, \"gridcolor\": \"white\", \"linecolor\": \"white\", \"ticks\": \"\", \"title\": {\"standoff\": 15}, \"zerolinecolor\": \"white\", \"zerolinewidth\": 2}, \"yaxis\": {\"automargin\": true, \"gridcolor\": \"white\", \"linecolor\": \"white\", \"ticks\": \"\", \"title\": {\"standoff\": 15}, \"zerolinecolor\": \"white\", \"zerolinewidth\": 2}}}, \"title\": {\"text\": \"Soil data\"}, \"width\": 1000},                        {\"responsive\": true}                    ).then(function(){\n",
       "                            \n",
       "var gd = document.getElementById('8f6e47b5-d3f7-47dc-9000-6d3752bcfe11');\n",
       "var x = new MutationObserver(function (mutations, observer) {{\n",
       "        var display = window.getComputedStyle(gd).display;\n",
       "        if (!display || display === 'none') {{\n",
       "            console.log([gd, 'removed!']);\n",
       "            Plotly.purge(gd);\n",
       "            observer.disconnect();\n",
       "        }}\n",
       "}});\n",
       "\n",
       "// Listen for the removal of the full notebook cells\n",
       "var notebookContainer = gd.closest('#notebook-container');\n",
       "if (notebookContainer) {{\n",
       "    x.observe(notebookContainer, {childList: true});\n",
       "}}\n",
       "\n",
       "// Listen for the clearing of the current output cell\n",
       "var outputEl = gd.closest('.output');\n",
       "if (outputEl) {{\n",
       "    x.observe(outputEl, {childList: true});\n",
       "}}\n",
       "\n",
       "                        })                };                });            </script>        </div>"
      ]
     },
     "metadata": {},
     "output_type": "display_data"
    }
   ],
   "source": [
    "import plotly.graph_objects as go\n",
    "\n",
    "index_vals = carb.astype('category').cat.codes\n",
    "\n",
    "fig = go.Figure(data=go.Splom(\n",
    "                dimensions=[dict(label='PC1',\n",
    "                                 values=test['PC1']),\n",
    "                            dict(label='PC2',\n",
    "                                 values=test['PC2']),\n",
    "                            dict(label='PC3',\n",
    "                                 values=test['PC3']),\n",
    "                            dict(label='PC4',\n",
    "                                 values=test['PC4']),\n",
    "                           dict(label='PC5',\n",
    "                                 values=test['PC5']),\n",
    "                           dict(label='PC6',\n",
    "                                 values=test['PC6']),\n",
    "                           dict(label='ph',\n",
    "                                 values=test['ph'])],\n",
    "                diagonal_visible=False,\n",
    "                showupperhalf=False,\n",
    "                text=test['ph'],\n",
    "                marker=dict(color=index_vals,\n",
    "                            showscale=False, # colors encode categorical variables\n",
    "                            line_color='blue', line_width=0.5)\n",
    "                ))\n",
    "\n",
    "\n",
    "fig.update_layout(\n",
    "    title='Soil data',\n",
    "    width=1000,\n",
    "    height=1000,\n",
    ")\n",
    "\n",
    "fig.show()"
   ]
  },
  {
   "cell_type": "code",
   "execution_count": 53,
   "id": "square-donna",
   "metadata": {},
   "outputs": [
    {
     "data": {
      "image/png": "[encoded data removed]",
      "text/plain": [
       "<Figure size 432x288 with 1 Axes>"
      ]
     },
     "metadata": {
      "needs_background": "light"
     },
     "output_type": "display_data"
    },
    {
     "data": {
      "image/png": "[encoded data removed]",
      "text/plain": [
       "<Figure size 432x288 with 1 Axes>"
      ]
     },
     "metadata": {
      "needs_background": "light"
     },
     "output_type": "display_data"
    },
    {
     "data": {
      "image/png": "[encoded data removed]",
      "text/plain": [
       "<Figure size 432x288 with 1 Axes>"
      ]
     },
     "metadata": {
      "needs_background": "light"
     },
     "output_type": "display_data"
    },
    {
     "data": {
      "image/png": "[encoded data removed]",
      "text/plain": [
       "<Figure size 432x288 with 1 Axes>"
      ]
     },
     "metadata": {
      "needs_background": "light"
     },
     "output_type": "display_data"
    },
    {
     "data": {
      "image/png": "[encoded data removed]",
      "text/plain": [
       "<Figure size 432x288 with 1 Axes>"
      ]
     },
     "metadata": {
      "needs_background": "light"
     },
     "output_type": "display_data"
    },
    {
     "data": {
      "image/png": "[encoded data removed]",
      "text/plain": [
       "<Figure size 432x288 with 1 Axes>"
      ]
     },
     "metadata": {
      "needs_background": "light"
     },
     "output_type": "display_data"
    }
   ],
   "source": [
    "for i in range(0, se_rank):\n",
    "    plt.scatter(zu_SE[i], ph)\n",
    "    plt.xlabel(\"Learned low-rank PCA component\")\n",
    "    plt.ylabel(\"pH\")\n",
    "    plt.show()"
   ]
  },
  {
   "cell_type": "code",
   "execution_count": 30,
   "id": "athletic-variance",
   "metadata": {},
   "outputs": [
    {
     "name": "stdout",
     "output_type": "stream",
     "text": [
      "Spearman correlation between pH and 1th component: 0.0018983247115662782, p-value: 0.9859135981722774\n",
      "Spearman correlation between pH and 2th component: -0.15935712376915123, p-value: 0.13578575033505175\n",
      "Spearman correlation between pH and 3th component: -0.06639028890361166, p-value: 0.5364743397578483\n",
      "Spearman correlation between pH and 4th component: 0.5163783722134997, p-value: 2.2210548507455952e-07\n",
      "Spearman correlation between pH and 5th component: 0.3452226921652863, p-value: 0.0009221236190699046\n",
      "Spearman correlation between pH and 6th component: 0.8388467058405947, p-value: 1.0662353413227162e-24\n"
     ]
    }
   ],
   "source": [
    "for i in range(se_rank):\n",
    "    print(\"Spearman correlation between pH and {0}th component: {1}, p-value: {2}\".format(i+1, stats.spearmanr(ph, zu_SE[:,i])[0], \n",
    "                                                                              stats.spearmanr(ph, zu_SE[:,i])[1]))"
   ]
  },
  {
   "cell_type": "markdown",
   "id": "assigned-arrival",
   "metadata": {},
   "source": [
    "### Plot GGLasso/pH correlation"
   ]
  },
  {
   "cell_type": "code",
   "execution_count": 31,
   "id": "apart-illness",
   "metadata": {},
   "outputs": [],
   "source": [
    "zu_gg, gg_loadings = robust_PCA(X, gg_lowrank, inverse=True)"
   ]
  },
  {
   "cell_type": "code",
   "execution_count": 32,
   "id": "distinguished-consumer",
   "metadata": {},
   "outputs": [
    {
     "data": {
      "image/png": "[encoded data removed]",
      "text/plain": [
       "<Figure size 432x288 with 1 Axes>"
      ]
     },
     "metadata": {
      "needs_background": "light"
     },
     "output_type": "display_data"
    },
    {
     "data": {
      "image/png": "[encoded data removed]",
      "text/plain": [
       "<Figure size 432x288 with 1 Axes>"
      ]
     },
     "metadata": {
      "needs_background": "light"
     },
     "output_type": "display_data"
    },
    {
     "data": {
      "image/png": "[encoded data removed]",
      "text/plain": [
       "<Figure size 432x288 with 1 Axes>"
      ]
     },
     "metadata": {
      "needs_background": "light"
     },
     "output_type": "display_data"
    },
    {
     "data": {
      "image/png": "[encoded data removed]",
      "text/plain": [
       "<Figure size 432x288 with 1 Axes>"
      ]
     },
     "metadata": {
      "needs_background": "light"
     },
     "output_type": "display_data"
    },
    {
     "data": {
      "image/png": "[encoded data removed]",
      "text/plain": [
       "<Figure size 432x288 with 1 Axes>"
      ]
     },
     "metadata": {
      "needs_background": "light"
     },
     "output_type": "display_data"
    },
    {
     "data": {
      "image/png": "[encoded data removed]",
      "text/plain": [
       "<Figure size 432x288 with 1 Axes>"
      ]
     },
     "metadata": {
      "needs_background": "light"
     },
     "output_type": "display_data"
    }
   ],
   "source": [
    "for i in range(gg_rank):\n",
    "    plt.scatter(zu_gg[:,i], ph)\n",
    "    plt.xlabel(\"Learned low-rank PCA component\")\n",
    "    plt.ylabel(\"pH\")\n",
    "    plt.show()"
   ]
  },
  {
   "cell_type": "code",
   "execution_count": 33,
   "id": "commercial-exhibit",
   "metadata": {},
   "outputs": [
    {
     "name": "stdout",
     "output_type": "stream",
     "text": [
      "Spearman correlation between pH and 1th component: 0.0248314492539858, p-value: 0.8173276953312527\n",
      "Spearman correlation between pH and 2th component: -0.020924135161569112, p-value: 0.8456836662703912\n",
      "Spearman correlation between pH and 3th component: 0.1330019071457916, p-value: 0.2140416536199539\n",
      "Spearman correlation between pH and 4th component: 0.4011168628206414, p-value: 9.797723427046136e-05\n",
      "Spearman correlation between pH and 5th component: 0.13876498261543452, p-value: 0.1946709980922229\n",
      "Spearman correlation between pH and 6th component: -0.874174273342837, p-value: 4.955025291593207e-29\n"
     ]
    }
   ],
   "source": [
    "for i in range(0, se_rank):\n",
    "    print(\"Spearman correlation between pH and {0}th component: {1}, p-value: {2}\".format(i+1, stats.spearmanr(ph, zu_gg[:,i])[0], \n",
    "                                                                              stats.spearmanr(ph, zu_gg[:,i])[1]))"
   ]
  }
 ],
 "metadata": {
  "kernelspec": {
   "display_name": "Python 3",
   "language": "python",
   "name": "python3"
  },
  "language_info": {
   "codemirror_mode": {
    "name": "ipython",
    "version": 3
   },
   "file_extension": ".py",
   "mimetype": "text/x-python",
   "name": "python",
   "nbconvert_exporter": "python",
   "pygments_lexer": "ipython3",
   "version": "3.8.0"
  }
 },
 "nbformat": 4,
 "nbformat_minor": 5
}