{
 "cells": [
  {
   "cell_type": "code",
   "execution_count": null,
   "id": "serious-baseball",
   "metadata": {},
   "outputs": [],
   "source": [
    "import os\n",
    "os.chdir(os.path.pardir)\n",
    "\n",
    "import numpy as np\n",
    "import pandas as pd\n",
    "import pyreadr\n",
    "\n",
    "import matplotlib.pyplot as plt\n",
    "from scipy import stats\n",
    "\n",
    "from gglasso.helper.utils import sparsity, zero_replacement, normalize, log_transform\n",
    "from gglasso.problem import glasso_problem"
   ]
  },
  {
   "cell_type": "markdown",
   "id": "surrounded-india",
   "metadata": {},
   "source": [
    "### Import preprocessed soil data"
   ]
  },
  {
   "cell_type": "code",
   "execution_count": null,
   "id": "demonstrated-greeting",
   "metadata": {},
   "outputs": [],
   "source": [
    "metadata = pd.read_table('~/Public/GGLasso/data/soil/88soils_modified_metadata.txt', index_col=0)"
   ]
  },
  {
   "cell_type": "code",
   "execution_count": null,
   "id": "thousand-resistance",
   "metadata": {},
   "outputs": [],
   "source": [
    "soil = pd.read_table('~/Public/GGLasso/data/soil/soil_id_116.csv', sep=',')\n",
    "soil['SampleID'] = soil.iloc[:,0]\n",
    "soil = soil.set_index(['SampleID'])\n",
    "soil = soil.drop(['Unnamed: 0'], axis=1)\n",
    "soil.head()"
   ]
  },
  {
   "cell_type": "code",
   "execution_count": null,
   "id": "peripheral-ordinance",
   "metadata": {},
   "outputs": [],
   "source": [
    "ph = metadata[\"ph\"]\n",
    "ph = ph.reindex(soil.index)\n",
    "ph.head()"
   ]
  },
  {
   "cell_type": "code",
   "execution_count": null,
   "id": "congressional-overhead",
   "metadata": {},
   "outputs": [],
   "source": [
    "#check if any ids are missing\n",
    "ph.isnull().values.any()"
   ]
  },
  {
   "cell_type": "markdown",
   "id": "swedish-venezuela",
   "metadata": {},
   "source": [
    "### CLR-transformation of X"
   ]
  },
  {
   "cell_type": "code",
   "execution_count": null,
   "id": "killing-congress",
   "metadata": {},
   "outputs": [],
   "source": [
    "X_soil = np.array(soil)\n",
    "X_soil.shape"
   ]
  },
  {
   "cell_type": "code",
   "execution_count": null,
   "id": "stuffed-governor",
   "metadata": {},
   "outputs": [],
   "source": [
    "X = normalize(X_soil.T)\n",
    "X.shape"
   ]
  },
  {
   "cell_type": "code",
   "execution_count": null,
   "id": "accompanied-civilian",
   "metadata": {},
   "outputs": [],
   "source": [
    "X = log_transform(pd.DataFrame(X))\n",
    "X.shape"
   ]
  },
  {
   "cell_type": "markdown",
   "id": "developmental-david",
   "metadata": {},
   "source": [
    "### Calculate covariance and scale to correlations"
   ]
  },
  {
   "cell_type": "code",
   "execution_count": null,
   "id": "emotional-agent",
   "metadata": {},
   "outputs": [],
   "source": [
    "S0 = np.cov(X.values, bias = True)\n",
    "# scale covariances to correlations\n",
    "scale = np.tile(np.sqrt(np.diag(S0)),(S0.shape[0],1))\n",
    "scale = scale.T * scale\n",
    "\n",
    "S = S0 / scale\n",
    "S.shape"
   ]
  },
  {
   "cell_type": "markdown",
   "id": "mathematical-nerve",
   "metadata": {},
   "source": [
    "### GGLasso low-rank with lambda = 0.14447343, mu =  2.36, rank=6"
   ]
  },
  {
   "cell_type": "code",
   "execution_count": null,
   "id": "iraqi-highlight",
   "metadata": {},
   "outputs": [],
   "source": [
    "P = glasso_problem(S, X.shape[1], latent = True, do_scaling = False)\n",
    "\n",
    "print(P)\n",
    "\n",
    "lambda1_range = [0.14447343]\n",
    "mu1_range = [2.36]\n",
    "\n",
    "\n",
    "modelselect_params = {'lambda1_range': lambda1_range, 'mu1_range': mu1_range}\n",
    "\n",
    "P.model_selection(modelselect_params = modelselect_params, method = 'eBIC', gamma = 0.25)\n",
    "\n",
    "# regularization parameters are set to the best ones found during model selection\n",
    "print(P.reg_params)"
   ]
  },
  {
   "cell_type": "code",
   "execution_count": null,
   "id": "reasonable-livestock",
   "metadata": {},
   "outputs": [],
   "source": [
    "# gg_lowrank = pd.read_csv(\"~/Downloads/gglasso_lr.csv\", sep=',', header=None)\n",
    "gg_lowrank = P.solution.lowrank_\n",
    "gg_lowrank.shape"
   ]
  },
  {
   "cell_type": "code",
   "execution_count": null,
   "id": "molecular-awareness",
   "metadata": {},
   "outputs": [],
   "source": [
    "gg_rank = np.linalg.matrix_rank(gg_lowrank)\n",
    "print('Rank of low-rank component: {0}'.format(gg_rank))"
   ]
  },
  {
   "cell_type": "markdown",
   "id": "ordered-healing",
   "metadata": {},
   "source": [
    "### SE low-rank with lambda = 0.14447343, rank=6"
   ]
  },
  {
   "cell_type": "code",
   "execution_count": null,
   "id": "antique-grass",
   "metadata": {},
   "outputs": [],
   "source": [
    "SE_lowrank = pyreadr.read_r('~/Public/GGLasso/benchmarks/SE_lowrank.rds')\n",
    "SE_lowrank = SE_lowrank[None]\n",
    "SE_lowrank = np.array(SE_lowrank)\n",
    "SE_lowrank.shape"
   ]
  },
  {
   "cell_type": "code",
   "execution_count": null,
   "id": "laden-aaron",
   "metadata": {},
   "outputs": [],
   "source": [
    "se_rank = np.linalg.matrix_rank(SE_lowrank)\n",
    "print('Rank of low-rank component: {0}'.format(se_rank))"
   ]
  },
  {
   "cell_type": "markdown",
   "id": "pleased-municipality",
   "metadata": {},
   "source": [
    "### Compare two solutions"
   ]
  },
  {
   "cell_type": "code",
   "execution_count": null,
   "id": "functioning-gibraltar",
   "metadata": {},
   "outputs": [],
   "source": [
    "np.allclose(SE_lowrank, gg_lowrank, atol=1e-01)"
   ]
  },
  {
   "cell_type": "code",
   "execution_count": null,
   "id": "unexpected-canvas",
   "metadata": {},
   "outputs": [],
   "source": [
    "pd.DataFrame(data=(SE_lowrank-gg_lowrank))"
   ]
  },
  {
   "cell_type": "markdown",
   "id": "activated-position",
   "metadata": {},
   "source": [
    "### Robust PCA in [SE](https://github.com/zdk123/SpiecEasi/blob/ff528b23fafbd455efcca9dd356bef28951edf82/R/SparseLowRankICov.R)"
   ]
  },
  {
   "cell_type": "code",
   "execution_count": null,
   "id": "democratic-aurora",
   "metadata": {},
   "outputs": [],
   "source": [
    "# robustPCA <- function(X, L, inverse=TRUE) {\n",
    "#   Lsvd <- svd(L)\n",
    "#   ind <- Lsvd$d>1e-9\n",
    "#   if (inverse) {\n",
    "#     loadings <- diag(sqrt(1/Lsvd$d[ind])) %*% t(Lsvd$v[,ind])\n",
    "#   } else {\n",
    "#     loadings <- diag(sqrt(Lsvd$d[ind])) %*% t(Lsvd$v[,ind])\n",
    "#   }\n",
    "\n",
    "#   scores <- X %*% t(loadings)\n",
    "#   return(list(scores=scores, loadings=loadings))\n",
    "# }"
   ]
  },
  {
   "cell_type": "markdown",
   "id": "tropical-toddler",
   "metadata": {},
   "source": [
    "### Robust PCA in GGLasso"
   ]
  },
  {
   "cell_type": "code",
   "execution_count": null,
   "id": "ruled-shark",
   "metadata": {},
   "outputs": [],
   "source": [
    "def robust_PCA(X, L, inverse=True):\n",
    "    #SVD of low-rank component\n",
    "    v_tilde, sigma, v_tilde_T  = np.linalg.svd(L, full_matrices=True)\n",
    "    \n",
    "    sigma_basis = sigma[sigma > 1e-9]\n",
    "    rank = len(sigma_basis)\n",
    "    sigma_diag = np.diag(sigma_basis)\n",
    "    \n",
    "    if inverse:\n",
    "        sigma_diag = np.linalg.inv(sigma_diag)\n",
    "        \n",
    "    loading = []\n",
    "    for i in range(0, rank):\n",
    "        loading.append(v_tilde[:, i] * np.sqrt(sigma_diag[i,i]))\n",
    "\n",
    "    zu = X.T @ np.array(loading).T\n",
    "    return zu"
   ]
  },
  {
   "cell_type": "markdown",
   "id": "rotary-closer",
   "metadata": {},
   "source": [
    "### Plot SE/pH correlation"
   ]
  },
  {
   "cell_type": "code",
   "execution_count": null,
   "id": "bronze-mainland",
   "metadata": {},
   "outputs": [],
   "source": [
    "zu_SE = robust_PCA(X, SE_lowrank, inverse=True)"
   ]
  },
  {
   "cell_type": "code",
   "execution_count": null,
   "id": "juvenile-registration",
   "metadata": {},
   "outputs": [],
   "source": [
    "for i in range(0, se_rank):\n",
    "    plt.scatter(zu_SE[i], ph)\n",
    "    plt.xlabel(\"Learned low-rank PCA component\")\n",
    "    plt.ylabel(\"pH\")\n",
    "    plt.legend(loc='upper left')\n",
    "    plt.show()"
   ]
  },
  {
   "cell_type": "code",
   "execution_count": null,
   "id": "silver-values",
   "metadata": {},
   "outputs": [],
   "source": [
    "for i in range(0, se_rank):\n",
    "    print(\"Spearman correlation between pH and {0}th component: {1}, p-value: {2}\".format(i+1, stats.spearmanr(ph, zu_SE[i])[0], \n",
    "                                                                              stats.spearmanr(ph, zu_SE[i])[1]))"
   ]
  },
  {
   "cell_type": "markdown",
   "id": "dated-outline",
   "metadata": {},
   "source": [
    "### Plot GGLasso/pH correlation"
   ]
  },
  {
   "cell_type": "code",
   "execution_count": null,
   "id": "surface-layout",
   "metadata": {},
   "outputs": [],
   "source": [
    "zu_gg = robust_PCA(X, gg_lowrank, inverse=True)"
   ]
  },
  {
   "cell_type": "code",
   "execution_count": null,
   "id": "working-clearance",
   "metadata": {},
   "outputs": [],
   "source": [
    "for i in range(0, gg_rank):\n",
    "    plt.scatter(zu_SE[i], ph)\n",
    "    plt.xlabel(\"Learned low-rank PCA component\")\n",
    "    plt.ylabel(\"pH\")\n",
    "    plt.legend(loc='upper left')\n",
    "    plt.show()"
   ]
  },
  {
   "cell_type": "code",
   "execution_count": null,
   "id": "naval-hammer",
   "metadata": {},
   "outputs": [],
   "source": [
    "for i in range(0, se_rank):\n",
    "    print(\"Spearman correlation between pH and {0}th component: {1}, p-value: {2}\".format(i+1, stats.spearmanr(ph, zu_gg[i])[0], \n",
    "                                                                              stats.spearmanr(ph, zu_gg[i])[1]))"
   ]
  }
 ],
 "metadata": {
  "kernelspec": {
   "display_name": "Python 3",
   "language": "python",
   "name": "python3"
  },
  "language_info": {
   "codemirror_mode": {
    "name": "ipython",
    "version": 3
   },
   "file_extension": ".py",
   "mimetype": "text/x-python",
   "name": "python",
   "nbconvert_exporter": "python",
   "pygments_lexer": "ipython3",
   "version": "3.8.0"
  }
 },
 "nbformat": 4,
 "nbformat_minor": 5
}
