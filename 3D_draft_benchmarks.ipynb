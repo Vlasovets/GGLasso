{
 "cells": [
  {
   "cell_type": "code",
   "execution_count": 2,
   "id": "elegant-luxembourg",
   "metadata": {},
   "outputs": [],
   "source": [
    "%matplotlib inline\n",
    "\n",
    "import sys\n",
    "import time\n",
    "import numpy as np\n",
    "import pandas as pd\n",
    "import plotly.express as px\n",
    "\n",
    "from sklearn.covariance import GraphicalLasso as sk_GL\n",
    "from sklearn.covariance import empirical_covariance\n",
    "\n",
    "sys.path.append('..')\n",
    "from gglasso.solver.single_admm_solver import ADMM_SGL\n",
    "from helper.data_generation import time_varying_power_network, group_power_network, sample_covariance_matrix\n",
    "from helper.model_selection import single_grid_search\n",
    "\n",
    "\n",
    "from regain.covariance import GraphicalLasso as rg_GL"
   ]
  },
  {
   "cell_type": "markdown",
   "id": "powerful-distributor",
   "metadata": {},
   "source": [
    "# Sampling from power networks"
   ]
  },
  {
   "cell_type": "code",
   "execution_count": 3,
   "id": "knowing-difficulty",
   "metadata": {},
   "outputs": [
    {
     "data": {
      "text/plain": [
       "(5, 1000, 2000)"
      ]
     },
     "execution_count": 3,
     "metadata": {},
     "output_type": "execute_result"
    }
   ],
   "source": [
    "p = 1000\n",
    "N = 2000\n",
    "Sigma, Theta = group_power_network(p, K=5, M=2) #Theta is true precision matrix\n",
    "\n",
    "S, samples = sample_covariance_matrix(Sigma, N)\n",
    "\n",
    "S = S[0,:,:]\n",
    "Theta = Theta[0,:,:] #true precision matrix\n",
    "\n",
    "samples.shape"
   ]
  },
  {
   "cell_type": "code",
   "execution_count": 4,
   "id": "equivalent-burst",
   "metadata": {},
   "outputs": [],
   "source": [
    "lambda1 = 0.01\n",
    "Omega_0 = np.eye(p)\n",
    "\n",
    "n_iter = 50000\n",
    "tol_list = [1e-1, 1e-2, 1e-3, 1e-4, 1e-5, 1e-6, 1e-7, 1e-8]"
   ]
  },
  {
   "cell_type": "markdown",
   "id": "superb-design",
   "metadata": {},
   "source": [
    "## Model solution Z"
   ]
  },
  {
   "cell_type": "code",
   "execution_count": 5,
   "id": "extra-authentication",
   "metadata": {},
   "outputs": [
    {
     "name": "stdout",
     "output_type": "stream",
     "text": [
      "00:02:13.01\n"
     ]
    }
   ],
   "source": [
    "start = time.time()\n",
    "model = sk_GL(alpha=lambda1, max_iter=n_iter, tol = 1e-10).fit(samples[0,:,:].T)\n",
    "end = time.time()\n",
    "\n",
    "hours, rem = divmod(end-start, 3600)\n",
    "minutes, seconds = divmod(rem, 60)\n",
    "Z_time = \"{:0>2}:{:0>2}:{:05.2f}\".format(int(hours),int(minutes),seconds)\n",
    "print(Z_time)"
   ]
  },
  {
   "cell_type": "code",
   "execution_count": 6,
   "id": "later-helmet",
   "metadata": {},
   "outputs": [],
   "source": [
    "Z = model.precision_"
   ]
  },
  {
   "cell_type": "markdown",
   "id": "rational-brief",
   "metadata": {},
   "source": [
    "## Sklearn"
   ]
  },
  {
   "cell_type": "code",
   "execution_count": 7,
   "id": "decimal-empire",
   "metadata": {},
   "outputs": [],
   "source": [
    "cov_list = []\n",
    "precision_list = []\n",
    "time_list = []\n",
    "for tol in tol_list:\n",
    "    start = time.time()\n",
    "    Z_n = sk_GL(alpha=lambda1, max_iter=n_iter, tol = tol).fit(samples[0,:,:].T)\n",
    "    end = time.time()\n",
    "    \n",
    "    hours, rem = divmod(end-start, 3600)\n",
    "    minutes, seconds = divmod(rem, 60)\n",
    "    time_list.append(\"{:0>2}:{:0>2}:{:05.2f}\".format(int(hours),int(minutes),seconds))\n",
    "    \n",
    "    cov_list.append(Z_n.covariance_)\n",
    "    precision_list.append(Z_n.precision_)\n",
    "    \n",
    "accuracy_list = []\n",
    "for i in range(0, len(precision_list)):\n",
    "    accuracy = np.linalg.norm(Z - np.array(precision_list[i]))\n",
    "    accuracy_list.append(accuracy)"
   ]
  },
  {
   "cell_type": "code",
   "execution_count": 8,
   "id": "closed-quantity",
   "metadata": {},
   "outputs": [
    {
     "data": {
      "text/html": [
       "<div>\n",
       "<style scoped>\n",
       "    .dataframe tbody tr th:only-of-type {\n",
       "        vertical-align: middle;\n",
       "    }\n",
       "\n",
       "    .dataframe tbody tr th {\n",
       "        vertical-align: top;\n",
       "    }\n",
       "\n",
       "    .dataframe thead th {\n",
       "        text-align: right;\n",
       "    }\n",
       "</style>\n",
       "<table border=\"1\" class=\"dataframe\">\n",
       "  <thead>\n",
       "    <tr style=\"text-align: right;\">\n",
       "      <th></th>\n",
       "      <th>time</th>\n",
       "      <th>distance</th>\n",
       "      <th>method</th>\n",
       "      <th>tol_rate</th>\n",
       "      <th>str_tol</th>\n",
       "    </tr>\n",
       "  </thead>\n",
       "  <tbody>\n",
       "    <tr>\n",
       "      <th>0</th>\n",
       "      <td>00:00:12.43</td>\n",
       "      <td>1.796094e-02</td>\n",
       "      <td>sklearn</td>\n",
       "      <td>1.000000e-01</td>\n",
       "      <td>0.1</td>\n",
       "    </tr>\n",
       "    <tr>\n",
       "      <th>1</th>\n",
       "      <td>00:00:13.80</td>\n",
       "      <td>6.475742e-04</td>\n",
       "      <td>sklearn</td>\n",
       "      <td>1.000000e-02</td>\n",
       "      <td>0.01</td>\n",
       "    </tr>\n",
       "    <tr>\n",
       "      <th>2</th>\n",
       "      <td>00:00:11.11</td>\n",
       "      <td>6.475742e-04</td>\n",
       "      <td>sklearn</td>\n",
       "      <td>1.000000e-03</td>\n",
       "      <td>0.001</td>\n",
       "    </tr>\n",
       "    <tr>\n",
       "      <th>3</th>\n",
       "      <td>00:00:14.43</td>\n",
       "      <td>2.295058e-04</td>\n",
       "      <td>sklearn</td>\n",
       "      <td>1.000000e-04</td>\n",
       "      <td>0.0001</td>\n",
       "    </tr>\n",
       "    <tr>\n",
       "      <th>4</th>\n",
       "      <td>00:00:20.41</td>\n",
       "      <td>9.810737e-05</td>\n",
       "      <td>sklearn</td>\n",
       "      <td>1.000000e-05</td>\n",
       "      <td>1e-05</td>\n",
       "    </tr>\n",
       "    <tr>\n",
       "      <th>5</th>\n",
       "      <td>00:00:37.77</td>\n",
       "      <td>8.313535e-06</td>\n",
       "      <td>sklearn</td>\n",
       "      <td>1.000000e-06</td>\n",
       "      <td>1e-06</td>\n",
       "    </tr>\n",
       "    <tr>\n",
       "      <th>6</th>\n",
       "      <td>00:00:36.11</td>\n",
       "      <td>1.094786e-06</td>\n",
       "      <td>sklearn</td>\n",
       "      <td>1.000000e-07</td>\n",
       "      <td>1e-07</td>\n",
       "    </tr>\n",
       "    <tr>\n",
       "      <th>7</th>\n",
       "      <td>00:00:47.52</td>\n",
       "      <td>1.616953e-07</td>\n",
       "      <td>sklearn</td>\n",
       "      <td>1.000000e-08</td>\n",
       "      <td>1e-08</td>\n",
       "    </tr>\n",
       "  </tbody>\n",
       "</table>\n",
       "</div>"
      ],
      "text/plain": [
       "          time      distance   method      tol_rate str_tol\n",
       "0  00:00:12.43  1.796094e-02  sklearn  1.000000e-01     0.1\n",
       "1  00:00:13.80  6.475742e-04  sklearn  1.000000e-02    0.01\n",
       "2  00:00:11.11  6.475742e-04  sklearn  1.000000e-03   0.001\n",
       "3  00:00:14.43  2.295058e-04  sklearn  1.000000e-04  0.0001\n",
       "4  00:00:20.41  9.810737e-05  sklearn  1.000000e-05   1e-05\n",
       "5  00:00:37.77  8.313535e-06  sklearn  1.000000e-06   1e-06\n",
       "6  00:00:36.11  1.094786e-06  sklearn  1.000000e-07   1e-07\n",
       "7  00:00:47.52  1.616953e-07  sklearn  1.000000e-08   1e-08"
      ]
     },
     "execution_count": 8,
     "metadata": {},
     "output_type": "execute_result"
    }
   ],
   "source": [
    "str_tol = [str(x) for x in tol_list]\n",
    "method_list = [\"sklearn\"]*len(accuracy_list)\n",
    "\n",
    "df_sk = pd.DataFrame(data={'time': time_list, \n",
    "                           'distance': accuracy_list,\n",
    "                           'method': method_list,\n",
    "                           'tol_rate': tol_list,\n",
    "                            'str_tol': str_tol})\n",
    "df_sk"
   ]
  },
  {
   "cell_type": "markdown",
   "id": "interracial-library",
   "metadata": {},
   "source": [
    "## Regain"
   ]
  },
  {
   "cell_type": "code",
   "execution_count": 9,
   "id": "characteristic-robinson",
   "metadata": {},
   "outputs": [],
   "source": [
    "cov_list = []\n",
    "precision_list = []\n",
    "time_list = []\n",
    "for tol in tol_list:\n",
    "    start = time.time()\n",
    "    Z_n = rg_GL(alpha=lambda1, max_iter=n_iter, tol = tol).fit(samples[0,:,:].T)\n",
    "    end = time.time()\n",
    "    \n",
    "    hours, rem = divmod(end-start, 3600)\n",
    "    minutes, seconds = divmod(rem, 60)\n",
    "    time_list.append(\"{:0>2}:{:0>2}:{:05.2f}\".format(int(hours),int(minutes),seconds))\n",
    "    \n",
    "    cov_list.append(Z_n.covariance_)\n",
    "    precision_list.append(Z_n.precision_)\n",
    "\n",
    "accuracy_list = []\n",
    "for i in range(0, len(precision_list)):\n",
    "    accuracy = np.linalg.norm(Z - np.array(precision_list[i]))\n",
    "    accuracy_list.append(accuracy)"
   ]
  },
  {
   "cell_type": "code",
   "execution_count": 10,
   "id": "official-green",
   "metadata": {},
   "outputs": [
    {
     "data": {
      "text/html": [
       "<div>\n",
       "<style scoped>\n",
       "    .dataframe tbody tr th:only-of-type {\n",
       "        vertical-align: middle;\n",
       "    }\n",
       "\n",
       "    .dataframe tbody tr th {\n",
       "        vertical-align: top;\n",
       "    }\n",
       "\n",
       "    .dataframe thead th {\n",
       "        text-align: right;\n",
       "    }\n",
       "</style>\n",
       "<table border=\"1\" class=\"dataframe\">\n",
       "  <thead>\n",
       "    <tr style=\"text-align: right;\">\n",
       "      <th></th>\n",
       "      <th>time</th>\n",
       "      <th>distance</th>\n",
       "      <th>method</th>\n",
       "      <th>tol_rate</th>\n",
       "      <th>str_tol</th>\n",
       "    </tr>\n",
       "  </thead>\n",
       "  <tbody>\n",
       "    <tr>\n",
       "      <th>0</th>\n",
       "      <td>00:00:00.51</td>\n",
       "      <td>33.475813</td>\n",
       "      <td>regain</td>\n",
       "      <td>1.000000e-01</td>\n",
       "      <td>0.1</td>\n",
       "    </tr>\n",
       "    <tr>\n",
       "      <th>1</th>\n",
       "      <td>00:00:00.69</td>\n",
       "      <td>28.276730</td>\n",
       "      <td>regain</td>\n",
       "      <td>1.000000e-02</td>\n",
       "      <td>0.01</td>\n",
       "    </tr>\n",
       "    <tr>\n",
       "      <th>2</th>\n",
       "      <td>00:00:02.84</td>\n",
       "      <td>3.347774</td>\n",
       "      <td>regain</td>\n",
       "      <td>1.000000e-03</td>\n",
       "      <td>0.001</td>\n",
       "    </tr>\n",
       "    <tr>\n",
       "      <th>3</th>\n",
       "      <td>00:00:05.01</td>\n",
       "      <td>0.311195</td>\n",
       "      <td>regain</td>\n",
       "      <td>1.000000e-04</td>\n",
       "      <td>0.0001</td>\n",
       "    </tr>\n",
       "    <tr>\n",
       "      <th>4</th>\n",
       "      <td>00:00:07.15</td>\n",
       "      <td>0.055765</td>\n",
       "      <td>regain</td>\n",
       "      <td>1.000000e-05</td>\n",
       "      <td>1e-05</td>\n",
       "    </tr>\n",
       "    <tr>\n",
       "      <th>5</th>\n",
       "      <td>00:00:09.43</td>\n",
       "      <td>0.010816</td>\n",
       "      <td>regain</td>\n",
       "      <td>1.000000e-06</td>\n",
       "      <td>1e-06</td>\n",
       "    </tr>\n",
       "    <tr>\n",
       "      <th>6</th>\n",
       "      <td>00:00:10.25</td>\n",
       "      <td>0.006158</td>\n",
       "      <td>regain</td>\n",
       "      <td>1.000000e-07</td>\n",
       "      <td>1e-07</td>\n",
       "    </tr>\n",
       "    <tr>\n",
       "      <th>7</th>\n",
       "      <td>00:00:10.53</td>\n",
       "      <td>0.005353</td>\n",
       "      <td>regain</td>\n",
       "      <td>1.000000e-08</td>\n",
       "      <td>1e-08</td>\n",
       "    </tr>\n",
       "  </tbody>\n",
       "</table>\n",
       "</div>"
      ],
      "text/plain": [
       "          time   distance  method      tol_rate str_tol\n",
       "0  00:00:00.51  33.475813  regain  1.000000e-01     0.1\n",
       "1  00:00:00.69  28.276730  regain  1.000000e-02    0.01\n",
       "2  00:00:02.84   3.347774  regain  1.000000e-03   0.001\n",
       "3  00:00:05.01   0.311195  regain  1.000000e-04  0.0001\n",
       "4  00:00:07.15   0.055765  regain  1.000000e-05   1e-05\n",
       "5  00:00:09.43   0.010816  regain  1.000000e-06   1e-06\n",
       "6  00:00:10.25   0.006158  regain  1.000000e-07   1e-07\n",
       "7  00:00:10.53   0.005353  regain  1.000000e-08   1e-08"
      ]
     },
     "execution_count": 10,
     "metadata": {},
     "output_type": "execute_result"
    }
   ],
   "source": [
    "str_tol = [str(x) for x in tol_list]\n",
    "method_list = [\"regain\"]*len(accuracy_list)\n",
    "\n",
    "df_rg = pd.DataFrame(data={'time': time_list, \n",
    "                           'distance': accuracy_list,\n",
    "                           'method': method_list,\n",
    "                           'tol_rate': tol_list,\n",
    "                            'str_tol': str_tol})\n",
    "df_rg"
   ]
  },
  {
   "cell_type": "markdown",
   "id": "foreign-shock",
   "metadata": {},
   "source": [
    "## ADMM "
   ]
  },
  {
   "cell_type": "markdown",
   "id": "elementary-screw",
   "metadata": {},
   "source": [
    "We run the algorithm 2 times because on the first iteration time costly numba initialization happens."
   ]
  },
  {
   "cell_type": "code",
   "execution_count": 11,
   "id": "unnecessary-airport",
   "metadata": {},
   "outputs": [
    {
     "name": "stdout",
     "output_type": "stream",
     "text": [
      "ADMM terminated after 1 iterations with accuracy 7.201949322409392\n",
      "ADMM status: {'dual optimal', 'primal optimal'}\n",
      "ADMM terminated after 1 iterations with accuracy 7.201949322409392\n",
      "ADMM status: {'dual optimal', 'primal optimal'}\n",
      "ADMM terminated after 1 iterations with accuracy 7.201949322409392\n",
      "ADMM status: {'dual optimal', 'primal optimal'}\n",
      "ADMM terminated after 1 iterations with accuracy 7.201949322409392\n",
      "ADMM status: {'dual optimal', 'primal optimal'}\n",
      "ADMM terminated after 3 iterations with accuracy 2.8805271712760705\n",
      "ADMM status: {'dual optimal', 'primal optimal'}\n",
      "ADMM terminated after 9 iterations with accuracy 0.38510134274143787\n",
      "ADMM status: {'dual optimal', 'primal optimal'}\n",
      "ADMM terminated after 17 iterations with accuracy 0.04725723902173184\n",
      "ADMM status: {'dual optimal', 'primal optimal'}\n",
      "ADMM terminated after 23 iterations with accuracy 0.011602738425873471\n",
      "ADMM status: {'dual optimal', 'primal optimal'}\n",
      "ADMM terminated after 1 iterations with accuracy 7.201949322409392\n",
      "ADMM status: {'dual optimal', 'primal optimal'}\n",
      "ADMM terminated after 1 iterations with accuracy 7.201949322409392\n",
      "ADMM status: {'dual optimal', 'primal optimal'}\n",
      "ADMM terminated after 1 iterations with accuracy 7.201949322409392\n",
      "ADMM status: {'dual optimal', 'primal optimal'}\n",
      "ADMM terminated after 1 iterations with accuracy 7.201949322409392\n",
      "ADMM status: {'dual optimal', 'primal optimal'}\n",
      "ADMM terminated after 3 iterations with accuracy 2.8805271712760705\n",
      "ADMM status: {'dual optimal', 'primal optimal'}\n",
      "ADMM terminated after 9 iterations with accuracy 0.38510134274143787\n",
      "ADMM status: {'dual optimal', 'primal optimal'}\n",
      "ADMM terminated after 17 iterations with accuracy 0.04725723902173184\n",
      "ADMM status: {'dual optimal', 'primal optimal'}\n",
      "ADMM terminated after 23 iterations with accuracy 0.011602738425873471\n",
      "ADMM status: {'dual optimal', 'primal optimal'}\n"
     ]
    }
   ],
   "source": [
    "for i in [0,1]:\n",
    "    cov_list = []\n",
    "    precision_list = []\n",
    "    time_list = []\n",
    "    for tol in tol_list:\n",
    "        start = time.time()\n",
    "        sol, info = ADMM_SGL(S, lambda1, Omega_0, max_iter=n_iter, tol = tol, verbose = False, latent = False)\n",
    "        end = time.time()\n",
    "\n",
    "        hours, rem = divmod(end-start, 3600)\n",
    "        minutes, seconds = divmod(rem, 60)\n",
    "        time_list.append(\"{:0>2}:{:0>2}:{:05.2f}\".format(int(hours),int(minutes),seconds))\n",
    "\n",
    "        cov_list.append(sol['Omega'])\n",
    "        precision_list.append(sol['Theta'])\n",
    "\n",
    "    accuracy_list = []\n",
    "    for i in range(0, len(precision_list)):\n",
    "        accuracy = np.linalg.norm(Z - np.array(precision_list[i]))\n",
    "        accuracy_list.append(accuracy)"
   ]
  },
  {
   "cell_type": "code",
   "execution_count": 12,
   "id": "favorite-working",
   "metadata": {},
   "outputs": [
    {
     "data": {
      "text/html": [
       "<div>\n",
       "<style scoped>\n",
       "    .dataframe tbody tr th:only-of-type {\n",
       "        vertical-align: middle;\n",
       "    }\n",
       "\n",
       "    .dataframe tbody tr th {\n",
       "        vertical-align: top;\n",
       "    }\n",
       "\n",
       "    .dataframe thead th {\n",
       "        text-align: right;\n",
       "    }\n",
       "</style>\n",
       "<table border=\"1\" class=\"dataframe\">\n",
       "  <thead>\n",
       "    <tr style=\"text-align: right;\">\n",
       "      <th></th>\n",
       "      <th>time</th>\n",
       "      <th>distance</th>\n",
       "      <th>method</th>\n",
       "      <th>tol_rate</th>\n",
       "      <th>str_tol</th>\n",
       "    </tr>\n",
       "  </thead>\n",
       "  <tbody>\n",
       "    <tr>\n",
       "      <th>0</th>\n",
       "      <td>00:00:00.30</td>\n",
       "      <td>14.037935</td>\n",
       "      <td>admm</td>\n",
       "      <td>1.000000e-01</td>\n",
       "      <td>0.1</td>\n",
       "    </tr>\n",
       "    <tr>\n",
       "      <th>1</th>\n",
       "      <td>00:00:00.26</td>\n",
       "      <td>14.037935</td>\n",
       "      <td>admm</td>\n",
       "      <td>1.000000e-02</td>\n",
       "      <td>0.01</td>\n",
       "    </tr>\n",
       "    <tr>\n",
       "      <th>2</th>\n",
       "      <td>00:00:00.27</td>\n",
       "      <td>14.037935</td>\n",
       "      <td>admm</td>\n",
       "      <td>1.000000e-03</td>\n",
       "      <td>0.001</td>\n",
       "    </tr>\n",
       "    <tr>\n",
       "      <th>3</th>\n",
       "      <td>00:00:00.27</td>\n",
       "      <td>14.037935</td>\n",
       "      <td>admm</td>\n",
       "      <td>1.000000e-04</td>\n",
       "      <td>0.0001</td>\n",
       "    </tr>\n",
       "    <tr>\n",
       "      <th>4</th>\n",
       "      <td>00:00:00.60</td>\n",
       "      <td>6.810916</td>\n",
       "      <td>admm</td>\n",
       "      <td>1.000000e-05</td>\n",
       "      <td>1e-05</td>\n",
       "    </tr>\n",
       "    <tr>\n",
       "      <th>5</th>\n",
       "      <td>00:00:01.64</td>\n",
       "      <td>1.268499</td>\n",
       "      <td>admm</td>\n",
       "      <td>1.000000e-06</td>\n",
       "      <td>1e-06</td>\n",
       "    </tr>\n",
       "    <tr>\n",
       "      <th>6</th>\n",
       "      <td>00:00:02.99</td>\n",
       "      <td>0.183346</td>\n",
       "      <td>admm</td>\n",
       "      <td>1.000000e-07</td>\n",
       "      <td>1e-07</td>\n",
       "    </tr>\n",
       "    <tr>\n",
       "      <th>7</th>\n",
       "      <td>00:00:04.02</td>\n",
       "      <td>0.054975</td>\n",
       "      <td>admm</td>\n",
       "      <td>1.000000e-08</td>\n",
       "      <td>1e-08</td>\n",
       "    </tr>\n",
       "  </tbody>\n",
       "</table>\n",
       "</div>"
      ],
      "text/plain": [
       "          time   distance method      tol_rate str_tol\n",
       "0  00:00:00.30  14.037935   admm  1.000000e-01     0.1\n",
       "1  00:00:00.26  14.037935   admm  1.000000e-02    0.01\n",
       "2  00:00:00.27  14.037935   admm  1.000000e-03   0.001\n",
       "3  00:00:00.27  14.037935   admm  1.000000e-04  0.0001\n",
       "4  00:00:00.60   6.810916   admm  1.000000e-05   1e-05\n",
       "5  00:00:01.64   1.268499   admm  1.000000e-06   1e-06\n",
       "6  00:00:02.99   0.183346   admm  1.000000e-07   1e-07\n",
       "7  00:00:04.02   0.054975   admm  1.000000e-08   1e-08"
      ]
     },
     "execution_count": 12,
     "metadata": {},
     "output_type": "execute_result"
    }
   ],
   "source": [
    "str_tol = [str(x) for x in tol_list]\n",
    "method_list = [\"admm\"]*len(accuracy_list)\n",
    "\n",
    "df_admm = pd.DataFrame(data={'time': time_list, \n",
    "                           'distance': accuracy_list,\n",
    "                           'method': method_list,\n",
    "                           'tol_rate': tol_list,\n",
    "                            'str_tol': str_tol})\n",
    "df_admm"
   ]
  },
  {
   "cell_type": "markdown",
   "id": "running-canon",
   "metadata": {},
   "source": [
    "## kkt_ADMM"
   ]
  },
  {
   "cell_type": "markdown",
   "id": "rubber-dispute",
   "metadata": {},
   "source": [
    "We run the algorithm 2 times because on the first iteration time costly numba initialization happens."
   ]
  },
  {
   "cell_type": "code",
   "execution_count": 13,
   "id": "hourly-aviation",
   "metadata": {},
   "outputs": [
    {
     "name": "stdout",
     "output_type": "stream",
     "text": [
      "ADMM terminated after 2 iterations with accuracy 0.07689794887452671\n",
      "ADMM status: optimal\n",
      "ADMM terminated after 8 iterations with accuracy 0.00924577452541569\n",
      "ADMM status: optimal\n",
      "ADMM terminated after 17 iterations with accuracy 0.0008594751116571462\n",
      "ADMM status: optimal\n",
      "ADMM terminated after 27 iterations with accuracy 9.764438701732223e-05\n",
      "ADMM status: optimal\n",
      "ADMM terminated after 42 iterations with accuracy 9.390545098642266e-06\n",
      "ADMM status: optimal\n",
      "ADMM terminated after 58 iterations with accuracy 9.972106138606664e-07\n",
      "ADMM status: optimal\n",
      "ADMM terminated after 75 iterations with accuracy 9.318130929419711e-08\n",
      "ADMM status: optimal\n",
      "ADMM terminated after 92 iterations with accuracy 8.710984052941861e-09\n",
      "ADMM status: optimal\n",
      "ADMM terminated after 2 iterations with accuracy 0.07689794887452671\n",
      "ADMM status: optimal\n",
      "ADMM terminated after 8 iterations with accuracy 0.00924577452541569\n",
      "ADMM status: optimal\n",
      "ADMM terminated after 17 iterations with accuracy 0.0008594751116571462\n",
      "ADMM status: optimal\n",
      "ADMM terminated after 27 iterations with accuracy 9.764438701732223e-05\n",
      "ADMM status: optimal\n",
      "ADMM terminated after 42 iterations with accuracy 9.390545098642266e-06\n",
      "ADMM status: optimal\n",
      "ADMM terminated after 58 iterations with accuracy 9.972106138606664e-07\n",
      "ADMM status: optimal\n",
      "ADMM terminated after 75 iterations with accuracy 9.318130929419711e-08\n",
      "ADMM status: optimal\n",
      "ADMM terminated after 92 iterations with accuracy 8.710984052941861e-09\n",
      "ADMM status: optimal\n"
     ]
    }
   ],
   "source": [
    "for i in [0,1]:\n",
    "    cov_list = []\n",
    "    precision_list = []\n",
    "    time_list = []\n",
    "    for tol in tol_list:\n",
    "        start = time.time()\n",
    "        sol, info = kkt_ADMM_SGL(S, lambda1, Omega_0, max_iter=n_iter, eps_admm = tol, verbose = False, latent = False)\n",
    "        end = time.time()\n",
    "\n",
    "        hours, rem = divmod(end-start, 3600)\n",
    "        minutes, seconds = divmod(rem, 60)\n",
    "        time_list.append(\"{:0>2}:{:0>2}:{:05.2f}\".format(int(hours),int(minutes),seconds))\n",
    "\n",
    "        cov_list.append(sol['Omega'])\n",
    "        precision_list.append(sol['Theta'])\n",
    "\n",
    "    accuracy_list = []\n",
    "    for i in range(0, len(precision_list)):\n",
    "        accuracy = np.linalg.norm(Z - np.array(precision_list[i]))\n",
    "        accuracy_list.append(accuracy)"
   ]
  },
  {
   "cell_type": "code",
   "execution_count": 14,
   "id": "lyric-diving",
   "metadata": {},
   "outputs": [
    {
     "data": {
      "text/html": [
       "<div>\n",
       "<style scoped>\n",
       "    .dataframe tbody tr th:only-of-type {\n",
       "        vertical-align: middle;\n",
       "    }\n",
       "\n",
       "    .dataframe tbody tr th {\n",
       "        vertical-align: top;\n",
       "    }\n",
       "\n",
       "    .dataframe thead th {\n",
       "        text-align: right;\n",
       "    }\n",
       "</style>\n",
       "<table border=\"1\" class=\"dataframe\">\n",
       "  <thead>\n",
       "    <tr style=\"text-align: right;\">\n",
       "      <th></th>\n",
       "      <th>time</th>\n",
       "      <th>distance</th>\n",
       "      <th>method</th>\n",
       "      <th>tol_rate</th>\n",
       "      <th>str_tol</th>\n",
       "    </tr>\n",
       "  </thead>\n",
       "  <tbody>\n",
       "    <tr>\n",
       "      <th>0</th>\n",
       "      <td>00:00:00.99</td>\n",
       "      <td>9.486796</td>\n",
       "      <td>kkt_admm</td>\n",
       "      <td>1.000000e-01</td>\n",
       "      <td>0.1</td>\n",
       "    </tr>\n",
       "    <tr>\n",
       "      <th>1</th>\n",
       "      <td>00:00:02.92</td>\n",
       "      <td>1.649652</td>\n",
       "      <td>kkt_admm</td>\n",
       "      <td>1.000000e-02</td>\n",
       "      <td>0.01</td>\n",
       "    </tr>\n",
       "    <tr>\n",
       "      <th>2</th>\n",
       "      <td>00:00:05.85</td>\n",
       "      <td>0.183346</td>\n",
       "      <td>kkt_admm</td>\n",
       "      <td>1.000000e-03</td>\n",
       "      <td>0.001</td>\n",
       "    </tr>\n",
       "    <tr>\n",
       "      <th>3</th>\n",
       "      <td>00:00:09.46</td>\n",
       "      <td>0.027849</td>\n",
       "      <td>kkt_admm</td>\n",
       "      <td>1.000000e-04</td>\n",
       "      <td>0.0001</td>\n",
       "    </tr>\n",
       "    <tr>\n",
       "      <th>4</th>\n",
       "      <td>00:00:14.27</td>\n",
       "      <td>0.003112</td>\n",
       "      <td>kkt_admm</td>\n",
       "      <td>1.000000e-05</td>\n",
       "      <td>1e-05</td>\n",
       "    </tr>\n",
       "    <tr>\n",
       "      <th>5</th>\n",
       "      <td>00:00:19.71</td>\n",
       "      <td>0.000333</td>\n",
       "      <td>kkt_admm</td>\n",
       "      <td>1.000000e-06</td>\n",
       "      <td>1e-06</td>\n",
       "    </tr>\n",
       "    <tr>\n",
       "      <th>6</th>\n",
       "      <td>00:00:25.46</td>\n",
       "      <td>0.000031</td>\n",
       "      <td>kkt_admm</td>\n",
       "      <td>1.000000e-07</td>\n",
       "      <td>1e-07</td>\n",
       "    </tr>\n",
       "    <tr>\n",
       "      <th>7</th>\n",
       "      <td>00:00:33.46</td>\n",
       "      <td>0.000003</td>\n",
       "      <td>kkt_admm</td>\n",
       "      <td>1.000000e-08</td>\n",
       "      <td>1e-08</td>\n",
       "    </tr>\n",
       "  </tbody>\n",
       "</table>\n",
       "</div>"
      ],
      "text/plain": [
       "          time  distance    method      tol_rate str_tol\n",
       "0  00:00:00.99  9.486796  kkt_admm  1.000000e-01     0.1\n",
       "1  00:00:02.92  1.649652  kkt_admm  1.000000e-02    0.01\n",
       "2  00:00:05.85  0.183346  kkt_admm  1.000000e-03   0.001\n",
       "3  00:00:09.46  0.027849  kkt_admm  1.000000e-04  0.0001\n",
       "4  00:00:14.27  0.003112  kkt_admm  1.000000e-05   1e-05\n",
       "5  00:00:19.71  0.000333  kkt_admm  1.000000e-06   1e-06\n",
       "6  00:00:25.46  0.000031  kkt_admm  1.000000e-07   1e-07\n",
       "7  00:00:33.46  0.000003  kkt_admm  1.000000e-08   1e-08"
      ]
     },
     "execution_count": 14,
     "metadata": {},
     "output_type": "execute_result"
    }
   ],
   "source": [
    "str_tol = [str(x) for x in tol_list]\n",
    "method_list = [\"kkt_admm\"]*len(accuracy_list)\n",
    "\n",
    "df_kkt = pd.DataFrame(data={'time': time_list, \n",
    "                           'distance': accuracy_list,\n",
    "                           'method': method_list,\n",
    "                           'tol_rate': tol_list,\n",
    "                            'str_tol': str_tol})\n",
    "df_kkt"
   ]
  },
  {
   "cell_type": "markdown",
   "id": "radical-superior",
   "metadata": {},
   "source": [
    "## Data formating"
   ]
  },
  {
   "cell_type": "code",
   "execution_count": 15,
   "id": "sharp-bernard",
   "metadata": {},
   "outputs": [],
   "source": [
    "# Z_frame = pd.DataFrame({\"time\": Z_time, \n",
    "#                         \"distance\": 0,\n",
    "#                         \"method\":[\"Z\"], \n",
    "#                         \"tol_rate\": 1e-10,\n",
    "#                         \"str_tol\": \"1e-10\"})"
   ]
  },
  {
   "cell_type": "code",
   "execution_count": 74,
   "id": "dependent-viewer",
   "metadata": {},
   "outputs": [
    {
     "data": {
      "text/html": [
       "<div>\n",
       "<style scoped>\n",
       "    .dataframe tbody tr th:only-of-type {\n",
       "        vertical-align: middle;\n",
       "    }\n",
       "\n",
       "    .dataframe tbody tr th {\n",
       "        vertical-align: top;\n",
       "    }\n",
       "\n",
       "    .dataframe thead th {\n",
       "        text-align: right;\n",
       "    }\n",
       "</style>\n",
       "<table border=\"1\" class=\"dataframe\">\n",
       "  <thead>\n",
       "    <tr style=\"text-align: right;\">\n",
       "      <th></th>\n",
       "      <th>time</th>\n",
       "      <th>distance</th>\n",
       "      <th>method</th>\n",
       "      <th>tol_rate</th>\n",
       "      <th>str_tol</th>\n",
       "    </tr>\n",
       "  </thead>\n",
       "  <tbody>\n",
       "    <tr>\n",
       "      <th>1</th>\n",
       "      <td>00:00:00.26</td>\n",
       "      <td>1.403794e+01</td>\n",
       "      <td>admm</td>\n",
       "      <td>1.000000e-02</td>\n",
       "      <td>0.01</td>\n",
       "    </tr>\n",
       "    <tr>\n",
       "      <th>2</th>\n",
       "      <td>00:00:00.27</td>\n",
       "      <td>1.403794e+01</td>\n",
       "      <td>admm</td>\n",
       "      <td>1.000000e-03</td>\n",
       "      <td>0.001</td>\n",
       "    </tr>\n",
       "    <tr>\n",
       "      <th>3</th>\n",
       "      <td>00:00:00.27</td>\n",
       "      <td>1.403794e+01</td>\n",
       "      <td>admm</td>\n",
       "      <td>1.000000e-04</td>\n",
       "      <td>1e-04</td>\n",
       "    </tr>\n",
       "    <tr>\n",
       "      <th>0</th>\n",
       "      <td>00:00:00.30</td>\n",
       "      <td>1.403794e+01</td>\n",
       "      <td>admm</td>\n",
       "      <td>1.000000e-01</td>\n",
       "      <td>0.1</td>\n",
       "    </tr>\n",
       "    <tr>\n",
       "      <th>0</th>\n",
       "      <td>00:00:00.51</td>\n",
       "      <td>3.347581e+01</td>\n",
       "      <td>regain</td>\n",
       "      <td>1.000000e-01</td>\n",
       "      <td>0.1</td>\n",
       "    </tr>\n",
       "    <tr>\n",
       "      <th>4</th>\n",
       "      <td>00:00:00.60</td>\n",
       "      <td>6.810916e+00</td>\n",
       "      <td>admm</td>\n",
       "      <td>1.000000e-05</td>\n",
       "      <td>1e-05</td>\n",
       "    </tr>\n",
       "    <tr>\n",
       "      <th>1</th>\n",
       "      <td>00:00:00.69</td>\n",
       "      <td>2.827673e+01</td>\n",
       "      <td>regain</td>\n",
       "      <td>1.000000e-02</td>\n",
       "      <td>0.01</td>\n",
       "    </tr>\n",
       "    <tr>\n",
       "      <th>0</th>\n",
       "      <td>00:00:00.99</td>\n",
       "      <td>9.486796e+00</td>\n",
       "      <td>kkt_admm</td>\n",
       "      <td>1.000000e-01</td>\n",
       "      <td>0.1</td>\n",
       "    </tr>\n",
       "    <tr>\n",
       "      <th>5</th>\n",
       "      <td>00:00:01.64</td>\n",
       "      <td>1.268499e+00</td>\n",
       "      <td>admm</td>\n",
       "      <td>1.000000e-06</td>\n",
       "      <td>1e-06</td>\n",
       "    </tr>\n",
       "    <tr>\n",
       "      <th>2</th>\n",
       "      <td>00:00:02.84</td>\n",
       "      <td>3.347774e+00</td>\n",
       "      <td>regain</td>\n",
       "      <td>1.000000e-03</td>\n",
       "      <td>0.001</td>\n",
       "    </tr>\n",
       "    <tr>\n",
       "      <th>1</th>\n",
       "      <td>00:00:02.92</td>\n",
       "      <td>1.649652e+00</td>\n",
       "      <td>kkt_admm</td>\n",
       "      <td>1.000000e-02</td>\n",
       "      <td>0.01</td>\n",
       "    </tr>\n",
       "    <tr>\n",
       "      <th>6</th>\n",
       "      <td>00:00:02.99</td>\n",
       "      <td>1.833457e-01</td>\n",
       "      <td>admm</td>\n",
       "      <td>1.000000e-07</td>\n",
       "      <td>1e-07</td>\n",
       "    </tr>\n",
       "    <tr>\n",
       "      <th>7</th>\n",
       "      <td>00:00:04.02</td>\n",
       "      <td>5.497481e-02</td>\n",
       "      <td>admm</td>\n",
       "      <td>1.000000e-08</td>\n",
       "      <td>1e-08</td>\n",
       "    </tr>\n",
       "    <tr>\n",
       "      <th>3</th>\n",
       "      <td>00:00:05.01</td>\n",
       "      <td>3.111948e-01</td>\n",
       "      <td>regain</td>\n",
       "      <td>1.000000e-04</td>\n",
       "      <td>1e-04</td>\n",
       "    </tr>\n",
       "    <tr>\n",
       "      <th>2</th>\n",
       "      <td>00:00:05.85</td>\n",
       "      <td>1.833457e-01</td>\n",
       "      <td>kkt_admm</td>\n",
       "      <td>1.000000e-03</td>\n",
       "      <td>0.001</td>\n",
       "    </tr>\n",
       "    <tr>\n",
       "      <th>4</th>\n",
       "      <td>00:00:07.15</td>\n",
       "      <td>5.576538e-02</td>\n",
       "      <td>regain</td>\n",
       "      <td>1.000000e-05</td>\n",
       "      <td>1e-05</td>\n",
       "    </tr>\n",
       "    <tr>\n",
       "      <th>5</th>\n",
       "      <td>00:00:09.43</td>\n",
       "      <td>1.081589e-02</td>\n",
       "      <td>regain</td>\n",
       "      <td>1.000000e-06</td>\n",
       "      <td>1e-06</td>\n",
       "    </tr>\n",
       "    <tr>\n",
       "      <th>3</th>\n",
       "      <td>00:00:09.46</td>\n",
       "      <td>2.784927e-02</td>\n",
       "      <td>kkt_admm</td>\n",
       "      <td>1.000000e-04</td>\n",
       "      <td>1e-04</td>\n",
       "    </tr>\n",
       "    <tr>\n",
       "      <th>6</th>\n",
       "      <td>00:00:10.25</td>\n",
       "      <td>6.157905e-03</td>\n",
       "      <td>regain</td>\n",
       "      <td>1.000000e-07</td>\n",
       "      <td>1e-07</td>\n",
       "    </tr>\n",
       "    <tr>\n",
       "      <th>7</th>\n",
       "      <td>00:00:10.53</td>\n",
       "      <td>5.352668e-03</td>\n",
       "      <td>regain</td>\n",
       "      <td>1.000000e-08</td>\n",
       "      <td>1e-08</td>\n",
       "    </tr>\n",
       "    <tr>\n",
       "      <th>2</th>\n",
       "      <td>00:00:11.11</td>\n",
       "      <td>6.475742e-04</td>\n",
       "      <td>sklearn</td>\n",
       "      <td>1.000000e-03</td>\n",
       "      <td>0.001</td>\n",
       "    </tr>\n",
       "    <tr>\n",
       "      <th>0</th>\n",
       "      <td>00:00:12.43</td>\n",
       "      <td>1.796094e-02</td>\n",
       "      <td>sklearn</td>\n",
       "      <td>1.000000e-01</td>\n",
       "      <td>0.1</td>\n",
       "    </tr>\n",
       "    <tr>\n",
       "      <th>1</th>\n",
       "      <td>00:00:13.80</td>\n",
       "      <td>6.475742e-04</td>\n",
       "      <td>sklearn</td>\n",
       "      <td>1.000000e-02</td>\n",
       "      <td>0.01</td>\n",
       "    </tr>\n",
       "    <tr>\n",
       "      <th>4</th>\n",
       "      <td>00:00:14.27</td>\n",
       "      <td>3.111564e-03</td>\n",
       "      <td>kkt_admm</td>\n",
       "      <td>1.000000e-05</td>\n",
       "      <td>1e-05</td>\n",
       "    </tr>\n",
       "    <tr>\n",
       "      <th>3</th>\n",
       "      <td>00:00:14.43</td>\n",
       "      <td>2.295058e-04</td>\n",
       "      <td>sklearn</td>\n",
       "      <td>1.000000e-04</td>\n",
       "      <td>1e-04</td>\n",
       "    </tr>\n",
       "    <tr>\n",
       "      <th>5</th>\n",
       "      <td>00:00:19.71</td>\n",
       "      <td>3.329562e-04</td>\n",
       "      <td>kkt_admm</td>\n",
       "      <td>1.000000e-06</td>\n",
       "      <td>1e-06</td>\n",
       "    </tr>\n",
       "    <tr>\n",
       "      <th>4</th>\n",
       "      <td>00:00:20.41</td>\n",
       "      <td>9.810737e-05</td>\n",
       "      <td>sklearn</td>\n",
       "      <td>1.000000e-05</td>\n",
       "      <td>1e-05</td>\n",
       "    </tr>\n",
       "    <tr>\n",
       "      <th>6</th>\n",
       "      <td>00:00:25.46</td>\n",
       "      <td>3.112095e-05</td>\n",
       "      <td>kkt_admm</td>\n",
       "      <td>1.000000e-07</td>\n",
       "      <td>1e-07</td>\n",
       "    </tr>\n",
       "    <tr>\n",
       "      <th>7</th>\n",
       "      <td>00:00:33.46</td>\n",
       "      <td>2.909373e-06</td>\n",
       "      <td>kkt_admm</td>\n",
       "      <td>1.000000e-08</td>\n",
       "      <td>1e-08</td>\n",
       "    </tr>\n",
       "    <tr>\n",
       "      <th>6</th>\n",
       "      <td>00:00:36.11</td>\n",
       "      <td>1.094786e-06</td>\n",
       "      <td>sklearn</td>\n",
       "      <td>1.000000e-07</td>\n",
       "      <td>1e-07</td>\n",
       "    </tr>\n",
       "    <tr>\n",
       "      <th>5</th>\n",
       "      <td>00:00:37.77</td>\n",
       "      <td>8.313535e-06</td>\n",
       "      <td>sklearn</td>\n",
       "      <td>1.000000e-06</td>\n",
       "      <td>1e-06</td>\n",
       "    </tr>\n",
       "    <tr>\n",
       "      <th>7</th>\n",
       "      <td>00:00:47.52</td>\n",
       "      <td>1.616953e-07</td>\n",
       "      <td>sklearn</td>\n",
       "      <td>1.000000e-08</td>\n",
       "      <td>1e-08</td>\n",
       "    </tr>\n",
       "  </tbody>\n",
       "</table>\n",
       "</div>"
      ],
      "text/plain": [
       "          time      distance    method      tol_rate str_tol\n",
       "1  00:00:00.26  1.403794e+01      admm  1.000000e-02    0.01\n",
       "2  00:00:00.27  1.403794e+01      admm  1.000000e-03   0.001\n",
       "3  00:00:00.27  1.403794e+01      admm  1.000000e-04   1e-04\n",
       "0  00:00:00.30  1.403794e+01      admm  1.000000e-01     0.1\n",
       "0  00:00:00.51  3.347581e+01    regain  1.000000e-01     0.1\n",
       "4  00:00:00.60  6.810916e+00      admm  1.000000e-05   1e-05\n",
       "1  00:00:00.69  2.827673e+01    regain  1.000000e-02    0.01\n",
       "0  00:00:00.99  9.486796e+00  kkt_admm  1.000000e-01     0.1\n",
       "5  00:00:01.64  1.268499e+00      admm  1.000000e-06   1e-06\n",
       "2  00:00:02.84  3.347774e+00    regain  1.000000e-03   0.001\n",
       "1  00:00:02.92  1.649652e+00  kkt_admm  1.000000e-02    0.01\n",
       "6  00:00:02.99  1.833457e-01      admm  1.000000e-07   1e-07\n",
       "7  00:00:04.02  5.497481e-02      admm  1.000000e-08   1e-08\n",
       "3  00:00:05.01  3.111948e-01    regain  1.000000e-04   1e-04\n",
       "2  00:00:05.85  1.833457e-01  kkt_admm  1.000000e-03   0.001\n",
       "4  00:00:07.15  5.576538e-02    regain  1.000000e-05   1e-05\n",
       "5  00:00:09.43  1.081589e-02    regain  1.000000e-06   1e-06\n",
       "3  00:00:09.46  2.784927e-02  kkt_admm  1.000000e-04   1e-04\n",
       "6  00:00:10.25  6.157905e-03    regain  1.000000e-07   1e-07\n",
       "7  00:00:10.53  5.352668e-03    regain  1.000000e-08   1e-08\n",
       "2  00:00:11.11  6.475742e-04   sklearn  1.000000e-03   0.001\n",
       "0  00:00:12.43  1.796094e-02   sklearn  1.000000e-01     0.1\n",
       "1  00:00:13.80  6.475742e-04   sklearn  1.000000e-02    0.01\n",
       "4  00:00:14.27  3.111564e-03  kkt_admm  1.000000e-05   1e-05\n",
       "3  00:00:14.43  2.295058e-04   sklearn  1.000000e-04   1e-04\n",
       "5  00:00:19.71  3.329562e-04  kkt_admm  1.000000e-06   1e-06\n",
       "4  00:00:20.41  9.810737e-05   sklearn  1.000000e-05   1e-05\n",
       "6  00:00:25.46  3.112095e-05  kkt_admm  1.000000e-07   1e-07\n",
       "7  00:00:33.46  2.909373e-06  kkt_admm  1.000000e-08   1e-08\n",
       "6  00:00:36.11  1.094786e-06   sklearn  1.000000e-07   1e-07\n",
       "5  00:00:37.77  8.313535e-06   sklearn  1.000000e-06   1e-06\n",
       "7  00:00:47.52  1.616953e-07   sklearn  1.000000e-08   1e-08"
      ]
     },
     "execution_count": 74,
     "metadata": {},
     "output_type": "execute_result"
    }
   ],
   "source": [
    "# frames = [df_sk, df_rg, df_admm, df_kkt, Z_frame]\n",
    "frames = [df_sk, df_rg, df_admm, df_kkt]\n",
    "\n",
    "df = pd.concat(frames)\n",
    "\n",
    "df[\"str_tol\"].replace({\"0.0001\": \"1e-04\"}, inplace=True)\n",
    "df.sort_values(by=['time', 'distance'])"
   ]
  },
  {
   "cell_type": "code",
   "execution_count": 75,
   "id": "charged-singapore",
   "metadata": {},
   "outputs": [],
   "source": [
    "dist = np.array(df['distance'])\n",
    "df['log_distance'] = np.log(dist)"
   ]
  },
  {
   "cell_type": "code",
   "execution_count": 76,
   "id": "parental-military",
   "metadata": {},
   "outputs": [
    {
     "data": {
      "text/html": [
       "<div>\n",
       "<style scoped>\n",
       "    .dataframe tbody tr th:only-of-type {\n",
       "        vertical-align: middle;\n",
       "    }\n",
       "\n",
       "    .dataframe tbody tr th {\n",
       "        vertical-align: top;\n",
       "    }\n",
       "\n",
       "    .dataframe thead th {\n",
       "        text-align: right;\n",
       "    }\n",
       "</style>\n",
       "<table border=\"1\" class=\"dataframe\">\n",
       "  <thead>\n",
       "    <tr style=\"text-align: right;\">\n",
       "      <th></th>\n",
       "      <th>time</th>\n",
       "      <th>distance</th>\n",
       "      <th>method</th>\n",
       "      <th>tol_rate</th>\n",
       "      <th>str_tol</th>\n",
       "      <th>log_distance</th>\n",
       "    </tr>\n",
       "  </thead>\n",
       "  <tbody>\n",
       "    <tr>\n",
       "      <th>0</th>\n",
       "      <td>00:00:00.51</td>\n",
       "      <td>3.347581e+01</td>\n",
       "      <td>regain</td>\n",
       "      <td>1.000000e-01</td>\n",
       "      <td>0.1</td>\n",
       "      <td>3.510823</td>\n",
       "    </tr>\n",
       "    <tr>\n",
       "      <th>1</th>\n",
       "      <td>00:00:00.69</td>\n",
       "      <td>2.827673e+01</td>\n",
       "      <td>regain</td>\n",
       "      <td>1.000000e-02</td>\n",
       "      <td>0.01</td>\n",
       "      <td>3.342039</td>\n",
       "    </tr>\n",
       "    <tr>\n",
       "      <th>1</th>\n",
       "      <td>00:00:00.26</td>\n",
       "      <td>1.403794e+01</td>\n",
       "      <td>admm</td>\n",
       "      <td>1.000000e-02</td>\n",
       "      <td>0.01</td>\n",
       "      <td>2.641763</td>\n",
       "    </tr>\n",
       "    <tr>\n",
       "      <th>3</th>\n",
       "      <td>00:00:00.27</td>\n",
       "      <td>1.403794e+01</td>\n",
       "      <td>admm</td>\n",
       "      <td>1.000000e-04</td>\n",
       "      <td>1e-04</td>\n",
       "      <td>2.641763</td>\n",
       "    </tr>\n",
       "    <tr>\n",
       "      <th>0</th>\n",
       "      <td>00:00:00.30</td>\n",
       "      <td>1.403794e+01</td>\n",
       "      <td>admm</td>\n",
       "      <td>1.000000e-01</td>\n",
       "      <td>0.1</td>\n",
       "      <td>2.641763</td>\n",
       "    </tr>\n",
       "    <tr>\n",
       "      <th>2</th>\n",
       "      <td>00:00:00.27</td>\n",
       "      <td>1.403794e+01</td>\n",
       "      <td>admm</td>\n",
       "      <td>1.000000e-03</td>\n",
       "      <td>0.001</td>\n",
       "      <td>2.641763</td>\n",
       "    </tr>\n",
       "    <tr>\n",
       "      <th>0</th>\n",
       "      <td>00:00:00.99</td>\n",
       "      <td>9.486796e+00</td>\n",
       "      <td>kkt_admm</td>\n",
       "      <td>1.000000e-01</td>\n",
       "      <td>0.1</td>\n",
       "      <td>2.249901</td>\n",
       "    </tr>\n",
       "    <tr>\n",
       "      <th>4</th>\n",
       "      <td>00:00:00.60</td>\n",
       "      <td>6.810916e+00</td>\n",
       "      <td>admm</td>\n",
       "      <td>1.000000e-05</td>\n",
       "      <td>1e-05</td>\n",
       "      <td>1.918527</td>\n",
       "    </tr>\n",
       "    <tr>\n",
       "      <th>2</th>\n",
       "      <td>00:00:02.84</td>\n",
       "      <td>3.347774e+00</td>\n",
       "      <td>regain</td>\n",
       "      <td>1.000000e-03</td>\n",
       "      <td>0.001</td>\n",
       "      <td>1.208296</td>\n",
       "    </tr>\n",
       "    <tr>\n",
       "      <th>1</th>\n",
       "      <td>00:00:02.92</td>\n",
       "      <td>1.649652e+00</td>\n",
       "      <td>kkt_admm</td>\n",
       "      <td>1.000000e-02</td>\n",
       "      <td>0.01</td>\n",
       "      <td>0.500564</td>\n",
       "    </tr>\n",
       "    <tr>\n",
       "      <th>5</th>\n",
       "      <td>00:00:01.64</td>\n",
       "      <td>1.268499e+00</td>\n",
       "      <td>admm</td>\n",
       "      <td>1.000000e-06</td>\n",
       "      <td>1e-06</td>\n",
       "      <td>0.237834</td>\n",
       "    </tr>\n",
       "    <tr>\n",
       "      <th>3</th>\n",
       "      <td>00:00:05.01</td>\n",
       "      <td>3.111948e-01</td>\n",
       "      <td>regain</td>\n",
       "      <td>1.000000e-04</td>\n",
       "      <td>1e-04</td>\n",
       "      <td>-1.167336</td>\n",
       "    </tr>\n",
       "    <tr>\n",
       "      <th>6</th>\n",
       "      <td>00:00:02.99</td>\n",
       "      <td>1.833457e-01</td>\n",
       "      <td>admm</td>\n",
       "      <td>1.000000e-07</td>\n",
       "      <td>1e-07</td>\n",
       "      <td>-1.696382</td>\n",
       "    </tr>\n",
       "    <tr>\n",
       "      <th>2</th>\n",
       "      <td>00:00:05.85</td>\n",
       "      <td>1.833457e-01</td>\n",
       "      <td>kkt_admm</td>\n",
       "      <td>1.000000e-03</td>\n",
       "      <td>0.001</td>\n",
       "      <td>-1.696382</td>\n",
       "    </tr>\n",
       "    <tr>\n",
       "      <th>4</th>\n",
       "      <td>00:00:07.15</td>\n",
       "      <td>5.576538e-02</td>\n",
       "      <td>regain</td>\n",
       "      <td>1.000000e-05</td>\n",
       "      <td>1e-05</td>\n",
       "      <td>-2.886602</td>\n",
       "    </tr>\n",
       "    <tr>\n",
       "      <th>7</th>\n",
       "      <td>00:00:04.02</td>\n",
       "      <td>5.497481e-02</td>\n",
       "      <td>admm</td>\n",
       "      <td>1.000000e-08</td>\n",
       "      <td>1e-08</td>\n",
       "      <td>-2.900880</td>\n",
       "    </tr>\n",
       "    <tr>\n",
       "      <th>3</th>\n",
       "      <td>00:00:09.46</td>\n",
       "      <td>2.784927e-02</td>\n",
       "      <td>kkt_admm</td>\n",
       "      <td>1.000000e-04</td>\n",
       "      <td>1e-04</td>\n",
       "      <td>-3.580948</td>\n",
       "    </tr>\n",
       "    <tr>\n",
       "      <th>0</th>\n",
       "      <td>00:00:12.43</td>\n",
       "      <td>1.796094e-02</td>\n",
       "      <td>sklearn</td>\n",
       "      <td>1.000000e-01</td>\n",
       "      <td>0.1</td>\n",
       "      <td>-4.019556</td>\n",
       "    </tr>\n",
       "    <tr>\n",
       "      <th>5</th>\n",
       "      <td>00:00:09.43</td>\n",
       "      <td>1.081589e-02</td>\n",
       "      <td>regain</td>\n",
       "      <td>1.000000e-06</td>\n",
       "      <td>1e-06</td>\n",
       "      <td>-4.526739</td>\n",
       "    </tr>\n",
       "    <tr>\n",
       "      <th>6</th>\n",
       "      <td>00:00:10.25</td>\n",
       "      <td>6.157905e-03</td>\n",
       "      <td>regain</td>\n",
       "      <td>1.000000e-07</td>\n",
       "      <td>1e-07</td>\n",
       "      <td>-5.090019</td>\n",
       "    </tr>\n",
       "    <tr>\n",
       "      <th>7</th>\n",
       "      <td>00:00:10.53</td>\n",
       "      <td>5.352668e-03</td>\n",
       "      <td>regain</td>\n",
       "      <td>1.000000e-08</td>\n",
       "      <td>1e-08</td>\n",
       "      <td>-5.230160</td>\n",
       "    </tr>\n",
       "    <tr>\n",
       "      <th>4</th>\n",
       "      <td>00:00:14.27</td>\n",
       "      <td>3.111564e-03</td>\n",
       "      <td>kkt_admm</td>\n",
       "      <td>1.000000e-05</td>\n",
       "      <td>1e-05</td>\n",
       "      <td>-5.772630</td>\n",
       "    </tr>\n",
       "    <tr>\n",
       "      <th>1</th>\n",
       "      <td>00:00:13.80</td>\n",
       "      <td>6.475742e-04</td>\n",
       "      <td>sklearn</td>\n",
       "      <td>1.000000e-02</td>\n",
       "      <td>0.01</td>\n",
       "      <td>-7.342277</td>\n",
       "    </tr>\n",
       "    <tr>\n",
       "      <th>2</th>\n",
       "      <td>00:00:11.11</td>\n",
       "      <td>6.475742e-04</td>\n",
       "      <td>sklearn</td>\n",
       "      <td>1.000000e-03</td>\n",
       "      <td>0.001</td>\n",
       "      <td>-7.342277</td>\n",
       "    </tr>\n",
       "    <tr>\n",
       "      <th>5</th>\n",
       "      <td>00:00:19.71</td>\n",
       "      <td>3.329562e-04</td>\n",
       "      <td>kkt_admm</td>\n",
       "      <td>1.000000e-06</td>\n",
       "      <td>1e-06</td>\n",
       "      <td>-8.007500</td>\n",
       "    </tr>\n",
       "    <tr>\n",
       "      <th>3</th>\n",
       "      <td>00:00:14.43</td>\n",
       "      <td>2.295058e-04</td>\n",
       "      <td>sklearn</td>\n",
       "      <td>1.000000e-04</td>\n",
       "      <td>1e-04</td>\n",
       "      <td>-8.379582</td>\n",
       "    </tr>\n",
       "    <tr>\n",
       "      <th>4</th>\n",
       "      <td>00:00:20.41</td>\n",
       "      <td>9.810737e-05</td>\n",
       "      <td>sklearn</td>\n",
       "      <td>1.000000e-05</td>\n",
       "      <td>1e-05</td>\n",
       "      <td>-9.229448</td>\n",
       "    </tr>\n",
       "    <tr>\n",
       "      <th>6</th>\n",
       "      <td>00:00:25.46</td>\n",
       "      <td>3.112095e-05</td>\n",
       "      <td>kkt_admm</td>\n",
       "      <td>1.000000e-07</td>\n",
       "      <td>1e-07</td>\n",
       "      <td>-10.377629</td>\n",
       "    </tr>\n",
       "    <tr>\n",
       "      <th>5</th>\n",
       "      <td>00:00:37.77</td>\n",
       "      <td>8.313535e-06</td>\n",
       "      <td>sklearn</td>\n",
       "      <td>1.000000e-06</td>\n",
       "      <td>1e-06</td>\n",
       "      <td>-11.697626</td>\n",
       "    </tr>\n",
       "    <tr>\n",
       "      <th>7</th>\n",
       "      <td>00:00:33.46</td>\n",
       "      <td>2.909373e-06</td>\n",
       "      <td>kkt_admm</td>\n",
       "      <td>1.000000e-08</td>\n",
       "      <td>1e-08</td>\n",
       "      <td>-12.747573</td>\n",
       "    </tr>\n",
       "    <tr>\n",
       "      <th>6</th>\n",
       "      <td>00:00:36.11</td>\n",
       "      <td>1.094786e-06</td>\n",
       "      <td>sklearn</td>\n",
       "      <td>1.000000e-07</td>\n",
       "      <td>1e-07</td>\n",
       "      <td>-13.724952</td>\n",
       "    </tr>\n",
       "    <tr>\n",
       "      <th>7</th>\n",
       "      <td>00:00:47.52</td>\n",
       "      <td>1.616953e-07</td>\n",
       "      <td>sklearn</td>\n",
       "      <td>1.000000e-08</td>\n",
       "      <td>1e-08</td>\n",
       "      <td>-15.637552</td>\n",
       "    </tr>\n",
       "  </tbody>\n",
       "</table>\n",
       "</div>"
      ],
      "text/plain": [
       "          time      distance    method      tol_rate str_tol  log_distance\n",
       "0  00:00:00.51  3.347581e+01    regain  1.000000e-01     0.1      3.510823\n",
       "1  00:00:00.69  2.827673e+01    regain  1.000000e-02    0.01      3.342039\n",
       "1  00:00:00.26  1.403794e+01      admm  1.000000e-02    0.01      2.641763\n",
       "3  00:00:00.27  1.403794e+01      admm  1.000000e-04   1e-04      2.641763\n",
       "0  00:00:00.30  1.403794e+01      admm  1.000000e-01     0.1      2.641763\n",
       "2  00:00:00.27  1.403794e+01      admm  1.000000e-03   0.001      2.641763\n",
       "0  00:00:00.99  9.486796e+00  kkt_admm  1.000000e-01     0.1      2.249901\n",
       "4  00:00:00.60  6.810916e+00      admm  1.000000e-05   1e-05      1.918527\n",
       "2  00:00:02.84  3.347774e+00    regain  1.000000e-03   0.001      1.208296\n",
       "1  00:00:02.92  1.649652e+00  kkt_admm  1.000000e-02    0.01      0.500564\n",
       "5  00:00:01.64  1.268499e+00      admm  1.000000e-06   1e-06      0.237834\n",
       "3  00:00:05.01  3.111948e-01    regain  1.000000e-04   1e-04     -1.167336\n",
       "6  00:00:02.99  1.833457e-01      admm  1.000000e-07   1e-07     -1.696382\n",
       "2  00:00:05.85  1.833457e-01  kkt_admm  1.000000e-03   0.001     -1.696382\n",
       "4  00:00:07.15  5.576538e-02    regain  1.000000e-05   1e-05     -2.886602\n",
       "7  00:00:04.02  5.497481e-02      admm  1.000000e-08   1e-08     -2.900880\n",
       "3  00:00:09.46  2.784927e-02  kkt_admm  1.000000e-04   1e-04     -3.580948\n",
       "0  00:00:12.43  1.796094e-02   sklearn  1.000000e-01     0.1     -4.019556\n",
       "5  00:00:09.43  1.081589e-02    regain  1.000000e-06   1e-06     -4.526739\n",
       "6  00:00:10.25  6.157905e-03    regain  1.000000e-07   1e-07     -5.090019\n",
       "7  00:00:10.53  5.352668e-03    regain  1.000000e-08   1e-08     -5.230160\n",
       "4  00:00:14.27  3.111564e-03  kkt_admm  1.000000e-05   1e-05     -5.772630\n",
       "1  00:00:13.80  6.475742e-04   sklearn  1.000000e-02    0.01     -7.342277\n",
       "2  00:00:11.11  6.475742e-04   sklearn  1.000000e-03   0.001     -7.342277\n",
       "5  00:00:19.71  3.329562e-04  kkt_admm  1.000000e-06   1e-06     -8.007500\n",
       "3  00:00:14.43  2.295058e-04   sklearn  1.000000e-04   1e-04     -8.379582\n",
       "4  00:00:20.41  9.810737e-05   sklearn  1.000000e-05   1e-05     -9.229448\n",
       "6  00:00:25.46  3.112095e-05  kkt_admm  1.000000e-07   1e-07    -10.377629\n",
       "5  00:00:37.77  8.313535e-06   sklearn  1.000000e-06   1e-06    -11.697626\n",
       "7  00:00:33.46  2.909373e-06  kkt_admm  1.000000e-08   1e-08    -12.747573\n",
       "6  00:00:36.11  1.094786e-06   sklearn  1.000000e-07   1e-07    -13.724952\n",
       "7  00:00:47.52  1.616953e-07   sklearn  1.000000e-08   1e-08    -15.637552"
      ]
     },
     "execution_count": 76,
     "metadata": {},
     "output_type": "execute_result"
    }
   ],
   "source": [
    "df.sort_values(by=['log_distance'], ascending = False)"
   ]
  },
  {
   "cell_type": "code",
   "execution_count": 167,
   "id": "interesting-shopper",
   "metadata": {},
   "outputs": [
    {
     "data": {
      "application/vnd.plotly.v1+json": {
       "config": {
        "plotlyServerURL": "https://plot.ly"
       },
       "data": [
        {
         "hovertemplate": "method=sklearn<br>Tolerance rate=%{x}<br>Log_distance=%{y}<extra></extra>",
         "legendgroup": "sklearn",
         "line": {
          "color": "#636efa",
          "dash": "solid"
         },
         "mode": "lines",
         "name": "sklearn",
         "orientation": "v",
         "showlegend": true,
         "type": "scatter",
         "x": [
          "0.1",
          "0.01",
          "0.001",
          "1e-04",
          "1e-05",
          "1e-06",
          "1e-07",
          "1e-08"
         ],
         "xaxis": "x",
         "y": [
          0.017960938353639357,
          0.000647574155466052,
          0.000647574155466052,
          0.00022950576639934193,
          9.81073668135986e-05,
          8.313534517347904e-06,
          1.0947860573027965e-06,
          1.6169527238535473e-07
         ],
         "yaxis": "y"
        },
        {
         "hovertemplate": "method=regain<br>Tolerance rate=%{x}<br>Log_distance=%{y}<extra></extra>",
         "legendgroup": "regain",
         "line": {
          "color": "#EF553B",
          "dash": "solid"
         },
         "mode": "lines",
         "name": "regain",
         "orientation": "v",
         "showlegend": true,
         "type": "scatter",
         "x": [
          "0.1",
          "0.01",
          "0.001",
          "1e-04",
          "1e-05",
          "1e-06",
          "1e-07",
          "1e-08"
         ],
         "xaxis": "x",
         "y": [
          33.47581296534492,
          28.276729871231424,
          3.3477742840975218,
          0.3111947817164859,
          0.05576537843539654,
          0.010815888915952353,
          0.006157905008564506,
          0.005352668043256747
         ],
         "yaxis": "y"
        },
        {
         "hovertemplate": "method=admm<br>Tolerance rate=%{x}<br>Log_distance=%{y}<extra></extra>",
         "legendgroup": "admm",
         "line": {
          "color": "#00cc96",
          "dash": "solid"
         },
         "mode": "lines",
         "name": "admm",
         "orientation": "v",
         "showlegend": true,
         "type": "scatter",
         "x": [
          "0.1",
          "0.01",
          "0.001",
          "1e-04",
          "1e-05",
          "1e-06",
          "1e-07",
          "1e-08"
         ],
         "xaxis": "x",
         "y": [
          14.037935415816582,
          14.037935415816582,
          14.037935415816582,
          14.037935415816582,
          6.810915742888371,
          1.268498896618658,
          0.18334574267555984,
          0.05497481009768083
         ],
         "yaxis": "y"
        },
        {
         "hovertemplate": "method=kkt_admm<br>Tolerance rate=%{x}<br>Log_distance=%{y}<extra></extra>",
         "legendgroup": "kkt_admm",
         "line": {
          "color": "#ab63fa",
          "dash": "solid"
         },
         "mode": "lines",
         "name": "kkt_admm",
         "orientation": "v",
         "showlegend": true,
         "type": "scatter",
         "x": [
          "0.1",
          "0.01",
          "0.001",
          "1e-04",
          "1e-05",
          "1e-06",
          "1e-07",
          "1e-08"
         ],
         "xaxis": "x",
         "y": [
          9.486795621915817,
          1.649651749402257,
          0.18334574267555984,
          0.02784927139340851,
          0.0031115639052572185,
          0.0003329561603941026,
          3.11209456926935e-05,
          2.9093728018792252e-06
         ],
         "yaxis": "y"
        }
       ],
       "layout": {
        "legend": {
         "title": {
          "text": "method"
         },
         "tracegroupgap": 0
        },
        "template": {
         "data": {
          "bar": [
           {
            "error_x": {
             "color": "#2a3f5f"
            },
            "error_y": {
             "color": "#2a3f5f"
            },
            "marker": {
             "line": {
              "color": "white",
              "width": 0.5
             }
            },
            "type": "bar"
           }
          ],
          "barpolar": [
           {
            "marker": {
             "line": {
              "color": "white",
              "width": 0.5
             }
            },
            "type": "barpolar"
           }
          ],
          "carpet": [
           {
            "aaxis": {
             "endlinecolor": "#2a3f5f",
             "gridcolor": "#C8D4E3",
             "linecolor": "#C8D4E3",
             "minorgridcolor": "#C8D4E3",
             "startlinecolor": "#2a3f5f"
            },
            "baxis": {
             "endlinecolor": "#2a3f5f",
             "gridcolor": "#C8D4E3",
             "linecolor": "#C8D4E3",
             "minorgridcolor": "#C8D4E3",
             "startlinecolor": "#2a3f5f"
            },
            "type": "carpet"
           }
          ],
          "choropleth": [
           {
            "colorbar": {
             "outlinewidth": 0,
             "ticks": ""
            },
            "type": "choropleth"
           }
          ],
          "contour": [
           {
            "colorbar": {
             "outlinewidth": 0,
             "ticks": ""
            },
            "colorscale": [
             [
              0,
              "#0d0887"
             ],
             [
              0.1111111111111111,
              "#46039f"
             ],
             [
              0.2222222222222222,
              "#7201a8"
             ],
             [
              0.3333333333333333,
              "#9c179e"
             ],
             [
              0.4444444444444444,
              "#bd3786"
             ],
             [
              0.5555555555555556,
              "#d8576b"
             ],
             [
              0.6666666666666666,
              "#ed7953"
             ],
             [
              0.7777777777777778,
              "#fb9f3a"
             ],
             [
              0.8888888888888888,
              "#fdca26"
             ],
             [
              1,
              "#f0f921"
             ]
            ],
            "type": "contour"
           }
          ],
          "contourcarpet": [
           {
            "colorbar": {
             "outlinewidth": 0,
             "ticks": ""
            },
            "type": "contourcarpet"
           }
          ],
          "heatmap": [
           {
            "colorbar": {
             "outlinewidth": 0,
             "ticks": ""
            },
            "colorscale": [
             [
              0,
              "#0d0887"
             ],
             [
              0.1111111111111111,
              "#46039f"
             ],
             [
              0.2222222222222222,
              "#7201a8"
             ],
             [
              0.3333333333333333,
              "#9c179e"
             ],
             [
              0.4444444444444444,
              "#bd3786"
             ],
             [
              0.5555555555555556,
              "#d8576b"
             ],
             [
              0.6666666666666666,
              "#ed7953"
             ],
             [
              0.7777777777777778,
              "#fb9f3a"
             ],
             [
              0.8888888888888888,
              "#fdca26"
             ],
             [
              1,
              "#f0f921"
             ]
            ],
            "type": "heatmap"
           }
          ],
          "heatmapgl": [
           {
            "colorbar": {
             "outlinewidth": 0,
             "ticks": ""
            },
            "colorscale": [
             [
              0,
              "#0d0887"
             ],
             [
              0.1111111111111111,
              "#46039f"
             ],
             [
              0.2222222222222222,
              "#7201a8"
             ],
             [
              0.3333333333333333,
              "#9c179e"
             ],
             [
              0.4444444444444444,
              "#bd3786"
             ],
             [
              0.5555555555555556,
              "#d8576b"
             ],
             [
              0.6666666666666666,
              "#ed7953"
             ],
             [
              0.7777777777777778,
              "#fb9f3a"
             ],
             [
              0.8888888888888888,
              "#fdca26"
             ],
             [
              1,
              "#f0f921"
             ]
            ],
            "type": "heatmapgl"
           }
          ],
          "histogram": [
           {
            "marker": {
             "colorbar": {
              "outlinewidth": 0,
              "ticks": ""
             }
            },
            "type": "histogram"
           }
          ],
          "histogram2d": [
           {
            "colorbar": {
             "outlinewidth": 0,
             "ticks": ""
            },
            "colorscale": [
             [
              0,
              "#0d0887"
             ],
             [
              0.1111111111111111,
              "#46039f"
             ],
             [
              0.2222222222222222,
              "#7201a8"
             ],
             [
              0.3333333333333333,
              "#9c179e"
             ],
             [
              0.4444444444444444,
              "#bd3786"
             ],
             [
              0.5555555555555556,
              "#d8576b"
             ],
             [
              0.6666666666666666,
              "#ed7953"
             ],
             [
              0.7777777777777778,
              "#fb9f3a"
             ],
             [
              0.8888888888888888,
              "#fdca26"
             ],
             [
              1,
              "#f0f921"
             ]
            ],
            "type": "histogram2d"
           }
          ],
          "histogram2dcontour": [
           {
            "colorbar": {
             "outlinewidth": 0,
             "ticks": ""
            },
            "colorscale": [
             [
              0,
              "#0d0887"
             ],
             [
              0.1111111111111111,
              "#46039f"
             ],
             [
              0.2222222222222222,
              "#7201a8"
             ],
             [
              0.3333333333333333,
              "#9c179e"
             ],
             [
              0.4444444444444444,
              "#bd3786"
             ],
             [
              0.5555555555555556,
              "#d8576b"
             ],
             [
              0.6666666666666666,
              "#ed7953"
             ],
             [
              0.7777777777777778,
              "#fb9f3a"
             ],
             [
              0.8888888888888888,
              "#fdca26"
             ],
             [
              1,
              "#f0f921"
             ]
            ],
            "type": "histogram2dcontour"
           }
          ],
          "mesh3d": [
           {
            "colorbar": {
             "outlinewidth": 0,
             "ticks": ""
            },
            "type": "mesh3d"
           }
          ],
          "parcoords": [
           {
            "line": {
             "colorbar": {
              "outlinewidth": 0,
              "ticks": ""
             }
            },
            "type": "parcoords"
           }
          ],
          "pie": [
           {
            "automargin": true,
            "type": "pie"
           }
          ],
          "scatter": [
           {
            "marker": {
             "colorbar": {
              "outlinewidth": 0,
              "ticks": ""
             }
            },
            "type": "scatter"
           }
          ],
          "scatter3d": [
           {
            "line": {
             "colorbar": {
              "outlinewidth": 0,
              "ticks": ""
             }
            },
            "marker": {
             "colorbar": {
              "outlinewidth": 0,
              "ticks": ""
             }
            },
            "type": "scatter3d"
           }
          ],
          "scattercarpet": [
           {
            "marker": {
             "colorbar": {
              "outlinewidth": 0,
              "ticks": ""
             }
            },
            "type": "scattercarpet"
           }
          ],
          "scattergeo": [
           {
            "marker": {
             "colorbar": {
              "outlinewidth": 0,
              "ticks": ""
             }
            },
            "type": "scattergeo"
           }
          ],
          "scattergl": [
           {
            "marker": {
             "colorbar": {
              "outlinewidth": 0,
              "ticks": ""
             }
            },
            "type": "scattergl"
           }
          ],
          "scattermapbox": [
           {
            "marker": {
             "colorbar": {
              "outlinewidth": 0,
              "ticks": ""
             }
            },
            "type": "scattermapbox"
           }
          ],
          "scatterpolar": [
           {
            "marker": {
             "colorbar": {
              "outlinewidth": 0,
              "ticks": ""
             }
            },
            "type": "scatterpolar"
           }
          ],
          "scatterpolargl": [
           {
            "marker": {
             "colorbar": {
              "outlinewidth": 0,
              "ticks": ""
             }
            },
            "type": "scatterpolargl"
           }
          ],
          "scatterternary": [
           {
            "marker": {
             "colorbar": {
              "outlinewidth": 0,
              "ticks": ""
             }
            },
            "type": "scatterternary"
           }
          ],
          "surface": [
           {
            "colorbar": {
             "outlinewidth": 0,
             "ticks": ""
            },
            "colorscale": [
             [
              0,
              "#0d0887"
             ],
             [
              0.1111111111111111,
              "#46039f"
             ],
             [
              0.2222222222222222,
              "#7201a8"
             ],
             [
              0.3333333333333333,
              "#9c179e"
             ],
             [
              0.4444444444444444,
              "#bd3786"
             ],
             [
              0.5555555555555556,
              "#d8576b"
             ],
             [
              0.6666666666666666,
              "#ed7953"
             ],
             [
              0.7777777777777778,
              "#fb9f3a"
             ],
             [
              0.8888888888888888,
              "#fdca26"
             ],
             [
              1,
              "#f0f921"
             ]
            ],
            "type": "surface"
           }
          ],
          "table": [
           {
            "cells": {
             "fill": {
              "color": "#EBF0F8"
             },
             "line": {
              "color": "white"
             }
            },
            "header": {
             "fill": {
              "color": "#C8D4E3"
             },
             "line": {
              "color": "white"
             }
            },
            "type": "table"
           }
          ]
         },
         "layout": {
          "annotationdefaults": {
           "arrowcolor": "#2a3f5f",
           "arrowhead": 0,
           "arrowwidth": 1
          },
          "autotypenumbers": "strict",
          "coloraxis": {
           "colorbar": {
            "outlinewidth": 0,
            "ticks": ""
           }
          },
          "colorscale": {
           "diverging": [
            [
             0,
             "#8e0152"
            ],
            [
             0.1,
             "#c51b7d"
            ],
            [
             0.2,
             "#de77ae"
            ],
            [
             0.3,
             "#f1b6da"
            ],
            [
             0.4,
             "#fde0ef"
            ],
            [
             0.5,
             "#f7f7f7"
            ],
            [
             0.6,
             "#e6f5d0"
            ],
            [
             0.7,
             "#b8e186"
            ],
            [
             0.8,
             "#7fbc41"
            ],
            [
             0.9,
             "#4d9221"
            ],
            [
             1,
             "#276419"
            ]
           ],
           "sequential": [
            [
             0,
             "#0d0887"
            ],
            [
             0.1111111111111111,
             "#46039f"
            ],
            [
             0.2222222222222222,
             "#7201a8"
            ],
            [
             0.3333333333333333,
             "#9c179e"
            ],
            [
             0.4444444444444444,
             "#bd3786"
            ],
            [
             0.5555555555555556,
             "#d8576b"
            ],
            [
             0.6666666666666666,
             "#ed7953"
            ],
            [
             0.7777777777777778,
             "#fb9f3a"
            ],
            [
             0.8888888888888888,
             "#fdca26"
            ],
            [
             1,
             "#f0f921"
            ]
           ],
           "sequentialminus": [
            [
             0,
             "#0d0887"
            ],
            [
             0.1111111111111111,
             "#46039f"
            ],
            [
             0.2222222222222222,
             "#7201a8"
            ],
            [
             0.3333333333333333,
             "#9c179e"
            ],
            [
             0.4444444444444444,
             "#bd3786"
            ],
            [
             0.5555555555555556,
             "#d8576b"
            ],
            [
             0.6666666666666666,
             "#ed7953"
            ],
            [
             0.7777777777777778,
             "#fb9f3a"
            ],
            [
             0.8888888888888888,
             "#fdca26"
            ],
            [
             1,
             "#f0f921"
            ]
           ]
          },
          "colorway": [
           "#636efa",
           "#EF553B",
           "#00cc96",
           "#ab63fa",
           "#FFA15A",
           "#19d3f3",
           "#FF6692",
           "#B6E880",
           "#FF97FF",
           "#FECB52"
          ],
          "font": {
           "color": "#2a3f5f"
          },
          "geo": {
           "bgcolor": "white",
           "lakecolor": "white",
           "landcolor": "white",
           "showlakes": true,
           "showland": true,
           "subunitcolor": "#C8D4E3"
          },
          "hoverlabel": {
           "align": "left"
          },
          "hovermode": "closest",
          "mapbox": {
           "style": "light"
          },
          "paper_bgcolor": "white",
          "plot_bgcolor": "white",
          "polar": {
           "angularaxis": {
            "gridcolor": "#EBF0F8",
            "linecolor": "#EBF0F8",
            "ticks": ""
           },
           "bgcolor": "white",
           "radialaxis": {
            "gridcolor": "#EBF0F8",
            "linecolor": "#EBF0F8",
            "ticks": ""
           }
          },
          "scene": {
           "xaxis": {
            "backgroundcolor": "white",
            "gridcolor": "#DFE8F3",
            "gridwidth": 2,
            "linecolor": "#EBF0F8",
            "showbackground": true,
            "ticks": "",
            "zerolinecolor": "#EBF0F8"
           },
           "yaxis": {
            "backgroundcolor": "white",
            "gridcolor": "#DFE8F3",
            "gridwidth": 2,
            "linecolor": "#EBF0F8",
            "showbackground": true,
            "ticks": "",
            "zerolinecolor": "#EBF0F8"
           },
           "zaxis": {
            "backgroundcolor": "white",
            "gridcolor": "#DFE8F3",
            "gridwidth": 2,
            "linecolor": "#EBF0F8",
            "showbackground": true,
            "ticks": "",
            "zerolinecolor": "#EBF0F8"
           }
          },
          "shapedefaults": {
           "line": {
            "color": "#2a3f5f"
           }
          },
          "ternary": {
           "aaxis": {
            "gridcolor": "#DFE8F3",
            "linecolor": "#A2B1C6",
            "ticks": ""
           },
           "baxis": {
            "gridcolor": "#DFE8F3",
            "linecolor": "#A2B1C6",
            "ticks": ""
           },
           "bgcolor": "white",
           "caxis": {
            "gridcolor": "#DFE8F3",
            "linecolor": "#A2B1C6",
            "ticks": ""
           }
          },
          "title": {
           "x": 0.05
          },
          "xaxis": {
           "automargin": true,
           "gridcolor": "#EBF0F8",
           "linecolor": "#EBF0F8",
           "ticks": "",
           "title": {
            "standoff": 15
           },
           "zerolinecolor": "#EBF0F8",
           "zerolinewidth": 2
          },
          "yaxis": {
           "automargin": true,
           "gridcolor": "#EBF0F8",
           "linecolor": "#EBF0F8",
           "ticks": "",
           "title": {
            "standoff": 15
           },
           "zerolinecolor": "#EBF0F8",
           "zerolinewidth": 2
          }
         }
        },
        "title": {
         "text": "Log-distance between Z and Z' with respect to ADMM convergence rates"
        },
        "xaxis": {
         "anchor": "y",
         "domain": [
          0,
          1
         ],
         "title": {
          "text": "Tolerance rate"
         }
        },
        "yaxis": {
         "anchor": "x",
         "domain": [
          0,
          1
         ],
         "title": {
          "text": "Log_distance"
         },
         "type": "log"
        }
       }
      },
      "text/html": [
       "<div>                            <div id=\"5b0356d6-3513-4cdf-938d-ada93f9e8a5a\" class=\"plotly-graph-div\" style=\"height:525px; width:100%;\"></div>            <script type=\"text/javascript\">                require([\"plotly\"], function(Plotly) {                    window.PLOTLYENV=window.PLOTLYENV || {};                                    if (document.getElementById(\"5b0356d6-3513-4cdf-938d-ada93f9e8a5a\")) {                    Plotly.newPlot(                        \"5b0356d6-3513-4cdf-938d-ada93f9e8a5a\",                        [{\"hovertemplate\": \"method=sklearn<br>Tolerance rate=%{x}<br>Log_distance=%{y}<extra></extra>\", \"legendgroup\": \"sklearn\", \"line\": {\"color\": \"#636efa\", \"dash\": \"solid\"}, \"mode\": \"lines\", \"name\": \"sklearn\", \"orientation\": \"v\", \"showlegend\": true, \"type\": \"scatter\", \"x\": [\"0.1\", \"0.01\", \"0.001\", \"1e-04\", \"1e-05\", \"1e-06\", \"1e-07\", \"1e-08\"], \"xaxis\": \"x\", \"y\": [0.017960938353639357, 0.000647574155466052, 0.000647574155466052, 0.00022950576639934193, 9.81073668135986e-05, 8.313534517347904e-06, 1.0947860573027965e-06, 1.6169527238535473e-07], \"yaxis\": \"y\"}, {\"hovertemplate\": \"method=regain<br>Tolerance rate=%{x}<br>Log_distance=%{y}<extra></extra>\", \"legendgroup\": \"regain\", \"line\": {\"color\": \"#EF553B\", \"dash\": \"solid\"}, \"mode\": \"lines\", \"name\": \"regain\", \"orientation\": \"v\", \"showlegend\": true, \"type\": \"scatter\", \"x\": [\"0.1\", \"0.01\", \"0.001\", \"1e-04\", \"1e-05\", \"1e-06\", \"1e-07\", \"1e-08\"], \"xaxis\": \"x\", \"y\": [33.47581296534492, 28.276729871231424, 3.3477742840975218, 0.3111947817164859, 0.05576537843539654, 0.010815888915952353, 0.006157905008564506, 0.005352668043256747], \"yaxis\": \"y\"}, {\"hovertemplate\": \"method=admm<br>Tolerance rate=%{x}<br>Log_distance=%{y}<extra></extra>\", \"legendgroup\": \"admm\", \"line\": {\"color\": \"#00cc96\", \"dash\": \"solid\"}, \"mode\": \"lines\", \"name\": \"admm\", \"orientation\": \"v\", \"showlegend\": true, \"type\": \"scatter\", \"x\": [\"0.1\", \"0.01\", \"0.001\", \"1e-04\", \"1e-05\", \"1e-06\", \"1e-07\", \"1e-08\"], \"xaxis\": \"x\", \"y\": [14.037935415816582, 14.037935415816582, 14.037935415816582, 14.037935415816582, 6.810915742888371, 1.268498896618658, 0.18334574267555984, 0.05497481009768083], \"yaxis\": \"y\"}, {\"hovertemplate\": \"method=kkt_admm<br>Tolerance rate=%{x}<br>Log_distance=%{y}<extra></extra>\", \"legendgroup\": \"kkt_admm\", \"line\": {\"color\": \"#ab63fa\", \"dash\": \"solid\"}, \"mode\": \"lines\", \"name\": \"kkt_admm\", \"orientation\": \"v\", \"showlegend\": true, \"type\": \"scatter\", \"x\": [\"0.1\", \"0.01\", \"0.001\", \"1e-04\", \"1e-05\", \"1e-06\", \"1e-07\", \"1e-08\"], \"xaxis\": \"x\", \"y\": [9.486795621915817, 1.649651749402257, 0.18334574267555984, 0.02784927139340851, 0.0031115639052572185, 0.0003329561603941026, 3.11209456926935e-05, 2.9093728018792252e-06], \"yaxis\": \"y\"}],                        {\"legend\": {\"title\": {\"text\": \"method\"}, \"tracegroupgap\": 0}, \"template\": {\"data\": {\"bar\": [{\"error_x\": {\"color\": \"#2a3f5f\"}, \"error_y\": {\"color\": \"#2a3f5f\"}, \"marker\": {\"line\": {\"color\": \"white\", \"width\": 0.5}}, \"type\": \"bar\"}], \"barpolar\": [{\"marker\": {\"line\": {\"color\": \"white\", \"width\": 0.5}}, \"type\": \"barpolar\"}], \"carpet\": [{\"aaxis\": {\"endlinecolor\": \"#2a3f5f\", \"gridcolor\": \"#C8D4E3\", \"linecolor\": \"#C8D4E3\", \"minorgridcolor\": \"#C8D4E3\", \"startlinecolor\": \"#2a3f5f\"}, \"baxis\": {\"endlinecolor\": \"#2a3f5f\", \"gridcolor\": \"#C8D4E3\", \"linecolor\": \"#C8D4E3\", \"minorgridcolor\": \"#C8D4E3\", \"startlinecolor\": \"#2a3f5f\"}, \"type\": \"carpet\"}], \"choropleth\": [{\"colorbar\": {\"outlinewidth\": 0, \"ticks\": \"\"}, \"type\": \"choropleth\"}], \"contour\": [{\"colorbar\": {\"outlinewidth\": 0, \"ticks\": \"\"}, \"colorscale\": [[0.0, \"#0d0887\"], [0.1111111111111111, \"#46039f\"], [0.2222222222222222, \"#7201a8\"], [0.3333333333333333, \"#9c179e\"], [0.4444444444444444, \"#bd3786\"], [0.5555555555555556, \"#d8576b\"], [0.6666666666666666, \"#ed7953\"], [0.7777777777777778, \"#fb9f3a\"], [0.8888888888888888, \"#fdca26\"], [1.0, \"#f0f921\"]], \"type\": \"contour\"}], \"contourcarpet\": [{\"colorbar\": {\"outlinewidth\": 0, \"ticks\": \"\"}, \"type\": \"contourcarpet\"}], \"heatmap\": [{\"colorbar\": {\"outlinewidth\": 0, \"ticks\": \"\"}, \"colorscale\": [[0.0, \"#0d0887\"], [0.1111111111111111, \"#46039f\"], [0.2222222222222222, \"#7201a8\"], [0.3333333333333333, \"#9c179e\"], [0.4444444444444444, \"#bd3786\"], [0.5555555555555556, \"#d8576b\"], [0.6666666666666666, \"#ed7953\"], [0.7777777777777778, \"#fb9f3a\"], [0.8888888888888888, \"#fdca26\"], [1.0, \"#f0f921\"]], \"type\": \"heatmap\"}], \"heatmapgl\": [{\"colorbar\": {\"outlinewidth\": 0, \"ticks\": \"\"}, \"colorscale\": [[0.0, \"#0d0887\"], [0.1111111111111111, \"#46039f\"], [0.2222222222222222, \"#7201a8\"], [0.3333333333333333, \"#9c179e\"], [0.4444444444444444, \"#bd3786\"], [0.5555555555555556, \"#d8576b\"], [0.6666666666666666, \"#ed7953\"], [0.7777777777777778, \"#fb9f3a\"], [0.8888888888888888, \"#fdca26\"], [1.0, \"#f0f921\"]], \"type\": \"heatmapgl\"}], \"histogram\": [{\"marker\": {\"colorbar\": {\"outlinewidth\": 0, \"ticks\": \"\"}}, \"type\": \"histogram\"}], \"histogram2d\": [{\"colorbar\": {\"outlinewidth\": 0, \"ticks\": \"\"}, \"colorscale\": [[0.0, \"#0d0887\"], [0.1111111111111111, \"#46039f\"], [0.2222222222222222, \"#7201a8\"], [0.3333333333333333, \"#9c179e\"], [0.4444444444444444, \"#bd3786\"], [0.5555555555555556, \"#d8576b\"], [0.6666666666666666, \"#ed7953\"], [0.7777777777777778, \"#fb9f3a\"], [0.8888888888888888, \"#fdca26\"], [1.0, \"#f0f921\"]], \"type\": \"histogram2d\"}], \"histogram2dcontour\": [{\"colorbar\": {\"outlinewidth\": 0, \"ticks\": \"\"}, \"colorscale\": [[0.0, \"#0d0887\"], [0.1111111111111111, \"#46039f\"], [0.2222222222222222, \"#7201a8\"], [0.3333333333333333, \"#9c179e\"], [0.4444444444444444, \"#bd3786\"], [0.5555555555555556, \"#d8576b\"], [0.6666666666666666, \"#ed7953\"], [0.7777777777777778, \"#fb9f3a\"], [0.8888888888888888, \"#fdca26\"], [1.0, \"#f0f921\"]], \"type\": \"histogram2dcontour\"}], \"mesh3d\": [{\"colorbar\": {\"outlinewidth\": 0, \"ticks\": \"\"}, \"type\": \"mesh3d\"}], \"parcoords\": [{\"line\": {\"colorbar\": {\"outlinewidth\": 0, \"ticks\": \"\"}}, \"type\": \"parcoords\"}], \"pie\": [{\"automargin\": true, \"type\": \"pie\"}], \"scatter\": [{\"marker\": {\"colorbar\": {\"outlinewidth\": 0, \"ticks\": \"\"}}, \"type\": \"scatter\"}], \"scatter3d\": [{\"line\": {\"colorbar\": {\"outlinewidth\": 0, \"ticks\": \"\"}}, \"marker\": {\"colorbar\": {\"outlinewidth\": 0, \"ticks\": \"\"}}, \"type\": \"scatter3d\"}], \"scattercarpet\": [{\"marker\": {\"colorbar\": {\"outlinewidth\": 0, \"ticks\": \"\"}}, \"type\": \"scattercarpet\"}], \"scattergeo\": [{\"marker\": {\"colorbar\": {\"outlinewidth\": 0, \"ticks\": \"\"}}, \"type\": \"scattergeo\"}], \"scattergl\": [{\"marker\": {\"colorbar\": {\"outlinewidth\": 0, \"ticks\": \"\"}}, \"type\": \"scattergl\"}], \"scattermapbox\": [{\"marker\": {\"colorbar\": {\"outlinewidth\": 0, \"ticks\": \"\"}}, \"type\": \"scattermapbox\"}], \"scatterpolar\": [{\"marker\": {\"colorbar\": {\"outlinewidth\": 0, \"ticks\": \"\"}}, \"type\": \"scatterpolar\"}], \"scatterpolargl\": [{\"marker\": {\"colorbar\": {\"outlinewidth\": 0, \"ticks\": \"\"}}, \"type\": \"scatterpolargl\"}], \"scatterternary\": [{\"marker\": {\"colorbar\": {\"outlinewidth\": 0, \"ticks\": \"\"}}, \"type\": \"scatterternary\"}], \"surface\": [{\"colorbar\": {\"outlinewidth\": 0, \"ticks\": \"\"}, \"colorscale\": [[0.0, \"#0d0887\"], [0.1111111111111111, \"#46039f\"], [0.2222222222222222, \"#7201a8\"], [0.3333333333333333, \"#9c179e\"], [0.4444444444444444, \"#bd3786\"], [0.5555555555555556, \"#d8576b\"], [0.6666666666666666, \"#ed7953\"], [0.7777777777777778, \"#fb9f3a\"], [0.8888888888888888, \"#fdca26\"], [1.0, \"#f0f921\"]], \"type\": \"surface\"}], \"table\": [{\"cells\": {\"fill\": {\"color\": \"#EBF0F8\"}, \"line\": {\"color\": \"white\"}}, \"header\": {\"fill\": {\"color\": \"#C8D4E3\"}, \"line\": {\"color\": \"white\"}}, \"type\": \"table\"}]}, \"layout\": {\"annotationdefaults\": {\"arrowcolor\": \"#2a3f5f\", \"arrowhead\": 0, \"arrowwidth\": 1}, \"autotypenumbers\": \"strict\", \"coloraxis\": {\"colorbar\": {\"outlinewidth\": 0, \"ticks\": \"\"}}, \"colorscale\": {\"diverging\": [[0, \"#8e0152\"], [0.1, \"#c51b7d\"], [0.2, \"#de77ae\"], [0.3, \"#f1b6da\"], [0.4, \"#fde0ef\"], [0.5, \"#f7f7f7\"], [0.6, \"#e6f5d0\"], [0.7, \"#b8e186\"], [0.8, \"#7fbc41\"], [0.9, \"#4d9221\"], [1, \"#276419\"]], \"sequential\": [[0.0, \"#0d0887\"], [0.1111111111111111, \"#46039f\"], [0.2222222222222222, \"#7201a8\"], [0.3333333333333333, \"#9c179e\"], [0.4444444444444444, \"#bd3786\"], [0.5555555555555556, \"#d8576b\"], [0.6666666666666666, \"#ed7953\"], [0.7777777777777778, \"#fb9f3a\"], [0.8888888888888888, \"#fdca26\"], [1.0, \"#f0f921\"]], \"sequentialminus\": [[0.0, \"#0d0887\"], [0.1111111111111111, \"#46039f\"], [0.2222222222222222, \"#7201a8\"], [0.3333333333333333, \"#9c179e\"], [0.4444444444444444, \"#bd3786\"], [0.5555555555555556, \"#d8576b\"], [0.6666666666666666, \"#ed7953\"], [0.7777777777777778, \"#fb9f3a\"], [0.8888888888888888, \"#fdca26\"], [1.0, \"#f0f921\"]]}, \"colorway\": [\"#636efa\", \"#EF553B\", \"#00cc96\", \"#ab63fa\", \"#FFA15A\", \"#19d3f3\", \"#FF6692\", \"#B6E880\", \"#FF97FF\", \"#FECB52\"], \"font\": {\"color\": \"#2a3f5f\"}, \"geo\": {\"bgcolor\": \"white\", \"lakecolor\": \"white\", \"landcolor\": \"white\", \"showlakes\": true, \"showland\": true, \"subunitcolor\": \"#C8D4E3\"}, \"hoverlabel\": {\"align\": \"left\"}, \"hovermode\": \"closest\", \"mapbox\": {\"style\": \"light\"}, \"paper_bgcolor\": \"white\", \"plot_bgcolor\": \"white\", \"polar\": {\"angularaxis\": {\"gridcolor\": \"#EBF0F8\", \"linecolor\": \"#EBF0F8\", \"ticks\": \"\"}, \"bgcolor\": \"white\", \"radialaxis\": {\"gridcolor\": \"#EBF0F8\", \"linecolor\": \"#EBF0F8\", \"ticks\": \"\"}}, \"scene\": {\"xaxis\": {\"backgroundcolor\": \"white\", \"gridcolor\": \"#DFE8F3\", \"gridwidth\": 2, \"linecolor\": \"#EBF0F8\", \"showbackground\": true, \"ticks\": \"\", \"zerolinecolor\": \"#EBF0F8\"}, \"yaxis\": {\"backgroundcolor\": \"white\", \"gridcolor\": \"#DFE8F3\", \"gridwidth\": 2, \"linecolor\": \"#EBF0F8\", \"showbackground\": true, \"ticks\": \"\", \"zerolinecolor\": \"#EBF0F8\"}, \"zaxis\": {\"backgroundcolor\": \"white\", \"gridcolor\": \"#DFE8F3\", \"gridwidth\": 2, \"linecolor\": \"#EBF0F8\", \"showbackground\": true, \"ticks\": \"\", \"zerolinecolor\": \"#EBF0F8\"}}, \"shapedefaults\": {\"line\": {\"color\": \"#2a3f5f\"}}, \"ternary\": {\"aaxis\": {\"gridcolor\": \"#DFE8F3\", \"linecolor\": \"#A2B1C6\", \"ticks\": \"\"}, \"baxis\": {\"gridcolor\": \"#DFE8F3\", \"linecolor\": \"#A2B1C6\", \"ticks\": \"\"}, \"bgcolor\": \"white\", \"caxis\": {\"gridcolor\": \"#DFE8F3\", \"linecolor\": \"#A2B1C6\", \"ticks\": \"\"}}, \"title\": {\"x\": 0.05}, \"xaxis\": {\"automargin\": true, \"gridcolor\": \"#EBF0F8\", \"linecolor\": \"#EBF0F8\", \"ticks\": \"\", \"title\": {\"standoff\": 15}, \"zerolinecolor\": \"#EBF0F8\", \"zerolinewidth\": 2}, \"yaxis\": {\"automargin\": true, \"gridcolor\": \"#EBF0F8\", \"linecolor\": \"#EBF0F8\", \"ticks\": \"\", \"title\": {\"standoff\": 15}, \"zerolinecolor\": \"#EBF0F8\", \"zerolinewidth\": 2}}}, \"title\": {\"text\": \"Log-distance between Z and Z' with respect to ADMM convergence rates\"}, \"xaxis\": {\"anchor\": \"y\", \"domain\": [0.0, 1.0], \"title\": {\"text\": \"Tolerance rate\"}}, \"yaxis\": {\"anchor\": \"x\", \"domain\": [0.0, 1.0], \"title\": {\"text\": \"Log_distance\"}, \"type\": \"log\"}},                        {\"responsive\": true}                    ).then(function(){\n",
       "                            \n",
       "var gd = document.getElementById('5b0356d6-3513-4cdf-938d-ada93f9e8a5a');\n",
       "var x = new MutationObserver(function (mutations, observer) {{\n",
       "        var display = window.getComputedStyle(gd).display;\n",
       "        if (!display || display === 'none') {{\n",
       "            console.log([gd, 'removed!']);\n",
       "            Plotly.purge(gd);\n",
       "            observer.disconnect();\n",
       "        }}\n",
       "}});\n",
       "\n",
       "// Listen for the removal of the full notebook cells\n",
       "var notebookContainer = gd.closest('#notebook-container');\n",
       "if (notebookContainer) {{\n",
       "    x.observe(notebookContainer, {childList: true});\n",
       "}}\n",
       "\n",
       "// Listen for the clearing of the current output cell\n",
       "var outputEl = gd.closest('.output');\n",
       "if (outputEl) {{\n",
       "    x.observe(outputEl, {childList: true});\n",
       "}}\n",
       "\n",
       "                        })                };                });            </script>        </div>"
      ]
     },
     "metadata": {},
     "output_type": "display_data"
    }
   ],
   "source": [
    "fig = px.line(df, x=\"str_tol\", y=\"distance\", color= \"method\", log_y = True,\n",
    "              labels={\n",
    "                     \"str_tol\": \"Tolerance rate\",\n",
    "                     \"distance\": \"Log_distance\",\n",
    "                     \"method\": \"method\"\n",
    "                 },\n",
    "              template = \"plotly_white\",\n",
    "              title=\"Log-distance between Z and Z' with respect to ADMM convergence rates\")\n",
    "fig.show()"
   ]
  },
  {
   "cell_type": "code",
   "execution_count": 79,
   "id": "twenty-immigration",
   "metadata": {},
   "outputs": [],
   "source": [
    "df = df.reset_index(drop=True)"
   ]
  },
  {
   "cell_type": "code",
   "execution_count": 100,
   "id": "behind-beijing",
   "metadata": {},
   "outputs": [
    {
     "data": {
      "text/html": [
       "<div>\n",
       "<style scoped>\n",
       "    .dataframe tbody tr th:only-of-type {\n",
       "        vertical-align: middle;\n",
       "    }\n",
       "\n",
       "    .dataframe tbody tr th {\n",
       "        vertical-align: top;\n",
       "    }\n",
       "\n",
       "    .dataframe thead th {\n",
       "        text-align: right;\n",
       "    }\n",
       "</style>\n",
       "<table border=\"1\" class=\"dataframe\">\n",
       "  <thead>\n",
       "    <tr style=\"text-align: right;\">\n",
       "      <th></th>\n",
       "      <th>time</th>\n",
       "      <th>distance</th>\n",
       "      <th>method</th>\n",
       "      <th>tol_rate</th>\n",
       "      <th>str_tol</th>\n",
       "      <th>log_distance</th>\n",
       "      <th>sec_time</th>\n",
       "    </tr>\n",
       "  </thead>\n",
       "  <tbody>\n",
       "    <tr>\n",
       "      <th>0</th>\n",
       "      <td>00:00:12.43</td>\n",
       "      <td>1.796094e-02</td>\n",
       "      <td>sklearn</td>\n",
       "      <td>1.000000e-01</td>\n",
       "      <td>0.1</td>\n",
       "      <td>-4.019556</td>\n",
       "      <td>12.43</td>\n",
       "    </tr>\n",
       "    <tr>\n",
       "      <th>1</th>\n",
       "      <td>00:00:13.80</td>\n",
       "      <td>6.475742e-04</td>\n",
       "      <td>sklearn</td>\n",
       "      <td>1.000000e-02</td>\n",
       "      <td>0.01</td>\n",
       "      <td>-7.342277</td>\n",
       "      <td>13.80</td>\n",
       "    </tr>\n",
       "    <tr>\n",
       "      <th>2</th>\n",
       "      <td>00:00:11.11</td>\n",
       "      <td>6.475742e-04</td>\n",
       "      <td>sklearn</td>\n",
       "      <td>1.000000e-03</td>\n",
       "      <td>0.001</td>\n",
       "      <td>-7.342277</td>\n",
       "      <td>11.11</td>\n",
       "    </tr>\n",
       "    <tr>\n",
       "      <th>3</th>\n",
       "      <td>00:00:14.43</td>\n",
       "      <td>2.295058e-04</td>\n",
       "      <td>sklearn</td>\n",
       "      <td>1.000000e-04</td>\n",
       "      <td>1e-04</td>\n",
       "      <td>-8.379582</td>\n",
       "      <td>14.43</td>\n",
       "    </tr>\n",
       "    <tr>\n",
       "      <th>4</th>\n",
       "      <td>00:00:20.41</td>\n",
       "      <td>9.810737e-05</td>\n",
       "      <td>sklearn</td>\n",
       "      <td>1.000000e-05</td>\n",
       "      <td>1e-05</td>\n",
       "      <td>-9.229448</td>\n",
       "      <td>20.41</td>\n",
       "    </tr>\n",
       "    <tr>\n",
       "      <th>5</th>\n",
       "      <td>00:00:37.77</td>\n",
       "      <td>8.313535e-06</td>\n",
       "      <td>sklearn</td>\n",
       "      <td>1.000000e-06</td>\n",
       "      <td>1e-06</td>\n",
       "      <td>-11.697626</td>\n",
       "      <td>37.77</td>\n",
       "    </tr>\n",
       "    <tr>\n",
       "      <th>6</th>\n",
       "      <td>00:00:36.11</td>\n",
       "      <td>1.094786e-06</td>\n",
       "      <td>sklearn</td>\n",
       "      <td>1.000000e-07</td>\n",
       "      <td>1e-07</td>\n",
       "      <td>-13.724952</td>\n",
       "      <td>36.11</td>\n",
       "    </tr>\n",
       "    <tr>\n",
       "      <th>7</th>\n",
       "      <td>00:00:47.52</td>\n",
       "      <td>1.616953e-07</td>\n",
       "      <td>sklearn</td>\n",
       "      <td>1.000000e-08</td>\n",
       "      <td>1e-08</td>\n",
       "      <td>-15.637552</td>\n",
       "      <td>47.52</td>\n",
       "    </tr>\n",
       "    <tr>\n",
       "      <th>8</th>\n",
       "      <td>00:00:00.51</td>\n",
       "      <td>3.347581e+01</td>\n",
       "      <td>regain</td>\n",
       "      <td>1.000000e-01</td>\n",
       "      <td>0.1</td>\n",
       "      <td>3.510823</td>\n",
       "      <td>00.51</td>\n",
       "    </tr>\n",
       "    <tr>\n",
       "      <th>9</th>\n",
       "      <td>00:00:00.69</td>\n",
       "      <td>2.827673e+01</td>\n",
       "      <td>regain</td>\n",
       "      <td>1.000000e-02</td>\n",
       "      <td>0.01</td>\n",
       "      <td>3.342039</td>\n",
       "      <td>00.69</td>\n",
       "    </tr>\n",
       "    <tr>\n",
       "      <th>10</th>\n",
       "      <td>00:00:02.84</td>\n",
       "      <td>3.347774e+00</td>\n",
       "      <td>regain</td>\n",
       "      <td>1.000000e-03</td>\n",
       "      <td>0.001</td>\n",
       "      <td>1.208296</td>\n",
       "      <td>02.84</td>\n",
       "    </tr>\n",
       "    <tr>\n",
       "      <th>11</th>\n",
       "      <td>00:00:05.01</td>\n",
       "      <td>3.111948e-01</td>\n",
       "      <td>regain</td>\n",
       "      <td>1.000000e-04</td>\n",
       "      <td>1e-04</td>\n",
       "      <td>-1.167336</td>\n",
       "      <td>05.01</td>\n",
       "    </tr>\n",
       "    <tr>\n",
       "      <th>12</th>\n",
       "      <td>00:00:07.15</td>\n",
       "      <td>5.576538e-02</td>\n",
       "      <td>regain</td>\n",
       "      <td>1.000000e-05</td>\n",
       "      <td>1e-05</td>\n",
       "      <td>-2.886602</td>\n",
       "      <td>07.15</td>\n",
       "    </tr>\n",
       "    <tr>\n",
       "      <th>13</th>\n",
       "      <td>00:00:09.43</td>\n",
       "      <td>1.081589e-02</td>\n",
       "      <td>regain</td>\n",
       "      <td>1.000000e-06</td>\n",
       "      <td>1e-06</td>\n",
       "      <td>-4.526739</td>\n",
       "      <td>09.43</td>\n",
       "    </tr>\n",
       "    <tr>\n",
       "      <th>14</th>\n",
       "      <td>00:00:10.25</td>\n",
       "      <td>6.157905e-03</td>\n",
       "      <td>regain</td>\n",
       "      <td>1.000000e-07</td>\n",
       "      <td>1e-07</td>\n",
       "      <td>-5.090019</td>\n",
       "      <td>10.25</td>\n",
       "    </tr>\n",
       "    <tr>\n",
       "      <th>15</th>\n",
       "      <td>00:00:10.53</td>\n",
       "      <td>5.352668e-03</td>\n",
       "      <td>regain</td>\n",
       "      <td>1.000000e-08</td>\n",
       "      <td>1e-08</td>\n",
       "      <td>-5.230160</td>\n",
       "      <td>10.53</td>\n",
       "    </tr>\n",
       "    <tr>\n",
       "      <th>16</th>\n",
       "      <td>00:00:00.30</td>\n",
       "      <td>1.403794e+01</td>\n",
       "      <td>admm</td>\n",
       "      <td>1.000000e-01</td>\n",
       "      <td>0.1</td>\n",
       "      <td>2.641763</td>\n",
       "      <td>00.30</td>\n",
       "    </tr>\n",
       "    <tr>\n",
       "      <th>17</th>\n",
       "      <td>00:00:00.26</td>\n",
       "      <td>1.403794e+01</td>\n",
       "      <td>admm</td>\n",
       "      <td>1.000000e-02</td>\n",
       "      <td>0.01</td>\n",
       "      <td>2.641763</td>\n",
       "      <td>00.26</td>\n",
       "    </tr>\n",
       "    <tr>\n",
       "      <th>18</th>\n",
       "      <td>00:00:00.27</td>\n",
       "      <td>1.403794e+01</td>\n",
       "      <td>admm</td>\n",
       "      <td>1.000000e-03</td>\n",
       "      <td>0.001</td>\n",
       "      <td>2.641763</td>\n",
       "      <td>00.27</td>\n",
       "    </tr>\n",
       "    <tr>\n",
       "      <th>19</th>\n",
       "      <td>00:00:00.27</td>\n",
       "      <td>1.403794e+01</td>\n",
       "      <td>admm</td>\n",
       "      <td>1.000000e-04</td>\n",
       "      <td>1e-04</td>\n",
       "      <td>2.641763</td>\n",
       "      <td>00.27</td>\n",
       "    </tr>\n",
       "    <tr>\n",
       "      <th>20</th>\n",
       "      <td>00:00:00.60</td>\n",
       "      <td>6.810916e+00</td>\n",
       "      <td>admm</td>\n",
       "      <td>1.000000e-05</td>\n",
       "      <td>1e-05</td>\n",
       "      <td>1.918527</td>\n",
       "      <td>00.60</td>\n",
       "    </tr>\n",
       "    <tr>\n",
       "      <th>21</th>\n",
       "      <td>00:00:01.64</td>\n",
       "      <td>1.268499e+00</td>\n",
       "      <td>admm</td>\n",
       "      <td>1.000000e-06</td>\n",
       "      <td>1e-06</td>\n",
       "      <td>0.237834</td>\n",
       "      <td>01.64</td>\n",
       "    </tr>\n",
       "    <tr>\n",
       "      <th>22</th>\n",
       "      <td>00:00:02.99</td>\n",
       "      <td>1.833457e-01</td>\n",
       "      <td>admm</td>\n",
       "      <td>1.000000e-07</td>\n",
       "      <td>1e-07</td>\n",
       "      <td>-1.696382</td>\n",
       "      <td>02.99</td>\n",
       "    </tr>\n",
       "    <tr>\n",
       "      <th>23</th>\n",
       "      <td>00:00:04.02</td>\n",
       "      <td>5.497481e-02</td>\n",
       "      <td>admm</td>\n",
       "      <td>1.000000e-08</td>\n",
       "      <td>1e-08</td>\n",
       "      <td>-2.900880</td>\n",
       "      <td>04.02</td>\n",
       "    </tr>\n",
       "    <tr>\n",
       "      <th>24</th>\n",
       "      <td>00:00:00.99</td>\n",
       "      <td>9.486796e+00</td>\n",
       "      <td>kkt_admm</td>\n",
       "      <td>1.000000e-01</td>\n",
       "      <td>0.1</td>\n",
       "      <td>2.249901</td>\n",
       "      <td>00.99</td>\n",
       "    </tr>\n",
       "    <tr>\n",
       "      <th>25</th>\n",
       "      <td>00:00:02.92</td>\n",
       "      <td>1.649652e+00</td>\n",
       "      <td>kkt_admm</td>\n",
       "      <td>1.000000e-02</td>\n",
       "      <td>0.01</td>\n",
       "      <td>0.500564</td>\n",
       "      <td>02.92</td>\n",
       "    </tr>\n",
       "    <tr>\n",
       "      <th>26</th>\n",
       "      <td>00:00:05.85</td>\n",
       "      <td>1.833457e-01</td>\n",
       "      <td>kkt_admm</td>\n",
       "      <td>1.000000e-03</td>\n",
       "      <td>0.001</td>\n",
       "      <td>-1.696382</td>\n",
       "      <td>05.85</td>\n",
       "    </tr>\n",
       "    <tr>\n",
       "      <th>27</th>\n",
       "      <td>00:00:09.46</td>\n",
       "      <td>2.784927e-02</td>\n",
       "      <td>kkt_admm</td>\n",
       "      <td>1.000000e-04</td>\n",
       "      <td>1e-04</td>\n",
       "      <td>-3.580948</td>\n",
       "      <td>09.46</td>\n",
       "    </tr>\n",
       "    <tr>\n",
       "      <th>28</th>\n",
       "      <td>00:00:14.27</td>\n",
       "      <td>3.111564e-03</td>\n",
       "      <td>kkt_admm</td>\n",
       "      <td>1.000000e-05</td>\n",
       "      <td>1e-05</td>\n",
       "      <td>-5.772630</td>\n",
       "      <td>14.27</td>\n",
       "    </tr>\n",
       "    <tr>\n",
       "      <th>29</th>\n",
       "      <td>00:00:19.71</td>\n",
       "      <td>3.329562e-04</td>\n",
       "      <td>kkt_admm</td>\n",
       "      <td>1.000000e-06</td>\n",
       "      <td>1e-06</td>\n",
       "      <td>-8.007500</td>\n",
       "      <td>19.71</td>\n",
       "    </tr>\n",
       "    <tr>\n",
       "      <th>30</th>\n",
       "      <td>00:00:25.46</td>\n",
       "      <td>3.112095e-05</td>\n",
       "      <td>kkt_admm</td>\n",
       "      <td>1.000000e-07</td>\n",
       "      <td>1e-07</td>\n",
       "      <td>-10.377629</td>\n",
       "      <td>25.46</td>\n",
       "    </tr>\n",
       "    <tr>\n",
       "      <th>31</th>\n",
       "      <td>00:00:33.46</td>\n",
       "      <td>2.909373e-06</td>\n",
       "      <td>kkt_admm</td>\n",
       "      <td>1.000000e-08</td>\n",
       "      <td>1e-08</td>\n",
       "      <td>-12.747573</td>\n",
       "      <td>33.46</td>\n",
       "    </tr>\n",
       "  </tbody>\n",
       "</table>\n",
       "</div>"
      ],
      "text/plain": [
       "           time      distance    method      tol_rate str_tol  log_distance  \\\n",
       "0   00:00:12.43  1.796094e-02   sklearn  1.000000e-01     0.1     -4.019556   \n",
       "1   00:00:13.80  6.475742e-04   sklearn  1.000000e-02    0.01     -7.342277   \n",
       "2   00:00:11.11  6.475742e-04   sklearn  1.000000e-03   0.001     -7.342277   \n",
       "3   00:00:14.43  2.295058e-04   sklearn  1.000000e-04   1e-04     -8.379582   \n",
       "4   00:00:20.41  9.810737e-05   sklearn  1.000000e-05   1e-05     -9.229448   \n",
       "5   00:00:37.77  8.313535e-06   sklearn  1.000000e-06   1e-06    -11.697626   \n",
       "6   00:00:36.11  1.094786e-06   sklearn  1.000000e-07   1e-07    -13.724952   \n",
       "7   00:00:47.52  1.616953e-07   sklearn  1.000000e-08   1e-08    -15.637552   \n",
       "8   00:00:00.51  3.347581e+01    regain  1.000000e-01     0.1      3.510823   \n",
       "9   00:00:00.69  2.827673e+01    regain  1.000000e-02    0.01      3.342039   \n",
       "10  00:00:02.84  3.347774e+00    regain  1.000000e-03   0.001      1.208296   \n",
       "11  00:00:05.01  3.111948e-01    regain  1.000000e-04   1e-04     -1.167336   \n",
       "12  00:00:07.15  5.576538e-02    regain  1.000000e-05   1e-05     -2.886602   \n",
       "13  00:00:09.43  1.081589e-02    regain  1.000000e-06   1e-06     -4.526739   \n",
       "14  00:00:10.25  6.157905e-03    regain  1.000000e-07   1e-07     -5.090019   \n",
       "15  00:00:10.53  5.352668e-03    regain  1.000000e-08   1e-08     -5.230160   \n",
       "16  00:00:00.30  1.403794e+01      admm  1.000000e-01     0.1      2.641763   \n",
       "17  00:00:00.26  1.403794e+01      admm  1.000000e-02    0.01      2.641763   \n",
       "18  00:00:00.27  1.403794e+01      admm  1.000000e-03   0.001      2.641763   \n",
       "19  00:00:00.27  1.403794e+01      admm  1.000000e-04   1e-04      2.641763   \n",
       "20  00:00:00.60  6.810916e+00      admm  1.000000e-05   1e-05      1.918527   \n",
       "21  00:00:01.64  1.268499e+00      admm  1.000000e-06   1e-06      0.237834   \n",
       "22  00:00:02.99  1.833457e-01      admm  1.000000e-07   1e-07     -1.696382   \n",
       "23  00:00:04.02  5.497481e-02      admm  1.000000e-08   1e-08     -2.900880   \n",
       "24  00:00:00.99  9.486796e+00  kkt_admm  1.000000e-01     0.1      2.249901   \n",
       "25  00:00:02.92  1.649652e+00  kkt_admm  1.000000e-02    0.01      0.500564   \n",
       "26  00:00:05.85  1.833457e-01  kkt_admm  1.000000e-03   0.001     -1.696382   \n",
       "27  00:00:09.46  2.784927e-02  kkt_admm  1.000000e-04   1e-04     -3.580948   \n",
       "28  00:00:14.27  3.111564e-03  kkt_admm  1.000000e-05   1e-05     -5.772630   \n",
       "29  00:00:19.71  3.329562e-04  kkt_admm  1.000000e-06   1e-06     -8.007500   \n",
       "30  00:00:25.46  3.112095e-05  kkt_admm  1.000000e-07   1e-07    -10.377629   \n",
       "31  00:00:33.46  2.909373e-06  kkt_admm  1.000000e-08   1e-08    -12.747573   \n",
       "\n",
       "   sec_time  \n",
       "0     12.43  \n",
       "1     13.80  \n",
       "2     11.11  \n",
       "3     14.43  \n",
       "4     20.41  \n",
       "5     37.77  \n",
       "6     36.11  \n",
       "7     47.52  \n",
       "8     00.51  \n",
       "9     00.69  \n",
       "10    02.84  \n",
       "11    05.01  \n",
       "12    07.15  \n",
       "13    09.43  \n",
       "14    10.25  \n",
       "15    10.53  \n",
       "16    00.30  \n",
       "17    00.26  \n",
       "18    00.27  \n",
       "19    00.27  \n",
       "20    00.60  \n",
       "21    01.64  \n",
       "22    02.99  \n",
       "23    04.02  \n",
       "24    00.99  \n",
       "25    02.92  \n",
       "26    05.85  \n",
       "27    09.46  \n",
       "28    14.27  \n",
       "29    19.71  \n",
       "30    25.46  \n",
       "31    33.46  "
      ]
     },
     "execution_count": 100,
     "metadata": {},
     "output_type": "execute_result"
    }
   ],
   "source": [
    "df"
   ]
  },
  {
   "cell_type": "code",
   "execution_count": 103,
   "id": "raising-array",
   "metadata": {},
   "outputs": [
    {
     "data": {
      "text/html": [
       "<div>\n",
       "<style scoped>\n",
       "    .dataframe tbody tr th:only-of-type {\n",
       "        vertical-align: middle;\n",
       "    }\n",
       "\n",
       "    .dataframe tbody tr th {\n",
       "        vertical-align: top;\n",
       "    }\n",
       "\n",
       "    .dataframe thead th {\n",
       "        text-align: right;\n",
       "    }\n",
       "</style>\n",
       "<table border=\"1\" class=\"dataframe\">\n",
       "  <thead>\n",
       "    <tr style=\"text-align: right;\">\n",
       "      <th></th>\n",
       "      <th>time</th>\n",
       "      <th>distance</th>\n",
       "      <th>method</th>\n",
       "      <th>tol_rate</th>\n",
       "      <th>str_tol</th>\n",
       "      <th>log_distance</th>\n",
       "      <th>sec_time</th>\n",
       "    </tr>\n",
       "  </thead>\n",
       "  <tbody>\n",
       "    <tr>\n",
       "      <th>0</th>\n",
       "      <td>00:00:12.43</td>\n",
       "      <td>0.017961</td>\n",
       "      <td>sklearn</td>\n",
       "      <td>0.10000</td>\n",
       "      <td>0.1</td>\n",
       "      <td>-4.019556</td>\n",
       "      <td>12.43</td>\n",
       "    </tr>\n",
       "    <tr>\n",
       "      <th>1</th>\n",
       "      <td>00:00:13.80</td>\n",
       "      <td>0.000648</td>\n",
       "      <td>sklearn</td>\n",
       "      <td>0.01000</td>\n",
       "      <td>0.01</td>\n",
       "      <td>-7.342277</td>\n",
       "      <td>13.80</td>\n",
       "    </tr>\n",
       "    <tr>\n",
       "      <th>2</th>\n",
       "      <td>00:00:11.11</td>\n",
       "      <td>0.000648</td>\n",
       "      <td>sklearn</td>\n",
       "      <td>0.00100</td>\n",
       "      <td>0.001</td>\n",
       "      <td>-7.342277</td>\n",
       "      <td>11.11</td>\n",
       "    </tr>\n",
       "    <tr>\n",
       "      <th>3</th>\n",
       "      <td>00:00:14.43</td>\n",
       "      <td>0.000230</td>\n",
       "      <td>sklearn</td>\n",
       "      <td>0.00010</td>\n",
       "      <td>1e-04</td>\n",
       "      <td>-8.379582</td>\n",
       "      <td>14.43</td>\n",
       "    </tr>\n",
       "    <tr>\n",
       "      <th>4</th>\n",
       "      <td>00:00:20.41</td>\n",
       "      <td>0.000098</td>\n",
       "      <td>sklearn</td>\n",
       "      <td>0.00001</td>\n",
       "      <td>1e-05</td>\n",
       "      <td>-9.229448</td>\n",
       "      <td>20.41</td>\n",
       "    </tr>\n",
       "  </tbody>\n",
       "</table>\n",
       "</div>"
      ],
      "text/plain": [
       "          time  distance   method  tol_rate str_tol  log_distance  sec_time\n",
       "0  00:00:12.43  0.017961  sklearn   0.10000     0.1     -4.019556     12.43\n",
       "1  00:00:13.80  0.000648  sklearn   0.01000    0.01     -7.342277     13.80\n",
       "2  00:00:11.11  0.000648  sklearn   0.00100   0.001     -7.342277     11.11\n",
       "3  00:00:14.43  0.000230  sklearn   0.00010   1e-04     -8.379582     14.43\n",
       "4  00:00:20.41  0.000098  sklearn   0.00001   1e-05     -9.229448     20.41"
      ]
     },
     "execution_count": 103,
     "metadata": {},
     "output_type": "execute_result"
    }
   ],
   "source": [
    "for i, row in df.iterrows():\n",
    "    sec_time = df['time'][i][-5:]\n",
    "    df.at[i,'sec_time'] = sec_time\n",
    "df['sec_time'] = pd.to_numeric(df['sec_time'])\n",
    "df.head()"
   ]
  },
  {
   "cell_type": "code",
   "execution_count": 165,
   "id": "ruled-paraguay",
   "metadata": {},
   "outputs": [
    {
     "data": {
      "application/vnd.plotly.v1+json": {
       "config": {
        "plotlyServerURL": "https://plot.ly"
       },
       "data": [
        {
         "hovertemplate": "method=sklearn<br>Time, s=%{x}<br>Log_distance=%{y}<br>str_tol=%{text}<extra></extra>",
         "legendgroup": "sklearn",
         "line": {
          "color": "#636efa",
          "dash": "solid"
         },
         "mode": "lines+markers+text",
         "name": "sklearn",
         "orientation": "v",
         "showlegend": true,
         "text": [
          "0.1",
          "0.01",
          "0.001",
          "1e-04",
          "1e-05",
          "1e-06",
          "1e-07",
          "1e-08"
         ],
         "textposition": "top center",
         "type": "scatter",
         "x": [
          12.43,
          13.8,
          11.11,
          14.43,
          20.41,
          37.77,
          36.11,
          47.52
         ],
         "xaxis": "x",
         "y": [
          0.017960938353639357,
          0.000647574155466052,
          0.000647574155466052,
          0.00022950576639934193,
          9.81073668135986e-05,
          8.313534517347904e-06,
          1.0947860573027965e-06,
          1.6169527238535473e-07
         ],
         "yaxis": "y"
        },
        {
         "hovertemplate": "method=regain<br>Time, s=%{x}<br>Log_distance=%{y}<br>str_tol=%{text}<extra></extra>",
         "legendgroup": "regain",
         "line": {
          "color": "#EF553B",
          "dash": "solid"
         },
         "mode": "lines+markers+text",
         "name": "regain",
         "orientation": "v",
         "showlegend": true,
         "text": [
          "0.1",
          "0.01",
          "0.001",
          "1e-04",
          "1e-05",
          "1e-06",
          "1e-07",
          "1e-08"
         ],
         "textposition": "top center",
         "type": "scatter",
         "x": [
          0.51,
          0.69,
          2.84,
          5.01,
          7.15,
          9.43,
          10.25,
          10.53
         ],
         "xaxis": "x",
         "y": [
          33.47581296534492,
          28.276729871231424,
          3.3477742840975218,
          0.3111947817164859,
          0.05576537843539654,
          0.010815888915952353,
          0.006157905008564506,
          0.005352668043256747
         ],
         "yaxis": "y"
        },
        {
         "hovertemplate": "method=admm<br>Time, s=%{x}<br>Log_distance=%{y}<br>str_tol=%{text}<extra></extra>",
         "legendgroup": "admm",
         "line": {
          "color": "#00cc96",
          "dash": "solid"
         },
         "mode": "lines+markers+text",
         "name": "admm",
         "orientation": "v",
         "showlegend": true,
         "text": [
          "0.1",
          "0.01",
          "0.001",
          "1e-04",
          "1e-05",
          "1e-06",
          "1e-07",
          "1e-08"
         ],
         "textposition": "top center",
         "type": "scatter",
         "x": [
          0.3,
          0.26,
          0.27,
          0.27,
          0.6,
          1.64,
          2.99,
          4.02
         ],
         "xaxis": "x",
         "y": [
          14.037935415816582,
          14.037935415816582,
          14.037935415816582,
          14.037935415816582,
          6.810915742888371,
          1.268498896618658,
          0.18334574267555984,
          0.05497481009768083
         ],
         "yaxis": "y"
        },
        {
         "hovertemplate": "method=kkt_admm<br>Time, s=%{x}<br>Log_distance=%{y}<br>str_tol=%{text}<extra></extra>",
         "legendgroup": "kkt_admm",
         "line": {
          "color": "#ab63fa",
          "dash": "solid"
         },
         "mode": "lines+markers+text",
         "name": "kkt_admm",
         "orientation": "v",
         "showlegend": true,
         "text": [
          "0.1",
          "0.01",
          "0.001",
          "1e-04",
          "1e-05",
          "1e-06",
          "1e-07",
          "1e-08"
         ],
         "textposition": "top center",
         "type": "scatter",
         "x": [
          0.99,
          2.92,
          5.85,
          9.46,
          14.27,
          19.71,
          25.46,
          33.46
         ],
         "xaxis": "x",
         "y": [
          9.486795621915817,
          1.649651749402257,
          0.18334574267555984,
          0.02784927139340851,
          0.0031115639052572185,
          0.0003329561603941026,
          3.11209456926935e-05,
          2.9093728018792252e-06
         ],
         "yaxis": "y"
        }
       ],
       "layout": {
        "legend": {
         "title": {
          "text": "method"
         },
         "tracegroupgap": 0
        },
        "template": {
         "data": {
          "bar": [
           {
            "error_x": {
             "color": "#2a3f5f"
            },
            "error_y": {
             "color": "#2a3f5f"
            },
            "marker": {
             "line": {
              "color": "white",
              "width": 0.5
             }
            },
            "type": "bar"
           }
          ],
          "barpolar": [
           {
            "marker": {
             "line": {
              "color": "white",
              "width": 0.5
             }
            },
            "type": "barpolar"
           }
          ],
          "carpet": [
           {
            "aaxis": {
             "endlinecolor": "#2a3f5f",
             "gridcolor": "#C8D4E3",
             "linecolor": "#C8D4E3",
             "minorgridcolor": "#C8D4E3",
             "startlinecolor": "#2a3f5f"
            },
            "baxis": {
             "endlinecolor": "#2a3f5f",
             "gridcolor": "#C8D4E3",
             "linecolor": "#C8D4E3",
             "minorgridcolor": "#C8D4E3",
             "startlinecolor": "#2a3f5f"
            },
            "type": "carpet"
           }
          ],
          "choropleth": [
           {
            "colorbar": {
             "outlinewidth": 0,
             "ticks": ""
            },
            "type": "choropleth"
           }
          ],
          "contour": [
           {
            "colorbar": {
             "outlinewidth": 0,
             "ticks": ""
            },
            "colorscale": [
             [
              0,
              "#0d0887"
             ],
             [
              0.1111111111111111,
              "#46039f"
             ],
             [
              0.2222222222222222,
              "#7201a8"
             ],
             [
              0.3333333333333333,
              "#9c179e"
             ],
             [
              0.4444444444444444,
              "#bd3786"
             ],
             [
              0.5555555555555556,
              "#d8576b"
             ],
             [
              0.6666666666666666,
              "#ed7953"
             ],
             [
              0.7777777777777778,
              "#fb9f3a"
             ],
             [
              0.8888888888888888,
              "#fdca26"
             ],
             [
              1,
              "#f0f921"
             ]
            ],
            "type": "contour"
           }
          ],
          "contourcarpet": [
           {
            "colorbar": {
             "outlinewidth": 0,
             "ticks": ""
            },
            "type": "contourcarpet"
           }
          ],
          "heatmap": [
           {
            "colorbar": {
             "outlinewidth": 0,
             "ticks": ""
            },
            "colorscale": [
             [
              0,
              "#0d0887"
             ],
             [
              0.1111111111111111,
              "#46039f"
             ],
             [
              0.2222222222222222,
              "#7201a8"
             ],
             [
              0.3333333333333333,
              "#9c179e"
             ],
             [
              0.4444444444444444,
              "#bd3786"
             ],
             [
              0.5555555555555556,
              "#d8576b"
             ],
             [
              0.6666666666666666,
              "#ed7953"
             ],
             [
              0.7777777777777778,
              "#fb9f3a"
             ],
             [
              0.8888888888888888,
              "#fdca26"
             ],
             [
              1,
              "#f0f921"
             ]
            ],
            "type": "heatmap"
           }
          ],
          "heatmapgl": [
           {
            "colorbar": {
             "outlinewidth": 0,
             "ticks": ""
            },
            "colorscale": [
             [
              0,
              "#0d0887"
             ],
             [
              0.1111111111111111,
              "#46039f"
             ],
             [
              0.2222222222222222,
              "#7201a8"
             ],
             [
              0.3333333333333333,
              "#9c179e"
             ],
             [
              0.4444444444444444,
              "#bd3786"
             ],
             [
              0.5555555555555556,
              "#d8576b"
             ],
             [
              0.6666666666666666,
              "#ed7953"
             ],
             [
              0.7777777777777778,
              "#fb9f3a"
             ],
             [
              0.8888888888888888,
              "#fdca26"
             ],
             [
              1,
              "#f0f921"
             ]
            ],
            "type": "heatmapgl"
           }
          ],
          "histogram": [
           {
            "marker": {
             "colorbar": {
              "outlinewidth": 0,
              "ticks": ""
             }
            },
            "type": "histogram"
           }
          ],
          "histogram2d": [
           {
            "colorbar": {
             "outlinewidth": 0,
             "ticks": ""
            },
            "colorscale": [
             [
              0,
              "#0d0887"
             ],
             [
              0.1111111111111111,
              "#46039f"
             ],
             [
              0.2222222222222222,
              "#7201a8"
             ],
             [
              0.3333333333333333,
              "#9c179e"
             ],
             [
              0.4444444444444444,
              "#bd3786"
             ],
             [
              0.5555555555555556,
              "#d8576b"
             ],
             [
              0.6666666666666666,
              "#ed7953"
             ],
             [
              0.7777777777777778,
              "#fb9f3a"
             ],
             [
              0.8888888888888888,
              "#fdca26"
             ],
             [
              1,
              "#f0f921"
             ]
            ],
            "type": "histogram2d"
           }
          ],
          "histogram2dcontour": [
           {
            "colorbar": {
             "outlinewidth": 0,
             "ticks": ""
            },
            "colorscale": [
             [
              0,
              "#0d0887"
             ],
             [
              0.1111111111111111,
              "#46039f"
             ],
             [
              0.2222222222222222,
              "#7201a8"
             ],
             [
              0.3333333333333333,
              "#9c179e"
             ],
             [
              0.4444444444444444,
              "#bd3786"
             ],
             [
              0.5555555555555556,
              "#d8576b"
             ],
             [
              0.6666666666666666,
              "#ed7953"
             ],
             [
              0.7777777777777778,
              "#fb9f3a"
             ],
             [
              0.8888888888888888,
              "#fdca26"
             ],
             [
              1,
              "#f0f921"
             ]
            ],
            "type": "histogram2dcontour"
           }
          ],
          "mesh3d": [
           {
            "colorbar": {
             "outlinewidth": 0,
             "ticks": ""
            },
            "type": "mesh3d"
           }
          ],
          "parcoords": [
           {
            "line": {
             "colorbar": {
              "outlinewidth": 0,
              "ticks": ""
             }
            },
            "type": "parcoords"
           }
          ],
          "pie": [
           {
            "automargin": true,
            "type": "pie"
           }
          ],
          "scatter": [
           {
            "marker": {
             "colorbar": {
              "outlinewidth": 0,
              "ticks": ""
             }
            },
            "type": "scatter"
           }
          ],
          "scatter3d": [
           {
            "line": {
             "colorbar": {
              "outlinewidth": 0,
              "ticks": ""
             }
            },
            "marker": {
             "colorbar": {
              "outlinewidth": 0,
              "ticks": ""
             }
            },
            "type": "scatter3d"
           }
          ],
          "scattercarpet": [
           {
            "marker": {
             "colorbar": {
              "outlinewidth": 0,
              "ticks": ""
             }
            },
            "type": "scattercarpet"
           }
          ],
          "scattergeo": [
           {
            "marker": {
             "colorbar": {
              "outlinewidth": 0,
              "ticks": ""
             }
            },
            "type": "scattergeo"
           }
          ],
          "scattergl": [
           {
            "marker": {
             "colorbar": {
              "outlinewidth": 0,
              "ticks": ""
             }
            },
            "type": "scattergl"
           }
          ],
          "scattermapbox": [
           {
            "marker": {
             "colorbar": {
              "outlinewidth": 0,
              "ticks": ""
             }
            },
            "type": "scattermapbox"
           }
          ],
          "scatterpolar": [
           {
            "marker": {
             "colorbar": {
              "outlinewidth": 0,
              "ticks": ""
             }
            },
            "type": "scatterpolar"
           }
          ],
          "scatterpolargl": [
           {
            "marker": {
             "colorbar": {
              "outlinewidth": 0,
              "ticks": ""
             }
            },
            "type": "scatterpolargl"
           }
          ],
          "scatterternary": [
           {
            "marker": {
             "colorbar": {
              "outlinewidth": 0,
              "ticks": ""
             }
            },
            "type": "scatterternary"
           }
          ],
          "surface": [
           {
            "colorbar": {
             "outlinewidth": 0,
             "ticks": ""
            },
            "colorscale": [
             [
              0,
              "#0d0887"
             ],
             [
              0.1111111111111111,
              "#46039f"
             ],
             [
              0.2222222222222222,
              "#7201a8"
             ],
             [
              0.3333333333333333,
              "#9c179e"
             ],
             [
              0.4444444444444444,
              "#bd3786"
             ],
             [
              0.5555555555555556,
              "#d8576b"
             ],
             [
              0.6666666666666666,
              "#ed7953"
             ],
             [
              0.7777777777777778,
              "#fb9f3a"
             ],
             [
              0.8888888888888888,
              "#fdca26"
             ],
             [
              1,
              "#f0f921"
             ]
            ],
            "type": "surface"
           }
          ],
          "table": [
           {
            "cells": {
             "fill": {
              "color": "#EBF0F8"
             },
             "line": {
              "color": "white"
             }
            },
            "header": {
             "fill": {
              "color": "#C8D4E3"
             },
             "line": {
              "color": "white"
             }
            },
            "type": "table"
           }
          ]
         },
         "layout": {
          "annotationdefaults": {
           "arrowcolor": "#2a3f5f",
           "arrowhead": 0,
           "arrowwidth": 1
          },
          "autotypenumbers": "strict",
          "coloraxis": {
           "colorbar": {
            "outlinewidth": 0,
            "ticks": ""
           }
          },
          "colorscale": {
           "diverging": [
            [
             0,
             "#8e0152"
            ],
            [
             0.1,
             "#c51b7d"
            ],
            [
             0.2,
             "#de77ae"
            ],
            [
             0.3,
             "#f1b6da"
            ],
            [
             0.4,
             "#fde0ef"
            ],
            [
             0.5,
             "#f7f7f7"
            ],
            [
             0.6,
             "#e6f5d0"
            ],
            [
             0.7,
             "#b8e186"
            ],
            [
             0.8,
             "#7fbc41"
            ],
            [
             0.9,
             "#4d9221"
            ],
            [
             1,
             "#276419"
            ]
           ],
           "sequential": [
            [
             0,
             "#0d0887"
            ],
            [
             0.1111111111111111,
             "#46039f"
            ],
            [
             0.2222222222222222,
             "#7201a8"
            ],
            [
             0.3333333333333333,
             "#9c179e"
            ],
            [
             0.4444444444444444,
             "#bd3786"
            ],
            [
             0.5555555555555556,
             "#d8576b"
            ],
            [
             0.6666666666666666,
             "#ed7953"
            ],
            [
             0.7777777777777778,
             "#fb9f3a"
            ],
            [
             0.8888888888888888,
             "#fdca26"
            ],
            [
             1,
             "#f0f921"
            ]
           ],
           "sequentialminus": [
            [
             0,
             "#0d0887"
            ],
            [
             0.1111111111111111,
             "#46039f"
            ],
            [
             0.2222222222222222,
             "#7201a8"
            ],
            [
             0.3333333333333333,
             "#9c179e"
            ],
            [
             0.4444444444444444,
             "#bd3786"
            ],
            [
             0.5555555555555556,
             "#d8576b"
            ],
            [
             0.6666666666666666,
             "#ed7953"
            ],
            [
             0.7777777777777778,
             "#fb9f3a"
            ],
            [
             0.8888888888888888,
             "#fdca26"
            ],
            [
             1,
             "#f0f921"
            ]
           ]
          },
          "colorway": [
           "#636efa",
           "#EF553B",
           "#00cc96",
           "#ab63fa",
           "#FFA15A",
           "#19d3f3",
           "#FF6692",
           "#B6E880",
           "#FF97FF",
           "#FECB52"
          ],
          "font": {
           "color": "#2a3f5f"
          },
          "geo": {
           "bgcolor": "white",
           "lakecolor": "white",
           "landcolor": "white",
           "showlakes": true,
           "showland": true,
           "subunitcolor": "#C8D4E3"
          },
          "hoverlabel": {
           "align": "left"
          },
          "hovermode": "closest",
          "mapbox": {
           "style": "light"
          },
          "paper_bgcolor": "white",
          "plot_bgcolor": "white",
          "polar": {
           "angularaxis": {
            "gridcolor": "#EBF0F8",
            "linecolor": "#EBF0F8",
            "ticks": ""
           },
           "bgcolor": "white",
           "radialaxis": {
            "gridcolor": "#EBF0F8",
            "linecolor": "#EBF0F8",
            "ticks": ""
           }
          },
          "scene": {
           "xaxis": {
            "backgroundcolor": "white",
            "gridcolor": "#DFE8F3",
            "gridwidth": 2,
            "linecolor": "#EBF0F8",
            "showbackground": true,
            "ticks": "",
            "zerolinecolor": "#EBF0F8"
           },
           "yaxis": {
            "backgroundcolor": "white",
            "gridcolor": "#DFE8F3",
            "gridwidth": 2,
            "linecolor": "#EBF0F8",
            "showbackground": true,
            "ticks": "",
            "zerolinecolor": "#EBF0F8"
           },
           "zaxis": {
            "backgroundcolor": "white",
            "gridcolor": "#DFE8F3",
            "gridwidth": 2,
            "linecolor": "#EBF0F8",
            "showbackground": true,
            "ticks": "",
            "zerolinecolor": "#EBF0F8"
           }
          },
          "shapedefaults": {
           "line": {
            "color": "#2a3f5f"
           }
          },
          "ternary": {
           "aaxis": {
            "gridcolor": "#DFE8F3",
            "linecolor": "#A2B1C6",
            "ticks": ""
           },
           "baxis": {
            "gridcolor": "#DFE8F3",
            "linecolor": "#A2B1C6",
            "ticks": ""
           },
           "bgcolor": "white",
           "caxis": {
            "gridcolor": "#DFE8F3",
            "linecolor": "#A2B1C6",
            "ticks": ""
           }
          },
          "title": {
           "x": 0.05
          },
          "xaxis": {
           "automargin": true,
           "gridcolor": "#EBF0F8",
           "linecolor": "#EBF0F8",
           "ticks": "",
           "title": {
            "standoff": 15
           },
           "zerolinecolor": "#EBF0F8",
           "zerolinewidth": 2
          },
          "yaxis": {
           "automargin": true,
           "gridcolor": "#EBF0F8",
           "linecolor": "#EBF0F8",
           "ticks": "",
           "title": {
            "standoff": 15
           },
           "zerolinecolor": "#EBF0F8",
           "zerolinewidth": 2
          }
         }
        },
        "title": {
         "text": "ADMM perfomance comparison"
        },
        "xaxis": {
         "anchor": "y",
         "domain": [
          0,
          1
         ],
         "title": {
          "text": "Time, s"
         }
        },
        "yaxis": {
         "anchor": "x",
         "domain": [
          0,
          1
         ],
         "title": {
          "text": "Log_distance"
         },
         "type": "log"
        }
       }
      },
      "text/html": [
       "<div>                            <div id=\"f3f416aa-5ef1-46af-b342-e8b4ddafb33d\" class=\"plotly-graph-div\" style=\"height:525px; width:100%;\"></div>            <script type=\"text/javascript\">                require([\"plotly\"], function(Plotly) {                    window.PLOTLYENV=window.PLOTLYENV || {};                                    if (document.getElementById(\"f3f416aa-5ef1-46af-b342-e8b4ddafb33d\")) {                    Plotly.newPlot(                        \"f3f416aa-5ef1-46af-b342-e8b4ddafb33d\",                        [{\"hovertemplate\": \"method=sklearn<br>Time, s=%{x}<br>Log_distance=%{y}<br>str_tol=%{text}<extra></extra>\", \"legendgroup\": \"sklearn\", \"line\": {\"color\": \"#636efa\", \"dash\": \"solid\"}, \"mode\": \"lines+markers+text\", \"name\": \"sklearn\", \"orientation\": \"v\", \"showlegend\": true, \"text\": [\"0.1\", \"0.01\", \"0.001\", \"1e-04\", \"1e-05\", \"1e-06\", \"1e-07\", \"1e-08\"], \"textposition\": \"top center\", \"type\": \"scatter\", \"x\": [12.43, 13.8, 11.11, 14.43, 20.41, 37.77, 36.11, 47.52], \"xaxis\": \"x\", \"y\": [0.017960938353639357, 0.000647574155466052, 0.000647574155466052, 0.00022950576639934193, 9.81073668135986e-05, 8.313534517347904e-06, 1.0947860573027965e-06, 1.6169527238535473e-07], \"yaxis\": \"y\"}, {\"hovertemplate\": \"method=regain<br>Time, s=%{x}<br>Log_distance=%{y}<br>str_tol=%{text}<extra></extra>\", \"legendgroup\": \"regain\", \"line\": {\"color\": \"#EF553B\", \"dash\": \"solid\"}, \"mode\": \"lines+markers+text\", \"name\": \"regain\", \"orientation\": \"v\", \"showlegend\": true, \"text\": [\"0.1\", \"0.01\", \"0.001\", \"1e-04\", \"1e-05\", \"1e-06\", \"1e-07\", \"1e-08\"], \"textposition\": \"top center\", \"type\": \"scatter\", \"x\": [0.51, 0.69, 2.84, 5.01, 7.15, 9.43, 10.25, 10.53], \"xaxis\": \"x\", \"y\": [33.47581296534492, 28.276729871231424, 3.3477742840975218, 0.3111947817164859, 0.05576537843539654, 0.010815888915952353, 0.006157905008564506, 0.005352668043256747], \"yaxis\": \"y\"}, {\"hovertemplate\": \"method=admm<br>Time, s=%{x}<br>Log_distance=%{y}<br>str_tol=%{text}<extra></extra>\", \"legendgroup\": \"admm\", \"line\": {\"color\": \"#00cc96\", \"dash\": \"solid\"}, \"mode\": \"lines+markers+text\", \"name\": \"admm\", \"orientation\": \"v\", \"showlegend\": true, \"text\": [\"0.1\", \"0.01\", \"0.001\", \"1e-04\", \"1e-05\", \"1e-06\", \"1e-07\", \"1e-08\"], \"textposition\": \"top center\", \"type\": \"scatter\", \"x\": [0.3, 0.26, 0.27, 0.27, 0.6, 1.64, 2.99, 4.02], \"xaxis\": \"x\", \"y\": [14.037935415816582, 14.037935415816582, 14.037935415816582, 14.037935415816582, 6.810915742888371, 1.268498896618658, 0.18334574267555984, 0.05497481009768083], \"yaxis\": \"y\"}, {\"hovertemplate\": \"method=kkt_admm<br>Time, s=%{x}<br>Log_distance=%{y}<br>str_tol=%{text}<extra></extra>\", \"legendgroup\": \"kkt_admm\", \"line\": {\"color\": \"#ab63fa\", \"dash\": \"solid\"}, \"mode\": \"lines+markers+text\", \"name\": \"kkt_admm\", \"orientation\": \"v\", \"showlegend\": true, \"text\": [\"0.1\", \"0.01\", \"0.001\", \"1e-04\", \"1e-05\", \"1e-06\", \"1e-07\", \"1e-08\"], \"textposition\": \"top center\", \"type\": \"scatter\", \"x\": [0.99, 2.92, 5.85, 9.46, 14.27, 19.71, 25.46, 33.46], \"xaxis\": \"x\", \"y\": [9.486795621915817, 1.649651749402257, 0.18334574267555984, 0.02784927139340851, 0.0031115639052572185, 0.0003329561603941026, 3.11209456926935e-05, 2.9093728018792252e-06], \"yaxis\": \"y\"}],                        {\"legend\": {\"title\": {\"text\": \"method\"}, \"tracegroupgap\": 0}, \"template\": {\"data\": {\"bar\": [{\"error_x\": {\"color\": \"#2a3f5f\"}, \"error_y\": {\"color\": \"#2a3f5f\"}, \"marker\": {\"line\": {\"color\": \"white\", \"width\": 0.5}}, \"type\": \"bar\"}], \"barpolar\": [{\"marker\": {\"line\": {\"color\": \"white\", \"width\": 0.5}}, \"type\": \"barpolar\"}], \"carpet\": [{\"aaxis\": {\"endlinecolor\": \"#2a3f5f\", \"gridcolor\": \"#C8D4E3\", \"linecolor\": \"#C8D4E3\", \"minorgridcolor\": \"#C8D4E3\", \"startlinecolor\": \"#2a3f5f\"}, \"baxis\": {\"endlinecolor\": \"#2a3f5f\", \"gridcolor\": \"#C8D4E3\", \"linecolor\": \"#C8D4E3\", \"minorgridcolor\": \"#C8D4E3\", \"startlinecolor\": \"#2a3f5f\"}, \"type\": \"carpet\"}], \"choropleth\": [{\"colorbar\": {\"outlinewidth\": 0, \"ticks\": \"\"}, \"type\": \"choropleth\"}], \"contour\": [{\"colorbar\": {\"outlinewidth\": 0, \"ticks\": \"\"}, \"colorscale\": [[0.0, \"#0d0887\"], [0.1111111111111111, \"#46039f\"], [0.2222222222222222, \"#7201a8\"], [0.3333333333333333, \"#9c179e\"], [0.4444444444444444, \"#bd3786\"], [0.5555555555555556, \"#d8576b\"], [0.6666666666666666, \"#ed7953\"], [0.7777777777777778, \"#fb9f3a\"], [0.8888888888888888, \"#fdca26\"], [1.0, \"#f0f921\"]], \"type\": \"contour\"}], \"contourcarpet\": [{\"colorbar\": {\"outlinewidth\": 0, \"ticks\": \"\"}, \"type\": \"contourcarpet\"}], \"heatmap\": [{\"colorbar\": {\"outlinewidth\": 0, \"ticks\": \"\"}, \"colorscale\": [[0.0, \"#0d0887\"], [0.1111111111111111, \"#46039f\"], [0.2222222222222222, \"#7201a8\"], [0.3333333333333333, \"#9c179e\"], [0.4444444444444444, \"#bd3786\"], [0.5555555555555556, \"#d8576b\"], [0.6666666666666666, \"#ed7953\"], [0.7777777777777778, \"#fb9f3a\"], [0.8888888888888888, \"#fdca26\"], [1.0, \"#f0f921\"]], \"type\": \"heatmap\"}], \"heatmapgl\": [{\"colorbar\": {\"outlinewidth\": 0, \"ticks\": \"\"}, \"colorscale\": [[0.0, \"#0d0887\"], [0.1111111111111111, \"#46039f\"], [0.2222222222222222, \"#7201a8\"], [0.3333333333333333, \"#9c179e\"], [0.4444444444444444, \"#bd3786\"], [0.5555555555555556, \"#d8576b\"], [0.6666666666666666, \"#ed7953\"], [0.7777777777777778, \"#fb9f3a\"], [0.8888888888888888, \"#fdca26\"], [1.0, \"#f0f921\"]], \"type\": \"heatmapgl\"}], \"histogram\": [{\"marker\": {\"colorbar\": {\"outlinewidth\": 0, \"ticks\": \"\"}}, \"type\": \"histogram\"}], \"histogram2d\": [{\"colorbar\": {\"outlinewidth\": 0, \"ticks\": \"\"}, \"colorscale\": [[0.0, \"#0d0887\"], [0.1111111111111111, \"#46039f\"], [0.2222222222222222, \"#7201a8\"], [0.3333333333333333, \"#9c179e\"], [0.4444444444444444, \"#bd3786\"], [0.5555555555555556, \"#d8576b\"], [0.6666666666666666, \"#ed7953\"], [0.7777777777777778, \"#fb9f3a\"], [0.8888888888888888, \"#fdca26\"], [1.0, \"#f0f921\"]], \"type\": \"histogram2d\"}], \"histogram2dcontour\": [{\"colorbar\": {\"outlinewidth\": 0, \"ticks\": \"\"}, \"colorscale\": [[0.0, \"#0d0887\"], [0.1111111111111111, \"#46039f\"], [0.2222222222222222, \"#7201a8\"], [0.3333333333333333, \"#9c179e\"], [0.4444444444444444, \"#bd3786\"], [0.5555555555555556, \"#d8576b\"], [0.6666666666666666, \"#ed7953\"], [0.7777777777777778, \"#fb9f3a\"], [0.8888888888888888, \"#fdca26\"], [1.0, \"#f0f921\"]], \"type\": \"histogram2dcontour\"}], \"mesh3d\": [{\"colorbar\": {\"outlinewidth\": 0, \"ticks\": \"\"}, \"type\": \"mesh3d\"}], \"parcoords\": [{\"line\": {\"colorbar\": {\"outlinewidth\": 0, \"ticks\": \"\"}}, \"type\": \"parcoords\"}], \"pie\": [{\"automargin\": true, \"type\": \"pie\"}], \"scatter\": [{\"marker\": {\"colorbar\": {\"outlinewidth\": 0, \"ticks\": \"\"}}, \"type\": \"scatter\"}], \"scatter3d\": [{\"line\": {\"colorbar\": {\"outlinewidth\": 0, \"ticks\": \"\"}}, \"marker\": {\"colorbar\": {\"outlinewidth\": 0, \"ticks\": \"\"}}, \"type\": \"scatter3d\"}], \"scattercarpet\": [{\"marker\": {\"colorbar\": {\"outlinewidth\": 0, \"ticks\": \"\"}}, \"type\": \"scattercarpet\"}], \"scattergeo\": [{\"marker\": {\"colorbar\": {\"outlinewidth\": 0, \"ticks\": \"\"}}, \"type\": \"scattergeo\"}], \"scattergl\": [{\"marker\": {\"colorbar\": {\"outlinewidth\": 0, \"ticks\": \"\"}}, \"type\": \"scattergl\"}], \"scattermapbox\": [{\"marker\": {\"colorbar\": {\"outlinewidth\": 0, \"ticks\": \"\"}}, \"type\": \"scattermapbox\"}], \"scatterpolar\": [{\"marker\": {\"colorbar\": {\"outlinewidth\": 0, \"ticks\": \"\"}}, \"type\": \"scatterpolar\"}], \"scatterpolargl\": [{\"marker\": {\"colorbar\": {\"outlinewidth\": 0, \"ticks\": \"\"}}, \"type\": \"scatterpolargl\"}], \"scatterternary\": [{\"marker\": {\"colorbar\": {\"outlinewidth\": 0, \"ticks\": \"\"}}, \"type\": \"scatterternary\"}], \"surface\": [{\"colorbar\": {\"outlinewidth\": 0, \"ticks\": \"\"}, \"colorscale\": [[0.0, \"#0d0887\"], [0.1111111111111111, \"#46039f\"], [0.2222222222222222, \"#7201a8\"], [0.3333333333333333, \"#9c179e\"], [0.4444444444444444, \"#bd3786\"], [0.5555555555555556, \"#d8576b\"], [0.6666666666666666, \"#ed7953\"], [0.7777777777777778, \"#fb9f3a\"], [0.8888888888888888, \"#fdca26\"], [1.0, \"#f0f921\"]], \"type\": \"surface\"}], \"table\": [{\"cells\": {\"fill\": {\"color\": \"#EBF0F8\"}, \"line\": {\"color\": \"white\"}}, \"header\": {\"fill\": {\"color\": \"#C8D4E3\"}, \"line\": {\"color\": \"white\"}}, \"type\": \"table\"}]}, \"layout\": {\"annotationdefaults\": {\"arrowcolor\": \"#2a3f5f\", \"arrowhead\": 0, \"arrowwidth\": 1}, \"autotypenumbers\": \"strict\", \"coloraxis\": {\"colorbar\": {\"outlinewidth\": 0, \"ticks\": \"\"}}, \"colorscale\": {\"diverging\": [[0, \"#8e0152\"], [0.1, \"#c51b7d\"], [0.2, \"#de77ae\"], [0.3, \"#f1b6da\"], [0.4, \"#fde0ef\"], [0.5, \"#f7f7f7\"], [0.6, \"#e6f5d0\"], [0.7, \"#b8e186\"], [0.8, \"#7fbc41\"], [0.9, \"#4d9221\"], [1, \"#276419\"]], \"sequential\": [[0.0, \"#0d0887\"], [0.1111111111111111, \"#46039f\"], [0.2222222222222222, \"#7201a8\"], [0.3333333333333333, \"#9c179e\"], [0.4444444444444444, \"#bd3786\"], [0.5555555555555556, \"#d8576b\"], [0.6666666666666666, \"#ed7953\"], [0.7777777777777778, \"#fb9f3a\"], [0.8888888888888888, \"#fdca26\"], [1.0, \"#f0f921\"]], \"sequentialminus\": [[0.0, \"#0d0887\"], [0.1111111111111111, \"#46039f\"], [0.2222222222222222, \"#7201a8\"], [0.3333333333333333, \"#9c179e\"], [0.4444444444444444, \"#bd3786\"], [0.5555555555555556, \"#d8576b\"], [0.6666666666666666, \"#ed7953\"], [0.7777777777777778, \"#fb9f3a\"], [0.8888888888888888, \"#fdca26\"], [1.0, \"#f0f921\"]]}, \"colorway\": [\"#636efa\", \"#EF553B\", \"#00cc96\", \"#ab63fa\", \"#FFA15A\", \"#19d3f3\", \"#FF6692\", \"#B6E880\", \"#FF97FF\", \"#FECB52\"], \"font\": {\"color\": \"#2a3f5f\"}, \"geo\": {\"bgcolor\": \"white\", \"lakecolor\": \"white\", \"landcolor\": \"white\", \"showlakes\": true, \"showland\": true, \"subunitcolor\": \"#C8D4E3\"}, \"hoverlabel\": {\"align\": \"left\"}, \"hovermode\": \"closest\", \"mapbox\": {\"style\": \"light\"}, \"paper_bgcolor\": \"white\", \"plot_bgcolor\": \"white\", \"polar\": {\"angularaxis\": {\"gridcolor\": \"#EBF0F8\", \"linecolor\": \"#EBF0F8\", \"ticks\": \"\"}, \"bgcolor\": \"white\", \"radialaxis\": {\"gridcolor\": \"#EBF0F8\", \"linecolor\": \"#EBF0F8\", \"ticks\": \"\"}}, \"scene\": {\"xaxis\": {\"backgroundcolor\": \"white\", \"gridcolor\": \"#DFE8F3\", \"gridwidth\": 2, \"linecolor\": \"#EBF0F8\", \"showbackground\": true, \"ticks\": \"\", \"zerolinecolor\": \"#EBF0F8\"}, \"yaxis\": {\"backgroundcolor\": \"white\", \"gridcolor\": \"#DFE8F3\", \"gridwidth\": 2, \"linecolor\": \"#EBF0F8\", \"showbackground\": true, \"ticks\": \"\", \"zerolinecolor\": \"#EBF0F8\"}, \"zaxis\": {\"backgroundcolor\": \"white\", \"gridcolor\": \"#DFE8F3\", \"gridwidth\": 2, \"linecolor\": \"#EBF0F8\", \"showbackground\": true, \"ticks\": \"\", \"zerolinecolor\": \"#EBF0F8\"}}, \"shapedefaults\": {\"line\": {\"color\": \"#2a3f5f\"}}, \"ternary\": {\"aaxis\": {\"gridcolor\": \"#DFE8F3\", \"linecolor\": \"#A2B1C6\", \"ticks\": \"\"}, \"baxis\": {\"gridcolor\": \"#DFE8F3\", \"linecolor\": \"#A2B1C6\", \"ticks\": \"\"}, \"bgcolor\": \"white\", \"caxis\": {\"gridcolor\": \"#DFE8F3\", \"linecolor\": \"#A2B1C6\", \"ticks\": \"\"}}, \"title\": {\"x\": 0.05}, \"xaxis\": {\"automargin\": true, \"gridcolor\": \"#EBF0F8\", \"linecolor\": \"#EBF0F8\", \"ticks\": \"\", \"title\": {\"standoff\": 15}, \"zerolinecolor\": \"#EBF0F8\", \"zerolinewidth\": 2}, \"yaxis\": {\"automargin\": true, \"gridcolor\": \"#EBF0F8\", \"linecolor\": \"#EBF0F8\", \"ticks\": \"\", \"title\": {\"standoff\": 15}, \"zerolinecolor\": \"#EBF0F8\", \"zerolinewidth\": 2}}}, \"title\": {\"text\": \"ADMM perfomance comparison\"}, \"xaxis\": {\"anchor\": \"y\", \"domain\": [0.0, 1.0], \"title\": {\"text\": \"Time, s\"}}, \"yaxis\": {\"anchor\": \"x\", \"domain\": [0.0, 1.0], \"title\": {\"text\": \"Log_distance\"}, \"type\": \"log\"}},                        {\"responsive\": true}                    ).then(function(){\n",
       "                            \n",
       "var gd = document.getElementById('f3f416aa-5ef1-46af-b342-e8b4ddafb33d');\n",
       "var x = new MutationObserver(function (mutations, observer) {{\n",
       "        var display = window.getComputedStyle(gd).display;\n",
       "        if (!display || display === 'none') {{\n",
       "            console.log([gd, 'removed!']);\n",
       "            Plotly.purge(gd);\n",
       "            observer.disconnect();\n",
       "        }}\n",
       "}});\n",
       "\n",
       "// Listen for the removal of the full notebook cells\n",
       "var notebookContainer = gd.closest('#notebook-container');\n",
       "if (notebookContainer) {{\n",
       "    x.observe(notebookContainer, {childList: true});\n",
       "}}\n",
       "\n",
       "// Listen for the clearing of the current output cell\n",
       "var outputEl = gd.closest('.output');\n",
       "if (outputEl) {{\n",
       "    x.observe(outputEl, {childList: true});\n",
       "}}\n",
       "\n",
       "                        })                };                });            </script>        </div>"
      ]
     },
     "metadata": {},
     "output_type": "display_data"
    }
   ],
   "source": [
    "fig = px.line(df, x=\"sec_time\", y=\"distance\", color= \"method\", log_y = True, text = \"str_tol\",\n",
    "        labels={\"sec_time\": \"Time, s\",\n",
    "                \"distance\": \"Log_distance\",\n",
    "                \"method\": \"method\"\n",
    "                 },\n",
    "        template = \"plotly_white\",\n",
    "              title='ADMM perfomance comparison')\n",
    "fig.update_traces(textposition='top center')\n",
    "fig.show()"
   ]
  },
  {
   "cell_type": "code",
   "execution_count": 157,
   "id": "turkish-command",
   "metadata": {},
   "outputs": [
    {
     "data": {
      "application/vnd.plotly.v1+json": {
       "config": {
        "plotlyServerURL": "https://plot.ly"
       },
       "data": [
        {
         "hovertemplate": "method=sklearn<br>sec_time=%{marker.size}<br>distance=%{y}<br>str_tol=%{text}<extra></extra>",
         "legendgroup": "sklearn",
         "marker": {
          "color": "#636efa",
          "size": [
           12.43,
           13.8,
           11.11,
           14.43,
           20.41,
           37.77,
           36.11,
           47.52
          ],
          "sizemode": "area",
          "sizeref": 0.1188,
          "symbol": "circle"
         },
         "mode": "markers+text",
         "name": "sklearn",
         "orientation": "v",
         "showlegend": true,
         "text": [
          "0.1",
          "0.01",
          "0.001",
          "1e-04",
          "1e-05",
          "1e-06",
          "1e-07",
          "1e-08"
         ],
         "textposition": "top center",
         "type": "scatter",
         "x": [
          12.43,
          13.8,
          11.11,
          14.43,
          20.41,
          37.77,
          36.11,
          47.52
         ],
         "xaxis": "x",
         "y": [
          0.017960938353639357,
          0.000647574155466052,
          0.000647574155466052,
          0.00022950576639934193,
          9.81073668135986e-05,
          8.313534517347904e-06,
          1.0947860573027965e-06,
          1.6169527238535473e-07
         ],
         "yaxis": "y"
        },
        {
         "hovertemplate": "method=regain<br>sec_time=%{marker.size}<br>distance=%{y}<br>str_tol=%{text}<extra></extra>",
         "legendgroup": "regain",
         "marker": {
          "color": "#EF553B",
          "size": [
           0.51,
           0.69,
           2.84,
           5.01,
           7.15,
           9.43,
           10.25,
           10.53
          ],
          "sizemode": "area",
          "sizeref": 0.1188,
          "symbol": "circle"
         },
         "mode": "markers+text",
         "name": "regain",
         "orientation": "v",
         "showlegend": true,
         "text": [
          "0.1",
          "0.01",
          "0.001",
          "1e-04",
          "1e-05",
          "1e-06",
          "1e-07",
          "1e-08"
         ],
         "textposition": "top center",
         "type": "scatter",
         "x": [
          0.51,
          0.69,
          2.84,
          5.01,
          7.15,
          9.43,
          10.25,
          10.53
         ],
         "xaxis": "x",
         "y": [
          33.47581296534492,
          28.276729871231424,
          3.3477742840975218,
          0.3111947817164859,
          0.05576537843539654,
          0.010815888915952353,
          0.006157905008564506,
          0.005352668043256747
         ],
         "yaxis": "y"
        },
        {
         "hovertemplate": "method=admm<br>sec_time=%{marker.size}<br>distance=%{y}<br>str_tol=%{text}<extra></extra>",
         "legendgroup": "admm",
         "marker": {
          "color": "#00cc96",
          "size": [
           0.3,
           0.26,
           0.27,
           0.27,
           0.6,
           1.64,
           2.99,
           4.02
          ],
          "sizemode": "area",
          "sizeref": 0.1188,
          "symbol": "circle"
         },
         "mode": "markers+text",
         "name": "admm",
         "orientation": "v",
         "showlegend": true,
         "text": [
          "0.1",
          "0.01",
          "0.001",
          "1e-04",
          "1e-05",
          "1e-06",
          "1e-07",
          "1e-08"
         ],
         "textposition": "top center",
         "type": "scatter",
         "x": [
          0.3,
          0.26,
          0.27,
          0.27,
          0.6,
          1.64,
          2.99,
          4.02
         ],
         "xaxis": "x",
         "y": [
          14.037935415816582,
          14.037935415816582,
          14.037935415816582,
          14.037935415816582,
          6.810915742888371,
          1.268498896618658,
          0.18334574267555984,
          0.05497481009768083
         ],
         "yaxis": "y"
        },
        {
         "hovertemplate": "method=kkt_admm<br>sec_time=%{marker.size}<br>distance=%{y}<br>str_tol=%{text}<extra></extra>",
         "legendgroup": "kkt_admm",
         "marker": {
          "color": "#ab63fa",
          "size": [
           0.99,
           2.92,
           5.85,
           9.46,
           14.27,
           19.71,
           25.46,
           33.46
          ],
          "sizemode": "area",
          "sizeref": 0.1188,
          "symbol": "circle"
         },
         "mode": "markers+text",
         "name": "kkt_admm",
         "orientation": "v",
         "showlegend": true,
         "text": [
          "0.1",
          "0.01",
          "0.001",
          "1e-04",
          "1e-05",
          "1e-06",
          "1e-07",
          "1e-08"
         ],
         "textposition": "top center",
         "type": "scatter",
         "x": [
          0.99,
          2.92,
          5.85,
          9.46,
          14.27,
          19.71,
          25.46,
          33.46
         ],
         "xaxis": "x",
         "y": [
          9.486795621915817,
          1.649651749402257,
          0.18334574267555984,
          0.02784927139340851,
          0.0031115639052572185,
          0.0003329561603941026,
          3.11209456926935e-05,
          2.9093728018792252e-06
         ],
         "yaxis": "y"
        }
       ],
       "layout": {
        "legend": {
         "itemsizing": "constant",
         "title": {
          "text": "method"
         },
         "tracegroupgap": 0
        },
        "template": {
         "data": {
          "bar": [
           {
            "error_x": {
             "color": "#2a3f5f"
            },
            "error_y": {
             "color": "#2a3f5f"
            },
            "marker": {
             "line": {
              "color": "white",
              "width": 0.5
             }
            },
            "type": "bar"
           }
          ],
          "barpolar": [
           {
            "marker": {
             "line": {
              "color": "white",
              "width": 0.5
             }
            },
            "type": "barpolar"
           }
          ],
          "carpet": [
           {
            "aaxis": {
             "endlinecolor": "#2a3f5f",
             "gridcolor": "#C8D4E3",
             "linecolor": "#C8D4E3",
             "minorgridcolor": "#C8D4E3",
             "startlinecolor": "#2a3f5f"
            },
            "baxis": {
             "endlinecolor": "#2a3f5f",
             "gridcolor": "#C8D4E3",
             "linecolor": "#C8D4E3",
             "minorgridcolor": "#C8D4E3",
             "startlinecolor": "#2a3f5f"
            },
            "type": "carpet"
           }
          ],
          "choropleth": [
           {
            "colorbar": {
             "outlinewidth": 0,
             "ticks": ""
            },
            "type": "choropleth"
           }
          ],
          "contour": [
           {
            "colorbar": {
             "outlinewidth": 0,
             "ticks": ""
            },
            "colorscale": [
             [
              0,
              "#0d0887"
             ],
             [
              0.1111111111111111,
              "#46039f"
             ],
             [
              0.2222222222222222,
              "#7201a8"
             ],
             [
              0.3333333333333333,
              "#9c179e"
             ],
             [
              0.4444444444444444,
              "#bd3786"
             ],
             [
              0.5555555555555556,
              "#d8576b"
             ],
             [
              0.6666666666666666,
              "#ed7953"
             ],
             [
              0.7777777777777778,
              "#fb9f3a"
             ],
             [
              0.8888888888888888,
              "#fdca26"
             ],
             [
              1,
              "#f0f921"
             ]
            ],
            "type": "contour"
           }
          ],
          "contourcarpet": [
           {
            "colorbar": {
             "outlinewidth": 0,
             "ticks": ""
            },
            "type": "contourcarpet"
           }
          ],
          "heatmap": [
           {
            "colorbar": {
             "outlinewidth": 0,
             "ticks": ""
            },
            "colorscale": [
             [
              0,
              "#0d0887"
             ],
             [
              0.1111111111111111,
              "#46039f"
             ],
             [
              0.2222222222222222,
              "#7201a8"
             ],
             [
              0.3333333333333333,
              "#9c179e"
             ],
             [
              0.4444444444444444,
              "#bd3786"
             ],
             [
              0.5555555555555556,
              "#d8576b"
             ],
             [
              0.6666666666666666,
              "#ed7953"
             ],
             [
              0.7777777777777778,
              "#fb9f3a"
             ],
             [
              0.8888888888888888,
              "#fdca26"
             ],
             [
              1,
              "#f0f921"
             ]
            ],
            "type": "heatmap"
           }
          ],
          "heatmapgl": [
           {
            "colorbar": {
             "outlinewidth": 0,
             "ticks": ""
            },
            "colorscale": [
             [
              0,
              "#0d0887"
             ],
             [
              0.1111111111111111,
              "#46039f"
             ],
             [
              0.2222222222222222,
              "#7201a8"
             ],
             [
              0.3333333333333333,
              "#9c179e"
             ],
             [
              0.4444444444444444,
              "#bd3786"
             ],
             [
              0.5555555555555556,
              "#d8576b"
             ],
             [
              0.6666666666666666,
              "#ed7953"
             ],
             [
              0.7777777777777778,
              "#fb9f3a"
             ],
             [
              0.8888888888888888,
              "#fdca26"
             ],
             [
              1,
              "#f0f921"
             ]
            ],
            "type": "heatmapgl"
           }
          ],
          "histogram": [
           {
            "marker": {
             "colorbar": {
              "outlinewidth": 0,
              "ticks": ""
             }
            },
            "type": "histogram"
           }
          ],
          "histogram2d": [
           {
            "colorbar": {
             "outlinewidth": 0,
             "ticks": ""
            },
            "colorscale": [
             [
              0,
              "#0d0887"
             ],
             [
              0.1111111111111111,
              "#46039f"
             ],
             [
              0.2222222222222222,
              "#7201a8"
             ],
             [
              0.3333333333333333,
              "#9c179e"
             ],
             [
              0.4444444444444444,
              "#bd3786"
             ],
             [
              0.5555555555555556,
              "#d8576b"
             ],
             [
              0.6666666666666666,
              "#ed7953"
             ],
             [
              0.7777777777777778,
              "#fb9f3a"
             ],
             [
              0.8888888888888888,
              "#fdca26"
             ],
             [
              1,
              "#f0f921"
             ]
            ],
            "type": "histogram2d"
           }
          ],
          "histogram2dcontour": [
           {
            "colorbar": {
             "outlinewidth": 0,
             "ticks": ""
            },
            "colorscale": [
             [
              0,
              "#0d0887"
             ],
             [
              0.1111111111111111,
              "#46039f"
             ],
             [
              0.2222222222222222,
              "#7201a8"
             ],
             [
              0.3333333333333333,
              "#9c179e"
             ],
             [
              0.4444444444444444,
              "#bd3786"
             ],
             [
              0.5555555555555556,
              "#d8576b"
             ],
             [
              0.6666666666666666,
              "#ed7953"
             ],
             [
              0.7777777777777778,
              "#fb9f3a"
             ],
             [
              0.8888888888888888,
              "#fdca26"
             ],
             [
              1,
              "#f0f921"
             ]
            ],
            "type": "histogram2dcontour"
           }
          ],
          "mesh3d": [
           {
            "colorbar": {
             "outlinewidth": 0,
             "ticks": ""
            },
            "type": "mesh3d"
           }
          ],
          "parcoords": [
           {
            "line": {
             "colorbar": {
              "outlinewidth": 0,
              "ticks": ""
             }
            },
            "type": "parcoords"
           }
          ],
          "pie": [
           {
            "automargin": true,
            "type": "pie"
           }
          ],
          "scatter": [
           {
            "marker": {
             "colorbar": {
              "outlinewidth": 0,
              "ticks": ""
             }
            },
            "type": "scatter"
           }
          ],
          "scatter3d": [
           {
            "line": {
             "colorbar": {
              "outlinewidth": 0,
              "ticks": ""
             }
            },
            "marker": {
             "colorbar": {
              "outlinewidth": 0,
              "ticks": ""
             }
            },
            "type": "scatter3d"
           }
          ],
          "scattercarpet": [
           {
            "marker": {
             "colorbar": {
              "outlinewidth": 0,
              "ticks": ""
             }
            },
            "type": "scattercarpet"
           }
          ],
          "scattergeo": [
           {
            "marker": {
             "colorbar": {
              "outlinewidth": 0,
              "ticks": ""
             }
            },
            "type": "scattergeo"
           }
          ],
          "scattergl": [
           {
            "marker": {
             "colorbar": {
              "outlinewidth": 0,
              "ticks": ""
             }
            },
            "type": "scattergl"
           }
          ],
          "scattermapbox": [
           {
            "marker": {
             "colorbar": {
              "outlinewidth": 0,
              "ticks": ""
             }
            },
            "type": "scattermapbox"
           }
          ],
          "scatterpolar": [
           {
            "marker": {
             "colorbar": {
              "outlinewidth": 0,
              "ticks": ""
             }
            },
            "type": "scatterpolar"
           }
          ],
          "scatterpolargl": [
           {
            "marker": {
             "colorbar": {
              "outlinewidth": 0,
              "ticks": ""
             }
            },
            "type": "scatterpolargl"
           }
          ],
          "scatterternary": [
           {
            "marker": {
             "colorbar": {
              "outlinewidth": 0,
              "ticks": ""
             }
            },
            "type": "scatterternary"
           }
          ],
          "surface": [
           {
            "colorbar": {
             "outlinewidth": 0,
             "ticks": ""
            },
            "colorscale": [
             [
              0,
              "#0d0887"
             ],
             [
              0.1111111111111111,
              "#46039f"
             ],
             [
              0.2222222222222222,
              "#7201a8"
             ],
             [
              0.3333333333333333,
              "#9c179e"
             ],
             [
              0.4444444444444444,
              "#bd3786"
             ],
             [
              0.5555555555555556,
              "#d8576b"
             ],
             [
              0.6666666666666666,
              "#ed7953"
             ],
             [
              0.7777777777777778,
              "#fb9f3a"
             ],
             [
              0.8888888888888888,
              "#fdca26"
             ],
             [
              1,
              "#f0f921"
             ]
            ],
            "type": "surface"
           }
          ],
          "table": [
           {
            "cells": {
             "fill": {
              "color": "#EBF0F8"
             },
             "line": {
              "color": "white"
             }
            },
            "header": {
             "fill": {
              "color": "#C8D4E3"
             },
             "line": {
              "color": "white"
             }
            },
            "type": "table"
           }
          ]
         },
         "layout": {
          "annotationdefaults": {
           "arrowcolor": "#2a3f5f",
           "arrowhead": 0,
           "arrowwidth": 1
          },
          "autotypenumbers": "strict",
          "coloraxis": {
           "colorbar": {
            "outlinewidth": 0,
            "ticks": ""
           }
          },
          "colorscale": {
           "diverging": [
            [
             0,
             "#8e0152"
            ],
            [
             0.1,
             "#c51b7d"
            ],
            [
             0.2,
             "#de77ae"
            ],
            [
             0.3,
             "#f1b6da"
            ],
            [
             0.4,
             "#fde0ef"
            ],
            [
             0.5,
             "#f7f7f7"
            ],
            [
             0.6,
             "#e6f5d0"
            ],
            [
             0.7,
             "#b8e186"
            ],
            [
             0.8,
             "#7fbc41"
            ],
            [
             0.9,
             "#4d9221"
            ],
            [
             1,
             "#276419"
            ]
           ],
           "sequential": [
            [
             0,
             "#0d0887"
            ],
            [
             0.1111111111111111,
             "#46039f"
            ],
            [
             0.2222222222222222,
             "#7201a8"
            ],
            [
             0.3333333333333333,
             "#9c179e"
            ],
            [
             0.4444444444444444,
             "#bd3786"
            ],
            [
             0.5555555555555556,
             "#d8576b"
            ],
            [
             0.6666666666666666,
             "#ed7953"
            ],
            [
             0.7777777777777778,
             "#fb9f3a"
            ],
            [
             0.8888888888888888,
             "#fdca26"
            ],
            [
             1,
             "#f0f921"
            ]
           ],
           "sequentialminus": [
            [
             0,
             "#0d0887"
            ],
            [
             0.1111111111111111,
             "#46039f"
            ],
            [
             0.2222222222222222,
             "#7201a8"
            ],
            [
             0.3333333333333333,
             "#9c179e"
            ],
            [
             0.4444444444444444,
             "#bd3786"
            ],
            [
             0.5555555555555556,
             "#d8576b"
            ],
            [
             0.6666666666666666,
             "#ed7953"
            ],
            [
             0.7777777777777778,
             "#fb9f3a"
            ],
            [
             0.8888888888888888,
             "#fdca26"
            ],
            [
             1,
             "#f0f921"
            ]
           ]
          },
          "colorway": [
           "#636efa",
           "#EF553B",
           "#00cc96",
           "#ab63fa",
           "#FFA15A",
           "#19d3f3",
           "#FF6692",
           "#B6E880",
           "#FF97FF",
           "#FECB52"
          ],
          "font": {
           "color": "#2a3f5f"
          },
          "geo": {
           "bgcolor": "white",
           "lakecolor": "white",
           "landcolor": "white",
           "showlakes": true,
           "showland": true,
           "subunitcolor": "#C8D4E3"
          },
          "hoverlabel": {
           "align": "left"
          },
          "hovermode": "closest",
          "mapbox": {
           "style": "light"
          },
          "paper_bgcolor": "white",
          "plot_bgcolor": "white",
          "polar": {
           "angularaxis": {
            "gridcolor": "#EBF0F8",
            "linecolor": "#EBF0F8",
            "ticks": ""
           },
           "bgcolor": "white",
           "radialaxis": {
            "gridcolor": "#EBF0F8",
            "linecolor": "#EBF0F8",
            "ticks": ""
           }
          },
          "scene": {
           "xaxis": {
            "backgroundcolor": "white",
            "gridcolor": "#DFE8F3",
            "gridwidth": 2,
            "linecolor": "#EBF0F8",
            "showbackground": true,
            "ticks": "",
            "zerolinecolor": "#EBF0F8"
           },
           "yaxis": {
            "backgroundcolor": "white",
            "gridcolor": "#DFE8F3",
            "gridwidth": 2,
            "linecolor": "#EBF0F8",
            "showbackground": true,
            "ticks": "",
            "zerolinecolor": "#EBF0F8"
           },
           "zaxis": {
            "backgroundcolor": "white",
            "gridcolor": "#DFE8F3",
            "gridwidth": 2,
            "linecolor": "#EBF0F8",
            "showbackground": true,
            "ticks": "",
            "zerolinecolor": "#EBF0F8"
           }
          },
          "shapedefaults": {
           "line": {
            "color": "#2a3f5f"
           }
          },
          "ternary": {
           "aaxis": {
            "gridcolor": "#DFE8F3",
            "linecolor": "#A2B1C6",
            "ticks": ""
           },
           "baxis": {
            "gridcolor": "#DFE8F3",
            "linecolor": "#A2B1C6",
            "ticks": ""
           },
           "bgcolor": "white",
           "caxis": {
            "gridcolor": "#DFE8F3",
            "linecolor": "#A2B1C6",
            "ticks": ""
           }
          },
          "title": {
           "x": 0.05
          },
          "xaxis": {
           "automargin": true,
           "gridcolor": "#EBF0F8",
           "linecolor": "#EBF0F8",
           "ticks": "",
           "title": {
            "standoff": 15
           },
           "zerolinecolor": "#EBF0F8",
           "zerolinewidth": 2
          },
          "yaxis": {
           "automargin": true,
           "gridcolor": "#EBF0F8",
           "linecolor": "#EBF0F8",
           "ticks": "",
           "title": {
            "standoff": 15
           },
           "zerolinecolor": "#EBF0F8",
           "zerolinewidth": 2
          }
         }
        },
        "title": {
         "text": "ADMM perfomance comparison"
        },
        "xaxis": {
         "anchor": "y",
         "domain": [
          0,
          1
         ],
         "title": {
          "text": "sec_time"
         }
        },
        "yaxis": {
         "anchor": "x",
         "domain": [
          0,
          1
         ],
         "title": {
          "text": "distance"
         },
         "type": "log"
        }
       }
      },
      "text/html": [
       "<div>                            <div id=\"df3b0c38-83ad-4dff-85f5-0abcab7fca8d\" class=\"plotly-graph-div\" style=\"height:525px; width:100%;\"></div>            <script type=\"text/javascript\">                require([\"plotly\"], function(Plotly) {                    window.PLOTLYENV=window.PLOTLYENV || {};                                    if (document.getElementById(\"df3b0c38-83ad-4dff-85f5-0abcab7fca8d\")) {                    Plotly.newPlot(                        \"df3b0c38-83ad-4dff-85f5-0abcab7fca8d\",                        [{\"hovertemplate\": \"method=sklearn<br>sec_time=%{marker.size}<br>distance=%{y}<br>str_tol=%{text}<extra></extra>\", \"legendgroup\": \"sklearn\", \"marker\": {\"color\": \"#636efa\", \"size\": [12.43, 13.8, 11.11, 14.43, 20.41, 37.77, 36.11, 47.52], \"sizemode\": \"area\", \"sizeref\": 0.1188, \"symbol\": \"circle\"}, \"mode\": \"markers+text\", \"name\": \"sklearn\", \"orientation\": \"v\", \"showlegend\": true, \"text\": [\"0.1\", \"0.01\", \"0.001\", \"1e-04\", \"1e-05\", \"1e-06\", \"1e-07\", \"1e-08\"], \"textposition\": \"top center\", \"type\": \"scatter\", \"x\": [12.43, 13.8, 11.11, 14.43, 20.41, 37.77, 36.11, 47.52], \"xaxis\": \"x\", \"y\": [0.017960938353639357, 0.000647574155466052, 0.000647574155466052, 0.00022950576639934193, 9.81073668135986e-05, 8.313534517347904e-06, 1.0947860573027965e-06, 1.6169527238535473e-07], \"yaxis\": \"y\"}, {\"hovertemplate\": \"method=regain<br>sec_time=%{marker.size}<br>distance=%{y}<br>str_tol=%{text}<extra></extra>\", \"legendgroup\": \"regain\", \"marker\": {\"color\": \"#EF553B\", \"size\": [0.51, 0.69, 2.84, 5.01, 7.15, 9.43, 10.25, 10.53], \"sizemode\": \"area\", \"sizeref\": 0.1188, \"symbol\": \"circle\"}, \"mode\": \"markers+text\", \"name\": \"regain\", \"orientation\": \"v\", \"showlegend\": true, \"text\": [\"0.1\", \"0.01\", \"0.001\", \"1e-04\", \"1e-05\", \"1e-06\", \"1e-07\", \"1e-08\"], \"textposition\": \"top center\", \"type\": \"scatter\", \"x\": [0.51, 0.69, 2.84, 5.01, 7.15, 9.43, 10.25, 10.53], \"xaxis\": \"x\", \"y\": [33.47581296534492, 28.276729871231424, 3.3477742840975218, 0.3111947817164859, 0.05576537843539654, 0.010815888915952353, 0.006157905008564506, 0.005352668043256747], \"yaxis\": \"y\"}, {\"hovertemplate\": \"method=admm<br>sec_time=%{marker.size}<br>distance=%{y}<br>str_tol=%{text}<extra></extra>\", \"legendgroup\": \"admm\", \"marker\": {\"color\": \"#00cc96\", \"size\": [0.3, 0.26, 0.27, 0.27, 0.6, 1.64, 2.99, 4.02], \"sizemode\": \"area\", \"sizeref\": 0.1188, \"symbol\": \"circle\"}, \"mode\": \"markers+text\", \"name\": \"admm\", \"orientation\": \"v\", \"showlegend\": true, \"text\": [\"0.1\", \"0.01\", \"0.001\", \"1e-04\", \"1e-05\", \"1e-06\", \"1e-07\", \"1e-08\"], \"textposition\": \"top center\", \"type\": \"scatter\", \"x\": [0.3, 0.26, 0.27, 0.27, 0.6, 1.64, 2.99, 4.02], \"xaxis\": \"x\", \"y\": [14.037935415816582, 14.037935415816582, 14.037935415816582, 14.037935415816582, 6.810915742888371, 1.268498896618658, 0.18334574267555984, 0.05497481009768083], \"yaxis\": \"y\"}, {\"hovertemplate\": \"method=kkt_admm<br>sec_time=%{marker.size}<br>distance=%{y}<br>str_tol=%{text}<extra></extra>\", \"legendgroup\": \"kkt_admm\", \"marker\": {\"color\": \"#ab63fa\", \"size\": [0.99, 2.92, 5.85, 9.46, 14.27, 19.71, 25.46, 33.46], \"sizemode\": \"area\", \"sizeref\": 0.1188, \"symbol\": \"circle\"}, \"mode\": \"markers+text\", \"name\": \"kkt_admm\", \"orientation\": \"v\", \"showlegend\": true, \"text\": [\"0.1\", \"0.01\", \"0.001\", \"1e-04\", \"1e-05\", \"1e-06\", \"1e-07\", \"1e-08\"], \"textposition\": \"top center\", \"type\": \"scatter\", \"x\": [0.99, 2.92, 5.85, 9.46, 14.27, 19.71, 25.46, 33.46], \"xaxis\": \"x\", \"y\": [9.486795621915817, 1.649651749402257, 0.18334574267555984, 0.02784927139340851, 0.0031115639052572185, 0.0003329561603941026, 3.11209456926935e-05, 2.9093728018792252e-06], \"yaxis\": \"y\"}],                        {\"legend\": {\"itemsizing\": \"constant\", \"title\": {\"text\": \"method\"}, \"tracegroupgap\": 0}, \"template\": {\"data\": {\"bar\": [{\"error_x\": {\"color\": \"#2a3f5f\"}, \"error_y\": {\"color\": \"#2a3f5f\"}, \"marker\": {\"line\": {\"color\": \"white\", \"width\": 0.5}}, \"type\": \"bar\"}], \"barpolar\": [{\"marker\": {\"line\": {\"color\": \"white\", \"width\": 0.5}}, \"type\": \"barpolar\"}], \"carpet\": [{\"aaxis\": {\"endlinecolor\": \"#2a3f5f\", \"gridcolor\": \"#C8D4E3\", \"linecolor\": \"#C8D4E3\", \"minorgridcolor\": \"#C8D4E3\", \"startlinecolor\": \"#2a3f5f\"}, \"baxis\": {\"endlinecolor\": \"#2a3f5f\", \"gridcolor\": \"#C8D4E3\", \"linecolor\": \"#C8D4E3\", \"minorgridcolor\": \"#C8D4E3\", \"startlinecolor\": \"#2a3f5f\"}, \"type\": \"carpet\"}], \"choropleth\": [{\"colorbar\": {\"outlinewidth\": 0, \"ticks\": \"\"}, \"type\": \"choropleth\"}], \"contour\": [{\"colorbar\": {\"outlinewidth\": 0, \"ticks\": \"\"}, \"colorscale\": [[0.0, \"#0d0887\"], [0.1111111111111111, \"#46039f\"], [0.2222222222222222, \"#7201a8\"], [0.3333333333333333, \"#9c179e\"], [0.4444444444444444, \"#bd3786\"], [0.5555555555555556, \"#d8576b\"], [0.6666666666666666, \"#ed7953\"], [0.7777777777777778, \"#fb9f3a\"], [0.8888888888888888, \"#fdca26\"], [1.0, \"#f0f921\"]], \"type\": \"contour\"}], \"contourcarpet\": [{\"colorbar\": {\"outlinewidth\": 0, \"ticks\": \"\"}, \"type\": \"contourcarpet\"}], \"heatmap\": [{\"colorbar\": {\"outlinewidth\": 0, \"ticks\": \"\"}, \"colorscale\": [[0.0, \"#0d0887\"], [0.1111111111111111, \"#46039f\"], [0.2222222222222222, \"#7201a8\"], [0.3333333333333333, \"#9c179e\"], [0.4444444444444444, \"#bd3786\"], [0.5555555555555556, \"#d8576b\"], [0.6666666666666666, \"#ed7953\"], [0.7777777777777778, \"#fb9f3a\"], [0.8888888888888888, \"#fdca26\"], [1.0, \"#f0f921\"]], \"type\": \"heatmap\"}], \"heatmapgl\": [{\"colorbar\": {\"outlinewidth\": 0, \"ticks\": \"\"}, \"colorscale\": [[0.0, \"#0d0887\"], [0.1111111111111111, \"#46039f\"], [0.2222222222222222, \"#7201a8\"], [0.3333333333333333, \"#9c179e\"], [0.4444444444444444, \"#bd3786\"], [0.5555555555555556, \"#d8576b\"], [0.6666666666666666, \"#ed7953\"], [0.7777777777777778, \"#fb9f3a\"], [0.8888888888888888, \"#fdca26\"], [1.0, \"#f0f921\"]], \"type\": \"heatmapgl\"}], \"histogram\": [{\"marker\": {\"colorbar\": {\"outlinewidth\": 0, \"ticks\": \"\"}}, \"type\": \"histogram\"}], \"histogram2d\": [{\"colorbar\": {\"outlinewidth\": 0, \"ticks\": \"\"}, \"colorscale\": [[0.0, \"#0d0887\"], [0.1111111111111111, \"#46039f\"], [0.2222222222222222, \"#7201a8\"], [0.3333333333333333, \"#9c179e\"], [0.4444444444444444, \"#bd3786\"], [0.5555555555555556, \"#d8576b\"], [0.6666666666666666, \"#ed7953\"], [0.7777777777777778, \"#fb9f3a\"], [0.8888888888888888, \"#fdca26\"], [1.0, \"#f0f921\"]], \"type\": \"histogram2d\"}], \"histogram2dcontour\": [{\"colorbar\": {\"outlinewidth\": 0, \"ticks\": \"\"}, \"colorscale\": [[0.0, \"#0d0887\"], [0.1111111111111111, \"#46039f\"], [0.2222222222222222, \"#7201a8\"], [0.3333333333333333, \"#9c179e\"], [0.4444444444444444, \"#bd3786\"], [0.5555555555555556, \"#d8576b\"], [0.6666666666666666, \"#ed7953\"], [0.7777777777777778, \"#fb9f3a\"], [0.8888888888888888, \"#fdca26\"], [1.0, \"#f0f921\"]], \"type\": \"histogram2dcontour\"}], \"mesh3d\": [{\"colorbar\": {\"outlinewidth\": 0, \"ticks\": \"\"}, \"type\": \"mesh3d\"}], \"parcoords\": [{\"line\": {\"colorbar\": {\"outlinewidth\": 0, \"ticks\": \"\"}}, \"type\": \"parcoords\"}], \"pie\": [{\"automargin\": true, \"type\": \"pie\"}], \"scatter\": [{\"marker\": {\"colorbar\": {\"outlinewidth\": 0, \"ticks\": \"\"}}, \"type\": \"scatter\"}], \"scatter3d\": [{\"line\": {\"colorbar\": {\"outlinewidth\": 0, \"ticks\": \"\"}}, \"marker\": {\"colorbar\": {\"outlinewidth\": 0, \"ticks\": \"\"}}, \"type\": \"scatter3d\"}], \"scattercarpet\": [{\"marker\": {\"colorbar\": {\"outlinewidth\": 0, \"ticks\": \"\"}}, \"type\": \"scattercarpet\"}], \"scattergeo\": [{\"marker\": {\"colorbar\": {\"outlinewidth\": 0, \"ticks\": \"\"}}, \"type\": \"scattergeo\"}], \"scattergl\": [{\"marker\": {\"colorbar\": {\"outlinewidth\": 0, \"ticks\": \"\"}}, \"type\": \"scattergl\"}], \"scattermapbox\": [{\"marker\": {\"colorbar\": {\"outlinewidth\": 0, \"ticks\": \"\"}}, \"type\": \"scattermapbox\"}], \"scatterpolar\": [{\"marker\": {\"colorbar\": {\"outlinewidth\": 0, \"ticks\": \"\"}}, \"type\": \"scatterpolar\"}], \"scatterpolargl\": [{\"marker\": {\"colorbar\": {\"outlinewidth\": 0, \"ticks\": \"\"}}, \"type\": \"scatterpolargl\"}], \"scatterternary\": [{\"marker\": {\"colorbar\": {\"outlinewidth\": 0, \"ticks\": \"\"}}, \"type\": \"scatterternary\"}], \"surface\": [{\"colorbar\": {\"outlinewidth\": 0, \"ticks\": \"\"}, \"colorscale\": [[0.0, \"#0d0887\"], [0.1111111111111111, \"#46039f\"], [0.2222222222222222, \"#7201a8\"], [0.3333333333333333, \"#9c179e\"], [0.4444444444444444, \"#bd3786\"], [0.5555555555555556, \"#d8576b\"], [0.6666666666666666, \"#ed7953\"], [0.7777777777777778, \"#fb9f3a\"], [0.8888888888888888, \"#fdca26\"], [1.0, \"#f0f921\"]], \"type\": \"surface\"}], \"table\": [{\"cells\": {\"fill\": {\"color\": \"#EBF0F8\"}, \"line\": {\"color\": \"white\"}}, \"header\": {\"fill\": {\"color\": \"#C8D4E3\"}, \"line\": {\"color\": \"white\"}}, \"type\": \"table\"}]}, \"layout\": {\"annotationdefaults\": {\"arrowcolor\": \"#2a3f5f\", \"arrowhead\": 0, \"arrowwidth\": 1}, \"autotypenumbers\": \"strict\", \"coloraxis\": {\"colorbar\": {\"outlinewidth\": 0, \"ticks\": \"\"}}, \"colorscale\": {\"diverging\": [[0, \"#8e0152\"], [0.1, \"#c51b7d\"], [0.2, \"#de77ae\"], [0.3, \"#f1b6da\"], [0.4, \"#fde0ef\"], [0.5, \"#f7f7f7\"], [0.6, \"#e6f5d0\"], [0.7, \"#b8e186\"], [0.8, \"#7fbc41\"], [0.9, \"#4d9221\"], [1, \"#276419\"]], \"sequential\": [[0.0, \"#0d0887\"], [0.1111111111111111, \"#46039f\"], [0.2222222222222222, \"#7201a8\"], [0.3333333333333333, \"#9c179e\"], [0.4444444444444444, \"#bd3786\"], [0.5555555555555556, \"#d8576b\"], [0.6666666666666666, \"#ed7953\"], [0.7777777777777778, \"#fb9f3a\"], [0.8888888888888888, \"#fdca26\"], [1.0, \"#f0f921\"]], \"sequentialminus\": [[0.0, \"#0d0887\"], [0.1111111111111111, \"#46039f\"], [0.2222222222222222, \"#7201a8\"], [0.3333333333333333, \"#9c179e\"], [0.4444444444444444, \"#bd3786\"], [0.5555555555555556, \"#d8576b\"], [0.6666666666666666, \"#ed7953\"], [0.7777777777777778, \"#fb9f3a\"], [0.8888888888888888, \"#fdca26\"], [1.0, \"#f0f921\"]]}, \"colorway\": [\"#636efa\", \"#EF553B\", \"#00cc96\", \"#ab63fa\", \"#FFA15A\", \"#19d3f3\", \"#FF6692\", \"#B6E880\", \"#FF97FF\", \"#FECB52\"], \"font\": {\"color\": \"#2a3f5f\"}, \"geo\": {\"bgcolor\": \"white\", \"lakecolor\": \"white\", \"landcolor\": \"white\", \"showlakes\": true, \"showland\": true, \"subunitcolor\": \"#C8D4E3\"}, \"hoverlabel\": {\"align\": \"left\"}, \"hovermode\": \"closest\", \"mapbox\": {\"style\": \"light\"}, \"paper_bgcolor\": \"white\", \"plot_bgcolor\": \"white\", \"polar\": {\"angularaxis\": {\"gridcolor\": \"#EBF0F8\", \"linecolor\": \"#EBF0F8\", \"ticks\": \"\"}, \"bgcolor\": \"white\", \"radialaxis\": {\"gridcolor\": \"#EBF0F8\", \"linecolor\": \"#EBF0F8\", \"ticks\": \"\"}}, \"scene\": {\"xaxis\": {\"backgroundcolor\": \"white\", \"gridcolor\": \"#DFE8F3\", \"gridwidth\": 2, \"linecolor\": \"#EBF0F8\", \"showbackground\": true, \"ticks\": \"\", \"zerolinecolor\": \"#EBF0F8\"}, \"yaxis\": {\"backgroundcolor\": \"white\", \"gridcolor\": \"#DFE8F3\", \"gridwidth\": 2, \"linecolor\": \"#EBF0F8\", \"showbackground\": true, \"ticks\": \"\", \"zerolinecolor\": \"#EBF0F8\"}, \"zaxis\": {\"backgroundcolor\": \"white\", \"gridcolor\": \"#DFE8F3\", \"gridwidth\": 2, \"linecolor\": \"#EBF0F8\", \"showbackground\": true, \"ticks\": \"\", \"zerolinecolor\": \"#EBF0F8\"}}, \"shapedefaults\": {\"line\": {\"color\": \"#2a3f5f\"}}, \"ternary\": {\"aaxis\": {\"gridcolor\": \"#DFE8F3\", \"linecolor\": \"#A2B1C6\", \"ticks\": \"\"}, \"baxis\": {\"gridcolor\": \"#DFE8F3\", \"linecolor\": \"#A2B1C6\", \"ticks\": \"\"}, \"bgcolor\": \"white\", \"caxis\": {\"gridcolor\": \"#DFE8F3\", \"linecolor\": \"#A2B1C6\", \"ticks\": \"\"}}, \"title\": {\"x\": 0.05}, \"xaxis\": {\"automargin\": true, \"gridcolor\": \"#EBF0F8\", \"linecolor\": \"#EBF0F8\", \"ticks\": \"\", \"title\": {\"standoff\": 15}, \"zerolinecolor\": \"#EBF0F8\", \"zerolinewidth\": 2}, \"yaxis\": {\"automargin\": true, \"gridcolor\": \"#EBF0F8\", \"linecolor\": \"#EBF0F8\", \"ticks\": \"\", \"title\": {\"standoff\": 15}, \"zerolinecolor\": \"#EBF0F8\", \"zerolinewidth\": 2}}}, \"title\": {\"text\": \"ADMM perfomance comparison\"}, \"xaxis\": {\"anchor\": \"y\", \"domain\": [0.0, 1.0], \"title\": {\"text\": \"sec_time\"}}, \"yaxis\": {\"anchor\": \"x\", \"domain\": [0.0, 1.0], \"title\": {\"text\": \"distance\"}, \"type\": \"log\"}},                        {\"responsive\": true}                    ).then(function(){\n",
       "                            \n",
       "var gd = document.getElementById('df3b0c38-83ad-4dff-85f5-0abcab7fca8d');\n",
       "var x = new MutationObserver(function (mutations, observer) {{\n",
       "        var display = window.getComputedStyle(gd).display;\n",
       "        if (!display || display === 'none') {{\n",
       "            console.log([gd, 'removed!']);\n",
       "            Plotly.purge(gd);\n",
       "            observer.disconnect();\n",
       "        }}\n",
       "}});\n",
       "\n",
       "// Listen for the removal of the full notebook cells\n",
       "var notebookContainer = gd.closest('#notebook-container');\n",
       "if (notebookContainer) {{\n",
       "    x.observe(notebookContainer, {childList: true});\n",
       "}}\n",
       "\n",
       "// Listen for the clearing of the current output cell\n",
       "var outputEl = gd.closest('.output');\n",
       "if (outputEl) {{\n",
       "    x.observe(outputEl, {childList: true});\n",
       "}}\n",
       "\n",
       "                        })                };                });            </script>        </div>"
      ]
     },
     "metadata": {},
     "output_type": "display_data"
    }
   ],
   "source": [
    "# fig_1 = px.scatter(x=a['time'], y=a['accuracy'], color= \"method\")\n",
    "# fig_1.show()\n",
    "\n",
    "fig_1 = px.scatter(df, x=\"sec_time\", \n",
    "                   y='distance', color=\"method\", \n",
    "#                    text = \"sec_time\", \n",
    "                   log_y = True, template = \"plotly_white\",\n",
    "                   text = \"str_tol\",\n",
    "                 size='sec_time',\n",
    "                  title='ADMM perfomance comparison')\n",
    "fig_1.update_traces(textposition='top center')\n",
    "fig_1.show()"
   ]
  },
  {
   "cell_type": "code",
   "execution_count": 116,
   "id": "intense-video",
   "metadata": {},
   "outputs": [
    {
     "data": {
      "application/vnd.plotly.v1+json": {
       "config": {
        "plotlyServerURL": "https://plot.ly"
       },
       "data": [
        {
         "line": {
          "color": "#52BCA3",
          "dash": "dash",
          "width": 1
         },
         "marker": {
          "color": "#5D69B1",
          "size": 8
         },
         "mode": "lines+markers+text",
         "name": "citations",
         "text": [
          "0.1",
          "0.01",
          "0.001",
          "1e-04",
          "1e-05",
          "1e-06",
          "1e-07",
          "1e-08",
          "0.1",
          "0.01",
          "0.001",
          "1e-04",
          "1e-05",
          "1e-06",
          "1e-07",
          "1e-08",
          "0.1",
          "0.01",
          "0.001",
          "1e-04",
          "1e-05",
          "1e-06",
          "1e-07",
          "1e-08",
          "0.1",
          "0.01",
          "0.001",
          "1e-04",
          "1e-05",
          "1e-06",
          "1e-07",
          "1e-08"
         ],
         "textfont": {
          "color": "#E58606"
         },
         "textposition": "top right",
         "type": "scatter",
         "x": [
          12.43,
          13.8,
          11.11,
          14.43,
          20.41,
          37.77,
          36.11,
          47.52,
          0.51,
          0.69,
          2.84,
          5.01,
          7.15,
          9.43,
          10.25,
          10.53,
          0.3,
          0.26,
          0.27,
          0.27,
          0.6,
          1.64,
          2.99,
          4.02,
          0.99,
          2.92,
          5.85,
          9.46,
          14.27,
          19.71,
          25.46,
          33.46
         ],
         "y": [
          -4.019555970611024,
          -7.342277245131865,
          -7.342277245131865,
          -8.379582402856267,
          -9.229448099272597,
          -11.697625706511175,
          -13.724951595243887,
          -15.637552307739709,
          3.5108231770282696,
          3.3420392003688195,
          1.2082957322235572,
          -1.1673362550817095,
          -2.8866020603056994,
          -4.526739030078911,
          -5.090018655294728,
          -5.230160142709419,
          2.6417633376292167,
          2.6417633376292167,
          2.6417633376292167,
          2.6417633376292167,
          1.9185265814424444,
          0.2378342302252547,
          -1.696381604393178,
          -2.9008801968868725,
          2.249900897216298,
          0.5005642046676594,
          -1.696381604393178,
          -3.580948474767641,
          -5.7726298157576785,
          -8.007499727118674,
          -10.37762947053311,
          -12.747573032011498
         ]
        }
       ],
       "layout": {
        "template": {
         "data": {
          "bar": [
           {
            "error_x": {
             "color": "#2a3f5f"
            },
            "error_y": {
             "color": "#2a3f5f"
            },
            "marker": {
             "line": {
              "color": "#E5ECF6",
              "width": 0.5
             }
            },
            "type": "bar"
           }
          ],
          "barpolar": [
           {
            "marker": {
             "line": {
              "color": "#E5ECF6",
              "width": 0.5
             }
            },
            "type": "barpolar"
           }
          ],
          "carpet": [
           {
            "aaxis": {
             "endlinecolor": "#2a3f5f",
             "gridcolor": "white",
             "linecolor": "white",
             "minorgridcolor": "white",
             "startlinecolor": "#2a3f5f"
            },
            "baxis": {
             "endlinecolor": "#2a3f5f",
             "gridcolor": "white",
             "linecolor": "white",
             "minorgridcolor": "white",
             "startlinecolor": "#2a3f5f"
            },
            "type": "carpet"
           }
          ],
          "choropleth": [
           {
            "colorbar": {
             "outlinewidth": 0,
             "ticks": ""
            },
            "type": "choropleth"
           }
          ],
          "contour": [
           {
            "colorbar": {
             "outlinewidth": 0,
             "ticks": ""
            },
            "colorscale": [
             [
              0,
              "#0d0887"
             ],
             [
              0.1111111111111111,
              "#46039f"
             ],
             [
              0.2222222222222222,
              "#7201a8"
             ],
             [
              0.3333333333333333,
              "#9c179e"
             ],
             [
              0.4444444444444444,
              "#bd3786"
             ],
             [
              0.5555555555555556,
              "#d8576b"
             ],
             [
              0.6666666666666666,
              "#ed7953"
             ],
             [
              0.7777777777777778,
              "#fb9f3a"
             ],
             [
              0.8888888888888888,
              "#fdca26"
             ],
             [
              1,
              "#f0f921"
             ]
            ],
            "type": "contour"
           }
          ],
          "contourcarpet": [
           {
            "colorbar": {
             "outlinewidth": 0,
             "ticks": ""
            },
            "type": "contourcarpet"
           }
          ],
          "heatmap": [
           {
            "colorbar": {
             "outlinewidth": 0,
             "ticks": ""
            },
            "colorscale": [
             [
              0,
              "#0d0887"
             ],
             [
              0.1111111111111111,
              "#46039f"
             ],
             [
              0.2222222222222222,
              "#7201a8"
             ],
             [
              0.3333333333333333,
              "#9c179e"
             ],
             [
              0.4444444444444444,
              "#bd3786"
             ],
             [
              0.5555555555555556,
              "#d8576b"
             ],
             [
              0.6666666666666666,
              "#ed7953"
             ],
             [
              0.7777777777777778,
              "#fb9f3a"
             ],
             [
              0.8888888888888888,
              "#fdca26"
             ],
             [
              1,
              "#f0f921"
             ]
            ],
            "type": "heatmap"
           }
          ],
          "heatmapgl": [
           {
            "colorbar": {
             "outlinewidth": 0,
             "ticks": ""
            },
            "colorscale": [
             [
              0,
              "#0d0887"
             ],
             [
              0.1111111111111111,
              "#46039f"
             ],
             [
              0.2222222222222222,
              "#7201a8"
             ],
             [
              0.3333333333333333,
              "#9c179e"
             ],
             [
              0.4444444444444444,
              "#bd3786"
             ],
             [
              0.5555555555555556,
              "#d8576b"
             ],
             [
              0.6666666666666666,
              "#ed7953"
             ],
             [
              0.7777777777777778,
              "#fb9f3a"
             ],
             [
              0.8888888888888888,
              "#fdca26"
             ],
             [
              1,
              "#f0f921"
             ]
            ],
            "type": "heatmapgl"
           }
          ],
          "histogram": [
           {
            "marker": {
             "colorbar": {
              "outlinewidth": 0,
              "ticks": ""
             }
            },
            "type": "histogram"
           }
          ],
          "histogram2d": [
           {
            "colorbar": {
             "outlinewidth": 0,
             "ticks": ""
            },
            "colorscale": [
             [
              0,
              "#0d0887"
             ],
             [
              0.1111111111111111,
              "#46039f"
             ],
             [
              0.2222222222222222,
              "#7201a8"
             ],
             [
              0.3333333333333333,
              "#9c179e"
             ],
             [
              0.4444444444444444,
              "#bd3786"
             ],
             [
              0.5555555555555556,
              "#d8576b"
             ],
             [
              0.6666666666666666,
              "#ed7953"
             ],
             [
              0.7777777777777778,
              "#fb9f3a"
             ],
             [
              0.8888888888888888,
              "#fdca26"
             ],
             [
              1,
              "#f0f921"
             ]
            ],
            "type": "histogram2d"
           }
          ],
          "histogram2dcontour": [
           {
            "colorbar": {
             "outlinewidth": 0,
             "ticks": ""
            },
            "colorscale": [
             [
              0,
              "#0d0887"
             ],
             [
              0.1111111111111111,
              "#46039f"
             ],
             [
              0.2222222222222222,
              "#7201a8"
             ],
             [
              0.3333333333333333,
              "#9c179e"
             ],
             [
              0.4444444444444444,
              "#bd3786"
             ],
             [
              0.5555555555555556,
              "#d8576b"
             ],
             [
              0.6666666666666666,
              "#ed7953"
             ],
             [
              0.7777777777777778,
              "#fb9f3a"
             ],
             [
              0.8888888888888888,
              "#fdca26"
             ],
             [
              1,
              "#f0f921"
             ]
            ],
            "type": "histogram2dcontour"
           }
          ],
          "mesh3d": [
           {
            "colorbar": {
             "outlinewidth": 0,
             "ticks": ""
            },
            "type": "mesh3d"
           }
          ],
          "parcoords": [
           {
            "line": {
             "colorbar": {
              "outlinewidth": 0,
              "ticks": ""
             }
            },
            "type": "parcoords"
           }
          ],
          "pie": [
           {
            "automargin": true,
            "type": "pie"
           }
          ],
          "scatter": [
           {
            "marker": {
             "colorbar": {
              "outlinewidth": 0,
              "ticks": ""
             }
            },
            "type": "scatter"
           }
          ],
          "scatter3d": [
           {
            "line": {
             "colorbar": {
              "outlinewidth": 0,
              "ticks": ""
             }
            },
            "marker": {
             "colorbar": {
              "outlinewidth": 0,
              "ticks": ""
             }
            },
            "type": "scatter3d"
           }
          ],
          "scattercarpet": [
           {
            "marker": {
             "colorbar": {
              "outlinewidth": 0,
              "ticks": ""
             }
            },
            "type": "scattercarpet"
           }
          ],
          "scattergeo": [
           {
            "marker": {
             "colorbar": {
              "outlinewidth": 0,
              "ticks": ""
             }
            },
            "type": "scattergeo"
           }
          ],
          "scattergl": [
           {
            "marker": {
             "colorbar": {
              "outlinewidth": 0,
              "ticks": ""
             }
            },
            "type": "scattergl"
           }
          ],
          "scattermapbox": [
           {
            "marker": {
             "colorbar": {
              "outlinewidth": 0,
              "ticks": ""
             }
            },
            "type": "scattermapbox"
           }
          ],
          "scatterpolar": [
           {
            "marker": {
             "colorbar": {
              "outlinewidth": 0,
              "ticks": ""
             }
            },
            "type": "scatterpolar"
           }
          ],
          "scatterpolargl": [
           {
            "marker": {
             "colorbar": {
              "outlinewidth": 0,
              "ticks": ""
             }
            },
            "type": "scatterpolargl"
           }
          ],
          "scatterternary": [
           {
            "marker": {
             "colorbar": {
              "outlinewidth": 0,
              "ticks": ""
             }
            },
            "type": "scatterternary"
           }
          ],
          "surface": [
           {
            "colorbar": {
             "outlinewidth": 0,
             "ticks": ""
            },
            "colorscale": [
             [
              0,
              "#0d0887"
             ],
             [
              0.1111111111111111,
              "#46039f"
             ],
             [
              0.2222222222222222,
              "#7201a8"
             ],
             [
              0.3333333333333333,
              "#9c179e"
             ],
             [
              0.4444444444444444,
              "#bd3786"
             ],
             [
              0.5555555555555556,
              "#d8576b"
             ],
             [
              0.6666666666666666,
              "#ed7953"
             ],
             [
              0.7777777777777778,
              "#fb9f3a"
             ],
             [
              0.8888888888888888,
              "#fdca26"
             ],
             [
              1,
              "#f0f921"
             ]
            ],
            "type": "surface"
           }
          ],
          "table": [
           {
            "cells": {
             "fill": {
              "color": "#EBF0F8"
             },
             "line": {
              "color": "white"
             }
            },
            "header": {
             "fill": {
              "color": "#C8D4E3"
             },
             "line": {
              "color": "white"
             }
            },
            "type": "table"
           }
          ]
         },
         "layout": {
          "annotationdefaults": {
           "arrowcolor": "#2a3f5f",
           "arrowhead": 0,
           "arrowwidth": 1
          },
          "autotypenumbers": "strict",
          "coloraxis": {
           "colorbar": {
            "outlinewidth": 0,
            "ticks": ""
           }
          },
          "colorscale": {
           "diverging": [
            [
             0,
             "#8e0152"
            ],
            [
             0.1,
             "#c51b7d"
            ],
            [
             0.2,
             "#de77ae"
            ],
            [
             0.3,
             "#f1b6da"
            ],
            [
             0.4,
             "#fde0ef"
            ],
            [
             0.5,
             "#f7f7f7"
            ],
            [
             0.6,
             "#e6f5d0"
            ],
            [
             0.7,
             "#b8e186"
            ],
            [
             0.8,
             "#7fbc41"
            ],
            [
             0.9,
             "#4d9221"
            ],
            [
             1,
             "#276419"
            ]
           ],
           "sequential": [
            [
             0,
             "#0d0887"
            ],
            [
             0.1111111111111111,
             "#46039f"
            ],
            [
             0.2222222222222222,
             "#7201a8"
            ],
            [
             0.3333333333333333,
             "#9c179e"
            ],
            [
             0.4444444444444444,
             "#bd3786"
            ],
            [
             0.5555555555555556,
             "#d8576b"
            ],
            [
             0.6666666666666666,
             "#ed7953"
            ],
            [
             0.7777777777777778,
             "#fb9f3a"
            ],
            [
             0.8888888888888888,
             "#fdca26"
            ],
            [
             1,
             "#f0f921"
            ]
           ],
           "sequentialminus": [
            [
             0,
             "#0d0887"
            ],
            [
             0.1111111111111111,
             "#46039f"
            ],
            [
             0.2222222222222222,
             "#7201a8"
            ],
            [
             0.3333333333333333,
             "#9c179e"
            ],
            [
             0.4444444444444444,
             "#bd3786"
            ],
            [
             0.5555555555555556,
             "#d8576b"
            ],
            [
             0.6666666666666666,
             "#ed7953"
            ],
            [
             0.7777777777777778,
             "#fb9f3a"
            ],
            [
             0.8888888888888888,
             "#fdca26"
            ],
            [
             1,
             "#f0f921"
            ]
           ]
          },
          "colorway": [
           "#636efa",
           "#EF553B",
           "#00cc96",
           "#ab63fa",
           "#FFA15A",
           "#19d3f3",
           "#FF6692",
           "#B6E880",
           "#FF97FF",
           "#FECB52"
          ],
          "font": {
           "color": "#2a3f5f"
          },
          "geo": {
           "bgcolor": "white",
           "lakecolor": "white",
           "landcolor": "#E5ECF6",
           "showlakes": true,
           "showland": true,
           "subunitcolor": "white"
          },
          "hoverlabel": {
           "align": "left"
          },
          "hovermode": "closest",
          "mapbox": {
           "style": "light"
          },
          "paper_bgcolor": "white",
          "plot_bgcolor": "#E5ECF6",
          "polar": {
           "angularaxis": {
            "gridcolor": "white",
            "linecolor": "white",
            "ticks": ""
           },
           "bgcolor": "#E5ECF6",
           "radialaxis": {
            "gridcolor": "white",
            "linecolor": "white",
            "ticks": ""
           }
          },
          "scene": {
           "xaxis": {
            "backgroundcolor": "#E5ECF6",
            "gridcolor": "white",
            "gridwidth": 2,
            "linecolor": "white",
            "showbackground": true,
            "ticks": "",
            "zerolinecolor": "white"
           },
           "yaxis": {
            "backgroundcolor": "#E5ECF6",
            "gridcolor": "white",
            "gridwidth": 2,
            "linecolor": "white",
            "showbackground": true,
            "ticks": "",
            "zerolinecolor": "white"
           },
           "zaxis": {
            "backgroundcolor": "#E5ECF6",
            "gridcolor": "white",
            "gridwidth": 2,
            "linecolor": "white",
            "showbackground": true,
            "ticks": "",
            "zerolinecolor": "white"
           }
          },
          "shapedefaults": {
           "line": {
            "color": "#2a3f5f"
           }
          },
          "ternary": {
           "aaxis": {
            "gridcolor": "white",
            "linecolor": "white",
            "ticks": ""
           },
           "baxis": {
            "gridcolor": "white",
            "linecolor": "white",
            "ticks": ""
           },
           "bgcolor": "#E5ECF6",
           "caxis": {
            "gridcolor": "white",
            "linecolor": "white",
            "ticks": ""
           }
          },
          "title": {
           "x": 0.05
          },
          "xaxis": {
           "automargin": true,
           "gridcolor": "white",
           "linecolor": "white",
           "ticks": "",
           "title": {
            "standoff": 15
           },
           "zerolinecolor": "white",
           "zerolinewidth": 2
          },
          "yaxis": {
           "automargin": true,
           "gridcolor": "white",
           "linecolor": "white",
           "ticks": "",
           "title": {
            "standoff": 15
           },
           "zerolinecolor": "white",
           "zerolinewidth": 2
          }
         }
        }
       }
      },
      "text/html": [
       "<div>                            <div id=\"1d9a5431-ddad-4a0f-a4b4-8b8a8a16af78\" class=\"plotly-graph-div\" style=\"height:525px; width:100%;\"></div>            <script type=\"text/javascript\">                require([\"plotly\"], function(Plotly) {                    window.PLOTLYENV=window.PLOTLYENV || {};                                    if (document.getElementById(\"1d9a5431-ddad-4a0f-a4b4-8b8a8a16af78\")) {                    Plotly.newPlot(                        \"1d9a5431-ddad-4a0f-a4b4-8b8a8a16af78\",                        [{\"line\": {\"color\": \"#52BCA3\", \"dash\": \"dash\", \"width\": 1}, \"marker\": {\"color\": \"#5D69B1\", \"size\": 8}, \"mode\": \"lines+markers+text\", \"name\": \"citations\", \"text\": [\"0.1\", \"0.01\", \"0.001\", \"1e-04\", \"1e-05\", \"1e-06\", \"1e-07\", \"1e-08\", \"0.1\", \"0.01\", \"0.001\", \"1e-04\", \"1e-05\", \"1e-06\", \"1e-07\", \"1e-08\", \"0.1\", \"0.01\", \"0.001\", \"1e-04\", \"1e-05\", \"1e-06\", \"1e-07\", \"1e-08\", \"0.1\", \"0.01\", \"0.001\", \"1e-04\", \"1e-05\", \"1e-06\", \"1e-07\", \"1e-08\"], \"textfont\": {\"color\": \"#E58606\"}, \"textposition\": \"top right\", \"type\": \"scatter\", \"x\": [12.43, 13.8, 11.11, 14.43, 20.41, 37.77, 36.11, 47.52, 0.51, 0.69, 2.84, 5.01, 7.15, 9.43, 10.25, 10.53, 0.3, 0.26, 0.27, 0.27, 0.6, 1.64, 2.99, 4.02, 0.99, 2.92, 5.85, 9.46, 14.27, 19.71, 25.46, 33.46], \"y\": [-4.019555970611024, -7.342277245131865, -7.342277245131865, -8.379582402856267, -9.229448099272597, -11.697625706511175, -13.724951595243887, -15.637552307739709, 3.5108231770282696, 3.3420392003688195, 1.2082957322235572, -1.1673362550817095, -2.8866020603056994, -4.526739030078911, -5.090018655294728, -5.230160142709419, 2.6417633376292167, 2.6417633376292167, 2.6417633376292167, 2.6417633376292167, 1.9185265814424444, 0.2378342302252547, -1.696381604393178, -2.9008801968868725, 2.249900897216298, 0.5005642046676594, -1.696381604393178, -3.580948474767641, -5.7726298157576785, -8.007499727118674, -10.37762947053311, -12.747573032011498]}],                        {\"template\": {\"data\": {\"bar\": [{\"error_x\": {\"color\": \"#2a3f5f\"}, \"error_y\": {\"color\": \"#2a3f5f\"}, \"marker\": {\"line\": {\"color\": \"#E5ECF6\", \"width\": 0.5}}, \"type\": \"bar\"}], \"barpolar\": [{\"marker\": {\"line\": {\"color\": \"#E5ECF6\", \"width\": 0.5}}, \"type\": \"barpolar\"}], \"carpet\": [{\"aaxis\": {\"endlinecolor\": \"#2a3f5f\", \"gridcolor\": \"white\", \"linecolor\": \"white\", \"minorgridcolor\": \"white\", \"startlinecolor\": \"#2a3f5f\"}, \"baxis\": {\"endlinecolor\": \"#2a3f5f\", \"gridcolor\": \"white\", \"linecolor\": \"white\", \"minorgridcolor\": \"white\", \"startlinecolor\": \"#2a3f5f\"}, \"type\": \"carpet\"}], \"choropleth\": [{\"colorbar\": {\"outlinewidth\": 0, \"ticks\": \"\"}, \"type\": \"choropleth\"}], \"contour\": [{\"colorbar\": {\"outlinewidth\": 0, \"ticks\": \"\"}, \"colorscale\": [[0.0, \"#0d0887\"], [0.1111111111111111, \"#46039f\"], [0.2222222222222222, \"#7201a8\"], [0.3333333333333333, \"#9c179e\"], [0.4444444444444444, \"#bd3786\"], [0.5555555555555556, \"#d8576b\"], [0.6666666666666666, \"#ed7953\"], [0.7777777777777778, \"#fb9f3a\"], [0.8888888888888888, \"#fdca26\"], [1.0, \"#f0f921\"]], \"type\": \"contour\"}], \"contourcarpet\": [{\"colorbar\": {\"outlinewidth\": 0, \"ticks\": \"\"}, \"type\": \"contourcarpet\"}], \"heatmap\": [{\"colorbar\": {\"outlinewidth\": 0, \"ticks\": \"\"}, \"colorscale\": [[0.0, \"#0d0887\"], [0.1111111111111111, \"#46039f\"], [0.2222222222222222, \"#7201a8\"], [0.3333333333333333, \"#9c179e\"], [0.4444444444444444, \"#bd3786\"], [0.5555555555555556, \"#d8576b\"], [0.6666666666666666, \"#ed7953\"], [0.7777777777777778, \"#fb9f3a\"], [0.8888888888888888, \"#fdca26\"], [1.0, \"#f0f921\"]], \"type\": \"heatmap\"}], \"heatmapgl\": [{\"colorbar\": {\"outlinewidth\": 0, \"ticks\": \"\"}, \"colorscale\": [[0.0, \"#0d0887\"], [0.1111111111111111, \"#46039f\"], [0.2222222222222222, \"#7201a8\"], [0.3333333333333333, \"#9c179e\"], [0.4444444444444444, \"#bd3786\"], [0.5555555555555556, \"#d8576b\"], [0.6666666666666666, \"#ed7953\"], [0.7777777777777778, \"#fb9f3a\"], [0.8888888888888888, \"#fdca26\"], [1.0, \"#f0f921\"]], \"type\": \"heatmapgl\"}], \"histogram\": [{\"marker\": {\"colorbar\": {\"outlinewidth\": 0, \"ticks\": \"\"}}, \"type\": \"histogram\"}], \"histogram2d\": [{\"colorbar\": {\"outlinewidth\": 0, \"ticks\": \"\"}, \"colorscale\": [[0.0, \"#0d0887\"], [0.1111111111111111, \"#46039f\"], [0.2222222222222222, \"#7201a8\"], [0.3333333333333333, \"#9c179e\"], [0.4444444444444444, \"#bd3786\"], [0.5555555555555556, \"#d8576b\"], [0.6666666666666666, \"#ed7953\"], [0.7777777777777778, \"#fb9f3a\"], [0.8888888888888888, \"#fdca26\"], [1.0, \"#f0f921\"]], \"type\": \"histogram2d\"}], \"histogram2dcontour\": [{\"colorbar\": {\"outlinewidth\": 0, \"ticks\": \"\"}, \"colorscale\": [[0.0, \"#0d0887\"], [0.1111111111111111, \"#46039f\"], [0.2222222222222222, \"#7201a8\"], [0.3333333333333333, \"#9c179e\"], [0.4444444444444444, \"#bd3786\"], [0.5555555555555556, \"#d8576b\"], [0.6666666666666666, \"#ed7953\"], [0.7777777777777778, \"#fb9f3a\"], [0.8888888888888888, \"#fdca26\"], [1.0, \"#f0f921\"]], \"type\": \"histogram2dcontour\"}], \"mesh3d\": [{\"colorbar\": {\"outlinewidth\": 0, \"ticks\": \"\"}, \"type\": \"mesh3d\"}], \"parcoords\": [{\"line\": {\"colorbar\": {\"outlinewidth\": 0, \"ticks\": \"\"}}, \"type\": \"parcoords\"}], \"pie\": [{\"automargin\": true, \"type\": \"pie\"}], \"scatter\": [{\"marker\": {\"colorbar\": {\"outlinewidth\": 0, \"ticks\": \"\"}}, \"type\": \"scatter\"}], \"scatter3d\": [{\"line\": {\"colorbar\": {\"outlinewidth\": 0, \"ticks\": \"\"}}, \"marker\": {\"colorbar\": {\"outlinewidth\": 0, \"ticks\": \"\"}}, \"type\": \"scatter3d\"}], \"scattercarpet\": [{\"marker\": {\"colorbar\": {\"outlinewidth\": 0, \"ticks\": \"\"}}, \"type\": \"scattercarpet\"}], \"scattergeo\": [{\"marker\": {\"colorbar\": {\"outlinewidth\": 0, \"ticks\": \"\"}}, \"type\": \"scattergeo\"}], \"scattergl\": [{\"marker\": {\"colorbar\": {\"outlinewidth\": 0, \"ticks\": \"\"}}, \"type\": \"scattergl\"}], \"scattermapbox\": [{\"marker\": {\"colorbar\": {\"outlinewidth\": 0, \"ticks\": \"\"}}, \"type\": \"scattermapbox\"}], \"scatterpolar\": [{\"marker\": {\"colorbar\": {\"outlinewidth\": 0, \"ticks\": \"\"}}, \"type\": \"scatterpolar\"}], \"scatterpolargl\": [{\"marker\": {\"colorbar\": {\"outlinewidth\": 0, \"ticks\": \"\"}}, \"type\": \"scatterpolargl\"}], \"scatterternary\": [{\"marker\": {\"colorbar\": {\"outlinewidth\": 0, \"ticks\": \"\"}}, \"type\": \"scatterternary\"}], \"surface\": [{\"colorbar\": {\"outlinewidth\": 0, \"ticks\": \"\"}, \"colorscale\": [[0.0, \"#0d0887\"], [0.1111111111111111, \"#46039f\"], [0.2222222222222222, \"#7201a8\"], [0.3333333333333333, \"#9c179e\"], [0.4444444444444444, \"#bd3786\"], [0.5555555555555556, \"#d8576b\"], [0.6666666666666666, \"#ed7953\"], [0.7777777777777778, \"#fb9f3a\"], [0.8888888888888888, \"#fdca26\"], [1.0, \"#f0f921\"]], \"type\": \"surface\"}], \"table\": [{\"cells\": {\"fill\": {\"color\": \"#EBF0F8\"}, \"line\": {\"color\": \"white\"}}, \"header\": {\"fill\": {\"color\": \"#C8D4E3\"}, \"line\": {\"color\": \"white\"}}, \"type\": \"table\"}]}, \"layout\": {\"annotationdefaults\": {\"arrowcolor\": \"#2a3f5f\", \"arrowhead\": 0, \"arrowwidth\": 1}, \"autotypenumbers\": \"strict\", \"coloraxis\": {\"colorbar\": {\"outlinewidth\": 0, \"ticks\": \"\"}}, \"colorscale\": {\"diverging\": [[0, \"#8e0152\"], [0.1, \"#c51b7d\"], [0.2, \"#de77ae\"], [0.3, \"#f1b6da\"], [0.4, \"#fde0ef\"], [0.5, \"#f7f7f7\"], [0.6, \"#e6f5d0\"], [0.7, \"#b8e186\"], [0.8, \"#7fbc41\"], [0.9, \"#4d9221\"], [1, \"#276419\"]], \"sequential\": [[0.0, \"#0d0887\"], [0.1111111111111111, \"#46039f\"], [0.2222222222222222, \"#7201a8\"], [0.3333333333333333, \"#9c179e\"], [0.4444444444444444, \"#bd3786\"], [0.5555555555555556, \"#d8576b\"], [0.6666666666666666, \"#ed7953\"], [0.7777777777777778, \"#fb9f3a\"], [0.8888888888888888, \"#fdca26\"], [1.0, \"#f0f921\"]], \"sequentialminus\": [[0.0, \"#0d0887\"], [0.1111111111111111, \"#46039f\"], [0.2222222222222222, \"#7201a8\"], [0.3333333333333333, \"#9c179e\"], [0.4444444444444444, \"#bd3786\"], [0.5555555555555556, \"#d8576b\"], [0.6666666666666666, \"#ed7953\"], [0.7777777777777778, \"#fb9f3a\"], [0.8888888888888888, \"#fdca26\"], [1.0, \"#f0f921\"]]}, \"colorway\": [\"#636efa\", \"#EF553B\", \"#00cc96\", \"#ab63fa\", \"#FFA15A\", \"#19d3f3\", \"#FF6692\", \"#B6E880\", \"#FF97FF\", \"#FECB52\"], \"font\": {\"color\": \"#2a3f5f\"}, \"geo\": {\"bgcolor\": \"white\", \"lakecolor\": \"white\", \"landcolor\": \"#E5ECF6\", \"showlakes\": true, \"showland\": true, \"subunitcolor\": \"white\"}, \"hoverlabel\": {\"align\": \"left\"}, \"hovermode\": \"closest\", \"mapbox\": {\"style\": \"light\"}, \"paper_bgcolor\": \"white\", \"plot_bgcolor\": \"#E5ECF6\", \"polar\": {\"angularaxis\": {\"gridcolor\": \"white\", \"linecolor\": \"white\", \"ticks\": \"\"}, \"bgcolor\": \"#E5ECF6\", \"radialaxis\": {\"gridcolor\": \"white\", \"linecolor\": \"white\", \"ticks\": \"\"}}, \"scene\": {\"xaxis\": {\"backgroundcolor\": \"#E5ECF6\", \"gridcolor\": \"white\", \"gridwidth\": 2, \"linecolor\": \"white\", \"showbackground\": true, \"ticks\": \"\", \"zerolinecolor\": \"white\"}, \"yaxis\": {\"backgroundcolor\": \"#E5ECF6\", \"gridcolor\": \"white\", \"gridwidth\": 2, \"linecolor\": \"white\", \"showbackground\": true, \"ticks\": \"\", \"zerolinecolor\": \"white\"}, \"zaxis\": {\"backgroundcolor\": \"#E5ECF6\", \"gridcolor\": \"white\", \"gridwidth\": 2, \"linecolor\": \"white\", \"showbackground\": true, \"ticks\": \"\", \"zerolinecolor\": \"white\"}}, \"shapedefaults\": {\"line\": {\"color\": \"#2a3f5f\"}}, \"ternary\": {\"aaxis\": {\"gridcolor\": \"white\", \"linecolor\": \"white\", \"ticks\": \"\"}, \"baxis\": {\"gridcolor\": \"white\", \"linecolor\": \"white\", \"ticks\": \"\"}, \"bgcolor\": \"#E5ECF6\", \"caxis\": {\"gridcolor\": \"white\", \"linecolor\": \"white\", \"ticks\": \"\"}}, \"title\": {\"x\": 0.05}, \"xaxis\": {\"automargin\": true, \"gridcolor\": \"white\", \"linecolor\": \"white\", \"ticks\": \"\", \"title\": {\"standoff\": 15}, \"zerolinecolor\": \"white\", \"zerolinewidth\": 2}, \"yaxis\": {\"automargin\": true, \"gridcolor\": \"white\", \"linecolor\": \"white\", \"ticks\": \"\", \"title\": {\"standoff\": 15}, \"zerolinecolor\": \"white\", \"zerolinewidth\": 2}}}},                        {\"responsive\": true}                    ).then(function(){\n",
       "                            \n",
       "var gd = document.getElementById('1d9a5431-ddad-4a0f-a4b4-8b8a8a16af78');\n",
       "var x = new MutationObserver(function (mutations, observer) {{\n",
       "        var display = window.getComputedStyle(gd).display;\n",
       "        if (!display || display === 'none') {{\n",
       "            console.log([gd, 'removed!']);\n",
       "            Plotly.purge(gd);\n",
       "            observer.disconnect();\n",
       "        }}\n",
       "}});\n",
       "\n",
       "// Listen for the removal of the full notebook cells\n",
       "var notebookContainer = gd.closest('#notebook-container');\n",
       "if (notebookContainer) {{\n",
       "    x.observe(notebookContainer, {childList: true});\n",
       "}}\n",
       "\n",
       "// Listen for the clearing of the current output cell\n",
       "var outputEl = gd.closest('.output');\n",
       "if (outputEl) {{\n",
       "    x.observe(outputEl, {childList: true});\n",
       "}}\n",
       "\n",
       "                        })                };                });            </script>        </div>"
      ]
     },
     "metadata": {},
     "output_type": "display_data"
    }
   ],
   "source": [
    "import plotly.graph_objects as go\n",
    "\n",
    "\n",
    "# layout = dict(plot_bgcolor='white',\n",
    "#               margin=dict(t=20, l=20, r=20, b=20),\n",
    "#               xaxis=dict(title='World Rank',\n",
    "#                          range=[0.9, 5.5],\n",
    "#                          linecolor='#d9d9d9',\n",
    "#                          showgrid=False,\n",
    "#                          mirror=True),\n",
    "#               yaxis=dict(title='Citations',\n",
    "#                          range=[95.5, 99.5],\n",
    "#                          linecolor='#d9d9d9',\n",
    "#                          showgrid=False,\n",
    "#                          mirror=True))\n",
    "\n",
    "a = go.Scatter(x=df['sec_time'],\n",
    "                  y=df['log_distance'],\n",
    "                  text=df['str_tol'],\n",
    "                  textposition='top right',\n",
    "                  textfont=dict(color='#E58606'),\n",
    "                  mode='lines+markers+text',\n",
    "                  marker=dict(color='#5D69B1', size=8),\n",
    "                  line=dict(color='#52BCA3', width=1, dash='dash'),\n",
    "                  name='citations')\n",
    "\n",
    "fig = go.Figure(data=a)\n",
    "\n",
    "fig.show()"
   ]
  },
  {
   "cell_type": "code",
   "execution_count": null,
   "id": "owned-airline",
   "metadata": {},
   "outputs": [],
   "source": []
  }
 ],
 "metadata": {
  "kernelspec": {
   "display_name": "Python 3",
   "language": "python",
   "name": "python3"
  },
  "language_info": {
   "codemirror_mode": {
    "name": "ipython",
    "version": 3
   },
   "file_extension": ".py",
   "mimetype": "text/x-python",
   "name": "python",
   "nbconvert_exporter": "python",
   "pygments_lexer": "ipython3",
   "version": "3.8.0"
  }
 },
 "nbformat": 4,
 "nbformat_minor": 5
}
