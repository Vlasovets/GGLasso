{
 "cells": [
  {
   "cell_type": "code",
   "execution_count": null,
   "id": "mediterranean-arnold",
   "metadata": {},
   "outputs": [],
   "source": [
    "import os\n",
    "os.chdir(os.path.pardir)\n",
    "\n",
    "import numpy as np\n",
    "import pandas as pd\n",
    "\n",
    "import networkx as nx\n",
    "import matplotlib.pyplot as plt\n",
    "\n",
    "from gglasso.helper.data_generation import group_power_network, sample_covariance_matrix\n",
    "from gglasso.helper.basic_linalg import adjacency_matrix\n",
    "from gglasso.helper.utils import sparsity, zero_replacement, normalize, log_transform\n",
    "\n",
    "from gglasso.problem import glasso_problem\n",
    "\n",
    "from tempfile import TemporaryFile\n",
    "\n",
    "from numpy.linalg import matrix_rank\n",
    "from sklearn.decomposition import PCA\n",
    "from scipy import stats\n",
    "import plotly.express as px"
   ]
  },
  {
   "cell_type": "markdown",
   "id": "wound-exhibit",
   "metadata": {},
   "source": [
    "# Import preprocessed soil data"
   ]
  },
  {
   "cell_type": "code",
   "execution_count": null,
   "id": "inappropriate-symbol",
   "metadata": {},
   "outputs": [],
   "source": [
    "soil = pd.read_table('data/soil/soil_116.csv', sep=',')\n",
    "soil.head()"
   ]
  },
  {
   "cell_type": "code",
   "execution_count": null,
   "id": "senior-fishing",
   "metadata": {},
   "outputs": [],
   "source": [
    "ph = pd.read_table('data/soil/ph.csv', sep=',')\n",
    "ph.head()"
   ]
  },
  {
   "cell_type": "code",
   "execution_count": null,
   "id": "focused-easter",
   "metadata": {},
   "outputs": [],
   "source": [
    "X_soil = np.array(soil)\n",
    "X_soil.shape"
   ]
  },
  {
   "cell_type": "markdown",
   "id": "adopted-great",
   "metadata": {},
   "source": [
    "Compare the dataset from SPIEC-EASI and with the data from our example"
   ]
  },
  {
   "cell_type": "code",
   "execution_count": null,
   "id": "automotive-costa",
   "metadata": {},
   "outputs": [],
   "source": [
    "test_1 = pd.read_table('data/soil/soil_116.csv', sep=',')\n",
    "test_2 = pd.read_table('data/soil/spieceasi_soil_116.csv', sep=',')"
   ]
  },
  {
   "cell_type": "code",
   "execution_count": null,
   "id": "canadian-excuse",
   "metadata": {},
   "outputs": [],
   "source": [
    "a = test_1.columns\n",
    "b = test_2.columns[1:]\n",
    "a == b"
   ]
  },
  {
   "cell_type": "markdown",
   "id": "removed-ranch",
   "metadata": {},
   "source": [
    "# Log-transform"
   ]
  },
  {
   "cell_type": "code",
   "execution_count": null,
   "id": "broken-stereo",
   "metadata": {},
   "outputs": [],
   "source": [
    "X = normalize(X_soil)"
   ]
  },
  {
   "cell_type": "markdown",
   "id": "employed-habitat",
   "metadata": {},
   "source": [
    "Note: X is scaled with geometric mean, and should be a dataframe of form (p,N)"
   ]
  },
  {
   "cell_type": "code",
   "execution_count": null,
   "id": "combined-inspiration",
   "metadata": {},
   "outputs": [],
   "source": [
    "X = log_transform(pd.DataFrame(X.T))"
   ]
  },
  {
   "cell_type": "markdown",
   "id": "secure-third",
   "metadata": {},
   "source": [
    "# Calculate covariance and scale to correlations"
   ]
  },
  {
   "cell_type": "code",
   "execution_count": null,
   "id": "bibliographic-press",
   "metadata": {},
   "outputs": [],
   "source": [
    "S0 = np.cov(X.values, bias = True)"
   ]
  },
  {
   "cell_type": "code",
   "execution_count": null,
   "id": "suffering-citation",
   "metadata": {},
   "outputs": [],
   "source": [
    "# scale covariances to correlations\n",
    "scale = np.tile(np.sqrt(np.diag(S0)),(S0.shape[0],1))\n",
    "scale = scale.T * scale\n",
    "\n",
    "S = S0 / scale"
   ]
  },
  {
   "cell_type": "markdown",
   "id": "similar-villa",
   "metadata": {},
   "source": [
    "# GGLasso problem"
   ]
  },
  {
   "cell_type": "markdown",
   "id": "dressed-programming",
   "metadata": {},
   "source": [
    "Hyperparameters are taken from the experiments with [SpiecEasi](https://github.com/zdk123/SpiecEasi)"
   ]
  },
  {
   "cell_type": "code",
   "execution_count": null,
   "id": "instant-settle",
   "metadata": {},
   "outputs": [],
   "source": [
    "# P = glasso_problem(S, X.shape[1], latent = True, do_scaling = False)\n",
    "# print(P)"
   ]
  },
  {
   "cell_type": "markdown",
   "id": "caring-patch",
   "metadata": {},
   "source": [
    "Gamma value for eBIC. Should be between 0 and 1. The larger gamma, the more eBIC tends to pick sparse solutions. The default is 0.1."
   ]
  },
  {
   "cell_type": "code",
   "execution_count": null,
   "id": "pacific-training",
   "metadata": {},
   "outputs": [],
   "source": [
    "# lambda1_range = [1.14221314, 1.03975454, 0.94648667, 0.86158509, 0.78429934, 0.71394626, 0.64990398,\n",
    "#                  0.59160641, 0.53853823, 0.49023037, 0.44625582, 0.40622586, 0.36978666, 0.33661612, \n",
    "#                  0.30642104, 0.27893451, 0.25391358, 0.23113707, 0.21040365, 0.19153006, 0.17434947,\n",
    "#                  0.15871000, 0.14447343, 0.13151390, 0.11971686, 0.10897804, 0.09920251, 0.09030386,\n",
    "#                  0.08220344, 0.07482964, 0.06811729, 0.06200704, 0.05644490, 0.05138169, 0.04677266,\n",
    "#                  0.04257707, 0.03875783, 0.03528118, 0.03211639, 0.02923549, 0.02661302, 0.02422578,\n",
    "#                  0.02205268, 0.02007452, 0.01827380, 0.01663460, 0.01514245, 0.01378414, 0.01254768, 0.01142213]\n",
    "\n",
    "# mu1_range = np.linspace(0.01, 1.14, num=10)\n",
    "\n",
    "# modelselect_params = {'lambda1_range': lambda1_range, 'mu1_range': mu1_range}\n",
    "\n",
    "# P.model_selection(modelselect_params = modelselect_params, method = 'eBIC', gamma = 1)\n",
    "\n",
    "# # regularization parameters are set to the best ones found during model selection\n",
    "# print(P.reg_params)"
   ]
  },
  {
   "cell_type": "markdown",
   "id": "mental-journey",
   "metadata": {},
   "source": [
    "Optimal lambda=0.86158509, mu = 1.14"
   ]
  },
  {
   "cell_type": "code",
   "execution_count": null,
   "id": "humanitarian-powder",
   "metadata": {},
   "outputs": [],
   "source": [
    "P_1 = glasso_problem(S, X.shape[1], latent = True, do_scaling = False)\n",
    "print(P_1)\n",
    "\n",
    "lambda1_range = [1.14221314, 0.86158509, 0.78429934, 0.71394626, 0.64990398, 0.02422578, 0.01142213]\n",
    "\n",
    "mu1_range = np.linspace(1.14, 3, num=10)\n",
    "\n",
    "modelselect_params = {'lambda1_range': lambda1_range, 'mu1_range': mu1_range}\n",
    "\n",
    "P_1.model_selection(modelselect_params = modelselect_params, method = 'eBIC', gamma = 1)\n",
    "\n",
    "# regularization parameters are set to the best ones found during model selection\n",
    "print(P_1.reg_params)"
   ]
  },
  {
   "cell_type": "markdown",
   "id": "general-consistency",
   "metadata": {},
   "source": [
    "Optimal lambda=0.78429934, mu = 3"
   ]
  },
  {
   "cell_type": "code",
   "execution_count": null,
   "id": "attempted-closing",
   "metadata": {},
   "outputs": [],
   "source": [
    "print('Rank of low-rank component: {0}'.format(matrix_rank(P_1.solution.lowrank_)))"
   ]
  },
  {
   "cell_type": "code",
   "execution_count": null,
   "id": "considered-insurance",
   "metadata": {},
   "outputs": [],
   "source": [
    "sp = P_1.modelselect_stats['SP']\n",
    "sp_ratio = np.count_nonzero(sp) / (sp.shape[0] * sp.shape[1])\n",
    "print(\"The ratio of non-zero elements in the sparsity component: {0}\".format(sp_ratio))"
   ]
  },
  {
   "cell_type": "markdown",
   "id": "level-vancouver",
   "metadata": {},
   "source": [
    "## Low-dimensional representation of OTUs table"
   ]
  },
  {
   "cell_type": "code",
   "execution_count": null,
   "id": "cubic-message",
   "metadata": {},
   "outputs": [],
   "source": [
    "pca = PCA(n_components=2)\n",
    "res = pca.fit_transform(P_1.solution.lowrank_)"
   ]
  },
  {
   "cell_type": "code",
   "execution_count": null,
   "id": "bigger-supplement",
   "metadata": {},
   "outputs": [],
   "source": [
    "print(\"{0}% of variance explained by PC1\".format(round(pca.explained_variance_ratio_[0]*100, 2)))\n",
    "print(\"{0}% of variance explained by PC1\".format(round(pca.explained_variance_ratio_[1]*100, 2)))\n",
    "print(\"Total variance explained by PC1 and PC2: {0}%\".format(round(pca.explained_variance_ratio_.sum() * 100, 2)))"
   ]
  },
  {
   "cell_type": "code",
   "execution_count": null,
   "id": "integrated-transformation",
   "metadata": {},
   "outputs": [],
   "source": [
    "pc1 = np.inner(X.T, pca.components_[0])\n",
    "pc2 = np.inner(X.T, pca.components_[1])\n",
    "pc1.shape, pc2.shape"
   ]
  },
  {
   "cell_type": "code",
   "execution_count": null,
   "id": "included-village",
   "metadata": {},
   "outputs": [],
   "source": [
    "plt.scatter(pc1, pc2, label=\"OTUs\")\n",
    "plt.xlabel(\"PC1\")\n",
    "plt.ylabel(\"PC2\")\n",
    "plt.legend(loc='upper left')\n",
    "plt.show()"
   ]
  },
  {
   "cell_type": "markdown",
   "id": "black-blogger",
   "metadata": {},
   "source": [
    "## pH correlation"
   ]
  },
  {
   "cell_type": "code",
   "execution_count": null,
   "id": "polished-causing",
   "metadata": {},
   "outputs": [],
   "source": [
    "ph_1 = np.array(ph).reshape(89,)\n",
    "ph_1.shape"
   ]
  },
  {
   "cell_type": "code",
   "execution_count": null,
   "id": "packed-photography",
   "metadata": {},
   "outputs": [],
   "source": [
    "print(\"Spearman correlation between pH and PC1: {0}, p-value: {1}\".format(stats.spearmanr(ph_1, pc1)[0], \n",
    "                                                                          stats.spearmanr(ph_1, pc1)[1]))\n",
    "\n",
    "print(\"Spearman correlation between pH and PC2: {0}, p-value: {1}\".format(stats.spearmanr(ph_1, pc2)[0], \n",
    "                                                                          stats.spearmanr(ph_1, pc2)[1]))\n"
   ]
  },
  {
   "cell_type": "code",
   "execution_count": null,
   "id": "willing-supervisor",
   "metadata": {},
   "outputs": [],
   "source": [
    "np.corrcoef(ph_1, pc1)"
   ]
  },
  {
   "cell_type": "code",
   "execution_count": null,
   "id": "straight-consultancy",
   "metadata": {},
   "outputs": [],
   "source": [
    "plt.scatter(ph_1, pc1, label=\"PC1_pH\")\n",
    "plt.xlabel(\"pH\")\n",
    "plt.ylabel(\"PC1\")\n",
    "plt.legend(loc='upper left')\n",
    "plt.show()"
   ]
  },
  {
   "cell_type": "code",
   "execution_count": null,
   "id": "equal-stroke",
   "metadata": {},
   "outputs": [],
   "source": [
    "plt.scatter(ph_1, pc2, label=\"PC2_pH\")\n",
    "plt.xlabel(\"pH\")\n",
    "plt.ylabel(\"PC1\")\n",
    "plt.legend(loc='upper left')\n",
    "plt.show()"
   ]
  },
  {
   "cell_type": "code",
   "execution_count": null,
   "id": "numerous-minimum",
   "metadata": {},
   "outputs": [],
   "source": [
    "sol = P_1.solution.precision_\n",
    "P_1.solution.calc_adjacency()\n",
    "\n",
    "\n",
    "plt.figure()\n",
    "G1 = nx.from_numpy_array(P_1.solution.adjacency_)\n",
    "nx.draw_spring(G1, node_color = \"darkblue\", edge_color = \"darkblue\", font_color = 'white', with_labels = True)"
   ]
  },
  {
   "cell_type": "code",
   "execution_count": null,
   "id": "characteristic-adult",
   "metadata": {},
   "outputs": [],
   "source": [
    "np.save(\"optimal_sol\", sol)"
   ]
  }
 ],
 "metadata": {
  "kernelspec": {
   "display_name": "Python 3",
   "language": "python",
   "name": "python3"
  },
  "language_info": {
   "codemirror_mode": {
    "name": "ipython",
    "version": 3
   },
   "file_extension": ".py",
   "mimetype": "text/x-python",
   "name": "python",
   "nbconvert_exporter": "python",
   "pygments_lexer": "ipython3",
   "version": "3.8.0"
  }
 },
 "nbformat": 4,
 "nbformat_minor": 5
}
