{
 "cells": [
  {
   "cell_type": "code",
   "execution_count": null,
   "id": "systematic-disney",
   "metadata": {},
   "outputs": [],
   "source": [
    "import os\n",
    "\n",
    "import numpy as np\n",
    "import pandas as pd\n",
    "import pyreadr\n",
    "\n",
    "import matplotlib.pyplot as plt\n",
    "from scipy import stats\n",
    "\n",
    "from gglasso.helper.utils import sparsity, zero_replacement, normalize, log_transform\n",
    "from gglasso.problem import glasso_problem"
   ]
  },
  {
   "cell_type": "markdown",
   "id": "hindu-interaction",
   "metadata": {},
   "source": [
    "### Import preprocessed soil data"
   ]
  },
  {
   "cell_type": "code",
   "execution_count": null,
   "id": "august-grill",
   "metadata": {},
   "outputs": [],
   "source": [
    "metadata = pd.read_table('../data/soil/88soils_modified_metadata.txt', index_col=0)\n",
    "metadata.head(2)"
   ]
  },
  {
   "cell_type": "code",
   "execution_count": null,
   "id": "french-portfolio",
   "metadata": {},
   "outputs": [],
   "source": [
    "soil = pd.read_csv('../data/soil/soil_id_116.csv', sep=',', index_col = 0).T\n",
    "soil.head()"
   ]
  },
  {
   "cell_type": "code",
   "execution_count": null,
   "id": "straight-nurse",
   "metadata": {},
   "outputs": [],
   "source": [
    "ph = metadata[\"ph\"]\n",
    "ph = ph.reindex(soil.columns)\n",
    "ph.head()"
   ]
  },
  {
   "cell_type": "code",
   "execution_count": null,
   "id": "executive-exposure",
   "metadata": {},
   "outputs": [],
   "source": [
    "#check if any ids are missing\n",
    "assert not ph.isnull().values.any()\n",
    "\n",
    "# assert that samples of ph and soil are identical\n",
    "assert set(soil.columns) == set(ph.index)"
   ]
  },
  {
   "cell_type": "markdown",
   "id": "intimate-premium",
   "metadata": {},
   "source": [
    "### CLR-transformation of X"
   ]
  },
  {
   "cell_type": "markdown",
   "id": "fa702f71",
   "metadata": {},
   "source": [
    "##### Dataframe `soil` need to be of shape (p,N) for normalizing to simplex + clr transform"
   ]
  },
  {
   "cell_type": "code",
   "execution_count": null,
   "id": "grand-crazy",
   "metadata": {},
   "outputs": [],
   "source": [
    "soil.shape"
   ]
  },
  {
   "cell_type": "code",
   "execution_count": null,
   "id": "textile-subsection",
   "metadata": {},
   "outputs": [],
   "source": [
    "X = normalize(soil)\n",
    "X.shape"
   ]
  },
  {
   "cell_type": "code",
   "execution_count": null,
   "id": "concerned-spectacular",
   "metadata": {},
   "outputs": [],
   "source": [
    "X = log_transform(X)\n",
    "(p,N) = X.shape\n",
    "(p,N)"
   ]
  },
  {
   "cell_type": "markdown",
   "id": "colonial-tamil",
   "metadata": {},
   "source": [
    "### Calculate covariance and scale to correlations"
   ]
  },
  {
   "cell_type": "code",
   "execution_count": null,
   "id": "radio-triumph",
   "metadata": {},
   "outputs": [],
   "source": [
    "S0 = np.cov(X.values, bias = True)\n",
    "# scale covariances to correlations\n",
    "scale = np.tile(np.sqrt(np.diag(S0)),(S0.shape[0],1))\n",
    "scale = scale.T * scale\n",
    "\n",
    "S = S0 / scale\n",
    "S.shape"
   ]
  },
  {
   "cell_type": "markdown",
   "id": "broadband-terry",
   "metadata": {},
   "source": [
    "### GGLasso low-rank with lambda = 0.14447343, mu =  2.36, rank=6"
   ]
  },
  {
   "cell_type": "code",
   "execution_count": null,
   "id": "median-support",
   "metadata": {},
   "outputs": [],
   "source": [
    "P = glasso_problem(S, N, latent = True, do_scaling = False)\n",
    "\n",
    "print(P)\n",
    "\n",
    "lambda1_range = [0.14447343]\n",
    "mu1_range = [2.36]\n",
    "\n",
    "\n",
    "modelselect_params = {'lambda1_range': lambda1_range, 'mu1_range': mu1_range}\n",
    "\n",
    "P.model_selection(modelselect_params = modelselect_params, method = 'eBIC', gamma = 0.25)\n",
    "\n",
    "# regularization parameters are set to the best ones found during model selection\n",
    "print(P.reg_params)"
   ]
  },
  {
   "cell_type": "code",
   "execution_count": null,
   "id": "underlying-butter",
   "metadata": {},
   "outputs": [],
   "source": [
    "# gg_lowrank = pd.read_csv(\"~/Downloads/gglasso_lr.csv\", sep=',', header=None)\n",
    "gg_lowrank = P.solution.lowrank_\n",
    "gg_lowrank.shape"
   ]
  },
  {
   "cell_type": "code",
   "execution_count": null,
   "id": "satisfactory-jewelry",
   "metadata": {},
   "outputs": [],
   "source": [
    "gg_rank = np.linalg.matrix_rank(gg_lowrank)\n",
    "print('Rank of low-rank component: {0}'.format(gg_rank))"
   ]
  },
  {
   "cell_type": "markdown",
   "id": "miniature-membrane",
   "metadata": {},
   "source": [
    "### SE low-rank with lambda = 0.14447343, rank=6"
   ]
  },
  {
   "cell_type": "code",
   "execution_count": null,
   "id": "bridal-morocco",
   "metadata": {},
   "outputs": [],
   "source": [
    "SE_lowrank = pyreadr.read_r('SE_lowrank.rds')\n",
    "SE_lowrank = SE_lowrank[None]\n",
    "SE_lowrank = np.array(SE_lowrank)\n",
    "SE_lowrank.shape"
   ]
  },
  {
   "cell_type": "code",
   "execution_count": null,
   "id": "growing-plenty",
   "metadata": {},
   "outputs": [],
   "source": [
    "se_rank = np.linalg.matrix_rank(SE_lowrank)\n",
    "print('Rank of low-rank component: {0}'.format(se_rank))"
   ]
  },
  {
   "cell_type": "markdown",
   "id": "continental-frederick",
   "metadata": {},
   "source": [
    "### Compare two solutions"
   ]
  },
  {
   "cell_type": "code",
   "execution_count": null,
   "id": "solid-hormone",
   "metadata": {},
   "outputs": [],
   "source": [
    "np.allclose(SE_lowrank, gg_lowrank, atol=1e-01)"
   ]
  },
  {
   "cell_type": "code",
   "execution_count": null,
   "id": "challenging-montana",
   "metadata": {},
   "outputs": [],
   "source": [
    "import seaborn as sns\n",
    "fig, axs = plt.subplots(1,2, figsize = (20,5))\n",
    "sns.heatmap(SE_lowrank, ax = axs[0], cmap = \"coolwarm\", vmin = -0.1, vmax = 0.1)\n",
    "sns.heatmap(gg_lowrank, ax = axs[1], cmap = \"coolwarm\", vmin = -0.1, vmax = 0.1)"
   ]
  },
  {
   "cell_type": "markdown",
   "id": "informational-writing",
   "metadata": {},
   "source": [
    "### Robust PCA in [SE](https://github.com/zdk123/SpiecEasi/blob/ff528b23fafbd455efcca9dd356bef28951edf82/R/SparseLowRankICov.R)"
   ]
  },
  {
   "cell_type": "code",
   "execution_count": null,
   "id": "suitable-press",
   "metadata": {},
   "outputs": [],
   "source": [
    "# robustPCA <- function(X, L, inverse=TRUE) {\n",
    "#   Lsvd <- svd(L)\n",
    "#   ind <- Lsvd$d>1e-9\n",
    "#   if (inverse) {\n",
    "#     loadings <- diag(sqrt(1/Lsvd$d[ind])) %*% t(Lsvd$v[,ind])\n",
    "#   } else {\n",
    "#     loadings <- diag(sqrt(Lsvd$d[ind])) %*% t(Lsvd$v[,ind])\n",
    "#   }\n",
    "\n",
    "#   scores <- X %*% t(loadings)\n",
    "#   return(list(scores=scores, loadings=loadings))\n",
    "# }"
   ]
  },
  {
   "cell_type": "markdown",
   "id": "competitive-denmark",
   "metadata": {},
   "source": [
    "### Robust PCA in GGLasso"
   ]
  },
  {
   "cell_type": "code",
   "execution_count": null,
   "id": "liked-baking",
   "metadata": {},
   "outputs": [],
   "source": [
    "def robust_PCA(X, L, inverse=True):\n",
    "    #SVD of low-rank component\n",
    "    v_tilde, sigma, v_tilde_T  = np.linalg.svd(L, full_matrices=True)\n",
    "    \n",
    "    ind = np.argwhere(sigma > 1e-9)\n",
    "    \n",
    "    if inverse:\n",
    "        loadings = np.diag(np.sqrt(1/sigma[ind]).reshape(len(ind),)) @ v_tilde[:, :len(ind)].T\n",
    "    else:\n",
    "        loadings = np.diag(np.sqrt(sigma[ind]).reshape(len(ind),)) @ v_tilde[:, :len(ind)].T\n",
    "        \n",
    "    zu = X.T @ loadings.T\n",
    "    \n",
    "    \n",
    "    return zu, loadings"
   ]
  },
  {
   "cell_type": "code",
   "execution_count": null,
   "id": "167fd0fa",
   "metadata": {},
   "outputs": [],
   "source": [
    "def robust_PCA(X, L, inverse=True):\n",
    "    sig, V = np.linalg.eigh(L)\n",
    "    ind = np.argwhere(sig > 1e-9)\n",
    "\n",
    "    if inverse:\n",
    "        loadings = V[:,ind] @ np.diag(np.sqrt(1/sig[ind]))\n",
    "    else:\n",
    "        loadings = V[:,ind] @ np.diag(np.sqrt(sig[ind]))\n",
    "\n",
    "    zu = X.values.T @ loadings\n",
    "    \n",
    "    return zu, loadings"
   ]
  },
  {
   "cell_type": "markdown",
   "id": "banner-savings",
   "metadata": {},
   "source": [
    "### Plot SE/pH correlation"
   ]
  },
  {
   "cell_type": "code",
   "execution_count": null,
   "id": "norman-north",
   "metadata": {},
   "outputs": [],
   "source": [
    "zu_SE, se_loadings = robust_PCA(X, SE_lowrank, inverse=True)\n",
    "zu_SE.shape"
   ]
  },
  {
   "cell_type": "code",
   "execution_count": null,
   "id": "bacterial-daily",
   "metadata": {},
   "outputs": [],
   "source": [
    "for i in range(se_rank):\n",
    "    plt.scatter(zu_SE[:,i], ph)\n",
    "    plt.xlabel(\"Learned low-rank PCA component\")\n",
    "    plt.ylabel(\"pH\")\n",
    "    plt.show()"
   ]
  },
  {
   "cell_type": "code",
   "execution_count": null,
   "id": "greek-trace",
   "metadata": {},
   "outputs": [],
   "source": [
    "for i in range(se_rank):\n",
    "    print(\"Spearman correlation between pH and {0}th component: {1}, p-value: {2}\".format(i+1, stats.spearmanr(ph, zu_SE[:,i])[0], \n",
    "                                                                              stats.spearmanr(ph, zu_SE[:,i])[1]))"
   ]
  },
  {
   "cell_type": "markdown",
   "id": "unavailable-fifth",
   "metadata": {},
   "source": [
    "### Plot GGLasso/pH correlation"
   ]
  },
  {
   "cell_type": "code",
   "execution_count": null,
   "id": "dirty-candle",
   "metadata": {},
   "outputs": [],
   "source": [
    "zu_gg, gg_loadings = robust_PCA(X, gg_lowrank, inverse=True)"
   ]
  },
  {
   "cell_type": "code",
   "execution_count": null,
   "id": "anonymous-anderson",
   "metadata": {},
   "outputs": [],
   "source": [
    "for i in range(gg_rank):\n",
    "    plt.scatter(zu_gg[:,i], ph)\n",
    "    plt.xlabel(\"Learned low-rank PCA component\")\n",
    "    plt.ylabel(\"pH\")\n",
    "    plt.show()"
   ]
  },
  {
   "cell_type": "code",
   "execution_count": null,
   "id": "opposite-hungarian",
   "metadata": {},
   "outputs": [],
   "source": [
    "for i in range(0, se_rank):\n",
    "    print(\"Spearman correlation between pH and {0}th component: {1}, p-value: {2}\".format(i+1, stats.spearmanr(ph, zu_gg[:,i])[0], \n",
    "                                                                              stats.spearmanr(ph, zu_gg[:,i])[1]))"
   ]
  },
  {
   "cell_type": "code",
   "execution_count": null,
   "id": "9d220f93",
   "metadata": {},
   "outputs": [],
   "source": []
  }
 ],
 "metadata": {
  "kernelspec": {
   "display_name": "Python 3",
   "language": "python",
   "name": "python3"
  },
  "language_info": {
   "codemirror_mode": {
    "name": "ipython",
    "version": 3
   },
   "file_extension": ".py",
   "mimetype": "text/x-python",
   "name": "python",
   "nbconvert_exporter": "python",
   "pygments_lexer": "ipython3",
   "version": "3.7.10"
  }
 },
 "nbformat": 4,
 "nbformat_minor": 5
}
