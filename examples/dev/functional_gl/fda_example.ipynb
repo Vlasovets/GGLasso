{
 "cells": [
  {
   "cell_type": "markdown",
   "id": "6bf51840",
   "metadata": {},
   "source": [
    "In this example, we want to explain how Functional Graphical Lasso works and how you can make use of it with GGLasso. For this tutorial, we use the scikit-fda package.\n",
    "\n",
    "For Functional Graphical Lasso every variable is representing a function or time series. In order to obtain a finite-dimensional problem, we represent the function in some basis (e.g. by computing Fourier coefficients and truncating). Then, we compute correlations of the corresponding coefficients and are interested in the relationships between different functional variables."
   ]
  },
  {
   "cell_type": "code",
   "execution_count": null,
   "id": "bc019fec",
   "metadata": {},
   "outputs": [],
   "source": [
    "import matplotlib.pyplot as plt\n",
    "import seaborn as sns\n",
    "import numpy as np\n",
    "\n",
    "from skfda.datasets import make_gaussian_process\n",
    "from skfda.misc.covariances import *\n",
    "from skfda.misc.metrics import l2_distance, l2_norm\n",
    "from skfda.representation.basis import BSpline, Fourier\n",
    "from skfda.representation.grid import FDataGrid"
   ]
  },
  {
   "cell_type": "markdown",
   "id": "17d532d3",
   "metadata": {},
   "source": [
    "We work in the following setup: we create (functional) variables, called $v_0, v_1, \\dots$. Some of those will come from a Gaussian process, some will be constructed in particular ways. We then draw samples for each variable.\n",
    "\n",
    "In the next step, we will compute representations with respect to some basis. Here, we have the option between Fourier basis and BSplines."
   ]
  },
  {
   "cell_type": "code",
   "execution_count": null,
   "id": "bbc47273",
   "metadata": {},
   "outputs": [],
   "source": [
    "t0 = 0\n",
    "t1 = 4\n",
    "\n",
    "n_ts = 101\n",
    "n_samples = 10**2\n",
    "\n",
    "_t = np.linspace(t0,t1,n_ts)\n",
    "\n",
    "def get_basis(style, n_components):\n",
    "    if style == 'bspline':\n",
    "        basis = BSpline(domain_range=(t0, t1), n_basis=n_components, order=4)\n",
    "    elif style == 'fourier':\n",
    "        basis = Fourier(domain_range=(t0, t1), n_basis=n_components, period=None)\n",
    "    return basis\n",
    "\n",
    "# decide on a basis\n",
    "style = 'fourier'"
   ]
  },
  {
   "cell_type": "code",
   "execution_count": null,
   "id": "ec3978df",
   "metadata": {},
   "outputs": [],
   "source": [
    "# generate samples from a simple function\n",
    "def hat(t,A): \n",
    "    y = (t<= t1/2) * (2*A/t1 * t) + (t> t1/2) *(2*A - 2*A/t1 * t)\n",
    "    return y\n",
    "\n",
    "modes = 4*np.random.rand(n_samples) - 2\n",
    "v2 = np.zeros((n_samples, n_ts))\n",
    "\n",
    "for j in range(n_samples):\n",
    "    v2[j,:] = hat(_t, modes[j])"
   ]
  },
  {
   "cell_type": "code",
   "execution_count": null,
   "id": "7ea2473f",
   "metadata": {},
   "outputs": [],
   "source": [
    "# define three variables\n",
    "cov0 = Gaussian(variance=1., length_scale=1.)\n",
    "cov1 = Gaussian(variance=1, length_scale=0.5)\n",
    "cov2 = Linear(variance=0.1) #not used \n",
    "\n",
    "all_var = [cov0, cov1, v2]\n",
    "n_var = len(all_var)"
   ]
  },
  {
   "cell_type": "code",
   "execution_count": null,
   "id": "bebae90d",
   "metadata": {
    "scrolled": false
   },
   "outputs": [],
   "source": [
    "# plot covariance functions\n",
    "_ = cov0.heatmap()\n",
    "_ = cov1.heatmap()\n",
    "_ = cov2.heatmap()"
   ]
  },
  {
   "cell_type": "code",
   "execution_count": null,
   "id": "33cb7491",
   "metadata": {
    "scrolled": true
   },
   "outputs": [],
   "source": [
    "# sample time series\n",
    "samples = list()\n",
    "labels = list()\n",
    "\n",
    "for j in np.arange(n_var):\n",
    "    #_ds.data_matrix has shape (n_ts, n_samples, 1)\n",
    "    if not isinstance(all_var[j], np.ndarray):\n",
    "        _ds = make_gaussian_process(\n",
    "                n_samples=n_samples,\n",
    "                n_features=n_ts,\n",
    "                start=t0,\n",
    "                stop=t1,\n",
    "                cov=all_var[j],\n",
    "                mean=0,\n",
    "                random_state=20\n",
    "                )\n",
    "    else:\n",
    "        _ds = FDataGrid(all_var[j], _t)\n",
    "    \n",
    "    _lb = np.array([f'v{j}'] * n_samples)\n",
    "    \n",
    "    samples.append(_ds)\n",
    "    labels.append(_lb)\n"
   ]
  },
  {
   "cell_type": "markdown",
   "id": "12dc9a2b",
   "metadata": {},
   "source": [
    "We can now plot the sampled time series for each variable. The first two come from a Gaussian process where the respective kernels have different length scales. The third one is simply a linearly increasing and the decreasing function."
   ]
  },
  {
   "cell_type": "code",
   "execution_count": null,
   "id": "51c308d1",
   "metadata": {
    "scrolled": false
   },
   "outputs": [],
   "source": [
    "# plot sampled time series\n",
    "colors = ['darkred', 'C1', 'grey']\n",
    "_alpha = 0.2\n",
    "_lw = 2.\n",
    "\n",
    "fig, axs = plt.subplots(n_var,1, figsize=(10,12))\n",
    "\n",
    "for j in range(n_var):\n",
    "    ax = axs.ravel()[j]\n",
    "    samples[j].plot(axes=ax, group=labels[j], group_colors={f'v{j}': colors[j]}, alpha=_alpha, lw=_lw)\n",
    "    ax.set_title(f'Sampled time series for v{j}')"
   ]
  },
  {
   "cell_type": "markdown",
   "id": "17fe1977",
   "metadata": {},
   "source": [
    "In the next step, we compute a basis representation (for a finite number of basis components!), reconstruct the time series and plot the reconstruction as well as the error."
   ]
  },
  {
   "cell_type": "code",
   "execution_count": null,
   "id": "ae8dbff3",
   "metadata": {
    "scrolled": false
   },
   "outputs": [],
   "source": [
    "# do basis transformation, reconstruct and plot deviation\n",
    "q = 7\n",
    "fig, axs = plt.subplots(n_var, 2, figsize=(15,9))\n",
    "\n",
    "for j in range(n_var):\n",
    "    basis = get_basis(style, q)\n",
    "    traf = samples[j].to_basis(basis)\n",
    "\n",
    "    recov_ds = traf.to_grid(samples[j].grid_points)\n",
    "    diff = samples[j] - recov_ds\n",
    "        \n",
    "    ax = axs[j,0]\n",
    "    recov_ds.plot(axes=ax, group=labels[j], group_colors={f'v{j}': colors[j]}, alpha=_alpha, lw=_lw)\n",
    "    ax.set_title(f'Basis representation - reconstructed time series for v{j}')\n",
    "    \n",
    "    ax2 = axs[j,1]\n",
    "    diff.plot(axes=ax2, group=labels[j], group_colors={f'v{j}': colors[j]}, alpha=_alpha, lw=_lw)\n",
    "    ax2.set_title(f'Reconstruction error for v{j}')\n",
    "    ax2.set_ylim(ax.get_ylim())\n",
    "    \n",
    "fig.tight_layout()"
   ]
  },
  {
   "cell_type": "markdown",
   "id": "85faa74d",
   "metadata": {},
   "source": [
    "## Fourth variable construction\n",
    "\n",
    "We want to create a fourth variable that is constructed using the first variable $v_0$ as follows: we permute the coefficients of the basis represenation and then retransform to a time series, but with the basis elements not permuted. This creates a variable where the relationship to the original $v_0$ is not obvious if only looking at the time series."
   ]
  },
  {
   "cell_type": "code",
   "execution_count": null,
   "id": "cabe75d7",
   "metadata": {},
   "outputs": [],
   "source": [
    "# components for v3 \n",
    "n_comp = 9"
   ]
  },
  {
   "cell_type": "code",
   "execution_count": null,
   "id": "2145e66d",
   "metadata": {},
   "outputs": [],
   "source": [
    "basis = get_basis(style, n_comp)\n",
    "_traf = samples[0].to_basis(basis)   \n",
    "\n",
    "rng = np.random.default_rng(1917)\n",
    "_perm = rng.permutation(n_comp)\n",
    "\n",
    "# permute\n",
    "_traf.coefficients = _traf.coefficients[:, _perm]\n",
    "\n",
    "# retransform to time series\n",
    "v3_ds = _traf.to_grid(samples[0].grid_points)\n",
    "\n",
    "# add some noise\n",
    "# v3_ds.data_matrix +=  0.05*np.random.randn(n_samples, n_ts, 1)"
   ]
  },
  {
   "cell_type": "code",
   "execution_count": null,
   "id": "12d8dc48",
   "metadata": {
    "scrolled": false
   },
   "outputs": [],
   "source": [
    "n_var += 1\n",
    "\n",
    "# add new time series\n",
    "samples.append(v3_ds)\n",
    "_lb3 = np.array([f'v3'] * n_samples)\n",
    "labels.append(_lb3)\n",
    "colors.append('steelblue')\n",
    "\n",
    "# plot again\n",
    "fig, axs = plt.subplots(n_var,1, figsize=(10,12))\n",
    "for j in range(n_var):\n",
    "    ax = axs.ravel()[j]\n",
    "    samples[j].plot(axes=ax, group=labels[j], group_colors={f'v{j}': colors[j]}, alpha=_alpha, lw=_lw)\n",
    "    ax.set_title(f'Sampled time series for v{j}')\n",
    "\n",
    "fig.tight_layout()"
   ]
  },
  {
   "cell_type": "code",
   "execution_count": null,
   "id": "d432e183",
   "metadata": {
    "scrolled": false
   },
   "outputs": [],
   "source": [
    "# plot basis functions\n",
    "basis = get_basis(style, n_comp)\n",
    "_x = np.linspace(t0,t1,100)\n",
    "W = basis.evaluate(_x).squeeze()\n",
    "\n",
    "fig, ax = plt.subplots(figsize=(10,5))\n",
    "for i in range(n_comp):\n",
    "    ax.plot(_x, W[i,:], lw=2, label=f\"basis {i}\")\n",
    "\n",
    "ax.legend()\n",
    "fig.suptitle(\"Plot of the basis functions\")"
   ]
  },
  {
   "cell_type": "markdown",
   "id": "4e2869d0",
   "metadata": {},
   "source": [
    "## Reconstruction error\n",
    "\n",
    "Now, we compute the recosntruction error (as a relative median l2 error) for an increasing number of basis components. We would expect that the error goes to zero."
   ]
  },
  {
   "cell_type": "code",
   "execution_count": null,
   "id": "235c1168",
   "metadata": {},
   "outputs": [],
   "source": [
    "fig, ax = plt.subplots()\n",
    "    \n",
    "for j in range(n_var):\n",
    "    all_err = list()\n",
    "    \n",
    "    if style != 'fourier':\n",
    "        all_q = range(4,12)\n",
    "    else:\n",
    "        all_q = [5,7,9,11,13] # Fourier has always odd number of basis elements\n",
    "        \n",
    "    for k in range(len(all_q)):\n",
    "        basis = get_basis(style, all_q[k])\n",
    "        this_traf = samples[j].to_basis(basis)\n",
    "        \n",
    "        # reconstruct ds \n",
    "        recov_ds = this_traf.to_grid(samples[j].grid_points)\n",
    "    \n",
    "        # compute error\n",
    "        this_err = l2_distance(samples[j], recov_ds) / l2_norm(samples[j])\n",
    "        all_err.append(np.median(this_err))\n",
    "\n",
    "   \n",
    "    ax.plot(all_q, all_err, c=colors[j], lw = 4, marker='p', markersize=10, markeredgecolor='k', alpha=0.8, label=f'v{j}')\n",
    "    \n",
    "ax.set_xlabel('Number of basis components')\n",
    "ax.set_ylabel('Median l2 error')\n",
    "ax.grid(ls = '-', lw = .5) \n",
    "ax.legend()"
   ]
  },
  {
   "cell_type": "markdown",
   "id": "9be7f620",
   "metadata": {},
   "source": [
    "## Functional Graphical Lasso (FSGL)\n",
    "\n",
    "As seen above, with sufficiently man basis components we have a good representation of the original function.\n",
    "Now, compute the coefficients for the first $n_{comp}$ basis components. Then, compute their correlations which will be the input for Functional Graphical Lasso.\n",
    "\n",
    "If we choose $n_{comp}=9$, we expect $4\\cdot9=36$ variables in total."
   ]
  },
  {
   "cell_type": "code",
   "execution_count": null,
   "id": "2187c444",
   "metadata": {},
   "outputs": [],
   "source": [
    "# from now on use 9 components\n",
    "n_comp = 9"
   ]
  },
  {
   "cell_type": "code",
   "execution_count": null,
   "id": "3dff6032",
   "metadata": {},
   "outputs": [],
   "source": [
    "from gglasso.helper.basic_linalg import scale_array_by_diagonal\n",
    "from gglasso.helper.utils import lambda_max_fsgl, frob_norm_per_block\n",
    "from gglasso.solver.functional_sgl_admm import ADMM_FSGL\n",
    "from gglasso.helper.experiment_helper import plot_fsgl_heatmap\n",
    "\n",
    "p = n_var\n",
    "M = n_comp\n",
    "pM = p*M\n",
    "all_traf = list()\n",
    "    \n",
    "# compute coefficients for each variable\n",
    "for j in range(n_var):\n",
    "    basis = get_basis(style, n_comp)\n",
    "    print(basis)\n",
    "    _traf = samples[j].to_basis(basis)\n",
    "    \n",
    "    all_traf.append(_traf.coefficients)\n",
    "    \n",
    "Z = np.hstack(all_traf)\n",
    "print(\"(N,p) = \", Z.shape)\n",
    "\n",
    "# compute covariances\n",
    "S = np.cov(Z.T)\n",
    "# scale to correlations\n",
    "S = scale_array_by_diagonal(S)\n",
    "\n",
    "print(\"S has shape \", S.shape)"
   ]
  },
  {
   "cell_type": "code",
   "execution_count": null,
   "id": "277609d5",
   "metadata": {
    "scrolled": false
   },
   "outputs": [],
   "source": [
    "# plot samples\n",
    "fig, ax = plt.subplots(figsize=(15,10))\n",
    "sns.heatmap(Z, ax=ax, alpha=1, vmin=-3, vmax=3, cmap='coolwarm', cbar=True, linewidth = 0.005, linecolor = 'lightgrey',)\n",
    "ax.vlines([(j+1)*n_comp for j in range(n_var)], 0, n_samples, color='k', lw=4)\n",
    "ax.set_title('Basis coefficients for all samples and variables')\n",
    "\n",
    "# plot heatmap\n",
    "fig, axs = plt.subplots(1,2,figsize=(9,4), gridspec_kw={'width_ratios': [5.5,4.5]})\n",
    "_v = 1.\n",
    "ax = axs[0]\n",
    "plot_fsgl_heatmap(S, p, M, ax=ax)\n",
    "ax.set_title('Empirical correlation matrix')\n",
    "\n",
    "# plot Frobenius norm of each subblock\n",
    "ax = axs[1]\n",
    "to_plot = np.round(frob_norm_per_block(S, n_comp),3)\n",
    "sns.heatmap(to_plot, annot=True, vmin=0, vmax=to_plot.max(), linewidth=0.005, linecolor='w', cbar=False, ax=ax)\n",
    "ax.set_title(r\"Heatmap of $\\||\\Theta^M_{jl}\\||_F$\")"
   ]
  },
  {
   "cell_type": "markdown",
   "id": "688ad15e",
   "metadata": {},
   "source": [
    "For FSGL, we have to specify a regularization parameter $\\lambda$. Typically, one computes the solution for a range of $\\lambda$ values and then chooses the best suited solution according to some criterion."
   ]
  },
  {
   "cell_type": "code",
   "execution_count": null,
   "id": "971e2e76",
   "metadata": {},
   "outputs": [],
   "source": [
    "# create range of lambda values\n",
    "lambda_max = lambda_max_fsgl(S, M)\n",
    "lambda_min = 0.1 * lambda_max\n",
    "lambda_range = np.logspace(np.log10(lambda_min), np.log10(lambda_max), 9)[::-1]"
   ]
  },
  {
   "cell_type": "code",
   "execution_count": null,
   "id": "9d5de7af",
   "metadata": {},
   "outputs": [],
   "source": [
    "lambda_range"
   ]
  },
  {
   "cell_type": "code",
   "execution_count": null,
   "id": "3a03ab07",
   "metadata": {},
   "outputs": [],
   "source": [
    "# solve Functional Graphical Lasso for all lambda\n",
    "Omega_0 = np.eye(pM)\n",
    "all_sol = dict()\n",
    "\n",
    "for j in range(len(lambda_range)):\n",
    "    _lam = lambda_range[j]\n",
    "    sol, info = ADMM_FSGL(S, _lam, M, Omega_0,\n",
    "                         rho=1., max_iter=2000, tol=1e-8, rtol=1e-7,\\\n",
    "                         update_rho=True, verbose=False, measure=True, latent=False, mu1=None)\n",
    "    \n",
    "    Omega_0 = sol['Omega'].copy() # warm start\n",
    "    all_sol[_lam] = sol.copy()"
   ]
  },
  {
   "cell_type": "markdown",
   "id": "12473357",
   "metadata": {},
   "source": [
    "As $v_3$ was constructed from $v_0$, we would expect that their relationship can be recovered. Also, $v_0$ and $v_1$ are more related as $v_0$ and $v_2$ as both come from a Gaussian process whereas $v_2$ was piecewise linear.\n",
    "Let's see whether these relationships are correctly identified by FSGL. For this, we are only interested whether the corresponding block (of size MxM) is **non-zero**. The block itself could be sparse or dense and its individual entries are harder to interpret."
   ]
  },
  {
   "cell_type": "code",
   "execution_count": null,
   "id": "49ee1571",
   "metadata": {
    "scrolled": false
   },
   "outputs": [],
   "source": [
    "fig, axs = plt.subplots(3,3, figsize=(17,15))\n",
    "\n",
    "for j in range(len(lambda_range)):\n",
    "    _lam = lambda_range[j]\n",
    "    ax = axs.ravel()[j]\n",
    "    plot_fsgl_heatmap(all_sol[_lam]['Theta'], p, M, ax=ax)\n",
    "    ax.set_title(fr\"$\\lambda$={_lam}\")\n",
    "    \n",
    "fig.suptitle(r'FSGL solution for all $\\lambda$-values')"
   ]
  },
  {
   "cell_type": "markdown",
   "id": "31ac1127",
   "metadata": {},
   "source": [
    "Finally, we plot the Frobenius norm of each subblock for each $\\lambda$-value. Like this, we can see which block first (i.e. for the largest $\\lambda$) enters the solution. As expected it is the block encoding the relationship between $v_0$ and $v_3$."
   ]
  },
  {
   "cell_type": "code",
   "execution_count": null,
   "id": "a7318d93",
   "metadata": {},
   "outputs": [],
   "source": [
    "Fnorm = np.zeros((len(lambda_range), p, p))\n",
    "\n",
    "for j in range(len(lambda_range)):\n",
    "    _lam = lambda_range[j]\n",
    "    Fnorm[j,:,:] = frob_norm_per_block(all_sol[_lam]['Theta'], M)\n",
    "\n",
    "# set 0 entries to nan for plotting\n",
    "Fnorm[Fnorm <= 1e-8] = np.nan"
   ]
  },
  {
   "cell_type": "code",
   "execution_count": null,
   "id": "95c151e7",
   "metadata": {},
   "outputs": [],
   "source": [
    "fig, ax = plt.subplots()\n",
    "\n",
    "for i in range(p):\n",
    "    for j in np.arange(start=i+1, stop=p):\n",
    "        ax.plot(lambda_range, Fnorm[:,i,j], lw=3, marker='o', markersize=8, alpha=0.7, markevery=(1,i+1),\n",
    "                markeredgecolor='k',\n",
    "                label = f'block {i}_{j}')\n",
    "\n",
    "ax.set_xscale('log')\n",
    "ax.set_ylim(0,)\n",
    "ax.set_xlim(lambda_range[-1], lambda_range[0])\n",
    "\n",
    "ax.set_xlabel(r'$\\lambda$', fontsize=14)\n",
    "ax.set_ylabel(r\"$\\||\\Theta^M_{jl}\\||_F$\", fontsize=14)\n",
    "ax.grid(ls = '-', lw = .5) \n",
    "ax.legend()"
   ]
  },
  {
   "cell_type": "code",
   "execution_count": null,
   "id": "efdd42f5",
   "metadata": {},
   "outputs": [],
   "source": []
  }
 ],
 "metadata": {
  "kernelspec": {
   "display_name": "Python 3",
   "language": "python",
   "name": "python3"
  },
  "language_info": {
   "codemirror_mode": {
    "name": "ipython",
    "version": 3
   },
   "file_extension": ".py",
   "mimetype": "text/x-python",
   "name": "python",
   "nbconvert_exporter": "python",
   "pygments_lexer": "ipython3",
   "version": "3.7.10"
  }
 },
 "nbformat": 4,
 "nbformat_minor": 5
}
