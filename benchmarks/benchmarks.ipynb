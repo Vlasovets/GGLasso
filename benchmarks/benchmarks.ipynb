{
 "cells": [
  {
   "cell_type": "code",
   "execution_count": null,
   "id": "opposed-opposition",
   "metadata": {},
   "outputs": [],
   "source": [
    "import os\n",
    "os.chdir(os.path.pardir)\n",
    "\n",
    "import numpy as np\n",
    "import pandas as pd\n",
    "import time\n",
    "import itertools\n",
    "from itertools import product\n",
    "\n",
    "from regain.covariance import GraphicalLasso as rg_GL\n",
    "#from regain import datasets, utils\n",
    "\n",
    "from sklearn.covariance import GraphicalLasso as sk_GL\n",
    "from sklearn import set_config\n",
    "\n",
    "from regain_benchmark import regain_time\n",
    "from sklearn_benchmark import sklearn_time\n",
    "from gglasso_benchmark import call_gglasso, gglasso_time\n",
    "\n",
    "from utilita import network_generation, model_solution, benchmark_parameters \n",
    "from utilita import sparsity_benchmark, dict_shape, calc_hamming_dict, benchmarks_dataframe\n",
    "\n",
    "from plots import plot_accuracy, plot_scalability, plot_lambdas, plot_bm\n",
    "\n",
    "from tqdm.contrib import tzip\n",
    "from tqdm.contrib.itertools import product\n",
    "\n",
    "set_config(print_changed_only=False)\n",
    "pd.set_option('display.max_columns', None)"
   ]
  },
  {
   "cell_type": "markdown",
   "id": "superb-brazilian",
   "metadata": {},
   "source": [
    "## Data"
   ]
  },
  {
   "cell_type": "markdown",
   "id": "civilian-works",
   "metadata": {},
   "source": [
    "### Power networks"
   ]
  },
  {
   "cell_type": "code",
   "execution_count": null,
   "id": "junior-yukon",
   "metadata": {},
   "outputs": [],
   "source": [
    "S_dict=dict()\n",
    "X_dict=dict()\n",
    "Theta_dict=dict()\n",
    "\n",
    "p_list=[100, 500, 1000, 2000, 5000]\n",
    "N_list=[110, 550, 1100, 2200, 5500]\n",
    "\n",
    "p_list=[100, 500]\n",
    "N_list=[110, 550]\n",
    "\n",
    "print(\" Power network generation \".center(40, '-'))\n",
    "\n",
    "for p, N in tzip(p_list, N_list):\n",
    "    start = time.perf_counter()\n",
    "    S, X, Theta = network_generation(p, N, M=10)\n",
    "    end = time.perf_counter()\n",
    "    print(\"p: %5d, N : %5d, Time : %5.4f\" % (p, N, end-start))\n",
    "\n",
    "    S_dict[p, N] = S.copy()\n",
    "    X_dict[p, N] = X.copy()\n",
    "    Theta_dict[p, N] = Theta.copy()"
   ]
  },
  {
   "cell_type": "code",
   "execution_count": null,
   "id": "impaired-bones",
   "metadata": {},
   "outputs": [],
   "source": [
    "print(\"\\n Shape of S_i:\", dict_shape(S_dict))\n",
    "print(\"\\n Shape of X_i:\", dict_shape(X_dict))\n",
    "print(\"\\n Shape of Theta_i:\", dict_shape(Theta_dict))"
   ]
  },
  {
   "cell_type": "markdown",
   "id": "bound-closure",
   "metadata": {},
   "source": [
    "### Hyperparameters"
   ]
  },
  {
   "cell_type": "code",
   "execution_count": null,
   "id": "meaningful-popularity",
   "metadata": {},
   "outputs": [],
   "source": [
    "lambda_list = [0.5, 0.1, 0.05]\n",
    "sk_params, rg_params, gglasso_params, lambda_list = benchmark_parameters(lambda_list = lambda_list)"
   ]
  },
  {
   "cell_type": "markdown",
   "id": "given-publication",
   "metadata": {},
   "source": [
    "### Model solution"
   ]
  },
  {
   "cell_type": "code",
   "execution_count": null,
   "id": "confirmed-volunteer",
   "metadata": {},
   "outputs": [],
   "source": [
    "model_time_dict = dict()\n",
    "model_Z_dict = dict()\n",
    "reference_solver = \"regain\"\n",
    "\n",
    "print(f\"Solving for a reference solution with solver {reference_solver}:\")\n",
    "\n",
    "for X, l1 in product(list(X_dict.values()), lambda_list):\n",
    "    \n",
    "    Z, Z_time, info = model_solution(solver=reference_solver, X=X, lambda1=l1)\n",
    "    \n",
    "    key = \"p_\" + str(X.shape[1]) + \"_N_\" + str(X.shape[0]) + \"_l1_\" + str(l1)\n",
    "    model_time_dict.update({key: Z_time})\n",
    "    model_Z_dict.update({key: Z})"
   ]
  },
  {
   "cell_type": "code",
   "execution_count": null,
   "id": "moderate-dominant",
   "metadata": {},
   "outputs": [],
   "source": [
    "time_dict = dict()\n",
    "accuracy_dict = dict()\n",
    "Z_dict = dict()\n",
    "\n",
    "n_iter = 3"
   ]
  },
  {
   "cell_type": "markdown",
   "id": "retained-credits",
   "metadata": {},
   "source": [
    "### GGLasso"
   ]
  },
  {
   "cell_type": "code",
   "execution_count": null,
   "id": "nasty-italic",
   "metadata": {},
   "outputs": [],
   "source": [
    "for X, S in tzip(list(X_dict.values()), list(S_dict.values())):\n",
    "    Omega_0 = np.eye(len(S))\n",
    "    gg_time, gg_accuracy, Z_gg = gglasso_time(S=S, X=X, Omega_0=Omega_0, Z=model_Z_dict, lambda_list=lambda_list,\n",
    "                                              n_iter=n_iter, gglasso_params=gglasso_params, warm_start=False)\n",
    "    \n",
    "    time_dict.update(gg_time)\n",
    "    accuracy_dict.update(gg_accuracy)\n",
    "    Z_dict.update(Z_gg)"
   ]
  },
  {
   "cell_type": "markdown",
   "id": "simple-taylor",
   "metadata": {},
   "source": [
    "### Sklearn"
   ]
  },
  {
   "cell_type": "code",
   "execution_count": null,
   "id": "willing-feeding",
   "metadata": {
    "scrolled": false
   },
   "outputs": [],
   "source": [
    "for X, S in tzip(list(X_dict.values()), list(S_dict.values())):\n",
    "    sk_time, sk_accuracy, Z_sk = sklearn_time(X=X, Z=model_Z_dict, sk_params=sk_params, lambda_list=lambda_list, \\\n",
    "                                              n_iter=n_iter)\n",
    "    \n",
    "    time_dict.update(sk_time)\n",
    "    accuracy_dict.update(sk_accuracy)\n",
    "    Z_dict.update(Z_sk)"
   ]
  },
  {
   "cell_type": "markdown",
   "id": "artificial-childhood",
   "metadata": {},
   "source": [
    "### Regain"
   ]
  },
  {
   "cell_type": "code",
   "execution_count": null,
   "id": "handled-monte",
   "metadata": {},
   "outputs": [],
   "source": [
    "for X, S in tzip(list(X_dict.values()), list(S_dict.values())):\n",
    "    rg_time, rg_accuracy, Z_rg = regain_time(X=X, Z=model_Z_dict, rg_params=rg_params, lambda_list=lambda_list, \\\n",
    "                                             n_iter=n_iter, warm_start=False)\n",
    "    \n",
    "    time_dict.update(rg_time)\n",
    "    accuracy_dict.update(rg_accuracy)\n",
    "    Z_dict.update(Z_rg)"
   ]
  },
  {
   "cell_type": "markdown",
   "id": "banned-auditor",
   "metadata": {},
   "source": [
    "### Hamming distances"
   ]
  },
  {
   "cell_type": "code",
   "execution_count": null,
   "id": "english-tunnel",
   "metadata": {},
   "outputs": [],
   "source": [
    "hamming_dict = calc_hamming_dict(Theta_dict=Theta_dict, Z_dict=Z_dict, t_rounding=1e-8)"
   ]
  },
  {
   "cell_type": "markdown",
   "id": "fancy-account",
   "metadata": {},
   "source": [
    "### Visualization"
   ]
  },
  {
   "cell_type": "code",
   "execution_count": null,
   "id": "authentic-northwest",
   "metadata": {},
   "outputs": [],
   "source": [
    "df = benchmarks_dataframe(times=time_dict, acc=accuracy_dict, hamming=hamming_dict)\n",
    "df.head()"
   ]
  },
  {
   "cell_type": "code",
   "execution_count": null,
   "id": "cooperative-lafayette",
   "metadata": {},
   "outputs": [],
   "source": [
    "plot_bm(df, lambda_list, min_acc = 5e-3, log_scale = True)"
   ]
  },
  {
   "cell_type": "code",
   "execution_count": null,
   "id": "harmful-toolbox",
   "metadata": {},
   "outputs": [],
   "source": [
    "fig = plot_lambdas(df, upper_bound=0.01, lower_bound=0.000001)\n",
    "fig.show()"
   ]
  },
  {
   "cell_type": "code",
   "execution_count": null,
   "id": "headed-proposal",
   "metadata": {},
   "outputs": [],
   "source": [
    "fig = plot_accuracy(df, upper_bound=0.1, lower_bound=0.0000001, lambda_filter=0.05, sortby=['p', 'time'])\n",
    "fig.show()"
   ]
  },
  {
   "cell_type": "code",
   "execution_count": null,
   "id": "pointed-settle",
   "metadata": {},
   "outputs": [],
   "source": [
    "frames = sparsity_benchmark(df, upper_bound=0.01, lower_bound=0.0001, lambda_filter=0.1)\n",
    "frames"
   ]
  }
 ],
 "metadata": {
  "kernelspec": {
   "display_name": "Python 3",
   "language": "python",
   "name": "python3"
  },
  "language_info": {
   "codemirror_mode": {
    "name": "ipython",
    "version": 3
   },
   "file_extension": ".py",
   "mimetype": "text/x-python",
   "name": "python",
   "nbconvert_exporter": "python",
   "pygments_lexer": "ipython3",
   "version": "3.7.10"
  },
  "widgets": {
   "application/vnd.jupyter.widget-state+json": {
    "state": {},
    "version_major": 2,
    "version_minor": 0
   }
  }
 },
 "nbformat": 4,
 "nbformat_minor": 5
}
