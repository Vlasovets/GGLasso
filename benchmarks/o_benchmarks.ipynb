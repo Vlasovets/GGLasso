{
 "cells": [
  {
   "cell_type": "code",
   "execution_count": 4,
   "id": "naughty-president",
   "metadata": {},
   "outputs": [],
   "source": [
    "import os\n",
    "os.chdir(os.path.pardir)\n",
    "\n",
    "import numpy as np\n",
    "import pandas as pd\n",
    "import time\n",
    "import itertools\n",
    "from itertools import product\n",
    "\n",
    "from regain.covariance import GraphicalLasso as rg_GL\n",
    "from regain import datasets, utils\n",
    "\n",
    "from sklearn.covariance import GraphicalLasso as sk_GL\n",
    "from sklearn import set_config\n",
    "\n",
    "from regain_benchmark import regain_time\n",
    "from sklearn_benchmark import sklearn_time\n",
    "from gglasso_benchmark import call_gglasso, gglasso_time\n",
    "\n",
    "from utilita import network_generation, model_solution, benchmark_parameters \n",
    "from utilita import sparsity_benchmark, dict_shape, calc_hamming_dict, benchmarks_dataframe\n",
    "# best_time_dataframe, drop_acc_duplicates\n",
    "\n",
    "from plots import plot_accuracy, plot_scalability, plot_lambdas, plot_bm\n",
    "\n",
    "from tqdm.contrib import tzip\n",
    "from tqdm.contrib.itertools import product\n",
    "\n",
    "set_config(print_changed_only=False)\n",
    "pd.set_option('display.max_columns', None)"
   ]
  },
  {
   "cell_type": "markdown",
   "id": "dental-conclusion",
   "metadata": {},
   "source": [
    "## Data"
   ]
  },
  {
   "cell_type": "markdown",
   "id": "regulated-schedule",
   "metadata": {},
   "source": [
    "### Power networks"
   ]
  },
  {
   "cell_type": "code",
   "execution_count": 10,
   "id": "suspected-sacrifice",
   "metadata": {},
   "outputs": [
    {
     "name": "stdout",
     "output_type": "stream",
     "text": [
      "------- Power network generation -------\n"
     ]
    },
    {
     "data": {
      "application/vnd.jupyter.widget-view+json": {
       "model_id": "c0c7d4ce57894e8b85f3a2590725d07e",
       "version_major": 2,
       "version_minor": 0
      },
      "text/plain": [
       "  0%|          | 0/2 [00:00<?, ?it/s]"
      ]
     },
     "metadata": {},
     "output_type": "display_data"
    },
    {
     "name": "stdout",
     "output_type": "stream",
     "text": [
      "p:   100, N :   200, Time : 0.0291\n",
      "p:   200, N :   400, Time : 0.0677\n"
     ]
    }
   ],
   "source": [
    "S_dict=dict()\n",
    "X_dict=dict()\n",
    "Theta_dict=dict()\n",
    "\n",
    "# p_list=[100, 500, 1000, 2000]\n",
    "# N_list=[200, 1000, 2000, 4000]\n",
    "p_list=[100, 200]\n",
    "N_list=[200, 400]\n",
    "\n",
    "print(\" Power network generation \".center(40, '-'))\n",
    "\n",
    "for p, N in tzip(p_list, N_list):\n",
    "    start = time.perf_counter()\n",
    "    S, X, Theta = network_generation(p, N, M=10)\n",
    "    end = time.perf_counter()\n",
    "    print(\"p: %5d, N : %5d, Time : %5.4f\" % (p, N, end-start))\n",
    "\n",
    "    S_dict[p, N] = S.copy()\n",
    "    X_dict[p, N] = X.copy()\n",
    "    Theta_dict[p, N] = Theta.copy()"
   ]
  },
  {
   "cell_type": "code",
   "execution_count": 11,
   "id": "rising-corporation",
   "metadata": {},
   "outputs": [
    {
     "name": "stdout",
     "output_type": "stream",
     "text": [
      "\n",
      " Shape of S_i: [(100, 100), (200, 200)]\n",
      "\n",
      " Shape of X_i: [(200, 100), (400, 200)]\n",
      "\n",
      " Shape of Theta_i: [(100, 100), (200, 200)]\n"
     ]
    }
   ],
   "source": [
    "print(\"\\n Shape of S_i:\", dict_shape(S_dict))\n",
    "print(\"\\n Shape of X_i:\", dict_shape(X_dict))\n",
    "print(\"\\n Shape of Theta_i:\", dict_shape(Theta_dict))"
   ]
  },
  {
   "cell_type": "markdown",
   "id": "waiting-worthy",
   "metadata": {},
   "source": [
    "### Hyperparameters"
   ]
  },
  {
   "cell_type": "code",
   "execution_count": 12,
   "id": "cloudy-pledge",
   "metadata": {},
   "outputs": [
    {
     "name": "stdout",
     "output_type": "stream",
     "text": [
      "\n",
      " Sklearn model parameters: {'tol': [0.1, 0.01], 'enet': [0.1, 0.01]}\n",
      "\n",
      " Regain model parameters: {'tol': [0.0001, 1e-05, 1e-06], 'rtol': [0.0001, 1e-05, 1e-06]}\n",
      "\n",
      " ADMM model parameters: {'tol': [1e-05, 1e-06, 1e-07], 'rtol': [1e-05, 1e-06, 1e-07], 'stop': 'boyd', 'method': ['single', 'block']}\n",
      "\n",
      " Lambda list: [0.5, 0.1, 0.05]\n"
     ]
    }
   ],
   "source": [
    "lambda_list = [0.5, 0.1, 0.05]\n",
    "sk_params, rg_params, gglasso_params, lambda_list = benchmark_parameters(lambda_list = lambda_list)"
   ]
  },
  {
   "cell_type": "markdown",
   "id": "worse-wealth",
   "metadata": {},
   "source": [
    "### Model solution"
   ]
  },
  {
   "cell_type": "code",
   "execution_count": 13,
   "id": "functional-optimum",
   "metadata": {},
   "outputs": [
    {
     "name": "stdout",
     "output_type": "stream",
     "text": [
      "Solving for a reference solution with solver regain:\n"
     ]
    },
    {
     "data": {
      "application/vnd.jupyter.widget-view+json": {
       "model_id": "e8e9ab4b98b4487ba641642b6fa04885",
       "version_major": 2,
       "version_minor": 0
      },
      "text/plain": [
       "  0%|          | 0/6 [00:00<?, ?it/s]"
      ]
     },
     "metadata": {},
     "output_type": "display_data"
    },
    {
     "name": "stdout",
     "output_type": "stream",
     "text": [
      "obj: 80.2886, rnorm: 15.2313, snorm: 17.7772,eps_pri: 0.0000, eps_dual: 0.0000\n",
      "obj: 143.4769, rnorm: 5.5011, snorm: 3.1702,eps_pri: 0.0000, eps_dual: 0.0000\n",
      "obj: 128.2025, rnorm: 2.7162, snorm: 2.5411,eps_pri: 0.0000, eps_dual: 0.0000\n",
      "obj: 121.4142, rnorm: 1.4973, snorm: 1.7086,eps_pri: 0.0000, eps_dual: 0.0000\n",
      "obj: 118.7886, rnorm: 0.8985, snorm: 1.0272,eps_pri: 0.0000, eps_dual: 0.0000\n",
      "obj: 117.8356, rnorm: 0.5766, snorm: 0.5740,eps_pri: 0.0000, eps_dual: 0.0000\n",
      "obj: 117.5285, rnorm: 0.3883, snorm: 0.3138,eps_pri: 0.0000, eps_dual: 0.0000\n",
      "obj: 117.4382, rnorm: 0.2733, snorm: 0.1711,eps_pri: 0.0000, eps_dual: 0.0000\n",
      "obj: 117.4640, rnorm: 0.2004, snorm: 0.0981,eps_pri: 0.0000, eps_dual: 0.0000\n",
      "obj: 117.5189, rnorm: 0.1553, snorm: 0.0563,eps_pri: 0.0000, eps_dual: 0.0000\n",
      "obj: 117.5807, rnorm: 0.1258, snorm: 0.0327,eps_pri: 0.0000, eps_dual: 0.0000\n",
      "obj: 117.6422, rnorm: 0.1054, snorm: 0.0198,eps_pri: 0.0000, eps_dual: 0.0000\n",
      "obj: 117.6989, rnorm: 0.0902, snorm: 0.0123,eps_pri: 0.0000, eps_dual: 0.0000\n",
      "obj: 117.7492, rnorm: 0.0784, snorm: 0.0077,eps_pri: 0.0000, eps_dual: 0.0000\n",
      "obj: 117.8241, rnorm: 0.0621, snorm: 0.0072,eps_pri: 0.0000, eps_dual: 0.0000\n",
      "obj: 117.8816, rnorm: 0.0503, snorm: 0.0057,eps_pri: 0.0000, eps_dual: 0.0000\n",
      "obj: 117.9245, rnorm: 0.0415, snorm: 0.0043,eps_pri: 0.0000, eps_dual: 0.0000\n",
      "obj: 117.9565, rnorm: 0.0348, snorm: 0.0032,eps_pri: 0.0000, eps_dual: 0.0000\n",
      "obj: 117.9946, rnorm: 0.0260, snorm: 0.0037,eps_pri: 0.0000, eps_dual: 0.0000\n",
      "obj: 118.0190, rnorm: 0.0200, snorm: 0.0030,eps_pri: 0.0000, eps_dual: 0.0000\n",
      "obj: 118.0347, rnorm: 0.0156, snorm: 0.0023,eps_pri: 0.0000, eps_dual: 0.0000\n",
      "obj: 118.0451, rnorm: 0.0124, snorm: 0.0018,eps_pri: 0.0000, eps_dual: 0.0000\n",
      "obj: 118.0522, rnorm: 0.0099, snorm: 0.0015,eps_pri: 0.0000, eps_dual: 0.0000\n",
      "obj: 118.0573, rnorm: 0.0080, snorm: 0.0013,eps_pri: 0.0000, eps_dual: 0.0000\n",
      "obj: 118.0609, rnorm: 0.0065, snorm: 0.0011,eps_pri: 0.0000, eps_dual: 0.0000\n",
      "obj: 118.0635, rnorm: 0.0053, snorm: 0.0009,eps_pri: 0.0000, eps_dual: 0.0000\n",
      "obj: 118.0656, rnorm: 0.0043, snorm: 0.0008,eps_pri: 0.0000, eps_dual: 0.0000\n",
      "obj: 118.0671, rnorm: 0.0035, snorm: 0.0007,eps_pri: 0.0000, eps_dual: 0.0000\n",
      "obj: 118.0683, rnorm: 0.0029, snorm: 0.0006,eps_pri: 0.0000, eps_dual: 0.0000\n",
      "obj: 118.0692, rnorm: 0.0024, snorm: 0.0005,eps_pri: 0.0000, eps_dual: 0.0000\n",
      "obj: 118.0700, rnorm: 0.0020, snorm: 0.0005,eps_pri: 0.0000, eps_dual: 0.0000\n",
      "obj: 118.0706, rnorm: 0.0016, snorm: 0.0004,eps_pri: 0.0000, eps_dual: 0.0000\n",
      "obj: 118.0710, rnorm: 0.0013, snorm: 0.0004,eps_pri: 0.0000, eps_dual: 0.0000\n",
      "obj: 118.0714, rnorm: 0.0011, snorm: 0.0003,eps_pri: 0.0000, eps_dual: 0.0000\n",
      "obj: 118.0717, rnorm: 0.0009, snorm: 0.0003,eps_pri: 0.0000, eps_dual: 0.0000\n",
      "obj: 118.0719, rnorm: 0.0008, snorm: 0.0002,eps_pri: 0.0000, eps_dual: 0.0000\n",
      "obj: 118.0721, rnorm: 0.0006, snorm: 0.0002,eps_pri: 0.0000, eps_dual: 0.0000\n",
      "obj: 118.0723, rnorm: 0.0005, snorm: 0.0002,eps_pri: 0.0000, eps_dual: 0.0000\n",
      "obj: 118.0724, rnorm: 0.0004, snorm: 0.0002,eps_pri: 0.0000, eps_dual: 0.0000\n",
      "obj: 118.0725, rnorm: 0.0004, snorm: 0.0001,eps_pri: 0.0000, eps_dual: 0.0000\n",
      "obj: 118.0726, rnorm: 0.0003, snorm: 0.0001,eps_pri: 0.0000, eps_dual: 0.0000\n",
      "obj: 118.0727, rnorm: 0.0002, snorm: 0.0001,eps_pri: 0.0000, eps_dual: 0.0000\n",
      "obj: 118.0728, rnorm: 0.0002, snorm: 0.0001,eps_pri: 0.0000, eps_dual: 0.0000\n",
      "obj: 118.0728, rnorm: 0.0002, snorm: 0.0001,eps_pri: 0.0000, eps_dual: 0.0000\n",
      "obj: 118.0729, rnorm: 0.0001, snorm: 0.0001,eps_pri: 0.0000, eps_dual: 0.0000\n",
      "obj: 118.0729, rnorm: 0.0001, snorm: 0.0001,eps_pri: 0.0000, eps_dual: 0.0000\n",
      "obj: 118.0729, rnorm: 0.0001, snorm: 0.0001,eps_pri: 0.0000, eps_dual: 0.0000\n",
      "obj: 118.0729, rnorm: 0.0001, snorm: 0.0001,eps_pri: 0.0000, eps_dual: 0.0000\n",
      "obj: 118.0730, rnorm: 0.0001, snorm: 0.0000,eps_pri: 0.0000, eps_dual: 0.0000\n",
      "obj: 118.0730, rnorm: 0.0001, snorm: 0.0000,eps_pri: 0.0000, eps_dual: 0.0000\n",
      "obj: 118.0730, rnorm: 0.0000, snorm: 0.0000,eps_pri: 0.0000, eps_dual: 0.0000\n",
      "obj: 118.0730, rnorm: 0.0000, snorm: 0.0000,eps_pri: 0.0000, eps_dual: 0.0000\n",
      "obj: 118.0730, rnorm: 0.0000, snorm: 0.0000,eps_pri: 0.0000, eps_dual: 0.0000\n",
      "obj: 118.0730, rnorm: 0.0000, snorm: 0.0000,eps_pri: 0.0000, eps_dual: 0.0000\n",
      "obj: 118.0730, rnorm: 0.0000, snorm: 0.0000,eps_pri: 0.0000, eps_dual: 0.0000\n",
      "obj: 118.0730, rnorm: 0.0000, snorm: 0.0000,eps_pri: 0.0000, eps_dual: 0.0000\n",
      "obj: 118.0730, rnorm: 0.0000, snorm: 0.0000,eps_pri: 0.0000, eps_dual: 0.0000\n",
      "obj: 118.0730, rnorm: 0.0000, snorm: 0.0000,eps_pri: 0.0000, eps_dual: 0.0000\n",
      "obj: 118.0730, rnorm: 0.0000, snorm: 0.0000,eps_pri: 0.0000, eps_dual: 0.0000\n",
      "obj: 118.0730, rnorm: 0.0000, snorm: 0.0000,eps_pri: 0.0000, eps_dual: 0.0000\n",
      "obj: 118.0730, rnorm: 0.0000, snorm: 0.0000,eps_pri: 0.0000, eps_dual: 0.0000\n",
      "obj: 118.0730, rnorm: 0.0000, snorm: 0.0000,eps_pri: 0.0000, eps_dual: 0.0000\n",
      "obj: 118.0730, rnorm: 0.0000, snorm: 0.0000,eps_pri: 0.0000, eps_dual: 0.0000\n",
      "obj: 118.0730, rnorm: 0.0000, snorm: 0.0000,eps_pri: 0.0000, eps_dual: 0.0000\n",
      "obj: 118.0730, rnorm: 0.0000, snorm: 0.0000,eps_pri: 0.0000, eps_dual: 0.0000\n",
      "obj: 118.0730, rnorm: 0.0000, snorm: 0.0000,eps_pri: 0.0000, eps_dual: 0.0000\n",
      "obj: 118.0730, rnorm: 0.0000, snorm: 0.0000,eps_pri: 0.0000, eps_dual: 0.0000\n",
      "obj: 118.0730, rnorm: 0.0000, snorm: 0.0000,eps_pri: 0.0000, eps_dual: 0.0000\n",
      "obj: 118.0730, rnorm: 0.0000, snorm: 0.0000,eps_pri: 0.0000, eps_dual: 0.0000\n",
      "obj: 118.0730, rnorm: 0.0000, snorm: 0.0000,eps_pri: 0.0000, eps_dual: 0.0000\n",
      "obj: 118.0730, rnorm: 0.0000, snorm: 0.0000,eps_pri: 0.0000, eps_dual: 0.0000\n",
      "obj: 118.0730, rnorm: 0.0000, snorm: 0.0000,eps_pri: 0.0000, eps_dual: 0.0000\n",
      "obj: 118.0730, rnorm: 0.0000, snorm: 0.0000,eps_pri: 0.0000, eps_dual: 0.0000\n",
      "obj: 118.0730, rnorm: 0.0000, snorm: 0.0000,eps_pri: 0.0000, eps_dual: 0.0000\n",
      "obj: 118.0730, rnorm: 0.0000, snorm: 0.0000,eps_pri: 0.0000, eps_dual: 0.0000\n",
      "obj: 118.0730, rnorm: 0.0000, snorm: 0.0000,eps_pri: 0.0000, eps_dual: 0.0000\n",
      "obj: 118.0730, rnorm: 0.0000, snorm: 0.0000,eps_pri: 0.0000, eps_dual: 0.0000\n",
      "obj: 118.0730, rnorm: 0.0000, snorm: 0.0000,eps_pri: 0.0000, eps_dual: 0.0000\n",
      "obj: 118.0730, rnorm: 0.0000, snorm: 0.0000,eps_pri: 0.0000, eps_dual: 0.0000\n",
      "obj: 118.0730, rnorm: 0.0000, snorm: 0.0000,eps_pri: 0.0000, eps_dual: 0.0000\n",
      "obj: 118.0730, rnorm: 0.0000, snorm: 0.0000,eps_pri: 0.0000, eps_dual: 0.0000\n",
      "obj: 118.0730, rnorm: 0.0000, snorm: 0.0000,eps_pri: 0.0000, eps_dual: 0.0000\n",
      "obj: 118.0730, rnorm: 0.0000, snorm: 0.0000,eps_pri: 0.0000, eps_dual: 0.0000\n",
      "obj: 118.0730, rnorm: 0.0000, snorm: 0.0000,eps_pri: 0.0000, eps_dual: 0.0000\n",
      "obj: 118.0730, rnorm: 0.0000, snorm: 0.0000,eps_pri: 0.0000, eps_dual: 0.0000\n",
      "obj: 118.0730, rnorm: 0.0000, snorm: 0.0000,eps_pri: 0.0000, eps_dual: 0.0000\n",
      "obj: 118.0730, rnorm: 0.0000, snorm: 0.0000,eps_pri: 0.0000, eps_dual: 0.0000\n",
      "obj: 118.0730, rnorm: 0.0000, snorm: 0.0000,eps_pri: 0.0000, eps_dual: 0.0000\n",
      "obj: 118.0730, rnorm: 0.0000, snorm: 0.0000,eps_pri: 0.0000, eps_dual: 0.0000\n",
      "obj: 118.0730, rnorm: 0.0000, snorm: 0.0000,eps_pri: 0.0000, eps_dual: 0.0000\n",
      "obj: 118.0730, rnorm: 0.0000, snorm: 0.0000,eps_pri: 0.0000, eps_dual: 0.0000\n",
      "obj: 118.0730, rnorm: 0.0000, snorm: 0.0000,eps_pri: 0.0000, eps_dual: 0.0000\n",
      "obj: 118.0730, rnorm: 0.0000, snorm: 0.0000,eps_pri: 0.0000, eps_dual: 0.0000\n",
      "obj: 118.0730, rnorm: 0.0000, snorm: 0.0000,eps_pri: 0.0000, eps_dual: 0.0000\n",
      "obj: 118.0730, rnorm: 0.0000, snorm: 0.0000,eps_pri: 0.0000, eps_dual: 0.0000\n",
      "obj: 118.0730, rnorm: 0.0000, snorm: 0.0000,eps_pri: 0.0000, eps_dual: 0.0000\n",
      "obj: 118.0730, rnorm: 0.0000, snorm: 0.0000,eps_pri: 0.0000, eps_dual: 0.0000\n",
      "obj: 118.0730, rnorm: 0.0000, snorm: 0.0000,eps_pri: 0.0000, eps_dual: 0.0000\n",
      "obj: 118.0730, rnorm: 0.0000, snorm: 0.0000,eps_pri: 0.0000, eps_dual: 0.0000\n",
      "obj: 118.0730, rnorm: 0.0000, snorm: 0.0000,eps_pri: 0.0000, eps_dual: 0.0000\n",
      "obj: 118.0730, rnorm: 0.0000, snorm: 0.0000,eps_pri: 0.0000, eps_dual: 0.0000\n",
      "obj: 118.0730, rnorm: 0.0000, snorm: 0.0000,eps_pri: 0.0000, eps_dual: 0.0000\n",
      "obj: 118.0730, rnorm: 0.0000, snorm: 0.0000,eps_pri: 0.0000, eps_dual: 0.0000\n",
      "obj: 118.0730, rnorm: 0.0000, snorm: 0.0000,eps_pri: 0.0000, eps_dual: 0.0000\n",
      "obj: 118.0730, rnorm: 0.0000, snorm: 0.0000,eps_pri: 0.0000, eps_dual: 0.0000\n",
      "obj: 118.0730, rnorm: 0.0000, snorm: 0.0000,eps_pri: 0.0000, eps_dual: 0.0000\n",
      "obj: 118.0730, rnorm: 0.0000, snorm: 0.0000,eps_pri: 0.0000, eps_dual: 0.0000\n",
      "obj: 118.0730, rnorm: 0.0000, snorm: 0.0000,eps_pri: 0.0000, eps_dual: 0.0000\n",
      "obj: 80.2886, rnorm: 15.2313, snorm: 17.7772,eps_pri: 0.0000, eps_dual: 0.0000\n",
      "obj: 143.4769, rnorm: 5.5011, snorm: 3.1702,eps_pri: 0.0000, eps_dual: 0.0000\n",
      "obj: 128.2025, rnorm: 2.7162, snorm: 2.5411,eps_pri: 0.0000, eps_dual: 0.0000\n",
      "obj: 121.4142, rnorm: 1.4973, snorm: 1.7086,eps_pri: 0.0000, eps_dual: 0.0000\n",
      "obj: 118.7886, rnorm: 0.8985, snorm: 1.0272,eps_pri: 0.0000, eps_dual: 0.0000\n",
      "obj: 117.8356, rnorm: 0.5766, snorm: 0.5740,eps_pri: 0.0000, eps_dual: 0.0000\n",
      "obj: 117.5285, rnorm: 0.3883, snorm: 0.3138,eps_pri: 0.0000, eps_dual: 0.0000\n",
      "obj: 117.4382, rnorm: 0.2733, snorm: 0.1711,eps_pri: 0.0000, eps_dual: 0.0000\n",
      "obj: 117.4640, rnorm: 0.2004, snorm: 0.0981,eps_pri: 0.0000, eps_dual: 0.0000\n",
      "obj: 117.5189, rnorm: 0.1553, snorm: 0.0563,eps_pri: 0.0000, eps_dual: 0.0000\n",
      "obj: 117.5807, rnorm: 0.1258, snorm: 0.0327,eps_pri: 0.0000, eps_dual: 0.0000\n",
      "obj: 117.6422, rnorm: 0.1054, snorm: 0.0198,eps_pri: 0.0000, eps_dual: 0.0000\n",
      "obj: 117.6989, rnorm: 0.0902, snorm: 0.0123,eps_pri: 0.0000, eps_dual: 0.0000\n",
      "obj: 117.7492, rnorm: 0.0784, snorm: 0.0077,eps_pri: 0.0000, eps_dual: 0.0000\n",
      "obj: 117.8241, rnorm: 0.0621, snorm: 0.0072,eps_pri: 0.0000, eps_dual: 0.0000\n",
      "obj: 117.8816, rnorm: 0.0503, snorm: 0.0057,eps_pri: 0.0000, eps_dual: 0.0000\n",
      "obj: 117.9245, rnorm: 0.0415, snorm: 0.0043,eps_pri: 0.0000, eps_dual: 0.0000\n",
      "obj: 117.9565, rnorm: 0.0348, snorm: 0.0032,eps_pri: 0.0000, eps_dual: 0.0000\n",
      "obj: 117.9946, rnorm: 0.0260, snorm: 0.0037,eps_pri: 0.0000, eps_dual: 0.0000\n",
      "obj: 118.0190, rnorm: 0.0200, snorm: 0.0030,eps_pri: 0.0000, eps_dual: 0.0000\n",
      "obj: 118.0347, rnorm: 0.0156, snorm: 0.0023,eps_pri: 0.0000, eps_dual: 0.0000\n",
      "obj: 118.0451, rnorm: 0.0124, snorm: 0.0018,eps_pri: 0.0000, eps_dual: 0.0000\n",
      "obj: 118.0522, rnorm: 0.0099, snorm: 0.0015,eps_pri: 0.0000, eps_dual: 0.0000\n",
      "obj: 118.0573, rnorm: 0.0080, snorm: 0.0013,eps_pri: 0.0000, eps_dual: 0.0000\n",
      "obj: 118.0609, rnorm: 0.0065, snorm: 0.0011,eps_pri: 0.0000, eps_dual: 0.0000\n",
      "obj: 118.0635, rnorm: 0.0053, snorm: 0.0009,eps_pri: 0.0000, eps_dual: 0.0000\n",
      "obj: 118.0656, rnorm: 0.0043, snorm: 0.0008,eps_pri: 0.0000, eps_dual: 0.0000\n",
      "obj: 118.0671, rnorm: 0.0035, snorm: 0.0007,eps_pri: 0.0000, eps_dual: 0.0000\n",
      "obj: 118.0683, rnorm: 0.0029, snorm: 0.0006,eps_pri: 0.0000, eps_dual: 0.0000\n",
      "obj: 118.0692, rnorm: 0.0024, snorm: 0.0005,eps_pri: 0.0000, eps_dual: 0.0000\n",
      "obj: 118.0700, rnorm: 0.0020, snorm: 0.0005,eps_pri: 0.0000, eps_dual: 0.0000\n",
      "obj: 118.0706, rnorm: 0.0016, snorm: 0.0004,eps_pri: 0.0000, eps_dual: 0.0000\n",
      "obj: 118.0710, rnorm: 0.0013, snorm: 0.0004,eps_pri: 0.0000, eps_dual: 0.0000\n",
      "obj: 118.0714, rnorm: 0.0011, snorm: 0.0003,eps_pri: 0.0000, eps_dual: 0.0000\n",
      "obj: 118.0717, rnorm: 0.0009, snorm: 0.0003,eps_pri: 0.0000, eps_dual: 0.0000\n",
      "obj: 118.0719, rnorm: 0.0008, snorm: 0.0002,eps_pri: 0.0000, eps_dual: 0.0000\n"
     ]
    },
    {
     "name": "stdout",
     "output_type": "stream",
     "text": [
      "obj: 118.0721, rnorm: 0.0006, snorm: 0.0002,eps_pri: 0.0000, eps_dual: 0.0000\n",
      "obj: 118.0723, rnorm: 0.0005, snorm: 0.0002,eps_pri: 0.0000, eps_dual: 0.0000\n",
      "obj: 118.0724, rnorm: 0.0004, snorm: 0.0002,eps_pri: 0.0000, eps_dual: 0.0000\n",
      "obj: 118.0725, rnorm: 0.0004, snorm: 0.0001,eps_pri: 0.0000, eps_dual: 0.0000\n",
      "obj: 118.0726, rnorm: 0.0003, snorm: 0.0001,eps_pri: 0.0000, eps_dual: 0.0000\n",
      "obj: 118.0727, rnorm: 0.0002, snorm: 0.0001,eps_pri: 0.0000, eps_dual: 0.0000\n",
      "obj: 118.0728, rnorm: 0.0002, snorm: 0.0001,eps_pri: 0.0000, eps_dual: 0.0000\n",
      "obj: 118.0728, rnorm: 0.0002, snorm: 0.0001,eps_pri: 0.0000, eps_dual: 0.0000\n",
      "obj: 118.0729, rnorm: 0.0001, snorm: 0.0001,eps_pri: 0.0000, eps_dual: 0.0000\n",
      "obj: 118.0729, rnorm: 0.0001, snorm: 0.0001,eps_pri: 0.0000, eps_dual: 0.0000\n",
      "obj: 118.0729, rnorm: 0.0001, snorm: 0.0001,eps_pri: 0.0000, eps_dual: 0.0000\n",
      "obj: 118.0729, rnorm: 0.0001, snorm: 0.0001,eps_pri: 0.0000, eps_dual: 0.0000\n",
      "obj: 118.0730, rnorm: 0.0001, snorm: 0.0000,eps_pri: 0.0000, eps_dual: 0.0000\n",
      "obj: 118.0730, rnorm: 0.0001, snorm: 0.0000,eps_pri: 0.0000, eps_dual: 0.0000\n",
      "obj: 118.0730, rnorm: 0.0000, snorm: 0.0000,eps_pri: 0.0000, eps_dual: 0.0000\n",
      "obj: 118.0730, rnorm: 0.0000, snorm: 0.0000,eps_pri: 0.0000, eps_dual: 0.0000\n",
      "obj: 118.0730, rnorm: 0.0000, snorm: 0.0000,eps_pri: 0.0000, eps_dual: 0.0000\n",
      "obj: 118.0730, rnorm: 0.0000, snorm: 0.0000,eps_pri: 0.0000, eps_dual: 0.0000\n",
      "obj: 118.0730, rnorm: 0.0000, snorm: 0.0000,eps_pri: 0.0000, eps_dual: 0.0000\n",
      "obj: 118.0730, rnorm: 0.0000, snorm: 0.0000,eps_pri: 0.0000, eps_dual: 0.0000\n",
      "obj: 118.0730, rnorm: 0.0000, snorm: 0.0000,eps_pri: 0.0000, eps_dual: 0.0000\n",
      "obj: 118.0730, rnorm: 0.0000, snorm: 0.0000,eps_pri: 0.0000, eps_dual: 0.0000\n",
      "obj: 118.0730, rnorm: 0.0000, snorm: 0.0000,eps_pri: 0.0000, eps_dual: 0.0000\n",
      "obj: 118.0730, rnorm: 0.0000, snorm: 0.0000,eps_pri: 0.0000, eps_dual: 0.0000\n",
      "obj: 118.0730, rnorm: 0.0000, snorm: 0.0000,eps_pri: 0.0000, eps_dual: 0.0000\n",
      "obj: 118.0730, rnorm: 0.0000, snorm: 0.0000,eps_pri: 0.0000, eps_dual: 0.0000\n",
      "obj: 118.0730, rnorm: 0.0000, snorm: 0.0000,eps_pri: 0.0000, eps_dual: 0.0000\n",
      "obj: 118.0730, rnorm: 0.0000, snorm: 0.0000,eps_pri: 0.0000, eps_dual: 0.0000\n",
      "obj: 118.0730, rnorm: 0.0000, snorm: 0.0000,eps_pri: 0.0000, eps_dual: 0.0000\n",
      "obj: 118.0730, rnorm: 0.0000, snorm: 0.0000,eps_pri: 0.0000, eps_dual: 0.0000\n",
      "obj: 118.0730, rnorm: 0.0000, snorm: 0.0000,eps_pri: 0.0000, eps_dual: 0.0000\n",
      "obj: 118.0730, rnorm: 0.0000, snorm: 0.0000,eps_pri: 0.0000, eps_dual: 0.0000\n",
      "obj: 118.0730, rnorm: 0.0000, snorm: 0.0000,eps_pri: 0.0000, eps_dual: 0.0000\n",
      "obj: 118.0730, rnorm: 0.0000, snorm: 0.0000,eps_pri: 0.0000, eps_dual: 0.0000\n",
      "obj: 118.0730, rnorm: 0.0000, snorm: 0.0000,eps_pri: 0.0000, eps_dual: 0.0000\n",
      "obj: 118.0730, rnorm: 0.0000, snorm: 0.0000,eps_pri: 0.0000, eps_dual: 0.0000\n",
      "obj: 118.0730, rnorm: 0.0000, snorm: 0.0000,eps_pri: 0.0000, eps_dual: 0.0000\n",
      "obj: 118.0730, rnorm: 0.0000, snorm: 0.0000,eps_pri: 0.0000, eps_dual: 0.0000\n",
      "obj: 118.0730, rnorm: 0.0000, snorm: 0.0000,eps_pri: 0.0000, eps_dual: 0.0000\n",
      "obj: 118.0730, rnorm: 0.0000, snorm: 0.0000,eps_pri: 0.0000, eps_dual: 0.0000\n",
      "obj: 118.0730, rnorm: 0.0000, snorm: 0.0000,eps_pri: 0.0000, eps_dual: 0.0000\n",
      "obj: 118.0730, rnorm: 0.0000, snorm: 0.0000,eps_pri: 0.0000, eps_dual: 0.0000\n",
      "obj: 118.0730, rnorm: 0.0000, snorm: 0.0000,eps_pri: 0.0000, eps_dual: 0.0000\n",
      "obj: 118.0730, rnorm: 0.0000, snorm: 0.0000,eps_pri: 0.0000, eps_dual: 0.0000\n",
      "obj: 118.0730, rnorm: 0.0000, snorm: 0.0000,eps_pri: 0.0000, eps_dual: 0.0000\n",
      "obj: 118.0730, rnorm: 0.0000, snorm: 0.0000,eps_pri: 0.0000, eps_dual: 0.0000\n",
      "obj: 118.0730, rnorm: 0.0000, snorm: 0.0000,eps_pri: 0.0000, eps_dual: 0.0000\n",
      "obj: 118.0730, rnorm: 0.0000, snorm: 0.0000,eps_pri: 0.0000, eps_dual: 0.0000\n",
      "obj: 118.0730, rnorm: 0.0000, snorm: 0.0000,eps_pri: 0.0000, eps_dual: 0.0000\n",
      "obj: 118.0730, rnorm: 0.0000, snorm: 0.0000,eps_pri: 0.0000, eps_dual: 0.0000\n",
      "obj: 118.0730, rnorm: 0.0000, snorm: 0.0000,eps_pri: 0.0000, eps_dual: 0.0000\n",
      "obj: 118.0730, rnorm: 0.0000, snorm: 0.0000,eps_pri: 0.0000, eps_dual: 0.0000\n",
      "obj: 118.0730, rnorm: 0.0000, snorm: 0.0000,eps_pri: 0.0000, eps_dual: 0.0000\n",
      "obj: 118.0730, rnorm: 0.0000, snorm: 0.0000,eps_pri: 0.0000, eps_dual: 0.0000\n",
      "obj: 118.0730, rnorm: 0.0000, snorm: 0.0000,eps_pri: 0.0000, eps_dual: 0.0000\n",
      "obj: 118.0730, rnorm: 0.0000, snorm: 0.0000,eps_pri: 0.0000, eps_dual: 0.0000\n",
      "obj: 118.0730, rnorm: 0.0000, snorm: 0.0000,eps_pri: 0.0000, eps_dual: 0.0000\n",
      "obj: 118.0730, rnorm: 0.0000, snorm: 0.0000,eps_pri: 0.0000, eps_dual: 0.0000\n",
      "obj: 118.0730, rnorm: 0.0000, snorm: 0.0000,eps_pri: 0.0000, eps_dual: 0.0000\n",
      "obj: 118.0730, rnorm: 0.0000, snorm: 0.0000,eps_pri: 0.0000, eps_dual: 0.0000\n",
      "obj: 118.0730, rnorm: 0.0000, snorm: 0.0000,eps_pri: 0.0000, eps_dual: 0.0000\n",
      "obj: 118.0730, rnorm: 0.0000, snorm: 0.0000,eps_pri: 0.0000, eps_dual: 0.0000\n",
      "obj: 118.0730, rnorm: 0.0000, snorm: 0.0000,eps_pri: 0.0000, eps_dual: 0.0000\n",
      "obj: 118.0730, rnorm: 0.0000, snorm: 0.0000,eps_pri: 0.0000, eps_dual: 0.0000\n",
      "obj: 118.0730, rnorm: 0.0000, snorm: 0.0000,eps_pri: 0.0000, eps_dual: 0.0000\n",
      "obj: 118.0730, rnorm: 0.0000, snorm: 0.0000,eps_pri: 0.0000, eps_dual: 0.0000\n",
      "obj: 118.0730, rnorm: 0.0000, snorm: 0.0000,eps_pri: 0.0000, eps_dual: 0.0000\n",
      "obj: 118.0730, rnorm: 0.0000, snorm: 0.0000,eps_pri: 0.0000, eps_dual: 0.0000\n",
      "obj: 118.0730, rnorm: 0.0000, snorm: 0.0000,eps_pri: 0.0000, eps_dual: 0.0000\n",
      "obj: 118.0730, rnorm: 0.0000, snorm: 0.0000,eps_pri: 0.0000, eps_dual: 0.0000\n",
      "obj: 118.0730, rnorm: 0.0000, snorm: 0.0000,eps_pri: 0.0000, eps_dual: 0.0000\n",
      "obj: 118.0730, rnorm: 0.0000, snorm: 0.0000,eps_pri: 0.0000, eps_dual: 0.0000\n",
      "regain GraphicalLasso(alpha=0.5, assume_centered=False, compute_objective=True,\n",
      "               init='empirical', max_iter=1000, mode='admm', over_relax=1.0,\n",
      "               rho=1.0, rtol=1e-10, tol=1e-10, update_rho_options=None,\n",
      "               verbose=True)\n",
      "obj: 122.9026, rnorm: 8.0414, snorm: 19.9532,eps_pri: 0.0000, eps_dual: 0.0000\n",
      "obj: 122.3308, rnorm: 2.9335, snorm: 4.1893,eps_pri: 0.0000, eps_dual: 0.0000\n",
      "obj: 115.3131, rnorm: 1.8318, snorm: 2.6856,eps_pri: 0.0000, eps_dual: 0.0000\n",
      "obj: 111.5789, rnorm: 1.0141, snorm: 1.7778,eps_pri: 0.0000, eps_dual: 0.0000\n",
      "obj: 109.7633, rnorm: 0.5997, snorm: 1.1690,eps_pri: 0.0000, eps_dual: 0.0000\n",
      "obj: 108.9301, rnorm: 0.3727, snorm: 0.7645,eps_pri: 0.0000, eps_dual: 0.0000\n",
      "obj: 108.5639, rnorm: 0.2491, snorm: 0.5006,eps_pri: 0.0000, eps_dual: 0.0000\n",
      "obj: 108.4157, rnorm: 0.1780, snorm: 0.3266,eps_pri: 0.0000, eps_dual: 0.0000\n",
      "obj: 108.3788, rnorm: 0.1321, snorm: 0.2126,eps_pri: 0.0000, eps_dual: 0.0000\n",
      "obj: 108.3793, rnorm: 0.1003, snorm: 0.1384,eps_pri: 0.0000, eps_dual: 0.0000\n",
      "obj: 108.3935, rnorm: 0.0775, snorm: 0.0903,eps_pri: 0.0000, eps_dual: 0.0000\n",
      "obj: 108.4088, rnorm: 0.0609, snorm: 0.0589,eps_pri: 0.0000, eps_dual: 0.0000\n",
      "obj: 108.4240, rnorm: 0.0483, snorm: 0.0390,eps_pri: 0.0000, eps_dual: 0.0000\n",
      "obj: 108.4368, rnorm: 0.0388, snorm: 0.0259,eps_pri: 0.0000, eps_dual: 0.0000\n",
      "obj: 108.4475, rnorm: 0.0315, snorm: 0.0174,eps_pri: 0.0000, eps_dual: 0.0000\n",
      "obj: 108.4559, rnorm: 0.0259, snorm: 0.0121,eps_pri: 0.0000, eps_dual: 0.0000\n",
      "obj: 108.4619, rnorm: 0.0217, snorm: 0.0083,eps_pri: 0.0000, eps_dual: 0.0000\n",
      "obj: 108.4664, rnorm: 0.0184, snorm: 0.0058,eps_pri: 0.0000, eps_dual: 0.0000\n",
      "obj: 108.4699, rnorm: 0.0158, snorm: 0.0042,eps_pri: 0.0000, eps_dual: 0.0000\n",
      "obj: 108.4730, rnorm: 0.0135, snorm: 0.0035,eps_pri: 0.0000, eps_dual: 0.0000\n",
      "obj: 108.4754, rnorm: 0.0117, snorm: 0.0028,eps_pri: 0.0000, eps_dual: 0.0000\n",
      "obj: 108.4772, rnorm: 0.0102, snorm: 0.0021,eps_pri: 0.0000, eps_dual: 0.0000\n",
      "obj: 108.4787, rnorm: 0.0089, snorm: 0.0017,eps_pri: 0.0000, eps_dual: 0.0000\n",
      "obj: 108.4799, rnorm: 0.0078, snorm: 0.0015,eps_pri: 0.0000, eps_dual: 0.0000\n",
      "obj: 108.4809, rnorm: 0.0069, snorm: 0.0014,eps_pri: 0.0000, eps_dual: 0.0000\n",
      "obj: 108.4817, rnorm: 0.0060, snorm: 0.0012,eps_pri: 0.0000, eps_dual: 0.0000\n",
      "obj: 108.4824, rnorm: 0.0053, snorm: 0.0010,eps_pri: 0.0000, eps_dual: 0.0000\n",
      "obj: 108.4829, rnorm: 0.0047, snorm: 0.0008,eps_pri: 0.0000, eps_dual: 0.0000\n",
      "obj: 108.4834, rnorm: 0.0042, snorm: 0.0007,eps_pri: 0.0000, eps_dual: 0.0000\n",
      "obj: 108.4838, rnorm: 0.0037, snorm: 0.0006,eps_pri: 0.0000, eps_dual: 0.0000\n",
      "obj: 108.4841, rnorm: 0.0033, snorm: 0.0005,eps_pri: 0.0000, eps_dual: 0.0000\n",
      "obj: 108.4844, rnorm: 0.0030, snorm: 0.0005,eps_pri: 0.0000, eps_dual: 0.0000\n",
      "obj: 108.4846, rnorm: 0.0027, snorm: 0.0004,eps_pri: 0.0000, eps_dual: 0.0000\n",
      "obj: 108.4849, rnorm: 0.0024, snorm: 0.0004,eps_pri: 0.0000, eps_dual: 0.0000\n",
      "obj: 108.4850, rnorm: 0.0021, snorm: 0.0004,eps_pri: 0.0000, eps_dual: 0.0000\n",
      "obj: 108.4852, rnorm: 0.0019, snorm: 0.0003,eps_pri: 0.0000, eps_dual: 0.0000\n",
      "obj: 108.4853, rnorm: 0.0017, snorm: 0.0003,eps_pri: 0.0000, eps_dual: 0.0000\n",
      "obj: 108.4854, rnorm: 0.0015, snorm: 0.0002,eps_pri: 0.0000, eps_dual: 0.0000\n",
      "obj: 108.4855, rnorm: 0.0014, snorm: 0.0002,eps_pri: 0.0000, eps_dual: 0.0000\n",
      "obj: 108.4856, rnorm: 0.0012, snorm: 0.0002,eps_pri: 0.0000, eps_dual: 0.0000\n",
      "obj: 108.4857, rnorm: 0.0011, snorm: 0.0002,eps_pri: 0.0000, eps_dual: 0.0000\n",
      "obj: 108.4857, rnorm: 0.0010, snorm: 0.0002,eps_pri: 0.0000, eps_dual: 0.0000\n"
     ]
    },
    {
     "name": "stdout",
     "output_type": "stream",
     "text": [
      "obj: 108.4858, rnorm: 0.0009, snorm: 0.0001,eps_pri: 0.0000, eps_dual: 0.0000\n",
      "obj: 108.4859, rnorm: 0.0008, snorm: 0.0001,eps_pri: 0.0000, eps_dual: 0.0000\n",
      "obj: 108.4859, rnorm: 0.0007, snorm: 0.0001,eps_pri: 0.0000, eps_dual: 0.0000\n",
      "obj: 108.4859, rnorm: 0.0007, snorm: 0.0001,eps_pri: 0.0000, eps_dual: 0.0000\n",
      "obj: 108.4860, rnorm: 0.0006, snorm: 0.0001,eps_pri: 0.0000, eps_dual: 0.0000\n",
      "obj: 108.4860, rnorm: 0.0006, snorm: 0.0001,eps_pri: 0.0000, eps_dual: 0.0000\n",
      "obj: 108.4860, rnorm: 0.0005, snorm: 0.0001,eps_pri: 0.0000, eps_dual: 0.0000\n",
      "obj: 108.4861, rnorm: 0.0005, snorm: 0.0001,eps_pri: 0.0000, eps_dual: 0.0000\n",
      "obj: 108.4861, rnorm: 0.0004, snorm: 0.0001,eps_pri: 0.0000, eps_dual: 0.0000\n",
      "obj: 108.4861, rnorm: 0.0004, snorm: 0.0001,eps_pri: 0.0000, eps_dual: 0.0000\n",
      "obj: 108.4861, rnorm: 0.0003, snorm: 0.0000,eps_pri: 0.0000, eps_dual: 0.0000\n",
      "obj: 108.4861, rnorm: 0.0003, snorm: 0.0000,eps_pri: 0.0000, eps_dual: 0.0000\n",
      "obj: 108.4861, rnorm: 0.0003, snorm: 0.0000,eps_pri: 0.0000, eps_dual: 0.0000\n",
      "obj: 108.4861, rnorm: 0.0003, snorm: 0.0000,eps_pri: 0.0000, eps_dual: 0.0000\n",
      "obj: 108.4862, rnorm: 0.0002, snorm: 0.0000,eps_pri: 0.0000, eps_dual: 0.0000\n",
      "obj: 108.4862, rnorm: 0.0002, snorm: 0.0000,eps_pri: 0.0000, eps_dual: 0.0000\n",
      "obj: 108.4862, rnorm: 0.0002, snorm: 0.0000,eps_pri: 0.0000, eps_dual: 0.0000\n",
      "obj: 108.4862, rnorm: 0.0002, snorm: 0.0000,eps_pri: 0.0000, eps_dual: 0.0000\n",
      "obj: 108.4862, rnorm: 0.0002, snorm: 0.0000,eps_pri: 0.0000, eps_dual: 0.0000\n",
      "obj: 108.4862, rnorm: 0.0001, snorm: 0.0000,eps_pri: 0.0000, eps_dual: 0.0000\n",
      "obj: 108.4862, rnorm: 0.0001, snorm: 0.0000,eps_pri: 0.0000, eps_dual: 0.0000\n",
      "obj: 108.4862, rnorm: 0.0001, snorm: 0.0000,eps_pri: 0.0000, eps_dual: 0.0000\n",
      "obj: 108.4862, rnorm: 0.0001, snorm: 0.0000,eps_pri: 0.0000, eps_dual: 0.0000\n",
      "obj: 108.4862, rnorm: 0.0001, snorm: 0.0000,eps_pri: 0.0000, eps_dual: 0.0000\n",
      "obj: 108.4862, rnorm: 0.0001, snorm: 0.0000,eps_pri: 0.0000, eps_dual: 0.0000\n",
      "obj: 108.4862, rnorm: 0.0001, snorm: 0.0000,eps_pri: 0.0000, eps_dual: 0.0000\n",
      "obj: 108.4862, rnorm: 0.0001, snorm: 0.0000,eps_pri: 0.0000, eps_dual: 0.0000\n",
      "obj: 108.4862, rnorm: 0.0001, snorm: 0.0000,eps_pri: 0.0000, eps_dual: 0.0000\n",
      "obj: 108.4862, rnorm: 0.0001, snorm: 0.0000,eps_pri: 0.0000, eps_dual: 0.0000\n",
      "obj: 108.4862, rnorm: 0.0001, snorm: 0.0000,eps_pri: 0.0000, eps_dual: 0.0000\n",
      "obj: 108.4862, rnorm: 0.0001, snorm: 0.0000,eps_pri: 0.0000, eps_dual: 0.0000\n",
      "obj: 108.4862, rnorm: 0.0000, snorm: 0.0000,eps_pri: 0.0000, eps_dual: 0.0000\n",
      "obj: 108.4862, rnorm: 0.0000, snorm: 0.0000,eps_pri: 0.0000, eps_dual: 0.0000\n",
      "obj: 108.4862, rnorm: 0.0000, snorm: 0.0000,eps_pri: 0.0000, eps_dual: 0.0000\n",
      "obj: 108.4862, rnorm: 0.0000, snorm: 0.0000,eps_pri: 0.0000, eps_dual: 0.0000\n",
      "obj: 108.4862, rnorm: 0.0000, snorm: 0.0000,eps_pri: 0.0000, eps_dual: 0.0000\n",
      "obj: 108.4862, rnorm: 0.0000, snorm: 0.0000,eps_pri: 0.0000, eps_dual: 0.0000\n",
      "obj: 108.4862, rnorm: 0.0000, snorm: 0.0000,eps_pri: 0.0000, eps_dual: 0.0000\n",
      "obj: 108.4862, rnorm: 0.0000, snorm: 0.0000,eps_pri: 0.0000, eps_dual: 0.0000\n",
      "obj: 108.4862, rnorm: 0.0000, snorm: 0.0000,eps_pri: 0.0000, eps_dual: 0.0000\n",
      "obj: 108.4862, rnorm: 0.0000, snorm: 0.0000,eps_pri: 0.0000, eps_dual: 0.0000\n",
      "obj: 108.4862, rnorm: 0.0000, snorm: 0.0000,eps_pri: 0.0000, eps_dual: 0.0000\n",
      "obj: 108.4862, rnorm: 0.0000, snorm: 0.0000,eps_pri: 0.0000, eps_dual: 0.0000\n",
      "obj: 108.4862, rnorm: 0.0000, snorm: 0.0000,eps_pri: 0.0000, eps_dual: 0.0000\n",
      "obj: 108.4862, rnorm: 0.0000, snorm: 0.0000,eps_pri: 0.0000, eps_dual: 0.0000\n",
      "obj: 108.4862, rnorm: 0.0000, snorm: 0.0000,eps_pri: 0.0000, eps_dual: 0.0000\n",
      "obj: 108.4862, rnorm: 0.0000, snorm: 0.0000,eps_pri: 0.0000, eps_dual: 0.0000\n",
      "obj: 108.4862, rnorm: 0.0000, snorm: 0.0000,eps_pri: 0.0000, eps_dual: 0.0000\n",
      "obj: 108.4862, rnorm: 0.0000, snorm: 0.0000,eps_pri: 0.0000, eps_dual: 0.0000\n",
      "obj: 108.4862, rnorm: 0.0000, snorm: 0.0000,eps_pri: 0.0000, eps_dual: 0.0000\n",
      "obj: 108.4862, rnorm: 0.0000, snorm: 0.0000,eps_pri: 0.0000, eps_dual: 0.0000\n",
      "obj: 108.4862, rnorm: 0.0000, snorm: 0.0000,eps_pri: 0.0000, eps_dual: 0.0000\n",
      "obj: 108.4862, rnorm: 0.0000, snorm: 0.0000,eps_pri: 0.0000, eps_dual: 0.0000\n",
      "obj: 108.4862, rnorm: 0.0000, snorm: 0.0000,eps_pri: 0.0000, eps_dual: 0.0000\n",
      "obj: 108.4862, rnorm: 0.0000, snorm: 0.0000,eps_pri: 0.0000, eps_dual: 0.0000\n",
      "obj: 108.4862, rnorm: 0.0000, snorm: 0.0000,eps_pri: 0.0000, eps_dual: 0.0000\n",
      "obj: 108.4862, rnorm: 0.0000, snorm: 0.0000,eps_pri: 0.0000, eps_dual: 0.0000\n",
      "obj: 108.4862, rnorm: 0.0000, snorm: 0.0000,eps_pri: 0.0000, eps_dual: 0.0000\n",
      "obj: 108.4862, rnorm: 0.0000, snorm: 0.0000,eps_pri: 0.0000, eps_dual: 0.0000\n",
      "obj: 108.4862, rnorm: 0.0000, snorm: 0.0000,eps_pri: 0.0000, eps_dual: 0.0000\n",
      "obj: 108.4862, rnorm: 0.0000, snorm: 0.0000,eps_pri: 0.0000, eps_dual: 0.0000\n",
      "obj: 108.4862, rnorm: 0.0000, snorm: 0.0000,eps_pri: 0.0000, eps_dual: 0.0000\n",
      "obj: 108.4862, rnorm: 0.0000, snorm: 0.0000,eps_pri: 0.0000, eps_dual: 0.0000\n",
      "obj: 108.4862, rnorm: 0.0000, snorm: 0.0000,eps_pri: 0.0000, eps_dual: 0.0000\n",
      "obj: 108.4862, rnorm: 0.0000, snorm: 0.0000,eps_pri: 0.0000, eps_dual: 0.0000\n",
      "obj: 108.4862, rnorm: 0.0000, snorm: 0.0000,eps_pri: 0.0000, eps_dual: 0.0000\n",
      "obj: 108.4862, rnorm: 0.0000, snorm: 0.0000,eps_pri: 0.0000, eps_dual: 0.0000\n",
      "obj: 108.4862, rnorm: 0.0000, snorm: 0.0000,eps_pri: 0.0000, eps_dual: 0.0000\n",
      "obj: 108.4862, rnorm: 0.0000, snorm: 0.0000,eps_pri: 0.0000, eps_dual: 0.0000\n",
      "obj: 108.4862, rnorm: 0.0000, snorm: 0.0000,eps_pri: 0.0000, eps_dual: 0.0000\n",
      "obj: 108.4862, rnorm: 0.0000, snorm: 0.0000,eps_pri: 0.0000, eps_dual: 0.0000\n",
      "obj: 108.4862, rnorm: 0.0000, snorm: 0.0000,eps_pri: 0.0000, eps_dual: 0.0000\n",
      "obj: 108.4862, rnorm: 0.0000, snorm: 0.0000,eps_pri: 0.0000, eps_dual: 0.0000\n",
      "obj: 108.4862, rnorm: 0.0000, snorm: 0.0000,eps_pri: 0.0000, eps_dual: 0.0000\n",
      "obj: 108.4862, rnorm: 0.0000, snorm: 0.0000,eps_pri: 0.0000, eps_dual: 0.0000\n",
      "obj: 108.4862, rnorm: 0.0000, snorm: 0.0000,eps_pri: 0.0000, eps_dual: 0.0000\n",
      "obj: 108.4862, rnorm: 0.0000, snorm: 0.0000,eps_pri: 0.0000, eps_dual: 0.0000\n",
      "obj: 108.4862, rnorm: 0.0000, snorm: 0.0000,eps_pri: 0.0000, eps_dual: 0.0000\n",
      "obj: 108.4862, rnorm: 0.0000, snorm: 0.0000,eps_pri: 0.0000, eps_dual: 0.0000\n",
      "obj: 108.4862, rnorm: 0.0000, snorm: 0.0000,eps_pri: 0.0000, eps_dual: 0.0000\n",
      "obj: 108.4862, rnorm: 0.0000, snorm: 0.0000,eps_pri: 0.0000, eps_dual: 0.0000\n",
      "obj: 108.4862, rnorm: 0.0000, snorm: 0.0000,eps_pri: 0.0000, eps_dual: 0.0000\n",
      "obj: 108.4862, rnorm: 0.0000, snorm: 0.0000,eps_pri: 0.0000, eps_dual: 0.0000\n",
      "obj: 108.4862, rnorm: 0.0000, snorm: 0.0000,eps_pri: 0.0000, eps_dual: 0.0000\n",
      "obj: 108.4862, rnorm: 0.0000, snorm: 0.0000,eps_pri: 0.0000, eps_dual: 0.0000\n",
      "obj: 108.4862, rnorm: 0.0000, snorm: 0.0000,eps_pri: 0.0000, eps_dual: 0.0000\n",
      "obj: 108.4862, rnorm: 0.0000, snorm: 0.0000,eps_pri: 0.0000, eps_dual: 0.0000\n",
      "obj: 108.4862, rnorm: 0.0000, snorm: 0.0000,eps_pri: 0.0000, eps_dual: 0.0000\n",
      "obj: 108.4862, rnorm: 0.0000, snorm: 0.0000,eps_pri: 0.0000, eps_dual: 0.0000\n",
      "obj: 108.4862, rnorm: 0.0000, snorm: 0.0000,eps_pri: 0.0000, eps_dual: 0.0000\n",
      "obj: 108.4862, rnorm: 0.0000, snorm: 0.0000,eps_pri: 0.0000, eps_dual: 0.0000\n",
      "obj: 108.4862, rnorm: 0.0000, snorm: 0.0000,eps_pri: 0.0000, eps_dual: 0.0000\n",
      "obj: 108.4862, rnorm: 0.0000, snorm: 0.0000,eps_pri: 0.0000, eps_dual: 0.0000\n",
      "obj: 108.4862, rnorm: 0.0000, snorm: 0.0000,eps_pri: 0.0000, eps_dual: 0.0000\n",
      "obj: 108.4862, rnorm: 0.0000, snorm: 0.0000,eps_pri: 0.0000, eps_dual: 0.0000\n",
      "obj: 108.4862, rnorm: 0.0000, snorm: 0.0000,eps_pri: 0.0000, eps_dual: 0.0000\n",
      "obj: 108.4862, rnorm: 0.0000, snorm: 0.0000,eps_pri: 0.0000, eps_dual: 0.0000\n",
      "obj: 108.4862, rnorm: 0.0000, snorm: 0.0000,eps_pri: 0.0000, eps_dual: 0.0000\n",
      "obj: 108.4862, rnorm: 0.0000, snorm: 0.0000,eps_pri: 0.0000, eps_dual: 0.0000\n",
      "obj: 108.4862, rnorm: 0.0000, snorm: 0.0000,eps_pri: 0.0000, eps_dual: 0.0000\n",
      "obj: 108.4862, rnorm: 0.0000, snorm: 0.0000,eps_pri: 0.0000, eps_dual: 0.0000\n",
      "obj: 108.4862, rnorm: 0.0000, snorm: 0.0000,eps_pri: 0.0000, eps_dual: 0.0000\n",
      "obj: 108.4862, rnorm: 0.0000, snorm: 0.0000,eps_pri: 0.0000, eps_dual: 0.0000\n",
      "obj: 108.4862, rnorm: 0.0000, snorm: 0.0000,eps_pri: 0.0000, eps_dual: 0.0000\n",
      "obj: 108.4862, rnorm: 0.0000, snorm: 0.0000,eps_pri: 0.0000, eps_dual: 0.0000\n",
      "obj: 108.4862, rnorm: 0.0000, snorm: 0.0000,eps_pri: 0.0000, eps_dual: 0.0000\n",
      "obj: 108.4862, rnorm: 0.0000, snorm: 0.0000,eps_pri: 0.0000, eps_dual: 0.0000\n",
      "obj: 108.4862, rnorm: 0.0000, snorm: 0.0000,eps_pri: 0.0000, eps_dual: 0.0000\n",
      "obj: 108.4862, rnorm: 0.0000, snorm: 0.0000,eps_pri: 0.0000, eps_dual: 0.0000\n",
      "obj: 108.4862, rnorm: 0.0000, snorm: 0.0000,eps_pri: 0.0000, eps_dual: 0.0000\n",
      "obj: 108.4862, rnorm: 0.0000, snorm: 0.0000,eps_pri: 0.0000, eps_dual: 0.0000\n",
      "obj: 108.4862, rnorm: 0.0000, snorm: 0.0000,eps_pri: 0.0000, eps_dual: 0.0000\n",
      "obj: 108.4862, rnorm: 0.0000, snorm: 0.0000,eps_pri: 0.0000, eps_dual: 0.0000\n",
      "obj: 108.4862, rnorm: 0.0000, snorm: 0.0000,eps_pri: 0.0000, eps_dual: 0.0000\n",
      "obj: 108.4862, rnorm: 0.0000, snorm: 0.0000,eps_pri: 0.0000, eps_dual: 0.0000\n",
      "obj: 108.4862, rnorm: 0.0000, snorm: 0.0000,eps_pri: 0.0000, eps_dual: 0.0000\n",
      "obj: 108.4862, rnorm: 0.0000, snorm: 0.0000,eps_pri: 0.0000, eps_dual: 0.0000\n",
      "obj: 108.4862, rnorm: 0.0000, snorm: 0.0000,eps_pri: 0.0000, eps_dual: 0.0000\n",
      "obj: 108.4862, rnorm: 0.0000, snorm: 0.0000,eps_pri: 0.0000, eps_dual: 0.0000\n",
      "obj: 108.4862, rnorm: 0.0000, snorm: 0.0000,eps_pri: 0.0000, eps_dual: 0.0000\n"
     ]
    },
    {
     "name": "stdout",
     "output_type": "stream",
     "text": [
      "obj: 108.4862, rnorm: 0.0000, snorm: 0.0000,eps_pri: 0.0000, eps_dual: 0.0000\n",
      "obj: 108.4862, rnorm: 0.0000, snorm: 0.0000,eps_pri: 0.0000, eps_dual: 0.0000\n",
      "obj: 108.4862, rnorm: 0.0000, snorm: 0.0000,eps_pri: 0.0000, eps_dual: 0.0000\n",
      "obj: 108.4862, rnorm: 0.0000, snorm: 0.0000,eps_pri: 0.0000, eps_dual: 0.0000\n",
      "obj: 108.4862, rnorm: 0.0000, snorm: 0.0000,eps_pri: 0.0000, eps_dual: 0.0000\n",
      "obj: 108.4862, rnorm: 0.0000, snorm: 0.0000,eps_pri: 0.0000, eps_dual: 0.0000\n",
      "obj: 108.4862, rnorm: 0.0000, snorm: 0.0000,eps_pri: 0.0000, eps_dual: 0.0000\n",
      "obj: 108.4862, rnorm: 0.0000, snorm: 0.0000,eps_pri: 0.0000, eps_dual: 0.0000\n",
      "obj: 108.4862, rnorm: 0.0000, snorm: 0.0000,eps_pri: 0.0000, eps_dual: 0.0000\n",
      "obj: 108.4862, rnorm: 0.0000, snorm: 0.0000,eps_pri: 0.0000, eps_dual: 0.0000\n",
      "obj: 108.4862, rnorm: 0.0000, snorm: 0.0000,eps_pri: 0.0000, eps_dual: 0.0000\n",
      "obj: 108.4862, rnorm: 0.0000, snorm: 0.0000,eps_pri: 0.0000, eps_dual: 0.0000\n",
      "obj: 108.4862, rnorm: 0.0000, snorm: 0.0000,eps_pri: 0.0000, eps_dual: 0.0000\n",
      "obj: 108.4862, rnorm: 0.0000, snorm: 0.0000,eps_pri: 0.0000, eps_dual: 0.0000\n",
      "obj: 108.4862, rnorm: 0.0000, snorm: 0.0000,eps_pri: 0.0000, eps_dual: 0.0000\n",
      "obj: 108.4862, rnorm: 0.0000, snorm: 0.0000,eps_pri: 0.0000, eps_dual: 0.0000\n",
      "obj: 108.4862, rnorm: 0.0000, snorm: 0.0000,eps_pri: 0.0000, eps_dual: 0.0000\n",
      "obj: 122.9026, rnorm: 8.0414, snorm: 19.9532,eps_pri: 0.0000, eps_dual: 0.0000\n",
      "obj: 122.3308, rnorm: 2.9335, snorm: 4.1893,eps_pri: 0.0000, eps_dual: 0.0000\n",
      "obj: 115.3131, rnorm: 1.8318, snorm: 2.6856,eps_pri: 0.0000, eps_dual: 0.0000\n",
      "obj: 111.5789, rnorm: 1.0141, snorm: 1.7778,eps_pri: 0.0000, eps_dual: 0.0000\n",
      "obj: 109.7633, rnorm: 0.5997, snorm: 1.1690,eps_pri: 0.0000, eps_dual: 0.0000\n",
      "obj: 108.9301, rnorm: 0.3727, snorm: 0.7645,eps_pri: 0.0000, eps_dual: 0.0000\n",
      "obj: 108.5639, rnorm: 0.2491, snorm: 0.5006,eps_pri: 0.0000, eps_dual: 0.0000\n",
      "obj: 108.4157, rnorm: 0.1780, snorm: 0.3266,eps_pri: 0.0000, eps_dual: 0.0000\n",
      "obj: 108.3788, rnorm: 0.1321, snorm: 0.2126,eps_pri: 0.0000, eps_dual: 0.0000\n",
      "obj: 108.3793, rnorm: 0.1003, snorm: 0.1384,eps_pri: 0.0000, eps_dual: 0.0000\n",
      "obj: 108.3935, rnorm: 0.0775, snorm: 0.0903,eps_pri: 0.0000, eps_dual: 0.0000\n",
      "obj: 108.4088, rnorm: 0.0609, snorm: 0.0589,eps_pri: 0.0000, eps_dual: 0.0000\n",
      "obj: 108.4240, rnorm: 0.0483, snorm: 0.0390,eps_pri: 0.0000, eps_dual: 0.0000\n",
      "obj: 108.4368, rnorm: 0.0388, snorm: 0.0259,eps_pri: 0.0000, eps_dual: 0.0000\n",
      "obj: 108.4475, rnorm: 0.0315, snorm: 0.0174,eps_pri: 0.0000, eps_dual: 0.0000\n",
      "obj: 108.4559, rnorm: 0.0259, snorm: 0.0121,eps_pri: 0.0000, eps_dual: 0.0000\n",
      "obj: 108.4619, rnorm: 0.0217, snorm: 0.0083,eps_pri: 0.0000, eps_dual: 0.0000\n",
      "obj: 108.4664, rnorm: 0.0184, snorm: 0.0058,eps_pri: 0.0000, eps_dual: 0.0000\n",
      "obj: 108.4699, rnorm: 0.0158, snorm: 0.0042,eps_pri: 0.0000, eps_dual: 0.0000\n",
      "obj: 108.4730, rnorm: 0.0135, snorm: 0.0035,eps_pri: 0.0000, eps_dual: 0.0000\n",
      "obj: 108.4754, rnorm: 0.0117, snorm: 0.0028,eps_pri: 0.0000, eps_dual: 0.0000\n",
      "obj: 108.4772, rnorm: 0.0102, snorm: 0.0021,eps_pri: 0.0000, eps_dual: 0.0000\n",
      "obj: 108.4787, rnorm: 0.0089, snorm: 0.0017,eps_pri: 0.0000, eps_dual: 0.0000\n",
      "obj: 108.4799, rnorm: 0.0078, snorm: 0.0015,eps_pri: 0.0000, eps_dual: 0.0000\n",
      "obj: 108.4809, rnorm: 0.0069, snorm: 0.0014,eps_pri: 0.0000, eps_dual: 0.0000\n",
      "obj: 108.4817, rnorm: 0.0060, snorm: 0.0012,eps_pri: 0.0000, eps_dual: 0.0000\n",
      "obj: 108.4824, rnorm: 0.0053, snorm: 0.0010,eps_pri: 0.0000, eps_dual: 0.0000\n",
      "obj: 108.4829, rnorm: 0.0047, snorm: 0.0008,eps_pri: 0.0000, eps_dual: 0.0000\n",
      "obj: 108.4834, rnorm: 0.0042, snorm: 0.0007,eps_pri: 0.0000, eps_dual: 0.0000\n",
      "obj: 108.4838, rnorm: 0.0037, snorm: 0.0006,eps_pri: 0.0000, eps_dual: 0.0000\n",
      "obj: 108.4841, rnorm: 0.0033, snorm: 0.0005,eps_pri: 0.0000, eps_dual: 0.0000\n",
      "obj: 108.4844, rnorm: 0.0030, snorm: 0.0005,eps_pri: 0.0000, eps_dual: 0.0000\n",
      "obj: 108.4846, rnorm: 0.0027, snorm: 0.0004,eps_pri: 0.0000, eps_dual: 0.0000\n",
      "obj: 108.4849, rnorm: 0.0024, snorm: 0.0004,eps_pri: 0.0000, eps_dual: 0.0000\n",
      "obj: 108.4850, rnorm: 0.0021, snorm: 0.0004,eps_pri: 0.0000, eps_dual: 0.0000\n",
      "obj: 108.4852, rnorm: 0.0019, snorm: 0.0003,eps_pri: 0.0000, eps_dual: 0.0000\n",
      "obj: 108.4853, rnorm: 0.0017, snorm: 0.0003,eps_pri: 0.0000, eps_dual: 0.0000\n",
      "obj: 108.4854, rnorm: 0.0015, snorm: 0.0002,eps_pri: 0.0000, eps_dual: 0.0000\n",
      "obj: 108.4855, rnorm: 0.0014, snorm: 0.0002,eps_pri: 0.0000, eps_dual: 0.0000\n",
      "obj: 108.4856, rnorm: 0.0012, snorm: 0.0002,eps_pri: 0.0000, eps_dual: 0.0000\n",
      "obj: 108.4857, rnorm: 0.0011, snorm: 0.0002,eps_pri: 0.0000, eps_dual: 0.0000\n",
      "obj: 108.4857, rnorm: 0.0010, snorm: 0.0002,eps_pri: 0.0000, eps_dual: 0.0000\n",
      "obj: 108.4858, rnorm: 0.0009, snorm: 0.0001,eps_pri: 0.0000, eps_dual: 0.0000\n",
      "obj: 108.4859, rnorm: 0.0008, snorm: 0.0001,eps_pri: 0.0000, eps_dual: 0.0000\n",
      "obj: 108.4859, rnorm: 0.0007, snorm: 0.0001,eps_pri: 0.0000, eps_dual: 0.0000\n",
      "obj: 108.4859, rnorm: 0.0007, snorm: 0.0001,eps_pri: 0.0000, eps_dual: 0.0000\n",
      "obj: 108.4860, rnorm: 0.0006, snorm: 0.0001,eps_pri: 0.0000, eps_dual: 0.0000\n",
      "obj: 108.4860, rnorm: 0.0006, snorm: 0.0001,eps_pri: 0.0000, eps_dual: 0.0000\n",
      "obj: 108.4860, rnorm: 0.0005, snorm: 0.0001,eps_pri: 0.0000, eps_dual: 0.0000\n",
      "obj: 108.4861, rnorm: 0.0005, snorm: 0.0001,eps_pri: 0.0000, eps_dual: 0.0000\n",
      "obj: 108.4861, rnorm: 0.0004, snorm: 0.0001,eps_pri: 0.0000, eps_dual: 0.0000\n",
      "obj: 108.4861, rnorm: 0.0004, snorm: 0.0001,eps_pri: 0.0000, eps_dual: 0.0000\n",
      "obj: 108.4861, rnorm: 0.0003, snorm: 0.0000,eps_pri: 0.0000, eps_dual: 0.0000\n",
      "obj: 108.4861, rnorm: 0.0003, snorm: 0.0000,eps_pri: 0.0000, eps_dual: 0.0000\n",
      "obj: 108.4861, rnorm: 0.0003, snorm: 0.0000,eps_pri: 0.0000, eps_dual: 0.0000\n",
      "obj: 108.4861, rnorm: 0.0003, snorm: 0.0000,eps_pri: 0.0000, eps_dual: 0.0000\n",
      "obj: 108.4862, rnorm: 0.0002, snorm: 0.0000,eps_pri: 0.0000, eps_dual: 0.0000\n",
      "obj: 108.4862, rnorm: 0.0002, snorm: 0.0000,eps_pri: 0.0000, eps_dual: 0.0000\n",
      "obj: 108.4862, rnorm: 0.0002, snorm: 0.0000,eps_pri: 0.0000, eps_dual: 0.0000\n",
      "obj: 108.4862, rnorm: 0.0002, snorm: 0.0000,eps_pri: 0.0000, eps_dual: 0.0000\n",
      "obj: 108.4862, rnorm: 0.0002, snorm: 0.0000,eps_pri: 0.0000, eps_dual: 0.0000\n",
      "obj: 108.4862, rnorm: 0.0001, snorm: 0.0000,eps_pri: 0.0000, eps_dual: 0.0000\n",
      "obj: 108.4862, rnorm: 0.0001, snorm: 0.0000,eps_pri: 0.0000, eps_dual: 0.0000\n",
      "obj: 108.4862, rnorm: 0.0001, snorm: 0.0000,eps_pri: 0.0000, eps_dual: 0.0000\n",
      "obj: 108.4862, rnorm: 0.0001, snorm: 0.0000,eps_pri: 0.0000, eps_dual: 0.0000\n",
      "obj: 108.4862, rnorm: 0.0001, snorm: 0.0000,eps_pri: 0.0000, eps_dual: 0.0000\n",
      "obj: 108.4862, rnorm: 0.0001, snorm: 0.0000,eps_pri: 0.0000, eps_dual: 0.0000\n",
      "obj: 108.4862, rnorm: 0.0001, snorm: 0.0000,eps_pri: 0.0000, eps_dual: 0.0000\n",
      "obj: 108.4862, rnorm: 0.0001, snorm: 0.0000,eps_pri: 0.0000, eps_dual: 0.0000\n",
      "obj: 108.4862, rnorm: 0.0001, snorm: 0.0000,eps_pri: 0.0000, eps_dual: 0.0000\n",
      "obj: 108.4862, rnorm: 0.0001, snorm: 0.0000,eps_pri: 0.0000, eps_dual: 0.0000\n",
      "obj: 108.4862, rnorm: 0.0001, snorm: 0.0000,eps_pri: 0.0000, eps_dual: 0.0000\n",
      "obj: 108.4862, rnorm: 0.0001, snorm: 0.0000,eps_pri: 0.0000, eps_dual: 0.0000\n",
      "obj: 108.4862, rnorm: 0.0000, snorm: 0.0000,eps_pri: 0.0000, eps_dual: 0.0000\n",
      "obj: 108.4862, rnorm: 0.0000, snorm: 0.0000,eps_pri: 0.0000, eps_dual: 0.0000\n",
      "obj: 108.4862, rnorm: 0.0000, snorm: 0.0000,eps_pri: 0.0000, eps_dual: 0.0000\n",
      "obj: 108.4862, rnorm: 0.0000, snorm: 0.0000,eps_pri: 0.0000, eps_dual: 0.0000\n",
      "obj: 108.4862, rnorm: 0.0000, snorm: 0.0000,eps_pri: 0.0000, eps_dual: 0.0000\n",
      "obj: 108.4862, rnorm: 0.0000, snorm: 0.0000,eps_pri: 0.0000, eps_dual: 0.0000\n",
      "obj: 108.4862, rnorm: 0.0000, snorm: 0.0000,eps_pri: 0.0000, eps_dual: 0.0000\n",
      "obj: 108.4862, rnorm: 0.0000, snorm: 0.0000,eps_pri: 0.0000, eps_dual: 0.0000\n",
      "obj: 108.4862, rnorm: 0.0000, snorm: 0.0000,eps_pri: 0.0000, eps_dual: 0.0000\n",
      "obj: 108.4862, rnorm: 0.0000, snorm: 0.0000,eps_pri: 0.0000, eps_dual: 0.0000\n",
      "obj: 108.4862, rnorm: 0.0000, snorm: 0.0000,eps_pri: 0.0000, eps_dual: 0.0000\n",
      "obj: 108.4862, rnorm: 0.0000, snorm: 0.0000,eps_pri: 0.0000, eps_dual: 0.0000\n",
      "obj: 108.4862, rnorm: 0.0000, snorm: 0.0000,eps_pri: 0.0000, eps_dual: 0.0000\n",
      "obj: 108.4862, rnorm: 0.0000, snorm: 0.0000,eps_pri: 0.0000, eps_dual: 0.0000\n",
      "obj: 108.4862, rnorm: 0.0000, snorm: 0.0000,eps_pri: 0.0000, eps_dual: 0.0000\n",
      "obj: 108.4862, rnorm: 0.0000, snorm: 0.0000,eps_pri: 0.0000, eps_dual: 0.0000\n",
      "obj: 108.4862, rnorm: 0.0000, snorm: 0.0000,eps_pri: 0.0000, eps_dual: 0.0000\n",
      "obj: 108.4862, rnorm: 0.0000, snorm: 0.0000,eps_pri: 0.0000, eps_dual: 0.0000\n",
      "obj: 108.4862, rnorm: 0.0000, snorm: 0.0000,eps_pri: 0.0000, eps_dual: 0.0000\n",
      "obj: 108.4862, rnorm: 0.0000, snorm: 0.0000,eps_pri: 0.0000, eps_dual: 0.0000\n",
      "obj: 108.4862, rnorm: 0.0000, snorm: 0.0000,eps_pri: 0.0000, eps_dual: 0.0000\n",
      "obj: 108.4862, rnorm: 0.0000, snorm: 0.0000,eps_pri: 0.0000, eps_dual: 0.0000\n",
      "obj: 108.4862, rnorm: 0.0000, snorm: 0.0000,eps_pri: 0.0000, eps_dual: 0.0000\n",
      "obj: 108.4862, rnorm: 0.0000, snorm: 0.0000,eps_pri: 0.0000, eps_dual: 0.0000\n",
      "obj: 108.4862, rnorm: 0.0000, snorm: 0.0000,eps_pri: 0.0000, eps_dual: 0.0000\n",
      "obj: 108.4862, rnorm: 0.0000, snorm: 0.0000,eps_pri: 0.0000, eps_dual: 0.0000\n",
      "obj: 108.4862, rnorm: 0.0000, snorm: 0.0000,eps_pri: 0.0000, eps_dual: 0.0000\n",
      "obj: 108.4862, rnorm: 0.0000, snorm: 0.0000,eps_pri: 0.0000, eps_dual: 0.0000\n"
     ]
    },
    {
     "name": "stdout",
     "output_type": "stream",
     "text": [
      "obj: 108.4862, rnorm: 0.0000, snorm: 0.0000,eps_pri: 0.0000, eps_dual: 0.0000\n",
      "obj: 108.4862, rnorm: 0.0000, snorm: 0.0000,eps_pri: 0.0000, eps_dual: 0.0000\n",
      "obj: 108.4862, rnorm: 0.0000, snorm: 0.0000,eps_pri: 0.0000, eps_dual: 0.0000\n",
      "obj: 108.4862, rnorm: 0.0000, snorm: 0.0000,eps_pri: 0.0000, eps_dual: 0.0000\n",
      "obj: 108.4862, rnorm: 0.0000, snorm: 0.0000,eps_pri: 0.0000, eps_dual: 0.0000\n",
      "obj: 108.4862, rnorm: 0.0000, snorm: 0.0000,eps_pri: 0.0000, eps_dual: 0.0000\n",
      "obj: 108.4862, rnorm: 0.0000, snorm: 0.0000,eps_pri: 0.0000, eps_dual: 0.0000\n",
      "obj: 108.4862, rnorm: 0.0000, snorm: 0.0000,eps_pri: 0.0000, eps_dual: 0.0000\n",
      "obj: 108.4862, rnorm: 0.0000, snorm: 0.0000,eps_pri: 0.0000, eps_dual: 0.0000\n",
      "obj: 108.4862, rnorm: 0.0000, snorm: 0.0000,eps_pri: 0.0000, eps_dual: 0.0000\n",
      "obj: 108.4862, rnorm: 0.0000, snorm: 0.0000,eps_pri: 0.0000, eps_dual: 0.0000\n",
      "obj: 108.4862, rnorm: 0.0000, snorm: 0.0000,eps_pri: 0.0000, eps_dual: 0.0000\n",
      "obj: 108.4862, rnorm: 0.0000, snorm: 0.0000,eps_pri: 0.0000, eps_dual: 0.0000\n",
      "obj: 108.4862, rnorm: 0.0000, snorm: 0.0000,eps_pri: 0.0000, eps_dual: 0.0000\n",
      "obj: 108.4862, rnorm: 0.0000, snorm: 0.0000,eps_pri: 0.0000, eps_dual: 0.0000\n",
      "obj: 108.4862, rnorm: 0.0000, snorm: 0.0000,eps_pri: 0.0000, eps_dual: 0.0000\n",
      "obj: 108.4862, rnorm: 0.0000, snorm: 0.0000,eps_pri: 0.0000, eps_dual: 0.0000\n",
      "obj: 108.4862, rnorm: 0.0000, snorm: 0.0000,eps_pri: 0.0000, eps_dual: 0.0000\n",
      "obj: 108.4862, rnorm: 0.0000, snorm: 0.0000,eps_pri: 0.0000, eps_dual: 0.0000\n",
      "obj: 108.4862, rnorm: 0.0000, snorm: 0.0000,eps_pri: 0.0000, eps_dual: 0.0000\n",
      "obj: 108.4862, rnorm: 0.0000, snorm: 0.0000,eps_pri: 0.0000, eps_dual: 0.0000\n",
      "obj: 108.4862, rnorm: 0.0000, snorm: 0.0000,eps_pri: 0.0000, eps_dual: 0.0000\n",
      "obj: 108.4862, rnorm: 0.0000, snorm: 0.0000,eps_pri: 0.0000, eps_dual: 0.0000\n",
      "obj: 108.4862, rnorm: 0.0000, snorm: 0.0000,eps_pri: 0.0000, eps_dual: 0.0000\n",
      "obj: 108.4862, rnorm: 0.0000, snorm: 0.0000,eps_pri: 0.0000, eps_dual: 0.0000\n",
      "obj: 108.4862, rnorm: 0.0000, snorm: 0.0000,eps_pri: 0.0000, eps_dual: 0.0000\n",
      "obj: 108.4862, rnorm: 0.0000, snorm: 0.0000,eps_pri: 0.0000, eps_dual: 0.0000\n",
      "obj: 108.4862, rnorm: 0.0000, snorm: 0.0000,eps_pri: 0.0000, eps_dual: 0.0000\n",
      "obj: 108.4862, rnorm: 0.0000, snorm: 0.0000,eps_pri: 0.0000, eps_dual: 0.0000\n",
      "obj: 108.4862, rnorm: 0.0000, snorm: 0.0000,eps_pri: 0.0000, eps_dual: 0.0000\n",
      "obj: 108.4862, rnorm: 0.0000, snorm: 0.0000,eps_pri: 0.0000, eps_dual: 0.0000\n",
      "obj: 108.4862, rnorm: 0.0000, snorm: 0.0000,eps_pri: 0.0000, eps_dual: 0.0000\n",
      "obj: 108.4862, rnorm: 0.0000, snorm: 0.0000,eps_pri: 0.0000, eps_dual: 0.0000\n",
      "obj: 108.4862, rnorm: 0.0000, snorm: 0.0000,eps_pri: 0.0000, eps_dual: 0.0000\n",
      "obj: 108.4862, rnorm: 0.0000, snorm: 0.0000,eps_pri: 0.0000, eps_dual: 0.0000\n",
      "obj: 108.4862, rnorm: 0.0000, snorm: 0.0000,eps_pri: 0.0000, eps_dual: 0.0000\n",
      "obj: 108.4862, rnorm: 0.0000, snorm: 0.0000,eps_pri: 0.0000, eps_dual: 0.0000\n",
      "obj: 108.4862, rnorm: 0.0000, snorm: 0.0000,eps_pri: 0.0000, eps_dual: 0.0000\n",
      "obj: 108.4862, rnorm: 0.0000, snorm: 0.0000,eps_pri: 0.0000, eps_dual: 0.0000\n",
      "obj: 108.4862, rnorm: 0.0000, snorm: 0.0000,eps_pri: 0.0000, eps_dual: 0.0000\n",
      "obj: 108.4862, rnorm: 0.0000, snorm: 0.0000,eps_pri: 0.0000, eps_dual: 0.0000\n",
      "obj: 108.4862, rnorm: 0.0000, snorm: 0.0000,eps_pri: 0.0000, eps_dual: 0.0000\n",
      "obj: 108.4862, rnorm: 0.0000, snorm: 0.0000,eps_pri: 0.0000, eps_dual: 0.0000\n",
      "obj: 108.4862, rnorm: 0.0000, snorm: 0.0000,eps_pri: 0.0000, eps_dual: 0.0000\n",
      "obj: 108.4862, rnorm: 0.0000, snorm: 0.0000,eps_pri: 0.0000, eps_dual: 0.0000\n",
      "obj: 108.4862, rnorm: 0.0000, snorm: 0.0000,eps_pri: 0.0000, eps_dual: 0.0000\n",
      "obj: 108.4862, rnorm: 0.0000, snorm: 0.0000,eps_pri: 0.0000, eps_dual: 0.0000\n",
      "obj: 108.4862, rnorm: 0.0000, snorm: 0.0000,eps_pri: 0.0000, eps_dual: 0.0000\n",
      "obj: 108.4862, rnorm: 0.0000, snorm: 0.0000,eps_pri: 0.0000, eps_dual: 0.0000\n",
      "obj: 108.4862, rnorm: 0.0000, snorm: 0.0000,eps_pri: 0.0000, eps_dual: 0.0000\n",
      "obj: 108.4862, rnorm: 0.0000, snorm: 0.0000,eps_pri: 0.0000, eps_dual: 0.0000\n",
      "obj: 108.4862, rnorm: 0.0000, snorm: 0.0000,eps_pri: 0.0000, eps_dual: 0.0000\n",
      "obj: 108.4862, rnorm: 0.0000, snorm: 0.0000,eps_pri: 0.0000, eps_dual: 0.0000\n",
      "obj: 108.4862, rnorm: 0.0000, snorm: 0.0000,eps_pri: 0.0000, eps_dual: 0.0000\n",
      "obj: 108.4862, rnorm: 0.0000, snorm: 0.0000,eps_pri: 0.0000, eps_dual: 0.0000\n",
      "obj: 108.4862, rnorm: 0.0000, snorm: 0.0000,eps_pri: 0.0000, eps_dual: 0.0000\n",
      "obj: 108.4862, rnorm: 0.0000, snorm: 0.0000,eps_pri: 0.0000, eps_dual: 0.0000\n",
      "obj: 108.4862, rnorm: 0.0000, snorm: 0.0000,eps_pri: 0.0000, eps_dual: 0.0000\n",
      "obj: 108.4862, rnorm: 0.0000, snorm: 0.0000,eps_pri: 0.0000, eps_dual: 0.0000\n",
      "obj: 108.4862, rnorm: 0.0000, snorm: 0.0000,eps_pri: 0.0000, eps_dual: 0.0000\n",
      "obj: 108.4862, rnorm: 0.0000, snorm: 0.0000,eps_pri: 0.0000, eps_dual: 0.0000\n",
      "obj: 108.4862, rnorm: 0.0000, snorm: 0.0000,eps_pri: 0.0000, eps_dual: 0.0000\n",
      "obj: 108.4862, rnorm: 0.0000, snorm: 0.0000,eps_pri: 0.0000, eps_dual: 0.0000\n",
      "obj: 108.4862, rnorm: 0.0000, snorm: 0.0000,eps_pri: 0.0000, eps_dual: 0.0000\n",
      "obj: 108.4862, rnorm: 0.0000, snorm: 0.0000,eps_pri: 0.0000, eps_dual: 0.0000\n",
      "obj: 108.4862, rnorm: 0.0000, snorm: 0.0000,eps_pri: 0.0000, eps_dual: 0.0000\n",
      "obj: 108.4862, rnorm: 0.0000, snorm: 0.0000,eps_pri: 0.0000, eps_dual: 0.0000\n",
      "obj: 108.4862, rnorm: 0.0000, snorm: 0.0000,eps_pri: 0.0000, eps_dual: 0.0000\n",
      "obj: 108.4862, rnorm: 0.0000, snorm: 0.0000,eps_pri: 0.0000, eps_dual: 0.0000\n",
      "obj: 108.4862, rnorm: 0.0000, snorm: 0.0000,eps_pri: 0.0000, eps_dual: 0.0000\n",
      "obj: 108.4862, rnorm: 0.0000, snorm: 0.0000,eps_pri: 0.0000, eps_dual: 0.0000\n",
      "obj: 108.4862, rnorm: 0.0000, snorm: 0.0000,eps_pri: 0.0000, eps_dual: 0.0000\n",
      "obj: 108.4862, rnorm: 0.0000, snorm: 0.0000,eps_pri: 0.0000, eps_dual: 0.0000\n",
      "obj: 108.4862, rnorm: 0.0000, snorm: 0.0000,eps_pri: 0.0000, eps_dual: 0.0000\n",
      "obj: 108.4862, rnorm: 0.0000, snorm: 0.0000,eps_pri: 0.0000, eps_dual: 0.0000\n",
      "obj: 108.4862, rnorm: 0.0000, snorm: 0.0000,eps_pri: 0.0000, eps_dual: 0.0000\n",
      "obj: 108.4862, rnorm: 0.0000, snorm: 0.0000,eps_pri: 0.0000, eps_dual: 0.0000\n",
      "obj: 108.4862, rnorm: 0.0000, snorm: 0.0000,eps_pri: 0.0000, eps_dual: 0.0000\n",
      "regain GraphicalLasso(alpha=0.1, assume_centered=False, compute_objective=True,\n",
      "               init='empirical', max_iter=1000, mode='admm', over_relax=1.0,\n",
      "               rho=1.0, rtol=1e-10, tol=1e-10, update_rho_options=None,\n",
      "               verbose=True)\n",
      "obj: 114.8593, rnorm: 4.5112, snorm: 21.4133,eps_pri: 0.0000, eps_dual: 0.0000\n",
      "obj: 113.4583, rnorm: 1.1333, snorm: 2.7959,eps_pri: 0.0000, eps_dual: 0.0000\n",
      "obj: 108.9579, rnorm: 0.8846, snorm: 2.1526,eps_pri: 0.0000, eps_dual: 0.0000\n",
      "obj: 106.1184, rnorm: 0.6846, snorm: 1.6894,eps_pri: 0.0000, eps_dual: 0.0000\n",
      "obj: 104.3355, rnorm: 0.4996, snorm: 1.3208,eps_pri: 0.0000, eps_dual: 0.0000\n",
      "obj: 103.1977, rnorm: 0.3553, snorm: 1.0263,eps_pri: 0.0000, eps_dual: 0.0000\n",
      "obj: 102.5315, rnorm: 0.2642, snorm: 0.7871,eps_pri: 0.0000, eps_dual: 0.0000\n",
      "obj: 102.1289, rnorm: 0.1946, snorm: 0.5987,eps_pri: 0.0000, eps_dual: 0.0000\n",
      "obj: 101.8882, rnorm: 0.1444, snorm: 0.4514,eps_pri: 0.0000, eps_dual: 0.0000\n",
      "obj: 101.7559, rnorm: 0.1088, snorm: 0.3378,eps_pri: 0.0000, eps_dual: 0.0000\n",
      "obj: 101.6805, rnorm: 0.0829, snorm: 0.2509,eps_pri: 0.0000, eps_dual: 0.0000\n",
      "obj: 101.6380, rnorm: 0.0636, snorm: 0.1857,eps_pri: 0.0000, eps_dual: 0.0000\n",
      "obj: 101.6153, rnorm: 0.0486, snorm: 0.1369,eps_pri: 0.0000, eps_dual: 0.0000\n",
      "obj: 101.6032, rnorm: 0.0376, snorm: 0.1006,eps_pri: 0.0000, eps_dual: 0.0000\n",
      "obj: 101.5973, rnorm: 0.0285, snorm: 0.0740,eps_pri: 0.0000, eps_dual: 0.0000\n",
      "obj: 101.5945, rnorm: 0.0216, snorm: 0.0544,eps_pri: 0.0000, eps_dual: 0.0000\n",
      "obj: 101.5932, rnorm: 0.0164, snorm: 0.0400,eps_pri: 0.0000, eps_dual: 0.0000\n",
      "obj: 101.5927, rnorm: 0.0125, snorm: 0.0294,eps_pri: 0.0000, eps_dual: 0.0000\n",
      "obj: 101.5924, rnorm: 0.0094, snorm: 0.0217,eps_pri: 0.0000, eps_dual: 0.0000\n",
      "obj: 101.5923, rnorm: 0.0072, snorm: 0.0160,eps_pri: 0.0000, eps_dual: 0.0000\n",
      "obj: 101.5924, rnorm: 0.0055, snorm: 0.0118,eps_pri: 0.0000, eps_dual: 0.0000\n",
      "obj: 101.5925, rnorm: 0.0042, snorm: 0.0087,eps_pri: 0.0000, eps_dual: 0.0000\n",
      "obj: 101.5926, rnorm: 0.0033, snorm: 0.0065,eps_pri: 0.0000, eps_dual: 0.0000\n",
      "obj: 101.5927, rnorm: 0.0025, snorm: 0.0048,eps_pri: 0.0000, eps_dual: 0.0000\n",
      "obj: 101.5928, rnorm: 0.0020, snorm: 0.0036,eps_pri: 0.0000, eps_dual: 0.0000\n",
      "obj: 101.5929, rnorm: 0.0015, snorm: 0.0027,eps_pri: 0.0000, eps_dual: 0.0000\n",
      "obj: 101.5929, rnorm: 0.0012, snorm: 0.0020,eps_pri: 0.0000, eps_dual: 0.0000\n",
      "obj: 101.5930, rnorm: 0.0009, snorm: 0.0015,eps_pri: 0.0000, eps_dual: 0.0000\n",
      "obj: 101.5930, rnorm: 0.0007, snorm: 0.0011,eps_pri: 0.0000, eps_dual: 0.0000\n",
      "obj: 101.5930, rnorm: 0.0006, snorm: 0.0008,eps_pri: 0.0000, eps_dual: 0.0000\n",
      "obj: 101.5930, rnorm: 0.0005, snorm: 0.0006,eps_pri: 0.0000, eps_dual: 0.0000\n",
      "obj: 101.5930, rnorm: 0.0004, snorm: 0.0005,eps_pri: 0.0000, eps_dual: 0.0000\n",
      "obj: 101.5930, rnorm: 0.0003, snorm: 0.0004,eps_pri: 0.0000, eps_dual: 0.0000\n"
     ]
    },
    {
     "name": "stdout",
     "output_type": "stream",
     "text": [
      "obj: 101.5931, rnorm: 0.0002, snorm: 0.0003,eps_pri: 0.0000, eps_dual: 0.0000\n",
      "obj: 101.5931, rnorm: 0.0002, snorm: 0.0002,eps_pri: 0.0000, eps_dual: 0.0000\n",
      "obj: 101.5931, rnorm: 0.0002, snorm: 0.0002,eps_pri: 0.0000, eps_dual: 0.0000\n",
      "obj: 101.5931, rnorm: 0.0001, snorm: 0.0001,eps_pri: 0.0000, eps_dual: 0.0000\n",
      "obj: 101.5931, rnorm: 0.0001, snorm: 0.0001,eps_pri: 0.0000, eps_dual: 0.0000\n",
      "obj: 101.5931, rnorm: 0.0001, snorm: 0.0001,eps_pri: 0.0000, eps_dual: 0.0000\n",
      "obj: 101.5931, rnorm: 0.0001, snorm: 0.0001,eps_pri: 0.0000, eps_dual: 0.0000\n",
      "obj: 101.5931, rnorm: 0.0001, snorm: 0.0000,eps_pri: 0.0000, eps_dual: 0.0000\n",
      "obj: 101.5931, rnorm: 0.0000, snorm: 0.0000,eps_pri: 0.0000, eps_dual: 0.0000\n",
      "obj: 101.5931, rnorm: 0.0000, snorm: 0.0000,eps_pri: 0.0000, eps_dual: 0.0000\n",
      "obj: 101.5931, rnorm: 0.0000, snorm: 0.0000,eps_pri: 0.0000, eps_dual: 0.0000\n",
      "obj: 101.5931, rnorm: 0.0000, snorm: 0.0000,eps_pri: 0.0000, eps_dual: 0.0000\n",
      "obj: 101.5931, rnorm: 0.0000, snorm: 0.0000,eps_pri: 0.0000, eps_dual: 0.0000\n",
      "obj: 101.5931, rnorm: 0.0000, snorm: 0.0000,eps_pri: 0.0000, eps_dual: 0.0000\n",
      "obj: 101.5931, rnorm: 0.0000, snorm: 0.0000,eps_pri: 0.0000, eps_dual: 0.0000\n",
      "obj: 101.5931, rnorm: 0.0000, snorm: 0.0000,eps_pri: 0.0000, eps_dual: 0.0000\n",
      "obj: 101.5931, rnorm: 0.0000, snorm: 0.0000,eps_pri: 0.0000, eps_dual: 0.0000\n",
      "obj: 101.5931, rnorm: 0.0000, snorm: 0.0000,eps_pri: 0.0000, eps_dual: 0.0000\n",
      "obj: 101.5931, rnorm: 0.0000, snorm: 0.0000,eps_pri: 0.0000, eps_dual: 0.0000\n",
      "obj: 101.5931, rnorm: 0.0000, snorm: 0.0000,eps_pri: 0.0000, eps_dual: 0.0000\n",
      "obj: 101.5931, rnorm: 0.0000, snorm: 0.0000,eps_pri: 0.0000, eps_dual: 0.0000\n",
      "obj: 101.5931, rnorm: 0.0000, snorm: 0.0000,eps_pri: 0.0000, eps_dual: 0.0000\n",
      "obj: 101.5931, rnorm: 0.0000, snorm: 0.0000,eps_pri: 0.0000, eps_dual: 0.0000\n",
      "obj: 101.5931, rnorm: 0.0000, snorm: 0.0000,eps_pri: 0.0000, eps_dual: 0.0000\n",
      "obj: 101.5931, rnorm: 0.0000, snorm: 0.0000,eps_pri: 0.0000, eps_dual: 0.0000\n",
      "obj: 101.5931, rnorm: 0.0000, snorm: 0.0000,eps_pri: 0.0000, eps_dual: 0.0000\n",
      "obj: 101.5931, rnorm: 0.0000, snorm: 0.0000,eps_pri: 0.0000, eps_dual: 0.0000\n",
      "obj: 101.5931, rnorm: 0.0000, snorm: 0.0000,eps_pri: 0.0000, eps_dual: 0.0000\n",
      "obj: 101.5931, rnorm: 0.0000, snorm: 0.0000,eps_pri: 0.0000, eps_dual: 0.0000\n",
      "obj: 101.5931, rnorm: 0.0000, snorm: 0.0000,eps_pri: 0.0000, eps_dual: 0.0000\n",
      "obj: 101.5931, rnorm: 0.0000, snorm: 0.0000,eps_pri: 0.0000, eps_dual: 0.0000\n",
      "obj: 101.5931, rnorm: 0.0000, snorm: 0.0000,eps_pri: 0.0000, eps_dual: 0.0000\n",
      "obj: 101.5931, rnorm: 0.0000, snorm: 0.0000,eps_pri: 0.0000, eps_dual: 0.0000\n",
      "obj: 101.5931, rnorm: 0.0000, snorm: 0.0000,eps_pri: 0.0000, eps_dual: 0.0000\n",
      "obj: 101.5931, rnorm: 0.0000, snorm: 0.0000,eps_pri: 0.0000, eps_dual: 0.0000\n",
      "obj: 101.5931, rnorm: 0.0000, snorm: 0.0000,eps_pri: 0.0000, eps_dual: 0.0000\n",
      "obj: 101.5931, rnorm: 0.0000, snorm: 0.0000,eps_pri: 0.0000, eps_dual: 0.0000\n",
      "obj: 101.5931, rnorm: 0.0000, snorm: 0.0000,eps_pri: 0.0000, eps_dual: 0.0000\n",
      "obj: 101.5931, rnorm: 0.0000, snorm: 0.0000,eps_pri: 0.0000, eps_dual: 0.0000\n",
      "obj: 101.5931, rnorm: 0.0000, snorm: 0.0000,eps_pri: 0.0000, eps_dual: 0.0000\n",
      "obj: 101.5931, rnorm: 0.0000, snorm: 0.0000,eps_pri: 0.0000, eps_dual: 0.0000\n",
      "obj: 101.5931, rnorm: 0.0000, snorm: 0.0000,eps_pri: 0.0000, eps_dual: 0.0000\n",
      "obj: 101.5931, rnorm: 0.0000, snorm: 0.0000,eps_pri: 0.0000, eps_dual: 0.0000\n",
      "obj: 101.5931, rnorm: 0.0000, snorm: 0.0000,eps_pri: 0.0000, eps_dual: 0.0000\n",
      "obj: 101.5931, rnorm: 0.0000, snorm: 0.0000,eps_pri: 0.0000, eps_dual: 0.0000\n",
      "obj: 101.5931, rnorm: 0.0000, snorm: 0.0000,eps_pri: 0.0000, eps_dual: 0.0000\n",
      "obj: 101.5931, rnorm: 0.0000, snorm: 0.0000,eps_pri: 0.0000, eps_dual: 0.0000\n",
      "obj: 101.5931, rnorm: 0.0000, snorm: 0.0000,eps_pri: 0.0000, eps_dual: 0.0000\n",
      "obj: 101.5931, rnorm: 0.0000, snorm: 0.0000,eps_pri: 0.0000, eps_dual: 0.0000\n",
      "obj: 101.5931, rnorm: 0.0000, snorm: 0.0000,eps_pri: 0.0000, eps_dual: 0.0000\n",
      "obj: 101.5931, rnorm: 0.0000, snorm: 0.0000,eps_pri: 0.0000, eps_dual: 0.0000\n",
      "obj: 101.5931, rnorm: 0.0000, snorm: 0.0000,eps_pri: 0.0000, eps_dual: 0.0000\n",
      "obj: 101.5931, rnorm: 0.0000, snorm: 0.0000,eps_pri: 0.0000, eps_dual: 0.0000\n",
      "obj: 101.5931, rnorm: 0.0000, snorm: 0.0000,eps_pri: 0.0000, eps_dual: 0.0000\n",
      "obj: 101.5931, rnorm: 0.0000, snorm: 0.0000,eps_pri: 0.0000, eps_dual: 0.0000\n",
      "obj: 101.5931, rnorm: 0.0000, snorm: 0.0000,eps_pri: 0.0000, eps_dual: 0.0000\n",
      "obj: 114.8593, rnorm: 4.5112, snorm: 21.4133,eps_pri: 0.0000, eps_dual: 0.0000\n",
      "obj: 113.4583, rnorm: 1.1333, snorm: 2.7959,eps_pri: 0.0000, eps_dual: 0.0000\n",
      "obj: 108.9579, rnorm: 0.8846, snorm: 2.1526,eps_pri: 0.0000, eps_dual: 0.0000\n",
      "obj: 106.1184, rnorm: 0.6846, snorm: 1.6894,eps_pri: 0.0000, eps_dual: 0.0000\n",
      "obj: 104.3355, rnorm: 0.4996, snorm: 1.3208,eps_pri: 0.0000, eps_dual: 0.0000\n",
      "obj: 103.1977, rnorm: 0.3553, snorm: 1.0263,eps_pri: 0.0000, eps_dual: 0.0000\n",
      "obj: 102.5315, rnorm: 0.2642, snorm: 0.7871,eps_pri: 0.0000, eps_dual: 0.0000\n",
      "obj: 102.1289, rnorm: 0.1946, snorm: 0.5987,eps_pri: 0.0000, eps_dual: 0.0000\n",
      "obj: 101.8882, rnorm: 0.1444, snorm: 0.4514,eps_pri: 0.0000, eps_dual: 0.0000\n",
      "obj: 101.7559, rnorm: 0.1088, snorm: 0.3378,eps_pri: 0.0000, eps_dual: 0.0000\n",
      "obj: 101.6805, rnorm: 0.0829, snorm: 0.2509,eps_pri: 0.0000, eps_dual: 0.0000\n",
      "obj: 101.6380, rnorm: 0.0636, snorm: 0.1857,eps_pri: 0.0000, eps_dual: 0.0000\n",
      "obj: 101.6153, rnorm: 0.0486, snorm: 0.1369,eps_pri: 0.0000, eps_dual: 0.0000\n",
      "obj: 101.6032, rnorm: 0.0376, snorm: 0.1006,eps_pri: 0.0000, eps_dual: 0.0000\n",
      "obj: 101.5973, rnorm: 0.0285, snorm: 0.0740,eps_pri: 0.0000, eps_dual: 0.0000\n",
      "obj: 101.5945, rnorm: 0.0216, snorm: 0.0544,eps_pri: 0.0000, eps_dual: 0.0000\n",
      "obj: 101.5932, rnorm: 0.0164, snorm: 0.0400,eps_pri: 0.0000, eps_dual: 0.0000\n",
      "obj: 101.5927, rnorm: 0.0125, snorm: 0.0294,eps_pri: 0.0000, eps_dual: 0.0000\n",
      "obj: 101.5924, rnorm: 0.0094, snorm: 0.0217,eps_pri: 0.0000, eps_dual: 0.0000\n",
      "obj: 101.5923, rnorm: 0.0072, snorm: 0.0160,eps_pri: 0.0000, eps_dual: 0.0000\n",
      "obj: 101.5924, rnorm: 0.0055, snorm: 0.0118,eps_pri: 0.0000, eps_dual: 0.0000\n",
      "obj: 101.5925, rnorm: 0.0042, snorm: 0.0087,eps_pri: 0.0000, eps_dual: 0.0000\n",
      "obj: 101.5926, rnorm: 0.0033, snorm: 0.0065,eps_pri: 0.0000, eps_dual: 0.0000\n",
      "obj: 101.5927, rnorm: 0.0025, snorm: 0.0048,eps_pri: 0.0000, eps_dual: 0.0000\n",
      "obj: 101.5928, rnorm: 0.0020, snorm: 0.0036,eps_pri: 0.0000, eps_dual: 0.0000\n",
      "obj: 101.5929, rnorm: 0.0015, snorm: 0.0027,eps_pri: 0.0000, eps_dual: 0.0000\n",
      "obj: 101.5929, rnorm: 0.0012, snorm: 0.0020,eps_pri: 0.0000, eps_dual: 0.0000\n",
      "obj: 101.5930, rnorm: 0.0009, snorm: 0.0015,eps_pri: 0.0000, eps_dual: 0.0000\n",
      "obj: 101.5930, rnorm: 0.0007, snorm: 0.0011,eps_pri: 0.0000, eps_dual: 0.0000\n",
      "obj: 101.5930, rnorm: 0.0006, snorm: 0.0008,eps_pri: 0.0000, eps_dual: 0.0000\n",
      "obj: 101.5930, rnorm: 0.0005, snorm: 0.0006,eps_pri: 0.0000, eps_dual: 0.0000\n",
      "obj: 101.5930, rnorm: 0.0004, snorm: 0.0005,eps_pri: 0.0000, eps_dual: 0.0000\n",
      "obj: 101.5930, rnorm: 0.0003, snorm: 0.0004,eps_pri: 0.0000, eps_dual: 0.0000\n",
      "obj: 101.5931, rnorm: 0.0002, snorm: 0.0003,eps_pri: 0.0000, eps_dual: 0.0000\n",
      "obj: 101.5931, rnorm: 0.0002, snorm: 0.0002,eps_pri: 0.0000, eps_dual: 0.0000\n",
      "obj: 101.5931, rnorm: 0.0002, snorm: 0.0002,eps_pri: 0.0000, eps_dual: 0.0000\n",
      "obj: 101.5931, rnorm: 0.0001, snorm: 0.0001,eps_pri: 0.0000, eps_dual: 0.0000\n",
      "obj: 101.5931, rnorm: 0.0001, snorm: 0.0001,eps_pri: 0.0000, eps_dual: 0.0000\n",
      "obj: 101.5931, rnorm: 0.0001, snorm: 0.0001,eps_pri: 0.0000, eps_dual: 0.0000\n",
      "obj: 101.5931, rnorm: 0.0001, snorm: 0.0001,eps_pri: 0.0000, eps_dual: 0.0000\n",
      "obj: 101.5931, rnorm: 0.0001, snorm: 0.0000,eps_pri: 0.0000, eps_dual: 0.0000\n",
      "obj: 101.5931, rnorm: 0.0000, snorm: 0.0000,eps_pri: 0.0000, eps_dual: 0.0000\n",
      "obj: 101.5931, rnorm: 0.0000, snorm: 0.0000,eps_pri: 0.0000, eps_dual: 0.0000\n",
      "obj: 101.5931, rnorm: 0.0000, snorm: 0.0000,eps_pri: 0.0000, eps_dual: 0.0000\n",
      "obj: 101.5931, rnorm: 0.0000, snorm: 0.0000,eps_pri: 0.0000, eps_dual: 0.0000\n",
      "obj: 101.5931, rnorm: 0.0000, snorm: 0.0000,eps_pri: 0.0000, eps_dual: 0.0000\n",
      "obj: 101.5931, rnorm: 0.0000, snorm: 0.0000,eps_pri: 0.0000, eps_dual: 0.0000\n",
      "obj: 101.5931, rnorm: 0.0000, snorm: 0.0000,eps_pri: 0.0000, eps_dual: 0.0000\n",
      "obj: 101.5931, rnorm: 0.0000, snorm: 0.0000,eps_pri: 0.0000, eps_dual: 0.0000\n",
      "obj: 101.5931, rnorm: 0.0000, snorm: 0.0000,eps_pri: 0.0000, eps_dual: 0.0000\n"
     ]
    },
    {
     "name": "stdout",
     "output_type": "stream",
     "text": [
      "obj: 101.5931, rnorm: 0.0000, snorm: 0.0000,eps_pri: 0.0000, eps_dual: 0.0000\n",
      "obj: 101.5931, rnorm: 0.0000, snorm: 0.0000,eps_pri: 0.0000, eps_dual: 0.0000\n",
      "obj: 101.5931, rnorm: 0.0000, snorm: 0.0000,eps_pri: 0.0000, eps_dual: 0.0000\n",
      "obj: 101.5931, rnorm: 0.0000, snorm: 0.0000,eps_pri: 0.0000, eps_dual: 0.0000\n",
      "obj: 101.5931, rnorm: 0.0000, snorm: 0.0000,eps_pri: 0.0000, eps_dual: 0.0000\n",
      "obj: 101.5931, rnorm: 0.0000, snorm: 0.0000,eps_pri: 0.0000, eps_dual: 0.0000\n",
      "obj: 101.5931, rnorm: 0.0000, snorm: 0.0000,eps_pri: 0.0000, eps_dual: 0.0000\n",
      "obj: 101.5931, rnorm: 0.0000, snorm: 0.0000,eps_pri: 0.0000, eps_dual: 0.0000\n",
      "obj: 101.5931, rnorm: 0.0000, snorm: 0.0000,eps_pri: 0.0000, eps_dual: 0.0000\n",
      "obj: 101.5931, rnorm: 0.0000, snorm: 0.0000,eps_pri: 0.0000, eps_dual: 0.0000\n",
      "obj: 101.5931, rnorm: 0.0000, snorm: 0.0000,eps_pri: 0.0000, eps_dual: 0.0000\n",
      "obj: 101.5931, rnorm: 0.0000, snorm: 0.0000,eps_pri: 0.0000, eps_dual: 0.0000\n",
      "obj: 101.5931, rnorm: 0.0000, snorm: 0.0000,eps_pri: 0.0000, eps_dual: 0.0000\n",
      "obj: 101.5931, rnorm: 0.0000, snorm: 0.0000,eps_pri: 0.0000, eps_dual: 0.0000\n",
      "obj: 101.5931, rnorm: 0.0000, snorm: 0.0000,eps_pri: 0.0000, eps_dual: 0.0000\n",
      "obj: 101.5931, rnorm: 0.0000, snorm: 0.0000,eps_pri: 0.0000, eps_dual: 0.0000\n",
      "obj: 101.5931, rnorm: 0.0000, snorm: 0.0000,eps_pri: 0.0000, eps_dual: 0.0000\n",
      "obj: 101.5931, rnorm: 0.0000, snorm: 0.0000,eps_pri: 0.0000, eps_dual: 0.0000\n",
      "obj: 101.5931, rnorm: 0.0000, snorm: 0.0000,eps_pri: 0.0000, eps_dual: 0.0000\n",
      "obj: 101.5931, rnorm: 0.0000, snorm: 0.0000,eps_pri: 0.0000, eps_dual: 0.0000\n",
      "obj: 101.5931, rnorm: 0.0000, snorm: 0.0000,eps_pri: 0.0000, eps_dual: 0.0000\n",
      "obj: 101.5931, rnorm: 0.0000, snorm: 0.0000,eps_pri: 0.0000, eps_dual: 0.0000\n",
      "obj: 101.5931, rnorm: 0.0000, snorm: 0.0000,eps_pri: 0.0000, eps_dual: 0.0000\n",
      "obj: 101.5931, rnorm: 0.0000, snorm: 0.0000,eps_pri: 0.0000, eps_dual: 0.0000\n",
      "obj: 101.5931, rnorm: 0.0000, snorm: 0.0000,eps_pri: 0.0000, eps_dual: 0.0000\n",
      "obj: 101.5931, rnorm: 0.0000, snorm: 0.0000,eps_pri: 0.0000, eps_dual: 0.0000\n",
      "obj: 101.5931, rnorm: 0.0000, snorm: 0.0000,eps_pri: 0.0000, eps_dual: 0.0000\n",
      "obj: 101.5931, rnorm: 0.0000, snorm: 0.0000,eps_pri: 0.0000, eps_dual: 0.0000\n",
      "obj: 101.5931, rnorm: 0.0000, snorm: 0.0000,eps_pri: 0.0000, eps_dual: 0.0000\n",
      "obj: 101.5931, rnorm: 0.0000, snorm: 0.0000,eps_pri: 0.0000, eps_dual: 0.0000\n",
      "obj: 101.5931, rnorm: 0.0000, snorm: 0.0000,eps_pri: 0.0000, eps_dual: 0.0000\n",
      "obj: 101.5931, rnorm: 0.0000, snorm: 0.0000,eps_pri: 0.0000, eps_dual: 0.0000\n",
      "obj: 101.5931, rnorm: 0.0000, snorm: 0.0000,eps_pri: 0.0000, eps_dual: 0.0000\n",
      "obj: 101.5931, rnorm: 0.0000, snorm: 0.0000,eps_pri: 0.0000, eps_dual: 0.0000\n",
      "obj: 101.5931, rnorm: 0.0000, snorm: 0.0000,eps_pri: 0.0000, eps_dual: 0.0000\n",
      "obj: 101.5931, rnorm: 0.0000, snorm: 0.0000,eps_pri: 0.0000, eps_dual: 0.0000\n",
      "obj: 101.5931, rnorm: 0.0000, snorm: 0.0000,eps_pri: 0.0000, eps_dual: 0.0000\n",
      "obj: 101.5931, rnorm: 0.0000, snorm: 0.0000,eps_pri: 0.0000, eps_dual: 0.0000\n",
      "obj: 101.5931, rnorm: 0.0000, snorm: 0.0000,eps_pri: 0.0000, eps_dual: 0.0000\n",
      "regain GraphicalLasso(alpha=0.05, assume_centered=False, compute_objective=True,\n",
      "               init='empirical', max_iter=1000, mode='admm', over_relax=1.0,\n",
      "               rho=1.0, rtol=1e-10, tol=1e-10, update_rho_options=None,\n",
      "               verbose=True)\n",
      "obj: 91.3579, rnorm: 29.7218, snorm: 34.6996,eps_pri: 0.0000, eps_dual: 0.0000\n",
      "obj: 292.2803, rnorm: 13.5745, snorm: 2.4934,eps_pri: 0.0000, eps_dual: 0.0000\n",
      "obj: 222.8304, rnorm: 6.9158, snorm: 3.5584,eps_pri: 0.0000, eps_dual: 0.0000\n",
      "obj: 187.4356, rnorm: 3.3768, snorm: 3.3619,eps_pri: 0.0000, eps_dual: 0.0000\n",
      "obj: 170.4055, rnorm: 1.4217, snorm: 2.6735,eps_pri: 0.0000, eps_dual: 0.0000\n",
      "obj: 163.0892, rnorm: 0.5737, snorm: 1.9637,eps_pri: 0.0000, eps_dual: 0.0000\n",
      "obj: 159.7874, rnorm: 0.2473, snorm: 1.3943,eps_pri: 0.0000, eps_dual: 0.0000\n",
      "obj: 158.2907, rnorm: 0.1298, snorm: 0.9691,eps_pri: 0.0000, eps_dual: 0.0000\n",
      "obj: 157.6208, rnorm: 0.0859, snorm: 0.6638,eps_pri: 0.0000, eps_dual: 0.0000\n",
      "obj: 157.3244, rnorm: 0.0653, snorm: 0.4504,eps_pri: 0.0000, eps_dual: 0.0000\n",
      "obj: 157.2063, rnorm: 0.0531, snorm: 0.3038,eps_pri: 0.0000, eps_dual: 0.0000\n",
      "obj: 157.1660, rnorm: 0.0442, snorm: 0.2044,eps_pri: 0.0000, eps_dual: 0.0000\n",
      "obj: 157.1582, rnorm: 0.0373, snorm: 0.1375,eps_pri: 0.0000, eps_dual: 0.0000\n",
      "obj: 157.1624, rnorm: 0.0318, snorm: 0.0925,eps_pri: 0.0000, eps_dual: 0.0000\n",
      "obj: 157.1701, rnorm: 0.0273, snorm: 0.0624,eps_pri: 0.0000, eps_dual: 0.0000\n",
      "obj: 157.1781, rnorm: 0.0236, snorm: 0.0422,eps_pri: 0.0000, eps_dual: 0.0000\n",
      "obj: 157.1852, rnorm: 0.0205, snorm: 0.0286,eps_pri: 0.0000, eps_dual: 0.0000\n",
      "obj: 157.1914, rnorm: 0.0178, snorm: 0.0194,eps_pri: 0.0000, eps_dual: 0.0000\n",
      "obj: 157.1968, rnorm: 0.0156, snorm: 0.0132,eps_pri: 0.0000, eps_dual: 0.0000\n",
      "obj: 157.2015, rnorm: 0.0136, snorm: 0.0090,eps_pri: 0.0000, eps_dual: 0.0000\n",
      "obj: 157.2055, rnorm: 0.0120, snorm: 0.0062,eps_pri: 0.0000, eps_dual: 0.0000\n",
      "obj: 157.2090, rnorm: 0.0105, snorm: 0.0043,eps_pri: 0.0000, eps_dual: 0.0000\n",
      "obj: 157.2120, rnorm: 0.0093, snorm: 0.0029,eps_pri: 0.0000, eps_dual: 0.0000\n",
      "obj: 157.2147, rnorm: 0.0083, snorm: 0.0020,eps_pri: 0.0000, eps_dual: 0.0000\n",
      "obj: 157.2169, rnorm: 0.0074, snorm: 0.0014,eps_pri: 0.0000, eps_dual: 0.0000\n",
      "obj: 157.2189, rnorm: 0.0066, snorm: 0.0010,eps_pri: 0.0000, eps_dual: 0.0000\n",
      "obj: 157.2206, rnorm: 0.0059, snorm: 0.0007,eps_pri: 0.0000, eps_dual: 0.0000\n",
      "obj: 157.2221, rnorm: 0.0053, snorm: 0.0005,eps_pri: 0.0000, eps_dual: 0.0000\n",
      "obj: 157.2243, rnorm: 0.0044, snorm: 0.0004,eps_pri: 0.0000, eps_dual: 0.0000\n",
      "obj: 157.2270, rnorm: 0.0032, snorm: 0.0004,eps_pri: 0.0000, eps_dual: 0.0000\n",
      "obj: 157.2287, rnorm: 0.0024, snorm: 0.0003,eps_pri: 0.0000, eps_dual: 0.0000\n",
      "obj: 157.2298, rnorm: 0.0018, snorm: 0.0003,eps_pri: 0.0000, eps_dual: 0.0000\n",
      "obj: 157.2305, rnorm: 0.0014, snorm: 0.0003,eps_pri: 0.0000, eps_dual: 0.0000\n",
      "obj: 157.2309, rnorm: 0.0011, snorm: 0.0002,eps_pri: 0.0000, eps_dual: 0.0000\n",
      "obj: 157.2312, rnorm: 0.0009, snorm: 0.0002,eps_pri: 0.0000, eps_dual: 0.0000\n",
      "obj: 157.2313, rnorm: 0.0007, snorm: 0.0002,eps_pri: 0.0000, eps_dual: 0.0000\n",
      "obj: 157.2314, rnorm: 0.0006, snorm: 0.0002,eps_pri: 0.0000, eps_dual: 0.0000\n",
      "obj: 157.2315, rnorm: 0.0004, snorm: 0.0002,eps_pri: 0.0000, eps_dual: 0.0000\n",
      "obj: 157.2316, rnorm: 0.0004, snorm: 0.0001,eps_pri: 0.0000, eps_dual: 0.0000\n",
      "obj: 157.2316, rnorm: 0.0003, snorm: 0.0001,eps_pri: 0.0000, eps_dual: 0.0000\n",
      "obj: 157.2316, rnorm: 0.0002, snorm: 0.0001,eps_pri: 0.0000, eps_dual: 0.0000\n",
      "obj: 157.2317, rnorm: 0.0002, snorm: 0.0001,eps_pri: 0.0000, eps_dual: 0.0000\n",
      "obj: 157.2317, rnorm: 0.0001, snorm: 0.0001,eps_pri: 0.0000, eps_dual: 0.0000\n",
      "obj: 157.2317, rnorm: 0.0001, snorm: 0.0001,eps_pri: 0.0000, eps_dual: 0.0000\n",
      "obj: 157.2317, rnorm: 0.0001, snorm: 0.0001,eps_pri: 0.0000, eps_dual: 0.0000\n",
      "obj: 157.2317, rnorm: 0.0001, snorm: 0.0001,eps_pri: 0.0000, eps_dual: 0.0000\n",
      "obj: 157.2317, rnorm: 0.0001, snorm: 0.0001,eps_pri: 0.0000, eps_dual: 0.0000\n",
      "obj: 157.2317, rnorm: 0.0000, snorm: 0.0001,eps_pri: 0.0000, eps_dual: 0.0000\n",
      "obj: 157.2317, rnorm: 0.0000, snorm: 0.0001,eps_pri: 0.0000, eps_dual: 0.0000\n",
      "obj: 157.2317, rnorm: 0.0000, snorm: 0.0000,eps_pri: 0.0000, eps_dual: 0.0000\n",
      "obj: 157.2317, rnorm: 0.0000, snorm: 0.0000,eps_pri: 0.0000, eps_dual: 0.0000\n",
      "obj: 157.2317, rnorm: 0.0000, snorm: 0.0000,eps_pri: 0.0000, eps_dual: 0.0000\n",
      "obj: 157.2317, rnorm: 0.0000, snorm: 0.0000,eps_pri: 0.0000, eps_dual: 0.0000\n",
      "obj: 157.2317, rnorm: 0.0000, snorm: 0.0000,eps_pri: 0.0000, eps_dual: 0.0000\n",
      "obj: 157.2317, rnorm: 0.0000, snorm: 0.0000,eps_pri: 0.0000, eps_dual: 0.0000\n",
      "obj: 157.2317, rnorm: 0.0000, snorm: 0.0000,eps_pri: 0.0000, eps_dual: 0.0000\n",
      "obj: 157.2317, rnorm: 0.0000, snorm: 0.0000,eps_pri: 0.0000, eps_dual: 0.0000\n",
      "obj: 157.2317, rnorm: 0.0000, snorm: 0.0000,eps_pri: 0.0000, eps_dual: 0.0000\n",
      "obj: 157.2317, rnorm: 0.0000, snorm: 0.0000,eps_pri: 0.0000, eps_dual: 0.0000\n",
      "obj: 157.2317, rnorm: 0.0000, snorm: 0.0000,eps_pri: 0.0000, eps_dual: 0.0000\n",
      "obj: 157.2317, rnorm: 0.0000, snorm: 0.0000,eps_pri: 0.0000, eps_dual: 0.0000\n",
      "obj: 157.2317, rnorm: 0.0000, snorm: 0.0000,eps_pri: 0.0000, eps_dual: 0.0000\n",
      "obj: 157.2317, rnorm: 0.0000, snorm: 0.0000,eps_pri: 0.0000, eps_dual: 0.0000\n",
      "obj: 157.2317, rnorm: 0.0000, snorm: 0.0000,eps_pri: 0.0000, eps_dual: 0.0000\n",
      "obj: 157.2317, rnorm: 0.0000, snorm: 0.0000,eps_pri: 0.0000, eps_dual: 0.0000\n",
      "obj: 157.2317, rnorm: 0.0000, snorm: 0.0000,eps_pri: 0.0000, eps_dual: 0.0000\n",
      "obj: 157.2317, rnorm: 0.0000, snorm: 0.0000,eps_pri: 0.0000, eps_dual: 0.0000\n",
      "obj: 157.2317, rnorm: 0.0000, snorm: 0.0000,eps_pri: 0.0000, eps_dual: 0.0000\n",
      "obj: 157.2317, rnorm: 0.0000, snorm: 0.0000,eps_pri: 0.0000, eps_dual: 0.0000\n",
      "obj: 157.2317, rnorm: 0.0000, snorm: 0.0000,eps_pri: 0.0000, eps_dual: 0.0000\n",
      "obj: 157.2317, rnorm: 0.0000, snorm: 0.0000,eps_pri: 0.0000, eps_dual: 0.0000\n",
      "obj: 157.2317, rnorm: 0.0000, snorm: 0.0000,eps_pri: 0.0000, eps_dual: 0.0000\n",
      "obj: 157.2317, rnorm: 0.0000, snorm: 0.0000,eps_pri: 0.0000, eps_dual: 0.0000\n",
      "obj: 157.2317, rnorm: 0.0000, snorm: 0.0000,eps_pri: 0.0000, eps_dual: 0.0000\n",
      "obj: 157.2317, rnorm: 0.0000, snorm: 0.0000,eps_pri: 0.0000, eps_dual: 0.0000\n",
      "obj: 157.2317, rnorm: 0.0000, snorm: 0.0000,eps_pri: 0.0000, eps_dual: 0.0000\n",
      "obj: 157.2317, rnorm: 0.0000, snorm: 0.0000,eps_pri: 0.0000, eps_dual: 0.0000\n"
     ]
    },
    {
     "name": "stdout",
     "output_type": "stream",
     "text": [
      "obj: 157.2317, rnorm: 0.0000, snorm: 0.0000,eps_pri: 0.0000, eps_dual: 0.0000\n",
      "obj: 157.2317, rnorm: 0.0000, snorm: 0.0000,eps_pri: 0.0000, eps_dual: 0.0000\n",
      "obj: 157.2317, rnorm: 0.0000, snorm: 0.0000,eps_pri: 0.0000, eps_dual: 0.0000\n",
      "obj: 157.2317, rnorm: 0.0000, snorm: 0.0000,eps_pri: 0.0000, eps_dual: 0.0000\n",
      "obj: 157.2317, rnorm: 0.0000, snorm: 0.0000,eps_pri: 0.0000, eps_dual: 0.0000\n",
      "obj: 157.2317, rnorm: 0.0000, snorm: 0.0000,eps_pri: 0.0000, eps_dual: 0.0000\n",
      "obj: 157.2317, rnorm: 0.0000, snorm: 0.0000,eps_pri: 0.0000, eps_dual: 0.0000\n",
      "obj: 157.2317, rnorm: 0.0000, snorm: 0.0000,eps_pri: 0.0000, eps_dual: 0.0000\n",
      "obj: 157.2317, rnorm: 0.0000, snorm: 0.0000,eps_pri: 0.0000, eps_dual: 0.0000\n",
      "obj: 157.2317, rnorm: 0.0000, snorm: 0.0000,eps_pri: 0.0000, eps_dual: 0.0000\n",
      "obj: 157.2317, rnorm: 0.0000, snorm: 0.0000,eps_pri: 0.0000, eps_dual: 0.0000\n",
      "obj: 157.2317, rnorm: 0.0000, snorm: 0.0000,eps_pri: 0.0000, eps_dual: 0.0000\n",
      "obj: 157.2317, rnorm: 0.0000, snorm: 0.0000,eps_pri: 0.0000, eps_dual: 0.0000\n",
      "obj: 157.2317, rnorm: 0.0000, snorm: 0.0000,eps_pri: 0.0000, eps_dual: 0.0000\n",
      "obj: 157.2317, rnorm: 0.0000, snorm: 0.0000,eps_pri: 0.0000, eps_dual: 0.0000\n",
      "obj: 157.2317, rnorm: 0.0000, snorm: 0.0000,eps_pri: 0.0000, eps_dual: 0.0000\n",
      "obj: 157.2317, rnorm: 0.0000, snorm: 0.0000,eps_pri: 0.0000, eps_dual: 0.0000\n",
      "obj: 157.2317, rnorm: 0.0000, snorm: 0.0000,eps_pri: 0.0000, eps_dual: 0.0000\n",
      "obj: 157.2317, rnorm: 0.0000, snorm: 0.0000,eps_pri: 0.0000, eps_dual: 0.0000\n",
      "obj: 157.2317, rnorm: 0.0000, snorm: 0.0000,eps_pri: 0.0000, eps_dual: 0.0000\n",
      "obj: 157.2317, rnorm: 0.0000, snorm: 0.0000,eps_pri: 0.0000, eps_dual: 0.0000\n",
      "obj: 157.2317, rnorm: 0.0000, snorm: 0.0000,eps_pri: 0.0000, eps_dual: 0.0000\n",
      "obj: 157.2317, rnorm: 0.0000, snorm: 0.0000,eps_pri: 0.0000, eps_dual: 0.0000\n",
      "obj: 91.3579, rnorm: 29.7218, snorm: 34.6996,eps_pri: 0.0000, eps_dual: 0.0000\n",
      "obj: 292.2803, rnorm: 13.5745, snorm: 2.4934,eps_pri: 0.0000, eps_dual: 0.0000\n",
      "obj: 222.8304, rnorm: 6.9158, snorm: 3.5584,eps_pri: 0.0000, eps_dual: 0.0000\n",
      "obj: 187.4356, rnorm: 3.3768, snorm: 3.3619,eps_pri: 0.0000, eps_dual: 0.0000\n",
      "obj: 170.4055, rnorm: 1.4217, snorm: 2.6735,eps_pri: 0.0000, eps_dual: 0.0000\n",
      "obj: 163.0892, rnorm: 0.5737, snorm: 1.9637,eps_pri: 0.0000, eps_dual: 0.0000\n",
      "obj: 159.7874, rnorm: 0.2473, snorm: 1.3943,eps_pri: 0.0000, eps_dual: 0.0000\n",
      "obj: 158.2907, rnorm: 0.1298, snorm: 0.9691,eps_pri: 0.0000, eps_dual: 0.0000\n",
      "obj: 157.6208, rnorm: 0.0859, snorm: 0.6638,eps_pri: 0.0000, eps_dual: 0.0000\n",
      "obj: 157.3244, rnorm: 0.0653, snorm: 0.4504,eps_pri: 0.0000, eps_dual: 0.0000\n",
      "obj: 157.2063, rnorm: 0.0531, snorm: 0.3038,eps_pri: 0.0000, eps_dual: 0.0000\n",
      "obj: 157.1660, rnorm: 0.0442, snorm: 0.2044,eps_pri: 0.0000, eps_dual: 0.0000\n",
      "obj: 157.1582, rnorm: 0.0373, snorm: 0.1375,eps_pri: 0.0000, eps_dual: 0.0000\n",
      "obj: 157.1624, rnorm: 0.0318, snorm: 0.0925,eps_pri: 0.0000, eps_dual: 0.0000\n",
      "obj: 157.1701, rnorm: 0.0273, snorm: 0.0624,eps_pri: 0.0000, eps_dual: 0.0000\n",
      "obj: 157.1781, rnorm: 0.0236, snorm: 0.0422,eps_pri: 0.0000, eps_dual: 0.0000\n",
      "obj: 157.1852, rnorm: 0.0205, snorm: 0.0286,eps_pri: 0.0000, eps_dual: 0.0000\n",
      "obj: 157.1914, rnorm: 0.0178, snorm: 0.0194,eps_pri: 0.0000, eps_dual: 0.0000\n",
      "obj: 157.1968, rnorm: 0.0156, snorm: 0.0132,eps_pri: 0.0000, eps_dual: 0.0000\n",
      "obj: 157.2015, rnorm: 0.0136, snorm: 0.0090,eps_pri: 0.0000, eps_dual: 0.0000\n",
      "obj: 157.2055, rnorm: 0.0120, snorm: 0.0062,eps_pri: 0.0000, eps_dual: 0.0000\n",
      "obj: 157.2090, rnorm: 0.0105, snorm: 0.0043,eps_pri: 0.0000, eps_dual: 0.0000\n",
      "obj: 157.2120, rnorm: 0.0093, snorm: 0.0029,eps_pri: 0.0000, eps_dual: 0.0000\n",
      "obj: 157.2147, rnorm: 0.0083, snorm: 0.0020,eps_pri: 0.0000, eps_dual: 0.0000\n",
      "obj: 157.2169, rnorm: 0.0074, snorm: 0.0014,eps_pri: 0.0000, eps_dual: 0.0000\n",
      "obj: 157.2189, rnorm: 0.0066, snorm: 0.0010,eps_pri: 0.0000, eps_dual: 0.0000\n",
      "obj: 157.2206, rnorm: 0.0059, snorm: 0.0007,eps_pri: 0.0000, eps_dual: 0.0000\n",
      "obj: 157.2221, rnorm: 0.0053, snorm: 0.0005,eps_pri: 0.0000, eps_dual: 0.0000\n",
      "obj: 157.2243, rnorm: 0.0044, snorm: 0.0004,eps_pri: 0.0000, eps_dual: 0.0000\n",
      "obj: 157.2270, rnorm: 0.0032, snorm: 0.0004,eps_pri: 0.0000, eps_dual: 0.0000\n",
      "obj: 157.2287, rnorm: 0.0024, snorm: 0.0003,eps_pri: 0.0000, eps_dual: 0.0000\n",
      "obj: 157.2298, rnorm: 0.0018, snorm: 0.0003,eps_pri: 0.0000, eps_dual: 0.0000\n",
      "obj: 157.2305, rnorm: 0.0014, snorm: 0.0003,eps_pri: 0.0000, eps_dual: 0.0000\n",
      "obj: 157.2309, rnorm: 0.0011, snorm: 0.0002,eps_pri: 0.0000, eps_dual: 0.0000\n",
      "obj: 157.2312, rnorm: 0.0009, snorm: 0.0002,eps_pri: 0.0000, eps_dual: 0.0000\n",
      "obj: 157.2313, rnorm: 0.0007, snorm: 0.0002,eps_pri: 0.0000, eps_dual: 0.0000\n",
      "obj: 157.2314, rnorm: 0.0006, snorm: 0.0002,eps_pri: 0.0000, eps_dual: 0.0000\n",
      "obj: 157.2315, rnorm: 0.0004, snorm: 0.0002,eps_pri: 0.0000, eps_dual: 0.0000\n",
      "obj: 157.2316, rnorm: 0.0004, snorm: 0.0001,eps_pri: 0.0000, eps_dual: 0.0000\n",
      "obj: 157.2316, rnorm: 0.0003, snorm: 0.0001,eps_pri: 0.0000, eps_dual: 0.0000\n",
      "obj: 157.2316, rnorm: 0.0002, snorm: 0.0001,eps_pri: 0.0000, eps_dual: 0.0000\n",
      "obj: 157.2317, rnorm: 0.0002, snorm: 0.0001,eps_pri: 0.0000, eps_dual: 0.0000\n",
      "obj: 157.2317, rnorm: 0.0001, snorm: 0.0001,eps_pri: 0.0000, eps_dual: 0.0000\n",
      "obj: 157.2317, rnorm: 0.0001, snorm: 0.0001,eps_pri: 0.0000, eps_dual: 0.0000\n",
      "obj: 157.2317, rnorm: 0.0001, snorm: 0.0001,eps_pri: 0.0000, eps_dual: 0.0000\n",
      "obj: 157.2317, rnorm: 0.0001, snorm: 0.0001,eps_pri: 0.0000, eps_dual: 0.0000\n",
      "obj: 157.2317, rnorm: 0.0001, snorm: 0.0001,eps_pri: 0.0000, eps_dual: 0.0000\n",
      "obj: 157.2317, rnorm: 0.0000, snorm: 0.0001,eps_pri: 0.0000, eps_dual: 0.0000\n",
      "obj: 157.2317, rnorm: 0.0000, snorm: 0.0001,eps_pri: 0.0000, eps_dual: 0.0000\n",
      "obj: 157.2317, rnorm: 0.0000, snorm: 0.0000,eps_pri: 0.0000, eps_dual: 0.0000\n",
      "obj: 157.2317, rnorm: 0.0000, snorm: 0.0000,eps_pri: 0.0000, eps_dual: 0.0000\n",
      "obj: 157.2317, rnorm: 0.0000, snorm: 0.0000,eps_pri: 0.0000, eps_dual: 0.0000\n",
      "obj: 157.2317, rnorm: 0.0000, snorm: 0.0000,eps_pri: 0.0000, eps_dual: 0.0000\n",
      "obj: 157.2317, rnorm: 0.0000, snorm: 0.0000,eps_pri: 0.0000, eps_dual: 0.0000\n",
      "obj: 157.2317, rnorm: 0.0000, snorm: 0.0000,eps_pri: 0.0000, eps_dual: 0.0000\n",
      "obj: 157.2317, rnorm: 0.0000, snorm: 0.0000,eps_pri: 0.0000, eps_dual: 0.0000\n",
      "obj: 157.2317, rnorm: 0.0000, snorm: 0.0000,eps_pri: 0.0000, eps_dual: 0.0000\n",
      "obj: 157.2317, rnorm: 0.0000, snorm: 0.0000,eps_pri: 0.0000, eps_dual: 0.0000\n",
      "obj: 157.2317, rnorm: 0.0000, snorm: 0.0000,eps_pri: 0.0000, eps_dual: 0.0000\n",
      "obj: 157.2317, rnorm: 0.0000, snorm: 0.0000,eps_pri: 0.0000, eps_dual: 0.0000\n",
      "obj: 157.2317, rnorm: 0.0000, snorm: 0.0000,eps_pri: 0.0000, eps_dual: 0.0000\n",
      "obj: 157.2317, rnorm: 0.0000, snorm: 0.0000,eps_pri: 0.0000, eps_dual: 0.0000\n",
      "obj: 157.2317, rnorm: 0.0000, snorm: 0.0000,eps_pri: 0.0000, eps_dual: 0.0000\n",
      "obj: 157.2317, rnorm: 0.0000, snorm: 0.0000,eps_pri: 0.0000, eps_dual: 0.0000\n",
      "obj: 157.2317, rnorm: 0.0000, snorm: 0.0000,eps_pri: 0.0000, eps_dual: 0.0000\n",
      "obj: 157.2317, rnorm: 0.0000, snorm: 0.0000,eps_pri: 0.0000, eps_dual: 0.0000\n",
      "obj: 157.2317, rnorm: 0.0000, snorm: 0.0000,eps_pri: 0.0000, eps_dual: 0.0000\n",
      "obj: 157.2317, rnorm: 0.0000, snorm: 0.0000,eps_pri: 0.0000, eps_dual: 0.0000\n",
      "obj: 157.2317, rnorm: 0.0000, snorm: 0.0000,eps_pri: 0.0000, eps_dual: 0.0000\n",
      "obj: 157.2317, rnorm: 0.0000, snorm: 0.0000,eps_pri: 0.0000, eps_dual: 0.0000\n",
      "obj: 157.2317, rnorm: 0.0000, snorm: 0.0000,eps_pri: 0.0000, eps_dual: 0.0000\n",
      "obj: 157.2317, rnorm: 0.0000, snorm: 0.0000,eps_pri: 0.0000, eps_dual: 0.0000\n",
      "obj: 157.2317, rnorm: 0.0000, snorm: 0.0000,eps_pri: 0.0000, eps_dual: 0.0000\n",
      "obj: 157.2317, rnorm: 0.0000, snorm: 0.0000,eps_pri: 0.0000, eps_dual: 0.0000\n",
      "obj: 157.2317, rnorm: 0.0000, snorm: 0.0000,eps_pri: 0.0000, eps_dual: 0.0000\n",
      "obj: 157.2317, rnorm: 0.0000, snorm: 0.0000,eps_pri: 0.0000, eps_dual: 0.0000\n",
      "obj: 157.2317, rnorm: 0.0000, snorm: 0.0000,eps_pri: 0.0000, eps_dual: 0.0000\n",
      "obj: 157.2317, rnorm: 0.0000, snorm: 0.0000,eps_pri: 0.0000, eps_dual: 0.0000\n",
      "obj: 157.2317, rnorm: 0.0000, snorm: 0.0000,eps_pri: 0.0000, eps_dual: 0.0000\n",
      "obj: 157.2317, rnorm: 0.0000, snorm: 0.0000,eps_pri: 0.0000, eps_dual: 0.0000\n",
      "obj: 157.2317, rnorm: 0.0000, snorm: 0.0000,eps_pri: 0.0000, eps_dual: 0.0000\n",
      "obj: 157.2317, rnorm: 0.0000, snorm: 0.0000,eps_pri: 0.0000, eps_dual: 0.0000\n",
      "obj: 157.2317, rnorm: 0.0000, snorm: 0.0000,eps_pri: 0.0000, eps_dual: 0.0000\n",
      "obj: 157.2317, rnorm: 0.0000, snorm: 0.0000,eps_pri: 0.0000, eps_dual: 0.0000\n",
      "obj: 157.2317, rnorm: 0.0000, snorm: 0.0000,eps_pri: 0.0000, eps_dual: 0.0000\n",
      "obj: 157.2317, rnorm: 0.0000, snorm: 0.0000,eps_pri: 0.0000, eps_dual: 0.0000\n",
      "obj: 157.2317, rnorm: 0.0000, snorm: 0.0000,eps_pri: 0.0000, eps_dual: 0.0000\n",
      "obj: 157.2317, rnorm: 0.0000, snorm: 0.0000,eps_pri: 0.0000, eps_dual: 0.0000\n",
      "obj: 157.2317, rnorm: 0.0000, snorm: 0.0000,eps_pri: 0.0000, eps_dual: 0.0000\n",
      "obj: 157.2317, rnorm: 0.0000, snorm: 0.0000,eps_pri: 0.0000, eps_dual: 0.0000\n",
      "obj: 157.2317, rnorm: 0.0000, snorm: 0.0000,eps_pri: 0.0000, eps_dual: 0.0000\n",
      "obj: 157.2317, rnorm: 0.0000, snorm: 0.0000,eps_pri: 0.0000, eps_dual: 0.0000\n",
      "obj: 157.2317, rnorm: 0.0000, snorm: 0.0000,eps_pri: 0.0000, eps_dual: 0.0000\n",
      "obj: 157.2317, rnorm: 0.0000, snorm: 0.0000,eps_pri: 0.0000, eps_dual: 0.0000\n",
      "obj: 157.2317, rnorm: 0.0000, snorm: 0.0000,eps_pri: 0.0000, eps_dual: 0.0000\n",
      "obj: 157.2317, rnorm: 0.0000, snorm: 0.0000,eps_pri: 0.0000, eps_dual: 0.0000\n",
      "obj: 157.2317, rnorm: 0.0000, snorm: 0.0000,eps_pri: 0.0000, eps_dual: 0.0000\n",
      "obj: 157.2317, rnorm: 0.0000, snorm: 0.0000,eps_pri: 0.0000, eps_dual: 0.0000\n",
      "obj: 157.2317, rnorm: 0.0000, snorm: 0.0000,eps_pri: 0.0000, eps_dual: 0.0000\n",
      "obj: 157.2317, rnorm: 0.0000, snorm: 0.0000,eps_pri: 0.0000, eps_dual: 0.0000\n",
      "regain GraphicalLasso(alpha=0.5, assume_centered=False, compute_objective=True,\n",
      "               init='empirical', max_iter=1000, mode='admm', over_relax=1.0,\n",
      "               rho=1.0, rtol=1e-10, tol=1e-10, update_rho_options=None,\n",
      "               verbose=True)\n",
      "obj: 259.4419, rnorm: 16.0314, snorm: 38.6559,eps_pri: 0.0000, eps_dual: 0.0000\n"
     ]
    },
    {
     "name": "stdout",
     "output_type": "stream",
     "text": [
      "obj: 223.5844, rnorm: 7.0781, snorm: 8.6585,eps_pri: 0.0000, eps_dual: 0.0000\n",
      "obj: 190.8482, rnorm: 4.6195, snorm: 5.3979,eps_pri: 0.0000, eps_dual: 0.0000\n",
      "obj: 172.5955, rnorm: 2.5406, snorm: 3.6096,eps_pri: 0.0000, eps_dual: 0.0000\n",
      "obj: 162.1553, rnorm: 1.3881, snorm: 2.5169,eps_pri: 0.0000, eps_dual: 0.0000\n",
      "obj: 156.3165, rnorm: 0.7591, snorm: 1.8188,eps_pri: 0.0000, eps_dual: 0.0000\n",
      "obj: 153.1124, rnorm: 0.4192, snorm: 1.3353,eps_pri: 0.0000, eps_dual: 0.0000\n",
      "obj: 151.4602, rnorm: 0.2482, snorm: 0.9804,eps_pri: 0.0000, eps_dual: 0.0000\n",
      "obj: 150.6189, rnorm: 0.1594, snorm: 0.7153,eps_pri: 0.0000, eps_dual: 0.0000\n",
      "obj: 150.2193, rnorm: 0.1184, snorm: 0.5162,eps_pri: 0.0000, eps_dual: 0.0000\n",
      "obj: 150.0343, rnorm: 0.0941, snorm: 0.3702,eps_pri: 0.0000, eps_dual: 0.0000\n",
      "obj: 149.9483, rnorm: 0.0738, snorm: 0.2645,eps_pri: 0.0000, eps_dual: 0.0000\n",
      "obj: 149.9186, rnorm: 0.0596, snorm: 0.1881,eps_pri: 0.0000, eps_dual: 0.0000\n",
      "obj: 149.9070, rnorm: 0.0481, snorm: 0.1338,eps_pri: 0.0000, eps_dual: 0.0000\n",
      "obj: 149.9080, rnorm: 0.0389, snorm: 0.0955,eps_pri: 0.0000, eps_dual: 0.0000\n",
      "obj: 149.9135, rnorm: 0.0318, snorm: 0.0681,eps_pri: 0.0000, eps_dual: 0.0000\n",
      "obj: 149.9194, rnorm: 0.0266, snorm: 0.0485,eps_pri: 0.0000, eps_dual: 0.0000\n",
      "obj: 149.9239, rnorm: 0.0228, snorm: 0.0345,eps_pri: 0.0000, eps_dual: 0.0000\n",
      "obj: 149.9276, rnorm: 0.0197, snorm: 0.0247,eps_pri: 0.0000, eps_dual: 0.0000\n",
      "obj: 149.9309, rnorm: 0.0169, snorm: 0.0178,eps_pri: 0.0000, eps_dual: 0.0000\n",
      "obj: 149.9337, rnorm: 0.0147, snorm: 0.0129,eps_pri: 0.0000, eps_dual: 0.0000\n",
      "obj: 149.9359, rnorm: 0.0128, snorm: 0.0093,eps_pri: 0.0000, eps_dual: 0.0000\n",
      "obj: 149.9378, rnorm: 0.0113, snorm: 0.0067,eps_pri: 0.0000, eps_dual: 0.0000\n",
      "obj: 149.9394, rnorm: 0.0099, snorm: 0.0049,eps_pri: 0.0000, eps_dual: 0.0000\n",
      "obj: 149.9408, rnorm: 0.0087, snorm: 0.0037,eps_pri: 0.0000, eps_dual: 0.0000\n",
      "obj: 149.9421, rnorm: 0.0076, snorm: 0.0028,eps_pri: 0.0000, eps_dual: 0.0000\n",
      "obj: 149.9431, rnorm: 0.0068, snorm: 0.0020,eps_pri: 0.0000, eps_dual: 0.0000\n",
      "obj: 149.9440, rnorm: 0.0060, snorm: 0.0015,eps_pri: 0.0000, eps_dual: 0.0000\n",
      "obj: 149.9448, rnorm: 0.0053, snorm: 0.0013,eps_pri: 0.0000, eps_dual: 0.0000\n",
      "obj: 149.9454, rnorm: 0.0047, snorm: 0.0010,eps_pri: 0.0000, eps_dual: 0.0000\n",
      "obj: 149.9460, rnorm: 0.0042, snorm: 0.0007,eps_pri: 0.0000, eps_dual: 0.0000\n",
      "obj: 149.9465, rnorm: 0.0038, snorm: 0.0006,eps_pri: 0.0000, eps_dual: 0.0000\n",
      "obj: 149.9468, rnorm: 0.0034, snorm: 0.0004,eps_pri: 0.0000, eps_dual: 0.0000\n",
      "obj: 149.9472, rnorm: 0.0031, snorm: 0.0004,eps_pri: 0.0000, eps_dual: 0.0000\n",
      "obj: 149.9475, rnorm: 0.0028, snorm: 0.0003,eps_pri: 0.0000, eps_dual: 0.0000\n",
      "obj: 149.9477, rnorm: 0.0025, snorm: 0.0002,eps_pri: 0.0000, eps_dual: 0.0000\n",
      "obj: 149.9481, rnorm: 0.0021, snorm: 0.0004,eps_pri: 0.0000, eps_dual: 0.0000\n",
      "obj: 149.9484, rnorm: 0.0018, snorm: 0.0004,eps_pri: 0.0000, eps_dual: 0.0000\n",
      "obj: 149.9486, rnorm: 0.0015, snorm: 0.0004,eps_pri: 0.0000, eps_dual: 0.0000\n",
      "obj: 149.9488, rnorm: 0.0012, snorm: 0.0004,eps_pri: 0.0000, eps_dual: 0.0000\n",
      "obj: 149.9490, rnorm: 0.0011, snorm: 0.0004,eps_pri: 0.0000, eps_dual: 0.0000\n",
      "obj: 149.9491, rnorm: 0.0009, snorm: 0.0003,eps_pri: 0.0000, eps_dual: 0.0000\n",
      "obj: 149.9492, rnorm: 0.0008, snorm: 0.0003,eps_pri: 0.0000, eps_dual: 0.0000\n",
      "obj: 149.9493, rnorm: 0.0007, snorm: 0.0003,eps_pri: 0.0000, eps_dual: 0.0000\n",
      "obj: 149.9493, rnorm: 0.0006, snorm: 0.0002,eps_pri: 0.0000, eps_dual: 0.0000\n",
      "obj: 149.9494, rnorm: 0.0005, snorm: 0.0002,eps_pri: 0.0000, eps_dual: 0.0000\n",
      "obj: 149.9494, rnorm: 0.0004, snorm: 0.0002,eps_pri: 0.0000, eps_dual: 0.0000\n",
      "obj: 149.9494, rnorm: 0.0004, snorm: 0.0001,eps_pri: 0.0000, eps_dual: 0.0000\n",
      "obj: 149.9495, rnorm: 0.0003, snorm: 0.0001,eps_pri: 0.0000, eps_dual: 0.0000\n",
      "obj: 149.9495, rnorm: 0.0003, snorm: 0.0001,eps_pri: 0.0000, eps_dual: 0.0000\n",
      "obj: 149.9495, rnorm: 0.0003, snorm: 0.0001,eps_pri: 0.0000, eps_dual: 0.0000\n",
      "obj: 149.9495, rnorm: 0.0002, snorm: 0.0001,eps_pri: 0.0000, eps_dual: 0.0000\n",
      "obj: 149.9495, rnorm: 0.0002, snorm: 0.0001,eps_pri: 0.0000, eps_dual: 0.0000\n",
      "obj: 149.9495, rnorm: 0.0002, snorm: 0.0001,eps_pri: 0.0000, eps_dual: 0.0000\n",
      "obj: 149.9495, rnorm: 0.0002, snorm: 0.0000,eps_pri: 0.0000, eps_dual: 0.0000\n",
      "obj: 149.9495, rnorm: 0.0001, snorm: 0.0000,eps_pri: 0.0000, eps_dual: 0.0000\n",
      "obj: 149.9496, rnorm: 0.0001, snorm: 0.0000,eps_pri: 0.0000, eps_dual: 0.0000\n",
      "obj: 149.9496, rnorm: 0.0001, snorm: 0.0000,eps_pri: 0.0000, eps_dual: 0.0000\n",
      "obj: 149.9496, rnorm: 0.0001, snorm: 0.0000,eps_pri: 0.0000, eps_dual: 0.0000\n",
      "obj: 149.9496, rnorm: 0.0001, snorm: 0.0000,eps_pri: 0.0000, eps_dual: 0.0000\n",
      "obj: 149.9496, rnorm: 0.0001, snorm: 0.0000,eps_pri: 0.0000, eps_dual: 0.0000\n",
      "obj: 149.9496, rnorm: 0.0001, snorm: 0.0000,eps_pri: 0.0000, eps_dual: 0.0000\n",
      "obj: 149.9496, rnorm: 0.0001, snorm: 0.0000,eps_pri: 0.0000, eps_dual: 0.0000\n",
      "obj: 149.9496, rnorm: 0.0001, snorm: 0.0000,eps_pri: 0.0000, eps_dual: 0.0000\n",
      "obj: 149.9496, rnorm: 0.0000, snorm: 0.0000,eps_pri: 0.0000, eps_dual: 0.0000\n",
      "obj: 149.9496, rnorm: 0.0000, snorm: 0.0000,eps_pri: 0.0000, eps_dual: 0.0000\n",
      "obj: 149.9496, rnorm: 0.0000, snorm: 0.0000,eps_pri: 0.0000, eps_dual: 0.0000\n",
      "obj: 149.9496, rnorm: 0.0000, snorm: 0.0000,eps_pri: 0.0000, eps_dual: 0.0000\n",
      "obj: 149.9496, rnorm: 0.0000, snorm: 0.0000,eps_pri: 0.0000, eps_dual: 0.0000\n",
      "obj: 149.9496, rnorm: 0.0000, snorm: 0.0000,eps_pri: 0.0000, eps_dual: 0.0000\n",
      "obj: 149.9496, rnorm: 0.0000, snorm: 0.0000,eps_pri: 0.0000, eps_dual: 0.0000\n",
      "obj: 149.9496, rnorm: 0.0000, snorm: 0.0000,eps_pri: 0.0000, eps_dual: 0.0000\n",
      "obj: 149.9496, rnorm: 0.0000, snorm: 0.0000,eps_pri: 0.0000, eps_dual: 0.0000\n",
      "obj: 149.9496, rnorm: 0.0000, snorm: 0.0000,eps_pri: 0.0000, eps_dual: 0.0000\n",
      "obj: 149.9496, rnorm: 0.0000, snorm: 0.0000,eps_pri: 0.0000, eps_dual: 0.0000\n",
      "obj: 149.9496, rnorm: 0.0000, snorm: 0.0000,eps_pri: 0.0000, eps_dual: 0.0000\n",
      "obj: 149.9496, rnorm: 0.0000, snorm: 0.0000,eps_pri: 0.0000, eps_dual: 0.0000\n",
      "obj: 149.9496, rnorm: 0.0000, snorm: 0.0000,eps_pri: 0.0000, eps_dual: 0.0000\n",
      "obj: 149.9496, rnorm: 0.0000, snorm: 0.0000,eps_pri: 0.0000, eps_dual: 0.0000\n",
      "obj: 149.9496, rnorm: 0.0000, snorm: 0.0000,eps_pri: 0.0000, eps_dual: 0.0000\n",
      "obj: 149.9496, rnorm: 0.0000, snorm: 0.0000,eps_pri: 0.0000, eps_dual: 0.0000\n",
      "obj: 149.9496, rnorm: 0.0000, snorm: 0.0000,eps_pri: 0.0000, eps_dual: 0.0000\n",
      "obj: 149.9496, rnorm: 0.0000, snorm: 0.0000,eps_pri: 0.0000, eps_dual: 0.0000\n",
      "obj: 149.9496, rnorm: 0.0000, snorm: 0.0000,eps_pri: 0.0000, eps_dual: 0.0000\n",
      "obj: 149.9496, rnorm: 0.0000, snorm: 0.0000,eps_pri: 0.0000, eps_dual: 0.0000\n",
      "obj: 149.9496, rnorm: 0.0000, snorm: 0.0000,eps_pri: 0.0000, eps_dual: 0.0000\n",
      "obj: 149.9496, rnorm: 0.0000, snorm: 0.0000,eps_pri: 0.0000, eps_dual: 0.0000\n",
      "obj: 149.9496, rnorm: 0.0000, snorm: 0.0000,eps_pri: 0.0000, eps_dual: 0.0000\n",
      "obj: 149.9496, rnorm: 0.0000, snorm: 0.0000,eps_pri: 0.0000, eps_dual: 0.0000\n",
      "obj: 149.9496, rnorm: 0.0000, snorm: 0.0000,eps_pri: 0.0000, eps_dual: 0.0000\n",
      "obj: 149.9496, rnorm: 0.0000, snorm: 0.0000,eps_pri: 0.0000, eps_dual: 0.0000\n",
      "obj: 149.9496, rnorm: 0.0000, snorm: 0.0000,eps_pri: 0.0000, eps_dual: 0.0000\n",
      "obj: 149.9496, rnorm: 0.0000, snorm: 0.0000,eps_pri: 0.0000, eps_dual: 0.0000\n",
      "obj: 149.9496, rnorm: 0.0000, snorm: 0.0000,eps_pri: 0.0000, eps_dual: 0.0000\n",
      "obj: 149.9496, rnorm: 0.0000, snorm: 0.0000,eps_pri: 0.0000, eps_dual: 0.0000\n",
      "obj: 149.9496, rnorm: 0.0000, snorm: 0.0000,eps_pri: 0.0000, eps_dual: 0.0000\n",
      "obj: 149.9496, rnorm: 0.0000, snorm: 0.0000,eps_pri: 0.0000, eps_dual: 0.0000\n",
      "obj: 149.9496, rnorm: 0.0000, snorm: 0.0000,eps_pri: 0.0000, eps_dual: 0.0000\n",
      "obj: 149.9496, rnorm: 0.0000, snorm: 0.0000,eps_pri: 0.0000, eps_dual: 0.0000\n",
      "obj: 149.9496, rnorm: 0.0000, snorm: 0.0000,eps_pri: 0.0000, eps_dual: 0.0000\n",
      "obj: 149.9496, rnorm: 0.0000, snorm: 0.0000,eps_pri: 0.0000, eps_dual: 0.0000\n",
      "obj: 149.9496, rnorm: 0.0000, snorm: 0.0000,eps_pri: 0.0000, eps_dual: 0.0000\n",
      "obj: 149.9496, rnorm: 0.0000, snorm: 0.0000,eps_pri: 0.0000, eps_dual: 0.0000\n",
      "obj: 149.9496, rnorm: 0.0000, snorm: 0.0000,eps_pri: 0.0000, eps_dual: 0.0000\n",
      "obj: 149.9496, rnorm: 0.0000, snorm: 0.0000,eps_pri: 0.0000, eps_dual: 0.0000\n",
      "obj: 149.9496, rnorm: 0.0000, snorm: 0.0000,eps_pri: 0.0000, eps_dual: 0.0000\n",
      "obj: 149.9496, rnorm: 0.0000, snorm: 0.0000,eps_pri: 0.0000, eps_dual: 0.0000\n",
      "obj: 149.9496, rnorm: 0.0000, snorm: 0.0000,eps_pri: 0.0000, eps_dual: 0.0000\n",
      "obj: 149.9496, rnorm: 0.0000, snorm: 0.0000,eps_pri: 0.0000, eps_dual: 0.0000\n",
      "obj: 149.9496, rnorm: 0.0000, snorm: 0.0000,eps_pri: 0.0000, eps_dual: 0.0000\n",
      "obj: 149.9496, rnorm: 0.0000, snorm: 0.0000,eps_pri: 0.0000, eps_dual: 0.0000\n",
      "obj: 149.9496, rnorm: 0.0000, snorm: 0.0000,eps_pri: 0.0000, eps_dual: 0.0000\n",
      "obj: 149.9496, rnorm: 0.0000, snorm: 0.0000,eps_pri: 0.0000, eps_dual: 0.0000\n",
      "obj: 149.9496, rnorm: 0.0000, snorm: 0.0000,eps_pri: 0.0000, eps_dual: 0.0000\n",
      "obj: 149.9496, rnorm: 0.0000, snorm: 0.0000,eps_pri: 0.0000, eps_dual: 0.0000\n"
     ]
    },
    {
     "name": "stdout",
     "output_type": "stream",
     "text": [
      "obj: 149.9496, rnorm: 0.0000, snorm: 0.0000,eps_pri: 0.0000, eps_dual: 0.0000\n",
      "obj: 149.9496, rnorm: 0.0000, snorm: 0.0000,eps_pri: 0.0000, eps_dual: 0.0000\n",
      "obj: 149.9496, rnorm: 0.0000, snorm: 0.0000,eps_pri: 0.0000, eps_dual: 0.0000\n",
      "obj: 149.9496, rnorm: 0.0000, snorm: 0.0000,eps_pri: 0.0000, eps_dual: 0.0000\n",
      "obj: 149.9496, rnorm: 0.0000, snorm: 0.0000,eps_pri: 0.0000, eps_dual: 0.0000\n",
      "obj: 149.9496, rnorm: 0.0000, snorm: 0.0000,eps_pri: 0.0000, eps_dual: 0.0000\n",
      "obj: 149.9496, rnorm: 0.0000, snorm: 0.0000,eps_pri: 0.0000, eps_dual: 0.0000\n",
      "obj: 149.9496, rnorm: 0.0000, snorm: 0.0000,eps_pri: 0.0000, eps_dual: 0.0000\n",
      "obj: 149.9496, rnorm: 0.0000, snorm: 0.0000,eps_pri: 0.0000, eps_dual: 0.0000\n",
      "obj: 149.9496, rnorm: 0.0000, snorm: 0.0000,eps_pri: 0.0000, eps_dual: 0.0000\n",
      "obj: 149.9496, rnorm: 0.0000, snorm: 0.0000,eps_pri: 0.0000, eps_dual: 0.0000\n",
      "obj: 149.9496, rnorm: 0.0000, snorm: 0.0000,eps_pri: 0.0000, eps_dual: 0.0000\n",
      "obj: 149.9496, rnorm: 0.0000, snorm: 0.0000,eps_pri: 0.0000, eps_dual: 0.0000\n",
      "obj: 149.9496, rnorm: 0.0000, snorm: 0.0000,eps_pri: 0.0000, eps_dual: 0.0000\n",
      "obj: 149.9496, rnorm: 0.0000, snorm: 0.0000,eps_pri: 0.0000, eps_dual: 0.0000\n",
      "obj: 149.9496, rnorm: 0.0000, snorm: 0.0000,eps_pri: 0.0000, eps_dual: 0.0000\n",
      "obj: 149.9496, rnorm: 0.0000, snorm: 0.0000,eps_pri: 0.0000, eps_dual: 0.0000\n",
      "obj: 149.9496, rnorm: 0.0000, snorm: 0.0000,eps_pri: 0.0000, eps_dual: 0.0000\n",
      "obj: 149.9496, rnorm: 0.0000, snorm: 0.0000,eps_pri: 0.0000, eps_dual: 0.0000\n",
      "obj: 259.4419, rnorm: 16.0314, snorm: 38.6559,eps_pri: 0.0000, eps_dual: 0.0000\n",
      "obj: 223.5844, rnorm: 7.0781, snorm: 8.6585,eps_pri: 0.0000, eps_dual: 0.0000\n",
      "obj: 190.8482, rnorm: 4.6195, snorm: 5.3979,eps_pri: 0.0000, eps_dual: 0.0000\n",
      "obj: 172.5955, rnorm: 2.5406, snorm: 3.6096,eps_pri: 0.0000, eps_dual: 0.0000\n",
      "obj: 162.1553, rnorm: 1.3881, snorm: 2.5169,eps_pri: 0.0000, eps_dual: 0.0000\n",
      "obj: 156.3165, rnorm: 0.7591, snorm: 1.8188,eps_pri: 0.0000, eps_dual: 0.0000\n",
      "obj: 153.1124, rnorm: 0.4192, snorm: 1.3353,eps_pri: 0.0000, eps_dual: 0.0000\n",
      "obj: 151.4602, rnorm: 0.2482, snorm: 0.9804,eps_pri: 0.0000, eps_dual: 0.0000\n",
      "obj: 150.6189, rnorm: 0.1594, snorm: 0.7153,eps_pri: 0.0000, eps_dual: 0.0000\n",
      "obj: 150.2193, rnorm: 0.1184, snorm: 0.5162,eps_pri: 0.0000, eps_dual: 0.0000\n",
      "obj: 150.0343, rnorm: 0.0941, snorm: 0.3702,eps_pri: 0.0000, eps_dual: 0.0000\n",
      "obj: 149.9483, rnorm: 0.0738, snorm: 0.2645,eps_pri: 0.0000, eps_dual: 0.0000\n",
      "obj: 149.9186, rnorm: 0.0596, snorm: 0.1881,eps_pri: 0.0000, eps_dual: 0.0000\n",
      "obj: 149.9070, rnorm: 0.0481, snorm: 0.1338,eps_pri: 0.0000, eps_dual: 0.0000\n",
      "obj: 149.9080, rnorm: 0.0389, snorm: 0.0955,eps_pri: 0.0000, eps_dual: 0.0000\n",
      "obj: 149.9135, rnorm: 0.0318, snorm: 0.0681,eps_pri: 0.0000, eps_dual: 0.0000\n",
      "obj: 149.9194, rnorm: 0.0266, snorm: 0.0485,eps_pri: 0.0000, eps_dual: 0.0000\n",
      "obj: 149.9239, rnorm: 0.0228, snorm: 0.0345,eps_pri: 0.0000, eps_dual: 0.0000\n",
      "obj: 149.9276, rnorm: 0.0197, snorm: 0.0247,eps_pri: 0.0000, eps_dual: 0.0000\n",
      "obj: 149.9309, rnorm: 0.0169, snorm: 0.0178,eps_pri: 0.0000, eps_dual: 0.0000\n",
      "obj: 149.9337, rnorm: 0.0147, snorm: 0.0129,eps_pri: 0.0000, eps_dual: 0.0000\n",
      "obj: 149.9359, rnorm: 0.0128, snorm: 0.0093,eps_pri: 0.0000, eps_dual: 0.0000\n",
      "obj: 149.9378, rnorm: 0.0113, snorm: 0.0067,eps_pri: 0.0000, eps_dual: 0.0000\n",
      "obj: 149.9394, rnorm: 0.0099, snorm: 0.0049,eps_pri: 0.0000, eps_dual: 0.0000\n",
      "obj: 149.9408, rnorm: 0.0087, snorm: 0.0037,eps_pri: 0.0000, eps_dual: 0.0000\n",
      "obj: 149.9421, rnorm: 0.0076, snorm: 0.0028,eps_pri: 0.0000, eps_dual: 0.0000\n",
      "obj: 149.9431, rnorm: 0.0068, snorm: 0.0020,eps_pri: 0.0000, eps_dual: 0.0000\n",
      "obj: 149.9440, rnorm: 0.0060, snorm: 0.0015,eps_pri: 0.0000, eps_dual: 0.0000\n",
      "obj: 149.9448, rnorm: 0.0053, snorm: 0.0013,eps_pri: 0.0000, eps_dual: 0.0000\n",
      "obj: 149.9454, rnorm: 0.0047, snorm: 0.0010,eps_pri: 0.0000, eps_dual: 0.0000\n",
      "obj: 149.9460, rnorm: 0.0042, snorm: 0.0007,eps_pri: 0.0000, eps_dual: 0.0000\n",
      "obj: 149.9465, rnorm: 0.0038, snorm: 0.0006,eps_pri: 0.0000, eps_dual: 0.0000\n",
      "obj: 149.9468, rnorm: 0.0034, snorm: 0.0004,eps_pri: 0.0000, eps_dual: 0.0000\n",
      "obj: 149.9472, rnorm: 0.0031, snorm: 0.0004,eps_pri: 0.0000, eps_dual: 0.0000\n",
      "obj: 149.9475, rnorm: 0.0028, snorm: 0.0003,eps_pri: 0.0000, eps_dual: 0.0000\n",
      "obj: 149.9477, rnorm: 0.0025, snorm: 0.0002,eps_pri: 0.0000, eps_dual: 0.0000\n",
      "obj: 149.9481, rnorm: 0.0021, snorm: 0.0004,eps_pri: 0.0000, eps_dual: 0.0000\n",
      "obj: 149.9484, rnorm: 0.0018, snorm: 0.0004,eps_pri: 0.0000, eps_dual: 0.0000\n",
      "obj: 149.9486, rnorm: 0.0015, snorm: 0.0004,eps_pri: 0.0000, eps_dual: 0.0000\n",
      "obj: 149.9488, rnorm: 0.0012, snorm: 0.0004,eps_pri: 0.0000, eps_dual: 0.0000\n",
      "obj: 149.9490, rnorm: 0.0011, snorm: 0.0004,eps_pri: 0.0000, eps_dual: 0.0000\n",
      "obj: 149.9491, rnorm: 0.0009, snorm: 0.0003,eps_pri: 0.0000, eps_dual: 0.0000\n",
      "obj: 149.9492, rnorm: 0.0008, snorm: 0.0003,eps_pri: 0.0000, eps_dual: 0.0000\n",
      "obj: 149.9493, rnorm: 0.0007, snorm: 0.0003,eps_pri: 0.0000, eps_dual: 0.0000\n",
      "obj: 149.9493, rnorm: 0.0006, snorm: 0.0002,eps_pri: 0.0000, eps_dual: 0.0000\n",
      "obj: 149.9494, rnorm: 0.0005, snorm: 0.0002,eps_pri: 0.0000, eps_dual: 0.0000\n",
      "obj: 149.9494, rnorm: 0.0004, snorm: 0.0002,eps_pri: 0.0000, eps_dual: 0.0000\n",
      "obj: 149.9494, rnorm: 0.0004, snorm: 0.0001,eps_pri: 0.0000, eps_dual: 0.0000\n",
      "obj: 149.9495, rnorm: 0.0003, snorm: 0.0001,eps_pri: 0.0000, eps_dual: 0.0000\n",
      "obj: 149.9495, rnorm: 0.0003, snorm: 0.0001,eps_pri: 0.0000, eps_dual: 0.0000\n",
      "obj: 149.9495, rnorm: 0.0003, snorm: 0.0001,eps_pri: 0.0000, eps_dual: 0.0000\n",
      "obj: 149.9495, rnorm: 0.0002, snorm: 0.0001,eps_pri: 0.0000, eps_dual: 0.0000\n",
      "obj: 149.9495, rnorm: 0.0002, snorm: 0.0001,eps_pri: 0.0000, eps_dual: 0.0000\n",
      "obj: 149.9495, rnorm: 0.0002, snorm: 0.0001,eps_pri: 0.0000, eps_dual: 0.0000\n",
      "obj: 149.9495, rnorm: 0.0002, snorm: 0.0000,eps_pri: 0.0000, eps_dual: 0.0000\n",
      "obj: 149.9495, rnorm: 0.0001, snorm: 0.0000,eps_pri: 0.0000, eps_dual: 0.0000\n",
      "obj: 149.9496, rnorm: 0.0001, snorm: 0.0000,eps_pri: 0.0000, eps_dual: 0.0000\n",
      "obj: 149.9496, rnorm: 0.0001, snorm: 0.0000,eps_pri: 0.0000, eps_dual: 0.0000\n",
      "obj: 149.9496, rnorm: 0.0001, snorm: 0.0000,eps_pri: 0.0000, eps_dual: 0.0000\n",
      "obj: 149.9496, rnorm: 0.0001, snorm: 0.0000,eps_pri: 0.0000, eps_dual: 0.0000\n",
      "obj: 149.9496, rnorm: 0.0001, snorm: 0.0000,eps_pri: 0.0000, eps_dual: 0.0000\n",
      "obj: 149.9496, rnorm: 0.0001, snorm: 0.0000,eps_pri: 0.0000, eps_dual: 0.0000\n",
      "obj: 149.9496, rnorm: 0.0001, snorm: 0.0000,eps_pri: 0.0000, eps_dual: 0.0000\n",
      "obj: 149.9496, rnorm: 0.0001, snorm: 0.0000,eps_pri: 0.0000, eps_dual: 0.0000\n",
      "obj: 149.9496, rnorm: 0.0000, snorm: 0.0000,eps_pri: 0.0000, eps_dual: 0.0000\n",
      "obj: 149.9496, rnorm: 0.0000, snorm: 0.0000,eps_pri: 0.0000, eps_dual: 0.0000\n",
      "obj: 149.9496, rnorm: 0.0000, snorm: 0.0000,eps_pri: 0.0000, eps_dual: 0.0000\n",
      "obj: 149.9496, rnorm: 0.0000, snorm: 0.0000,eps_pri: 0.0000, eps_dual: 0.0000\n",
      "obj: 149.9496, rnorm: 0.0000, snorm: 0.0000,eps_pri: 0.0000, eps_dual: 0.0000\n",
      "obj: 149.9496, rnorm: 0.0000, snorm: 0.0000,eps_pri: 0.0000, eps_dual: 0.0000\n",
      "obj: 149.9496, rnorm: 0.0000, snorm: 0.0000,eps_pri: 0.0000, eps_dual: 0.0000\n",
      "obj: 149.9496, rnorm: 0.0000, snorm: 0.0000,eps_pri: 0.0000, eps_dual: 0.0000\n",
      "obj: 149.9496, rnorm: 0.0000, snorm: 0.0000,eps_pri: 0.0000, eps_dual: 0.0000\n",
      "obj: 149.9496, rnorm: 0.0000, snorm: 0.0000,eps_pri: 0.0000, eps_dual: 0.0000\n",
      "obj: 149.9496, rnorm: 0.0000, snorm: 0.0000,eps_pri: 0.0000, eps_dual: 0.0000\n",
      "obj: 149.9496, rnorm: 0.0000, snorm: 0.0000,eps_pri: 0.0000, eps_dual: 0.0000\n",
      "obj: 149.9496, rnorm: 0.0000, snorm: 0.0000,eps_pri: 0.0000, eps_dual: 0.0000\n",
      "obj: 149.9496, rnorm: 0.0000, snorm: 0.0000,eps_pri: 0.0000, eps_dual: 0.0000\n",
      "obj: 149.9496, rnorm: 0.0000, snorm: 0.0000,eps_pri: 0.0000, eps_dual: 0.0000\n",
      "obj: 149.9496, rnorm: 0.0000, snorm: 0.0000,eps_pri: 0.0000, eps_dual: 0.0000\n",
      "obj: 149.9496, rnorm: 0.0000, snorm: 0.0000,eps_pri: 0.0000, eps_dual: 0.0000\n",
      "obj: 149.9496, rnorm: 0.0000, snorm: 0.0000,eps_pri: 0.0000, eps_dual: 0.0000\n",
      "obj: 149.9496, rnorm: 0.0000, snorm: 0.0000,eps_pri: 0.0000, eps_dual: 0.0000\n",
      "obj: 149.9496, rnorm: 0.0000, snorm: 0.0000,eps_pri: 0.0000, eps_dual: 0.0000\n",
      "obj: 149.9496, rnorm: 0.0000, snorm: 0.0000,eps_pri: 0.0000, eps_dual: 0.0000\n",
      "obj: 149.9496, rnorm: 0.0000, snorm: 0.0000,eps_pri: 0.0000, eps_dual: 0.0000\n",
      "obj: 149.9496, rnorm: 0.0000, snorm: 0.0000,eps_pri: 0.0000, eps_dual: 0.0000\n",
      "obj: 149.9496, rnorm: 0.0000, snorm: 0.0000,eps_pri: 0.0000, eps_dual: 0.0000\n",
      "obj: 149.9496, rnorm: 0.0000, snorm: 0.0000,eps_pri: 0.0000, eps_dual: 0.0000\n",
      "obj: 149.9496, rnorm: 0.0000, snorm: 0.0000,eps_pri: 0.0000, eps_dual: 0.0000\n",
      "obj: 149.9496, rnorm: 0.0000, snorm: 0.0000,eps_pri: 0.0000, eps_dual: 0.0000\n",
      "obj: 149.9496, rnorm: 0.0000, snorm: 0.0000,eps_pri: 0.0000, eps_dual: 0.0000\n",
      "obj: 149.9496, rnorm: 0.0000, snorm: 0.0000,eps_pri: 0.0000, eps_dual: 0.0000\n",
      "obj: 149.9496, rnorm: 0.0000, snorm: 0.0000,eps_pri: 0.0000, eps_dual: 0.0000\n",
      "obj: 149.9496, rnorm: 0.0000, snorm: 0.0000,eps_pri: 0.0000, eps_dual: 0.0000\n"
     ]
    },
    {
     "name": "stdout",
     "output_type": "stream",
     "text": [
      "obj: 149.9496, rnorm: 0.0000, snorm: 0.0000,eps_pri: 0.0000, eps_dual: 0.0000\n",
      "obj: 149.9496, rnorm: 0.0000, snorm: 0.0000,eps_pri: 0.0000, eps_dual: 0.0000\n",
      "obj: 149.9496, rnorm: 0.0000, snorm: 0.0000,eps_pri: 0.0000, eps_dual: 0.0000\n",
      "obj: 149.9496, rnorm: 0.0000, snorm: 0.0000,eps_pri: 0.0000, eps_dual: 0.0000\n",
      "obj: 149.9496, rnorm: 0.0000, snorm: 0.0000,eps_pri: 0.0000, eps_dual: 0.0000\n",
      "obj: 149.9496, rnorm: 0.0000, snorm: 0.0000,eps_pri: 0.0000, eps_dual: 0.0000\n",
      "obj: 149.9496, rnorm: 0.0000, snorm: 0.0000,eps_pri: 0.0000, eps_dual: 0.0000\n",
      "obj: 149.9496, rnorm: 0.0000, snorm: 0.0000,eps_pri: 0.0000, eps_dual: 0.0000\n",
      "obj: 149.9496, rnorm: 0.0000, snorm: 0.0000,eps_pri: 0.0000, eps_dual: 0.0000\n",
      "obj: 149.9496, rnorm: 0.0000, snorm: 0.0000,eps_pri: 0.0000, eps_dual: 0.0000\n",
      "obj: 149.9496, rnorm: 0.0000, snorm: 0.0000,eps_pri: 0.0000, eps_dual: 0.0000\n",
      "obj: 149.9496, rnorm: 0.0000, snorm: 0.0000,eps_pri: 0.0000, eps_dual: 0.0000\n",
      "obj: 149.9496, rnorm: 0.0000, snorm: 0.0000,eps_pri: 0.0000, eps_dual: 0.0000\n",
      "obj: 149.9496, rnorm: 0.0000, snorm: 0.0000,eps_pri: 0.0000, eps_dual: 0.0000\n",
      "obj: 149.9496, rnorm: 0.0000, snorm: 0.0000,eps_pri: 0.0000, eps_dual: 0.0000\n",
      "obj: 149.9496, rnorm: 0.0000, snorm: 0.0000,eps_pri: 0.0000, eps_dual: 0.0000\n",
      "obj: 149.9496, rnorm: 0.0000, snorm: 0.0000,eps_pri: 0.0000, eps_dual: 0.0000\n",
      "obj: 149.9496, rnorm: 0.0000, snorm: 0.0000,eps_pri: 0.0000, eps_dual: 0.0000\n",
      "obj: 149.9496, rnorm: 0.0000, snorm: 0.0000,eps_pri: 0.0000, eps_dual: 0.0000\n",
      "obj: 149.9496, rnorm: 0.0000, snorm: 0.0000,eps_pri: 0.0000, eps_dual: 0.0000\n",
      "obj: 149.9496, rnorm: 0.0000, snorm: 0.0000,eps_pri: 0.0000, eps_dual: 0.0000\n",
      "obj: 149.9496, rnorm: 0.0000, snorm: 0.0000,eps_pri: 0.0000, eps_dual: 0.0000\n",
      "obj: 149.9496, rnorm: 0.0000, snorm: 0.0000,eps_pri: 0.0000, eps_dual: 0.0000\n",
      "obj: 149.9496, rnorm: 0.0000, snorm: 0.0000,eps_pri: 0.0000, eps_dual: 0.0000\n",
      "obj: 149.9496, rnorm: 0.0000, snorm: 0.0000,eps_pri: 0.0000, eps_dual: 0.0000\n",
      "obj: 149.9496, rnorm: 0.0000, snorm: 0.0000,eps_pri: 0.0000, eps_dual: 0.0000\n",
      "obj: 149.9496, rnorm: 0.0000, snorm: 0.0000,eps_pri: 0.0000, eps_dual: 0.0000\n",
      "obj: 149.9496, rnorm: 0.0000, snorm: 0.0000,eps_pri: 0.0000, eps_dual: 0.0000\n",
      "obj: 149.9496, rnorm: 0.0000, snorm: 0.0000,eps_pri: 0.0000, eps_dual: 0.0000\n",
      "obj: 149.9496, rnorm: 0.0000, snorm: 0.0000,eps_pri: 0.0000, eps_dual: 0.0000\n",
      "obj: 149.9496, rnorm: 0.0000, snorm: 0.0000,eps_pri: 0.0000, eps_dual: 0.0000\n",
      "obj: 149.9496, rnorm: 0.0000, snorm: 0.0000,eps_pri: 0.0000, eps_dual: 0.0000\n",
      "obj: 149.9496, rnorm: 0.0000, snorm: 0.0000,eps_pri: 0.0000, eps_dual: 0.0000\n",
      "obj: 149.9496, rnorm: 0.0000, snorm: 0.0000,eps_pri: 0.0000, eps_dual: 0.0000\n",
      "obj: 149.9496, rnorm: 0.0000, snorm: 0.0000,eps_pri: 0.0000, eps_dual: 0.0000\n",
      "obj: 149.9496, rnorm: 0.0000, snorm: 0.0000,eps_pri: 0.0000, eps_dual: 0.0000\n",
      "obj: 149.9496, rnorm: 0.0000, snorm: 0.0000,eps_pri: 0.0000, eps_dual: 0.0000\n",
      "obj: 149.9496, rnorm: 0.0000, snorm: 0.0000,eps_pri: 0.0000, eps_dual: 0.0000\n",
      "obj: 149.9496, rnorm: 0.0000, snorm: 0.0000,eps_pri: 0.0000, eps_dual: 0.0000\n",
      "regain GraphicalLasso(alpha=0.1, assume_centered=False, compute_objective=True,\n",
      "               init='empirical', max_iter=1000, mode='admm', over_relax=1.0,\n",
      "               rho=1.0, rtol=1e-10, tol=1e-10, update_rho_options=None,\n",
      "               verbose=True)\n",
      "obj: 230.8174, rnorm: 9.0074, snorm: 41.5620,eps_pri: 0.0000, eps_dual: 0.0000\n",
      "obj: 209.8331, rnorm: 2.7340, snorm: 5.9427,eps_pri: 0.0000, eps_dual: 0.0000\n",
      "obj: 186.2391, rnorm: 2.1658, snorm: 4.8078,eps_pri: 0.0000, eps_dual: 0.0000\n",
      "obj: 170.8960, rnorm: 1.7020, snorm: 3.8461,eps_pri: 0.0000, eps_dual: 0.0000\n",
      "obj: 160.8947, rnorm: 1.2709, snorm: 3.0480,eps_pri: 0.0000, eps_dual: 0.0000\n",
      "obj: 154.3941, rnorm: 0.8989, snorm: 2.4137,eps_pri: 0.0000, eps_dual: 0.0000\n",
      "obj: 150.1747, rnorm: 0.6354, snorm: 1.9064,eps_pri: 0.0000, eps_dual: 0.0000\n",
      "obj: 147.4801, rnorm: 0.4463, snorm: 1.5000,eps_pri: 0.0000, eps_dual: 0.0000\n",
      "obj: 145.7963, rnorm: 0.3151, snorm: 1.1752,eps_pri: 0.0000, eps_dual: 0.0000\n",
      "obj: 144.7329, rnorm: 0.2190, snorm: 0.9186,eps_pri: 0.0000, eps_dual: 0.0000\n",
      "obj: 144.1020, rnorm: 0.1615, snorm: 0.7128,eps_pri: 0.0000, eps_dual: 0.0000\n",
      "obj: 143.7238, rnorm: 0.1205, snorm: 0.5509,eps_pri: 0.0000, eps_dual: 0.0000\n",
      "obj: 143.4952, rnorm: 0.0887, snorm: 0.4243,eps_pri: 0.0000, eps_dual: 0.0000\n",
      "obj: 143.3664, rnorm: 0.0674, snorm: 0.3253,eps_pri: 0.0000, eps_dual: 0.0000\n",
      "obj: 143.2929, rnorm: 0.0515, snorm: 0.2490,eps_pri: 0.0000, eps_dual: 0.0000\n",
      "obj: 143.2518, rnorm: 0.0394, snorm: 0.1902,eps_pri: 0.0000, eps_dual: 0.0000\n",
      "obj: 143.2292, rnorm: 0.0309, snorm: 0.1451,eps_pri: 0.0000, eps_dual: 0.0000\n",
      "obj: 143.2169, rnorm: 0.0239, snorm: 0.1106,eps_pri: 0.0000, eps_dual: 0.0000\n",
      "obj: 143.2107, rnorm: 0.0186, snorm: 0.0843,eps_pri: 0.0000, eps_dual: 0.0000\n",
      "obj: 143.2082, rnorm: 0.0148, snorm: 0.0642,eps_pri: 0.0000, eps_dual: 0.0000\n",
      "obj: 143.2073, rnorm: 0.0118, snorm: 0.0489,eps_pri: 0.0000, eps_dual: 0.0000\n",
      "obj: 143.2070, rnorm: 0.0093, snorm: 0.0373,eps_pri: 0.0000, eps_dual: 0.0000\n",
      "obj: 143.2071, rnorm: 0.0074, snorm: 0.0285,eps_pri: 0.0000, eps_dual: 0.0000\n",
      "obj: 143.2075, rnorm: 0.0060, snorm: 0.0217,eps_pri: 0.0000, eps_dual: 0.0000\n",
      "obj: 143.2078, rnorm: 0.0048, snorm: 0.0166,eps_pri: 0.0000, eps_dual: 0.0000\n",
      "obj: 143.2082, rnorm: 0.0038, snorm: 0.0127,eps_pri: 0.0000, eps_dual: 0.0000\n",
      "obj: 143.2085, rnorm: 0.0031, snorm: 0.0098,eps_pri: 0.0000, eps_dual: 0.0000\n",
      "obj: 143.2088, rnorm: 0.0025, snorm: 0.0075,eps_pri: 0.0000, eps_dual: 0.0000\n",
      "obj: 143.2090, rnorm: 0.0021, snorm: 0.0057,eps_pri: 0.0000, eps_dual: 0.0000\n",
      "obj: 143.2092, rnorm: 0.0017, snorm: 0.0044,eps_pri: 0.0000, eps_dual: 0.0000\n",
      "obj: 143.2093, rnorm: 0.0014, snorm: 0.0034,eps_pri: 0.0000, eps_dual: 0.0000\n",
      "obj: 143.2094, rnorm: 0.0012, snorm: 0.0026,eps_pri: 0.0000, eps_dual: 0.0000\n",
      "obj: 143.2095, rnorm: 0.0010, snorm: 0.0020,eps_pri: 0.0000, eps_dual: 0.0000\n",
      "obj: 143.2096, rnorm: 0.0009, snorm: 0.0016,eps_pri: 0.0000, eps_dual: 0.0000\n",
      "obj: 143.2097, rnorm: 0.0007, snorm: 0.0012,eps_pri: 0.0000, eps_dual: 0.0000\n",
      "obj: 143.2097, rnorm: 0.0006, snorm: 0.0009,eps_pri: 0.0000, eps_dual: 0.0000\n",
      "obj: 143.2097, rnorm: 0.0005, snorm: 0.0007,eps_pri: 0.0000, eps_dual: 0.0000\n",
      "obj: 143.2098, rnorm: 0.0005, snorm: 0.0006,eps_pri: 0.0000, eps_dual: 0.0000\n",
      "obj: 143.2098, rnorm: 0.0004, snorm: 0.0004,eps_pri: 0.0000, eps_dual: 0.0000\n",
      "obj: 143.2098, rnorm: 0.0003, snorm: 0.0003,eps_pri: 0.0000, eps_dual: 0.0000\n",
      "obj: 143.2098, rnorm: 0.0003, snorm: 0.0003,eps_pri: 0.0000, eps_dual: 0.0000\n",
      "obj: 143.2098, rnorm: 0.0003, snorm: 0.0002,eps_pri: 0.0000, eps_dual: 0.0000\n",
      "obj: 143.2098, rnorm: 0.0002, snorm: 0.0002,eps_pri: 0.0000, eps_dual: 0.0000\n",
      "obj: 143.2098, rnorm: 0.0002, snorm: 0.0001,eps_pri: 0.0000, eps_dual: 0.0000\n",
      "obj: 143.2099, rnorm: 0.0002, snorm: 0.0001,eps_pri: 0.0000, eps_dual: 0.0000\n",
      "obj: 143.2099, rnorm: 0.0001, snorm: 0.0001,eps_pri: 0.0000, eps_dual: 0.0000\n",
      "obj: 143.2099, rnorm: 0.0001, snorm: 0.0001,eps_pri: 0.0000, eps_dual: 0.0000\n",
      "obj: 143.2099, rnorm: 0.0001, snorm: 0.0001,eps_pri: 0.0000, eps_dual: 0.0000\n",
      "obj: 143.2099, rnorm: 0.0001, snorm: 0.0000,eps_pri: 0.0000, eps_dual: 0.0000\n",
      "obj: 143.2099, rnorm: 0.0001, snorm: 0.0000,eps_pri: 0.0000, eps_dual: 0.0000\n",
      "obj: 143.2099, rnorm: 0.0001, snorm: 0.0000,eps_pri: 0.0000, eps_dual: 0.0000\n",
      "obj: 143.2099, rnorm: 0.0001, snorm: 0.0000,eps_pri: 0.0000, eps_dual: 0.0000\n",
      "obj: 143.2099, rnorm: 0.0001, snorm: 0.0000,eps_pri: 0.0000, eps_dual: 0.0000\n",
      "obj: 143.2099, rnorm: 0.0000, snorm: 0.0000,eps_pri: 0.0000, eps_dual: 0.0000\n",
      "obj: 143.2099, rnorm: 0.0000, snorm: 0.0000,eps_pri: 0.0000, eps_dual: 0.0000\n",
      "obj: 143.2099, rnorm: 0.0000, snorm: 0.0000,eps_pri: 0.0000, eps_dual: 0.0000\n",
      "obj: 143.2099, rnorm: 0.0000, snorm: 0.0000,eps_pri: 0.0000, eps_dual: 0.0000\n",
      "obj: 143.2099, rnorm: 0.0000, snorm: 0.0000,eps_pri: 0.0000, eps_dual: 0.0000\n",
      "obj: 143.2099, rnorm: 0.0000, snorm: 0.0000,eps_pri: 0.0000, eps_dual: 0.0000\n",
      "obj: 143.2099, rnorm: 0.0000, snorm: 0.0000,eps_pri: 0.0000, eps_dual: 0.0000\n",
      "obj: 143.2099, rnorm: 0.0000, snorm: 0.0000,eps_pri: 0.0000, eps_dual: 0.0000\n",
      "obj: 143.2099, rnorm: 0.0000, snorm: 0.0000,eps_pri: 0.0000, eps_dual: 0.0000\n",
      "obj: 143.2099, rnorm: 0.0000, snorm: 0.0000,eps_pri: 0.0000, eps_dual: 0.0000\n",
      "obj: 143.2099, rnorm: 0.0000, snorm: 0.0000,eps_pri: 0.0000, eps_dual: 0.0000\n",
      "obj: 143.2099, rnorm: 0.0000, snorm: 0.0000,eps_pri: 0.0000, eps_dual: 0.0000\n",
      "obj: 143.2099, rnorm: 0.0000, snorm: 0.0000,eps_pri: 0.0000, eps_dual: 0.0000\n",
      "obj: 143.2099, rnorm: 0.0000, snorm: 0.0000,eps_pri: 0.0000, eps_dual: 0.0000\n"
     ]
    },
    {
     "name": "stdout",
     "output_type": "stream",
     "text": [
      "obj: 143.2099, rnorm: 0.0000, snorm: 0.0000,eps_pri: 0.0000, eps_dual: 0.0000\n",
      "obj: 143.2099, rnorm: 0.0000, snorm: 0.0000,eps_pri: 0.0000, eps_dual: 0.0000\n",
      "obj: 143.2099, rnorm: 0.0000, snorm: 0.0000,eps_pri: 0.0000, eps_dual: 0.0000\n",
      "obj: 143.2099, rnorm: 0.0000, snorm: 0.0000,eps_pri: 0.0000, eps_dual: 0.0000\n",
      "obj: 143.2099, rnorm: 0.0000, snorm: 0.0000,eps_pri: 0.0000, eps_dual: 0.0000\n",
      "obj: 143.2099, rnorm: 0.0000, snorm: 0.0000,eps_pri: 0.0000, eps_dual: 0.0000\n",
      "obj: 143.2099, rnorm: 0.0000, snorm: 0.0000,eps_pri: 0.0000, eps_dual: 0.0000\n",
      "obj: 143.2099, rnorm: 0.0000, snorm: 0.0000,eps_pri: 0.0000, eps_dual: 0.0000\n",
      "obj: 143.2099, rnorm: 0.0000, snorm: 0.0000,eps_pri: 0.0000, eps_dual: 0.0000\n",
      "obj: 143.2099, rnorm: 0.0000, snorm: 0.0000,eps_pri: 0.0000, eps_dual: 0.0000\n",
      "obj: 143.2099, rnorm: 0.0000, snorm: 0.0000,eps_pri: 0.0000, eps_dual: 0.0000\n",
      "obj: 143.2099, rnorm: 0.0000, snorm: 0.0000,eps_pri: 0.0000, eps_dual: 0.0000\n",
      "obj: 143.2099, rnorm: 0.0000, snorm: 0.0000,eps_pri: 0.0000, eps_dual: 0.0000\n",
      "obj: 143.2099, rnorm: 0.0000, snorm: 0.0000,eps_pri: 0.0000, eps_dual: 0.0000\n",
      "obj: 143.2099, rnorm: 0.0000, snorm: 0.0000,eps_pri: 0.0000, eps_dual: 0.0000\n",
      "obj: 143.2099, rnorm: 0.0000, snorm: 0.0000,eps_pri: 0.0000, eps_dual: 0.0000\n",
      "obj: 143.2099, rnorm: 0.0000, snorm: 0.0000,eps_pri: 0.0000, eps_dual: 0.0000\n",
      "obj: 143.2099, rnorm: 0.0000, snorm: 0.0000,eps_pri: 0.0000, eps_dual: 0.0000\n",
      "obj: 143.2099, rnorm: 0.0000, snorm: 0.0000,eps_pri: 0.0000, eps_dual: 0.0000\n",
      "obj: 143.2099, rnorm: 0.0000, snorm: 0.0000,eps_pri: 0.0000, eps_dual: 0.0000\n",
      "obj: 143.2099, rnorm: 0.0000, snorm: 0.0000,eps_pri: 0.0000, eps_dual: 0.0000\n",
      "obj: 143.2099, rnorm: 0.0000, snorm: 0.0000,eps_pri: 0.0000, eps_dual: 0.0000\n",
      "obj: 143.2099, rnorm: 0.0000, snorm: 0.0000,eps_pri: 0.0000, eps_dual: 0.0000\n",
      "obj: 143.2099, rnorm: 0.0000, snorm: 0.0000,eps_pri: 0.0000, eps_dual: 0.0000\n",
      "obj: 143.2099, rnorm: 0.0000, snorm: 0.0000,eps_pri: 0.0000, eps_dual: 0.0000\n",
      "obj: 143.2099, rnorm: 0.0000, snorm: 0.0000,eps_pri: 0.0000, eps_dual: 0.0000\n",
      "obj: 143.2099, rnorm: 0.0000, snorm: 0.0000,eps_pri: 0.0000, eps_dual: 0.0000\n",
      "obj: 143.2099, rnorm: 0.0000, snorm: 0.0000,eps_pri: 0.0000, eps_dual: 0.0000\n",
      "obj: 143.2099, rnorm: 0.0000, snorm: 0.0000,eps_pri: 0.0000, eps_dual: 0.0000\n",
      "obj: 143.2099, rnorm: 0.0000, snorm: 0.0000,eps_pri: 0.0000, eps_dual: 0.0000\n",
      "obj: 143.2099, rnorm: 0.0000, snorm: 0.0000,eps_pri: 0.0000, eps_dual: 0.0000\n",
      "obj: 143.2099, rnorm: 0.0000, snorm: 0.0000,eps_pri: 0.0000, eps_dual: 0.0000\n",
      "obj: 143.2099, rnorm: 0.0000, snorm: 0.0000,eps_pri: 0.0000, eps_dual: 0.0000\n",
      "obj: 143.2099, rnorm: 0.0000, snorm: 0.0000,eps_pri: 0.0000, eps_dual: 0.0000\n",
      "obj: 143.2099, rnorm: 0.0000, snorm: 0.0000,eps_pri: 0.0000, eps_dual: 0.0000\n",
      "obj: 143.2099, rnorm: 0.0000, snorm: 0.0000,eps_pri: 0.0000, eps_dual: 0.0000\n",
      "obj: 143.2099, rnorm: 0.0000, snorm: 0.0000,eps_pri: 0.0000, eps_dual: 0.0000\n",
      "obj: 143.2099, rnorm: 0.0000, snorm: 0.0000,eps_pri: 0.0000, eps_dual: 0.0000\n",
      "obj: 143.2099, rnorm: 0.0000, snorm: 0.0000,eps_pri: 0.0000, eps_dual: 0.0000\n",
      "obj: 143.2099, rnorm: 0.0000, snorm: 0.0000,eps_pri: 0.0000, eps_dual: 0.0000\n",
      "obj: 143.2099, rnorm: 0.0000, snorm: 0.0000,eps_pri: 0.0000, eps_dual: 0.0000\n",
      "obj: 143.2099, rnorm: 0.0000, snorm: 0.0000,eps_pri: 0.0000, eps_dual: 0.0000\n",
      "obj: 143.2099, rnorm: 0.0000, snorm: 0.0000,eps_pri: 0.0000, eps_dual: 0.0000\n",
      "obj: 143.2099, rnorm: 0.0000, snorm: 0.0000,eps_pri: 0.0000, eps_dual: 0.0000\n",
      "obj: 143.2099, rnorm: 0.0000, snorm: 0.0000,eps_pri: 0.0000, eps_dual: 0.0000\n",
      "obj: 143.2099, rnorm: 0.0000, snorm: 0.0000,eps_pri: 0.0000, eps_dual: 0.0000\n",
      "obj: 230.8174, rnorm: 9.0074, snorm: 41.5620,eps_pri: 0.0000, eps_dual: 0.0000\n",
      "obj: 209.8331, rnorm: 2.7340, snorm: 5.9427,eps_pri: 0.0000, eps_dual: 0.0000\n",
      "obj: 186.2391, rnorm: 2.1658, snorm: 4.8078,eps_pri: 0.0000, eps_dual: 0.0000\n",
      "obj: 170.8960, rnorm: 1.7020, snorm: 3.8461,eps_pri: 0.0000, eps_dual: 0.0000\n",
      "obj: 160.8947, rnorm: 1.2709, snorm: 3.0480,eps_pri: 0.0000, eps_dual: 0.0000\n",
      "obj: 154.3941, rnorm: 0.8989, snorm: 2.4137,eps_pri: 0.0000, eps_dual: 0.0000\n",
      "obj: 150.1747, rnorm: 0.6354, snorm: 1.9064,eps_pri: 0.0000, eps_dual: 0.0000\n",
      "obj: 147.4801, rnorm: 0.4463, snorm: 1.5000,eps_pri: 0.0000, eps_dual: 0.0000\n",
      "obj: 145.7963, rnorm: 0.3151, snorm: 1.1752,eps_pri: 0.0000, eps_dual: 0.0000\n",
      "obj: 144.7329, rnorm: 0.2190, snorm: 0.9186,eps_pri: 0.0000, eps_dual: 0.0000\n",
      "obj: 144.1020, rnorm: 0.1615, snorm: 0.7128,eps_pri: 0.0000, eps_dual: 0.0000\n",
      "obj: 143.7238, rnorm: 0.1205, snorm: 0.5509,eps_pri: 0.0000, eps_dual: 0.0000\n",
      "obj: 143.4952, rnorm: 0.0887, snorm: 0.4243,eps_pri: 0.0000, eps_dual: 0.0000\n",
      "obj: 143.3664, rnorm: 0.0674, snorm: 0.3253,eps_pri: 0.0000, eps_dual: 0.0000\n",
      "obj: 143.2929, rnorm: 0.0515, snorm: 0.2490,eps_pri: 0.0000, eps_dual: 0.0000\n",
      "obj: 143.2518, rnorm: 0.0394, snorm: 0.1902,eps_pri: 0.0000, eps_dual: 0.0000\n",
      "obj: 143.2292, rnorm: 0.0309, snorm: 0.1451,eps_pri: 0.0000, eps_dual: 0.0000\n",
      "obj: 143.2169, rnorm: 0.0239, snorm: 0.1106,eps_pri: 0.0000, eps_dual: 0.0000\n",
      "obj: 143.2107, rnorm: 0.0186, snorm: 0.0843,eps_pri: 0.0000, eps_dual: 0.0000\n",
      "obj: 143.2082, rnorm: 0.0148, snorm: 0.0642,eps_pri: 0.0000, eps_dual: 0.0000\n",
      "obj: 143.2073, rnorm: 0.0118, snorm: 0.0489,eps_pri: 0.0000, eps_dual: 0.0000\n",
      "obj: 143.2070, rnorm: 0.0093, snorm: 0.0373,eps_pri: 0.0000, eps_dual: 0.0000\n",
      "obj: 143.2071, rnorm: 0.0074, snorm: 0.0285,eps_pri: 0.0000, eps_dual: 0.0000\n",
      "obj: 143.2075, rnorm: 0.0060, snorm: 0.0217,eps_pri: 0.0000, eps_dual: 0.0000\n",
      "obj: 143.2078, rnorm: 0.0048, snorm: 0.0166,eps_pri: 0.0000, eps_dual: 0.0000\n",
      "obj: 143.2082, rnorm: 0.0038, snorm: 0.0127,eps_pri: 0.0000, eps_dual: 0.0000\n",
      "obj: 143.2085, rnorm: 0.0031, snorm: 0.0098,eps_pri: 0.0000, eps_dual: 0.0000\n",
      "obj: 143.2088, rnorm: 0.0025, snorm: 0.0075,eps_pri: 0.0000, eps_dual: 0.0000\n",
      "obj: 143.2090, rnorm: 0.0021, snorm: 0.0057,eps_pri: 0.0000, eps_dual: 0.0000\n",
      "obj: 143.2092, rnorm: 0.0017, snorm: 0.0044,eps_pri: 0.0000, eps_dual: 0.0000\n",
      "obj: 143.2093, rnorm: 0.0014, snorm: 0.0034,eps_pri: 0.0000, eps_dual: 0.0000\n",
      "obj: 143.2094, rnorm: 0.0012, snorm: 0.0026,eps_pri: 0.0000, eps_dual: 0.0000\n",
      "obj: 143.2095, rnorm: 0.0010, snorm: 0.0020,eps_pri: 0.0000, eps_dual: 0.0000\n",
      "obj: 143.2096, rnorm: 0.0009, snorm: 0.0016,eps_pri: 0.0000, eps_dual: 0.0000\n",
      "obj: 143.2097, rnorm: 0.0007, snorm: 0.0012,eps_pri: 0.0000, eps_dual: 0.0000\n",
      "obj: 143.2097, rnorm: 0.0006, snorm: 0.0009,eps_pri: 0.0000, eps_dual: 0.0000\n",
      "obj: 143.2097, rnorm: 0.0005, snorm: 0.0007,eps_pri: 0.0000, eps_dual: 0.0000\n",
      "obj: 143.2098, rnorm: 0.0005, snorm: 0.0006,eps_pri: 0.0000, eps_dual: 0.0000\n",
      "obj: 143.2098, rnorm: 0.0004, snorm: 0.0004,eps_pri: 0.0000, eps_dual: 0.0000\n",
      "obj: 143.2098, rnorm: 0.0003, snorm: 0.0003,eps_pri: 0.0000, eps_dual: 0.0000\n",
      "obj: 143.2098, rnorm: 0.0003, snorm: 0.0003,eps_pri: 0.0000, eps_dual: 0.0000\n",
      "obj: 143.2098, rnorm: 0.0003, snorm: 0.0002,eps_pri: 0.0000, eps_dual: 0.0000\n",
      "obj: 143.2098, rnorm: 0.0002, snorm: 0.0002,eps_pri: 0.0000, eps_dual: 0.0000\n",
      "obj: 143.2098, rnorm: 0.0002, snorm: 0.0001,eps_pri: 0.0000, eps_dual: 0.0000\n",
      "obj: 143.2099, rnorm: 0.0002, snorm: 0.0001,eps_pri: 0.0000, eps_dual: 0.0000\n",
      "obj: 143.2099, rnorm: 0.0001, snorm: 0.0001,eps_pri: 0.0000, eps_dual: 0.0000\n",
      "obj: 143.2099, rnorm: 0.0001, snorm: 0.0001,eps_pri: 0.0000, eps_dual: 0.0000\n",
      "obj: 143.2099, rnorm: 0.0001, snorm: 0.0001,eps_pri: 0.0000, eps_dual: 0.0000\n",
      "obj: 143.2099, rnorm: 0.0001, snorm: 0.0000,eps_pri: 0.0000, eps_dual: 0.0000\n",
      "obj: 143.2099, rnorm: 0.0001, snorm: 0.0000,eps_pri: 0.0000, eps_dual: 0.0000\n",
      "obj: 143.2099, rnorm: 0.0001, snorm: 0.0000,eps_pri: 0.0000, eps_dual: 0.0000\n",
      "obj: 143.2099, rnorm: 0.0001, snorm: 0.0000,eps_pri: 0.0000, eps_dual: 0.0000\n",
      "obj: 143.2099, rnorm: 0.0001, snorm: 0.0000,eps_pri: 0.0000, eps_dual: 0.0000\n",
      "obj: 143.2099, rnorm: 0.0000, snorm: 0.0000,eps_pri: 0.0000, eps_dual: 0.0000\n",
      "obj: 143.2099, rnorm: 0.0000, snorm: 0.0000,eps_pri: 0.0000, eps_dual: 0.0000\n",
      "obj: 143.2099, rnorm: 0.0000, snorm: 0.0000,eps_pri: 0.0000, eps_dual: 0.0000\n",
      "obj: 143.2099, rnorm: 0.0000, snorm: 0.0000,eps_pri: 0.0000, eps_dual: 0.0000\n",
      "obj: 143.2099, rnorm: 0.0000, snorm: 0.0000,eps_pri: 0.0000, eps_dual: 0.0000\n",
      "obj: 143.2099, rnorm: 0.0000, snorm: 0.0000,eps_pri: 0.0000, eps_dual: 0.0000\n",
      "obj: 143.2099, rnorm: 0.0000, snorm: 0.0000,eps_pri: 0.0000, eps_dual: 0.0000\n",
      "obj: 143.2099, rnorm: 0.0000, snorm: 0.0000,eps_pri: 0.0000, eps_dual: 0.0000\n",
      "obj: 143.2099, rnorm: 0.0000, snorm: 0.0000,eps_pri: 0.0000, eps_dual: 0.0000\n",
      "obj: 143.2099, rnorm: 0.0000, snorm: 0.0000,eps_pri: 0.0000, eps_dual: 0.0000\n",
      "obj: 143.2099, rnorm: 0.0000, snorm: 0.0000,eps_pri: 0.0000, eps_dual: 0.0000\n",
      "obj: 143.2099, rnorm: 0.0000, snorm: 0.0000,eps_pri: 0.0000, eps_dual: 0.0000\n",
      "obj: 143.2099, rnorm: 0.0000, snorm: 0.0000,eps_pri: 0.0000, eps_dual: 0.0000\n",
      "obj: 143.2099, rnorm: 0.0000, snorm: 0.0000,eps_pri: 0.0000, eps_dual: 0.0000\n",
      "obj: 143.2099, rnorm: 0.0000, snorm: 0.0000,eps_pri: 0.0000, eps_dual: 0.0000\n"
     ]
    },
    {
     "name": "stdout",
     "output_type": "stream",
     "text": [
      "obj: 143.2099, rnorm: 0.0000, snorm: 0.0000,eps_pri: 0.0000, eps_dual: 0.0000\n",
      "obj: 143.2099, rnorm: 0.0000, snorm: 0.0000,eps_pri: 0.0000, eps_dual: 0.0000\n",
      "obj: 143.2099, rnorm: 0.0000, snorm: 0.0000,eps_pri: 0.0000, eps_dual: 0.0000\n",
      "obj: 143.2099, rnorm: 0.0000, snorm: 0.0000,eps_pri: 0.0000, eps_dual: 0.0000\n",
      "obj: 143.2099, rnorm: 0.0000, snorm: 0.0000,eps_pri: 0.0000, eps_dual: 0.0000\n",
      "obj: 143.2099, rnorm: 0.0000, snorm: 0.0000,eps_pri: 0.0000, eps_dual: 0.0000\n",
      "obj: 143.2099, rnorm: 0.0000, snorm: 0.0000,eps_pri: 0.0000, eps_dual: 0.0000\n",
      "obj: 143.2099, rnorm: 0.0000, snorm: 0.0000,eps_pri: 0.0000, eps_dual: 0.0000\n",
      "obj: 143.2099, rnorm: 0.0000, snorm: 0.0000,eps_pri: 0.0000, eps_dual: 0.0000\n",
      "obj: 143.2099, rnorm: 0.0000, snorm: 0.0000,eps_pri: 0.0000, eps_dual: 0.0000\n",
      "obj: 143.2099, rnorm: 0.0000, snorm: 0.0000,eps_pri: 0.0000, eps_dual: 0.0000\n",
      "obj: 143.2099, rnorm: 0.0000, snorm: 0.0000,eps_pri: 0.0000, eps_dual: 0.0000\n",
      "obj: 143.2099, rnorm: 0.0000, snorm: 0.0000,eps_pri: 0.0000, eps_dual: 0.0000\n",
      "obj: 143.2099, rnorm: 0.0000, snorm: 0.0000,eps_pri: 0.0000, eps_dual: 0.0000\n",
      "obj: 143.2099, rnorm: 0.0000, snorm: 0.0000,eps_pri: 0.0000, eps_dual: 0.0000\n",
      "obj: 143.2099, rnorm: 0.0000, snorm: 0.0000,eps_pri: 0.0000, eps_dual: 0.0000\n",
      "obj: 143.2099, rnorm: 0.0000, snorm: 0.0000,eps_pri: 0.0000, eps_dual: 0.0000\n",
      "obj: 143.2099, rnorm: 0.0000, snorm: 0.0000,eps_pri: 0.0000, eps_dual: 0.0000\n",
      "obj: 143.2099, rnorm: 0.0000, snorm: 0.0000,eps_pri: 0.0000, eps_dual: 0.0000\n",
      "obj: 143.2099, rnorm: 0.0000, snorm: 0.0000,eps_pri: 0.0000, eps_dual: 0.0000\n",
      "obj: 143.2099, rnorm: 0.0000, snorm: 0.0000,eps_pri: 0.0000, eps_dual: 0.0000\n",
      "obj: 143.2099, rnorm: 0.0000, snorm: 0.0000,eps_pri: 0.0000, eps_dual: 0.0000\n",
      "obj: 143.2099, rnorm: 0.0000, snorm: 0.0000,eps_pri: 0.0000, eps_dual: 0.0000\n",
      "obj: 143.2099, rnorm: 0.0000, snorm: 0.0000,eps_pri: 0.0000, eps_dual: 0.0000\n",
      "obj: 143.2099, rnorm: 0.0000, snorm: 0.0000,eps_pri: 0.0000, eps_dual: 0.0000\n",
      "obj: 143.2099, rnorm: 0.0000, snorm: 0.0000,eps_pri: 0.0000, eps_dual: 0.0000\n",
      "obj: 143.2099, rnorm: 0.0000, snorm: 0.0000,eps_pri: 0.0000, eps_dual: 0.0000\n",
      "obj: 143.2099, rnorm: 0.0000, snorm: 0.0000,eps_pri: 0.0000, eps_dual: 0.0000\n",
      "obj: 143.2099, rnorm: 0.0000, snorm: 0.0000,eps_pri: 0.0000, eps_dual: 0.0000\n",
      "obj: 143.2099, rnorm: 0.0000, snorm: 0.0000,eps_pri: 0.0000, eps_dual: 0.0000\n",
      "obj: 143.2099, rnorm: 0.0000, snorm: 0.0000,eps_pri: 0.0000, eps_dual: 0.0000\n",
      "obj: 143.2099, rnorm: 0.0000, snorm: 0.0000,eps_pri: 0.0000, eps_dual: 0.0000\n",
      "obj: 143.2099, rnorm: 0.0000, snorm: 0.0000,eps_pri: 0.0000, eps_dual: 0.0000\n",
      "obj: 143.2099, rnorm: 0.0000, snorm: 0.0000,eps_pri: 0.0000, eps_dual: 0.0000\n",
      "obj: 143.2099, rnorm: 0.0000, snorm: 0.0000,eps_pri: 0.0000, eps_dual: 0.0000\n",
      "obj: 143.2099, rnorm: 0.0000, snorm: 0.0000,eps_pri: 0.0000, eps_dual: 0.0000\n",
      "obj: 143.2099, rnorm: 0.0000, snorm: 0.0000,eps_pri: 0.0000, eps_dual: 0.0000\n",
      "obj: 143.2099, rnorm: 0.0000, snorm: 0.0000,eps_pri: 0.0000, eps_dual: 0.0000\n",
      "obj: 143.2099, rnorm: 0.0000, snorm: 0.0000,eps_pri: 0.0000, eps_dual: 0.0000\n",
      "obj: 143.2099, rnorm: 0.0000, snorm: 0.0000,eps_pri: 0.0000, eps_dual: 0.0000\n",
      "obj: 143.2099, rnorm: 0.0000, snorm: 0.0000,eps_pri: 0.0000, eps_dual: 0.0000\n",
      "obj: 143.2099, rnorm: 0.0000, snorm: 0.0000,eps_pri: 0.0000, eps_dual: 0.0000\n",
      "obj: 143.2099, rnorm: 0.0000, snorm: 0.0000,eps_pri: 0.0000, eps_dual: 0.0000\n",
      "obj: 143.2099, rnorm: 0.0000, snorm: 0.0000,eps_pri: 0.0000, eps_dual: 0.0000\n",
      "obj: 143.2099, rnorm: 0.0000, snorm: 0.0000,eps_pri: 0.0000, eps_dual: 0.0000\n",
      "regain GraphicalLasso(alpha=0.05, assume_centered=False, compute_objective=True,\n",
      "               init='empirical', max_iter=1000, mode='admm', over_relax=1.0,\n",
      "               rho=1.0, rtol=1e-10, tol=1e-10, update_rho_options=None,\n",
      "               verbose=True)\n"
     ]
    }
   ],
   "source": [
    "model_time_dict = dict()\n",
    "model_Z_dict = dict()\n",
    "reference_solver = \"regain\"\n",
    "\n",
    "print(f\"Solving for a reference solution with solver {reference_solver}:\")\n",
    "\n",
    "for X, l1 in product(list(X_dict.values()), lambda_list):\n",
    "    \n",
    "    Z, Z_time, info = model_solution(solver=reference_solver, X=X, lambda1=l1)\n",
    "    \n",
    "    key = \"p_\" + str(X.shape[1]) + \"_N_\" + str(X.shape[0]) + \"_l1_\" + str(l1)\n",
    "    model_time_dict.update({key: Z_time})\n",
    "    model_Z_dict.update({key: Z})"
   ]
  },
  {
   "cell_type": "code",
   "execution_count": 14,
   "id": "competitive-poultry",
   "metadata": {},
   "outputs": [],
   "source": [
    "time_dict = dict()\n",
    "accuracy_dict = dict()\n",
    "Z_dict = dict()\n",
    "\n",
    "n_iter = 2"
   ]
  },
  {
   "cell_type": "markdown",
   "id": "extra-blood",
   "metadata": {},
   "source": [
    "### GGLasso"
   ]
  },
  {
   "cell_type": "code",
   "execution_count": 15,
   "id": "certain-financing",
   "metadata": {},
   "outputs": [
    {
     "data": {
      "application/vnd.jupyter.widget-view+json": {
       "model_id": "267b022d9b454d01824c0dbef19c30f8",
       "version_major": 2,
       "version_minor": 0
      },
      "text/plain": [
       "  0%|          | 0/2 [00:00<?, ?it/s]"
      ]
     },
     "metadata": {},
     "output_type": "display_data"
    },
    {
     "name": "stdout",
     "output_type": "stream",
     "text": [
      "######## NUMBA WARMUP ###########\n"
     ]
    },
    {
     "name": "stderr",
     "output_type": "stream",
     "text": [
      "\n",
      "single-boyd_tol_1e-05_rtol_1e-05_p_100_N_200_l1_0.5:   0%|          | 0/2 [00:00<?, ?it/s]\u001b[A\n",
      "single-boyd_tol_1e-05_rtol_1e-05_p_100_N_200_l1_0.5:  50%|█████     | 1/2 [00:00<00:00,  9.13it/s]\u001b[A"
     ]
    },
    {
     "name": "stdout",
     "output_type": "stream",
     "text": [
      "ADMM terminated after 5 iterations with status: max iterations reached.\n",
      "ADMM terminated after 5 iterations with status: max iterations reached.\n",
      "##################################\n",
      "ADMM terminated after 20 iterations with status: optimal.\n"
     ]
    },
    {
     "name": "stderr",
     "output_type": "stream",
     "text": [
      "single-boyd_tol_1e-05_rtol_1e-05_p_100_N_200_l1_0.5: 100%|██████████| 2/2 [00:00<00:00, 10.40it/s]\n",
      "\n",
      "single-boyd_tol_1e-05_rtol_1e-05_p_100_N_200_l1_0.1:   0%|          | 0/2 [00:00<?, ?it/s]\u001b[A\n",
      "single-boyd_tol_1e-05_rtol_1e-05_p_100_N_200_l1_0.1: 100%|██████████| 2/2 [00:00<00:00, 18.78it/s]\u001b[A\n",
      "\n",
      "single-boyd_tol_1e-05_rtol_1e-05_p_100_N_200_l1_0.05: 100%|██████████| 2/2 [00:00<00:00, 27.39it/s]\n",
      "\n",
      "single-boyd_tol_1e-05_rtol_1e-06_p_100_N_200_l1_0.5:   0%|          | 0/2 [00:00<?, ?it/s]\u001b[A"
     ]
    },
    {
     "name": "stdout",
     "output_type": "stream",
     "text": [
      "ADMM terminated after 20 iterations with status: optimal.\n",
      "ADMM terminated after 12 iterations with status: optimal.\n",
      "ADMM terminated after 12 iterations with status: optimal.\n",
      "ADMM terminated after 11 iterations with status: optimal.\n",
      "ADMM terminated after 11 iterations with status: optimal.\n"
     ]
    },
    {
     "name": "stderr",
     "output_type": "stream",
     "text": [
      "\n",
      "single-boyd_tol_1e-05_rtol_1e-06_p_100_N_200_l1_0.5: 100%|██████████| 2/2 [00:00<00:00, 12.39it/s]\u001b[A\n",
      "\n",
      "single-boyd_tol_1e-05_rtol_1e-06_p_100_N_200_l1_0.1: 100%|██████████| 2/2 [00:00<00:00, 20.61it/s]\n",
      "\n",
      "single-boyd_tol_1e-05_rtol_1e-06_p_100_N_200_l1_0.05:   0%|          | 0/2 [00:00<?, ?it/s]\u001b[A"
     ]
    },
    {
     "name": "stdout",
     "output_type": "stream",
     "text": [
      "ADMM terminated after 20 iterations with status: optimal.\n",
      "ADMM terminated after 20 iterations with status: optimal.\n",
      "ADMM terminated after 12 iterations with status: optimal.\n",
      "ADMM terminated after 12 iterations with status: optimal.\n"
     ]
    },
    {
     "name": "stderr",
     "output_type": "stream",
     "text": [
      "\n",
      "single-boyd_tol_1e-05_rtol_1e-06_p_100_N_200_l1_0.05: 100%|██████████| 2/2 [00:00<00:00, 18.20it/s]\u001b[A\n",
      "\n",
      "single-boyd_tol_1e-05_rtol_1e-07_p_100_N_200_l1_0.5:   0%|          | 0/2 [00:00<?, ?it/s]\u001b[A\n",
      "single-boyd_tol_1e-05_rtol_1e-07_p_100_N_200_l1_0.5: 100%|██████████| 2/2 [00:00<00:00, 15.18it/s]\u001b[A\n",
      "\n",
      "single-boyd_tol_1e-05_rtol_1e-07_p_100_N_200_l1_0.1:   0%|          | 0/2 [00:00<?, ?it/s]\u001b[A"
     ]
    },
    {
     "name": "stdout",
     "output_type": "stream",
     "text": [
      "ADMM terminated after 11 iterations with status: optimal.\n",
      "ADMM terminated after 11 iterations with status: optimal.\n",
      "ADMM terminated after 20 iterations with status: optimal.\n",
      "ADMM terminated after 20 iterations with status: optimal.\n"
     ]
    },
    {
     "name": "stderr",
     "output_type": "stream",
     "text": [
      "\n",
      "single-boyd_tol_1e-05_rtol_1e-07_p_100_N_200_l1_0.1: 100%|██████████| 2/2 [00:00<00:00, 16.15it/s]\u001b[A\n",
      "\n",
      "single-boyd_tol_1e-05_rtol_1e-07_p_100_N_200_l1_0.05:   0%|          | 0/2 [00:00<?, ?it/s]\u001b[A\n",
      "single-boyd_tol_1e-05_rtol_1e-07_p_100_N_200_l1_0.05: 100%|██████████| 2/2 [00:00<00:00, 17.23it/s]\u001b[A\n",
      "\n",
      "single-boyd_tol_1e-06_rtol_1e-05_p_100_N_200_l1_0.5:   0%|          | 0/2 [00:00<?, ?it/s]\u001b[A"
     ]
    },
    {
     "name": "stdout",
     "output_type": "stream",
     "text": [
      "ADMM terminated after 12 iterations with status: optimal.\n",
      "ADMM terminated after 12 iterations with status: optimal.\n",
      "ADMM terminated after 11 iterations with status: optimal.\n",
      "ADMM terminated after 11 iterations with status: optimal.\n"
     ]
    },
    {
     "name": "stderr",
     "output_type": "stream",
     "text": [
      "\n",
      "single-boyd_tol_1e-06_rtol_1e-05_p_100_N_200_l1_0.5:  50%|█████     | 1/2 [00:00<00:00,  6.12it/s]\u001b[A\n",
      "single-boyd_tol_1e-06_rtol_1e-05_p_100_N_200_l1_0.5: 100%|██████████| 2/2 [00:00<00:00,  6.64it/s]\u001b[A\n",
      "\n",
      "single-boyd_tol_1e-06_rtol_1e-05_p_100_N_200_l1_0.1:   0%|          | 0/2 [00:00<?, ?it/s]\u001b[A"
     ]
    },
    {
     "name": "stdout",
     "output_type": "stream",
     "text": [
      "ADMM terminated after 53 iterations with status: optimal.\n",
      "ADMM terminated after 53 iterations with status: optimal.\n"
     ]
    },
    {
     "name": "stderr",
     "output_type": "stream",
     "text": [
      "\n",
      "single-boyd_tol_1e-06_rtol_1e-05_p_100_N_200_l1_0.1:  50%|█████     | 1/2 [00:00<00:00,  8.12it/s]\u001b[A\n",
      "single-boyd_tol_1e-06_rtol_1e-05_p_100_N_200_l1_0.1: 100%|██████████| 2/2 [00:00<00:00,  8.26it/s]\u001b[A\n",
      "\n",
      "single-boyd_tol_1e-06_rtol_1e-05_p_100_N_200_l1_0.05:   0%|          | 0/2 [00:00<?, ?it/s]\u001b[A"
     ]
    },
    {
     "name": "stdout",
     "output_type": "stream",
     "text": [
      "ADMM terminated after 27 iterations with status: optimal.\n",
      "ADMM terminated after 27 iterations with status: optimal.\n"
     ]
    },
    {
     "name": "stderr",
     "output_type": "stream",
     "text": [
      "\n",
      "single-boyd_tol_1e-06_rtol_1e-05_p_100_N_200_l1_0.05: 100%|██████████| 2/2 [00:00<00:00, 13.35it/s]\u001b[A\n",
      "\n",
      "single-boyd_tol_1e-06_rtol_1e-06_p_100_N_200_l1_0.5:   0%|          | 0/2 [00:00<?, ?it/s]\u001b[A"
     ]
    },
    {
     "name": "stdout",
     "output_type": "stream",
     "text": [
      "ADMM terminated after 18 iterations with status: optimal.\n",
      "ADMM terminated after 18 iterations with status: optimal.\n"
     ]
    },
    {
     "name": "stderr",
     "output_type": "stream",
     "text": [
      "\n",
      "single-boyd_tol_1e-06_rtol_1e-06_p_100_N_200_l1_0.5:  50%|█████     | 1/2 [00:00<00:00,  6.49it/s]\u001b[A\n",
      "single-boyd_tol_1e-06_rtol_1e-06_p_100_N_200_l1_0.5: 100%|██████████| 2/2 [00:00<00:00,  6.31it/s]\u001b[A\n",
      "\n",
      "single-boyd_tol_1e-06_rtol_1e-06_p_100_N_200_l1_0.1:   0%|          | 0/2 [00:00<?, ?it/s]\u001b[A"
     ]
    },
    {
     "name": "stdout",
     "output_type": "stream",
     "text": [
      "ADMM terminated after 54 iterations with status: optimal.\n",
      "ADMM terminated after 54 iterations with status: optimal.\n"
     ]
    },
    {
     "name": "stderr",
     "output_type": "stream",
     "text": [
      "\n",
      "single-boyd_tol_1e-06_rtol_1e-06_p_100_N_200_l1_0.1: 100%|██████████| 2/2 [00:00<00:00, 10.60it/s]\u001b[A\n",
      "\n",
      "single-boyd_tol_1e-06_rtol_1e-06_p_100_N_200_l1_0.05:   0%|          | 0/2 [00:00<?, ?it/s]\u001b[A\n",
      "single-boyd_tol_1e-06_rtol_1e-06_p_100_N_200_l1_0.05: 100%|██████████| 2/2 [00:00<00:00, 18.75it/s]\u001b[A\n",
      "\n",
      "single-boyd_tol_1e-06_rtol_1e-07_p_100_N_200_l1_0.5:   0%|          | 0/2 [00:00<?, ?it/s]\u001b[A"
     ]
    },
    {
     "name": "stdout",
     "output_type": "stream",
     "text": [
      "ADMM terminated after 27 iterations with status: optimal.\n",
      "ADMM terminated after 27 iterations with status: optimal.\n",
      "ADMM terminated after 18 iterations with status: optimal.\n",
      "ADMM terminated after 18 iterations with status: optimal.\n"
     ]
    },
    {
     "name": "stderr",
     "output_type": "stream",
     "text": [
      "\n",
      "single-boyd_tol_1e-06_rtol_1e-07_p_100_N_200_l1_0.5:  50%|█████     | 1/2 [00:00<00:00,  6.90it/s]\u001b[A\n",
      "single-boyd_tol_1e-06_rtol_1e-07_p_100_N_200_l1_0.5: 100%|██████████| 2/2 [00:00<00:00,  7.75it/s]\u001b[A\n",
      "\n",
      "single-boyd_tol_1e-06_rtol_1e-07_p_100_N_200_l1_0.1:   0%|          | 0/2 [00:00<?, ?it/s]\u001b[A"
     ]
    },
    {
     "name": "stdout",
     "output_type": "stream",
     "text": [
      "ADMM terminated after 54 iterations with status: optimal.\n",
      "ADMM terminated after 54 iterations with status: optimal.\n",
      "ADMM terminated after 27 iterations with status: optimal.\n"
     ]
    },
    {
     "name": "stderr",
     "output_type": "stream",
     "text": [
      "\n",
      "single-boyd_tol_1e-06_rtol_1e-07_p_100_N_200_l1_0.1: 100%|██████████| 2/2 [00:00<00:00, 15.18it/s]\u001b[A\n",
      "\n",
      "single-boyd_tol_1e-06_rtol_1e-07_p_100_N_200_l1_0.05: 100%|██████████| 2/2 [00:00<00:00, 20.08it/s]\n",
      "\n",
      "single-boyd_tol_1e-07_rtol_1e-05_p_100_N_200_l1_0.5:   0%|          | 0/2 [00:00<?, ?it/s]\u001b[A"
     ]
    },
    {
     "name": "stdout",
     "output_type": "stream",
     "text": [
      "ADMM terminated after 27 iterations with status: optimal.\n",
      "ADMM terminated after 18 iterations with status: optimal.\n",
      "ADMM terminated after 18 iterations with status: optimal.\n"
     ]
    },
    {
     "name": "stderr",
     "output_type": "stream",
     "text": [
      "\n",
      "single-boyd_tol_1e-07_rtol_1e-05_p_100_N_200_l1_0.5:  50%|█████     | 1/2 [00:00<00:00,  4.37it/s]\u001b[A"
     ]
    },
    {
     "name": "stdout",
     "output_type": "stream",
     "text": [
      "ADMM terminated after 95 iterations with status: optimal.\n"
     ]
    },
    {
     "name": "stderr",
     "output_type": "stream",
     "text": [
      "\n",
      "single-boyd_tol_1e-07_rtol_1e-05_p_100_N_200_l1_0.5: 100%|██████████| 2/2 [00:00<00:00,  3.23it/s]\u001b[A\n",
      "\n",
      "single-boyd_tol_1e-07_rtol_1e-05_p_100_N_200_l1_0.1:   0%|          | 0/2 [00:00<?, ?it/s]\u001b[A\n",
      "single-boyd_tol_1e-07_rtol_1e-05_p_100_N_200_l1_0.1:  50%|█████     | 1/2 [00:00<00:00,  6.63it/s]\u001b[A"
     ]
    },
    {
     "name": "stdout",
     "output_type": "stream",
     "text": [
      "ADMM terminated after 95 iterations with status: optimal.\n",
      "ADMM terminated after 47 iterations with status: optimal.\n"
     ]
    },
    {
     "name": "stderr",
     "output_type": "stream",
     "text": [
      "\n",
      "single-boyd_tol_1e-07_rtol_1e-05_p_100_N_200_l1_0.1: 100%|██████████| 2/2 [00:00<00:00,  7.05it/s]\u001b[A\n",
      "\n",
      "single-boyd_tol_1e-07_rtol_1e-05_p_100_N_200_l1_0.05:   0%|          | 0/2 [00:00<?, ?it/s]\u001b[A\n",
      "single-boyd_tol_1e-07_rtol_1e-05_p_100_N_200_l1_0.05: 100%|██████████| 2/2 [00:00<00:00, 14.12it/s]\u001b[A\n",
      "\n",
      "single-boyd_tol_1e-07_rtol_1e-06_p_100_N_200_l1_0.5:   0%|          | 0/2 [00:00<?, ?it/s]\u001b[A"
     ]
    },
    {
     "name": "stdout",
     "output_type": "stream",
     "text": [
      "ADMM terminated after 47 iterations with status: optimal.\n",
      "ADMM terminated after 26 iterations with status: optimal.\n",
      "ADMM terminated after 26 iterations with status: optimal.\n"
     ]
    },
    {
     "name": "stderr",
     "output_type": "stream",
     "text": [
      "\n",
      "single-boyd_tol_1e-07_rtol_1e-06_p_100_N_200_l1_0.5:  50%|█████     | 1/2 [00:00<00:00,  4.42it/s]\u001b[A"
     ]
    },
    {
     "name": "stdout",
     "output_type": "stream",
     "text": [
      "ADMM terminated after 98 iterations with status: optimal.\n"
     ]
    },
    {
     "name": "stderr",
     "output_type": "stream",
     "text": [
      "\n",
      "single-boyd_tol_1e-07_rtol_1e-06_p_100_N_200_l1_0.5: 100%|██████████| 2/2 [00:00<00:00,  4.49it/s]\u001b[A\n",
      "\n",
      "single-boyd_tol_1e-07_rtol_1e-06_p_100_N_200_l1_0.1:   0%|          | 0/2 [00:00<?, ?it/s]\u001b[A\n",
      "single-boyd_tol_1e-07_rtol_1e-06_p_100_N_200_l1_0.1:  50%|█████     | 1/2 [00:00<00:00,  8.38it/s]\u001b[A"
     ]
    },
    {
     "name": "stdout",
     "output_type": "stream",
     "text": [
      "ADMM terminated after 98 iterations with status: optimal.\n",
      "ADMM terminated after 48 iterations with status: optimal.\n"
     ]
    },
    {
     "name": "stderr",
     "output_type": "stream",
     "text": [
      "\n",
      "single-boyd_tol_1e-07_rtol_1e-06_p_100_N_200_l1_0.1: 100%|██████████| 2/2 [00:00<00:00,  8.70it/s]\u001b[A\n",
      "\n",
      "single-boyd_tol_1e-07_rtol_1e-06_p_100_N_200_l1_0.05:   0%|          | 0/2 [00:00<?, ?it/s]\u001b[A\n",
      "single-boyd_tol_1e-07_rtol_1e-06_p_100_N_200_l1_0.05: 100%|██████████| 2/2 [00:00<00:00, 16.17it/s]\u001b[A\n",
      "\n",
      "single-boyd_tol_1e-07_rtol_1e-07_p_100_N_200_l1_0.5:   0%|          | 0/2 [00:00<?, ?it/s]\u001b[A"
     ]
    },
    {
     "name": "stdout",
     "output_type": "stream",
     "text": [
      "ADMM terminated after 48 iterations with status: optimal.\n",
      "ADMM terminated after 26 iterations with status: optimal.\n",
      "ADMM terminated after 26 iterations with status: optimal.\n"
     ]
    },
    {
     "name": "stderr",
     "output_type": "stream",
     "text": [
      "\n",
      "single-boyd_tol_1e-07_rtol_1e-07_p_100_N_200_l1_0.5:  50%|█████     | 1/2 [00:00<00:00,  4.27it/s]\u001b[A"
     ]
    },
    {
     "name": "stdout",
     "output_type": "stream",
     "text": [
      "ADMM terminated after 98 iterations with status: optimal.\n"
     ]
    },
    {
     "name": "stderr",
     "output_type": "stream",
     "text": [
      "\n",
      "single-boyd_tol_1e-07_rtol_1e-07_p_100_N_200_l1_0.5: 100%|██████████| 2/2 [00:00<00:00,  4.39it/s]\u001b[A\n",
      "\n",
      "single-boyd_tol_1e-07_rtol_1e-07_p_100_N_200_l1_0.1:   0%|          | 0/2 [00:00<?, ?it/s]\u001b[A\n",
      "single-boyd_tol_1e-07_rtol_1e-07_p_100_N_200_l1_0.1:  50%|█████     | 1/2 [00:00<00:00,  7.84it/s]\u001b[A"
     ]
    },
    {
     "name": "stdout",
     "output_type": "stream",
     "text": [
      "ADMM terminated after 98 iterations with status: optimal.\n",
      "ADMM terminated after 49 iterations with status: optimal.\n"
     ]
    },
    {
     "name": "stderr",
     "output_type": "stream",
     "text": [
      "\n",
      "single-boyd_tol_1e-07_rtol_1e-07_p_100_N_200_l1_0.1: 100%|██████████| 2/2 [00:00<00:00,  7.75it/s]\u001b[A\n",
      "\n",
      "single-boyd_tol_1e-07_rtol_1e-07_p_100_N_200_l1_0.05:   0%|          | 0/2 [00:00<?, ?it/s]\u001b[A\n",
      "single-boyd_tol_1e-07_rtol_1e-07_p_100_N_200_l1_0.05: 100%|██████████| 2/2 [00:00<00:00, 14.69it/s]\u001b[A\n",
      "\n",
      "block-boyd_tol_1e-05_rtol_1e-05_p_100_N_200_l1_0.5:   0%|          | 0/2 [00:00<?, ?it/s]\u001b[A"
     ]
    },
    {
     "name": "stdout",
     "output_type": "stream",
     "text": [
      "ADMM terminated after 49 iterations with status: optimal.\n",
      "ADMM terminated after 26 iterations with status: optimal.\n",
      "ADMM terminated after 26 iterations with status: optimal.\n",
      "ADMM terminated after 16 iterations with status: optimal.\n",
      "ADMM terminated after 16 iterations with status: optimal.\n",
      "ADMM terminated after 17 iterations with status: optimal.\n",
      "ADMM terminated after 15 iterations with status: optimal.\n",
      "ADMM terminated after 13 iterations with status: optimal.\n",
      "ADMM terminated after 18 iterations with status: optimal.\n",
      "ADMM terminated after 17 iterations with status: optimal.\n",
      "ADMM terminated after 14 iterations with status: optimal.\n",
      "ADMM terminated after 12 iterations with status: optimal.\n",
      "ADMM terminated after 18 iterations with status: optimal.\n",
      "block-boyd_tol_1e-05_rtol_1e-05_p_100_N_200_l1_0.5: 63 connected components.\n",
      "ADMM terminated after 16 iterations with status: optimal.\n",
      "ADMM terminated after 16 iterations with status: optimal.\n",
      "ADMM terminated after 17 iterations with status: optimal.\n",
      "ADMM terminated after 15 iterations with status: optimal.\n",
      "ADMM terminated after 13 iterations with status: optimal.\n",
      "ADMM terminated after 18 iterations with status: optimal.\n",
      "ADMM terminated after 17 iterations with status: optimal.\n",
      "ADMM terminated after 14 iterations with status: optimal.\n",
      "ADMM terminated after 12 iterations with status: optimal."
     ]
    },
    {
     "name": "stderr",
     "output_type": "stream",
     "text": [
      "block-boyd_tol_1e-05_rtol_1e-05_p_100_N_200_l1_0.5: 100%|██████████| 2/2 [00:00<00:00, 31.48it/s]\n",
      "\n",
      "block-boyd_tol_1e-05_rtol_1e-05_p_100_N_200_l1_0.1: 100%|██████████| 2/2 [00:00<00:00, 26.00it/s]\n",
      "\n",
      "block-boyd_tol_1e-05_rtol_1e-05_p_100_N_200_l1_0.05: 100%|██████████| 2/2 [00:00<00:00, 28.41it/s]\n",
      "\n",
      "block-boyd_tol_1e-05_rtol_1e-06_p_100_N_200_l1_0.5:   0%|          | 0/2 [00:00<?, ?it/s]\u001b[A"
     ]
    },
    {
     "name": "stdout",
     "output_type": "stream",
     "text": [
      "\n",
      "ADMM terminated after 18 iterations with status: optimal.\n",
      "block-boyd_tol_1e-05_rtol_1e-05_p_100_N_200_l1_0.5: 63 connected components.\n",
      "ADMM terminated after 12 iterations with status: optimal.\n",
      "block-boyd_tol_1e-05_rtol_1e-05_p_100_N_200_l1_0.1: 1 connected components.\n",
      "ADMM terminated after 12 iterations with status: optimal.\n",
      "block-boyd_tol_1e-05_rtol_1e-05_p_100_N_200_l1_0.1: 1 connected components.\n",
      "ADMM terminated after 11 iterations with status: optimal.\n",
      "block-boyd_tol_1e-05_rtol_1e-05_p_100_N_200_l1_0.05: 1 connected components.\n",
      "ADMM terminated after 11 iterations with status: optimal.\n",
      "block-boyd_tol_1e-05_rtol_1e-05_p_100_N_200_l1_0.05: 1 connected components.\n",
      "ADMM terminated after 16 iterations with status: optimal.\n",
      "ADMM terminated after 16 iterations with status: optimal.\n",
      "ADMM terminated after 17 iterations with status: optimal.\n",
      "ADMM terminated after 15 iterations with status: optimal.\n",
      "ADMM terminated after 13 iterations with status: optimal.\n",
      "ADMM terminated after 18 iterations with status: optimal.\n",
      "ADMM terminated after 17 iterations with status: optimal.\n",
      "ADMM terminated after 14 iterations with status: optimal.\n",
      "ADMM terminated after 12 iterations with status: optimal.\n",
      "ADMM terminated after 18 iterations with status: optimal.\n",
      "block-boyd_tol_1e-05_rtol_1e-06_p_100_N_200_l1_0.5: 63 connected components.\n"
     ]
    },
    {
     "name": "stderr",
     "output_type": "stream",
     "text": [
      "block-boyd_tol_1e-05_rtol_1e-06_p_100_N_200_l1_0.5: 100%|██████████| 2/2 [00:00<00:00, 30.26it/s]\n",
      "\n",
      "block-boyd_tol_1e-05_rtol_1e-06_p_100_N_200_l1_0.1: 100%|██████████| 2/2 [00:00<00:00, 24.90it/s]\n",
      "\n",
      "block-boyd_tol_1e-05_rtol_1e-06_p_100_N_200_l1_0.05: 100%|██████████| 2/2 [00:00<00:00, 28.06it/s]\n",
      "\n",
      "block-boyd_tol_1e-05_rtol_1e-07_p_100_N_200_l1_0.5:   0%|          | 0/2 [00:00<?, ?it/s]\u001b[A"
     ]
    },
    {
     "name": "stdout",
     "output_type": "stream",
     "text": [
      "ADMM terminated after 16 iterations with status: optimal.\n",
      "ADMM terminated after 16 iterations with status: optimal.\n",
      "ADMM terminated after 17 iterations with status: optimal.\n",
      "ADMM terminated after 15 iterations with status: optimal.\n",
      "ADMM terminated after 13 iterations with status: optimal.\n",
      "ADMM terminated after 18 iterations with status: optimal.\n",
      "ADMM terminated after 17 iterations with status: optimal.\n",
      "ADMM terminated after 14 iterations with status: optimal.\n",
      "ADMM terminated after 12 iterations with status: optimal.\n",
      "ADMM terminated after 18 iterations with status: optimal.\n",
      "block-boyd_tol_1e-05_rtol_1e-06_p_100_N_200_l1_0.5: 63 connected components.\n",
      "ADMM terminated after 12 iterations with status: optimal.\n",
      "block-boyd_tol_1e-05_rtol_1e-06_p_100_N_200_l1_0.1: 1 connected components.\n",
      "ADMM terminated after 12 iterations with status: optimal.\n",
      "block-boyd_tol_1e-05_rtol_1e-06_p_100_N_200_l1_0.1: 1 connected components.\n",
      "ADMM terminated after 11 iterations with status: optimal.\n",
      "block-boyd_tol_1e-05_rtol_1e-06_p_100_N_200_l1_0.05: 1 connected components.\n",
      "ADMM terminated after 11 iterations with status: optimal.\n",
      "block-boyd_tol_1e-05_rtol_1e-06_p_100_N_200_l1_0.05: 1 connected components.\n",
      "ADMM terminated after 16 iterations with status: optimal.\n",
      "ADMM terminated after 16 iterations with status: optimal.\n",
      "ADMM terminated after 17 iterations with status: optimal.\n",
      "ADMM terminated after 15 iterations with status: optimal.\n",
      "ADMM terminated after 13 iterations with status: optimal.\n"
     ]
    },
    {
     "name": "stderr",
     "output_type": "stream",
     "text": [
      "block-boyd_tol_1e-05_rtol_1e-07_p_100_N_200_l1_0.5: 100%|██████████| 2/2 [00:00<00:00, 30.01it/s]\n",
      "\n",
      "block-boyd_tol_1e-05_rtol_1e-07_p_100_N_200_l1_0.1: 100%|██████████| 2/2 [00:00<00:00, 25.92it/s]\n",
      "\n",
      "block-boyd_tol_1e-05_rtol_1e-07_p_100_N_200_l1_0.05:   0%|          | 0/2 [00:00<?, ?it/s]\u001b[A"
     ]
    },
    {
     "name": "stdout",
     "output_type": "stream",
     "text": [
      "ADMM terminated after 19 iterations with status: optimal.\n",
      "ADMM terminated after 17 iterations with status: optimal.\n",
      "ADMM terminated after 14 iterations with status: optimal.\n",
      "ADMM terminated after 13 iterations with status: optimal.\n",
      "ADMM terminated after 18 iterations with status: optimal.\n",
      "block-boyd_tol_1e-05_rtol_1e-07_p_100_N_200_l1_0.5: 63 connected components.\n",
      "ADMM terminated after 16 iterations with status: optimal.\n",
      "ADMM terminated after 16 iterations with status: optimal.\n",
      "ADMM terminated after 17 iterations with status: optimal.\n",
      "ADMM terminated after 15 iterations with status: optimal.\n",
      "ADMM terminated after 13 iterations with status: optimal.\n",
      "ADMM terminated after 19 iterations with status: optimal.\n",
      "ADMM terminated after 17 iterations with status: optimal.\n",
      "ADMM terminated after 14 iterations with status: optimal.\n",
      "ADMM terminated after 13 iterations with status: optimal.\n",
      "ADMM terminated after 18 iterations with status: optimal.\n",
      "block-boyd_tol_1e-05_rtol_1e-07_p_100_N_200_l1_0.5: 63 connected components.\n",
      "ADMM terminated after 12 iterations with status: optimal.\n",
      "block-boyd_tol_1e-05_rtol_1e-07_p_100_N_200_l1_0.1: 1 connected components.\n",
      "ADMM terminated after 12 iterations with status: optimal.\n",
      "block-boyd_tol_1e-05_rtol_1e-07_p_100_N_200_l1_0.1: 1 connected components.\n",
      "ADMM terminated after 11 iterations with status: optimal.\n",
      "block-boyd_tol_1e-05_rtol_1e-07_p_100_N_200_l1_0.05: 1 connected components.\n"
     ]
    },
    {
     "name": "stderr",
     "output_type": "stream",
     "text": [
      "\n",
      "block-boyd_tol_1e-05_rtol_1e-07_p_100_N_200_l1_0.05: 100%|██████████| 2/2 [00:00<00:00, 17.35it/s]\u001b[A\n",
      "\n",
      "block-boyd_tol_1e-06_rtol_1e-05_p_100_N_200_l1_0.5: 100%|██████████| 2/2 [00:00<00:00, 26.03it/s]\n",
      "\n",
      "block-boyd_tol_1e-06_rtol_1e-05_p_100_N_200_l1_0.1:   0%|          | 0/2 [00:00<?, ?it/s]\u001b[A"
     ]
    },
    {
     "name": "stdout",
     "output_type": "stream",
     "text": [
      "ADMM terminated after 11 iterations with status: optimal.\n",
      "block-boyd_tol_1e-05_rtol_1e-07_p_100_N_200_l1_0.05: 1 connected components.\n",
      "ADMM terminated after 19 iterations with status: optimal.\n",
      "ADMM terminated after 18 iterations with status: optimal.\n",
      "ADMM terminated after 20 iterations with status: optimal.\n",
      "ADMM terminated after 18 iterations with status: optimal.\n",
      "ADMM terminated after 14 iterations with status: optimal.\n",
      "ADMM terminated after 23 iterations with status: optimal.\n",
      "ADMM terminated after 21 iterations with status: optimal.\n",
      "ADMM terminated after 15 iterations with status: optimal.\n",
      "ADMM terminated after 14 iterations with status: optimal.\n",
      "ADMM terminated after 21 iterations with status: optimal.\n",
      "block-boyd_tol_1e-06_rtol_1e-05_p_100_N_200_l1_0.5: 63 connected components.\n",
      "ADMM terminated after 19 iterations with status: optimal.\n",
      "ADMM terminated after 18 iterations with status: optimal.\n",
      "ADMM terminated after 20 iterations with status: optimal.\n",
      "ADMM terminated after 18 iterations with status: optimal.\n",
      "ADMM terminated after 14 iterations with status: optimal.\n",
      "ADMM terminated after 23 iterations with status: optimal.\n",
      "ADMM terminated after 21 iterations with status: optimal.\n",
      "ADMM terminated after 15 iterations with status: optimal.\n",
      "ADMM terminated after 14 iterations with status: optimal.\n",
      "ADMM terminated after 21 iterations with status: optimal.\n",
      "block-boyd_tol_1e-06_rtol_1e-05_p_100_N_200_l1_0.5: 63 connected components.\n",
      "ADMM terminated after 27 iterations with status: optimal.\n",
      "block-boyd_tol_1e-06_rtol_1e-05_p_100_N_200_l1_0.1: 1 connected components.\n"
     ]
    },
    {
     "name": "stderr",
     "output_type": "stream",
     "text": [
      "\n",
      "block-boyd_tol_1e-06_rtol_1e-05_p_100_N_200_l1_0.1: 100%|██████████| 2/2 [00:00<00:00, 13.53it/s]\u001b[A\n",
      "\n",
      "block-boyd_tol_1e-06_rtol_1e-05_p_100_N_200_l1_0.05: 100%|██████████| 2/2 [00:00<00:00, 21.43it/s]\n",
      "\n",
      "block-boyd_tol_1e-06_rtol_1e-06_p_100_N_200_l1_0.5: 100%|██████████| 2/2 [00:00<00:00, 29.15it/s]\n",
      "\n",
      "block-boyd_tol_1e-06_rtol_1e-06_p_100_N_200_l1_0.1:   0%|          | 0/2 [00:00<?, ?it/s]\u001b[A"
     ]
    },
    {
     "name": "stdout",
     "output_type": "stream",
     "text": [
      "ADMM terminated after 27 iterations with status: optimal.\n",
      "block-boyd_tol_1e-06_rtol_1e-05_p_100_N_200_l1_0.1: 1 connected components.\n",
      "ADMM terminated after 18 iterations with status: optimal.\n",
      "block-boyd_tol_1e-06_rtol_1e-05_p_100_N_200_l1_0.05: 1 connected components.\n",
      "ADMM terminated after 18 iterations with status: optimal.\n",
      "block-boyd_tol_1e-06_rtol_1e-05_p_100_N_200_l1_0.05: 1 connected components.\n",
      "ADMM terminated after 20 iterations with status: optimal.\n",
      "ADMM terminated after 20 iterations with status: optimal.\n",
      "ADMM terminated after 21 iterations with status: optimal.\n",
      "ADMM terminated after 19 iterations with status: optimal.\n",
      "ADMM terminated after 15 iterations with status: optimal.\n",
      "ADMM terminated after 24 iterations with status: optimal.\n",
      "ADMM terminated after 22 iterations with status: optimal.\n",
      "ADMM terminated after 16 iterations with status: optimal.\n",
      "ADMM terminated after 15 iterations with status: optimal.\n",
      "ADMM terminated after 22 iterations with status: optimal.\n",
      "block-boyd_tol_1e-06_rtol_1e-06_p_100_N_200_l1_0.5: 63 connected components.\n",
      "ADMM terminated after 20 iterations with status: optimal.\n",
      "ADMM terminated after 20 iterations with status: optimal.\n",
      "ADMM terminated after 21 iterations with status: optimal.\n",
      "ADMM terminated after 19 iterations with status: optimal.\n",
      "ADMM terminated after 15 iterations with status: optimal.\n",
      "ADMM terminated after 24 iterations with status: optimal.\n",
      "ADMM terminated after 22 iterations with status: optimal.\n",
      "ADMM terminated after 16 iterations with status: optimal.\n",
      "ADMM terminated after 15 iterations with status: optimal.\n",
      "ADMM terminated after 22 iterations with status: optimal.\n",
      "block-boyd_tol_1e-06_rtol_1e-06_p_100_N_200_l1_0.5: 63 connected components.\n"
     ]
    },
    {
     "name": "stderr",
     "output_type": "stream",
     "text": [
      "\n",
      "block-boyd_tol_1e-06_rtol_1e-06_p_100_N_200_l1_0.1: 100%|██████████| 2/2 [00:00<00:00, 11.89it/s]\u001b[A\n",
      "\n",
      "block-boyd_tol_1e-06_rtol_1e-06_p_100_N_200_l1_0.05:   0%|          | 0/2 [00:00<?, ?it/s]\u001b[A"
     ]
    },
    {
     "name": "stdout",
     "output_type": "stream",
     "text": [
      "ADMM terminated after 27 iterations with status: optimal.\n",
      "block-boyd_tol_1e-06_rtol_1e-06_p_100_N_200_l1_0.1: 1 connected components.\n",
      "ADMM terminated after 27 iterations with status: optimal.\n",
      "block-boyd_tol_1e-06_rtol_1e-06_p_100_N_200_l1_0.1: 1 connected components.\n",
      "ADMM terminated after 18 iterations with status: optimal.\n",
      "block-boyd_tol_1e-06_rtol_1e-06_p_100_N_200_l1_0.05: 1 connected components.\n"
     ]
    },
    {
     "name": "stderr",
     "output_type": "stream",
     "text": [
      "\n",
      "block-boyd_tol_1e-06_rtol_1e-06_p_100_N_200_l1_0.05: 100%|██████████| 2/2 [00:00<00:00, 13.47it/s]\u001b[A\n",
      "\n",
      "block-boyd_tol_1e-06_rtol_1e-07_p_100_N_200_l1_0.5: 100%|██████████| 2/2 [00:00<00:00, 27.63it/s]\n",
      "\n",
      "block-boyd_tol_1e-06_rtol_1e-07_p_100_N_200_l1_0.1:   0%|          | 0/2 [00:00<?, ?it/s]\u001b[A"
     ]
    },
    {
     "name": "stdout",
     "output_type": "stream",
     "text": [
      "ADMM terminated after 18 iterations with status: optimal.\n",
      "block-boyd_tol_1e-06_rtol_1e-06_p_100_N_200_l1_0.05: 1 connected components.\n",
      "ADMM terminated after 20 iterations with status: optimal.\n",
      "ADMM terminated after 21 iterations with status: optimal.\n",
      "ADMM terminated after 22 iterations with status: optimal.\n",
      "ADMM terminated after 19 iterations with status: optimal.\n",
      "ADMM terminated after 16 iterations with status: optimal.\n",
      "ADMM terminated after 24 iterations with status: optimal.\n",
      "ADMM terminated after 22 iterations with status: optimal.\n",
      "ADMM terminated after 16 iterations with status: optimal.\n",
      "ADMM terminated after 15 iterations with status: optimal.\n",
      "ADMM terminated after 22 iterations with status: optimal.\n",
      "block-boyd_tol_1e-06_rtol_1e-07_p_100_N_200_l1_0.5: 63 connected components.\n",
      "ADMM terminated after 20 iterations with status: optimal.\n",
      "ADMM terminated after 21 iterations with status: optimal.\n",
      "ADMM terminated after 22 iterations with status: optimal.\n",
      "ADMM terminated after 19 iterations with status: optimal.\n",
      "ADMM terminated after 16 iterations with status: optimal.\n",
      "ADMM terminated after 24 iterations with status: optimal.\n",
      "ADMM terminated after 22 iterations with status: optimal.\n",
      "ADMM terminated after 16 iterations with status: optimal.\n",
      "ADMM terminated after 15 iterations with status: optimal.\n",
      "ADMM terminated after 22 iterations with status: optimal.\n",
      "block-boyd_tol_1e-06_rtol_1e-07_p_100_N_200_l1_0.5: 63 connected components.\n",
      "ADMM terminated after 27 iterations with status: optimal.\n",
      "block-boyd_tol_1e-06_rtol_1e-07_p_100_N_200_l1_0.1: 1 connected components.\n"
     ]
    },
    {
     "name": "stderr",
     "output_type": "stream",
     "text": [
      "\n",
      "block-boyd_tol_1e-06_rtol_1e-07_p_100_N_200_l1_0.1: 100%|██████████| 2/2 [00:00<00:00, 11.45it/s]\u001b[A\n",
      "\n",
      "block-boyd_tol_1e-06_rtol_1e-07_p_100_N_200_l1_0.05:   0%|          | 0/2 [00:00<?, ?it/s]\u001b[A\n",
      "block-boyd_tol_1e-06_rtol_1e-07_p_100_N_200_l1_0.05: 100%|██████████| 2/2 [00:00<00:00, 13.62it/s]\u001b[A\n",
      "\n",
      "block-boyd_tol_1e-07_rtol_1e-05_p_100_N_200_l1_0.5:   0%|          | 0/2 [00:00<?, ?it/s]\u001b[A"
     ]
    },
    {
     "name": "stdout",
     "output_type": "stream",
     "text": [
      "ADMM terminated after 27 iterations with status: optimal.\n",
      "block-boyd_tol_1e-06_rtol_1e-07_p_100_N_200_l1_0.1: 1 connected components.\n",
      "ADMM terminated after 18 iterations with status: optimal.\n",
      "block-boyd_tol_1e-06_rtol_1e-07_p_100_N_200_l1_0.05: 1 connected components.\n",
      "ADMM terminated after 18 iterations with status: optimal.\n",
      "block-boyd_tol_1e-06_rtol_1e-07_p_100_N_200_l1_0.05: 1 connected components.\n",
      "ADMM terminated after 19 iterations with status: optimal.\n",
      "ADMM terminated after 19 iterations with status: optimal.\n",
      "ADMM terminated after 22 iterations with status: optimal.\n",
      "ADMM terminated after 19 iterations with status: optimal.\n",
      "ADMM terminated after 15 iterations with status: optimal.\n",
      "ADMM terminated after 25 iterations with status: optimal.\n",
      "ADMM terminated after 22 iterations with status: optimal.\n",
      "ADMM terminated after 16 iterations with status: optimal.\n",
      "ADMM terminated after 14 iterations with status: optimal.\n",
      "ADMM terminated after 23 iterations with status: optimal.\n",
      "block-boyd_tol_1e-07_rtol_1e-05_p_100_N_200_l1_0.5: 63 connected components.\n"
     ]
    },
    {
     "name": "stderr",
     "output_type": "stream",
     "text": [
      "block-boyd_tol_1e-07_rtol_1e-05_p_100_N_200_l1_0.5: 100%|██████████| 2/2 [00:00<00:00, 26.00it/s]\n",
      "\n",
      "block-boyd_tol_1e-07_rtol_1e-05_p_100_N_200_l1_0.1:   0%|          | 0/2 [00:00<?, ?it/s]\u001b[A"
     ]
    },
    {
     "name": "stdout",
     "output_type": "stream",
     "text": [
      "ADMM terminated after 19 iterations with status: optimal.\n",
      "ADMM terminated after 19 iterations with status: optimal.\n",
      "ADMM terminated after 22 iterations with status: optimal.\n",
      "ADMM terminated after 19 iterations with status: optimal.\n",
      "ADMM terminated after 15 iterations with status: optimal.\n",
      "ADMM terminated after 25 iterations with status: optimal.\n",
      "ADMM terminated after 22 iterations with status: optimal.\n",
      "ADMM terminated after 16 iterations with status: optimal.\n",
      "ADMM terminated after 14 iterations with status: optimal.\n",
      "ADMM terminated after 23 iterations with status: optimal.\n",
      "block-boyd_tol_1e-07_rtol_1e-05_p_100_N_200_l1_0.5: 63 connected components.\n"
     ]
    },
    {
     "name": "stderr",
     "output_type": "stream",
     "text": [
      "\n",
      "block-boyd_tol_1e-07_rtol_1e-05_p_100_N_200_l1_0.1:  50%|█████     | 1/2 [00:00<00:00,  5.02it/s]\u001b[A\n",
      "block-boyd_tol_1e-07_rtol_1e-05_p_100_N_200_l1_0.1: 100%|██████████| 2/2 [00:00<00:00,  6.08it/s]\u001b[A\n",
      "\n",
      "block-boyd_tol_1e-07_rtol_1e-05_p_100_N_200_l1_0.05:   0%|          | 0/2 [00:00<?, ?it/s]\u001b[A"
     ]
    },
    {
     "name": "stdout",
     "output_type": "stream",
     "text": [
      "ADMM terminated after 47 iterations with status: optimal.\n",
      "block-boyd_tol_1e-07_rtol_1e-05_p_100_N_200_l1_0.1: 1 connected components.\n",
      "ADMM terminated after 47 iterations with status: optimal.\n",
      "block-boyd_tol_1e-07_rtol_1e-05_p_100_N_200_l1_0.1: 1 connected components.\n"
     ]
    },
    {
     "name": "stderr",
     "output_type": "stream",
     "text": [
      "\n",
      "block-boyd_tol_1e-07_rtol_1e-05_p_100_N_200_l1_0.05: 100%|██████████| 2/2 [00:00<00:00,  9.59it/s]\u001b[A\n",
      "\n",
      "block-boyd_tol_1e-07_rtol_1e-06_p_100_N_200_l1_0.5: 100%|██████████| 2/2 [00:00<00:00, 24.98it/s]\n",
      "\n",
      "block-boyd_tol_1e-07_rtol_1e-06_p_100_N_200_l1_0.1:   0%|          | 0/2 [00:00<?, ?it/s]\u001b[A"
     ]
    },
    {
     "name": "stdout",
     "output_type": "stream",
     "text": [
      "ADMM terminated after 26 iterations with status: optimal.\n",
      "block-boyd_tol_1e-07_rtol_1e-05_p_100_N_200_l1_0.05: 1 connected components.\n",
      "ADMM terminated after 26 iterations with status: optimal.\n",
      "block-boyd_tol_1e-07_rtol_1e-05_p_100_N_200_l1_0.05: 1 connected components.\n",
      "ADMM terminated after 23 iterations with status: optimal.\n",
      "ADMM terminated after 23 iterations with status: optimal.\n",
      "ADMM terminated after 25 iterations with status: optimal.\n",
      "ADMM terminated after 22 iterations with status: optimal.\n",
      "ADMM terminated after 17 iterations with status: optimal.\n",
      "ADMM terminated after 28 iterations with status: optimal.\n",
      "ADMM terminated after 26 iterations with status: optimal.\n",
      "ADMM terminated after 18 iterations with status: optimal.\n",
      "ADMM terminated after 17 iterations with status: optimal.\n",
      "ADMM terminated after 26 iterations with status: optimal.\n",
      "block-boyd_tol_1e-07_rtol_1e-06_p_100_N_200_l1_0.5: 63 connected components.\n",
      "ADMM terminated after 23 iterations with status: optimal.\n",
      "ADMM terminated after 23 iterations with status: optimal.\n",
      "ADMM terminated after 25 iterations with status: optimal.\n",
      "ADMM terminated after 22 iterations with status: optimal.\n",
      "ADMM terminated after 17 iterations with status: optimal.\n",
      "ADMM terminated after 28 iterations with status: optimal.\n",
      "ADMM terminated after 26 iterations with status: optimal.\n",
      "ADMM terminated after 18 iterations with status: optimal.\n",
      "ADMM terminated after 17 iterations with status: optimal.\n",
      "ADMM terminated after 26 iterations with status: optimal.\n",
      "block-boyd_tol_1e-07_rtol_1e-06_p_100_N_200_l1_0.5: 63 connected components.\n"
     ]
    },
    {
     "name": "stderr",
     "output_type": "stream",
     "text": [
      "\n",
      "block-boyd_tol_1e-07_rtol_1e-06_p_100_N_200_l1_0.1:  50%|█████     | 1/2 [00:00<00:00,  5.39it/s]\u001b[A\n",
      "block-boyd_tol_1e-07_rtol_1e-06_p_100_N_200_l1_0.1: 100%|██████████| 2/2 [00:00<00:00,  6.18it/s]\u001b[A\n",
      "\n",
      "block-boyd_tol_1e-07_rtol_1e-06_p_100_N_200_l1_0.05:   0%|          | 0/2 [00:00<?, ?it/s]\u001b[A"
     ]
    },
    {
     "name": "stdout",
     "output_type": "stream",
     "text": [
      "ADMM terminated after 48 iterations with status: optimal.\n",
      "block-boyd_tol_1e-07_rtol_1e-06_p_100_N_200_l1_0.1: 1 connected components.\n",
      "ADMM terminated after 48 iterations with status: optimal.\n",
      "block-boyd_tol_1e-07_rtol_1e-06_p_100_N_200_l1_0.1: 1 connected components.\n"
     ]
    },
    {
     "name": "stderr",
     "output_type": "stream",
     "text": [
      "\n",
      "block-boyd_tol_1e-07_rtol_1e-06_p_100_N_200_l1_0.05: 100%|██████████| 2/2 [00:00<00:00, 10.75it/s]\u001b[A\n",
      "\n",
      "block-boyd_tol_1e-07_rtol_1e-07_p_100_N_200_l1_0.5: 100%|██████████| 2/2 [00:00<00:00, 25.54it/s]\n",
      "\n",
      "block-boyd_tol_1e-07_rtol_1e-07_p_100_N_200_l1_0.1:   0%|          | 0/2 [00:00<?, ?it/s]\u001b[A"
     ]
    },
    {
     "name": "stdout",
     "output_type": "stream",
     "text": [
      "ADMM terminated after 26 iterations with status: optimal.\n",
      "block-boyd_tol_1e-07_rtol_1e-06_p_100_N_200_l1_0.05: 1 connected components.\n",
      "ADMM terminated after 26 iterations with status: optimal.\n",
      "block-boyd_tol_1e-07_rtol_1e-06_p_100_N_200_l1_0.05: 1 connected components.\n",
      "ADMM terminated after 24 iterations with status: optimal.\n",
      "ADMM terminated after 24 iterations with status: optimal.\n",
      "ADMM terminated after 26 iterations with status: optimal.\n",
      "ADMM terminated after 23 iterations with status: optimal.\n",
      "ADMM terminated after 18 iterations with status: optimal.\n",
      "ADMM terminated after 29 iterations with status: optimal.\n",
      "ADMM terminated after 27 iterations with status: optimal.\n",
      "ADMM terminated after 19 iterations with status: optimal.\n",
      "ADMM terminated after 18 iterations with status: optimal.\n",
      "ADMM terminated after 27 iterations with status: optimal.\n",
      "block-boyd_tol_1e-07_rtol_1e-07_p_100_N_200_l1_0.5: 63 connected components.\n",
      "ADMM terminated after 24 iterations with status: optimal.\n",
      "ADMM terminated after 24 iterations with status: optimal.\n",
      "ADMM terminated after 26 iterations with status: optimal.\n",
      "ADMM terminated after 23 iterations with status: optimal.\n",
      "ADMM terminated after 18 iterations with status: optimal.\n",
      "ADMM terminated after 29 iterations with status: optimal.\n",
      "ADMM terminated after 27 iterations with status: optimal.\n",
      "ADMM terminated after 19 iterations with status: optimal.\n",
      "ADMM terminated after 18 iterations with status: optimal.\n",
      "ADMM terminated after 27 iterations with status: optimal.\n",
      "block-boyd_tol_1e-07_rtol_1e-07_p_100_N_200_l1_0.5: 63 connected components.\n"
     ]
    },
    {
     "name": "stderr",
     "output_type": "stream",
     "text": [
      "\n",
      "block-boyd_tol_1e-07_rtol_1e-07_p_100_N_200_l1_0.1:  50%|█████     | 1/2 [00:00<00:00,  5.21it/s]\u001b[A\n",
      "block-boyd_tol_1e-07_rtol_1e-07_p_100_N_200_l1_0.1: 100%|██████████| 2/2 [00:00<00:00,  6.18it/s]\u001b[A\n",
      "\n",
      "block-boyd_tol_1e-07_rtol_1e-07_p_100_N_200_l1_0.05:   0%|          | 0/2 [00:00<?, ?it/s]\u001b[A"
     ]
    },
    {
     "name": "stdout",
     "output_type": "stream",
     "text": [
      "ADMM terminated after 49 iterations with status: optimal.\n",
      "block-boyd_tol_1e-07_rtol_1e-07_p_100_N_200_l1_0.1: 1 connected components.\n",
      "ADMM terminated after 49 iterations with status: optimal.\n",
      "block-boyd_tol_1e-07_rtol_1e-07_p_100_N_200_l1_0.1: 1 connected components.\n"
     ]
    },
    {
     "name": "stderr",
     "output_type": "stream",
     "text": [
      "\n",
      "block-boyd_tol_1e-07_rtol_1e-07_p_100_N_200_l1_0.05:  50%|█████     | 1/2 [00:00<00:00,  8.51it/s]\u001b[A\n",
      "block-boyd_tol_1e-07_rtol_1e-07_p_100_N_200_l1_0.05: 100%|██████████| 2/2 [00:00<00:00,  8.92it/s]\u001b[A"
     ]
    },
    {
     "name": "stdout",
     "output_type": "stream",
     "text": [
      "ADMM terminated after 26 iterations with status: optimal.\n",
      "block-boyd_tol_1e-07_rtol_1e-07_p_100_N_200_l1_0.05: 1 connected components.\n",
      "ADMM terminated after 26 iterations with status: optimal.\n",
      "block-boyd_tol_1e-07_rtol_1e-07_p_100_N_200_l1_0.05: 1 connected components.\n",
      "######## NUMBA WARMUP ###########\n",
      "ADMM terminated after 5 iterations with status: max iterations reached.\n",
      "ADMM terminated after 5 iterations with status: max iterations reached.\n"
     ]
    },
    {
     "name": "stderr",
     "output_type": "stream",
     "text": [
      "\n",
      "\n",
      "single-boyd_tol_1e-05_rtol_1e-05_p_200_N_400_l1_0.5:   0%|          | 0/2 [00:00<?, ?it/s]\u001b[A\n",
      "single-boyd_tol_1e-05_rtol_1e-05_p_200_N_400_l1_0.5: 100%|██████████| 2/2 [00:00<00:00, 10.54it/s]\u001b[A\n",
      "\n",
      "single-boyd_tol_1e-05_rtol_1e-05_p_200_N_400_l1_0.1:   0%|          | 0/2 [00:00<?, ?it/s]\u001b[A"
     ]
    },
    {
     "name": "stdout",
     "output_type": "stream",
     "text": [
      "##################################\n",
      "ADMM terminated after 8 iterations with status: optimal.\n",
      "ADMM terminated after 8 iterations with status: optimal.\n"
     ]
    },
    {
     "name": "stderr",
     "output_type": "stream",
     "text": [
      "\n",
      "single-boyd_tol_1e-05_rtol_1e-05_p_200_N_400_l1_0.1: 100%|██████████| 2/2 [00:00<00:00, 14.86it/s]\u001b[A\n",
      "\n",
      "single-boyd_tol_1e-05_rtol_1e-05_p_200_N_400_l1_0.05:   0%|          | 0/2 [00:00<?, ?it/s]\u001b[A\n",
      "single-boyd_tol_1e-05_rtol_1e-05_p_200_N_400_l1_0.05:  50%|█████     | 1/2 [00:00<00:00,  8.73it/s]\u001b[A"
     ]
    },
    {
     "name": "stdout",
     "output_type": "stream",
     "text": [
      "ADMM terminated after 7 iterations with status: optimal.\n",
      "ADMM terminated after 7 iterations with status: optimal.\n",
      "ADMM terminated after 9 iterations with status: optimal.\n"
     ]
    },
    {
     "name": "stderr",
     "output_type": "stream",
     "text": [
      "single-boyd_tol_1e-05_rtol_1e-05_p_200_N_400_l1_0.05: 100%|██████████| 2/2 [00:00<00:00,  9.92it/s]\n",
      "\n",
      "single-boyd_tol_1e-05_rtol_1e-06_p_200_N_400_l1_0.5:   0%|          | 0/2 [00:00<?, ?it/s]\u001b[A\n",
      "single-boyd_tol_1e-05_rtol_1e-06_p_200_N_400_l1_0.5: 100%|██████████| 2/2 [00:00<00:00, 12.27it/s]\u001b[A\n",
      "\n",
      "single-boyd_tol_1e-05_rtol_1e-06_p_200_N_400_l1_0.1:   0%|          | 0/2 [00:00<?, ?it/s]\u001b[A"
     ]
    },
    {
     "name": "stdout",
     "output_type": "stream",
     "text": [
      "ADMM terminated after 9 iterations with status: optimal.\n",
      "ADMM terminated after 8 iterations with status: optimal.\n",
      "ADMM terminated after 8 iterations with status: optimal.\n"
     ]
    },
    {
     "name": "stderr",
     "output_type": "stream",
     "text": [
      "\n",
      "single-boyd_tol_1e-05_rtol_1e-06_p_200_N_400_l1_0.1: 100%|██████████| 2/2 [00:00<00:00, 14.40it/s]\u001b[A\n",
      "\n",
      "single-boyd_tol_1e-05_rtol_1e-06_p_200_N_400_l1_0.05:   0%|          | 0/2 [00:00<?, ?it/s]\u001b[A"
     ]
    },
    {
     "name": "stdout",
     "output_type": "stream",
     "text": [
      "ADMM terminated after 7 iterations with status: optimal.\n",
      "ADMM terminated after 7 iterations with status: optimal.\n",
      "ADMM terminated after 9 iterations with status: optimal.\n"
     ]
    },
    {
     "name": "stderr",
     "output_type": "stream",
     "text": [
      "\n",
      "single-boyd_tol_1e-05_rtol_1e-06_p_200_N_400_l1_0.05: 100%|██████████| 2/2 [00:00<00:00, 10.62it/s]\u001b[A\n",
      "\n",
      "single-boyd_tol_1e-05_rtol_1e-07_p_200_N_400_l1_0.5:   0%|          | 0/2 [00:00<?, ?it/s]\u001b[A\n",
      "single-boyd_tol_1e-05_rtol_1e-07_p_200_N_400_l1_0.5: 100%|██████████| 2/2 [00:00<00:00, 14.55it/s]\u001b[A\n",
      "\n",
      "single-boyd_tol_1e-05_rtol_1e-07_p_200_N_400_l1_0.1:   0%|          | 0/2 [00:00<?, ?it/s]\u001b[A"
     ]
    },
    {
     "name": "stdout",
     "output_type": "stream",
     "text": [
      "ADMM terminated after 9 iterations with status: optimal.\n",
      "ADMM terminated after 8 iterations with status: optimal.\n",
      "ADMM terminated after 8 iterations with status: optimal.\n"
     ]
    },
    {
     "name": "stderr",
     "output_type": "stream",
     "text": [
      "\n",
      "single-boyd_tol_1e-05_rtol_1e-07_p_200_N_400_l1_0.1: 100%|██████████| 2/2 [00:00<00:00, 16.03it/s]\u001b[A\n",
      "\n",
      "single-boyd_tol_1e-05_rtol_1e-07_p_200_N_400_l1_0.05:   0%|          | 0/2 [00:00<?, ?it/s]\u001b[A"
     ]
    },
    {
     "name": "stdout",
     "output_type": "stream",
     "text": [
      "ADMM terminated after 7 iterations with status: optimal.\n",
      "ADMM terminated after 7 iterations with status: optimal.\n",
      "ADMM terminated after 9 iterations with status: optimal.\n"
     ]
    },
    {
     "name": "stderr",
     "output_type": "stream",
     "text": [
      "\n",
      "single-boyd_tol_1e-05_rtol_1e-07_p_200_N_400_l1_0.05: 100%|██████████| 2/2 [00:00<00:00, 11.53it/s]\u001b[A\n",
      "\n",
      "single-boyd_tol_1e-06_rtol_1e-05_p_200_N_400_l1_0.5:   0%|          | 0/2 [00:00<?, ?it/s]\u001b[A"
     ]
    },
    {
     "name": "stdout",
     "output_type": "stream",
     "text": [
      "ADMM terminated after 9 iterations with status: optimal.\n"
     ]
    },
    {
     "name": "stderr",
     "output_type": "stream",
     "text": [
      "\n",
      "single-boyd_tol_1e-06_rtol_1e-05_p_200_N_400_l1_0.5:  50%|█████     | 1/2 [00:00<00:00,  4.36it/s]\u001b[A\n",
      "single-boyd_tol_1e-06_rtol_1e-05_p_200_N_400_l1_0.5: 100%|██████████| 2/2 [00:00<00:00,  5.36it/s]\u001b[A\n",
      "\n",
      "single-boyd_tol_1e-06_rtol_1e-05_p_200_N_400_l1_0.1:   0%|          | 0/2 [00:00<?, ?it/s]\u001b[A"
     ]
    },
    {
     "name": "stdout",
     "output_type": "stream",
     "text": [
      "ADMM terminated after 21 iterations with status: optimal.\n",
      "ADMM terminated after 21 iterations with status: optimal.\n"
     ]
    },
    {
     "name": "stderr",
     "output_type": "stream",
     "text": [
      "\n",
      "single-boyd_tol_1e-06_rtol_1e-05_p_200_N_400_l1_0.1:  50%|█████     | 1/2 [00:00<00:00,  4.70it/s]\u001b[A\n",
      "single-boyd_tol_1e-06_rtol_1e-05_p_200_N_400_l1_0.1: 100%|██████████| 2/2 [00:00<00:00,  5.55it/s]\u001b[A\n",
      "\n",
      "single-boyd_tol_1e-06_rtol_1e-05_p_200_N_400_l1_0.05:   0%|          | 0/2 [00:00<?, ?it/s]\u001b[A"
     ]
    },
    {
     "name": "stdout",
     "output_type": "stream",
     "text": [
      "ADMM terminated after 18 iterations with status: optimal.\n",
      "ADMM terminated after 18 iterations with status: optimal.\n"
     ]
    },
    {
     "name": "stderr",
     "output_type": "stream",
     "text": [
      "\n",
      "single-boyd_tol_1e-06_rtol_1e-05_p_200_N_400_l1_0.05:  50%|█████     | 1/2 [00:00<00:00,  5.45it/s]\u001b[A\n",
      "single-boyd_tol_1e-06_rtol_1e-05_p_200_N_400_l1_0.05: 100%|██████████| 2/2 [00:00<00:00,  5.81it/s]\u001b[A\n",
      "\n",
      "single-boyd_tol_1e-06_rtol_1e-06_p_200_N_400_l1_0.5:   0%|          | 0/2 [00:00<?, ?it/s]\u001b[A"
     ]
    },
    {
     "name": "stdout",
     "output_type": "stream",
     "text": [
      "ADMM terminated after 17 iterations with status: optimal.\n",
      "ADMM terminated after 17 iterations with status: optimal.\n"
     ]
    },
    {
     "name": "stderr",
     "output_type": "stream",
     "text": [
      "\n",
      "single-boyd_tol_1e-06_rtol_1e-06_p_200_N_400_l1_0.5:  50%|█████     | 1/2 [00:00<00:00,  5.61it/s]\u001b[A"
     ]
    },
    {
     "name": "stdout",
     "output_type": "stream",
     "text": [
      "ADMM terminated after 21 iterations with status: optimal.\n"
     ]
    },
    {
     "name": "stderr",
     "output_type": "stream",
     "text": [
      "\n",
      "single-boyd_tol_1e-06_rtol_1e-06_p_200_N_400_l1_0.5: 100%|██████████| 2/2 [00:00<00:00,  4.95it/s]\u001b[A\n",
      "\n",
      "single-boyd_tol_1e-06_rtol_1e-06_p_200_N_400_l1_0.1:   0%|          | 0/2 [00:00<?, ?it/s]\u001b[A\n",
      "single-boyd_tol_1e-06_rtol_1e-06_p_200_N_400_l1_0.1:  50%|█████     | 1/2 [00:00<00:00,  7.25it/s]\u001b[A"
     ]
    },
    {
     "name": "stdout",
     "output_type": "stream",
     "text": [
      "ADMM terminated after 21 iterations with status: optimal.\n",
      "ADMM terminated after 18 iterations with status: optimal.\n"
     ]
    },
    {
     "name": "stderr",
     "output_type": "stream",
     "text": [
      "\n",
      "single-boyd_tol_1e-06_rtol_1e-06_p_200_N_400_l1_0.1: 100%|██████████| 2/2 [00:00<00:00,  6.23it/s]\u001b[A\n",
      "\n",
      "single-boyd_tol_1e-06_rtol_1e-06_p_200_N_400_l1_0.05:   0%|          | 0/2 [00:00<?, ?it/s]\u001b[A\n",
      "single-boyd_tol_1e-06_rtol_1e-06_p_200_N_400_l1_0.05:  50%|█████     | 1/2 [00:00<00:00,  8.94it/s]\u001b[A"
     ]
    },
    {
     "name": "stdout",
     "output_type": "stream",
     "text": [
      "ADMM terminated after 18 iterations with status: optimal.\n",
      "ADMM terminated after 17 iterations with status: optimal.\n"
     ]
    },
    {
     "name": "stderr",
     "output_type": "stream",
     "text": [
      "\n",
      "single-boyd_tol_1e-06_rtol_1e-06_p_200_N_400_l1_0.05: 100%|██████████| 2/2 [00:00<00:00,  7.94it/s]\u001b[A\n",
      "\n",
      "single-boyd_tol_1e-06_rtol_1e-07_p_200_N_400_l1_0.5:   0%|          | 0/2 [00:00<?, ?it/s]\u001b[A\n",
      "single-boyd_tol_1e-06_rtol_1e-07_p_200_N_400_l1_0.5:  50%|█████     | 1/2 [00:00<00:00,  6.92it/s]\u001b[A"
     ]
    },
    {
     "name": "stdout",
     "output_type": "stream",
     "text": [
      "ADMM terminated after 17 iterations with status: optimal.\n",
      "ADMM terminated after 21 iterations with status: optimal.\n"
     ]
    },
    {
     "name": "stderr",
     "output_type": "stream",
     "text": [
      "\n",
      "single-boyd_tol_1e-06_rtol_1e-07_p_200_N_400_l1_0.5: 100%|██████████| 2/2 [00:00<00:00,  6.40it/s]\u001b[A\n",
      "\n",
      "single-boyd_tol_1e-06_rtol_1e-07_p_200_N_400_l1_0.1:   0%|          | 0/2 [00:00<?, ?it/s]\u001b[A\n",
      "single-boyd_tol_1e-06_rtol_1e-07_p_200_N_400_l1_0.1:  50%|█████     | 1/2 [00:00<00:00,  5.85it/s]\u001b[A"
     ]
    },
    {
     "name": "stdout",
     "output_type": "stream",
     "text": [
      "ADMM terminated after 21 iterations with status: optimal.\n",
      "ADMM terminated after 18 iterations with status: optimal.\n"
     ]
    },
    {
     "name": "stderr",
     "output_type": "stream",
     "text": [
      "\n",
      "single-boyd_tol_1e-06_rtol_1e-07_p_200_N_400_l1_0.1: 100%|██████████| 2/2 [00:00<00:00,  6.48it/s]\u001b[A\n",
      "\n",
      "single-boyd_tol_1e-06_rtol_1e-07_p_200_N_400_l1_0.05:   0%|          | 0/2 [00:00<?, ?it/s]\u001b[A"
     ]
    },
    {
     "name": "stdout",
     "output_type": "stream",
     "text": [
      "ADMM terminated after 18 iterations with status: optimal.\n",
      "ADMM terminated after 17 iterations with status: optimal.\n"
     ]
    },
    {
     "name": "stderr",
     "output_type": "stream",
     "text": [
      "\n",
      "single-boyd_tol_1e-06_rtol_1e-07_p_200_N_400_l1_0.05:  50%|█████     | 1/2 [00:00<00:00,  5.02it/s]\u001b[A\n",
      "single-boyd_tol_1e-06_rtol_1e-07_p_200_N_400_l1_0.05: 100%|██████████| 2/2 [00:00<00:00,  4.19it/s]\u001b[A\n",
      "\n",
      "single-boyd_tol_1e-07_rtol_1e-05_p_200_N_400_l1_0.5:   0%|          | 0/2 [00:00<?, ?it/s]\u001b[A"
     ]
    },
    {
     "name": "stdout",
     "output_type": "stream",
     "text": [
      "ADMM terminated after 17 iterations with status: optimal.\n"
     ]
    },
    {
     "name": "stderr",
     "output_type": "stream",
     "text": [
      "\n",
      "single-boyd_tol_1e-07_rtol_1e-05_p_200_N_400_l1_0.5:  50%|█████     | 1/2 [00:00<00:00,  2.08it/s]\u001b[A"
     ]
    },
    {
     "name": "stdout",
     "output_type": "stream",
     "text": [
      "ADMM terminated after 40 iterations with status: optimal.\n"
     ]
    },
    {
     "name": "stderr",
     "output_type": "stream",
     "text": [
      "\n",
      "single-boyd_tol_1e-07_rtol_1e-05_p_200_N_400_l1_0.5: 100%|██████████| 2/2 [00:00<00:00,  2.27it/s]\u001b[A\n",
      "\n",
      "single-boyd_tol_1e-07_rtol_1e-05_p_200_N_400_l1_0.1:   0%|          | 0/2 [00:00<?, ?it/s]\u001b[A"
     ]
    },
    {
     "name": "stdout",
     "output_type": "stream",
     "text": [
      "ADMM terminated after 40 iterations with status: optimal.\n"
     ]
    },
    {
     "name": "stderr",
     "output_type": "stream",
     "text": [
      "\n",
      "single-boyd_tol_1e-07_rtol_1e-05_p_200_N_400_l1_0.1:  50%|█████     | 1/2 [00:00<00:00,  3.64it/s]\u001b[A"
     ]
    },
    {
     "name": "stdout",
     "output_type": "stream",
     "text": [
      "ADMM terminated after 36 iterations with status: optimal.\n"
     ]
    },
    {
     "name": "stderr",
     "output_type": "stream",
     "text": [
      "\n",
      "single-boyd_tol_1e-07_rtol_1e-05_p_200_N_400_l1_0.1: 100%|██████████| 2/2 [00:00<00:00,  3.61it/s]\u001b[A\n",
      "\n",
      "single-boyd_tol_1e-07_rtol_1e-05_p_200_N_400_l1_0.05:   0%|          | 0/2 [00:00<?, ?it/s]\u001b[A"
     ]
    },
    {
     "name": "stdout",
     "output_type": "stream",
     "text": [
      "ADMM terminated after 36 iterations with status: optimal.\n"
     ]
    },
    {
     "name": "stderr",
     "output_type": "stream",
     "text": [
      "\n",
      "single-boyd_tol_1e-07_rtol_1e-05_p_200_N_400_l1_0.05:  50%|█████     | 1/2 [00:00<00:00,  5.00it/s]\u001b[A\n",
      "single-boyd_tol_1e-07_rtol_1e-05_p_200_N_400_l1_0.05: 100%|██████████| 2/2 [00:00<00:00,  5.72it/s]\u001b[A\n",
      "\n",
      "single-boyd_tol_1e-07_rtol_1e-06_p_200_N_400_l1_0.5:   0%|          | 0/2 [00:00<?, ?it/s]\u001b[A"
     ]
    },
    {
     "name": "stdout",
     "output_type": "stream",
     "text": [
      "ADMM terminated after 25 iterations with status: optimal.\n",
      "ADMM terminated after 25 iterations with status: optimal.\n"
     ]
    },
    {
     "name": "stderr",
     "output_type": "stream",
     "text": [
      "\n",
      "single-boyd_tol_1e-07_rtol_1e-06_p_200_N_400_l1_0.5:  50%|█████     | 1/2 [00:00<00:00,  4.00it/s]\u001b[A"
     ]
    },
    {
     "name": "stdout",
     "output_type": "stream",
     "text": [
      "ADMM terminated after 40 iterations with status: optimal.\n"
     ]
    },
    {
     "name": "stderr",
     "output_type": "stream",
     "text": [
      "\n",
      "single-boyd_tol_1e-07_rtol_1e-06_p_200_N_400_l1_0.5: 100%|██████████| 2/2 [00:00<00:00,  3.64it/s]\u001b[A\n",
      "\n",
      "single-boyd_tol_1e-07_rtol_1e-06_p_200_N_400_l1_0.1:   0%|          | 0/2 [00:00<?, ?it/s]\u001b[A"
     ]
    },
    {
     "name": "stdout",
     "output_type": "stream",
     "text": [
      "ADMM terminated after 40 iterations with status: optimal.\n"
     ]
    },
    {
     "name": "stderr",
     "output_type": "stream",
     "text": [
      "\n",
      "single-boyd_tol_1e-07_rtol_1e-06_p_200_N_400_l1_0.1:  50%|█████     | 1/2 [00:00<00:00,  3.75it/s]\u001b[A"
     ]
    },
    {
     "name": "stdout",
     "output_type": "stream",
     "text": [
      "ADMM terminated after 37 iterations with status: optimal.\n"
     ]
    },
    {
     "name": "stderr",
     "output_type": "stream",
     "text": [
      "\n",
      "single-boyd_tol_1e-07_rtol_1e-06_p_200_N_400_l1_0.1: 100%|██████████| 2/2 [00:00<00:00,  3.96it/s]\u001b[A\n",
      "\n",
      "single-boyd_tol_1e-07_rtol_1e-06_p_200_N_400_l1_0.05:   0%|          | 0/2 [00:00<?, ?it/s]\u001b[A"
     ]
    },
    {
     "name": "stdout",
     "output_type": "stream",
     "text": [
      "ADMM terminated after 37 iterations with status: optimal.\n"
     ]
    },
    {
     "name": "stderr",
     "output_type": "stream",
     "text": [
      "\n",
      "single-boyd_tol_1e-07_rtol_1e-06_p_200_N_400_l1_0.05:  50%|█████     | 1/2 [00:00<00:00,  4.36it/s]\u001b[A\n",
      "single-boyd_tol_1e-07_rtol_1e-06_p_200_N_400_l1_0.05: 100%|██████████| 2/2 [00:00<00:00,  4.87it/s]\u001b[A\n",
      "\n",
      "single-boyd_tol_1e-07_rtol_1e-07_p_200_N_400_l1_0.5:   0%|          | 0/2 [00:00<?, ?it/s]\u001b[A"
     ]
    },
    {
     "name": "stdout",
     "output_type": "stream",
     "text": [
      "ADMM terminated after 25 iterations with status: optimal.\n",
      "ADMM terminated after 25 iterations with status: optimal.\n"
     ]
    },
    {
     "name": "stderr",
     "output_type": "stream",
     "text": [
      "\n",
      "single-boyd_tol_1e-07_rtol_1e-07_p_200_N_400_l1_0.5:  50%|█████     | 1/2 [00:00<00:00,  3.19it/s]\u001b[A"
     ]
    },
    {
     "name": "stdout",
     "output_type": "stream",
     "text": [
      "ADMM terminated after 40 iterations with status: optimal.\n"
     ]
    },
    {
     "name": "stderr",
     "output_type": "stream",
     "text": [
      "\n",
      "single-boyd_tol_1e-07_rtol_1e-07_p_200_N_400_l1_0.5: 100%|██████████| 2/2 [00:00<00:00,  3.19it/s]\u001b[A\n",
      "\n",
      "single-boyd_tol_1e-07_rtol_1e-07_p_200_N_400_l1_0.1:   0%|          | 0/2 [00:00<?, ?it/s]\u001b[A"
     ]
    },
    {
     "name": "stdout",
     "output_type": "stream",
     "text": [
      "ADMM terminated after 40 iterations with status: optimal.\n"
     ]
    },
    {
     "name": "stderr",
     "output_type": "stream",
     "text": [
      "\n",
      "single-boyd_tol_1e-07_rtol_1e-07_p_200_N_400_l1_0.1:  50%|█████     | 1/2 [00:00<00:00,  4.13it/s]\u001b[A"
     ]
    },
    {
     "name": "stdout",
     "output_type": "stream",
     "text": [
      "ADMM terminated after 37 iterations with status: optimal.\n"
     ]
    },
    {
     "name": "stderr",
     "output_type": "stream",
     "text": [
      "\n",
      "single-boyd_tol_1e-07_rtol_1e-07_p_200_N_400_l1_0.1: 100%|██████████| 2/2 [00:00<00:00,  3.73it/s]\u001b[A\n",
      "\n",
      "single-boyd_tol_1e-07_rtol_1e-07_p_200_N_400_l1_0.05:   0%|          | 0/2 [00:00<?, ?it/s]\u001b[A\n",
      "single-boyd_tol_1e-07_rtol_1e-07_p_200_N_400_l1_0.05:  50%|█████     | 1/2 [00:00<00:00,  6.32it/s]\u001b[A"
     ]
    },
    {
     "name": "stdout",
     "output_type": "stream",
     "text": [
      "ADMM terminated after 37 iterations with status: optimal.\n",
      "ADMM terminated after 25 iterations with status: optimal.\n"
     ]
    },
    {
     "name": "stderr",
     "output_type": "stream",
     "text": [
      "\n",
      "single-boyd_tol_1e-07_rtol_1e-07_p_200_N_400_l1_0.05: 100%|██████████| 2/2 [00:00<00:00,  6.52it/s]\u001b[A\n",
      "\n",
      "block-boyd_tol_1e-05_rtol_1e-05_p_200_N_400_l1_0.5: 100%|██████████| 2/2 [00:00<00:00, 37.10it/s]\n",
      "\n",
      "block-boyd_tol_1e-05_rtol_1e-05_p_200_N_400_l1_0.1: 100%|██████████| 2/2 [00:00<00:00, 21.70it/s]\n",
      "\n",
      "block-boyd_tol_1e-05_rtol_1e-05_p_200_N_400_l1_0.05:   0%|          | 0/2 [00:00<?, ?it/s]\u001b[A"
     ]
    },
    {
     "name": "stdout",
     "output_type": "stream",
     "text": [
      "ADMM terminated after 25 iterations with status: optimal.\n",
      "ADMM terminated after 15 iterations with status: optimal.\n",
      "ADMM terminated after 16 iterations with status: optimal.\n",
      "ADMM terminated after 15 iterations with status: optimal.\n",
      "block-boyd_tol_1e-05_rtol_1e-05_p_200_N_400_l1_0.5: 175 connected components.\n",
      "ADMM terminated after 15 iterations with status: optimal.\n",
      "ADMM terminated after 16 iterations with status: optimal.\n",
      "ADMM terminated after 15 iterations with status: optimal.\n",
      "block-boyd_tol_1e-05_rtol_1e-05_p_200_N_400_l1_0.5: 175 connected components.\n",
      "ADMM terminated after 7 iterations with status: optimal.\n",
      "block-boyd_tol_1e-05_rtol_1e-05_p_200_N_400_l1_0.1: 8 connected components.\n",
      "ADMM terminated after 7 iterations with status: optimal.\n",
      "block-boyd_tol_1e-05_rtol_1e-05_p_200_N_400_l1_0.1: 8 connected components.\n"
     ]
    },
    {
     "name": "stderr",
     "output_type": "stream",
     "text": [
      "\n",
      "block-boyd_tol_1e-05_rtol_1e-05_p_200_N_400_l1_0.05: 100%|██████████| 2/2 [00:00<00:00, 13.19it/s]\u001b[A\n",
      "\n",
      "block-boyd_tol_1e-05_rtol_1e-06_p_200_N_400_l1_0.5: 100%|██████████| 2/2 [00:00<00:00, 38.55it/s]\n",
      "\n",
      "block-boyd_tol_1e-05_rtol_1e-06_p_200_N_400_l1_0.1:   0%|          | 0/2 [00:00<?, ?it/s]\u001b[A"
     ]
    },
    {
     "name": "stdout",
     "output_type": "stream",
     "text": [
      "ADMM terminated after 9 iterations with status: optimal.\n",
      "block-boyd_tol_1e-05_rtol_1e-05_p_200_N_400_l1_0.05: 1 connected components.\n",
      "ADMM terminated after 9 iterations with status: optimal.\n",
      "block-boyd_tol_1e-05_rtol_1e-05_p_200_N_400_l1_0.05: 1 connected components.\n",
      "ADMM terminated after 15 iterations with status: optimal.\n",
      "ADMM terminated after 16 iterations with status: optimal.\n",
      "ADMM terminated after 15 iterations with status: optimal.\n",
      "block-boyd_tol_1e-05_rtol_1e-06_p_200_N_400_l1_0.5: 175 connected components.\n",
      "ADMM terminated after 15 iterations with status: optimal.\n",
      "ADMM terminated after 16 iterations with status: optimal.\n",
      "ADMM terminated after 15 iterations with status: optimal.\n",
      "block-boyd_tol_1e-05_rtol_1e-06_p_200_N_400_l1_0.5: 175 connected components.\n",
      "ADMM terminated after 7 iterations with status: optimal.\n",
      "block-boyd_tol_1e-05_rtol_1e-06_p_200_N_400_l1_0.1: 8 connected components.\n"
     ]
    },
    {
     "name": "stderr",
     "output_type": "stream",
     "text": [
      "block-boyd_tol_1e-05_rtol_1e-06_p_200_N_400_l1_0.1: 100%|██████████| 2/2 [00:00<00:00, 21.77it/s]\n",
      "\n",
      "block-boyd_tol_1e-05_rtol_1e-06_p_200_N_400_l1_0.05:   0%|          | 0/2 [00:00<?, ?it/s]\u001b[A\n",
      "block-boyd_tol_1e-05_rtol_1e-06_p_200_N_400_l1_0.05: 100%|██████████| 2/2 [00:00<00:00, 14.82it/s]\u001b[A\n",
      "\n",
      "block-boyd_tol_1e-05_rtol_1e-07_p_200_N_400_l1_0.5:   0%|          | 0/2 [00:00<?, ?it/s]\u001b[A"
     ]
    },
    {
     "name": "stdout",
     "output_type": "stream",
     "text": [
      "ADMM terminated after 7 iterations with status: optimal.\n",
      "block-boyd_tol_1e-05_rtol_1e-06_p_200_N_400_l1_0.1: 8 connected components.\n",
      "ADMM terminated after 9 iterations with status: optimal.\n",
      "block-boyd_tol_1e-05_rtol_1e-06_p_200_N_400_l1_0.05: 1 connected components.\n",
      "ADMM terminated after 9 iterations with status: optimal.\n",
      "block-boyd_tol_1e-05_rtol_1e-06_p_200_N_400_l1_0.05: 1 connected components.\n",
      "ADMM terminated after 15 iterations with status: optimal.\n",
      "ADMM terminated after 16 iterations with status: optimal.\n",
      "ADMM terminated after 15 iterations with status: optimal.\n",
      "block-boyd_tol_1e-05_rtol_1e-07_p_200_N_400_l1_0.5: 175 connected components.\n",
      "ADMM terminated after 15 iterations with status: optimal.\n",
      "ADMM terminated after 16 iterations with status: optimal.\n",
      "ADMM terminated after 15 iterations with status: optimal.\n"
     ]
    },
    {
     "name": "stderr",
     "output_type": "stream",
     "text": [
      "block-boyd_tol_1e-05_rtol_1e-07_p_200_N_400_l1_0.5: 100%|██████████| 2/2 [00:00<00:00, 35.23it/s]\n",
      "\n",
      "block-boyd_tol_1e-05_rtol_1e-07_p_200_N_400_l1_0.1:   0%|          | 0/2 [00:00<?, ?it/s]\u001b[A\n",
      "block-boyd_tol_1e-05_rtol_1e-07_p_200_N_400_l1_0.1: 100%|██████████| 2/2 [00:00<00:00, 14.26it/s]\u001b[A\n",
      "\n",
      "block-boyd_tol_1e-05_rtol_1e-07_p_200_N_400_l1_0.05:   0%|          | 0/2 [00:00<?, ?it/s]\u001b[A"
     ]
    },
    {
     "name": "stdout",
     "output_type": "stream",
     "text": [
      "block-boyd_tol_1e-05_rtol_1e-07_p_200_N_400_l1_0.5: 175 connected components.\n",
      "ADMM terminated after 7 iterations with status: optimal.\n",
      "block-boyd_tol_1e-05_rtol_1e-07_p_200_N_400_l1_0.1: 8 connected components.\n",
      "ADMM terminated after 7 iterations with status: optimal.\n",
      "block-boyd_tol_1e-05_rtol_1e-07_p_200_N_400_l1_0.1: 8 connected components.\n"
     ]
    },
    {
     "name": "stderr",
     "output_type": "stream",
     "text": [
      "\n",
      "block-boyd_tol_1e-05_rtol_1e-07_p_200_N_400_l1_0.05: 100%|██████████| 2/2 [00:00<00:00, 11.77it/s]\u001b[A\n",
      "\n",
      "block-boyd_tol_1e-06_rtol_1e-05_p_200_N_400_l1_0.5: 100%|██████████| 2/2 [00:00<00:00, 35.32it/s]\n",
      "\n",
      "block-boyd_tol_1e-06_rtol_1e-05_p_200_N_400_l1_0.1:   0%|          | 0/2 [00:00<?, ?it/s]\u001b[A"
     ]
    },
    {
     "name": "stdout",
     "output_type": "stream",
     "text": [
      "ADMM terminated after 9 iterations with status: optimal.\n",
      "block-boyd_tol_1e-05_rtol_1e-07_p_200_N_400_l1_0.05: 1 connected components.\n",
      "ADMM terminated after 9 iterations with status: optimal.\n",
      "block-boyd_tol_1e-05_rtol_1e-07_p_200_N_400_l1_0.05: 1 connected components.\n",
      "ADMM terminated after 18 iterations with status: optimal.\n",
      "ADMM terminated after 19 iterations with status: optimal.\n",
      "ADMM terminated after 18 iterations with status: optimal.\n",
      "block-boyd_tol_1e-06_rtol_1e-05_p_200_N_400_l1_0.5: 175 connected components.\n",
      "ADMM terminated after 18 iterations with status: optimal.\n",
      "ADMM terminated after 19 iterations with status: optimal.\n",
      "ADMM terminated after 18 iterations with status: optimal.\n",
      "block-boyd_tol_1e-06_rtol_1e-05_p_200_N_400_l1_0.5: 175 connected components.\n"
     ]
    },
    {
     "name": "stderr",
     "output_type": "stream",
     "text": [
      "\n",
      "block-boyd_tol_1e-06_rtol_1e-05_p_200_N_400_l1_0.1:  50%|█████     | 1/2 [00:00<00:00,  6.75it/s]\u001b[A\n",
      "block-boyd_tol_1e-06_rtol_1e-05_p_200_N_400_l1_0.1: 100%|██████████| 2/2 [00:00<00:00,  6.48it/s]\u001b[A\n",
      "\n",
      "block-boyd_tol_1e-06_rtol_1e-05_p_200_N_400_l1_0.05:   0%|          | 0/2 [00:00<?, ?it/s]\u001b[A"
     ]
    },
    {
     "name": "stdout",
     "output_type": "stream",
     "text": [
      "ADMM terminated after 19 iterations with status: optimal.\n",
      "block-boyd_tol_1e-06_rtol_1e-05_p_200_N_400_l1_0.1: 8 connected components.\n",
      "ADMM terminated after 19 iterations with status: optimal.\n",
      "block-boyd_tol_1e-06_rtol_1e-05_p_200_N_400_l1_0.1: 8 connected components.\n"
     ]
    },
    {
     "name": "stderr",
     "output_type": "stream",
     "text": [
      "\n",
      "block-boyd_tol_1e-06_rtol_1e-05_p_200_N_400_l1_0.05:  50%|█████     | 1/2 [00:00<00:00,  4.37it/s]\u001b[A"
     ]
    },
    {
     "name": "stdout",
     "output_type": "stream",
     "text": [
      "ADMM terminated after 17 iterations with status: optimal.\n",
      "block-boyd_tol_1e-06_rtol_1e-05_p_200_N_400_l1_0.05: 1 connected components.\n"
     ]
    },
    {
     "name": "stderr",
     "output_type": "stream",
     "text": [
      "\n",
      "block-boyd_tol_1e-06_rtol_1e-05_p_200_N_400_l1_0.05: 100%|██████████| 2/2 [00:00<00:00,  3.49it/s]\u001b[A\n",
      "\n",
      "block-boyd_tol_1e-06_rtol_1e-06_p_200_N_400_l1_0.5: 100%|██████████| 2/2 [00:00<00:00, 29.96it/s]\n",
      "\n",
      "block-boyd_tol_1e-06_rtol_1e-06_p_200_N_400_l1_0.1:   0%|          | 0/2 [00:00<?, ?it/s]\u001b[A"
     ]
    },
    {
     "name": "stdout",
     "output_type": "stream",
     "text": [
      "ADMM terminated after 17 iterations with status: optimal.\n",
      "block-boyd_tol_1e-06_rtol_1e-05_p_200_N_400_l1_0.05: 1 connected components.\n",
      "ADMM terminated after 18 iterations with status: optimal.\n",
      "ADMM terminated after 19 iterations with status: optimal.\n",
      "ADMM terminated after 19 iterations with status: optimal.\n",
      "block-boyd_tol_1e-06_rtol_1e-06_p_200_N_400_l1_0.5: 175 connected components.\n",
      "ADMM terminated after 18 iterations with status: optimal.\n",
      "ADMM terminated after 19 iterations with status: optimal.\n",
      "ADMM terminated after 19 iterations with status: optimal.\n",
      "block-boyd_tol_1e-06_rtol_1e-06_p_200_N_400_l1_0.5: 175 connected components.\n"
     ]
    },
    {
     "name": "stderr",
     "output_type": "stream",
     "text": [
      "\n",
      "block-boyd_tol_1e-06_rtol_1e-06_p_200_N_400_l1_0.1:  50%|█████     | 1/2 [00:00<00:00,  3.91it/s]\u001b[A"
     ]
    },
    {
     "name": "stdout",
     "output_type": "stream",
     "text": [
      "ADMM terminated after 19 iterations with status: optimal.\n",
      "block-boyd_tol_1e-06_rtol_1e-06_p_200_N_400_l1_0.1: 8 connected components.\n"
     ]
    },
    {
     "name": "stderr",
     "output_type": "stream",
     "text": [
      "\n",
      "block-boyd_tol_1e-06_rtol_1e-06_p_200_N_400_l1_0.1: 100%|██████████| 2/2 [00:00<00:00,  4.00it/s]\u001b[A\n",
      "\n",
      "block-boyd_tol_1e-06_rtol_1e-06_p_200_N_400_l1_0.05:   0%|          | 0/2 [00:00<?, ?it/s]\u001b[A\n",
      "block-boyd_tol_1e-06_rtol_1e-06_p_200_N_400_l1_0.05:  50%|█████     | 1/2 [00:00<00:00,  6.67it/s]\u001b[A"
     ]
    },
    {
     "name": "stdout",
     "output_type": "stream",
     "text": [
      "ADMM terminated after 19 iterations with status: optimal.\n",
      "block-boyd_tol_1e-06_rtol_1e-06_p_200_N_400_l1_0.1: 8 connected components.\n",
      "ADMM terminated after 17 iterations with status: optimal.\n",
      "block-boyd_tol_1e-06_rtol_1e-06_p_200_N_400_l1_0.05: 1 connected components.\n"
     ]
    },
    {
     "name": "stderr",
     "output_type": "stream",
     "text": [
      "\n",
      "block-boyd_tol_1e-06_rtol_1e-06_p_200_N_400_l1_0.05: 100%|██████████| 2/2 [00:00<00:00,  6.17it/s]\u001b[A\n",
      "\n",
      "block-boyd_tol_1e-06_rtol_1e-07_p_200_N_400_l1_0.5: 100%|██████████| 2/2 [00:00<00:00, 33.18it/s]\n",
      "\n",
      "block-boyd_tol_1e-06_rtol_1e-07_p_200_N_400_l1_0.1:   0%|          | 0/2 [00:00<?, ?it/s]\u001b[A"
     ]
    },
    {
     "name": "stdout",
     "output_type": "stream",
     "text": [
      "ADMM terminated after 17 iterations with status: optimal.\n",
      "block-boyd_tol_1e-06_rtol_1e-06_p_200_N_400_l1_0.05: 1 connected components.\n",
      "ADMM terminated after 18 iterations with status: optimal.\n",
      "ADMM terminated after 19 iterations with status: optimal.\n",
      "ADMM terminated after 19 iterations with status: optimal.\n",
      "block-boyd_tol_1e-06_rtol_1e-07_p_200_N_400_l1_0.5: 175 connected components.\n",
      "ADMM terminated after 18 iterations with status: optimal.\n",
      "ADMM terminated after 19 iterations with status: optimal.\n",
      "ADMM terminated after 19 iterations with status: optimal.\n",
      "block-boyd_tol_1e-06_rtol_1e-07_p_200_N_400_l1_0.5: 175 connected components.\n"
     ]
    },
    {
     "name": "stderr",
     "output_type": "stream",
     "text": [
      "\n",
      "block-boyd_tol_1e-06_rtol_1e-07_p_200_N_400_l1_0.1:  50%|█████     | 1/2 [00:00<00:00,  4.74it/s]\u001b[A"
     ]
    },
    {
     "name": "stdout",
     "output_type": "stream",
     "text": [
      "ADMM terminated after 19 iterations with status: optimal.\n",
      "block-boyd_tol_1e-06_rtol_1e-07_p_200_N_400_l1_0.1: 8 connected components.\n"
     ]
    },
    {
     "name": "stderr",
     "output_type": "stream",
     "text": [
      "\n",
      "block-boyd_tol_1e-06_rtol_1e-07_p_200_N_400_l1_0.1: 100%|██████████| 2/2 [00:00<00:00,  4.27it/s]\u001b[A\n",
      "\n",
      "block-boyd_tol_1e-06_rtol_1e-07_p_200_N_400_l1_0.05:   0%|          | 0/2 [00:00<?, ?it/s]\u001b[A"
     ]
    },
    {
     "name": "stdout",
     "output_type": "stream",
     "text": [
      "ADMM terminated after 19 iterations with status: optimal.\n",
      "block-boyd_tol_1e-06_rtol_1e-07_p_200_N_400_l1_0.1: 8 connected components.\n"
     ]
    },
    {
     "name": "stderr",
     "output_type": "stream",
     "text": [
      "\n",
      "block-boyd_tol_1e-06_rtol_1e-07_p_200_N_400_l1_0.05:  50%|█████     | 1/2 [00:00<00:00,  4.38it/s]\u001b[A"
     ]
    },
    {
     "name": "stdout",
     "output_type": "stream",
     "text": [
      "ADMM terminated after 17 iterations with status: optimal.\n",
      "block-boyd_tol_1e-06_rtol_1e-07_p_200_N_400_l1_0.05: 1 connected components.\n"
     ]
    },
    {
     "name": "stderr",
     "output_type": "stream",
     "text": [
      "\n",
      "block-boyd_tol_1e-06_rtol_1e-07_p_200_N_400_l1_0.05: 100%|██████████| 2/2 [00:00<00:00,  4.49it/s]\u001b[A\n",
      "\n",
      "block-boyd_tol_1e-07_rtol_1e-05_p_200_N_400_l1_0.5: 100%|██████████| 2/2 [00:00<00:00, 31.34it/s]\n",
      "\n",
      "block-boyd_tol_1e-07_rtol_1e-05_p_200_N_400_l1_0.1:   0%|          | 0/2 [00:00<?, ?it/s]\u001b[A"
     ]
    },
    {
     "name": "stdout",
     "output_type": "stream",
     "text": [
      "ADMM terminated after 17 iterations with status: optimal.\n",
      "block-boyd_tol_1e-06_rtol_1e-07_p_200_N_400_l1_0.05: 1 connected components.\n",
      "ADMM terminated after 19 iterations with status: optimal.\n",
      "ADMM terminated after 21 iterations with status: optimal.\n",
      "ADMM terminated after 19 iterations with status: optimal.\n",
      "block-boyd_tol_1e-07_rtol_1e-05_p_200_N_400_l1_0.5: 175 connected components.\n",
      "ADMM terminated after 19 iterations with status: optimal.\n",
      "ADMM terminated after 21 iterations with status: optimal.\n",
      "ADMM terminated after 19 iterations with status: optimal.\n",
      "block-boyd_tol_1e-07_rtol_1e-05_p_200_N_400_l1_0.5: 175 connected components.\n"
     ]
    },
    {
     "name": "stderr",
     "output_type": "stream",
     "text": [
      "\n",
      "block-boyd_tol_1e-07_rtol_1e-05_p_200_N_400_l1_0.1:  50%|█████     | 1/2 [00:00<00:00,  3.12it/s]\u001b[A"
     ]
    },
    {
     "name": "stdout",
     "output_type": "stream",
     "text": [
      "ADMM terminated after 36 iterations with status: optimal.\n",
      "block-boyd_tol_1e-07_rtol_1e-05_p_200_N_400_l1_0.1: 8 connected components.\n"
     ]
    },
    {
     "name": "stderr",
     "output_type": "stream",
     "text": [
      "\n",
      "block-boyd_tol_1e-07_rtol_1e-05_p_200_N_400_l1_0.1: 100%|██████████| 2/2 [00:00<00:00,  2.53it/s]\u001b[A\n",
      "\n",
      "block-boyd_tol_1e-07_rtol_1e-05_p_200_N_400_l1_0.05:   0%|          | 0/2 [00:00<?, ?it/s]\u001b[A"
     ]
    },
    {
     "name": "stdout",
     "output_type": "stream",
     "text": [
      "ADMM terminated after 36 iterations with status: optimal.\n",
      "block-boyd_tol_1e-07_rtol_1e-05_p_200_N_400_l1_0.1: 8 connected components.\n"
     ]
    },
    {
     "name": "stderr",
     "output_type": "stream",
     "text": [
      "\n",
      "block-boyd_tol_1e-07_rtol_1e-05_p_200_N_400_l1_0.05:  50%|█████     | 1/2 [00:00<00:00,  3.35it/s]\u001b[A"
     ]
    },
    {
     "name": "stdout",
     "output_type": "stream",
     "text": [
      "ADMM terminated after 25 iterations with status: optimal.\n",
      "block-boyd_tol_1e-07_rtol_1e-05_p_200_N_400_l1_0.05: 1 connected components.\n"
     ]
    },
    {
     "name": "stderr",
     "output_type": "stream",
     "text": [
      "\n",
      "block-boyd_tol_1e-07_rtol_1e-05_p_200_N_400_l1_0.05: 100%|██████████| 2/2 [00:00<00:00,  3.92it/s]\u001b[A\n",
      "\n",
      "block-boyd_tol_1e-07_rtol_1e-06_p_200_N_400_l1_0.5: 100%|██████████| 2/2 [00:00<00:00, 31.22it/s]\n",
      "\n",
      "block-boyd_tol_1e-07_rtol_1e-06_p_200_N_400_l1_0.1:   0%|          | 0/2 [00:00<?, ?it/s]\u001b[A"
     ]
    },
    {
     "name": "stdout",
     "output_type": "stream",
     "text": [
      "ADMM terminated after 25 iterations with status: optimal.\n",
      "block-boyd_tol_1e-07_rtol_1e-05_p_200_N_400_l1_0.05: 1 connected components.\n",
      "ADMM terminated after 20 iterations with status: optimal.\n",
      "ADMM terminated after 23 iterations with status: optimal.\n",
      "ADMM terminated after 23 iterations with status: optimal.\n",
      "block-boyd_tol_1e-07_rtol_1e-06_p_200_N_400_l1_0.5: 175 connected components.\n",
      "ADMM terminated after 20 iterations with status: optimal.\n",
      "ADMM terminated after 23 iterations with status: optimal.\n",
      "ADMM terminated after 23 iterations with status: optimal.\n",
      "block-boyd_tol_1e-07_rtol_1e-06_p_200_N_400_l1_0.5: 175 connected components.\n"
     ]
    },
    {
     "name": "stderr",
     "output_type": "stream",
     "text": [
      "\n",
      "block-boyd_tol_1e-07_rtol_1e-06_p_200_N_400_l1_0.1:  50%|█████     | 1/2 [00:00<00:00,  3.07it/s]\u001b[A"
     ]
    },
    {
     "name": "stdout",
     "output_type": "stream",
     "text": [
      "ADMM terminated after 37 iterations with status: optimal.\n",
      "block-boyd_tol_1e-07_rtol_1e-06_p_200_N_400_l1_0.1: 8 connected components.\n"
     ]
    },
    {
     "name": "stderr",
     "output_type": "stream",
     "text": [
      "\n",
      "block-boyd_tol_1e-07_rtol_1e-06_p_200_N_400_l1_0.1: 100%|██████████| 2/2 [00:00<00:00,  2.99it/s]\u001b[A\n",
      "\n",
      "block-boyd_tol_1e-07_rtol_1e-06_p_200_N_400_l1_0.05:   0%|          | 0/2 [00:00<?, ?it/s]\u001b[A"
     ]
    },
    {
     "name": "stdout",
     "output_type": "stream",
     "text": [
      "ADMM terminated after 37 iterations with status: optimal.\n",
      "block-boyd_tol_1e-07_rtol_1e-06_p_200_N_400_l1_0.1: 8 connected components.\n"
     ]
    },
    {
     "name": "stderr",
     "output_type": "stream",
     "text": [
      "\n",
      "block-boyd_tol_1e-07_rtol_1e-06_p_200_N_400_l1_0.05:  50%|█████     | 1/2 [00:00<00:00,  3.38it/s]\u001b[A"
     ]
    },
    {
     "name": "stdout",
     "output_type": "stream",
     "text": [
      "ADMM terminated after 25 iterations with status: optimal.\n",
      "block-boyd_tol_1e-07_rtol_1e-06_p_200_N_400_l1_0.05: 1 connected components.\n"
     ]
    },
    {
     "name": "stderr",
     "output_type": "stream",
     "text": [
      "\n",
      "block-boyd_tol_1e-07_rtol_1e-06_p_200_N_400_l1_0.05: 100%|██████████| 2/2 [00:00<00:00,  3.29it/s]\u001b[A\n",
      "\n",
      "block-boyd_tol_1e-07_rtol_1e-07_p_200_N_400_l1_0.5: 100%|██████████| 2/2 [00:00<00:00, 31.76it/s]\n",
      "\n",
      "block-boyd_tol_1e-07_rtol_1e-07_p_200_N_400_l1_0.1:   0%|          | 0/2 [00:00<?, ?it/s]\u001b[A"
     ]
    },
    {
     "name": "stdout",
     "output_type": "stream",
     "text": [
      "ADMM terminated after 25 iterations with status: optimal.\n",
      "block-boyd_tol_1e-07_rtol_1e-06_p_200_N_400_l1_0.05: 1 connected components.\n",
      "ADMM terminated after 21 iterations with status: optimal.\n",
      "ADMM terminated after 23 iterations with status: optimal.\n",
      "ADMM terminated after 24 iterations with status: optimal.\n",
      "block-boyd_tol_1e-07_rtol_1e-07_p_200_N_400_l1_0.5: 175 connected components.\n",
      "ADMM terminated after 21 iterations with status: optimal.\n",
      "ADMM terminated after 23 iterations with status: optimal.\n",
      "ADMM terminated after 24 iterations with status: optimal.\n",
      "block-boyd_tol_1e-07_rtol_1e-07_p_200_N_400_l1_0.5: 175 connected components.\n"
     ]
    },
    {
     "name": "stderr",
     "output_type": "stream",
     "text": [
      "\n",
      "block-boyd_tol_1e-07_rtol_1e-07_p_200_N_400_l1_0.1:  50%|█████     | 1/2 [00:00<00:00,  3.67it/s]\u001b[A"
     ]
    },
    {
     "name": "stdout",
     "output_type": "stream",
     "text": [
      "ADMM terminated after 37 iterations with status: optimal.\n",
      "block-boyd_tol_1e-07_rtol_1e-07_p_200_N_400_l1_0.1: 8 connected components.\n"
     ]
    },
    {
     "name": "stderr",
     "output_type": "stream",
     "text": [
      "\n",
      "block-boyd_tol_1e-07_rtol_1e-07_p_200_N_400_l1_0.1: 100%|██████████| 2/2 [00:00<00:00,  3.50it/s]\u001b[A\n",
      "\n",
      "block-boyd_tol_1e-07_rtol_1e-07_p_200_N_400_l1_0.05:   0%|          | 0/2 [00:00<?, ?it/s]\u001b[A"
     ]
    },
    {
     "name": "stdout",
     "output_type": "stream",
     "text": [
      "ADMM terminated after 37 iterations with status: optimal.\n",
      "block-boyd_tol_1e-07_rtol_1e-07_p_200_N_400_l1_0.1: 8 connected components.\n"
     ]
    },
    {
     "name": "stderr",
     "output_type": "stream",
     "text": [
      "\n",
      "block-boyd_tol_1e-07_rtol_1e-07_p_200_N_400_l1_0.05:  50%|█████     | 1/2 [00:00<00:00,  3.87it/s]\u001b[A"
     ]
    },
    {
     "name": "stdout",
     "output_type": "stream",
     "text": [
      "ADMM terminated after 25 iterations with status: optimal.\n",
      "block-boyd_tol_1e-07_rtol_1e-07_p_200_N_400_l1_0.05: 1 connected components.\n"
     ]
    },
    {
     "name": "stderr",
     "output_type": "stream",
     "text": [
      "\n",
      "block-boyd_tol_1e-07_rtol_1e-07_p_200_N_400_l1_0.05: 100%|██████████| 2/2 [00:00<00:00,  4.06it/s]\u001b[A"
     ]
    },
    {
     "name": "stdout",
     "output_type": "stream",
     "text": [
      "ADMM terminated after 25 iterations with status: optimal.\n",
      "block-boyd_tol_1e-07_rtol_1e-07_p_200_N_400_l1_0.05: 1 connected components.\n"
     ]
    },
    {
     "name": "stderr",
     "output_type": "stream",
     "text": [
      "\n"
     ]
    }
   ],
   "source": [
    "for X, S in tzip(list(X_dict.values()), list(S_dict.values())):\n",
    "    Omega_0 = np.eye(len(S))\n",
    "    gg_time, gg_accuracy, Z_gg = gglasso_time(S=S, X=X, Omega_0=Omega_0, Z=model_Z_dict, lambda_list=lambda_list,\n",
    "                                              n_iter=n_iter, gglasso_params=gglasso_params, warm_start=False)\n",
    "    \n",
    "    time_dict.update(gg_time)\n",
    "    accuracy_dict.update(gg_accuracy)\n",
    "    Z_dict.update(Z_gg)"
   ]
  },
  {
   "cell_type": "markdown",
   "id": "surprised-shower",
   "metadata": {},
   "source": [
    "### Sklearn"
   ]
  },
  {
   "cell_type": "code",
   "execution_count": 16,
   "id": "internal-weekend",
   "metadata": {
    "scrolled": false
   },
   "outputs": [
    {
     "data": {
      "application/vnd.jupyter.widget-view+json": {
       "model_id": "d0ead7ac18184f348818635b19690007",
       "version_major": 2,
       "version_minor": 0
      },
      "text/plain": [
       "  0%|          | 0/2 [00:00<?, ?it/s]"
      ]
     },
     "metadata": {},
     "output_type": "display_data"
    },
    {
     "name": "stderr",
     "output_type": "stream",
     "text": [
      "\n",
      "sklearn_tol_0.1_enet_0.1_p_100_N_200_l1_0.5:   0%|          | 0/2 [00:00<?, ?it/s]\u001b[A\n",
      "sklearn_tol_0.1_enet_0.1_p_100_N_200_l1_0.5: 100%|██████████| 2/2 [00:00<00:00, 18.62it/s]\u001b[A\n",
      "\n",
      "sklearn_tol_0.1_enet_0.1_p_100_N_200_l1_0.1: 100%|██████████| 2/2 [00:00<00:00, 21.45it/s]\n",
      "\n",
      "sklearn_tol_0.1_enet_0.1_p_100_N_200_l1_0.05:   0%|          | 0/2 [00:00<?, ?it/s]\u001b[A\n",
      "sklearn_tol_0.1_enet_0.1_p_100_N_200_l1_0.05: 100%|██████████| 2/2 [00:00<00:00, 15.29it/s]\u001b[A\n",
      "\n",
      "sklearn_tol_0.1_enet_0.01_p_100_N_200_l1_0.5: 100%|██████████| 2/2 [00:00<00:00, 21.38it/s]\n",
      "\n",
      "sklearn_tol_0.1_enet_0.01_p_100_N_200_l1_0.1: 100%|██████████| 2/2 [00:00<00:00, 24.87it/s]\n",
      "\n",
      "sklearn_tol_0.1_enet_0.01_p_100_N_200_l1_0.05: 100%|██████████| 2/2 [00:00<00:00, 23.73it/s]\n",
      "\n",
      "sklearn_tol_0.01_enet_0.1_p_100_N_200_l1_0.5: 100%|██████████| 2/2 [00:00<00:00, 20.40it/s]\n",
      "\n",
      "sklearn_tol_0.01_enet_0.1_p_100_N_200_l1_0.1:   0%|          | 0/2 [00:00<?, ?it/s]\u001b[A\n",
      "sklearn_tol_0.01_enet_0.1_p_100_N_200_l1_0.1: 100%|██████████| 2/2 [00:00<00:00, 10.96it/s]\u001b[A\n",
      "\n",
      "sklearn_tol_0.01_enet_0.1_p_100_N_200_l1_0.05:   0%|          | 0/2 [00:00<?, ?it/s]\u001b[A\n",
      "sklearn_tol_0.01_enet_0.1_p_100_N_200_l1_0.05:  50%|█████     | 1/2 [00:00<00:00,  6.88it/s]\u001b[A\n",
      "sklearn_tol_0.01_enet_0.1_p_100_N_200_l1_0.05: 100%|██████████| 2/2 [00:00<00:00,  7.60it/s]\u001b[A\n",
      "\n",
      "sklearn_tol_0.01_enet_0.01_p_100_N_200_l1_0.5:   0%|          | 0/2 [00:00<?, ?it/s]\u001b[A\n",
      "sklearn_tol_0.01_enet_0.01_p_100_N_200_l1_0.5: 100%|██████████| 2/2 [00:00<00:00, 19.26it/s]\u001b[A\n",
      "\n",
      "sklearn_tol_0.01_enet_0.01_p_100_N_200_l1_0.1:   0%|          | 0/2 [00:00<?, ?it/s]\u001b[A\n",
      "sklearn_tol_0.01_enet_0.01_p_100_N_200_l1_0.1: 100%|██████████| 2/2 [00:00<00:00, 11.93it/s]\u001b[A\n",
      "\n",
      "sklearn_tol_0.01_enet_0.01_p_100_N_200_l1_0.05:   0%|          | 0/2 [00:00<?, ?it/s]\u001b[A\n",
      "sklearn_tol_0.01_enet_0.01_p_100_N_200_l1_0.05: 100%|██████████| 2/2 [00:00<00:00, 14.57it/s]\u001b[A\n",
      "\n",
      "sklearn_tol_0.1_enet_0.1_p_200_N_400_l1_0.5:   0%|          | 0/2 [00:00<?, ?it/s]\u001b[A\n",
      "sklearn_tol_0.1_enet_0.1_p_200_N_400_l1_0.5: 100%|██████████| 2/2 [00:00<00:00,  8.92it/s]\u001b[A\n",
      "\n",
      "sklearn_tol_0.1_enet_0.1_p_200_N_400_l1_0.1:   0%|          | 0/2 [00:00<?, ?it/s]\u001b[A\n",
      "sklearn_tol_0.1_enet_0.1_p_200_N_400_l1_0.1:  50%|█████     | 1/2 [00:00<00:00,  7.80it/s]\u001b[A\n",
      "sklearn_tol_0.1_enet_0.1_p_200_N_400_l1_0.1: 100%|██████████| 2/2 [00:00<00:00,  8.35it/s]\u001b[A\n",
      "\n",
      "sklearn_tol_0.1_enet_0.1_p_200_N_400_l1_0.05:   0%|          | 0/2 [00:00<?, ?it/s]\u001b[A\n",
      "sklearn_tol_0.1_enet_0.1_p_200_N_400_l1_0.05:  50%|█████     | 1/2 [00:00<00:00,  4.92it/s]\u001b[A\n",
      "sklearn_tol_0.1_enet_0.1_p_200_N_400_l1_0.05: 100%|██████████| 2/2 [00:00<00:00,  4.50it/s]\u001b[A\n",
      "\n",
      "sklearn_tol_0.1_enet_0.01_p_200_N_400_l1_0.5:   0%|          | 0/2 [00:00<?, ?it/s]\u001b[A\n",
      "sklearn_tol_0.1_enet_0.01_p_200_N_400_l1_0.5: 100%|██████████| 2/2 [00:00<00:00, 10.57it/s]\u001b[A\n",
      "\n",
      "sklearn_tol_0.1_enet_0.01_p_200_N_400_l1_0.1:   0%|          | 0/2 [00:00<?, ?it/s]\u001b[A\n",
      "sklearn_tol_0.1_enet_0.01_p_200_N_400_l1_0.1:  50%|█████     | 1/2 [00:00<00:00,  8.31it/s]\u001b[A\n",
      "sklearn_tol_0.1_enet_0.01_p_200_N_400_l1_0.1: 100%|██████████| 2/2 [00:00<00:00,  7.69it/s]\u001b[A\n",
      "\n",
      "sklearn_tol_0.1_enet_0.01_p_200_N_400_l1_0.05:   0%|          | 0/2 [00:00<?, ?it/s]\u001b[A\n",
      "sklearn_tol_0.1_enet_0.01_p_200_N_400_l1_0.05: 100%|██████████| 2/2 [00:00<00:00, 10.10it/s]\u001b[A\n",
      "\n",
      "sklearn_tol_0.01_enet_0.1_p_200_N_400_l1_0.5:   0%|          | 0/2 [00:00<?, ?it/s]\u001b[A\n",
      "sklearn_tol_0.01_enet_0.1_p_200_N_400_l1_0.5:  50%|█████     | 1/2 [00:00<00:00,  5.88it/s]\u001b[A\n",
      "sklearn_tol_0.01_enet_0.1_p_200_N_400_l1_0.5: 100%|██████████| 2/2 [00:00<00:00,  5.30it/s]\u001b[A\n",
      "\n",
      "sklearn_tol_0.01_enet_0.1_p_200_N_400_l1_0.1:   0%|          | 0/2 [00:00<?, ?it/s]\u001b[A\n",
      "sklearn_tol_0.01_enet_0.1_p_200_N_400_l1_0.1:  50%|█████     | 1/2 [00:00<00:00,  1.68it/s]\u001b[A\n",
      "sklearn_tol_0.01_enet_0.1_p_200_N_400_l1_0.1: 100%|██████████| 2/2 [00:01<00:00,  1.60it/s]\u001b[A\n",
      "\n",
      "sklearn_tol_0.01_enet_0.1_p_200_N_400_l1_0.05:   0%|          | 0/2 [00:00<?, ?it/s]\u001b[A\n",
      "sklearn_tol_0.01_enet_0.1_p_200_N_400_l1_0.05:  50%|█████     | 1/2 [00:00<00:00,  1.29it/s]\u001b[A\n",
      "sklearn_tol_0.01_enet_0.1_p_200_N_400_l1_0.05: 100%|██████████| 2/2 [00:01<00:00,  1.29it/s]\u001b[A\n",
      "\n",
      "sklearn_tol_0.01_enet_0.01_p_200_N_400_l1_0.5:   0%|          | 0/2 [00:00<?, ?it/s]\u001b[A\n",
      "sklearn_tol_0.01_enet_0.01_p_200_N_400_l1_0.5: 100%|██████████| 2/2 [00:00<00:00,  9.72it/s]\u001b[A\n",
      "\n",
      "sklearn_tol_0.01_enet_0.01_p_200_N_400_l1_0.1:   0%|          | 0/2 [00:00<?, ?it/s]\u001b[A\n",
      "sklearn_tol_0.01_enet_0.01_p_200_N_400_l1_0.1:  50%|█████     | 1/2 [00:00<00:00,  7.57it/s]\u001b[A\n",
      "sklearn_tol_0.01_enet_0.01_p_200_N_400_l1_0.1: 100%|██████████| 2/2 [00:00<00:00,  8.03it/s]\u001b[A\n",
      "\n",
      "sklearn_tol_0.01_enet_0.01_p_200_N_400_l1_0.05:   0%|          | 0/2 [00:00<?, ?it/s]\u001b[A\n",
      "sklearn_tol_0.01_enet_0.01_p_200_N_400_l1_0.05:  50%|█████     | 1/2 [00:00<00:00,  3.67it/s]\u001b[A\n",
      "sklearn_tol_0.01_enet_0.01_p_200_N_400_l1_0.05: 100%|██████████| 2/2 [00:00<00:00,  3.56it/s]\u001b[A\n"
     ]
    }
   ],
   "source": [
    "for X, S in tzip(list(X_dict.values()), list(S_dict.values())):\n",
    "    sk_time, sk_accuracy, Z_sk = sklearn_time(X=X, Z=model_Z_dict, sk_params=sk_params, lambda_list=lambda_list, \\\n",
    "                                              n_iter=n_iter)\n",
    "    \n",
    "    time_dict.update(sk_time)\n",
    "    accuracy_dict.update(sk_accuracy)\n",
    "    Z_dict.update(Z_sk)"
   ]
  },
  {
   "cell_type": "markdown",
   "id": "serious-builder",
   "metadata": {},
   "source": [
    "### Regain"
   ]
  },
  {
   "cell_type": "code",
   "execution_count": 17,
   "id": "angry-system",
   "metadata": {},
   "outputs": [
    {
     "data": {
      "application/vnd.jupyter.widget-view+json": {
       "model_id": "2fb97dfc35044548a7a7d693d7bfd989",
       "version_major": 2,
       "version_minor": 0
      },
      "text/plain": [
       "  0%|          | 0/2 [00:00<?, ?it/s]"
      ]
     },
     "metadata": {},
     "output_type": "display_data"
    },
    {
     "name": "stderr",
     "output_type": "stream",
     "text": [
      "\n",
      "regain_tol_0.0001_rtol_0.0001_p_100_N_200_l1_0.5:   0%|          | 0/2 [00:00<?, ?it/s]\u001b[A/Users/oleg.vlasovetc/opt/anaconda3/envs/gglasso/lib/python3.8/site-packages/regain/covariance/graphical_lasso_.py:70: FutureWarning: elementwise comparison failed; returning scalar instead, but in the future will perform elementwise comparison\n",
      "  if mode == 'empirical':\n",
      "\n",
      "regain_tol_0.0001_rtol_0.0001_p_100_N_200_l1_0.5:  50%|█████     | 1/2 [00:00<00:00,  8.23it/s]\u001b[A/Users/oleg.vlasovetc/opt/anaconda3/envs/gglasso/lib/python3.8/site-packages/regain/covariance/graphical_lasso_.py:70: FutureWarning: elementwise comparison failed; returning scalar instead, but in the future will perform elementwise comparison\n",
      "  if mode == 'empirical':\n",
      "regain_tol_0.0001_rtol_0.0001_p_100_N_200_l1_0.5: 100%|██████████| 2/2 [00:00<00:00, 10.16it/s]\n",
      "\n",
      "regain_tol_0.0001_rtol_0.0001_p_100_N_200_l1_0.1:   0%|          | 0/2 [00:00<?, ?it/s]\u001b[A/Users/oleg.vlasovetc/opt/anaconda3/envs/gglasso/lib/python3.8/site-packages/regain/covariance/graphical_lasso_.py:70: FutureWarning: elementwise comparison failed; returning scalar instead, but in the future will perform elementwise comparison\n",
      "  if mode == 'empirical':\n",
      "/Users/oleg.vlasovetc/opt/anaconda3/envs/gglasso/lib/python3.8/site-packages/regain/covariance/graphical_lasso_.py:70: FutureWarning: elementwise comparison failed; returning scalar instead, but in the future will perform elementwise comparison\n",
      "  if mode == 'empirical':\n",
      "\n",
      "regain_tol_0.0001_rtol_0.0001_p_100_N_200_l1_0.1: 100%|██████████| 2/2 [00:00<00:00, 11.14it/s]\u001b[A\n",
      "\n",
      "regain_tol_0.0001_rtol_0.0001_p_100_N_200_l1_0.05:   0%|          | 0/2 [00:00<?, ?it/s]\u001b[A/Users/oleg.vlasovetc/opt/anaconda3/envs/gglasso/lib/python3.8/site-packages/regain/covariance/graphical_lasso_.py:70: FutureWarning: elementwise comparison failed; returning scalar instead, but in the future will perform elementwise comparison\n",
      "  if mode == 'empirical':\n",
      "/Users/oleg.vlasovetc/opt/anaconda3/envs/gglasso/lib/python3.8/site-packages/regain/covariance/graphical_lasso_.py:70: FutureWarning: elementwise comparison failed; returning scalar instead, but in the future will perform elementwise comparison\n",
      "  if mode == 'empirical':\n",
      "\n",
      "regain_tol_0.0001_rtol_0.0001_p_100_N_200_l1_0.05: 100%|██████████| 2/2 [00:00<00:00, 12.75it/s]\u001b[A\n",
      "\n",
      "regain_tol_0.0001_rtol_1e-05_p_100_N_200_l1_0.5:   0%|          | 0/2 [00:00<?, ?it/s]\u001b[A/Users/oleg.vlasovetc/opt/anaconda3/envs/gglasso/lib/python3.8/site-packages/regain/covariance/graphical_lasso_.py:70: FutureWarning: elementwise comparison failed; returning scalar instead, but in the future will perform elementwise comparison\n",
      "  if mode == 'empirical':\n",
      "\n",
      "regain_tol_0.0001_rtol_1e-05_p_100_N_200_l1_0.5:  50%|█████     | 1/2 [00:00<00:00,  8.89it/s]\u001b[A/Users/oleg.vlasovetc/opt/anaconda3/envs/gglasso/lib/python3.8/site-packages/regain/covariance/graphical_lasso_.py:70: FutureWarning: elementwise comparison failed; returning scalar instead, but in the future will perform elementwise comparison\n",
      "  if mode == 'empirical':\n",
      "regain_tol_0.0001_rtol_1e-05_p_100_N_200_l1_0.5: 100%|██████████| 2/2 [00:00<00:00,  9.59it/s]\n",
      "\n",
      "regain_tol_0.0001_rtol_1e-05_p_100_N_200_l1_0.1:   0%|          | 0/2 [00:00<?, ?it/s]\u001b[A/Users/oleg.vlasovetc/opt/anaconda3/envs/gglasso/lib/python3.8/site-packages/regain/covariance/graphical_lasso_.py:70: FutureWarning: elementwise comparison failed; returning scalar instead, but in the future will perform elementwise comparison\n",
      "  if mode == 'empirical':\n",
      "\n",
      "regain_tol_0.0001_rtol_1e-05_p_100_N_200_l1_0.1:  50%|█████     | 1/2 [00:00<00:00,  8.23it/s]\u001b[A/Users/oleg.vlasovetc/opt/anaconda3/envs/gglasso/lib/python3.8/site-packages/regain/covariance/graphical_lasso_.py:70: FutureWarning: elementwise comparison failed; returning scalar instead, but in the future will perform elementwise comparison\n",
      "  if mode == 'empirical':\n",
      "\n",
      "regain_tol_0.0001_rtol_1e-05_p_100_N_200_l1_0.1: 100%|██████████| 2/2 [00:00<00:00,  8.30it/s]\u001b[A\n",
      "\n",
      "regain_tol_0.0001_rtol_1e-05_p_100_N_200_l1_0.05:   0%|          | 0/2 [00:00<?, ?it/s]\u001b[A/Users/oleg.vlasovetc/opt/anaconda3/envs/gglasso/lib/python3.8/site-packages/regain/covariance/graphical_lasso_.py:70: FutureWarning: elementwise comparison failed; returning scalar instead, but in the future will perform elementwise comparison\n",
      "  if mode == 'empirical':\n",
      "\n",
      "regain_tol_0.0001_rtol_1e-05_p_100_N_200_l1_0.05:  50%|█████     | 1/2 [00:00<00:00,  8.76it/s]\u001b[A/Users/oleg.vlasovetc/opt/anaconda3/envs/gglasso/lib/python3.8/site-packages/regain/covariance/graphical_lasso_.py:70: FutureWarning: elementwise comparison failed; returning scalar instead, but in the future will perform elementwise comparison\n",
      "  if mode == 'empirical':\n",
      "\n",
      "regain_tol_0.0001_rtol_1e-05_p_100_N_200_l1_0.05: 100%|██████████| 2/2 [00:00<00:00,  8.67it/s]\u001b[A\n",
      "\n",
      "regain_tol_0.0001_rtol_1e-06_p_100_N_200_l1_0.5:   0%|          | 0/2 [00:00<?, ?it/s]\u001b[A/Users/oleg.vlasovetc/opt/anaconda3/envs/gglasso/lib/python3.8/site-packages/regain/covariance/graphical_lasso_.py:70: FutureWarning: elementwise comparison failed; returning scalar instead, but in the future will perform elementwise comparison\n",
      "  if mode == 'empirical':\n",
      "\n",
      "regain_tol_0.0001_rtol_1e-06_p_100_N_200_l1_0.5:  50%|█████     | 1/2 [00:00<00:00,  6.74it/s]\u001b[A/Users/oleg.vlasovetc/opt/anaconda3/envs/gglasso/lib/python3.8/site-packages/regain/covariance/graphical_lasso_.py:70: FutureWarning: elementwise comparison failed; returning scalar instead, but in the future will perform elementwise comparison\n",
      "  if mode == 'empirical':\n",
      "\n",
      "regain_tol_0.0001_rtol_1e-06_p_100_N_200_l1_0.5: 100%|██████████| 2/2 [00:00<00:00,  6.82it/s]\u001b[A\n",
      "\n",
      "regain_tol_0.0001_rtol_1e-06_p_100_N_200_l1_0.1:   0%|          | 0/2 [00:00<?, ?it/s]\u001b[A/Users/oleg.vlasovetc/opt/anaconda3/envs/gglasso/lib/python3.8/site-packages/regain/covariance/graphical_lasso_.py:70: FutureWarning: elementwise comparison failed; returning scalar instead, but in the future will perform elementwise comparison\n",
      "  if mode == 'empirical':\n",
      "\n",
      "regain_tol_0.0001_rtol_1e-06_p_100_N_200_l1_0.1:  50%|█████     | 1/2 [00:00<00:00,  7.56it/s]\u001b[A/Users/oleg.vlasovetc/opt/anaconda3/envs/gglasso/lib/python3.8/site-packages/regain/covariance/graphical_lasso_.py:70: FutureWarning: elementwise comparison failed; returning scalar instead, but in the future will perform elementwise comparison\n",
      "  if mode == 'empirical':\n",
      "\n",
      "regain_tol_0.0001_rtol_1e-06_p_100_N_200_l1_0.1: 100%|██████████| 2/2 [00:00<00:00,  8.08it/s]\u001b[A\n",
      "\n",
      "regain_tol_0.0001_rtol_1e-06_p_100_N_200_l1_0.05:   0%|          | 0/2 [00:00<?, ?it/s]\u001b[A/Users/oleg.vlasovetc/opt/anaconda3/envs/gglasso/lib/python3.8/site-packages/regain/covariance/graphical_lasso_.py:70: FutureWarning: elementwise comparison failed; returning scalar instead, but in the future will perform elementwise comparison\n",
      "  if mode == 'empirical':\n",
      "\n",
      "regain_tol_0.0001_rtol_1e-06_p_100_N_200_l1_0.05:  50%|█████     | 1/2 [00:00<00:00,  8.75it/s]\u001b[A/Users/oleg.vlasovetc/opt/anaconda3/envs/gglasso/lib/python3.8/site-packages/regain/covariance/graphical_lasso_.py:70: FutureWarning: elementwise comparison failed; returning scalar instead, but in the future will perform elementwise comparison\n",
      "  if mode == 'empirical':\n",
      "regain_tol_0.0001_rtol_1e-06_p_100_N_200_l1_0.05: 100%|██████████| 2/2 [00:00<00:00, 10.35it/s]\n",
      "\n",
      "regain_tol_1e-05_rtol_0.0001_p_100_N_200_l1_0.5:   0%|          | 0/2 [00:00<?, ?it/s]\u001b[A/Users/oleg.vlasovetc/opt/anaconda3/envs/gglasso/lib/python3.8/site-packages/regain/covariance/graphical_lasso_.py:70: FutureWarning: elementwise comparison failed; returning scalar instead, but in the future will perform elementwise comparison\n",
      "  if mode == 'empirical':\n",
      "\n",
      "regain_tol_1e-05_rtol_0.0001_p_100_N_200_l1_0.5:  50%|█████     | 1/2 [00:00<00:00,  9.47it/s]\u001b[A/Users/oleg.vlasovetc/opt/anaconda3/envs/gglasso/lib/python3.8/site-packages/regain/covariance/graphical_lasso_.py:70: FutureWarning: elementwise comparison failed; returning scalar instead, but in the future will perform elementwise comparison\n",
      "  if mode == 'empirical':\n",
      "\n",
      "regain_tol_1e-05_rtol_0.0001_p_100_N_200_l1_0.5: 100%|██████████| 2/2 [00:00<00:00,  9.02it/s]\u001b[A\n",
      "\n",
      "regain_tol_1e-05_rtol_0.0001_p_100_N_200_l1_0.1:   0%|          | 0/2 [00:00<?, ?it/s]\u001b[A/Users/oleg.vlasovetc/opt/anaconda3/envs/gglasso/lib/python3.8/site-packages/regain/covariance/graphical_lasso_.py:70: FutureWarning: elementwise comparison failed; returning scalar instead, but in the future will perform elementwise comparison\n",
      "  if mode == 'empirical':\n"
     ]
    },
    {
     "name": "stderr",
     "output_type": "stream",
     "text": [
      "\n",
      "regain_tol_1e-05_rtol_0.0001_p_100_N_200_l1_0.1:  50%|█████     | 1/2 [00:00<00:00,  9.30it/s]\u001b[A/Users/oleg.vlasovetc/opt/anaconda3/envs/gglasso/lib/python3.8/site-packages/regain/covariance/graphical_lasso_.py:70: FutureWarning: elementwise comparison failed; returning scalar instead, but in the future will perform elementwise comparison\n",
      "  if mode == 'empirical':\n",
      "\n",
      "regain_tol_1e-05_rtol_0.0001_p_100_N_200_l1_0.1: 100%|██████████| 2/2 [00:00<00:00,  9.47it/s]\u001b[A\n",
      "\n",
      "regain_tol_1e-05_rtol_0.0001_p_100_N_200_l1_0.05:   0%|          | 0/2 [00:00<?, ?it/s]\u001b[A/Users/oleg.vlasovetc/opt/anaconda3/envs/gglasso/lib/python3.8/site-packages/regain/covariance/graphical_lasso_.py:70: FutureWarning: elementwise comparison failed; returning scalar instead, but in the future will perform elementwise comparison\n",
      "  if mode == 'empirical':\n",
      "/Users/oleg.vlasovetc/opt/anaconda3/envs/gglasso/lib/python3.8/site-packages/regain/covariance/graphical_lasso_.py:70: FutureWarning: elementwise comparison failed; returning scalar instead, but in the future will perform elementwise comparison\n",
      "  if mode == 'empirical':\n",
      "\n",
      "regain_tol_1e-05_rtol_0.0001_p_100_N_200_l1_0.05: 100%|██████████| 2/2 [00:00<00:00, 14.02it/s]\u001b[A\n",
      "\n",
      "regain_tol_1e-05_rtol_1e-05_p_100_N_200_l1_0.5:   0%|          | 0/2 [00:00<?, ?it/s]\u001b[A/Users/oleg.vlasovetc/opt/anaconda3/envs/gglasso/lib/python3.8/site-packages/regain/covariance/graphical_lasso_.py:70: FutureWarning: elementwise comparison failed; returning scalar instead, but in the future will perform elementwise comparison\n",
      "  if mode == 'empirical':\n",
      "/Users/oleg.vlasovetc/opt/anaconda3/envs/gglasso/lib/python3.8/site-packages/regain/covariance/graphical_lasso_.py:70: FutureWarning: elementwise comparison failed; returning scalar instead, but in the future will perform elementwise comparison\n",
      "  if mode == 'empirical':\n",
      "\n",
      "regain_tol_1e-05_rtol_1e-05_p_100_N_200_l1_0.5: 100%|██████████| 2/2 [00:00<00:00, 11.36it/s]\u001b[A\n",
      "\n",
      "regain_tol_1e-05_rtol_1e-05_p_100_N_200_l1_0.1:   0%|          | 0/2 [00:00<?, ?it/s]\u001b[A/Users/oleg.vlasovetc/opt/anaconda3/envs/gglasso/lib/python3.8/site-packages/regain/covariance/graphical_lasso_.py:70: FutureWarning: elementwise comparison failed; returning scalar instead, but in the future will perform elementwise comparison\n",
      "  if mode == 'empirical':\n",
      "\n",
      "regain_tol_1e-05_rtol_1e-05_p_100_N_200_l1_0.1:  50%|█████     | 1/2 [00:00<00:00,  4.89it/s]\u001b[A/Users/oleg.vlasovetc/opt/anaconda3/envs/gglasso/lib/python3.8/site-packages/regain/covariance/graphical_lasso_.py:70: FutureWarning: elementwise comparison failed; returning scalar instead, but in the future will perform elementwise comparison\n",
      "  if mode == 'empirical':\n",
      "\n",
      "regain_tol_1e-05_rtol_1e-05_p_100_N_200_l1_0.1: 100%|██████████| 2/2 [00:00<00:00,  4.98it/s]\u001b[A\n",
      "\n",
      "regain_tol_1e-05_rtol_1e-05_p_100_N_200_l1_0.05:   0%|          | 0/2 [00:00<?, ?it/s]\u001b[A/Users/oleg.vlasovetc/opt/anaconda3/envs/gglasso/lib/python3.8/site-packages/regain/covariance/graphical_lasso_.py:70: FutureWarning: elementwise comparison failed; returning scalar instead, but in the future will perform elementwise comparison\n",
      "  if mode == 'empirical':\n",
      "\n",
      "regain_tol_1e-05_rtol_1e-05_p_100_N_200_l1_0.05:  50%|█████     | 1/2 [00:00<00:00,  9.31it/s]\u001b[A/Users/oleg.vlasovetc/opt/anaconda3/envs/gglasso/lib/python3.8/site-packages/regain/covariance/graphical_lasso_.py:70: FutureWarning: elementwise comparison failed; returning scalar instead, but in the future will perform elementwise comparison\n",
      "  if mode == 'empirical':\n",
      "\n",
      "regain_tol_1e-05_rtol_1e-05_p_100_N_200_l1_0.05: 100%|██████████| 2/2 [00:00<00:00,  9.11it/s]\u001b[A\n",
      "\n",
      "regain_tol_1e-05_rtol_1e-06_p_100_N_200_l1_0.5:   0%|          | 0/2 [00:00<?, ?it/s]\u001b[A/Users/oleg.vlasovetc/opt/anaconda3/envs/gglasso/lib/python3.8/site-packages/regain/covariance/graphical_lasso_.py:70: FutureWarning: elementwise comparison failed; returning scalar instead, but in the future will perform elementwise comparison\n",
      "  if mode == 'empirical':\n",
      "\n",
      "regain_tol_1e-05_rtol_1e-06_p_100_N_200_l1_0.5:  50%|█████     | 1/2 [00:00<00:00,  8.63it/s]\u001b[A/Users/oleg.vlasovetc/opt/anaconda3/envs/gglasso/lib/python3.8/site-packages/regain/covariance/graphical_lasso_.py:70: FutureWarning: elementwise comparison failed; returning scalar instead, but in the future will perform elementwise comparison\n",
      "  if mode == 'empirical':\n",
      "regain_tol_1e-05_rtol_1e-06_p_100_N_200_l1_0.5: 100%|██████████| 2/2 [00:00<00:00,  9.99it/s]\n",
      "\n",
      "regain_tol_1e-05_rtol_1e-06_p_100_N_200_l1_0.1:   0%|          | 0/2 [00:00<?, ?it/s]\u001b[A/Users/oleg.vlasovetc/opt/anaconda3/envs/gglasso/lib/python3.8/site-packages/regain/covariance/graphical_lasso_.py:70: FutureWarning: elementwise comparison failed; returning scalar instead, but in the future will perform elementwise comparison\n",
      "  if mode == 'empirical':\n",
      "\n",
      "regain_tol_1e-05_rtol_1e-06_p_100_N_200_l1_0.1:  50%|█████     | 1/2 [00:00<00:00,  8.59it/s]\u001b[A/Users/oleg.vlasovetc/opt/anaconda3/envs/gglasso/lib/python3.8/site-packages/regain/covariance/graphical_lasso_.py:70: FutureWarning: elementwise comparison failed; returning scalar instead, but in the future will perform elementwise comparison\n",
      "  if mode == 'empirical':\n",
      "\n",
      "regain_tol_1e-05_rtol_1e-06_p_100_N_200_l1_0.1: 100%|██████████| 2/2 [00:00<00:00,  6.45it/s]\u001b[A\n",
      "\n",
      "regain_tol_1e-05_rtol_1e-06_p_100_N_200_l1_0.05:   0%|          | 0/2 [00:00<?, ?it/s]\u001b[A/Users/oleg.vlasovetc/opt/anaconda3/envs/gglasso/lib/python3.8/site-packages/regain/covariance/graphical_lasso_.py:70: FutureWarning: elementwise comparison failed; returning scalar instead, but in the future will perform elementwise comparison\n",
      "  if mode == 'empirical':\n",
      "/Users/oleg.vlasovetc/opt/anaconda3/envs/gglasso/lib/python3.8/site-packages/regain/covariance/graphical_lasso_.py:70: FutureWarning: elementwise comparison failed; returning scalar instead, but in the future will perform elementwise comparison\n",
      "  if mode == 'empirical':\n",
      "\n",
      "regain_tol_1e-05_rtol_1e-06_p_100_N_200_l1_0.05: 100%|██████████| 2/2 [00:00<00:00, 17.21it/s]\u001b[A\n",
      "\n",
      "regain_tol_1e-06_rtol_0.0001_p_100_N_200_l1_0.5:   0%|          | 0/2 [00:00<?, ?it/s]\u001b[A/Users/oleg.vlasovetc/opt/anaconda3/envs/gglasso/lib/python3.8/site-packages/regain/covariance/graphical_lasso_.py:70: FutureWarning: elementwise comparison failed; returning scalar instead, but in the future will perform elementwise comparison\n",
      "  if mode == 'empirical':\n",
      "/Users/oleg.vlasovetc/opt/anaconda3/envs/gglasso/lib/python3.8/site-packages/regain/covariance/graphical_lasso_.py:70: FutureWarning: elementwise comparison failed; returning scalar instead, but in the future will perform elementwise comparison\n",
      "  if mode == 'empirical':\n",
      "\n",
      "regain_tol_1e-06_rtol_0.0001_p_100_N_200_l1_0.5: 100%|██████████| 2/2 [00:00<00:00, 12.48it/s]\u001b[A\n",
      "\n",
      "regain_tol_1e-06_rtol_0.0001_p_100_N_200_l1_0.1:   0%|          | 0/2 [00:00<?, ?it/s]\u001b[A/Users/oleg.vlasovetc/opt/anaconda3/envs/gglasso/lib/python3.8/site-packages/regain/covariance/graphical_lasso_.py:70: FutureWarning: elementwise comparison failed; returning scalar instead, but in the future will perform elementwise comparison\n",
      "  if mode == 'empirical':\n",
      "\n",
      "regain_tol_1e-06_rtol_0.0001_p_100_N_200_l1_0.1:  50%|█████     | 1/2 [00:00<00:00,  7.66it/s]\u001b[A/Users/oleg.vlasovetc/opt/anaconda3/envs/gglasso/lib/python3.8/site-packages/regain/covariance/graphical_lasso_.py:70: FutureWarning: elementwise comparison failed; returning scalar instead, but in the future will perform elementwise comparison\n",
      "  if mode == 'empirical':\n",
      "\n",
      "regain_tol_1e-06_rtol_0.0001_p_100_N_200_l1_0.1: 100%|██████████| 2/2 [00:00<00:00,  7.95it/s]\u001b[A\n",
      "\n",
      "regain_tol_1e-06_rtol_0.0001_p_100_N_200_l1_0.05:   0%|          | 0/2 [00:00<?, ?it/s]\u001b[A/Users/oleg.vlasovetc/opt/anaconda3/envs/gglasso/lib/python3.8/site-packages/regain/covariance/graphical_lasso_.py:70: FutureWarning: elementwise comparison failed; returning scalar instead, but in the future will perform elementwise comparison\n",
      "  if mode == 'empirical':\n",
      "/Users/oleg.vlasovetc/opt/anaconda3/envs/gglasso/lib/python3.8/site-packages/regain/covariance/graphical_lasso_.py:70: FutureWarning: elementwise comparison failed; returning scalar instead, but in the future will perform elementwise comparison\n",
      "  if mode == 'empirical':\n",
      "\n"
     ]
    },
    {
     "name": "stderr",
     "output_type": "stream",
     "text": [
      "regain_tol_1e-06_rtol_0.0001_p_100_N_200_l1_0.05: 100%|██████████| 2/2 [00:00<00:00, 12.27it/s]\u001b[A\n",
      "\n",
      "regain_tol_1e-06_rtol_1e-05_p_100_N_200_l1_0.5:   0%|          | 0/2 [00:00<?, ?it/s]\u001b[A/Users/oleg.vlasovetc/opt/anaconda3/envs/gglasso/lib/python3.8/site-packages/regain/covariance/graphical_lasso_.py:70: FutureWarning: elementwise comparison failed; returning scalar instead, but in the future will perform elementwise comparison\n",
      "  if mode == 'empirical':\n",
      "\n",
      "regain_tol_1e-06_rtol_1e-05_p_100_N_200_l1_0.5:  50%|█████     | 1/2 [00:00<00:00,  9.40it/s]\u001b[A/Users/oleg.vlasovetc/opt/anaconda3/envs/gglasso/lib/python3.8/site-packages/regain/covariance/graphical_lasso_.py:70: FutureWarning: elementwise comparison failed; returning scalar instead, but in the future will perform elementwise comparison\n",
      "  if mode == 'empirical':\n",
      "regain_tol_1e-06_rtol_1e-05_p_100_N_200_l1_0.5: 100%|██████████| 2/2 [00:00<00:00,  9.70it/s]\n",
      "\n",
      "regain_tol_1e-06_rtol_1e-05_p_100_N_200_l1_0.1:   0%|          | 0/2 [00:00<?, ?it/s]\u001b[A/Users/oleg.vlasovetc/opt/anaconda3/envs/gglasso/lib/python3.8/site-packages/regain/covariance/graphical_lasso_.py:70: FutureWarning: elementwise comparison failed; returning scalar instead, but in the future will perform elementwise comparison\n",
      "  if mode == 'empirical':\n",
      "\n",
      "regain_tol_1e-06_rtol_1e-05_p_100_N_200_l1_0.1:  50%|█████     | 1/2 [00:00<00:00,  4.91it/s]\u001b[A/Users/oleg.vlasovetc/opt/anaconda3/envs/gglasso/lib/python3.8/site-packages/regain/covariance/graphical_lasso_.py:70: FutureWarning: elementwise comparison failed; returning scalar instead, but in the future will perform elementwise comparison\n",
      "  if mode == 'empirical':\n",
      "\n",
      "regain_tol_1e-06_rtol_1e-05_p_100_N_200_l1_0.1: 100%|██████████| 2/2 [00:00<00:00,  5.28it/s]\u001b[A\n",
      "\n",
      "regain_tol_1e-06_rtol_1e-05_p_100_N_200_l1_0.05:   0%|          | 0/2 [00:00<?, ?it/s]\u001b[A/Users/oleg.vlasovetc/opt/anaconda3/envs/gglasso/lib/python3.8/site-packages/regain/covariance/graphical_lasso_.py:70: FutureWarning: elementwise comparison failed; returning scalar instead, but in the future will perform elementwise comparison\n",
      "  if mode == 'empirical':\n",
      "\n",
      "regain_tol_1e-06_rtol_1e-05_p_100_N_200_l1_0.05:  50%|█████     | 1/2 [00:00<00:00,  9.64it/s]\u001b[A/Users/oleg.vlasovetc/opt/anaconda3/envs/gglasso/lib/python3.8/site-packages/regain/covariance/graphical_lasso_.py:70: FutureWarning: elementwise comparison failed; returning scalar instead, but in the future will perform elementwise comparison\n",
      "  if mode == 'empirical':\n",
      "regain_tol_1e-06_rtol_1e-05_p_100_N_200_l1_0.05: 100%|██████████| 2/2 [00:00<00:00, 10.69it/s]\n",
      "\n",
      "regain_tol_1e-06_rtol_1e-06_p_100_N_200_l1_0.5:   0%|          | 0/2 [00:00<?, ?it/s]\u001b[A/Users/oleg.vlasovetc/opt/anaconda3/envs/gglasso/lib/python3.8/site-packages/regain/covariance/graphical_lasso_.py:70: FutureWarning: elementwise comparison failed; returning scalar instead, but in the future will perform elementwise comparison\n",
      "  if mode == 'empirical':\n",
      "/Users/oleg.vlasovetc/opt/anaconda3/envs/gglasso/lib/python3.8/site-packages/regain/covariance/graphical_lasso_.py:70: FutureWarning: elementwise comparison failed; returning scalar instead, but in the future will perform elementwise comparison\n",
      "  if mode == 'empirical':\n",
      "\n",
      "regain_tol_1e-06_rtol_1e-06_p_100_N_200_l1_0.5: 100%|██████████| 2/2 [00:00<00:00,  9.91it/s]\u001b[A\n",
      "\n",
      "regain_tol_1e-06_rtol_1e-06_p_100_N_200_l1_0.1:   0%|          | 0/2 [00:00<?, ?it/s]\u001b[A/Users/oleg.vlasovetc/opt/anaconda3/envs/gglasso/lib/python3.8/site-packages/regain/covariance/graphical_lasso_.py:70: FutureWarning: elementwise comparison failed; returning scalar instead, but in the future will perform elementwise comparison\n",
      "  if mode == 'empirical':\n",
      "\n",
      "regain_tol_1e-06_rtol_1e-06_p_100_N_200_l1_0.1:  50%|█████     | 1/2 [00:00<00:00,  5.61it/s]\u001b[A/Users/oleg.vlasovetc/opt/anaconda3/envs/gglasso/lib/python3.8/site-packages/regain/covariance/graphical_lasso_.py:70: FutureWarning: elementwise comparison failed; returning scalar instead, but in the future will perform elementwise comparison\n",
      "  if mode == 'empirical':\n",
      "\n",
      "regain_tol_1e-06_rtol_1e-06_p_100_N_200_l1_0.1: 100%|██████████| 2/2 [00:00<00:00,  5.72it/s]\u001b[A\n",
      "\n",
      "regain_tol_1e-06_rtol_1e-06_p_100_N_200_l1_0.05:   0%|          | 0/2 [00:00<?, ?it/s]\u001b[A/Users/oleg.vlasovetc/opt/anaconda3/envs/gglasso/lib/python3.8/site-packages/regain/covariance/graphical_lasso_.py:70: FutureWarning: elementwise comparison failed; returning scalar instead, but in the future will perform elementwise comparison\n",
      "  if mode == 'empirical':\n",
      "\n",
      "regain_tol_1e-06_rtol_1e-06_p_100_N_200_l1_0.05:  50%|█████     | 1/2 [00:00<00:00,  7.58it/s]\u001b[A/Users/oleg.vlasovetc/opt/anaconda3/envs/gglasso/lib/python3.8/site-packages/regain/covariance/graphical_lasso_.py:70: FutureWarning: elementwise comparison failed; returning scalar instead, but in the future will perform elementwise comparison\n",
      "  if mode == 'empirical':\n",
      "\n",
      "regain_tol_1e-06_rtol_1e-06_p_100_N_200_l1_0.05: 100%|██████████| 2/2 [00:00<00:00,  8.37it/s]\u001b[A\n",
      "\n",
      "regain_tol_0.0001_rtol_0.0001_p_200_N_400_l1_0.5:   0%|          | 0/2 [00:00<?, ?it/s]\u001b[A/Users/oleg.vlasovetc/opt/anaconda3/envs/gglasso/lib/python3.8/site-packages/regain/covariance/graphical_lasso_.py:70: FutureWarning: elementwise comparison failed; returning scalar instead, but in the future will perform elementwise comparison\n",
      "  if mode == 'empirical':\n",
      "\n",
      "regain_tol_0.0001_rtol_0.0001_p_200_N_400_l1_0.5:  50%|█████     | 1/2 [00:00<00:00,  6.35it/s]\u001b[A/Users/oleg.vlasovetc/opt/anaconda3/envs/gglasso/lib/python3.8/site-packages/regain/covariance/graphical_lasso_.py:70: FutureWarning: elementwise comparison failed; returning scalar instead, but in the future will perform elementwise comparison\n",
      "  if mode == 'empirical':\n",
      "\n",
      "regain_tol_0.0001_rtol_0.0001_p_200_N_400_l1_0.5: 100%|██████████| 2/2 [00:00<00:00,  6.54it/s]\u001b[A\n",
      "\n",
      "regain_tol_0.0001_rtol_0.0001_p_200_N_400_l1_0.1:   0%|          | 0/2 [00:00<?, ?it/s]\u001b[A/Users/oleg.vlasovetc/opt/anaconda3/envs/gglasso/lib/python3.8/site-packages/regain/covariance/graphical_lasso_.py:70: FutureWarning: elementwise comparison failed; returning scalar instead, but in the future will perform elementwise comparison\n",
      "  if mode == 'empirical':\n",
      "\n",
      "regain_tol_0.0001_rtol_0.0001_p_200_N_400_l1_0.1:  50%|█████     | 1/2 [00:00<00:00,  5.65it/s]\u001b[A/Users/oleg.vlasovetc/opt/anaconda3/envs/gglasso/lib/python3.8/site-packages/regain/covariance/graphical_lasso_.py:70: FutureWarning: elementwise comparison failed; returning scalar instead, but in the future will perform elementwise comparison\n",
      "  if mode == 'empirical':\n",
      "\n",
      "regain_tol_0.0001_rtol_0.0001_p_200_N_400_l1_0.1: 100%|██████████| 2/2 [00:00<00:00,  5.19it/s]\u001b[A\n",
      "\n",
      "regain_tol_0.0001_rtol_0.0001_p_200_N_400_l1_0.05:   0%|          | 0/2 [00:00<?, ?it/s]\u001b[A/Users/oleg.vlasovetc/opt/anaconda3/envs/gglasso/lib/python3.8/site-packages/regain/covariance/graphical_lasso_.py:70: FutureWarning: elementwise comparison failed; returning scalar instead, but in the future will perform elementwise comparison\n",
      "  if mode == 'empirical':\n",
      "\n",
      "regain_tol_0.0001_rtol_0.0001_p_200_N_400_l1_0.05:  50%|█████     | 1/2 [00:00<00:00,  7.16it/s]\u001b[A/Users/oleg.vlasovetc/opt/anaconda3/envs/gglasso/lib/python3.8/site-packages/regain/covariance/graphical_lasso_.py:70: FutureWarning: elementwise comparison failed; returning scalar instead, but in the future will perform elementwise comparison\n",
      "  if mode == 'empirical':\n",
      "\n",
      "regain_tol_0.0001_rtol_0.0001_p_200_N_400_l1_0.05: 100%|██████████| 2/2 [00:00<00:00,  6.74it/s]\u001b[A\n",
      "\n",
      "regain_tol_0.0001_rtol_1e-05_p_200_N_400_l1_0.5:   0%|          | 0/2 [00:00<?, ?it/s]\u001b[A/Users/oleg.vlasovetc/opt/anaconda3/envs/gglasso/lib/python3.8/site-packages/regain/covariance/graphical_lasso_.py:70: FutureWarning: elementwise comparison failed; returning scalar instead, but in the future will perform elementwise comparison\n",
      "  if mode == 'empirical':\n",
      "\n",
      "regain_tol_0.0001_rtol_1e-05_p_200_N_400_l1_0.5:  50%|█████     | 1/2 [00:00<00:00,  6.11it/s]\u001b[A/Users/oleg.vlasovetc/opt/anaconda3/envs/gglasso/lib/python3.8/site-packages/regain/covariance/graphical_lasso_.py:70: FutureWarning: elementwise comparison failed; returning scalar instead, but in the future will perform elementwise comparison\n",
      "  if mode == 'empirical':\n",
      "\n"
     ]
    },
    {
     "name": "stderr",
     "output_type": "stream",
     "text": [
      "regain_tol_0.0001_rtol_1e-05_p_200_N_400_l1_0.5: 100%|██████████| 2/2 [00:00<00:00,  6.27it/s]\u001b[A\n",
      "\n",
      "regain_tol_0.0001_rtol_1e-05_p_200_N_400_l1_0.1:   0%|          | 0/2 [00:00<?, ?it/s]\u001b[A/Users/oleg.vlasovetc/opt/anaconda3/envs/gglasso/lib/python3.8/site-packages/regain/covariance/graphical_lasso_.py:70: FutureWarning: elementwise comparison failed; returning scalar instead, but in the future will perform elementwise comparison\n",
      "  if mode == 'empirical':\n",
      "\n",
      "regain_tol_0.0001_rtol_1e-05_p_200_N_400_l1_0.1:  50%|█████     | 1/2 [00:00<00:00,  6.43it/s]\u001b[A/Users/oleg.vlasovetc/opt/anaconda3/envs/gglasso/lib/python3.8/site-packages/regain/covariance/graphical_lasso_.py:70: FutureWarning: elementwise comparison failed; returning scalar instead, but in the future will perform elementwise comparison\n",
      "  if mode == 'empirical':\n",
      "\n",
      "regain_tol_0.0001_rtol_1e-05_p_200_N_400_l1_0.1: 100%|██████████| 2/2 [00:00<00:00,  6.54it/s]\u001b[A\n",
      "\n",
      "regain_tol_0.0001_rtol_1e-05_p_200_N_400_l1_0.05:   0%|          | 0/2 [00:00<?, ?it/s]\u001b[A/Users/oleg.vlasovetc/opt/anaconda3/envs/gglasso/lib/python3.8/site-packages/regain/covariance/graphical_lasso_.py:70: FutureWarning: elementwise comparison failed; returning scalar instead, but in the future will perform elementwise comparison\n",
      "  if mode == 'empirical':\n",
      "\n",
      "regain_tol_0.0001_rtol_1e-05_p_200_N_400_l1_0.05:  50%|█████     | 1/2 [00:00<00:00,  7.45it/s]\u001b[A/Users/oleg.vlasovetc/opt/anaconda3/envs/gglasso/lib/python3.8/site-packages/regain/covariance/graphical_lasso_.py:70: FutureWarning: elementwise comparison failed; returning scalar instead, but in the future will perform elementwise comparison\n",
      "  if mode == 'empirical':\n",
      "\n",
      "regain_tol_0.0001_rtol_1e-05_p_200_N_400_l1_0.05: 100%|██████████| 2/2 [00:00<00:00,  7.26it/s]\u001b[A\n",
      "\n",
      "regain_tol_0.0001_rtol_1e-06_p_200_N_400_l1_0.5:   0%|          | 0/2 [00:00<?, ?it/s]\u001b[A/Users/oleg.vlasovetc/opt/anaconda3/envs/gglasso/lib/python3.8/site-packages/regain/covariance/graphical_lasso_.py:70: FutureWarning: elementwise comparison failed; returning scalar instead, but in the future will perform elementwise comparison\n",
      "  if mode == 'empirical':\n",
      "\n",
      "regain_tol_0.0001_rtol_1e-06_p_200_N_400_l1_0.5:  50%|█████     | 1/2 [00:00<00:00,  6.93it/s]\u001b[A/Users/oleg.vlasovetc/opt/anaconda3/envs/gglasso/lib/python3.8/site-packages/regain/covariance/graphical_lasso_.py:70: FutureWarning: elementwise comparison failed; returning scalar instead, but in the future will perform elementwise comparison\n",
      "  if mode == 'empirical':\n",
      "\n",
      "regain_tol_0.0001_rtol_1e-06_p_200_N_400_l1_0.5: 100%|██████████| 2/2 [00:00<00:00,  6.34it/s]\u001b[A\n",
      "\n",
      "regain_tol_0.0001_rtol_1e-06_p_200_N_400_l1_0.1:   0%|          | 0/2 [00:00<?, ?it/s]\u001b[A/Users/oleg.vlasovetc/opt/anaconda3/envs/gglasso/lib/python3.8/site-packages/regain/covariance/graphical_lasso_.py:70: FutureWarning: elementwise comparison failed; returning scalar instead, but in the future will perform elementwise comparison\n",
      "  if mode == 'empirical':\n",
      "\n",
      "regain_tol_0.0001_rtol_1e-06_p_200_N_400_l1_0.1:  50%|█████     | 1/2 [00:00<00:00,  4.70it/s]\u001b[A/Users/oleg.vlasovetc/opt/anaconda3/envs/gglasso/lib/python3.8/site-packages/regain/covariance/graphical_lasso_.py:70: FutureWarning: elementwise comparison failed; returning scalar instead, but in the future will perform elementwise comparison\n",
      "  if mode == 'empirical':\n",
      "\n",
      "regain_tol_0.0001_rtol_1e-06_p_200_N_400_l1_0.1: 100%|██████████| 2/2 [00:00<00:00,  5.42it/s]\u001b[A\n",
      "\n",
      "regain_tol_0.0001_rtol_1e-06_p_200_N_400_l1_0.05:   0%|          | 0/2 [00:00<?, ?it/s]\u001b[A/Users/oleg.vlasovetc/opt/anaconda3/envs/gglasso/lib/python3.8/site-packages/regain/covariance/graphical_lasso_.py:70: FutureWarning: elementwise comparison failed; returning scalar instead, but in the future will perform elementwise comparison\n",
      "  if mode == 'empirical':\n",
      "\n",
      "regain_tol_0.0001_rtol_1e-06_p_200_N_400_l1_0.05:  50%|█████     | 1/2 [00:00<00:00,  6.69it/s]\u001b[A/Users/oleg.vlasovetc/opt/anaconda3/envs/gglasso/lib/python3.8/site-packages/regain/covariance/graphical_lasso_.py:70: FutureWarning: elementwise comparison failed; returning scalar instead, but in the future will perform elementwise comparison\n",
      "  if mode == 'empirical':\n",
      "\n",
      "regain_tol_0.0001_rtol_1e-06_p_200_N_400_l1_0.05: 100%|██████████| 2/2 [00:00<00:00,  6.26it/s]\u001b[A\n",
      "\n",
      "regain_tol_1e-05_rtol_0.0001_p_200_N_400_l1_0.5:   0%|          | 0/2 [00:00<?, ?it/s]\u001b[A/Users/oleg.vlasovetc/opt/anaconda3/envs/gglasso/lib/python3.8/site-packages/regain/covariance/graphical_lasso_.py:70: FutureWarning: elementwise comparison failed; returning scalar instead, but in the future will perform elementwise comparison\n",
      "  if mode == 'empirical':\n",
      "\n",
      "regain_tol_1e-05_rtol_0.0001_p_200_N_400_l1_0.5:  50%|█████     | 1/2 [00:00<00:00,  3.27it/s]\u001b[A/Users/oleg.vlasovetc/opt/anaconda3/envs/gglasso/lib/python3.8/site-packages/regain/covariance/graphical_lasso_.py:70: FutureWarning: elementwise comparison failed; returning scalar instead, but in the future will perform elementwise comparison\n",
      "  if mode == 'empirical':\n",
      "\n",
      "regain_tol_1e-05_rtol_0.0001_p_200_N_400_l1_0.5: 100%|██████████| 2/2 [00:00<00:00,  3.68it/s]\u001b[A\n",
      "\n",
      "regain_tol_1e-05_rtol_0.0001_p_200_N_400_l1_0.1:   0%|          | 0/2 [00:00<?, ?it/s]\u001b[A/Users/oleg.vlasovetc/opt/anaconda3/envs/gglasso/lib/python3.8/site-packages/regain/covariance/graphical_lasso_.py:70: FutureWarning: elementwise comparison failed; returning scalar instead, but in the future will perform elementwise comparison\n",
      "  if mode == 'empirical':\n",
      "\n",
      "regain_tol_1e-05_rtol_0.0001_p_200_N_400_l1_0.1:  50%|█████     | 1/2 [00:00<00:00,  2.72it/s]\u001b[A/Users/oleg.vlasovetc/opt/anaconda3/envs/gglasso/lib/python3.8/site-packages/regain/covariance/graphical_lasso_.py:70: FutureWarning: elementwise comparison failed; returning scalar instead, but in the future will perform elementwise comparison\n",
      "  if mode == 'empirical':\n",
      "\n",
      "regain_tol_1e-05_rtol_0.0001_p_200_N_400_l1_0.1: 100%|██████████| 2/2 [00:00<00:00,  2.87it/s]\u001b[A\n",
      "\n",
      "regain_tol_1e-05_rtol_0.0001_p_200_N_400_l1_0.05:   0%|          | 0/2 [00:00<?, ?it/s]\u001b[A/Users/oleg.vlasovetc/opt/anaconda3/envs/gglasso/lib/python3.8/site-packages/regain/covariance/graphical_lasso_.py:70: FutureWarning: elementwise comparison failed; returning scalar instead, but in the future will perform elementwise comparison\n",
      "  if mode == 'empirical':\n",
      "\n",
      "regain_tol_1e-05_rtol_0.0001_p_200_N_400_l1_0.05:  50%|█████     | 1/2 [00:00<00:00,  4.75it/s]\u001b[A/Users/oleg.vlasovetc/opt/anaconda3/envs/gglasso/lib/python3.8/site-packages/regain/covariance/graphical_lasso_.py:70: FutureWarning: elementwise comparison failed; returning scalar instead, but in the future will perform elementwise comparison\n",
      "  if mode == 'empirical':\n",
      "\n",
      "regain_tol_1e-05_rtol_0.0001_p_200_N_400_l1_0.05: 100%|██████████| 2/2 [00:00<00:00,  4.32it/s]\u001b[A\n",
      "\n",
      "regain_tol_1e-05_rtol_1e-05_p_200_N_400_l1_0.5:   0%|          | 0/2 [00:00<?, ?it/s]\u001b[A/Users/oleg.vlasovetc/opt/anaconda3/envs/gglasso/lib/python3.8/site-packages/regain/covariance/graphical_lasso_.py:70: FutureWarning: elementwise comparison failed; returning scalar instead, but in the future will perform elementwise comparison\n",
      "  if mode == 'empirical':\n",
      "\n",
      "regain_tol_1e-05_rtol_1e-05_p_200_N_400_l1_0.5:  50%|█████     | 1/2 [00:00<00:00,  3.08it/s]\u001b[A/Users/oleg.vlasovetc/opt/anaconda3/envs/gglasso/lib/python3.8/site-packages/regain/covariance/graphical_lasso_.py:70: FutureWarning: elementwise comparison failed; returning scalar instead, but in the future will perform elementwise comparison\n",
      "  if mode == 'empirical':\n",
      "\n",
      "regain_tol_1e-05_rtol_1e-05_p_200_N_400_l1_0.5: 100%|██████████| 2/2 [00:00<00:00,  3.31it/s]\u001b[A\n",
      "\n",
      "regain_tol_1e-05_rtol_1e-05_p_200_N_400_l1_0.1:   0%|          | 0/2 [00:00<?, ?it/s]\u001b[A/Users/oleg.vlasovetc/opt/anaconda3/envs/gglasso/lib/python3.8/site-packages/regain/covariance/graphical_lasso_.py:70: FutureWarning: elementwise comparison failed; returning scalar instead, but in the future will perform elementwise comparison\n",
      "  if mode == 'empirical':\n",
      "\n",
      "regain_tol_1e-05_rtol_1e-05_p_200_N_400_l1_0.1:  50%|█████     | 1/2 [00:00<00:00,  2.65it/s]\u001b[A/Users/oleg.vlasovetc/opt/anaconda3/envs/gglasso/lib/python3.8/site-packages/regain/covariance/graphical_lasso_.py:70: FutureWarning: elementwise comparison failed; returning scalar instead, but in the future will perform elementwise comparison\n",
      "  if mode == 'empirical':\n"
     ]
    },
    {
     "name": "stderr",
     "output_type": "stream",
     "text": [
      "\n",
      "regain_tol_1e-05_rtol_1e-05_p_200_N_400_l1_0.1: 100%|██████████| 2/2 [00:00<00:00,  3.04it/s]\u001b[A\n",
      "\n",
      "regain_tol_1e-05_rtol_1e-05_p_200_N_400_l1_0.05:   0%|          | 0/2 [00:00<?, ?it/s]\u001b[A/Users/oleg.vlasovetc/opt/anaconda3/envs/gglasso/lib/python3.8/site-packages/regain/covariance/graphical_lasso_.py:70: FutureWarning: elementwise comparison failed; returning scalar instead, but in the future will perform elementwise comparison\n",
      "  if mode == 'empirical':\n",
      "\n",
      "regain_tol_1e-05_rtol_1e-05_p_200_N_400_l1_0.05:  50%|█████     | 1/2 [00:00<00:00,  3.09it/s]\u001b[A/Users/oleg.vlasovetc/opt/anaconda3/envs/gglasso/lib/python3.8/site-packages/regain/covariance/graphical_lasso_.py:70: FutureWarning: elementwise comparison failed; returning scalar instead, but in the future will perform elementwise comparison\n",
      "  if mode == 'empirical':\n",
      "\n",
      "regain_tol_1e-05_rtol_1e-05_p_200_N_400_l1_0.05: 100%|██████████| 2/2 [00:00<00:00,  3.37it/s]\u001b[A\n",
      "\n",
      "regain_tol_1e-05_rtol_1e-06_p_200_N_400_l1_0.5:   0%|          | 0/2 [00:00<?, ?it/s]\u001b[A/Users/oleg.vlasovetc/opt/anaconda3/envs/gglasso/lib/python3.8/site-packages/regain/covariance/graphical_lasso_.py:70: FutureWarning: elementwise comparison failed; returning scalar instead, but in the future will perform elementwise comparison\n",
      "  if mode == 'empirical':\n",
      "\n",
      "regain_tol_1e-05_rtol_1e-06_p_200_N_400_l1_0.5:  50%|█████     | 1/2 [00:00<00:00,  3.64it/s]\u001b[A/Users/oleg.vlasovetc/opt/anaconda3/envs/gglasso/lib/python3.8/site-packages/regain/covariance/graphical_lasso_.py:70: FutureWarning: elementwise comparison failed; returning scalar instead, but in the future will perform elementwise comparison\n",
      "  if mode == 'empirical':\n",
      "\n",
      "regain_tol_1e-05_rtol_1e-06_p_200_N_400_l1_0.5: 100%|██████████| 2/2 [00:00<00:00,  3.26it/s]\u001b[A\n",
      "\n",
      "regain_tol_1e-05_rtol_1e-06_p_200_N_400_l1_0.1:   0%|          | 0/2 [00:00<?, ?it/s]\u001b[A/Users/oleg.vlasovetc/opt/anaconda3/envs/gglasso/lib/python3.8/site-packages/regain/covariance/graphical_lasso_.py:70: FutureWarning: elementwise comparison failed; returning scalar instead, but in the future will perform elementwise comparison\n",
      "  if mode == 'empirical':\n",
      "\n",
      "regain_tol_1e-05_rtol_1e-06_p_200_N_400_l1_0.1:  50%|█████     | 1/2 [00:00<00:00,  3.02it/s]\u001b[A/Users/oleg.vlasovetc/opt/anaconda3/envs/gglasso/lib/python3.8/site-packages/regain/covariance/graphical_lasso_.py:70: FutureWarning: elementwise comparison failed; returning scalar instead, but in the future will perform elementwise comparison\n",
      "  if mode == 'empirical':\n",
      "\n",
      "regain_tol_1e-05_rtol_1e-06_p_200_N_400_l1_0.1: 100%|██████████| 2/2 [00:00<00:00,  3.04it/s]\u001b[A\n",
      "\n",
      "regain_tol_1e-05_rtol_1e-06_p_200_N_400_l1_0.05:   0%|          | 0/2 [00:00<?, ?it/s]\u001b[A/Users/oleg.vlasovetc/opt/anaconda3/envs/gglasso/lib/python3.8/site-packages/regain/covariance/graphical_lasso_.py:70: FutureWarning: elementwise comparison failed; returning scalar instead, but in the future will perform elementwise comparison\n",
      "  if mode == 'empirical':\n",
      "\n",
      "regain_tol_1e-05_rtol_1e-06_p_200_N_400_l1_0.05:  50%|█████     | 1/2 [00:00<00:00,  4.18it/s]\u001b[A/Users/oleg.vlasovetc/opt/anaconda3/envs/gglasso/lib/python3.8/site-packages/regain/covariance/graphical_lasso_.py:70: FutureWarning: elementwise comparison failed; returning scalar instead, but in the future will perform elementwise comparison\n",
      "  if mode == 'empirical':\n",
      "\n",
      "regain_tol_1e-05_rtol_1e-06_p_200_N_400_l1_0.05: 100%|██████████| 2/2 [00:00<00:00,  4.13it/s]\u001b[A\n",
      "\n",
      "regain_tol_1e-06_rtol_0.0001_p_200_N_400_l1_0.5:   0%|          | 0/2 [00:00<?, ?it/s]\u001b[A/Users/oleg.vlasovetc/opt/anaconda3/envs/gglasso/lib/python3.8/site-packages/regain/covariance/graphical_lasso_.py:70: FutureWarning: elementwise comparison failed; returning scalar instead, but in the future will perform elementwise comparison\n",
      "  if mode == 'empirical':\n",
      "\n",
      "regain_tol_1e-06_rtol_0.0001_p_200_N_400_l1_0.5:  50%|█████     | 1/2 [00:00<00:00,  4.36it/s]\u001b[A/Users/oleg.vlasovetc/opt/anaconda3/envs/gglasso/lib/python3.8/site-packages/regain/covariance/graphical_lasso_.py:70: FutureWarning: elementwise comparison failed; returning scalar instead, but in the future will perform elementwise comparison\n",
      "  if mode == 'empirical':\n",
      "\n",
      "regain_tol_1e-06_rtol_0.0001_p_200_N_400_l1_0.5: 100%|██████████| 2/2 [00:00<00:00,  4.42it/s]\u001b[A\n",
      "\n",
      "regain_tol_1e-06_rtol_0.0001_p_200_N_400_l1_0.1:   0%|          | 0/2 [00:00<?, ?it/s]\u001b[A/Users/oleg.vlasovetc/opt/anaconda3/envs/gglasso/lib/python3.8/site-packages/regain/covariance/graphical_lasso_.py:70: FutureWarning: elementwise comparison failed; returning scalar instead, but in the future will perform elementwise comparison\n",
      "  if mode == 'empirical':\n",
      "\n",
      "regain_tol_1e-06_rtol_0.0001_p_200_N_400_l1_0.1:  50%|█████     | 1/2 [00:00<00:00,  2.65it/s]\u001b[A/Users/oleg.vlasovetc/opt/anaconda3/envs/gglasso/lib/python3.8/site-packages/regain/covariance/graphical_lasso_.py:70: FutureWarning: elementwise comparison failed; returning scalar instead, but in the future will perform elementwise comparison\n",
      "  if mode == 'empirical':\n",
      "\n",
      "regain_tol_1e-06_rtol_0.0001_p_200_N_400_l1_0.1: 100%|██████████| 2/2 [00:00<00:00,  2.64it/s]\u001b[A\n",
      "\n",
      "regain_tol_1e-06_rtol_0.0001_p_200_N_400_l1_0.05:   0%|          | 0/2 [00:00<?, ?it/s]\u001b[A/Users/oleg.vlasovetc/opt/anaconda3/envs/gglasso/lib/python3.8/site-packages/regain/covariance/graphical_lasso_.py:70: FutureWarning: elementwise comparison failed; returning scalar instead, but in the future will perform elementwise comparison\n",
      "  if mode == 'empirical':\n",
      "\n",
      "regain_tol_1e-06_rtol_0.0001_p_200_N_400_l1_0.05:  50%|█████     | 1/2 [00:00<00:00,  2.66it/s]\u001b[A/Users/oleg.vlasovetc/opt/anaconda3/envs/gglasso/lib/python3.8/site-packages/regain/covariance/graphical_lasso_.py:70: FutureWarning: elementwise comparison failed; returning scalar instead, but in the future will perform elementwise comparison\n",
      "  if mode == 'empirical':\n",
      "\n",
      "regain_tol_1e-06_rtol_0.0001_p_200_N_400_l1_0.05: 100%|██████████| 2/2 [00:00<00:00,  2.98it/s]\u001b[A\n",
      "\n",
      "regain_tol_1e-06_rtol_1e-05_p_200_N_400_l1_0.5:   0%|          | 0/2 [00:00<?, ?it/s]\u001b[A/Users/oleg.vlasovetc/opt/anaconda3/envs/gglasso/lib/python3.8/site-packages/regain/covariance/graphical_lasso_.py:70: FutureWarning: elementwise comparison failed; returning scalar instead, but in the future will perform elementwise comparison\n",
      "  if mode == 'empirical':\n",
      "\n",
      "regain_tol_1e-06_rtol_1e-05_p_200_N_400_l1_0.5:  50%|█████     | 1/2 [00:00<00:00,  3.10it/s]\u001b[A/Users/oleg.vlasovetc/opt/anaconda3/envs/gglasso/lib/python3.8/site-packages/regain/covariance/graphical_lasso_.py:70: FutureWarning: elementwise comparison failed; returning scalar instead, but in the future will perform elementwise comparison\n",
      "  if mode == 'empirical':\n",
      "\n",
      "regain_tol_1e-06_rtol_1e-05_p_200_N_400_l1_0.5: 100%|██████████| 2/2 [00:00<00:00,  3.19it/s]\u001b[A\n",
      "\n",
      "regain_tol_1e-06_rtol_1e-05_p_200_N_400_l1_0.1:   0%|          | 0/2 [00:00<?, ?it/s]\u001b[A/Users/oleg.vlasovetc/opt/anaconda3/envs/gglasso/lib/python3.8/site-packages/regain/covariance/graphical_lasso_.py:70: FutureWarning: elementwise comparison failed; returning scalar instead, but in the future will perform elementwise comparison\n",
      "  if mode == 'empirical':\n",
      "\n",
      "regain_tol_1e-06_rtol_1e-05_p_200_N_400_l1_0.1:  50%|█████     | 1/2 [00:00<00:00,  2.77it/s]\u001b[A/Users/oleg.vlasovetc/opt/anaconda3/envs/gglasso/lib/python3.8/site-packages/regain/covariance/graphical_lasso_.py:70: FutureWarning: elementwise comparison failed; returning scalar instead, but in the future will perform elementwise comparison\n",
      "  if mode == 'empirical':\n",
      "\n",
      "regain_tol_1e-06_rtol_1e-05_p_200_N_400_l1_0.1: 100%|██████████| 2/2 [00:00<00:00,  2.18it/s]\u001b[A\n",
      "\n",
      "regain_tol_1e-06_rtol_1e-05_p_200_N_400_l1_0.05:   0%|          | 0/2 [00:00<?, ?it/s]\u001b[A/Users/oleg.vlasovetc/opt/anaconda3/envs/gglasso/lib/python3.8/site-packages/regain/covariance/graphical_lasso_.py:70: FutureWarning: elementwise comparison failed; returning scalar instead, but in the future will perform elementwise comparison\n",
      "  if mode == 'empirical':\n",
      "\n",
      "regain_tol_1e-06_rtol_1e-05_p_200_N_400_l1_0.05:  50%|█████     | 1/2 [00:00<00:00,  2.44it/s]\u001b[A/Users/oleg.vlasovetc/opt/anaconda3/envs/gglasso/lib/python3.8/site-packages/regain/covariance/graphical_lasso_.py:70: FutureWarning: elementwise comparison failed; returning scalar instead, but in the future will perform elementwise comparison\n",
      "  if mode == 'empirical':\n"
     ]
    },
    {
     "name": "stderr",
     "output_type": "stream",
     "text": [
      "\n",
      "regain_tol_1e-06_rtol_1e-05_p_200_N_400_l1_0.05: 100%|██████████| 2/2 [00:00<00:00,  2.33it/s]\u001b[A\n",
      "\n",
      "regain_tol_1e-06_rtol_1e-06_p_200_N_400_l1_0.5:   0%|          | 0/2 [00:00<?, ?it/s]\u001b[A/Users/oleg.vlasovetc/opt/anaconda3/envs/gglasso/lib/python3.8/site-packages/regain/covariance/graphical_lasso_.py:70: FutureWarning: elementwise comparison failed; returning scalar instead, but in the future will perform elementwise comparison\n",
      "  if mode == 'empirical':\n",
      "\n",
      "regain_tol_1e-06_rtol_1e-06_p_200_N_400_l1_0.5:  50%|█████     | 1/2 [00:00<00:00,  1.95it/s]\u001b[A/Users/oleg.vlasovetc/opt/anaconda3/envs/gglasso/lib/python3.8/site-packages/regain/covariance/graphical_lasso_.py:70: FutureWarning: elementwise comparison failed; returning scalar instead, but in the future will perform elementwise comparison\n",
      "  if mode == 'empirical':\n",
      "\n",
      "regain_tol_1e-06_rtol_1e-06_p_200_N_400_l1_0.5: 100%|██████████| 2/2 [00:01<00:00,  1.95it/s]\u001b[A\n",
      "\n",
      "regain_tol_1e-06_rtol_1e-06_p_200_N_400_l1_0.1:   0%|          | 0/2 [00:00<?, ?it/s]\u001b[A/Users/oleg.vlasovetc/opt/anaconda3/envs/gglasso/lib/python3.8/site-packages/regain/covariance/graphical_lasso_.py:70: FutureWarning: elementwise comparison failed; returning scalar instead, but in the future will perform elementwise comparison\n",
      "  if mode == 'empirical':\n",
      "\n",
      "regain_tol_1e-06_rtol_1e-06_p_200_N_400_l1_0.1:  50%|█████     | 1/2 [00:00<00:00,  1.86it/s]\u001b[A/Users/oleg.vlasovetc/opt/anaconda3/envs/gglasso/lib/python3.8/site-packages/regain/covariance/graphical_lasso_.py:70: FutureWarning: elementwise comparison failed; returning scalar instead, but in the future will perform elementwise comparison\n",
      "  if mode == 'empirical':\n",
      "\n",
      "regain_tol_1e-06_rtol_1e-06_p_200_N_400_l1_0.1: 100%|██████████| 2/2 [00:00<00:00,  2.23it/s]\u001b[A\n",
      "\n",
      "regain_tol_1e-06_rtol_1e-06_p_200_N_400_l1_0.05:   0%|          | 0/2 [00:00<?, ?it/s]\u001b[A/Users/oleg.vlasovetc/opt/anaconda3/envs/gglasso/lib/python3.8/site-packages/regain/covariance/graphical_lasso_.py:70: FutureWarning: elementwise comparison failed; returning scalar instead, but in the future will perform elementwise comparison\n",
      "  if mode == 'empirical':\n",
      "\n",
      "regain_tol_1e-06_rtol_1e-06_p_200_N_400_l1_0.05:  50%|█████     | 1/2 [00:00<00:00,  2.62it/s]\u001b[A/Users/oleg.vlasovetc/opt/anaconda3/envs/gglasso/lib/python3.8/site-packages/regain/covariance/graphical_lasso_.py:70: FutureWarning: elementwise comparison failed; returning scalar instead, but in the future will perform elementwise comparison\n",
      "  if mode == 'empirical':\n",
      "\n",
      "regain_tol_1e-06_rtol_1e-06_p_200_N_400_l1_0.05: 100%|██████████| 2/2 [00:00<00:00,  3.09it/s]\u001b[A\n"
     ]
    }
   ],
   "source": [
    "for X, S in tzip(list(X_dict.values()), list(S_dict.values())):\n",
    "    rg_time, rg_accuracy, Z_rg = regain_time(X=X, Z=model_Z_dict, rg_params=rg_params, lambda_list=lambda_list, \\\n",
    "                                             n_iter=n_iter, warm_start=False)\n",
    "    \n",
    "    time_dict.update(rg_time)\n",
    "    accuracy_dict.update(rg_accuracy)\n",
    "    Z_dict.update(Z_rg)"
   ]
  },
  {
   "cell_type": "markdown",
   "id": "brilliant-attribute",
   "metadata": {},
   "source": [
    "### Hamming distances"
   ]
  },
  {
   "cell_type": "code",
   "execution_count": 18,
   "id": "acute-accused",
   "metadata": {},
   "outputs": [],
   "source": [
    "hamming_dict = calc_hamming_dict(Theta_dict=Theta_dict, Z_dict=Z_dict, t_rounding=1e-8)"
   ]
  },
  {
   "cell_type": "markdown",
   "id": "several-lodge",
   "metadata": {},
   "source": [
    "### Visualization"
   ]
  },
  {
   "cell_type": "code",
   "execution_count": 54,
   "id": "literary-yorkshire",
   "metadata": {},
   "outputs": [
    {
     "data": {
      "text/plain": [
       "block-boyd_tol_1e-05_rtol_1e-05_p_100_N_200_l1_0.05    (100, 200)\n",
       "block-boyd_tol_1e-05_rtol_1e-06_p_100_N_200_l1_0.05    (100, 200)\n",
       "block-boyd_tol_1e-06_rtol_1e-05_p_100_N_200_l1_0.05    (100, 200)\n",
       "block-boyd_tol_1e-05_rtol_1e-07_p_100_N_200_l1_0.05    (100, 200)\n",
       "block-boyd_tol_1e-06_rtol_1e-07_p_100_N_200_l1_0.05    (100, 200)\n",
       "                                                          ...    \n",
       "single-boyd_tol_1e-07_rtol_1e-05_p_200_N_400_l1_0.5    (200, 400)\n",
       "sklearn_tol_0.1_enet_0.01_p_200_N_400_l1_0.5           (200, 400)\n",
       "sklearn_tol_0.01_enet_0.01_p_200_N_400_l1_0.5          (200, 400)\n",
       "sklearn_tol_0.1_enet_0.1_p_200_N_400_l1_0.5            (200, 400)\n",
       "sklearn_tol_0.01_enet_0.1_p_200_N_400_l1_0.5           (200, 400)\n",
       "Name: dim, Length: 186, dtype: object"
      ]
     },
     "execution_count": 54,
     "metadata": {},
     "output_type": "execute_result"
    }
   ],
   "source": [
    "df[\"dim\"] = list(zip(df.p, df.N))\n",
    "df[\"dim\"]\n",
    "# df[\"p\"].values"
   ]
  },
  {
   "cell_type": "code",
   "execution_count": 50,
   "id": "economic-province",
   "metadata": {},
   "outputs": [
    {
     "data": {
      "text/html": [
       "<div>\n",
       "<style scoped>\n",
       "    .dataframe tbody tr th:only-of-type {\n",
       "        vertical-align: middle;\n",
       "    }\n",
       "\n",
       "    .dataframe tbody tr th {\n",
       "        vertical-align: top;\n",
       "    }\n",
       "\n",
       "    .dataframe thead th {\n",
       "        text-align: right;\n",
       "    }\n",
       "</style>\n",
       "<table border=\"1\" class=\"dataframe\">\n",
       "  <thead>\n",
       "    <tr style=\"text-align: right;\">\n",
       "      <th></th>\n",
       "      <th>time</th>\n",
       "      <th>accuracy</th>\n",
       "      <th>hamming</th>\n",
       "      <th>method</th>\n",
       "      <th>tol</th>\n",
       "      <th>rtol</th>\n",
       "      <th>p</th>\n",
       "      <th>N</th>\n",
       "      <th>l1</th>\n",
       "    </tr>\n",
       "  </thead>\n",
       "  <tbody>\n",
       "    <tr>\n",
       "      <th>block-boyd_tol_1e-05_rtol_1e-05_p_100_N_200_l1_0.05</th>\n",
       "      <td>0.033854</td>\n",
       "      <td>8.532242e-03</td>\n",
       "      <td>4514</td>\n",
       "      <td>block-boyd</td>\n",
       "      <td>1.000000e-05</td>\n",
       "      <td>1.000000e-05</td>\n",
       "      <td>100</td>\n",
       "      <td>200</td>\n",
       "      <td>0.05</td>\n",
       "    </tr>\n",
       "    <tr>\n",
       "      <th>block-boyd_tol_1e-05_rtol_1e-06_p_100_N_200_l1_0.05</th>\n",
       "      <td>0.034337</td>\n",
       "      <td>8.532242e-03</td>\n",
       "      <td>4514</td>\n",
       "      <td>block-boyd</td>\n",
       "      <td>1.000000e-05</td>\n",
       "      <td>1.000000e-06</td>\n",
       "      <td>100</td>\n",
       "      <td>200</td>\n",
       "      <td>0.05</td>\n",
       "    </tr>\n",
       "    <tr>\n",
       "      <th>block-boyd_tol_1e-06_rtol_1e-05_p_100_N_200_l1_0.05</th>\n",
       "      <td>0.045341</td>\n",
       "      <td>1.028292e-03</td>\n",
       "      <td>4514</td>\n",
       "      <td>block-boyd</td>\n",
       "      <td>1.000000e-06</td>\n",
       "      <td>1.000000e-05</td>\n",
       "      <td>100</td>\n",
       "      <td>200</td>\n",
       "      <td>0.05</td>\n",
       "    </tr>\n",
       "    <tr>\n",
       "      <th>block-boyd_tol_1e-05_rtol_1e-07_p_100_N_200_l1_0.05</th>\n",
       "      <td>0.055483</td>\n",
       "      <td>8.532242e-03</td>\n",
       "      <td>4514</td>\n",
       "      <td>block-boyd</td>\n",
       "      <td>1.000000e-05</td>\n",
       "      <td>1.000000e-07</td>\n",
       "      <td>100</td>\n",
       "      <td>200</td>\n",
       "      <td>0.05</td>\n",
       "    </tr>\n",
       "    <tr>\n",
       "      <th>block-boyd_tol_1e-06_rtol_1e-07_p_100_N_200_l1_0.05</th>\n",
       "      <td>0.071139</td>\n",
       "      <td>1.028292e-03</td>\n",
       "      <td>4514</td>\n",
       "      <td>block-boyd</td>\n",
       "      <td>1.000000e-06</td>\n",
       "      <td>1.000000e-07</td>\n",
       "      <td>100</td>\n",
       "      <td>200</td>\n",
       "      <td>0.05</td>\n",
       "    </tr>\n",
       "    <tr>\n",
       "      <th>...</th>\n",
       "      <td>...</td>\n",
       "      <td>...</td>\n",
       "      <td>...</td>\n",
       "      <td>...</td>\n",
       "      <td>...</td>\n",
       "      <td>...</td>\n",
       "      <td>...</td>\n",
       "      <td>...</td>\n",
       "      <td>...</td>\n",
       "    </tr>\n",
       "    <tr>\n",
       "      <th>single-boyd_tol_1e-07_rtol_1e-05_p_200_N_400_l1_0.5</th>\n",
       "      <td>0.439275</td>\n",
       "      <td>6.093229e-07</td>\n",
       "      <td>330</td>\n",
       "      <td>single-boyd</td>\n",
       "      <td>1.000000e-07</td>\n",
       "      <td>1.000000e-05</td>\n",
       "      <td>200</td>\n",
       "      <td>400</td>\n",
       "      <td>0.50</td>\n",
       "    </tr>\n",
       "    <tr>\n",
       "      <th>sklearn_tol_0.1_enet_0.01_p_200_N_400_l1_0.5</th>\n",
       "      <td>0.093609</td>\n",
       "      <td>2.630325e-05</td>\n",
       "      <td>330</td>\n",
       "      <td>sklearn</td>\n",
       "      <td>1.000000e-01</td>\n",
       "      <td>1.000000e-02</td>\n",
       "      <td>200</td>\n",
       "      <td>400</td>\n",
       "      <td>0.50</td>\n",
       "    </tr>\n",
       "    <tr>\n",
       "      <th>sklearn_tol_0.01_enet_0.01_p_200_N_400_l1_0.5</th>\n",
       "      <td>0.101773</td>\n",
       "      <td>2.630325e-05</td>\n",
       "      <td>330</td>\n",
       "      <td>sklearn</td>\n",
       "      <td>1.000000e-02</td>\n",
       "      <td>1.000000e-02</td>\n",
       "      <td>200</td>\n",
       "      <td>400</td>\n",
       "      <td>0.50</td>\n",
       "    </tr>\n",
       "    <tr>\n",
       "      <th>sklearn_tol_0.1_enet_0.1_p_200_N_400_l1_0.5</th>\n",
       "      <td>0.111146</td>\n",
       "      <td>3.031375e-04</td>\n",
       "      <td>330</td>\n",
       "      <td>sklearn</td>\n",
       "      <td>1.000000e-01</td>\n",
       "      <td>1.000000e-01</td>\n",
       "      <td>200</td>\n",
       "      <td>400</td>\n",
       "      <td>0.50</td>\n",
       "    </tr>\n",
       "    <tr>\n",
       "      <th>sklearn_tol_0.01_enet_0.1_p_200_N_400_l1_0.5</th>\n",
       "      <td>0.185780</td>\n",
       "      <td>5.857602e-05</td>\n",
       "      <td>330</td>\n",
       "      <td>sklearn</td>\n",
       "      <td>1.000000e-02</td>\n",
       "      <td>1.000000e-01</td>\n",
       "      <td>200</td>\n",
       "      <td>400</td>\n",
       "      <td>0.50</td>\n",
       "    </tr>\n",
       "  </tbody>\n",
       "</table>\n",
       "<p>186 rows × 9 columns</p>\n",
       "</div>"
      ],
      "text/plain": [
       "                                                        time      accuracy  \\\n",
       "block-boyd_tol_1e-05_rtol_1e-05_p_100_N_200_l1_...  0.033854  8.532242e-03   \n",
       "block-boyd_tol_1e-05_rtol_1e-06_p_100_N_200_l1_...  0.034337  8.532242e-03   \n",
       "block-boyd_tol_1e-06_rtol_1e-05_p_100_N_200_l1_...  0.045341  1.028292e-03   \n",
       "block-boyd_tol_1e-05_rtol_1e-07_p_100_N_200_l1_...  0.055483  8.532242e-03   \n",
       "block-boyd_tol_1e-06_rtol_1e-07_p_100_N_200_l1_...  0.071139  1.028292e-03   \n",
       "...                                                      ...           ...   \n",
       "single-boyd_tol_1e-07_rtol_1e-05_p_200_N_400_l1...  0.439275  6.093229e-07   \n",
       "sklearn_tol_0.1_enet_0.01_p_200_N_400_l1_0.5        0.093609  2.630325e-05   \n",
       "sklearn_tol_0.01_enet_0.01_p_200_N_400_l1_0.5       0.101773  2.630325e-05   \n",
       "sklearn_tol_0.1_enet_0.1_p_200_N_400_l1_0.5         0.111146  3.031375e-04   \n",
       "sklearn_tol_0.01_enet_0.1_p_200_N_400_l1_0.5        0.185780  5.857602e-05   \n",
       "\n",
       "                                                    hamming       method  \\\n",
       "block-boyd_tol_1e-05_rtol_1e-05_p_100_N_200_l1_...     4514   block-boyd   \n",
       "block-boyd_tol_1e-05_rtol_1e-06_p_100_N_200_l1_...     4514   block-boyd   \n",
       "block-boyd_tol_1e-06_rtol_1e-05_p_100_N_200_l1_...     4514   block-boyd   \n",
       "block-boyd_tol_1e-05_rtol_1e-07_p_100_N_200_l1_...     4514   block-boyd   \n",
       "block-boyd_tol_1e-06_rtol_1e-07_p_100_N_200_l1_...     4514   block-boyd   \n",
       "...                                                     ...          ...   \n",
       "single-boyd_tol_1e-07_rtol_1e-05_p_200_N_400_l1...      330  single-boyd   \n",
       "sklearn_tol_0.1_enet_0.01_p_200_N_400_l1_0.5            330      sklearn   \n",
       "sklearn_tol_0.01_enet_0.01_p_200_N_400_l1_0.5           330      sklearn   \n",
       "sklearn_tol_0.1_enet_0.1_p_200_N_400_l1_0.5             330      sklearn   \n",
       "sklearn_tol_0.01_enet_0.1_p_200_N_400_l1_0.5            330      sklearn   \n",
       "\n",
       "                                                             tol  \\\n",
       "block-boyd_tol_1e-05_rtol_1e-05_p_100_N_200_l1_...  1.000000e-05   \n",
       "block-boyd_tol_1e-05_rtol_1e-06_p_100_N_200_l1_...  1.000000e-05   \n",
       "block-boyd_tol_1e-06_rtol_1e-05_p_100_N_200_l1_...  1.000000e-06   \n",
       "block-boyd_tol_1e-05_rtol_1e-07_p_100_N_200_l1_...  1.000000e-05   \n",
       "block-boyd_tol_1e-06_rtol_1e-07_p_100_N_200_l1_...  1.000000e-06   \n",
       "...                                                          ...   \n",
       "single-boyd_tol_1e-07_rtol_1e-05_p_200_N_400_l1...  1.000000e-07   \n",
       "sklearn_tol_0.1_enet_0.01_p_200_N_400_l1_0.5        1.000000e-01   \n",
       "sklearn_tol_0.01_enet_0.01_p_200_N_400_l1_0.5       1.000000e-02   \n",
       "sklearn_tol_0.1_enet_0.1_p_200_N_400_l1_0.5         1.000000e-01   \n",
       "sklearn_tol_0.01_enet_0.1_p_200_N_400_l1_0.5        1.000000e-02   \n",
       "\n",
       "                                                            rtol    p    N  \\\n",
       "block-boyd_tol_1e-05_rtol_1e-05_p_100_N_200_l1_...  1.000000e-05  100  200   \n",
       "block-boyd_tol_1e-05_rtol_1e-06_p_100_N_200_l1_...  1.000000e-06  100  200   \n",
       "block-boyd_tol_1e-06_rtol_1e-05_p_100_N_200_l1_...  1.000000e-05  100  200   \n",
       "block-boyd_tol_1e-05_rtol_1e-07_p_100_N_200_l1_...  1.000000e-07  100  200   \n",
       "block-boyd_tol_1e-06_rtol_1e-07_p_100_N_200_l1_...  1.000000e-07  100  200   \n",
       "...                                                          ...  ...  ...   \n",
       "single-boyd_tol_1e-07_rtol_1e-05_p_200_N_400_l1...  1.000000e-05  200  400   \n",
       "sklearn_tol_0.1_enet_0.01_p_200_N_400_l1_0.5        1.000000e-02  200  400   \n",
       "sklearn_tol_0.01_enet_0.01_p_200_N_400_l1_0.5       1.000000e-02  200  400   \n",
       "sklearn_tol_0.1_enet_0.1_p_200_N_400_l1_0.5         1.000000e-01  200  400   \n",
       "sklearn_tol_0.01_enet_0.1_p_200_N_400_l1_0.5        1.000000e-01  200  400   \n",
       "\n",
       "                                                      l1  \n",
       "block-boyd_tol_1e-05_rtol_1e-05_p_100_N_200_l1_...  0.05  \n",
       "block-boyd_tol_1e-05_rtol_1e-06_p_100_N_200_l1_...  0.05  \n",
       "block-boyd_tol_1e-06_rtol_1e-05_p_100_N_200_l1_...  0.05  \n",
       "block-boyd_tol_1e-05_rtol_1e-07_p_100_N_200_l1_...  0.05  \n",
       "block-boyd_tol_1e-06_rtol_1e-07_p_100_N_200_l1_...  0.05  \n",
       "...                                                  ...  \n",
       "single-boyd_tol_1e-07_rtol_1e-05_p_200_N_400_l1...  0.50  \n",
       "sklearn_tol_0.1_enet_0.01_p_200_N_400_l1_0.5        0.50  \n",
       "sklearn_tol_0.01_enet_0.01_p_200_N_400_l1_0.5       0.50  \n",
       "sklearn_tol_0.1_enet_0.1_p_200_N_400_l1_0.5         0.50  \n",
       "sklearn_tol_0.01_enet_0.1_p_200_N_400_l1_0.5        0.50  \n",
       "\n",
       "[186 rows x 9 columns]"
      ]
     },
     "execution_count": 50,
     "metadata": {},
     "output_type": "execute_result"
    }
   ],
   "source": [
    "df = benchmarks_dataframe(times=time_dict, acc=accuracy_dict, hamming=hamming_dict)\n",
    "df\n",
    "# df = drop_acc_duplicates(df)\n",
    "# df = df.reset_index(drop=True)\n",
    "# df.head()"
   ]
  },
  {
   "cell_type": "code",
   "execution_count": 29,
   "id": "enhanced-month",
   "metadata": {},
   "outputs": [
    {
     "data": {
      "image/png": "[encoded data removed]",
      "text/plain": [
       "<Figure size 360x576 with 3 Axes>"
      ]
     },
     "metadata": {
      "needs_background": "light"
     },
     "output_type": "display_data"
    }
   ],
   "source": [
    "plot_bm(df, lambda_list, min_acc = 5e-3, log_scale = True)"
   ]
  },
  {
   "cell_type": "code",
   "execution_count": 61,
   "id": "dying-government",
   "metadata": {},
   "outputs": [
    {
     "data": {
      "application/vnd.plotly.v1+json": {
       "config": {
        "plotlyServerURL": "https://plot.ly"
       },
       "data": [
        {
         "hovertemplate": "method=block-boyd<br>l1=0.05<br>Graph dimension (N,p)=%{text}<br>Time, s=%{y}<extra></extra>",
         "legendgroup": "block-boyd",
         "marker": {
          "color": "#FF0000",
          "line": {
           "width": 1
          },
          "size": 10,
          "symbol": "circle"
         },
         "mode": "markers+lines",
         "name": "block-boyd",
         "orientation": "v",
         "showlegend": true,
         "text": [
          [
           100,
           200
          ],
          [
           200,
           400
          ]
         ],
         "type": "scatter",
         "x": [
          [
           100,
           200
          ],
          [
           200,
           400
          ]
         ],
         "xaxis": "x",
         "y": [
          0.03385435399999892,
          0.15709616699999174
         ],
         "yaxis": "y"
        },
        {
         "hovertemplate": "method=block-boyd<br>l1=0.1<br>Graph dimension (N,p)=%{text}<br>Time, s=%{y}<extra></extra>",
         "legendgroup": "block-boyd",
         "marker": {
          "color": "#FF0000",
          "line": {
           "width": 1
          },
          "size": 10,
          "symbol": "circle"
         },
         "mode": "markers+lines",
         "name": "block-boyd",
         "orientation": "v",
         "showlegend": false,
         "text": [
          [
           100,
           200
          ],
          [
           200,
           400
          ]
         ],
         "type": "scatter",
         "x": [
          [
           100,
           200
          ],
          [
           200,
           400
          ]
         ],
         "xaxis": "x2",
         "y": [
          0.037165291500002695,
          0.1502318994999996
         ],
         "yaxis": "y2"
        },
        {
         "hovertemplate": "method=block-boyd<br>l1=0.5<br>Graph dimension (N,p)=%{text}<br>Time, s=%{y}<extra></extra>",
         "legendgroup": "block-boyd",
         "marker": {
          "color": "#FF0000",
          "line": {
           "width": 1
          },
          "size": 10,
          "symbol": "circle"
         },
         "mode": "markers+lines",
         "name": "block-boyd",
         "orientation": "v",
         "showlegend": false,
         "text": [
          [
           100,
           200
          ],
          [
           200,
           400
          ]
         ],
         "type": "scatter",
         "x": [
          [
           100,
           200
          ],
          [
           200,
           400
          ]
         ],
         "xaxis": "x3",
         "y": [
          0.029501110500007144,
          0.02127633500001025
         ],
         "yaxis": "y3"
        },
        {
         "hovertemplate": "method=regain<br>l1=0.05<br>Graph dimension (N,p)=%{text}<br>Time, s=%{y}<extra></extra>",
         "legendgroup": "regain",
         "marker": {
          "color": "#32CD32",
          "line": {
           "width": 1
          },
          "size": 10,
          "symbol": "circle"
         },
         "mode": "markers+lines",
         "name": "regain",
         "orientation": "v",
         "showlegend": true,
         "text": [
          [
           100,
           200
          ],
          [
           200,
           400
          ]
         ],
         "type": "scatter",
         "x": [
          [
           100,
           200
          ],
          [
           200,
           400
          ]
         ],
         "xaxis": "x",
         "y": [
          0.0570564994999927,
          0.13590997599999355
         ],
         "yaxis": "y"
        },
        {
         "hovertemplate": "method=regain<br>l1=0.1<br>Graph dimension (N,p)=%{text}<br>Time, s=%{y}<extra></extra>",
         "legendgroup": "regain",
         "marker": {
          "color": "#32CD32",
          "line": {
           "width": 1
          },
          "size": 10,
          "symbol": "circle"
         },
         "mode": "markers+lines",
         "name": "regain",
         "orientation": "v",
         "showlegend": false,
         "text": [
          [
           100,
           200
          ],
          [
           200,
           400
          ]
         ],
         "type": "scatter",
         "x": [
          [
           100,
           200
          ],
          [
           200,
           400
          ]
         ],
         "xaxis": "x2",
         "y": [
          0.08873558549998961,
          0.1510999829999946
         ],
         "yaxis": "y2"
        },
        {
         "hovertemplate": "method=regain<br>l1=0.5<br>Graph dimension (N,p)=%{text}<br>Time, s=%{y}<extra></extra>",
         "legendgroup": "regain",
         "marker": {
          "color": "#32CD32",
          "line": {
           "width": 1
          },
          "size": 10,
          "symbol": "circle"
         },
         "mode": "markers+lines",
         "name": "regain",
         "orientation": "v",
         "showlegend": false,
         "text": [
          [
           100,
           200
          ],
          [
           200,
           400
          ]
         ],
         "type": "scatter",
         "x": [
          [
           100,
           200
          ],
          [
           200,
           400
          ]
         ],
         "xaxis": "x3",
         "y": [
          0.0792479970000386,
          0.15111845600000606
         ],
         "yaxis": "y3"
        },
        {
         "hovertemplate": "method=single-boyd<br>l1=0.05<br>Graph dimension (N,p)=%{text}<br>Time, s=%{y}<extra></extra>",
         "legendgroup": "single-boyd",
         "marker": {
          "color": "#FF8C00",
          "line": {
           "width": 1
          },
          "size": 10,
          "symbol": "circle"
         },
         "mode": "markers+lines",
         "name": "single-boyd",
         "orientation": "v",
         "showlegend": true,
         "text": [
          [
           100,
           200
          ],
          [
           200,
           400
          ]
         ],
         "type": "scatter",
         "x": [
          [
           100,
           200
          ],
          [
           200,
           400
          ]
         ],
         "xaxis": "x",
         "y": [
          0.03642683850000594,
          0.12422012650000624
         ],
         "yaxis": "y"
        },
        {
         "hovertemplate": "method=single-boyd<br>l1=0.1<br>Graph dimension (N,p)=%{text}<br>Time, s=%{y}<extra></extra>",
         "legendgroup": "single-boyd",
         "marker": {
          "color": "#FF8C00",
          "line": {
           "width": 1
          },
          "size": 10,
          "symbol": "circle"
         },
         "mode": "markers+lines",
         "name": "single-boyd",
         "orientation": "v",
         "showlegend": false,
         "text": [
          [
           100,
           200
          ],
          [
           200,
           400
          ]
         ],
         "type": "scatter",
         "x": [
          [
           100,
           200
          ],
          [
           200,
           400
          ]
         ],
         "xaxis": "x2",
         "y": [
          0.048431943500020225,
          0.15251771149999627
         ],
         "yaxis": "y2"
        },
        {
         "hovertemplate": "method=single-boyd<br>l1=0.5<br>Graph dimension (N,p)=%{text}<br>Time, s=%{y}<extra></extra>",
         "legendgroup": "single-boyd",
         "marker": {
          "color": "#FF8C00",
          "line": {
           "width": 1
          },
          "size": 10,
          "symbol": "circle"
         },
         "mode": "markers+lines",
         "name": "single-boyd",
         "orientation": "v",
         "showlegend": false,
         "text": [
          [
           100,
           200
          ],
          [
           200,
           400
          ]
         ],
         "type": "scatter",
         "x": [
          [
           100,
           200
          ],
          [
           200,
           400
          ]
         ],
         "xaxis": "x3",
         "y": [
          0.06492105800001013,
          0.06783121899999855
         ],
         "yaxis": "y3"
        },
        {
         "hovertemplate": "method=sklearn<br>l1=0.05<br>Graph dimension (N,p)=%{text}<br>Time, s=%{y}<extra></extra>",
         "legendgroup": "sklearn",
         "marker": {
          "color": "#0000FF",
          "line": {
           "width": 1
          },
          "size": 10,
          "symbol": "circle"
         },
         "mode": "markers+lines",
         "name": "sklearn",
         "orientation": "v",
         "showlegend": true,
         "text": [
          [
           100,
           200
          ],
          [
           200,
           400
          ]
         ],
         "type": "scatter",
         "x": [
          [
           100,
           200
          ],
          [
           200,
           400
          ]
         ],
         "xaxis": "x",
         "y": [
          0.0420422654999868,
          0.09795304600001487
         ],
         "yaxis": "y"
        },
        {
         "hovertemplate": "method=sklearn<br>l1=0.1<br>Graph dimension (N,p)=%{text}<br>Time, s=%{y}<extra></extra>",
         "legendgroup": "sklearn",
         "marker": {
          "color": "#0000FF",
          "line": {
           "width": 1
          },
          "size": 10,
          "symbol": "circle"
         },
         "mode": "markers+lines",
         "name": "sklearn",
         "orientation": "v",
         "showlegend": false,
         "text": [
          [
           100,
           200
          ],
          [
           200,
           400
          ]
         ],
         "type": "scatter",
         "x": [
          [
           100,
           200
          ],
          [
           200,
           400
          ]
         ],
         "xaxis": "x2",
         "y": [
          0.04010302949998845,
          0.11781944849997217
         ],
         "yaxis": "y2"
        },
        {
         "hovertemplate": "method=sklearn<br>l1=0.5<br>Graph dimension (N,p)=%{text}<br>Time, s=%{y}<extra></extra>",
         "legendgroup": "sklearn",
         "marker": {
          "color": "#0000FF",
          "line": {
           "width": 1
          },
          "size": 10,
          "symbol": "circle"
         },
         "mode": "markers+lines",
         "name": "sklearn",
         "orientation": "v",
         "showlegend": false,
         "text": [
          [
           100,
           200
          ],
          [
           200,
           400
          ]
         ],
         "type": "scatter",
         "x": [
          [
           100,
           200
          ],
          [
           200,
           400
          ]
         ],
         "xaxis": "x3",
         "y": [
          0.04667651849999288,
          0.09360860099997126
         ],
         "yaxis": "y3"
        }
       ],
       "layout": {
        "annotations": [
         {
          "font": {},
          "showarrow": false,
          "text": "l1=0.05",
          "x": 0.15999999999999998,
          "xanchor": "center",
          "xref": "paper",
          "y": 1,
          "yanchor": "bottom",
          "yref": "paper"
         },
         {
          "font": {},
          "showarrow": false,
          "text": "l1=0.1",
          "x": 0.49999999999999994,
          "xanchor": "center",
          "xref": "paper",
          "y": 1,
          "yanchor": "bottom",
          "yref": "paper"
         },
         {
          "font": {},
          "showarrow": false,
          "text": "l1=0.5",
          "x": 0.8399999999999999,
          "xanchor": "center",
          "xref": "paper",
          "y": 1,
          "yanchor": "bottom",
          "yref": "paper"
         }
        ],
        "legend": {
         "title": {
          "text": "method"
         },
         "tracegroupgap": 0
        },
        "template": {
         "data": {
          "bar": [
           {
            "error_x": {
             "color": "#2a3f5f"
            },
            "error_y": {
             "color": "#2a3f5f"
            },
            "marker": {
             "line": {
              "color": "white",
              "width": 0.5
             }
            },
            "type": "bar"
           }
          ],
          "barpolar": [
           {
            "marker": {
             "line": {
              "color": "white",
              "width": 0.5
             }
            },
            "type": "barpolar"
           }
          ],
          "carpet": [
           {
            "aaxis": {
             "endlinecolor": "#2a3f5f",
             "gridcolor": "#C8D4E3",
             "linecolor": "#C8D4E3",
             "minorgridcolor": "#C8D4E3",
             "startlinecolor": "#2a3f5f"
            },
            "baxis": {
             "endlinecolor": "#2a3f5f",
             "gridcolor": "#C8D4E3",
             "linecolor": "#C8D4E3",
             "minorgridcolor": "#C8D4E3",
             "startlinecolor": "#2a3f5f"
            },
            "type": "carpet"
           }
          ],
          "choropleth": [
           {
            "colorbar": {
             "outlinewidth": 0,
             "ticks": ""
            },
            "type": "choropleth"
           }
          ],
          "contour": [
           {
            "colorbar": {
             "outlinewidth": 0,
             "ticks": ""
            },
            "colorscale": [
             [
              0,
              "#0d0887"
             ],
             [
              0.1111111111111111,
              "#46039f"
             ],
             [
              0.2222222222222222,
              "#7201a8"
             ],
             [
              0.3333333333333333,
              "#9c179e"
             ],
             [
              0.4444444444444444,
              "#bd3786"
             ],
             [
              0.5555555555555556,
              "#d8576b"
             ],
             [
              0.6666666666666666,
              "#ed7953"
             ],
             [
              0.7777777777777778,
              "#fb9f3a"
             ],
             [
              0.8888888888888888,
              "#fdca26"
             ],
             [
              1,
              "#f0f921"
             ]
            ],
            "type": "contour"
           }
          ],
          "contourcarpet": [
           {
            "colorbar": {
             "outlinewidth": 0,
             "ticks": ""
            },
            "type": "contourcarpet"
           }
          ],
          "heatmap": [
           {
            "colorbar": {
             "outlinewidth": 0,
             "ticks": ""
            },
            "colorscale": [
             [
              0,
              "#0d0887"
             ],
             [
              0.1111111111111111,
              "#46039f"
             ],
             [
              0.2222222222222222,
              "#7201a8"
             ],
             [
              0.3333333333333333,
              "#9c179e"
             ],
             [
              0.4444444444444444,
              "#bd3786"
             ],
             [
              0.5555555555555556,
              "#d8576b"
             ],
             [
              0.6666666666666666,
              "#ed7953"
             ],
             [
              0.7777777777777778,
              "#fb9f3a"
             ],
             [
              0.8888888888888888,
              "#fdca26"
             ],
             [
              1,
              "#f0f921"
             ]
            ],
            "type": "heatmap"
           }
          ],
          "heatmapgl": [
           {
            "colorbar": {
             "outlinewidth": 0,
             "ticks": ""
            },
            "colorscale": [
             [
              0,
              "#0d0887"
             ],
             [
              0.1111111111111111,
              "#46039f"
             ],
             [
              0.2222222222222222,
              "#7201a8"
             ],
             [
              0.3333333333333333,
              "#9c179e"
             ],
             [
              0.4444444444444444,
              "#bd3786"
             ],
             [
              0.5555555555555556,
              "#d8576b"
             ],
             [
              0.6666666666666666,
              "#ed7953"
             ],
             [
              0.7777777777777778,
              "#fb9f3a"
             ],
             [
              0.8888888888888888,
              "#fdca26"
             ],
             [
              1,
              "#f0f921"
             ]
            ],
            "type": "heatmapgl"
           }
          ],
          "histogram": [
           {
            "marker": {
             "colorbar": {
              "outlinewidth": 0,
              "ticks": ""
             }
            },
            "type": "histogram"
           }
          ],
          "histogram2d": [
           {
            "colorbar": {
             "outlinewidth": 0,
             "ticks": ""
            },
            "colorscale": [
             [
              0,
              "#0d0887"
             ],
             [
              0.1111111111111111,
              "#46039f"
             ],
             [
              0.2222222222222222,
              "#7201a8"
             ],
             [
              0.3333333333333333,
              "#9c179e"
             ],
             [
              0.4444444444444444,
              "#bd3786"
             ],
             [
              0.5555555555555556,
              "#d8576b"
             ],
             [
              0.6666666666666666,
              "#ed7953"
             ],
             [
              0.7777777777777778,
              "#fb9f3a"
             ],
             [
              0.8888888888888888,
              "#fdca26"
             ],
             [
              1,
              "#f0f921"
             ]
            ],
            "type": "histogram2d"
           }
          ],
          "histogram2dcontour": [
           {
            "colorbar": {
             "outlinewidth": 0,
             "ticks": ""
            },
            "colorscale": [
             [
              0,
              "#0d0887"
             ],
             [
              0.1111111111111111,
              "#46039f"
             ],
             [
              0.2222222222222222,
              "#7201a8"
             ],
             [
              0.3333333333333333,
              "#9c179e"
             ],
             [
              0.4444444444444444,
              "#bd3786"
             ],
             [
              0.5555555555555556,
              "#d8576b"
             ],
             [
              0.6666666666666666,
              "#ed7953"
             ],
             [
              0.7777777777777778,
              "#fb9f3a"
             ],
             [
              0.8888888888888888,
              "#fdca26"
             ],
             [
              1,
              "#f0f921"
             ]
            ],
            "type": "histogram2dcontour"
           }
          ],
          "mesh3d": [
           {
            "colorbar": {
             "outlinewidth": 0,
             "ticks": ""
            },
            "type": "mesh3d"
           }
          ],
          "parcoords": [
           {
            "line": {
             "colorbar": {
              "outlinewidth": 0,
              "ticks": ""
             }
            },
            "type": "parcoords"
           }
          ],
          "pie": [
           {
            "automargin": true,
            "type": "pie"
           }
          ],
          "scatter": [
           {
            "marker": {
             "colorbar": {
              "outlinewidth": 0,
              "ticks": ""
             }
            },
            "type": "scatter"
           }
          ],
          "scatter3d": [
           {
            "line": {
             "colorbar": {
              "outlinewidth": 0,
              "ticks": ""
             }
            },
            "marker": {
             "colorbar": {
              "outlinewidth": 0,
              "ticks": ""
             }
            },
            "type": "scatter3d"
           }
          ],
          "scattercarpet": [
           {
            "marker": {
             "colorbar": {
              "outlinewidth": 0,
              "ticks": ""
             }
            },
            "type": "scattercarpet"
           }
          ],
          "scattergeo": [
           {
            "marker": {
             "colorbar": {
              "outlinewidth": 0,
              "ticks": ""
             }
            },
            "type": "scattergeo"
           }
          ],
          "scattergl": [
           {
            "marker": {
             "colorbar": {
              "outlinewidth": 0,
              "ticks": ""
             }
            },
            "type": "scattergl"
           }
          ],
          "scattermapbox": [
           {
            "marker": {
             "colorbar": {
              "outlinewidth": 0,
              "ticks": ""
             }
            },
            "type": "scattermapbox"
           }
          ],
          "scatterpolar": [
           {
            "marker": {
             "colorbar": {
              "outlinewidth": 0,
              "ticks": ""
             }
            },
            "type": "scatterpolar"
           }
          ],
          "scatterpolargl": [
           {
            "marker": {
             "colorbar": {
              "outlinewidth": 0,
              "ticks": ""
             }
            },
            "type": "scatterpolargl"
           }
          ],
          "scatterternary": [
           {
            "marker": {
             "colorbar": {
              "outlinewidth": 0,
              "ticks": ""
             }
            },
            "type": "scatterternary"
           }
          ],
          "surface": [
           {
            "colorbar": {
             "outlinewidth": 0,
             "ticks": ""
            },
            "colorscale": [
             [
              0,
              "#0d0887"
             ],
             [
              0.1111111111111111,
              "#46039f"
             ],
             [
              0.2222222222222222,
              "#7201a8"
             ],
             [
              0.3333333333333333,
              "#9c179e"
             ],
             [
              0.4444444444444444,
              "#bd3786"
             ],
             [
              0.5555555555555556,
              "#d8576b"
             ],
             [
              0.6666666666666666,
              "#ed7953"
             ],
             [
              0.7777777777777778,
              "#fb9f3a"
             ],
             [
              0.8888888888888888,
              "#fdca26"
             ],
             [
              1,
              "#f0f921"
             ]
            ],
            "type": "surface"
           }
          ],
          "table": [
           {
            "cells": {
             "fill": {
              "color": "#EBF0F8"
             },
             "line": {
              "color": "white"
             }
            },
            "header": {
             "fill": {
              "color": "#C8D4E3"
             },
             "line": {
              "color": "white"
             }
            },
            "type": "table"
           }
          ]
         },
         "layout": {
          "annotationdefaults": {
           "arrowcolor": "#2a3f5f",
           "arrowhead": 0,
           "arrowwidth": 1
          },
          "autotypenumbers": "strict",
          "coloraxis": {
           "colorbar": {
            "outlinewidth": 0,
            "ticks": ""
           }
          },
          "colorscale": {
           "diverging": [
            [
             0,
             "#8e0152"
            ],
            [
             0.1,
             "#c51b7d"
            ],
            [
             0.2,
             "#de77ae"
            ],
            [
             0.3,
             "#f1b6da"
            ],
            [
             0.4,
             "#fde0ef"
            ],
            [
             0.5,
             "#f7f7f7"
            ],
            [
             0.6,
             "#e6f5d0"
            ],
            [
             0.7,
             "#b8e186"
            ],
            [
             0.8,
             "#7fbc41"
            ],
            [
             0.9,
             "#4d9221"
            ],
            [
             1,
             "#276419"
            ]
           ],
           "sequential": [
            [
             0,
             "#0d0887"
            ],
            [
             0.1111111111111111,
             "#46039f"
            ],
            [
             0.2222222222222222,
             "#7201a8"
            ],
            [
             0.3333333333333333,
             "#9c179e"
            ],
            [
             0.4444444444444444,
             "#bd3786"
            ],
            [
             0.5555555555555556,
             "#d8576b"
            ],
            [
             0.6666666666666666,
             "#ed7953"
            ],
            [
             0.7777777777777778,
             "#fb9f3a"
            ],
            [
             0.8888888888888888,
             "#fdca26"
            ],
            [
             1,
             "#f0f921"
            ]
           ],
           "sequentialminus": [
            [
             0,
             "#0d0887"
            ],
            [
             0.1111111111111111,
             "#46039f"
            ],
            [
             0.2222222222222222,
             "#7201a8"
            ],
            [
             0.3333333333333333,
             "#9c179e"
            ],
            [
             0.4444444444444444,
             "#bd3786"
            ],
            [
             0.5555555555555556,
             "#d8576b"
            ],
            [
             0.6666666666666666,
             "#ed7953"
            ],
            [
             0.7777777777777778,
             "#fb9f3a"
            ],
            [
             0.8888888888888888,
             "#fdca26"
            ],
            [
             1,
             "#f0f921"
            ]
           ]
          },
          "colorway": [
           "#636efa",
           "#EF553B",
           "#00cc96",
           "#ab63fa",
           "#FFA15A",
           "#19d3f3",
           "#FF6692",
           "#B6E880",
           "#FF97FF",
           "#FECB52"
          ],
          "font": {
           "color": "#2a3f5f"
          },
          "geo": {
           "bgcolor": "white",
           "lakecolor": "white",
           "landcolor": "white",
           "showlakes": true,
           "showland": true,
           "subunitcolor": "#C8D4E3"
          },
          "hoverlabel": {
           "align": "left"
          },
          "hovermode": "closest",
          "mapbox": {
           "style": "light"
          },
          "paper_bgcolor": "white",
          "plot_bgcolor": "white",
          "polar": {
           "angularaxis": {
            "gridcolor": "#EBF0F8",
            "linecolor": "#EBF0F8",
            "ticks": ""
           },
           "bgcolor": "white",
           "radialaxis": {
            "gridcolor": "#EBF0F8",
            "linecolor": "#EBF0F8",
            "ticks": ""
           }
          },
          "scene": {
           "xaxis": {
            "backgroundcolor": "white",
            "gridcolor": "#DFE8F3",
            "gridwidth": 2,
            "linecolor": "#EBF0F8",
            "showbackground": true,
            "ticks": "",
            "zerolinecolor": "#EBF0F8"
           },
           "yaxis": {
            "backgroundcolor": "white",
            "gridcolor": "#DFE8F3",
            "gridwidth": 2,
            "linecolor": "#EBF0F8",
            "showbackground": true,
            "ticks": "",
            "zerolinecolor": "#EBF0F8"
           },
           "zaxis": {
            "backgroundcolor": "white",
            "gridcolor": "#DFE8F3",
            "gridwidth": 2,
            "linecolor": "#EBF0F8",
            "showbackground": true,
            "ticks": "",
            "zerolinecolor": "#EBF0F8"
           }
          },
          "shapedefaults": {
           "line": {
            "color": "#2a3f5f"
           }
          },
          "ternary": {
           "aaxis": {
            "gridcolor": "#DFE8F3",
            "linecolor": "#A2B1C6",
            "ticks": ""
           },
           "baxis": {
            "gridcolor": "#DFE8F3",
            "linecolor": "#A2B1C6",
            "ticks": ""
           },
           "bgcolor": "white",
           "caxis": {
            "gridcolor": "#DFE8F3",
            "linecolor": "#A2B1C6",
            "ticks": ""
           }
          },
          "title": {
           "x": 0.05
          },
          "xaxis": {
           "automargin": true,
           "gridcolor": "#EBF0F8",
           "linecolor": "#EBF0F8",
           "ticks": "",
           "title": {
            "standoff": 15
           },
           "zerolinecolor": "#EBF0F8",
           "zerolinewidth": 2
          },
          "yaxis": {
           "automargin": true,
           "gridcolor": "#EBF0F8",
           "linecolor": "#EBF0F8",
           "ticks": "",
           "title": {
            "standoff": 15
           },
           "zerolinecolor": "#EBF0F8",
           "zerolinewidth": 2
          }
         }
        },
        "title": {
         "text": "Scalability of ADMM with different lambdas.<br>Accuracy is between 0.01 and 1e-06"
        },
        "xaxis": {
         "anchor": "y",
         "domain": [
          0,
          0.31999999999999995
         ],
         "title": {
          "text": "Graph dimension (N,p)"
         }
        },
        "xaxis2": {
         "anchor": "y2",
         "domain": [
          0.33999999999999997,
          0.6599999999999999
         ],
         "matches": "x",
         "title": {
          "text": "Graph dimension (N,p)"
         }
        },
        "xaxis3": {
         "anchor": "y3",
         "domain": [
          0.6799999999999999,
          0.9999999999999999
         ],
         "matches": "x",
         "title": {
          "text": "Graph dimension (N,p)"
         }
        },
        "yaxis": {
         "anchor": "x",
         "domain": [
          0,
          1
         ],
         "title": {
          "text": "Time, s"
         },
         "type": "log"
        },
        "yaxis2": {
         "anchor": "x2",
         "domain": [
          0,
          1
         ],
         "matches": "y",
         "showticklabels": false,
         "type": "log"
        },
        "yaxis3": {
         "anchor": "x3",
         "domain": [
          0,
          1
         ],
         "matches": "y",
         "showticklabels": false,
         "type": "log"
        }
       }
      },
      "text/html": [
       "<div>                            <div id=\"39b150f8-6a28-4379-b4e7-7ecd08fe7920\" class=\"plotly-graph-div\" style=\"height:525px; width:100%;\"></div>            <script type=\"text/javascript\">                require([\"plotly\"], function(Plotly) {                    window.PLOTLYENV=window.PLOTLYENV || {};                                    if (document.getElementById(\"39b150f8-6a28-4379-b4e7-7ecd08fe7920\")) {                    Plotly.newPlot(                        \"39b150f8-6a28-4379-b4e7-7ecd08fe7920\",                        [{\"hovertemplate\": \"method=block-boyd<br>l1=0.05<br>Graph dimension (N,p)=%{text}<br>Time, s=%{y}<extra></extra>\", \"legendgroup\": \"block-boyd\", \"marker\": {\"color\": \"#FF0000\", \"line\": {\"width\": 1}, \"size\": 10, \"symbol\": \"circle\"}, \"mode\": \"markers+lines\", \"name\": \"block-boyd\", \"orientation\": \"v\", \"showlegend\": true, \"text\": [[100, 200], [200, 400]], \"type\": \"scatter\", \"x\": [[100, 200], [200, 400]], \"xaxis\": \"x\", \"y\": [0.03385435399999892, 0.15709616699999174], \"yaxis\": \"y\"}, {\"hovertemplate\": \"method=block-boyd<br>l1=0.1<br>Graph dimension (N,p)=%{text}<br>Time, s=%{y}<extra></extra>\", \"legendgroup\": \"block-boyd\", \"marker\": {\"color\": \"#FF0000\", \"line\": {\"width\": 1}, \"size\": 10, \"symbol\": \"circle\"}, \"mode\": \"markers+lines\", \"name\": \"block-boyd\", \"orientation\": \"v\", \"showlegend\": false, \"text\": [[100, 200], [200, 400]], \"type\": \"scatter\", \"x\": [[100, 200], [200, 400]], \"xaxis\": \"x2\", \"y\": [0.037165291500002695, 0.1502318994999996], \"yaxis\": \"y2\"}, {\"hovertemplate\": \"method=block-boyd<br>l1=0.5<br>Graph dimension (N,p)=%{text}<br>Time, s=%{y}<extra></extra>\", \"legendgroup\": \"block-boyd\", \"marker\": {\"color\": \"#FF0000\", \"line\": {\"width\": 1}, \"size\": 10, \"symbol\": \"circle\"}, \"mode\": \"markers+lines\", \"name\": \"block-boyd\", \"orientation\": \"v\", \"showlegend\": false, \"text\": [[100, 200], [200, 400]], \"type\": \"scatter\", \"x\": [[100, 200], [200, 400]], \"xaxis\": \"x3\", \"y\": [0.029501110500007144, 0.02127633500001025], \"yaxis\": \"y3\"}, {\"hovertemplate\": \"method=regain<br>l1=0.05<br>Graph dimension (N,p)=%{text}<br>Time, s=%{y}<extra></extra>\", \"legendgroup\": \"regain\", \"marker\": {\"color\": \"#32CD32\", \"line\": {\"width\": 1}, \"size\": 10, \"symbol\": \"circle\"}, \"mode\": \"markers+lines\", \"name\": \"regain\", \"orientation\": \"v\", \"showlegend\": true, \"text\": [[100, 200], [200, 400]], \"type\": \"scatter\", \"x\": [[100, 200], [200, 400]], \"xaxis\": \"x\", \"y\": [0.0570564994999927, 0.13590997599999355], \"yaxis\": \"y\"}, {\"hovertemplate\": \"method=regain<br>l1=0.1<br>Graph dimension (N,p)=%{text}<br>Time, s=%{y}<extra></extra>\", \"legendgroup\": \"regain\", \"marker\": {\"color\": \"#32CD32\", \"line\": {\"width\": 1}, \"size\": 10, \"symbol\": \"circle\"}, \"mode\": \"markers+lines\", \"name\": \"regain\", \"orientation\": \"v\", \"showlegend\": false, \"text\": [[100, 200], [200, 400]], \"type\": \"scatter\", \"x\": [[100, 200], [200, 400]], \"xaxis\": \"x2\", \"y\": [0.08873558549998961, 0.1510999829999946], \"yaxis\": \"y2\"}, {\"hovertemplate\": \"method=regain<br>l1=0.5<br>Graph dimension (N,p)=%{text}<br>Time, s=%{y}<extra></extra>\", \"legendgroup\": \"regain\", \"marker\": {\"color\": \"#32CD32\", \"line\": {\"width\": 1}, \"size\": 10, \"symbol\": \"circle\"}, \"mode\": \"markers+lines\", \"name\": \"regain\", \"orientation\": \"v\", \"showlegend\": false, \"text\": [[100, 200], [200, 400]], \"type\": \"scatter\", \"x\": [[100, 200], [200, 400]], \"xaxis\": \"x3\", \"y\": [0.0792479970000386, 0.15111845600000606], \"yaxis\": \"y3\"}, {\"hovertemplate\": \"method=single-boyd<br>l1=0.05<br>Graph dimension (N,p)=%{text}<br>Time, s=%{y}<extra></extra>\", \"legendgroup\": \"single-boyd\", \"marker\": {\"color\": \"#FF8C00\", \"line\": {\"width\": 1}, \"size\": 10, \"symbol\": \"circle\"}, \"mode\": \"markers+lines\", \"name\": \"single-boyd\", \"orientation\": \"v\", \"showlegend\": true, \"text\": [[100, 200], [200, 400]], \"type\": \"scatter\", \"x\": [[100, 200], [200, 400]], \"xaxis\": \"x\", \"y\": [0.03642683850000594, 0.12422012650000624], \"yaxis\": \"y\"}, {\"hovertemplate\": \"method=single-boyd<br>l1=0.1<br>Graph dimension (N,p)=%{text}<br>Time, s=%{y}<extra></extra>\", \"legendgroup\": \"single-boyd\", \"marker\": {\"color\": \"#FF8C00\", \"line\": {\"width\": 1}, \"size\": 10, \"symbol\": \"circle\"}, \"mode\": \"markers+lines\", \"name\": \"single-boyd\", \"orientation\": \"v\", \"showlegend\": false, \"text\": [[100, 200], [200, 400]], \"type\": \"scatter\", \"x\": [[100, 200], [200, 400]], \"xaxis\": \"x2\", \"y\": [0.048431943500020225, 0.15251771149999627], \"yaxis\": \"y2\"}, {\"hovertemplate\": \"method=single-boyd<br>l1=0.5<br>Graph dimension (N,p)=%{text}<br>Time, s=%{y}<extra></extra>\", \"legendgroup\": \"single-boyd\", \"marker\": {\"color\": \"#FF8C00\", \"line\": {\"width\": 1}, \"size\": 10, \"symbol\": \"circle\"}, \"mode\": \"markers+lines\", \"name\": \"single-boyd\", \"orientation\": \"v\", \"showlegend\": false, \"text\": [[100, 200], [200, 400]], \"type\": \"scatter\", \"x\": [[100, 200], [200, 400]], \"xaxis\": \"x3\", \"y\": [0.06492105800001013, 0.06783121899999855], \"yaxis\": \"y3\"}, {\"hovertemplate\": \"method=sklearn<br>l1=0.05<br>Graph dimension (N,p)=%{text}<br>Time, s=%{y}<extra></extra>\", \"legendgroup\": \"sklearn\", \"marker\": {\"color\": \"#0000FF\", \"line\": {\"width\": 1}, \"size\": 10, \"symbol\": \"circle\"}, \"mode\": \"markers+lines\", \"name\": \"sklearn\", \"orientation\": \"v\", \"showlegend\": true, \"text\": [[100, 200], [200, 400]], \"type\": \"scatter\", \"x\": [[100, 200], [200, 400]], \"xaxis\": \"x\", \"y\": [0.0420422654999868, 0.09795304600001487], \"yaxis\": \"y\"}, {\"hovertemplate\": \"method=sklearn<br>l1=0.1<br>Graph dimension (N,p)=%{text}<br>Time, s=%{y}<extra></extra>\", \"legendgroup\": \"sklearn\", \"marker\": {\"color\": \"#0000FF\", \"line\": {\"width\": 1}, \"size\": 10, \"symbol\": \"circle\"}, \"mode\": \"markers+lines\", \"name\": \"sklearn\", \"orientation\": \"v\", \"showlegend\": false, \"text\": [[100, 200], [200, 400]], \"type\": \"scatter\", \"x\": [[100, 200], [200, 400]], \"xaxis\": \"x2\", \"y\": [0.04010302949998845, 0.11781944849997217], \"yaxis\": \"y2\"}, {\"hovertemplate\": \"method=sklearn<br>l1=0.5<br>Graph dimension (N,p)=%{text}<br>Time, s=%{y}<extra></extra>\", \"legendgroup\": \"sklearn\", \"marker\": {\"color\": \"#0000FF\", \"line\": {\"width\": 1}, \"size\": 10, \"symbol\": \"circle\"}, \"mode\": \"markers+lines\", \"name\": \"sklearn\", \"orientation\": \"v\", \"showlegend\": false, \"text\": [[100, 200], [200, 400]], \"type\": \"scatter\", \"x\": [[100, 200], [200, 400]], \"xaxis\": \"x3\", \"y\": [0.04667651849999288, 0.09360860099997126], \"yaxis\": \"y3\"}],                        {\"annotations\": [{\"font\": {}, \"showarrow\": false, \"text\": \"l1=0.05\", \"x\": 0.15999999999999998, \"xanchor\": \"center\", \"xref\": \"paper\", \"y\": 1.0, \"yanchor\": \"bottom\", \"yref\": \"paper\"}, {\"font\": {}, \"showarrow\": false, \"text\": \"l1=0.1\", \"x\": 0.49999999999999994, \"xanchor\": \"center\", \"xref\": \"paper\", \"y\": 1.0, \"yanchor\": \"bottom\", \"yref\": \"paper\"}, {\"font\": {}, \"showarrow\": false, \"text\": \"l1=0.5\", \"x\": 0.8399999999999999, \"xanchor\": \"center\", \"xref\": \"paper\", \"y\": 1.0, \"yanchor\": \"bottom\", \"yref\": \"paper\"}], \"legend\": {\"title\": {\"text\": \"method\"}, \"tracegroupgap\": 0}, \"template\": {\"data\": {\"bar\": [{\"error_x\": {\"color\": \"#2a3f5f\"}, \"error_y\": {\"color\": \"#2a3f5f\"}, \"marker\": {\"line\": {\"color\": \"white\", \"width\": 0.5}}, \"type\": \"bar\"}], \"barpolar\": [{\"marker\": {\"line\": {\"color\": \"white\", \"width\": 0.5}}, \"type\": \"barpolar\"}], \"carpet\": [{\"aaxis\": {\"endlinecolor\": \"#2a3f5f\", \"gridcolor\": \"#C8D4E3\", \"linecolor\": \"#C8D4E3\", \"minorgridcolor\": \"#C8D4E3\", \"startlinecolor\": \"#2a3f5f\"}, \"baxis\": {\"endlinecolor\": \"#2a3f5f\", \"gridcolor\": \"#C8D4E3\", \"linecolor\": \"#C8D4E3\", \"minorgridcolor\": \"#C8D4E3\", \"startlinecolor\": \"#2a3f5f\"}, \"type\": \"carpet\"}], \"choropleth\": [{\"colorbar\": {\"outlinewidth\": 0, \"ticks\": \"\"}, \"type\": \"choropleth\"}], \"contour\": [{\"colorbar\": {\"outlinewidth\": 0, \"ticks\": \"\"}, \"colorscale\": [[0.0, \"#0d0887\"], [0.1111111111111111, \"#46039f\"], [0.2222222222222222, \"#7201a8\"], [0.3333333333333333, \"#9c179e\"], [0.4444444444444444, \"#bd3786\"], [0.5555555555555556, \"#d8576b\"], [0.6666666666666666, \"#ed7953\"], [0.7777777777777778, \"#fb9f3a\"], [0.8888888888888888, \"#fdca26\"], [1.0, \"#f0f921\"]], \"type\": \"contour\"}], \"contourcarpet\": [{\"colorbar\": {\"outlinewidth\": 0, \"ticks\": \"\"}, \"type\": \"contourcarpet\"}], \"heatmap\": [{\"colorbar\": {\"outlinewidth\": 0, \"ticks\": \"\"}, \"colorscale\": [[0.0, \"#0d0887\"], [0.1111111111111111, \"#46039f\"], [0.2222222222222222, \"#7201a8\"], [0.3333333333333333, \"#9c179e\"], [0.4444444444444444, \"#bd3786\"], [0.5555555555555556, \"#d8576b\"], [0.6666666666666666, \"#ed7953\"], [0.7777777777777778, \"#fb9f3a\"], [0.8888888888888888, \"#fdca26\"], [1.0, \"#f0f921\"]], \"type\": \"heatmap\"}], \"heatmapgl\": [{\"colorbar\": {\"outlinewidth\": 0, \"ticks\": \"\"}, \"colorscale\": [[0.0, \"#0d0887\"], [0.1111111111111111, \"#46039f\"], [0.2222222222222222, \"#7201a8\"], [0.3333333333333333, \"#9c179e\"], [0.4444444444444444, \"#bd3786\"], [0.5555555555555556, \"#d8576b\"], [0.6666666666666666, \"#ed7953\"], [0.7777777777777778, \"#fb9f3a\"], [0.8888888888888888, \"#fdca26\"], [1.0, \"#f0f921\"]], \"type\": \"heatmapgl\"}], \"histogram\": [{\"marker\": {\"colorbar\": {\"outlinewidth\": 0, \"ticks\": \"\"}}, \"type\": \"histogram\"}], \"histogram2d\": [{\"colorbar\": {\"outlinewidth\": 0, \"ticks\": \"\"}, \"colorscale\": [[0.0, \"#0d0887\"], [0.1111111111111111, \"#46039f\"], [0.2222222222222222, \"#7201a8\"], [0.3333333333333333, \"#9c179e\"], [0.4444444444444444, \"#bd3786\"], [0.5555555555555556, \"#d8576b\"], [0.6666666666666666, \"#ed7953\"], [0.7777777777777778, \"#fb9f3a\"], [0.8888888888888888, \"#fdca26\"], [1.0, \"#f0f921\"]], \"type\": \"histogram2d\"}], \"histogram2dcontour\": [{\"colorbar\": {\"outlinewidth\": 0, \"ticks\": \"\"}, \"colorscale\": [[0.0, \"#0d0887\"], [0.1111111111111111, \"#46039f\"], [0.2222222222222222, \"#7201a8\"], [0.3333333333333333, \"#9c179e\"], [0.4444444444444444, \"#bd3786\"], [0.5555555555555556, \"#d8576b\"], [0.6666666666666666, \"#ed7953\"], [0.7777777777777778, \"#fb9f3a\"], [0.8888888888888888, \"#fdca26\"], [1.0, \"#f0f921\"]], \"type\": \"histogram2dcontour\"}], \"mesh3d\": [{\"colorbar\": {\"outlinewidth\": 0, \"ticks\": \"\"}, \"type\": \"mesh3d\"}], \"parcoords\": [{\"line\": {\"colorbar\": {\"outlinewidth\": 0, \"ticks\": \"\"}}, \"type\": \"parcoords\"}], \"pie\": [{\"automargin\": true, \"type\": \"pie\"}], \"scatter\": [{\"marker\": {\"colorbar\": {\"outlinewidth\": 0, \"ticks\": \"\"}}, \"type\": \"scatter\"}], \"scatter3d\": [{\"line\": {\"colorbar\": {\"outlinewidth\": 0, \"ticks\": \"\"}}, \"marker\": {\"colorbar\": {\"outlinewidth\": 0, \"ticks\": \"\"}}, \"type\": \"scatter3d\"}], \"scattercarpet\": [{\"marker\": {\"colorbar\": {\"outlinewidth\": 0, \"ticks\": \"\"}}, \"type\": \"scattercarpet\"}], \"scattergeo\": [{\"marker\": {\"colorbar\": {\"outlinewidth\": 0, \"ticks\": \"\"}}, \"type\": \"scattergeo\"}], \"scattergl\": [{\"marker\": {\"colorbar\": {\"outlinewidth\": 0, \"ticks\": \"\"}}, \"type\": \"scattergl\"}], \"scattermapbox\": [{\"marker\": {\"colorbar\": {\"outlinewidth\": 0, \"ticks\": \"\"}}, \"type\": \"scattermapbox\"}], \"scatterpolar\": [{\"marker\": {\"colorbar\": {\"outlinewidth\": 0, \"ticks\": \"\"}}, \"type\": \"scatterpolar\"}], \"scatterpolargl\": [{\"marker\": {\"colorbar\": {\"outlinewidth\": 0, \"ticks\": \"\"}}, \"type\": \"scatterpolargl\"}], \"scatterternary\": [{\"marker\": {\"colorbar\": {\"outlinewidth\": 0, \"ticks\": \"\"}}, \"type\": \"scatterternary\"}], \"surface\": [{\"colorbar\": {\"outlinewidth\": 0, \"ticks\": \"\"}, \"colorscale\": [[0.0, \"#0d0887\"], [0.1111111111111111, \"#46039f\"], [0.2222222222222222, \"#7201a8\"], [0.3333333333333333, \"#9c179e\"], [0.4444444444444444, \"#bd3786\"], [0.5555555555555556, \"#d8576b\"], [0.6666666666666666, \"#ed7953\"], [0.7777777777777778, \"#fb9f3a\"], [0.8888888888888888, \"#fdca26\"], [1.0, \"#f0f921\"]], \"type\": \"surface\"}], \"table\": [{\"cells\": {\"fill\": {\"color\": \"#EBF0F8\"}, \"line\": {\"color\": \"white\"}}, \"header\": {\"fill\": {\"color\": \"#C8D4E3\"}, \"line\": {\"color\": \"white\"}}, \"type\": \"table\"}]}, \"layout\": {\"annotationdefaults\": {\"arrowcolor\": \"#2a3f5f\", \"arrowhead\": 0, \"arrowwidth\": 1}, \"autotypenumbers\": \"strict\", \"coloraxis\": {\"colorbar\": {\"outlinewidth\": 0, \"ticks\": \"\"}}, \"colorscale\": {\"diverging\": [[0, \"#8e0152\"], [0.1, \"#c51b7d\"], [0.2, \"#de77ae\"], [0.3, \"#f1b6da\"], [0.4, \"#fde0ef\"], [0.5, \"#f7f7f7\"], [0.6, \"#e6f5d0\"], [0.7, \"#b8e186\"], [0.8, \"#7fbc41\"], [0.9, \"#4d9221\"], [1, \"#276419\"]], \"sequential\": [[0.0, \"#0d0887\"], [0.1111111111111111, \"#46039f\"], [0.2222222222222222, \"#7201a8\"], [0.3333333333333333, \"#9c179e\"], [0.4444444444444444, \"#bd3786\"], [0.5555555555555556, \"#d8576b\"], [0.6666666666666666, \"#ed7953\"], [0.7777777777777778, \"#fb9f3a\"], [0.8888888888888888, \"#fdca26\"], [1.0, \"#f0f921\"]], \"sequentialminus\": [[0.0, \"#0d0887\"], [0.1111111111111111, \"#46039f\"], [0.2222222222222222, \"#7201a8\"], [0.3333333333333333, \"#9c179e\"], [0.4444444444444444, \"#bd3786\"], [0.5555555555555556, \"#d8576b\"], [0.6666666666666666, \"#ed7953\"], [0.7777777777777778, \"#fb9f3a\"], [0.8888888888888888, \"#fdca26\"], [1.0, \"#f0f921\"]]}, \"colorway\": [\"#636efa\", \"#EF553B\", \"#00cc96\", \"#ab63fa\", \"#FFA15A\", \"#19d3f3\", \"#FF6692\", \"#B6E880\", \"#FF97FF\", \"#FECB52\"], \"font\": {\"color\": \"#2a3f5f\"}, \"geo\": {\"bgcolor\": \"white\", \"lakecolor\": \"white\", \"landcolor\": \"white\", \"showlakes\": true, \"showland\": true, \"subunitcolor\": \"#C8D4E3\"}, \"hoverlabel\": {\"align\": \"left\"}, \"hovermode\": \"closest\", \"mapbox\": {\"style\": \"light\"}, \"paper_bgcolor\": \"white\", \"plot_bgcolor\": \"white\", \"polar\": {\"angularaxis\": {\"gridcolor\": \"#EBF0F8\", \"linecolor\": \"#EBF0F8\", \"ticks\": \"\"}, \"bgcolor\": \"white\", \"radialaxis\": {\"gridcolor\": \"#EBF0F8\", \"linecolor\": \"#EBF0F8\", \"ticks\": \"\"}}, \"scene\": {\"xaxis\": {\"backgroundcolor\": \"white\", \"gridcolor\": \"#DFE8F3\", \"gridwidth\": 2, \"linecolor\": \"#EBF0F8\", \"showbackground\": true, \"ticks\": \"\", \"zerolinecolor\": \"#EBF0F8\"}, \"yaxis\": {\"backgroundcolor\": \"white\", \"gridcolor\": \"#DFE8F3\", \"gridwidth\": 2, \"linecolor\": \"#EBF0F8\", \"showbackground\": true, \"ticks\": \"\", \"zerolinecolor\": \"#EBF0F8\"}, \"zaxis\": {\"backgroundcolor\": \"white\", \"gridcolor\": \"#DFE8F3\", \"gridwidth\": 2, \"linecolor\": \"#EBF0F8\", \"showbackground\": true, \"ticks\": \"\", \"zerolinecolor\": \"#EBF0F8\"}}, \"shapedefaults\": {\"line\": {\"color\": \"#2a3f5f\"}}, \"ternary\": {\"aaxis\": {\"gridcolor\": \"#DFE8F3\", \"linecolor\": \"#A2B1C6\", \"ticks\": \"\"}, \"baxis\": {\"gridcolor\": \"#DFE8F3\", \"linecolor\": \"#A2B1C6\", \"ticks\": \"\"}, \"bgcolor\": \"white\", \"caxis\": {\"gridcolor\": \"#DFE8F3\", \"linecolor\": \"#A2B1C6\", \"ticks\": \"\"}}, \"title\": {\"x\": 0.05}, \"xaxis\": {\"automargin\": true, \"gridcolor\": \"#EBF0F8\", \"linecolor\": \"#EBF0F8\", \"ticks\": \"\", \"title\": {\"standoff\": 15}, \"zerolinecolor\": \"#EBF0F8\", \"zerolinewidth\": 2}, \"yaxis\": {\"automargin\": true, \"gridcolor\": \"#EBF0F8\", \"linecolor\": \"#EBF0F8\", \"ticks\": \"\", \"title\": {\"standoff\": 15}, \"zerolinecolor\": \"#EBF0F8\", \"zerolinewidth\": 2}}}, \"title\": {\"text\": \"Scalability of ADMM with different lambdas.<br>Accuracy is between 0.01 and 1e-06\"}, \"xaxis\": {\"anchor\": \"y\", \"domain\": [0.0, 0.31999999999999995], \"title\": {\"text\": \"Graph dimension (N,p)\"}}, \"xaxis2\": {\"anchor\": \"y2\", \"domain\": [0.33999999999999997, 0.6599999999999999], \"matches\": \"x\", \"title\": {\"text\": \"Graph dimension (N,p)\"}}, \"xaxis3\": {\"anchor\": \"y3\", \"domain\": [0.6799999999999999, 0.9999999999999999], \"matches\": \"x\", \"title\": {\"text\": \"Graph dimension (N,p)\"}}, \"yaxis\": {\"anchor\": \"x\", \"domain\": [0.0, 1.0], \"title\": {\"text\": \"Time, s\"}, \"type\": \"log\"}, \"yaxis2\": {\"anchor\": \"x2\", \"domain\": [0.0, 1.0], \"matches\": \"y\", \"showticklabels\": false, \"type\": \"log\"}, \"yaxis3\": {\"anchor\": \"x3\", \"domain\": [0.0, 1.0], \"matches\": \"y\", \"showticklabels\": false, \"type\": \"log\"}},                        {\"responsive\": true}                    ).then(function(){\n",
       "                            \n",
       "var gd = document.getElementById('39b150f8-6a28-4379-b4e7-7ecd08fe7920');\n",
       "var x = new MutationObserver(function (mutations, observer) {{\n",
       "        var display = window.getComputedStyle(gd).display;\n",
       "        if (!display || display === 'none') {{\n",
       "            console.log([gd, 'removed!']);\n",
       "            Plotly.purge(gd);\n",
       "            observer.disconnect();\n",
       "        }}\n",
       "}});\n",
       "\n",
       "// Listen for the removal of the full notebook cells\n",
       "var notebookContainer = gd.closest('#notebook-container');\n",
       "if (notebookContainer) {{\n",
       "    x.observe(notebookContainer, {childList: true});\n",
       "}}\n",
       "\n",
       "// Listen for the clearing of the current output cell\n",
       "var outputEl = gd.closest('.output');\n",
       "if (outputEl) {{\n",
       "    x.observe(outputEl, {childList: true});\n",
       "}}\n",
       "\n",
       "                        })                };                });            </script>        </div>"
      ]
     },
     "metadata": {},
     "output_type": "display_data"
    }
   ],
   "source": [
    "fig = plot_lambdas(df, upper_bound=0.01, lower_bound=0.000001)\n",
    "fig.show()"
   ]
  },
  {
   "cell_type": "code",
   "execution_count": null,
   "id": "iraqi-bottom",
   "metadata": {},
   "outputs": [],
   "source": [
    "def drop_acc_duplicates(df):\n",
    "    \"\"\"\n",
    "    Drop duplicates of the models showing the same accuracy.\n",
    "    :param df: pd.DataFrame()\n",
    "    :return: pd.DataFrame()\n",
    "    \"\"\"\n",
    "    assert 'method' in df.columns\n",
    "    assert 'accuracy' in df.columns\n",
    "\n",
    "    unique_acc_df = df[:1]\n",
    "    for method in df.method.unique():\n",
    "        filtered = df[df['method'] == method]\n",
    "        filtered = filtered.drop_duplicates(subset='accuracy', keep='first')\n",
    "        unique_acc_df = pd.concat([filtered, unique_acc_df])\n",
    "\n",
    "    return unique_acc_df[:-1]"
   ]
  },
  {
   "cell_type": "code",
   "execution_count": 91,
   "id": "running-things",
   "metadata": {},
   "outputs": [
    {
     "data": {
      "text/html": [
       "<div>\n",
       "<style scoped>\n",
       "    .dataframe tbody tr th:only-of-type {\n",
       "        vertical-align: middle;\n",
       "    }\n",
       "\n",
       "    .dataframe tbody tr th {\n",
       "        vertical-align: top;\n",
       "    }\n",
       "\n",
       "    .dataframe thead th {\n",
       "        text-align: right;\n",
       "    }\n",
       "</style>\n",
       "<table border=\"1\" class=\"dataframe\">\n",
       "  <thead>\n",
       "    <tr style=\"text-align: right;\">\n",
       "      <th></th>\n",
       "      <th>time</th>\n",
       "      <th>accuracy</th>\n",
       "      <th>hamming</th>\n",
       "      <th>method</th>\n",
       "      <th>tol</th>\n",
       "      <th>rtol</th>\n",
       "      <th>p</th>\n",
       "      <th>N</th>\n",
       "      <th>l1</th>\n",
       "      <th>dim</th>\n",
       "    </tr>\n",
       "  </thead>\n",
       "  <tbody>\n",
       "    <tr>\n",
       "      <th>block-boyd_tol_1e-07_rtol_1e-07_p_100_N_200_l1_0.5</th>\n",
       "      <td>0.037081</td>\n",
       "      <td>3.285213e-07</td>\n",
       "      <td>106</td>\n",
       "      <td>block-boyd</td>\n",
       "      <td>1.000000e-07</td>\n",
       "      <td>1.000000e-07</td>\n",
       "      <td>100</td>\n",
       "      <td>200</td>\n",
       "      <td>0.50</td>\n",
       "      <td>(100, 200)</td>\n",
       "    </tr>\n",
       "    <tr>\n",
       "      <th>block-boyd_tol_1e-07_rtol_1e-06_p_100_N_200_l1_0.5</th>\n",
       "      <td>0.037653</td>\n",
       "      <td>5.305495e-07</td>\n",
       "      <td>106</td>\n",
       "      <td>block-boyd</td>\n",
       "      <td>1.000000e-07</td>\n",
       "      <td>1.000000e-06</td>\n",
       "      <td>100</td>\n",
       "      <td>200</td>\n",
       "      <td>0.50</td>\n",
       "      <td>(100, 200)</td>\n",
       "    </tr>\n",
       "    <tr>\n",
       "      <th>block-boyd_tol_1e-07_rtol_1e-05_p_100_N_200_l1_0.5</th>\n",
       "      <td>0.036184</td>\n",
       "      <td>2.604763e-06</td>\n",
       "      <td>106</td>\n",
       "      <td>block-boyd</td>\n",
       "      <td>1.000000e-07</td>\n",
       "      <td>1.000000e-05</td>\n",
       "      <td>100</td>\n",
       "      <td>200</td>\n",
       "      <td>0.50</td>\n",
       "      <td>(100, 200)</td>\n",
       "    </tr>\n",
       "    <tr>\n",
       "      <th>block-boyd_tol_1e-06_rtol_1e-07_p_100_N_200_l1_0.5</th>\n",
       "      <td>0.034110</td>\n",
       "      <td>3.193960e-06</td>\n",
       "      <td>106</td>\n",
       "      <td>block-boyd</td>\n",
       "      <td>1.000000e-06</td>\n",
       "      <td>1.000000e-07</td>\n",
       "      <td>100</td>\n",
       "      <td>200</td>\n",
       "      <td>0.50</td>\n",
       "      <td>(100, 200)</td>\n",
       "    </tr>\n",
       "    <tr>\n",
       "      <th>block-boyd_tol_1e-06_rtol_1e-06_p_100_N_200_l1_0.5</th>\n",
       "      <td>0.032187</td>\n",
       "      <td>3.639156e-06</td>\n",
       "      <td>106</td>\n",
       "      <td>block-boyd</td>\n",
       "      <td>1.000000e-06</td>\n",
       "      <td>1.000000e-06</td>\n",
       "      <td>100</td>\n",
       "      <td>200</td>\n",
       "      <td>0.50</td>\n",
       "      <td>(100, 200)</td>\n",
       "    </tr>\n",
       "    <tr>\n",
       "      <th>block-boyd_tol_1e-06_rtol_1e-05_p_100_N_200_l1_0.5</th>\n",
       "      <td>0.036016</td>\n",
       "      <td>6.165234e-06</td>\n",
       "      <td>106</td>\n",
       "      <td>block-boyd</td>\n",
       "      <td>1.000000e-06</td>\n",
       "      <td>1.000000e-05</td>\n",
       "      <td>100</td>\n",
       "      <td>200</td>\n",
       "      <td>0.50</td>\n",
       "      <td>(100, 200)</td>\n",
       "    </tr>\n",
       "    <tr>\n",
       "      <th>block-boyd_tol_1e-05_rtol_1e-07_p_100_N_200_l1_0.5</th>\n",
       "      <td>0.031038</td>\n",
       "      <td>3.449255e-05</td>\n",
       "      <td>106</td>\n",
       "      <td>block-boyd</td>\n",
       "      <td>1.000000e-05</td>\n",
       "      <td>1.000000e-07</td>\n",
       "      <td>100</td>\n",
       "      <td>200</td>\n",
       "      <td>0.50</td>\n",
       "      <td>(100, 200)</td>\n",
       "    </tr>\n",
       "    <tr>\n",
       "      <th>block-boyd_tol_1e-05_rtol_1e-06_p_100_N_200_l1_0.5</th>\n",
       "      <td>0.030810</td>\n",
       "      <td>4.150808e-05</td>\n",
       "      <td>106</td>\n",
       "      <td>block-boyd</td>\n",
       "      <td>1.000000e-05</td>\n",
       "      <td>1.000000e-06</td>\n",
       "      <td>100</td>\n",
       "      <td>200</td>\n",
       "      <td>0.50</td>\n",
       "      <td>(100, 200)</td>\n",
       "    </tr>\n",
       "    <tr>\n",
       "      <th>block-boyd_tol_1e-05_rtol_1e-05_p_100_N_200_l1_0.5</th>\n",
       "      <td>0.029501</td>\n",
       "      <td>4.150808e-05</td>\n",
       "      <td>106</td>\n",
       "      <td>block-boyd</td>\n",
       "      <td>1.000000e-05</td>\n",
       "      <td>1.000000e-05</td>\n",
       "      <td>100</td>\n",
       "      <td>200</td>\n",
       "      <td>0.50</td>\n",
       "      <td>(100, 200)</td>\n",
       "    </tr>\n",
       "    <tr>\n",
       "      <th>block-boyd_tol_1e-07_rtol_1e-07_p_100_N_200_l1_0.1</th>\n",
       "      <td>0.158883</td>\n",
       "      <td>6.204469e-05</td>\n",
       "      <td>2042</td>\n",
       "      <td>block-boyd</td>\n",
       "      <td>1.000000e-07</td>\n",
       "      <td>1.000000e-07</td>\n",
       "      <td>100</td>\n",
       "      <td>200</td>\n",
       "      <td>0.10</td>\n",
       "      <td>(100, 200)</td>\n",
       "    </tr>\n",
       "    <tr>\n",
       "      <th>block-boyd_tol_1e-07_rtol_1e-06_p_100_N_200_l1_0.1</th>\n",
       "      <td>0.158610</td>\n",
       "      <td>6.836312e-05</td>\n",
       "      <td>2042</td>\n",
       "      <td>block-boyd</td>\n",
       "      <td>1.000000e-07</td>\n",
       "      <td>1.000000e-06</td>\n",
       "      <td>100</td>\n",
       "      <td>200</td>\n",
       "      <td>0.10</td>\n",
       "      <td>(100, 200)</td>\n",
       "    </tr>\n",
       "    <tr>\n",
       "      <th>block-boyd_tol_1e-07_rtol_1e-05_p_100_N_200_l1_0.1</th>\n",
       "      <td>0.161268</td>\n",
       "      <td>7.536885e-05</td>\n",
       "      <td>2042</td>\n",
       "      <td>block-boyd</td>\n",
       "      <td>1.000000e-07</td>\n",
       "      <td>1.000000e-05</td>\n",
       "      <td>100</td>\n",
       "      <td>200</td>\n",
       "      <td>0.10</td>\n",
       "      <td>(100, 200)</td>\n",
       "    </tr>\n",
       "    <tr>\n",
       "      <th>block-boyd_tol_1e-07_rtol_1e-06_p_100_N_200_l1_0.05</th>\n",
       "      <td>0.090784</td>\n",
       "      <td>1.080261e-04</td>\n",
       "      <td>4514</td>\n",
       "      <td>block-boyd</td>\n",
       "      <td>1.000000e-07</td>\n",
       "      <td>1.000000e-06</td>\n",
       "      <td>100</td>\n",
       "      <td>200</td>\n",
       "      <td>0.05</td>\n",
       "      <td>(100, 200)</td>\n",
       "    </tr>\n",
       "    <tr>\n",
       "      <th>block-boyd_tol_1e-07_rtol_1e-05_p_100_N_200_l1_0.05</th>\n",
       "      <td>0.102048</td>\n",
       "      <td>1.080261e-04</td>\n",
       "      <td>4514</td>\n",
       "      <td>block-boyd</td>\n",
       "      <td>1.000000e-07</td>\n",
       "      <td>1.000000e-05</td>\n",
       "      <td>100</td>\n",
       "      <td>200</td>\n",
       "      <td>0.05</td>\n",
       "      <td>(100, 200)</td>\n",
       "    </tr>\n",
       "    <tr>\n",
       "      <th>block-boyd_tol_1e-07_rtol_1e-07_p_100_N_200_l1_0.05</th>\n",
       "      <td>0.109002</td>\n",
       "      <td>1.080261e-04</td>\n",
       "      <td>4514</td>\n",
       "      <td>block-boyd</td>\n",
       "      <td>1.000000e-07</td>\n",
       "      <td>1.000000e-07</td>\n",
       "      <td>100</td>\n",
       "      <td>200</td>\n",
       "      <td>0.05</td>\n",
       "      <td>(100, 200)</td>\n",
       "    </tr>\n",
       "    <tr>\n",
       "      <th>block-boyd_tol_1e-06_rtol_1e-06_p_100_N_200_l1_0.1</th>\n",
       "      <td>0.081960</td>\n",
       "      <td>6.173496e-04</td>\n",
       "      <td>2038</td>\n",
       "      <td>block-boyd</td>\n",
       "      <td>1.000000e-06</td>\n",
       "      <td>1.000000e-06</td>\n",
       "      <td>100</td>\n",
       "      <td>200</td>\n",
       "      <td>0.10</td>\n",
       "      <td>(100, 200)</td>\n",
       "    </tr>\n",
       "    <tr>\n",
       "      <th>block-boyd_tol_1e-06_rtol_1e-05_p_100_N_200_l1_0.1</th>\n",
       "      <td>0.071893</td>\n",
       "      <td>6.173496e-04</td>\n",
       "      <td>2038</td>\n",
       "      <td>block-boyd</td>\n",
       "      <td>1.000000e-06</td>\n",
       "      <td>1.000000e-05</td>\n",
       "      <td>100</td>\n",
       "      <td>200</td>\n",
       "      <td>0.10</td>\n",
       "      <td>(100, 200)</td>\n",
       "    </tr>\n",
       "    <tr>\n",
       "      <th>block-boyd_tol_1e-06_rtol_1e-07_p_100_N_200_l1_0.1</th>\n",
       "      <td>0.085167</td>\n",
       "      <td>6.173496e-04</td>\n",
       "      <td>2038</td>\n",
       "      <td>block-boyd</td>\n",
       "      <td>1.000000e-06</td>\n",
       "      <td>1.000000e-07</td>\n",
       "      <td>100</td>\n",
       "      <td>200</td>\n",
       "      <td>0.10</td>\n",
       "      <td>(100, 200)</td>\n",
       "    </tr>\n",
       "    <tr>\n",
       "      <th>block-boyd_tol_1e-06_rtol_1e-06_p_100_N_200_l1_0.05</th>\n",
       "      <td>0.071935</td>\n",
       "      <td>1.028292e-03</td>\n",
       "      <td>4514</td>\n",
       "      <td>block-boyd</td>\n",
       "      <td>1.000000e-06</td>\n",
       "      <td>1.000000e-06</td>\n",
       "      <td>100</td>\n",
       "      <td>200</td>\n",
       "      <td>0.05</td>\n",
       "      <td>(100, 200)</td>\n",
       "    </tr>\n",
       "    <tr>\n",
       "      <th>block-boyd_tol_1e-06_rtol_1e-07_p_100_N_200_l1_0.05</th>\n",
       "      <td>0.071139</td>\n",
       "      <td>1.028292e-03</td>\n",
       "      <td>4514</td>\n",
       "      <td>block-boyd</td>\n",
       "      <td>1.000000e-06</td>\n",
       "      <td>1.000000e-07</td>\n",
       "      <td>100</td>\n",
       "      <td>200</td>\n",
       "      <td>0.05</td>\n",
       "      <td>(100, 200)</td>\n",
       "    </tr>\n",
       "    <tr>\n",
       "      <th>block-boyd_tol_1e-06_rtol_1e-05_p_100_N_200_l1_0.05</th>\n",
       "      <td>0.045341</td>\n",
       "      <td>1.028292e-03</td>\n",
       "      <td>4514</td>\n",
       "      <td>block-boyd</td>\n",
       "      <td>1.000000e-06</td>\n",
       "      <td>1.000000e-05</td>\n",
       "      <td>100</td>\n",
       "      <td>200</td>\n",
       "      <td>0.05</td>\n",
       "      <td>(100, 200)</td>\n",
       "    </tr>\n",
       "    <tr>\n",
       "      <th>block-boyd_tol_1e-05_rtol_1e-06_p_100_N_200_l1_0.1</th>\n",
       "      <td>0.038872</td>\n",
       "      <td>4.772534e-03</td>\n",
       "      <td>1992</td>\n",
       "      <td>block-boyd</td>\n",
       "      <td>1.000000e-05</td>\n",
       "      <td>1.000000e-06</td>\n",
       "      <td>100</td>\n",
       "      <td>200</td>\n",
       "      <td>0.10</td>\n",
       "      <td>(100, 200)</td>\n",
       "    </tr>\n",
       "    <tr>\n",
       "      <th>block-boyd_tol_1e-05_rtol_1e-07_p_100_N_200_l1_0.1</th>\n",
       "      <td>0.037331</td>\n",
       "      <td>4.772534e-03</td>\n",
       "      <td>1992</td>\n",
       "      <td>block-boyd</td>\n",
       "      <td>1.000000e-05</td>\n",
       "      <td>1.000000e-07</td>\n",
       "      <td>100</td>\n",
       "      <td>200</td>\n",
       "      <td>0.10</td>\n",
       "      <td>(100, 200)</td>\n",
       "    </tr>\n",
       "    <tr>\n",
       "      <th>block-boyd_tol_1e-05_rtol_1e-05_p_100_N_200_l1_0.1</th>\n",
       "      <td>0.037165</td>\n",
       "      <td>4.772534e-03</td>\n",
       "      <td>1992</td>\n",
       "      <td>block-boyd</td>\n",
       "      <td>1.000000e-05</td>\n",
       "      <td>1.000000e-05</td>\n",
       "      <td>100</td>\n",
       "      <td>200</td>\n",
       "      <td>0.10</td>\n",
       "      <td>(100, 200)</td>\n",
       "    </tr>\n",
       "    <tr>\n",
       "      <th>block-boyd_tol_1e-05_rtol_1e-07_p_100_N_200_l1_0.05</th>\n",
       "      <td>0.055483</td>\n",
       "      <td>8.532242e-03</td>\n",
       "      <td>4514</td>\n",
       "      <td>block-boyd</td>\n",
       "      <td>1.000000e-05</td>\n",
       "      <td>1.000000e-07</td>\n",
       "      <td>100</td>\n",
       "      <td>200</td>\n",
       "      <td>0.05</td>\n",
       "      <td>(100, 200)</td>\n",
       "    </tr>\n",
       "    <tr>\n",
       "      <th>block-boyd_tol_1e-05_rtol_1e-06_p_100_N_200_l1_0.05</th>\n",
       "      <td>0.034337</td>\n",
       "      <td>8.532242e-03</td>\n",
       "      <td>4514</td>\n",
       "      <td>block-boyd</td>\n",
       "      <td>1.000000e-05</td>\n",
       "      <td>1.000000e-06</td>\n",
       "      <td>100</td>\n",
       "      <td>200</td>\n",
       "      <td>0.05</td>\n",
       "      <td>(100, 200)</td>\n",
       "    </tr>\n",
       "    <tr>\n",
       "      <th>block-boyd_tol_1e-05_rtol_1e-05_p_100_N_200_l1_0.05</th>\n",
       "      <td>0.033854</td>\n",
       "      <td>8.532242e-03</td>\n",
       "      <td>4514</td>\n",
       "      <td>block-boyd</td>\n",
       "      <td>1.000000e-05</td>\n",
       "      <td>1.000000e-05</td>\n",
       "      <td>100</td>\n",
       "      <td>200</td>\n",
       "      <td>0.05</td>\n",
       "      <td>(100, 200)</td>\n",
       "    </tr>\n",
       "  </tbody>\n",
       "</table>\n",
       "</div>"
      ],
      "text/plain": [
       "                                                        time      accuracy  \\\n",
       "block-boyd_tol_1e-07_rtol_1e-07_p_100_N_200_l1_0.5  0.037081  3.285213e-07   \n",
       "block-boyd_tol_1e-07_rtol_1e-06_p_100_N_200_l1_0.5  0.037653  5.305495e-07   \n",
       "block-boyd_tol_1e-07_rtol_1e-05_p_100_N_200_l1_0.5  0.036184  2.604763e-06   \n",
       "block-boyd_tol_1e-06_rtol_1e-07_p_100_N_200_l1_0.5  0.034110  3.193960e-06   \n",
       "block-boyd_tol_1e-06_rtol_1e-06_p_100_N_200_l1_0.5  0.032187  3.639156e-06   \n",
       "block-boyd_tol_1e-06_rtol_1e-05_p_100_N_200_l1_0.5  0.036016  6.165234e-06   \n",
       "block-boyd_tol_1e-05_rtol_1e-07_p_100_N_200_l1_0.5  0.031038  3.449255e-05   \n",
       "block-boyd_tol_1e-05_rtol_1e-06_p_100_N_200_l1_0.5  0.030810  4.150808e-05   \n",
       "block-boyd_tol_1e-05_rtol_1e-05_p_100_N_200_l1_0.5  0.029501  4.150808e-05   \n",
       "block-boyd_tol_1e-07_rtol_1e-07_p_100_N_200_l1_0.1  0.158883  6.204469e-05   \n",
       "block-boyd_tol_1e-07_rtol_1e-06_p_100_N_200_l1_0.1  0.158610  6.836312e-05   \n",
       "block-boyd_tol_1e-07_rtol_1e-05_p_100_N_200_l1_0.1  0.161268  7.536885e-05   \n",
       "block-boyd_tol_1e-07_rtol_1e-06_p_100_N_200_l1_...  0.090784  1.080261e-04   \n",
       "block-boyd_tol_1e-07_rtol_1e-05_p_100_N_200_l1_...  0.102048  1.080261e-04   \n",
       "block-boyd_tol_1e-07_rtol_1e-07_p_100_N_200_l1_...  0.109002  1.080261e-04   \n",
       "block-boyd_tol_1e-06_rtol_1e-06_p_100_N_200_l1_0.1  0.081960  6.173496e-04   \n",
       "block-boyd_tol_1e-06_rtol_1e-05_p_100_N_200_l1_0.1  0.071893  6.173496e-04   \n",
       "block-boyd_tol_1e-06_rtol_1e-07_p_100_N_200_l1_0.1  0.085167  6.173496e-04   \n",
       "block-boyd_tol_1e-06_rtol_1e-06_p_100_N_200_l1_...  0.071935  1.028292e-03   \n",
       "block-boyd_tol_1e-06_rtol_1e-07_p_100_N_200_l1_...  0.071139  1.028292e-03   \n",
       "block-boyd_tol_1e-06_rtol_1e-05_p_100_N_200_l1_...  0.045341  1.028292e-03   \n",
       "block-boyd_tol_1e-05_rtol_1e-06_p_100_N_200_l1_0.1  0.038872  4.772534e-03   \n",
       "block-boyd_tol_1e-05_rtol_1e-07_p_100_N_200_l1_0.1  0.037331  4.772534e-03   \n",
       "block-boyd_tol_1e-05_rtol_1e-05_p_100_N_200_l1_0.1  0.037165  4.772534e-03   \n",
       "block-boyd_tol_1e-05_rtol_1e-07_p_100_N_200_l1_...  0.055483  8.532242e-03   \n",
       "block-boyd_tol_1e-05_rtol_1e-06_p_100_N_200_l1_...  0.034337  8.532242e-03   \n",
       "block-boyd_tol_1e-05_rtol_1e-05_p_100_N_200_l1_...  0.033854  8.532242e-03   \n",
       "\n",
       "                                                    hamming      method  \\\n",
       "block-boyd_tol_1e-07_rtol_1e-07_p_100_N_200_l1_0.5      106  block-boyd   \n",
       "block-boyd_tol_1e-07_rtol_1e-06_p_100_N_200_l1_0.5      106  block-boyd   \n",
       "block-boyd_tol_1e-07_rtol_1e-05_p_100_N_200_l1_0.5      106  block-boyd   \n",
       "block-boyd_tol_1e-06_rtol_1e-07_p_100_N_200_l1_0.5      106  block-boyd   \n",
       "block-boyd_tol_1e-06_rtol_1e-06_p_100_N_200_l1_0.5      106  block-boyd   \n",
       "block-boyd_tol_1e-06_rtol_1e-05_p_100_N_200_l1_0.5      106  block-boyd   \n",
       "block-boyd_tol_1e-05_rtol_1e-07_p_100_N_200_l1_0.5      106  block-boyd   \n",
       "block-boyd_tol_1e-05_rtol_1e-06_p_100_N_200_l1_0.5      106  block-boyd   \n",
       "block-boyd_tol_1e-05_rtol_1e-05_p_100_N_200_l1_0.5      106  block-boyd   \n",
       "block-boyd_tol_1e-07_rtol_1e-07_p_100_N_200_l1_0.1     2042  block-boyd   \n",
       "block-boyd_tol_1e-07_rtol_1e-06_p_100_N_200_l1_0.1     2042  block-boyd   \n",
       "block-boyd_tol_1e-07_rtol_1e-05_p_100_N_200_l1_0.1     2042  block-boyd   \n",
       "block-boyd_tol_1e-07_rtol_1e-06_p_100_N_200_l1_...     4514  block-boyd   \n",
       "block-boyd_tol_1e-07_rtol_1e-05_p_100_N_200_l1_...     4514  block-boyd   \n",
       "block-boyd_tol_1e-07_rtol_1e-07_p_100_N_200_l1_...     4514  block-boyd   \n",
       "block-boyd_tol_1e-06_rtol_1e-06_p_100_N_200_l1_0.1     2038  block-boyd   \n",
       "block-boyd_tol_1e-06_rtol_1e-05_p_100_N_200_l1_0.1     2038  block-boyd   \n",
       "block-boyd_tol_1e-06_rtol_1e-07_p_100_N_200_l1_0.1     2038  block-boyd   \n",
       "block-boyd_tol_1e-06_rtol_1e-06_p_100_N_200_l1_...     4514  block-boyd   \n",
       "block-boyd_tol_1e-06_rtol_1e-07_p_100_N_200_l1_...     4514  block-boyd   \n",
       "block-boyd_tol_1e-06_rtol_1e-05_p_100_N_200_l1_...     4514  block-boyd   \n",
       "block-boyd_tol_1e-05_rtol_1e-06_p_100_N_200_l1_0.1     1992  block-boyd   \n",
       "block-boyd_tol_1e-05_rtol_1e-07_p_100_N_200_l1_0.1     1992  block-boyd   \n",
       "block-boyd_tol_1e-05_rtol_1e-05_p_100_N_200_l1_0.1     1992  block-boyd   \n",
       "block-boyd_tol_1e-05_rtol_1e-07_p_100_N_200_l1_...     4514  block-boyd   \n",
       "block-boyd_tol_1e-05_rtol_1e-06_p_100_N_200_l1_...     4514  block-boyd   \n",
       "block-boyd_tol_1e-05_rtol_1e-05_p_100_N_200_l1_...     4514  block-boyd   \n",
       "\n",
       "                                                             tol  \\\n",
       "block-boyd_tol_1e-07_rtol_1e-07_p_100_N_200_l1_0.5  1.000000e-07   \n",
       "block-boyd_tol_1e-07_rtol_1e-06_p_100_N_200_l1_0.5  1.000000e-07   \n",
       "block-boyd_tol_1e-07_rtol_1e-05_p_100_N_200_l1_0.5  1.000000e-07   \n",
       "block-boyd_tol_1e-06_rtol_1e-07_p_100_N_200_l1_0.5  1.000000e-06   \n",
       "block-boyd_tol_1e-06_rtol_1e-06_p_100_N_200_l1_0.5  1.000000e-06   \n",
       "block-boyd_tol_1e-06_rtol_1e-05_p_100_N_200_l1_0.5  1.000000e-06   \n",
       "block-boyd_tol_1e-05_rtol_1e-07_p_100_N_200_l1_0.5  1.000000e-05   \n",
       "block-boyd_tol_1e-05_rtol_1e-06_p_100_N_200_l1_0.5  1.000000e-05   \n",
       "block-boyd_tol_1e-05_rtol_1e-05_p_100_N_200_l1_0.5  1.000000e-05   \n",
       "block-boyd_tol_1e-07_rtol_1e-07_p_100_N_200_l1_0.1  1.000000e-07   \n",
       "block-boyd_tol_1e-07_rtol_1e-06_p_100_N_200_l1_0.1  1.000000e-07   \n",
       "block-boyd_tol_1e-07_rtol_1e-05_p_100_N_200_l1_0.1  1.000000e-07   \n",
       "block-boyd_tol_1e-07_rtol_1e-06_p_100_N_200_l1_...  1.000000e-07   \n",
       "block-boyd_tol_1e-07_rtol_1e-05_p_100_N_200_l1_...  1.000000e-07   \n",
       "block-boyd_tol_1e-07_rtol_1e-07_p_100_N_200_l1_...  1.000000e-07   \n",
       "block-boyd_tol_1e-06_rtol_1e-06_p_100_N_200_l1_0.1  1.000000e-06   \n",
       "block-boyd_tol_1e-06_rtol_1e-05_p_100_N_200_l1_0.1  1.000000e-06   \n",
       "block-boyd_tol_1e-06_rtol_1e-07_p_100_N_200_l1_0.1  1.000000e-06   \n",
       "block-boyd_tol_1e-06_rtol_1e-06_p_100_N_200_l1_...  1.000000e-06   \n",
       "block-boyd_tol_1e-06_rtol_1e-07_p_100_N_200_l1_...  1.000000e-06   \n",
       "block-boyd_tol_1e-06_rtol_1e-05_p_100_N_200_l1_...  1.000000e-06   \n",
       "block-boyd_tol_1e-05_rtol_1e-06_p_100_N_200_l1_0.1  1.000000e-05   \n",
       "block-boyd_tol_1e-05_rtol_1e-07_p_100_N_200_l1_0.1  1.000000e-05   \n",
       "block-boyd_tol_1e-05_rtol_1e-05_p_100_N_200_l1_0.1  1.000000e-05   \n",
       "block-boyd_tol_1e-05_rtol_1e-07_p_100_N_200_l1_...  1.000000e-05   \n",
       "block-boyd_tol_1e-05_rtol_1e-06_p_100_N_200_l1_...  1.000000e-05   \n",
       "block-boyd_tol_1e-05_rtol_1e-05_p_100_N_200_l1_...  1.000000e-05   \n",
       "\n",
       "                                                            rtol    p    N  \\\n",
       "block-boyd_tol_1e-07_rtol_1e-07_p_100_N_200_l1_0.5  1.000000e-07  100  200   \n",
       "block-boyd_tol_1e-07_rtol_1e-06_p_100_N_200_l1_0.5  1.000000e-06  100  200   \n",
       "block-boyd_tol_1e-07_rtol_1e-05_p_100_N_200_l1_0.5  1.000000e-05  100  200   \n",
       "block-boyd_tol_1e-06_rtol_1e-07_p_100_N_200_l1_0.5  1.000000e-07  100  200   \n",
       "block-boyd_tol_1e-06_rtol_1e-06_p_100_N_200_l1_0.5  1.000000e-06  100  200   \n",
       "block-boyd_tol_1e-06_rtol_1e-05_p_100_N_200_l1_0.5  1.000000e-05  100  200   \n",
       "block-boyd_tol_1e-05_rtol_1e-07_p_100_N_200_l1_0.5  1.000000e-07  100  200   \n",
       "block-boyd_tol_1e-05_rtol_1e-06_p_100_N_200_l1_0.5  1.000000e-06  100  200   \n",
       "block-boyd_tol_1e-05_rtol_1e-05_p_100_N_200_l1_0.5  1.000000e-05  100  200   \n",
       "block-boyd_tol_1e-07_rtol_1e-07_p_100_N_200_l1_0.1  1.000000e-07  100  200   \n",
       "block-boyd_tol_1e-07_rtol_1e-06_p_100_N_200_l1_0.1  1.000000e-06  100  200   \n",
       "block-boyd_tol_1e-07_rtol_1e-05_p_100_N_200_l1_0.1  1.000000e-05  100  200   \n",
       "block-boyd_tol_1e-07_rtol_1e-06_p_100_N_200_l1_...  1.000000e-06  100  200   \n",
       "block-boyd_tol_1e-07_rtol_1e-05_p_100_N_200_l1_...  1.000000e-05  100  200   \n",
       "block-boyd_tol_1e-07_rtol_1e-07_p_100_N_200_l1_...  1.000000e-07  100  200   \n",
       "block-boyd_tol_1e-06_rtol_1e-06_p_100_N_200_l1_0.1  1.000000e-06  100  200   \n",
       "block-boyd_tol_1e-06_rtol_1e-05_p_100_N_200_l1_0.1  1.000000e-05  100  200   \n",
       "block-boyd_tol_1e-06_rtol_1e-07_p_100_N_200_l1_0.1  1.000000e-07  100  200   \n",
       "block-boyd_tol_1e-06_rtol_1e-06_p_100_N_200_l1_...  1.000000e-06  100  200   \n",
       "block-boyd_tol_1e-06_rtol_1e-07_p_100_N_200_l1_...  1.000000e-07  100  200   \n",
       "block-boyd_tol_1e-06_rtol_1e-05_p_100_N_200_l1_...  1.000000e-05  100  200   \n",
       "block-boyd_tol_1e-05_rtol_1e-06_p_100_N_200_l1_0.1  1.000000e-06  100  200   \n",
       "block-boyd_tol_1e-05_rtol_1e-07_p_100_N_200_l1_0.1  1.000000e-07  100  200   \n",
       "block-boyd_tol_1e-05_rtol_1e-05_p_100_N_200_l1_0.1  1.000000e-05  100  200   \n",
       "block-boyd_tol_1e-05_rtol_1e-07_p_100_N_200_l1_...  1.000000e-07  100  200   \n",
       "block-boyd_tol_1e-05_rtol_1e-06_p_100_N_200_l1_...  1.000000e-06  100  200   \n",
       "block-boyd_tol_1e-05_rtol_1e-05_p_100_N_200_l1_...  1.000000e-05  100  200   \n",
       "\n",
       "                                                      l1         dim  \n",
       "block-boyd_tol_1e-07_rtol_1e-07_p_100_N_200_l1_0.5  0.50  (100, 200)  \n",
       "block-boyd_tol_1e-07_rtol_1e-06_p_100_N_200_l1_0.5  0.50  (100, 200)  \n",
       "block-boyd_tol_1e-07_rtol_1e-05_p_100_N_200_l1_0.5  0.50  (100, 200)  \n",
       "block-boyd_tol_1e-06_rtol_1e-07_p_100_N_200_l1_0.5  0.50  (100, 200)  \n",
       "block-boyd_tol_1e-06_rtol_1e-06_p_100_N_200_l1_0.5  0.50  (100, 200)  \n",
       "block-boyd_tol_1e-06_rtol_1e-05_p_100_N_200_l1_0.5  0.50  (100, 200)  \n",
       "block-boyd_tol_1e-05_rtol_1e-07_p_100_N_200_l1_0.5  0.50  (100, 200)  \n",
       "block-boyd_tol_1e-05_rtol_1e-06_p_100_N_200_l1_0.5  0.50  (100, 200)  \n",
       "block-boyd_tol_1e-05_rtol_1e-05_p_100_N_200_l1_0.5  0.50  (100, 200)  \n",
       "block-boyd_tol_1e-07_rtol_1e-07_p_100_N_200_l1_0.1  0.10  (100, 200)  \n",
       "block-boyd_tol_1e-07_rtol_1e-06_p_100_N_200_l1_0.1  0.10  (100, 200)  \n",
       "block-boyd_tol_1e-07_rtol_1e-05_p_100_N_200_l1_0.1  0.10  (100, 200)  \n",
       "block-boyd_tol_1e-07_rtol_1e-06_p_100_N_200_l1_...  0.05  (100, 200)  \n",
       "block-boyd_tol_1e-07_rtol_1e-05_p_100_N_200_l1_...  0.05  (100, 200)  \n",
       "block-boyd_tol_1e-07_rtol_1e-07_p_100_N_200_l1_...  0.05  (100, 200)  \n",
       "block-boyd_tol_1e-06_rtol_1e-06_p_100_N_200_l1_0.1  0.10  (100, 200)  \n",
       "block-boyd_tol_1e-06_rtol_1e-05_p_100_N_200_l1_0.1  0.10  (100, 200)  \n",
       "block-boyd_tol_1e-06_rtol_1e-07_p_100_N_200_l1_0.1  0.10  (100, 200)  \n",
       "block-boyd_tol_1e-06_rtol_1e-06_p_100_N_200_l1_...  0.05  (100, 200)  \n",
       "block-boyd_tol_1e-06_rtol_1e-07_p_100_N_200_l1_...  0.05  (100, 200)  \n",
       "block-boyd_tol_1e-06_rtol_1e-05_p_100_N_200_l1_...  0.05  (100, 200)  \n",
       "block-boyd_tol_1e-05_rtol_1e-06_p_100_N_200_l1_0.1  0.10  (100, 200)  \n",
       "block-boyd_tol_1e-05_rtol_1e-07_p_100_N_200_l1_0.1  0.10  (100, 200)  \n",
       "block-boyd_tol_1e-05_rtol_1e-05_p_100_N_200_l1_0.1  0.10  (100, 200)  \n",
       "block-boyd_tol_1e-05_rtol_1e-07_p_100_N_200_l1_...  0.05  (100, 200)  \n",
       "block-boyd_tol_1e-05_rtol_1e-06_p_100_N_200_l1_...  0.05  (100, 200)  \n",
       "block-boyd_tol_1e-05_rtol_1e-05_p_100_N_200_l1_...  0.05  (100, 200)  "
      ]
     },
     "execution_count": 91,
     "metadata": {},
     "output_type": "execute_result"
    }
   ],
   "source": [
    "df[(df['method'] == 'block-boyd') & (df['p'] == 100)].sort_values(by=[\"accuracy\"])"
   ]
  },
  {
   "cell_type": "code",
   "execution_count": 63,
   "id": "modern-forest",
   "metadata": {},
   "outputs": [],
   "source": [
    "def plot_accuracy(df=pd.DataFrame(), upper_bound=float, lower_bound=float, lambda_filter=float, sortby=list):\n",
    "    \"\"\"\n",
    "    Plot how accurate the solution of a model with particular hyperparameters\n",
    "    comparing with the model solution Z.\n",
    "    :param df: pandas.DataFrame()\n",
    "    :param upper_bound: float\n",
    "    Specify the upper bound for the solution accuracy.\n",
    "    :param lower_bound: float\n",
    "    Specify the lower bound for the solution accuracy.\n",
    "    :return: px.scatter()\n",
    "    \"\"\"\n",
    "    df = df.sort_values(by=sortby)\n",
    "\n",
    "    # filter by lambda\n",
    "    df = df[df[\"l1\"] == lambda_filter]\n",
    "    df[\"dim\"] = list(zip(df.p, df.N))\n",
    "\n",
    "    color_discrete_map = {'block-boyd': '#FF0000', 'regain': '#32CD32',\n",
    "                          'single-boyd': '#FF8C00', 'sklearn': '#0000FF'}\n",
    "\n",
    "    fig = px.scatter(df[(df[\"accuracy\"] < upper_bound) & (df[\"accuracy\"] > lower_bound)],\n",
    "                     y=\"time\", x=\"accuracy\", text=\"l1\", color=\"method\",\n",
    "                     log_y=True, log_x=True, facet_col='dim', facet_col_wrap=3, color_discrete_map=color_discrete_map,\n",
    "                     labels={\n",
    "                         \"time\": \"Time, s\",\n",
    "                         \"accuracy\": \"Accuracy\",\n",
    "                         \"method\": \"method\"\n",
    "                     },\n",
    "                     template=\"plotly_white\",\n",
    "                     title=\"ADMM performance benchmark at lambda={0}.<br>\"\n",
    "                           \"Accuracy is between {1} and {2}\".format(upper_bound, lower_bound, lambda_filter))\n",
    "\n",
    "    fig.update_traces(mode='markers+lines', marker_line_width=1, marker_size=10)\n",
    "    fig.update_xaxes(matches=None)\n",
    "    fig.update_yaxes(exponentformat=\"power\")\n",
    "\n",
    "    return fig"
   ]
  },
  {
   "cell_type": "code",
   "execution_count": 64,
   "id": "through-commodity",
   "metadata": {},
   "outputs": [
    {
     "data": {
      "application/vnd.plotly.v1+json": {
       "config": {
        "plotlyServerURL": "https://plot.ly"
       },
       "data": [
        {
         "hovertemplate": "method=block-boyd<br>dim=(100, 200)<br>Accuracy=%{x}<br>Time, s=%{y}<br>l1=%{text}<extra></extra>",
         "legendgroup": "block-boyd",
         "marker": {
          "color": "#FF0000",
          "line": {
           "width": 1
          },
          "size": 10,
          "symbol": "circle"
         },
         "mode": "markers+lines",
         "name": "block-boyd",
         "orientation": "v",
         "showlegend": true,
         "text": [
          0.05,
          0.05,
          0.05,
          0.05,
          0.05,
          0.05,
          0.05,
          0.05,
          0.05
         ],
         "type": "scatter",
         "x": [
          0.008532241503357726,
          0.008532241503357726,
          0.0010282921805464332,
          0.008532241503357726,
          0.0010282921805464332,
          0.0010282921805464332,
          0.0001080261302833673,
          0.0001080261302833673,
          0.0001080261302833673
         ],
         "xaxis": "x",
         "y": [
          0.03385435399999892,
          0.03433696749999626,
          0.04534125899996866,
          0.05548271050000153,
          0.07113902899999403,
          0.07193484749998902,
          0.09078393100000426,
          0.10204798949999372,
          0.10900217900001508
         ],
         "yaxis": "y"
        },
        {
         "hovertemplate": "method=block-boyd<br>dim=(200, 400)<br>Accuracy=%{x}<br>Time, s=%{y}<br>l1=%{text}<extra></extra>",
         "legendgroup": "block-boyd",
         "marker": {
          "color": "#FF0000",
          "line": {
           "width": 1
          },
          "size": 10,
          "symbol": "circle"
         },
         "mode": "markers+lines",
         "name": "block-boyd",
         "orientation": "v",
         "showlegend": false,
         "text": [
          0.05,
          0.05,
          0.05,
          0.05,
          0.05,
          0.05,
          0.05,
          0.05,
          0.05
         ],
         "type": "scatter",
         "x": [
          0.02334800169450094,
          0.02334800169450094,
          0.02334800169450094,
          0.0026124705953719032,
          0.0026124705953719032,
          0.0003265891984752853,
          0.0003265891984752853,
          0.0026124705953719032,
          0.0003265891984752853
         ],
         "xaxis": "x2",
         "y": [
          0.06404588499998454,
          0.07240974649999998,
          0.08159809800000062,
          0.15709616699999174,
          0.21771873049999613,
          0.2418693175000044,
          0.25017343199999686,
          0.2814464614999963,
          0.29930193050003595
         ],
         "yaxis": "y2"
        },
        {
         "hovertemplate": "method=single-boyd<br>dim=(100, 200)<br>Accuracy=%{x}<br>Time, s=%{y}<br>l1=%{text}<extra></extra>",
         "legendgroup": "single-boyd",
         "marker": {
          "color": "#FF8C00",
          "line": {
           "width": 1
          },
          "size": 10,
          "symbol": "circle"
         },
         "mode": "markers+lines",
         "name": "single-boyd",
         "orientation": "v",
         "showlegend": true,
         "text": [
          0.05,
          0.05,
          0.05,
          0.05,
          0.05,
          0.05,
          0.05,
          0.05,
          0.05
         ],
         "type": "scatter",
         "x": [
          0.008532241503357726,
          0.0010282921805464332,
          0.0010282921805464332,
          0.008532241503357726,
          0.008532241503357726,
          0.0001080261302833673,
          0.0001080261302833673,
          0.0001080261302833673,
          0.0010282921805464332
         ],
         "xaxis": "x",
         "y": [
          0.03642683850000594,
          0.04971600400000398,
          0.05234669999998687,
          0.05396549300002107,
          0.05707231499999921,
          0.06103588050001463,
          0.06707227350000267,
          0.06988602700002389,
          0.07414612900001316
         ],
         "yaxis": "y"
        },
        {
         "hovertemplate": "method=single-boyd<br>dim=(200, 400)<br>Accuracy=%{x}<br>Time, s=%{y}<br>l1=%{text}<extra></extra>",
         "legendgroup": "single-boyd",
         "marker": {
          "color": "#FF8C00",
          "line": {
           "width": 1
          },
          "size": 10,
          "symbol": "circle"
         },
         "mode": "markers+lines",
         "name": "single-boyd",
         "orientation": "v",
         "showlegend": false,
         "text": [
          0.05,
          0.05,
          0.05,
          0.05,
          0.05,
          0.05,
          0.05,
          0.05,
          0.05
         ],
         "type": "scatter",
         "x": [
          0.02334800169450094,
          0.02334800169450094,
          0.02334800169450094,
          0.0026124705953719032,
          0.0003265891984752853,
          0.0026124705953719032,
          0.0003265891984752853,
          0.0003265891984752853,
          0.0026124705953719032
         ],
         "xaxis": "x2",
         "y": [
          0.08573608849999914,
          0.09315477700002361,
          0.09976297000000045,
          0.12422012650000624,
          0.15149523299999146,
          0.1703477650000309,
          0.17278435200000786,
          0.20362941050001382,
          0.23654962300000193
         ],
         "yaxis": "y2"
        },
        {
         "hovertemplate": "method=sklearn<br>dim=(100, 200)<br>Accuracy=%{x}<br>Time, s=%{y}<br>l1=%{text}<extra></extra>",
         "legendgroup": "sklearn",
         "marker": {
          "color": "#0000FF",
          "line": {
           "width": 1
          },
          "size": 10,
          "symbol": "circle"
         },
         "mode": "markers+lines",
         "name": "sklearn",
         "orientation": "v",
         "showlegend": true,
         "text": [
          0.05,
          0.05,
          0.05,
          0.05
         ],
         "type": "scatter",
         "x": [
          0.0018908065316319753,
          0.002837950792195702,
          0.0008576102707237537,
          0.0007594601520348618
         ],
         "xaxis": "x",
         "y": [
          0.0420422654999868,
          0.06443780300000412,
          0.06749770449999914,
          0.12972995499998774
         ],
         "yaxis": "y"
        },
        {
         "hovertemplate": "method=sklearn<br>dim=(200, 400)<br>Accuracy=%{x}<br>Time, s=%{y}<br>l1=%{text}<extra></extra>",
         "legendgroup": "sklearn",
         "marker": {
          "color": "#0000FF",
          "line": {
           "width": 1
          },
          "size": 10,
          "symbol": "circle"
         },
         "mode": "markers+lines",
         "name": "sklearn",
         "orientation": "v",
         "showlegend": false,
         "text": [
          0.05,
          0.05,
          0.05,
          0.05
         ],
         "type": "scatter",
         "x": [
          0.0007672969281251129,
          0.0010385585241967513,
          0.00013903625124688903,
          0.00012763918754454226
         ],
         "xaxis": "x2",
         "y": [
          0.09795304600001487,
          0.22030170649998126,
          0.2789885225000148,
          0.7716733645000033
         ],
         "yaxis": "y2"
        },
        {
         "hovertemplate": "method=regain<br>dim=(100, 200)<br>Accuracy=%{x}<br>Time, s=%{y}<br>l1=%{text}<extra></extra>",
         "legendgroup": "regain",
         "marker": {
          "color": "#32CD32",
          "line": {
           "width": 1
          },
          "size": 10,
          "symbol": "circle"
         },
         "mode": "markers+lines",
         "name": "regain",
         "orientation": "v",
         "showlegend": true,
         "text": [
          0.05,
          0.05,
          0.05,
          0.05,
          0.05,
          0.05,
          0.05,
          0.05,
          0.05
         ],
         "type": "scatter",
         "x": [
          0.0002461062583503433,
          0.00032581870074295565,
          0.0018556853838830212,
          0.00010802613028314484,
          3.7929959254422946e-05,
          0.0018556853838830212,
          0.0002461062583503433,
          0.0018556853838830212,
          1.8131253872458862e-05
         ],
         "xaxis": "x",
         "y": [
          0.0570564994999927,
          0.07033508249998022,
          0.0774491335000107,
          0.08058605949997855,
          0.09259233699998504,
          0.09555096349998848,
          0.10776699799993139,
          0.11342848750001622,
          0.11753461100005325
         ],
         "yaxis": "y"
        },
        {
         "hovertemplate": "method=regain<br>dim=(200, 400)<br>Accuracy=%{x}<br>Time, s=%{y}<br>l1=%{text}<extra></extra>",
         "legendgroup": "regain",
         "marker": {
          "color": "#32CD32",
          "line": {
           "width": 1
          },
          "size": 10,
          "symbol": "circle"
         },
         "mode": "markers+lines",
         "name": "regain",
         "orientation": "v",
         "showlegend": false,
         "text": [
          0.05,
          0.05,
          0.05,
          0.05,
          0.05,
          0.05,
          0.05,
          0.05,
          0.05
         ],
         "type": "scatter",
         "x": [
          0.0026124705953718976,
          0.0026124705953718976,
          0.0026124705953718976,
          0.00042125318222693386,
          0.00032658919847511917,
          0.00032658919847511917,
          2.9045888901813143e-05,
          0.00012021448981547454,
          4.600472964631441e-05
         ],
         "xaxis": "x2",
         "y": [
          0.13590997599999355,
          0.1464124044999835,
          0.15805235799996353,
          0.22989220549999345,
          0.2401360430000068,
          0.2944259489999581,
          0.3222328795000067,
          0.33341585149997854,
          0.4276646060000644
         ],
         "yaxis": "y2"
        }
       ],
       "layout": {
        "annotations": [
         {
          "font": {},
          "showarrow": false,
          "text": "dim=(100, 200)",
          "x": 0.245,
          "xanchor": "center",
          "xref": "paper",
          "y": 1,
          "yanchor": "bottom",
          "yref": "paper"
         },
         {
          "font": {},
          "showarrow": false,
          "text": "dim=(200, 400)",
          "x": 0.755,
          "xanchor": "center",
          "xref": "paper",
          "y": 1,
          "yanchor": "bottom",
          "yref": "paper"
         }
        ],
        "legend": {
         "title": {
          "text": "method"
         },
         "tracegroupgap": 0
        },
        "template": {
         "data": {
          "bar": [
           {
            "error_x": {
             "color": "#2a3f5f"
            },
            "error_y": {
             "color": "#2a3f5f"
            },
            "marker": {
             "line": {
              "color": "white",
              "width": 0.5
             }
            },
            "type": "bar"
           }
          ],
          "barpolar": [
           {
            "marker": {
             "line": {
              "color": "white",
              "width": 0.5
             }
            },
            "type": "barpolar"
           }
          ],
          "carpet": [
           {
            "aaxis": {
             "endlinecolor": "#2a3f5f",
             "gridcolor": "#C8D4E3",
             "linecolor": "#C8D4E3",
             "minorgridcolor": "#C8D4E3",
             "startlinecolor": "#2a3f5f"
            },
            "baxis": {
             "endlinecolor": "#2a3f5f",
             "gridcolor": "#C8D4E3",
             "linecolor": "#C8D4E3",
             "minorgridcolor": "#C8D4E3",
             "startlinecolor": "#2a3f5f"
            },
            "type": "carpet"
           }
          ],
          "choropleth": [
           {
            "colorbar": {
             "outlinewidth": 0,
             "ticks": ""
            },
            "type": "choropleth"
           }
          ],
          "contour": [
           {
            "colorbar": {
             "outlinewidth": 0,
             "ticks": ""
            },
            "colorscale": [
             [
              0,
              "#0d0887"
             ],
             [
              0.1111111111111111,
              "#46039f"
             ],
             [
              0.2222222222222222,
              "#7201a8"
             ],
             [
              0.3333333333333333,
              "#9c179e"
             ],
             [
              0.4444444444444444,
              "#bd3786"
             ],
             [
              0.5555555555555556,
              "#d8576b"
             ],
             [
              0.6666666666666666,
              "#ed7953"
             ],
             [
              0.7777777777777778,
              "#fb9f3a"
             ],
             [
              0.8888888888888888,
              "#fdca26"
             ],
             [
              1,
              "#f0f921"
             ]
            ],
            "type": "contour"
           }
          ],
          "contourcarpet": [
           {
            "colorbar": {
             "outlinewidth": 0,
             "ticks": ""
            },
            "type": "contourcarpet"
           }
          ],
          "heatmap": [
           {
            "colorbar": {
             "outlinewidth": 0,
             "ticks": ""
            },
            "colorscale": [
             [
              0,
              "#0d0887"
             ],
             [
              0.1111111111111111,
              "#46039f"
             ],
             [
              0.2222222222222222,
              "#7201a8"
             ],
             [
              0.3333333333333333,
              "#9c179e"
             ],
             [
              0.4444444444444444,
              "#bd3786"
             ],
             [
              0.5555555555555556,
              "#d8576b"
             ],
             [
              0.6666666666666666,
              "#ed7953"
             ],
             [
              0.7777777777777778,
              "#fb9f3a"
             ],
             [
              0.8888888888888888,
              "#fdca26"
             ],
             [
              1,
              "#f0f921"
             ]
            ],
            "type": "heatmap"
           }
          ],
          "heatmapgl": [
           {
            "colorbar": {
             "outlinewidth": 0,
             "ticks": ""
            },
            "colorscale": [
             [
              0,
              "#0d0887"
             ],
             [
              0.1111111111111111,
              "#46039f"
             ],
             [
              0.2222222222222222,
              "#7201a8"
             ],
             [
              0.3333333333333333,
              "#9c179e"
             ],
             [
              0.4444444444444444,
              "#bd3786"
             ],
             [
              0.5555555555555556,
              "#d8576b"
             ],
             [
              0.6666666666666666,
              "#ed7953"
             ],
             [
              0.7777777777777778,
              "#fb9f3a"
             ],
             [
              0.8888888888888888,
              "#fdca26"
             ],
             [
              1,
              "#f0f921"
             ]
            ],
            "type": "heatmapgl"
           }
          ],
          "histogram": [
           {
            "marker": {
             "colorbar": {
              "outlinewidth": 0,
              "ticks": ""
             }
            },
            "type": "histogram"
           }
          ],
          "histogram2d": [
           {
            "colorbar": {
             "outlinewidth": 0,
             "ticks": ""
            },
            "colorscale": [
             [
              0,
              "#0d0887"
             ],
             [
              0.1111111111111111,
              "#46039f"
             ],
             [
              0.2222222222222222,
              "#7201a8"
             ],
             [
              0.3333333333333333,
              "#9c179e"
             ],
             [
              0.4444444444444444,
              "#bd3786"
             ],
             [
              0.5555555555555556,
              "#d8576b"
             ],
             [
              0.6666666666666666,
              "#ed7953"
             ],
             [
              0.7777777777777778,
              "#fb9f3a"
             ],
             [
              0.8888888888888888,
              "#fdca26"
             ],
             [
              1,
              "#f0f921"
             ]
            ],
            "type": "histogram2d"
           }
          ],
          "histogram2dcontour": [
           {
            "colorbar": {
             "outlinewidth": 0,
             "ticks": ""
            },
            "colorscale": [
             [
              0,
              "#0d0887"
             ],
             [
              0.1111111111111111,
              "#46039f"
             ],
             [
              0.2222222222222222,
              "#7201a8"
             ],
             [
              0.3333333333333333,
              "#9c179e"
             ],
             [
              0.4444444444444444,
              "#bd3786"
             ],
             [
              0.5555555555555556,
              "#d8576b"
             ],
             [
              0.6666666666666666,
              "#ed7953"
             ],
             [
              0.7777777777777778,
              "#fb9f3a"
             ],
             [
              0.8888888888888888,
              "#fdca26"
             ],
             [
              1,
              "#f0f921"
             ]
            ],
            "type": "histogram2dcontour"
           }
          ],
          "mesh3d": [
           {
            "colorbar": {
             "outlinewidth": 0,
             "ticks": ""
            },
            "type": "mesh3d"
           }
          ],
          "parcoords": [
           {
            "line": {
             "colorbar": {
              "outlinewidth": 0,
              "ticks": ""
             }
            },
            "type": "parcoords"
           }
          ],
          "pie": [
           {
            "automargin": true,
            "type": "pie"
           }
          ],
          "scatter": [
           {
            "marker": {
             "colorbar": {
              "outlinewidth": 0,
              "ticks": ""
             }
            },
            "type": "scatter"
           }
          ],
          "scatter3d": [
           {
            "line": {
             "colorbar": {
              "outlinewidth": 0,
              "ticks": ""
             }
            },
            "marker": {
             "colorbar": {
              "outlinewidth": 0,
              "ticks": ""
             }
            },
            "type": "scatter3d"
           }
          ],
          "scattercarpet": [
           {
            "marker": {
             "colorbar": {
              "outlinewidth": 0,
              "ticks": ""
             }
            },
            "type": "scattercarpet"
           }
          ],
          "scattergeo": [
           {
            "marker": {
             "colorbar": {
              "outlinewidth": 0,
              "ticks": ""
             }
            },
            "type": "scattergeo"
           }
          ],
          "scattergl": [
           {
            "marker": {
             "colorbar": {
              "outlinewidth": 0,
              "ticks": ""
             }
            },
            "type": "scattergl"
           }
          ],
          "scattermapbox": [
           {
            "marker": {
             "colorbar": {
              "outlinewidth": 0,
              "ticks": ""
             }
            },
            "type": "scattermapbox"
           }
          ],
          "scatterpolar": [
           {
            "marker": {
             "colorbar": {
              "outlinewidth": 0,
              "ticks": ""
             }
            },
            "type": "scatterpolar"
           }
          ],
          "scatterpolargl": [
           {
            "marker": {
             "colorbar": {
              "outlinewidth": 0,
              "ticks": ""
             }
            },
            "type": "scatterpolargl"
           }
          ],
          "scatterternary": [
           {
            "marker": {
             "colorbar": {
              "outlinewidth": 0,
              "ticks": ""
             }
            },
            "type": "scatterternary"
           }
          ],
          "surface": [
           {
            "colorbar": {
             "outlinewidth": 0,
             "ticks": ""
            },
            "colorscale": [
             [
              0,
              "#0d0887"
             ],
             [
              0.1111111111111111,
              "#46039f"
             ],
             [
              0.2222222222222222,
              "#7201a8"
             ],
             [
              0.3333333333333333,
              "#9c179e"
             ],
             [
              0.4444444444444444,
              "#bd3786"
             ],
             [
              0.5555555555555556,
              "#d8576b"
             ],
             [
              0.6666666666666666,
              "#ed7953"
             ],
             [
              0.7777777777777778,
              "#fb9f3a"
             ],
             [
              0.8888888888888888,
              "#fdca26"
             ],
             [
              1,
              "#f0f921"
             ]
            ],
            "type": "surface"
           }
          ],
          "table": [
           {
            "cells": {
             "fill": {
              "color": "#EBF0F8"
             },
             "line": {
              "color": "white"
             }
            },
            "header": {
             "fill": {
              "color": "#C8D4E3"
             },
             "line": {
              "color": "white"
             }
            },
            "type": "table"
           }
          ]
         },
         "layout": {
          "annotationdefaults": {
           "arrowcolor": "#2a3f5f",
           "arrowhead": 0,
           "arrowwidth": 1
          },
          "autotypenumbers": "strict",
          "coloraxis": {
           "colorbar": {
            "outlinewidth": 0,
            "ticks": ""
           }
          },
          "colorscale": {
           "diverging": [
            [
             0,
             "#8e0152"
            ],
            [
             0.1,
             "#c51b7d"
            ],
            [
             0.2,
             "#de77ae"
            ],
            [
             0.3,
             "#f1b6da"
            ],
            [
             0.4,
             "#fde0ef"
            ],
            [
             0.5,
             "#f7f7f7"
            ],
            [
             0.6,
             "#e6f5d0"
            ],
            [
             0.7,
             "#b8e186"
            ],
            [
             0.8,
             "#7fbc41"
            ],
            [
             0.9,
             "#4d9221"
            ],
            [
             1,
             "#276419"
            ]
           ],
           "sequential": [
            [
             0,
             "#0d0887"
            ],
            [
             0.1111111111111111,
             "#46039f"
            ],
            [
             0.2222222222222222,
             "#7201a8"
            ],
            [
             0.3333333333333333,
             "#9c179e"
            ],
            [
             0.4444444444444444,
             "#bd3786"
            ],
            [
             0.5555555555555556,
             "#d8576b"
            ],
            [
             0.6666666666666666,
             "#ed7953"
            ],
            [
             0.7777777777777778,
             "#fb9f3a"
            ],
            [
             0.8888888888888888,
             "#fdca26"
            ],
            [
             1,
             "#f0f921"
            ]
           ],
           "sequentialminus": [
            [
             0,
             "#0d0887"
            ],
            [
             0.1111111111111111,
             "#46039f"
            ],
            [
             0.2222222222222222,
             "#7201a8"
            ],
            [
             0.3333333333333333,
             "#9c179e"
            ],
            [
             0.4444444444444444,
             "#bd3786"
            ],
            [
             0.5555555555555556,
             "#d8576b"
            ],
            [
             0.6666666666666666,
             "#ed7953"
            ],
            [
             0.7777777777777778,
             "#fb9f3a"
            ],
            [
             0.8888888888888888,
             "#fdca26"
            ],
            [
             1,
             "#f0f921"
            ]
           ]
          },
          "colorway": [
           "#636efa",
           "#EF553B",
           "#00cc96",
           "#ab63fa",
           "#FFA15A",
           "#19d3f3",
           "#FF6692",
           "#B6E880",
           "#FF97FF",
           "#FECB52"
          ],
          "font": {
           "color": "#2a3f5f"
          },
          "geo": {
           "bgcolor": "white",
           "lakecolor": "white",
           "landcolor": "white",
           "showlakes": true,
           "showland": true,
           "subunitcolor": "#C8D4E3"
          },
          "hoverlabel": {
           "align": "left"
          },
          "hovermode": "closest",
          "mapbox": {
           "style": "light"
          },
          "paper_bgcolor": "white",
          "plot_bgcolor": "white",
          "polar": {
           "angularaxis": {
            "gridcolor": "#EBF0F8",
            "linecolor": "#EBF0F8",
            "ticks": ""
           },
           "bgcolor": "white",
           "radialaxis": {
            "gridcolor": "#EBF0F8",
            "linecolor": "#EBF0F8",
            "ticks": ""
           }
          },
          "scene": {
           "xaxis": {
            "backgroundcolor": "white",
            "gridcolor": "#DFE8F3",
            "gridwidth": 2,
            "linecolor": "#EBF0F8",
            "showbackground": true,
            "ticks": "",
            "zerolinecolor": "#EBF0F8"
           },
           "yaxis": {
            "backgroundcolor": "white",
            "gridcolor": "#DFE8F3",
            "gridwidth": 2,
            "linecolor": "#EBF0F8",
            "showbackground": true,
            "ticks": "",
            "zerolinecolor": "#EBF0F8"
           },
           "zaxis": {
            "backgroundcolor": "white",
            "gridcolor": "#DFE8F3",
            "gridwidth": 2,
            "linecolor": "#EBF0F8",
            "showbackground": true,
            "ticks": "",
            "zerolinecolor": "#EBF0F8"
           }
          },
          "shapedefaults": {
           "line": {
            "color": "#2a3f5f"
           }
          },
          "ternary": {
           "aaxis": {
            "gridcolor": "#DFE8F3",
            "linecolor": "#A2B1C6",
            "ticks": ""
           },
           "baxis": {
            "gridcolor": "#DFE8F3",
            "linecolor": "#A2B1C6",
            "ticks": ""
           },
           "bgcolor": "white",
           "caxis": {
            "gridcolor": "#DFE8F3",
            "linecolor": "#A2B1C6",
            "ticks": ""
           }
          },
          "title": {
           "x": 0.05
          },
          "xaxis": {
           "automargin": true,
           "gridcolor": "#EBF0F8",
           "linecolor": "#EBF0F8",
           "ticks": "",
           "title": {
            "standoff": 15
           },
           "zerolinecolor": "#EBF0F8",
           "zerolinewidth": 2
          },
          "yaxis": {
           "automargin": true,
           "gridcolor": "#EBF0F8",
           "linecolor": "#EBF0F8",
           "ticks": "",
           "title": {
            "standoff": 15
           },
           "zerolinecolor": "#EBF0F8",
           "zerolinewidth": 2
          }
         }
        },
        "title": {
         "text": "ADMM performance benchmark at lambda=0.1.<br>Accuracy is between 1e-07 and 0.05"
        },
        "xaxis": {
         "anchor": "y",
         "domain": [
          0,
          0.49
         ],
         "title": {
          "text": "Accuracy"
         },
         "type": "log"
        },
        "xaxis2": {
         "anchor": "y2",
         "domain": [
          0.51,
          1
         ],
         "title": {
          "text": "Accuracy"
         },
         "type": "log"
        },
        "yaxis": {
         "anchor": "x",
         "domain": [
          0,
          1
         ],
         "exponentformat": "power",
         "title": {
          "text": "Time, s"
         },
         "type": "log"
        },
        "yaxis2": {
         "anchor": "x2",
         "domain": [
          0,
          1
         ],
         "exponentformat": "power",
         "matches": "y",
         "showticklabels": false,
         "type": "log"
        }
       }
      },
      "text/html": [
       "<div>                            <div id=\"7ba0dff3-d30d-4f2f-a0ac-c964e555bee5\" class=\"plotly-graph-div\" style=\"height:525px; width:100%;\"></div>            <script type=\"text/javascript\">                require([\"plotly\"], function(Plotly) {                    window.PLOTLYENV=window.PLOTLYENV || {};                                    if (document.getElementById(\"7ba0dff3-d30d-4f2f-a0ac-c964e555bee5\")) {                    Plotly.newPlot(                        \"7ba0dff3-d30d-4f2f-a0ac-c964e555bee5\",                        [{\"hovertemplate\": \"method=block-boyd<br>dim=(100, 200)<br>Accuracy=%{x}<br>Time, s=%{y}<br>l1=%{text}<extra></extra>\", \"legendgroup\": \"block-boyd\", \"marker\": {\"color\": \"#FF0000\", \"line\": {\"width\": 1}, \"size\": 10, \"symbol\": \"circle\"}, \"mode\": \"markers+lines\", \"name\": \"block-boyd\", \"orientation\": \"v\", \"showlegend\": true, \"text\": [0.05, 0.05, 0.05, 0.05, 0.05, 0.05, 0.05, 0.05, 0.05], \"type\": \"scatter\", \"x\": [0.008532241503357726, 0.008532241503357726, 0.0010282921805464332, 0.008532241503357726, 0.0010282921805464332, 0.0010282921805464332, 0.0001080261302833673, 0.0001080261302833673, 0.0001080261302833673], \"xaxis\": \"x\", \"y\": [0.03385435399999892, 0.03433696749999626, 0.04534125899996866, 0.05548271050000153, 0.07113902899999403, 0.07193484749998902, 0.09078393100000426, 0.10204798949999372, 0.10900217900001508], \"yaxis\": \"y\"}, {\"hovertemplate\": \"method=block-boyd<br>dim=(200, 400)<br>Accuracy=%{x}<br>Time, s=%{y}<br>l1=%{text}<extra></extra>\", \"legendgroup\": \"block-boyd\", \"marker\": {\"color\": \"#FF0000\", \"line\": {\"width\": 1}, \"size\": 10, \"symbol\": \"circle\"}, \"mode\": \"markers+lines\", \"name\": \"block-boyd\", \"orientation\": \"v\", \"showlegend\": false, \"text\": [0.05, 0.05, 0.05, 0.05, 0.05, 0.05, 0.05, 0.05, 0.05], \"type\": \"scatter\", \"x\": [0.02334800169450094, 0.02334800169450094, 0.02334800169450094, 0.0026124705953719032, 0.0026124705953719032, 0.0003265891984752853, 0.0003265891984752853, 0.0026124705953719032, 0.0003265891984752853], \"xaxis\": \"x2\", \"y\": [0.06404588499998454, 0.07240974649999998, 0.08159809800000062, 0.15709616699999174, 0.21771873049999613, 0.2418693175000044, 0.25017343199999686, 0.2814464614999963, 0.29930193050003595], \"yaxis\": \"y2\"}, {\"hovertemplate\": \"method=single-boyd<br>dim=(100, 200)<br>Accuracy=%{x}<br>Time, s=%{y}<br>l1=%{text}<extra></extra>\", \"legendgroup\": \"single-boyd\", \"marker\": {\"color\": \"#FF8C00\", \"line\": {\"width\": 1}, \"size\": 10, \"symbol\": \"circle\"}, \"mode\": \"markers+lines\", \"name\": \"single-boyd\", \"orientation\": \"v\", \"showlegend\": true, \"text\": [0.05, 0.05, 0.05, 0.05, 0.05, 0.05, 0.05, 0.05, 0.05], \"type\": \"scatter\", \"x\": [0.008532241503357726, 0.0010282921805464332, 0.0010282921805464332, 0.008532241503357726, 0.008532241503357726, 0.0001080261302833673, 0.0001080261302833673, 0.0001080261302833673, 0.0010282921805464332], \"xaxis\": \"x\", \"y\": [0.03642683850000594, 0.04971600400000398, 0.05234669999998687, 0.05396549300002107, 0.05707231499999921, 0.06103588050001463, 0.06707227350000267, 0.06988602700002389, 0.07414612900001316], \"yaxis\": \"y\"}, {\"hovertemplate\": \"method=single-boyd<br>dim=(200, 400)<br>Accuracy=%{x}<br>Time, s=%{y}<br>l1=%{text}<extra></extra>\", \"legendgroup\": \"single-boyd\", \"marker\": {\"color\": \"#FF8C00\", \"line\": {\"width\": 1}, \"size\": 10, \"symbol\": \"circle\"}, \"mode\": \"markers+lines\", \"name\": \"single-boyd\", \"orientation\": \"v\", \"showlegend\": false, \"text\": [0.05, 0.05, 0.05, 0.05, 0.05, 0.05, 0.05, 0.05, 0.05], \"type\": \"scatter\", \"x\": [0.02334800169450094, 0.02334800169450094, 0.02334800169450094, 0.0026124705953719032, 0.0003265891984752853, 0.0026124705953719032, 0.0003265891984752853, 0.0003265891984752853, 0.0026124705953719032], \"xaxis\": \"x2\", \"y\": [0.08573608849999914, 0.09315477700002361, 0.09976297000000045, 0.12422012650000624, 0.15149523299999146, 0.1703477650000309, 0.17278435200000786, 0.20362941050001382, 0.23654962300000193], \"yaxis\": \"y2\"}, {\"hovertemplate\": \"method=sklearn<br>dim=(100, 200)<br>Accuracy=%{x}<br>Time, s=%{y}<br>l1=%{text}<extra></extra>\", \"legendgroup\": \"sklearn\", \"marker\": {\"color\": \"#0000FF\", \"line\": {\"width\": 1}, \"size\": 10, \"symbol\": \"circle\"}, \"mode\": \"markers+lines\", \"name\": \"sklearn\", \"orientation\": \"v\", \"showlegend\": true, \"text\": [0.05, 0.05, 0.05, 0.05], \"type\": \"scatter\", \"x\": [0.0018908065316319753, 0.002837950792195702, 0.0008576102707237537, 0.0007594601520348618], \"xaxis\": \"x\", \"y\": [0.0420422654999868, 0.06443780300000412, 0.06749770449999914, 0.12972995499998774], \"yaxis\": \"y\"}, {\"hovertemplate\": \"method=sklearn<br>dim=(200, 400)<br>Accuracy=%{x}<br>Time, s=%{y}<br>l1=%{text}<extra></extra>\", \"legendgroup\": \"sklearn\", \"marker\": {\"color\": \"#0000FF\", \"line\": {\"width\": 1}, \"size\": 10, \"symbol\": \"circle\"}, \"mode\": \"markers+lines\", \"name\": \"sklearn\", \"orientation\": \"v\", \"showlegend\": false, \"text\": [0.05, 0.05, 0.05, 0.05], \"type\": \"scatter\", \"x\": [0.0007672969281251129, 0.0010385585241967513, 0.00013903625124688903, 0.00012763918754454226], \"xaxis\": \"x2\", \"y\": [0.09795304600001487, 0.22030170649998126, 0.2789885225000148, 0.7716733645000033], \"yaxis\": \"y2\"}, {\"hovertemplate\": \"method=regain<br>dim=(100, 200)<br>Accuracy=%{x}<br>Time, s=%{y}<br>l1=%{text}<extra></extra>\", \"legendgroup\": \"regain\", \"marker\": {\"color\": \"#32CD32\", \"line\": {\"width\": 1}, \"size\": 10, \"symbol\": \"circle\"}, \"mode\": \"markers+lines\", \"name\": \"regain\", \"orientation\": \"v\", \"showlegend\": true, \"text\": [0.05, 0.05, 0.05, 0.05, 0.05, 0.05, 0.05, 0.05, 0.05], \"type\": \"scatter\", \"x\": [0.0002461062583503433, 0.00032581870074295565, 0.0018556853838830212, 0.00010802613028314484, 3.7929959254422946e-05, 0.0018556853838830212, 0.0002461062583503433, 0.0018556853838830212, 1.8131253872458862e-05], \"xaxis\": \"x\", \"y\": [0.0570564994999927, 0.07033508249998022, 0.0774491335000107, 0.08058605949997855, 0.09259233699998504, 0.09555096349998848, 0.10776699799993139, 0.11342848750001622, 0.11753461100005325], \"yaxis\": \"y\"}, {\"hovertemplate\": \"method=regain<br>dim=(200, 400)<br>Accuracy=%{x}<br>Time, s=%{y}<br>l1=%{text}<extra></extra>\", \"legendgroup\": \"regain\", \"marker\": {\"color\": \"#32CD32\", \"line\": {\"width\": 1}, \"size\": 10, \"symbol\": \"circle\"}, \"mode\": \"markers+lines\", \"name\": \"regain\", \"orientation\": \"v\", \"showlegend\": false, \"text\": [0.05, 0.05, 0.05, 0.05, 0.05, 0.05, 0.05, 0.05, 0.05], \"type\": \"scatter\", \"x\": [0.0026124705953718976, 0.0026124705953718976, 0.0026124705953718976, 0.00042125318222693386, 0.00032658919847511917, 0.00032658919847511917, 2.9045888901813143e-05, 0.00012021448981547454, 4.600472964631441e-05], \"xaxis\": \"x2\", \"y\": [0.13590997599999355, 0.1464124044999835, 0.15805235799996353, 0.22989220549999345, 0.2401360430000068, 0.2944259489999581, 0.3222328795000067, 0.33341585149997854, 0.4276646060000644], \"yaxis\": \"y2\"}],                        {\"annotations\": [{\"font\": {}, \"showarrow\": false, \"text\": \"dim=(100, 200)\", \"x\": 0.245, \"xanchor\": \"center\", \"xref\": \"paper\", \"y\": 1.0, \"yanchor\": \"bottom\", \"yref\": \"paper\"}, {\"font\": {}, \"showarrow\": false, \"text\": \"dim=(200, 400)\", \"x\": 0.755, \"xanchor\": \"center\", \"xref\": \"paper\", \"y\": 1.0, \"yanchor\": \"bottom\", \"yref\": \"paper\"}], \"legend\": {\"title\": {\"text\": \"method\"}, \"tracegroupgap\": 0}, \"template\": {\"data\": {\"bar\": [{\"error_x\": {\"color\": \"#2a3f5f\"}, \"error_y\": {\"color\": \"#2a3f5f\"}, \"marker\": {\"line\": {\"color\": \"white\", \"width\": 0.5}}, \"type\": \"bar\"}], \"barpolar\": [{\"marker\": {\"line\": {\"color\": \"white\", \"width\": 0.5}}, \"type\": \"barpolar\"}], \"carpet\": [{\"aaxis\": {\"endlinecolor\": \"#2a3f5f\", \"gridcolor\": \"#C8D4E3\", \"linecolor\": \"#C8D4E3\", \"minorgridcolor\": \"#C8D4E3\", \"startlinecolor\": \"#2a3f5f\"}, \"baxis\": {\"endlinecolor\": \"#2a3f5f\", \"gridcolor\": \"#C8D4E3\", \"linecolor\": \"#C8D4E3\", \"minorgridcolor\": \"#C8D4E3\", \"startlinecolor\": \"#2a3f5f\"}, \"type\": \"carpet\"}], \"choropleth\": [{\"colorbar\": {\"outlinewidth\": 0, \"ticks\": \"\"}, \"type\": \"choropleth\"}], \"contour\": [{\"colorbar\": {\"outlinewidth\": 0, \"ticks\": \"\"}, \"colorscale\": [[0.0, \"#0d0887\"], [0.1111111111111111, \"#46039f\"], [0.2222222222222222, \"#7201a8\"], [0.3333333333333333, \"#9c179e\"], [0.4444444444444444, \"#bd3786\"], [0.5555555555555556, \"#d8576b\"], [0.6666666666666666, \"#ed7953\"], [0.7777777777777778, \"#fb9f3a\"], [0.8888888888888888, \"#fdca26\"], [1.0, \"#f0f921\"]], \"type\": \"contour\"}], \"contourcarpet\": [{\"colorbar\": {\"outlinewidth\": 0, \"ticks\": \"\"}, \"type\": \"contourcarpet\"}], \"heatmap\": [{\"colorbar\": {\"outlinewidth\": 0, \"ticks\": \"\"}, \"colorscale\": [[0.0, \"#0d0887\"], [0.1111111111111111, \"#46039f\"], [0.2222222222222222, \"#7201a8\"], [0.3333333333333333, \"#9c179e\"], [0.4444444444444444, \"#bd3786\"], [0.5555555555555556, \"#d8576b\"], [0.6666666666666666, \"#ed7953\"], [0.7777777777777778, \"#fb9f3a\"], [0.8888888888888888, \"#fdca26\"], [1.0, \"#f0f921\"]], \"type\": \"heatmap\"}], \"heatmapgl\": [{\"colorbar\": {\"outlinewidth\": 0, \"ticks\": \"\"}, \"colorscale\": [[0.0, \"#0d0887\"], [0.1111111111111111, \"#46039f\"], [0.2222222222222222, \"#7201a8\"], [0.3333333333333333, \"#9c179e\"], [0.4444444444444444, \"#bd3786\"], [0.5555555555555556, \"#d8576b\"], [0.6666666666666666, \"#ed7953\"], [0.7777777777777778, \"#fb9f3a\"], [0.8888888888888888, \"#fdca26\"], [1.0, \"#f0f921\"]], \"type\": \"heatmapgl\"}], \"histogram\": [{\"marker\": {\"colorbar\": {\"outlinewidth\": 0, \"ticks\": \"\"}}, \"type\": \"histogram\"}], \"histogram2d\": [{\"colorbar\": {\"outlinewidth\": 0, \"ticks\": \"\"}, \"colorscale\": [[0.0, \"#0d0887\"], [0.1111111111111111, \"#46039f\"], [0.2222222222222222, \"#7201a8\"], [0.3333333333333333, \"#9c179e\"], [0.4444444444444444, \"#bd3786\"], [0.5555555555555556, \"#d8576b\"], [0.6666666666666666, \"#ed7953\"], [0.7777777777777778, \"#fb9f3a\"], [0.8888888888888888, \"#fdca26\"], [1.0, \"#f0f921\"]], \"type\": \"histogram2d\"}], \"histogram2dcontour\": [{\"colorbar\": {\"outlinewidth\": 0, \"ticks\": \"\"}, \"colorscale\": [[0.0, \"#0d0887\"], [0.1111111111111111, \"#46039f\"], [0.2222222222222222, \"#7201a8\"], [0.3333333333333333, \"#9c179e\"], [0.4444444444444444, \"#bd3786\"], [0.5555555555555556, \"#d8576b\"], [0.6666666666666666, \"#ed7953\"], [0.7777777777777778, \"#fb9f3a\"], [0.8888888888888888, \"#fdca26\"], [1.0, \"#f0f921\"]], \"type\": \"histogram2dcontour\"}], \"mesh3d\": [{\"colorbar\": {\"outlinewidth\": 0, \"ticks\": \"\"}, \"type\": \"mesh3d\"}], \"parcoords\": [{\"line\": {\"colorbar\": {\"outlinewidth\": 0, \"ticks\": \"\"}}, \"type\": \"parcoords\"}], \"pie\": [{\"automargin\": true, \"type\": \"pie\"}], \"scatter\": [{\"marker\": {\"colorbar\": {\"outlinewidth\": 0, \"ticks\": \"\"}}, \"type\": \"scatter\"}], \"scatter3d\": [{\"line\": {\"colorbar\": {\"outlinewidth\": 0, \"ticks\": \"\"}}, \"marker\": {\"colorbar\": {\"outlinewidth\": 0, \"ticks\": \"\"}}, \"type\": \"scatter3d\"}], \"scattercarpet\": [{\"marker\": {\"colorbar\": {\"outlinewidth\": 0, \"ticks\": \"\"}}, \"type\": \"scattercarpet\"}], \"scattergeo\": [{\"marker\": {\"colorbar\": {\"outlinewidth\": 0, \"ticks\": \"\"}}, \"type\": \"scattergeo\"}], \"scattergl\": [{\"marker\": {\"colorbar\": {\"outlinewidth\": 0, \"ticks\": \"\"}}, \"type\": \"scattergl\"}], \"scattermapbox\": [{\"marker\": {\"colorbar\": {\"outlinewidth\": 0, \"ticks\": \"\"}}, \"type\": \"scattermapbox\"}], \"scatterpolar\": [{\"marker\": {\"colorbar\": {\"outlinewidth\": 0, \"ticks\": \"\"}}, \"type\": \"scatterpolar\"}], \"scatterpolargl\": [{\"marker\": {\"colorbar\": {\"outlinewidth\": 0, \"ticks\": \"\"}}, \"type\": \"scatterpolargl\"}], \"scatterternary\": [{\"marker\": {\"colorbar\": {\"outlinewidth\": 0, \"ticks\": \"\"}}, \"type\": \"scatterternary\"}], \"surface\": [{\"colorbar\": {\"outlinewidth\": 0, \"ticks\": \"\"}, \"colorscale\": [[0.0, \"#0d0887\"], [0.1111111111111111, \"#46039f\"], [0.2222222222222222, \"#7201a8\"], [0.3333333333333333, \"#9c179e\"], [0.4444444444444444, \"#bd3786\"], [0.5555555555555556, \"#d8576b\"], [0.6666666666666666, \"#ed7953\"], [0.7777777777777778, \"#fb9f3a\"], [0.8888888888888888, \"#fdca26\"], [1.0, \"#f0f921\"]], \"type\": \"surface\"}], \"table\": [{\"cells\": {\"fill\": {\"color\": \"#EBF0F8\"}, \"line\": {\"color\": \"white\"}}, \"header\": {\"fill\": {\"color\": \"#C8D4E3\"}, \"line\": {\"color\": \"white\"}}, \"type\": \"table\"}]}, \"layout\": {\"annotationdefaults\": {\"arrowcolor\": \"#2a3f5f\", \"arrowhead\": 0, \"arrowwidth\": 1}, \"autotypenumbers\": \"strict\", \"coloraxis\": {\"colorbar\": {\"outlinewidth\": 0, \"ticks\": \"\"}}, \"colorscale\": {\"diverging\": [[0, \"#8e0152\"], [0.1, \"#c51b7d\"], [0.2, \"#de77ae\"], [0.3, \"#f1b6da\"], [0.4, \"#fde0ef\"], [0.5, \"#f7f7f7\"], [0.6, \"#e6f5d0\"], [0.7, \"#b8e186\"], [0.8, \"#7fbc41\"], [0.9, \"#4d9221\"], [1, \"#276419\"]], \"sequential\": [[0.0, \"#0d0887\"], [0.1111111111111111, \"#46039f\"], [0.2222222222222222, \"#7201a8\"], [0.3333333333333333, \"#9c179e\"], [0.4444444444444444, \"#bd3786\"], [0.5555555555555556, \"#d8576b\"], [0.6666666666666666, \"#ed7953\"], [0.7777777777777778, \"#fb9f3a\"], [0.8888888888888888, \"#fdca26\"], [1.0, \"#f0f921\"]], \"sequentialminus\": [[0.0, \"#0d0887\"], [0.1111111111111111, \"#46039f\"], [0.2222222222222222, \"#7201a8\"], [0.3333333333333333, \"#9c179e\"], [0.4444444444444444, \"#bd3786\"], [0.5555555555555556, \"#d8576b\"], [0.6666666666666666, \"#ed7953\"], [0.7777777777777778, \"#fb9f3a\"], [0.8888888888888888, \"#fdca26\"], [1.0, \"#f0f921\"]]}, \"colorway\": [\"#636efa\", \"#EF553B\", \"#00cc96\", \"#ab63fa\", \"#FFA15A\", \"#19d3f3\", \"#FF6692\", \"#B6E880\", \"#FF97FF\", \"#FECB52\"], \"font\": {\"color\": \"#2a3f5f\"}, \"geo\": {\"bgcolor\": \"white\", \"lakecolor\": \"white\", \"landcolor\": \"white\", \"showlakes\": true, \"showland\": true, \"subunitcolor\": \"#C8D4E3\"}, \"hoverlabel\": {\"align\": \"left\"}, \"hovermode\": \"closest\", \"mapbox\": {\"style\": \"light\"}, \"paper_bgcolor\": \"white\", \"plot_bgcolor\": \"white\", \"polar\": {\"angularaxis\": {\"gridcolor\": \"#EBF0F8\", \"linecolor\": \"#EBF0F8\", \"ticks\": \"\"}, \"bgcolor\": \"white\", \"radialaxis\": {\"gridcolor\": \"#EBF0F8\", \"linecolor\": \"#EBF0F8\", \"ticks\": \"\"}}, \"scene\": {\"xaxis\": {\"backgroundcolor\": \"white\", \"gridcolor\": \"#DFE8F3\", \"gridwidth\": 2, \"linecolor\": \"#EBF0F8\", \"showbackground\": true, \"ticks\": \"\", \"zerolinecolor\": \"#EBF0F8\"}, \"yaxis\": {\"backgroundcolor\": \"white\", \"gridcolor\": \"#DFE8F3\", \"gridwidth\": 2, \"linecolor\": \"#EBF0F8\", \"showbackground\": true, \"ticks\": \"\", \"zerolinecolor\": \"#EBF0F8\"}, \"zaxis\": {\"backgroundcolor\": \"white\", \"gridcolor\": \"#DFE8F3\", \"gridwidth\": 2, \"linecolor\": \"#EBF0F8\", \"showbackground\": true, \"ticks\": \"\", \"zerolinecolor\": \"#EBF0F8\"}}, \"shapedefaults\": {\"line\": {\"color\": \"#2a3f5f\"}}, \"ternary\": {\"aaxis\": {\"gridcolor\": \"#DFE8F3\", \"linecolor\": \"#A2B1C6\", \"ticks\": \"\"}, \"baxis\": {\"gridcolor\": \"#DFE8F3\", \"linecolor\": \"#A2B1C6\", \"ticks\": \"\"}, \"bgcolor\": \"white\", \"caxis\": {\"gridcolor\": \"#DFE8F3\", \"linecolor\": \"#A2B1C6\", \"ticks\": \"\"}}, \"title\": {\"x\": 0.05}, \"xaxis\": {\"automargin\": true, \"gridcolor\": \"#EBF0F8\", \"linecolor\": \"#EBF0F8\", \"ticks\": \"\", \"title\": {\"standoff\": 15}, \"zerolinecolor\": \"#EBF0F8\", \"zerolinewidth\": 2}, \"yaxis\": {\"automargin\": true, \"gridcolor\": \"#EBF0F8\", \"linecolor\": \"#EBF0F8\", \"ticks\": \"\", \"title\": {\"standoff\": 15}, \"zerolinecolor\": \"#EBF0F8\", \"zerolinewidth\": 2}}}, \"title\": {\"text\": \"ADMM performance benchmark at lambda=0.1.<br>Accuracy is between 1e-07 and 0.05\"}, \"xaxis\": {\"anchor\": \"y\", \"domain\": [0.0, 0.49], \"title\": {\"text\": \"Accuracy\"}, \"type\": \"log\"}, \"xaxis2\": {\"anchor\": \"y2\", \"domain\": [0.51, 1.0], \"title\": {\"text\": \"Accuracy\"}, \"type\": \"log\"}, \"yaxis\": {\"anchor\": \"x\", \"domain\": [0.0, 1.0], \"exponentformat\": \"power\", \"title\": {\"text\": \"Time, s\"}, \"type\": \"log\"}, \"yaxis2\": {\"anchor\": \"x2\", \"domain\": [0.0, 1.0], \"exponentformat\": \"power\", \"matches\": \"y\", \"showticklabels\": false, \"type\": \"log\"}},                        {\"responsive\": true}                    ).then(function(){\n",
       "                            \n",
       "var gd = document.getElementById('7ba0dff3-d30d-4f2f-a0ac-c964e555bee5');\n",
       "var x = new MutationObserver(function (mutations, observer) {{\n",
       "        var display = window.getComputedStyle(gd).display;\n",
       "        if (!display || display === 'none') {{\n",
       "            console.log([gd, 'removed!']);\n",
       "            Plotly.purge(gd);\n",
       "            observer.disconnect();\n",
       "        }}\n",
       "}});\n",
       "\n",
       "// Listen for the removal of the full notebook cells\n",
       "var notebookContainer = gd.closest('#notebook-container');\n",
       "if (notebookContainer) {{\n",
       "    x.observe(notebookContainer, {childList: true});\n",
       "}}\n",
       "\n",
       "// Listen for the clearing of the current output cell\n",
       "var outputEl = gd.closest('.output');\n",
       "if (outputEl) {{\n",
       "    x.observe(outputEl, {childList: true});\n",
       "}}\n",
       "\n",
       "                        })                };                });            </script>        </div>"
      ]
     },
     "metadata": {},
     "output_type": "display_data"
    }
   ],
   "source": [
    "fig = plot_accuracy(df, upper_bound=0.1, lower_bound=0.0000001, lambda_filter=0.05, sortby=['p', 'time'])\n",
    "fig.show()"
   ]
  },
  {
   "cell_type": "code",
   "execution_count": 85,
   "id": "primary-notion",
   "metadata": {},
   "outputs": [
    {
     "data": {
      "text/plain": [
       "{100:         method  min_hamming\n",
       " 0   block-boyd         1992\n",
       " 1  single-boyd         1992\n",
       " 2       regain         2032\n",
       " 3      sklearn         2040,\n",
       " 200:         method  min_hamming\n",
       " 0   block-boyd          804\n",
       " 1       regain          804\n",
       " 2  single-boyd          804\n",
       " 3      sklearn          828}"
      ]
     },
     "execution_count": 85,
     "metadata": {},
     "output_type": "execute_result"
    }
   ],
   "source": [
    "frames = sparsity_benchmark(df, upper_bound=0.01, lower_bound=0.0001, lambda_filter=0.1)\n",
    "frames"
   ]
  },
  {
   "cell_type": "markdown",
   "id": "vanilla-dispatch",
   "metadata": {},
   "source": [
    "### Latent variables data from <em>regain</em>"
   ]
  },
  {
   "cell_type": "code",
   "execution_count": 6,
   "id": "absolute-welding",
   "metadata": {},
   "outputs": [
    {
     "data": {
      "application/vnd.jupyter.widget-view+json": {
       "model_id": "bcf6d23711dd48e19000556ad95e0bf1",
       "version_major": 2,
       "version_minor": 0
      },
      "text/plain": [
       "  0%|          | 0/30 [00:00<?, ?it/s]"
      ]
     },
     "metadata": {},
     "output_type": "display_data"
    }
   ],
   "source": [
    "# # prepare data\n",
    "# n_times = [20, 50, 100]\n",
    "# n_dims = np.sqrt(np.logspace(2, 5, 10)).astype(int)\n",
    "\n",
    "# n_samples = 200\n",
    "# n_dim_lat = 2\n",
    "\n",
    "# np.random.seed(42)\n",
    "# with utils.suppress_stdout():\n",
    "#     data = {\n",
    "#         (dim, T): datasets.make_dataset(\n",
    "#             mode='ma', n_samples=n_samples, \n",
    "#             n_dim_lat=n_dim_lat, n_dim_obs=dim,\n",
    "#             T=T, epsilon=1e-2)\n",
    "#         for dim, T in (product(n_dims, n_times))\n",
    "#     }\n",
    "\n",
    "# X_lat = dict()\n",
    "\n",
    "# for key in data.keys():\n",
    "#     X_lat.update({key:data[key]['data']})\n",
    "    \n",
    "# X_lat = list(X_lat.values())\n",
    "# X_lat = [x for data in X_lat for x in data] #flatten data array\n",
    "# S_lat = list() # empirical covariance matrices\n",
    "# for i in X_lat:\n",
    "#     S_lat.append(np.cov(i))"
   ]
  },
  {
   "cell_type": "code",
   "execution_count": null,
   "id": "pressed-knowing",
   "metadata": {},
   "outputs": [],
   "source": [
    "# trace_dict = dict()\n",
    "# for key, item in Z_rg.items():\n",
    "#         trace_dict.update({key: {\"Z\": item, \"X\": X, \"S\": S,\"l1\": l1}})"
   ]
  },
  {
   "cell_type": "markdown",
   "id": "burning-earthquake",
   "metadata": {},
   "source": [
    "### Import benchmarks"
   ]
  },
  {
   "cell_type": "code",
   "execution_count": null,
   "id": "theoretical-strengthening",
   "metadata": {},
   "outputs": [],
   "source": [
    "# import pandas as pd\n",
    "# obj = pd.read_pickle(r'sklearn_acc_dict.pickle')"
   ]
  }
 ],
 "metadata": {
  "kernelspec": {
   "display_name": "Python 3",
   "language": "python",
   "name": "python3"
  },
  "widgets": {
   "application/vnd.jupyter.widget-state+json": {
    "state": {},
    "version_major": 2,
    "version_minor": 0
   }
  }
 },
 "nbformat": 4,
 "nbformat_minor": 5
}
