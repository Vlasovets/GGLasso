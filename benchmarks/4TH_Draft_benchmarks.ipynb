{
 "cells": [
  {
   "cell_type": "code",
   "execution_count": null,
   "id": "constant-saturn",
   "metadata": {},
   "outputs": [],
   "source": [
    "%matplotlib inline\n",
    "\n",
    "import sys\n",
    "import time\n",
    "import numpy as np\n",
    "import pandas as pd\n",
    "import plotly.express as px\n",
    "\n",
    "from sklearn.covariance import GraphicalLasso as sk_GL\n",
    "from sklearn.covariance import empirical_covariance\n",
    "\n",
    "sys.path.append('..')\n",
    "from gglasso.solver.single_admm_solver import ADMM_SGL\n",
    "from helper.data_generation import time_varying_power_network, group_power_network, sample_covariance_matrix\n",
    "from helper.model_selection import single_grid_search\n",
    "\n",
    "\n",
    "from regain.covariance import GraphicalLasso as rg_GL"
   ]
  },
  {
   "cell_type": "markdown",
   "id": "experienced-earth",
   "metadata": {},
   "source": [
    "# Sampling from power networks"
   ]
  },
  {
   "cell_type": "code",
   "execution_count": null,
   "id": "signal-campbell",
   "metadata": {},
   "outputs": [],
   "source": [
    "p = 100\n",
    "N = 200\n",
    "Sigma, Theta = group_power_network(p, K=5, M=2) #Theta is true precision matrix\n",
    "\n",
    "S, samples = sample_covariance_matrix(Sigma, N)\n",
    "\n",
    "S = S[0,:,:]\n",
    "Theta = Theta[0,:,:] #true precision matrix\n",
    "\n",
    "samples.shape"
   ]
  },
  {
   "cell_type": "code",
   "execution_count": null,
   "id": "emotional-sussex",
   "metadata": {},
   "outputs": [],
   "source": [
    "lambda1 = 0.01\n",
    "Omega_0 = np.eye(p)\n",
    "\n",
    "n_iter = 50000\n",
    "tol_list = [1e-1, 1e-2, 1e-3, 1e-4, 1e-5, 1e-6, 1e-7, 1e-8]"
   ]
  },
  {
   "cell_type": "markdown",
   "id": "ignored-narrow",
   "metadata": {},
   "source": [
    "## Model solution Z"
   ]
  },
  {
   "cell_type": "code",
   "execution_count": null,
   "id": "graduate-endorsement",
   "metadata": {},
   "outputs": [],
   "source": [
    "start = time.time()\n",
    "model = sk_GL(alpha=lambda1, max_iter=n_iter, tol = 1e-10).fit(samples[0,:,:].T)\n",
    "end = time.time()\n",
    "\n",
    "hours, rem = divmod(end-start, 3600)\n",
    "minutes, seconds = divmod(rem, 60)\n",
    "Z_time = \"{:0>2}:{:0>2}:{:05.2f}\".format(int(hours),int(minutes),seconds)\n",
    "print(Z_time)"
   ]
  },
  {
   "cell_type": "code",
   "execution_count": null,
   "id": "random-ghost",
   "metadata": {},
   "outputs": [],
   "source": [
    "start = time.time()\n",
    "model_1 = sk_GL(alpha=lambda1, max_iter=n_iter, tol = 1e-10).fit(samples[0,:,:].T)\n",
    "end = time.time()\n",
    "\n",
    "hours, rem = divmod(end-start, 3600)\n",
    "minutes, seconds = divmod(rem, 60)\n",
    "Z_time = \"{:0>2}:{:0>2}:{:05.2f}\".format(int(hours),int(minutes),seconds)\n",
    "print(Z_time)"
   ]
  },
  {
   "cell_type": "code",
   "execution_count": null,
   "id": "minus-motor",
   "metadata": {},
   "outputs": [],
   "source": [
    "Z = model.precision_"
   ]
  },
  {
   "cell_type": "markdown",
   "id": "opening-longitude",
   "metadata": {},
   "source": [
    "## Sklearn"
   ]
  },
  {
   "cell_type": "code",
   "execution_count": null,
   "id": "younger-water",
   "metadata": {},
   "outputs": [],
   "source": [
    "cov_list = []\n",
    "precision_list = []\n",
    "time_list = []\n",
    "for tol in tol_list:\n",
    "    start = time.time()\n",
    "    Z_n = sk_GL(alpha=lambda1, max_iter=n_iter, tol = tol).fit(samples[0,:,:].T)\n",
    "    end = time.time()\n",
    "    \n",
    "    hours, rem = divmod(end-start, 3600)\n",
    "    minutes, seconds = divmod(rem, 60)\n",
    "    time_list.append(\"{:0>2}:{:0>2}:{:05.2f}\".format(int(hours),int(minutes),seconds))\n",
    "    \n",
    "    cov_list.append(Z_n.covariance_)\n",
    "    precision_list.append(Z_n.precision_)\n",
    "    \n",
    "accuracy_list = []\n",
    "for i in range(0, len(precision_list)):\n",
    "    accuracy = np.linalg.norm(Z - np.array(precision_list[i]))\n",
    "    accuracy_list.append(accuracy)"
   ]
  },
  {
   "cell_type": "code",
   "execution_count": null,
   "id": "appointed-therapy",
   "metadata": {},
   "outputs": [],
   "source": [
    "str_tol = [str(x) for x in tol_list]\n",
    "method_list = [\"sklearn\"]*len(accuracy_list)\n",
    "\n",
    "df_sk = pd.DataFrame(data={'time': time_list, \n",
    "                           'distance': accuracy_list,\n",
    "                           'method': method_list,\n",
    "                           'tol_rate': tol_list,\n",
    "                            'str_tol': str_tol})\n",
    "df_sk"
   ]
  },
  {
   "cell_type": "markdown",
   "id": "blind-reproduction",
   "metadata": {},
   "source": [
    "## Regain"
   ]
  },
  {
   "cell_type": "code",
   "execution_count": null,
   "id": "southern-opinion",
   "metadata": {},
   "outputs": [],
   "source": [
    "cov_list = []\n",
    "precision_list = []\n",
    "time_list = []\n",
    "for tol in tol_list:\n",
    "    start = time.time()\n",
    "    Z_n = rg_GL(alpha=lambda1, max_iter=n_iter, tol = tol, rtol = tol).fit(samples[0,:,:].T)\n",
    "    end = time.time()\n",
    "    \n",
    "    hours, rem = divmod(end-start, 3600)\n",
    "    minutes, seconds = divmod(rem, 60)\n",
    "    time_list.append(\"{:0>2}:{:0>2}:{:05.2f}\".format(int(hours),int(minutes),seconds))\n",
    "    \n",
    "    cov_list.append(Z_n.covariance_)\n",
    "    precision_list.append(Z_n.precision_)\n",
    "\n",
    "accuracy_list = []\n",
    "for i in range(0, len(precision_list)):\n",
    "    accuracy = np.linalg.norm(Z - np.array(precision_list[i]))\n",
    "    accuracy_list.append(accuracy)"
   ]
  },
  {
   "cell_type": "code",
   "execution_count": null,
   "id": "higher-angola",
   "metadata": {},
   "outputs": [],
   "source": [
    "str_tol = [str(x) for x in tol_list]\n",
    "method_list = [\"regain\"]*len(accuracy_list)\n",
    "\n",
    "df_rg = pd.DataFrame(data={'time': time_list, \n",
    "                           'distance': accuracy_list,\n",
    "                           'method': method_list,\n",
    "                           'tol_rate': tol_list,\n",
    "                            'str_tol': str_tol})\n",
    "df_rg"
   ]
  },
  {
   "cell_type": "markdown",
   "id": "extraordinary-integral",
   "metadata": {},
   "source": [
    "## ADMM "
   ]
  },
  {
   "cell_type": "markdown",
   "id": "advanced-technical",
   "metadata": {},
   "source": [
    "We run the algorithm 2 times because on the first iteration time costly numba initialization happens."
   ]
  },
  {
   "cell_type": "code",
   "execution_count": null,
   "id": "interracial-tobago",
   "metadata": {},
   "outputs": [],
   "source": [
    "for i in [0,1]:\n",
    "    cov_list = []\n",
    "    precision_list = []\n",
    "    time_list = []\n",
    "    for tol in tol_list:\n",
    "        start = time.time()\n",
    "        sol, info = ADMM_SGL(S, lambda1, Omega_0, max_iter=n_iter, tol = tol, rtol = tol, stopping_criterion = \"boyd\",\n",
    "                             verbose = False, latent = False)\n",
    "        end = time.time()\n",
    "\n",
    "        hours, rem = divmod(end-start, 3600)\n",
    "        minutes, seconds = divmod(rem, 60)\n",
    "        time_list.append(\"{:0>2}:{:0>2}:{:05.2f}\".format(int(hours),int(minutes),seconds))\n",
    "\n",
    "        cov_list.append(sol['Omega'])\n",
    "        precision_list.append(sol['Theta'])\n",
    "\n",
    "    accuracy_list = []\n",
    "    for i in range(0, len(precision_list)):\n",
    "        accuracy = np.linalg.norm(Z - np.array(precision_list[i]))\n",
    "        accuracy_list.append(accuracy)"
   ]
  },
  {
   "cell_type": "code",
   "execution_count": null,
   "id": "exotic-stevens",
   "metadata": {},
   "outputs": [],
   "source": [
    "str_tol = [str(x) for x in tol_list]\n",
    "method_list = [\"admm\"]*len(accuracy_list)\n",
    "\n",
    "df_admm = pd.DataFrame(data={'time': time_list, \n",
    "                           'distance': accuracy_list,\n",
    "                           'method': method_list,\n",
    "                           'tol_rate': tol_list,\n",
    "                            'str_tol': str_tol})\n",
    "df_admm"
   ]
  },
  {
   "cell_type": "markdown",
   "id": "constitutional-pepper",
   "metadata": {},
   "source": [
    "## kkt_ADMM"
   ]
  },
  {
   "cell_type": "markdown",
   "id": "described-consciousness",
   "metadata": {},
   "source": [
    "We run the algorithm 2 times because on the first iteration time costly numba initialization happens."
   ]
  },
  {
   "cell_type": "code",
   "execution_count": null,
   "id": "hidden-classification",
   "metadata": {},
   "outputs": [],
   "source": [
    "for i in [0,1]:\n",
    "    cov_list = []\n",
    "    precision_list = []\n",
    "    time_list = []\n",
    "    for tol in tol_list:\n",
    "        start = time.time()\n",
    "        sol, info = ADMM_SGL(S, lambda1, Omega_0, max_iter=n_iter, tol = tol, stopping_criterion = \"boyd\",\n",
    "                             verbose = False, latent = False)\n",
    "        end = time.time()\n",
    "\n",
    "        hours, rem = divmod(end-start, 3600)\n",
    "        minutes, seconds = divmod(rem, 60)\n",
    "        time_list.append(\"{:0>2}:{:0>2}:{:05.2f}\".format(int(hours),int(minutes),seconds))\n",
    "\n",
    "        cov_list.append(sol['Omega'])\n",
    "        precision_list.append(sol['Theta'])\n",
    "\n",
    "    accuracy_list = []\n",
    "    for i in range(0, len(precision_list)):\n",
    "        accuracy = np.linalg.norm(Z - np.array(precision_list[i]))\n",
    "        accuracy_list.append(accuracy)"
   ]
  },
  {
   "cell_type": "code",
   "execution_count": null,
   "id": "central-western",
   "metadata": {},
   "outputs": [],
   "source": [
    "str_tol = [str(x) for x in tol_list]\n",
    "method_list = [\"kkt_admm\"]*len(accuracy_list)\n",
    "\n",
    "df_kkt = pd.DataFrame(data={'time': time_list, \n",
    "                           'distance': accuracy_list,\n",
    "                           'method': method_list,\n",
    "                           'tol_rate': tol_list,\n",
    "                            'str_tol': str_tol})\n",
    "df_kkt"
   ]
  },
  {
   "cell_type": "markdown",
   "id": "loose-minute",
   "metadata": {},
   "source": [
    "## Data formating"
   ]
  },
  {
   "cell_type": "code",
   "execution_count": null,
   "id": "listed-coral",
   "metadata": {},
   "outputs": [],
   "source": [
    "frames = [df_sk, df_rg, df_admm, df_kkt]\n",
    "\n",
    "df = pd.concat(frames)\n",
    "\n",
    "df[\"str_tol\"].replace({\"0.0001\": \"1e-04\"}, inplace=True)\n",
    "dist = np.array(df['distance'])\n",
    "df['log_distance'] = np.log(dist)"
   ]
  },
  {
   "cell_type": "code",
   "execution_count": null,
   "id": "sealed-fruit",
   "metadata": {},
   "outputs": [],
   "source": [
    "df.sort_values(by=['log_distance'], ascending = False)"
   ]
  },
  {
   "cell_type": "markdown",
   "id": "acknowledged-dover",
   "metadata": {},
   "source": [
    "## Tolerance plot"
   ]
  },
  {
   "cell_type": "code",
   "execution_count": null,
   "id": "trained-sister",
   "metadata": {},
   "outputs": [],
   "source": [
    "fig = px.line(df, x=\"time\", y=\"distance\", color= \"method\", log_y = True,\n",
    "              labels={\n",
    "                     \"str_tol\": \"Tolerance rate\",\n",
    "                     \"distance\": \"Log_distance\",\n",
    "                     \"method\": \"method\"\n",
    "                 },\n",
    "              template = \"plotly_white\",\n",
    "              title=\"Log-distance between Z and Z' with respect to ADMM convergence rates\")\n",
    "fig.show()"
   ]
  },
  {
   "cell_type": "code",
   "execution_count": null,
   "id": "narrow-vampire",
   "metadata": {},
   "outputs": [],
   "source": [
    "df = df.reset_index(drop=True)\n",
    "\n",
    "for i, row in df.iterrows():\n",
    "    sec_time = df['time'][i][-5:]\n",
    "    df.at[i,'sec_time'] = sec_time\n",
    "df['sec_time'] = pd.to_numeric(df['sec_time'])\n",
    "df.head()"
   ]
  },
  {
   "cell_type": "code",
   "execution_count": null,
   "id": "certain-rapid",
   "metadata": {},
   "outputs": [],
   "source": [
    "from tqdm import trange\n",
    "\n",
    "for i in trange(100):\n",
    "    start = time.time()\n",
    "    Z_n = rg_GL(alpha=lambda1, max_iter=n_iter, tol = tol, rtol = tol).fit(samples[0,:,:].T)\n",
    "    end = time.time()"
   ]
  },
  {
   "cell_type": "markdown",
   "id": "yellow-information",
   "metadata": {},
   "source": [
    "## Time plot"
   ]
  },
  {
   "cell_type": "code",
   "execution_count": null,
   "id": "binding-advocacy",
   "metadata": {},
   "outputs": [],
   "source": [
    "fig = px.line(df, x=\"sec_time\", y=\"distance\", color= \"method\", log_y = True, text = \"str_tol\",\n",
    "        labels={\"sec_time\": \"Time, s\",\n",
    "                \"distance\": \"Log_distance\",\n",
    "                \"method\": \"method\"\n",
    "                 },\n",
    "        template = \"plotly_white\",\n",
    "              title='ADMM perfomance comparison')\n",
    "fig.update_traces(textposition='top center')\n",
    "fig.show()"
   ]
  },
  {
   "cell_type": "code",
   "execution_count": null,
   "id": "intellectual-speaking",
   "metadata": {},
   "outputs": [],
   "source": [
    "# fig_1 = px.scatter(x=a['time'], y=a['accuracy'], color= \"method\")\n",
    "# fig_1.show()\n",
    "\n",
    "fig_1 = px.scatter(df, x=\"sec_time\", \n",
    "                   y='distance', color=\"method\", \n",
    "#                    text = \"sec_time\", \n",
    "                   log_y = True, template = \"plotly_white\",\n",
    "                   text = \"str_tol\",\n",
    "                 size='sec_time',\n",
    "                  title='ADMM perfomance comparison')\n",
    "fig_1.update_traces(textposition='top center')\n",
    "fig_1.show()"
   ]
  },
  {
   "cell_type": "code",
   "execution_count": null,
   "id": "difficult-change",
   "metadata": {},
   "outputs": [],
   "source": [
    "import plotly.graph_objects as go\n",
    "\n",
    "\n",
    "# layout = dict(plot_bgcolor='white',\n",
    "#               margin=dict(t=20, l=20, r=20, b=20),\n",
    "#               xaxis=dict(title='World Rank',\n",
    "#                          range=[0.9, 5.5],\n",
    "#                          linecolor='#d9d9d9',\n",
    "#                          showgrid=False,\n",
    "#                          mirror=True),\n",
    "#               yaxis=dict(title='Citations',\n",
    "#                          range=[95.5, 99.5],\n",
    "#                          linecolor='#d9d9d9',\n",
    "#                          showgrid=False,\n",
    "#                          mirror=True))\n",
    "\n",
    "a = go.Scatter(x=df['sec_time'],\n",
    "                  y=df['log_distance'],\n",
    "                  text=df['str_tol'],\n",
    "                  textposition='top right',\n",
    "                  textfont=dict(color='#E58606'),\n",
    "                  mode='lines+markers+text',\n",
    "                  marker=dict(color='#5D69B1', size=8),\n",
    "                  line=dict(color='#52BCA3', width=1, dash='dash'),\n",
    "                  name='citations')\n",
    "\n",
    "fig = go.Figure(data=a)\n",
    "\n",
    "fig.show()"
   ]
  },
  {
   "cell_type": "code",
   "execution_count": null,
   "id": "early-living",
   "metadata": {},
   "outputs": [],
   "source": []
  }
 ],
 "metadata": {
  "kernelspec": {
   "display_name": "Python 3",
   "language": "python",
   "name": "python3"
  },
  "language_info": {
   "codemirror_mode": {
    "name": "ipython",
    "version": 3
   },
   "file_extension": ".py",
   "mimetype": "text/x-python",
   "name": "python",
   "nbconvert_exporter": "python",
   "pygments_lexer": "ipython3",
   "version": "3.8.0"
  }
 },
 "nbformat": 4,
 "nbformat_minor": 5
}