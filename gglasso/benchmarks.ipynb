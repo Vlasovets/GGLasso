{
 "cells": [
  {
   "cell_type": "code",
   "execution_count": 208,
   "id": "residential-forwarding",
   "metadata": {},
   "outputs": [],
   "source": [
    "%matplotlib inline\n",
    "\n",
    "import sys\n",
    "import time\n",
    "import numpy as np\n",
    "import pandas as pd\n",
    "import plotly.express as px\n",
    "\n",
    "from sklearn.covariance import GraphicalLasso as sk_GL\n",
    "from sklearn.covariance import empirical_covariance\n",
    "\n",
    "sys.path.append('..')\n",
    "from gglasso.solver.single_admm_solver import ADMM_SGL\n",
    "from gglasso.solver.single_admm_solver import block_SGL\n",
    "from helper.data_generation import time_varying_power_network, group_power_network, sample_covariance_matrix\n",
    "from helper.model_selection import single_grid_search\n",
    "\n",
    "\n",
    "from regain.covariance import GraphicalLasso as rg_GL"
   ]
  },
  {
   "cell_type": "markdown",
   "id": "excellent-shock",
   "metadata": {},
   "source": [
    "# Sampling from power networks"
   ]
  },
  {
   "cell_type": "code",
   "execution_count": 209,
   "id": "personalized-winning",
   "metadata": {},
   "outputs": [
    {
     "data": {
      "text/plain": [
       "(5, 1000, 2000)"
      ]
     },
     "execution_count": 209,
     "metadata": {},
     "output_type": "execute_result"
    }
   ],
   "source": [
    "p = 1000\n",
    "N = 2000\n",
    "Sigma, Theta = group_power_network(p, K=5, M=2) #Theta is true precision matrix\n",
    "\n",
    "S, samples = sample_covariance_matrix(Sigma, N)\n",
    "\n",
    "S = S[0,:,:]\n",
    "Theta = Theta[0,:,:] #true precision matrix\n",
    "\n",
    "samples.shape"
   ]
  },
  {
   "cell_type": "code",
   "execution_count": 210,
   "id": "sudden-decimal",
   "metadata": {},
   "outputs": [],
   "source": [
    "lambda1 = 0.01\n",
    "Omega_0 = np.eye(p)\n",
    "\n",
    "n_iter = 50000\n",
    "tol_list = [1e-1, 1e-2, 1e-3, 1e-4, 1e-5, 1e-6, 1e-7, 1e-8]"
   ]
  },
  {
   "cell_type": "markdown",
   "id": "boring-machine",
   "metadata": {},
   "source": [
    "## Model solution Z"
   ]
  },
  {
   "cell_type": "code",
   "execution_count": 211,
   "id": "adolescent-sharp",
   "metadata": {},
   "outputs": [
    {
     "name": "stdout",
     "output_type": "stream",
     "text": [
      "00:00:16.62\n"
     ]
    }
   ],
   "source": [
    "start = time.time()\n",
    "model = rg_GL(alpha=lambda1, max_iter=n_iter, tol = 1e-10).fit(samples[0,:,:].T)\n",
    "end = time.time()\n",
    "\n",
    "hours, rem = divmod(end-start, 3600)\n",
    "minutes, seconds = divmod(rem, 60)\n",
    "Z_time = \"{:0>2}:{:0>2}:{:05.2f}\".format(int(hours),int(minutes),seconds)\n",
    "print(Z_time)"
   ]
  },
  {
   "cell_type": "code",
   "execution_count": 212,
   "id": "ultimate-correspondence",
   "metadata": {},
   "outputs": [],
   "source": [
    "Z = model.precision_"
   ]
  },
  {
   "cell_type": "code",
   "execution_count": 213,
   "id": "white-catalog",
   "metadata": {},
   "outputs": [
    {
     "name": "stdout",
     "output_type": "stream",
     "text": [
      "ADMM terminated after 58 iterations with accuracy 4.982706427489555e-05\n",
      "ADMM status: {'dual optimal', 'primal optimal'}\n",
      "00:00:17.41\n"
     ]
    }
   ],
   "source": [
    "start = time.time()\n",
    "sol, info = ADMM_SGL(S, lambda1, Omega_0, max_iter=n_iter, \n",
    "                     tol = 1e-10, rtol = 1e-10, stopping_criterion = \"boyd\",\n",
    "                     verbose = False, latent = False)\n",
    "end = time.time()\n",
    "\n",
    "hours, rem = divmod(end-start, 3600)\n",
    "minutes, seconds = divmod(rem, 60)\n",
    "Z_time = \"{:0>2}:{:0>2}:{:05.2f}\".format(int(hours),int(minutes),seconds)\n",
    "print(Z_time)"
   ]
  },
  {
   "cell_type": "code",
   "execution_count": 214,
   "id": "productive-assist",
   "metadata": {},
   "outputs": [],
   "source": [
    "Z1 = sol[\"Theta\"]"
   ]
  },
  {
   "cell_type": "code",
   "execution_count": 215,
   "id": "democratic-headset",
   "metadata": {},
   "outputs": [
    {
     "data": {
      "text/plain": [
       "0.005684772361137492"
      ]
     },
     "execution_count": 215,
     "metadata": {},
     "output_type": "execute_result"
    }
   ],
   "source": [
    "np.linalg.norm(Z1-Z)"
   ]
  },
  {
   "cell_type": "code",
   "execution_count": 216,
   "id": "pleasant-commerce",
   "metadata": {},
   "outputs": [],
   "source": [
    "# [1e-1, 5e-2, 25e-3, 1e-2,5e-3, 25e-4, 1e-3, 5e-4]"
   ]
  },
  {
   "cell_type": "markdown",
   "id": "frozen-bibliography",
   "metadata": {},
   "source": [
    "## Sklearn"
   ]
  },
  {
   "cell_type": "code",
   "execution_count": 217,
   "id": "smart-yeast",
   "metadata": {},
   "outputs": [],
   "source": [
    "cov_list = []\n",
    "precision_list = []\n",
    "time_list = []\n",
    "for tol in tol_list:\n",
    "    start = time.time()\n",
    "    Z_n = sk_GL(alpha=lambda1, max_iter=n_iter, tol = tol, enet_tol = 0.1).fit(samples[0,:,:].T)\n",
    "    end = time.time()\n",
    "    \n",
    "    hours, rem = divmod(end-start, 3600)\n",
    "    minutes, seconds = divmod(rem, 60)\n",
    "    time_list.append(\"{:0>2}:{:0>2}:{:05.2f}\".format(int(hours),int(minutes),seconds))\n",
    "    \n",
    "    cov_list.append(Z_n.covariance_)\n",
    "    precision_list.append(Z_n.precision_)\n",
    "    \n",
    "accuracy_list = []\n",
    "for i in range(0, len(precision_list)):\n",
    "    accuracy = np.linalg.norm(Z - np.array(precision_list[i]))/np.linalg.norm(Z)\n",
    "    accuracy_list.append(accuracy)"
   ]
  },
  {
   "cell_type": "code",
   "execution_count": 218,
   "id": "favorite-hartford",
   "metadata": {},
   "outputs": [
    {
     "data": {
      "text/html": [
       "<div>\n",
       "<style scoped>\n",
       "    .dataframe tbody tr th:only-of-type {\n",
       "        vertical-align: middle;\n",
       "    }\n",
       "\n",
       "    .dataframe tbody tr th {\n",
       "        vertical-align: top;\n",
       "    }\n",
       "\n",
       "    .dataframe thead th {\n",
       "        text-align: right;\n",
       "    }\n",
       "</style>\n",
       "<table border=\"1\" class=\"dataframe\">\n",
       "  <thead>\n",
       "    <tr style=\"text-align: right;\">\n",
       "      <th></th>\n",
       "      <th>time</th>\n",
       "      <th>distance</th>\n",
       "      <th>method</th>\n",
       "      <th>tol_rate</th>\n",
       "      <th>str_tol</th>\n",
       "    </tr>\n",
       "  </thead>\n",
       "  <tbody>\n",
       "    <tr>\n",
       "      <th>0</th>\n",
       "      <td>00:00:08.96</td>\n",
       "      <td>0.002712</td>\n",
       "      <td>sklearn</td>\n",
       "      <td>1.000000e-01</td>\n",
       "      <td>0.1</td>\n",
       "    </tr>\n",
       "    <tr>\n",
       "      <th>1</th>\n",
       "      <td>00:00:25.51</td>\n",
       "      <td>0.000355</td>\n",
       "      <td>sklearn</td>\n",
       "      <td>1.000000e-02</td>\n",
       "      <td>0.01</td>\n",
       "    </tr>\n",
       "    <tr>\n",
       "      <th>2</th>\n",
       "      <td>00:00:36.64</td>\n",
       "      <td>0.000136</td>\n",
       "      <td>sklearn</td>\n",
       "      <td>1.000000e-03</td>\n",
       "      <td>0.001</td>\n",
       "    </tr>\n",
       "    <tr>\n",
       "      <th>3</th>\n",
       "      <td>00:00:44.69</td>\n",
       "      <td>0.000126</td>\n",
       "      <td>sklearn</td>\n",
       "      <td>1.000000e-04</td>\n",
       "      <td>0.0001</td>\n",
       "    </tr>\n",
       "    <tr>\n",
       "      <th>4</th>\n",
       "      <td>00:00:53.01</td>\n",
       "      <td>0.000125</td>\n",
       "      <td>sklearn</td>\n",
       "      <td>1.000000e-05</td>\n",
       "      <td>1e-05</td>\n",
       "    </tr>\n",
       "    <tr>\n",
       "      <th>5</th>\n",
       "      <td>00:00:50.46</td>\n",
       "      <td>0.000125</td>\n",
       "      <td>sklearn</td>\n",
       "      <td>1.000000e-06</td>\n",
       "      <td>1e-06</td>\n",
       "    </tr>\n",
       "    <tr>\n",
       "      <th>6</th>\n",
       "      <td>00:01:27.88</td>\n",
       "      <td>0.000125</td>\n",
       "      <td>sklearn</td>\n",
       "      <td>1.000000e-07</td>\n",
       "      <td>1e-07</td>\n",
       "    </tr>\n",
       "    <tr>\n",
       "      <th>7</th>\n",
       "      <td>00:02:16.31</td>\n",
       "      <td>0.000125</td>\n",
       "      <td>sklearn</td>\n",
       "      <td>1.000000e-08</td>\n",
       "      <td>1e-08</td>\n",
       "    </tr>\n",
       "  </tbody>\n",
       "</table>\n",
       "</div>"
      ],
      "text/plain": [
       "          time  distance   method      tol_rate str_tol\n",
       "0  00:00:08.96  0.002712  sklearn  1.000000e-01     0.1\n",
       "1  00:00:25.51  0.000355  sklearn  1.000000e-02    0.01\n",
       "2  00:00:36.64  0.000136  sklearn  1.000000e-03   0.001\n",
       "3  00:00:44.69  0.000126  sklearn  1.000000e-04  0.0001\n",
       "4  00:00:53.01  0.000125  sklearn  1.000000e-05   1e-05\n",
       "5  00:00:50.46  0.000125  sklearn  1.000000e-06   1e-06\n",
       "6  00:01:27.88  0.000125  sklearn  1.000000e-07   1e-07\n",
       "7  00:02:16.31  0.000125  sklearn  1.000000e-08   1e-08"
      ]
     },
     "execution_count": 218,
     "metadata": {},
     "output_type": "execute_result"
    }
   ],
   "source": [
    "str_tol = [str(x) for x in tol_list]\n",
    "method_list = [\"sklearn\"]*len(accuracy_list)\n",
    "\n",
    "df_sk = pd.DataFrame(data={'time': time_list, \n",
    "                           'distance': accuracy_list,\n",
    "                           'method': method_list,\n",
    "                           'tol_rate': tol_list,\n",
    "                            'str_tol': str_tol})\n",
    "df_sk"
   ]
  },
  {
   "cell_type": "code",
   "execution_count": 219,
   "id": "awful-accordance",
   "metadata": {},
   "outputs": [
    {
     "data": {
      "application/vnd.plotly.v1+json": {
       "config": {
        "plotlyServerURL": "https://plot.ly"
       },
       "data": [
        {
         "hovertemplate": "method=sklearn<br>Tolerance rate=%{x}<br>Log_distance=%{y}<extra></extra>",
         "legendgroup": "sklearn",
         "line": {
          "color": "#636efa",
          "dash": "solid"
         },
         "mode": "lines",
         "name": "sklearn",
         "orientation": "v",
         "showlegend": true,
         "type": "scatter",
         "x": [
          "0.1",
          "0.01",
          "0.001",
          "0.0001",
          "1e-05",
          "1e-06",
          "1e-07",
          "1e-08"
         ],
         "xaxis": "x",
         "y": [
          0.0027120806785523094,
          0.0003552766870775386,
          0.00013555567963602786,
          0.00012576143683398227,
          0.00012537587650967354,
          0.00012535274328625285,
          0.00012544613933326994,
          0.0001254462717687887
         ],
         "yaxis": "y"
        }
       ],
       "layout": {
        "legend": {
         "title": {
          "text": "method"
         },
         "tracegroupgap": 0
        },
        "template": {
         "data": {
          "bar": [
           {
            "error_x": {
             "color": "#2a3f5f"
            },
            "error_y": {
             "color": "#2a3f5f"
            },
            "marker": {
             "line": {
              "color": "white",
              "width": 0.5
             }
            },
            "type": "bar"
           }
          ],
          "barpolar": [
           {
            "marker": {
             "line": {
              "color": "white",
              "width": 0.5
             }
            },
            "type": "barpolar"
           }
          ],
          "carpet": [
           {
            "aaxis": {
             "endlinecolor": "#2a3f5f",
             "gridcolor": "#C8D4E3",
             "linecolor": "#C8D4E3",
             "minorgridcolor": "#C8D4E3",
             "startlinecolor": "#2a3f5f"
            },
            "baxis": {
             "endlinecolor": "#2a3f5f",
             "gridcolor": "#C8D4E3",
             "linecolor": "#C8D4E3",
             "minorgridcolor": "#C8D4E3",
             "startlinecolor": "#2a3f5f"
            },
            "type": "carpet"
           }
          ],
          "choropleth": [
           {
            "colorbar": {
             "outlinewidth": 0,
             "ticks": ""
            },
            "type": "choropleth"
           }
          ],
          "contour": [
           {
            "colorbar": {
             "outlinewidth": 0,
             "ticks": ""
            },
            "colorscale": [
             [
              0,
              "#0d0887"
             ],
             [
              0.1111111111111111,
              "#46039f"
             ],
             [
              0.2222222222222222,
              "#7201a8"
             ],
             [
              0.3333333333333333,
              "#9c179e"
             ],
             [
              0.4444444444444444,
              "#bd3786"
             ],
             [
              0.5555555555555556,
              "#d8576b"
             ],
             [
              0.6666666666666666,
              "#ed7953"
             ],
             [
              0.7777777777777778,
              "#fb9f3a"
             ],
             [
              0.8888888888888888,
              "#fdca26"
             ],
             [
              1,
              "#f0f921"
             ]
            ],
            "type": "contour"
           }
          ],
          "contourcarpet": [
           {
            "colorbar": {
             "outlinewidth": 0,
             "ticks": ""
            },
            "type": "contourcarpet"
           }
          ],
          "heatmap": [
           {
            "colorbar": {
             "outlinewidth": 0,
             "ticks": ""
            },
            "colorscale": [
             [
              0,
              "#0d0887"
             ],
             [
              0.1111111111111111,
              "#46039f"
             ],
             [
              0.2222222222222222,
              "#7201a8"
             ],
             [
              0.3333333333333333,
              "#9c179e"
             ],
             [
              0.4444444444444444,
              "#bd3786"
             ],
             [
              0.5555555555555556,
              "#d8576b"
             ],
             [
              0.6666666666666666,
              "#ed7953"
             ],
             [
              0.7777777777777778,
              "#fb9f3a"
             ],
             [
              0.8888888888888888,
              "#fdca26"
             ],
             [
              1,
              "#f0f921"
             ]
            ],
            "type": "heatmap"
           }
          ],
          "heatmapgl": [
           {
            "colorbar": {
             "outlinewidth": 0,
             "ticks": ""
            },
            "colorscale": [
             [
              0,
              "#0d0887"
             ],
             [
              0.1111111111111111,
              "#46039f"
             ],
             [
              0.2222222222222222,
              "#7201a8"
             ],
             [
              0.3333333333333333,
              "#9c179e"
             ],
             [
              0.4444444444444444,
              "#bd3786"
             ],
             [
              0.5555555555555556,
              "#d8576b"
             ],
             [
              0.6666666666666666,
              "#ed7953"
             ],
             [
              0.7777777777777778,
              "#fb9f3a"
             ],
             [
              0.8888888888888888,
              "#fdca26"
             ],
             [
              1,
              "#f0f921"
             ]
            ],
            "type": "heatmapgl"
           }
          ],
          "histogram": [
           {
            "marker": {
             "colorbar": {
              "outlinewidth": 0,
              "ticks": ""
             }
            },
            "type": "histogram"
           }
          ],
          "histogram2d": [
           {
            "colorbar": {
             "outlinewidth": 0,
             "ticks": ""
            },
            "colorscale": [
             [
              0,
              "#0d0887"
             ],
             [
              0.1111111111111111,
              "#46039f"
             ],
             [
              0.2222222222222222,
              "#7201a8"
             ],
             [
              0.3333333333333333,
              "#9c179e"
             ],
             [
              0.4444444444444444,
              "#bd3786"
             ],
             [
              0.5555555555555556,
              "#d8576b"
             ],
             [
              0.6666666666666666,
              "#ed7953"
             ],
             [
              0.7777777777777778,
              "#fb9f3a"
             ],
             [
              0.8888888888888888,
              "#fdca26"
             ],
             [
              1,
              "#f0f921"
             ]
            ],
            "type": "histogram2d"
           }
          ],
          "histogram2dcontour": [
           {
            "colorbar": {
             "outlinewidth": 0,
             "ticks": ""
            },
            "colorscale": [
             [
              0,
              "#0d0887"
             ],
             [
              0.1111111111111111,
              "#46039f"
             ],
             [
              0.2222222222222222,
              "#7201a8"
             ],
             [
              0.3333333333333333,
              "#9c179e"
             ],
             [
              0.4444444444444444,
              "#bd3786"
             ],
             [
              0.5555555555555556,
              "#d8576b"
             ],
             [
              0.6666666666666666,
              "#ed7953"
             ],
             [
              0.7777777777777778,
              "#fb9f3a"
             ],
             [
              0.8888888888888888,
              "#fdca26"
             ],
             [
              1,
              "#f0f921"
             ]
            ],
            "type": "histogram2dcontour"
           }
          ],
          "mesh3d": [
           {
            "colorbar": {
             "outlinewidth": 0,
             "ticks": ""
            },
            "type": "mesh3d"
           }
          ],
          "parcoords": [
           {
            "line": {
             "colorbar": {
              "outlinewidth": 0,
              "ticks": ""
             }
            },
            "type": "parcoords"
           }
          ],
          "pie": [
           {
            "automargin": true,
            "type": "pie"
           }
          ],
          "scatter": [
           {
            "marker": {
             "colorbar": {
              "outlinewidth": 0,
              "ticks": ""
             }
            },
            "type": "scatter"
           }
          ],
          "scatter3d": [
           {
            "line": {
             "colorbar": {
              "outlinewidth": 0,
              "ticks": ""
             }
            },
            "marker": {
             "colorbar": {
              "outlinewidth": 0,
              "ticks": ""
             }
            },
            "type": "scatter3d"
           }
          ],
          "scattercarpet": [
           {
            "marker": {
             "colorbar": {
              "outlinewidth": 0,
              "ticks": ""
             }
            },
            "type": "scattercarpet"
           }
          ],
          "scattergeo": [
           {
            "marker": {
             "colorbar": {
              "outlinewidth": 0,
              "ticks": ""
             }
            },
            "type": "scattergeo"
           }
          ],
          "scattergl": [
           {
            "marker": {
             "colorbar": {
              "outlinewidth": 0,
              "ticks": ""
             }
            },
            "type": "scattergl"
           }
          ],
          "scattermapbox": [
           {
            "marker": {
             "colorbar": {
              "outlinewidth": 0,
              "ticks": ""
             }
            },
            "type": "scattermapbox"
           }
          ],
          "scatterpolar": [
           {
            "marker": {
             "colorbar": {
              "outlinewidth": 0,
              "ticks": ""
             }
            },
            "type": "scatterpolar"
           }
          ],
          "scatterpolargl": [
           {
            "marker": {
             "colorbar": {
              "outlinewidth": 0,
              "ticks": ""
             }
            },
            "type": "scatterpolargl"
           }
          ],
          "scatterternary": [
           {
            "marker": {
             "colorbar": {
              "outlinewidth": 0,
              "ticks": ""
             }
            },
            "type": "scatterternary"
           }
          ],
          "surface": [
           {
            "colorbar": {
             "outlinewidth": 0,
             "ticks": ""
            },
            "colorscale": [
             [
              0,
              "#0d0887"
             ],
             [
              0.1111111111111111,
              "#46039f"
             ],
             [
              0.2222222222222222,
              "#7201a8"
             ],
             [
              0.3333333333333333,
              "#9c179e"
             ],
             [
              0.4444444444444444,
              "#bd3786"
             ],
             [
              0.5555555555555556,
              "#d8576b"
             ],
             [
              0.6666666666666666,
              "#ed7953"
             ],
             [
              0.7777777777777778,
              "#fb9f3a"
             ],
             [
              0.8888888888888888,
              "#fdca26"
             ],
             [
              1,
              "#f0f921"
             ]
            ],
            "type": "surface"
           }
          ],
          "table": [
           {
            "cells": {
             "fill": {
              "color": "#EBF0F8"
             },
             "line": {
              "color": "white"
             }
            },
            "header": {
             "fill": {
              "color": "#C8D4E3"
             },
             "line": {
              "color": "white"
             }
            },
            "type": "table"
           }
          ]
         },
         "layout": {
          "annotationdefaults": {
           "arrowcolor": "#2a3f5f",
           "arrowhead": 0,
           "arrowwidth": 1
          },
          "autotypenumbers": "strict",
          "coloraxis": {
           "colorbar": {
            "outlinewidth": 0,
            "ticks": ""
           }
          },
          "colorscale": {
           "diverging": [
            [
             0,
             "#8e0152"
            ],
            [
             0.1,
             "#c51b7d"
            ],
            [
             0.2,
             "#de77ae"
            ],
            [
             0.3,
             "#f1b6da"
            ],
            [
             0.4,
             "#fde0ef"
            ],
            [
             0.5,
             "#f7f7f7"
            ],
            [
             0.6,
             "#e6f5d0"
            ],
            [
             0.7,
             "#b8e186"
            ],
            [
             0.8,
             "#7fbc41"
            ],
            [
             0.9,
             "#4d9221"
            ],
            [
             1,
             "#276419"
            ]
           ],
           "sequential": [
            [
             0,
             "#0d0887"
            ],
            [
             0.1111111111111111,
             "#46039f"
            ],
            [
             0.2222222222222222,
             "#7201a8"
            ],
            [
             0.3333333333333333,
             "#9c179e"
            ],
            [
             0.4444444444444444,
             "#bd3786"
            ],
            [
             0.5555555555555556,
             "#d8576b"
            ],
            [
             0.6666666666666666,
             "#ed7953"
            ],
            [
             0.7777777777777778,
             "#fb9f3a"
            ],
            [
             0.8888888888888888,
             "#fdca26"
            ],
            [
             1,
             "#f0f921"
            ]
           ],
           "sequentialminus": [
            [
             0,
             "#0d0887"
            ],
            [
             0.1111111111111111,
             "#46039f"
            ],
            [
             0.2222222222222222,
             "#7201a8"
            ],
            [
             0.3333333333333333,
             "#9c179e"
            ],
            [
             0.4444444444444444,
             "#bd3786"
            ],
            [
             0.5555555555555556,
             "#d8576b"
            ],
            [
             0.6666666666666666,
             "#ed7953"
            ],
            [
             0.7777777777777778,
             "#fb9f3a"
            ],
            [
             0.8888888888888888,
             "#fdca26"
            ],
            [
             1,
             "#f0f921"
            ]
           ]
          },
          "colorway": [
           "#636efa",
           "#EF553B",
           "#00cc96",
           "#ab63fa",
           "#FFA15A",
           "#19d3f3",
           "#FF6692",
           "#B6E880",
           "#FF97FF",
           "#FECB52"
          ],
          "font": {
           "color": "#2a3f5f"
          },
          "geo": {
           "bgcolor": "white",
           "lakecolor": "white",
           "landcolor": "white",
           "showlakes": true,
           "showland": true,
           "subunitcolor": "#C8D4E3"
          },
          "hoverlabel": {
           "align": "left"
          },
          "hovermode": "closest",
          "mapbox": {
           "style": "light"
          },
          "paper_bgcolor": "white",
          "plot_bgcolor": "white",
          "polar": {
           "angularaxis": {
            "gridcolor": "#EBF0F8",
            "linecolor": "#EBF0F8",
            "ticks": ""
           },
           "bgcolor": "white",
           "radialaxis": {
            "gridcolor": "#EBF0F8",
            "linecolor": "#EBF0F8",
            "ticks": ""
           }
          },
          "scene": {
           "xaxis": {
            "backgroundcolor": "white",
            "gridcolor": "#DFE8F3",
            "gridwidth": 2,
            "linecolor": "#EBF0F8",
            "showbackground": true,
            "ticks": "",
            "zerolinecolor": "#EBF0F8"
           },
           "yaxis": {
            "backgroundcolor": "white",
            "gridcolor": "#DFE8F3",
            "gridwidth": 2,
            "linecolor": "#EBF0F8",
            "showbackground": true,
            "ticks": "",
            "zerolinecolor": "#EBF0F8"
           },
           "zaxis": {
            "backgroundcolor": "white",
            "gridcolor": "#DFE8F3",
            "gridwidth": 2,
            "linecolor": "#EBF0F8",
            "showbackground": true,
            "ticks": "",
            "zerolinecolor": "#EBF0F8"
           }
          },
          "shapedefaults": {
           "line": {
            "color": "#2a3f5f"
           }
          },
          "ternary": {
           "aaxis": {
            "gridcolor": "#DFE8F3",
            "linecolor": "#A2B1C6",
            "ticks": ""
           },
           "baxis": {
            "gridcolor": "#DFE8F3",
            "linecolor": "#A2B1C6",
            "ticks": ""
           },
           "bgcolor": "white",
           "caxis": {
            "gridcolor": "#DFE8F3",
            "linecolor": "#A2B1C6",
            "ticks": ""
           }
          },
          "title": {
           "x": 0.05
          },
          "xaxis": {
           "automargin": true,
           "gridcolor": "#EBF0F8",
           "linecolor": "#EBF0F8",
           "ticks": "",
           "title": {
            "standoff": 15
           },
           "zerolinecolor": "#EBF0F8",
           "zerolinewidth": 2
          },
          "yaxis": {
           "automargin": true,
           "gridcolor": "#EBF0F8",
           "linecolor": "#EBF0F8",
           "ticks": "",
           "title": {
            "standoff": 15
           },
           "zerolinecolor": "#EBF0F8",
           "zerolinewidth": 2
          }
         }
        },
        "title": {
         "text": "Log-distance between Z and Z' with respect to ADMM convergence rates"
        },
        "xaxis": {
         "anchor": "y",
         "domain": [
          0,
          1
         ],
         "title": {
          "text": "Tolerance rate"
         }
        },
        "yaxis": {
         "anchor": "x",
         "domain": [
          0,
          1
         ],
         "title": {
          "text": "Log_distance"
         },
         "type": "log"
        }
       }
      },
      "text/html": [
       "<div>                            <div id=\"8268c01f-d878-40f1-8e52-c5fc33362a0f\" class=\"plotly-graph-div\" style=\"height:525px; width:100%;\"></div>            <script type=\"text/javascript\">                require([\"plotly\"], function(Plotly) {                    window.PLOTLYENV=window.PLOTLYENV || {};                                    if (document.getElementById(\"8268c01f-d878-40f1-8e52-c5fc33362a0f\")) {                    Plotly.newPlot(                        \"8268c01f-d878-40f1-8e52-c5fc33362a0f\",                        [{\"hovertemplate\": \"method=sklearn<br>Tolerance rate=%{x}<br>Log_distance=%{y}<extra></extra>\", \"legendgroup\": \"sklearn\", \"line\": {\"color\": \"#636efa\", \"dash\": \"solid\"}, \"mode\": \"lines\", \"name\": \"sklearn\", \"orientation\": \"v\", \"showlegend\": true, \"type\": \"scatter\", \"x\": [\"0.1\", \"0.01\", \"0.001\", \"0.0001\", \"1e-05\", \"1e-06\", \"1e-07\", \"1e-08\"], \"xaxis\": \"x\", \"y\": [0.0027120806785523094, 0.0003552766870775386, 0.00013555567963602786, 0.00012576143683398227, 0.00012537587650967354, 0.00012535274328625285, 0.00012544613933326994, 0.0001254462717687887], \"yaxis\": \"y\"}],                        {\"legend\": {\"title\": {\"text\": \"method\"}, \"tracegroupgap\": 0}, \"template\": {\"data\": {\"bar\": [{\"error_x\": {\"color\": \"#2a3f5f\"}, \"error_y\": {\"color\": \"#2a3f5f\"}, \"marker\": {\"line\": {\"color\": \"white\", \"width\": 0.5}}, \"type\": \"bar\"}], \"barpolar\": [{\"marker\": {\"line\": {\"color\": \"white\", \"width\": 0.5}}, \"type\": \"barpolar\"}], \"carpet\": [{\"aaxis\": {\"endlinecolor\": \"#2a3f5f\", \"gridcolor\": \"#C8D4E3\", \"linecolor\": \"#C8D4E3\", \"minorgridcolor\": \"#C8D4E3\", \"startlinecolor\": \"#2a3f5f\"}, \"baxis\": {\"endlinecolor\": \"#2a3f5f\", \"gridcolor\": \"#C8D4E3\", \"linecolor\": \"#C8D4E3\", \"minorgridcolor\": \"#C8D4E3\", \"startlinecolor\": \"#2a3f5f\"}, \"type\": \"carpet\"}], \"choropleth\": [{\"colorbar\": {\"outlinewidth\": 0, \"ticks\": \"\"}, \"type\": \"choropleth\"}], \"contour\": [{\"colorbar\": {\"outlinewidth\": 0, \"ticks\": \"\"}, \"colorscale\": [[0.0, \"#0d0887\"], [0.1111111111111111, \"#46039f\"], [0.2222222222222222, \"#7201a8\"], [0.3333333333333333, \"#9c179e\"], [0.4444444444444444, \"#bd3786\"], [0.5555555555555556, \"#d8576b\"], [0.6666666666666666, \"#ed7953\"], [0.7777777777777778, \"#fb9f3a\"], [0.8888888888888888, \"#fdca26\"], [1.0, \"#f0f921\"]], \"type\": \"contour\"}], \"contourcarpet\": [{\"colorbar\": {\"outlinewidth\": 0, \"ticks\": \"\"}, \"type\": \"contourcarpet\"}], \"heatmap\": [{\"colorbar\": {\"outlinewidth\": 0, \"ticks\": \"\"}, \"colorscale\": [[0.0, \"#0d0887\"], [0.1111111111111111, \"#46039f\"], [0.2222222222222222, \"#7201a8\"], [0.3333333333333333, \"#9c179e\"], [0.4444444444444444, \"#bd3786\"], [0.5555555555555556, \"#d8576b\"], [0.6666666666666666, \"#ed7953\"], [0.7777777777777778, \"#fb9f3a\"], [0.8888888888888888, \"#fdca26\"], [1.0, \"#f0f921\"]], \"type\": \"heatmap\"}], \"heatmapgl\": [{\"colorbar\": {\"outlinewidth\": 0, \"ticks\": \"\"}, \"colorscale\": [[0.0, \"#0d0887\"], [0.1111111111111111, \"#46039f\"], [0.2222222222222222, \"#7201a8\"], [0.3333333333333333, \"#9c179e\"], [0.4444444444444444, \"#bd3786\"], [0.5555555555555556, \"#d8576b\"], [0.6666666666666666, \"#ed7953\"], [0.7777777777777778, \"#fb9f3a\"], [0.8888888888888888, \"#fdca26\"], [1.0, \"#f0f921\"]], \"type\": \"heatmapgl\"}], \"histogram\": [{\"marker\": {\"colorbar\": {\"outlinewidth\": 0, \"ticks\": \"\"}}, \"type\": \"histogram\"}], \"histogram2d\": [{\"colorbar\": {\"outlinewidth\": 0, \"ticks\": \"\"}, \"colorscale\": [[0.0, \"#0d0887\"], [0.1111111111111111, \"#46039f\"], [0.2222222222222222, \"#7201a8\"], [0.3333333333333333, \"#9c179e\"], [0.4444444444444444, \"#bd3786\"], [0.5555555555555556, \"#d8576b\"], [0.6666666666666666, \"#ed7953\"], [0.7777777777777778, \"#fb9f3a\"], [0.8888888888888888, \"#fdca26\"], [1.0, \"#f0f921\"]], \"type\": \"histogram2d\"}], \"histogram2dcontour\": [{\"colorbar\": {\"outlinewidth\": 0, \"ticks\": \"\"}, \"colorscale\": [[0.0, \"#0d0887\"], [0.1111111111111111, \"#46039f\"], [0.2222222222222222, \"#7201a8\"], [0.3333333333333333, \"#9c179e\"], [0.4444444444444444, \"#bd3786\"], [0.5555555555555556, \"#d8576b\"], [0.6666666666666666, \"#ed7953\"], [0.7777777777777778, \"#fb9f3a\"], [0.8888888888888888, \"#fdca26\"], [1.0, \"#f0f921\"]], \"type\": \"histogram2dcontour\"}], \"mesh3d\": [{\"colorbar\": {\"outlinewidth\": 0, \"ticks\": \"\"}, \"type\": \"mesh3d\"}], \"parcoords\": [{\"line\": {\"colorbar\": {\"outlinewidth\": 0, \"ticks\": \"\"}}, \"type\": \"parcoords\"}], \"pie\": [{\"automargin\": true, \"type\": \"pie\"}], \"scatter\": [{\"marker\": {\"colorbar\": {\"outlinewidth\": 0, \"ticks\": \"\"}}, \"type\": \"scatter\"}], \"scatter3d\": [{\"line\": {\"colorbar\": {\"outlinewidth\": 0, \"ticks\": \"\"}}, \"marker\": {\"colorbar\": {\"outlinewidth\": 0, \"ticks\": \"\"}}, \"type\": \"scatter3d\"}], \"scattercarpet\": [{\"marker\": {\"colorbar\": {\"outlinewidth\": 0, \"ticks\": \"\"}}, \"type\": \"scattercarpet\"}], \"scattergeo\": [{\"marker\": {\"colorbar\": {\"outlinewidth\": 0, \"ticks\": \"\"}}, \"type\": \"scattergeo\"}], \"scattergl\": [{\"marker\": {\"colorbar\": {\"outlinewidth\": 0, \"ticks\": \"\"}}, \"type\": \"scattergl\"}], \"scattermapbox\": [{\"marker\": {\"colorbar\": {\"outlinewidth\": 0, \"ticks\": \"\"}}, \"type\": \"scattermapbox\"}], \"scatterpolar\": [{\"marker\": {\"colorbar\": {\"outlinewidth\": 0, \"ticks\": \"\"}}, \"type\": \"scatterpolar\"}], \"scatterpolargl\": [{\"marker\": {\"colorbar\": {\"outlinewidth\": 0, \"ticks\": \"\"}}, \"type\": \"scatterpolargl\"}], \"scatterternary\": [{\"marker\": {\"colorbar\": {\"outlinewidth\": 0, \"ticks\": \"\"}}, \"type\": \"scatterternary\"}], \"surface\": [{\"colorbar\": {\"outlinewidth\": 0, \"ticks\": \"\"}, \"colorscale\": [[0.0, \"#0d0887\"], [0.1111111111111111, \"#46039f\"], [0.2222222222222222, \"#7201a8\"], [0.3333333333333333, \"#9c179e\"], [0.4444444444444444, \"#bd3786\"], [0.5555555555555556, \"#d8576b\"], [0.6666666666666666, \"#ed7953\"], [0.7777777777777778, \"#fb9f3a\"], [0.8888888888888888, \"#fdca26\"], [1.0, \"#f0f921\"]], \"type\": \"surface\"}], \"table\": [{\"cells\": {\"fill\": {\"color\": \"#EBF0F8\"}, \"line\": {\"color\": \"white\"}}, \"header\": {\"fill\": {\"color\": \"#C8D4E3\"}, \"line\": {\"color\": \"white\"}}, \"type\": \"table\"}]}, \"layout\": {\"annotationdefaults\": {\"arrowcolor\": \"#2a3f5f\", \"arrowhead\": 0, \"arrowwidth\": 1}, \"autotypenumbers\": \"strict\", \"coloraxis\": {\"colorbar\": {\"outlinewidth\": 0, \"ticks\": \"\"}}, \"colorscale\": {\"diverging\": [[0, \"#8e0152\"], [0.1, \"#c51b7d\"], [0.2, \"#de77ae\"], [0.3, \"#f1b6da\"], [0.4, \"#fde0ef\"], [0.5, \"#f7f7f7\"], [0.6, \"#e6f5d0\"], [0.7, \"#b8e186\"], [0.8, \"#7fbc41\"], [0.9, \"#4d9221\"], [1, \"#276419\"]], \"sequential\": [[0.0, \"#0d0887\"], [0.1111111111111111, \"#46039f\"], [0.2222222222222222, \"#7201a8\"], [0.3333333333333333, \"#9c179e\"], [0.4444444444444444, \"#bd3786\"], [0.5555555555555556, \"#d8576b\"], [0.6666666666666666, \"#ed7953\"], [0.7777777777777778, \"#fb9f3a\"], [0.8888888888888888, \"#fdca26\"], [1.0, \"#f0f921\"]], \"sequentialminus\": [[0.0, \"#0d0887\"], [0.1111111111111111, \"#46039f\"], [0.2222222222222222, \"#7201a8\"], [0.3333333333333333, \"#9c179e\"], [0.4444444444444444, \"#bd3786\"], [0.5555555555555556, \"#d8576b\"], [0.6666666666666666, \"#ed7953\"], [0.7777777777777778, \"#fb9f3a\"], [0.8888888888888888, \"#fdca26\"], [1.0, \"#f0f921\"]]}, \"colorway\": [\"#636efa\", \"#EF553B\", \"#00cc96\", \"#ab63fa\", \"#FFA15A\", \"#19d3f3\", \"#FF6692\", \"#B6E880\", \"#FF97FF\", \"#FECB52\"], \"font\": {\"color\": \"#2a3f5f\"}, \"geo\": {\"bgcolor\": \"white\", \"lakecolor\": \"white\", \"landcolor\": \"white\", \"showlakes\": true, \"showland\": true, \"subunitcolor\": \"#C8D4E3\"}, \"hoverlabel\": {\"align\": \"left\"}, \"hovermode\": \"closest\", \"mapbox\": {\"style\": \"light\"}, \"paper_bgcolor\": \"white\", \"plot_bgcolor\": \"white\", \"polar\": {\"angularaxis\": {\"gridcolor\": \"#EBF0F8\", \"linecolor\": \"#EBF0F8\", \"ticks\": \"\"}, \"bgcolor\": \"white\", \"radialaxis\": {\"gridcolor\": \"#EBF0F8\", \"linecolor\": \"#EBF0F8\", \"ticks\": \"\"}}, \"scene\": {\"xaxis\": {\"backgroundcolor\": \"white\", \"gridcolor\": \"#DFE8F3\", \"gridwidth\": 2, \"linecolor\": \"#EBF0F8\", \"showbackground\": true, \"ticks\": \"\", \"zerolinecolor\": \"#EBF0F8\"}, \"yaxis\": {\"backgroundcolor\": \"white\", \"gridcolor\": \"#DFE8F3\", \"gridwidth\": 2, \"linecolor\": \"#EBF0F8\", \"showbackground\": true, \"ticks\": \"\", \"zerolinecolor\": \"#EBF0F8\"}, \"zaxis\": {\"backgroundcolor\": \"white\", \"gridcolor\": \"#DFE8F3\", \"gridwidth\": 2, \"linecolor\": \"#EBF0F8\", \"showbackground\": true, \"ticks\": \"\", \"zerolinecolor\": \"#EBF0F8\"}}, \"shapedefaults\": {\"line\": {\"color\": \"#2a3f5f\"}}, \"ternary\": {\"aaxis\": {\"gridcolor\": \"#DFE8F3\", \"linecolor\": \"#A2B1C6\", \"ticks\": \"\"}, \"baxis\": {\"gridcolor\": \"#DFE8F3\", \"linecolor\": \"#A2B1C6\", \"ticks\": \"\"}, \"bgcolor\": \"white\", \"caxis\": {\"gridcolor\": \"#DFE8F3\", \"linecolor\": \"#A2B1C6\", \"ticks\": \"\"}}, \"title\": {\"x\": 0.05}, \"xaxis\": {\"automargin\": true, \"gridcolor\": \"#EBF0F8\", \"linecolor\": \"#EBF0F8\", \"ticks\": \"\", \"title\": {\"standoff\": 15}, \"zerolinecolor\": \"#EBF0F8\", \"zerolinewidth\": 2}, \"yaxis\": {\"automargin\": true, \"gridcolor\": \"#EBF0F8\", \"linecolor\": \"#EBF0F8\", \"ticks\": \"\", \"title\": {\"standoff\": 15}, \"zerolinecolor\": \"#EBF0F8\", \"zerolinewidth\": 2}}}, \"title\": {\"text\": \"Log-distance between Z and Z' with respect to ADMM convergence rates\"}, \"xaxis\": {\"anchor\": \"y\", \"domain\": [0.0, 1.0], \"title\": {\"text\": \"Tolerance rate\"}}, \"yaxis\": {\"anchor\": \"x\", \"domain\": [0.0, 1.0], \"title\": {\"text\": \"Log_distance\"}, \"type\": \"log\"}},                        {\"responsive\": true}                    ).then(function(){\n",
       "                            \n",
       "var gd = document.getElementById('8268c01f-d878-40f1-8e52-c5fc33362a0f');\n",
       "var x = new MutationObserver(function (mutations, observer) {{\n",
       "        var display = window.getComputedStyle(gd).display;\n",
       "        if (!display || display === 'none') {{\n",
       "            console.log([gd, 'removed!']);\n",
       "            Plotly.purge(gd);\n",
       "            observer.disconnect();\n",
       "        }}\n",
       "}});\n",
       "\n",
       "// Listen for the removal of the full notebook cells\n",
       "var notebookContainer = gd.closest('#notebook-container');\n",
       "if (notebookContainer) {{\n",
       "    x.observe(notebookContainer, {childList: true});\n",
       "}}\n",
       "\n",
       "// Listen for the clearing of the current output cell\n",
       "var outputEl = gd.closest('.output');\n",
       "if (outputEl) {{\n",
       "    x.observe(outputEl, {childList: true});\n",
       "}}\n",
       "\n",
       "                        })                };                });            </script>        </div>"
      ]
     },
     "metadata": {},
     "output_type": "display_data"
    }
   ],
   "source": [
    "fig = px.line(df_sk, x=\"str_tol\", y=\"distance\", color= \"method\", log_y = True,\n",
    "              labels={\n",
    "                     \"str_tol\": \"Tolerance rate\",\n",
    "                     \"distance\": \"Log_distance\",\n",
    "                     \"method\": \"method\"\n",
    "                 },\n",
    "              template = \"plotly_white\",\n",
    "              title=\"Log-distance between Z and Z' with respect to ADMM convergence rates\")\n",
    "fig.show()"
   ]
  },
  {
   "cell_type": "markdown",
   "id": "handed-ferry",
   "metadata": {},
   "source": [
    "## Regain"
   ]
  },
  {
   "cell_type": "code",
   "execution_count": 220,
   "id": "electoral-novel",
   "metadata": {},
   "outputs": [],
   "source": [
    "cov_list = []\n",
    "precision_list = []\n",
    "time_list = []\n",
    "for tol in tol_list:\n",
    "    start = time.time()\n",
    "    Z_n = rg_GL(alpha=lambda1, max_iter=n_iter, tol = tol, rtol = tol).fit(samples[0,:,:].T)\n",
    "    end = time.time()\n",
    "    \n",
    "    hours, rem = divmod(end-start, 3600)\n",
    "    minutes, seconds = divmod(rem, 60)\n",
    "    time_list.append(\"{:0>2}:{:0>2}:{:05.2f}\".format(int(hours),int(minutes),seconds))\n",
    "    \n",
    "    cov_list.append(Z_n.covariance_)\n",
    "    precision_list.append(Z_n.precision_)\n",
    "\n",
    "accuracy_list = []\n",
    "for i in range(0, len(precision_list)):\n",
    "    accuracy = np.linalg.norm(Z - np.array(precision_list[i]))/np.linalg.norm(Z)\n",
    "    accuracy_list.append(accuracy)"
   ]
  },
  {
   "cell_type": "code",
   "execution_count": 221,
   "id": "bulgarian-fourth",
   "metadata": {},
   "outputs": [
    {
     "data": {
      "text/html": [
       "<div>\n",
       "<style scoped>\n",
       "    .dataframe tbody tr th:only-of-type {\n",
       "        vertical-align: middle;\n",
       "    }\n",
       "\n",
       "    .dataframe tbody tr th {\n",
       "        vertical-align: top;\n",
       "    }\n",
       "\n",
       "    .dataframe thead th {\n",
       "        text-align: right;\n",
       "    }\n",
       "</style>\n",
       "<table border=\"1\" class=\"dataframe\">\n",
       "  <thead>\n",
       "    <tr style=\"text-align: right;\">\n",
       "      <th></th>\n",
       "      <th>time</th>\n",
       "      <th>distance</th>\n",
       "      <th>method</th>\n",
       "      <th>tol_rate</th>\n",
       "      <th>str_tol</th>\n",
       "    </tr>\n",
       "  </thead>\n",
       "  <tbody>\n",
       "    <tr>\n",
       "      <th>0</th>\n",
       "      <td>00:00:00.67</td>\n",
       "      <td>0.784532</td>\n",
       "      <td>regain</td>\n",
       "      <td>1.000000e-01</td>\n",
       "      <td>0.1</td>\n",
       "    </tr>\n",
       "    <tr>\n",
       "      <th>1</th>\n",
       "      <td>00:00:00.96</td>\n",
       "      <td>0.662685</td>\n",
       "      <td>regain</td>\n",
       "      <td>1.000000e-02</td>\n",
       "      <td>0.01</td>\n",
       "    </tr>\n",
       "    <tr>\n",
       "      <th>2</th>\n",
       "      <td>00:00:04.52</td>\n",
       "      <td>0.078428</td>\n",
       "      <td>regain</td>\n",
       "      <td>1.000000e-03</td>\n",
       "      <td>0.001</td>\n",
       "    </tr>\n",
       "    <tr>\n",
       "      <th>3</th>\n",
       "      <td>00:00:08.51</td>\n",
       "      <td>0.007218</td>\n",
       "      <td>regain</td>\n",
       "      <td>1.000000e-04</td>\n",
       "      <td>0.0001</td>\n",
       "    </tr>\n",
       "    <tr>\n",
       "      <th>4</th>\n",
       "      <td>00:00:12.66</td>\n",
       "      <td>0.000995</td>\n",
       "      <td>regain</td>\n",
       "      <td>1.000000e-05</td>\n",
       "      <td>1e-05</td>\n",
       "    </tr>\n",
       "    <tr>\n",
       "      <th>5</th>\n",
       "      <td>00:00:17.34</td>\n",
       "      <td>0.000019</td>\n",
       "      <td>regain</td>\n",
       "      <td>1.000000e-06</td>\n",
       "      <td>1e-06</td>\n",
       "    </tr>\n",
       "    <tr>\n",
       "      <th>6</th>\n",
       "      <td>00:00:20.23</td>\n",
       "      <td>0.000110</td>\n",
       "      <td>regain</td>\n",
       "      <td>1.000000e-07</td>\n",
       "      <td>1e-07</td>\n",
       "    </tr>\n",
       "    <tr>\n",
       "      <th>7</th>\n",
       "      <td>00:00:24.52</td>\n",
       "      <td>0.000124</td>\n",
       "      <td>regain</td>\n",
       "      <td>1.000000e-08</td>\n",
       "      <td>1e-08</td>\n",
       "    </tr>\n",
       "  </tbody>\n",
       "</table>\n",
       "</div>"
      ],
      "text/plain": [
       "          time  distance  method      tol_rate str_tol\n",
       "0  00:00:00.67  0.784532  regain  1.000000e-01     0.1\n",
       "1  00:00:00.96  0.662685  regain  1.000000e-02    0.01\n",
       "2  00:00:04.52  0.078428  regain  1.000000e-03   0.001\n",
       "3  00:00:08.51  0.007218  regain  1.000000e-04  0.0001\n",
       "4  00:00:12.66  0.000995  regain  1.000000e-05   1e-05\n",
       "5  00:00:17.34  0.000019  regain  1.000000e-06   1e-06\n",
       "6  00:00:20.23  0.000110  regain  1.000000e-07   1e-07\n",
       "7  00:00:24.52  0.000124  regain  1.000000e-08   1e-08"
      ]
     },
     "execution_count": 221,
     "metadata": {},
     "output_type": "execute_result"
    }
   ],
   "source": [
    "str_tol = [str(x) for x in tol_list]\n",
    "method_list = [\"regain\"]*len(accuracy_list)\n",
    "\n",
    "df_rg = pd.DataFrame(data={'time': time_list, \n",
    "                           'distance': accuracy_list,\n",
    "                           'method': method_list,\n",
    "                           'tol_rate': tol_list,\n",
    "                            'str_tol': str_tol})\n",
    "df_rg"
   ]
  },
  {
   "cell_type": "markdown",
   "id": "warming-recipient",
   "metadata": {},
   "source": [
    "## ADMM "
   ]
  },
  {
   "cell_type": "markdown",
   "id": "going-crowd",
   "metadata": {},
   "source": [
    "We run the algorithm 2 times because on the first iteration time costly numba initialization happens."
   ]
  },
  {
   "cell_type": "code",
   "execution_count": 222,
   "id": "painful-interaction",
   "metadata": {},
   "outputs": [
    {
     "name": "stdout",
     "output_type": "stream",
     "text": [
      "ADMM terminated after 1 iterations with accuracy 7.201949322409392\n",
      "ADMM status: {'dual optimal', 'primal optimal'}\n",
      "ADMM terminated after 1 iterations with accuracy 7.201949322409392\n",
      "ADMM status: {'dual optimal', 'primal optimal'}\n",
      "ADMM terminated after 1 iterations with accuracy 7.201949322409392\n",
      "ADMM status: {'dual optimal', 'primal optimal'}\n",
      "ADMM terminated after 1 iterations with accuracy 7.201949322409392\n",
      "ADMM status: {'dual optimal', 'primal optimal'}\n",
      "ADMM terminated after 3 iterations with accuracy 2.8805271712760705\n",
      "ADMM status: {'dual optimal', 'primal optimal'}\n",
      "ADMM terminated after 9 iterations with accuracy 0.38510134274143787\n",
      "ADMM status: {'dual optimal', 'primal optimal'}\n",
      "ADMM terminated after 17 iterations with accuracy 0.04725723902173184\n",
      "ADMM status: {'dual optimal', 'primal optimal'}\n",
      "ADMM terminated after 28 iterations with accuracy 0.004228150205120534\n",
      "ADMM status: {'dual optimal', 'primal optimal'}\n",
      "ADMM terminated after 1 iterations with accuracy 7.201949322409392\n",
      "ADMM status: {'dual optimal', 'primal optimal'}\n",
      "ADMM terminated after 1 iterations with accuracy 7.201949322409392\n",
      "ADMM status: {'dual optimal', 'primal optimal'}\n",
      "ADMM terminated after 1 iterations with accuracy 7.201949322409392\n",
      "ADMM status: {'dual optimal', 'primal optimal'}\n",
      "ADMM terminated after 1 iterations with accuracy 7.201949322409392\n",
      "ADMM status: {'dual optimal', 'primal optimal'}\n",
      "ADMM terminated after 3 iterations with accuracy 2.8805271712760705\n",
      "ADMM status: {'dual optimal', 'primal optimal'}\n",
      "ADMM terminated after 9 iterations with accuracy 0.38510134274143787\n",
      "ADMM status: {'dual optimal', 'primal optimal'}\n",
      "ADMM terminated after 17 iterations with accuracy 0.04725723902173184\n",
      "ADMM status: {'dual optimal', 'primal optimal'}\n",
      "ADMM terminated after 28 iterations with accuracy 0.004228150205120534\n",
      "ADMM status: {'dual optimal', 'primal optimal'}\n"
     ]
    }
   ],
   "source": [
    "for i in [0,1]:\n",
    "    cov_list = []\n",
    "    precision_list = []\n",
    "    time_list = []\n",
    "    for tol in tol_list:\n",
    "        start = time.time()\n",
    "        sol, info = ADMM_SGL(S, lambda1, Omega_0, max_iter=n_iter, tol = tol, rtol = tol, stopping_criterion = \"boyd\",\n",
    "                             verbose = False, latent = False)\n",
    "        end = time.time()\n",
    "\n",
    "        hours, rem = divmod(end-start, 3600)\n",
    "        minutes, seconds = divmod(rem, 60)\n",
    "        time_list.append(\"{:0>2}:{:0>2}:{:05.2f}\".format(int(hours),int(minutes),seconds))\n",
    "\n",
    "        cov_list.append(sol['Omega'])\n",
    "        precision_list.append(sol['Theta'])\n",
    "\n",
    "    accuracy_list = []\n",
    "    for i in range(0, len(precision_list)):\n",
    "        accuracy = np.linalg.norm(Z - np.array(precision_list[i]))/np.linalg.norm(Z)\n",
    "        accuracy_list.append(accuracy)"
   ]
  },
  {
   "cell_type": "code",
   "execution_count": 223,
   "id": "laughing-selling",
   "metadata": {},
   "outputs": [
    {
     "data": {
      "text/html": [
       "<div>\n",
       "<style scoped>\n",
       "    .dataframe tbody tr th:only-of-type {\n",
       "        vertical-align: middle;\n",
       "    }\n",
       "\n",
       "    .dataframe tbody tr th {\n",
       "        vertical-align: top;\n",
       "    }\n",
       "\n",
       "    .dataframe thead th {\n",
       "        text-align: right;\n",
       "    }\n",
       "</style>\n",
       "<table border=\"1\" class=\"dataframe\">\n",
       "  <thead>\n",
       "    <tr style=\"text-align: right;\">\n",
       "      <th></th>\n",
       "      <th>time</th>\n",
       "      <th>distance</th>\n",
       "      <th>method</th>\n",
       "      <th>tol_rate</th>\n",
       "      <th>str_tol</th>\n",
       "    </tr>\n",
       "  </thead>\n",
       "  <tbody>\n",
       "    <tr>\n",
       "      <th>0</th>\n",
       "      <td>00:00:00.48</td>\n",
       "      <td>0.329017</td>\n",
       "      <td>admm</td>\n",
       "      <td>1.000000e-01</td>\n",
       "      <td>0.1</td>\n",
       "    </tr>\n",
       "    <tr>\n",
       "      <th>1</th>\n",
       "      <td>00:00:00.47</td>\n",
       "      <td>0.329017</td>\n",
       "      <td>admm</td>\n",
       "      <td>1.000000e-02</td>\n",
       "      <td>0.01</td>\n",
       "    </tr>\n",
       "    <tr>\n",
       "      <th>2</th>\n",
       "      <td>00:00:00.45</td>\n",
       "      <td>0.329017</td>\n",
       "      <td>admm</td>\n",
       "      <td>1.000000e-03</td>\n",
       "      <td>0.001</td>\n",
       "    </tr>\n",
       "    <tr>\n",
       "      <th>3</th>\n",
       "      <td>00:00:00.33</td>\n",
       "      <td>0.329017</td>\n",
       "      <td>admm</td>\n",
       "      <td>1.000000e-04</td>\n",
       "      <td>0.0001</td>\n",
       "    </tr>\n",
       "    <tr>\n",
       "      <th>4</th>\n",
       "      <td>00:00:00.92</td>\n",
       "      <td>0.159649</td>\n",
       "      <td>admm</td>\n",
       "      <td>1.000000e-05</td>\n",
       "      <td>1e-05</td>\n",
       "    </tr>\n",
       "    <tr>\n",
       "      <th>5</th>\n",
       "      <td>00:00:02.30</td>\n",
       "      <td>0.029772</td>\n",
       "      <td>admm</td>\n",
       "      <td>1.000000e-06</td>\n",
       "      <td>1e-06</td>\n",
       "    </tr>\n",
       "    <tr>\n",
       "      <th>6</th>\n",
       "      <td>00:00:04.15</td>\n",
       "      <td>0.004378</td>\n",
       "      <td>admm</td>\n",
       "      <td>1.000000e-07</td>\n",
       "      <td>1e-07</td>\n",
       "    </tr>\n",
       "    <tr>\n",
       "      <th>7</th>\n",
       "      <td>00:00:06.85</td>\n",
       "      <td>0.000677</td>\n",
       "      <td>admm</td>\n",
       "      <td>1.000000e-08</td>\n",
       "      <td>1e-08</td>\n",
       "    </tr>\n",
       "  </tbody>\n",
       "</table>\n",
       "</div>"
      ],
      "text/plain": [
       "          time  distance method      tol_rate str_tol\n",
       "0  00:00:00.48  0.329017   admm  1.000000e-01     0.1\n",
       "1  00:00:00.47  0.329017   admm  1.000000e-02    0.01\n",
       "2  00:00:00.45  0.329017   admm  1.000000e-03   0.001\n",
       "3  00:00:00.33  0.329017   admm  1.000000e-04  0.0001\n",
       "4  00:00:00.92  0.159649   admm  1.000000e-05   1e-05\n",
       "5  00:00:02.30  0.029772   admm  1.000000e-06   1e-06\n",
       "6  00:00:04.15  0.004378   admm  1.000000e-07   1e-07\n",
       "7  00:00:06.85  0.000677   admm  1.000000e-08   1e-08"
      ]
     },
     "execution_count": 223,
     "metadata": {},
     "output_type": "execute_result"
    }
   ],
   "source": [
    "str_tol = [str(x) for x in tol_list]\n",
    "method_list = [\"admm\"]*len(accuracy_list)\n",
    "\n",
    "df_admm = pd.DataFrame(data={'time': time_list, \n",
    "                           'distance': accuracy_list,\n",
    "                           'method': method_list,\n",
    "                           'tol_rate': tol_list,\n",
    "                            'str_tol': str_tol})\n",
    "df_admm"
   ]
  },
  {
   "cell_type": "markdown",
   "id": "executed-preparation",
   "metadata": {},
   "source": [
    "## kkt_ADMM"
   ]
  },
  {
   "cell_type": "markdown",
   "id": "toxic-commonwealth",
   "metadata": {},
   "source": [
    "We run the algorithm 2 times because on the first iteration time costly numba initialization happens."
   ]
  },
  {
   "cell_type": "code",
   "execution_count": 224,
   "id": "extensive-peeing",
   "metadata": {},
   "outputs": [
    {
     "name": "stdout",
     "output_type": "stream",
     "text": [
      "ADMM is only {'primal and dual optimal'}\n",
      "Try to change the tolerance value 0.1\n",
      "ADMM terminated after 2 iterations with accuracy 0.07689794887452671\n",
      "ADMM status: {'primal and dual optimal'}\n",
      "ADMM is only {'primal and dual optimal'}\n",
      "Try to change the tolerance value 0.01\n",
      "ADMM terminated after 8 iterations with accuracy 0.00924577452541569\n",
      "ADMM status: {'primal and dual optimal'}\n",
      "ADMM is only {'primal and dual optimal'}\n",
      "Try to change the tolerance value 0.001\n",
      "ADMM terminated after 17 iterations with accuracy 0.0008594751116571462\n",
      "ADMM status: {'primal and dual optimal'}\n",
      "ADMM is only {'primal and dual optimal'}\n",
      "Try to change the tolerance value 0.0001\n",
      "ADMM terminated after 27 iterations with accuracy 9.764438701732223e-05\n",
      "ADMM status: {'primal and dual optimal'}\n",
      "ADMM is only {'primal and dual optimal'}\n",
      "Try to change the tolerance value 1e-05\n",
      "ADMM terminated after 42 iterations with accuracy 9.390545098642266e-06\n",
      "ADMM status: {'primal and dual optimal'}\n",
      "ADMM is only {'primal and dual optimal'}\n",
      "Try to change the tolerance value 1e-06\n",
      "ADMM terminated after 58 iterations with accuracy 9.972106138606664e-07\n",
      "ADMM status: {'primal and dual optimal'}\n",
      "ADMM is only {'primal and dual optimal'}\n",
      "Try to change the tolerance value 1e-07\n",
      "ADMM terminated after 75 iterations with accuracy 9.318130929419711e-08\n",
      "ADMM status: {'primal and dual optimal'}\n",
      "ADMM is only {'primal and dual optimal'}\n",
      "Try to change the tolerance value 1e-08\n",
      "ADMM terminated after 92 iterations with accuracy 8.710984052941861e-09\n",
      "ADMM status: {'primal and dual optimal'}\n",
      "ADMM is only {'primal and dual optimal'}\n",
      "Try to change the tolerance value 0.1\n",
      "ADMM terminated after 2 iterations with accuracy 0.07689794887452671\n",
      "ADMM status: {'primal and dual optimal'}\n",
      "ADMM is only {'primal and dual optimal'}\n",
      "Try to change the tolerance value 0.01\n",
      "ADMM terminated after 8 iterations with accuracy 0.00924577452541569\n",
      "ADMM status: {'primal and dual optimal'}\n",
      "ADMM is only {'primal and dual optimal'}\n",
      "Try to change the tolerance value 0.001\n",
      "ADMM terminated after 17 iterations with accuracy 0.0008594751116571462\n",
      "ADMM status: {'primal and dual optimal'}\n",
      "ADMM is only {'primal and dual optimal'}\n",
      "Try to change the tolerance value 0.0001\n",
      "ADMM terminated after 27 iterations with accuracy 9.764438701732223e-05\n",
      "ADMM status: {'primal and dual optimal'}\n",
      "ADMM is only {'primal and dual optimal'}\n",
      "Try to change the tolerance value 1e-05\n",
      "ADMM terminated after 42 iterations with accuracy 9.390545098642266e-06\n",
      "ADMM status: {'primal and dual optimal'}\n",
      "ADMM is only {'primal and dual optimal'}\n",
      "Try to change the tolerance value 1e-06\n",
      "ADMM terminated after 58 iterations with accuracy 9.972106138606664e-07\n",
      "ADMM status: {'primal and dual optimal'}\n",
      "ADMM is only {'primal and dual optimal'}\n",
      "Try to change the tolerance value 1e-07\n",
      "ADMM terminated after 75 iterations with accuracy 9.318130929419711e-08\n",
      "ADMM status: {'primal and dual optimal'}\n",
      "ADMM is only {'primal and dual optimal'}\n",
      "Try to change the tolerance value 1e-08\n",
      "ADMM terminated after 92 iterations with accuracy 8.710984052941861e-09\n",
      "ADMM status: {'primal and dual optimal'}\n"
     ]
    }
   ],
   "source": [
    "for i in [0,1]:\n",
    "    cov_list = []\n",
    "    precision_list = []\n",
    "    time_list = []\n",
    "    for tol in tol_list:\n",
    "        start = time.time()\n",
    "        sol, info = ADMM_SGL(S, lambda1, Omega_0, max_iter=n_iter, tol = tol, stopping_criterion = \"kkt\",\n",
    "                             verbose = False, latent = False)\n",
    "        end = time.time()\n",
    "\n",
    "        hours, rem = divmod(end-start, 3600)\n",
    "        minutes, seconds = divmod(rem, 60)\n",
    "        time_list.append(\"{:0>2}:{:0>2}:{:05.2f}\".format(int(hours),int(minutes),seconds))\n",
    "\n",
    "        cov_list.append(sol['Omega'])\n",
    "        precision_list.append(sol['Theta'])\n",
    "\n",
    "    accuracy_list = []\n",
    "    for i in range(0, len(precision_list)):\n",
    "        accuracy = np.linalg.norm(Z - np.array(precision_list[i]))/np.linalg.norm(Z)\n",
    "        accuracy_list.append(accuracy)"
   ]
  },
  {
   "cell_type": "code",
   "execution_count": 225,
   "id": "mysterious-motorcycle",
   "metadata": {},
   "outputs": [
    {
     "data": {
      "text/html": [
       "<div>\n",
       "<style scoped>\n",
       "    .dataframe tbody tr th:only-of-type {\n",
       "        vertical-align: middle;\n",
       "    }\n",
       "\n",
       "    .dataframe tbody tr th {\n",
       "        vertical-align: top;\n",
       "    }\n",
       "\n",
       "    .dataframe thead th {\n",
       "        text-align: right;\n",
       "    }\n",
       "</style>\n",
       "<table border=\"1\" class=\"dataframe\">\n",
       "  <thead>\n",
       "    <tr style=\"text-align: right;\">\n",
       "      <th></th>\n",
       "      <th>time</th>\n",
       "      <th>distance</th>\n",
       "      <th>method</th>\n",
       "      <th>tol_rate</th>\n",
       "      <th>str_tol</th>\n",
       "    </tr>\n",
       "  </thead>\n",
       "  <tbody>\n",
       "    <tr>\n",
       "      <th>0</th>\n",
       "      <td>00:00:01.45</td>\n",
       "      <td>0.222359</td>\n",
       "      <td>kkt_admm</td>\n",
       "      <td>1.000000e-01</td>\n",
       "      <td>0.1</td>\n",
       "    </tr>\n",
       "    <tr>\n",
       "      <th>1</th>\n",
       "      <td>00:00:04.48</td>\n",
       "      <td>0.038702</td>\n",
       "      <td>kkt_admm</td>\n",
       "      <td>1.000000e-02</td>\n",
       "      <td>0.01</td>\n",
       "    </tr>\n",
       "    <tr>\n",
       "      <th>2</th>\n",
       "      <td>00:00:09.14</td>\n",
       "      <td>0.004378</td>\n",
       "      <td>kkt_admm</td>\n",
       "      <td>1.000000e-03</td>\n",
       "      <td>0.001</td>\n",
       "    </tr>\n",
       "    <tr>\n",
       "      <th>3</th>\n",
       "      <td>00:00:14.99</td>\n",
       "      <td>0.000772</td>\n",
       "      <td>kkt_admm</td>\n",
       "      <td>1.000000e-04</td>\n",
       "      <td>0.0001</td>\n",
       "    </tr>\n",
       "    <tr>\n",
       "      <th>4</th>\n",
       "      <td>00:00:28.95</td>\n",
       "      <td>0.000198</td>\n",
       "      <td>kkt_admm</td>\n",
       "      <td>1.000000e-05</td>\n",
       "      <td>1e-05</td>\n",
       "    </tr>\n",
       "    <tr>\n",
       "      <th>5</th>\n",
       "      <td>00:00:21.65</td>\n",
       "      <td>0.000133</td>\n",
       "      <td>kkt_admm</td>\n",
       "      <td>1.000000e-06</td>\n",
       "      <td>1e-06</td>\n",
       "    </tr>\n",
       "    <tr>\n",
       "      <th>6</th>\n",
       "      <td>00:00:29.13</td>\n",
       "      <td>0.000126</td>\n",
       "      <td>kkt_admm</td>\n",
       "      <td>1.000000e-07</td>\n",
       "      <td>1e-07</td>\n",
       "    </tr>\n",
       "    <tr>\n",
       "      <th>7</th>\n",
       "      <td>00:00:34.62</td>\n",
       "      <td>0.000126</td>\n",
       "      <td>kkt_admm</td>\n",
       "      <td>1.000000e-08</td>\n",
       "      <td>1e-08</td>\n",
       "    </tr>\n",
       "  </tbody>\n",
       "</table>\n",
       "</div>"
      ],
      "text/plain": [
       "          time  distance    method      tol_rate str_tol\n",
       "0  00:00:01.45  0.222359  kkt_admm  1.000000e-01     0.1\n",
       "1  00:00:04.48  0.038702  kkt_admm  1.000000e-02    0.01\n",
       "2  00:00:09.14  0.004378  kkt_admm  1.000000e-03   0.001\n",
       "3  00:00:14.99  0.000772  kkt_admm  1.000000e-04  0.0001\n",
       "4  00:00:28.95  0.000198  kkt_admm  1.000000e-05   1e-05\n",
       "5  00:00:21.65  0.000133  kkt_admm  1.000000e-06   1e-06\n",
       "6  00:00:29.13  0.000126  kkt_admm  1.000000e-07   1e-07\n",
       "7  00:00:34.62  0.000126  kkt_admm  1.000000e-08   1e-08"
      ]
     },
     "execution_count": 225,
     "metadata": {},
     "output_type": "execute_result"
    }
   ],
   "source": [
    "str_tol = [str(x) for x in tol_list]\n",
    "method_list = [\"kkt_admm\"]*len(accuracy_list)\n",
    "\n",
    "df_kkt = pd.DataFrame(data={'time': time_list, \n",
    "                           'distance': accuracy_list,\n",
    "                           'method': method_list,\n",
    "                           'tol_rate': tol_list,\n",
    "                            'str_tol': str_tol})\n",
    "df_kkt"
   ]
  },
  {
   "cell_type": "markdown",
   "id": "regulation-creek",
   "metadata": {},
   "source": [
    "## Block ADMM"
   ]
  },
  {
   "cell_type": "code",
   "execution_count": 226,
   "id": "figured-pilot",
   "metadata": {},
   "outputs": [
    {
     "name": "stdout",
     "output_type": "stream",
     "text": [
      "ADMM terminated after 1 iterations with accuracy 7.201949322409392\n",
      "ADMM status: {'dual optimal', 'primal optimal'}\n",
      "ADMM terminated after 1 iterations with accuracy 7.201949322409392\n",
      "ADMM status: {'dual optimal', 'primal optimal'}\n",
      "ADMM terminated after 1 iterations with accuracy 7.201949322409392\n",
      "ADMM status: {'dual optimal', 'primal optimal'}\n",
      "ADMM terminated after 1 iterations with accuracy 7.201949322409392\n",
      "ADMM status: {'dual optimal', 'primal optimal'}\n",
      "ADMM terminated after 3 iterations with accuracy 2.8805271712760705\n",
      "ADMM status: {'dual optimal', 'primal optimal'}\n",
      "ADMM terminated after 9 iterations with accuracy 0.38510134274143787\n",
      "ADMM status: {'dual optimal', 'primal optimal'}\n",
      "ADMM terminated after 17 iterations with accuracy 0.04725723902173184\n",
      "ADMM status: {'dual optimal', 'primal optimal'}\n",
      "ADMM terminated after 28 iterations with accuracy 0.004228150205120534\n",
      "ADMM status: {'dual optimal', 'primal optimal'}\n",
      "ADMM terminated after 1 iterations with accuracy 7.201949322409392\n",
      "ADMM status: {'dual optimal', 'primal optimal'}\n",
      "ADMM terminated after 1 iterations with accuracy 7.201949322409392\n",
      "ADMM status: {'dual optimal', 'primal optimal'}\n",
      "ADMM terminated after 1 iterations with accuracy 7.201949322409392\n",
      "ADMM status: {'dual optimal', 'primal optimal'}\n",
      "ADMM terminated after 1 iterations with accuracy 7.201949322409392\n",
      "ADMM status: {'dual optimal', 'primal optimal'}\n",
      "ADMM terminated after 3 iterations with accuracy 2.8805271712760705\n",
      "ADMM status: {'dual optimal', 'primal optimal'}\n",
      "ADMM terminated after 9 iterations with accuracy 0.38510134274143787\n",
      "ADMM status: {'dual optimal', 'primal optimal'}\n",
      "ADMM terminated after 17 iterations with accuracy 0.04725723902173184\n",
      "ADMM status: {'dual optimal', 'primal optimal'}\n",
      "ADMM terminated after 28 iterations with accuracy 0.004228150205120534\n",
      "ADMM status: {'dual optimal', 'primal optimal'}\n"
     ]
    }
   ],
   "source": [
    "for i in [0,1]:\n",
    "    cov_list = []\n",
    "    precision_list = []\n",
    "    time_list = []\n",
    "    for tol in tol_list:\n",
    "        start = time.time()\n",
    "        sol = block_SGL(S, lambda1, Omega_0, max_iter=n_iter, tol = tol, rtol = tol, stopping_criterion = \"boyd\",\n",
    "                             verbose = False)\n",
    "        end = time.time()\n",
    "\n",
    "        hours, rem = divmod(end-start, 3600)\n",
    "        minutes, seconds = divmod(rem, 60)\n",
    "        time_list.append(\"{:0>2}:{:0>2}:{:05.2f}\".format(int(hours),int(minutes),seconds))\n",
    "\n",
    "        cov_list.append(sol['Omega'])\n",
    "        precision_list.append(sol['Theta'])\n",
    "\n",
    "    accuracy_list = []\n",
    "    for i in range(0, len(precision_list)):\n",
    "        accuracy = np.linalg.norm(Z - np.array(precision_list[i]))/np.linalg.norm(Z)\n",
    "        accuracy_list.append(accuracy)"
   ]
  },
  {
   "cell_type": "code",
   "execution_count": 227,
   "id": "surprised-daughter",
   "metadata": {},
   "outputs": [
    {
     "data": {
      "text/html": [
       "<div>\n",
       "<style scoped>\n",
       "    .dataframe tbody tr th:only-of-type {\n",
       "        vertical-align: middle;\n",
       "    }\n",
       "\n",
       "    .dataframe tbody tr th {\n",
       "        vertical-align: top;\n",
       "    }\n",
       "\n",
       "    .dataframe thead th {\n",
       "        text-align: right;\n",
       "    }\n",
       "</style>\n",
       "<table border=\"1\" class=\"dataframe\">\n",
       "  <thead>\n",
       "    <tr style=\"text-align: right;\">\n",
       "      <th></th>\n",
       "      <th>time</th>\n",
       "      <th>distance</th>\n",
       "      <th>method</th>\n",
       "      <th>tol_rate</th>\n",
       "      <th>str_tol</th>\n",
       "    </tr>\n",
       "  </thead>\n",
       "  <tbody>\n",
       "    <tr>\n",
       "      <th>0</th>\n",
       "      <td>00:00:00.43</td>\n",
       "      <td>0.329017</td>\n",
       "      <td>block_admm</td>\n",
       "      <td>1.000000e-01</td>\n",
       "      <td>0.1</td>\n",
       "    </tr>\n",
       "    <tr>\n",
       "      <th>1</th>\n",
       "      <td>00:00:00.41</td>\n",
       "      <td>0.329017</td>\n",
       "      <td>block_admm</td>\n",
       "      <td>1.000000e-02</td>\n",
       "      <td>0.01</td>\n",
       "    </tr>\n",
       "    <tr>\n",
       "      <th>2</th>\n",
       "      <td>00:00:00.40</td>\n",
       "      <td>0.329017</td>\n",
       "      <td>block_admm</td>\n",
       "      <td>1.000000e-03</td>\n",
       "      <td>0.001</td>\n",
       "    </tr>\n",
       "    <tr>\n",
       "      <th>3</th>\n",
       "      <td>00:00:00.40</td>\n",
       "      <td>0.329017</td>\n",
       "      <td>block_admm</td>\n",
       "      <td>1.000000e-04</td>\n",
       "      <td>0.0001</td>\n",
       "    </tr>\n",
       "    <tr>\n",
       "      <th>4</th>\n",
       "      <td>00:00:00.74</td>\n",
       "      <td>0.159649</td>\n",
       "      <td>block_admm</td>\n",
       "      <td>1.000000e-05</td>\n",
       "      <td>1e-05</td>\n",
       "    </tr>\n",
       "    <tr>\n",
       "      <th>5</th>\n",
       "      <td>00:00:01.80</td>\n",
       "      <td>0.029772</td>\n",
       "      <td>block_admm</td>\n",
       "      <td>1.000000e-06</td>\n",
       "      <td>1e-06</td>\n",
       "    </tr>\n",
       "    <tr>\n",
       "      <th>6</th>\n",
       "      <td>00:00:03.39</td>\n",
       "      <td>0.004378</td>\n",
       "      <td>block_admm</td>\n",
       "      <td>1.000000e-07</td>\n",
       "      <td>1e-07</td>\n",
       "    </tr>\n",
       "    <tr>\n",
       "      <th>7</th>\n",
       "      <td>00:00:05.98</td>\n",
       "      <td>0.000677</td>\n",
       "      <td>block_admm</td>\n",
       "      <td>1.000000e-08</td>\n",
       "      <td>1e-08</td>\n",
       "    </tr>\n",
       "  </tbody>\n",
       "</table>\n",
       "</div>"
      ],
      "text/plain": [
       "          time  distance      method      tol_rate str_tol\n",
       "0  00:00:00.43  0.329017  block_admm  1.000000e-01     0.1\n",
       "1  00:00:00.41  0.329017  block_admm  1.000000e-02    0.01\n",
       "2  00:00:00.40  0.329017  block_admm  1.000000e-03   0.001\n",
       "3  00:00:00.40  0.329017  block_admm  1.000000e-04  0.0001\n",
       "4  00:00:00.74  0.159649  block_admm  1.000000e-05   1e-05\n",
       "5  00:00:01.80  0.029772  block_admm  1.000000e-06   1e-06\n",
       "6  00:00:03.39  0.004378  block_admm  1.000000e-07   1e-07\n",
       "7  00:00:05.98  0.000677  block_admm  1.000000e-08   1e-08"
      ]
     },
     "execution_count": 227,
     "metadata": {},
     "output_type": "execute_result"
    }
   ],
   "source": [
    "str_tol = [str(x) for x in tol_list]\n",
    "method_list = [\"block_admm\"]*len(accuracy_list)\n",
    "\n",
    "df_block = pd.DataFrame(data={'time': time_list, \n",
    "                           'distance': accuracy_list,\n",
    "                           'method': method_list,\n",
    "                           'tol_rate': tol_list,\n",
    "                            'str_tol': str_tol})\n",
    "df_block"
   ]
  },
  {
   "cell_type": "markdown",
   "id": "concerned-advisory",
   "metadata": {},
   "source": [
    "## Block kkt_ADMM"
   ]
  },
  {
   "cell_type": "code",
   "execution_count": 228,
   "id": "descending-palestinian",
   "metadata": {},
   "outputs": [
    {
     "name": "stdout",
     "output_type": "stream",
     "text": [
      "ADMM is only {'primal and dual optimal'}\n",
      "Try to change the tolerance value 0.1\n",
      "ADMM terminated after 2 iterations with accuracy 0.07689794887452671\n",
      "ADMM status: {'primal and dual optimal'}\n",
      "ADMM is only {'primal and dual optimal'}\n",
      "Try to change the tolerance value 0.01\n",
      "ADMM terminated after 8 iterations with accuracy 0.00924577452541569\n",
      "ADMM status: {'primal and dual optimal'}\n",
      "ADMM is only {'primal and dual optimal'}\n",
      "Try to change the tolerance value 0.001\n",
      "ADMM terminated after 17 iterations with accuracy 0.0008594751116571462\n",
      "ADMM status: {'primal and dual optimal'}\n",
      "ADMM is only {'primal and dual optimal'}\n",
      "Try to change the tolerance value 0.0001\n",
      "ADMM terminated after 27 iterations with accuracy 9.764438701732223e-05\n",
      "ADMM status: {'primal and dual optimal'}\n",
      "ADMM is only {'primal and dual optimal'}\n",
      "Try to change the tolerance value 1e-05\n",
      "ADMM terminated after 42 iterations with accuracy 9.390545098642266e-06\n",
      "ADMM status: {'primal and dual optimal'}\n",
      "ADMM is only {'primal and dual optimal'}\n",
      "Try to change the tolerance value 1e-06\n",
      "ADMM terminated after 58 iterations with accuracy 9.972106138606664e-07\n",
      "ADMM status: {'primal and dual optimal'}\n",
      "ADMM is only {'primal and dual optimal'}\n",
      "Try to change the tolerance value 1e-07\n",
      "ADMM terminated after 75 iterations with accuracy 9.318130929419711e-08\n",
      "ADMM status: {'primal and dual optimal'}\n",
      "ADMM is only {'primal and dual optimal'}\n",
      "Try to change the tolerance value 1e-08\n",
      "ADMM terminated after 92 iterations with accuracy 8.710984052941861e-09\n",
      "ADMM status: {'primal and dual optimal'}\n",
      "ADMM is only {'primal and dual optimal'}\n",
      "Try to change the tolerance value 0.1\n",
      "ADMM terminated after 2 iterations with accuracy 0.07689794887452671\n",
      "ADMM status: {'primal and dual optimal'}\n",
      "ADMM is only {'primal and dual optimal'}\n",
      "Try to change the tolerance value 0.01\n",
      "ADMM terminated after 8 iterations with accuracy 0.00924577452541569\n",
      "ADMM status: {'primal and dual optimal'}\n",
      "ADMM is only {'primal and dual optimal'}\n",
      "Try to change the tolerance value 0.001\n",
      "ADMM terminated after 17 iterations with accuracy 0.0008594751116571462\n",
      "ADMM status: {'primal and dual optimal'}\n",
      "ADMM is only {'primal and dual optimal'}\n",
      "Try to change the tolerance value 0.0001\n",
      "ADMM terminated after 27 iterations with accuracy 9.764438701732223e-05\n",
      "ADMM status: {'primal and dual optimal'}\n",
      "ADMM is only {'primal and dual optimal'}\n",
      "Try to change the tolerance value 1e-05\n",
      "ADMM terminated after 42 iterations with accuracy 9.390545098642266e-06\n",
      "ADMM status: {'primal and dual optimal'}\n",
      "ADMM is only {'primal and dual optimal'}\n",
      "Try to change the tolerance value 1e-06\n",
      "ADMM terminated after 58 iterations with accuracy 9.972106138606664e-07\n",
      "ADMM status: {'primal and dual optimal'}\n",
      "ADMM is only {'primal and dual optimal'}\n",
      "Try to change the tolerance value 1e-07\n",
      "ADMM terminated after 75 iterations with accuracy 9.318130929419711e-08\n",
      "ADMM status: {'primal and dual optimal'}\n",
      "ADMM is only {'primal and dual optimal'}\n",
      "Try to change the tolerance value 1e-08\n",
      "ADMM terminated after 92 iterations with accuracy 8.710984052941861e-09\n",
      "ADMM status: {'primal and dual optimal'}\n"
     ]
    }
   ],
   "source": [
    "for i in [0,1]:\n",
    "    cov_list = []\n",
    "    precision_list = []\n",
    "    time_list = []\n",
    "    for tol in tol_list:\n",
    "        start = time.time()\n",
    "        sol = block_SGL(S, lambda1, Omega_0, max_iter=n_iter, tol = tol, stopping_criterion = \"kkt\",\n",
    "                             verbose = False)\n",
    "        end = time.time()\n",
    "\n",
    "        hours, rem = divmod(end-start, 3600)\n",
    "        minutes, seconds = divmod(rem, 60)\n",
    "        time_list.append(\"{:0>2}:{:0>2}:{:05.2f}\".format(int(hours),int(minutes),seconds))\n",
    "\n",
    "        cov_list.append(sol['Omega'])\n",
    "        precision_list.append(sol['Theta'])\n",
    "\n",
    "    accuracy_list = []\n",
    "    for i in range(0, len(precision_list)):\n",
    "        accuracy = np.linalg.norm(Z - np.array(precision_list[i]))/np.linalg.norm(Z)\n",
    "        accuracy_list.append(accuracy)"
   ]
  },
  {
   "cell_type": "code",
   "execution_count": 229,
   "id": "disciplinary-terrace",
   "metadata": {},
   "outputs": [
    {
     "data": {
      "text/html": [
       "<div>\n",
       "<style scoped>\n",
       "    .dataframe tbody tr th:only-of-type {\n",
       "        vertical-align: middle;\n",
       "    }\n",
       "\n",
       "    .dataframe tbody tr th {\n",
       "        vertical-align: top;\n",
       "    }\n",
       "\n",
       "    .dataframe thead th {\n",
       "        text-align: right;\n",
       "    }\n",
       "</style>\n",
       "<table border=\"1\" class=\"dataframe\">\n",
       "  <thead>\n",
       "    <tr style=\"text-align: right;\">\n",
       "      <th></th>\n",
       "      <th>time</th>\n",
       "      <th>distance</th>\n",
       "      <th>method</th>\n",
       "      <th>tol_rate</th>\n",
       "      <th>str_tol</th>\n",
       "    </tr>\n",
       "  </thead>\n",
       "  <tbody>\n",
       "    <tr>\n",
       "      <th>0</th>\n",
       "      <td>00:00:01.58</td>\n",
       "      <td>0.222359</td>\n",
       "      <td>kkt_block_admm</td>\n",
       "      <td>1.000000e-01</td>\n",
       "      <td>0.1</td>\n",
       "    </tr>\n",
       "    <tr>\n",
       "      <th>1</th>\n",
       "      <td>00:00:04.43</td>\n",
       "      <td>0.038702</td>\n",
       "      <td>kkt_block_admm</td>\n",
       "      <td>1.000000e-02</td>\n",
       "      <td>0.01</td>\n",
       "    </tr>\n",
       "    <tr>\n",
       "      <th>2</th>\n",
       "      <td>00:00:09.01</td>\n",
       "      <td>0.004378</td>\n",
       "      <td>kkt_block_admm</td>\n",
       "      <td>1.000000e-03</td>\n",
       "      <td>0.001</td>\n",
       "    </tr>\n",
       "    <tr>\n",
       "      <th>3</th>\n",
       "      <td>00:00:14.20</td>\n",
       "      <td>0.000772</td>\n",
       "      <td>kkt_block_admm</td>\n",
       "      <td>1.000000e-04</td>\n",
       "      <td>0.0001</td>\n",
       "    </tr>\n",
       "    <tr>\n",
       "      <th>4</th>\n",
       "      <td>00:00:21.77</td>\n",
       "      <td>0.000198</td>\n",
       "      <td>kkt_block_admm</td>\n",
       "      <td>1.000000e-05</td>\n",
       "      <td>1e-05</td>\n",
       "    </tr>\n",
       "    <tr>\n",
       "      <th>5</th>\n",
       "      <td>00:00:29.01</td>\n",
       "      <td>0.000133</td>\n",
       "      <td>kkt_block_admm</td>\n",
       "      <td>1.000000e-06</td>\n",
       "      <td>1e-06</td>\n",
       "    </tr>\n",
       "    <tr>\n",
       "      <th>6</th>\n",
       "      <td>00:00:39.71</td>\n",
       "      <td>0.000126</td>\n",
       "      <td>kkt_block_admm</td>\n",
       "      <td>1.000000e-07</td>\n",
       "      <td>1e-07</td>\n",
       "    </tr>\n",
       "    <tr>\n",
       "      <th>7</th>\n",
       "      <td>00:00:41.45</td>\n",
       "      <td>0.000126</td>\n",
       "      <td>kkt_block_admm</td>\n",
       "      <td>1.000000e-08</td>\n",
       "      <td>1e-08</td>\n",
       "    </tr>\n",
       "  </tbody>\n",
       "</table>\n",
       "</div>"
      ],
      "text/plain": [
       "          time  distance          method      tol_rate str_tol\n",
       "0  00:00:01.58  0.222359  kkt_block_admm  1.000000e-01     0.1\n",
       "1  00:00:04.43  0.038702  kkt_block_admm  1.000000e-02    0.01\n",
       "2  00:00:09.01  0.004378  kkt_block_admm  1.000000e-03   0.001\n",
       "3  00:00:14.20  0.000772  kkt_block_admm  1.000000e-04  0.0001\n",
       "4  00:00:21.77  0.000198  kkt_block_admm  1.000000e-05   1e-05\n",
       "5  00:00:29.01  0.000133  kkt_block_admm  1.000000e-06   1e-06\n",
       "6  00:00:39.71  0.000126  kkt_block_admm  1.000000e-07   1e-07\n",
       "7  00:00:41.45  0.000126  kkt_block_admm  1.000000e-08   1e-08"
      ]
     },
     "execution_count": 229,
     "metadata": {},
     "output_type": "execute_result"
    }
   ],
   "source": [
    "str_tol = [str(x) for x in tol_list]\n",
    "method_list = [\"kkt_block_admm\"]*len(accuracy_list)\n",
    "\n",
    "df_block_kkt = pd.DataFrame(data={'time': time_list, \n",
    "                           'distance': accuracy_list,\n",
    "                           'method': method_list,\n",
    "                           'tol_rate': tol_list,\n",
    "                            'str_tol': str_tol})\n",
    "df_block_kkt"
   ]
  },
  {
   "cell_type": "markdown",
   "id": "crucial-feeling",
   "metadata": {},
   "source": [
    "## Data formating"
   ]
  },
  {
   "cell_type": "code",
   "execution_count": 230,
   "id": "funky-villa",
   "metadata": {},
   "outputs": [],
   "source": [
    "frames = [df_sk, df_rg, df_admm, df_kkt, df_block, df_block_kkt]\n",
    "\n",
    "df = pd.concat(frames)\n",
    "\n",
    "df[\"str_tol\"].replace({\"0.0001\": \"1e-04\"}, inplace=True)\n",
    "dist = np.array(df['distance'])\n",
    "df['log_distance'] = np.log(dist)"
   ]
  },
  {
   "cell_type": "code",
   "execution_count": 231,
   "id": "endangered-incentive",
   "metadata": {},
   "outputs": [
    {
     "data": {
      "text/html": [
       "<div>\n",
       "<style scoped>\n",
       "    .dataframe tbody tr th:only-of-type {\n",
       "        vertical-align: middle;\n",
       "    }\n",
       "\n",
       "    .dataframe tbody tr th {\n",
       "        vertical-align: top;\n",
       "    }\n",
       "\n",
       "    .dataframe thead th {\n",
       "        text-align: right;\n",
       "    }\n",
       "</style>\n",
       "<table border=\"1\" class=\"dataframe\">\n",
       "  <thead>\n",
       "    <tr style=\"text-align: right;\">\n",
       "      <th></th>\n",
       "      <th>time</th>\n",
       "      <th>distance</th>\n",
       "      <th>method</th>\n",
       "      <th>tol_rate</th>\n",
       "      <th>str_tol</th>\n",
       "      <th>log_distance</th>\n",
       "    </tr>\n",
       "  </thead>\n",
       "  <tbody>\n",
       "    <tr>\n",
       "      <th>0</th>\n",
       "      <td>00:00:00.67</td>\n",
       "      <td>0.784532</td>\n",
       "      <td>regain</td>\n",
       "      <td>1.000000e-01</td>\n",
       "      <td>0.1</td>\n",
       "      <td>-0.242668</td>\n",
       "    </tr>\n",
       "    <tr>\n",
       "      <th>1</th>\n",
       "      <td>00:00:00.96</td>\n",
       "      <td>0.662685</td>\n",
       "      <td>regain</td>\n",
       "      <td>1.000000e-02</td>\n",
       "      <td>0.01</td>\n",
       "      <td>-0.411456</td>\n",
       "    </tr>\n",
       "    <tr>\n",
       "      <th>3</th>\n",
       "      <td>00:00:00.40</td>\n",
       "      <td>0.329017</td>\n",
       "      <td>block_admm</td>\n",
       "      <td>1.000000e-04</td>\n",
       "      <td>1e-04</td>\n",
       "      <td>-1.111646</td>\n",
       "    </tr>\n",
       "    <tr>\n",
       "      <th>2</th>\n",
       "      <td>00:00:00.40</td>\n",
       "      <td>0.329017</td>\n",
       "      <td>block_admm</td>\n",
       "      <td>1.000000e-03</td>\n",
       "      <td>0.001</td>\n",
       "      <td>-1.111646</td>\n",
       "    </tr>\n",
       "    <tr>\n",
       "      <th>3</th>\n",
       "      <td>00:00:00.33</td>\n",
       "      <td>0.329017</td>\n",
       "      <td>admm</td>\n",
       "      <td>1.000000e-04</td>\n",
       "      <td>1e-04</td>\n",
       "      <td>-1.111646</td>\n",
       "    </tr>\n",
       "    <tr>\n",
       "      <th>2</th>\n",
       "      <td>00:00:00.45</td>\n",
       "      <td>0.329017</td>\n",
       "      <td>admm</td>\n",
       "      <td>1.000000e-03</td>\n",
       "      <td>0.001</td>\n",
       "      <td>-1.111646</td>\n",
       "    </tr>\n",
       "    <tr>\n",
       "      <th>1</th>\n",
       "      <td>00:00:00.47</td>\n",
       "      <td>0.329017</td>\n",
       "      <td>admm</td>\n",
       "      <td>1.000000e-02</td>\n",
       "      <td>0.01</td>\n",
       "      <td>-1.111646</td>\n",
       "    </tr>\n",
       "    <tr>\n",
       "      <th>0</th>\n",
       "      <td>00:00:00.48</td>\n",
       "      <td>0.329017</td>\n",
       "      <td>admm</td>\n",
       "      <td>1.000000e-01</td>\n",
       "      <td>0.1</td>\n",
       "      <td>-1.111646</td>\n",
       "    </tr>\n",
       "    <tr>\n",
       "      <th>0</th>\n",
       "      <td>00:00:00.43</td>\n",
       "      <td>0.329017</td>\n",
       "      <td>block_admm</td>\n",
       "      <td>1.000000e-01</td>\n",
       "      <td>0.1</td>\n",
       "      <td>-1.111646</td>\n",
       "    </tr>\n",
       "    <tr>\n",
       "      <th>1</th>\n",
       "      <td>00:00:00.41</td>\n",
       "      <td>0.329017</td>\n",
       "      <td>block_admm</td>\n",
       "      <td>1.000000e-02</td>\n",
       "      <td>0.01</td>\n",
       "      <td>-1.111646</td>\n",
       "    </tr>\n",
       "    <tr>\n",
       "      <th>0</th>\n",
       "      <td>00:00:01.45</td>\n",
       "      <td>0.222359</td>\n",
       "      <td>kkt_admm</td>\n",
       "      <td>1.000000e-01</td>\n",
       "      <td>0.1</td>\n",
       "      <td>-1.503464</td>\n",
       "    </tr>\n",
       "    <tr>\n",
       "      <th>0</th>\n",
       "      <td>00:00:01.58</td>\n",
       "      <td>0.222359</td>\n",
       "      <td>kkt_block_admm</td>\n",
       "      <td>1.000000e-01</td>\n",
       "      <td>0.1</td>\n",
       "      <td>-1.503464</td>\n",
       "    </tr>\n",
       "    <tr>\n",
       "      <th>4</th>\n",
       "      <td>00:00:00.74</td>\n",
       "      <td>0.159649</td>\n",
       "      <td>block_admm</td>\n",
       "      <td>1.000000e-05</td>\n",
       "      <td>1e-05</td>\n",
       "      <td>-1.834781</td>\n",
       "    </tr>\n",
       "    <tr>\n",
       "      <th>4</th>\n",
       "      <td>00:00:00.92</td>\n",
       "      <td>0.159649</td>\n",
       "      <td>admm</td>\n",
       "      <td>1.000000e-05</td>\n",
       "      <td>1e-05</td>\n",
       "      <td>-1.834781</td>\n",
       "    </tr>\n",
       "    <tr>\n",
       "      <th>2</th>\n",
       "      <td>00:00:04.52</td>\n",
       "      <td>0.078428</td>\n",
       "      <td>regain</td>\n",
       "      <td>1.000000e-03</td>\n",
       "      <td>0.001</td>\n",
       "      <td>-2.545579</td>\n",
       "    </tr>\n",
       "    <tr>\n",
       "      <th>1</th>\n",
       "      <td>00:00:04.48</td>\n",
       "      <td>0.038702</td>\n",
       "      <td>kkt_admm</td>\n",
       "      <td>1.000000e-02</td>\n",
       "      <td>0.01</td>\n",
       "      <td>-3.251875</td>\n",
       "    </tr>\n",
       "    <tr>\n",
       "      <th>1</th>\n",
       "      <td>00:00:04.43</td>\n",
       "      <td>0.038702</td>\n",
       "      <td>kkt_block_admm</td>\n",
       "      <td>1.000000e-02</td>\n",
       "      <td>0.01</td>\n",
       "      <td>-3.251875</td>\n",
       "    </tr>\n",
       "    <tr>\n",
       "      <th>5</th>\n",
       "      <td>00:00:01.80</td>\n",
       "      <td>0.029772</td>\n",
       "      <td>block_admm</td>\n",
       "      <td>1.000000e-06</td>\n",
       "      <td>1e-06</td>\n",
       "      <td>-3.514179</td>\n",
       "    </tr>\n",
       "    <tr>\n",
       "      <th>5</th>\n",
       "      <td>00:00:02.30</td>\n",
       "      <td>0.029772</td>\n",
       "      <td>admm</td>\n",
       "      <td>1.000000e-06</td>\n",
       "      <td>1e-06</td>\n",
       "      <td>-3.514179</td>\n",
       "    </tr>\n",
       "    <tr>\n",
       "      <th>3</th>\n",
       "      <td>00:00:08.51</td>\n",
       "      <td>0.007218</td>\n",
       "      <td>regain</td>\n",
       "      <td>1.000000e-04</td>\n",
       "      <td>1e-04</td>\n",
       "      <td>-4.931139</td>\n",
       "    </tr>\n",
       "    <tr>\n",
       "      <th>6</th>\n",
       "      <td>00:00:03.39</td>\n",
       "      <td>0.004378</td>\n",
       "      <td>block_admm</td>\n",
       "      <td>1.000000e-07</td>\n",
       "      <td>1e-07</td>\n",
       "      <td>-5.431251</td>\n",
       "    </tr>\n",
       "    <tr>\n",
       "      <th>2</th>\n",
       "      <td>00:00:09.01</td>\n",
       "      <td>0.004378</td>\n",
       "      <td>kkt_block_admm</td>\n",
       "      <td>1.000000e-03</td>\n",
       "      <td>0.001</td>\n",
       "      <td>-5.431251</td>\n",
       "    </tr>\n",
       "    <tr>\n",
       "      <th>6</th>\n",
       "      <td>00:00:04.15</td>\n",
       "      <td>0.004378</td>\n",
       "      <td>admm</td>\n",
       "      <td>1.000000e-07</td>\n",
       "      <td>1e-07</td>\n",
       "      <td>-5.431251</td>\n",
       "    </tr>\n",
       "    <tr>\n",
       "      <th>2</th>\n",
       "      <td>00:00:09.14</td>\n",
       "      <td>0.004378</td>\n",
       "      <td>kkt_admm</td>\n",
       "      <td>1.000000e-03</td>\n",
       "      <td>0.001</td>\n",
       "      <td>-5.431251</td>\n",
       "    </tr>\n",
       "    <tr>\n",
       "      <th>0</th>\n",
       "      <td>00:00:08.96</td>\n",
       "      <td>0.002712</td>\n",
       "      <td>sklearn</td>\n",
       "      <td>1.000000e-01</td>\n",
       "      <td>0.1</td>\n",
       "      <td>-5.910039</td>\n",
       "    </tr>\n",
       "    <tr>\n",
       "      <th>4</th>\n",
       "      <td>00:00:12.66</td>\n",
       "      <td>0.000995</td>\n",
       "      <td>regain</td>\n",
       "      <td>1.000000e-05</td>\n",
       "      <td>1e-05</td>\n",
       "      <td>-6.912281</td>\n",
       "    </tr>\n",
       "    <tr>\n",
       "      <th>3</th>\n",
       "      <td>00:00:14.99</td>\n",
       "      <td>0.000772</td>\n",
       "      <td>kkt_admm</td>\n",
       "      <td>1.000000e-04</td>\n",
       "      <td>1e-04</td>\n",
       "      <td>-7.166873</td>\n",
       "    </tr>\n",
       "    <tr>\n",
       "      <th>3</th>\n",
       "      <td>00:00:14.20</td>\n",
       "      <td>0.000772</td>\n",
       "      <td>kkt_block_admm</td>\n",
       "      <td>1.000000e-04</td>\n",
       "      <td>1e-04</td>\n",
       "      <td>-7.166873</td>\n",
       "    </tr>\n",
       "    <tr>\n",
       "      <th>7</th>\n",
       "      <td>00:00:05.98</td>\n",
       "      <td>0.000677</td>\n",
       "      <td>block_admm</td>\n",
       "      <td>1.000000e-08</td>\n",
       "      <td>1e-08</td>\n",
       "      <td>-7.297110</td>\n",
       "    </tr>\n",
       "    <tr>\n",
       "      <th>7</th>\n",
       "      <td>00:00:06.85</td>\n",
       "      <td>0.000677</td>\n",
       "      <td>admm</td>\n",
       "      <td>1.000000e-08</td>\n",
       "      <td>1e-08</td>\n",
       "      <td>-7.297110</td>\n",
       "    </tr>\n",
       "    <tr>\n",
       "      <th>1</th>\n",
       "      <td>00:00:25.51</td>\n",
       "      <td>0.000355</td>\n",
       "      <td>sklearn</td>\n",
       "      <td>1.000000e-02</td>\n",
       "      <td>0.01</td>\n",
       "      <td>-7.942614</td>\n",
       "    </tr>\n",
       "    <tr>\n",
       "      <th>4</th>\n",
       "      <td>00:00:28.95</td>\n",
       "      <td>0.000198</td>\n",
       "      <td>kkt_admm</td>\n",
       "      <td>1.000000e-05</td>\n",
       "      <td>1e-05</td>\n",
       "      <td>-8.525403</td>\n",
       "    </tr>\n",
       "    <tr>\n",
       "      <th>4</th>\n",
       "      <td>00:00:21.77</td>\n",
       "      <td>0.000198</td>\n",
       "      <td>kkt_block_admm</td>\n",
       "      <td>1.000000e-05</td>\n",
       "      <td>1e-05</td>\n",
       "      <td>-8.525403</td>\n",
       "    </tr>\n",
       "    <tr>\n",
       "      <th>2</th>\n",
       "      <td>00:00:36.64</td>\n",
       "      <td>0.000136</td>\n",
       "      <td>sklearn</td>\n",
       "      <td>1.000000e-03</td>\n",
       "      <td>0.001</td>\n",
       "      <td>-8.906128</td>\n",
       "    </tr>\n",
       "    <tr>\n",
       "      <th>5</th>\n",
       "      <td>00:00:21.65</td>\n",
       "      <td>0.000133</td>\n",
       "      <td>kkt_admm</td>\n",
       "      <td>1.000000e-06</td>\n",
       "      <td>1e-06</td>\n",
       "      <td>-8.923437</td>\n",
       "    </tr>\n",
       "    <tr>\n",
       "      <th>5</th>\n",
       "      <td>00:00:29.01</td>\n",
       "      <td>0.000133</td>\n",
       "      <td>kkt_block_admm</td>\n",
       "      <td>1.000000e-06</td>\n",
       "      <td>1e-06</td>\n",
       "      <td>-8.923437</td>\n",
       "    </tr>\n",
       "    <tr>\n",
       "      <th>6</th>\n",
       "      <td>00:00:29.13</td>\n",
       "      <td>0.000126</td>\n",
       "      <td>kkt_admm</td>\n",
       "      <td>1.000000e-07</td>\n",
       "      <td>1e-07</td>\n",
       "      <td>-8.977857</td>\n",
       "    </tr>\n",
       "    <tr>\n",
       "      <th>6</th>\n",
       "      <td>00:00:39.71</td>\n",
       "      <td>0.000126</td>\n",
       "      <td>kkt_block_admm</td>\n",
       "      <td>1.000000e-07</td>\n",
       "      <td>1e-07</td>\n",
       "      <td>-8.977857</td>\n",
       "    </tr>\n",
       "    <tr>\n",
       "      <th>3</th>\n",
       "      <td>00:00:44.69</td>\n",
       "      <td>0.000126</td>\n",
       "      <td>sklearn</td>\n",
       "      <td>1.000000e-04</td>\n",
       "      <td>1e-04</td>\n",
       "      <td>-8.981124</td>\n",
       "    </tr>\n",
       "    <tr>\n",
       "      <th>7</th>\n",
       "      <td>00:00:41.45</td>\n",
       "      <td>0.000126</td>\n",
       "      <td>kkt_block_admm</td>\n",
       "      <td>1.000000e-08</td>\n",
       "      <td>1e-08</td>\n",
       "      <td>-8.983092</td>\n",
       "    </tr>\n",
       "    <tr>\n",
       "      <th>7</th>\n",
       "      <td>00:00:34.62</td>\n",
       "      <td>0.000126</td>\n",
       "      <td>kkt_admm</td>\n",
       "      <td>1.000000e-08</td>\n",
       "      <td>1e-08</td>\n",
       "      <td>-8.983092</td>\n",
       "    </tr>\n",
       "    <tr>\n",
       "      <th>7</th>\n",
       "      <td>00:02:16.31</td>\n",
       "      <td>0.000125</td>\n",
       "      <td>sklearn</td>\n",
       "      <td>1.000000e-08</td>\n",
       "      <td>1e-08</td>\n",
       "      <td>-8.983633</td>\n",
       "    </tr>\n",
       "    <tr>\n",
       "      <th>6</th>\n",
       "      <td>00:01:27.88</td>\n",
       "      <td>0.000125</td>\n",
       "      <td>sklearn</td>\n",
       "      <td>1.000000e-07</td>\n",
       "      <td>1e-07</td>\n",
       "      <td>-8.983634</td>\n",
       "    </tr>\n",
       "    <tr>\n",
       "      <th>4</th>\n",
       "      <td>00:00:53.01</td>\n",
       "      <td>0.000125</td>\n",
       "      <td>sklearn</td>\n",
       "      <td>1.000000e-05</td>\n",
       "      <td>1e-05</td>\n",
       "      <td>-8.984194</td>\n",
       "    </tr>\n",
       "    <tr>\n",
       "      <th>5</th>\n",
       "      <td>00:00:50.46</td>\n",
       "      <td>0.000125</td>\n",
       "      <td>sklearn</td>\n",
       "      <td>1.000000e-06</td>\n",
       "      <td>1e-06</td>\n",
       "      <td>-8.984379</td>\n",
       "    </tr>\n",
       "    <tr>\n",
       "      <th>7</th>\n",
       "      <td>00:00:24.52</td>\n",
       "      <td>0.000124</td>\n",
       "      <td>regain</td>\n",
       "      <td>1.000000e-08</td>\n",
       "      <td>1e-08</td>\n",
       "      <td>-8.995181</td>\n",
       "    </tr>\n",
       "    <tr>\n",
       "      <th>6</th>\n",
       "      <td>00:00:20.23</td>\n",
       "      <td>0.000110</td>\n",
       "      <td>regain</td>\n",
       "      <td>1.000000e-07</td>\n",
       "      <td>1e-07</td>\n",
       "      <td>-9.114768</td>\n",
       "    </tr>\n",
       "    <tr>\n",
       "      <th>5</th>\n",
       "      <td>00:00:17.34</td>\n",
       "      <td>0.000019</td>\n",
       "      <td>regain</td>\n",
       "      <td>1.000000e-06</td>\n",
       "      <td>1e-06</td>\n",
       "      <td>-10.875115</td>\n",
       "    </tr>\n",
       "  </tbody>\n",
       "</table>\n",
       "</div>"
      ],
      "text/plain": [
       "          time  distance          method      tol_rate str_tol  log_distance\n",
       "0  00:00:00.67  0.784532          regain  1.000000e-01     0.1     -0.242668\n",
       "1  00:00:00.96  0.662685          regain  1.000000e-02    0.01     -0.411456\n",
       "3  00:00:00.40  0.329017      block_admm  1.000000e-04   1e-04     -1.111646\n",
       "2  00:00:00.40  0.329017      block_admm  1.000000e-03   0.001     -1.111646\n",
       "3  00:00:00.33  0.329017            admm  1.000000e-04   1e-04     -1.111646\n",
       "2  00:00:00.45  0.329017            admm  1.000000e-03   0.001     -1.111646\n",
       "1  00:00:00.47  0.329017            admm  1.000000e-02    0.01     -1.111646\n",
       "0  00:00:00.48  0.329017            admm  1.000000e-01     0.1     -1.111646\n",
       "0  00:00:00.43  0.329017      block_admm  1.000000e-01     0.1     -1.111646\n",
       "1  00:00:00.41  0.329017      block_admm  1.000000e-02    0.01     -1.111646\n",
       "0  00:00:01.45  0.222359        kkt_admm  1.000000e-01     0.1     -1.503464\n",
       "0  00:00:01.58  0.222359  kkt_block_admm  1.000000e-01     0.1     -1.503464\n",
       "4  00:00:00.74  0.159649      block_admm  1.000000e-05   1e-05     -1.834781\n",
       "4  00:00:00.92  0.159649            admm  1.000000e-05   1e-05     -1.834781\n",
       "2  00:00:04.52  0.078428          regain  1.000000e-03   0.001     -2.545579\n",
       "1  00:00:04.48  0.038702        kkt_admm  1.000000e-02    0.01     -3.251875\n",
       "1  00:00:04.43  0.038702  kkt_block_admm  1.000000e-02    0.01     -3.251875\n",
       "5  00:00:01.80  0.029772      block_admm  1.000000e-06   1e-06     -3.514179\n",
       "5  00:00:02.30  0.029772            admm  1.000000e-06   1e-06     -3.514179\n",
       "3  00:00:08.51  0.007218          regain  1.000000e-04   1e-04     -4.931139\n",
       "6  00:00:03.39  0.004378      block_admm  1.000000e-07   1e-07     -5.431251\n",
       "2  00:00:09.01  0.004378  kkt_block_admm  1.000000e-03   0.001     -5.431251\n",
       "6  00:00:04.15  0.004378            admm  1.000000e-07   1e-07     -5.431251\n",
       "2  00:00:09.14  0.004378        kkt_admm  1.000000e-03   0.001     -5.431251\n",
       "0  00:00:08.96  0.002712         sklearn  1.000000e-01     0.1     -5.910039\n",
       "4  00:00:12.66  0.000995          regain  1.000000e-05   1e-05     -6.912281\n",
       "3  00:00:14.99  0.000772        kkt_admm  1.000000e-04   1e-04     -7.166873\n",
       "3  00:00:14.20  0.000772  kkt_block_admm  1.000000e-04   1e-04     -7.166873\n",
       "7  00:00:05.98  0.000677      block_admm  1.000000e-08   1e-08     -7.297110\n",
       "7  00:00:06.85  0.000677            admm  1.000000e-08   1e-08     -7.297110\n",
       "1  00:00:25.51  0.000355         sklearn  1.000000e-02    0.01     -7.942614\n",
       "4  00:00:28.95  0.000198        kkt_admm  1.000000e-05   1e-05     -8.525403\n",
       "4  00:00:21.77  0.000198  kkt_block_admm  1.000000e-05   1e-05     -8.525403\n",
       "2  00:00:36.64  0.000136         sklearn  1.000000e-03   0.001     -8.906128\n",
       "5  00:00:21.65  0.000133        kkt_admm  1.000000e-06   1e-06     -8.923437\n",
       "5  00:00:29.01  0.000133  kkt_block_admm  1.000000e-06   1e-06     -8.923437\n",
       "6  00:00:29.13  0.000126        kkt_admm  1.000000e-07   1e-07     -8.977857\n",
       "6  00:00:39.71  0.000126  kkt_block_admm  1.000000e-07   1e-07     -8.977857\n",
       "3  00:00:44.69  0.000126         sklearn  1.000000e-04   1e-04     -8.981124\n",
       "7  00:00:41.45  0.000126  kkt_block_admm  1.000000e-08   1e-08     -8.983092\n",
       "7  00:00:34.62  0.000126        kkt_admm  1.000000e-08   1e-08     -8.983092\n",
       "7  00:02:16.31  0.000125         sklearn  1.000000e-08   1e-08     -8.983633\n",
       "6  00:01:27.88  0.000125         sklearn  1.000000e-07   1e-07     -8.983634\n",
       "4  00:00:53.01  0.000125         sklearn  1.000000e-05   1e-05     -8.984194\n",
       "5  00:00:50.46  0.000125         sklearn  1.000000e-06   1e-06     -8.984379\n",
       "7  00:00:24.52  0.000124          regain  1.000000e-08   1e-08     -8.995181\n",
       "6  00:00:20.23  0.000110          regain  1.000000e-07   1e-07     -9.114768\n",
       "5  00:00:17.34  0.000019          regain  1.000000e-06   1e-06    -10.875115"
      ]
     },
     "execution_count": 231,
     "metadata": {},
     "output_type": "execute_result"
    }
   ],
   "source": [
    "df.sort_values(by=['log_distance'], ascending = False)"
   ]
  },
  {
   "cell_type": "markdown",
   "id": "classified-patrick",
   "metadata": {},
   "source": [
    "## Tolerance plot"
   ]
  },
  {
   "cell_type": "code",
   "execution_count": 232,
   "id": "portuguese-munich",
   "metadata": {},
   "outputs": [
    {
     "data": {
      "application/vnd.plotly.v1+json": {
       "config": {
        "plotlyServerURL": "https://plot.ly"
       },
       "data": [
        {
         "hovertemplate": "method=sklearn<br>Tolerance rate=%{x}<br>Log_distance=%{y}<extra></extra>",
         "legendgroup": "sklearn",
         "line": {
          "color": "#636efa",
          "dash": "solid"
         },
         "mode": "lines",
         "name": "sklearn",
         "orientation": "v",
         "showlegend": true,
         "type": "scatter",
         "x": [
          "0.1",
          "0.01",
          "0.001",
          "1e-04",
          "1e-05",
          "1e-06",
          "1e-07",
          "1e-08"
         ],
         "xaxis": "x",
         "y": [
          0.0027120806785523094,
          0.0003552766870775386,
          0.00013555567963602786,
          0.00012576143683398227,
          0.00012537587650967354,
          0.00012535274328625285,
          0.00012544613933326994,
          0.0001254462717687887
         ],
         "yaxis": "y"
        },
        {
         "hovertemplate": "method=regain<br>Tolerance rate=%{x}<br>Log_distance=%{y}<extra></extra>",
         "legendgroup": "regain",
         "line": {
          "color": "#EF553B",
          "dash": "solid"
         },
         "mode": "lines",
         "name": "regain",
         "orientation": "v",
         "showlegend": true,
         "type": "scatter",
         "x": [
          "0.1",
          "0.01",
          "0.001",
          "1e-04",
          "1e-05",
          "1e-06",
          "1e-07",
          "1e-08"
         ],
         "xaxis": "x",
         "y": [
          0.7845322670802309,
          0.6626845695736481,
          0.0784276008197344,
          0.007218277973182216,
          0.0009954842375765383,
          1.892332752558683e-05,
          0.00011002884961545035,
          0.00012400600871735251
         ],
         "yaxis": "y"
        },
        {
         "hovertemplate": "method=admm<br>Tolerance rate=%{x}<br>Log_distance=%{y}<extra></extra>",
         "legendgroup": "admm",
         "line": {
          "color": "#00cc96",
          "dash": "solid"
         },
         "mode": "lines",
         "name": "admm",
         "orientation": "v",
         "showlegend": true,
         "type": "scatter",
         "x": [
          "0.1",
          "0.01",
          "0.001",
          "1e-04",
          "1e-05",
          "1e-06",
          "1e-07",
          "1e-08"
         ],
         "xaxis": "x",
         "y": [
          0.32901693654662434,
          0.32901693654662434,
          0.32901693654662434,
          0.32901693654662434,
          0.1596485098260404,
          0.029772240288387344,
          0.004377613844627511,
          0.0006774937597474682
         ],
         "yaxis": "y"
        },
        {
         "hovertemplate": "method=kkt_admm<br>Tolerance rate=%{x}<br>Log_distance=%{y}<extra></extra>",
         "legendgroup": "kkt_admm",
         "line": {
          "color": "#ab63fa",
          "dash": "solid"
         },
         "mode": "lines",
         "name": "kkt_admm",
         "orientation": "v",
         "showlegend": true,
         "type": "scatter",
         "x": [
          "0.1",
          "0.01",
          "0.001",
          "1e-04",
          "1e-05",
          "1e-06",
          "1e-07",
          "1e-08"
         ],
         "xaxis": "x",
         "y": [
          0.22235855094630483,
          0.03870157769646381,
          0.004377613844627511,
          0.0007717318720372011,
          0.0001983647873424435,
          0.00013322951167576088,
          0.0001261729464249634,
          0.00012551416991886464
         ],
         "yaxis": "y"
        },
        {
         "hovertemplate": "method=block_admm<br>Tolerance rate=%{x}<br>Log_distance=%{y}<extra></extra>",
         "legendgroup": "block_admm",
         "line": {
          "color": "#FFA15A",
          "dash": "solid"
         },
         "mode": "lines",
         "name": "block_admm",
         "orientation": "v",
         "showlegend": true,
         "type": "scatter",
         "x": [
          "0.1",
          "0.01",
          "0.001",
          "1e-04",
          "1e-05",
          "1e-06",
          "1e-07",
          "1e-08"
         ],
         "xaxis": "x",
         "y": [
          0.32901693654662434,
          0.32901693654662434,
          0.32901693654662434,
          0.32901693654662434,
          0.1596485098260404,
          0.029772240288387344,
          0.004377613844627511,
          0.0006774937597474682
         ],
         "yaxis": "y"
        },
        {
         "hovertemplate": "method=kkt_block_admm<br>Tolerance rate=%{x}<br>Log_distance=%{y}<extra></extra>",
         "legendgroup": "kkt_block_admm",
         "line": {
          "color": "#19d3f3",
          "dash": "solid"
         },
         "mode": "lines",
         "name": "kkt_block_admm",
         "orientation": "v",
         "showlegend": true,
         "type": "scatter",
         "x": [
          "0.1",
          "0.01",
          "0.001",
          "1e-04",
          "1e-05",
          "1e-06",
          "1e-07",
          "1e-08"
         ],
         "xaxis": "x",
         "y": [
          0.22235855094630483,
          0.03870157769646381,
          0.004377613844627511,
          0.0007717318720372011,
          0.0001983647873424435,
          0.00013322951167576088,
          0.0001261729464249634,
          0.00012551416991886464
         ],
         "yaxis": "y"
        }
       ],
       "layout": {
        "legend": {
         "title": {
          "text": "method"
         },
         "tracegroupgap": 0
        },
        "template": {
         "data": {
          "bar": [
           {
            "error_x": {
             "color": "#2a3f5f"
            },
            "error_y": {
             "color": "#2a3f5f"
            },
            "marker": {
             "line": {
              "color": "white",
              "width": 0.5
             }
            },
            "type": "bar"
           }
          ],
          "barpolar": [
           {
            "marker": {
             "line": {
              "color": "white",
              "width": 0.5
             }
            },
            "type": "barpolar"
           }
          ],
          "carpet": [
           {
            "aaxis": {
             "endlinecolor": "#2a3f5f",
             "gridcolor": "#C8D4E3",
             "linecolor": "#C8D4E3",
             "minorgridcolor": "#C8D4E3",
             "startlinecolor": "#2a3f5f"
            },
            "baxis": {
             "endlinecolor": "#2a3f5f",
             "gridcolor": "#C8D4E3",
             "linecolor": "#C8D4E3",
             "minorgridcolor": "#C8D4E3",
             "startlinecolor": "#2a3f5f"
            },
            "type": "carpet"
           }
          ],
          "choropleth": [
           {
            "colorbar": {
             "outlinewidth": 0,
             "ticks": ""
            },
            "type": "choropleth"
           }
          ],
          "contour": [
           {
            "colorbar": {
             "outlinewidth": 0,
             "ticks": ""
            },
            "colorscale": [
             [
              0,
              "#0d0887"
             ],
             [
              0.1111111111111111,
              "#46039f"
             ],
             [
              0.2222222222222222,
              "#7201a8"
             ],
             [
              0.3333333333333333,
              "#9c179e"
             ],
             [
              0.4444444444444444,
              "#bd3786"
             ],
             [
              0.5555555555555556,
              "#d8576b"
             ],
             [
              0.6666666666666666,
              "#ed7953"
             ],
             [
              0.7777777777777778,
              "#fb9f3a"
             ],
             [
              0.8888888888888888,
              "#fdca26"
             ],
             [
              1,
              "#f0f921"
             ]
            ],
            "type": "contour"
           }
          ],
          "contourcarpet": [
           {
            "colorbar": {
             "outlinewidth": 0,
             "ticks": ""
            },
            "type": "contourcarpet"
           }
          ],
          "heatmap": [
           {
            "colorbar": {
             "outlinewidth": 0,
             "ticks": ""
            },
            "colorscale": [
             [
              0,
              "#0d0887"
             ],
             [
              0.1111111111111111,
              "#46039f"
             ],
             [
              0.2222222222222222,
              "#7201a8"
             ],
             [
              0.3333333333333333,
              "#9c179e"
             ],
             [
              0.4444444444444444,
              "#bd3786"
             ],
             [
              0.5555555555555556,
              "#d8576b"
             ],
             [
              0.6666666666666666,
              "#ed7953"
             ],
             [
              0.7777777777777778,
              "#fb9f3a"
             ],
             [
              0.8888888888888888,
              "#fdca26"
             ],
             [
              1,
              "#f0f921"
             ]
            ],
            "type": "heatmap"
           }
          ],
          "heatmapgl": [
           {
            "colorbar": {
             "outlinewidth": 0,
             "ticks": ""
            },
            "colorscale": [
             [
              0,
              "#0d0887"
             ],
             [
              0.1111111111111111,
              "#46039f"
             ],
             [
              0.2222222222222222,
              "#7201a8"
             ],
             [
              0.3333333333333333,
              "#9c179e"
             ],
             [
              0.4444444444444444,
              "#bd3786"
             ],
             [
              0.5555555555555556,
              "#d8576b"
             ],
             [
              0.6666666666666666,
              "#ed7953"
             ],
             [
              0.7777777777777778,
              "#fb9f3a"
             ],
             [
              0.8888888888888888,
              "#fdca26"
             ],
             [
              1,
              "#f0f921"
             ]
            ],
            "type": "heatmapgl"
           }
          ],
          "histogram": [
           {
            "marker": {
             "colorbar": {
              "outlinewidth": 0,
              "ticks": ""
             }
            },
            "type": "histogram"
           }
          ],
          "histogram2d": [
           {
            "colorbar": {
             "outlinewidth": 0,
             "ticks": ""
            },
            "colorscale": [
             [
              0,
              "#0d0887"
             ],
             [
              0.1111111111111111,
              "#46039f"
             ],
             [
              0.2222222222222222,
              "#7201a8"
             ],
             [
              0.3333333333333333,
              "#9c179e"
             ],
             [
              0.4444444444444444,
              "#bd3786"
             ],
             [
              0.5555555555555556,
              "#d8576b"
             ],
             [
              0.6666666666666666,
              "#ed7953"
             ],
             [
              0.7777777777777778,
              "#fb9f3a"
             ],
             [
              0.8888888888888888,
              "#fdca26"
             ],
             [
              1,
              "#f0f921"
             ]
            ],
            "type": "histogram2d"
           }
          ],
          "histogram2dcontour": [
           {
            "colorbar": {
             "outlinewidth": 0,
             "ticks": ""
            },
            "colorscale": [
             [
              0,
              "#0d0887"
             ],
             [
              0.1111111111111111,
              "#46039f"
             ],
             [
              0.2222222222222222,
              "#7201a8"
             ],
             [
              0.3333333333333333,
              "#9c179e"
             ],
             [
              0.4444444444444444,
              "#bd3786"
             ],
             [
              0.5555555555555556,
              "#d8576b"
             ],
             [
              0.6666666666666666,
              "#ed7953"
             ],
             [
              0.7777777777777778,
              "#fb9f3a"
             ],
             [
              0.8888888888888888,
              "#fdca26"
             ],
             [
              1,
              "#f0f921"
             ]
            ],
            "type": "histogram2dcontour"
           }
          ],
          "mesh3d": [
           {
            "colorbar": {
             "outlinewidth": 0,
             "ticks": ""
            },
            "type": "mesh3d"
           }
          ],
          "parcoords": [
           {
            "line": {
             "colorbar": {
              "outlinewidth": 0,
              "ticks": ""
             }
            },
            "type": "parcoords"
           }
          ],
          "pie": [
           {
            "automargin": true,
            "type": "pie"
           }
          ],
          "scatter": [
           {
            "marker": {
             "colorbar": {
              "outlinewidth": 0,
              "ticks": ""
             }
            },
            "type": "scatter"
           }
          ],
          "scatter3d": [
           {
            "line": {
             "colorbar": {
              "outlinewidth": 0,
              "ticks": ""
             }
            },
            "marker": {
             "colorbar": {
              "outlinewidth": 0,
              "ticks": ""
             }
            },
            "type": "scatter3d"
           }
          ],
          "scattercarpet": [
           {
            "marker": {
             "colorbar": {
              "outlinewidth": 0,
              "ticks": ""
             }
            },
            "type": "scattercarpet"
           }
          ],
          "scattergeo": [
           {
            "marker": {
             "colorbar": {
              "outlinewidth": 0,
              "ticks": ""
             }
            },
            "type": "scattergeo"
           }
          ],
          "scattergl": [
           {
            "marker": {
             "colorbar": {
              "outlinewidth": 0,
              "ticks": ""
             }
            },
            "type": "scattergl"
           }
          ],
          "scattermapbox": [
           {
            "marker": {
             "colorbar": {
              "outlinewidth": 0,
              "ticks": ""
             }
            },
            "type": "scattermapbox"
           }
          ],
          "scatterpolar": [
           {
            "marker": {
             "colorbar": {
              "outlinewidth": 0,
              "ticks": ""
             }
            },
            "type": "scatterpolar"
           }
          ],
          "scatterpolargl": [
           {
            "marker": {
             "colorbar": {
              "outlinewidth": 0,
              "ticks": ""
             }
            },
            "type": "scatterpolargl"
           }
          ],
          "scatterternary": [
           {
            "marker": {
             "colorbar": {
              "outlinewidth": 0,
              "ticks": ""
             }
            },
            "type": "scatterternary"
           }
          ],
          "surface": [
           {
            "colorbar": {
             "outlinewidth": 0,
             "ticks": ""
            },
            "colorscale": [
             [
              0,
              "#0d0887"
             ],
             [
              0.1111111111111111,
              "#46039f"
             ],
             [
              0.2222222222222222,
              "#7201a8"
             ],
             [
              0.3333333333333333,
              "#9c179e"
             ],
             [
              0.4444444444444444,
              "#bd3786"
             ],
             [
              0.5555555555555556,
              "#d8576b"
             ],
             [
              0.6666666666666666,
              "#ed7953"
             ],
             [
              0.7777777777777778,
              "#fb9f3a"
             ],
             [
              0.8888888888888888,
              "#fdca26"
             ],
             [
              1,
              "#f0f921"
             ]
            ],
            "type": "surface"
           }
          ],
          "table": [
           {
            "cells": {
             "fill": {
              "color": "#EBF0F8"
             },
             "line": {
              "color": "white"
             }
            },
            "header": {
             "fill": {
              "color": "#C8D4E3"
             },
             "line": {
              "color": "white"
             }
            },
            "type": "table"
           }
          ]
         },
         "layout": {
          "annotationdefaults": {
           "arrowcolor": "#2a3f5f",
           "arrowhead": 0,
           "arrowwidth": 1
          },
          "autotypenumbers": "strict",
          "coloraxis": {
           "colorbar": {
            "outlinewidth": 0,
            "ticks": ""
           }
          },
          "colorscale": {
           "diverging": [
            [
             0,
             "#8e0152"
            ],
            [
             0.1,
             "#c51b7d"
            ],
            [
             0.2,
             "#de77ae"
            ],
            [
             0.3,
             "#f1b6da"
            ],
            [
             0.4,
             "#fde0ef"
            ],
            [
             0.5,
             "#f7f7f7"
            ],
            [
             0.6,
             "#e6f5d0"
            ],
            [
             0.7,
             "#b8e186"
            ],
            [
             0.8,
             "#7fbc41"
            ],
            [
             0.9,
             "#4d9221"
            ],
            [
             1,
             "#276419"
            ]
           ],
           "sequential": [
            [
             0,
             "#0d0887"
            ],
            [
             0.1111111111111111,
             "#46039f"
            ],
            [
             0.2222222222222222,
             "#7201a8"
            ],
            [
             0.3333333333333333,
             "#9c179e"
            ],
            [
             0.4444444444444444,
             "#bd3786"
            ],
            [
             0.5555555555555556,
             "#d8576b"
            ],
            [
             0.6666666666666666,
             "#ed7953"
            ],
            [
             0.7777777777777778,
             "#fb9f3a"
            ],
            [
             0.8888888888888888,
             "#fdca26"
            ],
            [
             1,
             "#f0f921"
            ]
           ],
           "sequentialminus": [
            [
             0,
             "#0d0887"
            ],
            [
             0.1111111111111111,
             "#46039f"
            ],
            [
             0.2222222222222222,
             "#7201a8"
            ],
            [
             0.3333333333333333,
             "#9c179e"
            ],
            [
             0.4444444444444444,
             "#bd3786"
            ],
            [
             0.5555555555555556,
             "#d8576b"
            ],
            [
             0.6666666666666666,
             "#ed7953"
            ],
            [
             0.7777777777777778,
             "#fb9f3a"
            ],
            [
             0.8888888888888888,
             "#fdca26"
            ],
            [
             1,
             "#f0f921"
            ]
           ]
          },
          "colorway": [
           "#636efa",
           "#EF553B",
           "#00cc96",
           "#ab63fa",
           "#FFA15A",
           "#19d3f3",
           "#FF6692",
           "#B6E880",
           "#FF97FF",
           "#FECB52"
          ],
          "font": {
           "color": "#2a3f5f"
          },
          "geo": {
           "bgcolor": "white",
           "lakecolor": "white",
           "landcolor": "white",
           "showlakes": true,
           "showland": true,
           "subunitcolor": "#C8D4E3"
          },
          "hoverlabel": {
           "align": "left"
          },
          "hovermode": "closest",
          "mapbox": {
           "style": "light"
          },
          "paper_bgcolor": "white",
          "plot_bgcolor": "white",
          "polar": {
           "angularaxis": {
            "gridcolor": "#EBF0F8",
            "linecolor": "#EBF0F8",
            "ticks": ""
           },
           "bgcolor": "white",
           "radialaxis": {
            "gridcolor": "#EBF0F8",
            "linecolor": "#EBF0F8",
            "ticks": ""
           }
          },
          "scene": {
           "xaxis": {
            "backgroundcolor": "white",
            "gridcolor": "#DFE8F3",
            "gridwidth": 2,
            "linecolor": "#EBF0F8",
            "showbackground": true,
            "ticks": "",
            "zerolinecolor": "#EBF0F8"
           },
           "yaxis": {
            "backgroundcolor": "white",
            "gridcolor": "#DFE8F3",
            "gridwidth": 2,
            "linecolor": "#EBF0F8",
            "showbackground": true,
            "ticks": "",
            "zerolinecolor": "#EBF0F8"
           },
           "zaxis": {
            "backgroundcolor": "white",
            "gridcolor": "#DFE8F3",
            "gridwidth": 2,
            "linecolor": "#EBF0F8",
            "showbackground": true,
            "ticks": "",
            "zerolinecolor": "#EBF0F8"
           }
          },
          "shapedefaults": {
           "line": {
            "color": "#2a3f5f"
           }
          },
          "ternary": {
           "aaxis": {
            "gridcolor": "#DFE8F3",
            "linecolor": "#A2B1C6",
            "ticks": ""
           },
           "baxis": {
            "gridcolor": "#DFE8F3",
            "linecolor": "#A2B1C6",
            "ticks": ""
           },
           "bgcolor": "white",
           "caxis": {
            "gridcolor": "#DFE8F3",
            "linecolor": "#A2B1C6",
            "ticks": ""
           }
          },
          "title": {
           "x": 0.05
          },
          "xaxis": {
           "automargin": true,
           "gridcolor": "#EBF0F8",
           "linecolor": "#EBF0F8",
           "ticks": "",
           "title": {
            "standoff": 15
           },
           "zerolinecolor": "#EBF0F8",
           "zerolinewidth": 2
          },
          "yaxis": {
           "automargin": true,
           "gridcolor": "#EBF0F8",
           "linecolor": "#EBF0F8",
           "ticks": "",
           "title": {
            "standoff": 15
           },
           "zerolinecolor": "#EBF0F8",
           "zerolinewidth": 2
          }
         }
        },
        "title": {
         "text": "Log-distance between Z and Z' with respect to ADMM convergence rates"
        },
        "xaxis": {
         "anchor": "y",
         "domain": [
          0,
          1
         ],
         "title": {
          "text": "Tolerance rate"
         }
        },
        "yaxis": {
         "anchor": "x",
         "domain": [
          0,
          1
         ],
         "title": {
          "text": "Log_distance"
         },
         "type": "log"
        }
       }
      },
      "text/html": [
       "<div>                            <div id=\"c7643314-9f76-48a2-9bb9-e1042d516803\" class=\"plotly-graph-div\" style=\"height:525px; width:100%;\"></div>            <script type=\"text/javascript\">                require([\"plotly\"], function(Plotly) {                    window.PLOTLYENV=window.PLOTLYENV || {};                                    if (document.getElementById(\"c7643314-9f76-48a2-9bb9-e1042d516803\")) {                    Plotly.newPlot(                        \"c7643314-9f76-48a2-9bb9-e1042d516803\",                        [{\"hovertemplate\": \"method=sklearn<br>Tolerance rate=%{x}<br>Log_distance=%{y}<extra></extra>\", \"legendgroup\": \"sklearn\", \"line\": {\"color\": \"#636efa\", \"dash\": \"solid\"}, \"mode\": \"lines\", \"name\": \"sklearn\", \"orientation\": \"v\", \"showlegend\": true, \"type\": \"scatter\", \"x\": [\"0.1\", \"0.01\", \"0.001\", \"1e-04\", \"1e-05\", \"1e-06\", \"1e-07\", \"1e-08\"], \"xaxis\": \"x\", \"y\": [0.0027120806785523094, 0.0003552766870775386, 0.00013555567963602786, 0.00012576143683398227, 0.00012537587650967354, 0.00012535274328625285, 0.00012544613933326994, 0.0001254462717687887], \"yaxis\": \"y\"}, {\"hovertemplate\": \"method=regain<br>Tolerance rate=%{x}<br>Log_distance=%{y}<extra></extra>\", \"legendgroup\": \"regain\", \"line\": {\"color\": \"#EF553B\", \"dash\": \"solid\"}, \"mode\": \"lines\", \"name\": \"regain\", \"orientation\": \"v\", \"showlegend\": true, \"type\": \"scatter\", \"x\": [\"0.1\", \"0.01\", \"0.001\", \"1e-04\", \"1e-05\", \"1e-06\", \"1e-07\", \"1e-08\"], \"xaxis\": \"x\", \"y\": [0.7845322670802309, 0.6626845695736481, 0.0784276008197344, 0.007218277973182216, 0.0009954842375765383, 1.892332752558683e-05, 0.00011002884961545035, 0.00012400600871735251], \"yaxis\": \"y\"}, {\"hovertemplate\": \"method=admm<br>Tolerance rate=%{x}<br>Log_distance=%{y}<extra></extra>\", \"legendgroup\": \"admm\", \"line\": {\"color\": \"#00cc96\", \"dash\": \"solid\"}, \"mode\": \"lines\", \"name\": \"admm\", \"orientation\": \"v\", \"showlegend\": true, \"type\": \"scatter\", \"x\": [\"0.1\", \"0.01\", \"0.001\", \"1e-04\", \"1e-05\", \"1e-06\", \"1e-07\", \"1e-08\"], \"xaxis\": \"x\", \"y\": [0.32901693654662434, 0.32901693654662434, 0.32901693654662434, 0.32901693654662434, 0.1596485098260404, 0.029772240288387344, 0.004377613844627511, 0.0006774937597474682], \"yaxis\": \"y\"}, {\"hovertemplate\": \"method=kkt_admm<br>Tolerance rate=%{x}<br>Log_distance=%{y}<extra></extra>\", \"legendgroup\": \"kkt_admm\", \"line\": {\"color\": \"#ab63fa\", \"dash\": \"solid\"}, \"mode\": \"lines\", \"name\": \"kkt_admm\", \"orientation\": \"v\", \"showlegend\": true, \"type\": \"scatter\", \"x\": [\"0.1\", \"0.01\", \"0.001\", \"1e-04\", \"1e-05\", \"1e-06\", \"1e-07\", \"1e-08\"], \"xaxis\": \"x\", \"y\": [0.22235855094630483, 0.03870157769646381, 0.004377613844627511, 0.0007717318720372011, 0.0001983647873424435, 0.00013322951167576088, 0.0001261729464249634, 0.00012551416991886464], \"yaxis\": \"y\"}, {\"hovertemplate\": \"method=block_admm<br>Tolerance rate=%{x}<br>Log_distance=%{y}<extra></extra>\", \"legendgroup\": \"block_admm\", \"line\": {\"color\": \"#FFA15A\", \"dash\": \"solid\"}, \"mode\": \"lines\", \"name\": \"block_admm\", \"orientation\": \"v\", \"showlegend\": true, \"type\": \"scatter\", \"x\": [\"0.1\", \"0.01\", \"0.001\", \"1e-04\", \"1e-05\", \"1e-06\", \"1e-07\", \"1e-08\"], \"xaxis\": \"x\", \"y\": [0.32901693654662434, 0.32901693654662434, 0.32901693654662434, 0.32901693654662434, 0.1596485098260404, 0.029772240288387344, 0.004377613844627511, 0.0006774937597474682], \"yaxis\": \"y\"}, {\"hovertemplate\": \"method=kkt_block_admm<br>Tolerance rate=%{x}<br>Log_distance=%{y}<extra></extra>\", \"legendgroup\": \"kkt_block_admm\", \"line\": {\"color\": \"#19d3f3\", \"dash\": \"solid\"}, \"mode\": \"lines\", \"name\": \"kkt_block_admm\", \"orientation\": \"v\", \"showlegend\": true, \"type\": \"scatter\", \"x\": [\"0.1\", \"0.01\", \"0.001\", \"1e-04\", \"1e-05\", \"1e-06\", \"1e-07\", \"1e-08\"], \"xaxis\": \"x\", \"y\": [0.22235855094630483, 0.03870157769646381, 0.004377613844627511, 0.0007717318720372011, 0.0001983647873424435, 0.00013322951167576088, 0.0001261729464249634, 0.00012551416991886464], \"yaxis\": \"y\"}],                        {\"legend\": {\"title\": {\"text\": \"method\"}, \"tracegroupgap\": 0}, \"template\": {\"data\": {\"bar\": [{\"error_x\": {\"color\": \"#2a3f5f\"}, \"error_y\": {\"color\": \"#2a3f5f\"}, \"marker\": {\"line\": {\"color\": \"white\", \"width\": 0.5}}, \"type\": \"bar\"}], \"barpolar\": [{\"marker\": {\"line\": {\"color\": \"white\", \"width\": 0.5}}, \"type\": \"barpolar\"}], \"carpet\": [{\"aaxis\": {\"endlinecolor\": \"#2a3f5f\", \"gridcolor\": \"#C8D4E3\", \"linecolor\": \"#C8D4E3\", \"minorgridcolor\": \"#C8D4E3\", \"startlinecolor\": \"#2a3f5f\"}, \"baxis\": {\"endlinecolor\": \"#2a3f5f\", \"gridcolor\": \"#C8D4E3\", \"linecolor\": \"#C8D4E3\", \"minorgridcolor\": \"#C8D4E3\", \"startlinecolor\": \"#2a3f5f\"}, \"type\": \"carpet\"}], \"choropleth\": [{\"colorbar\": {\"outlinewidth\": 0, \"ticks\": \"\"}, \"type\": \"choropleth\"}], \"contour\": [{\"colorbar\": {\"outlinewidth\": 0, \"ticks\": \"\"}, \"colorscale\": [[0.0, \"#0d0887\"], [0.1111111111111111, \"#46039f\"], [0.2222222222222222, \"#7201a8\"], [0.3333333333333333, \"#9c179e\"], [0.4444444444444444, \"#bd3786\"], [0.5555555555555556, \"#d8576b\"], [0.6666666666666666, \"#ed7953\"], [0.7777777777777778, \"#fb9f3a\"], [0.8888888888888888, \"#fdca26\"], [1.0, \"#f0f921\"]], \"type\": \"contour\"}], \"contourcarpet\": [{\"colorbar\": {\"outlinewidth\": 0, \"ticks\": \"\"}, \"type\": \"contourcarpet\"}], \"heatmap\": [{\"colorbar\": {\"outlinewidth\": 0, \"ticks\": \"\"}, \"colorscale\": [[0.0, \"#0d0887\"], [0.1111111111111111, \"#46039f\"], [0.2222222222222222, \"#7201a8\"], [0.3333333333333333, \"#9c179e\"], [0.4444444444444444, \"#bd3786\"], [0.5555555555555556, \"#d8576b\"], [0.6666666666666666, \"#ed7953\"], [0.7777777777777778, \"#fb9f3a\"], [0.8888888888888888, \"#fdca26\"], [1.0, \"#f0f921\"]], \"type\": \"heatmap\"}], \"heatmapgl\": [{\"colorbar\": {\"outlinewidth\": 0, \"ticks\": \"\"}, \"colorscale\": [[0.0, \"#0d0887\"], [0.1111111111111111, \"#46039f\"], [0.2222222222222222, \"#7201a8\"], [0.3333333333333333, \"#9c179e\"], [0.4444444444444444, \"#bd3786\"], [0.5555555555555556, \"#d8576b\"], [0.6666666666666666, \"#ed7953\"], [0.7777777777777778, \"#fb9f3a\"], [0.8888888888888888, \"#fdca26\"], [1.0, \"#f0f921\"]], \"type\": \"heatmapgl\"}], \"histogram\": [{\"marker\": {\"colorbar\": {\"outlinewidth\": 0, \"ticks\": \"\"}}, \"type\": \"histogram\"}], \"histogram2d\": [{\"colorbar\": {\"outlinewidth\": 0, \"ticks\": \"\"}, \"colorscale\": [[0.0, \"#0d0887\"], [0.1111111111111111, \"#46039f\"], [0.2222222222222222, \"#7201a8\"], [0.3333333333333333, \"#9c179e\"], [0.4444444444444444, \"#bd3786\"], [0.5555555555555556, \"#d8576b\"], [0.6666666666666666, \"#ed7953\"], [0.7777777777777778, \"#fb9f3a\"], [0.8888888888888888, \"#fdca26\"], [1.0, \"#f0f921\"]], \"type\": \"histogram2d\"}], \"histogram2dcontour\": [{\"colorbar\": {\"outlinewidth\": 0, \"ticks\": \"\"}, \"colorscale\": [[0.0, \"#0d0887\"], [0.1111111111111111, \"#46039f\"], [0.2222222222222222, \"#7201a8\"], [0.3333333333333333, \"#9c179e\"], [0.4444444444444444, \"#bd3786\"], [0.5555555555555556, \"#d8576b\"], [0.6666666666666666, \"#ed7953\"], [0.7777777777777778, \"#fb9f3a\"], [0.8888888888888888, \"#fdca26\"], [1.0, \"#f0f921\"]], \"type\": \"histogram2dcontour\"}], \"mesh3d\": [{\"colorbar\": {\"outlinewidth\": 0, \"ticks\": \"\"}, \"type\": \"mesh3d\"}], \"parcoords\": [{\"line\": {\"colorbar\": {\"outlinewidth\": 0, \"ticks\": \"\"}}, \"type\": \"parcoords\"}], \"pie\": [{\"automargin\": true, \"type\": \"pie\"}], \"scatter\": [{\"marker\": {\"colorbar\": {\"outlinewidth\": 0, \"ticks\": \"\"}}, \"type\": \"scatter\"}], \"scatter3d\": [{\"line\": {\"colorbar\": {\"outlinewidth\": 0, \"ticks\": \"\"}}, \"marker\": {\"colorbar\": {\"outlinewidth\": 0, \"ticks\": \"\"}}, \"type\": \"scatter3d\"}], \"scattercarpet\": [{\"marker\": {\"colorbar\": {\"outlinewidth\": 0, \"ticks\": \"\"}}, \"type\": \"scattercarpet\"}], \"scattergeo\": [{\"marker\": {\"colorbar\": {\"outlinewidth\": 0, \"ticks\": \"\"}}, \"type\": \"scattergeo\"}], \"scattergl\": [{\"marker\": {\"colorbar\": {\"outlinewidth\": 0, \"ticks\": \"\"}}, \"type\": \"scattergl\"}], \"scattermapbox\": [{\"marker\": {\"colorbar\": {\"outlinewidth\": 0, \"ticks\": \"\"}}, \"type\": \"scattermapbox\"}], \"scatterpolar\": [{\"marker\": {\"colorbar\": {\"outlinewidth\": 0, \"ticks\": \"\"}}, \"type\": \"scatterpolar\"}], \"scatterpolargl\": [{\"marker\": {\"colorbar\": {\"outlinewidth\": 0, \"ticks\": \"\"}}, \"type\": \"scatterpolargl\"}], \"scatterternary\": [{\"marker\": {\"colorbar\": {\"outlinewidth\": 0, \"ticks\": \"\"}}, \"type\": \"scatterternary\"}], \"surface\": [{\"colorbar\": {\"outlinewidth\": 0, \"ticks\": \"\"}, \"colorscale\": [[0.0, \"#0d0887\"], [0.1111111111111111, \"#46039f\"], [0.2222222222222222, \"#7201a8\"], [0.3333333333333333, \"#9c179e\"], [0.4444444444444444, \"#bd3786\"], [0.5555555555555556, \"#d8576b\"], [0.6666666666666666, \"#ed7953\"], [0.7777777777777778, \"#fb9f3a\"], [0.8888888888888888, \"#fdca26\"], [1.0, \"#f0f921\"]], \"type\": \"surface\"}], \"table\": [{\"cells\": {\"fill\": {\"color\": \"#EBF0F8\"}, \"line\": {\"color\": \"white\"}}, \"header\": {\"fill\": {\"color\": \"#C8D4E3\"}, \"line\": {\"color\": \"white\"}}, \"type\": \"table\"}]}, \"layout\": {\"annotationdefaults\": {\"arrowcolor\": \"#2a3f5f\", \"arrowhead\": 0, \"arrowwidth\": 1}, \"autotypenumbers\": \"strict\", \"coloraxis\": {\"colorbar\": {\"outlinewidth\": 0, \"ticks\": \"\"}}, \"colorscale\": {\"diverging\": [[0, \"#8e0152\"], [0.1, \"#c51b7d\"], [0.2, \"#de77ae\"], [0.3, \"#f1b6da\"], [0.4, \"#fde0ef\"], [0.5, \"#f7f7f7\"], [0.6, \"#e6f5d0\"], [0.7, \"#b8e186\"], [0.8, \"#7fbc41\"], [0.9, \"#4d9221\"], [1, \"#276419\"]], \"sequential\": [[0.0, \"#0d0887\"], [0.1111111111111111, \"#46039f\"], [0.2222222222222222, \"#7201a8\"], [0.3333333333333333, \"#9c179e\"], [0.4444444444444444, \"#bd3786\"], [0.5555555555555556, \"#d8576b\"], [0.6666666666666666, \"#ed7953\"], [0.7777777777777778, \"#fb9f3a\"], [0.8888888888888888, \"#fdca26\"], [1.0, \"#f0f921\"]], \"sequentialminus\": [[0.0, \"#0d0887\"], [0.1111111111111111, \"#46039f\"], [0.2222222222222222, \"#7201a8\"], [0.3333333333333333, \"#9c179e\"], [0.4444444444444444, \"#bd3786\"], [0.5555555555555556, \"#d8576b\"], [0.6666666666666666, \"#ed7953\"], [0.7777777777777778, \"#fb9f3a\"], [0.8888888888888888, \"#fdca26\"], [1.0, \"#f0f921\"]]}, \"colorway\": [\"#636efa\", \"#EF553B\", \"#00cc96\", \"#ab63fa\", \"#FFA15A\", \"#19d3f3\", \"#FF6692\", \"#B6E880\", \"#FF97FF\", \"#FECB52\"], \"font\": {\"color\": \"#2a3f5f\"}, \"geo\": {\"bgcolor\": \"white\", \"lakecolor\": \"white\", \"landcolor\": \"white\", \"showlakes\": true, \"showland\": true, \"subunitcolor\": \"#C8D4E3\"}, \"hoverlabel\": {\"align\": \"left\"}, \"hovermode\": \"closest\", \"mapbox\": {\"style\": \"light\"}, \"paper_bgcolor\": \"white\", \"plot_bgcolor\": \"white\", \"polar\": {\"angularaxis\": {\"gridcolor\": \"#EBF0F8\", \"linecolor\": \"#EBF0F8\", \"ticks\": \"\"}, \"bgcolor\": \"white\", \"radialaxis\": {\"gridcolor\": \"#EBF0F8\", \"linecolor\": \"#EBF0F8\", \"ticks\": \"\"}}, \"scene\": {\"xaxis\": {\"backgroundcolor\": \"white\", \"gridcolor\": \"#DFE8F3\", \"gridwidth\": 2, \"linecolor\": \"#EBF0F8\", \"showbackground\": true, \"ticks\": \"\", \"zerolinecolor\": \"#EBF0F8\"}, \"yaxis\": {\"backgroundcolor\": \"white\", \"gridcolor\": \"#DFE8F3\", \"gridwidth\": 2, \"linecolor\": \"#EBF0F8\", \"showbackground\": true, \"ticks\": \"\", \"zerolinecolor\": \"#EBF0F8\"}, \"zaxis\": {\"backgroundcolor\": \"white\", \"gridcolor\": \"#DFE8F3\", \"gridwidth\": 2, \"linecolor\": \"#EBF0F8\", \"showbackground\": true, \"ticks\": \"\", \"zerolinecolor\": \"#EBF0F8\"}}, \"shapedefaults\": {\"line\": {\"color\": \"#2a3f5f\"}}, \"ternary\": {\"aaxis\": {\"gridcolor\": \"#DFE8F3\", \"linecolor\": \"#A2B1C6\", \"ticks\": \"\"}, \"baxis\": {\"gridcolor\": \"#DFE8F3\", \"linecolor\": \"#A2B1C6\", \"ticks\": \"\"}, \"bgcolor\": \"white\", \"caxis\": {\"gridcolor\": \"#DFE8F3\", \"linecolor\": \"#A2B1C6\", \"ticks\": \"\"}}, \"title\": {\"x\": 0.05}, \"xaxis\": {\"automargin\": true, \"gridcolor\": \"#EBF0F8\", \"linecolor\": \"#EBF0F8\", \"ticks\": \"\", \"title\": {\"standoff\": 15}, \"zerolinecolor\": \"#EBF0F8\", \"zerolinewidth\": 2}, \"yaxis\": {\"automargin\": true, \"gridcolor\": \"#EBF0F8\", \"linecolor\": \"#EBF0F8\", \"ticks\": \"\", \"title\": {\"standoff\": 15}, \"zerolinecolor\": \"#EBF0F8\", \"zerolinewidth\": 2}}}, \"title\": {\"text\": \"Log-distance between Z and Z' with respect to ADMM convergence rates\"}, \"xaxis\": {\"anchor\": \"y\", \"domain\": [0.0, 1.0], \"title\": {\"text\": \"Tolerance rate\"}}, \"yaxis\": {\"anchor\": \"x\", \"domain\": [0.0, 1.0], \"title\": {\"text\": \"Log_distance\"}, \"type\": \"log\"}},                        {\"responsive\": true}                    ).then(function(){\n",
       "                            \n",
       "var gd = document.getElementById('c7643314-9f76-48a2-9bb9-e1042d516803');\n",
       "var x = new MutationObserver(function (mutations, observer) {{\n",
       "        var display = window.getComputedStyle(gd).display;\n",
       "        if (!display || display === 'none') {{\n",
       "            console.log([gd, 'removed!']);\n",
       "            Plotly.purge(gd);\n",
       "            observer.disconnect();\n",
       "        }}\n",
       "}});\n",
       "\n",
       "// Listen for the removal of the full notebook cells\n",
       "var notebookContainer = gd.closest('#notebook-container');\n",
       "if (notebookContainer) {{\n",
       "    x.observe(notebookContainer, {childList: true});\n",
       "}}\n",
       "\n",
       "// Listen for the clearing of the current output cell\n",
       "var outputEl = gd.closest('.output');\n",
       "if (outputEl) {{\n",
       "    x.observe(outputEl, {childList: true});\n",
       "}}\n",
       "\n",
       "                        })                };                });            </script>        </div>"
      ]
     },
     "metadata": {},
     "output_type": "display_data"
    }
   ],
   "source": [
    "fig = px.line(df, x=\"str_tol\", y=\"distance\", color= \"method\", \n",
    "              log_y = True,\n",
    "              labels={\n",
    "                     \"str_tol\": \"Tolerance rate\",\n",
    "                     \"distance\": \"Log_distance\",\n",
    "                     \"method\": \"method\"\n",
    "                 },\n",
    "              template = \"plotly_white\",\n",
    "              title=\"Log-distance between Z and Z' with respect to ADMM convergence rates\")\n",
    "fig.show()"
   ]
  },
  {
   "cell_type": "code",
   "execution_count": 233,
   "id": "electrical-martial",
   "metadata": {},
   "outputs": [
    {
     "data": {
      "text/html": [
       "<div>\n",
       "<style scoped>\n",
       "    .dataframe tbody tr th:only-of-type {\n",
       "        vertical-align: middle;\n",
       "    }\n",
       "\n",
       "    .dataframe tbody tr th {\n",
       "        vertical-align: top;\n",
       "    }\n",
       "\n",
       "    .dataframe thead th {\n",
       "        text-align: right;\n",
       "    }\n",
       "</style>\n",
       "<table border=\"1\" class=\"dataframe\">\n",
       "  <thead>\n",
       "    <tr style=\"text-align: right;\">\n",
       "      <th></th>\n",
       "      <th>time</th>\n",
       "      <th>distance</th>\n",
       "      <th>method</th>\n",
       "      <th>tol_rate</th>\n",
       "      <th>str_tol</th>\n",
       "      <th>log_distance</th>\n",
       "      <th>sec_time</th>\n",
       "    </tr>\n",
       "  </thead>\n",
       "  <tbody>\n",
       "    <tr>\n",
       "      <th>0</th>\n",
       "      <td>00:00:08.96</td>\n",
       "      <td>0.002712</td>\n",
       "      <td>sklearn</td>\n",
       "      <td>0.10000</td>\n",
       "      <td>0.1</td>\n",
       "      <td>-5.910039</td>\n",
       "      <td>8.96</td>\n",
       "    </tr>\n",
       "    <tr>\n",
       "      <th>1</th>\n",
       "      <td>00:00:25.51</td>\n",
       "      <td>0.000355</td>\n",
       "      <td>sklearn</td>\n",
       "      <td>0.01000</td>\n",
       "      <td>0.01</td>\n",
       "      <td>-7.942614</td>\n",
       "      <td>25.51</td>\n",
       "    </tr>\n",
       "    <tr>\n",
       "      <th>2</th>\n",
       "      <td>00:00:36.64</td>\n",
       "      <td>0.000136</td>\n",
       "      <td>sklearn</td>\n",
       "      <td>0.00100</td>\n",
       "      <td>0.001</td>\n",
       "      <td>-8.906128</td>\n",
       "      <td>36.64</td>\n",
       "    </tr>\n",
       "    <tr>\n",
       "      <th>3</th>\n",
       "      <td>00:00:44.69</td>\n",
       "      <td>0.000126</td>\n",
       "      <td>sklearn</td>\n",
       "      <td>0.00010</td>\n",
       "      <td>1e-04</td>\n",
       "      <td>-8.981124</td>\n",
       "      <td>44.69</td>\n",
       "    </tr>\n",
       "    <tr>\n",
       "      <th>4</th>\n",
       "      <td>00:00:53.01</td>\n",
       "      <td>0.000125</td>\n",
       "      <td>sklearn</td>\n",
       "      <td>0.00001</td>\n",
       "      <td>1e-05</td>\n",
       "      <td>-8.984194</td>\n",
       "      <td>53.01</td>\n",
       "    </tr>\n",
       "  </tbody>\n",
       "</table>\n",
       "</div>"
      ],
      "text/plain": [
       "          time  distance   method  tol_rate str_tol  log_distance  sec_time\n",
       "0  00:00:08.96  0.002712  sklearn   0.10000     0.1     -5.910039      8.96\n",
       "1  00:00:25.51  0.000355  sklearn   0.01000    0.01     -7.942614     25.51\n",
       "2  00:00:36.64  0.000136  sklearn   0.00100   0.001     -8.906128     36.64\n",
       "3  00:00:44.69  0.000126  sklearn   0.00010   1e-04     -8.981124     44.69\n",
       "4  00:00:53.01  0.000125  sklearn   0.00001   1e-05     -8.984194     53.01"
      ]
     },
     "execution_count": 233,
     "metadata": {},
     "output_type": "execute_result"
    }
   ],
   "source": [
    "df = df.reset_index(drop=True)\n",
    "\n",
    "for i, row in df.iterrows():\n",
    "    sec_time = df['time'][i][-5:]\n",
    "    df.at[i,'sec_time'] = sec_time\n",
    "df['sec_time'] = pd.to_numeric(df['sec_time'])\n",
    "df.head()"
   ]
  },
  {
   "cell_type": "markdown",
   "id": "applied-crime",
   "metadata": {},
   "source": [
    "## Time plot"
   ]
  },
  {
   "cell_type": "code",
   "execution_count": 234,
   "id": "juvenile-jason",
   "metadata": {},
   "outputs": [
    {
     "data": {
      "application/vnd.plotly.v1+json": {
       "config": {
        "plotlyServerURL": "https://plot.ly"
       },
       "data": [
        {
         "hovertemplate": "method=sklearn<br>Time, s=%{x}<br>Distance=%{y}<extra></extra>",
         "legendgroup": "sklearn",
         "line": {
          "color": "#636efa",
          "dash": "solid"
         },
         "mode": "lines",
         "name": "sklearn",
         "orientation": "v",
         "showlegend": true,
         "type": "scatter",
         "x": [
          8.96,
          25.51,
          36.64,
          44.69,
          53.01,
          50.46,
          27.88,
          16.31
         ],
         "xaxis": "x",
         "y": [
          0.0027120806785523094,
          0.0003552766870775386,
          0.00013555567963602786,
          0.00012576143683398227,
          0.00012537587650967354,
          0.00012535274328625285,
          0.00012544613933326994,
          0.0001254462717687887
         ],
         "yaxis": "y"
        },
        {
         "hovertemplate": "method=regain<br>Time, s=%{x}<br>Distance=%{y}<extra></extra>",
         "legendgroup": "regain",
         "line": {
          "color": "#EF553B",
          "dash": "solid"
         },
         "mode": "lines",
         "name": "regain",
         "orientation": "v",
         "showlegend": true,
         "type": "scatter",
         "x": [
          0.67,
          0.96,
          4.52,
          8.51,
          12.66,
          17.34,
          20.23,
          24.52
         ],
         "xaxis": "x",
         "y": [
          0.7845322670802309,
          0.6626845695736481,
          0.0784276008197344,
          0.007218277973182216,
          0.0009954842375765383,
          1.892332752558683e-05,
          0.00011002884961545035,
          0.00012400600871735251
         ],
         "yaxis": "y"
        },
        {
         "hovertemplate": "method=admm<br>Time, s=%{x}<br>Distance=%{y}<extra></extra>",
         "legendgroup": "admm",
         "line": {
          "color": "#00cc96",
          "dash": "solid"
         },
         "mode": "lines",
         "name": "admm",
         "orientation": "v",
         "showlegend": true,
         "type": "scatter",
         "x": [
          0.48,
          0.47,
          0.45,
          0.33,
          0.92,
          2.3,
          4.15,
          6.85
         ],
         "xaxis": "x",
         "y": [
          0.32901693654662434,
          0.32901693654662434,
          0.32901693654662434,
          0.32901693654662434,
          0.1596485098260404,
          0.029772240288387344,
          0.004377613844627511,
          0.0006774937597474682
         ],
         "yaxis": "y"
        },
        {
         "hovertemplate": "method=kkt_admm<br>Time, s=%{x}<br>Distance=%{y}<extra></extra>",
         "legendgroup": "kkt_admm",
         "line": {
          "color": "#ab63fa",
          "dash": "solid"
         },
         "mode": "lines",
         "name": "kkt_admm",
         "orientation": "v",
         "showlegend": true,
         "type": "scatter",
         "x": [
          1.45,
          4.48,
          9.14,
          14.99,
          28.95,
          21.65,
          29.13,
          34.62
         ],
         "xaxis": "x",
         "y": [
          0.22235855094630483,
          0.03870157769646381,
          0.004377613844627511,
          0.0007717318720372011,
          0.0001983647873424435,
          0.00013322951167576088,
          0.0001261729464249634,
          0.00012551416991886464
         ],
         "yaxis": "y"
        },
        {
         "hovertemplate": "method=block_admm<br>Time, s=%{x}<br>Distance=%{y}<extra></extra>",
         "legendgroup": "block_admm",
         "line": {
          "color": "#FFA15A",
          "dash": "solid"
         },
         "mode": "lines",
         "name": "block_admm",
         "orientation": "v",
         "showlegend": true,
         "type": "scatter",
         "x": [
          0.43,
          0.41,
          0.4,
          0.4,
          0.74,
          1.8,
          3.39,
          5.98
         ],
         "xaxis": "x",
         "y": [
          0.32901693654662434,
          0.32901693654662434,
          0.32901693654662434,
          0.32901693654662434,
          0.1596485098260404,
          0.029772240288387344,
          0.004377613844627511,
          0.0006774937597474682
         ],
         "yaxis": "y"
        },
        {
         "hovertemplate": "method=kkt_block_admm<br>Time, s=%{x}<br>Distance=%{y}<extra></extra>",
         "legendgroup": "kkt_block_admm",
         "line": {
          "color": "#19d3f3",
          "dash": "solid"
         },
         "mode": "lines",
         "name": "kkt_block_admm",
         "orientation": "v",
         "showlegend": true,
         "type": "scatter",
         "x": [
          1.58,
          4.43,
          9.01,
          14.2,
          21.77,
          29.01,
          39.71,
          41.45
         ],
         "xaxis": "x",
         "y": [
          0.22235855094630483,
          0.03870157769646381,
          0.004377613844627511,
          0.0007717318720372011,
          0.0001983647873424435,
          0.00013322951167576088,
          0.0001261729464249634,
          0.00012551416991886464
         ],
         "yaxis": "y"
        }
       ],
       "layout": {
        "legend": {
         "title": {
          "text": "method"
         },
         "tracegroupgap": 0
        },
        "template": {
         "data": {
          "bar": [
           {
            "error_x": {
             "color": "#2a3f5f"
            },
            "error_y": {
             "color": "#2a3f5f"
            },
            "marker": {
             "line": {
              "color": "white",
              "width": 0.5
             }
            },
            "type": "bar"
           }
          ],
          "barpolar": [
           {
            "marker": {
             "line": {
              "color": "white",
              "width": 0.5
             }
            },
            "type": "barpolar"
           }
          ],
          "carpet": [
           {
            "aaxis": {
             "endlinecolor": "#2a3f5f",
             "gridcolor": "#C8D4E3",
             "linecolor": "#C8D4E3",
             "minorgridcolor": "#C8D4E3",
             "startlinecolor": "#2a3f5f"
            },
            "baxis": {
             "endlinecolor": "#2a3f5f",
             "gridcolor": "#C8D4E3",
             "linecolor": "#C8D4E3",
             "minorgridcolor": "#C8D4E3",
             "startlinecolor": "#2a3f5f"
            },
            "type": "carpet"
           }
          ],
          "choropleth": [
           {
            "colorbar": {
             "outlinewidth": 0,
             "ticks": ""
            },
            "type": "choropleth"
           }
          ],
          "contour": [
           {
            "colorbar": {
             "outlinewidth": 0,
             "ticks": ""
            },
            "colorscale": [
             [
              0,
              "#0d0887"
             ],
             [
              0.1111111111111111,
              "#46039f"
             ],
             [
              0.2222222222222222,
              "#7201a8"
             ],
             [
              0.3333333333333333,
              "#9c179e"
             ],
             [
              0.4444444444444444,
              "#bd3786"
             ],
             [
              0.5555555555555556,
              "#d8576b"
             ],
             [
              0.6666666666666666,
              "#ed7953"
             ],
             [
              0.7777777777777778,
              "#fb9f3a"
             ],
             [
              0.8888888888888888,
              "#fdca26"
             ],
             [
              1,
              "#f0f921"
             ]
            ],
            "type": "contour"
           }
          ],
          "contourcarpet": [
           {
            "colorbar": {
             "outlinewidth": 0,
             "ticks": ""
            },
            "type": "contourcarpet"
           }
          ],
          "heatmap": [
           {
            "colorbar": {
             "outlinewidth": 0,
             "ticks": ""
            },
            "colorscale": [
             [
              0,
              "#0d0887"
             ],
             [
              0.1111111111111111,
              "#46039f"
             ],
             [
              0.2222222222222222,
              "#7201a8"
             ],
             [
              0.3333333333333333,
              "#9c179e"
             ],
             [
              0.4444444444444444,
              "#bd3786"
             ],
             [
              0.5555555555555556,
              "#d8576b"
             ],
             [
              0.6666666666666666,
              "#ed7953"
             ],
             [
              0.7777777777777778,
              "#fb9f3a"
             ],
             [
              0.8888888888888888,
              "#fdca26"
             ],
             [
              1,
              "#f0f921"
             ]
            ],
            "type": "heatmap"
           }
          ],
          "heatmapgl": [
           {
            "colorbar": {
             "outlinewidth": 0,
             "ticks": ""
            },
            "colorscale": [
             [
              0,
              "#0d0887"
             ],
             [
              0.1111111111111111,
              "#46039f"
             ],
             [
              0.2222222222222222,
              "#7201a8"
             ],
             [
              0.3333333333333333,
              "#9c179e"
             ],
             [
              0.4444444444444444,
              "#bd3786"
             ],
             [
              0.5555555555555556,
              "#d8576b"
             ],
             [
              0.6666666666666666,
              "#ed7953"
             ],
             [
              0.7777777777777778,
              "#fb9f3a"
             ],
             [
              0.8888888888888888,
              "#fdca26"
             ],
             [
              1,
              "#f0f921"
             ]
            ],
            "type": "heatmapgl"
           }
          ],
          "histogram": [
           {
            "marker": {
             "colorbar": {
              "outlinewidth": 0,
              "ticks": ""
             }
            },
            "type": "histogram"
           }
          ],
          "histogram2d": [
           {
            "colorbar": {
             "outlinewidth": 0,
             "ticks": ""
            },
            "colorscale": [
             [
              0,
              "#0d0887"
             ],
             [
              0.1111111111111111,
              "#46039f"
             ],
             [
              0.2222222222222222,
              "#7201a8"
             ],
             [
              0.3333333333333333,
              "#9c179e"
             ],
             [
              0.4444444444444444,
              "#bd3786"
             ],
             [
              0.5555555555555556,
              "#d8576b"
             ],
             [
              0.6666666666666666,
              "#ed7953"
             ],
             [
              0.7777777777777778,
              "#fb9f3a"
             ],
             [
              0.8888888888888888,
              "#fdca26"
             ],
             [
              1,
              "#f0f921"
             ]
            ],
            "type": "histogram2d"
           }
          ],
          "histogram2dcontour": [
           {
            "colorbar": {
             "outlinewidth": 0,
             "ticks": ""
            },
            "colorscale": [
             [
              0,
              "#0d0887"
             ],
             [
              0.1111111111111111,
              "#46039f"
             ],
             [
              0.2222222222222222,
              "#7201a8"
             ],
             [
              0.3333333333333333,
              "#9c179e"
             ],
             [
              0.4444444444444444,
              "#bd3786"
             ],
             [
              0.5555555555555556,
              "#d8576b"
             ],
             [
              0.6666666666666666,
              "#ed7953"
             ],
             [
              0.7777777777777778,
              "#fb9f3a"
             ],
             [
              0.8888888888888888,
              "#fdca26"
             ],
             [
              1,
              "#f0f921"
             ]
            ],
            "type": "histogram2dcontour"
           }
          ],
          "mesh3d": [
           {
            "colorbar": {
             "outlinewidth": 0,
             "ticks": ""
            },
            "type": "mesh3d"
           }
          ],
          "parcoords": [
           {
            "line": {
             "colorbar": {
              "outlinewidth": 0,
              "ticks": ""
             }
            },
            "type": "parcoords"
           }
          ],
          "pie": [
           {
            "automargin": true,
            "type": "pie"
           }
          ],
          "scatter": [
           {
            "marker": {
             "colorbar": {
              "outlinewidth": 0,
              "ticks": ""
             }
            },
            "type": "scatter"
           }
          ],
          "scatter3d": [
           {
            "line": {
             "colorbar": {
              "outlinewidth": 0,
              "ticks": ""
             }
            },
            "marker": {
             "colorbar": {
              "outlinewidth": 0,
              "ticks": ""
             }
            },
            "type": "scatter3d"
           }
          ],
          "scattercarpet": [
           {
            "marker": {
             "colorbar": {
              "outlinewidth": 0,
              "ticks": ""
             }
            },
            "type": "scattercarpet"
           }
          ],
          "scattergeo": [
           {
            "marker": {
             "colorbar": {
              "outlinewidth": 0,
              "ticks": ""
             }
            },
            "type": "scattergeo"
           }
          ],
          "scattergl": [
           {
            "marker": {
             "colorbar": {
              "outlinewidth": 0,
              "ticks": ""
             }
            },
            "type": "scattergl"
           }
          ],
          "scattermapbox": [
           {
            "marker": {
             "colorbar": {
              "outlinewidth": 0,
              "ticks": ""
             }
            },
            "type": "scattermapbox"
           }
          ],
          "scatterpolar": [
           {
            "marker": {
             "colorbar": {
              "outlinewidth": 0,
              "ticks": ""
             }
            },
            "type": "scatterpolar"
           }
          ],
          "scatterpolargl": [
           {
            "marker": {
             "colorbar": {
              "outlinewidth": 0,
              "ticks": ""
             }
            },
            "type": "scatterpolargl"
           }
          ],
          "scatterternary": [
           {
            "marker": {
             "colorbar": {
              "outlinewidth": 0,
              "ticks": ""
             }
            },
            "type": "scatterternary"
           }
          ],
          "surface": [
           {
            "colorbar": {
             "outlinewidth": 0,
             "ticks": ""
            },
            "colorscale": [
             [
              0,
              "#0d0887"
             ],
             [
              0.1111111111111111,
              "#46039f"
             ],
             [
              0.2222222222222222,
              "#7201a8"
             ],
             [
              0.3333333333333333,
              "#9c179e"
             ],
             [
              0.4444444444444444,
              "#bd3786"
             ],
             [
              0.5555555555555556,
              "#d8576b"
             ],
             [
              0.6666666666666666,
              "#ed7953"
             ],
             [
              0.7777777777777778,
              "#fb9f3a"
             ],
             [
              0.8888888888888888,
              "#fdca26"
             ],
             [
              1,
              "#f0f921"
             ]
            ],
            "type": "surface"
           }
          ],
          "table": [
           {
            "cells": {
             "fill": {
              "color": "#EBF0F8"
             },
             "line": {
              "color": "white"
             }
            },
            "header": {
             "fill": {
              "color": "#C8D4E3"
             },
             "line": {
              "color": "white"
             }
            },
            "type": "table"
           }
          ]
         },
         "layout": {
          "annotationdefaults": {
           "arrowcolor": "#2a3f5f",
           "arrowhead": 0,
           "arrowwidth": 1
          },
          "autotypenumbers": "strict",
          "coloraxis": {
           "colorbar": {
            "outlinewidth": 0,
            "ticks": ""
           }
          },
          "colorscale": {
           "diverging": [
            [
             0,
             "#8e0152"
            ],
            [
             0.1,
             "#c51b7d"
            ],
            [
             0.2,
             "#de77ae"
            ],
            [
             0.3,
             "#f1b6da"
            ],
            [
             0.4,
             "#fde0ef"
            ],
            [
             0.5,
             "#f7f7f7"
            ],
            [
             0.6,
             "#e6f5d0"
            ],
            [
             0.7,
             "#b8e186"
            ],
            [
             0.8,
             "#7fbc41"
            ],
            [
             0.9,
             "#4d9221"
            ],
            [
             1,
             "#276419"
            ]
           ],
           "sequential": [
            [
             0,
             "#0d0887"
            ],
            [
             0.1111111111111111,
             "#46039f"
            ],
            [
             0.2222222222222222,
             "#7201a8"
            ],
            [
             0.3333333333333333,
             "#9c179e"
            ],
            [
             0.4444444444444444,
             "#bd3786"
            ],
            [
             0.5555555555555556,
             "#d8576b"
            ],
            [
             0.6666666666666666,
             "#ed7953"
            ],
            [
             0.7777777777777778,
             "#fb9f3a"
            ],
            [
             0.8888888888888888,
             "#fdca26"
            ],
            [
             1,
             "#f0f921"
            ]
           ],
           "sequentialminus": [
            [
             0,
             "#0d0887"
            ],
            [
             0.1111111111111111,
             "#46039f"
            ],
            [
             0.2222222222222222,
             "#7201a8"
            ],
            [
             0.3333333333333333,
             "#9c179e"
            ],
            [
             0.4444444444444444,
             "#bd3786"
            ],
            [
             0.5555555555555556,
             "#d8576b"
            ],
            [
             0.6666666666666666,
             "#ed7953"
            ],
            [
             0.7777777777777778,
             "#fb9f3a"
            ],
            [
             0.8888888888888888,
             "#fdca26"
            ],
            [
             1,
             "#f0f921"
            ]
           ]
          },
          "colorway": [
           "#636efa",
           "#EF553B",
           "#00cc96",
           "#ab63fa",
           "#FFA15A",
           "#19d3f3",
           "#FF6692",
           "#B6E880",
           "#FF97FF",
           "#FECB52"
          ],
          "font": {
           "color": "#2a3f5f"
          },
          "geo": {
           "bgcolor": "white",
           "lakecolor": "white",
           "landcolor": "white",
           "showlakes": true,
           "showland": true,
           "subunitcolor": "#C8D4E3"
          },
          "hoverlabel": {
           "align": "left"
          },
          "hovermode": "closest",
          "mapbox": {
           "style": "light"
          },
          "paper_bgcolor": "white",
          "plot_bgcolor": "white",
          "polar": {
           "angularaxis": {
            "gridcolor": "#EBF0F8",
            "linecolor": "#EBF0F8",
            "ticks": ""
           },
           "bgcolor": "white",
           "radialaxis": {
            "gridcolor": "#EBF0F8",
            "linecolor": "#EBF0F8",
            "ticks": ""
           }
          },
          "scene": {
           "xaxis": {
            "backgroundcolor": "white",
            "gridcolor": "#DFE8F3",
            "gridwidth": 2,
            "linecolor": "#EBF0F8",
            "showbackground": true,
            "ticks": "",
            "zerolinecolor": "#EBF0F8"
           },
           "yaxis": {
            "backgroundcolor": "white",
            "gridcolor": "#DFE8F3",
            "gridwidth": 2,
            "linecolor": "#EBF0F8",
            "showbackground": true,
            "ticks": "",
            "zerolinecolor": "#EBF0F8"
           },
           "zaxis": {
            "backgroundcolor": "white",
            "gridcolor": "#DFE8F3",
            "gridwidth": 2,
            "linecolor": "#EBF0F8",
            "showbackground": true,
            "ticks": "",
            "zerolinecolor": "#EBF0F8"
           }
          },
          "shapedefaults": {
           "line": {
            "color": "#2a3f5f"
           }
          },
          "ternary": {
           "aaxis": {
            "gridcolor": "#DFE8F3",
            "linecolor": "#A2B1C6",
            "ticks": ""
           },
           "baxis": {
            "gridcolor": "#DFE8F3",
            "linecolor": "#A2B1C6",
            "ticks": ""
           },
           "bgcolor": "white",
           "caxis": {
            "gridcolor": "#DFE8F3",
            "linecolor": "#A2B1C6",
            "ticks": ""
           }
          },
          "title": {
           "x": 0.05
          },
          "xaxis": {
           "automargin": true,
           "gridcolor": "#EBF0F8",
           "linecolor": "#EBF0F8",
           "ticks": "",
           "title": {
            "standoff": 15
           },
           "zerolinecolor": "#EBF0F8",
           "zerolinewidth": 2
          },
          "yaxis": {
           "automargin": true,
           "gridcolor": "#EBF0F8",
           "linecolor": "#EBF0F8",
           "ticks": "",
           "title": {
            "standoff": 15
           },
           "zerolinecolor": "#EBF0F8",
           "zerolinewidth": 2
          }
         }
        },
        "title": {
         "text": "ADMM perfomance comparison"
        },
        "xaxis": {
         "anchor": "y",
         "domain": [
          0,
          1
         ],
         "title": {
          "text": "Time, s"
         }
        },
        "yaxis": {
         "anchor": "x",
         "domain": [
          0,
          1
         ],
         "title": {
          "text": "Distance"
         }
        }
       }
      },
      "text/html": [
       "<div>                            <div id=\"8bd68fe8-8e1b-44e9-a179-be150ef2e427\" class=\"plotly-graph-div\" style=\"height:525px; width:100%;\"></div>            <script type=\"text/javascript\">                require([\"plotly\"], function(Plotly) {                    window.PLOTLYENV=window.PLOTLYENV || {};                                    if (document.getElementById(\"8bd68fe8-8e1b-44e9-a179-be150ef2e427\")) {                    Plotly.newPlot(                        \"8bd68fe8-8e1b-44e9-a179-be150ef2e427\",                        [{\"hovertemplate\": \"method=sklearn<br>Time, s=%{x}<br>Distance=%{y}<extra></extra>\", \"legendgroup\": \"sklearn\", \"line\": {\"color\": \"#636efa\", \"dash\": \"solid\"}, \"mode\": \"lines\", \"name\": \"sklearn\", \"orientation\": \"v\", \"showlegend\": true, \"type\": \"scatter\", \"x\": [8.96, 25.51, 36.64, 44.69, 53.01, 50.46, 27.88, 16.31], \"xaxis\": \"x\", \"y\": [0.0027120806785523094, 0.0003552766870775386, 0.00013555567963602786, 0.00012576143683398227, 0.00012537587650967354, 0.00012535274328625285, 0.00012544613933326994, 0.0001254462717687887], \"yaxis\": \"y\"}, {\"hovertemplate\": \"method=regain<br>Time, s=%{x}<br>Distance=%{y}<extra></extra>\", \"legendgroup\": \"regain\", \"line\": {\"color\": \"#EF553B\", \"dash\": \"solid\"}, \"mode\": \"lines\", \"name\": \"regain\", \"orientation\": \"v\", \"showlegend\": true, \"type\": \"scatter\", \"x\": [0.67, 0.96, 4.52, 8.51, 12.66, 17.34, 20.23, 24.52], \"xaxis\": \"x\", \"y\": [0.7845322670802309, 0.6626845695736481, 0.0784276008197344, 0.007218277973182216, 0.0009954842375765383, 1.892332752558683e-05, 0.00011002884961545035, 0.00012400600871735251], \"yaxis\": \"y\"}, {\"hovertemplate\": \"method=admm<br>Time, s=%{x}<br>Distance=%{y}<extra></extra>\", \"legendgroup\": \"admm\", \"line\": {\"color\": \"#00cc96\", \"dash\": \"solid\"}, \"mode\": \"lines\", \"name\": \"admm\", \"orientation\": \"v\", \"showlegend\": true, \"type\": \"scatter\", \"x\": [0.48, 0.47, 0.45, 0.33, 0.92, 2.3, 4.15, 6.85], \"xaxis\": \"x\", \"y\": [0.32901693654662434, 0.32901693654662434, 0.32901693654662434, 0.32901693654662434, 0.1596485098260404, 0.029772240288387344, 0.004377613844627511, 0.0006774937597474682], \"yaxis\": \"y\"}, {\"hovertemplate\": \"method=kkt_admm<br>Time, s=%{x}<br>Distance=%{y}<extra></extra>\", \"legendgroup\": \"kkt_admm\", \"line\": {\"color\": \"#ab63fa\", \"dash\": \"solid\"}, \"mode\": \"lines\", \"name\": \"kkt_admm\", \"orientation\": \"v\", \"showlegend\": true, \"type\": \"scatter\", \"x\": [1.45, 4.48, 9.14, 14.99, 28.95, 21.65, 29.13, 34.62], \"xaxis\": \"x\", \"y\": [0.22235855094630483, 0.03870157769646381, 0.004377613844627511, 0.0007717318720372011, 0.0001983647873424435, 0.00013322951167576088, 0.0001261729464249634, 0.00012551416991886464], \"yaxis\": \"y\"}, {\"hovertemplate\": \"method=block_admm<br>Time, s=%{x}<br>Distance=%{y}<extra></extra>\", \"legendgroup\": \"block_admm\", \"line\": {\"color\": \"#FFA15A\", \"dash\": \"solid\"}, \"mode\": \"lines\", \"name\": \"block_admm\", \"orientation\": \"v\", \"showlegend\": true, \"type\": \"scatter\", \"x\": [0.43, 0.41, 0.4, 0.4, 0.74, 1.8, 3.39, 5.98], \"xaxis\": \"x\", \"y\": [0.32901693654662434, 0.32901693654662434, 0.32901693654662434, 0.32901693654662434, 0.1596485098260404, 0.029772240288387344, 0.004377613844627511, 0.0006774937597474682], \"yaxis\": \"y\"}, {\"hovertemplate\": \"method=kkt_block_admm<br>Time, s=%{x}<br>Distance=%{y}<extra></extra>\", \"legendgroup\": \"kkt_block_admm\", \"line\": {\"color\": \"#19d3f3\", \"dash\": \"solid\"}, \"mode\": \"lines\", \"name\": \"kkt_block_admm\", \"orientation\": \"v\", \"showlegend\": true, \"type\": \"scatter\", \"x\": [1.58, 4.43, 9.01, 14.2, 21.77, 29.01, 39.71, 41.45], \"xaxis\": \"x\", \"y\": [0.22235855094630483, 0.03870157769646381, 0.004377613844627511, 0.0007717318720372011, 0.0001983647873424435, 0.00013322951167576088, 0.0001261729464249634, 0.00012551416991886464], \"yaxis\": \"y\"}],                        {\"legend\": {\"title\": {\"text\": \"method\"}, \"tracegroupgap\": 0}, \"template\": {\"data\": {\"bar\": [{\"error_x\": {\"color\": \"#2a3f5f\"}, \"error_y\": {\"color\": \"#2a3f5f\"}, \"marker\": {\"line\": {\"color\": \"white\", \"width\": 0.5}}, \"type\": \"bar\"}], \"barpolar\": [{\"marker\": {\"line\": {\"color\": \"white\", \"width\": 0.5}}, \"type\": \"barpolar\"}], \"carpet\": [{\"aaxis\": {\"endlinecolor\": \"#2a3f5f\", \"gridcolor\": \"#C8D4E3\", \"linecolor\": \"#C8D4E3\", \"minorgridcolor\": \"#C8D4E3\", \"startlinecolor\": \"#2a3f5f\"}, \"baxis\": {\"endlinecolor\": \"#2a3f5f\", \"gridcolor\": \"#C8D4E3\", \"linecolor\": \"#C8D4E3\", \"minorgridcolor\": \"#C8D4E3\", \"startlinecolor\": \"#2a3f5f\"}, \"type\": \"carpet\"}], \"choropleth\": [{\"colorbar\": {\"outlinewidth\": 0, \"ticks\": \"\"}, \"type\": \"choropleth\"}], \"contour\": [{\"colorbar\": {\"outlinewidth\": 0, \"ticks\": \"\"}, \"colorscale\": [[0.0, \"#0d0887\"], [0.1111111111111111, \"#46039f\"], [0.2222222222222222, \"#7201a8\"], [0.3333333333333333, \"#9c179e\"], [0.4444444444444444, \"#bd3786\"], [0.5555555555555556, \"#d8576b\"], [0.6666666666666666, \"#ed7953\"], [0.7777777777777778, \"#fb9f3a\"], [0.8888888888888888, \"#fdca26\"], [1.0, \"#f0f921\"]], \"type\": \"contour\"}], \"contourcarpet\": [{\"colorbar\": {\"outlinewidth\": 0, \"ticks\": \"\"}, \"type\": \"contourcarpet\"}], \"heatmap\": [{\"colorbar\": {\"outlinewidth\": 0, \"ticks\": \"\"}, \"colorscale\": [[0.0, \"#0d0887\"], [0.1111111111111111, \"#46039f\"], [0.2222222222222222, \"#7201a8\"], [0.3333333333333333, \"#9c179e\"], [0.4444444444444444, \"#bd3786\"], [0.5555555555555556, \"#d8576b\"], [0.6666666666666666, \"#ed7953\"], [0.7777777777777778, \"#fb9f3a\"], [0.8888888888888888, \"#fdca26\"], [1.0, \"#f0f921\"]], \"type\": \"heatmap\"}], \"heatmapgl\": [{\"colorbar\": {\"outlinewidth\": 0, \"ticks\": \"\"}, \"colorscale\": [[0.0, \"#0d0887\"], [0.1111111111111111, \"#46039f\"], [0.2222222222222222, \"#7201a8\"], [0.3333333333333333, \"#9c179e\"], [0.4444444444444444, \"#bd3786\"], [0.5555555555555556, \"#d8576b\"], [0.6666666666666666, \"#ed7953\"], [0.7777777777777778, \"#fb9f3a\"], [0.8888888888888888, \"#fdca26\"], [1.0, \"#f0f921\"]], \"type\": \"heatmapgl\"}], \"histogram\": [{\"marker\": {\"colorbar\": {\"outlinewidth\": 0, \"ticks\": \"\"}}, \"type\": \"histogram\"}], \"histogram2d\": [{\"colorbar\": {\"outlinewidth\": 0, \"ticks\": \"\"}, \"colorscale\": [[0.0, \"#0d0887\"], [0.1111111111111111, \"#46039f\"], [0.2222222222222222, \"#7201a8\"], [0.3333333333333333, \"#9c179e\"], [0.4444444444444444, \"#bd3786\"], [0.5555555555555556, \"#d8576b\"], [0.6666666666666666, \"#ed7953\"], [0.7777777777777778, \"#fb9f3a\"], [0.8888888888888888, \"#fdca26\"], [1.0, \"#f0f921\"]], \"type\": \"histogram2d\"}], \"histogram2dcontour\": [{\"colorbar\": {\"outlinewidth\": 0, \"ticks\": \"\"}, \"colorscale\": [[0.0, \"#0d0887\"], [0.1111111111111111, \"#46039f\"], [0.2222222222222222, \"#7201a8\"], [0.3333333333333333, \"#9c179e\"], [0.4444444444444444, \"#bd3786\"], [0.5555555555555556, \"#d8576b\"], [0.6666666666666666, \"#ed7953\"], [0.7777777777777778, \"#fb9f3a\"], [0.8888888888888888, \"#fdca26\"], [1.0, \"#f0f921\"]], \"type\": \"histogram2dcontour\"}], \"mesh3d\": [{\"colorbar\": {\"outlinewidth\": 0, \"ticks\": \"\"}, \"type\": \"mesh3d\"}], \"parcoords\": [{\"line\": {\"colorbar\": {\"outlinewidth\": 0, \"ticks\": \"\"}}, \"type\": \"parcoords\"}], \"pie\": [{\"automargin\": true, \"type\": \"pie\"}], \"scatter\": [{\"marker\": {\"colorbar\": {\"outlinewidth\": 0, \"ticks\": \"\"}}, \"type\": \"scatter\"}], \"scatter3d\": [{\"line\": {\"colorbar\": {\"outlinewidth\": 0, \"ticks\": \"\"}}, \"marker\": {\"colorbar\": {\"outlinewidth\": 0, \"ticks\": \"\"}}, \"type\": \"scatter3d\"}], \"scattercarpet\": [{\"marker\": {\"colorbar\": {\"outlinewidth\": 0, \"ticks\": \"\"}}, \"type\": \"scattercarpet\"}], \"scattergeo\": [{\"marker\": {\"colorbar\": {\"outlinewidth\": 0, \"ticks\": \"\"}}, \"type\": \"scattergeo\"}], \"scattergl\": [{\"marker\": {\"colorbar\": {\"outlinewidth\": 0, \"ticks\": \"\"}}, \"type\": \"scattergl\"}], \"scattermapbox\": [{\"marker\": {\"colorbar\": {\"outlinewidth\": 0, \"ticks\": \"\"}}, \"type\": \"scattermapbox\"}], \"scatterpolar\": [{\"marker\": {\"colorbar\": {\"outlinewidth\": 0, \"ticks\": \"\"}}, \"type\": \"scatterpolar\"}], \"scatterpolargl\": [{\"marker\": {\"colorbar\": {\"outlinewidth\": 0, \"ticks\": \"\"}}, \"type\": \"scatterpolargl\"}], \"scatterternary\": [{\"marker\": {\"colorbar\": {\"outlinewidth\": 0, \"ticks\": \"\"}}, \"type\": \"scatterternary\"}], \"surface\": [{\"colorbar\": {\"outlinewidth\": 0, \"ticks\": \"\"}, \"colorscale\": [[0.0, \"#0d0887\"], [0.1111111111111111, \"#46039f\"], [0.2222222222222222, \"#7201a8\"], [0.3333333333333333, \"#9c179e\"], [0.4444444444444444, \"#bd3786\"], [0.5555555555555556, \"#d8576b\"], [0.6666666666666666, \"#ed7953\"], [0.7777777777777778, \"#fb9f3a\"], [0.8888888888888888, \"#fdca26\"], [1.0, \"#f0f921\"]], \"type\": \"surface\"}], \"table\": [{\"cells\": {\"fill\": {\"color\": \"#EBF0F8\"}, \"line\": {\"color\": \"white\"}}, \"header\": {\"fill\": {\"color\": \"#C8D4E3\"}, \"line\": {\"color\": \"white\"}}, \"type\": \"table\"}]}, \"layout\": {\"annotationdefaults\": {\"arrowcolor\": \"#2a3f5f\", \"arrowhead\": 0, \"arrowwidth\": 1}, \"autotypenumbers\": \"strict\", \"coloraxis\": {\"colorbar\": {\"outlinewidth\": 0, \"ticks\": \"\"}}, \"colorscale\": {\"diverging\": [[0, \"#8e0152\"], [0.1, \"#c51b7d\"], [0.2, \"#de77ae\"], [0.3, \"#f1b6da\"], [0.4, \"#fde0ef\"], [0.5, \"#f7f7f7\"], [0.6, \"#e6f5d0\"], [0.7, \"#b8e186\"], [0.8, \"#7fbc41\"], [0.9, \"#4d9221\"], [1, \"#276419\"]], \"sequential\": [[0.0, \"#0d0887\"], [0.1111111111111111, \"#46039f\"], [0.2222222222222222, \"#7201a8\"], [0.3333333333333333, \"#9c179e\"], [0.4444444444444444, \"#bd3786\"], [0.5555555555555556, \"#d8576b\"], [0.6666666666666666, \"#ed7953\"], [0.7777777777777778, \"#fb9f3a\"], [0.8888888888888888, \"#fdca26\"], [1.0, \"#f0f921\"]], \"sequentialminus\": [[0.0, \"#0d0887\"], [0.1111111111111111, \"#46039f\"], [0.2222222222222222, \"#7201a8\"], [0.3333333333333333, \"#9c179e\"], [0.4444444444444444, \"#bd3786\"], [0.5555555555555556, \"#d8576b\"], [0.6666666666666666, \"#ed7953\"], [0.7777777777777778, \"#fb9f3a\"], [0.8888888888888888, \"#fdca26\"], [1.0, \"#f0f921\"]]}, \"colorway\": [\"#636efa\", \"#EF553B\", \"#00cc96\", \"#ab63fa\", \"#FFA15A\", \"#19d3f3\", \"#FF6692\", \"#B6E880\", \"#FF97FF\", \"#FECB52\"], \"font\": {\"color\": \"#2a3f5f\"}, \"geo\": {\"bgcolor\": \"white\", \"lakecolor\": \"white\", \"landcolor\": \"white\", \"showlakes\": true, \"showland\": true, \"subunitcolor\": \"#C8D4E3\"}, \"hoverlabel\": {\"align\": \"left\"}, \"hovermode\": \"closest\", \"mapbox\": {\"style\": \"light\"}, \"paper_bgcolor\": \"white\", \"plot_bgcolor\": \"white\", \"polar\": {\"angularaxis\": {\"gridcolor\": \"#EBF0F8\", \"linecolor\": \"#EBF0F8\", \"ticks\": \"\"}, \"bgcolor\": \"white\", \"radialaxis\": {\"gridcolor\": \"#EBF0F8\", \"linecolor\": \"#EBF0F8\", \"ticks\": \"\"}}, \"scene\": {\"xaxis\": {\"backgroundcolor\": \"white\", \"gridcolor\": \"#DFE8F3\", \"gridwidth\": 2, \"linecolor\": \"#EBF0F8\", \"showbackground\": true, \"ticks\": \"\", \"zerolinecolor\": \"#EBF0F8\"}, \"yaxis\": {\"backgroundcolor\": \"white\", \"gridcolor\": \"#DFE8F3\", \"gridwidth\": 2, \"linecolor\": \"#EBF0F8\", \"showbackground\": true, \"ticks\": \"\", \"zerolinecolor\": \"#EBF0F8\"}, \"zaxis\": {\"backgroundcolor\": \"white\", \"gridcolor\": \"#DFE8F3\", \"gridwidth\": 2, \"linecolor\": \"#EBF0F8\", \"showbackground\": true, \"ticks\": \"\", \"zerolinecolor\": \"#EBF0F8\"}}, \"shapedefaults\": {\"line\": {\"color\": \"#2a3f5f\"}}, \"ternary\": {\"aaxis\": {\"gridcolor\": \"#DFE8F3\", \"linecolor\": \"#A2B1C6\", \"ticks\": \"\"}, \"baxis\": {\"gridcolor\": \"#DFE8F3\", \"linecolor\": \"#A2B1C6\", \"ticks\": \"\"}, \"bgcolor\": \"white\", \"caxis\": {\"gridcolor\": \"#DFE8F3\", \"linecolor\": \"#A2B1C6\", \"ticks\": \"\"}}, \"title\": {\"x\": 0.05}, \"xaxis\": {\"automargin\": true, \"gridcolor\": \"#EBF0F8\", \"linecolor\": \"#EBF0F8\", \"ticks\": \"\", \"title\": {\"standoff\": 15}, \"zerolinecolor\": \"#EBF0F8\", \"zerolinewidth\": 2}, \"yaxis\": {\"automargin\": true, \"gridcolor\": \"#EBF0F8\", \"linecolor\": \"#EBF0F8\", \"ticks\": \"\", \"title\": {\"standoff\": 15}, \"zerolinecolor\": \"#EBF0F8\", \"zerolinewidth\": 2}}}, \"title\": {\"text\": \"ADMM perfomance comparison\"}, \"xaxis\": {\"anchor\": \"y\", \"domain\": [0.0, 1.0], \"title\": {\"text\": \"Time, s\"}}, \"yaxis\": {\"anchor\": \"x\", \"domain\": [0.0, 1.0], \"title\": {\"text\": \"Distance\"}}},                        {\"responsive\": true}                    ).then(function(){\n",
       "                            \n",
       "var gd = document.getElementById('8bd68fe8-8e1b-44e9-a179-be150ef2e427');\n",
       "var x = new MutationObserver(function (mutations, observer) {{\n",
       "        var display = window.getComputedStyle(gd).display;\n",
       "        if (!display || display === 'none') {{\n",
       "            console.log([gd, 'removed!']);\n",
       "            Plotly.purge(gd);\n",
       "            observer.disconnect();\n",
       "        }}\n",
       "}});\n",
       "\n",
       "// Listen for the removal of the full notebook cells\n",
       "var notebookContainer = gd.closest('#notebook-container');\n",
       "if (notebookContainer) {{\n",
       "    x.observe(notebookContainer, {childList: true});\n",
       "}}\n",
       "\n",
       "// Listen for the clearing of the current output cell\n",
       "var outputEl = gd.closest('.output');\n",
       "if (outputEl) {{\n",
       "    x.observe(outputEl, {childList: true});\n",
       "}}\n",
       "\n",
       "                        })                };                });            </script>        </div>"
      ]
     },
     "metadata": {},
     "output_type": "display_data"
    }
   ],
   "source": [
    "import plotly.graph_objects as go\n",
    "fig = px.line(df, x=\"sec_time\", y=\"distance\",color='method', title='ADMM perfomance comparison', \n",
    "              template = \"plotly_white\",\n",
    "              labels={\"sec_time\": \"Time, s\",\n",
    "                \"distance\": \"Distance\",\n",
    "                \"method\": \"method\"\n",
    "                 })\n",
    "\n",
    "fig.show()"
   ]
  },
  {
   "cell_type": "code",
   "execution_count": 235,
   "id": "alive-nevada",
   "metadata": {},
   "outputs": [
    {
     "data": {
      "application/vnd.plotly.v1+json": {
       "config": {
        "plotlyServerURL": "https://plot.ly"
       },
       "data": [
        {
         "hovertemplate": "method=sklearn<br>Time, s=%{x}<br>Log_distance=%{y}<extra></extra>",
         "legendgroup": "sklearn",
         "line": {
          "color": "#636efa",
          "dash": "solid"
         },
         "mode": "lines",
         "name": "sklearn",
         "orientation": "v",
         "showlegend": true,
         "type": "scatter",
         "x": [
          8.96,
          25.51,
          36.64,
          44.69,
          53.01,
          50.46,
          27.88,
          16.31
         ],
         "xaxis": "x",
         "y": [
          0.0027120806785523094,
          0.0003552766870775386,
          0.00013555567963602786,
          0.00012576143683398227,
          0.00012537587650967354,
          0.00012535274328625285,
          0.00012544613933326994,
          0.0001254462717687887
         ],
         "yaxis": "y"
        },
        {
         "hovertemplate": "method=regain<br>Time, s=%{x}<br>Log_distance=%{y}<extra></extra>",
         "legendgroup": "regain",
         "line": {
          "color": "#EF553B",
          "dash": "solid"
         },
         "mode": "lines",
         "name": "regain",
         "orientation": "v",
         "showlegend": true,
         "type": "scatter",
         "x": [
          0.67,
          0.96,
          4.52,
          8.51,
          12.66,
          17.34,
          20.23,
          24.52
         ],
         "xaxis": "x",
         "y": [
          0.7845322670802309,
          0.6626845695736481,
          0.0784276008197344,
          0.007218277973182216,
          0.0009954842375765383,
          1.892332752558683e-05,
          0.00011002884961545035,
          0.00012400600871735251
         ],
         "yaxis": "y"
        },
        {
         "hovertemplate": "method=admm<br>Time, s=%{x}<br>Log_distance=%{y}<extra></extra>",
         "legendgroup": "admm",
         "line": {
          "color": "#00cc96",
          "dash": "solid"
         },
         "mode": "lines",
         "name": "admm",
         "orientation": "v",
         "showlegend": true,
         "type": "scatter",
         "x": [
          0.48,
          0.47,
          0.45,
          0.33,
          0.92,
          2.3,
          4.15,
          6.85
         ],
         "xaxis": "x",
         "y": [
          0.32901693654662434,
          0.32901693654662434,
          0.32901693654662434,
          0.32901693654662434,
          0.1596485098260404,
          0.029772240288387344,
          0.004377613844627511,
          0.0006774937597474682
         ],
         "yaxis": "y"
        },
        {
         "hovertemplate": "method=kkt_admm<br>Time, s=%{x}<br>Log_distance=%{y}<extra></extra>",
         "legendgroup": "kkt_admm",
         "line": {
          "color": "#ab63fa",
          "dash": "solid"
         },
         "mode": "lines",
         "name": "kkt_admm",
         "orientation": "v",
         "showlegend": true,
         "type": "scatter",
         "x": [
          1.45,
          4.48,
          9.14,
          14.99,
          28.95,
          21.65,
          29.13,
          34.62
         ],
         "xaxis": "x",
         "y": [
          0.22235855094630483,
          0.03870157769646381,
          0.004377613844627511,
          0.0007717318720372011,
          0.0001983647873424435,
          0.00013322951167576088,
          0.0001261729464249634,
          0.00012551416991886464
         ],
         "yaxis": "y"
        },
        {
         "hovertemplate": "method=block_admm<br>Time, s=%{x}<br>Log_distance=%{y}<extra></extra>",
         "legendgroup": "block_admm",
         "line": {
          "color": "#FFA15A",
          "dash": "solid"
         },
         "mode": "lines",
         "name": "block_admm",
         "orientation": "v",
         "showlegend": true,
         "type": "scatter",
         "x": [
          0.43,
          0.41,
          0.4,
          0.4,
          0.74,
          1.8,
          3.39,
          5.98
         ],
         "xaxis": "x",
         "y": [
          0.32901693654662434,
          0.32901693654662434,
          0.32901693654662434,
          0.32901693654662434,
          0.1596485098260404,
          0.029772240288387344,
          0.004377613844627511,
          0.0006774937597474682
         ],
         "yaxis": "y"
        },
        {
         "hovertemplate": "method=kkt_block_admm<br>Time, s=%{x}<br>Log_distance=%{y}<extra></extra>",
         "legendgroup": "kkt_block_admm",
         "line": {
          "color": "#19d3f3",
          "dash": "solid"
         },
         "mode": "lines",
         "name": "kkt_block_admm",
         "orientation": "v",
         "showlegend": true,
         "type": "scatter",
         "x": [
          1.58,
          4.43,
          9.01,
          14.2,
          21.77,
          29.01,
          39.71,
          41.45
         ],
         "xaxis": "x",
         "y": [
          0.22235855094630483,
          0.03870157769646381,
          0.004377613844627511,
          0.0007717318720372011,
          0.0001983647873424435,
          0.00013322951167576088,
          0.0001261729464249634,
          0.00012551416991886464
         ],
         "yaxis": "y"
        }
       ],
       "layout": {
        "legend": {
         "title": {
          "text": "method"
         },
         "tracegroupgap": 0
        },
        "template": {
         "data": {
          "bar": [
           {
            "error_x": {
             "color": "#2a3f5f"
            },
            "error_y": {
             "color": "#2a3f5f"
            },
            "marker": {
             "line": {
              "color": "white",
              "width": 0.5
             }
            },
            "type": "bar"
           }
          ],
          "barpolar": [
           {
            "marker": {
             "line": {
              "color": "white",
              "width": 0.5
             }
            },
            "type": "barpolar"
           }
          ],
          "carpet": [
           {
            "aaxis": {
             "endlinecolor": "#2a3f5f",
             "gridcolor": "#C8D4E3",
             "linecolor": "#C8D4E3",
             "minorgridcolor": "#C8D4E3",
             "startlinecolor": "#2a3f5f"
            },
            "baxis": {
             "endlinecolor": "#2a3f5f",
             "gridcolor": "#C8D4E3",
             "linecolor": "#C8D4E3",
             "minorgridcolor": "#C8D4E3",
             "startlinecolor": "#2a3f5f"
            },
            "type": "carpet"
           }
          ],
          "choropleth": [
           {
            "colorbar": {
             "outlinewidth": 0,
             "ticks": ""
            },
            "type": "choropleth"
           }
          ],
          "contour": [
           {
            "colorbar": {
             "outlinewidth": 0,
             "ticks": ""
            },
            "colorscale": [
             [
              0,
              "#0d0887"
             ],
             [
              0.1111111111111111,
              "#46039f"
             ],
             [
              0.2222222222222222,
              "#7201a8"
             ],
             [
              0.3333333333333333,
              "#9c179e"
             ],
             [
              0.4444444444444444,
              "#bd3786"
             ],
             [
              0.5555555555555556,
              "#d8576b"
             ],
             [
              0.6666666666666666,
              "#ed7953"
             ],
             [
              0.7777777777777778,
              "#fb9f3a"
             ],
             [
              0.8888888888888888,
              "#fdca26"
             ],
             [
              1,
              "#f0f921"
             ]
            ],
            "type": "contour"
           }
          ],
          "contourcarpet": [
           {
            "colorbar": {
             "outlinewidth": 0,
             "ticks": ""
            },
            "type": "contourcarpet"
           }
          ],
          "heatmap": [
           {
            "colorbar": {
             "outlinewidth": 0,
             "ticks": ""
            },
            "colorscale": [
             [
              0,
              "#0d0887"
             ],
             [
              0.1111111111111111,
              "#46039f"
             ],
             [
              0.2222222222222222,
              "#7201a8"
             ],
             [
              0.3333333333333333,
              "#9c179e"
             ],
             [
              0.4444444444444444,
              "#bd3786"
             ],
             [
              0.5555555555555556,
              "#d8576b"
             ],
             [
              0.6666666666666666,
              "#ed7953"
             ],
             [
              0.7777777777777778,
              "#fb9f3a"
             ],
             [
              0.8888888888888888,
              "#fdca26"
             ],
             [
              1,
              "#f0f921"
             ]
            ],
            "type": "heatmap"
           }
          ],
          "heatmapgl": [
           {
            "colorbar": {
             "outlinewidth": 0,
             "ticks": ""
            },
            "colorscale": [
             [
              0,
              "#0d0887"
             ],
             [
              0.1111111111111111,
              "#46039f"
             ],
             [
              0.2222222222222222,
              "#7201a8"
             ],
             [
              0.3333333333333333,
              "#9c179e"
             ],
             [
              0.4444444444444444,
              "#bd3786"
             ],
             [
              0.5555555555555556,
              "#d8576b"
             ],
             [
              0.6666666666666666,
              "#ed7953"
             ],
             [
              0.7777777777777778,
              "#fb9f3a"
             ],
             [
              0.8888888888888888,
              "#fdca26"
             ],
             [
              1,
              "#f0f921"
             ]
            ],
            "type": "heatmapgl"
           }
          ],
          "histogram": [
           {
            "marker": {
             "colorbar": {
              "outlinewidth": 0,
              "ticks": ""
             }
            },
            "type": "histogram"
           }
          ],
          "histogram2d": [
           {
            "colorbar": {
             "outlinewidth": 0,
             "ticks": ""
            },
            "colorscale": [
             [
              0,
              "#0d0887"
             ],
             [
              0.1111111111111111,
              "#46039f"
             ],
             [
              0.2222222222222222,
              "#7201a8"
             ],
             [
              0.3333333333333333,
              "#9c179e"
             ],
             [
              0.4444444444444444,
              "#bd3786"
             ],
             [
              0.5555555555555556,
              "#d8576b"
             ],
             [
              0.6666666666666666,
              "#ed7953"
             ],
             [
              0.7777777777777778,
              "#fb9f3a"
             ],
             [
              0.8888888888888888,
              "#fdca26"
             ],
             [
              1,
              "#f0f921"
             ]
            ],
            "type": "histogram2d"
           }
          ],
          "histogram2dcontour": [
           {
            "colorbar": {
             "outlinewidth": 0,
             "ticks": ""
            },
            "colorscale": [
             [
              0,
              "#0d0887"
             ],
             [
              0.1111111111111111,
              "#46039f"
             ],
             [
              0.2222222222222222,
              "#7201a8"
             ],
             [
              0.3333333333333333,
              "#9c179e"
             ],
             [
              0.4444444444444444,
              "#bd3786"
             ],
             [
              0.5555555555555556,
              "#d8576b"
             ],
             [
              0.6666666666666666,
              "#ed7953"
             ],
             [
              0.7777777777777778,
              "#fb9f3a"
             ],
             [
              0.8888888888888888,
              "#fdca26"
             ],
             [
              1,
              "#f0f921"
             ]
            ],
            "type": "histogram2dcontour"
           }
          ],
          "mesh3d": [
           {
            "colorbar": {
             "outlinewidth": 0,
             "ticks": ""
            },
            "type": "mesh3d"
           }
          ],
          "parcoords": [
           {
            "line": {
             "colorbar": {
              "outlinewidth": 0,
              "ticks": ""
             }
            },
            "type": "parcoords"
           }
          ],
          "pie": [
           {
            "automargin": true,
            "type": "pie"
           }
          ],
          "scatter": [
           {
            "marker": {
             "colorbar": {
              "outlinewidth": 0,
              "ticks": ""
             }
            },
            "type": "scatter"
           }
          ],
          "scatter3d": [
           {
            "line": {
             "colorbar": {
              "outlinewidth": 0,
              "ticks": ""
             }
            },
            "marker": {
             "colorbar": {
              "outlinewidth": 0,
              "ticks": ""
             }
            },
            "type": "scatter3d"
           }
          ],
          "scattercarpet": [
           {
            "marker": {
             "colorbar": {
              "outlinewidth": 0,
              "ticks": ""
             }
            },
            "type": "scattercarpet"
           }
          ],
          "scattergeo": [
           {
            "marker": {
             "colorbar": {
              "outlinewidth": 0,
              "ticks": ""
             }
            },
            "type": "scattergeo"
           }
          ],
          "scattergl": [
           {
            "marker": {
             "colorbar": {
              "outlinewidth": 0,
              "ticks": ""
             }
            },
            "type": "scattergl"
           }
          ],
          "scattermapbox": [
           {
            "marker": {
             "colorbar": {
              "outlinewidth": 0,
              "ticks": ""
             }
            },
            "type": "scattermapbox"
           }
          ],
          "scatterpolar": [
           {
            "marker": {
             "colorbar": {
              "outlinewidth": 0,
              "ticks": ""
             }
            },
            "type": "scatterpolar"
           }
          ],
          "scatterpolargl": [
           {
            "marker": {
             "colorbar": {
              "outlinewidth": 0,
              "ticks": ""
             }
            },
            "type": "scatterpolargl"
           }
          ],
          "scatterternary": [
           {
            "marker": {
             "colorbar": {
              "outlinewidth": 0,
              "ticks": ""
             }
            },
            "type": "scatterternary"
           }
          ],
          "surface": [
           {
            "colorbar": {
             "outlinewidth": 0,
             "ticks": ""
            },
            "colorscale": [
             [
              0,
              "#0d0887"
             ],
             [
              0.1111111111111111,
              "#46039f"
             ],
             [
              0.2222222222222222,
              "#7201a8"
             ],
             [
              0.3333333333333333,
              "#9c179e"
             ],
             [
              0.4444444444444444,
              "#bd3786"
             ],
             [
              0.5555555555555556,
              "#d8576b"
             ],
             [
              0.6666666666666666,
              "#ed7953"
             ],
             [
              0.7777777777777778,
              "#fb9f3a"
             ],
             [
              0.8888888888888888,
              "#fdca26"
             ],
             [
              1,
              "#f0f921"
             ]
            ],
            "type": "surface"
           }
          ],
          "table": [
           {
            "cells": {
             "fill": {
              "color": "#EBF0F8"
             },
             "line": {
              "color": "white"
             }
            },
            "header": {
             "fill": {
              "color": "#C8D4E3"
             },
             "line": {
              "color": "white"
             }
            },
            "type": "table"
           }
          ]
         },
         "layout": {
          "annotationdefaults": {
           "arrowcolor": "#2a3f5f",
           "arrowhead": 0,
           "arrowwidth": 1
          },
          "autotypenumbers": "strict",
          "coloraxis": {
           "colorbar": {
            "outlinewidth": 0,
            "ticks": ""
           }
          },
          "colorscale": {
           "diverging": [
            [
             0,
             "#8e0152"
            ],
            [
             0.1,
             "#c51b7d"
            ],
            [
             0.2,
             "#de77ae"
            ],
            [
             0.3,
             "#f1b6da"
            ],
            [
             0.4,
             "#fde0ef"
            ],
            [
             0.5,
             "#f7f7f7"
            ],
            [
             0.6,
             "#e6f5d0"
            ],
            [
             0.7,
             "#b8e186"
            ],
            [
             0.8,
             "#7fbc41"
            ],
            [
             0.9,
             "#4d9221"
            ],
            [
             1,
             "#276419"
            ]
           ],
           "sequential": [
            [
             0,
             "#0d0887"
            ],
            [
             0.1111111111111111,
             "#46039f"
            ],
            [
             0.2222222222222222,
             "#7201a8"
            ],
            [
             0.3333333333333333,
             "#9c179e"
            ],
            [
             0.4444444444444444,
             "#bd3786"
            ],
            [
             0.5555555555555556,
             "#d8576b"
            ],
            [
             0.6666666666666666,
             "#ed7953"
            ],
            [
             0.7777777777777778,
             "#fb9f3a"
            ],
            [
             0.8888888888888888,
             "#fdca26"
            ],
            [
             1,
             "#f0f921"
            ]
           ],
           "sequentialminus": [
            [
             0,
             "#0d0887"
            ],
            [
             0.1111111111111111,
             "#46039f"
            ],
            [
             0.2222222222222222,
             "#7201a8"
            ],
            [
             0.3333333333333333,
             "#9c179e"
            ],
            [
             0.4444444444444444,
             "#bd3786"
            ],
            [
             0.5555555555555556,
             "#d8576b"
            ],
            [
             0.6666666666666666,
             "#ed7953"
            ],
            [
             0.7777777777777778,
             "#fb9f3a"
            ],
            [
             0.8888888888888888,
             "#fdca26"
            ],
            [
             1,
             "#f0f921"
            ]
           ]
          },
          "colorway": [
           "#636efa",
           "#EF553B",
           "#00cc96",
           "#ab63fa",
           "#FFA15A",
           "#19d3f3",
           "#FF6692",
           "#B6E880",
           "#FF97FF",
           "#FECB52"
          ],
          "font": {
           "color": "#2a3f5f"
          },
          "geo": {
           "bgcolor": "white",
           "lakecolor": "white",
           "landcolor": "white",
           "showlakes": true,
           "showland": true,
           "subunitcolor": "#C8D4E3"
          },
          "hoverlabel": {
           "align": "left"
          },
          "hovermode": "closest",
          "mapbox": {
           "style": "light"
          },
          "paper_bgcolor": "white",
          "plot_bgcolor": "white",
          "polar": {
           "angularaxis": {
            "gridcolor": "#EBF0F8",
            "linecolor": "#EBF0F8",
            "ticks": ""
           },
           "bgcolor": "white",
           "radialaxis": {
            "gridcolor": "#EBF0F8",
            "linecolor": "#EBF0F8",
            "ticks": ""
           }
          },
          "scene": {
           "xaxis": {
            "backgroundcolor": "white",
            "gridcolor": "#DFE8F3",
            "gridwidth": 2,
            "linecolor": "#EBF0F8",
            "showbackground": true,
            "ticks": "",
            "zerolinecolor": "#EBF0F8"
           },
           "yaxis": {
            "backgroundcolor": "white",
            "gridcolor": "#DFE8F3",
            "gridwidth": 2,
            "linecolor": "#EBF0F8",
            "showbackground": true,
            "ticks": "",
            "zerolinecolor": "#EBF0F8"
           },
           "zaxis": {
            "backgroundcolor": "white",
            "gridcolor": "#DFE8F3",
            "gridwidth": 2,
            "linecolor": "#EBF0F8",
            "showbackground": true,
            "ticks": "",
            "zerolinecolor": "#EBF0F8"
           }
          },
          "shapedefaults": {
           "line": {
            "color": "#2a3f5f"
           }
          },
          "ternary": {
           "aaxis": {
            "gridcolor": "#DFE8F3",
            "linecolor": "#A2B1C6",
            "ticks": ""
           },
           "baxis": {
            "gridcolor": "#DFE8F3",
            "linecolor": "#A2B1C6",
            "ticks": ""
           },
           "bgcolor": "white",
           "caxis": {
            "gridcolor": "#DFE8F3",
            "linecolor": "#A2B1C6",
            "ticks": ""
           }
          },
          "title": {
           "x": 0.05
          },
          "xaxis": {
           "automargin": true,
           "gridcolor": "#EBF0F8",
           "linecolor": "#EBF0F8",
           "ticks": "",
           "title": {
            "standoff": 15
           },
           "zerolinecolor": "#EBF0F8",
           "zerolinewidth": 2
          },
          "yaxis": {
           "automargin": true,
           "gridcolor": "#EBF0F8",
           "linecolor": "#EBF0F8",
           "ticks": "",
           "title": {
            "standoff": 15
           },
           "zerolinecolor": "#EBF0F8",
           "zerolinewidth": 2
          }
         }
        },
        "title": {
         "text": "ADMM perfomance comparison"
        },
        "xaxis": {
         "anchor": "y",
         "domain": [
          0,
          1
         ],
         "title": {
          "text": "Time, s"
         }
        },
        "yaxis": {
         "anchor": "x",
         "domain": [
          0,
          1
         ],
         "title": {
          "text": "Log_distance"
         },
         "type": "log"
        }
       }
      },
      "text/html": [
       "<div>                            <div id=\"e5a3f577-4a64-4057-b9e9-a5eb3be9189d\" class=\"plotly-graph-div\" style=\"height:525px; width:100%;\"></div>            <script type=\"text/javascript\">                require([\"plotly\"], function(Plotly) {                    window.PLOTLYENV=window.PLOTLYENV || {};                                    if (document.getElementById(\"e5a3f577-4a64-4057-b9e9-a5eb3be9189d\")) {                    Plotly.newPlot(                        \"e5a3f577-4a64-4057-b9e9-a5eb3be9189d\",                        [{\"hovertemplate\": \"method=sklearn<br>Time, s=%{x}<br>Log_distance=%{y}<extra></extra>\", \"legendgroup\": \"sklearn\", \"line\": {\"color\": \"#636efa\", \"dash\": \"solid\"}, \"mode\": \"lines\", \"name\": \"sklearn\", \"orientation\": \"v\", \"showlegend\": true, \"type\": \"scatter\", \"x\": [8.96, 25.51, 36.64, 44.69, 53.01, 50.46, 27.88, 16.31], \"xaxis\": \"x\", \"y\": [0.0027120806785523094, 0.0003552766870775386, 0.00013555567963602786, 0.00012576143683398227, 0.00012537587650967354, 0.00012535274328625285, 0.00012544613933326994, 0.0001254462717687887], \"yaxis\": \"y\"}, {\"hovertemplate\": \"method=regain<br>Time, s=%{x}<br>Log_distance=%{y}<extra></extra>\", \"legendgroup\": \"regain\", \"line\": {\"color\": \"#EF553B\", \"dash\": \"solid\"}, \"mode\": \"lines\", \"name\": \"regain\", \"orientation\": \"v\", \"showlegend\": true, \"type\": \"scatter\", \"x\": [0.67, 0.96, 4.52, 8.51, 12.66, 17.34, 20.23, 24.52], \"xaxis\": \"x\", \"y\": [0.7845322670802309, 0.6626845695736481, 0.0784276008197344, 0.007218277973182216, 0.0009954842375765383, 1.892332752558683e-05, 0.00011002884961545035, 0.00012400600871735251], \"yaxis\": \"y\"}, {\"hovertemplate\": \"method=admm<br>Time, s=%{x}<br>Log_distance=%{y}<extra></extra>\", \"legendgroup\": \"admm\", \"line\": {\"color\": \"#00cc96\", \"dash\": \"solid\"}, \"mode\": \"lines\", \"name\": \"admm\", \"orientation\": \"v\", \"showlegend\": true, \"type\": \"scatter\", \"x\": [0.48, 0.47, 0.45, 0.33, 0.92, 2.3, 4.15, 6.85], \"xaxis\": \"x\", \"y\": [0.32901693654662434, 0.32901693654662434, 0.32901693654662434, 0.32901693654662434, 0.1596485098260404, 0.029772240288387344, 0.004377613844627511, 0.0006774937597474682], \"yaxis\": \"y\"}, {\"hovertemplate\": \"method=kkt_admm<br>Time, s=%{x}<br>Log_distance=%{y}<extra></extra>\", \"legendgroup\": \"kkt_admm\", \"line\": {\"color\": \"#ab63fa\", \"dash\": \"solid\"}, \"mode\": \"lines\", \"name\": \"kkt_admm\", \"orientation\": \"v\", \"showlegend\": true, \"type\": \"scatter\", \"x\": [1.45, 4.48, 9.14, 14.99, 28.95, 21.65, 29.13, 34.62], \"xaxis\": \"x\", \"y\": [0.22235855094630483, 0.03870157769646381, 0.004377613844627511, 0.0007717318720372011, 0.0001983647873424435, 0.00013322951167576088, 0.0001261729464249634, 0.00012551416991886464], \"yaxis\": \"y\"}, {\"hovertemplate\": \"method=block_admm<br>Time, s=%{x}<br>Log_distance=%{y}<extra></extra>\", \"legendgroup\": \"block_admm\", \"line\": {\"color\": \"#FFA15A\", \"dash\": \"solid\"}, \"mode\": \"lines\", \"name\": \"block_admm\", \"orientation\": \"v\", \"showlegend\": true, \"type\": \"scatter\", \"x\": [0.43, 0.41, 0.4, 0.4, 0.74, 1.8, 3.39, 5.98], \"xaxis\": \"x\", \"y\": [0.32901693654662434, 0.32901693654662434, 0.32901693654662434, 0.32901693654662434, 0.1596485098260404, 0.029772240288387344, 0.004377613844627511, 0.0006774937597474682], \"yaxis\": \"y\"}, {\"hovertemplate\": \"method=kkt_block_admm<br>Time, s=%{x}<br>Log_distance=%{y}<extra></extra>\", \"legendgroup\": \"kkt_block_admm\", \"line\": {\"color\": \"#19d3f3\", \"dash\": \"solid\"}, \"mode\": \"lines\", \"name\": \"kkt_block_admm\", \"orientation\": \"v\", \"showlegend\": true, \"type\": \"scatter\", \"x\": [1.58, 4.43, 9.01, 14.2, 21.77, 29.01, 39.71, 41.45], \"xaxis\": \"x\", \"y\": [0.22235855094630483, 0.03870157769646381, 0.004377613844627511, 0.0007717318720372011, 0.0001983647873424435, 0.00013322951167576088, 0.0001261729464249634, 0.00012551416991886464], \"yaxis\": \"y\"}],                        {\"legend\": {\"title\": {\"text\": \"method\"}, \"tracegroupgap\": 0}, \"template\": {\"data\": {\"bar\": [{\"error_x\": {\"color\": \"#2a3f5f\"}, \"error_y\": {\"color\": \"#2a3f5f\"}, \"marker\": {\"line\": {\"color\": \"white\", \"width\": 0.5}}, \"type\": \"bar\"}], \"barpolar\": [{\"marker\": {\"line\": {\"color\": \"white\", \"width\": 0.5}}, \"type\": \"barpolar\"}], \"carpet\": [{\"aaxis\": {\"endlinecolor\": \"#2a3f5f\", \"gridcolor\": \"#C8D4E3\", \"linecolor\": \"#C8D4E3\", \"minorgridcolor\": \"#C8D4E3\", \"startlinecolor\": \"#2a3f5f\"}, \"baxis\": {\"endlinecolor\": \"#2a3f5f\", \"gridcolor\": \"#C8D4E3\", \"linecolor\": \"#C8D4E3\", \"minorgridcolor\": \"#C8D4E3\", \"startlinecolor\": \"#2a3f5f\"}, \"type\": \"carpet\"}], \"choropleth\": [{\"colorbar\": {\"outlinewidth\": 0, \"ticks\": \"\"}, \"type\": \"choropleth\"}], \"contour\": [{\"colorbar\": {\"outlinewidth\": 0, \"ticks\": \"\"}, \"colorscale\": [[0.0, \"#0d0887\"], [0.1111111111111111, \"#46039f\"], [0.2222222222222222, \"#7201a8\"], [0.3333333333333333, \"#9c179e\"], [0.4444444444444444, \"#bd3786\"], [0.5555555555555556, \"#d8576b\"], [0.6666666666666666, \"#ed7953\"], [0.7777777777777778, \"#fb9f3a\"], [0.8888888888888888, \"#fdca26\"], [1.0, \"#f0f921\"]], \"type\": \"contour\"}], \"contourcarpet\": [{\"colorbar\": {\"outlinewidth\": 0, \"ticks\": \"\"}, \"type\": \"contourcarpet\"}], \"heatmap\": [{\"colorbar\": {\"outlinewidth\": 0, \"ticks\": \"\"}, \"colorscale\": [[0.0, \"#0d0887\"], [0.1111111111111111, \"#46039f\"], [0.2222222222222222, \"#7201a8\"], [0.3333333333333333, \"#9c179e\"], [0.4444444444444444, \"#bd3786\"], [0.5555555555555556, \"#d8576b\"], [0.6666666666666666, \"#ed7953\"], [0.7777777777777778, \"#fb9f3a\"], [0.8888888888888888, \"#fdca26\"], [1.0, \"#f0f921\"]], \"type\": \"heatmap\"}], \"heatmapgl\": [{\"colorbar\": {\"outlinewidth\": 0, \"ticks\": \"\"}, \"colorscale\": [[0.0, \"#0d0887\"], [0.1111111111111111, \"#46039f\"], [0.2222222222222222, \"#7201a8\"], [0.3333333333333333, \"#9c179e\"], [0.4444444444444444, \"#bd3786\"], [0.5555555555555556, \"#d8576b\"], [0.6666666666666666, \"#ed7953\"], [0.7777777777777778, \"#fb9f3a\"], [0.8888888888888888, \"#fdca26\"], [1.0, \"#f0f921\"]], \"type\": \"heatmapgl\"}], \"histogram\": [{\"marker\": {\"colorbar\": {\"outlinewidth\": 0, \"ticks\": \"\"}}, \"type\": \"histogram\"}], \"histogram2d\": [{\"colorbar\": {\"outlinewidth\": 0, \"ticks\": \"\"}, \"colorscale\": [[0.0, \"#0d0887\"], [0.1111111111111111, \"#46039f\"], [0.2222222222222222, \"#7201a8\"], [0.3333333333333333, \"#9c179e\"], [0.4444444444444444, \"#bd3786\"], [0.5555555555555556, \"#d8576b\"], [0.6666666666666666, \"#ed7953\"], [0.7777777777777778, \"#fb9f3a\"], [0.8888888888888888, \"#fdca26\"], [1.0, \"#f0f921\"]], \"type\": \"histogram2d\"}], \"histogram2dcontour\": [{\"colorbar\": {\"outlinewidth\": 0, \"ticks\": \"\"}, \"colorscale\": [[0.0, \"#0d0887\"], [0.1111111111111111, \"#46039f\"], [0.2222222222222222, \"#7201a8\"], [0.3333333333333333, \"#9c179e\"], [0.4444444444444444, \"#bd3786\"], [0.5555555555555556, \"#d8576b\"], [0.6666666666666666, \"#ed7953\"], [0.7777777777777778, \"#fb9f3a\"], [0.8888888888888888, \"#fdca26\"], [1.0, \"#f0f921\"]], \"type\": \"histogram2dcontour\"}], \"mesh3d\": [{\"colorbar\": {\"outlinewidth\": 0, \"ticks\": \"\"}, \"type\": \"mesh3d\"}], \"parcoords\": [{\"line\": {\"colorbar\": {\"outlinewidth\": 0, \"ticks\": \"\"}}, \"type\": \"parcoords\"}], \"pie\": [{\"automargin\": true, \"type\": \"pie\"}], \"scatter\": [{\"marker\": {\"colorbar\": {\"outlinewidth\": 0, \"ticks\": \"\"}}, \"type\": \"scatter\"}], \"scatter3d\": [{\"line\": {\"colorbar\": {\"outlinewidth\": 0, \"ticks\": \"\"}}, \"marker\": {\"colorbar\": {\"outlinewidth\": 0, \"ticks\": \"\"}}, \"type\": \"scatter3d\"}], \"scattercarpet\": [{\"marker\": {\"colorbar\": {\"outlinewidth\": 0, \"ticks\": \"\"}}, \"type\": \"scattercarpet\"}], \"scattergeo\": [{\"marker\": {\"colorbar\": {\"outlinewidth\": 0, \"ticks\": \"\"}}, \"type\": \"scattergeo\"}], \"scattergl\": [{\"marker\": {\"colorbar\": {\"outlinewidth\": 0, \"ticks\": \"\"}}, \"type\": \"scattergl\"}], \"scattermapbox\": [{\"marker\": {\"colorbar\": {\"outlinewidth\": 0, \"ticks\": \"\"}}, \"type\": \"scattermapbox\"}], \"scatterpolar\": [{\"marker\": {\"colorbar\": {\"outlinewidth\": 0, \"ticks\": \"\"}}, \"type\": \"scatterpolar\"}], \"scatterpolargl\": [{\"marker\": {\"colorbar\": {\"outlinewidth\": 0, \"ticks\": \"\"}}, \"type\": \"scatterpolargl\"}], \"scatterternary\": [{\"marker\": {\"colorbar\": {\"outlinewidth\": 0, \"ticks\": \"\"}}, \"type\": \"scatterternary\"}], \"surface\": [{\"colorbar\": {\"outlinewidth\": 0, \"ticks\": \"\"}, \"colorscale\": [[0.0, \"#0d0887\"], [0.1111111111111111, \"#46039f\"], [0.2222222222222222, \"#7201a8\"], [0.3333333333333333, \"#9c179e\"], [0.4444444444444444, \"#bd3786\"], [0.5555555555555556, \"#d8576b\"], [0.6666666666666666, \"#ed7953\"], [0.7777777777777778, \"#fb9f3a\"], [0.8888888888888888, \"#fdca26\"], [1.0, \"#f0f921\"]], \"type\": \"surface\"}], \"table\": [{\"cells\": {\"fill\": {\"color\": \"#EBF0F8\"}, \"line\": {\"color\": \"white\"}}, \"header\": {\"fill\": {\"color\": \"#C8D4E3\"}, \"line\": {\"color\": \"white\"}}, \"type\": \"table\"}]}, \"layout\": {\"annotationdefaults\": {\"arrowcolor\": \"#2a3f5f\", \"arrowhead\": 0, \"arrowwidth\": 1}, \"autotypenumbers\": \"strict\", \"coloraxis\": {\"colorbar\": {\"outlinewidth\": 0, \"ticks\": \"\"}}, \"colorscale\": {\"diverging\": [[0, \"#8e0152\"], [0.1, \"#c51b7d\"], [0.2, \"#de77ae\"], [0.3, \"#f1b6da\"], [0.4, \"#fde0ef\"], [0.5, \"#f7f7f7\"], [0.6, \"#e6f5d0\"], [0.7, \"#b8e186\"], [0.8, \"#7fbc41\"], [0.9, \"#4d9221\"], [1, \"#276419\"]], \"sequential\": [[0.0, \"#0d0887\"], [0.1111111111111111, \"#46039f\"], [0.2222222222222222, \"#7201a8\"], [0.3333333333333333, \"#9c179e\"], [0.4444444444444444, \"#bd3786\"], [0.5555555555555556, \"#d8576b\"], [0.6666666666666666, \"#ed7953\"], [0.7777777777777778, \"#fb9f3a\"], [0.8888888888888888, \"#fdca26\"], [1.0, \"#f0f921\"]], \"sequentialminus\": [[0.0, \"#0d0887\"], [0.1111111111111111, \"#46039f\"], [0.2222222222222222, \"#7201a8\"], [0.3333333333333333, \"#9c179e\"], [0.4444444444444444, \"#bd3786\"], [0.5555555555555556, \"#d8576b\"], [0.6666666666666666, \"#ed7953\"], [0.7777777777777778, \"#fb9f3a\"], [0.8888888888888888, \"#fdca26\"], [1.0, \"#f0f921\"]]}, \"colorway\": [\"#636efa\", \"#EF553B\", \"#00cc96\", \"#ab63fa\", \"#FFA15A\", \"#19d3f3\", \"#FF6692\", \"#B6E880\", \"#FF97FF\", \"#FECB52\"], \"font\": {\"color\": \"#2a3f5f\"}, \"geo\": {\"bgcolor\": \"white\", \"lakecolor\": \"white\", \"landcolor\": \"white\", \"showlakes\": true, \"showland\": true, \"subunitcolor\": \"#C8D4E3\"}, \"hoverlabel\": {\"align\": \"left\"}, \"hovermode\": \"closest\", \"mapbox\": {\"style\": \"light\"}, \"paper_bgcolor\": \"white\", \"plot_bgcolor\": \"white\", \"polar\": {\"angularaxis\": {\"gridcolor\": \"#EBF0F8\", \"linecolor\": \"#EBF0F8\", \"ticks\": \"\"}, \"bgcolor\": \"white\", \"radialaxis\": {\"gridcolor\": \"#EBF0F8\", \"linecolor\": \"#EBF0F8\", \"ticks\": \"\"}}, \"scene\": {\"xaxis\": {\"backgroundcolor\": \"white\", \"gridcolor\": \"#DFE8F3\", \"gridwidth\": 2, \"linecolor\": \"#EBF0F8\", \"showbackground\": true, \"ticks\": \"\", \"zerolinecolor\": \"#EBF0F8\"}, \"yaxis\": {\"backgroundcolor\": \"white\", \"gridcolor\": \"#DFE8F3\", \"gridwidth\": 2, \"linecolor\": \"#EBF0F8\", \"showbackground\": true, \"ticks\": \"\", \"zerolinecolor\": \"#EBF0F8\"}, \"zaxis\": {\"backgroundcolor\": \"white\", \"gridcolor\": \"#DFE8F3\", \"gridwidth\": 2, \"linecolor\": \"#EBF0F8\", \"showbackground\": true, \"ticks\": \"\", \"zerolinecolor\": \"#EBF0F8\"}}, \"shapedefaults\": {\"line\": {\"color\": \"#2a3f5f\"}}, \"ternary\": {\"aaxis\": {\"gridcolor\": \"#DFE8F3\", \"linecolor\": \"#A2B1C6\", \"ticks\": \"\"}, \"baxis\": {\"gridcolor\": \"#DFE8F3\", \"linecolor\": \"#A2B1C6\", \"ticks\": \"\"}, \"bgcolor\": \"white\", \"caxis\": {\"gridcolor\": \"#DFE8F3\", \"linecolor\": \"#A2B1C6\", \"ticks\": \"\"}}, \"title\": {\"x\": 0.05}, \"xaxis\": {\"automargin\": true, \"gridcolor\": \"#EBF0F8\", \"linecolor\": \"#EBF0F8\", \"ticks\": \"\", \"title\": {\"standoff\": 15}, \"zerolinecolor\": \"#EBF0F8\", \"zerolinewidth\": 2}, \"yaxis\": {\"automargin\": true, \"gridcolor\": \"#EBF0F8\", \"linecolor\": \"#EBF0F8\", \"ticks\": \"\", \"title\": {\"standoff\": 15}, \"zerolinecolor\": \"#EBF0F8\", \"zerolinewidth\": 2}}}, \"title\": {\"text\": \"ADMM perfomance comparison\"}, \"xaxis\": {\"anchor\": \"y\", \"domain\": [0.0, 1.0], \"title\": {\"text\": \"Time, s\"}}, \"yaxis\": {\"anchor\": \"x\", \"domain\": [0.0, 1.0], \"title\": {\"text\": \"Log_distance\"}, \"type\": \"log\"}},                        {\"responsive\": true}                    ).then(function(){\n",
       "                            \n",
       "var gd = document.getElementById('e5a3f577-4a64-4057-b9e9-a5eb3be9189d');\n",
       "var x = new MutationObserver(function (mutations, observer) {{\n",
       "        var display = window.getComputedStyle(gd).display;\n",
       "        if (!display || display === 'none') {{\n",
       "            console.log([gd, 'removed!']);\n",
       "            Plotly.purge(gd);\n",
       "            observer.disconnect();\n",
       "        }}\n",
       "}});\n",
       "\n",
       "// Listen for the removal of the full notebook cells\n",
       "var notebookContainer = gd.closest('#notebook-container');\n",
       "if (notebookContainer) {{\n",
       "    x.observe(notebookContainer, {childList: true});\n",
       "}}\n",
       "\n",
       "// Listen for the clearing of the current output cell\n",
       "var outputEl = gd.closest('.output');\n",
       "if (outputEl) {{\n",
       "    x.observe(outputEl, {childList: true});\n",
       "}}\n",
       "\n",
       "                        })                };                });            </script>        </div>"
      ]
     },
     "metadata": {},
     "output_type": "display_data"
    }
   ],
   "source": [
    "fig = px.line(df, x=\"sec_time\", y=\"distance\",color='method', title='ADMM perfomance comparison', \n",
    "              template = \"plotly_white\",\n",
    "              labels={\"sec_time\": \"Time, s\",\n",
    "                \"distance\": \"Log_distance\",\n",
    "                \"method\": \"method\"\n",
    "                 },\n",
    "              log_y = True)\n",
    "\n",
    "fig.show()"
   ]
  },
  {
   "cell_type": "code",
   "execution_count": 236,
   "id": "favorite-judges",
   "metadata": {},
   "outputs": [
    {
     "data": {
      "application/vnd.plotly.v1+json": {
       "config": {
        "plotlyServerURL": "https://plot.ly"
       },
       "data": [
        {
         "hovertemplate": "method=sklearn<br>Time, s=%{x}<br>Log_distance=%{y}<extra></extra>",
         "legendgroup": "sklearn",
         "line": {
          "color": "#636efa",
          "dash": "solid"
         },
         "mode": "lines",
         "name": "sklearn",
         "orientation": "v",
         "showlegend": true,
         "textposition": "top center",
         "type": "scatter",
         "x": [
          8.96,
          25.51,
          36.64,
          44.69,
          53.01,
          50.46,
          27.88,
          16.31
         ],
         "xaxis": "x",
         "y": [
          0.0027120806785523094,
          0.0003552766870775386,
          0.00013555567963602786,
          0.00012576143683398227,
          0.00012537587650967354,
          0.00012535274328625285,
          0.00012544613933326994,
          0.0001254462717687887
         ],
         "yaxis": "y"
        },
        {
         "hovertemplate": "method=regain<br>Time, s=%{x}<br>Log_distance=%{y}<extra></extra>",
         "legendgroup": "regain",
         "line": {
          "color": "#EF553B",
          "dash": "dot"
         },
         "mode": "lines",
         "name": "regain",
         "orientation": "v",
         "showlegend": true,
         "textposition": "top center",
         "type": "scatter",
         "x": [
          0.67,
          0.96,
          4.52,
          8.51,
          12.66,
          17.34,
          20.23,
          24.52
         ],
         "xaxis": "x",
         "y": [
          0.7845322670802309,
          0.6626845695736481,
          0.0784276008197344,
          0.007218277973182216,
          0.0009954842375765383,
          1.892332752558683e-05,
          0.00011002884961545035,
          0.00012400600871735251
         ],
         "yaxis": "y"
        },
        {
         "hovertemplate": "method=admm<br>Time, s=%{x}<br>Log_distance=%{y}<extra></extra>",
         "legendgroup": "admm",
         "line": {
          "color": "#00cc96",
          "dash": "dash"
         },
         "mode": "lines",
         "name": "admm",
         "orientation": "v",
         "showlegend": true,
         "textposition": "top center",
         "type": "scatter",
         "x": [
          0.48,
          0.47,
          0.45,
          0.33,
          0.92,
          2.3,
          4.15,
          6.85
         ],
         "xaxis": "x",
         "y": [
          0.32901693654662434,
          0.32901693654662434,
          0.32901693654662434,
          0.32901693654662434,
          0.1596485098260404,
          0.029772240288387344,
          0.004377613844627511,
          0.0006774937597474682
         ],
         "yaxis": "y"
        },
        {
         "hovertemplate": "method=kkt_admm<br>Time, s=%{x}<br>Log_distance=%{y}<extra></extra>",
         "legendgroup": "kkt_admm",
         "line": {
          "color": "#ab63fa",
          "dash": "longdash"
         },
         "mode": "lines",
         "name": "kkt_admm",
         "orientation": "v",
         "showlegend": true,
         "textposition": "top center",
         "type": "scatter",
         "x": [
          1.45,
          4.48,
          9.14,
          14.99,
          28.95,
          21.65,
          29.13,
          34.62
         ],
         "xaxis": "x",
         "y": [
          0.22235855094630483,
          0.03870157769646381,
          0.004377613844627511,
          0.0007717318720372011,
          0.0001983647873424435,
          0.00013322951167576088,
          0.0001261729464249634,
          0.00012551416991886464
         ],
         "yaxis": "y"
        },
        {
         "hovertemplate": "method=block_admm<br>Time, s=%{x}<br>Log_distance=%{y}<extra></extra>",
         "legendgroup": "block_admm",
         "line": {
          "color": "#FFA15A",
          "dash": "dashdot"
         },
         "mode": "lines",
         "name": "block_admm",
         "orientation": "v",
         "showlegend": true,
         "textposition": "top center",
         "type": "scatter",
         "x": [
          0.43,
          0.41,
          0.4,
          0.4,
          0.74,
          1.8,
          3.39,
          5.98
         ],
         "xaxis": "x",
         "y": [
          0.32901693654662434,
          0.32901693654662434,
          0.32901693654662434,
          0.32901693654662434,
          0.1596485098260404,
          0.029772240288387344,
          0.004377613844627511,
          0.0006774937597474682
         ],
         "yaxis": "y"
        },
        {
         "hovertemplate": "method=kkt_block_admm<br>Time, s=%{x}<br>Log_distance=%{y}<extra></extra>",
         "legendgroup": "kkt_block_admm",
         "line": {
          "color": "#19d3f3",
          "dash": "longdashdot"
         },
         "mode": "lines",
         "name": "kkt_block_admm",
         "orientation": "v",
         "showlegend": true,
         "textposition": "top center",
         "type": "scatter",
         "x": [
          1.58,
          4.43,
          9.01,
          14.2,
          21.77,
          29.01,
          39.71,
          41.45
         ],
         "xaxis": "x",
         "y": [
          0.22235855094630483,
          0.03870157769646381,
          0.004377613844627511,
          0.0007717318720372011,
          0.0001983647873424435,
          0.00013322951167576088,
          0.0001261729464249634,
          0.00012551416991886464
         ],
         "yaxis": "y"
        }
       ],
       "layout": {
        "legend": {
         "title": {
          "text": "method"
         },
         "tracegroupgap": 0
        },
        "template": {
         "data": {
          "bar": [
           {
            "error_x": {
             "color": "#2a3f5f"
            },
            "error_y": {
             "color": "#2a3f5f"
            },
            "marker": {
             "line": {
              "color": "white",
              "width": 0.5
             }
            },
            "type": "bar"
           }
          ],
          "barpolar": [
           {
            "marker": {
             "line": {
              "color": "white",
              "width": 0.5
             }
            },
            "type": "barpolar"
           }
          ],
          "carpet": [
           {
            "aaxis": {
             "endlinecolor": "#2a3f5f",
             "gridcolor": "#C8D4E3",
             "linecolor": "#C8D4E3",
             "minorgridcolor": "#C8D4E3",
             "startlinecolor": "#2a3f5f"
            },
            "baxis": {
             "endlinecolor": "#2a3f5f",
             "gridcolor": "#C8D4E3",
             "linecolor": "#C8D4E3",
             "minorgridcolor": "#C8D4E3",
             "startlinecolor": "#2a3f5f"
            },
            "type": "carpet"
           }
          ],
          "choropleth": [
           {
            "colorbar": {
             "outlinewidth": 0,
             "ticks": ""
            },
            "type": "choropleth"
           }
          ],
          "contour": [
           {
            "colorbar": {
             "outlinewidth": 0,
             "ticks": ""
            },
            "colorscale": [
             [
              0,
              "#0d0887"
             ],
             [
              0.1111111111111111,
              "#46039f"
             ],
             [
              0.2222222222222222,
              "#7201a8"
             ],
             [
              0.3333333333333333,
              "#9c179e"
             ],
             [
              0.4444444444444444,
              "#bd3786"
             ],
             [
              0.5555555555555556,
              "#d8576b"
             ],
             [
              0.6666666666666666,
              "#ed7953"
             ],
             [
              0.7777777777777778,
              "#fb9f3a"
             ],
             [
              0.8888888888888888,
              "#fdca26"
             ],
             [
              1,
              "#f0f921"
             ]
            ],
            "type": "contour"
           }
          ],
          "contourcarpet": [
           {
            "colorbar": {
             "outlinewidth": 0,
             "ticks": ""
            },
            "type": "contourcarpet"
           }
          ],
          "heatmap": [
           {
            "colorbar": {
             "outlinewidth": 0,
             "ticks": ""
            },
            "colorscale": [
             [
              0,
              "#0d0887"
             ],
             [
              0.1111111111111111,
              "#46039f"
             ],
             [
              0.2222222222222222,
              "#7201a8"
             ],
             [
              0.3333333333333333,
              "#9c179e"
             ],
             [
              0.4444444444444444,
              "#bd3786"
             ],
             [
              0.5555555555555556,
              "#d8576b"
             ],
             [
              0.6666666666666666,
              "#ed7953"
             ],
             [
              0.7777777777777778,
              "#fb9f3a"
             ],
             [
              0.8888888888888888,
              "#fdca26"
             ],
             [
              1,
              "#f0f921"
             ]
            ],
            "type": "heatmap"
           }
          ],
          "heatmapgl": [
           {
            "colorbar": {
             "outlinewidth": 0,
             "ticks": ""
            },
            "colorscale": [
             [
              0,
              "#0d0887"
             ],
             [
              0.1111111111111111,
              "#46039f"
             ],
             [
              0.2222222222222222,
              "#7201a8"
             ],
             [
              0.3333333333333333,
              "#9c179e"
             ],
             [
              0.4444444444444444,
              "#bd3786"
             ],
             [
              0.5555555555555556,
              "#d8576b"
             ],
             [
              0.6666666666666666,
              "#ed7953"
             ],
             [
              0.7777777777777778,
              "#fb9f3a"
             ],
             [
              0.8888888888888888,
              "#fdca26"
             ],
             [
              1,
              "#f0f921"
             ]
            ],
            "type": "heatmapgl"
           }
          ],
          "histogram": [
           {
            "marker": {
             "colorbar": {
              "outlinewidth": 0,
              "ticks": ""
             }
            },
            "type": "histogram"
           }
          ],
          "histogram2d": [
           {
            "colorbar": {
             "outlinewidth": 0,
             "ticks": ""
            },
            "colorscale": [
             [
              0,
              "#0d0887"
             ],
             [
              0.1111111111111111,
              "#46039f"
             ],
             [
              0.2222222222222222,
              "#7201a8"
             ],
             [
              0.3333333333333333,
              "#9c179e"
             ],
             [
              0.4444444444444444,
              "#bd3786"
             ],
             [
              0.5555555555555556,
              "#d8576b"
             ],
             [
              0.6666666666666666,
              "#ed7953"
             ],
             [
              0.7777777777777778,
              "#fb9f3a"
             ],
             [
              0.8888888888888888,
              "#fdca26"
             ],
             [
              1,
              "#f0f921"
             ]
            ],
            "type": "histogram2d"
           }
          ],
          "histogram2dcontour": [
           {
            "colorbar": {
             "outlinewidth": 0,
             "ticks": ""
            },
            "colorscale": [
             [
              0,
              "#0d0887"
             ],
             [
              0.1111111111111111,
              "#46039f"
             ],
             [
              0.2222222222222222,
              "#7201a8"
             ],
             [
              0.3333333333333333,
              "#9c179e"
             ],
             [
              0.4444444444444444,
              "#bd3786"
             ],
             [
              0.5555555555555556,
              "#d8576b"
             ],
             [
              0.6666666666666666,
              "#ed7953"
             ],
             [
              0.7777777777777778,
              "#fb9f3a"
             ],
             [
              0.8888888888888888,
              "#fdca26"
             ],
             [
              1,
              "#f0f921"
             ]
            ],
            "type": "histogram2dcontour"
           }
          ],
          "mesh3d": [
           {
            "colorbar": {
             "outlinewidth": 0,
             "ticks": ""
            },
            "type": "mesh3d"
           }
          ],
          "parcoords": [
           {
            "line": {
             "colorbar": {
              "outlinewidth": 0,
              "ticks": ""
             }
            },
            "type": "parcoords"
           }
          ],
          "pie": [
           {
            "automargin": true,
            "type": "pie"
           }
          ],
          "scatter": [
           {
            "marker": {
             "colorbar": {
              "outlinewidth": 0,
              "ticks": ""
             }
            },
            "type": "scatter"
           }
          ],
          "scatter3d": [
           {
            "line": {
             "colorbar": {
              "outlinewidth": 0,
              "ticks": ""
             }
            },
            "marker": {
             "colorbar": {
              "outlinewidth": 0,
              "ticks": ""
             }
            },
            "type": "scatter3d"
           }
          ],
          "scattercarpet": [
           {
            "marker": {
             "colorbar": {
              "outlinewidth": 0,
              "ticks": ""
             }
            },
            "type": "scattercarpet"
           }
          ],
          "scattergeo": [
           {
            "marker": {
             "colorbar": {
              "outlinewidth": 0,
              "ticks": ""
             }
            },
            "type": "scattergeo"
           }
          ],
          "scattergl": [
           {
            "marker": {
             "colorbar": {
              "outlinewidth": 0,
              "ticks": ""
             }
            },
            "type": "scattergl"
           }
          ],
          "scattermapbox": [
           {
            "marker": {
             "colorbar": {
              "outlinewidth": 0,
              "ticks": ""
             }
            },
            "type": "scattermapbox"
           }
          ],
          "scatterpolar": [
           {
            "marker": {
             "colorbar": {
              "outlinewidth": 0,
              "ticks": ""
             }
            },
            "type": "scatterpolar"
           }
          ],
          "scatterpolargl": [
           {
            "marker": {
             "colorbar": {
              "outlinewidth": 0,
              "ticks": ""
             }
            },
            "type": "scatterpolargl"
           }
          ],
          "scatterternary": [
           {
            "marker": {
             "colorbar": {
              "outlinewidth": 0,
              "ticks": ""
             }
            },
            "type": "scatterternary"
           }
          ],
          "surface": [
           {
            "colorbar": {
             "outlinewidth": 0,
             "ticks": ""
            },
            "colorscale": [
             [
              0,
              "#0d0887"
             ],
             [
              0.1111111111111111,
              "#46039f"
             ],
             [
              0.2222222222222222,
              "#7201a8"
             ],
             [
              0.3333333333333333,
              "#9c179e"
             ],
             [
              0.4444444444444444,
              "#bd3786"
             ],
             [
              0.5555555555555556,
              "#d8576b"
             ],
             [
              0.6666666666666666,
              "#ed7953"
             ],
             [
              0.7777777777777778,
              "#fb9f3a"
             ],
             [
              0.8888888888888888,
              "#fdca26"
             ],
             [
              1,
              "#f0f921"
             ]
            ],
            "type": "surface"
           }
          ],
          "table": [
           {
            "cells": {
             "fill": {
              "color": "#EBF0F8"
             },
             "line": {
              "color": "white"
             }
            },
            "header": {
             "fill": {
              "color": "#C8D4E3"
             },
             "line": {
              "color": "white"
             }
            },
            "type": "table"
           }
          ]
         },
         "layout": {
          "annotationdefaults": {
           "arrowcolor": "#2a3f5f",
           "arrowhead": 0,
           "arrowwidth": 1
          },
          "autotypenumbers": "strict",
          "coloraxis": {
           "colorbar": {
            "outlinewidth": 0,
            "ticks": ""
           }
          },
          "colorscale": {
           "diverging": [
            [
             0,
             "#8e0152"
            ],
            [
             0.1,
             "#c51b7d"
            ],
            [
             0.2,
             "#de77ae"
            ],
            [
             0.3,
             "#f1b6da"
            ],
            [
             0.4,
             "#fde0ef"
            ],
            [
             0.5,
             "#f7f7f7"
            ],
            [
             0.6,
             "#e6f5d0"
            ],
            [
             0.7,
             "#b8e186"
            ],
            [
             0.8,
             "#7fbc41"
            ],
            [
             0.9,
             "#4d9221"
            ],
            [
             1,
             "#276419"
            ]
           ],
           "sequential": [
            [
             0,
             "#0d0887"
            ],
            [
             0.1111111111111111,
             "#46039f"
            ],
            [
             0.2222222222222222,
             "#7201a8"
            ],
            [
             0.3333333333333333,
             "#9c179e"
            ],
            [
             0.4444444444444444,
             "#bd3786"
            ],
            [
             0.5555555555555556,
             "#d8576b"
            ],
            [
             0.6666666666666666,
             "#ed7953"
            ],
            [
             0.7777777777777778,
             "#fb9f3a"
            ],
            [
             0.8888888888888888,
             "#fdca26"
            ],
            [
             1,
             "#f0f921"
            ]
           ],
           "sequentialminus": [
            [
             0,
             "#0d0887"
            ],
            [
             0.1111111111111111,
             "#46039f"
            ],
            [
             0.2222222222222222,
             "#7201a8"
            ],
            [
             0.3333333333333333,
             "#9c179e"
            ],
            [
             0.4444444444444444,
             "#bd3786"
            ],
            [
             0.5555555555555556,
             "#d8576b"
            ],
            [
             0.6666666666666666,
             "#ed7953"
            ],
            [
             0.7777777777777778,
             "#fb9f3a"
            ],
            [
             0.8888888888888888,
             "#fdca26"
            ],
            [
             1,
             "#f0f921"
            ]
           ]
          },
          "colorway": [
           "#636efa",
           "#EF553B",
           "#00cc96",
           "#ab63fa",
           "#FFA15A",
           "#19d3f3",
           "#FF6692",
           "#B6E880",
           "#FF97FF",
           "#FECB52"
          ],
          "font": {
           "color": "#2a3f5f"
          },
          "geo": {
           "bgcolor": "white",
           "lakecolor": "white",
           "landcolor": "white",
           "showlakes": true,
           "showland": true,
           "subunitcolor": "#C8D4E3"
          },
          "hoverlabel": {
           "align": "left"
          },
          "hovermode": "closest",
          "mapbox": {
           "style": "light"
          },
          "paper_bgcolor": "white",
          "plot_bgcolor": "white",
          "polar": {
           "angularaxis": {
            "gridcolor": "#EBF0F8",
            "linecolor": "#EBF0F8",
            "ticks": ""
           },
           "bgcolor": "white",
           "radialaxis": {
            "gridcolor": "#EBF0F8",
            "linecolor": "#EBF0F8",
            "ticks": ""
           }
          },
          "scene": {
           "xaxis": {
            "backgroundcolor": "white",
            "gridcolor": "#DFE8F3",
            "gridwidth": 2,
            "linecolor": "#EBF0F8",
            "showbackground": true,
            "ticks": "",
            "zerolinecolor": "#EBF0F8"
           },
           "yaxis": {
            "backgroundcolor": "white",
            "gridcolor": "#DFE8F3",
            "gridwidth": 2,
            "linecolor": "#EBF0F8",
            "showbackground": true,
            "ticks": "",
            "zerolinecolor": "#EBF0F8"
           },
           "zaxis": {
            "backgroundcolor": "white",
            "gridcolor": "#DFE8F3",
            "gridwidth": 2,
            "linecolor": "#EBF0F8",
            "showbackground": true,
            "ticks": "",
            "zerolinecolor": "#EBF0F8"
           }
          },
          "shapedefaults": {
           "line": {
            "color": "#2a3f5f"
           }
          },
          "ternary": {
           "aaxis": {
            "gridcolor": "#DFE8F3",
            "linecolor": "#A2B1C6",
            "ticks": ""
           },
           "baxis": {
            "gridcolor": "#DFE8F3",
            "linecolor": "#A2B1C6",
            "ticks": ""
           },
           "bgcolor": "white",
           "caxis": {
            "gridcolor": "#DFE8F3",
            "linecolor": "#A2B1C6",
            "ticks": ""
           }
          },
          "title": {
           "x": 0.05
          },
          "xaxis": {
           "automargin": true,
           "gridcolor": "#EBF0F8",
           "linecolor": "#EBF0F8",
           "ticks": "",
           "title": {
            "standoff": 15
           },
           "zerolinecolor": "#EBF0F8",
           "zerolinewidth": 2
          },
          "yaxis": {
           "automargin": true,
           "gridcolor": "#EBF0F8",
           "linecolor": "#EBF0F8",
           "ticks": "",
           "title": {
            "standoff": 15
           },
           "zerolinecolor": "#EBF0F8",
           "zerolinewidth": 2
          }
         }
        },
        "title": {
         "text": "ADMM perfomance comparison"
        },
        "xaxis": {
         "anchor": "y",
         "domain": [
          0,
          1
         ],
         "title": {
          "text": "Time, s"
         }
        },
        "yaxis": {
         "anchor": "x",
         "domain": [
          0,
          1
         ],
         "title": {
          "text": "Log_distance"
         },
         "type": "log"
        }
       }
      },
      "text/html": [
       "<div>                            <div id=\"c53e3cf7-1ebb-42c8-87e2-cfb08f914a36\" class=\"plotly-graph-div\" style=\"height:525px; width:100%;\"></div>            <script type=\"text/javascript\">                require([\"plotly\"], function(Plotly) {                    window.PLOTLYENV=window.PLOTLYENV || {};                                    if (document.getElementById(\"c53e3cf7-1ebb-42c8-87e2-cfb08f914a36\")) {                    Plotly.newPlot(                        \"c53e3cf7-1ebb-42c8-87e2-cfb08f914a36\",                        [{\"hovertemplate\": \"method=sklearn<br>Time, s=%{x}<br>Log_distance=%{y}<extra></extra>\", \"legendgroup\": \"sklearn\", \"line\": {\"color\": \"#636efa\", \"dash\": \"solid\"}, \"mode\": \"lines\", \"name\": \"sklearn\", \"orientation\": \"v\", \"showlegend\": true, \"textposition\": \"top center\", \"type\": \"scatter\", \"x\": [8.96, 25.51, 36.64, 44.69, 53.01, 50.46, 27.88, 16.31], \"xaxis\": \"x\", \"y\": [0.0027120806785523094, 0.0003552766870775386, 0.00013555567963602786, 0.00012576143683398227, 0.00012537587650967354, 0.00012535274328625285, 0.00012544613933326994, 0.0001254462717687887], \"yaxis\": \"y\"}, {\"hovertemplate\": \"method=regain<br>Time, s=%{x}<br>Log_distance=%{y}<extra></extra>\", \"legendgroup\": \"regain\", \"line\": {\"color\": \"#EF553B\", \"dash\": \"dot\"}, \"mode\": \"lines\", \"name\": \"regain\", \"orientation\": \"v\", \"showlegend\": true, \"textposition\": \"top center\", \"type\": \"scatter\", \"x\": [0.67, 0.96, 4.52, 8.51, 12.66, 17.34, 20.23, 24.52], \"xaxis\": \"x\", \"y\": [0.7845322670802309, 0.6626845695736481, 0.0784276008197344, 0.007218277973182216, 0.0009954842375765383, 1.892332752558683e-05, 0.00011002884961545035, 0.00012400600871735251], \"yaxis\": \"y\"}, {\"hovertemplate\": \"method=admm<br>Time, s=%{x}<br>Log_distance=%{y}<extra></extra>\", \"legendgroup\": \"admm\", \"line\": {\"color\": \"#00cc96\", \"dash\": \"dash\"}, \"mode\": \"lines\", \"name\": \"admm\", \"orientation\": \"v\", \"showlegend\": true, \"textposition\": \"top center\", \"type\": \"scatter\", \"x\": [0.48, 0.47, 0.45, 0.33, 0.92, 2.3, 4.15, 6.85], \"xaxis\": \"x\", \"y\": [0.32901693654662434, 0.32901693654662434, 0.32901693654662434, 0.32901693654662434, 0.1596485098260404, 0.029772240288387344, 0.004377613844627511, 0.0006774937597474682], \"yaxis\": \"y\"}, {\"hovertemplate\": \"method=kkt_admm<br>Time, s=%{x}<br>Log_distance=%{y}<extra></extra>\", \"legendgroup\": \"kkt_admm\", \"line\": {\"color\": \"#ab63fa\", \"dash\": \"longdash\"}, \"mode\": \"lines\", \"name\": \"kkt_admm\", \"orientation\": \"v\", \"showlegend\": true, \"textposition\": \"top center\", \"type\": \"scatter\", \"x\": [1.45, 4.48, 9.14, 14.99, 28.95, 21.65, 29.13, 34.62], \"xaxis\": \"x\", \"y\": [0.22235855094630483, 0.03870157769646381, 0.004377613844627511, 0.0007717318720372011, 0.0001983647873424435, 0.00013322951167576088, 0.0001261729464249634, 0.00012551416991886464], \"yaxis\": \"y\"}, {\"hovertemplate\": \"method=block_admm<br>Time, s=%{x}<br>Log_distance=%{y}<extra></extra>\", \"legendgroup\": \"block_admm\", \"line\": {\"color\": \"#FFA15A\", \"dash\": \"dashdot\"}, \"mode\": \"lines\", \"name\": \"block_admm\", \"orientation\": \"v\", \"showlegend\": true, \"textposition\": \"top center\", \"type\": \"scatter\", \"x\": [0.43, 0.41, 0.4, 0.4, 0.74, 1.8, 3.39, 5.98], \"xaxis\": \"x\", \"y\": [0.32901693654662434, 0.32901693654662434, 0.32901693654662434, 0.32901693654662434, 0.1596485098260404, 0.029772240288387344, 0.004377613844627511, 0.0006774937597474682], \"yaxis\": \"y\"}, {\"hovertemplate\": \"method=kkt_block_admm<br>Time, s=%{x}<br>Log_distance=%{y}<extra></extra>\", \"legendgroup\": \"kkt_block_admm\", \"line\": {\"color\": \"#19d3f3\", \"dash\": \"longdashdot\"}, \"mode\": \"lines\", \"name\": \"kkt_block_admm\", \"orientation\": \"v\", \"showlegend\": true, \"textposition\": \"top center\", \"type\": \"scatter\", \"x\": [1.58, 4.43, 9.01, 14.2, 21.77, 29.01, 39.71, 41.45], \"xaxis\": \"x\", \"y\": [0.22235855094630483, 0.03870157769646381, 0.004377613844627511, 0.0007717318720372011, 0.0001983647873424435, 0.00013322951167576088, 0.0001261729464249634, 0.00012551416991886464], \"yaxis\": \"y\"}],                        {\"legend\": {\"title\": {\"text\": \"method\"}, \"tracegroupgap\": 0}, \"template\": {\"data\": {\"bar\": [{\"error_x\": {\"color\": \"#2a3f5f\"}, \"error_y\": {\"color\": \"#2a3f5f\"}, \"marker\": {\"line\": {\"color\": \"white\", \"width\": 0.5}}, \"type\": \"bar\"}], \"barpolar\": [{\"marker\": {\"line\": {\"color\": \"white\", \"width\": 0.5}}, \"type\": \"barpolar\"}], \"carpet\": [{\"aaxis\": {\"endlinecolor\": \"#2a3f5f\", \"gridcolor\": \"#C8D4E3\", \"linecolor\": \"#C8D4E3\", \"minorgridcolor\": \"#C8D4E3\", \"startlinecolor\": \"#2a3f5f\"}, \"baxis\": {\"endlinecolor\": \"#2a3f5f\", \"gridcolor\": \"#C8D4E3\", \"linecolor\": \"#C8D4E3\", \"minorgridcolor\": \"#C8D4E3\", \"startlinecolor\": \"#2a3f5f\"}, \"type\": \"carpet\"}], \"choropleth\": [{\"colorbar\": {\"outlinewidth\": 0, \"ticks\": \"\"}, \"type\": \"choropleth\"}], \"contour\": [{\"colorbar\": {\"outlinewidth\": 0, \"ticks\": \"\"}, \"colorscale\": [[0.0, \"#0d0887\"], [0.1111111111111111, \"#46039f\"], [0.2222222222222222, \"#7201a8\"], [0.3333333333333333, \"#9c179e\"], [0.4444444444444444, \"#bd3786\"], [0.5555555555555556, \"#d8576b\"], [0.6666666666666666, \"#ed7953\"], [0.7777777777777778, \"#fb9f3a\"], [0.8888888888888888, \"#fdca26\"], [1.0, \"#f0f921\"]], \"type\": \"contour\"}], \"contourcarpet\": [{\"colorbar\": {\"outlinewidth\": 0, \"ticks\": \"\"}, \"type\": \"contourcarpet\"}], \"heatmap\": [{\"colorbar\": {\"outlinewidth\": 0, \"ticks\": \"\"}, \"colorscale\": [[0.0, \"#0d0887\"], [0.1111111111111111, \"#46039f\"], [0.2222222222222222, \"#7201a8\"], [0.3333333333333333, \"#9c179e\"], [0.4444444444444444, \"#bd3786\"], [0.5555555555555556, \"#d8576b\"], [0.6666666666666666, \"#ed7953\"], [0.7777777777777778, \"#fb9f3a\"], [0.8888888888888888, \"#fdca26\"], [1.0, \"#f0f921\"]], \"type\": \"heatmap\"}], \"heatmapgl\": [{\"colorbar\": {\"outlinewidth\": 0, \"ticks\": \"\"}, \"colorscale\": [[0.0, \"#0d0887\"], [0.1111111111111111, \"#46039f\"], [0.2222222222222222, \"#7201a8\"], [0.3333333333333333, \"#9c179e\"], [0.4444444444444444, \"#bd3786\"], [0.5555555555555556, \"#d8576b\"], [0.6666666666666666, \"#ed7953\"], [0.7777777777777778, \"#fb9f3a\"], [0.8888888888888888, \"#fdca26\"], [1.0, \"#f0f921\"]], \"type\": \"heatmapgl\"}], \"histogram\": [{\"marker\": {\"colorbar\": {\"outlinewidth\": 0, \"ticks\": \"\"}}, \"type\": \"histogram\"}], \"histogram2d\": [{\"colorbar\": {\"outlinewidth\": 0, \"ticks\": \"\"}, \"colorscale\": [[0.0, \"#0d0887\"], [0.1111111111111111, \"#46039f\"], [0.2222222222222222, \"#7201a8\"], [0.3333333333333333, \"#9c179e\"], [0.4444444444444444, \"#bd3786\"], [0.5555555555555556, \"#d8576b\"], [0.6666666666666666, \"#ed7953\"], [0.7777777777777778, \"#fb9f3a\"], [0.8888888888888888, \"#fdca26\"], [1.0, \"#f0f921\"]], \"type\": \"histogram2d\"}], \"histogram2dcontour\": [{\"colorbar\": {\"outlinewidth\": 0, \"ticks\": \"\"}, \"colorscale\": [[0.0, \"#0d0887\"], [0.1111111111111111, \"#46039f\"], [0.2222222222222222, \"#7201a8\"], [0.3333333333333333, \"#9c179e\"], [0.4444444444444444, \"#bd3786\"], [0.5555555555555556, \"#d8576b\"], [0.6666666666666666, \"#ed7953\"], [0.7777777777777778, \"#fb9f3a\"], [0.8888888888888888, \"#fdca26\"], [1.0, \"#f0f921\"]], \"type\": \"histogram2dcontour\"}], \"mesh3d\": [{\"colorbar\": {\"outlinewidth\": 0, \"ticks\": \"\"}, \"type\": \"mesh3d\"}], \"parcoords\": [{\"line\": {\"colorbar\": {\"outlinewidth\": 0, \"ticks\": \"\"}}, \"type\": \"parcoords\"}], \"pie\": [{\"automargin\": true, \"type\": \"pie\"}], \"scatter\": [{\"marker\": {\"colorbar\": {\"outlinewidth\": 0, \"ticks\": \"\"}}, \"type\": \"scatter\"}], \"scatter3d\": [{\"line\": {\"colorbar\": {\"outlinewidth\": 0, \"ticks\": \"\"}}, \"marker\": {\"colorbar\": {\"outlinewidth\": 0, \"ticks\": \"\"}}, \"type\": \"scatter3d\"}], \"scattercarpet\": [{\"marker\": {\"colorbar\": {\"outlinewidth\": 0, \"ticks\": \"\"}}, \"type\": \"scattercarpet\"}], \"scattergeo\": [{\"marker\": {\"colorbar\": {\"outlinewidth\": 0, \"ticks\": \"\"}}, \"type\": \"scattergeo\"}], \"scattergl\": [{\"marker\": {\"colorbar\": {\"outlinewidth\": 0, \"ticks\": \"\"}}, \"type\": \"scattergl\"}], \"scattermapbox\": [{\"marker\": {\"colorbar\": {\"outlinewidth\": 0, \"ticks\": \"\"}}, \"type\": \"scattermapbox\"}], \"scatterpolar\": [{\"marker\": {\"colorbar\": {\"outlinewidth\": 0, \"ticks\": \"\"}}, \"type\": \"scatterpolar\"}], \"scatterpolargl\": [{\"marker\": {\"colorbar\": {\"outlinewidth\": 0, \"ticks\": \"\"}}, \"type\": \"scatterpolargl\"}], \"scatterternary\": [{\"marker\": {\"colorbar\": {\"outlinewidth\": 0, \"ticks\": \"\"}}, \"type\": \"scatterternary\"}], \"surface\": [{\"colorbar\": {\"outlinewidth\": 0, \"ticks\": \"\"}, \"colorscale\": [[0.0, \"#0d0887\"], [0.1111111111111111, \"#46039f\"], [0.2222222222222222, \"#7201a8\"], [0.3333333333333333, \"#9c179e\"], [0.4444444444444444, \"#bd3786\"], [0.5555555555555556, \"#d8576b\"], [0.6666666666666666, \"#ed7953\"], [0.7777777777777778, \"#fb9f3a\"], [0.8888888888888888, \"#fdca26\"], [1.0, \"#f0f921\"]], \"type\": \"surface\"}], \"table\": [{\"cells\": {\"fill\": {\"color\": \"#EBF0F8\"}, \"line\": {\"color\": \"white\"}}, \"header\": {\"fill\": {\"color\": \"#C8D4E3\"}, \"line\": {\"color\": \"white\"}}, \"type\": \"table\"}]}, \"layout\": {\"annotationdefaults\": {\"arrowcolor\": \"#2a3f5f\", \"arrowhead\": 0, \"arrowwidth\": 1}, \"autotypenumbers\": \"strict\", \"coloraxis\": {\"colorbar\": {\"outlinewidth\": 0, \"ticks\": \"\"}}, \"colorscale\": {\"diverging\": [[0, \"#8e0152\"], [0.1, \"#c51b7d\"], [0.2, \"#de77ae\"], [0.3, \"#f1b6da\"], [0.4, \"#fde0ef\"], [0.5, \"#f7f7f7\"], [0.6, \"#e6f5d0\"], [0.7, \"#b8e186\"], [0.8, \"#7fbc41\"], [0.9, \"#4d9221\"], [1, \"#276419\"]], \"sequential\": [[0.0, \"#0d0887\"], [0.1111111111111111, \"#46039f\"], [0.2222222222222222, \"#7201a8\"], [0.3333333333333333, \"#9c179e\"], [0.4444444444444444, \"#bd3786\"], [0.5555555555555556, \"#d8576b\"], [0.6666666666666666, \"#ed7953\"], [0.7777777777777778, \"#fb9f3a\"], [0.8888888888888888, \"#fdca26\"], [1.0, \"#f0f921\"]], \"sequentialminus\": [[0.0, \"#0d0887\"], [0.1111111111111111, \"#46039f\"], [0.2222222222222222, \"#7201a8\"], [0.3333333333333333, \"#9c179e\"], [0.4444444444444444, \"#bd3786\"], [0.5555555555555556, \"#d8576b\"], [0.6666666666666666, \"#ed7953\"], [0.7777777777777778, \"#fb9f3a\"], [0.8888888888888888, \"#fdca26\"], [1.0, \"#f0f921\"]]}, \"colorway\": [\"#636efa\", \"#EF553B\", \"#00cc96\", \"#ab63fa\", \"#FFA15A\", \"#19d3f3\", \"#FF6692\", \"#B6E880\", \"#FF97FF\", \"#FECB52\"], \"font\": {\"color\": \"#2a3f5f\"}, \"geo\": {\"bgcolor\": \"white\", \"lakecolor\": \"white\", \"landcolor\": \"white\", \"showlakes\": true, \"showland\": true, \"subunitcolor\": \"#C8D4E3\"}, \"hoverlabel\": {\"align\": \"left\"}, \"hovermode\": \"closest\", \"mapbox\": {\"style\": \"light\"}, \"paper_bgcolor\": \"white\", \"plot_bgcolor\": \"white\", \"polar\": {\"angularaxis\": {\"gridcolor\": \"#EBF0F8\", \"linecolor\": \"#EBF0F8\", \"ticks\": \"\"}, \"bgcolor\": \"white\", \"radialaxis\": {\"gridcolor\": \"#EBF0F8\", \"linecolor\": \"#EBF0F8\", \"ticks\": \"\"}}, \"scene\": {\"xaxis\": {\"backgroundcolor\": \"white\", \"gridcolor\": \"#DFE8F3\", \"gridwidth\": 2, \"linecolor\": \"#EBF0F8\", \"showbackground\": true, \"ticks\": \"\", \"zerolinecolor\": \"#EBF0F8\"}, \"yaxis\": {\"backgroundcolor\": \"white\", \"gridcolor\": \"#DFE8F3\", \"gridwidth\": 2, \"linecolor\": \"#EBF0F8\", \"showbackground\": true, \"ticks\": \"\", \"zerolinecolor\": \"#EBF0F8\"}, \"zaxis\": {\"backgroundcolor\": \"white\", \"gridcolor\": \"#DFE8F3\", \"gridwidth\": 2, \"linecolor\": \"#EBF0F8\", \"showbackground\": true, \"ticks\": \"\", \"zerolinecolor\": \"#EBF0F8\"}}, \"shapedefaults\": {\"line\": {\"color\": \"#2a3f5f\"}}, \"ternary\": {\"aaxis\": {\"gridcolor\": \"#DFE8F3\", \"linecolor\": \"#A2B1C6\", \"ticks\": \"\"}, \"baxis\": {\"gridcolor\": \"#DFE8F3\", \"linecolor\": \"#A2B1C6\", \"ticks\": \"\"}, \"bgcolor\": \"white\", \"caxis\": {\"gridcolor\": \"#DFE8F3\", \"linecolor\": \"#A2B1C6\", \"ticks\": \"\"}}, \"title\": {\"x\": 0.05}, \"xaxis\": {\"automargin\": true, \"gridcolor\": \"#EBF0F8\", \"linecolor\": \"#EBF0F8\", \"ticks\": \"\", \"title\": {\"standoff\": 15}, \"zerolinecolor\": \"#EBF0F8\", \"zerolinewidth\": 2}, \"yaxis\": {\"automargin\": true, \"gridcolor\": \"#EBF0F8\", \"linecolor\": \"#EBF0F8\", \"ticks\": \"\", \"title\": {\"standoff\": 15}, \"zerolinecolor\": \"#EBF0F8\", \"zerolinewidth\": 2}}}, \"title\": {\"text\": \"ADMM perfomance comparison\"}, \"xaxis\": {\"anchor\": \"y\", \"domain\": [0.0, 1.0], \"title\": {\"text\": \"Time, s\"}}, \"yaxis\": {\"anchor\": \"x\", \"domain\": [0.0, 1.0], \"title\": {\"text\": \"Log_distance\"}, \"type\": \"log\"}},                        {\"responsive\": true}                    ).then(function(){\n",
       "                            \n",
       "var gd = document.getElementById('c53e3cf7-1ebb-42c8-87e2-cfb08f914a36');\n",
       "var x = new MutationObserver(function (mutations, observer) {{\n",
       "        var display = window.getComputedStyle(gd).display;\n",
       "        if (!display || display === 'none') {{\n",
       "            console.log([gd, 'removed!']);\n",
       "            Plotly.purge(gd);\n",
       "            observer.disconnect();\n",
       "        }}\n",
       "}});\n",
       "\n",
       "// Listen for the removal of the full notebook cells\n",
       "var notebookContainer = gd.closest('#notebook-container');\n",
       "if (notebookContainer) {{\n",
       "    x.observe(notebookContainer, {childList: true});\n",
       "}}\n",
       "\n",
       "// Listen for the clearing of the current output cell\n",
       "var outputEl = gd.closest('.output');\n",
       "if (outputEl) {{\n",
       "    x.observe(outputEl, {childList: true});\n",
       "}}\n",
       "\n",
       "                        })                };                });            </script>        </div>"
      ]
     },
     "metadata": {},
     "output_type": "display_data"
    }
   ],
   "source": [
    "fig = px.line(df, x=\"sec_time\", y=\"distance\", color= \"method\", log_y = True, line_dash='method',\n",
    "#               text = \"str_tol\",\n",
    "        labels={\"sec_time\": \"Time, s\",\n",
    "                \"distance\": \"Log_distance\",\n",
    "                \"method\": \"method\"\n",
    "                 },\n",
    "        template = \"plotly_white\",\n",
    "              title='ADMM perfomance comparison')\n",
    "fig.update_traces(textposition='top center')\n",
    "fig.show()"
   ]
  },
  {
   "cell_type": "code",
   "execution_count": 237,
   "id": "cooked-dutch",
   "metadata": {},
   "outputs": [
    {
     "data": {
      "application/vnd.plotly.v1+json": {
       "config": {
        "plotlyServerURL": "https://plot.ly"
       },
       "data": [
        {
         "hovertemplate": "method=sklearn<br>Time, s=%{x}<br>Distance=%{y}<extra></extra>",
         "legendgroup": "sklearn",
         "line": {
          "color": "#636efa",
          "dash": "solid"
         },
         "mode": "lines",
         "name": "sklearn",
         "orientation": "v",
         "showlegend": true,
         "textposition": "top center",
         "type": "scatter",
         "x": [
          8.96,
          25.51,
          36.64,
          44.69,
          53.01,
          50.46,
          27.88,
          16.31
         ],
         "xaxis": "x",
         "y": [
          0.0027120806785523094,
          0.0003552766870775386,
          0.00013555567963602786,
          0.00012576143683398227,
          0.00012537587650967354,
          0.00012535274328625285,
          0.00012544613933326994,
          0.0001254462717687887
         ],
         "yaxis": "y"
        },
        {
         "hovertemplate": "method=regain<br>Time, s=%{x}<br>Distance=%{y}<extra></extra>",
         "legendgroup": "regain",
         "line": {
          "color": "#EF553B",
          "dash": "dot"
         },
         "mode": "lines",
         "name": "regain",
         "orientation": "v",
         "showlegend": true,
         "textposition": "top center",
         "type": "scatter",
         "x": [
          0.67,
          0.96,
          4.52,
          8.51,
          12.66,
          17.34,
          20.23,
          24.52
         ],
         "xaxis": "x",
         "y": [
          0.7845322670802309,
          0.6626845695736481,
          0.0784276008197344,
          0.007218277973182216,
          0.0009954842375765383,
          1.892332752558683e-05,
          0.00011002884961545035,
          0.00012400600871735251
         ],
         "yaxis": "y"
        },
        {
         "hovertemplate": "method=admm<br>Time, s=%{x}<br>Distance=%{y}<extra></extra>",
         "legendgroup": "admm",
         "line": {
          "color": "#00cc96",
          "dash": "dash"
         },
         "mode": "lines",
         "name": "admm",
         "orientation": "v",
         "showlegend": true,
         "textposition": "top center",
         "type": "scatter",
         "x": [
          0.48,
          0.47,
          0.45,
          0.33,
          0.92,
          2.3,
          4.15,
          6.85
         ],
         "xaxis": "x",
         "y": [
          0.32901693654662434,
          0.32901693654662434,
          0.32901693654662434,
          0.32901693654662434,
          0.1596485098260404,
          0.029772240288387344,
          0.004377613844627511,
          0.0006774937597474682
         ],
         "yaxis": "y"
        },
        {
         "hovertemplate": "method=kkt_admm<br>Time, s=%{x}<br>Distance=%{y}<extra></extra>",
         "legendgroup": "kkt_admm",
         "line": {
          "color": "#ab63fa",
          "dash": "longdash"
         },
         "mode": "lines",
         "name": "kkt_admm",
         "orientation": "v",
         "showlegend": true,
         "textposition": "top center",
         "type": "scatter",
         "x": [
          1.45,
          4.48,
          9.14,
          14.99,
          28.95,
          21.65,
          29.13,
          34.62
         ],
         "xaxis": "x",
         "y": [
          0.22235855094630483,
          0.03870157769646381,
          0.004377613844627511,
          0.0007717318720372011,
          0.0001983647873424435,
          0.00013322951167576088,
          0.0001261729464249634,
          0.00012551416991886464
         ],
         "yaxis": "y"
        },
        {
         "hovertemplate": "method=block_admm<br>Time, s=%{x}<br>Distance=%{y}<extra></extra>",
         "legendgroup": "block_admm",
         "line": {
          "color": "#FFA15A",
          "dash": "dashdot"
         },
         "mode": "lines",
         "name": "block_admm",
         "orientation": "v",
         "showlegend": true,
         "textposition": "top center",
         "type": "scatter",
         "x": [
          0.43,
          0.41,
          0.4,
          0.4,
          0.74,
          1.8,
          3.39,
          5.98
         ],
         "xaxis": "x",
         "y": [
          0.32901693654662434,
          0.32901693654662434,
          0.32901693654662434,
          0.32901693654662434,
          0.1596485098260404,
          0.029772240288387344,
          0.004377613844627511,
          0.0006774937597474682
         ],
         "yaxis": "y"
        },
        {
         "hovertemplate": "method=kkt_block_admm<br>Time, s=%{x}<br>Distance=%{y}<extra></extra>",
         "legendgroup": "kkt_block_admm",
         "line": {
          "color": "#19d3f3",
          "dash": "longdashdot"
         },
         "mode": "lines",
         "name": "kkt_block_admm",
         "orientation": "v",
         "showlegend": true,
         "textposition": "top center",
         "type": "scatter",
         "x": [
          1.58,
          4.43,
          9.01,
          14.2,
          21.77,
          29.01,
          39.71,
          41.45
         ],
         "xaxis": "x",
         "y": [
          0.22235855094630483,
          0.03870157769646381,
          0.004377613844627511,
          0.0007717318720372011,
          0.0001983647873424435,
          0.00013322951167576088,
          0.0001261729464249634,
          0.00012551416991886464
         ],
         "yaxis": "y"
        }
       ],
       "layout": {
        "legend": {
         "title": {
          "text": "method"
         },
         "tracegroupgap": 0
        },
        "template": {
         "data": {
          "bar": [
           {
            "error_x": {
             "color": "#2a3f5f"
            },
            "error_y": {
             "color": "#2a3f5f"
            },
            "marker": {
             "line": {
              "color": "white",
              "width": 0.5
             }
            },
            "type": "bar"
           }
          ],
          "barpolar": [
           {
            "marker": {
             "line": {
              "color": "white",
              "width": 0.5
             }
            },
            "type": "barpolar"
           }
          ],
          "carpet": [
           {
            "aaxis": {
             "endlinecolor": "#2a3f5f",
             "gridcolor": "#C8D4E3",
             "linecolor": "#C8D4E3",
             "minorgridcolor": "#C8D4E3",
             "startlinecolor": "#2a3f5f"
            },
            "baxis": {
             "endlinecolor": "#2a3f5f",
             "gridcolor": "#C8D4E3",
             "linecolor": "#C8D4E3",
             "minorgridcolor": "#C8D4E3",
             "startlinecolor": "#2a3f5f"
            },
            "type": "carpet"
           }
          ],
          "choropleth": [
           {
            "colorbar": {
             "outlinewidth": 0,
             "ticks": ""
            },
            "type": "choropleth"
           }
          ],
          "contour": [
           {
            "colorbar": {
             "outlinewidth": 0,
             "ticks": ""
            },
            "colorscale": [
             [
              0,
              "#0d0887"
             ],
             [
              0.1111111111111111,
              "#46039f"
             ],
             [
              0.2222222222222222,
              "#7201a8"
             ],
             [
              0.3333333333333333,
              "#9c179e"
             ],
             [
              0.4444444444444444,
              "#bd3786"
             ],
             [
              0.5555555555555556,
              "#d8576b"
             ],
             [
              0.6666666666666666,
              "#ed7953"
             ],
             [
              0.7777777777777778,
              "#fb9f3a"
             ],
             [
              0.8888888888888888,
              "#fdca26"
             ],
             [
              1,
              "#f0f921"
             ]
            ],
            "type": "contour"
           }
          ],
          "contourcarpet": [
           {
            "colorbar": {
             "outlinewidth": 0,
             "ticks": ""
            },
            "type": "contourcarpet"
           }
          ],
          "heatmap": [
           {
            "colorbar": {
             "outlinewidth": 0,
             "ticks": ""
            },
            "colorscale": [
             [
              0,
              "#0d0887"
             ],
             [
              0.1111111111111111,
              "#46039f"
             ],
             [
              0.2222222222222222,
              "#7201a8"
             ],
             [
              0.3333333333333333,
              "#9c179e"
             ],
             [
              0.4444444444444444,
              "#bd3786"
             ],
             [
              0.5555555555555556,
              "#d8576b"
             ],
             [
              0.6666666666666666,
              "#ed7953"
             ],
             [
              0.7777777777777778,
              "#fb9f3a"
             ],
             [
              0.8888888888888888,
              "#fdca26"
             ],
             [
              1,
              "#f0f921"
             ]
            ],
            "type": "heatmap"
           }
          ],
          "heatmapgl": [
           {
            "colorbar": {
             "outlinewidth": 0,
             "ticks": ""
            },
            "colorscale": [
             [
              0,
              "#0d0887"
             ],
             [
              0.1111111111111111,
              "#46039f"
             ],
             [
              0.2222222222222222,
              "#7201a8"
             ],
             [
              0.3333333333333333,
              "#9c179e"
             ],
             [
              0.4444444444444444,
              "#bd3786"
             ],
             [
              0.5555555555555556,
              "#d8576b"
             ],
             [
              0.6666666666666666,
              "#ed7953"
             ],
             [
              0.7777777777777778,
              "#fb9f3a"
             ],
             [
              0.8888888888888888,
              "#fdca26"
             ],
             [
              1,
              "#f0f921"
             ]
            ],
            "type": "heatmapgl"
           }
          ],
          "histogram": [
           {
            "marker": {
             "colorbar": {
              "outlinewidth": 0,
              "ticks": ""
             }
            },
            "type": "histogram"
           }
          ],
          "histogram2d": [
           {
            "colorbar": {
             "outlinewidth": 0,
             "ticks": ""
            },
            "colorscale": [
             [
              0,
              "#0d0887"
             ],
             [
              0.1111111111111111,
              "#46039f"
             ],
             [
              0.2222222222222222,
              "#7201a8"
             ],
             [
              0.3333333333333333,
              "#9c179e"
             ],
             [
              0.4444444444444444,
              "#bd3786"
             ],
             [
              0.5555555555555556,
              "#d8576b"
             ],
             [
              0.6666666666666666,
              "#ed7953"
             ],
             [
              0.7777777777777778,
              "#fb9f3a"
             ],
             [
              0.8888888888888888,
              "#fdca26"
             ],
             [
              1,
              "#f0f921"
             ]
            ],
            "type": "histogram2d"
           }
          ],
          "histogram2dcontour": [
           {
            "colorbar": {
             "outlinewidth": 0,
             "ticks": ""
            },
            "colorscale": [
             [
              0,
              "#0d0887"
             ],
             [
              0.1111111111111111,
              "#46039f"
             ],
             [
              0.2222222222222222,
              "#7201a8"
             ],
             [
              0.3333333333333333,
              "#9c179e"
             ],
             [
              0.4444444444444444,
              "#bd3786"
             ],
             [
              0.5555555555555556,
              "#d8576b"
             ],
             [
              0.6666666666666666,
              "#ed7953"
             ],
             [
              0.7777777777777778,
              "#fb9f3a"
             ],
             [
              0.8888888888888888,
              "#fdca26"
             ],
             [
              1,
              "#f0f921"
             ]
            ],
            "type": "histogram2dcontour"
           }
          ],
          "mesh3d": [
           {
            "colorbar": {
             "outlinewidth": 0,
             "ticks": ""
            },
            "type": "mesh3d"
           }
          ],
          "parcoords": [
           {
            "line": {
             "colorbar": {
              "outlinewidth": 0,
              "ticks": ""
             }
            },
            "type": "parcoords"
           }
          ],
          "pie": [
           {
            "automargin": true,
            "type": "pie"
           }
          ],
          "scatter": [
           {
            "marker": {
             "colorbar": {
              "outlinewidth": 0,
              "ticks": ""
             }
            },
            "type": "scatter"
           }
          ],
          "scatter3d": [
           {
            "line": {
             "colorbar": {
              "outlinewidth": 0,
              "ticks": ""
             }
            },
            "marker": {
             "colorbar": {
              "outlinewidth": 0,
              "ticks": ""
             }
            },
            "type": "scatter3d"
           }
          ],
          "scattercarpet": [
           {
            "marker": {
             "colorbar": {
              "outlinewidth": 0,
              "ticks": ""
             }
            },
            "type": "scattercarpet"
           }
          ],
          "scattergeo": [
           {
            "marker": {
             "colorbar": {
              "outlinewidth": 0,
              "ticks": ""
             }
            },
            "type": "scattergeo"
           }
          ],
          "scattergl": [
           {
            "marker": {
             "colorbar": {
              "outlinewidth": 0,
              "ticks": ""
             }
            },
            "type": "scattergl"
           }
          ],
          "scattermapbox": [
           {
            "marker": {
             "colorbar": {
              "outlinewidth": 0,
              "ticks": ""
             }
            },
            "type": "scattermapbox"
           }
          ],
          "scatterpolar": [
           {
            "marker": {
             "colorbar": {
              "outlinewidth": 0,
              "ticks": ""
             }
            },
            "type": "scatterpolar"
           }
          ],
          "scatterpolargl": [
           {
            "marker": {
             "colorbar": {
              "outlinewidth": 0,
              "ticks": ""
             }
            },
            "type": "scatterpolargl"
           }
          ],
          "scatterternary": [
           {
            "marker": {
             "colorbar": {
              "outlinewidth": 0,
              "ticks": ""
             }
            },
            "type": "scatterternary"
           }
          ],
          "surface": [
           {
            "colorbar": {
             "outlinewidth": 0,
             "ticks": ""
            },
            "colorscale": [
             [
              0,
              "#0d0887"
             ],
             [
              0.1111111111111111,
              "#46039f"
             ],
             [
              0.2222222222222222,
              "#7201a8"
             ],
             [
              0.3333333333333333,
              "#9c179e"
             ],
             [
              0.4444444444444444,
              "#bd3786"
             ],
             [
              0.5555555555555556,
              "#d8576b"
             ],
             [
              0.6666666666666666,
              "#ed7953"
             ],
             [
              0.7777777777777778,
              "#fb9f3a"
             ],
             [
              0.8888888888888888,
              "#fdca26"
             ],
             [
              1,
              "#f0f921"
             ]
            ],
            "type": "surface"
           }
          ],
          "table": [
           {
            "cells": {
             "fill": {
              "color": "#EBF0F8"
             },
             "line": {
              "color": "white"
             }
            },
            "header": {
             "fill": {
              "color": "#C8D4E3"
             },
             "line": {
              "color": "white"
             }
            },
            "type": "table"
           }
          ]
         },
         "layout": {
          "annotationdefaults": {
           "arrowcolor": "#2a3f5f",
           "arrowhead": 0,
           "arrowwidth": 1
          },
          "autotypenumbers": "strict",
          "coloraxis": {
           "colorbar": {
            "outlinewidth": 0,
            "ticks": ""
           }
          },
          "colorscale": {
           "diverging": [
            [
             0,
             "#8e0152"
            ],
            [
             0.1,
             "#c51b7d"
            ],
            [
             0.2,
             "#de77ae"
            ],
            [
             0.3,
             "#f1b6da"
            ],
            [
             0.4,
             "#fde0ef"
            ],
            [
             0.5,
             "#f7f7f7"
            ],
            [
             0.6,
             "#e6f5d0"
            ],
            [
             0.7,
             "#b8e186"
            ],
            [
             0.8,
             "#7fbc41"
            ],
            [
             0.9,
             "#4d9221"
            ],
            [
             1,
             "#276419"
            ]
           ],
           "sequential": [
            [
             0,
             "#0d0887"
            ],
            [
             0.1111111111111111,
             "#46039f"
            ],
            [
             0.2222222222222222,
             "#7201a8"
            ],
            [
             0.3333333333333333,
             "#9c179e"
            ],
            [
             0.4444444444444444,
             "#bd3786"
            ],
            [
             0.5555555555555556,
             "#d8576b"
            ],
            [
             0.6666666666666666,
             "#ed7953"
            ],
            [
             0.7777777777777778,
             "#fb9f3a"
            ],
            [
             0.8888888888888888,
             "#fdca26"
            ],
            [
             1,
             "#f0f921"
            ]
           ],
           "sequentialminus": [
            [
             0,
             "#0d0887"
            ],
            [
             0.1111111111111111,
             "#46039f"
            ],
            [
             0.2222222222222222,
             "#7201a8"
            ],
            [
             0.3333333333333333,
             "#9c179e"
            ],
            [
             0.4444444444444444,
             "#bd3786"
            ],
            [
             0.5555555555555556,
             "#d8576b"
            ],
            [
             0.6666666666666666,
             "#ed7953"
            ],
            [
             0.7777777777777778,
             "#fb9f3a"
            ],
            [
             0.8888888888888888,
             "#fdca26"
            ],
            [
             1,
             "#f0f921"
            ]
           ]
          },
          "colorway": [
           "#636efa",
           "#EF553B",
           "#00cc96",
           "#ab63fa",
           "#FFA15A",
           "#19d3f3",
           "#FF6692",
           "#B6E880",
           "#FF97FF",
           "#FECB52"
          ],
          "font": {
           "color": "#2a3f5f"
          },
          "geo": {
           "bgcolor": "white",
           "lakecolor": "white",
           "landcolor": "white",
           "showlakes": true,
           "showland": true,
           "subunitcolor": "#C8D4E3"
          },
          "hoverlabel": {
           "align": "left"
          },
          "hovermode": "closest",
          "mapbox": {
           "style": "light"
          },
          "paper_bgcolor": "white",
          "plot_bgcolor": "white",
          "polar": {
           "angularaxis": {
            "gridcolor": "#EBF0F8",
            "linecolor": "#EBF0F8",
            "ticks": ""
           },
           "bgcolor": "white",
           "radialaxis": {
            "gridcolor": "#EBF0F8",
            "linecolor": "#EBF0F8",
            "ticks": ""
           }
          },
          "scene": {
           "xaxis": {
            "backgroundcolor": "white",
            "gridcolor": "#DFE8F3",
            "gridwidth": 2,
            "linecolor": "#EBF0F8",
            "showbackground": true,
            "ticks": "",
            "zerolinecolor": "#EBF0F8"
           },
           "yaxis": {
            "backgroundcolor": "white",
            "gridcolor": "#DFE8F3",
            "gridwidth": 2,
            "linecolor": "#EBF0F8",
            "showbackground": true,
            "ticks": "",
            "zerolinecolor": "#EBF0F8"
           },
           "zaxis": {
            "backgroundcolor": "white",
            "gridcolor": "#DFE8F3",
            "gridwidth": 2,
            "linecolor": "#EBF0F8",
            "showbackground": true,
            "ticks": "",
            "zerolinecolor": "#EBF0F8"
           }
          },
          "shapedefaults": {
           "line": {
            "color": "#2a3f5f"
           }
          },
          "ternary": {
           "aaxis": {
            "gridcolor": "#DFE8F3",
            "linecolor": "#A2B1C6",
            "ticks": ""
           },
           "baxis": {
            "gridcolor": "#DFE8F3",
            "linecolor": "#A2B1C6",
            "ticks": ""
           },
           "bgcolor": "white",
           "caxis": {
            "gridcolor": "#DFE8F3",
            "linecolor": "#A2B1C6",
            "ticks": ""
           }
          },
          "title": {
           "x": 0.05
          },
          "xaxis": {
           "automargin": true,
           "gridcolor": "#EBF0F8",
           "linecolor": "#EBF0F8",
           "ticks": "",
           "title": {
            "standoff": 15
           },
           "zerolinecolor": "#EBF0F8",
           "zerolinewidth": 2
          },
          "yaxis": {
           "automargin": true,
           "gridcolor": "#EBF0F8",
           "linecolor": "#EBF0F8",
           "ticks": "",
           "title": {
            "standoff": 15
           },
           "zerolinecolor": "#EBF0F8",
           "zerolinewidth": 2
          }
         }
        },
        "title": {
         "text": "ADMM perfomance comparison"
        },
        "xaxis": {
         "anchor": "y",
         "domain": [
          0,
          1
         ],
         "title": {
          "text": "Time, s"
         }
        },
        "yaxis": {
         "anchor": "x",
         "domain": [
          0,
          1
         ],
         "title": {
          "text": "Distance"
         }
        }
       }
      },
      "text/html": [
       "<div>                            <div id=\"d2cd5507-2155-446b-ac41-4395e7686067\" class=\"plotly-graph-div\" style=\"height:525px; width:100%;\"></div>            <script type=\"text/javascript\">                require([\"plotly\"], function(Plotly) {                    window.PLOTLYENV=window.PLOTLYENV || {};                                    if (document.getElementById(\"d2cd5507-2155-446b-ac41-4395e7686067\")) {                    Plotly.newPlot(                        \"d2cd5507-2155-446b-ac41-4395e7686067\",                        [{\"hovertemplate\": \"method=sklearn<br>Time, s=%{x}<br>Distance=%{y}<extra></extra>\", \"legendgroup\": \"sklearn\", \"line\": {\"color\": \"#636efa\", \"dash\": \"solid\"}, \"mode\": \"lines\", \"name\": \"sklearn\", \"orientation\": \"v\", \"showlegend\": true, \"textposition\": \"top center\", \"type\": \"scatter\", \"x\": [8.96, 25.51, 36.64, 44.69, 53.01, 50.46, 27.88, 16.31], \"xaxis\": \"x\", \"y\": [0.0027120806785523094, 0.0003552766870775386, 0.00013555567963602786, 0.00012576143683398227, 0.00012537587650967354, 0.00012535274328625285, 0.00012544613933326994, 0.0001254462717687887], \"yaxis\": \"y\"}, {\"hovertemplate\": \"method=regain<br>Time, s=%{x}<br>Distance=%{y}<extra></extra>\", \"legendgroup\": \"regain\", \"line\": {\"color\": \"#EF553B\", \"dash\": \"dot\"}, \"mode\": \"lines\", \"name\": \"regain\", \"orientation\": \"v\", \"showlegend\": true, \"textposition\": \"top center\", \"type\": \"scatter\", \"x\": [0.67, 0.96, 4.52, 8.51, 12.66, 17.34, 20.23, 24.52], \"xaxis\": \"x\", \"y\": [0.7845322670802309, 0.6626845695736481, 0.0784276008197344, 0.007218277973182216, 0.0009954842375765383, 1.892332752558683e-05, 0.00011002884961545035, 0.00012400600871735251], \"yaxis\": \"y\"}, {\"hovertemplate\": \"method=admm<br>Time, s=%{x}<br>Distance=%{y}<extra></extra>\", \"legendgroup\": \"admm\", \"line\": {\"color\": \"#00cc96\", \"dash\": \"dash\"}, \"mode\": \"lines\", \"name\": \"admm\", \"orientation\": \"v\", \"showlegend\": true, \"textposition\": \"top center\", \"type\": \"scatter\", \"x\": [0.48, 0.47, 0.45, 0.33, 0.92, 2.3, 4.15, 6.85], \"xaxis\": \"x\", \"y\": [0.32901693654662434, 0.32901693654662434, 0.32901693654662434, 0.32901693654662434, 0.1596485098260404, 0.029772240288387344, 0.004377613844627511, 0.0006774937597474682], \"yaxis\": \"y\"}, {\"hovertemplate\": \"method=kkt_admm<br>Time, s=%{x}<br>Distance=%{y}<extra></extra>\", \"legendgroup\": \"kkt_admm\", \"line\": {\"color\": \"#ab63fa\", \"dash\": \"longdash\"}, \"mode\": \"lines\", \"name\": \"kkt_admm\", \"orientation\": \"v\", \"showlegend\": true, \"textposition\": \"top center\", \"type\": \"scatter\", \"x\": [1.45, 4.48, 9.14, 14.99, 28.95, 21.65, 29.13, 34.62], \"xaxis\": \"x\", \"y\": [0.22235855094630483, 0.03870157769646381, 0.004377613844627511, 0.0007717318720372011, 0.0001983647873424435, 0.00013322951167576088, 0.0001261729464249634, 0.00012551416991886464], \"yaxis\": \"y\"}, {\"hovertemplate\": \"method=block_admm<br>Time, s=%{x}<br>Distance=%{y}<extra></extra>\", \"legendgroup\": \"block_admm\", \"line\": {\"color\": \"#FFA15A\", \"dash\": \"dashdot\"}, \"mode\": \"lines\", \"name\": \"block_admm\", \"orientation\": \"v\", \"showlegend\": true, \"textposition\": \"top center\", \"type\": \"scatter\", \"x\": [0.43, 0.41, 0.4, 0.4, 0.74, 1.8, 3.39, 5.98], \"xaxis\": \"x\", \"y\": [0.32901693654662434, 0.32901693654662434, 0.32901693654662434, 0.32901693654662434, 0.1596485098260404, 0.029772240288387344, 0.004377613844627511, 0.0006774937597474682], \"yaxis\": \"y\"}, {\"hovertemplate\": \"method=kkt_block_admm<br>Time, s=%{x}<br>Distance=%{y}<extra></extra>\", \"legendgroup\": \"kkt_block_admm\", \"line\": {\"color\": \"#19d3f3\", \"dash\": \"longdashdot\"}, \"mode\": \"lines\", \"name\": \"kkt_block_admm\", \"orientation\": \"v\", \"showlegend\": true, \"textposition\": \"top center\", \"type\": \"scatter\", \"x\": [1.58, 4.43, 9.01, 14.2, 21.77, 29.01, 39.71, 41.45], \"xaxis\": \"x\", \"y\": [0.22235855094630483, 0.03870157769646381, 0.004377613844627511, 0.0007717318720372011, 0.0001983647873424435, 0.00013322951167576088, 0.0001261729464249634, 0.00012551416991886464], \"yaxis\": \"y\"}],                        {\"legend\": {\"title\": {\"text\": \"method\"}, \"tracegroupgap\": 0}, \"template\": {\"data\": {\"bar\": [{\"error_x\": {\"color\": \"#2a3f5f\"}, \"error_y\": {\"color\": \"#2a3f5f\"}, \"marker\": {\"line\": {\"color\": \"white\", \"width\": 0.5}}, \"type\": \"bar\"}], \"barpolar\": [{\"marker\": {\"line\": {\"color\": \"white\", \"width\": 0.5}}, \"type\": \"barpolar\"}], \"carpet\": [{\"aaxis\": {\"endlinecolor\": \"#2a3f5f\", \"gridcolor\": \"#C8D4E3\", \"linecolor\": \"#C8D4E3\", \"minorgridcolor\": \"#C8D4E3\", \"startlinecolor\": \"#2a3f5f\"}, \"baxis\": {\"endlinecolor\": \"#2a3f5f\", \"gridcolor\": \"#C8D4E3\", \"linecolor\": \"#C8D4E3\", \"minorgridcolor\": \"#C8D4E3\", \"startlinecolor\": \"#2a3f5f\"}, \"type\": \"carpet\"}], \"choropleth\": [{\"colorbar\": {\"outlinewidth\": 0, \"ticks\": \"\"}, \"type\": \"choropleth\"}], \"contour\": [{\"colorbar\": {\"outlinewidth\": 0, \"ticks\": \"\"}, \"colorscale\": [[0.0, \"#0d0887\"], [0.1111111111111111, \"#46039f\"], [0.2222222222222222, \"#7201a8\"], [0.3333333333333333, \"#9c179e\"], [0.4444444444444444, \"#bd3786\"], [0.5555555555555556, \"#d8576b\"], [0.6666666666666666, \"#ed7953\"], [0.7777777777777778, \"#fb9f3a\"], [0.8888888888888888, \"#fdca26\"], [1.0, \"#f0f921\"]], \"type\": \"contour\"}], \"contourcarpet\": [{\"colorbar\": {\"outlinewidth\": 0, \"ticks\": \"\"}, \"type\": \"contourcarpet\"}], \"heatmap\": [{\"colorbar\": {\"outlinewidth\": 0, \"ticks\": \"\"}, \"colorscale\": [[0.0, \"#0d0887\"], [0.1111111111111111, \"#46039f\"], [0.2222222222222222, \"#7201a8\"], [0.3333333333333333, \"#9c179e\"], [0.4444444444444444, \"#bd3786\"], [0.5555555555555556, \"#d8576b\"], [0.6666666666666666, \"#ed7953\"], [0.7777777777777778, \"#fb9f3a\"], [0.8888888888888888, \"#fdca26\"], [1.0, \"#f0f921\"]], \"type\": \"heatmap\"}], \"heatmapgl\": [{\"colorbar\": {\"outlinewidth\": 0, \"ticks\": \"\"}, \"colorscale\": [[0.0, \"#0d0887\"], [0.1111111111111111, \"#46039f\"], [0.2222222222222222, \"#7201a8\"], [0.3333333333333333, \"#9c179e\"], [0.4444444444444444, \"#bd3786\"], [0.5555555555555556, \"#d8576b\"], [0.6666666666666666, \"#ed7953\"], [0.7777777777777778, \"#fb9f3a\"], [0.8888888888888888, \"#fdca26\"], [1.0, \"#f0f921\"]], \"type\": \"heatmapgl\"}], \"histogram\": [{\"marker\": {\"colorbar\": {\"outlinewidth\": 0, \"ticks\": \"\"}}, \"type\": \"histogram\"}], \"histogram2d\": [{\"colorbar\": {\"outlinewidth\": 0, \"ticks\": \"\"}, \"colorscale\": [[0.0, \"#0d0887\"], [0.1111111111111111, \"#46039f\"], [0.2222222222222222, \"#7201a8\"], [0.3333333333333333, \"#9c179e\"], [0.4444444444444444, \"#bd3786\"], [0.5555555555555556, \"#d8576b\"], [0.6666666666666666, \"#ed7953\"], [0.7777777777777778, \"#fb9f3a\"], [0.8888888888888888, \"#fdca26\"], [1.0, \"#f0f921\"]], \"type\": \"histogram2d\"}], \"histogram2dcontour\": [{\"colorbar\": {\"outlinewidth\": 0, \"ticks\": \"\"}, \"colorscale\": [[0.0, \"#0d0887\"], [0.1111111111111111, \"#46039f\"], [0.2222222222222222, \"#7201a8\"], [0.3333333333333333, \"#9c179e\"], [0.4444444444444444, \"#bd3786\"], [0.5555555555555556, \"#d8576b\"], [0.6666666666666666, \"#ed7953\"], [0.7777777777777778, \"#fb9f3a\"], [0.8888888888888888, \"#fdca26\"], [1.0, \"#f0f921\"]], \"type\": \"histogram2dcontour\"}], \"mesh3d\": [{\"colorbar\": {\"outlinewidth\": 0, \"ticks\": \"\"}, \"type\": \"mesh3d\"}], \"parcoords\": [{\"line\": {\"colorbar\": {\"outlinewidth\": 0, \"ticks\": \"\"}}, \"type\": \"parcoords\"}], \"pie\": [{\"automargin\": true, \"type\": \"pie\"}], \"scatter\": [{\"marker\": {\"colorbar\": {\"outlinewidth\": 0, \"ticks\": \"\"}}, \"type\": \"scatter\"}], \"scatter3d\": [{\"line\": {\"colorbar\": {\"outlinewidth\": 0, \"ticks\": \"\"}}, \"marker\": {\"colorbar\": {\"outlinewidth\": 0, \"ticks\": \"\"}}, \"type\": \"scatter3d\"}], \"scattercarpet\": [{\"marker\": {\"colorbar\": {\"outlinewidth\": 0, \"ticks\": \"\"}}, \"type\": \"scattercarpet\"}], \"scattergeo\": [{\"marker\": {\"colorbar\": {\"outlinewidth\": 0, \"ticks\": \"\"}}, \"type\": \"scattergeo\"}], \"scattergl\": [{\"marker\": {\"colorbar\": {\"outlinewidth\": 0, \"ticks\": \"\"}}, \"type\": \"scattergl\"}], \"scattermapbox\": [{\"marker\": {\"colorbar\": {\"outlinewidth\": 0, \"ticks\": \"\"}}, \"type\": \"scattermapbox\"}], \"scatterpolar\": [{\"marker\": {\"colorbar\": {\"outlinewidth\": 0, \"ticks\": \"\"}}, \"type\": \"scatterpolar\"}], \"scatterpolargl\": [{\"marker\": {\"colorbar\": {\"outlinewidth\": 0, \"ticks\": \"\"}}, \"type\": \"scatterpolargl\"}], \"scatterternary\": [{\"marker\": {\"colorbar\": {\"outlinewidth\": 0, \"ticks\": \"\"}}, \"type\": \"scatterternary\"}], \"surface\": [{\"colorbar\": {\"outlinewidth\": 0, \"ticks\": \"\"}, \"colorscale\": [[0.0, \"#0d0887\"], [0.1111111111111111, \"#46039f\"], [0.2222222222222222, \"#7201a8\"], [0.3333333333333333, \"#9c179e\"], [0.4444444444444444, \"#bd3786\"], [0.5555555555555556, \"#d8576b\"], [0.6666666666666666, \"#ed7953\"], [0.7777777777777778, \"#fb9f3a\"], [0.8888888888888888, \"#fdca26\"], [1.0, \"#f0f921\"]], \"type\": \"surface\"}], \"table\": [{\"cells\": {\"fill\": {\"color\": \"#EBF0F8\"}, \"line\": {\"color\": \"white\"}}, \"header\": {\"fill\": {\"color\": \"#C8D4E3\"}, \"line\": {\"color\": \"white\"}}, \"type\": \"table\"}]}, \"layout\": {\"annotationdefaults\": {\"arrowcolor\": \"#2a3f5f\", \"arrowhead\": 0, \"arrowwidth\": 1}, \"autotypenumbers\": \"strict\", \"coloraxis\": {\"colorbar\": {\"outlinewidth\": 0, \"ticks\": \"\"}}, \"colorscale\": {\"diverging\": [[0, \"#8e0152\"], [0.1, \"#c51b7d\"], [0.2, \"#de77ae\"], [0.3, \"#f1b6da\"], [0.4, \"#fde0ef\"], [0.5, \"#f7f7f7\"], [0.6, \"#e6f5d0\"], [0.7, \"#b8e186\"], [0.8, \"#7fbc41\"], [0.9, \"#4d9221\"], [1, \"#276419\"]], \"sequential\": [[0.0, \"#0d0887\"], [0.1111111111111111, \"#46039f\"], [0.2222222222222222, \"#7201a8\"], [0.3333333333333333, \"#9c179e\"], [0.4444444444444444, \"#bd3786\"], [0.5555555555555556, \"#d8576b\"], [0.6666666666666666, \"#ed7953\"], [0.7777777777777778, \"#fb9f3a\"], [0.8888888888888888, \"#fdca26\"], [1.0, \"#f0f921\"]], \"sequentialminus\": [[0.0, \"#0d0887\"], [0.1111111111111111, \"#46039f\"], [0.2222222222222222, \"#7201a8\"], [0.3333333333333333, \"#9c179e\"], [0.4444444444444444, \"#bd3786\"], [0.5555555555555556, \"#d8576b\"], [0.6666666666666666, \"#ed7953\"], [0.7777777777777778, \"#fb9f3a\"], [0.8888888888888888, \"#fdca26\"], [1.0, \"#f0f921\"]]}, \"colorway\": [\"#636efa\", \"#EF553B\", \"#00cc96\", \"#ab63fa\", \"#FFA15A\", \"#19d3f3\", \"#FF6692\", \"#B6E880\", \"#FF97FF\", \"#FECB52\"], \"font\": {\"color\": \"#2a3f5f\"}, \"geo\": {\"bgcolor\": \"white\", \"lakecolor\": \"white\", \"landcolor\": \"white\", \"showlakes\": true, \"showland\": true, \"subunitcolor\": \"#C8D4E3\"}, \"hoverlabel\": {\"align\": \"left\"}, \"hovermode\": \"closest\", \"mapbox\": {\"style\": \"light\"}, \"paper_bgcolor\": \"white\", \"plot_bgcolor\": \"white\", \"polar\": {\"angularaxis\": {\"gridcolor\": \"#EBF0F8\", \"linecolor\": \"#EBF0F8\", \"ticks\": \"\"}, \"bgcolor\": \"white\", \"radialaxis\": {\"gridcolor\": \"#EBF0F8\", \"linecolor\": \"#EBF0F8\", \"ticks\": \"\"}}, \"scene\": {\"xaxis\": {\"backgroundcolor\": \"white\", \"gridcolor\": \"#DFE8F3\", \"gridwidth\": 2, \"linecolor\": \"#EBF0F8\", \"showbackground\": true, \"ticks\": \"\", \"zerolinecolor\": \"#EBF0F8\"}, \"yaxis\": {\"backgroundcolor\": \"white\", \"gridcolor\": \"#DFE8F3\", \"gridwidth\": 2, \"linecolor\": \"#EBF0F8\", \"showbackground\": true, \"ticks\": \"\", \"zerolinecolor\": \"#EBF0F8\"}, \"zaxis\": {\"backgroundcolor\": \"white\", \"gridcolor\": \"#DFE8F3\", \"gridwidth\": 2, \"linecolor\": \"#EBF0F8\", \"showbackground\": true, \"ticks\": \"\", \"zerolinecolor\": \"#EBF0F8\"}}, \"shapedefaults\": {\"line\": {\"color\": \"#2a3f5f\"}}, \"ternary\": {\"aaxis\": {\"gridcolor\": \"#DFE8F3\", \"linecolor\": \"#A2B1C6\", \"ticks\": \"\"}, \"baxis\": {\"gridcolor\": \"#DFE8F3\", \"linecolor\": \"#A2B1C6\", \"ticks\": \"\"}, \"bgcolor\": \"white\", \"caxis\": {\"gridcolor\": \"#DFE8F3\", \"linecolor\": \"#A2B1C6\", \"ticks\": \"\"}}, \"title\": {\"x\": 0.05}, \"xaxis\": {\"automargin\": true, \"gridcolor\": \"#EBF0F8\", \"linecolor\": \"#EBF0F8\", \"ticks\": \"\", \"title\": {\"standoff\": 15}, \"zerolinecolor\": \"#EBF0F8\", \"zerolinewidth\": 2}, \"yaxis\": {\"automargin\": true, \"gridcolor\": \"#EBF0F8\", \"linecolor\": \"#EBF0F8\", \"ticks\": \"\", \"title\": {\"standoff\": 15}, \"zerolinecolor\": \"#EBF0F8\", \"zerolinewidth\": 2}}}, \"title\": {\"text\": \"ADMM perfomance comparison\"}, \"xaxis\": {\"anchor\": \"y\", \"domain\": [0.0, 1.0], \"title\": {\"text\": \"Time, s\"}}, \"yaxis\": {\"anchor\": \"x\", \"domain\": [0.0, 1.0], \"title\": {\"text\": \"Distance\"}}},                        {\"responsive\": true}                    ).then(function(){\n",
       "                            \n",
       "var gd = document.getElementById('d2cd5507-2155-446b-ac41-4395e7686067');\n",
       "var x = new MutationObserver(function (mutations, observer) {{\n",
       "        var display = window.getComputedStyle(gd).display;\n",
       "        if (!display || display === 'none') {{\n",
       "            console.log([gd, 'removed!']);\n",
       "            Plotly.purge(gd);\n",
       "            observer.disconnect();\n",
       "        }}\n",
       "}});\n",
       "\n",
       "// Listen for the removal of the full notebook cells\n",
       "var notebookContainer = gd.closest('#notebook-container');\n",
       "if (notebookContainer) {{\n",
       "    x.observe(notebookContainer, {childList: true});\n",
       "}}\n",
       "\n",
       "// Listen for the clearing of the current output cell\n",
       "var outputEl = gd.closest('.output');\n",
       "if (outputEl) {{\n",
       "    x.observe(outputEl, {childList: true});\n",
       "}}\n",
       "\n",
       "                        })                };                });            </script>        </div>"
      ]
     },
     "metadata": {},
     "output_type": "display_data"
    }
   ],
   "source": [
    "fig = px.line(df, x=\"sec_time\", y=\"distance\", color= \"method\", line_dash='method',\n",
    "#               text = \"str_tol\",\n",
    "        labels={\"sec_time\": \"Time, s\",\n",
    "                \"distance\": \"Distance\",\n",
    "                \"method\": \"method\"\n",
    "                 },\n",
    "        template = \"plotly_white\",\n",
    "              title='ADMM perfomance comparison')\n",
    "fig.update_traces(textposition='top center')\n",
    "fig.show()"
   ]
  },
  {
   "cell_type": "code",
   "execution_count": 238,
   "id": "weighted-consultation",
   "metadata": {},
   "outputs": [
    {
     "data": {
      "application/vnd.plotly.v1+json": {
       "config": {
        "plotlyServerURL": "https://plot.ly"
       },
       "data": [
        {
         "hovertemplate": "method=sklearn<br>sec_time=%{marker.size}<br>distance=%{y}<br>str_tol=%{text}<extra></extra>",
         "legendgroup": "sklearn",
         "marker": {
          "color": "#636efa",
          "size": [
           8.96,
           25.51,
           36.64,
           44.69,
           53.01,
           50.46,
           27.88,
           16.31
          ],
          "sizemode": "area",
          "sizeref": 0.132525,
          "symbol": "circle"
         },
         "mode": "markers+text",
         "name": "sklearn",
         "orientation": "v",
         "showlegend": true,
         "text": [
          "0.1",
          "0.01",
          "0.001",
          "1e-04",
          "1e-05",
          "1e-06",
          "1e-07",
          "1e-08"
         ],
         "textposition": "top center",
         "type": "scatter",
         "x": [
          8.96,
          25.51,
          36.64,
          44.69,
          53.01,
          50.46,
          27.88,
          16.31
         ],
         "xaxis": "x",
         "y": [
          0.0027120806785523094,
          0.0003552766870775386,
          0.00013555567963602786,
          0.00012576143683398227,
          0.00012537587650967354,
          0.00012535274328625285,
          0.00012544613933326994,
          0.0001254462717687887
         ],
         "yaxis": "y"
        },
        {
         "hovertemplate": "method=regain<br>sec_time=%{marker.size}<br>distance=%{y}<br>str_tol=%{text}<extra></extra>",
         "legendgroup": "regain",
         "marker": {
          "color": "#EF553B",
          "size": [
           0.67,
           0.96,
           4.52,
           8.51,
           12.66,
           17.34,
           20.23,
           24.52
          ],
          "sizemode": "area",
          "sizeref": 0.132525,
          "symbol": "circle"
         },
         "mode": "markers+text",
         "name": "regain",
         "orientation": "v",
         "showlegend": true,
         "text": [
          "0.1",
          "0.01",
          "0.001",
          "1e-04",
          "1e-05",
          "1e-06",
          "1e-07",
          "1e-08"
         ],
         "textposition": "top center",
         "type": "scatter",
         "x": [
          0.67,
          0.96,
          4.52,
          8.51,
          12.66,
          17.34,
          20.23,
          24.52
         ],
         "xaxis": "x",
         "y": [
          0.7845322670802309,
          0.6626845695736481,
          0.0784276008197344,
          0.007218277973182216,
          0.0009954842375765383,
          1.892332752558683e-05,
          0.00011002884961545035,
          0.00012400600871735251
         ],
         "yaxis": "y"
        },
        {
         "hovertemplate": "method=admm<br>sec_time=%{marker.size}<br>distance=%{y}<br>str_tol=%{text}<extra></extra>",
         "legendgroup": "admm",
         "marker": {
          "color": "#00cc96",
          "size": [
           0.48,
           0.47,
           0.45,
           0.33,
           0.92,
           2.3,
           4.15,
           6.85
          ],
          "sizemode": "area",
          "sizeref": 0.132525,
          "symbol": "circle"
         },
         "mode": "markers+text",
         "name": "admm",
         "orientation": "v",
         "showlegend": true,
         "text": [
          "0.1",
          "0.01",
          "0.001",
          "1e-04",
          "1e-05",
          "1e-06",
          "1e-07",
          "1e-08"
         ],
         "textposition": "top center",
         "type": "scatter",
         "x": [
          0.48,
          0.47,
          0.45,
          0.33,
          0.92,
          2.3,
          4.15,
          6.85
         ],
         "xaxis": "x",
         "y": [
          0.32901693654662434,
          0.32901693654662434,
          0.32901693654662434,
          0.32901693654662434,
          0.1596485098260404,
          0.029772240288387344,
          0.004377613844627511,
          0.0006774937597474682
         ],
         "yaxis": "y"
        },
        {
         "hovertemplate": "method=kkt_admm<br>sec_time=%{marker.size}<br>distance=%{y}<br>str_tol=%{text}<extra></extra>",
         "legendgroup": "kkt_admm",
         "marker": {
          "color": "#ab63fa",
          "size": [
           1.45,
           4.48,
           9.14,
           14.99,
           28.95,
           21.65,
           29.13,
           34.62
          ],
          "sizemode": "area",
          "sizeref": 0.132525,
          "symbol": "circle"
         },
         "mode": "markers+text",
         "name": "kkt_admm",
         "orientation": "v",
         "showlegend": true,
         "text": [
          "0.1",
          "0.01",
          "0.001",
          "1e-04",
          "1e-05",
          "1e-06",
          "1e-07",
          "1e-08"
         ],
         "textposition": "top center",
         "type": "scatter",
         "x": [
          1.45,
          4.48,
          9.14,
          14.99,
          28.95,
          21.65,
          29.13,
          34.62
         ],
         "xaxis": "x",
         "y": [
          0.22235855094630483,
          0.03870157769646381,
          0.004377613844627511,
          0.0007717318720372011,
          0.0001983647873424435,
          0.00013322951167576088,
          0.0001261729464249634,
          0.00012551416991886464
         ],
         "yaxis": "y"
        },
        {
         "hovertemplate": "method=block_admm<br>sec_time=%{marker.size}<br>distance=%{y}<br>str_tol=%{text}<extra></extra>",
         "legendgroup": "block_admm",
         "marker": {
          "color": "#FFA15A",
          "size": [
           0.43,
           0.41,
           0.4,
           0.4,
           0.74,
           1.8,
           3.39,
           5.98
          ],
          "sizemode": "area",
          "sizeref": 0.132525,
          "symbol": "circle"
         },
         "mode": "markers+text",
         "name": "block_admm",
         "orientation": "v",
         "showlegend": true,
         "text": [
          "0.1",
          "0.01",
          "0.001",
          "1e-04",
          "1e-05",
          "1e-06",
          "1e-07",
          "1e-08"
         ],
         "textposition": "top center",
         "type": "scatter",
         "x": [
          0.43,
          0.41,
          0.4,
          0.4,
          0.74,
          1.8,
          3.39,
          5.98
         ],
         "xaxis": "x",
         "y": [
          0.32901693654662434,
          0.32901693654662434,
          0.32901693654662434,
          0.32901693654662434,
          0.1596485098260404,
          0.029772240288387344,
          0.004377613844627511,
          0.0006774937597474682
         ],
         "yaxis": "y"
        },
        {
         "hovertemplate": "method=kkt_block_admm<br>sec_time=%{marker.size}<br>distance=%{y}<br>str_tol=%{text}<extra></extra>",
         "legendgroup": "kkt_block_admm",
         "marker": {
          "color": "#19d3f3",
          "size": [
           1.58,
           4.43,
           9.01,
           14.2,
           21.77,
           29.01,
           39.71,
           41.45
          ],
          "sizemode": "area",
          "sizeref": 0.132525,
          "symbol": "circle"
         },
         "mode": "markers+text",
         "name": "kkt_block_admm",
         "orientation": "v",
         "showlegend": true,
         "text": [
          "0.1",
          "0.01",
          "0.001",
          "1e-04",
          "1e-05",
          "1e-06",
          "1e-07",
          "1e-08"
         ],
         "textposition": "top center",
         "type": "scatter",
         "x": [
          1.58,
          4.43,
          9.01,
          14.2,
          21.77,
          29.01,
          39.71,
          41.45
         ],
         "xaxis": "x",
         "y": [
          0.22235855094630483,
          0.03870157769646381,
          0.004377613844627511,
          0.0007717318720372011,
          0.0001983647873424435,
          0.00013322951167576088,
          0.0001261729464249634,
          0.00012551416991886464
         ],
         "yaxis": "y"
        }
       ],
       "layout": {
        "legend": {
         "itemsizing": "constant",
         "title": {
          "text": "method"
         },
         "tracegroupgap": 0
        },
        "template": {
         "data": {
          "bar": [
           {
            "error_x": {
             "color": "#2a3f5f"
            },
            "error_y": {
             "color": "#2a3f5f"
            },
            "marker": {
             "line": {
              "color": "white",
              "width": 0.5
             }
            },
            "type": "bar"
           }
          ],
          "barpolar": [
           {
            "marker": {
             "line": {
              "color": "white",
              "width": 0.5
             }
            },
            "type": "barpolar"
           }
          ],
          "carpet": [
           {
            "aaxis": {
             "endlinecolor": "#2a3f5f",
             "gridcolor": "#C8D4E3",
             "linecolor": "#C8D4E3",
             "minorgridcolor": "#C8D4E3",
             "startlinecolor": "#2a3f5f"
            },
            "baxis": {
             "endlinecolor": "#2a3f5f",
             "gridcolor": "#C8D4E3",
             "linecolor": "#C8D4E3",
             "minorgridcolor": "#C8D4E3",
             "startlinecolor": "#2a3f5f"
            },
            "type": "carpet"
           }
          ],
          "choropleth": [
           {
            "colorbar": {
             "outlinewidth": 0,
             "ticks": ""
            },
            "type": "choropleth"
           }
          ],
          "contour": [
           {
            "colorbar": {
             "outlinewidth": 0,
             "ticks": ""
            },
            "colorscale": [
             [
              0,
              "#0d0887"
             ],
             [
              0.1111111111111111,
              "#46039f"
             ],
             [
              0.2222222222222222,
              "#7201a8"
             ],
             [
              0.3333333333333333,
              "#9c179e"
             ],
             [
              0.4444444444444444,
              "#bd3786"
             ],
             [
              0.5555555555555556,
              "#d8576b"
             ],
             [
              0.6666666666666666,
              "#ed7953"
             ],
             [
              0.7777777777777778,
              "#fb9f3a"
             ],
             [
              0.8888888888888888,
              "#fdca26"
             ],
             [
              1,
              "#f0f921"
             ]
            ],
            "type": "contour"
           }
          ],
          "contourcarpet": [
           {
            "colorbar": {
             "outlinewidth": 0,
             "ticks": ""
            },
            "type": "contourcarpet"
           }
          ],
          "heatmap": [
           {
            "colorbar": {
             "outlinewidth": 0,
             "ticks": ""
            },
            "colorscale": [
             [
              0,
              "#0d0887"
             ],
             [
              0.1111111111111111,
              "#46039f"
             ],
             [
              0.2222222222222222,
              "#7201a8"
             ],
             [
              0.3333333333333333,
              "#9c179e"
             ],
             [
              0.4444444444444444,
              "#bd3786"
             ],
             [
              0.5555555555555556,
              "#d8576b"
             ],
             [
              0.6666666666666666,
              "#ed7953"
             ],
             [
              0.7777777777777778,
              "#fb9f3a"
             ],
             [
              0.8888888888888888,
              "#fdca26"
             ],
             [
              1,
              "#f0f921"
             ]
            ],
            "type": "heatmap"
           }
          ],
          "heatmapgl": [
           {
            "colorbar": {
             "outlinewidth": 0,
             "ticks": ""
            },
            "colorscale": [
             [
              0,
              "#0d0887"
             ],
             [
              0.1111111111111111,
              "#46039f"
             ],
             [
              0.2222222222222222,
              "#7201a8"
             ],
             [
              0.3333333333333333,
              "#9c179e"
             ],
             [
              0.4444444444444444,
              "#bd3786"
             ],
             [
              0.5555555555555556,
              "#d8576b"
             ],
             [
              0.6666666666666666,
              "#ed7953"
             ],
             [
              0.7777777777777778,
              "#fb9f3a"
             ],
             [
              0.8888888888888888,
              "#fdca26"
             ],
             [
              1,
              "#f0f921"
             ]
            ],
            "type": "heatmapgl"
           }
          ],
          "histogram": [
           {
            "marker": {
             "colorbar": {
              "outlinewidth": 0,
              "ticks": ""
             }
            },
            "type": "histogram"
           }
          ],
          "histogram2d": [
           {
            "colorbar": {
             "outlinewidth": 0,
             "ticks": ""
            },
            "colorscale": [
             [
              0,
              "#0d0887"
             ],
             [
              0.1111111111111111,
              "#46039f"
             ],
             [
              0.2222222222222222,
              "#7201a8"
             ],
             [
              0.3333333333333333,
              "#9c179e"
             ],
             [
              0.4444444444444444,
              "#bd3786"
             ],
             [
              0.5555555555555556,
              "#d8576b"
             ],
             [
              0.6666666666666666,
              "#ed7953"
             ],
             [
              0.7777777777777778,
              "#fb9f3a"
             ],
             [
              0.8888888888888888,
              "#fdca26"
             ],
             [
              1,
              "#f0f921"
             ]
            ],
            "type": "histogram2d"
           }
          ],
          "histogram2dcontour": [
           {
            "colorbar": {
             "outlinewidth": 0,
             "ticks": ""
            },
            "colorscale": [
             [
              0,
              "#0d0887"
             ],
             [
              0.1111111111111111,
              "#46039f"
             ],
             [
              0.2222222222222222,
              "#7201a8"
             ],
             [
              0.3333333333333333,
              "#9c179e"
             ],
             [
              0.4444444444444444,
              "#bd3786"
             ],
             [
              0.5555555555555556,
              "#d8576b"
             ],
             [
              0.6666666666666666,
              "#ed7953"
             ],
             [
              0.7777777777777778,
              "#fb9f3a"
             ],
             [
              0.8888888888888888,
              "#fdca26"
             ],
             [
              1,
              "#f0f921"
             ]
            ],
            "type": "histogram2dcontour"
           }
          ],
          "mesh3d": [
           {
            "colorbar": {
             "outlinewidth": 0,
             "ticks": ""
            },
            "type": "mesh3d"
           }
          ],
          "parcoords": [
           {
            "line": {
             "colorbar": {
              "outlinewidth": 0,
              "ticks": ""
             }
            },
            "type": "parcoords"
           }
          ],
          "pie": [
           {
            "automargin": true,
            "type": "pie"
           }
          ],
          "scatter": [
           {
            "marker": {
             "colorbar": {
              "outlinewidth": 0,
              "ticks": ""
             }
            },
            "type": "scatter"
           }
          ],
          "scatter3d": [
           {
            "line": {
             "colorbar": {
              "outlinewidth": 0,
              "ticks": ""
             }
            },
            "marker": {
             "colorbar": {
              "outlinewidth": 0,
              "ticks": ""
             }
            },
            "type": "scatter3d"
           }
          ],
          "scattercarpet": [
           {
            "marker": {
             "colorbar": {
              "outlinewidth": 0,
              "ticks": ""
             }
            },
            "type": "scattercarpet"
           }
          ],
          "scattergeo": [
           {
            "marker": {
             "colorbar": {
              "outlinewidth": 0,
              "ticks": ""
             }
            },
            "type": "scattergeo"
           }
          ],
          "scattergl": [
           {
            "marker": {
             "colorbar": {
              "outlinewidth": 0,
              "ticks": ""
             }
            },
            "type": "scattergl"
           }
          ],
          "scattermapbox": [
           {
            "marker": {
             "colorbar": {
              "outlinewidth": 0,
              "ticks": ""
             }
            },
            "type": "scattermapbox"
           }
          ],
          "scatterpolar": [
           {
            "marker": {
             "colorbar": {
              "outlinewidth": 0,
              "ticks": ""
             }
            },
            "type": "scatterpolar"
           }
          ],
          "scatterpolargl": [
           {
            "marker": {
             "colorbar": {
              "outlinewidth": 0,
              "ticks": ""
             }
            },
            "type": "scatterpolargl"
           }
          ],
          "scatterternary": [
           {
            "marker": {
             "colorbar": {
              "outlinewidth": 0,
              "ticks": ""
             }
            },
            "type": "scatterternary"
           }
          ],
          "surface": [
           {
            "colorbar": {
             "outlinewidth": 0,
             "ticks": ""
            },
            "colorscale": [
             [
              0,
              "#0d0887"
             ],
             [
              0.1111111111111111,
              "#46039f"
             ],
             [
              0.2222222222222222,
              "#7201a8"
             ],
             [
              0.3333333333333333,
              "#9c179e"
             ],
             [
              0.4444444444444444,
              "#bd3786"
             ],
             [
              0.5555555555555556,
              "#d8576b"
             ],
             [
              0.6666666666666666,
              "#ed7953"
             ],
             [
              0.7777777777777778,
              "#fb9f3a"
             ],
             [
              0.8888888888888888,
              "#fdca26"
             ],
             [
              1,
              "#f0f921"
             ]
            ],
            "type": "surface"
           }
          ],
          "table": [
           {
            "cells": {
             "fill": {
              "color": "#EBF0F8"
             },
             "line": {
              "color": "white"
             }
            },
            "header": {
             "fill": {
              "color": "#C8D4E3"
             },
             "line": {
              "color": "white"
             }
            },
            "type": "table"
           }
          ]
         },
         "layout": {
          "annotationdefaults": {
           "arrowcolor": "#2a3f5f",
           "arrowhead": 0,
           "arrowwidth": 1
          },
          "autotypenumbers": "strict",
          "coloraxis": {
           "colorbar": {
            "outlinewidth": 0,
            "ticks": ""
           }
          },
          "colorscale": {
           "diverging": [
            [
             0,
             "#8e0152"
            ],
            [
             0.1,
             "#c51b7d"
            ],
            [
             0.2,
             "#de77ae"
            ],
            [
             0.3,
             "#f1b6da"
            ],
            [
             0.4,
             "#fde0ef"
            ],
            [
             0.5,
             "#f7f7f7"
            ],
            [
             0.6,
             "#e6f5d0"
            ],
            [
             0.7,
             "#b8e186"
            ],
            [
             0.8,
             "#7fbc41"
            ],
            [
             0.9,
             "#4d9221"
            ],
            [
             1,
             "#276419"
            ]
           ],
           "sequential": [
            [
             0,
             "#0d0887"
            ],
            [
             0.1111111111111111,
             "#46039f"
            ],
            [
             0.2222222222222222,
             "#7201a8"
            ],
            [
             0.3333333333333333,
             "#9c179e"
            ],
            [
             0.4444444444444444,
             "#bd3786"
            ],
            [
             0.5555555555555556,
             "#d8576b"
            ],
            [
             0.6666666666666666,
             "#ed7953"
            ],
            [
             0.7777777777777778,
             "#fb9f3a"
            ],
            [
             0.8888888888888888,
             "#fdca26"
            ],
            [
             1,
             "#f0f921"
            ]
           ],
           "sequentialminus": [
            [
             0,
             "#0d0887"
            ],
            [
             0.1111111111111111,
             "#46039f"
            ],
            [
             0.2222222222222222,
             "#7201a8"
            ],
            [
             0.3333333333333333,
             "#9c179e"
            ],
            [
             0.4444444444444444,
             "#bd3786"
            ],
            [
             0.5555555555555556,
             "#d8576b"
            ],
            [
             0.6666666666666666,
             "#ed7953"
            ],
            [
             0.7777777777777778,
             "#fb9f3a"
            ],
            [
             0.8888888888888888,
             "#fdca26"
            ],
            [
             1,
             "#f0f921"
            ]
           ]
          },
          "colorway": [
           "#636efa",
           "#EF553B",
           "#00cc96",
           "#ab63fa",
           "#FFA15A",
           "#19d3f3",
           "#FF6692",
           "#B6E880",
           "#FF97FF",
           "#FECB52"
          ],
          "font": {
           "color": "#2a3f5f"
          },
          "geo": {
           "bgcolor": "white",
           "lakecolor": "white",
           "landcolor": "white",
           "showlakes": true,
           "showland": true,
           "subunitcolor": "#C8D4E3"
          },
          "hoverlabel": {
           "align": "left"
          },
          "hovermode": "closest",
          "mapbox": {
           "style": "light"
          },
          "paper_bgcolor": "white",
          "plot_bgcolor": "white",
          "polar": {
           "angularaxis": {
            "gridcolor": "#EBF0F8",
            "linecolor": "#EBF0F8",
            "ticks": ""
           },
           "bgcolor": "white",
           "radialaxis": {
            "gridcolor": "#EBF0F8",
            "linecolor": "#EBF0F8",
            "ticks": ""
           }
          },
          "scene": {
           "xaxis": {
            "backgroundcolor": "white",
            "gridcolor": "#DFE8F3",
            "gridwidth": 2,
            "linecolor": "#EBF0F8",
            "showbackground": true,
            "ticks": "",
            "zerolinecolor": "#EBF0F8"
           },
           "yaxis": {
            "backgroundcolor": "white",
            "gridcolor": "#DFE8F3",
            "gridwidth": 2,
            "linecolor": "#EBF0F8",
            "showbackground": true,
            "ticks": "",
            "zerolinecolor": "#EBF0F8"
           },
           "zaxis": {
            "backgroundcolor": "white",
            "gridcolor": "#DFE8F3",
            "gridwidth": 2,
            "linecolor": "#EBF0F8",
            "showbackground": true,
            "ticks": "",
            "zerolinecolor": "#EBF0F8"
           }
          },
          "shapedefaults": {
           "line": {
            "color": "#2a3f5f"
           }
          },
          "ternary": {
           "aaxis": {
            "gridcolor": "#DFE8F3",
            "linecolor": "#A2B1C6",
            "ticks": ""
           },
           "baxis": {
            "gridcolor": "#DFE8F3",
            "linecolor": "#A2B1C6",
            "ticks": ""
           },
           "bgcolor": "white",
           "caxis": {
            "gridcolor": "#DFE8F3",
            "linecolor": "#A2B1C6",
            "ticks": ""
           }
          },
          "title": {
           "x": 0.05
          },
          "xaxis": {
           "automargin": true,
           "gridcolor": "#EBF0F8",
           "linecolor": "#EBF0F8",
           "ticks": "",
           "title": {
            "standoff": 15
           },
           "zerolinecolor": "#EBF0F8",
           "zerolinewidth": 2
          },
          "yaxis": {
           "automargin": true,
           "gridcolor": "#EBF0F8",
           "linecolor": "#EBF0F8",
           "ticks": "",
           "title": {
            "standoff": 15
           },
           "zerolinecolor": "#EBF0F8",
           "zerolinewidth": 2
          }
         }
        },
        "title": {
         "text": "ADMM perfomance comparison"
        },
        "xaxis": {
         "anchor": "y",
         "domain": [
          0,
          1
         ],
         "title": {
          "text": "sec_time"
         }
        },
        "yaxis": {
         "anchor": "x",
         "domain": [
          0,
          1
         ],
         "title": {
          "text": "distance"
         },
         "type": "log"
        }
       }
      },
      "text/html": [
       "<div>                            <div id=\"cff3b8d1-f719-4491-9739-386ae6e5db95\" class=\"plotly-graph-div\" style=\"height:525px; width:100%;\"></div>            <script type=\"text/javascript\">                require([\"plotly\"], function(Plotly) {                    window.PLOTLYENV=window.PLOTLYENV || {};                                    if (document.getElementById(\"cff3b8d1-f719-4491-9739-386ae6e5db95\")) {                    Plotly.newPlot(                        \"cff3b8d1-f719-4491-9739-386ae6e5db95\",                        [{\"hovertemplate\": \"method=sklearn<br>sec_time=%{marker.size}<br>distance=%{y}<br>str_tol=%{text}<extra></extra>\", \"legendgroup\": \"sklearn\", \"marker\": {\"color\": \"#636efa\", \"size\": [8.96, 25.51, 36.64, 44.69, 53.01, 50.46, 27.88, 16.31], \"sizemode\": \"area\", \"sizeref\": 0.132525, \"symbol\": \"circle\"}, \"mode\": \"markers+text\", \"name\": \"sklearn\", \"orientation\": \"v\", \"showlegend\": true, \"text\": [\"0.1\", \"0.01\", \"0.001\", \"1e-04\", \"1e-05\", \"1e-06\", \"1e-07\", \"1e-08\"], \"textposition\": \"top center\", \"type\": \"scatter\", \"x\": [8.96, 25.51, 36.64, 44.69, 53.01, 50.46, 27.88, 16.31], \"xaxis\": \"x\", \"y\": [0.0027120806785523094, 0.0003552766870775386, 0.00013555567963602786, 0.00012576143683398227, 0.00012537587650967354, 0.00012535274328625285, 0.00012544613933326994, 0.0001254462717687887], \"yaxis\": \"y\"}, {\"hovertemplate\": \"method=regain<br>sec_time=%{marker.size}<br>distance=%{y}<br>str_tol=%{text}<extra></extra>\", \"legendgroup\": \"regain\", \"marker\": {\"color\": \"#EF553B\", \"size\": [0.67, 0.96, 4.52, 8.51, 12.66, 17.34, 20.23, 24.52], \"sizemode\": \"area\", \"sizeref\": 0.132525, \"symbol\": \"circle\"}, \"mode\": \"markers+text\", \"name\": \"regain\", \"orientation\": \"v\", \"showlegend\": true, \"text\": [\"0.1\", \"0.01\", \"0.001\", \"1e-04\", \"1e-05\", \"1e-06\", \"1e-07\", \"1e-08\"], \"textposition\": \"top center\", \"type\": \"scatter\", \"x\": [0.67, 0.96, 4.52, 8.51, 12.66, 17.34, 20.23, 24.52], \"xaxis\": \"x\", \"y\": [0.7845322670802309, 0.6626845695736481, 0.0784276008197344, 0.007218277973182216, 0.0009954842375765383, 1.892332752558683e-05, 0.00011002884961545035, 0.00012400600871735251], \"yaxis\": \"y\"}, {\"hovertemplate\": \"method=admm<br>sec_time=%{marker.size}<br>distance=%{y}<br>str_tol=%{text}<extra></extra>\", \"legendgroup\": \"admm\", \"marker\": {\"color\": \"#00cc96\", \"size\": [0.48, 0.47, 0.45, 0.33, 0.92, 2.3, 4.15, 6.85], \"sizemode\": \"area\", \"sizeref\": 0.132525, \"symbol\": \"circle\"}, \"mode\": \"markers+text\", \"name\": \"admm\", \"orientation\": \"v\", \"showlegend\": true, \"text\": [\"0.1\", \"0.01\", \"0.001\", \"1e-04\", \"1e-05\", \"1e-06\", \"1e-07\", \"1e-08\"], \"textposition\": \"top center\", \"type\": \"scatter\", \"x\": [0.48, 0.47, 0.45, 0.33, 0.92, 2.3, 4.15, 6.85], \"xaxis\": \"x\", \"y\": [0.32901693654662434, 0.32901693654662434, 0.32901693654662434, 0.32901693654662434, 0.1596485098260404, 0.029772240288387344, 0.004377613844627511, 0.0006774937597474682], \"yaxis\": \"y\"}, {\"hovertemplate\": \"method=kkt_admm<br>sec_time=%{marker.size}<br>distance=%{y}<br>str_tol=%{text}<extra></extra>\", \"legendgroup\": \"kkt_admm\", \"marker\": {\"color\": \"#ab63fa\", \"size\": [1.45, 4.48, 9.14, 14.99, 28.95, 21.65, 29.13, 34.62], \"sizemode\": \"area\", \"sizeref\": 0.132525, \"symbol\": \"circle\"}, \"mode\": \"markers+text\", \"name\": \"kkt_admm\", \"orientation\": \"v\", \"showlegend\": true, \"text\": [\"0.1\", \"0.01\", \"0.001\", \"1e-04\", \"1e-05\", \"1e-06\", \"1e-07\", \"1e-08\"], \"textposition\": \"top center\", \"type\": \"scatter\", \"x\": [1.45, 4.48, 9.14, 14.99, 28.95, 21.65, 29.13, 34.62], \"xaxis\": \"x\", \"y\": [0.22235855094630483, 0.03870157769646381, 0.004377613844627511, 0.0007717318720372011, 0.0001983647873424435, 0.00013322951167576088, 0.0001261729464249634, 0.00012551416991886464], \"yaxis\": \"y\"}, {\"hovertemplate\": \"method=block_admm<br>sec_time=%{marker.size}<br>distance=%{y}<br>str_tol=%{text}<extra></extra>\", \"legendgroup\": \"block_admm\", \"marker\": {\"color\": \"#FFA15A\", \"size\": [0.43, 0.41, 0.4, 0.4, 0.74, 1.8, 3.39, 5.98], \"sizemode\": \"area\", \"sizeref\": 0.132525, \"symbol\": \"circle\"}, \"mode\": \"markers+text\", \"name\": \"block_admm\", \"orientation\": \"v\", \"showlegend\": true, \"text\": [\"0.1\", \"0.01\", \"0.001\", \"1e-04\", \"1e-05\", \"1e-06\", \"1e-07\", \"1e-08\"], \"textposition\": \"top center\", \"type\": \"scatter\", \"x\": [0.43, 0.41, 0.4, 0.4, 0.74, 1.8, 3.39, 5.98], \"xaxis\": \"x\", \"y\": [0.32901693654662434, 0.32901693654662434, 0.32901693654662434, 0.32901693654662434, 0.1596485098260404, 0.029772240288387344, 0.004377613844627511, 0.0006774937597474682], \"yaxis\": \"y\"}, {\"hovertemplate\": \"method=kkt_block_admm<br>sec_time=%{marker.size}<br>distance=%{y}<br>str_tol=%{text}<extra></extra>\", \"legendgroup\": \"kkt_block_admm\", \"marker\": {\"color\": \"#19d3f3\", \"size\": [1.58, 4.43, 9.01, 14.2, 21.77, 29.01, 39.71, 41.45], \"sizemode\": \"area\", \"sizeref\": 0.132525, \"symbol\": \"circle\"}, \"mode\": \"markers+text\", \"name\": \"kkt_block_admm\", \"orientation\": \"v\", \"showlegend\": true, \"text\": [\"0.1\", \"0.01\", \"0.001\", \"1e-04\", \"1e-05\", \"1e-06\", \"1e-07\", \"1e-08\"], \"textposition\": \"top center\", \"type\": \"scatter\", \"x\": [1.58, 4.43, 9.01, 14.2, 21.77, 29.01, 39.71, 41.45], \"xaxis\": \"x\", \"y\": [0.22235855094630483, 0.03870157769646381, 0.004377613844627511, 0.0007717318720372011, 0.0001983647873424435, 0.00013322951167576088, 0.0001261729464249634, 0.00012551416991886464], \"yaxis\": \"y\"}],                        {\"legend\": {\"itemsizing\": \"constant\", \"title\": {\"text\": \"method\"}, \"tracegroupgap\": 0}, \"template\": {\"data\": {\"bar\": [{\"error_x\": {\"color\": \"#2a3f5f\"}, \"error_y\": {\"color\": \"#2a3f5f\"}, \"marker\": {\"line\": {\"color\": \"white\", \"width\": 0.5}}, \"type\": \"bar\"}], \"barpolar\": [{\"marker\": {\"line\": {\"color\": \"white\", \"width\": 0.5}}, \"type\": \"barpolar\"}], \"carpet\": [{\"aaxis\": {\"endlinecolor\": \"#2a3f5f\", \"gridcolor\": \"#C8D4E3\", \"linecolor\": \"#C8D4E3\", \"minorgridcolor\": \"#C8D4E3\", \"startlinecolor\": \"#2a3f5f\"}, \"baxis\": {\"endlinecolor\": \"#2a3f5f\", \"gridcolor\": \"#C8D4E3\", \"linecolor\": \"#C8D4E3\", \"minorgridcolor\": \"#C8D4E3\", \"startlinecolor\": \"#2a3f5f\"}, \"type\": \"carpet\"}], \"choropleth\": [{\"colorbar\": {\"outlinewidth\": 0, \"ticks\": \"\"}, \"type\": \"choropleth\"}], \"contour\": [{\"colorbar\": {\"outlinewidth\": 0, \"ticks\": \"\"}, \"colorscale\": [[0.0, \"#0d0887\"], [0.1111111111111111, \"#46039f\"], [0.2222222222222222, \"#7201a8\"], [0.3333333333333333, \"#9c179e\"], [0.4444444444444444, \"#bd3786\"], [0.5555555555555556, \"#d8576b\"], [0.6666666666666666, \"#ed7953\"], [0.7777777777777778, \"#fb9f3a\"], [0.8888888888888888, \"#fdca26\"], [1.0, \"#f0f921\"]], \"type\": \"contour\"}], \"contourcarpet\": [{\"colorbar\": {\"outlinewidth\": 0, \"ticks\": \"\"}, \"type\": \"contourcarpet\"}], \"heatmap\": [{\"colorbar\": {\"outlinewidth\": 0, \"ticks\": \"\"}, \"colorscale\": [[0.0, \"#0d0887\"], [0.1111111111111111, \"#46039f\"], [0.2222222222222222, \"#7201a8\"], [0.3333333333333333, \"#9c179e\"], [0.4444444444444444, \"#bd3786\"], [0.5555555555555556, \"#d8576b\"], [0.6666666666666666, \"#ed7953\"], [0.7777777777777778, \"#fb9f3a\"], [0.8888888888888888, \"#fdca26\"], [1.0, \"#f0f921\"]], \"type\": \"heatmap\"}], \"heatmapgl\": [{\"colorbar\": {\"outlinewidth\": 0, \"ticks\": \"\"}, \"colorscale\": [[0.0, \"#0d0887\"], [0.1111111111111111, \"#46039f\"], [0.2222222222222222, \"#7201a8\"], [0.3333333333333333, \"#9c179e\"], [0.4444444444444444, \"#bd3786\"], [0.5555555555555556, \"#d8576b\"], [0.6666666666666666, \"#ed7953\"], [0.7777777777777778, \"#fb9f3a\"], [0.8888888888888888, \"#fdca26\"], [1.0, \"#f0f921\"]], \"type\": \"heatmapgl\"}], \"histogram\": [{\"marker\": {\"colorbar\": {\"outlinewidth\": 0, \"ticks\": \"\"}}, \"type\": \"histogram\"}], \"histogram2d\": [{\"colorbar\": {\"outlinewidth\": 0, \"ticks\": \"\"}, \"colorscale\": [[0.0, \"#0d0887\"], [0.1111111111111111, \"#46039f\"], [0.2222222222222222, \"#7201a8\"], [0.3333333333333333, \"#9c179e\"], [0.4444444444444444, \"#bd3786\"], [0.5555555555555556, \"#d8576b\"], [0.6666666666666666, \"#ed7953\"], [0.7777777777777778, \"#fb9f3a\"], [0.8888888888888888, \"#fdca26\"], [1.0, \"#f0f921\"]], \"type\": \"histogram2d\"}], \"histogram2dcontour\": [{\"colorbar\": {\"outlinewidth\": 0, \"ticks\": \"\"}, \"colorscale\": [[0.0, \"#0d0887\"], [0.1111111111111111, \"#46039f\"], [0.2222222222222222, \"#7201a8\"], [0.3333333333333333, \"#9c179e\"], [0.4444444444444444, \"#bd3786\"], [0.5555555555555556, \"#d8576b\"], [0.6666666666666666, \"#ed7953\"], [0.7777777777777778, \"#fb9f3a\"], [0.8888888888888888, \"#fdca26\"], [1.0, \"#f0f921\"]], \"type\": \"histogram2dcontour\"}], \"mesh3d\": [{\"colorbar\": {\"outlinewidth\": 0, \"ticks\": \"\"}, \"type\": \"mesh3d\"}], \"parcoords\": [{\"line\": {\"colorbar\": {\"outlinewidth\": 0, \"ticks\": \"\"}}, \"type\": \"parcoords\"}], \"pie\": [{\"automargin\": true, \"type\": \"pie\"}], \"scatter\": [{\"marker\": {\"colorbar\": {\"outlinewidth\": 0, \"ticks\": \"\"}}, \"type\": \"scatter\"}], \"scatter3d\": [{\"line\": {\"colorbar\": {\"outlinewidth\": 0, \"ticks\": \"\"}}, \"marker\": {\"colorbar\": {\"outlinewidth\": 0, \"ticks\": \"\"}}, \"type\": \"scatter3d\"}], \"scattercarpet\": [{\"marker\": {\"colorbar\": {\"outlinewidth\": 0, \"ticks\": \"\"}}, \"type\": \"scattercarpet\"}], \"scattergeo\": [{\"marker\": {\"colorbar\": {\"outlinewidth\": 0, \"ticks\": \"\"}}, \"type\": \"scattergeo\"}], \"scattergl\": [{\"marker\": {\"colorbar\": {\"outlinewidth\": 0, \"ticks\": \"\"}}, \"type\": \"scattergl\"}], \"scattermapbox\": [{\"marker\": {\"colorbar\": {\"outlinewidth\": 0, \"ticks\": \"\"}}, \"type\": \"scattermapbox\"}], \"scatterpolar\": [{\"marker\": {\"colorbar\": {\"outlinewidth\": 0, \"ticks\": \"\"}}, \"type\": \"scatterpolar\"}], \"scatterpolargl\": [{\"marker\": {\"colorbar\": {\"outlinewidth\": 0, \"ticks\": \"\"}}, \"type\": \"scatterpolargl\"}], \"scatterternary\": [{\"marker\": {\"colorbar\": {\"outlinewidth\": 0, \"ticks\": \"\"}}, \"type\": \"scatterternary\"}], \"surface\": [{\"colorbar\": {\"outlinewidth\": 0, \"ticks\": \"\"}, \"colorscale\": [[0.0, \"#0d0887\"], [0.1111111111111111, \"#46039f\"], [0.2222222222222222, \"#7201a8\"], [0.3333333333333333, \"#9c179e\"], [0.4444444444444444, \"#bd3786\"], [0.5555555555555556, \"#d8576b\"], [0.6666666666666666, \"#ed7953\"], [0.7777777777777778, \"#fb9f3a\"], [0.8888888888888888, \"#fdca26\"], [1.0, \"#f0f921\"]], \"type\": \"surface\"}], \"table\": [{\"cells\": {\"fill\": {\"color\": \"#EBF0F8\"}, \"line\": {\"color\": \"white\"}}, \"header\": {\"fill\": {\"color\": \"#C8D4E3\"}, \"line\": {\"color\": \"white\"}}, \"type\": \"table\"}]}, \"layout\": {\"annotationdefaults\": {\"arrowcolor\": \"#2a3f5f\", \"arrowhead\": 0, \"arrowwidth\": 1}, \"autotypenumbers\": \"strict\", \"coloraxis\": {\"colorbar\": {\"outlinewidth\": 0, \"ticks\": \"\"}}, \"colorscale\": {\"diverging\": [[0, \"#8e0152\"], [0.1, \"#c51b7d\"], [0.2, \"#de77ae\"], [0.3, \"#f1b6da\"], [0.4, \"#fde0ef\"], [0.5, \"#f7f7f7\"], [0.6, \"#e6f5d0\"], [0.7, \"#b8e186\"], [0.8, \"#7fbc41\"], [0.9, \"#4d9221\"], [1, \"#276419\"]], \"sequential\": [[0.0, \"#0d0887\"], [0.1111111111111111, \"#46039f\"], [0.2222222222222222, \"#7201a8\"], [0.3333333333333333, \"#9c179e\"], [0.4444444444444444, \"#bd3786\"], [0.5555555555555556, \"#d8576b\"], [0.6666666666666666, \"#ed7953\"], [0.7777777777777778, \"#fb9f3a\"], [0.8888888888888888, \"#fdca26\"], [1.0, \"#f0f921\"]], \"sequentialminus\": [[0.0, \"#0d0887\"], [0.1111111111111111, \"#46039f\"], [0.2222222222222222, \"#7201a8\"], [0.3333333333333333, \"#9c179e\"], [0.4444444444444444, \"#bd3786\"], [0.5555555555555556, \"#d8576b\"], [0.6666666666666666, \"#ed7953\"], [0.7777777777777778, \"#fb9f3a\"], [0.8888888888888888, \"#fdca26\"], [1.0, \"#f0f921\"]]}, \"colorway\": [\"#636efa\", \"#EF553B\", \"#00cc96\", \"#ab63fa\", \"#FFA15A\", \"#19d3f3\", \"#FF6692\", \"#B6E880\", \"#FF97FF\", \"#FECB52\"], \"font\": {\"color\": \"#2a3f5f\"}, \"geo\": {\"bgcolor\": \"white\", \"lakecolor\": \"white\", \"landcolor\": \"white\", \"showlakes\": true, \"showland\": true, \"subunitcolor\": \"#C8D4E3\"}, \"hoverlabel\": {\"align\": \"left\"}, \"hovermode\": \"closest\", \"mapbox\": {\"style\": \"light\"}, \"paper_bgcolor\": \"white\", \"plot_bgcolor\": \"white\", \"polar\": {\"angularaxis\": {\"gridcolor\": \"#EBF0F8\", \"linecolor\": \"#EBF0F8\", \"ticks\": \"\"}, \"bgcolor\": \"white\", \"radialaxis\": {\"gridcolor\": \"#EBF0F8\", \"linecolor\": \"#EBF0F8\", \"ticks\": \"\"}}, \"scene\": {\"xaxis\": {\"backgroundcolor\": \"white\", \"gridcolor\": \"#DFE8F3\", \"gridwidth\": 2, \"linecolor\": \"#EBF0F8\", \"showbackground\": true, \"ticks\": \"\", \"zerolinecolor\": \"#EBF0F8\"}, \"yaxis\": {\"backgroundcolor\": \"white\", \"gridcolor\": \"#DFE8F3\", \"gridwidth\": 2, \"linecolor\": \"#EBF0F8\", \"showbackground\": true, \"ticks\": \"\", \"zerolinecolor\": \"#EBF0F8\"}, \"zaxis\": {\"backgroundcolor\": \"white\", \"gridcolor\": \"#DFE8F3\", \"gridwidth\": 2, \"linecolor\": \"#EBF0F8\", \"showbackground\": true, \"ticks\": \"\", \"zerolinecolor\": \"#EBF0F8\"}}, \"shapedefaults\": {\"line\": {\"color\": \"#2a3f5f\"}}, \"ternary\": {\"aaxis\": {\"gridcolor\": \"#DFE8F3\", \"linecolor\": \"#A2B1C6\", \"ticks\": \"\"}, \"baxis\": {\"gridcolor\": \"#DFE8F3\", \"linecolor\": \"#A2B1C6\", \"ticks\": \"\"}, \"bgcolor\": \"white\", \"caxis\": {\"gridcolor\": \"#DFE8F3\", \"linecolor\": \"#A2B1C6\", \"ticks\": \"\"}}, \"title\": {\"x\": 0.05}, \"xaxis\": {\"automargin\": true, \"gridcolor\": \"#EBF0F8\", \"linecolor\": \"#EBF0F8\", \"ticks\": \"\", \"title\": {\"standoff\": 15}, \"zerolinecolor\": \"#EBF0F8\", \"zerolinewidth\": 2}, \"yaxis\": {\"automargin\": true, \"gridcolor\": \"#EBF0F8\", \"linecolor\": \"#EBF0F8\", \"ticks\": \"\", \"title\": {\"standoff\": 15}, \"zerolinecolor\": \"#EBF0F8\", \"zerolinewidth\": 2}}}, \"title\": {\"text\": \"ADMM perfomance comparison\"}, \"xaxis\": {\"anchor\": \"y\", \"domain\": [0.0, 1.0], \"title\": {\"text\": \"sec_time\"}}, \"yaxis\": {\"anchor\": \"x\", \"domain\": [0.0, 1.0], \"title\": {\"text\": \"distance\"}, \"type\": \"log\"}},                        {\"responsive\": true}                    ).then(function(){\n",
       "                            \n",
       "var gd = document.getElementById('cff3b8d1-f719-4491-9739-386ae6e5db95');\n",
       "var x = new MutationObserver(function (mutations, observer) {{\n",
       "        var display = window.getComputedStyle(gd).display;\n",
       "        if (!display || display === 'none') {{\n",
       "            console.log([gd, 'removed!']);\n",
       "            Plotly.purge(gd);\n",
       "            observer.disconnect();\n",
       "        }}\n",
       "}});\n",
       "\n",
       "// Listen for the removal of the full notebook cells\n",
       "var notebookContainer = gd.closest('#notebook-container');\n",
       "if (notebookContainer) {{\n",
       "    x.observe(notebookContainer, {childList: true});\n",
       "}}\n",
       "\n",
       "// Listen for the clearing of the current output cell\n",
       "var outputEl = gd.closest('.output');\n",
       "if (outputEl) {{\n",
       "    x.observe(outputEl, {childList: true});\n",
       "}}\n",
       "\n",
       "                        })                };                });            </script>        </div>"
      ]
     },
     "metadata": {},
     "output_type": "display_data"
    }
   ],
   "source": [
    "# fig_1 = px.scatter(x=a['time'], y=a['accuracy'], color= \"method\")\n",
    "# fig_1.show()\n",
    "\n",
    "fig_1 = px.scatter(df, x=\"sec_time\", \n",
    "                   y='distance', color=\"method\", \n",
    "#                    text = \"sec_time\", \n",
    "                   log_y = True, template = \"plotly_white\",\n",
    "                   text = \"str_tol\",\n",
    "                 size='sec_time',\n",
    "                  title='ADMM perfomance comparison')\n",
    "fig_1.update_traces(textposition='top center')\n",
    "fig_1.show()"
   ]
  },
  {
   "cell_type": "code",
   "execution_count": null,
   "id": "democratic-masters",
   "metadata": {},
   "outputs": [],
   "source": []
  }
 ],
 "metadata": {
  "kernelspec": {
   "display_name": "Python 3",
   "language": "python",
   "name": "python3"
  },
  "language_info": {
   "codemirror_mode": {
    "name": "ipython",
    "version": 3
   },
   "file_extension": ".py",
   "mimetype": "text/x-python",
   "name": "python",
   "nbconvert_exporter": "python",
   "pygments_lexer": "ipython3",
   "version": "3.8.0"
  }
 },
 "nbformat": 4,
 "nbformat_minor": 5
}
